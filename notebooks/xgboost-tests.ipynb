{
 "cells": [
  {
   "cell_type": "markdown",
   "metadata": {},
   "source": [
    "# Imports"
   ]
  },
  {
   "cell_type": "code",
   "execution_count": 4,
   "metadata": {
    "execution": {
     "iopub.execute_input": "2023-12-20T14:25:51.066612Z",
     "iopub.status.busy": "2023-12-20T14:25:51.065783Z",
     "iopub.status.idle": "2023-12-20T14:25:53.786813Z",
     "shell.execute_reply": "2023-12-20T14:25:53.785663Z",
     "shell.execute_reply.started": "2023-12-20T14:25:51.066580Z"
    }
   },
   "outputs": [],
   "source": [
    "!cp -r ../input/library/* /kaggle/working/"
   ]
  },
  {
   "cell_type": "code",
   "execution_count": 7,
   "metadata": {
    "execution": {
     "iopub.execute_input": "2023-12-20T14:26:36.737071Z",
     "iopub.status.busy": "2023-12-20T14:26:36.736680Z",
     "iopub.status.idle": "2023-12-20T14:27:07.706357Z",
     "shell.execute_reply": "2023-12-20T14:27:07.705279Z",
     "shell.execute_reply.started": "2023-12-20T14:26:36.737031Z"
    },
    "scrolled": true
   },
   "outputs": [
    {
     "name": "stdout",
     "output_type": "stream",
     "text": [
      "Requirement already satisfied: Cython in /opt/conda/lib/python3.10/site-packages (from -r requirements.txt (line 1)) (3.0.0)\n",
      "Requirement already satisfied: h5py in /opt/conda/lib/python3.10/site-packages (from -r requirements.txt (line 2)) (3.9.0)\n",
      "Requirement already satisfied: nltk in /opt/conda/lib/python3.10/site-packages (from -r requirements.txt (line 3)) (3.2.4)\n",
      "Requirement already satisfied: nose in /opt/conda/lib/python3.10/site-packages (from -r requirements.txt (line 4)) (1.3.7)\n",
      "Requirement already satisfied: numpy in /opt/conda/lib/python3.10/site-packages (from -r requirements.txt (line 5)) (1.24.3)\n",
      "Requirement already satisfied: scikit-learn in /opt/conda/lib/python3.10/site-packages (from -r requirements.txt (line 6)) (1.2.2)\n",
      "Requirement already satisfied: scikit-optimize in /opt/conda/lib/python3.10/site-packages (from -r requirements.txt (line 7)) (0.9.0)\n",
      "Requirement already satisfied: scipy in /opt/conda/lib/python3.10/site-packages (from -r requirements.txt (line 8)) (1.11.4)\n",
      "Requirement already satisfied: tqdm in /opt/conda/lib/python3.10/site-packages (from -r requirements.txt (line 9)) (4.66.1)\n",
      "Collecting lightfm (from -r requirements.txt (line 10))\n",
      "  Using cached lightfm-1.17.tar.gz (316 kB)\n",
      "  Preparing metadata (setup.py) ... \u001b[?25ldone\n",
      "\u001b[?25hCollecting RISE (from -r requirements.txt (line 11))\n",
      "  Downloading rise-5.7.1-py2.py3-none-any.whl (4.3 MB)\n",
      "\u001b[2K     \u001b[90m━━━━━━━━━━━━━━━━━━━━━━━━━━━━━━━━━━━━━━━━\u001b[0m \u001b[32m4.3/4.3 MB\u001b[0m \u001b[31m31.8 MB/s\u001b[0m eta \u001b[36m0:00:00\u001b[0m00:01\u001b[0m00:01\u001b[0m\n",
      "\u001b[?25hRequirement already satisfied: torch in /opt/conda/lib/python3.10/site-packages (from -r requirements.txt (line 12)) (2.0.0)\n",
      "Collecting jupyter-contrib-nbextensions (from -r requirements.txt (line 13))\n",
      "  Downloading jupyter_contrib_nbextensions-0.7.0.tar.gz (23.5 MB)\n",
      "\u001b[2K     \u001b[90m━━━━━━━━━━━━━━━━━━━━━━━━━━━━━━━━━━━━━━━━\u001b[0m \u001b[32m23.5/23.5 MB\u001b[0m \u001b[31m51.6 MB/s\u001b[0m eta \u001b[36m0:00:00\u001b[0m00:01\u001b[0m00:01\u001b[0m\n",
      "\u001b[?25h  Preparing metadata (setup.py) ... \u001b[?25ldone\n",
      "\u001b[?25hRequirement already satisfied: tensorflow in /opt/conda/lib/python3.10/site-packages (from -r requirements.txt (line 14)) (2.13.0)\n",
      "Requirement already satisfied: tables in /opt/conda/lib/python3.10/site-packages (from -r requirements.txt (line 15)) (3.9.2)\n",
      "Requirement already satisfied: six in /opt/conda/lib/python3.10/site-packages (from nltk->-r requirements.txt (line 3)) (1.16.0)\n",
      "Requirement already satisfied: joblib>=1.1.1 in /opt/conda/lib/python3.10/site-packages (from scikit-learn->-r requirements.txt (line 6)) (1.3.2)\n",
      "Requirement already satisfied: threadpoolctl>=2.0.0 in /opt/conda/lib/python3.10/site-packages (from scikit-learn->-r requirements.txt (line 6)) (3.2.0)\n",
      "Requirement already satisfied: pyaml>=16.9 in /opt/conda/lib/python3.10/site-packages (from scikit-optimize->-r requirements.txt (line 7)) (23.9.7)\n",
      "Requirement already satisfied: requests in /opt/conda/lib/python3.10/site-packages (from lightfm->-r requirements.txt (line 10)) (2.31.0)\n",
      "Requirement already satisfied: notebook>=6.0 in /opt/conda/lib/python3.10/site-packages (from RISE->-r requirements.txt (line 11)) (6.5.5)\n",
      "Requirement already satisfied: filelock in /opt/conda/lib/python3.10/site-packages (from torch->-r requirements.txt (line 12)) (3.12.2)\n",
      "Requirement already satisfied: typing-extensions in /opt/conda/lib/python3.10/site-packages (from torch->-r requirements.txt (line 12)) (4.5.0)\n",
      "Requirement already satisfied: sympy in /opt/conda/lib/python3.10/site-packages (from torch->-r requirements.txt (line 12)) (1.12)\n",
      "Requirement already satisfied: networkx in /opt/conda/lib/python3.10/site-packages (from torch->-r requirements.txt (line 12)) (3.1)\n",
      "Requirement already satisfied: jinja2 in /opt/conda/lib/python3.10/site-packages (from torch->-r requirements.txt (line 12)) (3.1.2)\n",
      "Requirement already satisfied: ipython_genutils in /opt/conda/lib/python3.10/site-packages (from jupyter-contrib-nbextensions->-r requirements.txt (line 13)) (0.2.0)\n",
      "Collecting jupyter_contrib_core>=0.3.3 (from jupyter-contrib-nbextensions->-r requirements.txt (line 13))\n",
      "  Downloading jupyter_contrib_core-0.4.2.tar.gz (17 kB)\n",
      "  Preparing metadata (setup.py) ... \u001b[?25ldone\n",
      "\u001b[?25hRequirement already satisfied: jupyter_core in /opt/conda/lib/python3.10/site-packages (from jupyter-contrib-nbextensions->-r requirements.txt (line 13)) (5.3.1)\n",
      "Collecting jupyter_highlight_selected_word>=0.1.1 (from jupyter-contrib-nbextensions->-r requirements.txt (line 13))\n",
      "  Downloading jupyter_highlight_selected_word-0.2.0-py2.py3-none-any.whl (11 kB)\n",
      "Collecting jupyter_nbextensions_configurator>=0.4.0 (from jupyter-contrib-nbextensions->-r requirements.txt (line 13))\n",
      "  Downloading jupyter_nbextensions_configurator-0.6.3-py2.py3-none-any.whl (466 kB)\n",
      "\u001b[2K     \u001b[90m━━━━━━━━━━━━━━━━━━━━━━━━━━━━━━━━━━━━━━\u001b[0m \u001b[32m466.9/466.9 kB\u001b[0m \u001b[31m37.2 MB/s\u001b[0m eta \u001b[36m0:00:00\u001b[0m\n",
      "\u001b[?25hRequirement already satisfied: nbconvert>=6.0 in /opt/conda/lib/python3.10/site-packages (from jupyter-contrib-nbextensions->-r requirements.txt (line 13)) (6.4.5)\n",
      "Requirement already satisfied: tornado in /opt/conda/lib/python3.10/site-packages (from jupyter-contrib-nbextensions->-r requirements.txt (line 13)) (6.3.3)\n",
      "Requirement already satisfied: traitlets>=4.1 in /opt/conda/lib/python3.10/site-packages (from jupyter-contrib-nbextensions->-r requirements.txt (line 13)) (5.9.0)\n",
      "Requirement already satisfied: lxml in /opt/conda/lib/python3.10/site-packages (from jupyter-contrib-nbextensions->-r requirements.txt (line 13)) (4.9.3)\n",
      "Requirement already satisfied: absl-py>=1.0.0 in /opt/conda/lib/python3.10/site-packages (from tensorflow->-r requirements.txt (line 14)) (1.4.0)\n",
      "Requirement already satisfied: astunparse>=1.6.0 in /opt/conda/lib/python3.10/site-packages (from tensorflow->-r requirements.txt (line 14)) (1.6.3)\n",
      "Requirement already satisfied: flatbuffers>=23.1.21 in /opt/conda/lib/python3.10/site-packages (from tensorflow->-r requirements.txt (line 14)) (23.5.26)\n",
      "Requirement already satisfied: gast<=0.4.0,>=0.2.1 in /opt/conda/lib/python3.10/site-packages (from tensorflow->-r requirements.txt (line 14)) (0.4.0)\n",
      "Requirement already satisfied: google-pasta>=0.1.1 in /opt/conda/lib/python3.10/site-packages (from tensorflow->-r requirements.txt (line 14)) (0.2.0)\n",
      "Requirement already satisfied: grpcio<2.0,>=1.24.3 in /opt/conda/lib/python3.10/site-packages (from tensorflow->-r requirements.txt (line 14)) (1.51.1)\n",
      "Requirement already satisfied: keras<2.14,>=2.13.1 in /opt/conda/lib/python3.10/site-packages (from tensorflow->-r requirements.txt (line 14)) (2.13.1)\n",
      "Requirement already satisfied: libclang>=13.0.0 in /opt/conda/lib/python3.10/site-packages (from tensorflow->-r requirements.txt (line 14)) (16.0.6)\n",
      "Requirement already satisfied: opt-einsum>=2.3.2 in /opt/conda/lib/python3.10/site-packages (from tensorflow->-r requirements.txt (line 14)) (3.3.0)\n",
      "Requirement already satisfied: packaging in /opt/conda/lib/python3.10/site-packages (from tensorflow->-r requirements.txt (line 14)) (21.3)\n",
      "Requirement already satisfied: protobuf!=4.21.0,!=4.21.1,!=4.21.2,!=4.21.3,!=4.21.4,!=4.21.5,<5.0.0dev,>=3.20.3 in /opt/conda/lib/python3.10/site-packages (from tensorflow->-r requirements.txt (line 14)) (3.20.3)\n",
      "Requirement already satisfied: setuptools in /opt/conda/lib/python3.10/site-packages (from tensorflow->-r requirements.txt (line 14)) (68.1.2)\n",
      "Requirement already satisfied: tensorboard<2.14,>=2.13 in /opt/conda/lib/python3.10/site-packages (from tensorflow->-r requirements.txt (line 14)) (2.13.0)\n",
      "Requirement already satisfied: tensorflow-estimator<2.14,>=2.13.0 in /opt/conda/lib/python3.10/site-packages (from tensorflow->-r requirements.txt (line 14)) (2.13.0)\n",
      "Requirement already satisfied: termcolor>=1.1.0 in /opt/conda/lib/python3.10/site-packages (from tensorflow->-r requirements.txt (line 14)) (2.3.0)\n",
      "Requirement already satisfied: wrapt>=1.11.0 in /opt/conda/lib/python3.10/site-packages (from tensorflow->-r requirements.txt (line 14)) (1.15.0)\n",
      "Requirement already satisfied: tensorflow-io-gcs-filesystem>=0.23.1 in /opt/conda/lib/python3.10/site-packages (from tensorflow->-r requirements.txt (line 14)) (0.34.0)\n",
      "Requirement already satisfied: numexpr>=2.6.2 in /opt/conda/lib/python3.10/site-packages (from tables->-r requirements.txt (line 15)) (2.8.8)\n",
      "Requirement already satisfied: py-cpuinfo in /opt/conda/lib/python3.10/site-packages (from tables->-r requirements.txt (line 15)) (9.0.0)\n",
      "Requirement already satisfied: blosc2>=2.3.0 in /opt/conda/lib/python3.10/site-packages (from tables->-r requirements.txt (line 15)) (2.3.2)\n",
      "Requirement already satisfied: wheel<1.0,>=0.23.0 in /opt/conda/lib/python3.10/site-packages (from astunparse>=1.6.0->tensorflow->-r requirements.txt (line 14)) (0.41.2)\n",
      "Requirement already satisfied: ndindex>=1.4 in /opt/conda/lib/python3.10/site-packages (from blosc2>=2.3.0->tables->-r requirements.txt (line 15)) (1.7)\n",
      "Requirement already satisfied: msgpack in /opt/conda/lib/python3.10/site-packages (from blosc2>=2.3.0->tables->-r requirements.txt (line 15)) (1.0.5)\n",
      "Requirement already satisfied: pyyaml in /opt/conda/lib/python3.10/site-packages (from jupyter_nbextensions_configurator>=0.4.0->jupyter-contrib-nbextensions->-r requirements.txt (line 13)) (6.0.1)\n",
      "Requirement already satisfied: mistune<2,>=0.8.1 in /opt/conda/lib/python3.10/site-packages (from nbconvert>=6.0->jupyter-contrib-nbextensions->-r requirements.txt (line 13)) (0.8.4)\n",
      "Requirement already satisfied: pygments>=2.4.1 in /opt/conda/lib/python3.10/site-packages (from nbconvert>=6.0->jupyter-contrib-nbextensions->-r requirements.txt (line 13)) (2.16.1)\n",
      "Requirement already satisfied: jupyterlab-pygments in /opt/conda/lib/python3.10/site-packages (from nbconvert>=6.0->jupyter-contrib-nbextensions->-r requirements.txt (line 13)) (0.2.2)\n",
      "Requirement already satisfied: nbformat>=4.4 in /opt/conda/lib/python3.10/site-packages (from nbconvert>=6.0->jupyter-contrib-nbextensions->-r requirements.txt (line 13)) (5.9.2)\n",
      "Requirement already satisfied: entrypoints>=0.2.2 in /opt/conda/lib/python3.10/site-packages (from nbconvert>=6.0->jupyter-contrib-nbextensions->-r requirements.txt (line 13)) (0.4)\n",
      "Requirement already satisfied: bleach in /opt/conda/lib/python3.10/site-packages (from nbconvert>=6.0->jupyter-contrib-nbextensions->-r requirements.txt (line 13)) (6.0.0)\n",
      "Requirement already satisfied: pandocfilters>=1.4.1 in /opt/conda/lib/python3.10/site-packages (from nbconvert>=6.0->jupyter-contrib-nbextensions->-r requirements.txt (line 13)) (1.5.0)\n",
      "Requirement already satisfied: testpath in /opt/conda/lib/python3.10/site-packages (from nbconvert>=6.0->jupyter-contrib-nbextensions->-r requirements.txt (line 13)) (0.6.0)\n",
      "Requirement already satisfied: defusedxml in /opt/conda/lib/python3.10/site-packages (from nbconvert>=6.0->jupyter-contrib-nbextensions->-r requirements.txt (line 13)) (0.7.1)\n",
      "Requirement already satisfied: beautifulsoup4 in /opt/conda/lib/python3.10/site-packages (from nbconvert>=6.0->jupyter-contrib-nbextensions->-r requirements.txt (line 13)) (4.12.2)\n",
      "Requirement already satisfied: nbclient<0.6.0,>=0.5.0 in /opt/conda/lib/python3.10/site-packages (from nbconvert>=6.0->jupyter-contrib-nbextensions->-r requirements.txt (line 13)) (0.5.13)\n",
      "Requirement already satisfied: MarkupSafe>=2.0 in /opt/conda/lib/python3.10/site-packages (from nbconvert>=6.0->jupyter-contrib-nbextensions->-r requirements.txt (line 13)) (2.1.3)\n",
      "Requirement already satisfied: pyzmq<25,>=17 in /opt/conda/lib/python3.10/site-packages (from notebook>=6.0->RISE->-r requirements.txt (line 11)) (24.0.1)\n",
      "Requirement already satisfied: argon2-cffi in /opt/conda/lib/python3.10/site-packages (from notebook>=6.0->RISE->-r requirements.txt (line 11)) (21.3.0)\n",
      "Requirement already satisfied: jupyter-client<8,>=5.3.4 in /opt/conda/lib/python3.10/site-packages (from notebook>=6.0->RISE->-r requirements.txt (line 11)) (7.4.9)\n",
      "Requirement already satisfied: nest-asyncio>=1.5 in /opt/conda/lib/python3.10/site-packages (from notebook>=6.0->RISE->-r requirements.txt (line 11)) (1.5.6)\n",
      "Requirement already satisfied: ipykernel in /opt/conda/lib/python3.10/site-packages (from notebook>=6.0->RISE->-r requirements.txt (line 11)) (6.25.1)\n",
      "Requirement already satisfied: Send2Trash>=1.8.0 in /opt/conda/lib/python3.10/site-packages (from notebook>=6.0->RISE->-r requirements.txt (line 11)) (1.8.2)\n",
      "Requirement already satisfied: terminado>=0.8.3 in /opt/conda/lib/python3.10/site-packages (from notebook>=6.0->RISE->-r requirements.txt (line 11)) (0.17.1)\n",
      "Requirement already satisfied: prometheus-client in /opt/conda/lib/python3.10/site-packages (from notebook>=6.0->RISE->-r requirements.txt (line 11)) (0.17.1)\n",
      "Requirement already satisfied: nbclassic>=0.4.7 in /opt/conda/lib/python3.10/site-packages (from notebook>=6.0->RISE->-r requirements.txt (line 11)) (1.0.0)\n",
      "Requirement already satisfied: platformdirs>=2.5 in /opt/conda/lib/python3.10/site-packages (from jupyter_core->jupyter-contrib-nbextensions->-r requirements.txt (line 13)) (4.1.0)\n",
      "Requirement already satisfied: google-auth<3,>=1.6.3 in /opt/conda/lib/python3.10/site-packages (from tensorboard<2.14,>=2.13->tensorflow->-r requirements.txt (line 14)) (2.22.0)\n",
      "Requirement already satisfied: google-auth-oauthlib<1.1,>=0.5 in /opt/conda/lib/python3.10/site-packages (from tensorboard<2.14,>=2.13->tensorflow->-r requirements.txt (line 14)) (1.0.0)\n",
      "Requirement already satisfied: markdown>=2.6.8 in /opt/conda/lib/python3.10/site-packages (from tensorboard<2.14,>=2.13->tensorflow->-r requirements.txt (line 14)) (3.4.4)\n",
      "Requirement already satisfied: tensorboard-data-server<0.8.0,>=0.7.0 in /opt/conda/lib/python3.10/site-packages (from tensorboard<2.14,>=2.13->tensorflow->-r requirements.txt (line 14)) (0.7.1)\n",
      "Requirement already satisfied: werkzeug>=1.0.1 in /opt/conda/lib/python3.10/site-packages (from tensorboard<2.14,>=2.13->tensorflow->-r requirements.txt (line 14)) (3.0.1)\n",
      "Requirement already satisfied: charset-normalizer<4,>=2 in /opt/conda/lib/python3.10/site-packages (from requests->lightfm->-r requirements.txt (line 10)) (3.2.0)\n",
      "Requirement already satisfied: idna<4,>=2.5 in /opt/conda/lib/python3.10/site-packages (from requests->lightfm->-r requirements.txt (line 10)) (3.4)\n",
      "Requirement already satisfied: urllib3<3,>=1.21.1 in /opt/conda/lib/python3.10/site-packages (from requests->lightfm->-r requirements.txt (line 10)) (1.26.15)\n",
      "Requirement already satisfied: certifi>=2017.4.17 in /opt/conda/lib/python3.10/site-packages (from requests->lightfm->-r requirements.txt (line 10)) (2023.11.17)\n",
      "Requirement already satisfied: pyparsing!=3.0.5,>=2.0.2 in /opt/conda/lib/python3.10/site-packages (from packaging->tensorflow->-r requirements.txt (line 14)) (3.0.9)\n",
      "Requirement already satisfied: mpmath>=0.19 in /opt/conda/lib/python3.10/site-packages (from sympy->torch->-r requirements.txt (line 12)) (1.3.0)\n",
      "Requirement already satisfied: cachetools<6.0,>=2.0.0 in /opt/conda/lib/python3.10/site-packages (from google-auth<3,>=1.6.3->tensorboard<2.14,>=2.13->tensorflow->-r requirements.txt (line 14)) (4.2.4)\n",
      "Requirement already satisfied: pyasn1-modules>=0.2.1 in /opt/conda/lib/python3.10/site-packages (from google-auth<3,>=1.6.3->tensorboard<2.14,>=2.13->tensorflow->-r requirements.txt (line 14)) (0.2.7)\n",
      "Requirement already satisfied: rsa<5,>=3.1.4 in /opt/conda/lib/python3.10/site-packages (from google-auth<3,>=1.6.3->tensorboard<2.14,>=2.13->tensorflow->-r requirements.txt (line 14)) (4.9)\n",
      "Requirement already satisfied: requests-oauthlib>=0.7.0 in /opt/conda/lib/python3.10/site-packages (from google-auth-oauthlib<1.1,>=0.5->tensorboard<2.14,>=2.13->tensorflow->-r requirements.txt (line 14)) (1.3.1)\n",
      "Requirement already satisfied: python-dateutil>=2.8.2 in /opt/conda/lib/python3.10/site-packages (from jupyter-client<8,>=5.3.4->notebook>=6.0->RISE->-r requirements.txt (line 11)) (2.8.2)\n",
      "Requirement already satisfied: jupyter-server>=1.8 in /opt/conda/lib/python3.10/site-packages (from nbclassic>=0.4.7->notebook>=6.0->RISE->-r requirements.txt (line 11)) (2.12.1)\n",
      "Requirement already satisfied: notebook-shim>=0.2.3 in /opt/conda/lib/python3.10/site-packages (from nbclassic>=0.4.7->notebook>=6.0->RISE->-r requirements.txt (line 11)) (0.2.3)\n",
      "Requirement already satisfied: fastjsonschema in /opt/conda/lib/python3.10/site-packages (from nbformat>=4.4->nbconvert>=6.0->jupyter-contrib-nbextensions->-r requirements.txt (line 13)) (2.18.0)\n",
      "Requirement already satisfied: jsonschema>=2.6 in /opt/conda/lib/python3.10/site-packages (from nbformat>=4.4->nbconvert>=6.0->jupyter-contrib-nbextensions->-r requirements.txt (line 13)) (4.19.0)\n",
      "Requirement already satisfied: ptyprocess in /opt/conda/lib/python3.10/site-packages (from terminado>=0.8.3->notebook>=6.0->RISE->-r requirements.txt (line 11)) (0.7.0)\n",
      "Requirement already satisfied: argon2-cffi-bindings in /opt/conda/lib/python3.10/site-packages (from argon2-cffi->notebook>=6.0->RISE->-r requirements.txt (line 11)) (21.2.0)\n",
      "Requirement already satisfied: soupsieve>1.2 in /opt/conda/lib/python3.10/site-packages (from beautifulsoup4->nbconvert>=6.0->jupyter-contrib-nbextensions->-r requirements.txt (line 13)) (2.3.2.post1)\n",
      "Requirement already satisfied: webencodings in /opt/conda/lib/python3.10/site-packages (from bleach->nbconvert>=6.0->jupyter-contrib-nbextensions->-r requirements.txt (line 13)) (0.5.1)\n",
      "Requirement already satisfied: comm>=0.1.1 in /opt/conda/lib/python3.10/site-packages (from ipykernel->notebook>=6.0->RISE->-r requirements.txt (line 11)) (0.1.4)\n",
      "Requirement already satisfied: debugpy>=1.6.5 in /opt/conda/lib/python3.10/site-packages (from ipykernel->notebook>=6.0->RISE->-r requirements.txt (line 11)) (1.6.7.post1)\n",
      "Requirement already satisfied: ipython>=7.23.1 in /opt/conda/lib/python3.10/site-packages (from ipykernel->notebook>=6.0->RISE->-r requirements.txt (line 11)) (8.14.0)\n",
      "Requirement already satisfied: matplotlib-inline>=0.1 in /opt/conda/lib/python3.10/site-packages (from ipykernel->notebook>=6.0->RISE->-r requirements.txt (line 11)) (0.1.6)\n",
      "Requirement already satisfied: psutil in /opt/conda/lib/python3.10/site-packages (from ipykernel->notebook>=6.0->RISE->-r requirements.txt (line 11)) (5.9.3)\n",
      "Requirement already satisfied: backcall in /opt/conda/lib/python3.10/site-packages (from ipython>=7.23.1->ipykernel->notebook>=6.0->RISE->-r requirements.txt (line 11)) (0.2.0)\n",
      "Requirement already satisfied: decorator in /opt/conda/lib/python3.10/site-packages (from ipython>=7.23.1->ipykernel->notebook>=6.0->RISE->-r requirements.txt (line 11)) (5.1.1)\n",
      "Requirement already satisfied: jedi>=0.16 in /opt/conda/lib/python3.10/site-packages (from ipython>=7.23.1->ipykernel->notebook>=6.0->RISE->-r requirements.txt (line 11)) (0.19.0)\n",
      "Requirement already satisfied: pickleshare in /opt/conda/lib/python3.10/site-packages (from ipython>=7.23.1->ipykernel->notebook>=6.0->RISE->-r requirements.txt (line 11)) (0.7.5)\n",
      "Requirement already satisfied: prompt-toolkit!=3.0.37,<3.1.0,>=3.0.30 in /opt/conda/lib/python3.10/site-packages (from ipython>=7.23.1->ipykernel->notebook>=6.0->RISE->-r requirements.txt (line 11)) (3.0.39)\n",
      "Requirement already satisfied: stack-data in /opt/conda/lib/python3.10/site-packages (from ipython>=7.23.1->ipykernel->notebook>=6.0->RISE->-r requirements.txt (line 11)) (0.6.2)\n",
      "Requirement already satisfied: pexpect>4.3 in /opt/conda/lib/python3.10/site-packages (from ipython>=7.23.1->ipykernel->notebook>=6.0->RISE->-r requirements.txt (line 11)) (4.8.0)\n",
      "Requirement already satisfied: attrs>=22.2.0 in /opt/conda/lib/python3.10/site-packages (from jsonschema>=2.6->nbformat>=4.4->nbconvert>=6.0->jupyter-contrib-nbextensions->-r requirements.txt (line 13)) (23.1.0)\n",
      "Requirement already satisfied: jsonschema-specifications>=2023.03.6 in /opt/conda/lib/python3.10/site-packages (from jsonschema>=2.6->nbformat>=4.4->nbconvert>=6.0->jupyter-contrib-nbextensions->-r requirements.txt (line 13)) (2023.7.1)\n",
      "Requirement already satisfied: referencing>=0.28.4 in /opt/conda/lib/python3.10/site-packages (from jsonschema>=2.6->nbformat>=4.4->nbconvert>=6.0->jupyter-contrib-nbextensions->-r requirements.txt (line 13)) (0.30.2)\n",
      "Requirement already satisfied: rpds-py>=0.7.1 in /opt/conda/lib/python3.10/site-packages (from jsonschema>=2.6->nbformat>=4.4->nbconvert>=6.0->jupyter-contrib-nbextensions->-r requirements.txt (line 13)) (0.9.2)\n",
      "Requirement already satisfied: anyio>=3.1.0 in /opt/conda/lib/python3.10/site-packages (from jupyter-server>=1.8->nbclassic>=0.4.7->notebook>=6.0->RISE->-r requirements.txt (line 11)) (3.7.1)\n",
      "Requirement already satisfied: jupyter-events>=0.9.0 in /opt/conda/lib/python3.10/site-packages (from jupyter-server>=1.8->nbclassic>=0.4.7->notebook>=6.0->RISE->-r requirements.txt (line 11)) (0.9.0)\n",
      "Requirement already satisfied: jupyter-server-terminals in /opt/conda/lib/python3.10/site-packages (from jupyter-server>=1.8->nbclassic>=0.4.7->notebook>=6.0->RISE->-r requirements.txt (line 11)) (0.4.4)\n",
      "Requirement already satisfied: overrides in /opt/conda/lib/python3.10/site-packages (from jupyter-server>=1.8->nbclassic>=0.4.7->notebook>=6.0->RISE->-r requirements.txt (line 11)) (6.5.0)\n",
      "Requirement already satisfied: websocket-client in /opt/conda/lib/python3.10/site-packages (from jupyter-server>=1.8->nbclassic>=0.4.7->notebook>=6.0->RISE->-r requirements.txt (line 11)) (1.6.2)\n",
      "Requirement already satisfied: pyasn1<0.5.0,>=0.4.6 in /opt/conda/lib/python3.10/site-packages (from pyasn1-modules>=0.2.1->google-auth<3,>=1.6.3->tensorboard<2.14,>=2.13->tensorflow->-r requirements.txt (line 14)) (0.4.8)\n",
      "Requirement already satisfied: oauthlib>=3.0.0 in /opt/conda/lib/python3.10/site-packages (from requests-oauthlib>=0.7.0->google-auth-oauthlib<1.1,>=0.5->tensorboard<2.14,>=2.13->tensorflow->-r requirements.txt (line 14)) (3.2.2)\n",
      "Requirement already satisfied: cffi>=1.0.1 in /opt/conda/lib/python3.10/site-packages (from argon2-cffi-bindings->argon2-cffi->notebook>=6.0->RISE->-r requirements.txt (line 11)) (1.15.1)\n",
      "Requirement already satisfied: sniffio>=1.1 in /opt/conda/lib/python3.10/site-packages (from anyio>=3.1.0->jupyter-server>=1.8->nbclassic>=0.4.7->notebook>=6.0->RISE->-r requirements.txt (line 11)) (1.3.0)\n",
      "Requirement already satisfied: exceptiongroup in /opt/conda/lib/python3.10/site-packages (from anyio>=3.1.0->jupyter-server>=1.8->nbclassic>=0.4.7->notebook>=6.0->RISE->-r requirements.txt (line 11)) (1.1.3)\n",
      "Requirement already satisfied: pycparser in /opt/conda/lib/python3.10/site-packages (from cffi>=1.0.1->argon2-cffi-bindings->argon2-cffi->notebook>=6.0->RISE->-r requirements.txt (line 11)) (2.21)\n",
      "Requirement already satisfied: parso<0.9.0,>=0.8.3 in /opt/conda/lib/python3.10/site-packages (from jedi>=0.16->ipython>=7.23.1->ipykernel->notebook>=6.0->RISE->-r requirements.txt (line 11)) (0.8.3)\n",
      "Requirement already satisfied: python-json-logger>=2.0.4 in /opt/conda/lib/python3.10/site-packages (from jupyter-events>=0.9.0->jupyter-server>=1.8->nbclassic>=0.4.7->notebook>=6.0->RISE->-r requirements.txt (line 11)) (2.0.7)\n",
      "Requirement already satisfied: rfc3339-validator in /opt/conda/lib/python3.10/site-packages (from jupyter-events>=0.9.0->jupyter-server>=1.8->nbclassic>=0.4.7->notebook>=6.0->RISE->-r requirements.txt (line 11)) (0.1.4)\n",
      "Requirement already satisfied: rfc3986-validator>=0.1.1 in /opt/conda/lib/python3.10/site-packages (from jupyter-events>=0.9.0->jupyter-server>=1.8->nbclassic>=0.4.7->notebook>=6.0->RISE->-r requirements.txt (line 11)) (0.1.1)\n",
      "Requirement already satisfied: wcwidth in /opt/conda/lib/python3.10/site-packages (from prompt-toolkit!=3.0.37,<3.1.0,>=3.0.30->ipython>=7.23.1->ipykernel->notebook>=6.0->RISE->-r requirements.txt (line 11)) (0.2.6)\n",
      "Requirement already satisfied: executing>=1.2.0 in /opt/conda/lib/python3.10/site-packages (from stack-data->ipython>=7.23.1->ipykernel->notebook>=6.0->RISE->-r requirements.txt (line 11)) (1.2.0)\n",
      "Requirement already satisfied: asttokens>=2.1.0 in /opt/conda/lib/python3.10/site-packages (from stack-data->ipython>=7.23.1->ipykernel->notebook>=6.0->RISE->-r requirements.txt (line 11)) (2.2.1)\n",
      "Requirement already satisfied: pure-eval in /opt/conda/lib/python3.10/site-packages (from stack-data->ipython>=7.23.1->ipykernel->notebook>=6.0->RISE->-r requirements.txt (line 11)) (0.2.2)\n",
      "Requirement already satisfied: fqdn in /opt/conda/lib/python3.10/site-packages (from jsonschema>=2.6->nbformat>=4.4->nbconvert>=6.0->jupyter-contrib-nbextensions->-r requirements.txt (line 13)) (1.5.1)\n",
      "Requirement already satisfied: isoduration in /opt/conda/lib/python3.10/site-packages (from jsonschema>=2.6->nbformat>=4.4->nbconvert>=6.0->jupyter-contrib-nbextensions->-r requirements.txt (line 13)) (20.11.0)\n",
      "Requirement already satisfied: jsonpointer>1.13 in /opt/conda/lib/python3.10/site-packages (from jsonschema>=2.6->nbformat>=4.4->nbconvert>=6.0->jupyter-contrib-nbextensions->-r requirements.txt (line 13)) (2.0)\n",
      "Requirement already satisfied: uri-template in /opt/conda/lib/python3.10/site-packages (from jsonschema>=2.6->nbformat>=4.4->nbconvert>=6.0->jupyter-contrib-nbextensions->-r requirements.txt (line 13)) (1.3.0)\n",
      "Requirement already satisfied: webcolors>=1.11 in /opt/conda/lib/python3.10/site-packages (from jsonschema>=2.6->nbformat>=4.4->nbconvert>=6.0->jupyter-contrib-nbextensions->-r requirements.txt (line 13)) (1.13)\n",
      "Requirement already satisfied: arrow>=0.15.0 in /opt/conda/lib/python3.10/site-packages (from isoduration->jsonschema>=2.6->nbformat>=4.4->nbconvert>=6.0->jupyter-contrib-nbextensions->-r requirements.txt (line 13)) (1.2.3)\n",
      "Building wheels for collected packages: lightfm, jupyter-contrib-nbextensions, jupyter_contrib_core\n",
      "  Building wheel for lightfm (setup.py) ... \u001b[?25ldone\n",
      "\u001b[?25h  Created wheel for lightfm: filename=lightfm-1.17-cp310-cp310-linux_x86_64.whl size=447716 sha256=62693796082e22e62ef3746f4cec03430f31ff2d4cff8b4cea1317dac381effb\n",
      "  Stored in directory: /root/.cache/pip/wheels/4f/9b/7e/0b256f2168511d8fa4dae4fae0200fdbd729eb424a912ad636\n",
      "  Building wheel for jupyter-contrib-nbextensions (setup.py) ... \u001b[?25ldone\n",
      "\u001b[?25h  Created wheel for jupyter-contrib-nbextensions: filename=jupyter_contrib_nbextensions-0.7.0-py2.py3-none-any.whl size=23428781 sha256=0e12b707fc8519ef6ac37bd6946f5877f3fd1840a63a88f7cc37ab60ce217f42\n",
      "  Stored in directory: /root/.cache/pip/wheels/ea/cc/7d/99ef154f984726b1201c0f72cfe9c9d7c5132c1a2ae4d8677f\n",
      "  Building wheel for jupyter_contrib_core (setup.py) ... \u001b[?25ldone\n",
      "\u001b[?25h  Created wheel for jupyter_contrib_core: filename=jupyter_contrib_core-0.4.2-py2.py3-none-any.whl size=17484 sha256=910444ee18e47e6dfa39acdc5ab1fc1650905940545977d2fc61c79ad01329b6\n",
      "  Stored in directory: /root/.cache/pip/wheels/a9/52/88/e0643cdfd68f0562087918c37dd583378648dbc3df68b907f7\n",
      "Successfully built lightfm jupyter-contrib-nbextensions jupyter_contrib_core\n",
      "Installing collected packages: jupyter_highlight_selected_word, lightfm, RISE, jupyter_contrib_core, jupyter_nbextensions_configurator, jupyter-contrib-nbextensions\n",
      "Successfully installed RISE-5.7.1 jupyter-contrib-nbextensions-0.7.0 jupyter_contrib_core-0.4.2 jupyter_highlight_selected_word-0.2.0 jupyter_nbextensions_configurator-0.6.3 lightfm-1.17\n"
     ]
    }
   ],
   "source": [
    "!pip install -r requirements.txt"
   ]
  },
  {
   "cell_type": "code",
   "execution_count": 8,
   "metadata": {
    "execution": {
     "iopub.execute_input": "2023-12-20T14:27:34.353404Z",
     "iopub.status.busy": "2023-12-20T14:27:34.352578Z",
     "iopub.status.idle": "2023-12-20T14:27:47.100828Z",
     "shell.execute_reply": "2023-12-20T14:27:47.099695Z",
     "shell.execute_reply.started": "2023-12-20T14:27:34.353367Z"
    },
    "scrolled": true
   },
   "outputs": [
    {
     "name": "stdout",
     "output_type": "stream",
     "text": [
      "Requirement already satisfied: lightfm in /opt/conda/lib/python3.10/site-packages (1.17)\n",
      "Requirement already satisfied: tqdm in /opt/conda/lib/python3.10/site-packages (4.66.1)\n",
      "Requirement already satisfied: optuna in /opt/conda/lib/python3.10/site-packages (3.5.0)\n",
      "Requirement already satisfied: ipykernel in /opt/conda/lib/python3.10/site-packages (6.25.1)\n",
      "Requirement already satisfied: matplotlib in /opt/conda/lib/python3.10/site-packages (3.7.4)\n",
      "Collecting implicit\n",
      "  Obtaining dependency information for implicit from https://files.pythonhosted.org/packages/cd/cc/deac70cae8cc32c9885d0cd73bc66e1b3cbea36ae7080b8c83995eaf5322/implicit-0.7.2-cp310-cp310-manylinux2014_x86_64.whl.metadata\n",
      "  Downloading implicit-0.7.2-cp310-cp310-manylinux2014_x86_64.whl.metadata (6.1 kB)\n",
      "Requirement already satisfied: numpy in /opt/conda/lib/python3.10/site-packages (from lightfm) (1.24.3)\n",
      "Requirement already satisfied: scipy>=0.17.0 in /opt/conda/lib/python3.10/site-packages (from lightfm) (1.11.4)\n",
      "Requirement already satisfied: requests in /opt/conda/lib/python3.10/site-packages (from lightfm) (2.31.0)\n",
      "Requirement already satisfied: scikit-learn in /opt/conda/lib/python3.10/site-packages (from lightfm) (1.2.2)\n",
      "Requirement already satisfied: alembic>=1.5.0 in /opt/conda/lib/python3.10/site-packages (from optuna) (1.13.0)\n",
      "Requirement already satisfied: colorlog in /opt/conda/lib/python3.10/site-packages (from optuna) (6.8.0)\n",
      "Requirement already satisfied: packaging>=20.0 in /opt/conda/lib/python3.10/site-packages (from optuna) (21.3)\n",
      "Requirement already satisfied: sqlalchemy>=1.3.0 in /opt/conda/lib/python3.10/site-packages (from optuna) (2.0.20)\n",
      "Requirement already satisfied: PyYAML in /opt/conda/lib/python3.10/site-packages (from optuna) (6.0.1)\n",
      "Requirement already satisfied: comm>=0.1.1 in /opt/conda/lib/python3.10/site-packages (from ipykernel) (0.1.4)\n",
      "Requirement already satisfied: debugpy>=1.6.5 in /opt/conda/lib/python3.10/site-packages (from ipykernel) (1.6.7.post1)\n",
      "Requirement already satisfied: ipython>=7.23.1 in /opt/conda/lib/python3.10/site-packages (from ipykernel) (8.14.0)\n",
      "Requirement already satisfied: jupyter-client>=6.1.12 in /opt/conda/lib/python3.10/site-packages (from ipykernel) (7.4.9)\n",
      "Requirement already satisfied: jupyter-core!=5.0.*,>=4.12 in /opt/conda/lib/python3.10/site-packages (from ipykernel) (5.3.1)\n",
      "Requirement already satisfied: matplotlib-inline>=0.1 in /opt/conda/lib/python3.10/site-packages (from ipykernel) (0.1.6)\n",
      "Requirement already satisfied: nest-asyncio in /opt/conda/lib/python3.10/site-packages (from ipykernel) (1.5.6)\n",
      "Requirement already satisfied: psutil in /opt/conda/lib/python3.10/site-packages (from ipykernel) (5.9.3)\n",
      "Requirement already satisfied: pyzmq>=20 in /opt/conda/lib/python3.10/site-packages (from ipykernel) (24.0.1)\n",
      "Requirement already satisfied: tornado>=6.1 in /opt/conda/lib/python3.10/site-packages (from ipykernel) (6.3.3)\n",
      "Requirement already satisfied: traitlets>=5.4.0 in /opt/conda/lib/python3.10/site-packages (from ipykernel) (5.9.0)\n",
      "Requirement already satisfied: contourpy>=1.0.1 in /opt/conda/lib/python3.10/site-packages (from matplotlib) (1.1.0)\n",
      "Requirement already satisfied: cycler>=0.10 in /opt/conda/lib/python3.10/site-packages (from matplotlib) (0.11.0)\n",
      "Requirement already satisfied: fonttools>=4.22.0 in /opt/conda/lib/python3.10/site-packages (from matplotlib) (4.42.1)\n",
      "Requirement already satisfied: kiwisolver>=1.0.1 in /opt/conda/lib/python3.10/site-packages (from matplotlib) (1.4.4)\n",
      "Requirement already satisfied: pillow>=6.2.0 in /opt/conda/lib/python3.10/site-packages (from matplotlib) (10.1.0)\n",
      "Requirement already satisfied: pyparsing>=2.3.1 in /opt/conda/lib/python3.10/site-packages (from matplotlib) (3.0.9)\n",
      "Requirement already satisfied: python-dateutil>=2.7 in /opt/conda/lib/python3.10/site-packages (from matplotlib) (2.8.2)\n",
      "Requirement already satisfied: threadpoolctl in /opt/conda/lib/python3.10/site-packages (from implicit) (3.2.0)\n",
      "Requirement already satisfied: Mako in /opt/conda/lib/python3.10/site-packages (from alembic>=1.5.0->optuna) (1.3.0)\n",
      "Requirement already satisfied: typing-extensions>=4 in /opt/conda/lib/python3.10/site-packages (from alembic>=1.5.0->optuna) (4.5.0)\n",
      "Requirement already satisfied: backcall in /opt/conda/lib/python3.10/site-packages (from ipython>=7.23.1->ipykernel) (0.2.0)\n",
      "Requirement already satisfied: decorator in /opt/conda/lib/python3.10/site-packages (from ipython>=7.23.1->ipykernel) (5.1.1)\n",
      "Requirement already satisfied: jedi>=0.16 in /opt/conda/lib/python3.10/site-packages (from ipython>=7.23.1->ipykernel) (0.19.0)\n",
      "Requirement already satisfied: pickleshare in /opt/conda/lib/python3.10/site-packages (from ipython>=7.23.1->ipykernel) (0.7.5)\n",
      "Requirement already satisfied: prompt-toolkit!=3.0.37,<3.1.0,>=3.0.30 in /opt/conda/lib/python3.10/site-packages (from ipython>=7.23.1->ipykernel) (3.0.39)\n",
      "Requirement already satisfied: pygments>=2.4.0 in /opt/conda/lib/python3.10/site-packages (from ipython>=7.23.1->ipykernel) (2.16.1)\n",
      "Requirement already satisfied: stack-data in /opt/conda/lib/python3.10/site-packages (from ipython>=7.23.1->ipykernel) (0.6.2)\n",
      "Requirement already satisfied: pexpect>4.3 in /opt/conda/lib/python3.10/site-packages (from ipython>=7.23.1->ipykernel) (4.8.0)\n",
      "Requirement already satisfied: entrypoints in /opt/conda/lib/python3.10/site-packages (from jupyter-client>=6.1.12->ipykernel) (0.4)\n",
      "Requirement already satisfied: platformdirs>=2.5 in /opt/conda/lib/python3.10/site-packages (from jupyter-core!=5.0.*,>=4.12->ipykernel) (4.1.0)\n",
      "Requirement already satisfied: six>=1.5 in /opt/conda/lib/python3.10/site-packages (from python-dateutil>=2.7->matplotlib) (1.16.0)\n",
      "Requirement already satisfied: greenlet!=0.4.17 in /opt/conda/lib/python3.10/site-packages (from sqlalchemy>=1.3.0->optuna) (2.0.2)\n",
      "Requirement already satisfied: charset-normalizer<4,>=2 in /opt/conda/lib/python3.10/site-packages (from requests->lightfm) (3.2.0)\n",
      "Requirement already satisfied: idna<4,>=2.5 in /opt/conda/lib/python3.10/site-packages (from requests->lightfm) (3.4)\n",
      "Requirement already satisfied: urllib3<3,>=1.21.1 in /opt/conda/lib/python3.10/site-packages (from requests->lightfm) (1.26.15)\n",
      "Requirement already satisfied: certifi>=2017.4.17 in /opt/conda/lib/python3.10/site-packages (from requests->lightfm) (2023.11.17)\n",
      "Requirement already satisfied: joblib>=1.1.1 in /opt/conda/lib/python3.10/site-packages (from scikit-learn->lightfm) (1.3.2)\n",
      "Requirement already satisfied: parso<0.9.0,>=0.8.3 in /opt/conda/lib/python3.10/site-packages (from jedi>=0.16->ipython>=7.23.1->ipykernel) (0.8.3)\n",
      "Requirement already satisfied: ptyprocess>=0.5 in /opt/conda/lib/python3.10/site-packages (from pexpect>4.3->ipython>=7.23.1->ipykernel) (0.7.0)\n",
      "Requirement already satisfied: wcwidth in /opt/conda/lib/python3.10/site-packages (from prompt-toolkit!=3.0.37,<3.1.0,>=3.0.30->ipython>=7.23.1->ipykernel) (0.2.6)\n",
      "Requirement already satisfied: MarkupSafe>=0.9.2 in /opt/conda/lib/python3.10/site-packages (from Mako->alembic>=1.5.0->optuna) (2.1.3)\n",
      "Requirement already satisfied: executing>=1.2.0 in /opt/conda/lib/python3.10/site-packages (from stack-data->ipython>=7.23.1->ipykernel) (1.2.0)\n",
      "Requirement already satisfied: asttokens>=2.1.0 in /opt/conda/lib/python3.10/site-packages (from stack-data->ipython>=7.23.1->ipykernel) (2.2.1)\n",
      "Requirement already satisfied: pure-eval in /opt/conda/lib/python3.10/site-packages (from stack-data->ipython>=7.23.1->ipykernel) (0.2.2)\n",
      "Downloading implicit-0.7.2-cp310-cp310-manylinux2014_x86_64.whl (8.9 MB)\n",
      "\u001b[2K   \u001b[90m━━━━━━━━━━━━━━━━━━━━━━━━━━━━━━━━━━━━━━━━\u001b[0m \u001b[32m8.9/8.9 MB\u001b[0m \u001b[31m47.5 MB/s\u001b[0m eta \u001b[36m0:00:00\u001b[0m00:01\u001b[0m00:01\u001b[0m\n",
      "\u001b[?25hInstalling collected packages: implicit\n",
      "Successfully installed implicit-0.7.2\n"
     ]
    }
   ],
   "source": [
    "!pip install lightfm tqdm optuna ipykernel matplotlib implicit"
   ]
  },
  {
   "cell_type": "code",
   "execution_count": 9,
   "metadata": {
    "execution": {
     "iopub.execute_input": "2023-12-20T14:27:57.625214Z",
     "iopub.status.busy": "2023-12-20T14:27:57.624644Z",
     "iopub.status.idle": "2023-12-20T14:30:09.427006Z",
     "shell.execute_reply": "2023-12-20T14:30:09.425992Z",
     "shell.execute_reply.started": "2023-12-20T14:27:57.625172Z"
    },
    "scrolled": true
   },
   "outputs": [
    {
     "name": "stdout",
     "output_type": "stream",
     "text": [
      "run_compile_all_cython: Found 10 Cython files in 4 folders...\n",
      "run_compile_all_cython: All files will be compiled using your current python environment: '/opt/conda/bin/python'\n",
      "Compiling [1/10]: MatrixFactorization_Cython_Epoch.pyx... \n",
      "In file included from \u001b[01m\u001b[K/opt/conda/lib/python3.10/site-packages/numpy/core/include/numpy/ndarraytypes.h:1940\u001b[m\u001b[K,\n",
      "                 from \u001b[01m\u001b[K/opt/conda/lib/python3.10/site-packages/numpy/core/include/numpy/ndarrayobject.h:12\u001b[m\u001b[K,\n",
      "                 from \u001b[01m\u001b[K/opt/conda/lib/python3.10/site-packages/numpy/core/include/numpy/arrayobject.h:5\u001b[m\u001b[K,\n",
      "                 from \u001b[01m\u001b[KMatrixFactorization_Cython_Epoch.c:1109\u001b[m\u001b[K:\n",
      "\u001b[01m\u001b[K/opt/conda/lib/python3.10/site-packages/numpy/core/include/numpy/npy_1_7_deprecated_api.h:17:2:\u001b[m\u001b[K \u001b[01;35m\u001b[Kwarning: \u001b[m\u001b[K#warning \"Using deprecated NumPy API, disable it with \" \"#define NPY_NO_DEPRECATED_API NPY_1_7_API_VERSION\" [\u001b[01;35m\u001b[K\u001b]8;;https://gcc.gnu.org/onlinedocs/gcc/Warning-Options.html#index-Wcpp\u0007-Wcpp\u001b]8;;\u0007\u001b[m\u001b[K]\n",
      "   17 | #\u001b[01;35m\u001b[Kwarning\u001b[m\u001b[K \"Using deprecated NumPy API, disable it with \" \\\n",
      "      |  \u001b[01;35m\u001b[K^~~~~~~\u001b[m\u001b[K\n",
      "\u001b[01m\u001b[KMatrixFactorization_Cython_Epoch.c:\u001b[m\u001b[K In function '\u001b[01m\u001b[K__pyx_pf_32MatrixFactorization_Cython_Epoch_32MatrixFactorization_Cython_Epoch_10epochIteration_Cython_ASY_SVD_SGD\u001b[m\u001b[K':\n",
      "\u001b[01m\u001b[KMatrixFactorization_Cython_Epoch.c:25415:68:\u001b[m\u001b[K \u001b[01;35m\u001b[Kwarning: \u001b[m\u001b[K'\u001b[01m\u001b[K__pyx_v_end_pos_seen_items\u001b[m\u001b[K' may be used uninitialized in this function [\u001b[01;35m\u001b[K\u001b]8;;https://gcc.gnu.org/onlinedocs/gcc/Warning-Options.html#index-Wmaybe-uninitialized\u0007-Wmaybe-uninitialized\u001b]8;;\u0007\u001b[m\u001b[K]\n",
      "25415 |  for (__pyx_t_20 = __pyx_v_start_pos_seen_items; \u001b[01;35m\u001b[K__pyx_t_20 < __pyx_t_19\u001b[m\u001b[K; __pyx_t_20+=1) {\n",
      "      |                                                  \u001b[01;35m\u001b[K~~~~~~~~~~~^~~~~~~~~~~~\u001b[m\u001b[K\n",
      "\n",
      "\u001b[01m\u001b[KMatrixFactorization_Cython_Epoch.c:25415:68:\u001b[m\u001b[K \u001b[01;35m\u001b[Kwarning: \u001b[m\u001b[K'\u001b[01m\u001b[K__pyx_v_start_pos_seen_items\u001b[m\u001b[K' may be used uninitialized in this function [\u001b[01;35m\u001b[K\u001b]8;;https://gcc.gnu.org/onlinedocs/gcc/Warning-Options.html#index-Wmaybe-uninitialized\u0007-Wmaybe-uninitialized\u001b]8;;\u0007\u001b[m\u001b[K]\n",
      "/opt/conda/lib/python3.10/site-packages/Cython/Compiler/Main.py:381: FutureWarning: Cython directive 'language_level' not set, using '3str' for now (Py3). This has changed from earlier releases! File: /kaggle/working/Recommenders/MatrixFactorization/Cython/MatrixFactorization_Cython_Epoch.pyx\n",
      "  tree = Parsing.p_module(s, pxd, full_module_name)\n",
      "Compiling [1/10]: MatrixFactorization_Cython_Epoch.pyx... PASS\n",
      "\n",
      "Compiling [2/10]: MatrixFactorizationImpressions_Cython_Epoch.pyx... \n",
      "In file included from \u001b[01m\u001b[K/opt/conda/lib/python3.10/site-packages/numpy/core/include/numpy/ndarraytypes.h:1940\u001b[m\u001b[K,\n",
      "                 from \u001b[01m\u001b[K/opt/conda/lib/python3.10/site-packages/numpy/core/include/numpy/ndarrayobject.h:12\u001b[m\u001b[K,\n",
      "                 from \u001b[01m\u001b[K/opt/conda/lib/python3.10/site-packages/numpy/core/include/numpy/arrayobject.h:5\u001b[m\u001b[K,\n",
      "                 from \u001b[01m\u001b[KMatrixFactorizationImpressions_Cython_Epoch.c:1109\u001b[m\u001b[K:\n",
      "\u001b[01m\u001b[K/opt/conda/lib/python3.10/site-packages/numpy/core/include/numpy/npy_1_7_deprecated_api.h:17:2:\u001b[m\u001b[K \u001b[01;35m\u001b[Kwarning: \u001b[m\u001b[K#warning \"Using deprecated NumPy API, disable it with \" \"#define NPY_NO_DEPRECATED_API NPY_1_7_API_VERSION\" [\u001b[01;35m\u001b[K\u001b]8;;https://gcc.gnu.org/onlinedocs/gcc/Warning-Options.html#index-Wcpp\u0007-Wcpp\u001b]8;;\u0007\u001b[m\u001b[K]\n",
      "   17 | #\u001b[01;35m\u001b[Kwarning\u001b[m\u001b[K \"Using deprecated NumPy API, disable it with \" \\\n",
      "      |  \u001b[01;35m\u001b[K^~~~~~~\u001b[m\u001b[K\n",
      "\u001b[01m\u001b[KMatrixFactorizationImpressions_Cython_Epoch.c:\u001b[m\u001b[K In function '\u001b[01m\u001b[K__pyx_f_43MatrixFactorizationImpressions_Cython_Epoch_32MatrixFactorization_Cython_Epoch_sampleBPR_Cython\u001b[m\u001b[K':\n",
      "\u001b[01m\u001b[KMatrixFactorizationImpressions_Cython_Epoch.c:29445:17:\u001b[m\u001b[K \u001b[01;35m\u001b[Kwarning: \u001b[m\u001b[K'\u001b[01m\u001b[K__pyx_v_start_pos_impression_items\u001b[m\u001b[K' may be used uninitialized in this function [\u001b[01;35m\u001b[K\u001b]8;;https://gcc.gnu.org/onlinedocs/gcc/Warning-Options.html#index-Wmaybe-uninitialized\u0007-Wmaybe-uninitialized\u001b]8;;\u0007\u001b[m\u001b[K]\n",
      "29445 |       \u001b[01;35m\u001b[K__pyx_t_4 = (__pyx_v_start_pos_impression_items + __pyx_v_index)\u001b[m\u001b[K;\n",
      "      |       \u001b[01;35m\u001b[K~~~~~~~~~~^~~~~~~~~~~~~~~~~~~~~~~~~~~~~~~~~~~~~~~~~~~~~~~~~~~~~~\u001b[m\u001b[K\n",
      "\u001b[01m\u001b[KMatrixFactorizationImpressions_Cython_Epoch.c:\u001b[m\u001b[K In function '\u001b[01m\u001b[K__pyx_pf_43MatrixFactorizationImpressions_Cython_Epoch_32MatrixFactorization_Cython_Epoch_10epochIteration_Cython_ASY_SVD_SGD\u001b[m\u001b[K':\n",
      "\u001b[01m\u001b[KMatrixFactorizationImpressions_Cython_Epoch.c:25281:66:\u001b[m\u001b[K \u001b[01;35m\u001b[Kwarning: \u001b[m\u001b[K'\u001b[01m\u001b[K__pyx_v_end_pos_seen_items\u001b[m\u001b[K' may be used uninitialized in this function [\u001b[01;35m\u001b[K\u001b]8;;https://gcc.gnu.org/onlinedocs/gcc/Warning-Options.html#index-Wmaybe-uninitialized\u0007-Wmaybe-uninitialized\u001b]8;;\u0007\u001b[m\u001b[K]\n",
      "25281 |  for (__pyx_t_20 = __pyx_v_start_pos_seen_items; \u001b[01;35m\u001b[K__pyx_t_20 < __pyx_t_19\u001b[m\u001b[K; __pyx_t_20+=1) {\n",
      "      |                                                  \u001b[01;35m\u001b[K~~~~~~~~~~~^~~~~~~~~~~~\u001b[m\u001b[K\n",
      "\n",
      "\u001b[01m\u001b[KMatrixFactorizationImpressions_Cython_Epoch.c:25281:66:\u001b[m\u001b[K \u001b[01;35m\u001b[Kwarning: \u001b[m\u001b[K'\u001b[01m\u001b[K__pyx_v_start_pos_seen_items\u001b[m\u001b[K' may be used uninitialized in this function [\u001b[01;35m\u001b[K\u001b]8;;https://gcc.gnu.org/onlinedocs/gcc/Warning-Options.html#index-Wmaybe-uninitialized\u0007-Wmaybe-uninitialized\u001b]8;;\u0007\u001b[m\u001b[K]\n",
      "/opt/conda/lib/python3.10/site-packages/Cython/Compiler/Main.py:381: FutureWarning: Cython directive 'language_level' not set, using '3str' for now (Py3). This has changed from earlier releases! File: /kaggle/working/Recommenders/MatrixFactorization/Cython/MatrixFactorizationImpressions_Cython_Epoch.pyx\n",
      "  tree = Parsing.p_module(s, pxd, full_module_name)\n",
      "Compiling [2/10]: MatrixFactorizationImpressions_Cython_Epoch.pyx... PASS\n",
      "\n",
      "Compiling [3/10]: Compute_Similarity_Cython.pyx... \n",
      "In file included from \u001b[01m\u001b[K/opt/conda/lib/python3.10/site-packages/numpy/core/include/numpy/ndarraytypes.h:1940\u001b[m\u001b[K,\n",
      "                 from \u001b[01m\u001b[K/opt/conda/lib/python3.10/site-packages/numpy/core/include/numpy/ndarrayobject.h:12\u001b[m\u001b[K,\n",
      "                 from \u001b[01m\u001b[K/opt/conda/lib/python3.10/site-packages/numpy/core/include/numpy/arrayobject.h:5\u001b[m\u001b[K,\n",
      "                 from \u001b[01m\u001b[KCompute_Similarity_Cython.c:1109\u001b[m\u001b[K:\n",
      "\u001b[01m\u001b[K/opt/conda/lib/python3.10/site-packages/numpy/core/include/numpy/npy_1_7_deprecated_api.h:17:2:\u001b[m\u001b[K \u001b[01;35m\u001b[Kwarning: \u001b[m\u001b[K#warning \"Using deprecated NumPy API, disable it with \" \"#define NPY_NO_DEPRECATED_API NPY_1_7_API_VERSION\" [\u001b[01;35m\u001b[K\u001b]8;;https://gcc.gnu.org/onlinedocs/gcc/Warning-Options.html#index-Wcpp\u0007-Wcpp\u001b]8;;\u0007\u001b[m\u001b[K]\n",
      "   17 | #\u001b[01;35m\u001b[Kwarning\u001b[m\u001b[K \"Using deprecated NumPy API, disable it with \" \\\n",
      "      |  \u001b[01;35m\u001b[K^~~~~~~\u001b[m\u001b[K\n",
      "/opt/conda/lib/python3.10/site-packages/Cython/Compiler/Main.py:381: FutureWarning: Cython directive 'language_level' not set, using '3str' for now (Py3). This has changed from earlier releases! File: /kaggle/working/Recommenders/Similarity/Cython/Compute_Similarity_Cython.pyx\n",
      "  tree = Parsing.p_module(s, pxd, full_module_name)\n",
      "Compiling [3/10]: Compute_Similarity_Cython.pyx... PASS\n",
      "\n",
      "Compiling [4/10]: Triangular_Matrix.pyx... \n",
      "In file included from \u001b[01m\u001b[K/opt/conda/lib/python3.10/site-packages/numpy/core/include/numpy/ndarraytypes.h:1940\u001b[m\u001b[K,\n",
      "                 from \u001b[01m\u001b[K/opt/conda/lib/python3.10/site-packages/numpy/core/include/numpy/ndarrayobject.h:12\u001b[m\u001b[K,\n",
      "                 from \u001b[01m\u001b[K/opt/conda/lib/python3.10/site-packages/numpy/core/include/numpy/arrayobject.h:5\u001b[m\u001b[K,\n",
      "                 from \u001b[01m\u001b[KTriangular_Matrix.c:1109\u001b[m\u001b[K:\n",
      "\u001b[01m\u001b[K/opt/conda/lib/python3.10/site-packages/numpy/core/include/numpy/npy_1_7_deprecated_api.h:17:2:\u001b[m\u001b[K \u001b[01;35m\u001b[Kwarning: \u001b[m\u001b[K#warning \"Using deprecated NumPy API, disable it with \" \"#define NPY_NO_DEPRECATED_API NPY_1_7_API_VERSION\" [\u001b[01;35m\u001b[K\u001b]8;;https://gcc.gnu.org/onlinedocs/gcc/Warning-Options.html#index-Wcpp\u0007-Wcpp\u001b]8;;\u0007\u001b[m\u001b[K]\n",
      "   17 | #\u001b[01;35m\u001b[Kwarning\u001b[m\u001b[K \"Using deprecated NumPy API, disable it with \" \\\n",
      "      |  \u001b[01;35m\u001b[K^~~~~~~\u001b[m\u001b[K\n",
      "In function '\u001b[01m\u001b[K__pyx_pf_17Triangular_Matrix_17Triangular_Matrix___init__\u001b[m\u001b[K',\n",
      "    inlined from '\u001b[01m\u001b[K__pyx_pw_17Triangular_Matrix_17Triangular_Matrix_1__init__\u001b[m\u001b[K' at \u001b[01m\u001b[KTriangular_Matrix.c:5370:13\u001b[m\u001b[K:\n",
      "\u001b[01m\u001b[KTriangular_Matrix.c:5424:43:\u001b[m\u001b[K \u001b[01;35m\u001b[Kwarning: \u001b[m\u001b[Kargument 1 value '\u001b[01m\u001b[K18446744073709551608\u001b[m\u001b[K' exceeds maximum object size 9223372036854775807 [\u001b[01;35m\u001b[K\u001b]8;;https://gcc.gnu.org/onlinedocs/gcc/Warning-Options.html#index-Walloc-size-larger-than=\u0007-Walloc-size-larger-than=\u001b]8;;\u0007\u001b[m\u001b[K]\n",
      " 5424 |   __pyx_v_self->row_pointer = ((double **)\u001b[01;35m\u001b[Kmalloc((__pyx_v_self->num_rows * (sizeof(double *))))\u001b[m\u001b[K);\n",
      "      |                                           \u001b[01;35m\u001b[K^~~~~~~~~~~~~~~~~~~~~~~~~~~~~~~~~~~~~~~~~~~~~~~~~~~~~\u001b[m\u001b[K\n",
      "In file included from \u001b[01m\u001b[K/opt/conda/include/python3.10/Python.h:34\u001b[m\u001b[K,\n",
      "                 from \u001b[01m\u001b[KTriangular_Matrix.c:41\u001b[m\u001b[K:\n",
      "\u001b[01m\u001b[KTriangular_Matrix.c:\u001b[m\u001b[K In function '\u001b[01m\u001b[K__pyx_pw_17Triangular_Matrix_17Triangular_Matrix_1__init__\u001b[m\u001b[K':\n",
      "\u001b[01m\u001b[K/usr/include/stdlib.h:540:14:\u001b[m\u001b[K \u001b[01;36m\u001b[Knote: \u001b[m\u001b[Kin a call to allocation function '\u001b[01m\u001b[Kmalloc\u001b[m\u001b[K' declared here\n",
      "  540 | extern void *\u001b[01;36m\u001b[Kmalloc\u001b[m\u001b[K (size_t __size) __THROW __attribute_malloc__\n",
      "      |              \u001b[01;36m\u001b[K^~~~~~\u001b[m\u001b[K\n",
      "/opt/conda/lib/python3.10/site-packages/Cython/Compiler/Main.py:381: FutureWarning: Cython directive 'language_level' not set, using '3str' for now (Py3). This has changed from earlier releases! File: /kaggle/working/Recommenders/SLIM/Cython/Triangular_Matrix.pyx\n",
      "  tree = Parsing.p_module(s, pxd, full_module_name)\n",
      "Compiling [4/10]: Triangular_Matrix.pyx... PASS\n",
      "\n",
      "Compiling [5/10]: SLIM_BPR_Cython_Epoch.pyx... \n",
      "warning: SLIM_BPR_Cython_Epoch.pyx:626:34: Non-trivial type declarators in shared declaration (e.g. mix of pointers and values). Each pointer declaration should be on its own line.\n",
      "warning: SLIM_BPR_Cython_Epoch.pyx:626:66: Non-trivial type declarators in shared declaration (e.g. mix of pointers and values). Each pointer declaration should be on its own line.\n",
      "warning: SLIM_BPR_Cython_Epoch.pyx:811:35: Non-trivial type declarators in shared declaration (e.g. mix of pointers and values). Each pointer declaration should be on its own line.\n",
      "warning: SLIM_BPR_Cython_Epoch.pyx:811:52: Non-trivial type declarators in shared declaration (e.g. mix of pointers and values). Each pointer declaration should be on its own line.\n",
      "warning: SLIM_BPR_Cython_Epoch.pyx:910:35: Non-trivial type declarators in shared declaration (e.g. mix of pointers and values). Each pointer declaration should be on its own line.\n",
      "warning: SLIM_BPR_Cython_Epoch.pyx:910:53: Non-trivial type declarators in shared declaration (e.g. mix of pointers and values). Each pointer declaration should be on its own line.\n",
      "warning: SLIM_BPR_Cython_Epoch.pyx:910:69: Non-trivial type declarators in shared declaration (e.g. mix of pointers and values). Each pointer declaration should be on its own line.\n",
      "warning: SLIM_BPR_Cython_Epoch.pyx:1045:35: Non-trivial type declarators in shared declaration (e.g. mix of pointers and values). Each pointer declaration should be on its own line.\n",
      "warning: SLIM_BPR_Cython_Epoch.pyx:1045:42: Non-trivial type declarators in shared declaration (e.g. mix of pointers and values). Each pointer declaration should be on its own line.\n",
      "warning: SLIM_BPR_Cython_Epoch.pyx:1046:35: Non-trivial type declarators in shared declaration (e.g. mix of pointers and values). Each pointer declaration should be on its own line.\n",
      "warning: SLIM_BPR_Cython_Epoch.pyx:1046:53: Non-trivial type declarators in shared declaration (e.g. mix of pointers and values). Each pointer declaration should be on its own line.\n",
      "In file included from \u001b[01m\u001b[K/opt/conda/lib/python3.10/site-packages/numpy/core/include/numpy/ndarraytypes.h:1940\u001b[m\u001b[K,\n",
      "                 from \u001b[01m\u001b[K/opt/conda/lib/python3.10/site-packages/numpy/core/include/numpy/ndarrayobject.h:12\u001b[m\u001b[K,\n",
      "                 from \u001b[01m\u001b[K/opt/conda/lib/python3.10/site-packages/numpy/core/include/numpy/arrayobject.h:5\u001b[m\u001b[K,\n",
      "                 from \u001b[01m\u001b[KSLIM_BPR_Cython_Epoch.c:1109\u001b[m\u001b[K:\n",
      "\u001b[01m\u001b[K/opt/conda/lib/python3.10/site-packages/numpy/core/include/numpy/npy_1_7_deprecated_api.h:17:2:\u001b[m\u001b[K \u001b[01;35m\u001b[Kwarning: \u001b[m\u001b[K#warning \"Using deprecated NumPy API, disable it with \" \"#define NPY_NO_DEPRECATED_API NPY_1_7_API_VERSION\" [\u001b[01;35m\u001b[K\u001b]8;;https://gcc.gnu.org/onlinedocs/gcc/Warning-Options.html#index-Wcpp\u0007-Wcpp\u001b]8;;\u0007\u001b[m\u001b[K]\n",
      "   17 | #\u001b[01;35m\u001b[Kwarning\u001b[m\u001b[K \"Using deprecated NumPy API, disable it with \" \\\n",
      "      |  \u001b[01;35m\u001b[K^~~~~~~\u001b[m\u001b[K\n",
      "\u001b[01m\u001b[KSLIM_BPR_Cython_Epoch.c:\u001b[m\u001b[K In function '\u001b[01m\u001b[K__pyx_f_21SLIM_BPR_Cython_Epoch_22Sparse_Matrix_Tree_CSR_test_list_tee_conversion\u001b[m\u001b[K':\n",
      "\u001b[01m\u001b[KSLIM_BPR_Cython_Epoch.c:28336:15:\u001b[m\u001b[K \u001b[01;35m\u001b[Kwarning: \u001b[m\u001b[K'\u001b[01m\u001b[K__pyx_v_previous_element\u001b[m\u001b[K' may be used uninitialized in this function [\u001b[01;35m\u001b[K\u001b]8;;https://gcc.gnu.org/onlinedocs/gcc/Warning-Options.html#index-Wmaybe-uninitialized\u0007-Wmaybe-uninitialized\u001b]8;;\u0007\u001b[m\u001b[K]\n",
      "28336 |     \u001b[01;35m\u001b[K__pyx_t_7 = __pyx_v_current_element->lower\u001b[m\u001b[K;\n",
      "      |     \u001b[01;35m\u001b[K~~~~~~~~~~^~~~~~~~~~~~~~~~~~~~~~~~~~~~~~~~\u001b[m\u001b[K\n",
      "/opt/conda/lib/python3.10/site-packages/Cython/Compiler/Main.py:381: FutureWarning: Cython directive 'language_level' not set, using '3str' for now (Py3). This has changed from earlier releases! File: /kaggle/working/Recommenders/SLIM/Cython/SLIM_BPR_Cython_Epoch.pyx\n",
      "  tree = Parsing.p_module(s, pxd, full_module_name)\n",
      "warning: SLIM_BPR_Cython_Epoch.pyx:626:34: Non-trivial type declarators in shared declaration (e.g. mix of pointers and values). Each pointer declaration should be on its own line.\n",
      "warning: SLIM_BPR_Cython_Epoch.pyx:626:66: Non-trivial type declarators in shared declaration (e.g. mix of pointers and values). Each pointer declaration should be on its own line.\n",
      "warning: SLIM_BPR_Cython_Epoch.pyx:811:35: Non-trivial type declarators in shared declaration (e.g. mix of pointers and values). Each pointer declaration should be on its own line.\n",
      "warning: SLIM_BPR_Cython_Epoch.pyx:811:52: Non-trivial type declarators in shared declaration (e.g. mix of pointers and values). Each pointer declaration should be on its own line.\n",
      "warning: SLIM_BPR_Cython_Epoch.pyx:910:35: Non-trivial type declarators in shared declaration (e.g. mix of pointers and values). Each pointer declaration should be on its own line.\n",
      "warning: SLIM_BPR_Cython_Epoch.pyx:910:53: Non-trivial type declarators in shared declaration (e.g. mix of pointers and values). Each pointer declaration should be on its own line.\n",
      "warning: SLIM_BPR_Cython_Epoch.pyx:910:69: Non-trivial type declarators in shared declaration (e.g. mix of pointers and values). Each pointer declaration should be on its own line.\n",
      "warning: SLIM_BPR_Cython_Epoch.pyx:1045:35: Non-trivial type declarators in shared declaration (e.g. mix of pointers and values). Each pointer declaration should be on its own line.\n",
      "warning: SLIM_BPR_Cython_Epoch.pyx:1045:42: Non-trivial type declarators in shared declaration (e.g. mix of pointers and values). Each pointer declaration should be on its own line.\n",
      "warning: SLIM_BPR_Cython_Epoch.pyx:1046:35: Non-trivial type declarators in shared declaration (e.g. mix of pointers and values). Each pointer declaration should be on its own line.\n",
      "warning: SLIM_BPR_Cython_Epoch.pyx:1046:53: Non-trivial type declarators in shared declaration (e.g. mix of pointers and values). Each pointer declaration should be on its own line.\n",
      "Compiling [5/10]: SLIM_BPR_Cython_Epoch.pyx... PASS\n",
      "\n",
      "Compiling [6/10]: Sparse_Matrix_Tree_CSR.pyx... \n",
      "warning: Sparse_Matrix_Tree_CSR.pyx:132:34: Non-trivial type declarators in shared declaration (e.g. mix of pointers and values). Each pointer declaration should be on its own line.\n",
      "warning: Sparse_Matrix_Tree_CSR.pyx:132:66: Non-trivial type declarators in shared declaration (e.g. mix of pointers and values). Each pointer declaration should be on its own line.\n",
      "warning: Sparse_Matrix_Tree_CSR.pyx:343:35: Non-trivial type declarators in shared declaration (e.g. mix of pointers and values). Each pointer declaration should be on its own line.\n",
      "warning: Sparse_Matrix_Tree_CSR.pyx:343:52: Non-trivial type declarators in shared declaration (e.g. mix of pointers and values). Each pointer declaration should be on its own line.\n",
      "warning: Sparse_Matrix_Tree_CSR.pyx:442:35: Non-trivial type declarators in shared declaration (e.g. mix of pointers and values). Each pointer declaration should be on its own line.\n",
      "warning: Sparse_Matrix_Tree_CSR.pyx:442:53: Non-trivial type declarators in shared declaration (e.g. mix of pointers and values). Each pointer declaration should be on its own line.\n",
      "warning: Sparse_Matrix_Tree_CSR.pyx:442:69: Non-trivial type declarators in shared declaration (e.g. mix of pointers and values). Each pointer declaration should be on its own line.\n",
      "warning: Sparse_Matrix_Tree_CSR.pyx:577:35: Non-trivial type declarators in shared declaration (e.g. mix of pointers and values). Each pointer declaration should be on its own line.\n",
      "warning: Sparse_Matrix_Tree_CSR.pyx:577:42: Non-trivial type declarators in shared declaration (e.g. mix of pointers and values). Each pointer declaration should be on its own line.\n",
      "warning: Sparse_Matrix_Tree_CSR.pyx:578:35: Non-trivial type declarators in shared declaration (e.g. mix of pointers and values). Each pointer declaration should be on its own line.\n",
      "warning: Sparse_Matrix_Tree_CSR.pyx:578:53: Non-trivial type declarators in shared declaration (e.g. mix of pointers and values). Each pointer declaration should be on its own line.\n",
      "In file included from \u001b[01m\u001b[K/opt/conda/lib/python3.10/site-packages/numpy/core/include/numpy/ndarraytypes.h:1940\u001b[m\u001b[K,\n",
      "                 from \u001b[01m\u001b[K/opt/conda/lib/python3.10/site-packages/numpy/core/include/numpy/ndarrayobject.h:12\u001b[m\u001b[K,\n",
      "                 from \u001b[01m\u001b[K/opt/conda/lib/python3.10/site-packages/numpy/core/include/numpy/arrayobject.h:5\u001b[m\u001b[K,\n",
      "                 from \u001b[01m\u001b[KSparse_Matrix_Tree_CSR.c:1109\u001b[m\u001b[K:\n",
      "\u001b[01m\u001b[K/opt/conda/lib/python3.10/site-packages/numpy/core/include/numpy/npy_1_7_deprecated_api.h:17:2:\u001b[m\u001b[K \u001b[01;35m\u001b[Kwarning: \u001b[m\u001b[K#warning \"Using deprecated NumPy API, disable it with \" \"#define NPY_NO_DEPRECATED_API NPY_1_7_API_VERSION\" [\u001b[01;35m\u001b[K\u001b]8;;https://gcc.gnu.org/onlinedocs/gcc/Warning-Options.html#index-Wcpp\u0007-Wcpp\u001b]8;;\u0007\u001b[m\u001b[K]\n",
      "   17 | #\u001b[01;35m\u001b[Kwarning\u001b[m\u001b[K \"Using deprecated NumPy API, disable it with \" \\\n",
      "      |  \u001b[01;35m\u001b[K^~~~~~~\u001b[m\u001b[K\n",
      "\u001b[01m\u001b[KSparse_Matrix_Tree_CSR.c:\u001b[m\u001b[K In function '\u001b[01m\u001b[K__pyx_f_22Sparse_Matrix_Tree_CSR_22Sparse_Matrix_Tree_CSR_test_list_tree_conversion\u001b[m\u001b[K':\n",
      "\u001b[01m\u001b[KSparse_Matrix_Tree_CSR.c:8499:15:\u001b[m\u001b[K \u001b[01;35m\u001b[Kwarning: \u001b[m\u001b[K'\u001b[01m\u001b[K__pyx_v_previous_element\u001b[m\u001b[K' may be used uninitialized in this function [\u001b[01;35m\u001b[K\u001b]8;;https://gcc.gnu.org/onlinedocs/gcc/Warning-Options.html#index-Wmaybe-uninitialized\u0007-Wmaybe-uninitialized\u001b]8;;\u0007\u001b[m\u001b[K]\n",
      " 8499 |     \u001b[01;35m\u001b[K__pyx_t_7 = __pyx_v_current_element->lower\u001b[m\u001b[K;\n",
      "      |     \u001b[01;35m\u001b[K~~~~~~~~~~^~~~~~~~~~~~~~~~~~~~~~~~~~~~~~~~\u001b[m\u001b[K\n",
      "/opt/conda/lib/python3.10/site-packages/Cython/Compiler/Main.py:381: FutureWarning: Cython directive 'language_level' not set, using '3str' for now (Py3). This has changed from earlier releases! File: /kaggle/working/Recommenders/SLIM/Cython/Sparse_Matrix_Tree_CSR.pyx\n",
      "  tree = Parsing.p_module(s, pxd, full_module_name)\n",
      "warning: Sparse_Matrix_Tree_CSR.pyx:132:34: Non-trivial type declarators in shared declaration (e.g. mix of pointers and values). Each pointer declaration should be on its own line.\n",
      "warning: Sparse_Matrix_Tree_CSR.pyx:132:66: Non-trivial type declarators in shared declaration (e.g. mix of pointers and values). Each pointer declaration should be on its own line.\n",
      "warning: Sparse_Matrix_Tree_CSR.pyx:343:35: Non-trivial type declarators in shared declaration (e.g. mix of pointers and values). Each pointer declaration should be on its own line.\n",
      "warning: Sparse_Matrix_Tree_CSR.pyx:343:52: Non-trivial type declarators in shared declaration (e.g. mix of pointers and values). Each pointer declaration should be on its own line.\n",
      "warning: Sparse_Matrix_Tree_CSR.pyx:442:35: Non-trivial type declarators in shared declaration (e.g. mix of pointers and values). Each pointer declaration should be on its own line.\n",
      "warning: Sparse_Matrix_Tree_CSR.pyx:442:53: Non-trivial type declarators in shared declaration (e.g. mix of pointers and values). Each pointer declaration should be on its own line.\n",
      "warning: Sparse_Matrix_Tree_CSR.pyx:442:69: Non-trivial type declarators in shared declaration (e.g. mix of pointers and values). Each pointer declaration should be on its own line.\n",
      "warning: Sparse_Matrix_Tree_CSR.pyx:577:35: Non-trivial type declarators in shared declaration (e.g. mix of pointers and values). Each pointer declaration should be on its own line.\n",
      "warning: Sparse_Matrix_Tree_CSR.pyx:577:42: Non-trivial type declarators in shared declaration (e.g. mix of pointers and values). Each pointer declaration should be on its own line.\n",
      "warning: Sparse_Matrix_Tree_CSR.pyx:578:35: Non-trivial type declarators in shared declaration (e.g. mix of pointers and values). Each pointer declaration should be on its own line.\n",
      "warning: Sparse_Matrix_Tree_CSR.pyx:578:53: Non-trivial type declarators in shared declaration (e.g. mix of pointers and values). Each pointer declaration should be on its own line.\n",
      "Compiling [6/10]: Sparse_Matrix_Tree_CSR.pyx... PASS\n",
      "\n",
      "Compiling [7/10]: HP3_Similarity_Cython_SGD.pyx... \n",
      "warning: HP3_Similarity_Cython_SGD.pyx:113:40: Index should be typed for more efficient access\n",
      "In file included from \u001b[01m\u001b[K/opt/conda/lib/python3.10/site-packages/numpy/core/include/numpy/ndarraytypes.h:1940\u001b[m\u001b[K,\n",
      "                 from \u001b[01m\u001b[K/opt/conda/lib/python3.10/site-packages/numpy/core/include/numpy/ndarrayobject.h:12\u001b[m\u001b[K,\n",
      "                 from \u001b[01m\u001b[K/opt/conda/lib/python3.10/site-packages/numpy/core/include/numpy/arrayobject.h:5\u001b[m\u001b[K,\n",
      "                 from \u001b[01m\u001b[KHP3_Similarity_Cython_SGD.c:1109\u001b[m\u001b[K:\n",
      "\u001b[01m\u001b[K/opt/conda/lib/python3.10/site-packages/numpy/core/include/numpy/npy_1_7_deprecated_api.h:17:2:\u001b[m\u001b[K \u001b[01;35m\u001b[Kwarning: \u001b[m\u001b[K#warning \"Using deprecated NumPy API, disable it with \" \"#define NPY_NO_DEPRECATED_API NPY_1_7_API_VERSION\" [\u001b[01;35m\u001b[K\u001b]8;;https://gcc.gnu.org/onlinedocs/gcc/Warning-Options.html#index-Wcpp\u0007-Wcpp\u001b]8;;\u0007\u001b[m\u001b[K]\n",
      "   17 | #\u001b[01;35m\u001b[Kwarning\u001b[m\u001b[K \"Using deprecated NumPy API, disable it with \" \\\n",
      "      |  \u001b[01;35m\u001b[K^~~~~~~\u001b[m\u001b[K\n",
      "\u001b[01m\u001b[KHP3_Similarity_Cython_SGD.c:\u001b[m\u001b[K In function '\u001b[01m\u001b[K__pyx_pf_25HP3_Similarity_Cython_SGD_25HP3_Similarity_Cython_SGD_4fit\u001b[m\u001b[K':\n",
      "\u001b[01m\u001b[KHP3_Similarity_Cython_SGD.c:22910:55:\u001b[m\u001b[K \u001b[01;35m\u001b[Kwarning: \u001b[m\u001b[K'\u001b[01m\u001b[K__pyx_v_sample_num\u001b[m\u001b[K' may be used uninitialized in this function [\u001b[01;35m\u001b[K\u001b]8;;https://gcc.gnu.org/onlinedocs/gcc/Warning-Options.html#index-Wmaybe-uninitialized\u0007-Wmaybe-uninitialized\u001b]8;;\u0007\u001b[m\u001b[K]\n",
      "22910 |   __pyx_t_2 = PyFloat_FromDouble((__pyx_v_cum_loss / \u001b[01;35m\u001b[K((double)__pyx_v_sample_num)\u001b[m\u001b[K)); if (unlikely(!__pyx_t_2)) __PYX_ERR(0, 291, __pyx_L1_error)\n",
      "      |                                                      \u001b[01;35m\u001b[K~^~~~~~~~~~~~~~~~~~~~~~~~~~~\u001b[m\u001b[K\n",
      "/opt/conda/lib/python3.10/site-packages/Cython/Compiler/Main.py:381: FutureWarning: Cython directive 'language_level' not set, using '3str' for now (Py3). This has changed from earlier releases! File: /kaggle/working/Recommenders/FeatureWeighting/Cython/HP3_Similarity_Cython_SGD.pyx\n",
      "  tree = Parsing.p_module(s, pxd, full_module_name)\n",
      "warning: HP3_Similarity_Cython_SGD.pyx:113:40: Index should be typed for more efficient access\n",
      "Compiling [7/10]: HP3_Similarity_Cython_SGD.pyx... PASS\n",
      "\n",
      "Compiling [8/10]: CFW_DVV_Similarity_Cython_SGD.pyx... \n",
      "In file included from \u001b[01m\u001b[K/opt/conda/lib/python3.10/site-packages/numpy/core/include/numpy/ndarraytypes.h:1940\u001b[m\u001b[K,\n",
      "                 from \u001b[01m\u001b[K/opt/conda/lib/python3.10/site-packages/numpy/core/include/numpy/ndarrayobject.h:12\u001b[m\u001b[K,\n",
      "                 from \u001b[01m\u001b[K/opt/conda/lib/python3.10/site-packages/numpy/core/include/numpy/arrayobject.h:5\u001b[m\u001b[K,\n",
      "                 from \u001b[01m\u001b[KCFW_DVV_Similarity_Cython_SGD.c:1109\u001b[m\u001b[K:\n",
      "\u001b[01m\u001b[K/opt/conda/lib/python3.10/site-packages/numpy/core/include/numpy/npy_1_7_deprecated_api.h:17:2:\u001b[m\u001b[K \u001b[01;35m\u001b[Kwarning: \u001b[m\u001b[K#warning \"Using deprecated NumPy API, disable it with \" \"#define NPY_NO_DEPRECATED_API NPY_1_7_API_VERSION\" [\u001b[01;35m\u001b[K\u001b]8;;https://gcc.gnu.org/onlinedocs/gcc/Warning-Options.html#index-Wcpp\u0007-Wcpp\u001b]8;;\u0007\u001b[m\u001b[K]\n",
      "   17 | #\u001b[01;35m\u001b[Kwarning\u001b[m\u001b[K \"Using deprecated NumPy API, disable it with \" \\\n",
      "      |  \u001b[01;35m\u001b[K^~~~~~~\u001b[m\u001b[K\n",
      "/opt/conda/lib/python3.10/site-packages/Cython/Compiler/Main.py:381: FutureWarning: Cython directive 'language_level' not set, using '3str' for now (Py3). This has changed from earlier releases! File: /kaggle/working/Recommenders/FeatureWeighting/Cython/CFW_DVV_Similarity_Cython_SGD.pyx\n",
      "  tree = Parsing.p_module(s, pxd, full_module_name)\n",
      "Compiling [8/10]: CFW_DVV_Similarity_Cython_SGD.pyx... PASS\n",
      "\n",
      "Compiling [9/10]: FBSM_Rating_Cython_SGD.pyx... \n",
      "In file included from \u001b[01m\u001b[K/opt/conda/lib/python3.10/site-packages/numpy/core/include/numpy/ndarraytypes.h:1940\u001b[m\u001b[K,\n",
      "                 from \u001b[01m\u001b[K/opt/conda/lib/python3.10/site-packages/numpy/core/include/numpy/ndarrayobject.h:12\u001b[m\u001b[K,\n",
      "                 from \u001b[01m\u001b[K/opt/conda/lib/python3.10/site-packages/numpy/core/include/numpy/arrayobject.h:5\u001b[m\u001b[K,\n",
      "                 from \u001b[01m\u001b[KFBSM_Rating_Cython_SGD.c:1109\u001b[m\u001b[K:\n",
      "\u001b[01m\u001b[K/opt/conda/lib/python3.10/site-packages/numpy/core/include/numpy/npy_1_7_deprecated_api.h:17:2:\u001b[m\u001b[K \u001b[01;35m\u001b[Kwarning: \u001b[m\u001b[K#warning \"Using deprecated NumPy API, disable it with \" \"#define NPY_NO_DEPRECATED_API NPY_1_7_API_VERSION\" [\u001b[01;35m\u001b[K\u001b]8;;https://gcc.gnu.org/onlinedocs/gcc/Warning-Options.html#index-Wcpp\u0007-Wcpp\u001b]8;;\u0007\u001b[m\u001b[K]\n",
      "   17 | #\u001b[01;35m\u001b[Kwarning\u001b[m\u001b[K \"Using deprecated NumPy API, disable it with \" \\\n",
      "      |  \u001b[01;35m\u001b[K^~~~~~~\u001b[m\u001b[K\n",
      "\u001b[01m\u001b[KFBSM_Rating_Cython_SGD.c:\u001b[m\u001b[K In function '\u001b[01m\u001b[K__pyx_pf_22FBSM_Rating_Cython_SGD_22FBSM_Rating_Cython_SGD_2fit\u001b[m\u001b[K':\n",
      "\u001b[01m\u001b[KFBSM_Rating_Cython_SGD.c:25812:55:\u001b[m\u001b[K \u001b[01;35m\u001b[Kwarning: \u001b[m\u001b[K'\u001b[01m\u001b[K__pyx_v_num_sample\u001b[m\u001b[K' may be used uninitialized in this function [\u001b[01;35m\u001b[K\u001b]8;;https://gcc.gnu.org/onlinedocs/gcc/Warning-Options.html#index-Wmaybe-uninitialized\u0007-Wmaybe-uninitialized\u001b]8;;\u0007\u001b[m\u001b[K]\n",
      "25812 |   __pyx_t_2 = PyFloat_FromDouble((__pyx_v_cum_loss / \u001b[01;35m\u001b[K((double)__pyx_v_num_sample)\u001b[m\u001b[K)); if (unlikely(!__pyx_t_2)) __PYX_ERR(0, 551, __pyx_L1_error)\n",
      "      |                                                      \u001b[01;35m\u001b[K~^~~~~~~~~~~~~~~~~~~~~~~~~~~\u001b[m\u001b[K\n",
      "/opt/conda/lib/python3.10/site-packages/Cython/Compiler/Main.py:381: FutureWarning: Cython directive 'language_level' not set, using '3str' for now (Py3). This has changed from earlier releases! File: /kaggle/working/Recommenders/FeatureWeighting/Cython/FBSM_Rating_Cython_SGD.pyx\n",
      "  tree = Parsing.p_module(s, pxd, full_module_name)\n",
      "Compiling [9/10]: FBSM_Rating_Cython_SGD.pyx... PASS\n",
      "\n",
      "Compiling [10/10]: CFW_D_Similarity_Cython_SGD.pyx... \n",
      "In file included from \u001b[01m\u001b[K/opt/conda/lib/python3.10/site-packages/numpy/core/include/numpy/ndarraytypes.h:1940\u001b[m\u001b[K,\n",
      "                 from \u001b[01m\u001b[K/opt/conda/lib/python3.10/site-packages/numpy/core/include/numpy/ndarrayobject.h:12\u001b[m\u001b[K,\n",
      "                 from \u001b[01m\u001b[K/opt/conda/lib/python3.10/site-packages/numpy/core/include/numpy/arrayobject.h:5\u001b[m\u001b[K,\n",
      "                 from \u001b[01m\u001b[KCFW_D_Similarity_Cython_SGD.c:1109\u001b[m\u001b[K:\n",
      "\u001b[01m\u001b[K/opt/conda/lib/python3.10/site-packages/numpy/core/include/numpy/npy_1_7_deprecated_api.h:17:2:\u001b[m\u001b[K \u001b[01;35m\u001b[Kwarning: \u001b[m\u001b[K#warning \"Using deprecated NumPy API, disable it with \" \"#define NPY_NO_DEPRECATED_API NPY_1_7_API_VERSION\" [\u001b[01;35m\u001b[K\u001b]8;;https://gcc.gnu.org/onlinedocs/gcc/Warning-Options.html#index-Wcpp\u0007-Wcpp\u001b]8;;\u0007\u001b[m\u001b[K]\n",
      "   17 | #\u001b[01;35m\u001b[Kwarning\u001b[m\u001b[K \"Using deprecated NumPy API, disable it with \" \\\n",
      "      |  \u001b[01;35m\u001b[K^~~~~~~\u001b[m\u001b[K\n",
      "\u001b[01m\u001b[KCFW_D_Similarity_Cython_SGD.c:\u001b[m\u001b[K In function '\u001b[01m\u001b[K__pyx_pf_27CFW_D_Similarity_Cython_SGD_27CFW_D_Similarity_Cython_SGD_6fit\u001b[m\u001b[K':\n",
      "\u001b[01m\u001b[KCFW_D_Similarity_Cython_SGD.c:22636:55:\u001b[m\u001b[K \u001b[01;35m\u001b[Kwarning: \u001b[m\u001b[K'\u001b[01m\u001b[K__pyx_v_sample_num\u001b[m\u001b[K' may be used uninitialized in this function [\u001b[01;35m\u001b[K\u001b]8;;https://gcc.gnu.org/onlinedocs/gcc/Warning-Options.html#index-Wmaybe-uninitialized\u0007-Wmaybe-uninitialized\u001b]8;;\u0007\u001b[m\u001b[K]\n",
      "22636 |   __pyx_t_2 = PyFloat_FromDouble((__pyx_v_cum_loss / \u001b[01;35m\u001b[K((double)__pyx_v_sample_num)\u001b[m\u001b[K)); if (unlikely(!__pyx_t_2)) __PYX_ERR(0, 290, __pyx_L1_error)\n",
      "      |                                                      \u001b[01;35m\u001b[K~^~~~~~~~~~~~~~~~~~~~~~~~~~~\u001b[m\u001b[K\n",
      "/opt/conda/lib/python3.10/site-packages/Cython/Compiler/Main.py:381: FutureWarning: Cython directive 'language_level' not set, using '3str' for now (Py3). This has changed from earlier releases! File: /kaggle/working/Recommenders/FeatureWeighting/Cython/CFW_D_Similarity_Cython_SGD.pyx\n",
      "  tree = Parsing.p_module(s, pxd, full_module_name)\n",
      "Compiling [10/10]: CFW_D_Similarity_Cython_SGD.pyx... PASS\n",
      "\n",
      "run_compile_all_cython: Compilation finished. SUCCESS.\n",
      "Compilation log can be found here: './result_experiments/run_compile_all_cython.txt'\n"
     ]
    }
   ],
   "source": [
    "!python run_compile_all_cython.py"
   ]
  },
  {
   "cell_type": "code",
   "execution_count": 10,
   "metadata": {
    "_cell_guid": "b1076dfc-b9ad-4769-8c92-a6c4dae69d19",
    "_uuid": "8f2839f25d086af736a60e9eeb907d3b93b6e0e5",
    "execution": {
     "iopub.execute_input": "2023-12-20T14:30:48.704687Z",
     "iopub.status.busy": "2023-12-20T14:30:48.703854Z",
     "iopub.status.idle": "2023-12-20T14:30:48.721305Z",
     "shell.execute_reply": "2023-12-20T14:30:48.720224Z",
     "shell.execute_reply.started": "2023-12-20T14:30:48.704648Z"
    }
   },
   "outputs": [],
   "source": [
    "import time\n",
    "import optuna\n",
    "import numpy as np\n",
    "import pandas as pd\n",
    "import scipy.sparse as sps\n",
    "from scipy.sparse import vstack, csr_matrix\n",
    "from scipy.stats import loguniform\n",
    "from lightfm import LightFM\n",
    "from lightfm.evaluation import auc_score, precision_at_k\n",
    "import matplotlib.pyplot as plt\n",
    "from multiprocessing import cpu_count"
   ]
  },
  {
   "cell_type": "code",
   "execution_count": 11,
   "metadata": {
    "execution": {
     "iopub.execute_input": "2023-12-20T14:30:56.710313Z",
     "iopub.status.busy": "2023-12-20T14:30:56.709835Z",
     "iopub.status.idle": "2023-12-20T14:30:57.481343Z",
     "shell.execute_reply": "2023-12-20T14:30:57.480376Z",
     "shell.execute_reply.started": "2023-12-20T14:30:56.710281Z"
    }
   },
   "outputs": [],
   "source": [
    "from Recommenders.BaseRecommender import BaseRecommender\n",
    "from Recommenders.BaseMatrixFactorizationRecommender import BaseMatrixFactorizationRecommender\n",
    "from Recommenders.NonPersonalizedRecommender import TopPop\n",
    "\n",
    "#---- CF\n",
    "from Recommenders.KNN.ItemKNNCFRecommender import ItemKNNCFRecommender\n",
    "from Recommenders.KNN.UserKNNCFRecommender import UserKNNCFRecommender\n",
    "from Recommenders.GraphBased.RP3betaRecommender import RP3betaRecommender\n",
    "from Recommenders.KNN.ItemKNNCustomSimilarityRecommender import ItemKNNCustomSimilarityRecommender\n",
    "\n",
    "#---- Matrix Factorization\n",
    "from Recommenders.MatrixFactorization.NMFRecommender import NMFRecommender\n",
    "\n",
    "#---- CF w/ ML\n",
    "from Recommenders.SLIM.SLIMElasticNetRecommender import SLIMElasticNetRecommender, MultiThreadSLIM_SLIMElasticNetRecommender\n",
    "from implicit.als import AlternatingLeastSquares\n",
    "\n",
    "#---- Others\n",
    "from Data_manager.split_functions.split_train_validation_random_holdout import split_train_in_two_percentage_global_sample\n",
    "from Evaluation.Evaluator import EvaluatorHoldout\n",
    "from Recommenders.Recommender_utils import check_matrix"
   ]
  },
  {
   "cell_type": "code",
   "execution_count": 12,
   "metadata": {
    "execution": {
     "iopub.execute_input": "2023-12-20T14:30:57.903535Z",
     "iopub.status.busy": "2023-12-20T14:30:57.902841Z",
     "iopub.status.idle": "2023-12-20T14:30:57.908191Z",
     "shell.execute_reply": "2023-12-20T14:30:57.907117Z",
     "shell.execute_reply.started": "2023-12-20T14:30:57.903501Z"
    }
   },
   "outputs": [],
   "source": [
    "seed = 69\n",
    "np.random.seed(seed)"
   ]
  },
  {
   "cell_type": "markdown",
   "metadata": {},
   "source": [
    "# Data Import and Preprocessing"
   ]
  },
  {
   "cell_type": "code",
   "execution_count": 13,
   "metadata": {
    "execution": {
     "iopub.execute_input": "2023-12-20T14:30:59.028767Z",
     "iopub.status.busy": "2023-12-20T14:30:59.027923Z",
     "iopub.status.idle": "2023-12-20T14:31:02.023294Z",
     "shell.execute_reply": "2023-12-20T14:31:02.022449Z",
     "shell.execute_reply.started": "2023-12-20T14:30:59.028731Z"
    }
   },
   "outputs": [],
   "source": [
    "# Import training data\n",
    "URM_path = \"../input/data-book/data_train.csv\"\n",
    "URM_all_dataframe = pd.read_csv(filepath_or_buffer=URM_path,\n",
    "                                header=0,\n",
    "                                dtype={0:int, 1:int, 2:int},\n",
    "                                engine='python')\n",
    "\n",
    "URM_all_dataframe.columns = [\"user_id\", \"item_id\", \"interaction\"]"
   ]
  },
  {
   "cell_type": "code",
   "execution_count": 14,
   "metadata": {
    "execution": {
     "iopub.execute_input": "2023-12-20T14:31:02.025129Z",
     "iopub.status.busy": "2023-12-20T14:31:02.024829Z",
     "iopub.status.idle": "2023-12-20T14:31:02.092036Z",
     "shell.execute_reply": "2023-12-20T14:31:02.091119Z",
     "shell.execute_reply.started": "2023-12-20T14:31:02.025104Z"
    }
   },
   "outputs": [
    {
     "data": {
      "text/html": [
       "<div>\n",
       "<style scoped>\n",
       "    .dataframe tbody tr th:only-of-type {\n",
       "        vertical-align: middle;\n",
       "    }\n",
       "\n",
       "    .dataframe tbody tr th {\n",
       "        vertical-align: top;\n",
       "    }\n",
       "\n",
       "    .dataframe thead th {\n",
       "        text-align: right;\n",
       "    }\n",
       "</style>\n",
       "<table border=\"1\" class=\"dataframe\">\n",
       "  <thead>\n",
       "    <tr style=\"text-align: right;\">\n",
       "      <th></th>\n",
       "      <th>user_id</th>\n",
       "    </tr>\n",
       "  </thead>\n",
       "  <tbody>\n",
       "    <tr>\n",
       "      <th>0</th>\n",
       "      <td>1</td>\n",
       "    </tr>\n",
       "    <tr>\n",
       "      <th>1</th>\n",
       "      <td>2</td>\n",
       "    </tr>\n",
       "    <tr>\n",
       "      <th>2</th>\n",
       "      <td>3</td>\n",
       "    </tr>\n",
       "    <tr>\n",
       "      <th>3</th>\n",
       "      <td>4</td>\n",
       "    </tr>\n",
       "    <tr>\n",
       "      <th>4</th>\n",
       "      <td>5</td>\n",
       "    </tr>\n",
       "    <tr>\n",
       "      <th>...</th>\n",
       "      <td>...</td>\n",
       "    </tr>\n",
       "    <tr>\n",
       "      <th>10877</th>\n",
       "      <td>13020</td>\n",
       "    </tr>\n",
       "    <tr>\n",
       "      <th>10878</th>\n",
       "      <td>13021</td>\n",
       "    </tr>\n",
       "    <tr>\n",
       "      <th>10879</th>\n",
       "      <td>13022</td>\n",
       "    </tr>\n",
       "    <tr>\n",
       "      <th>10880</th>\n",
       "      <td>13023</td>\n",
       "    </tr>\n",
       "    <tr>\n",
       "      <th>10881</th>\n",
       "      <td>13024</td>\n",
       "    </tr>\n",
       "  </tbody>\n",
       "</table>\n",
       "<p>10882 rows × 1 columns</p>\n",
       "</div>"
      ],
      "text/plain": [
       "       user_id\n",
       "0            1\n",
       "1            2\n",
       "2            3\n",
       "3            4\n",
       "4            5\n",
       "...        ...\n",
       "10877    13020\n",
       "10878    13021\n",
       "10879    13022\n",
       "10880    13023\n",
       "10881    13024\n",
       "\n",
       "[10882 rows x 1 columns]"
      ]
     },
     "execution_count": 14,
     "metadata": {},
     "output_type": "execute_result"
    }
   ],
   "source": [
    "# Import target users\n",
    "target_path = \"../input/data-book/data_target_users_test.csv\"\n",
    "target_dataframe= pd.read_csv(filepath_or_buffer=target_path,\n",
    "                                header=0,\n",
    "                                dtype={0:int},\n",
    "                                engine='python')\n",
    "target_dataframe.columns = [\"user_id\"]\n",
    "target_dataframe"
   ]
  },
  {
   "cell_type": "code",
   "execution_count": 15,
   "metadata": {
    "execution": {
     "iopub.execute_input": "2023-12-20T14:31:02.093610Z",
     "iopub.status.busy": "2023-12-20T14:31:02.093247Z",
     "iopub.status.idle": "2023-12-20T14:31:02.101603Z",
     "shell.execute_reply": "2023-12-20T14:31:02.100734Z",
     "shell.execute_reply.started": "2023-12-20T14:31:02.093575Z"
    }
   },
   "outputs": [],
   "source": [
    "def preprocess_data(ratings: pd.DataFrame):\n",
    "    unique_users = ratings.user_id.unique()\n",
    "    unique_items = ratings.item_id.unique()\n",
    "\n",
    "    num_users, min_user_id, max_user_id = unique_users.size, unique_users.min(), unique_users.max()\n",
    "    num_items, min_item_id, max_item_id = unique_items.size, unique_items.min(), unique_items.max()\n",
    "\n",
    "    print(num_users, min_user_id, max_user_id)\n",
    "    print(num_items, min_item_id, max_item_id)\n",
    "\n",
    "    mapping_user_id = pd.DataFrame({\"mapped_user_id\": np.arange(num_users), \"user_id\": unique_users})\n",
    "    mapping_item_id = pd.DataFrame({\"mapped_item_id\": np.arange(num_items), \"item_id\": unique_items})\n",
    "\n",
    "    ratings = pd.merge(left=ratings,\n",
    "                       right=mapping_user_id,\n",
    "                       how=\"inner\",\n",
    "                       on=\"user_id\")\n",
    "\n",
    "    ratings = pd.merge(left=ratings,\n",
    "                       right=mapping_item_id,\n",
    "                       how=\"inner\",\n",
    "                       on=\"item_id\")\n",
    "\n",
    "    return ratings"
   ]
  },
  {
   "cell_type": "code",
   "execution_count": 16,
   "metadata": {
    "execution": {
     "iopub.execute_input": "2023-12-20T14:31:02.104488Z",
     "iopub.status.busy": "2023-12-20T14:31:02.103739Z",
     "iopub.status.idle": "2023-12-20T14:31:02.237500Z",
     "shell.execute_reply": "2023-12-20T14:31:02.236568Z",
     "shell.execute_reply.started": "2023-12-20T14:31:02.104456Z"
    }
   },
   "outputs": [
    {
     "name": "stdout",
     "output_type": "stream",
     "text": [
      "12638 1 13024\n",
      "22222 1 22347\n"
     ]
    }
   ],
   "source": [
    "# Call preprocess data function\n",
    "ratings = preprocess_data(URM_all_dataframe)"
   ]
  },
  {
   "cell_type": "markdown",
   "metadata": {},
   "source": [
    "## Conversion to Sparse Matrix"
   ]
  },
  {
   "cell_type": "code",
   "execution_count": 17,
   "metadata": {
    "execution": {
     "iopub.execute_input": "2023-12-20T14:31:02.928519Z",
     "iopub.status.busy": "2023-12-20T14:31:02.927750Z",
     "iopub.status.idle": "2023-12-20T14:31:02.935803Z",
     "shell.execute_reply": "2023-12-20T14:31:02.934730Z",
     "shell.execute_reply.started": "2023-12-20T14:31:02.928487Z"
    }
   },
   "outputs": [],
   "source": [
    "URM = sps.coo_matrix((ratings.interaction.values, (ratings.mapped_user_id.values, ratings.mapped_item_id.values)))"
   ]
  },
  {
   "cell_type": "markdown",
   "metadata": {},
   "source": [
    "## Data Splits"
   ]
  },
  {
   "cell_type": "code",
   "execution_count": 18,
   "metadata": {
    "execution": {
     "iopub.execute_input": "2023-12-20T14:31:04.862842Z",
     "iopub.status.busy": "2023-12-20T14:31:04.862113Z",
     "iopub.status.idle": "2023-12-20T14:31:06.132351Z",
     "shell.execute_reply": "2023-12-20T14:31:06.131436Z",
     "shell.execute_reply.started": "2023-12-20T14:31:04.862808Z"
    }
   },
   "outputs": [
    {
     "name": "stdout",
     "output_type": "stream",
     "text": [
      "Warning: 240 (1.90 %) of 12638 users have no train items\n",
      "Warning: 2127 (16.83 %) of 12638 users have no sampled items\n",
      "EvaluatorHoldout: Ignoring 2127 (16.8%) Users that have less than 1 test interactions\n"
     ]
    }
   ],
   "source": [
    "#urm_train, urm_test= split_train_in_two_percentage_global_sample(URM, train_percentage = 0.80)\n",
    "urm_train, urm_validation = split_train_in_two_percentage_global_sample(URM, train_percentage = 0.80)\n",
    "\n",
    "evaluator_validation = EvaluatorHoldout(urm_validation, cutoff_list=[10])\n",
    "#evaluator_test = EvaluatorHoldout(urm_test, cutoff_list=[10])"
   ]
  },
  {
   "cell_type": "markdown",
   "metadata": {},
   "source": [
    "# **Custom Models**"
   ]
  },
  {
   "cell_type": "code",
   "execution_count": 19,
   "metadata": {
    "execution": {
     "iopub.execute_input": "2023-12-20T14:31:06.700787Z",
     "iopub.status.busy": "2023-12-20T14:31:06.700407Z",
     "iopub.status.idle": "2023-12-20T14:31:06.708585Z",
     "shell.execute_reply": "2023-12-20T14:31:06.707702Z",
     "shell.execute_reply.started": "2023-12-20T14:31:06.700756Z"
    }
   },
   "outputs": [],
   "source": [
    "class ScoresHybridRecommender(BaseRecommender):\n",
    "    \"\"\" ScoresHybridRecommender\n",
    "    Hybrid of two prediction scores R = R1*alpha + R2*(1-alpha)\n",
    "\n",
    "    \"\"\"\n",
    "\n",
    "    RECOMMENDER_NAME = \"ScoresHybridRecommender\"\n",
    "\n",
    "    def __init__(self, URM_train, recommender_1, recommender_2):\n",
    "        super(ScoresHybridRecommender, self).__init__(URM_train)\n",
    "\n",
    "        self.URM_train = sps.csr_matrix(URM_train)\n",
    "        self.recommender_1 = recommender_1\n",
    "        self.recommender_2 = recommender_2\n",
    "\n",
    "\n",
    "    def fit(self, alpha=0.5):\n",
    "        self.alpha = alpha\n",
    "\n",
    "    def _compute_item_score(self, user_id_array, items_to_compute):\n",
    "\n",
    "        # In a simple extension this could be a loop over a list of pretrained recommender objects\n",
    "        item_weights_1 = self.recommender_1._compute_item_score(user_id_array)\n",
    "        item_weights_2 = self.recommender_2._compute_item_score(user_id_array)\n",
    "\n",
    "        item_weights = item_weights_1*self.alpha + item_weights_2*(1-self.alpha)\n",
    "\n",
    "        return item_weights"
   ]
  },
  {
   "cell_type": "code",
   "execution_count": 20,
   "metadata": {
    "execution": {
     "iopub.execute_input": "2023-12-20T14:31:07.283850Z",
     "iopub.status.busy": "2023-12-20T14:31:07.283492Z",
     "iopub.status.idle": "2023-12-20T14:31:07.292983Z",
     "shell.execute_reply": "2023-12-20T14:31:07.292078Z",
     "shell.execute_reply.started": "2023-12-20T14:31:07.283820Z"
    }
   },
   "outputs": [],
   "source": [
    "class DifferentLossScoresHybridRecommender(BaseRecommender):\n",
    "    \"\"\" ScoresHybridRecommender\n",
    "    Hybrid of two prediction scores R = R1/norm*alpha + R2/norm*(1-alpha) where R1 and R2 come from\n",
    "    algorithms trained on different loss functions.\n",
    "\n",
    "    \"\"\"\n",
    "\n",
    "    RECOMMENDER_NAME = \"DifferentLossScoresHybridRecommender\"\n",
    "\n",
    "\n",
    "    def __init__(self, URM_train, recommender_1, recommender_2):\n",
    "        super(DifferentLossScoresHybridRecommender, self).__init__(URM_train)\n",
    "\n",
    "        self.URM_train = sps.csr_matrix(URM_train)\n",
    "        self.recommender_1 = recommender_1\n",
    "        self.recommender_2 = recommender_2\n",
    "        \n",
    "        \n",
    "        \n",
    "    def fit(self, norm, alpha = 0.5):\n",
    "\n",
    "        self.alpha = alpha\n",
    "        self.norm = norm\n",
    "\n",
    "\n",
    "    def _compute_item_score(self, user_id_array, items_to_compute):\n",
    "        \n",
    "        item_weights_1 = self.recommender_1._compute_item_score(user_id_array)\n",
    "        item_weights_2 = self.recommender_2._compute_item_score(user_id_array)\n",
    "\n",
    "        norm_item_weights_1 = LA.norm(item_weights_1, self.norm)\n",
    "        norm_item_weights_2 = LA.norm(item_weights_2, self.norm)\n",
    "        \n",
    "        \n",
    "        if norm_item_weights_1 == 0:\n",
    "            raise ValueError(\"Norm {} of item weights for recommender 1 is zero. Avoiding division by zero\".format(self.norm))\n",
    "        \n",
    "        if norm_item_weights_2 == 0:\n",
    "            raise ValueError(\"Norm {} of item weights for recommender 2 is zero. Avoiding division by zero\".format(self.norm))\n",
    "        \n",
    "        item_weights = item_weights_1 / norm_item_weights_1 * self.alpha + item_weights_2 / norm_item_weights_2 * (1-self.alpha)\n",
    "\n",
    "        return item_weights"
   ]
  },
  {
   "cell_type": "code",
   "execution_count": 21,
   "metadata": {
    "execution": {
     "iopub.execute_input": "2023-12-20T14:31:07.851643Z",
     "iopub.status.busy": "2023-12-20T14:31:07.851299Z",
     "iopub.status.idle": "2023-12-20T14:31:07.860385Z",
     "shell.execute_reply": "2023-12-20T14:31:07.859429Z",
     "shell.execute_reply.started": "2023-12-20T14:31:07.851616Z"
    }
   },
   "outputs": [],
   "source": [
    "class LightFMCFRecommender(BaseRecommender):\n",
    "    \"\"\"LightFMCFRecommender\"\"\"\n",
    "\n",
    "    RECOMMENDER_NAME = \"LightFMCFRecommender\"\n",
    "\n",
    "    def __init__(self, URM_train):\n",
    "        super(LightFMCFRecommender, self).__init__(URM_train)\n",
    "    \n",
    "    \n",
    "    def fit(self, epochs = 300, user_alpha=1e-6, item_alpha = 1e-6, n_factors = 10, n_threads = 4, max_sampled=3, loss='warp', learning_schedule='adagrad'):\n",
    "        \n",
    "        # Let's fit a WARP model\n",
    "        self.lightFM_model = LightFM(loss=loss,\n",
    "                                     user_alpha=user_alpha,\n",
    "                                     item_alpha=item_alpha,\n",
    "                                     no_components=n_factors,\n",
    "                                     max_sampled=max_sampled,\n",
    "                                     learning_schedule=learning_schedule)\n",
    "\n",
    "        self.lightFM_model = self.lightFM_model.fit(self.URM_train, \n",
    "                                       epochs=epochs,\n",
    "                                       num_threads=n_threads,\n",
    "                                       verbose=True)\n",
    "\n",
    "\n",
    "    def _compute_item_score(self, user_id_array, items_to_compute = None):\n",
    "        \n",
    "        # Create a single (n_items, ) array with the item score, then copy it for every user\n",
    "        items_to_compute = np.arange(self.n_items)\n",
    "        \n",
    "        item_scores = - np.ones((len(user_id_array), self.n_items)) * np.inf\n",
    "\n",
    "        for user_index, user_id in enumerate(user_id_array):\n",
    "            item_scores[user_index] = self.lightFM_model.predict(int(user_id), \n",
    "                                                                 items_to_compute)\n",
    "\n",
    "        return item_scores"
   ]
  },
  {
   "cell_type": "code",
   "execution_count": 22,
   "metadata": {
    "execution": {
     "iopub.execute_input": "2023-12-20T14:31:08.420642Z",
     "iopub.status.busy": "2023-12-20T14:31:08.419924Z",
     "iopub.status.idle": "2023-12-20T14:31:08.428512Z",
     "shell.execute_reply": "2023-12-20T14:31:08.427581Z",
     "shell.execute_reply.started": "2023-12-20T14:31:08.420609Z"
    }
   },
   "outputs": [],
   "source": [
    "class GeneralizedLinearHybridRecommender(BaseRecommender):\n",
    "    \"\"\"\n",
    "    This recommender merges N recommendes by weighting their ratings\n",
    "    \"\"\"\n",
    "\n",
    "    RECOMMENDER_NAME = \"GeneralizedLinearHybridRecommender\"\n",
    "\n",
    "    def __init__(self, URM_train, recommenders: list, verbose=True):\n",
    "        self.RECOMMENDER_NAME = ''\n",
    "        for recommender in recommenders:\n",
    "            self.RECOMMENDER_NAME = self.RECOMMENDER_NAME + recommender.RECOMMENDER_NAME[:-11]\n",
    "        self.RECOMMENDER_NAME = self.RECOMMENDER_NAME + 'HybridRecommender'\n",
    "\n",
    "        super(GeneralizedLinearHybridRecommender, self).__init__(URM_train, verbose=verbose)\n",
    "\n",
    "        self.recommenders = recommenders\n",
    "\n",
    "    def fit(self, alphas=None):\n",
    "        self.alphas = alphas\n",
    "\n",
    "    def save_model(self, folder_path, file_name=None):\n",
    "        pass\n",
    "\n",
    "    def _compute_item_score(self, user_id_array, items_to_compute=None):\n",
    "        result = self.alphas[0]*self.recommenders[0]._compute_item_score(user_id_array,items_to_compute)\n",
    "        for index in range(1,len(self.alphas)):\n",
    "            result = result + self.alphas[index]*self.recommenders[index]._compute_item_score(user_id_array,items_to_compute)\n",
    "        return result"
   ]
  },
  {
   "cell_type": "code",
   "execution_count": 23,
   "metadata": {
    "execution": {
     "iopub.execute_input": "2023-12-20T14:31:09.008808Z",
     "iopub.status.busy": "2023-12-20T14:31:09.007905Z",
     "iopub.status.idle": "2023-12-20T14:31:09.022470Z",
     "shell.execute_reply": "2023-12-20T14:31:09.021559Z",
     "shell.execute_reply.started": "2023-12-20T14:31:09.008772Z"
    }
   },
   "outputs": [],
   "source": [
    "class FastIALSRecommender(BaseMatrixFactorizationRecommender):\n",
    "    RECOMMENDER_NAME = \"FastIALSRecommender\"\n",
    "\n",
    "    AVAILABLE_CONFIDENCE_SCALING = [\"linear\", \"log\"]\n",
    "    \n",
    "    def __init__(self, URM_train, verbose=True):\n",
    "        super().__init__(URM_train, verbose=verbose)\n",
    "        \n",
    "    def fit(self,\n",
    "            factors=20,\n",
    "            regularization=1e-3,\n",
    "            iterations=100,\n",
    "            calculate_training_loss=False,\n",
    "            num_threads=0,\n",
    "            confidence_scaling='linear',\n",
    "            alpha=1.0,\n",
    "            epsilon=0,\n",
    "            #---- Do not change\n",
    "            use_native=True,\n",
    "            use_cg=True,\n",
    "            use_gpu=True):\n",
    "        if confidence_scaling not in self.AVAILABLE_CONFIDENCE_SCALING:\n",
    "           raise ValueError(\"Value for 'confidence_scaling' not recognized. Acceptable values are {}, provided was '{}'\".format(self.AVAILABLE_CONFIDENCE_SCALING, confidence_scaling))\n",
    "\n",
    "        self.alpha = alpha\n",
    "        self.epsilon = epsilon\n",
    "        self.num_factors = factors\n",
    "        self.reg = regularization\n",
    "        \n",
    "        self.USER_factors = self._init_factors(self.n_users, False)  # don't need values, will compute them\n",
    "        self.ITEM_factors = self._init_factors(self.n_items)\n",
    "        \n",
    "        self.recommender = AlternatingLeastSquares(factors=factors, regularization=regularization,\n",
    "                                                        use_native=use_native, use_cg=use_cg, use_gpu=use_gpu,\n",
    "                                                        iterations=iterations,\n",
    "                                                        calculate_training_loss=calculate_training_loss,\n",
    "                                                        num_threads=num_threads)\n",
    "        \n",
    "        self._build_confidence_matrix(confidence_scaling)\n",
    "        self.recommender.fit(self.C, show_progress=self.verbose)\n",
    "        \n",
    "        self.USER_factors = self.recommender.user_factors.to_numpy()\n",
    "        self.ITEM_factors = self.recommender.item_factors.to_numpy()\n",
    "        \n",
    "    \n",
    "    def _linear_scaling_confidence(self):\n",
    "\n",
    "        C = check_matrix(self.URM_train, format=\"csr\", dtype = np.float32)\n",
    "        C.data = 1.0 + self.alpha*C.data\n",
    "\n",
    "        return C\n",
    "\n",
    "    def _log_scaling_confidence(self):\n",
    "\n",
    "        C = check_matrix(self.URM_train, format=\"csr\", dtype = np.float32)\n",
    "        C.data = 1.0 + self.alpha * np.log(1.0 + C.data / self.epsilon)\n",
    "\n",
    "        return C\n",
    "    \n",
    "    def _build_confidence_matrix(self, confidence_scaling):\n",
    "\n",
    "        if confidence_scaling == 'linear':\n",
    "            self.C = self._linear_scaling_confidence()\n",
    "        else:\n",
    "            self.C = self._log_scaling_confidence()\n",
    "\n",
    "        self.C_csc= check_matrix(self.C.copy(), format=\"csc\", dtype = np.float32)\n",
    "    \n",
    "    def _init_factors(self, num_factors, assign_values=True):\n",
    "\n",
    "        if assign_values:\n",
    "            return self.num_factors**-0.5*np.random.random_sample((num_factors, self.num_factors))\n",
    "\n",
    "        else:\n",
    "            return np.empty((num_factors, self.num_factors))"
   ]
  },
  {
   "cell_type": "markdown",
   "metadata": {},
   "source": [
    "---"
   ]
  },
  {
   "cell_type": "markdown",
   "metadata": {},
   "source": [
    "# **Best Model Params**\n",
    "\n",
    "## **ATTENTION!!! Re-train the models in order to have the parameters tuned for recall**"
   ]
  },
  {
   "cell_type": "code",
   "execution_count": 24,
   "metadata": {
    "execution": {
     "iopub.execute_input": "2023-12-20T14:31:11.664334Z",
     "iopub.status.busy": "2023-12-20T14:31:11.663605Z",
     "iopub.status.idle": "2023-12-20T14:31:11.668471Z",
     "shell.execute_reply": "2023-12-20T14:31:11.667510Z",
     "shell.execute_reply.started": "2023-12-20T14:31:11.664301Z"
    }
   },
   "outputs": [],
   "source": [
    "ItemKNN_params = {\n",
    " 'topK': 21,\n",
    " 'shrink': 1462,\n",
    " 'similarity': 'tanimoto',\n",
    " 'normalize': False,\n",
    " 'feature_weighting': 'BM25'\n",
    "}"
   ]
  },
  {
   "cell_type": "code",
   "execution_count": 25,
   "metadata": {
    "execution": {
     "iopub.execute_input": "2023-12-20T14:31:11.847098Z",
     "iopub.status.busy": "2023-12-20T14:31:11.846460Z",
     "iopub.status.idle": "2023-12-20T14:31:11.851271Z",
     "shell.execute_reply": "2023-12-20T14:31:11.850426Z",
     "shell.execute_reply.started": "2023-12-20T14:31:11.847066Z"
    }
   },
   "outputs": [],
   "source": [
    "RP3Beta_params = {\n",
    " 'alpha': 0.3302958327908062,\n",
    " 'beta': 0.14271386569051958,\n",
    " 'topK': 29,\n",
    " 'normalize_similarity': True\n",
    "}"
   ]
  },
  {
   "cell_type": "code",
   "execution_count": 26,
   "metadata": {
    "execution": {
     "iopub.execute_input": "2023-12-20T14:31:12.021954Z",
     "iopub.status.busy": "2023-12-20T14:31:12.021212Z",
     "iopub.status.idle": "2023-12-20T14:31:12.025978Z",
     "shell.execute_reply": "2023-12-20T14:31:12.024923Z",
     "shell.execute_reply.started": "2023-12-20T14:31:12.021911Z"
    }
   },
   "outputs": [],
   "source": [
    "alpha_itemknn_rp3beta=0.7381515719042592"
   ]
  },
  {
   "cell_type": "code",
   "execution_count": 27,
   "metadata": {
    "execution": {
     "iopub.execute_input": "2023-12-20T14:31:12.200351Z",
     "iopub.status.busy": "2023-12-20T14:31:12.199991Z",
     "iopub.status.idle": "2023-12-20T14:31:12.204745Z",
     "shell.execute_reply": "2023-12-20T14:31:12.203776Z",
     "shell.execute_reply.started": "2023-12-20T14:31:12.200322Z"
    }
   },
   "outputs": [],
   "source": [
    "alpha_slim_rp3beta = 0.5356582511094522"
   ]
  },
  {
   "cell_type": "code",
   "execution_count": 28,
   "metadata": {
    "execution": {
     "iopub.execute_input": "2023-12-20T14:31:13.066925Z",
     "iopub.status.busy": "2023-12-20T14:31:13.066567Z",
     "iopub.status.idle": "2023-12-20T14:31:13.071492Z",
     "shell.execute_reply": "2023-12-20T14:31:13.070667Z",
     "shell.execute_reply.started": "2023-12-20T14:31:13.066897Z"
    }
   },
   "outputs": [],
   "source": [
    "UserKNN_params = {\n",
    " 'topK': 387,\n",
    " 'shrink': 1,\n",
    " 'similarity': 'cosine',\n",
    " 'normalize': True,\n",
    " 'feature_weighting': 'TF-IDF'\n",
    "}"
   ]
  },
  {
   "cell_type": "code",
   "execution_count": 29,
   "metadata": {
    "execution": {
     "iopub.execute_input": "2023-12-20T14:31:13.575580Z",
     "iopub.status.busy": "2023-12-20T14:31:13.574703Z",
     "iopub.status.idle": "2023-12-20T14:31:13.579974Z",
     "shell.execute_reply": "2023-12-20T14:31:13.578956Z",
     "shell.execute_reply.started": "2023-12-20T14:31:13.575546Z"
    }
   },
   "outputs": [],
   "source": [
    "LightFM_params = {\n",
    "                  'n_factors': 482,\n",
    "                  'max_sampled': 5,\n",
    "                  'user_alpha': 0.00023989649900734266,\n",
    "                  'item_alpha': 9.740651135253414e-05\n",
    "                 }"
   ]
  },
  {
   "cell_type": "code",
   "execution_count": 30,
   "metadata": {
    "execution": {
     "iopub.execute_input": "2023-12-20T14:31:13.897632Z",
     "iopub.status.busy": "2023-12-20T14:31:13.897291Z",
     "iopub.status.idle": "2023-12-20T14:31:13.902109Z",
     "shell.execute_reply": "2023-12-20T14:31:13.901166Z",
     "shell.execute_reply.started": "2023-12-20T14:31:13.897604Z"
    }
   },
   "outputs": [],
   "source": [
    "SLIM_params = {\n",
    " 'l1_ratio': 0.04324773367371399,\n",
    " 'alpha': 0.001220701931267383,\n",
    " 'topK': 971\n",
    "}"
   ]
  },
  {
   "cell_type": "code",
   "execution_count": 31,
   "metadata": {
    "execution": {
     "iopub.execute_input": "2023-12-20T14:31:14.334533Z",
     "iopub.status.busy": "2023-12-20T14:31:14.333819Z",
     "iopub.status.idle": "2023-12-20T14:31:14.338895Z",
     "shell.execute_reply": "2023-12-20T14:31:14.338066Z",
     "shell.execute_reply.started": "2023-12-20T14:31:14.334497Z"
    }
   },
   "outputs": [],
   "source": [
    "NMF_params = {\n",
    "    'l1_ratio': 0.005734775635120469,\n",
    "    'num_factors': 134,\n",
    "    'beta_loss': 'frobenius',\n",
    "    'init_type': 'nndsvda',\n",
    "    'solver': 'multiplicative_update'\n",
    "}"
   ]
  },
  {
   "cell_type": "code",
   "execution_count": 32,
   "metadata": {
    "execution": {
     "iopub.execute_input": "2023-12-20T14:31:14.679776Z",
     "iopub.status.busy": "2023-12-20T14:31:14.679409Z",
     "iopub.status.idle": "2023-12-20T14:31:14.684309Z",
     "shell.execute_reply": "2023-12-20T14:31:14.683438Z",
     "shell.execute_reply.started": "2023-12-20T14:31:14.679746Z"
    }
   },
   "outputs": [],
   "source": [
    "IALS_params = {\n",
    "'factors': 216, \n",
    "'confidence_scaling': 'linear', \n",
    "'alpha': 2.971319492415353, \n",
    "'epsilon': 0.27505837539726546, \n",
    "'regularization': 0.0062196937352773235\n",
    "}"
   ]
  },
  {
   "cell_type": "markdown",
   "metadata": {},
   "source": [
    "---"
   ]
  },
  {
   "cell_type": "markdown",
   "metadata": {},
   "source": [
    "## **Fit Models**"
   ]
  },
  {
   "cell_type": "code",
   "execution_count": 33,
   "metadata": {
    "execution": {
     "iopub.execute_input": "2023-12-20T14:31:16.932136Z",
     "iopub.status.busy": "2023-12-20T14:31:16.931424Z",
     "iopub.status.idle": "2023-12-20T14:31:21.034105Z",
     "shell.execute_reply": "2023-12-20T14:31:21.033162Z",
     "shell.execute_reply.started": "2023-12-20T14:31:16.932104Z"
    }
   },
   "outputs": [
    {
     "name": "stdout",
     "output_type": "stream",
     "text": [
      "ItemKNNCFRecommender: URM Detected 240 ( 1.9%) users with no interactions.\n",
      "ItemKNNCFRecommender: URM Detected 123 ( 0.6%) items with no interactions.\n",
      "Similarity column 22222 (100.0%), 5626.46 column/sec. Elapsed time 3.95 sec\n"
     ]
    }
   ],
   "source": [
    "itemKNNCF = ItemKNNCFRecommender(urm_train)\n",
    "itemKNNCF.fit(**ItemKNN_params)"
   ]
  },
  {
   "cell_type": "code",
   "execution_count": 34,
   "metadata": {
    "execution": {
     "iopub.execute_input": "2023-12-20T14:31:21.036101Z",
     "iopub.status.busy": "2023-12-20T14:31:21.035652Z",
     "iopub.status.idle": "2023-12-20T14:31:23.820538Z",
     "shell.execute_reply": "2023-12-20T14:31:23.819522Z",
     "shell.execute_reply.started": "2023-12-20T14:31:21.036075Z"
    }
   },
   "outputs": [
    {
     "name": "stdout",
     "output_type": "stream",
     "text": [
      "UserKNNCFRecommender: URM Detected 240 ( 1.9%) users with no interactions.\n",
      "UserKNNCFRecommender: URM Detected 123 ( 0.6%) items with no interactions.\n",
      "Similarity column 12638 (100.0%), 4914.91 column/sec. Elapsed time 2.57 sec\n"
     ]
    }
   ],
   "source": [
    "userKNNCF = UserKNNCFRecommender(urm_train)\n",
    "userKNNCF.fit(**UserKNN_params)"
   ]
  },
  {
   "cell_type": "code",
   "execution_count": 35,
   "metadata": {
    "execution": {
     "iopub.execute_input": "2023-12-20T14:31:23.822386Z",
     "iopub.status.busy": "2023-12-20T14:31:23.821779Z",
     "iopub.status.idle": "2023-12-20T14:31:36.905953Z",
     "shell.execute_reply": "2023-12-20T14:31:36.904988Z",
     "shell.execute_reply.started": "2023-12-20T14:31:23.822351Z"
    }
   },
   "outputs": [
    {
     "name": "stdout",
     "output_type": "stream",
     "text": [
      "RP3betaRecommender: URM Detected 240 ( 1.9%) users with no interactions.\n",
      "RP3betaRecommender: URM Detected 123 ( 0.6%) items with no interactions.\n",
      "RP3betaRecommender: Similarity column 22222 (100.0%), 1895.01 column/sec. Elapsed time 11.73 sec\n"
     ]
    }
   ],
   "source": [
    "rp3beta = RP3betaRecommender(urm_train)\n",
    "rp3beta.fit(**RP3Beta_params)"
   ]
  },
  {
   "cell_type": "code",
   "execution_count": 36,
   "metadata": {
    "execution": {
     "iopub.execute_input": "2023-12-20T14:31:36.908369Z",
     "iopub.status.busy": "2023-12-20T14:31:36.908055Z",
     "iopub.status.idle": "2023-12-20T14:52:13.915546Z",
     "shell.execute_reply": "2023-12-20T14:52:13.914426Z",
     "shell.execute_reply.started": "2023-12-20T14:31:36.908342Z"
    }
   },
   "outputs": [
    {
     "name": "stdout",
     "output_type": "stream",
     "text": [
      "SLIMElasticNetRecommender: URM Detected 240 ( 1.9%) users with no interactions.\n",
      "SLIMElasticNetRecommender: URM Detected 123 ( 0.6%) items with no interactions.\n"
     ]
    },
    {
     "name": "stderr",
     "output_type": "stream",
     "text": [
      "100%|█████████▉| 22216/22222 [20:36<00:00, 17.97it/s]\n"
     ]
    }
   ],
   "source": [
    "slim = MultiThreadSLIM_SLIMElasticNetRecommender(urm_train)\n",
    "slim.fit(**SLIM_params, workers = int(cpu_count()))"
   ]
  },
  {
   "cell_type": "code",
   "execution_count": 37,
   "metadata": {
    "execution": {
     "iopub.execute_input": "2023-12-20T14:52:13.918177Z",
     "iopub.status.busy": "2023-12-20T14:52:13.917249Z",
     "iopub.status.idle": "2023-12-20T14:52:19.489487Z",
     "shell.execute_reply": "2023-12-20T14:52:19.488698Z",
     "shell.execute_reply.started": "2023-12-20T14:52:13.918135Z"
    }
   },
   "outputs": [
    {
     "name": "stdout",
     "output_type": "stream",
     "text": [
      "FastIALSRecommender: URM Detected 240 ( 1.9%) users with no interactions.\n",
      "FastIALSRecommender: URM Detected 123 ( 0.6%) items with no interactions.\n"
     ]
    },
    {
     "data": {
      "application/vnd.jupyter.widget-view+json": {
       "model_id": "dc34fa5b41814359bd570ca1e6f752f2",
       "version_major": 2,
       "version_minor": 0
      },
      "text/plain": [
       "  0%|          | 0/100 [00:00<?, ?it/s]"
      ]
     },
     "metadata": {},
     "output_type": "display_data"
    }
   ],
   "source": [
    "ials = FastIALSRecommender(urm_train)\n",
    "ials.fit(**IALS_params)"
   ]
  },
  {
   "cell_type": "code",
   "execution_count": 38,
   "metadata": {
    "execution": {
     "iopub.execute_input": "2023-12-20T14:52:19.490836Z",
     "iopub.status.busy": "2023-12-20T14:52:19.490578Z",
     "iopub.status.idle": "2023-12-20T14:52:46.967319Z",
     "shell.execute_reply": "2023-12-20T14:52:46.965880Z",
     "shell.execute_reply.started": "2023-12-20T14:52:19.490813Z"
    }
   },
   "outputs": [
    {
     "name": "stdout",
     "output_type": "stream",
     "text": [
      "NMFRecommender: URM Detected 240 ( 1.9%) users with no interactions.\n",
      "NMFRecommender: URM Detected 123 ( 0.6%) items with no interactions.\n",
      "NMFRecommender: Computing NMF decomposition...\n",
      "NMFRecommender: Computing NMF decomposition... done in 27.45 sec\n"
     ]
    }
   ],
   "source": [
    "nmf = NMFRecommender(urm_train)\n",
    "nmf.fit(**NMF_params)"
   ]
  },
  {
   "cell_type": "code",
   "execution_count": 61,
   "metadata": {
    "execution": {
     "iopub.execute_input": "2023-12-20T15:02:54.296562Z",
     "iopub.status.busy": "2023-12-20T15:02:54.295734Z",
     "iopub.status.idle": "2023-12-20T15:02:54.391930Z",
     "shell.execute_reply": "2023-12-20T15:02:54.390992Z",
     "shell.execute_reply.started": "2023-12-20T15:02:54.296522Z"
    }
   },
   "outputs": [
    {
     "name": "stdout",
     "output_type": "stream",
     "text": [
      "ItemKNNCustomSimilarityRecommender: URM Detected 240 ( 1.9%) users with no interactions.\n",
      "ItemKNNCustomSimilarityRecommender: URM Detected 123 ( 0.6%) items with no interactions.\n"
     ]
    }
   ],
   "source": [
    "new_similarity = (1 - alpha_slim_rp3beta) * slim.W_sparse + alpha_slim_rp3beta * rp3beta.W_sparse\n",
    "    \n",
    "slim_rp3beta = ItemKNNCustomSimilarityRecommender(urm_train)\n",
    "slim_rp3beta.fit(new_similarity)"
   ]
  },
  {
   "cell_type": "code",
   "execution_count": 62,
   "metadata": {
    "execution": {
     "iopub.execute_input": "2023-12-20T15:02:56.230741Z",
     "iopub.status.busy": "2023-12-20T15:02:56.230377Z",
     "iopub.status.idle": "2023-12-20T15:02:56.254433Z",
     "shell.execute_reply": "2023-12-20T15:02:56.253473Z",
     "shell.execute_reply.started": "2023-12-20T15:02:56.230713Z"
    }
   },
   "outputs": [
    {
     "name": "stdout",
     "output_type": "stream",
     "text": [
      "ItemKNNCustomSimilarityRecommender: URM Detected 240 ( 1.9%) users with no interactions.\n",
      "ItemKNNCustomSimilarityRecommender: URM Detected 123 ( 0.6%) items with no interactions.\n"
     ]
    }
   ],
   "source": [
    "new_similarity = (1 - alpha_itemknn_rp3beta) * itemKNNCF.W_sparse + alpha_itemknn_rp3beta * rp3beta.W_sparse\n",
    "    \n",
    "slim_itemknn = ItemKNNCustomSimilarityRecommender(urm_train)\n",
    "slim_itemknn.fit(new_similarity)"
   ]
  },
  {
   "cell_type": "markdown",
   "metadata": {},
   "source": [
    "## **XGBoost**"
   ]
  },
  {
   "cell_type": "code",
   "execution_count": 41,
   "metadata": {
    "execution": {
     "iopub.execute_input": "2023-12-20T14:52:47.132513Z",
     "iopub.status.busy": "2023-12-20T14:52:47.132219Z",
     "iopub.status.idle": "2023-12-20T14:52:47.301787Z",
     "shell.execute_reply": "2023-12-20T14:52:47.300892Z",
     "shell.execute_reply.started": "2023-12-20T14:52:47.132488Z"
    }
   },
   "outputs": [],
   "source": [
    "from xgboost import XGBRanker\n",
    "from tqdm import tqdm "
   ]
  },
  {
   "cell_type": "code",
   "execution_count": 55,
   "metadata": {
    "execution": {
     "iopub.execute_input": "2023-12-20T14:56:59.419952Z",
     "iopub.status.busy": "2023-12-20T14:56:59.418930Z",
     "iopub.status.idle": "2023-12-20T14:56:59.425777Z",
     "shell.execute_reply": "2023-12-20T14:56:59.424757Z",
     "shell.execute_reply.started": "2023-12-20T14:56:59.419904Z"
    }
   },
   "outputs": [],
   "source": [
    "#create a df with size n_users\n",
    "n_users, n_items = urm_train.shape\n",
    "training_dataframe = pd.DataFrame(index=range(0,n_users), columns = [\"ItemID\"])\n",
    "training_dataframe.index.name='UserID'"
   ]
  },
  {
   "cell_type": "code",
   "execution_count": 56,
   "metadata": {
    "execution": {
     "iopub.execute_input": "2023-12-20T14:57:00.290116Z",
     "iopub.status.busy": "2023-12-20T14:57:00.289714Z",
     "iopub.status.idle": "2023-12-20T14:57:00.294516Z",
     "shell.execute_reply": "2023-12-20T14:57:00.293614Z",
     "shell.execute_reply.started": "2023-12-20T14:57:00.290085Z"
    }
   },
   "outputs": [],
   "source": [
    "cutoff = 30 #TODO: understand how much cutoff we need to select (piroparo? chi lo sa)"
   ]
  },
  {
   "cell_type": "code",
   "execution_count": 57,
   "metadata": {
    "execution": {
     "iopub.execute_input": "2023-12-20T14:57:01.331778Z",
     "iopub.status.busy": "2023-12-20T14:57:01.331098Z",
     "iopub.status.idle": "2023-12-20T14:57:11.762374Z",
     "shell.execute_reply": "2023-12-20T14:57:11.761454Z",
     "shell.execute_reply.started": "2023-12-20T14:57:01.331738Z"
    }
   },
   "outputs": [
    {
     "name": "stderr",
     "output_type": "stream",
     "text": [
      "100%|██████████| 12638/12638 [00:10<00:00, 1212.66it/s]\n"
     ]
    }
   ],
   "source": [
    "#create a row called ItemID in which to put recommendation list from a recommender \n",
    "#(in this case itemKNNCF). Probably is better to use as first one the recommender with higher score?? \n",
    "for user_id in tqdm(range(n_users)):    \n",
    "    recommendations = itemKNNCF.recommend(user_id, cutoff = cutoff)\n",
    "    training_dataframe.loc[user_id, \"ItemID\"] = recommendations"
   ]
  },
  {
   "cell_type": "code",
   "execution_count": 46,
   "metadata": {
    "execution": {
     "iopub.execute_input": "2023-12-20T14:53:22.242690Z",
     "iopub.status.busy": "2023-12-20T14:53:22.242344Z",
     "iopub.status.idle": "2023-12-20T14:53:22.259741Z",
     "shell.execute_reply": "2023-12-20T14:53:22.258783Z",
     "shell.execute_reply.started": "2023-12-20T14:53:22.242664Z"
    }
   },
   "outputs": [
    {
     "data": {
      "text/html": [
       "<div>\n",
       "<style scoped>\n",
       "    .dataframe tbody tr th:only-of-type {\n",
       "        vertical-align: middle;\n",
       "    }\n",
       "\n",
       "    .dataframe tbody tr th {\n",
       "        vertical-align: top;\n",
       "    }\n",
       "\n",
       "    .dataframe thead th {\n",
       "        text-align: right;\n",
       "    }\n",
       "</style>\n",
       "<table border=\"1\" class=\"dataframe\">\n",
       "  <thead>\n",
       "    <tr style=\"text-align: right;\">\n",
       "      <th></th>\n",
       "      <th>ItemID</th>\n",
       "    </tr>\n",
       "    <tr>\n",
       "      <th>UserID</th>\n",
       "      <th></th>\n",
       "    </tr>\n",
       "  </thead>\n",
       "  <tbody>\n",
       "    <tr>\n",
       "      <th>0</th>\n",
       "      <td>[1449, 1585, 1118, 462, 2755, 24, 674, 1089, 2...</td>\n",
       "    </tr>\n",
       "    <tr>\n",
       "      <th>1</th>\n",
       "      <td>[2548, 1831, 190, 518, 639, 1239, 46, 3119, 36...</td>\n",
       "    </tr>\n",
       "    <tr>\n",
       "      <th>2</th>\n",
       "      <td>[842, 1424, 135, 1427, 4506, 4502, 2545, 1430,...</td>\n",
       "    </tr>\n",
       "    <tr>\n",
       "      <th>3</th>\n",
       "      <td>[227, 812, 589, 841, 97, 2612, 815, 2426, 985,...</td>\n",
       "    </tr>\n",
       "    <tr>\n",
       "      <th>4</th>\n",
       "      <td>[4709, 950, 189, 952, 285, 1266, 954, 299, 431...</td>\n",
       "    </tr>\n",
       "    <tr>\n",
       "      <th>...</th>\n",
       "      <td>...</td>\n",
       "    </tr>\n",
       "    <tr>\n",
       "      <th>12633</th>\n",
       "      <td>[2807, 2809, 2811, 2818, 2810, 2817, 2815, 281...</td>\n",
       "    </tr>\n",
       "    <tr>\n",
       "      <th>12634</th>\n",
       "      <td>[3949, 11498, 954, 3955, 3957, 3942, 2810, 114...</td>\n",
       "    </tr>\n",
       "    <tr>\n",
       "      <th>12635</th>\n",
       "      <td>[248, 257, 470, 472, 259, 21814, 15770, 7047, ...</td>\n",
       "    </tr>\n",
       "    <tr>\n",
       "      <th>12636</th>\n",
       "      <td>[97, 562, 1558, 1559, 3010, 644, 600, 3184, 68...</td>\n",
       "    </tr>\n",
       "    <tr>\n",
       "      <th>12637</th>\n",
       "      <td>[367, 10906, 10901, 10902, 10908, 13252, 3866,...</td>\n",
       "    </tr>\n",
       "  </tbody>\n",
       "</table>\n",
       "<p>12638 rows × 1 columns</p>\n",
       "</div>"
      ],
      "text/plain": [
       "                                                   ItemID\n",
       "UserID                                                   \n",
       "0       [1449, 1585, 1118, 462, 2755, 24, 674, 1089, 2...\n",
       "1       [2548, 1831, 190, 518, 639, 1239, 46, 3119, 36...\n",
       "2       [842, 1424, 135, 1427, 4506, 4502, 2545, 1430,...\n",
       "3       [227, 812, 589, 841, 97, 2612, 815, 2426, 985,...\n",
       "4       [4709, 950, 189, 952, 285, 1266, 954, 299, 431...\n",
       "...                                                   ...\n",
       "12633   [2807, 2809, 2811, 2818, 2810, 2817, 2815, 281...\n",
       "12634   [3949, 11498, 954, 3955, 3957, 3942, 2810, 114...\n",
       "12635   [248, 257, 470, 472, 259, 21814, 15770, 7047, ...\n",
       "12636   [97, 562, 1558, 1559, 3010, 644, 600, 3184, 68...\n",
       "12637   [367, 10906, 10901, 10902, 10908, 13252, 3866,...\n",
       "\n",
       "[12638 rows x 1 columns]"
      ]
     },
     "execution_count": 46,
     "metadata": {},
     "output_type": "execute_result"
    }
   ],
   "source": [
    "training_dataframe"
   ]
  },
  {
   "cell_type": "code",
   "execution_count": 58,
   "metadata": {
    "execution": {
     "iopub.execute_input": "2023-12-20T14:57:11.764326Z",
     "iopub.status.busy": "2023-12-20T14:57:11.764065Z",
     "iopub.status.idle": "2023-12-20T14:57:11.815515Z",
     "shell.execute_reply": "2023-12-20T14:57:11.814579Z",
     "shell.execute_reply.started": "2023-12-20T14:57:11.764303Z"
    }
   },
   "outputs": [
    {
     "data": {
      "text/html": [
       "<div>\n",
       "<style scoped>\n",
       "    .dataframe tbody tr th:only-of-type {\n",
       "        vertical-align: middle;\n",
       "    }\n",
       "\n",
       "    .dataframe tbody tr th {\n",
       "        vertical-align: top;\n",
       "    }\n",
       "\n",
       "    .dataframe thead th {\n",
       "        text-align: right;\n",
       "    }\n",
       "</style>\n",
       "<table border=\"1\" class=\"dataframe\">\n",
       "  <thead>\n",
       "    <tr style=\"text-align: right;\">\n",
       "      <th></th>\n",
       "      <th>ItemID</th>\n",
       "    </tr>\n",
       "    <tr>\n",
       "      <th>UserID</th>\n",
       "      <th></th>\n",
       "    </tr>\n",
       "  </thead>\n",
       "  <tbody>\n",
       "    <tr>\n",
       "      <th>0</th>\n",
       "      <td>1449</td>\n",
       "    </tr>\n",
       "    <tr>\n",
       "      <th>0</th>\n",
       "      <td>1585</td>\n",
       "    </tr>\n",
       "    <tr>\n",
       "      <th>0</th>\n",
       "      <td>1118</td>\n",
       "    </tr>\n",
       "    <tr>\n",
       "      <th>0</th>\n",
       "      <td>462</td>\n",
       "    </tr>\n",
       "    <tr>\n",
       "      <th>0</th>\n",
       "      <td>2755</td>\n",
       "    </tr>\n",
       "    <tr>\n",
       "      <th>...</th>\n",
       "      <td>...</td>\n",
       "    </tr>\n",
       "    <tr>\n",
       "      <th>12637</th>\n",
       "      <td>371</td>\n",
       "    </tr>\n",
       "    <tr>\n",
       "      <th>12637</th>\n",
       "      <td>823</td>\n",
       "    </tr>\n",
       "    <tr>\n",
       "      <th>12637</th>\n",
       "      <td>3573</td>\n",
       "    </tr>\n",
       "    <tr>\n",
       "      <th>12637</th>\n",
       "      <td>327</td>\n",
       "    </tr>\n",
       "    <tr>\n",
       "      <th>12637</th>\n",
       "      <td>3024</td>\n",
       "    </tr>\n",
       "  </tbody>\n",
       "</table>\n",
       "<p>379140 rows × 1 columns</p>\n",
       "</div>"
      ],
      "text/plain": [
       "       ItemID\n",
       "UserID       \n",
       "0        1449\n",
       "0        1585\n",
       "0        1118\n",
       "0         462\n",
       "0        2755\n",
       "...       ...\n",
       "12637     371\n",
       "12637     823\n",
       "12637    3573\n",
       "12637     327\n",
       "12637    3024\n",
       "\n",
       "[379140 rows x 1 columns]"
      ]
     },
     "execution_count": 58,
     "metadata": {},
     "output_type": "execute_result"
    }
   ],
   "source": [
    "# explode each row by itemID, so that we don't have a list anymore, but a \"touple\" user-item for each recommendation\n",
    "training_dataframe = training_dataframe.explode(\"ItemID\")\n",
    "training_dataframe"
   ]
  },
  {
   "cell_type": "code",
   "execution_count": 59,
   "metadata": {
    "execution": {
     "iopub.execute_input": "2023-12-20T14:57:11.817056Z",
     "iopub.status.busy": "2023-12-20T14:57:11.816737Z",
     "iopub.status.idle": "2023-12-20T14:57:11.828811Z",
     "shell.execute_reply": "2023-12-20T14:57:11.827873Z",
     "shell.execute_reply.started": "2023-12-20T14:57:11.817029Z"
    }
   },
   "outputs": [
    {
     "data": {
      "text/html": [
       "<div>\n",
       "<style scoped>\n",
       "    .dataframe tbody tr th:only-of-type {\n",
       "        vertical-align: middle;\n",
       "    }\n",
       "\n",
       "    .dataframe tbody tr th {\n",
       "        vertical-align: top;\n",
       "    }\n",
       "\n",
       "    .dataframe thead th {\n",
       "        text-align: right;\n",
       "    }\n",
       "</style>\n",
       "<table border=\"1\" class=\"dataframe\">\n",
       "  <thead>\n",
       "    <tr style=\"text-align: right;\">\n",
       "      <th></th>\n",
       "      <th>UserID</th>\n",
       "      <th>ItemID</th>\n",
       "    </tr>\n",
       "  </thead>\n",
       "  <tbody>\n",
       "    <tr>\n",
       "      <th>0</th>\n",
       "      <td>0</td>\n",
       "      <td>0</td>\n",
       "    </tr>\n",
       "    <tr>\n",
       "      <th>1</th>\n",
       "      <td>0</td>\n",
       "      <td>1</td>\n",
       "    </tr>\n",
       "    <tr>\n",
       "      <th>2</th>\n",
       "      <td>0</td>\n",
       "      <td>2</td>\n",
       "    </tr>\n",
       "    <tr>\n",
       "      <th>3</th>\n",
       "      <td>0</td>\n",
       "      <td>3</td>\n",
       "    </tr>\n",
       "    <tr>\n",
       "      <th>4</th>\n",
       "      <td>0</td>\n",
       "      <td>10</td>\n",
       "    </tr>\n",
       "    <tr>\n",
       "      <th>...</th>\n",
       "      <td>...</td>\n",
       "      <td>...</td>\n",
       "    </tr>\n",
       "    <tr>\n",
       "      <th>95741</th>\n",
       "      <td>12637</td>\n",
       "      <td>3866</td>\n",
       "    </tr>\n",
       "    <tr>\n",
       "      <th>95742</th>\n",
       "      <td>12637</td>\n",
       "      <td>9770</td>\n",
       "    </tr>\n",
       "    <tr>\n",
       "      <th>95743</th>\n",
       "      <td>12637</td>\n",
       "      <td>11115</td>\n",
       "    </tr>\n",
       "    <tr>\n",
       "      <th>95744</th>\n",
       "      <td>12637</td>\n",
       "      <td>13250</td>\n",
       "    </tr>\n",
       "    <tr>\n",
       "      <th>95745</th>\n",
       "      <td>12637</td>\n",
       "      <td>18422</td>\n",
       "    </tr>\n",
       "  </tbody>\n",
       "</table>\n",
       "<p>95746 rows × 2 columns</p>\n",
       "</div>"
      ],
      "text/plain": [
       "       UserID  ItemID\n",
       "0           0       0\n",
       "1           0       1\n",
       "2           0       2\n",
       "3           0       3\n",
       "4           0      10\n",
       "...       ...     ...\n",
       "95741   12637    3866\n",
       "95742   12637    9770\n",
       "95743   12637   11115\n",
       "95744   12637   13250\n",
       "95745   12637   18422\n",
       "\n",
       "[95746 rows x 2 columns]"
      ]
     },
     "execution_count": 59,
     "metadata": {},
     "output_type": "execute_result"
    }
   ],
   "source": [
    "# compute the correct recommendations from the validation URM\n",
    "urm_validation_coo = sps.coo_matrix(urm_validation)\n",
    "\n",
    "correct_recommendations = pd.DataFrame({\"UserID\": urm_validation_coo.row,\n",
    "                                        \"ItemID\": urm_validation_coo.col})\n",
    "correct_recommendations"
   ]
  },
  {
   "cell_type": "code",
   "execution_count": 60,
   "metadata": {
    "execution": {
     "iopub.execute_input": "2023-12-20T14:57:11.831115Z",
     "iopub.status.busy": "2023-12-20T14:57:11.830804Z",
     "iopub.status.idle": "2023-12-20T14:57:12.054990Z",
     "shell.execute_reply": "2023-12-20T14:57:12.054091Z",
     "shell.execute_reply.started": "2023-12-20T14:57:11.831073Z"
    }
   },
   "outputs": [
    {
     "data": {
      "text/html": [
       "<div>\n",
       "<style scoped>\n",
       "    .dataframe tbody tr th:only-of-type {\n",
       "        vertical-align: middle;\n",
       "    }\n",
       "\n",
       "    .dataframe tbody tr th {\n",
       "        vertical-align: top;\n",
       "    }\n",
       "\n",
       "    .dataframe thead th {\n",
       "        text-align: right;\n",
       "    }\n",
       "</style>\n",
       "<table border=\"1\" class=\"dataframe\">\n",
       "  <thead>\n",
       "    <tr style=\"text-align: right;\">\n",
       "      <th></th>\n",
       "      <th>UserID</th>\n",
       "      <th>ItemID</th>\n",
       "      <th>Label</th>\n",
       "    </tr>\n",
       "  </thead>\n",
       "  <tbody>\n",
       "    <tr>\n",
       "      <th>0</th>\n",
       "      <td>0</td>\n",
       "      <td>1449</td>\n",
       "      <td>False</td>\n",
       "    </tr>\n",
       "    <tr>\n",
       "      <th>1</th>\n",
       "      <td>0</td>\n",
       "      <td>1585</td>\n",
       "      <td>False</td>\n",
       "    </tr>\n",
       "    <tr>\n",
       "      <th>2</th>\n",
       "      <td>0</td>\n",
       "      <td>1118</td>\n",
       "      <td>False</td>\n",
       "    </tr>\n",
       "    <tr>\n",
       "      <th>3</th>\n",
       "      <td>0</td>\n",
       "      <td>462</td>\n",
       "      <td>False</td>\n",
       "    </tr>\n",
       "    <tr>\n",
       "      <th>4</th>\n",
       "      <td>0</td>\n",
       "      <td>2755</td>\n",
       "      <td>False</td>\n",
       "    </tr>\n",
       "    <tr>\n",
       "      <th>...</th>\n",
       "      <td>...</td>\n",
       "      <td>...</td>\n",
       "      <td>...</td>\n",
       "    </tr>\n",
       "    <tr>\n",
       "      <th>379135</th>\n",
       "      <td>12637</td>\n",
       "      <td>371</td>\n",
       "      <td>False</td>\n",
       "    </tr>\n",
       "    <tr>\n",
       "      <th>379136</th>\n",
       "      <td>12637</td>\n",
       "      <td>823</td>\n",
       "      <td>True</td>\n",
       "    </tr>\n",
       "    <tr>\n",
       "      <th>379137</th>\n",
       "      <td>12637</td>\n",
       "      <td>3573</td>\n",
       "      <td>False</td>\n",
       "    </tr>\n",
       "    <tr>\n",
       "      <th>379138</th>\n",
       "      <td>12637</td>\n",
       "      <td>327</td>\n",
       "      <td>False</td>\n",
       "    </tr>\n",
       "    <tr>\n",
       "      <th>379139</th>\n",
       "      <td>12637</td>\n",
       "      <td>3024</td>\n",
       "      <td>False</td>\n",
       "    </tr>\n",
       "  </tbody>\n",
       "</table>\n",
       "<p>379140 rows × 3 columns</p>\n",
       "</div>"
      ],
      "text/plain": [
       "        UserID ItemID  Label\n",
       "0            0   1449  False\n",
       "1            0   1585  False\n",
       "2            0   1118  False\n",
       "3            0    462  False\n",
       "4            0   2755  False\n",
       "...        ...    ...    ...\n",
       "379135   12637    371  False\n",
       "379136   12637    823   True\n",
       "379137   12637   3573  False\n",
       "379138   12637    327  False\n",
       "379139   12637   3024  False\n",
       "\n",
       "[379140 rows x 3 columns]"
      ]
     },
     "execution_count": 60,
     "metadata": {},
     "output_type": "execute_result"
    }
   ],
   "source": [
    "# merge the correct recommendation to the main df. Label == true if there the recommendation is present in both the correct recommendation and predicted values\n",
    "training_dataframe = pd.merge(training_dataframe, correct_recommendations, on=['UserID','ItemID'], how='left', indicator='Exist')\n",
    "training_dataframe[\"Label\"] = training_dataframe[\"Exist\"] == \"both\"\n",
    "training_dataframe.drop(columns = ['Exist'], inplace=True)\n",
    "training_dataframe"
   ]
  },
  {
   "cell_type": "code",
   "execution_count": 53,
   "metadata": {
    "execution": {
     "iopub.execute_input": "2023-12-20T14:55:48.114733Z",
     "iopub.status.busy": "2023-12-20T14:55:48.113794Z",
     "iopub.status.idle": "2023-12-20T14:55:48.125506Z",
     "shell.execute_reply": "2023-12-20T14:55:48.124515Z",
     "shell.execute_reply.started": "2023-12-20T14:55:48.114699Z"
    }
   },
   "outputs": [
    {
     "data": {
      "text/html": [
       "<div>\n",
       "<style scoped>\n",
       "    .dataframe tbody tr th:only-of-type {\n",
       "        vertical-align: middle;\n",
       "    }\n",
       "\n",
       "    .dataframe tbody tr th {\n",
       "        vertical-align: top;\n",
       "    }\n",
       "\n",
       "    .dataframe thead th {\n",
       "        text-align: right;\n",
       "    }\n",
       "</style>\n",
       "<table border=\"1\" class=\"dataframe\">\n",
       "  <thead>\n",
       "    <tr style=\"text-align: right;\">\n",
       "      <th></th>\n",
       "      <th>ItemID</th>\n",
       "      <th>Label</th>\n",
       "    </tr>\n",
       "    <tr>\n",
       "      <th>UserID</th>\n",
       "      <th></th>\n",
       "      <th></th>\n",
       "    </tr>\n",
       "  </thead>\n",
       "  <tbody>\n",
       "    <tr>\n",
       "      <th>0</th>\n",
       "      <td>1449</td>\n",
       "      <td>False</td>\n",
       "    </tr>\n",
       "    <tr>\n",
       "      <th>0</th>\n",
       "      <td>1585</td>\n",
       "      <td>False</td>\n",
       "    </tr>\n",
       "    <tr>\n",
       "      <th>0</th>\n",
       "      <td>1118</td>\n",
       "      <td>False</td>\n",
       "    </tr>\n",
       "    <tr>\n",
       "      <th>0</th>\n",
       "      <td>462</td>\n",
       "      <td>False</td>\n",
       "    </tr>\n",
       "    <tr>\n",
       "      <th>0</th>\n",
       "      <td>2755</td>\n",
       "      <td>False</td>\n",
       "    </tr>\n",
       "    <tr>\n",
       "      <th>...</th>\n",
       "      <td>...</td>\n",
       "      <td>...</td>\n",
       "    </tr>\n",
       "    <tr>\n",
       "      <th>12637</th>\n",
       "      <td>371</td>\n",
       "      <td>False</td>\n",
       "    </tr>\n",
       "    <tr>\n",
       "      <th>12637</th>\n",
       "      <td>823</td>\n",
       "      <td>True</td>\n",
       "    </tr>\n",
       "    <tr>\n",
       "      <th>12637</th>\n",
       "      <td>3573</td>\n",
       "      <td>False</td>\n",
       "    </tr>\n",
       "    <tr>\n",
       "      <th>12637</th>\n",
       "      <td>327</td>\n",
       "      <td>False</td>\n",
       "    </tr>\n",
       "    <tr>\n",
       "      <th>12637</th>\n",
       "      <td>3024</td>\n",
       "      <td>False</td>\n",
       "    </tr>\n",
       "  </tbody>\n",
       "</table>\n",
       "<p>379140 rows × 2 columns</p>\n",
       "</div>"
      ],
      "text/plain": [
       "       ItemID  Label\n",
       "UserID              \n",
       "0        1449  False\n",
       "0        1585  False\n",
       "0        1118  False\n",
       "0         462  False\n",
       "0        2755  False\n",
       "...       ...    ...\n",
       "12637     371  False\n",
       "12637     823   True\n",
       "12637    3573  False\n",
       "12637     327  False\n",
       "12637    3024  False\n",
       "\n",
       "[379140 rows x 2 columns]"
      ]
     },
     "execution_count": 53,
     "metadata": {},
     "output_type": "execute_result"
    }
   ],
   "source": [
    "training_dataframe"
   ]
  },
  {
   "cell_type": "code",
   "execution_count": 63,
   "metadata": {
    "execution": {
     "iopub.execute_input": "2023-12-20T15:03:13.434484Z",
     "iopub.status.busy": "2023-12-20T15:03:13.434077Z",
     "iopub.status.idle": "2023-12-20T15:04:33.188262Z",
     "shell.execute_reply": "2023-12-20T15:04:33.187336Z",
     "shell.execute_reply.started": "2023-12-20T15:03:13.434453Z"
    }
   },
   "outputs": [
    {
     "name": "stderr",
     "output_type": "stream",
     "text": [
      "100%|██████████| 12638/12638 [01:19<00:00, 158.59it/s]\n"
     ]
    },
    {
     "data": {
      "text/html": [
       "<div>\n",
       "<style scoped>\n",
       "    .dataframe tbody tr th:only-of-type {\n",
       "        vertical-align: middle;\n",
       "    }\n",
       "\n",
       "    .dataframe tbody tr th {\n",
       "        vertical-align: top;\n",
       "    }\n",
       "\n",
       "    .dataframe thead th {\n",
       "        text-align: right;\n",
       "    }\n",
       "</style>\n",
       "<table border=\"1\" class=\"dataframe\">\n",
       "  <thead>\n",
       "    <tr style=\"text-align: right;\">\n",
       "      <th></th>\n",
       "      <th>UserID</th>\n",
       "      <th>ItemID</th>\n",
       "      <th>Label</th>\n",
       "      <th>RP3beta</th>\n",
       "      <th>UserKNNCF</th>\n",
       "      <th>SLIM</th>\n",
       "      <th>NMF</th>\n",
       "      <th>IALS</th>\n",
       "      <th>SLIM + RP3beta</th>\n",
       "      <th>SLIM + ItemKNNCF</th>\n",
       "    </tr>\n",
       "  </thead>\n",
       "  <tbody>\n",
       "    <tr>\n",
       "      <th>0</th>\n",
       "      <td>0</td>\n",
       "      <td>1449</td>\n",
       "      <td>False</td>\n",
       "      <td>0.117854</td>\n",
       "      <td>4.676133</td>\n",
       "      <td>0.262736</td>\n",
       "      <td>0.063070</td>\n",
       "      <td>0.413876</td>\n",
       "      <td>0.185128</td>\n",
       "      <td>0.098715</td>\n",
       "    </tr>\n",
       "    <tr>\n",
       "      <th>1</th>\n",
       "      <td>0</td>\n",
       "      <td>1585</td>\n",
       "      <td>False</td>\n",
       "      <td>0.172138</td>\n",
       "      <td>5.368457</td>\n",
       "      <td>0.290466</td>\n",
       "      <td>0.037314</td>\n",
       "      <td>0.433277</td>\n",
       "      <td>0.227083</td>\n",
       "      <td>0.139520</td>\n",
       "    </tr>\n",
       "    <tr>\n",
       "      <th>2</th>\n",
       "      <td>0</td>\n",
       "      <td>1118</td>\n",
       "      <td>False</td>\n",
       "      <td>0.188925</td>\n",
       "      <td>4.566252</td>\n",
       "      <td>0.224216</td>\n",
       "      <td>0.049567</td>\n",
       "      <td>0.517157</td>\n",
       "      <td>0.205312</td>\n",
       "      <td>0.150663</td>\n",
       "    </tr>\n",
       "    <tr>\n",
       "      <th>3</th>\n",
       "      <td>0</td>\n",
       "      <td>462</td>\n",
       "      <td>False</td>\n",
       "      <td>0.113876</td>\n",
       "      <td>0.799894</td>\n",
       "      <td>0.228304</td>\n",
       "      <td>0.141964</td>\n",
       "      <td>0.180549</td>\n",
       "      <td>0.167010</td>\n",
       "      <td>0.092609</td>\n",
       "    </tr>\n",
       "    <tr>\n",
       "      <th>4</th>\n",
       "      <td>0</td>\n",
       "      <td>2755</td>\n",
       "      <td>False</td>\n",
       "      <td>0.115817</td>\n",
       "      <td>1.590820</td>\n",
       "      <td>0.294908</td>\n",
       "      <td>0.202638</td>\n",
       "      <td>0.252800</td>\n",
       "      <td>0.198977</td>\n",
       "      <td>0.093216</td>\n",
       "    </tr>\n",
       "    <tr>\n",
       "      <th>...</th>\n",
       "      <td>...</td>\n",
       "      <td>...</td>\n",
       "      <td>...</td>\n",
       "      <td>...</td>\n",
       "      <td>...</td>\n",
       "      <td>...</td>\n",
       "      <td>...</td>\n",
       "      <td>...</td>\n",
       "      <td>...</td>\n",
       "      <td>...</td>\n",
       "    </tr>\n",
       "    <tr>\n",
       "      <th>379135</th>\n",
       "      <td>12637</td>\n",
       "      <td>371</td>\n",
       "      <td>False</td>\n",
       "      <td>0.101110</td>\n",
       "      <td>5.957853</td>\n",
       "      <td>0.242709</td>\n",
       "      <td>0.045027</td>\n",
       "      <td>0.419884</td>\n",
       "      <td>0.166861</td>\n",
       "      <td>0.084011</td>\n",
       "    </tr>\n",
       "    <tr>\n",
       "      <th>379136</th>\n",
       "      <td>12637</td>\n",
       "      <td>823</td>\n",
       "      <td>True</td>\n",
       "      <td>0.124548</td>\n",
       "      <td>12.692235</td>\n",
       "      <td>0.209574</td>\n",
       "      <td>0.115897</td>\n",
       "      <td>0.449624</td>\n",
       "      <td>0.164029</td>\n",
       "      <td>0.111073</td>\n",
       "    </tr>\n",
       "    <tr>\n",
       "      <th>379137</th>\n",
       "      <td>12637</td>\n",
       "      <td>3573</td>\n",
       "      <td>False</td>\n",
       "      <td>0.081381</td>\n",
       "      <td>8.821283</td>\n",
       "      <td>0.241513</td>\n",
       "      <td>0.072975</td>\n",
       "      <td>0.383690</td>\n",
       "      <td>0.155737</td>\n",
       "      <td>0.071936</td>\n",
       "    </tr>\n",
       "    <tr>\n",
       "      <th>379138</th>\n",
       "      <td>12637</td>\n",
       "      <td>327</td>\n",
       "      <td>False</td>\n",
       "      <td>0.125786</td>\n",
       "      <td>14.854181</td>\n",
       "      <td>0.222828</td>\n",
       "      <td>0.173818</td>\n",
       "      <td>0.230969</td>\n",
       "      <td>0.170847</td>\n",
       "      <td>0.112752</td>\n",
       "    </tr>\n",
       "    <tr>\n",
       "      <th>379139</th>\n",
       "      <td>12637</td>\n",
       "      <td>3024</td>\n",
       "      <td>False</td>\n",
       "      <td>0.085650</td>\n",
       "      <td>9.317729</td>\n",
       "      <td>0.095027</td>\n",
       "      <td>0.082966</td>\n",
       "      <td>0.219011</td>\n",
       "      <td>0.090004</td>\n",
       "      <td>0.077202</td>\n",
       "    </tr>\n",
       "  </tbody>\n",
       "</table>\n",
       "<p>379140 rows × 10 columns</p>\n",
       "</div>"
      ],
      "text/plain": [
       "        UserID ItemID  Label   RP3beta  UserKNNCF      SLIM       NMF  \\\n",
       "0            0   1449  False  0.117854   4.676133  0.262736  0.063070   \n",
       "1            0   1585  False  0.172138   5.368457  0.290466  0.037314   \n",
       "2            0   1118  False  0.188925   4.566252  0.224216  0.049567   \n",
       "3            0    462  False  0.113876   0.799894  0.228304  0.141964   \n",
       "4            0   2755  False  0.115817   1.590820  0.294908  0.202638   \n",
       "...        ...    ...    ...       ...        ...       ...       ...   \n",
       "379135   12637    371  False  0.101110   5.957853  0.242709  0.045027   \n",
       "379136   12637    823   True  0.124548  12.692235  0.209574  0.115897   \n",
       "379137   12637   3573  False  0.081381   8.821283  0.241513  0.072975   \n",
       "379138   12637    327  False  0.125786  14.854181  0.222828  0.173818   \n",
       "379139   12637   3024  False  0.085650   9.317729  0.095027  0.082966   \n",
       "\n",
       "            IALS  SLIM + RP3beta  SLIM + ItemKNNCF  \n",
       "0       0.413876        0.185128          0.098715  \n",
       "1       0.433277        0.227083          0.139520  \n",
       "2       0.517157        0.205312          0.150663  \n",
       "3       0.180549        0.167010          0.092609  \n",
       "4       0.252800        0.198977          0.093216  \n",
       "...          ...             ...               ...  \n",
       "379135  0.419884        0.166861          0.084011  \n",
       "379136  0.449624        0.164029          0.111073  \n",
       "379137  0.383690        0.155737          0.071936  \n",
       "379138  0.230969        0.170847          0.112752  \n",
       "379139  0.219011        0.090004          0.077202  \n",
       "\n",
       "[379140 rows x 10 columns]"
      ]
     },
     "execution_count": 63,
     "metadata": {},
     "output_type": "execute_result"
    }
   ],
   "source": [
    "# add the other recommenders to the df\n",
    "\n",
    "other_recommenders = {\n",
    "    'RP3beta': rp3beta,\n",
    "    'UserKNNCF': userKNNCF,\n",
    "    'SLIM': slim,\n",
    "    'NMF': nmf,\n",
    "    'IALS': ials,\n",
    "    'SLIM + RP3beta': slim_rp3beta,\n",
    "    'SLIM + ItemKNNCF': slim_itemknn\n",
    "    #TODO: add others\n",
    "}\n",
    "\n",
    "\n",
    "training_dataframe = training_dataframe.set_index('UserID')\n",
    "\n",
    "for user_id in tqdm(range(n_users)):  \n",
    "    for rec_label, rec_instance in other_recommenders.items():\n",
    "        \n",
    "        item_list = training_dataframe.loc[user_id, \"ItemID\"].values.tolist()\n",
    "        \n",
    "        all_item_scores = rec_instance._compute_item_score([user_id], items_to_compute = item_list)\n",
    "\n",
    "        training_dataframe.loc[user_id, rec_label] = all_item_scores[0, item_list] \n",
    "\n",
    "training_dataframe = training_dataframe.reset_index()\n",
    "training_dataframe = training_dataframe.rename(columns = {\"index\": \"UserID\"})\n",
    "training_dataframe"
   ]
  },
  {
   "cell_type": "code",
   "execution_count": 66,
   "metadata": {
    "execution": {
     "iopub.execute_input": "2023-12-20T15:05:09.326541Z",
     "iopub.status.busy": "2023-12-20T15:05:09.326173Z",
     "iopub.status.idle": "2023-12-20T15:05:09.369732Z",
     "shell.execute_reply": "2023-12-20T15:05:09.368757Z",
     "shell.execute_reply.started": "2023-12-20T15:05:09.326514Z"
    }
   },
   "outputs": [],
   "source": [
    "#add item popularity\n",
    "item_popularity = np.ediff1d(sps.csc_matrix(urm_train).indptr)\n",
    "training_dataframe['item_popularity'] = item_popularity[training_dataframe[\"ItemID\"].values.astype(int)]\n",
    "\n",
    "#add profile length\n",
    "user_popularity = np.ediff1d(sps.csr_matrix(urm_train).indptr)\n",
    "training_dataframe['user_profile_len'] = user_popularity[training_dataframe[\"UserID\"].values.astype(int)]"
   ]
  },
  {
   "cell_type": "code",
   "execution_count": 67,
   "metadata": {
    "execution": {
     "iopub.execute_input": "2023-12-20T15:05:20.296089Z",
     "iopub.status.busy": "2023-12-20T15:05:20.295154Z",
     "iopub.status.idle": "2023-12-20T15:05:20.351929Z",
     "shell.execute_reply": "2023-12-20T15:05:20.350879Z",
     "shell.execute_reply.started": "2023-12-20T15:05:20.296054Z"
    }
   },
   "outputs": [],
   "source": [
    "# sort values by user id\n",
    "training_dataframe = training_dataframe.sort_values(\"UserID\").reset_index()\n",
    "training_dataframe.drop(columns = ['index'], inplace=True)"
   ]
  },
  {
   "cell_type": "code",
   "execution_count": 84,
   "metadata": {
    "execution": {
     "iopub.execute_input": "2023-12-20T15:23:23.714349Z",
     "iopub.status.busy": "2023-12-20T15:23:23.713922Z",
     "iopub.status.idle": "2023-12-20T15:23:23.728027Z",
     "shell.execute_reply": "2023-12-20T15:23:23.727115Z",
     "shell.execute_reply.started": "2023-12-20T15:23:23.714322Z"
    }
   },
   "outputs": [],
   "source": [
    "#specify the size of the groups. PICCOLA NOTA: lascerei sempre lo stesso size\n",
    "groups = training_dataframe.groupby(\"UserID\").size().values"
   ]
  },
  {
   "cell_type": "code",
   "execution_count": 96,
   "metadata": {
    "execution": {
     "iopub.execute_input": "2023-12-20T15:24:38.929341Z",
     "iopub.status.busy": "2023-12-20T15:24:38.928673Z",
     "iopub.status.idle": "2023-12-20T15:24:38.935332Z",
     "shell.execute_reply": "2023-12-20T15:24:38.934396Z",
     "shell.execute_reply.started": "2023-12-20T15:24:38.929309Z"
    }
   },
   "outputs": [
    {
     "data": {
      "text/plain": [
       "array([30, 30, 30, ..., 30, 30, 30])"
      ]
     },
     "execution_count": 96,
     "metadata": {},
     "output_type": "execute_result"
    }
   ],
   "source": [
    "groups"
   ]
  },
  {
   "cell_type": "code",
   "execution_count": 69,
   "metadata": {
    "execution": {
     "iopub.execute_input": "2023-12-20T15:05:32.974674Z",
     "iopub.status.busy": "2023-12-20T15:05:32.974319Z",
     "iopub.status.idle": "2023-12-20T15:05:32.994698Z",
     "shell.execute_reply": "2023-12-20T15:05:32.993759Z",
     "shell.execute_reply.started": "2023-12-20T15:05:32.974647Z"
    }
   },
   "outputs": [
    {
     "data": {
      "text/html": [
       "<div>\n",
       "<style scoped>\n",
       "    .dataframe tbody tr th:only-of-type {\n",
       "        vertical-align: middle;\n",
       "    }\n",
       "\n",
       "    .dataframe tbody tr th {\n",
       "        vertical-align: top;\n",
       "    }\n",
       "\n",
       "    .dataframe thead th {\n",
       "        text-align: right;\n",
       "    }\n",
       "</style>\n",
       "<table border=\"1\" class=\"dataframe\">\n",
       "  <thead>\n",
       "    <tr style=\"text-align: right;\">\n",
       "      <th></th>\n",
       "      <th>UserID</th>\n",
       "      <th>ItemID</th>\n",
       "      <th>Label</th>\n",
       "      <th>RP3beta</th>\n",
       "      <th>UserKNNCF</th>\n",
       "      <th>SLIM</th>\n",
       "      <th>NMF</th>\n",
       "      <th>IALS</th>\n",
       "      <th>SLIM + RP3beta</th>\n",
       "      <th>SLIM + ItemKNNCF</th>\n",
       "      <th>item_popularity</th>\n",
       "      <th>user_profile_len</th>\n",
       "    </tr>\n",
       "  </thead>\n",
       "  <tbody>\n",
       "    <tr>\n",
       "      <th>0</th>\n",
       "      <td>0</td>\n",
       "      <td>1449</td>\n",
       "      <td>False</td>\n",
       "      <td>0.117854</td>\n",
       "      <td>4.676133</td>\n",
       "      <td>0.262736</td>\n",
       "      <td>0.063070</td>\n",
       "      <td>0.413876</td>\n",
       "      <td>0.185128</td>\n",
       "      <td>0.098715</td>\n",
       "      <td>98</td>\n",
       "      <td>32</td>\n",
       "    </tr>\n",
       "    <tr>\n",
       "      <th>1</th>\n",
       "      <td>0</td>\n",
       "      <td>5157</td>\n",
       "      <td>False</td>\n",
       "      <td>0.044281</td>\n",
       "      <td>0.439907</td>\n",
       "      <td>0.044874</td>\n",
       "      <td>0.006561</td>\n",
       "      <td>0.110561</td>\n",
       "      <td>0.044556</td>\n",
       "      <td>0.035988</td>\n",
       "      <td>71</td>\n",
       "      <td>32</td>\n",
       "    </tr>\n",
       "    <tr>\n",
       "      <th>2</th>\n",
       "      <td>0</td>\n",
       "      <td>1534</td>\n",
       "      <td>False</td>\n",
       "      <td>0.027291</td>\n",
       "      <td>0.996847</td>\n",
       "      <td>0.071949</td>\n",
       "      <td>0.029513</td>\n",
       "      <td>0.128471</td>\n",
       "      <td>0.048027</td>\n",
       "      <td>0.023613</td>\n",
       "      <td>21</td>\n",
       "      <td>32</td>\n",
       "    </tr>\n",
       "    <tr>\n",
       "      <th>3</th>\n",
       "      <td>0</td>\n",
       "      <td>1171</td>\n",
       "      <td>False</td>\n",
       "      <td>0.075415</td>\n",
       "      <td>0.992634</td>\n",
       "      <td>0.155328</td>\n",
       "      <td>0.011929</td>\n",
       "      <td>0.232770</td>\n",
       "      <td>0.112522</td>\n",
       "      <td>0.064437</td>\n",
       "      <td>285</td>\n",
       "      <td>32</td>\n",
       "    </tr>\n",
       "    <tr>\n",
       "      <th>4</th>\n",
       "      <td>0</td>\n",
       "      <td>10046</td>\n",
       "      <td>False</td>\n",
       "      <td>0.042393</td>\n",
       "      <td>11.181743</td>\n",
       "      <td>0.081288</td>\n",
       "      <td>0.005980</td>\n",
       "      <td>0.154159</td>\n",
       "      <td>0.060454</td>\n",
       "      <td>0.034427</td>\n",
       "      <td>31</td>\n",
       "      <td>32</td>\n",
       "    </tr>\n",
       "    <tr>\n",
       "      <th>...</th>\n",
       "      <td>...</td>\n",
       "      <td>...</td>\n",
       "      <td>...</td>\n",
       "      <td>...</td>\n",
       "      <td>...</td>\n",
       "      <td>...</td>\n",
       "      <td>...</td>\n",
       "      <td>...</td>\n",
       "      <td>...</td>\n",
       "      <td>...</td>\n",
       "      <td>...</td>\n",
       "      <td>...</td>\n",
       "    </tr>\n",
       "    <tr>\n",
       "      <th>379135</th>\n",
       "      <td>12637</td>\n",
       "      <td>10906</td>\n",
       "      <td>False</td>\n",
       "      <td>0.291673</td>\n",
       "      <td>6.671762</td>\n",
       "      <td>0.212334</td>\n",
       "      <td>0.049769</td>\n",
       "      <td>0.439924</td>\n",
       "      <td>0.254833</td>\n",
       "      <td>0.224224</td>\n",
       "      <td>15</td>\n",
       "      <td>59</td>\n",
       "    </tr>\n",
       "    <tr>\n",
       "      <th>379136</th>\n",
       "      <td>12637</td>\n",
       "      <td>367</td>\n",
       "      <td>False</td>\n",
       "      <td>0.246822</td>\n",
       "      <td>11.428526</td>\n",
       "      <td>0.333210</td>\n",
       "      <td>0.083058</td>\n",
       "      <td>0.583670</td>\n",
       "      <td>0.286936</td>\n",
       "      <td>0.201312</td>\n",
       "      <td>50</td>\n",
       "      <td>59</td>\n",
       "    </tr>\n",
       "    <tr>\n",
       "      <th>379137</th>\n",
       "      <td>12637</td>\n",
       "      <td>327</td>\n",
       "      <td>False</td>\n",
       "      <td>0.125786</td>\n",
       "      <td>14.854181</td>\n",
       "      <td>0.222828</td>\n",
       "      <td>0.173818</td>\n",
       "      <td>0.230969</td>\n",
       "      <td>0.170847</td>\n",
       "      <td>0.112752</td>\n",
       "      <td>157</td>\n",
       "      <td>59</td>\n",
       "    </tr>\n",
       "    <tr>\n",
       "      <th>379138</th>\n",
       "      <td>12637</td>\n",
       "      <td>9567</td>\n",
       "      <td>False</td>\n",
       "      <td>0.169475</td>\n",
       "      <td>8.131855</td>\n",
       "      <td>0.347693</td>\n",
       "      <td>0.058328</td>\n",
       "      <td>0.621077</td>\n",
       "      <td>0.252229</td>\n",
       "      <td>0.136247</td>\n",
       "      <td>32</td>\n",
       "      <td>59</td>\n",
       "    </tr>\n",
       "    <tr>\n",
       "      <th>379139</th>\n",
       "      <td>12637</td>\n",
       "      <td>3024</td>\n",
       "      <td>False</td>\n",
       "      <td>0.085650</td>\n",
       "      <td>9.317729</td>\n",
       "      <td>0.095027</td>\n",
       "      <td>0.082966</td>\n",
       "      <td>0.219011</td>\n",
       "      <td>0.090004</td>\n",
       "      <td>0.077202</td>\n",
       "      <td>58</td>\n",
       "      <td>59</td>\n",
       "    </tr>\n",
       "  </tbody>\n",
       "</table>\n",
       "<p>379140 rows × 12 columns</p>\n",
       "</div>"
      ],
      "text/plain": [
       "        UserID ItemID  Label   RP3beta  UserKNNCF      SLIM       NMF  \\\n",
       "0            0   1449  False  0.117854   4.676133  0.262736  0.063070   \n",
       "1            0   5157  False  0.044281   0.439907  0.044874  0.006561   \n",
       "2            0   1534  False  0.027291   0.996847  0.071949  0.029513   \n",
       "3            0   1171  False  0.075415   0.992634  0.155328  0.011929   \n",
       "4            0  10046  False  0.042393  11.181743  0.081288  0.005980   \n",
       "...        ...    ...    ...       ...        ...       ...       ...   \n",
       "379135   12637  10906  False  0.291673   6.671762  0.212334  0.049769   \n",
       "379136   12637    367  False  0.246822  11.428526  0.333210  0.083058   \n",
       "379137   12637    327  False  0.125786  14.854181  0.222828  0.173818   \n",
       "379138   12637   9567  False  0.169475   8.131855  0.347693  0.058328   \n",
       "379139   12637   3024  False  0.085650   9.317729  0.095027  0.082966   \n",
       "\n",
       "            IALS  SLIM + RP3beta  SLIM + ItemKNNCF  item_popularity  \\\n",
       "0       0.413876        0.185128          0.098715               98   \n",
       "1       0.110561        0.044556          0.035988               71   \n",
       "2       0.128471        0.048027          0.023613               21   \n",
       "3       0.232770        0.112522          0.064437              285   \n",
       "4       0.154159        0.060454          0.034427               31   \n",
       "...          ...             ...               ...              ...   \n",
       "379135  0.439924        0.254833          0.224224               15   \n",
       "379136  0.583670        0.286936          0.201312               50   \n",
       "379137  0.230969        0.170847          0.112752              157   \n",
       "379138  0.621077        0.252229          0.136247               32   \n",
       "379139  0.219011        0.090004          0.077202               58   \n",
       "\n",
       "        user_profile_len  \n",
       "0                     32  \n",
       "1                     32  \n",
       "2                     32  \n",
       "3                     32  \n",
       "4                     32  \n",
       "...                  ...  \n",
       "379135                59  \n",
       "379136                59  \n",
       "379137                59  \n",
       "379138                59  \n",
       "379139                59  \n",
       "\n",
       "[379140 rows x 12 columns]"
      ]
     },
     "execution_count": 69,
     "metadata": {},
     "output_type": "execute_result"
    }
   ],
   "source": [
    "training_dataframe"
   ]
  },
  {
   "cell_type": "markdown",
   "metadata": {},
   "source": [
    "### **XGBoostModel**"
   ]
  },
  {
   "cell_type": "code",
   "execution_count": 71,
   "metadata": {
    "execution": {
     "iopub.execute_input": "2023-12-20T15:06:38.156894Z",
     "iopub.status.busy": "2023-12-20T15:06:38.155989Z",
     "iopub.status.idle": "2023-12-20T15:06:38.162071Z",
     "shell.execute_reply": "2023-12-20T15:06:38.161088Z",
     "shell.execute_reply.started": "2023-12-20T15:06:38.156858Z"
    }
   },
   "outputs": [],
   "source": [
    "n_estimators = 50\n",
    "learning_rate = 1e-1\n",
    "reg_alpha = 1e-1\n",
    "reg_lambda = 1e-1\n",
    "max_depth = 5\n",
    "max_leaves = 0\n",
    "grow_policy = \"depthwise\"\n",
    "objective = \"pairwise\"\n",
    "booster = \"gbtree\"\n",
    "use_user_profile = False\n",
    "random_seed = None"
   ]
  },
  {
   "cell_type": "code",
   "execution_count": 82,
   "metadata": {
    "execution": {
     "iopub.execute_input": "2023-12-20T15:17:42.733539Z",
     "iopub.status.busy": "2023-12-20T15:17:42.733137Z",
     "iopub.status.idle": "2023-12-20T15:17:42.739685Z",
     "shell.execute_reply": "2023-12-20T15:17:42.738662Z",
     "shell.execute_reply.started": "2023-12-20T15:17:42.733509Z"
    }
   },
   "outputs": [],
   "source": [
    "XGB_model = XGBRanker(objective='rank:{}'.format(objective),\n",
    "                      n_estimators = int(n_estimators),\n",
    "                      random_state = random_seed,\n",
    "                      learning_rate = learning_rate,\n",
    "                      reg_alpha = reg_alpha,\n",
    "                      reg_lambda = reg_lambda,\n",
    "                      max_depth = int(max_depth),\n",
    "                      max_leaves = int(max_leaves),\n",
    "                      grow_policy = grow_policy,\n",
    "                      verbosity = 0, # 2 if self.verbose else 0,\n",
    "                      booster = booster,\n",
    "                      enable_categorical = True,\n",
    "                      tree_method = \"hist\",  # Supported tree methods are `gpu_hist`, `approx`, and `hist`.\n",
    "                      )\n"
   ]
  },
  {
   "cell_type": "code",
   "execution_count": 80,
   "metadata": {
    "execution": {
     "iopub.execute_input": "2023-12-20T15:17:17.902357Z",
     "iopub.status.busy": "2023-12-20T15:17:17.901999Z",
     "iopub.status.idle": "2023-12-20T15:17:18.010368Z",
     "shell.execute_reply": "2023-12-20T15:17:18.009519Z",
     "shell.execute_reply.started": "2023-12-20T15:17:17.902333Z"
    }
   },
   "outputs": [],
   "source": [
    "y_train = training_dataframe[\"Label\"]\n",
    "X_train = training_dataframe.drop(columns=[\"Label\"])\n",
    "\n",
    "#in order to prevent the algorithm to split user groups according to whether their ID is of a certain value\n",
    "X_train[\"UserID\"] = X_train[\"UserID\"].astype(\"category\")\n",
    "X_train[\"ItemID\"] = X_train[\"ItemID\"].astype(\"category\")"
   ]
  },
  {
   "cell_type": "code",
   "execution_count": 83,
   "metadata": {
    "execution": {
     "iopub.execute_input": "2023-12-20T15:18:25.412856Z",
     "iopub.status.busy": "2023-12-20T15:18:25.412012Z",
     "iopub.status.idle": "2023-12-20T15:18:29.984275Z",
     "shell.execute_reply": "2023-12-20T15:18:29.983388Z",
     "shell.execute_reply.started": "2023-12-20T15:18:25.412824Z"
    }
   },
   "outputs": [
    {
     "data": {
      "text/html": [
       "<style>#sk-container-id-2 {color: black;background-color: white;}#sk-container-id-2 pre{padding: 0;}#sk-container-id-2 div.sk-toggleable {background-color: white;}#sk-container-id-2 label.sk-toggleable__label {cursor: pointer;display: block;width: 100%;margin-bottom: 0;padding: 0.3em;box-sizing: border-box;text-align: center;}#sk-container-id-2 label.sk-toggleable__label-arrow:before {content: \"▸\";float: left;margin-right: 0.25em;color: #696969;}#sk-container-id-2 label.sk-toggleable__label-arrow:hover:before {color: black;}#sk-container-id-2 div.sk-estimator:hover label.sk-toggleable__label-arrow:before {color: black;}#sk-container-id-2 div.sk-toggleable__content {max-height: 0;max-width: 0;overflow: hidden;text-align: left;background-color: #f0f8ff;}#sk-container-id-2 div.sk-toggleable__content pre {margin: 0.2em;color: black;border-radius: 0.25em;background-color: #f0f8ff;}#sk-container-id-2 input.sk-toggleable__control:checked~div.sk-toggleable__content {max-height: 200px;max-width: 100%;overflow: auto;}#sk-container-id-2 input.sk-toggleable__control:checked~label.sk-toggleable__label-arrow:before {content: \"▾\";}#sk-container-id-2 div.sk-estimator input.sk-toggleable__control:checked~label.sk-toggleable__label {background-color: #d4ebff;}#sk-container-id-2 div.sk-label input.sk-toggleable__control:checked~label.sk-toggleable__label {background-color: #d4ebff;}#sk-container-id-2 input.sk-hidden--visually {border: 0;clip: rect(1px 1px 1px 1px);clip: rect(1px, 1px, 1px, 1px);height: 1px;margin: -1px;overflow: hidden;padding: 0;position: absolute;width: 1px;}#sk-container-id-2 div.sk-estimator {font-family: monospace;background-color: #f0f8ff;border: 1px dotted black;border-radius: 0.25em;box-sizing: border-box;margin-bottom: 0.5em;}#sk-container-id-2 div.sk-estimator:hover {background-color: #d4ebff;}#sk-container-id-2 div.sk-parallel-item::after {content: \"\";width: 100%;border-bottom: 1px solid gray;flex-grow: 1;}#sk-container-id-2 div.sk-label:hover label.sk-toggleable__label {background-color: #d4ebff;}#sk-container-id-2 div.sk-serial::before {content: \"\";position: absolute;border-left: 1px solid gray;box-sizing: border-box;top: 0;bottom: 0;left: 50%;z-index: 0;}#sk-container-id-2 div.sk-serial {display: flex;flex-direction: column;align-items: center;background-color: white;padding-right: 0.2em;padding-left: 0.2em;position: relative;}#sk-container-id-2 div.sk-item {position: relative;z-index: 1;}#sk-container-id-2 div.sk-parallel {display: flex;align-items: stretch;justify-content: center;background-color: white;position: relative;}#sk-container-id-2 div.sk-item::before, #sk-container-id-2 div.sk-parallel-item::before {content: \"\";position: absolute;border-left: 1px solid gray;box-sizing: border-box;top: 0;bottom: 0;left: 50%;z-index: -1;}#sk-container-id-2 div.sk-parallel-item {display: flex;flex-direction: column;z-index: 1;position: relative;background-color: white;}#sk-container-id-2 div.sk-parallel-item:first-child::after {align-self: flex-end;width: 50%;}#sk-container-id-2 div.sk-parallel-item:last-child::after {align-self: flex-start;width: 50%;}#sk-container-id-2 div.sk-parallel-item:only-child::after {width: 0;}#sk-container-id-2 div.sk-dashed-wrapped {border: 1px dashed gray;margin: 0 0.4em 0.5em 0.4em;box-sizing: border-box;padding-bottom: 0.4em;background-color: white;}#sk-container-id-2 div.sk-label label {font-family: monospace;font-weight: bold;display: inline-block;line-height: 1.2em;}#sk-container-id-2 div.sk-label-container {text-align: center;}#sk-container-id-2 div.sk-container {/* jupyter's `normalize.less` sets `[hidden] { display: none; }` but bootstrap.min.css set `[hidden] { display: none !important; }` so we also need the `!important` here to be able to override the default hidden behavior on the sphinx rendered scikit-learn.org. See: https://github.com/scikit-learn/scikit-learn/issues/21755 */display: inline-block !important;position: relative;}#sk-container-id-2 div.sk-text-repr-fallback {display: none;}</style><div id=\"sk-container-id-2\" class=\"sk-top-container\"><div class=\"sk-text-repr-fallback\"><pre>XGBRanker(base_score=None, booster=&#x27;gbtree&#x27;, callbacks=None,\n",
       "          colsample_bylevel=None, colsample_bynode=None, colsample_bytree=None,\n",
       "          device=None, early_stopping_rounds=None, enable_categorical=True,\n",
       "          eval_metric=None, feature_types=None, gamma=None,\n",
       "          grow_policy=&#x27;depthwise&#x27;, importance_type=None,\n",
       "          interaction_constraints=None, learning_rate=0.1, max_bin=None,\n",
       "          max_cat_threshold=None, max_cat_to_onehot=None, max_delta_step=None,\n",
       "          max_depth=5, max_leaves=0, min_child_weight=None, missing=nan,\n",
       "          monotone_constraints=None, multi_strategy=None, n_estimators=50,\n",
       "          n_jobs=None, num_parallel_tree=None, objective=&#x27;rank:pairwise&#x27;, ...)</pre><b>In a Jupyter environment, please rerun this cell to show the HTML representation or trust the notebook. <br />On GitHub, the HTML representation is unable to render, please try loading this page with nbviewer.org.</b></div><div class=\"sk-container\" hidden><div class=\"sk-item\"><div class=\"sk-estimator sk-toggleable\"><input class=\"sk-toggleable__control sk-hidden--visually\" id=\"sk-estimator-id-2\" type=\"checkbox\" checked><label for=\"sk-estimator-id-2\" class=\"sk-toggleable__label sk-toggleable__label-arrow\">XGBRanker</label><div class=\"sk-toggleable__content\"><pre>XGBRanker(base_score=None, booster=&#x27;gbtree&#x27;, callbacks=None,\n",
       "          colsample_bylevel=None, colsample_bynode=None, colsample_bytree=None,\n",
       "          device=None, early_stopping_rounds=None, enable_categorical=True,\n",
       "          eval_metric=None, feature_types=None, gamma=None,\n",
       "          grow_policy=&#x27;depthwise&#x27;, importance_type=None,\n",
       "          interaction_constraints=None, learning_rate=0.1, max_bin=None,\n",
       "          max_cat_threshold=None, max_cat_to_onehot=None, max_delta_step=None,\n",
       "          max_depth=5, max_leaves=0, min_child_weight=None, missing=nan,\n",
       "          monotone_constraints=None, multi_strategy=None, n_estimators=50,\n",
       "          n_jobs=None, num_parallel_tree=None, objective=&#x27;rank:pairwise&#x27;, ...)</pre></div></div></div></div></div>"
      ],
      "text/plain": [
       "XGBRanker(base_score=None, booster='gbtree', callbacks=None,\n",
       "          colsample_bylevel=None, colsample_bynode=None, colsample_bytree=None,\n",
       "          device=None, early_stopping_rounds=None, enable_categorical=True,\n",
       "          eval_metric=None, feature_types=None, gamma=None,\n",
       "          grow_policy='depthwise', importance_type=None,\n",
       "          interaction_constraints=None, learning_rate=0.1, max_bin=None,\n",
       "          max_cat_threshold=None, max_cat_to_onehot=None, max_delta_step=None,\n",
       "          max_depth=5, max_leaves=0, min_child_weight=None, missing=nan,\n",
       "          monotone_constraints=None, multi_strategy=None, n_estimators=50,\n",
       "          n_jobs=None, num_parallel_tree=None, objective='rank:pairwise', ...)"
      ]
     },
     "execution_count": 83,
     "metadata": {},
     "output_type": "execute_result"
    }
   ],
   "source": [
    "XGB_model.fit(X_train,\n",
    "          y_train,\n",
    "          group=groups,\n",
    "          verbose=True)"
   ]
  },
  {
   "cell_type": "code",
   "execution_count": 76,
   "metadata": {
    "execution": {
     "iopub.execute_input": "2023-12-20T15:08:57.306426Z",
     "iopub.status.busy": "2023-12-20T15:08:57.305986Z",
     "iopub.status.idle": "2023-12-20T15:08:57.310995Z",
     "shell.execute_reply": "2023-12-20T15:08:57.309988Z",
     "shell.execute_reply.started": "2023-12-20T15:08:57.306392Z"
    }
   },
   "outputs": [],
   "source": [
    "import xgboost as xgb"
   ]
  },
  {
   "cell_type": "code",
   "execution_count": 78,
   "metadata": {
    "execution": {
     "iopub.execute_input": "2023-12-20T15:09:03.553815Z",
     "iopub.status.busy": "2023-12-20T15:09:03.552693Z",
     "iopub.status.idle": "2023-12-20T15:09:03.963020Z",
     "shell.execute_reply": "2023-12-20T15:09:03.962086Z",
     "shell.execute_reply.started": "2023-12-20T15:09:03.553774Z"
    }
   },
   "outputs": [
    {
     "data": {
      "text/plain": [
       "<Axes: title={'center': 'Weight (Frequence)'}, xlabel='F score', ylabel='Features'>"
      ]
     },
     "execution_count": 78,
     "metadata": {},
     "output_type": "execute_result"
    },
    {
     "data": {
      "image/png": "[encoded data removed]",
      "text/plain": [
       "<Figure size 640x480 with 1 Axes>"
      ]
     },
     "metadata": {},
     "output_type": "display_data"
    }
   ],
   "source": [
    "xgb.plot_importance(XGB_model, importance_type='weight', title='Weight (Frequence)')"
   ]
  },
  {
   "cell_type": "code",
   "execution_count": 98,
   "metadata": {
    "execution": {
     "iopub.execute_input": "2023-12-20T15:46:26.387451Z",
     "iopub.status.busy": "2023-12-20T15:46:26.386663Z",
     "iopub.status.idle": "2023-12-20T15:46:26.707488Z",
     "shell.execute_reply": "2023-12-20T15:46:26.706418Z",
     "shell.execute_reply.started": "2023-12-20T15:46:26.387419Z"
    }
   },
   "outputs": [],
   "source": [
    "predictions = XGB_model.predict(X_train)"
   ]
  },
  {
   "cell_type": "code",
   "execution_count": 112,
   "metadata": {
    "execution": {
     "iopub.execute_input": "2023-12-20T16:05:15.704801Z",
     "iopub.status.busy": "2023-12-20T16:05:15.703865Z",
     "iopub.status.idle": "2023-12-20T16:05:15.710551Z",
     "shell.execute_reply": "2023-12-20T16:05:15.709664Z",
     "shell.execute_reply.started": "2023-12-20T16:05:15.704765Z"
    }
   },
   "outputs": [
    {
     "data": {
      "text/plain": [
       "-1.4784268"
      ]
     },
     "execution_count": 112,
     "metadata": {},
     "output_type": "execute_result"
    }
   ],
   "source": [
    "predictions.min()"
   ]
  },
  {
   "cell_type": "code",
   "execution_count": 101,
   "metadata": {
    "execution": {
     "iopub.execute_input": "2023-12-20T15:46:55.365800Z",
     "iopub.status.busy": "2023-12-20T15:46:55.364855Z",
     "iopub.status.idle": "2023-12-20T15:46:55.371608Z",
     "shell.execute_reply": "2023-12-20T15:46:55.370669Z",
     "shell.execute_reply.started": "2023-12-20T15:46:55.365763Z"
    }
   },
   "outputs": [
    {
     "data": {
      "text/plain": [
       "(379140, 11)"
      ]
     },
     "execution_count": 101,
     "metadata": {},
     "output_type": "execute_result"
    }
   ],
   "source": [
    "X_train.shape"
   ]
  },
  {
   "cell_type": "code",
   "execution_count": null,
   "metadata": {},
   "outputs": [],
   "source": [
    "for i in range(0,urm_validation.shape[0]):\n",
    "    print(f'{urm_validation[i].nnz}')"
   ]
  }
 ],
 "metadata": {
  "kaggle": {
   "accelerator": "gpu",
   "dataSources": [
    {
     "datasetId": 4087077,
     "sourceId": 7092184,
     "sourceType": "datasetVersion"
    },
    {
     "datasetId": 4113887,
     "sourceId": 7130484,
     "sourceType": "datasetVersion"
    }
   ],
   "isGpuEnabled": true,
   "isInternetEnabled": true,
   "language": "python",
   "sourceType": "notebook"
  },
  "kernelspec": {
   "display_name": "Python 3 (ipykernel)",
   "language": "python",
   "name": "python3"
  },
  "language_info": {
   "codemirror_mode": {
    "name": "ipython",
    "version": 3
   },
   "file_extension": ".py",
   "mimetype": "text/x-python",
   "name": "python",
   "nbconvert_exporter": "python",
   "pygments_lexer": "ipython3",
   "version": "3.9.13"
  }
 },
 "nbformat": 4,
 "nbformat_minor": 4
}
