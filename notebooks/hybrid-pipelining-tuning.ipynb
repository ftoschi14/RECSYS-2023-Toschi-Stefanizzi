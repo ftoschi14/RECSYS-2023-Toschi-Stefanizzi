{
 "cells": [
  {
   "cell_type": "markdown",
   "metadata": {},
   "source": [
    "# Setting-up environment"
   ]
  },
  {
   "cell_type": "code",
   "execution_count": 1,
   "metadata": {
    "_cell_guid": "b1076dfc-b9ad-4769-8c92-a6c4dae69d19",
    "_uuid": "8f2839f25d086af736a60e9eeb907d3b93b6e0e5",
    "execution": {
     "iopub.execute_input": "2023-12-05T11:55:19.848993Z",
     "iopub.status.busy": "2023-12-05T11:55:19.848494Z",
     "iopub.status.idle": "2023-12-05T11:55:23.456801Z",
     "shell.execute_reply": "2023-12-05T11:55:23.454832Z",
     "shell.execute_reply.started": "2023-12-05T11:55:19.848955Z"
    }
   },
   "outputs": [],
   "source": [
    "!cp -r ../input/updated-code-3-2/* /kaggle/working/"
   ]
  },
  {
   "cell_type": "code",
   "execution_count": 2,
   "metadata": {
    "execution": {
     "iopub.execute_input": "2023-12-05T11:55:23.460048Z",
     "iopub.status.busy": "2023-12-05T11:55:23.459557Z",
     "iopub.status.idle": "2023-12-05T11:56:04.519952Z",
     "shell.execute_reply": "2023-12-05T11:56:04.518574Z",
     "shell.execute_reply.started": "2023-12-05T11:55:23.460000Z"
    },
    "scrolled": true
   },
   "outputs": [
    {
     "name": "stdout",
     "output_type": "stream",
     "text": [
      "Requirement already satisfied: Cython in /opt/conda/lib/python3.10/site-packages (from -r requirements.txt (line 1)) (3.0.0)\n",
      "Requirement already satisfied: h5py in /opt/conda/lib/python3.10/site-packages (from -r requirements.txt (line 2)) (3.9.0)\n",
      "Requirement already satisfied: nltk in /opt/conda/lib/python3.10/site-packages (from -r requirements.txt (line 3)) (3.2.4)\n",
      "Requirement already satisfied: nose in /opt/conda/lib/python3.10/site-packages (from -r requirements.txt (line 4)) (1.3.7)\n",
      "Requirement already satisfied: numpy in /opt/conda/lib/python3.10/site-packages (from -r requirements.txt (line 5)) (1.24.3)\n",
      "Requirement already satisfied: scikit-learn in /opt/conda/lib/python3.10/site-packages (from -r requirements.txt (line 6)) (1.2.2)\n",
      "Requirement already satisfied: scikit-optimize in /opt/conda/lib/python3.10/site-packages (from -r requirements.txt (line 7)) (0.9.0)\n",
      "Requirement already satisfied: scipy in /opt/conda/lib/python3.10/site-packages (from -r requirements.txt (line 8)) (1.11.3)\n",
      "Requirement already satisfied: tqdm in /opt/conda/lib/python3.10/site-packages (from -r requirements.txt (line 9)) (4.66.1)\n",
      "Collecting lightfm (from -r requirements.txt (line 10))\n",
      "  Downloading lightfm-1.17.tar.gz (316 kB)\n",
      "\u001b[2K     \u001b[90m━━━━━━━━━━━━━━━━━━━━━━━━━━━━━━━━━━━━━━\u001b[0m \u001b[32m316.4/316.4 kB\u001b[0m \u001b[31m11.4 MB/s\u001b[0m eta \u001b[36m0:00:00\u001b[0m\n",
      "\u001b[?25h  Preparing metadata (setup.py) ... \u001b[?25ldone\n",
      "\u001b[?25hCollecting RISE (from -r requirements.txt (line 11))\n",
      "  Downloading rise-5.7.1-py2.py3-none-any.whl (4.3 MB)\n",
      "\u001b[2K     \u001b[90m━━━━━━━━━━━━━━━━━━━━━━━━━━━━━━━━━━━━━━━━\u001b[0m \u001b[32m4.3/4.3 MB\u001b[0m \u001b[31m70.6 MB/s\u001b[0m eta \u001b[36m0:00:00\u001b[0m:00:01\u001b[0m\n",
      "\u001b[?25hRequirement already satisfied: torch in /opt/conda/lib/python3.10/site-packages (from -r requirements.txt (line 12)) (2.0.0+cpu)\n",
      "Collecting jupyter-contrib-nbextensions (from -r requirements.txt (line 13))\n",
      "  Downloading jupyter_contrib_nbextensions-0.7.0.tar.gz (23.5 MB)\n",
      "\u001b[2K     \u001b[90m━━━━━━━━━━━━━━━━━━━━━━━━━━━━━━━━━━━━━━━━\u001b[0m \u001b[32m23.5/23.5 MB\u001b[0m \u001b[31m46.5 MB/s\u001b[0m eta \u001b[36m0:00:00\u001b[0m00:01\u001b[0m00:01\u001b[0m\n",
      "\u001b[?25h  Preparing metadata (setup.py) ... \u001b[?25ldone\n",
      "\u001b[?25hRequirement already satisfied: tensorflow in /opt/conda/lib/python3.10/site-packages (from -r requirements.txt (line 14)) (2.13.0)\n",
      "Requirement already satisfied: tables in /opt/conda/lib/python3.10/site-packages (from -r requirements.txt (line 15)) (3.9.1)\n",
      "Requirement already satisfied: six in /opt/conda/lib/python3.10/site-packages (from nltk->-r requirements.txt (line 3)) (1.16.0)\n",
      "Requirement already satisfied: joblib>=1.1.1 in /opt/conda/lib/python3.10/site-packages (from scikit-learn->-r requirements.txt (line 6)) (1.3.2)\n",
      "Requirement already satisfied: threadpoolctl>=2.0.0 in /opt/conda/lib/python3.10/site-packages (from scikit-learn->-r requirements.txt (line 6)) (3.2.0)\n",
      "Requirement already satisfied: pyaml>=16.9 in /opt/conda/lib/python3.10/site-packages (from scikit-optimize->-r requirements.txt (line 7)) (23.9.7)\n",
      "Requirement already satisfied: requests in /opt/conda/lib/python3.10/site-packages (from lightfm->-r requirements.txt (line 10)) (2.31.0)\n",
      "Requirement already satisfied: notebook>=6.0 in /opt/conda/lib/python3.10/site-packages (from RISE->-r requirements.txt (line 11)) (6.5.5)\n",
      "Requirement already satisfied: filelock in /opt/conda/lib/python3.10/site-packages (from torch->-r requirements.txt (line 12)) (3.12.2)\n",
      "Requirement already satisfied: typing-extensions in /opt/conda/lib/python3.10/site-packages (from torch->-r requirements.txt (line 12)) (4.5.0)\n",
      "Requirement already satisfied: sympy in /opt/conda/lib/python3.10/site-packages (from torch->-r requirements.txt (line 12)) (1.12)\n",
      "Requirement already satisfied: networkx in /opt/conda/lib/python3.10/site-packages (from torch->-r requirements.txt (line 12)) (3.1)\n",
      "Requirement already satisfied: jinja2 in /opt/conda/lib/python3.10/site-packages (from torch->-r requirements.txt (line 12)) (3.1.2)\n",
      "Requirement already satisfied: ipython_genutils in /opt/conda/lib/python3.10/site-packages (from jupyter-contrib-nbextensions->-r requirements.txt (line 13)) (0.2.0)\n",
      "Collecting jupyter_contrib_core>=0.3.3 (from jupyter-contrib-nbextensions->-r requirements.txt (line 13))\n",
      "  Downloading jupyter_contrib_core-0.4.2.tar.gz (17 kB)\n",
      "  Preparing metadata (setup.py) ... \u001b[?25ldone\n",
      "\u001b[?25hRequirement already satisfied: jupyter_core in /opt/conda/lib/python3.10/site-packages (from jupyter-contrib-nbextensions->-r requirements.txt (line 13)) (5.3.1)\n",
      "Collecting jupyter_highlight_selected_word>=0.1.1 (from jupyter-contrib-nbextensions->-r requirements.txt (line 13))\n",
      "  Downloading jupyter_highlight_selected_word-0.2.0-py2.py3-none-any.whl (11 kB)\n",
      "Collecting jupyter_nbextensions_configurator>=0.4.0 (from jupyter-contrib-nbextensions->-r requirements.txt (line 13))\n",
      "  Downloading jupyter_nbextensions_configurator-0.6.3-py2.py3-none-any.whl (466 kB)\n",
      "\u001b[2K     \u001b[90m━━━━━━━━━━━━━━━━━━━━━━━━━━━━━━━━━━━━━━\u001b[0m \u001b[32m466.9/466.9 kB\u001b[0m \u001b[31m29.8 MB/s\u001b[0m eta \u001b[36m0:00:00\u001b[0m\n",
      "\u001b[?25hRequirement already satisfied: nbconvert>=6.0 in /opt/conda/lib/python3.10/site-packages (from jupyter-contrib-nbextensions->-r requirements.txt (line 13)) (6.4.5)\n",
      "Requirement already satisfied: tornado in /opt/conda/lib/python3.10/site-packages (from jupyter-contrib-nbextensions->-r requirements.txt (line 13)) (6.3.3)\n",
      "Requirement already satisfied: traitlets>=4.1 in /opt/conda/lib/python3.10/site-packages (from jupyter-contrib-nbextensions->-r requirements.txt (line 13)) (5.9.0)\n",
      "Requirement already satisfied: lxml in /opt/conda/lib/python3.10/site-packages (from jupyter-contrib-nbextensions->-r requirements.txt (line 13)) (4.9.3)\n",
      "Requirement already satisfied: absl-py>=1.0.0 in /opt/conda/lib/python3.10/site-packages (from tensorflow->-r requirements.txt (line 14)) (1.4.0)\n",
      "Requirement already satisfied: astunparse>=1.6.0 in /opt/conda/lib/python3.10/site-packages (from tensorflow->-r requirements.txt (line 14)) (1.6.3)\n",
      "Requirement already satisfied: flatbuffers>=23.1.21 in /opt/conda/lib/python3.10/site-packages (from tensorflow->-r requirements.txt (line 14)) (23.5.26)\n",
      "Requirement already satisfied: gast<=0.4.0,>=0.2.1 in /opt/conda/lib/python3.10/site-packages (from tensorflow->-r requirements.txt (line 14)) (0.4.0)\n",
      "Requirement already satisfied: google-pasta>=0.1.1 in /opt/conda/lib/python3.10/site-packages (from tensorflow->-r requirements.txt (line 14)) (0.2.0)\n",
      "Requirement already satisfied: grpcio<2.0,>=1.24.3 in /opt/conda/lib/python3.10/site-packages (from tensorflow->-r requirements.txt (line 14)) (1.57.0)\n",
      "Requirement already satisfied: keras<2.14,>=2.13.1 in /opt/conda/lib/python3.10/site-packages (from tensorflow->-r requirements.txt (line 14)) (2.13.1)\n",
      "Requirement already satisfied: libclang>=13.0.0 in /opt/conda/lib/python3.10/site-packages (from tensorflow->-r requirements.txt (line 14)) (16.0.6)\n",
      "Requirement already satisfied: opt-einsum>=2.3.2 in /opt/conda/lib/python3.10/site-packages (from tensorflow->-r requirements.txt (line 14)) (3.3.0)\n",
      "Requirement already satisfied: packaging in /opt/conda/lib/python3.10/site-packages (from tensorflow->-r requirements.txt (line 14)) (21.3)\n",
      "Requirement already satisfied: protobuf!=4.21.0,!=4.21.1,!=4.21.2,!=4.21.3,!=4.21.4,!=4.21.5,<5.0.0dev,>=3.20.3 in /opt/conda/lib/python3.10/site-packages (from tensorflow->-r requirements.txt (line 14)) (3.20.3)\n",
      "Requirement already satisfied: setuptools in /opt/conda/lib/python3.10/site-packages (from tensorflow->-r requirements.txt (line 14)) (68.1.2)\n",
      "Requirement already satisfied: tensorboard<2.14,>=2.13 in /opt/conda/lib/python3.10/site-packages (from tensorflow->-r requirements.txt (line 14)) (2.13.0)\n",
      "Requirement already satisfied: tensorflow-estimator<2.14,>=2.13.0 in /opt/conda/lib/python3.10/site-packages (from tensorflow->-r requirements.txt (line 14)) (2.13.0)\n",
      "Requirement already satisfied: termcolor>=1.1.0 in /opt/conda/lib/python3.10/site-packages (from tensorflow->-r requirements.txt (line 14)) (2.3.0)\n",
      "Requirement already satisfied: wrapt>=1.11.0 in /opt/conda/lib/python3.10/site-packages (from tensorflow->-r requirements.txt (line 14)) (1.15.0)\n",
      "Requirement already satisfied: tensorflow-io-gcs-filesystem>=0.23.1 in /opt/conda/lib/python3.10/site-packages (from tensorflow->-r requirements.txt (line 14)) (0.34.0)\n",
      "Requirement already satisfied: numexpr>=2.6.2 in /opt/conda/lib/python3.10/site-packages (from tables->-r requirements.txt (line 15)) (2.8.7)\n",
      "Requirement already satisfied: py-cpuinfo in /opt/conda/lib/python3.10/site-packages (from tables->-r requirements.txt (line 15)) (9.0.0)\n",
      "Requirement already satisfied: blosc2>=2.2.8 in /opt/conda/lib/python3.10/site-packages (from tables->-r requirements.txt (line 15)) (2.3.1)\n",
      "Requirement already satisfied: wheel<1.0,>=0.23.0 in /opt/conda/lib/python3.10/site-packages (from astunparse>=1.6.0->tensorflow->-r requirements.txt (line 14)) (0.41.2)\n",
      "Requirement already satisfied: ndindex>=1.4 in /opt/conda/lib/python3.10/site-packages (from blosc2>=2.2.8->tables->-r requirements.txt (line 15)) (1.7)\n",
      "Requirement already satisfied: msgpack in /opt/conda/lib/python3.10/site-packages (from blosc2>=2.2.8->tables->-r requirements.txt (line 15)) (1.0.5)\n",
      "Requirement already satisfied: pyyaml in /opt/conda/lib/python3.10/site-packages (from jupyter_nbextensions_configurator>=0.4.0->jupyter-contrib-nbextensions->-r requirements.txt (line 13)) (6.0.1)\n",
      "Requirement already satisfied: mistune<2,>=0.8.1 in /opt/conda/lib/python3.10/site-packages (from nbconvert>=6.0->jupyter-contrib-nbextensions->-r requirements.txt (line 13)) (0.8.4)\n",
      "Requirement already satisfied: pygments>=2.4.1 in /opt/conda/lib/python3.10/site-packages (from nbconvert>=6.0->jupyter-contrib-nbextensions->-r requirements.txt (line 13)) (2.16.1)\n",
      "Requirement already satisfied: jupyterlab-pygments in /opt/conda/lib/python3.10/site-packages (from nbconvert>=6.0->jupyter-contrib-nbextensions->-r requirements.txt (line 13)) (0.2.2)\n",
      "Requirement already satisfied: nbformat>=4.4 in /opt/conda/lib/python3.10/site-packages (from nbconvert>=6.0->jupyter-contrib-nbextensions->-r requirements.txt (line 13)) (5.9.2)\n",
      "Requirement already satisfied: entrypoints>=0.2.2 in /opt/conda/lib/python3.10/site-packages (from nbconvert>=6.0->jupyter-contrib-nbextensions->-r requirements.txt (line 13)) (0.4)\n",
      "Requirement already satisfied: bleach in /opt/conda/lib/python3.10/site-packages (from nbconvert>=6.0->jupyter-contrib-nbextensions->-r requirements.txt (line 13)) (6.0.0)\n",
      "Requirement already satisfied: pandocfilters>=1.4.1 in /opt/conda/lib/python3.10/site-packages (from nbconvert>=6.0->jupyter-contrib-nbextensions->-r requirements.txt (line 13)) (1.5.0)\n",
      "Requirement already satisfied: testpath in /opt/conda/lib/python3.10/site-packages (from nbconvert>=6.0->jupyter-contrib-nbextensions->-r requirements.txt (line 13)) (0.6.0)\n",
      "Requirement already satisfied: defusedxml in /opt/conda/lib/python3.10/site-packages (from nbconvert>=6.0->jupyter-contrib-nbextensions->-r requirements.txt (line 13)) (0.7.1)\n",
      "Requirement already satisfied: beautifulsoup4 in /opt/conda/lib/python3.10/site-packages (from nbconvert>=6.0->jupyter-contrib-nbextensions->-r requirements.txt (line 13)) (4.12.2)\n",
      "Requirement already satisfied: nbclient<0.6.0,>=0.5.0 in /opt/conda/lib/python3.10/site-packages (from nbconvert>=6.0->jupyter-contrib-nbextensions->-r requirements.txt (line 13)) (0.5.13)\n",
      "Requirement already satisfied: MarkupSafe>=2.0 in /opt/conda/lib/python3.10/site-packages (from nbconvert>=6.0->jupyter-contrib-nbextensions->-r requirements.txt (line 13)) (2.1.3)\n",
      "Requirement already satisfied: pyzmq<25,>=17 in /opt/conda/lib/python3.10/site-packages (from notebook>=6.0->RISE->-r requirements.txt (line 11)) (24.0.1)\n",
      "Requirement already satisfied: argon2-cffi in /opt/conda/lib/python3.10/site-packages (from notebook>=6.0->RISE->-r requirements.txt (line 11)) (21.3.0)\n",
      "Requirement already satisfied: jupyter-client<8,>=5.3.4 in /opt/conda/lib/python3.10/site-packages (from notebook>=6.0->RISE->-r requirements.txt (line 11)) (7.4.9)\n",
      "Requirement already satisfied: nest-asyncio>=1.5 in /opt/conda/lib/python3.10/site-packages (from notebook>=6.0->RISE->-r requirements.txt (line 11)) (1.5.6)\n",
      "Requirement already satisfied: ipykernel in /opt/conda/lib/python3.10/site-packages (from notebook>=6.0->RISE->-r requirements.txt (line 11)) (6.25.1)\n",
      "Requirement already satisfied: Send2Trash>=1.8.0 in /opt/conda/lib/python3.10/site-packages (from notebook>=6.0->RISE->-r requirements.txt (line 11)) (1.8.2)\n",
      "Requirement already satisfied: terminado>=0.8.3 in /opt/conda/lib/python3.10/site-packages (from notebook>=6.0->RISE->-r requirements.txt (line 11)) (0.17.1)\n",
      "Requirement already satisfied: prometheus-client in /opt/conda/lib/python3.10/site-packages (from notebook>=6.0->RISE->-r requirements.txt (line 11)) (0.17.1)\n",
      "Requirement already satisfied: nbclassic>=0.4.7 in /opt/conda/lib/python3.10/site-packages (from notebook>=6.0->RISE->-r requirements.txt (line 11)) (1.0.0)\n",
      "Requirement already satisfied: platformdirs>=2.5 in /opt/conda/lib/python3.10/site-packages (from jupyter_core->jupyter-contrib-nbextensions->-r requirements.txt (line 13)) (4.0.0)\n",
      "Requirement already satisfied: google-auth<3,>=1.6.3 in /opt/conda/lib/python3.10/site-packages (from tensorboard<2.14,>=2.13->tensorflow->-r requirements.txt (line 14)) (2.22.0)\n",
      "Requirement already satisfied: google-auth-oauthlib<1.1,>=0.5 in /opt/conda/lib/python3.10/site-packages (from tensorboard<2.14,>=2.13->tensorflow->-r requirements.txt (line 14)) (1.0.0)\n",
      "Requirement already satisfied: markdown>=2.6.8 in /opt/conda/lib/python3.10/site-packages (from tensorboard<2.14,>=2.13->tensorflow->-r requirements.txt (line 14)) (3.4.4)\n",
      "Requirement already satisfied: tensorboard-data-server<0.8.0,>=0.7.0 in /opt/conda/lib/python3.10/site-packages (from tensorboard<2.14,>=2.13->tensorflow->-r requirements.txt (line 14)) (0.7.1)\n",
      "Requirement already satisfied: werkzeug>=1.0.1 in /opt/conda/lib/python3.10/site-packages (from tensorboard<2.14,>=2.13->tensorflow->-r requirements.txt (line 14)) (3.0.1)\n",
      "Requirement already satisfied: charset-normalizer<4,>=2 in /opt/conda/lib/python3.10/site-packages (from requests->lightfm->-r requirements.txt (line 10)) (3.2.0)\n",
      "Requirement already satisfied: idna<4,>=2.5 in /opt/conda/lib/python3.10/site-packages (from requests->lightfm->-r requirements.txt (line 10)) (3.4)\n",
      "Requirement already satisfied: urllib3<3,>=1.21.1 in /opt/conda/lib/python3.10/site-packages (from requests->lightfm->-r requirements.txt (line 10)) (1.26.15)\n",
      "Requirement already satisfied: certifi>=2017.4.17 in /opt/conda/lib/python3.10/site-packages (from requests->lightfm->-r requirements.txt (line 10)) (2023.7.22)\n",
      "Requirement already satisfied: pyparsing!=3.0.5,>=2.0.2 in /opt/conda/lib/python3.10/site-packages (from packaging->tensorflow->-r requirements.txt (line 14)) (3.0.9)\n",
      "Requirement already satisfied: mpmath>=0.19 in /opt/conda/lib/python3.10/site-packages (from sympy->torch->-r requirements.txt (line 12)) (1.3.0)\n",
      "Requirement already satisfied: cachetools<6.0,>=2.0.0 in /opt/conda/lib/python3.10/site-packages (from google-auth<3,>=1.6.3->tensorboard<2.14,>=2.13->tensorflow->-r requirements.txt (line 14)) (4.2.4)\n",
      "Requirement already satisfied: pyasn1-modules>=0.2.1 in /opt/conda/lib/python3.10/site-packages (from google-auth<3,>=1.6.3->tensorboard<2.14,>=2.13->tensorflow->-r requirements.txt (line 14)) (0.2.7)\n",
      "Requirement already satisfied: rsa<5,>=3.1.4 in /opt/conda/lib/python3.10/site-packages (from google-auth<3,>=1.6.3->tensorboard<2.14,>=2.13->tensorflow->-r requirements.txt (line 14)) (4.9)\n",
      "Requirement already satisfied: requests-oauthlib>=0.7.0 in /opt/conda/lib/python3.10/site-packages (from google-auth-oauthlib<1.1,>=0.5->tensorboard<2.14,>=2.13->tensorflow->-r requirements.txt (line 14)) (1.3.1)\n",
      "Requirement already satisfied: python-dateutil>=2.8.2 in /opt/conda/lib/python3.10/site-packages (from jupyter-client<8,>=5.3.4->notebook>=6.0->RISE->-r requirements.txt (line 11)) (2.8.2)\n",
      "Requirement already satisfied: jupyter-server>=1.8 in /opt/conda/lib/python3.10/site-packages (from nbclassic>=0.4.7->notebook>=6.0->RISE->-r requirements.txt (line 11)) (2.10.0)\n",
      "Requirement already satisfied: notebook-shim>=0.2.3 in /opt/conda/lib/python3.10/site-packages (from nbclassic>=0.4.7->notebook>=6.0->RISE->-r requirements.txt (line 11)) (0.2.3)\n",
      "Requirement already satisfied: fastjsonschema in /opt/conda/lib/python3.10/site-packages (from nbformat>=4.4->nbconvert>=6.0->jupyter-contrib-nbextensions->-r requirements.txt (line 13)) (2.18.0)\n",
      "Requirement already satisfied: jsonschema>=2.6 in /opt/conda/lib/python3.10/site-packages (from nbformat>=4.4->nbconvert>=6.0->jupyter-contrib-nbextensions->-r requirements.txt (line 13)) (4.19.0)\n",
      "Requirement already satisfied: ptyprocess in /opt/conda/lib/python3.10/site-packages (from terminado>=0.8.3->notebook>=6.0->RISE->-r requirements.txt (line 11)) (0.7.0)\n",
      "Requirement already satisfied: argon2-cffi-bindings in /opt/conda/lib/python3.10/site-packages (from argon2-cffi->notebook>=6.0->RISE->-r requirements.txt (line 11)) (21.2.0)\n",
      "Requirement already satisfied: soupsieve>1.2 in /opt/conda/lib/python3.10/site-packages (from beautifulsoup4->nbconvert>=6.0->jupyter-contrib-nbextensions->-r requirements.txt (line 13)) (2.3.2.post1)\n",
      "Requirement already satisfied: webencodings in /opt/conda/lib/python3.10/site-packages (from bleach->nbconvert>=6.0->jupyter-contrib-nbextensions->-r requirements.txt (line 13)) (0.5.1)\n",
      "Requirement already satisfied: comm>=0.1.1 in /opt/conda/lib/python3.10/site-packages (from ipykernel->notebook>=6.0->RISE->-r requirements.txt (line 11)) (0.1.4)\n",
      "Requirement already satisfied: debugpy>=1.6.5 in /opt/conda/lib/python3.10/site-packages (from ipykernel->notebook>=6.0->RISE->-r requirements.txt (line 11)) (1.6.7.post1)\n",
      "Requirement already satisfied: ipython>=7.23.1 in /opt/conda/lib/python3.10/site-packages (from ipykernel->notebook>=6.0->RISE->-r requirements.txt (line 11)) (8.14.0)\n",
      "Requirement already satisfied: matplotlib-inline>=0.1 in /opt/conda/lib/python3.10/site-packages (from ipykernel->notebook>=6.0->RISE->-r requirements.txt (line 11)) (0.1.6)\n",
      "Requirement already satisfied: psutil in /opt/conda/lib/python3.10/site-packages (from ipykernel->notebook>=6.0->RISE->-r requirements.txt (line 11)) (5.9.3)\n",
      "Requirement already satisfied: backcall in /opt/conda/lib/python3.10/site-packages (from ipython>=7.23.1->ipykernel->notebook>=6.0->RISE->-r requirements.txt (line 11)) (0.2.0)\n",
      "Requirement already satisfied: decorator in /opt/conda/lib/python3.10/site-packages (from ipython>=7.23.1->ipykernel->notebook>=6.0->RISE->-r requirements.txt (line 11)) (5.1.1)\n",
      "Requirement already satisfied: jedi>=0.16 in /opt/conda/lib/python3.10/site-packages (from ipython>=7.23.1->ipykernel->notebook>=6.0->RISE->-r requirements.txt (line 11)) (0.19.0)\n",
      "Requirement already satisfied: pickleshare in /opt/conda/lib/python3.10/site-packages (from ipython>=7.23.1->ipykernel->notebook>=6.0->RISE->-r requirements.txt (line 11)) (0.7.5)\n",
      "Requirement already satisfied: prompt-toolkit!=3.0.37,<3.1.0,>=3.0.30 in /opt/conda/lib/python3.10/site-packages (from ipython>=7.23.1->ipykernel->notebook>=6.0->RISE->-r requirements.txt (line 11)) (3.0.39)\n",
      "Requirement already satisfied: stack-data in /opt/conda/lib/python3.10/site-packages (from ipython>=7.23.1->ipykernel->notebook>=6.0->RISE->-r requirements.txt (line 11)) (0.6.2)\n",
      "Requirement already satisfied: pexpect>4.3 in /opt/conda/lib/python3.10/site-packages (from ipython>=7.23.1->ipykernel->notebook>=6.0->RISE->-r requirements.txt (line 11)) (4.8.0)\n",
      "Requirement already satisfied: attrs>=22.2.0 in /opt/conda/lib/python3.10/site-packages (from jsonschema>=2.6->nbformat>=4.4->nbconvert>=6.0->jupyter-contrib-nbextensions->-r requirements.txt (line 13)) (23.1.0)\n",
      "Requirement already satisfied: jsonschema-specifications>=2023.03.6 in /opt/conda/lib/python3.10/site-packages (from jsonschema>=2.6->nbformat>=4.4->nbconvert>=6.0->jupyter-contrib-nbextensions->-r requirements.txt (line 13)) (2023.7.1)\n",
      "Requirement already satisfied: referencing>=0.28.4 in /opt/conda/lib/python3.10/site-packages (from jsonschema>=2.6->nbformat>=4.4->nbconvert>=6.0->jupyter-contrib-nbextensions->-r requirements.txt (line 13)) (0.30.2)\n",
      "Requirement already satisfied: rpds-py>=0.7.1 in /opt/conda/lib/python3.10/site-packages (from jsonschema>=2.6->nbformat>=4.4->nbconvert>=6.0->jupyter-contrib-nbextensions->-r requirements.txt (line 13)) (0.9.2)\n",
      "Requirement already satisfied: anyio>=3.1.0 in /opt/conda/lib/python3.10/site-packages (from jupyter-server>=1.8->nbclassic>=0.4.7->notebook>=6.0->RISE->-r requirements.txt (line 11)) (3.7.1)\n",
      "Requirement already satisfied: jupyter-events>=0.6.0 in /opt/conda/lib/python3.10/site-packages (from jupyter-server>=1.8->nbclassic>=0.4.7->notebook>=6.0->RISE->-r requirements.txt (line 11)) (0.7.0)\n",
      "Requirement already satisfied: jupyter-server-terminals in /opt/conda/lib/python3.10/site-packages (from jupyter-server>=1.8->nbclassic>=0.4.7->notebook>=6.0->RISE->-r requirements.txt (line 11)) (0.4.4)\n",
      "Requirement already satisfied: overrides in /opt/conda/lib/python3.10/site-packages (from jupyter-server>=1.8->nbclassic>=0.4.7->notebook>=6.0->RISE->-r requirements.txt (line 11)) (6.5.0)\n",
      "Requirement already satisfied: websocket-client in /opt/conda/lib/python3.10/site-packages (from jupyter-server>=1.8->nbclassic>=0.4.7->notebook>=6.0->RISE->-r requirements.txt (line 11)) (1.6.2)\n",
      "Requirement already satisfied: pyasn1<0.5.0,>=0.4.6 in /opt/conda/lib/python3.10/site-packages (from pyasn1-modules>=0.2.1->google-auth<3,>=1.6.3->tensorboard<2.14,>=2.13->tensorflow->-r requirements.txt (line 14)) (0.4.8)\n",
      "Requirement already satisfied: oauthlib>=3.0.0 in /opt/conda/lib/python3.10/site-packages (from requests-oauthlib>=0.7.0->google-auth-oauthlib<1.1,>=0.5->tensorboard<2.14,>=2.13->tensorflow->-r requirements.txt (line 14)) (3.2.2)\n",
      "Requirement already satisfied: cffi>=1.0.1 in /opt/conda/lib/python3.10/site-packages (from argon2-cffi-bindings->argon2-cffi->notebook>=6.0->RISE->-r requirements.txt (line 11)) (1.15.1)\n",
      "Requirement already satisfied: sniffio>=1.1 in /opt/conda/lib/python3.10/site-packages (from anyio>=3.1.0->jupyter-server>=1.8->nbclassic>=0.4.7->notebook>=6.0->RISE->-r requirements.txt (line 11)) (1.3.0)\n",
      "Requirement already satisfied: exceptiongroup in /opt/conda/lib/python3.10/site-packages (from anyio>=3.1.0->jupyter-server>=1.8->nbclassic>=0.4.7->notebook>=6.0->RISE->-r requirements.txt (line 11)) (1.1.3)\n",
      "Requirement already satisfied: pycparser in /opt/conda/lib/python3.10/site-packages (from cffi>=1.0.1->argon2-cffi-bindings->argon2-cffi->notebook>=6.0->RISE->-r requirements.txt (line 11)) (2.21)\n",
      "Requirement already satisfied: parso<0.9.0,>=0.8.3 in /opt/conda/lib/python3.10/site-packages (from jedi>=0.16->ipython>=7.23.1->ipykernel->notebook>=6.0->RISE->-r requirements.txt (line 11)) (0.8.3)\n",
      "Requirement already satisfied: python-json-logger>=2.0.4 in /opt/conda/lib/python3.10/site-packages (from jupyter-events>=0.6.0->jupyter-server>=1.8->nbclassic>=0.4.7->notebook>=6.0->RISE->-r requirements.txt (line 11)) (2.0.7)\n",
      "Requirement already satisfied: rfc3339-validator in /opt/conda/lib/python3.10/site-packages (from jupyter-events>=0.6.0->jupyter-server>=1.8->nbclassic>=0.4.7->notebook>=6.0->RISE->-r requirements.txt (line 11)) (0.1.4)\n",
      "Requirement already satisfied: rfc3986-validator>=0.1.1 in /opt/conda/lib/python3.10/site-packages (from jupyter-events>=0.6.0->jupyter-server>=1.8->nbclassic>=0.4.7->notebook>=6.0->RISE->-r requirements.txt (line 11)) (0.1.1)\n",
      "Requirement already satisfied: wcwidth in /opt/conda/lib/python3.10/site-packages (from prompt-toolkit!=3.0.37,<3.1.0,>=3.0.30->ipython>=7.23.1->ipykernel->notebook>=6.0->RISE->-r requirements.txt (line 11)) (0.2.6)\n",
      "Requirement already satisfied: executing>=1.2.0 in /opt/conda/lib/python3.10/site-packages (from stack-data->ipython>=7.23.1->ipykernel->notebook>=6.0->RISE->-r requirements.txt (line 11)) (1.2.0)\n",
      "Requirement already satisfied: asttokens>=2.1.0 in /opt/conda/lib/python3.10/site-packages (from stack-data->ipython>=7.23.1->ipykernel->notebook>=6.0->RISE->-r requirements.txt (line 11)) (2.2.1)\n",
      "Requirement already satisfied: pure-eval in /opt/conda/lib/python3.10/site-packages (from stack-data->ipython>=7.23.1->ipykernel->notebook>=6.0->RISE->-r requirements.txt (line 11)) (0.2.2)\n",
      "Requirement already satisfied: fqdn in /opt/conda/lib/python3.10/site-packages (from jsonschema>=2.6->nbformat>=4.4->nbconvert>=6.0->jupyter-contrib-nbextensions->-r requirements.txt (line 13)) (1.5.1)\n",
      "Requirement already satisfied: isoduration in /opt/conda/lib/python3.10/site-packages (from jsonschema>=2.6->nbformat>=4.4->nbconvert>=6.0->jupyter-contrib-nbextensions->-r requirements.txt (line 13)) (20.11.0)\n",
      "Requirement already satisfied: jsonpointer>1.13 in /opt/conda/lib/python3.10/site-packages (from jsonschema>=2.6->nbformat>=4.4->nbconvert>=6.0->jupyter-contrib-nbextensions->-r requirements.txt (line 13)) (2.0)\n",
      "Requirement already satisfied: uri-template in /opt/conda/lib/python3.10/site-packages (from jsonschema>=2.6->nbformat>=4.4->nbconvert>=6.0->jupyter-contrib-nbextensions->-r requirements.txt (line 13)) (1.3.0)\n",
      "Requirement already satisfied: webcolors>=1.11 in /opt/conda/lib/python3.10/site-packages (from jsonschema>=2.6->nbformat>=4.4->nbconvert>=6.0->jupyter-contrib-nbextensions->-r requirements.txt (line 13)) (1.13)\n",
      "Requirement already satisfied: arrow>=0.15.0 in /opt/conda/lib/python3.10/site-packages (from isoduration->jsonschema>=2.6->nbformat>=4.4->nbconvert>=6.0->jupyter-contrib-nbextensions->-r requirements.txt (line 13)) (1.2.3)\n",
      "Building wheels for collected packages: lightfm, jupyter-contrib-nbextensions, jupyter_contrib_core\n",
      "  Building wheel for lightfm (setup.py) ... \u001b[?25ldone\n",
      "\u001b[?25h  Created wheel for lightfm: filename=lightfm-1.17-cp310-cp310-linux_x86_64.whl size=464219 sha256=e047387456b6a50483e26f9d14ebddfff61b8636c33631afa272689de66cf3fb\n",
      "  Stored in directory: /root/.cache/pip/wheels/4f/9b/7e/0b256f2168511d8fa4dae4fae0200fdbd729eb424a912ad636\n",
      "  Building wheel for jupyter-contrib-nbextensions (setup.py) ... \u001b[?25ldone\n",
      "\u001b[?25h  Created wheel for jupyter-contrib-nbextensions: filename=jupyter_contrib_nbextensions-0.7.0-py2.py3-none-any.whl size=23428781 sha256=d7498edc53200ad06fb0ec61b59e4307b249e0678ade42bb2a9ec6e7e3db966a\n",
      "  Stored in directory: /root/.cache/pip/wheels/ea/cc/7d/99ef154f984726b1201c0f72cfe9c9d7c5132c1a2ae4d8677f\n",
      "  Building wheel for jupyter_contrib_core (setup.py) ... \u001b[?25ldone\n",
      "\u001b[?25h  Created wheel for jupyter_contrib_core: filename=jupyter_contrib_core-0.4.2-py2.py3-none-any.whl size=17484 sha256=121dd505cbc634e823d0cfa4ad0e97590e87ae236df574899d3a8d30d535cb18\n",
      "  Stored in directory: /root/.cache/pip/wheels/a9/52/88/e0643cdfd68f0562087918c37dd583378648dbc3df68b907f7\n",
      "Successfully built lightfm jupyter-contrib-nbextensions jupyter_contrib_core\n",
      "Installing collected packages: jupyter_highlight_selected_word, lightfm, RISE, jupyter_contrib_core, jupyter_nbextensions_configurator, jupyter-contrib-nbextensions\n",
      "Successfully installed RISE-5.7.1 jupyter-contrib-nbextensions-0.7.0 jupyter_contrib_core-0.4.2 jupyter_highlight_selected_word-0.2.0 jupyter_nbextensions_configurator-0.6.3 lightfm-1.17\n"
     ]
    }
   ],
   "source": [
    "!pip install -r requirements.txt"
   ]
  },
  {
   "cell_type": "code",
   "execution_count": 1,
   "metadata": {
    "execution": {
     "iopub.execute_input": "2023-12-05T21:42:57.445437Z",
     "iopub.status.busy": "2023-12-05T21:42:57.444958Z",
     "iopub.status.idle": "2023-12-05T21:43:22.929186Z",
     "shell.execute_reply": "2023-12-05T21:43:22.927829Z",
     "shell.execute_reply.started": "2023-12-05T21:42:57.445398Z"
    },
    "scrolled": true
   },
   "outputs": [
    {
     "name": "stdout",
     "output_type": "stream",
     "text": [
      "Collecting lightfm\n",
      "  Downloading lightfm-1.17.tar.gz (316 kB)\n",
      "\u001b[2K     \u001b[90m━━━━━━━━━━━━━━━━━━━━━━━━━━━━━━━━━━━━━━━\u001b[0m \u001b[32m316.4/316.4 kB\u001b[0m \u001b[31m5.5 MB/s\u001b[0m eta \u001b[36m0:00:00\u001b[0ma \u001b[36m0:00:01\u001b[0m\n",
      "\u001b[?25h  Preparing metadata (setup.py) ... \u001b[?25ldone\n",
      "\u001b[?25hRequirement already satisfied: tqdm in /opt/conda/lib/python3.10/site-packages (4.66.1)\n",
      "Requirement already satisfied: optuna in /opt/conda/lib/python3.10/site-packages (3.4.0)\n",
      "Requirement already satisfied: ipykernel in /opt/conda/lib/python3.10/site-packages (6.25.1)\n",
      "Requirement already satisfied: matplotlib in /opt/conda/lib/python3.10/site-packages (3.7.3)\n",
      "Collecting implicit\n",
      "  Obtaining dependency information for implicit from https://files.pythonhosted.org/packages/cd/cc/deac70cae8cc32c9885d0cd73bc66e1b3cbea36ae7080b8c83995eaf5322/implicit-0.7.2-cp310-cp310-manylinux2014_x86_64.whl.metadata\n",
      "  Downloading implicit-0.7.2-cp310-cp310-manylinux2014_x86_64.whl.metadata (6.1 kB)\n",
      "Requirement already satisfied: numpy in /opt/conda/lib/python3.10/site-packages (from lightfm) (1.24.3)\n",
      "Requirement already satisfied: scipy>=0.17.0 in /opt/conda/lib/python3.10/site-packages (from lightfm) (1.11.3)\n",
      "Requirement already satisfied: requests in /opt/conda/lib/python3.10/site-packages (from lightfm) (2.31.0)\n",
      "Requirement already satisfied: scikit-learn in /opt/conda/lib/python3.10/site-packages (from lightfm) (1.2.2)\n",
      "Requirement already satisfied: alembic>=1.5.0 in /opt/conda/lib/python3.10/site-packages (from optuna) (1.12.1)\n",
      "Requirement already satisfied: colorlog in /opt/conda/lib/python3.10/site-packages (from optuna) (6.7.0)\n",
      "Requirement already satisfied: packaging>=20.0 in /opt/conda/lib/python3.10/site-packages (from optuna) (21.3)\n",
      "Requirement already satisfied: sqlalchemy>=1.3.0 in /opt/conda/lib/python3.10/site-packages (from optuna) (2.0.20)\n",
      "Requirement already satisfied: PyYAML in /opt/conda/lib/python3.10/site-packages (from optuna) (6.0.1)\n",
      "Requirement already satisfied: comm>=0.1.1 in /opt/conda/lib/python3.10/site-packages (from ipykernel) (0.1.4)\n",
      "Requirement already satisfied: debugpy>=1.6.5 in /opt/conda/lib/python3.10/site-packages (from ipykernel) (1.6.7.post1)\n",
      "Requirement already satisfied: ipython>=7.23.1 in /opt/conda/lib/python3.10/site-packages (from ipykernel) (8.14.0)\n",
      "Requirement already satisfied: jupyter-client>=6.1.12 in /opt/conda/lib/python3.10/site-packages (from ipykernel) (7.4.9)\n",
      "Requirement already satisfied: jupyter-core!=5.0.*,>=4.12 in /opt/conda/lib/python3.10/site-packages (from ipykernel) (5.3.1)\n",
      "Requirement already satisfied: matplotlib-inline>=0.1 in /opt/conda/lib/python3.10/site-packages (from ipykernel) (0.1.6)\n",
      "Requirement already satisfied: nest-asyncio in /opt/conda/lib/python3.10/site-packages (from ipykernel) (1.5.6)\n",
      "Requirement already satisfied: psutil in /opt/conda/lib/python3.10/site-packages (from ipykernel) (5.9.3)\n",
      "Requirement already satisfied: pyzmq>=20 in /opt/conda/lib/python3.10/site-packages (from ipykernel) (24.0.1)\n",
      "Requirement already satisfied: tornado>=6.1 in /opt/conda/lib/python3.10/site-packages (from ipykernel) (6.3.3)\n",
      "Requirement already satisfied: traitlets>=5.4.0 in /opt/conda/lib/python3.10/site-packages (from ipykernel) (5.9.0)\n",
      "Requirement already satisfied: contourpy>=1.0.1 in /opt/conda/lib/python3.10/site-packages (from matplotlib) (1.1.0)\n",
      "Requirement already satisfied: cycler>=0.10 in /opt/conda/lib/python3.10/site-packages (from matplotlib) (0.11.0)\n",
      "Requirement already satisfied: fonttools>=4.22.0 in /opt/conda/lib/python3.10/site-packages (from matplotlib) (4.42.1)\n",
      "Requirement already satisfied: kiwisolver>=1.0.1 in /opt/conda/lib/python3.10/site-packages (from matplotlib) (1.4.4)\n",
      "Requirement already satisfied: pillow>=6.2.0 in /opt/conda/lib/python3.10/site-packages (from matplotlib) (10.1.0)\n",
      "Requirement already satisfied: pyparsing>=2.3.1 in /opt/conda/lib/python3.10/site-packages (from matplotlib) (3.0.9)\n",
      "Requirement already satisfied: python-dateutil>=2.7 in /opt/conda/lib/python3.10/site-packages (from matplotlib) (2.8.2)\n",
      "Requirement already satisfied: threadpoolctl in /opt/conda/lib/python3.10/site-packages (from implicit) (3.2.0)\n",
      "Requirement already satisfied: Mako in /opt/conda/lib/python3.10/site-packages (from alembic>=1.5.0->optuna) (1.3.0)\n",
      "Requirement already satisfied: typing-extensions>=4 in /opt/conda/lib/python3.10/site-packages (from alembic>=1.5.0->optuna) (4.5.0)\n",
      "Requirement already satisfied: backcall in /opt/conda/lib/python3.10/site-packages (from ipython>=7.23.1->ipykernel) (0.2.0)\n",
      "Requirement already satisfied: decorator in /opt/conda/lib/python3.10/site-packages (from ipython>=7.23.1->ipykernel) (5.1.1)\n",
      "Requirement already satisfied: jedi>=0.16 in /opt/conda/lib/python3.10/site-packages (from ipython>=7.23.1->ipykernel) (0.19.0)\n",
      "Requirement already satisfied: pickleshare in /opt/conda/lib/python3.10/site-packages (from ipython>=7.23.1->ipykernel) (0.7.5)\n",
      "Requirement already satisfied: prompt-toolkit!=3.0.37,<3.1.0,>=3.0.30 in /opt/conda/lib/python3.10/site-packages (from ipython>=7.23.1->ipykernel) (3.0.39)\n",
      "Requirement already satisfied: pygments>=2.4.0 in /opt/conda/lib/python3.10/site-packages (from ipython>=7.23.1->ipykernel) (2.16.1)\n",
      "Requirement already satisfied: stack-data in /opt/conda/lib/python3.10/site-packages (from ipython>=7.23.1->ipykernel) (0.6.2)\n",
      "Requirement already satisfied: pexpect>4.3 in /opt/conda/lib/python3.10/site-packages (from ipython>=7.23.1->ipykernel) (4.8.0)\n",
      "Requirement already satisfied: entrypoints in /opt/conda/lib/python3.10/site-packages (from jupyter-client>=6.1.12->ipykernel) (0.4)\n",
      "Requirement already satisfied: platformdirs>=2.5 in /opt/conda/lib/python3.10/site-packages (from jupyter-core!=5.0.*,>=4.12->ipykernel) (4.0.0)\n",
      "Requirement already satisfied: six>=1.5 in /opt/conda/lib/python3.10/site-packages (from python-dateutil>=2.7->matplotlib) (1.16.0)\n",
      "Requirement already satisfied: greenlet!=0.4.17 in /opt/conda/lib/python3.10/site-packages (from sqlalchemy>=1.3.0->optuna) (2.0.2)\n",
      "Requirement already satisfied: charset-normalizer<4,>=2 in /opt/conda/lib/python3.10/site-packages (from requests->lightfm) (3.2.0)\n",
      "Requirement already satisfied: idna<4,>=2.5 in /opt/conda/lib/python3.10/site-packages (from requests->lightfm) (3.4)\n",
      "Requirement already satisfied: urllib3<3,>=1.21.1 in /opt/conda/lib/python3.10/site-packages (from requests->lightfm) (1.26.15)\n",
      "Requirement already satisfied: certifi>=2017.4.17 in /opt/conda/lib/python3.10/site-packages (from requests->lightfm) (2023.7.22)\n",
      "Requirement already satisfied: joblib>=1.1.1 in /opt/conda/lib/python3.10/site-packages (from scikit-learn->lightfm) (1.3.2)\n",
      "Requirement already satisfied: parso<0.9.0,>=0.8.3 in /opt/conda/lib/python3.10/site-packages (from jedi>=0.16->ipython>=7.23.1->ipykernel) (0.8.3)\n",
      "Requirement already satisfied: ptyprocess>=0.5 in /opt/conda/lib/python3.10/site-packages (from pexpect>4.3->ipython>=7.23.1->ipykernel) (0.7.0)\n",
      "Requirement already satisfied: wcwidth in /opt/conda/lib/python3.10/site-packages (from prompt-toolkit!=3.0.37,<3.1.0,>=3.0.30->ipython>=7.23.1->ipykernel) (0.2.6)\n",
      "Requirement already satisfied: MarkupSafe>=0.9.2 in /opt/conda/lib/python3.10/site-packages (from Mako->alembic>=1.5.0->optuna) (2.1.3)\n",
      "Requirement already satisfied: executing>=1.2.0 in /opt/conda/lib/python3.10/site-packages (from stack-data->ipython>=7.23.1->ipykernel) (1.2.0)\n",
      "Requirement already satisfied: asttokens>=2.1.0 in /opt/conda/lib/python3.10/site-packages (from stack-data->ipython>=7.23.1->ipykernel) (2.2.1)\n",
      "Requirement already satisfied: pure-eval in /opt/conda/lib/python3.10/site-packages (from stack-data->ipython>=7.23.1->ipykernel) (0.2.2)\n",
      "Downloading implicit-0.7.2-cp310-cp310-manylinux2014_x86_64.whl (8.9 MB)\n",
      "\u001b[2K   \u001b[90m━━━━━━━━━━━━━━━━━━━━━━━━━━━━━━━━━━━━━━━━\u001b[0m \u001b[32m8.9/8.9 MB\u001b[0m \u001b[31m52.2 MB/s\u001b[0m eta \u001b[36m0:00:00\u001b[0m00:01\u001b[0m00:01\u001b[0m\n",
      "\u001b[?25hBuilding wheels for collected packages: lightfm\n",
      "  Building wheel for lightfm (setup.py) ... \u001b[?25ldone\n",
      "\u001b[?25h  Created wheel for lightfm: filename=lightfm-1.17-cp310-cp310-linux_x86_64.whl size=464219 sha256=e07fa35d48822165eaf4018e6beaeec5e56b05dd28764f917c4090f102c9c2b2\n",
      "  Stored in directory: /root/.cache/pip/wheels/4f/9b/7e/0b256f2168511d8fa4dae4fae0200fdbd729eb424a912ad636\n",
      "Successfully built lightfm\n",
      "Installing collected packages: implicit, lightfm\n",
      "Successfully installed implicit-0.7.2 lightfm-1.17\n"
     ]
    }
   ],
   "source": [
    "!pip install lightfm tqdm optuna ipykernel matplotlib implicit"
   ]
  },
  {
   "cell_type": "code",
   "execution_count": 4,
   "metadata": {
    "execution": {
     "iopub.execute_input": "2023-12-05T11:56:20.523489Z",
     "iopub.status.busy": "2023-12-05T11:56:20.523046Z",
     "iopub.status.idle": "2023-12-05T11:59:27.146310Z",
     "shell.execute_reply": "2023-12-05T11:59:27.145243Z",
     "shell.execute_reply.started": "2023-12-05T11:56:20.523447Z"
    },
    "scrolled": true
   },
   "outputs": [
    {
     "name": "stdout",
     "output_type": "stream",
     "text": [
      "run_compile_all_cython: Found 10 Cython files in 4 folders...\n",
      "run_compile_all_cython: All files will be compiled using your current python environment: '/opt/conda/bin/python'\n",
      "Compiling [1/10]: MatrixFactorizationImpressions_Cython_Epoch.pyx... \n",
      "In file included from \u001b[01m\u001b[K/opt/conda/lib/python3.10/site-packages/numpy/core/include/numpy/ndarraytypes.h:1940\u001b[m\u001b[K,\n",
      "                 from \u001b[01m\u001b[K/opt/conda/lib/python3.10/site-packages/numpy/core/include/numpy/ndarrayobject.h:12\u001b[m\u001b[K,\n",
      "                 from \u001b[01m\u001b[K/opt/conda/lib/python3.10/site-packages/numpy/core/include/numpy/arrayobject.h:5\u001b[m\u001b[K,\n",
      "                 from \u001b[01m\u001b[KMatrixFactorizationImpressions_Cython_Epoch.c:1109\u001b[m\u001b[K:\n",
      "\u001b[01m\u001b[K/opt/conda/lib/python3.10/site-packages/numpy/core/include/numpy/npy_1_7_deprecated_api.h:17:2:\u001b[m\u001b[K \u001b[01;35m\u001b[Kwarning: \u001b[m\u001b[K#warning \"Using deprecated NumPy API, disable it with \" \"#define NPY_NO_DEPRECATED_API NPY_1_7_API_VERSION\" [\u001b[01;35m\u001b[K-Wcpp\u001b[m\u001b[K]\n",
      "   17 | #\u001b[01;35m\u001b[Kwarning\u001b[m\u001b[K \"Using deprecated NumPy API, disable it with \" \\\n",
      "      |  \u001b[01;35m\u001b[K^~~~~~~\u001b[m\u001b[K\n",
      "\u001b[01m\u001b[KMatrixFactorizationImpressions_Cython_Epoch.c:\u001b[m\u001b[K In function ‘\u001b[01m\u001b[K__pyx_f_43MatrixFactorizationImpressions_Cython_Epoch_32MatrixFactorization_Cython_Epoch_sampleBPR_Cython\u001b[m\u001b[K’:\n",
      "\u001b[01m\u001b[KMatrixFactorizationImpressions_Cython_Epoch.c:29445:17:\u001b[m\u001b[K \u001b[01;35m\u001b[Kwarning: \u001b[m\u001b[K‘\u001b[01m\u001b[K__pyx_v_start_pos_impression_items\u001b[m\u001b[K’ may be used uninitialized in this function [\u001b[01;35m\u001b[K-Wmaybe-uninitialized\u001b[m\u001b[K]\n",
      "29445 |       \u001b[01;35m\u001b[K__pyx_t_4 = (__pyx_v_start_pos_impression_items + __pyx_v_index)\u001b[m\u001b[K;\n",
      "      |       \u001b[01;35m\u001b[K~~~~~~~~~~^~~~~~~~~~~~~~~~~~~~~~~~~~~~~~~~~~~~~~~~~~~~~~~~~~~~~~\u001b[m\u001b[K\n",
      "\u001b[01m\u001b[KMatrixFactorizationImpressions_Cython_Epoch.c:\u001b[m\u001b[K In function ‘\u001b[01m\u001b[K__pyx_pf_43MatrixFactorizationImpressions_Cython_Epoch_32MatrixFactorization_Cython_Epoch_10epochIteration_Cython_ASY_SVD_SGD\u001b[m\u001b[K’:\n",
      "\u001b[01m\u001b[KMatrixFactorizationImpressions_Cython_Epoch.c:25281:7:\u001b[m\u001b[K \u001b[01;35m\u001b[Kwarning: \u001b[m\u001b[K‘\u001b[01m\u001b[K__pyx_v_end_pos_seen_items\u001b[m\u001b[K’ may be used uninitialized in this function [\u001b[01;35m\u001b[K-Wmaybe-uninitialized\u001b[m\u001b[K]\n",
      "25281 |       \u001b[01;35m\u001b[Kfor\u001b[m\u001b[K (__pyx_t_20 = __pyx_v_start_pos_seen_items; __pyx_t_20 < __pyx_t_19; __pyx_t_20+=1) {\n",
      "      |       \u001b[01;35m\u001b[K^~~\u001b[m\u001b[K\n",
      "\u001b[01m\u001b[KMatrixFactorizationImpressions_Cython_Epoch.c:25281:7:\u001b[m\u001b[K \u001b[01;35m\u001b[Kwarning: \u001b[m\u001b[K‘\u001b[01m\u001b[K__pyx_v_start_pos_seen_items\u001b[m\u001b[K’ may be used uninitialized in this function [\u001b[01;35m\u001b[K-Wmaybe-uninitialized\u001b[m\u001b[K]\n",
      "/opt/conda/lib/python3.10/site-packages/Cython/Compiler/Main.py:381: FutureWarning: Cython directive 'language_level' not set, using '3str' for now (Py3). This has changed from earlier releases! File: /kaggle/working/Recommenders/MatrixFactorization/Cython/MatrixFactorizationImpressions_Cython_Epoch.pyx\n",
      "  tree = Parsing.p_module(s, pxd, full_module_name)\n",
      "Compiling [1/10]: MatrixFactorizationImpressions_Cython_Epoch.pyx... PASS\n",
      "\n",
      "Compiling [2/10]: MatrixFactorization_Cython_Epoch.pyx... \n",
      "In file included from \u001b[01m\u001b[K/opt/conda/lib/python3.10/site-packages/numpy/core/include/numpy/ndarraytypes.h:1940\u001b[m\u001b[K,\n",
      "                 from \u001b[01m\u001b[K/opt/conda/lib/python3.10/site-packages/numpy/core/include/numpy/ndarrayobject.h:12\u001b[m\u001b[K,\n",
      "                 from \u001b[01m\u001b[K/opt/conda/lib/python3.10/site-packages/numpy/core/include/numpy/arrayobject.h:5\u001b[m\u001b[K,\n",
      "                 from \u001b[01m\u001b[KMatrixFactorization_Cython_Epoch.c:1109\u001b[m\u001b[K:\n",
      "\u001b[01m\u001b[K/opt/conda/lib/python3.10/site-packages/numpy/core/include/numpy/npy_1_7_deprecated_api.h:17:2:\u001b[m\u001b[K \u001b[01;35m\u001b[Kwarning: \u001b[m\u001b[K#warning \"Using deprecated NumPy API, disable it with \" \"#define NPY_NO_DEPRECATED_API NPY_1_7_API_VERSION\" [\u001b[01;35m\u001b[K-Wcpp\u001b[m\u001b[K]\n",
      "   17 | #\u001b[01;35m\u001b[Kwarning\u001b[m\u001b[K \"Using deprecated NumPy API, disable it with \" \\\n",
      "      |  \u001b[01;35m\u001b[K^~~~~~~\u001b[m\u001b[K\n",
      "\u001b[01m\u001b[KMatrixFactorization_Cython_Epoch.c:\u001b[m\u001b[K In function ‘\u001b[01m\u001b[K__pyx_pf_32MatrixFactorization_Cython_Epoch_32MatrixFactorization_Cython_Epoch_10epochIteration_Cython_ASY_SVD_SGD\u001b[m\u001b[K’:\n",
      "\u001b[01m\u001b[KMatrixFactorization_Cython_Epoch.c:25415:9:\u001b[m\u001b[K \u001b[01;35m\u001b[Kwarning: \u001b[m\u001b[K‘\u001b[01m\u001b[K__pyx_v_end_pos_seen_items\u001b[m\u001b[K’ may be used uninitialized in this function [\u001b[01;35m\u001b[K-Wmaybe-uninitialized\u001b[m\u001b[K]\n",
      "25415 |         \u001b[01;35m\u001b[Kfor\u001b[m\u001b[K (__pyx_t_20 = __pyx_v_start_pos_seen_items; __pyx_t_20 < __pyx_t_19; __pyx_t_20+=1) {\n",
      "      |         \u001b[01;35m\u001b[K^~~\u001b[m\u001b[K\n",
      "\u001b[01m\u001b[KMatrixFactorization_Cython_Epoch.c:25415:9:\u001b[m\u001b[K \u001b[01;35m\u001b[Kwarning: \u001b[m\u001b[K‘\u001b[01m\u001b[K__pyx_v_start_pos_seen_items\u001b[m\u001b[K’ may be used uninitialized in this function [\u001b[01;35m\u001b[K-Wmaybe-uninitialized\u001b[m\u001b[K]\n",
      "/opt/conda/lib/python3.10/site-packages/Cython/Compiler/Main.py:381: FutureWarning: Cython directive 'language_level' not set, using '3str' for now (Py3). This has changed from earlier releases! File: /kaggle/working/Recommenders/MatrixFactorization/Cython/MatrixFactorization_Cython_Epoch.pyx\n",
      "  tree = Parsing.p_module(s, pxd, full_module_name)\n",
      "Compiling [2/10]: MatrixFactorization_Cython_Epoch.pyx... PASS\n",
      "\n",
      "Compiling [3/10]: Compute_Similarity_Cython.pyx... \n",
      "In file included from \u001b[01m\u001b[K/opt/conda/lib/python3.10/site-packages/numpy/core/include/numpy/ndarraytypes.h:1940\u001b[m\u001b[K,\n",
      "                 from \u001b[01m\u001b[K/opt/conda/lib/python3.10/site-packages/numpy/core/include/numpy/ndarrayobject.h:12\u001b[m\u001b[K,\n",
      "                 from \u001b[01m\u001b[K/opt/conda/lib/python3.10/site-packages/numpy/core/include/numpy/arrayobject.h:5\u001b[m\u001b[K,\n",
      "                 from \u001b[01m\u001b[KCompute_Similarity_Cython.c:1109\u001b[m\u001b[K:\n",
      "\u001b[01m\u001b[K/opt/conda/lib/python3.10/site-packages/numpy/core/include/numpy/npy_1_7_deprecated_api.h:17:2:\u001b[m\u001b[K \u001b[01;35m\u001b[Kwarning: \u001b[m\u001b[K#warning \"Using deprecated NumPy API, disable it with \" \"#define NPY_NO_DEPRECATED_API NPY_1_7_API_VERSION\" [\u001b[01;35m\u001b[K-Wcpp\u001b[m\u001b[K]\n",
      "   17 | #\u001b[01;35m\u001b[Kwarning\u001b[m\u001b[K \"Using deprecated NumPy API, disable it with \" \\\n",
      "      |  \u001b[01;35m\u001b[K^~~~~~~\u001b[m\u001b[K\n",
      "/opt/conda/lib/python3.10/site-packages/Cython/Compiler/Main.py:381: FutureWarning: Cython directive 'language_level' not set, using '3str' for now (Py3). This has changed from earlier releases! File: /kaggle/working/Recommenders/Similarity/Cython/Compute_Similarity_Cython.pyx\n",
      "  tree = Parsing.p_module(s, pxd, full_module_name)\n",
      "Compiling [3/10]: Compute_Similarity_Cython.pyx... PASS\n",
      "\n",
      "Compiling [4/10]: SLIM_BPR_Cython_Epoch.pyx... \n",
      "warning: SLIM_BPR_Cython_Epoch.pyx:626:34: Non-trivial type declarators in shared declaration (e.g. mix of pointers and values). Each pointer declaration should be on its own line.\n",
      "warning: SLIM_BPR_Cython_Epoch.pyx:626:66: Non-trivial type declarators in shared declaration (e.g. mix of pointers and values). Each pointer declaration should be on its own line.\n",
      "warning: SLIM_BPR_Cython_Epoch.pyx:811:35: Non-trivial type declarators in shared declaration (e.g. mix of pointers and values). Each pointer declaration should be on its own line.\n",
      "warning: SLIM_BPR_Cython_Epoch.pyx:811:52: Non-trivial type declarators in shared declaration (e.g. mix of pointers and values). Each pointer declaration should be on its own line.\n",
      "warning: SLIM_BPR_Cython_Epoch.pyx:910:35: Non-trivial type declarators in shared declaration (e.g. mix of pointers and values). Each pointer declaration should be on its own line.\n",
      "warning: SLIM_BPR_Cython_Epoch.pyx:910:53: Non-trivial type declarators in shared declaration (e.g. mix of pointers and values). Each pointer declaration should be on its own line.\n",
      "warning: SLIM_BPR_Cython_Epoch.pyx:910:69: Non-trivial type declarators in shared declaration (e.g. mix of pointers and values). Each pointer declaration should be on its own line.\n",
      "warning: SLIM_BPR_Cython_Epoch.pyx:1045:35: Non-trivial type declarators in shared declaration (e.g. mix of pointers and values). Each pointer declaration should be on its own line.\n",
      "warning: SLIM_BPR_Cython_Epoch.pyx:1045:42: Non-trivial type declarators in shared declaration (e.g. mix of pointers and values). Each pointer declaration should be on its own line.\n",
      "warning: SLIM_BPR_Cython_Epoch.pyx:1046:35: Non-trivial type declarators in shared declaration (e.g. mix of pointers and values). Each pointer declaration should be on its own line.\n",
      "warning: SLIM_BPR_Cython_Epoch.pyx:1046:53: Non-trivial type declarators in shared declaration (e.g. mix of pointers and values). Each pointer declaration should be on its own line.\n",
      "In file included from \u001b[01m\u001b[K/opt/conda/lib/python3.10/site-packages/numpy/core/include/numpy/ndarraytypes.h:1940\u001b[m\u001b[K,\n",
      "                 from \u001b[01m\u001b[K/opt/conda/lib/python3.10/site-packages/numpy/core/include/numpy/ndarrayobject.h:12\u001b[m\u001b[K,\n",
      "                 from \u001b[01m\u001b[K/opt/conda/lib/python3.10/site-packages/numpy/core/include/numpy/arrayobject.h:5\u001b[m\u001b[K,\n",
      "                 from \u001b[01m\u001b[KSLIM_BPR_Cython_Epoch.c:1109\u001b[m\u001b[K:\n",
      "\u001b[01m\u001b[K/opt/conda/lib/python3.10/site-packages/numpy/core/include/numpy/npy_1_7_deprecated_api.h:17:2:\u001b[m\u001b[K \u001b[01;35m\u001b[Kwarning: \u001b[m\u001b[K#warning \"Using deprecated NumPy API, disable it with \" \"#define NPY_NO_DEPRECATED_API NPY_1_7_API_VERSION\" [\u001b[01;35m\u001b[K-Wcpp\u001b[m\u001b[K]\n",
      "   17 | #\u001b[01;35m\u001b[Kwarning\u001b[m\u001b[K \"Using deprecated NumPy API, disable it with \" \\\n",
      "      |  \u001b[01;35m\u001b[K^~~~~~~\u001b[m\u001b[K\n",
      "\u001b[01m\u001b[KSLIM_BPR_Cython_Epoch.c:\u001b[m\u001b[K In function ‘\u001b[01m\u001b[K__pyx_f_21SLIM_BPR_Cython_Epoch_22Sparse_Matrix_Tree_CSR_test_list_tee_conversion\u001b[m\u001b[K’:\n",
      "\u001b[01m\u001b[KSLIM_BPR_Cython_Epoch.c:28336:15:\u001b[m\u001b[K \u001b[01;35m\u001b[Kwarning: \u001b[m\u001b[K‘\u001b[01m\u001b[K__pyx_v_previous_element\u001b[m\u001b[K’ may be used uninitialized in this function [\u001b[01;35m\u001b[K-Wmaybe-uninitialized\u001b[m\u001b[K]\n",
      "28336 |     \u001b[01;35m\u001b[K__pyx_t_7 = __pyx_v_current_element->lower\u001b[m\u001b[K;\n",
      "      |     \u001b[01;35m\u001b[K~~~~~~~~~~^~~~~~~~~~~~~~~~~~~~~~~~~~~~~~~~\u001b[m\u001b[K\n",
      "/opt/conda/lib/python3.10/site-packages/Cython/Compiler/Main.py:381: FutureWarning: Cython directive 'language_level' not set, using '3str' for now (Py3). This has changed from earlier releases! File: /kaggle/working/Recommenders/SLIM/Cython/SLIM_BPR_Cython_Epoch.pyx\n",
      "  tree = Parsing.p_module(s, pxd, full_module_name)\n",
      "warning: SLIM_BPR_Cython_Epoch.pyx:626:34: Non-trivial type declarators in shared declaration (e.g. mix of pointers and values). Each pointer declaration should be on its own line.\n",
      "warning: SLIM_BPR_Cython_Epoch.pyx:626:66: Non-trivial type declarators in shared declaration (e.g. mix of pointers and values). Each pointer declaration should be on its own line.\n",
      "warning: SLIM_BPR_Cython_Epoch.pyx:811:35: Non-trivial type declarators in shared declaration (e.g. mix of pointers and values). Each pointer declaration should be on its own line.\n",
      "warning: SLIM_BPR_Cython_Epoch.pyx:811:52: Non-trivial type declarators in shared declaration (e.g. mix of pointers and values). Each pointer declaration should be on its own line.\n",
      "warning: SLIM_BPR_Cython_Epoch.pyx:910:35: Non-trivial type declarators in shared declaration (e.g. mix of pointers and values). Each pointer declaration should be on its own line.\n",
      "warning: SLIM_BPR_Cython_Epoch.pyx:910:53: Non-trivial type declarators in shared declaration (e.g. mix of pointers and values). Each pointer declaration should be on its own line.\n",
      "warning: SLIM_BPR_Cython_Epoch.pyx:910:69: Non-trivial type declarators in shared declaration (e.g. mix of pointers and values). Each pointer declaration should be on its own line.\n",
      "warning: SLIM_BPR_Cython_Epoch.pyx:1045:35: Non-trivial type declarators in shared declaration (e.g. mix of pointers and values). Each pointer declaration should be on its own line.\n",
      "warning: SLIM_BPR_Cython_Epoch.pyx:1045:42: Non-trivial type declarators in shared declaration (e.g. mix of pointers and values). Each pointer declaration should be on its own line.\n",
      "warning: SLIM_BPR_Cython_Epoch.pyx:1046:35: Non-trivial type declarators in shared declaration (e.g. mix of pointers and values). Each pointer declaration should be on its own line.\n",
      "warning: SLIM_BPR_Cython_Epoch.pyx:1046:53: Non-trivial type declarators in shared declaration (e.g. mix of pointers and values). Each pointer declaration should be on its own line.\n",
      "Compiling [4/10]: SLIM_BPR_Cython_Epoch.pyx... PASS\n",
      "\n",
      "Compiling [5/10]: Sparse_Matrix_Tree_CSR.pyx... \n",
      "warning: Sparse_Matrix_Tree_CSR.pyx:132:34: Non-trivial type declarators in shared declaration (e.g. mix of pointers and values). Each pointer declaration should be on its own line.\n",
      "warning: Sparse_Matrix_Tree_CSR.pyx:132:66: Non-trivial type declarators in shared declaration (e.g. mix of pointers and values). Each pointer declaration should be on its own line.\n",
      "warning: Sparse_Matrix_Tree_CSR.pyx:343:35: Non-trivial type declarators in shared declaration (e.g. mix of pointers and values). Each pointer declaration should be on its own line.\n",
      "warning: Sparse_Matrix_Tree_CSR.pyx:343:52: Non-trivial type declarators in shared declaration (e.g. mix of pointers and values). Each pointer declaration should be on its own line.\n",
      "warning: Sparse_Matrix_Tree_CSR.pyx:442:35: Non-trivial type declarators in shared declaration (e.g. mix of pointers and values). Each pointer declaration should be on its own line.\n",
      "warning: Sparse_Matrix_Tree_CSR.pyx:442:53: Non-trivial type declarators in shared declaration (e.g. mix of pointers and values). Each pointer declaration should be on its own line.\n",
      "warning: Sparse_Matrix_Tree_CSR.pyx:442:69: Non-trivial type declarators in shared declaration (e.g. mix of pointers and values). Each pointer declaration should be on its own line.\n",
      "warning: Sparse_Matrix_Tree_CSR.pyx:577:35: Non-trivial type declarators in shared declaration (e.g. mix of pointers and values). Each pointer declaration should be on its own line.\n",
      "warning: Sparse_Matrix_Tree_CSR.pyx:577:42: Non-trivial type declarators in shared declaration (e.g. mix of pointers and values). Each pointer declaration should be on its own line.\n",
      "warning: Sparse_Matrix_Tree_CSR.pyx:578:35: Non-trivial type declarators in shared declaration (e.g. mix of pointers and values). Each pointer declaration should be on its own line.\n",
      "warning: Sparse_Matrix_Tree_CSR.pyx:578:53: Non-trivial type declarators in shared declaration (e.g. mix of pointers and values). Each pointer declaration should be on its own line.\n",
      "In file included from \u001b[01m\u001b[K/opt/conda/lib/python3.10/site-packages/numpy/core/include/numpy/ndarraytypes.h:1940\u001b[m\u001b[K,\n",
      "                 from \u001b[01m\u001b[K/opt/conda/lib/python3.10/site-packages/numpy/core/include/numpy/ndarrayobject.h:12\u001b[m\u001b[K,\n",
      "                 from \u001b[01m\u001b[K/opt/conda/lib/python3.10/site-packages/numpy/core/include/numpy/arrayobject.h:5\u001b[m\u001b[K,\n",
      "                 from \u001b[01m\u001b[KSparse_Matrix_Tree_CSR.c:1109\u001b[m\u001b[K:\n",
      "\u001b[01m\u001b[K/opt/conda/lib/python3.10/site-packages/numpy/core/include/numpy/npy_1_7_deprecated_api.h:17:2:\u001b[m\u001b[K \u001b[01;35m\u001b[Kwarning: \u001b[m\u001b[K#warning \"Using deprecated NumPy API, disable it with \" \"#define NPY_NO_DEPRECATED_API NPY_1_7_API_VERSION\" [\u001b[01;35m\u001b[K-Wcpp\u001b[m\u001b[K]\n",
      "   17 | #\u001b[01;35m\u001b[Kwarning\u001b[m\u001b[K \"Using deprecated NumPy API, disable it with \" \\\n",
      "      |  \u001b[01;35m\u001b[K^~~~~~~\u001b[m\u001b[K\n",
      "\u001b[01m\u001b[KSparse_Matrix_Tree_CSR.c:\u001b[m\u001b[K In function ‘\u001b[01m\u001b[K__pyx_f_22Sparse_Matrix_Tree_CSR_22Sparse_Matrix_Tree_CSR_test_list_tree_conversion\u001b[m\u001b[K’:\n",
      "\u001b[01m\u001b[KSparse_Matrix_Tree_CSR.c:8499:15:\u001b[m\u001b[K \u001b[01;35m\u001b[Kwarning: \u001b[m\u001b[K‘\u001b[01m\u001b[K__pyx_v_previous_element\u001b[m\u001b[K’ may be used uninitialized in this function [\u001b[01;35m\u001b[K-Wmaybe-uninitialized\u001b[m\u001b[K]\n",
      " 8499 |     \u001b[01;35m\u001b[K__pyx_t_7 = __pyx_v_current_element->lower\u001b[m\u001b[K;\n",
      "      |     \u001b[01;35m\u001b[K~~~~~~~~~~^~~~~~~~~~~~~~~~~~~~~~~~~~~~~~~~\u001b[m\u001b[K\n",
      "/opt/conda/lib/python3.10/site-packages/Cython/Compiler/Main.py:381: FutureWarning: Cython directive 'language_level' not set, using '3str' for now (Py3). This has changed from earlier releases! File: /kaggle/working/Recommenders/SLIM/Cython/Sparse_Matrix_Tree_CSR.pyx\n",
      "  tree = Parsing.p_module(s, pxd, full_module_name)\n",
      "warning: Sparse_Matrix_Tree_CSR.pyx:132:34: Non-trivial type declarators in shared declaration (e.g. mix of pointers and values). Each pointer declaration should be on its own line.\n",
      "warning: Sparse_Matrix_Tree_CSR.pyx:132:66: Non-trivial type declarators in shared declaration (e.g. mix of pointers and values). Each pointer declaration should be on its own line.\n",
      "warning: Sparse_Matrix_Tree_CSR.pyx:343:35: Non-trivial type declarators in shared declaration (e.g. mix of pointers and values). Each pointer declaration should be on its own line.\n",
      "warning: Sparse_Matrix_Tree_CSR.pyx:343:52: Non-trivial type declarators in shared declaration (e.g. mix of pointers and values). Each pointer declaration should be on its own line.\n",
      "warning: Sparse_Matrix_Tree_CSR.pyx:442:35: Non-trivial type declarators in shared declaration (e.g. mix of pointers and values). Each pointer declaration should be on its own line.\n",
      "warning: Sparse_Matrix_Tree_CSR.pyx:442:53: Non-trivial type declarators in shared declaration (e.g. mix of pointers and values). Each pointer declaration should be on its own line.\n",
      "warning: Sparse_Matrix_Tree_CSR.pyx:442:69: Non-trivial type declarators in shared declaration (e.g. mix of pointers and values). Each pointer declaration should be on its own line.\n",
      "warning: Sparse_Matrix_Tree_CSR.pyx:577:35: Non-trivial type declarators in shared declaration (e.g. mix of pointers and values). Each pointer declaration should be on its own line.\n",
      "warning: Sparse_Matrix_Tree_CSR.pyx:577:42: Non-trivial type declarators in shared declaration (e.g. mix of pointers and values). Each pointer declaration should be on its own line.\n",
      "warning: Sparse_Matrix_Tree_CSR.pyx:578:35: Non-trivial type declarators in shared declaration (e.g. mix of pointers and values). Each pointer declaration should be on its own line.\n",
      "warning: Sparse_Matrix_Tree_CSR.pyx:578:53: Non-trivial type declarators in shared declaration (e.g. mix of pointers and values). Each pointer declaration should be on its own line.\n",
      "Compiling [5/10]: Sparse_Matrix_Tree_CSR.pyx... PASS\n",
      "\n",
      "Compiling [6/10]: Triangular_Matrix.pyx... \n",
      "In file included from \u001b[01m\u001b[K/opt/conda/lib/python3.10/site-packages/numpy/core/include/numpy/ndarraytypes.h:1940\u001b[m\u001b[K,\n",
      "                 from \u001b[01m\u001b[K/opt/conda/lib/python3.10/site-packages/numpy/core/include/numpy/ndarrayobject.h:12\u001b[m\u001b[K,\n",
      "                 from \u001b[01m\u001b[K/opt/conda/lib/python3.10/site-packages/numpy/core/include/numpy/arrayobject.h:5\u001b[m\u001b[K,\n",
      "                 from \u001b[01m\u001b[KTriangular_Matrix.c:1109\u001b[m\u001b[K:\n",
      "\u001b[01m\u001b[K/opt/conda/lib/python3.10/site-packages/numpy/core/include/numpy/npy_1_7_deprecated_api.h:17:2:\u001b[m\u001b[K \u001b[01;35m\u001b[Kwarning: \u001b[m\u001b[K#warning \"Using deprecated NumPy API, disable it with \" \"#define NPY_NO_DEPRECATED_API NPY_1_7_API_VERSION\" [\u001b[01;35m\u001b[K-Wcpp\u001b[m\u001b[K]\n",
      "   17 | #\u001b[01;35m\u001b[Kwarning\u001b[m\u001b[K \"Using deprecated NumPy API, disable it with \" \\\n",
      "      |  \u001b[01;35m\u001b[K^~~~~~~\u001b[m\u001b[K\n",
      "/opt/conda/lib/python3.10/site-packages/Cython/Compiler/Main.py:381: FutureWarning: Cython directive 'language_level' not set, using '3str' for now (Py3). This has changed from earlier releases! File: /kaggle/working/Recommenders/SLIM/Cython/Triangular_Matrix.pyx\n",
      "  tree = Parsing.p_module(s, pxd, full_module_name)\n",
      "Compiling [6/10]: Triangular_Matrix.pyx... PASS\n",
      "\n",
      "Compiling [7/10]: FBSM_Rating_Cython_SGD.pyx... \n",
      "In file included from \u001b[01m\u001b[K/opt/conda/lib/python3.10/site-packages/numpy/core/include/numpy/ndarraytypes.h:1940\u001b[m\u001b[K,\n",
      "                 from \u001b[01m\u001b[K/opt/conda/lib/python3.10/site-packages/numpy/core/include/numpy/ndarrayobject.h:12\u001b[m\u001b[K,\n",
      "                 from \u001b[01m\u001b[K/opt/conda/lib/python3.10/site-packages/numpy/core/include/numpy/arrayobject.h:5\u001b[m\u001b[K,\n",
      "                 from \u001b[01m\u001b[KFBSM_Rating_Cython_SGD.c:1109\u001b[m\u001b[K:\n",
      "\u001b[01m\u001b[K/opt/conda/lib/python3.10/site-packages/numpy/core/include/numpy/npy_1_7_deprecated_api.h:17:2:\u001b[m\u001b[K \u001b[01;35m\u001b[Kwarning: \u001b[m\u001b[K#warning \"Using deprecated NumPy API, disable it with \" \"#define NPY_NO_DEPRECATED_API NPY_1_7_API_VERSION\" [\u001b[01;35m\u001b[K-Wcpp\u001b[m\u001b[K]\n",
      "   17 | #\u001b[01;35m\u001b[Kwarning\u001b[m\u001b[K \"Using deprecated NumPy API, disable it with \" \\\n",
      "      |  \u001b[01;35m\u001b[K^~~~~~~\u001b[m\u001b[K\n",
      "\u001b[01m\u001b[KFBSM_Rating_Cython_SGD.c:\u001b[m\u001b[K In function ‘\u001b[01m\u001b[K__pyx_pf_22FBSM_Rating_Cython_SGD_22FBSM_Rating_Cython_SGD_2fit\u001b[m\u001b[K’:\n",
      "\u001b[01m\u001b[KFBSM_Rating_Cython_SGD.c:25812:55:\u001b[m\u001b[K \u001b[01;35m\u001b[Kwarning: \u001b[m\u001b[K‘\u001b[01m\u001b[K__pyx_v_num_sample\u001b[m\u001b[K’ may be used uninitialized in this function [\u001b[01;35m\u001b[K-Wmaybe-uninitialized\u001b[m\u001b[K]\n",
      "25812 |   __pyx_t_2 = PyFloat_FromDouble((__pyx_v_cum_loss / \u001b[01;35m\u001b[K((double)__pyx_v_num_sample)\u001b[m\u001b[K)); if (unlikely(!__pyx_t_2)) __PYX_ERR(0, 551, __pyx_L1_error)\n",
      "      |                                                      \u001b[01;35m\u001b[K~^~~~~~~~~~~~~~~~~~~~~~~~~~~\u001b[m\u001b[K\n",
      "/opt/conda/lib/python3.10/site-packages/Cython/Compiler/Main.py:381: FutureWarning: Cython directive 'language_level' not set, using '3str' for now (Py3). This has changed from earlier releases! File: /kaggle/working/Recommenders/FeatureWeighting/Cython/FBSM_Rating_Cython_SGD.pyx\n",
      "  tree = Parsing.p_module(s, pxd, full_module_name)\n",
      "Compiling [7/10]: FBSM_Rating_Cython_SGD.pyx... PASS\n",
      "\n",
      "Compiling [8/10]: CFW_DVV_Similarity_Cython_SGD.pyx... \n",
      "In file included from \u001b[01m\u001b[K/opt/conda/lib/python3.10/site-packages/numpy/core/include/numpy/ndarraytypes.h:1940\u001b[m\u001b[K,\n",
      "                 from \u001b[01m\u001b[K/opt/conda/lib/python3.10/site-packages/numpy/core/include/numpy/ndarrayobject.h:12\u001b[m\u001b[K,\n",
      "                 from \u001b[01m\u001b[K/opt/conda/lib/python3.10/site-packages/numpy/core/include/numpy/arrayobject.h:5\u001b[m\u001b[K,\n",
      "                 from \u001b[01m\u001b[KCFW_DVV_Similarity_Cython_SGD.c:1109\u001b[m\u001b[K:\n",
      "\u001b[01m\u001b[K/opt/conda/lib/python3.10/site-packages/numpy/core/include/numpy/npy_1_7_deprecated_api.h:17:2:\u001b[m\u001b[K \u001b[01;35m\u001b[Kwarning: \u001b[m\u001b[K#warning \"Using deprecated NumPy API, disable it with \" \"#define NPY_NO_DEPRECATED_API NPY_1_7_API_VERSION\" [\u001b[01;35m\u001b[K-Wcpp\u001b[m\u001b[K]\n",
      "   17 | #\u001b[01;35m\u001b[Kwarning\u001b[m\u001b[K \"Using deprecated NumPy API, disable it with \" \\\n",
      "      |  \u001b[01;35m\u001b[K^~~~~~~\u001b[m\u001b[K\n",
      "/opt/conda/lib/python3.10/site-packages/Cython/Compiler/Main.py:381: FutureWarning: Cython directive 'language_level' not set, using '3str' for now (Py3). This has changed from earlier releases! File: /kaggle/working/Recommenders/FeatureWeighting/Cython/CFW_DVV_Similarity_Cython_SGD.pyx\n",
      "  tree = Parsing.p_module(s, pxd, full_module_name)\n",
      "Compiling [8/10]: CFW_DVV_Similarity_Cython_SGD.pyx... PASS\n",
      "\n",
      "Compiling [9/10]: CFW_D_Similarity_Cython_SGD.pyx... \n",
      "In file included from \u001b[01m\u001b[K/opt/conda/lib/python3.10/site-packages/numpy/core/include/numpy/ndarraytypes.h:1940\u001b[m\u001b[K,\n",
      "                 from \u001b[01m\u001b[K/opt/conda/lib/python3.10/site-packages/numpy/core/include/numpy/ndarrayobject.h:12\u001b[m\u001b[K,\n",
      "                 from \u001b[01m\u001b[K/opt/conda/lib/python3.10/site-packages/numpy/core/include/numpy/arrayobject.h:5\u001b[m\u001b[K,\n",
      "                 from \u001b[01m\u001b[KCFW_D_Similarity_Cython_SGD.c:1109\u001b[m\u001b[K:\n",
      "\u001b[01m\u001b[K/opt/conda/lib/python3.10/site-packages/numpy/core/include/numpy/npy_1_7_deprecated_api.h:17:2:\u001b[m\u001b[K \u001b[01;35m\u001b[Kwarning: \u001b[m\u001b[K#warning \"Using deprecated NumPy API, disable it with \" \"#define NPY_NO_DEPRECATED_API NPY_1_7_API_VERSION\" [\u001b[01;35m\u001b[K-Wcpp\u001b[m\u001b[K]\n",
      "   17 | #\u001b[01;35m\u001b[Kwarning\u001b[m\u001b[K \"Using deprecated NumPy API, disable it with \" \\\n",
      "      |  \u001b[01;35m\u001b[K^~~~~~~\u001b[m\u001b[K\n",
      "\u001b[01m\u001b[KCFW_D_Similarity_Cython_SGD.c:\u001b[m\u001b[K In function ‘\u001b[01m\u001b[K__pyx_pf_27CFW_D_Similarity_Cython_SGD_27CFW_D_Similarity_Cython_SGD_6fit\u001b[m\u001b[K’:\n",
      "\u001b[01m\u001b[KCFW_D_Similarity_Cython_SGD.c:22636:55:\u001b[m\u001b[K \u001b[01;35m\u001b[Kwarning: \u001b[m\u001b[K‘\u001b[01m\u001b[K__pyx_v_sample_num\u001b[m\u001b[K’ may be used uninitialized in this function [\u001b[01;35m\u001b[K-Wmaybe-uninitialized\u001b[m\u001b[K]\n",
      "22636 |   __pyx_t_2 = PyFloat_FromDouble((__pyx_v_cum_loss / \u001b[01;35m\u001b[K((double)__pyx_v_sample_num)\u001b[m\u001b[K)); if (unlikely(!__pyx_t_2)) __PYX_ERR(0, 290, __pyx_L1_error)\n",
      "      |                                                      \u001b[01;35m\u001b[K~^~~~~~~~~~~~~~~~~~~~~~~~~~~\u001b[m\u001b[K\n",
      "/opt/conda/lib/python3.10/site-packages/Cython/Compiler/Main.py:381: FutureWarning: Cython directive 'language_level' not set, using '3str' for now (Py3). This has changed from earlier releases! File: /kaggle/working/Recommenders/FeatureWeighting/Cython/CFW_D_Similarity_Cython_SGD.pyx\n",
      "  tree = Parsing.p_module(s, pxd, full_module_name)\n",
      "Compiling [9/10]: CFW_D_Similarity_Cython_SGD.pyx... PASS\n",
      "\n",
      "Compiling [10/10]: HP3_Similarity_Cython_SGD.pyx... \n",
      "warning: HP3_Similarity_Cython_SGD.pyx:113:40: Index should be typed for more efficient access\n",
      "In file included from \u001b[01m\u001b[K/opt/conda/lib/python3.10/site-packages/numpy/core/include/numpy/ndarraytypes.h:1940\u001b[m\u001b[K,\n",
      "                 from \u001b[01m\u001b[K/opt/conda/lib/python3.10/site-packages/numpy/core/include/numpy/ndarrayobject.h:12\u001b[m\u001b[K,\n",
      "                 from \u001b[01m\u001b[K/opt/conda/lib/python3.10/site-packages/numpy/core/include/numpy/arrayobject.h:5\u001b[m\u001b[K,\n",
      "                 from \u001b[01m\u001b[KHP3_Similarity_Cython_SGD.c:1109\u001b[m\u001b[K:\n",
      "\u001b[01m\u001b[K/opt/conda/lib/python3.10/site-packages/numpy/core/include/numpy/npy_1_7_deprecated_api.h:17:2:\u001b[m\u001b[K \u001b[01;35m\u001b[Kwarning: \u001b[m\u001b[K#warning \"Using deprecated NumPy API, disable it with \" \"#define NPY_NO_DEPRECATED_API NPY_1_7_API_VERSION\" [\u001b[01;35m\u001b[K-Wcpp\u001b[m\u001b[K]\n",
      "   17 | #\u001b[01;35m\u001b[Kwarning\u001b[m\u001b[K \"Using deprecated NumPy API, disable it with \" \\\n",
      "      |  \u001b[01;35m\u001b[K^~~~~~~\u001b[m\u001b[K\n",
      "\u001b[01m\u001b[KHP3_Similarity_Cython_SGD.c:\u001b[m\u001b[K In function ‘\u001b[01m\u001b[K__pyx_pf_25HP3_Similarity_Cython_SGD_25HP3_Similarity_Cython_SGD_4fit\u001b[m\u001b[K’:\n",
      "\u001b[01m\u001b[KHP3_Similarity_Cython_SGD.c:22910:55:\u001b[m\u001b[K \u001b[01;35m\u001b[Kwarning: \u001b[m\u001b[K‘\u001b[01m\u001b[K__pyx_v_sample_num\u001b[m\u001b[K’ may be used uninitialized in this function [\u001b[01;35m\u001b[K-Wmaybe-uninitialized\u001b[m\u001b[K]\n",
      "22910 |   __pyx_t_2 = PyFloat_FromDouble((__pyx_v_cum_loss / \u001b[01;35m\u001b[K((double)__pyx_v_sample_num)\u001b[m\u001b[K)); if (unlikely(!__pyx_t_2)) __PYX_ERR(0, 291, __pyx_L1_error)\n",
      "      |                                                      \u001b[01;35m\u001b[K~^~~~~~~~~~~~~~~~~~~~~~~~~~~\u001b[m\u001b[K\n",
      "/opt/conda/lib/python3.10/site-packages/Cython/Compiler/Main.py:381: FutureWarning: Cython directive 'language_level' not set, using '3str' for now (Py3). This has changed from earlier releases! File: /kaggle/working/Recommenders/FeatureWeighting/Cython/HP3_Similarity_Cython_SGD.pyx\n",
      "  tree = Parsing.p_module(s, pxd, full_module_name)\n",
      "warning: HP3_Similarity_Cython_SGD.pyx:113:40: Index should be typed for more efficient access\n",
      "Compiling [10/10]: HP3_Similarity_Cython_SGD.pyx... PASS\n",
      "\n",
      "run_compile_all_cython: Compilation finished. SUCCESS.\n",
      "Compilation log can be found here: './result_experiments/run_compile_all_cython.txt'\n"
     ]
    }
   ],
   "source": [
    "!python run_compile_all_cython.py"
   ]
  },
  {
   "cell_type": "markdown",
   "metadata": {},
   "source": [
    "# Imports"
   ]
  },
  {
   "cell_type": "code",
   "execution_count": 2,
   "metadata": {
    "execution": {
     "iopub.execute_input": "2023-12-05T21:43:22.932171Z",
     "iopub.status.busy": "2023-12-05T21:43:22.931791Z",
     "iopub.status.idle": "2023-12-05T21:43:25.342080Z",
     "shell.execute_reply": "2023-12-05T21:43:25.340519Z",
     "shell.execute_reply.started": "2023-12-05T21:43:22.932138Z"
    }
   },
   "outputs": [],
   "source": [
    "import time\n",
    "import optuna\n",
    "import numpy as np\n",
    "import pandas as pd\n",
    "import scipy.sparse as sps\n",
    "from scipy.sparse import vstack, csr_matrix\n",
    "from scipy.stats import loguniform\n",
    "from lightfm import LightFM\n",
    "from lightfm.evaluation import auc_score, precision_at_k\n",
    "import matplotlib.pyplot as plt\n",
    "from multiprocessing import cpu_count"
   ]
  },
  {
   "cell_type": "code",
   "execution_count": 3,
   "metadata": {
    "execution": {
     "iopub.execute_input": "2023-12-05T21:43:25.344742Z",
     "iopub.status.busy": "2023-12-05T21:43:25.343940Z",
     "iopub.status.idle": "2023-12-05T21:43:26.082343Z",
     "shell.execute_reply": "2023-12-05T21:43:26.081126Z",
     "shell.execute_reply.started": "2023-12-05T21:43:25.344684Z"
    }
   },
   "outputs": [],
   "source": [
    "from Recommenders.BaseRecommender import BaseRecommender\n",
    "from Recommenders.BaseMatrixFactorizationRecommender import BaseMatrixFactorizationRecommender\n",
    "from Recommenders.NonPersonalizedRecommender import TopPop\n",
    "\n",
    "#---- CF\n",
    "from Recommenders.KNN.ItemKNNCFRecommender import ItemKNNCFRecommender\n",
    "from Recommenders.KNN.UserKNNCFRecommender import UserKNNCFRecommender\n",
    "from Recommenders.GraphBased.RP3betaRecommender import RP3betaRecommender\n",
    "from Recommenders.KNN.ItemKNNCustomSimilarityRecommender import ItemKNNCustomSimilarityRecommender\n",
    "\n",
    "#---- Matrix Factorization\n",
    "from Recommenders.MatrixFactorization.NMFRecommender import NMFRecommender\n",
    "\n",
    "#---- CF w/ ML\n",
    "from Recommenders.SLIM.SLIMElasticNetRecommender import SLIMElasticNetRecommender, MultiThreadSLIM_SLIMElasticNetRecommender\n",
    "from implicit.als import AlternatingLeastSquares\n",
    "\n",
    "#---- Others\n",
    "from Data_manager.split_functions.split_train_validation_random_holdout import split_train_in_two_percentage_global_sample\n",
    "from Evaluation.Evaluator import EvaluatorHoldout\n",
    "from Recommenders.Recommender_utils import check_matrix"
   ]
  },
  {
   "cell_type": "code",
   "execution_count": 4,
   "metadata": {
    "execution": {
     "iopub.execute_input": "2023-12-05T21:43:26.085920Z",
     "iopub.status.busy": "2023-12-05T21:43:26.085196Z",
     "iopub.status.idle": "2023-12-05T21:43:26.094388Z",
     "shell.execute_reply": "2023-12-05T21:43:26.093388Z",
     "shell.execute_reply.started": "2023-12-05T21:43:26.085870Z"
    }
   },
   "outputs": [],
   "source": [
    "seed = 69\n",
    "np.random.seed(seed)"
   ]
  },
  {
   "cell_type": "markdown",
   "metadata": {},
   "source": [
    "# Data Import and Preprocessing"
   ]
  },
  {
   "cell_type": "code",
   "execution_count": 5,
   "metadata": {
    "execution": {
     "iopub.execute_input": "2023-12-05T21:43:26.096184Z",
     "iopub.status.busy": "2023-12-05T21:43:26.095759Z",
     "iopub.status.idle": "2023-12-05T21:43:29.043485Z",
     "shell.execute_reply": "2023-12-05T21:43:29.042306Z",
     "shell.execute_reply.started": "2023-12-05T21:43:26.096152Z"
    }
   },
   "outputs": [],
   "source": [
    "# Import training data\n",
    "URM_path = \"../input/data-books/data_train.csv\"\n",
    "URM_all_dataframe = pd.read_csv(filepath_or_buffer=URM_path,\n",
    "                                header=0,\n",
    "                                dtype={0:int, 1:int, 2:int},\n",
    "                                engine='python')\n",
    "\n",
    "URM_all_dataframe.columns = [\"user_id\", \"item_id\", \"interaction\"]"
   ]
  },
  {
   "cell_type": "code",
   "execution_count": 6,
   "metadata": {
    "execution": {
     "iopub.execute_input": "2023-12-05T21:43:29.045805Z",
     "iopub.status.busy": "2023-12-05T21:43:29.045060Z",
     "iopub.status.idle": "2023-12-05T21:43:29.101601Z",
     "shell.execute_reply": "2023-12-05T21:43:29.100533Z",
     "shell.execute_reply.started": "2023-12-05T21:43:29.045764Z"
    }
   },
   "outputs": [
    {
     "data": {
      "text/html": [
       "<div>\n",
       "<style scoped>\n",
       "    .dataframe tbody tr th:only-of-type {\n",
       "        vertical-align: middle;\n",
       "    }\n",
       "\n",
       "    .dataframe tbody tr th {\n",
       "        vertical-align: top;\n",
       "    }\n",
       "\n",
       "    .dataframe thead th {\n",
       "        text-align: right;\n",
       "    }\n",
       "</style>\n",
       "<table border=\"1\" class=\"dataframe\">\n",
       "  <thead>\n",
       "    <tr style=\"text-align: right;\">\n",
       "      <th></th>\n",
       "      <th>user_id</th>\n",
       "    </tr>\n",
       "  </thead>\n",
       "  <tbody>\n",
       "    <tr>\n",
       "      <th>0</th>\n",
       "      <td>1</td>\n",
       "    </tr>\n",
       "    <tr>\n",
       "      <th>1</th>\n",
       "      <td>2</td>\n",
       "    </tr>\n",
       "    <tr>\n",
       "      <th>2</th>\n",
       "      <td>3</td>\n",
       "    </tr>\n",
       "    <tr>\n",
       "      <th>3</th>\n",
       "      <td>4</td>\n",
       "    </tr>\n",
       "    <tr>\n",
       "      <th>4</th>\n",
       "      <td>5</td>\n",
       "    </tr>\n",
       "    <tr>\n",
       "      <th>...</th>\n",
       "      <td>...</td>\n",
       "    </tr>\n",
       "    <tr>\n",
       "      <th>10877</th>\n",
       "      <td>13020</td>\n",
       "    </tr>\n",
       "    <tr>\n",
       "      <th>10878</th>\n",
       "      <td>13021</td>\n",
       "    </tr>\n",
       "    <tr>\n",
       "      <th>10879</th>\n",
       "      <td>13022</td>\n",
       "    </tr>\n",
       "    <tr>\n",
       "      <th>10880</th>\n",
       "      <td>13023</td>\n",
       "    </tr>\n",
       "    <tr>\n",
       "      <th>10881</th>\n",
       "      <td>13024</td>\n",
       "    </tr>\n",
       "  </tbody>\n",
       "</table>\n",
       "<p>10882 rows × 1 columns</p>\n",
       "</div>"
      ],
      "text/plain": [
       "       user_id\n",
       "0            1\n",
       "1            2\n",
       "2            3\n",
       "3            4\n",
       "4            5\n",
       "...        ...\n",
       "10877    13020\n",
       "10878    13021\n",
       "10879    13022\n",
       "10880    13023\n",
       "10881    13024\n",
       "\n",
       "[10882 rows x 1 columns]"
      ]
     },
     "execution_count": 6,
     "metadata": {},
     "output_type": "execute_result"
    }
   ],
   "source": [
    "# Import target users\n",
    "target_path = \"../input/data-books/data_target_users_test.csv\"\n",
    "target_dataframe= pd.read_csv(filepath_or_buffer=target_path,\n",
    "                                header=0,\n",
    "                                dtype={0:int},\n",
    "                                engine='python')\n",
    "target_dataframe.columns = [\"user_id\"]\n",
    "target_dataframe"
   ]
  },
  {
   "cell_type": "code",
   "execution_count": 7,
   "metadata": {
    "execution": {
     "iopub.execute_input": "2023-12-05T21:43:29.103402Z",
     "iopub.status.busy": "2023-12-05T21:43:29.103006Z",
     "iopub.status.idle": "2023-12-05T21:43:29.111835Z",
     "shell.execute_reply": "2023-12-05T21:43:29.110518Z",
     "shell.execute_reply.started": "2023-12-05T21:43:29.103371Z"
    }
   },
   "outputs": [],
   "source": [
    "def preprocess_data(ratings: pd.DataFrame):\n",
    "    unique_users = ratings.user_id.unique()\n",
    "    unique_items = ratings.item_id.unique()\n",
    "\n",
    "    num_users, min_user_id, max_user_id = unique_users.size, unique_users.min(), unique_users.max()\n",
    "    num_items, min_item_id, max_item_id = unique_items.size, unique_items.min(), unique_items.max()\n",
    "\n",
    "    print(num_users, min_user_id, max_user_id)\n",
    "    print(num_items, min_item_id, max_item_id)\n",
    "\n",
    "    mapping_user_id = pd.DataFrame({\"mapped_user_id\": np.arange(num_users), \"user_id\": unique_users})\n",
    "    mapping_item_id = pd.DataFrame({\"mapped_item_id\": np.arange(num_items), \"item_id\": unique_items})\n",
    "\n",
    "    ratings = pd.merge(left=ratings,\n",
    "                       right=mapping_user_id,\n",
    "                       how=\"inner\",\n",
    "                       on=\"user_id\")\n",
    "\n",
    "    ratings = pd.merge(left=ratings,\n",
    "                       right=mapping_item_id,\n",
    "                       how=\"inner\",\n",
    "                       on=\"item_id\")\n",
    "\n",
    "    return ratings"
   ]
  },
  {
   "cell_type": "code",
   "execution_count": 8,
   "metadata": {
    "execution": {
     "iopub.execute_input": "2023-12-05T21:43:29.113592Z",
     "iopub.status.busy": "2023-12-05T21:43:29.113254Z",
     "iopub.status.idle": "2023-12-05T21:43:29.284548Z",
     "shell.execute_reply": "2023-12-05T21:43:29.283263Z",
     "shell.execute_reply.started": "2023-12-05T21:43:29.113565Z"
    }
   },
   "outputs": [
    {
     "name": "stdout",
     "output_type": "stream",
     "text": [
      "12638 1 13024\n",
      "22222 1 22347\n"
     ]
    }
   ],
   "source": [
    "# Call preprocess data function\n",
    "ratings = preprocess_data(URM_all_dataframe)"
   ]
  },
  {
   "cell_type": "markdown",
   "metadata": {},
   "source": [
    "## Conversion to Sparse Matrix"
   ]
  },
  {
   "cell_type": "code",
   "execution_count": 9,
   "metadata": {
    "execution": {
     "iopub.execute_input": "2023-12-05T21:43:29.287142Z",
     "iopub.status.busy": "2023-12-05T21:43:29.286382Z",
     "iopub.status.idle": "2023-12-05T21:43:29.297877Z",
     "shell.execute_reply": "2023-12-05T21:43:29.296735Z",
     "shell.execute_reply.started": "2023-12-05T21:43:29.287097Z"
    }
   },
   "outputs": [],
   "source": [
    "URM = sps.coo_matrix((ratings.interaction.values, (ratings.mapped_user_id.values, ratings.mapped_item_id.values)))"
   ]
  },
  {
   "cell_type": "markdown",
   "metadata": {},
   "source": [
    "## Data Splits"
   ]
  },
  {
   "cell_type": "code",
   "execution_count": 10,
   "metadata": {
    "execution": {
     "iopub.execute_input": "2023-12-05T21:43:29.302659Z",
     "iopub.status.busy": "2023-12-05T21:43:29.302280Z",
     "iopub.status.idle": "2023-12-05T21:43:30.936758Z",
     "shell.execute_reply": "2023-12-05T21:43:30.935266Z",
     "shell.execute_reply.started": "2023-12-05T21:43:29.302625Z"
    }
   },
   "outputs": [
    {
     "name": "stdout",
     "output_type": "stream",
     "text": [
      "Warning: 240 (1.90 %) of 12638 users have no train items\n",
      "Warning: 2127 (16.83 %) of 12638 users have no sampled items\n",
      "Warning: 462 (3.66 %) of 12638 users have no train items\n",
      "Warning: 2630 (20.81 %) of 12638 users have no sampled items\n",
      "EvaluatorHoldout: Ignoring 2630 (20.8%) Users that have less than 1 test interactions\n",
      "EvaluatorHoldout: Ignoring 2127 (16.8%) Users that have less than 1 test interactions\n"
     ]
    }
   ],
   "source": [
    "urm_train, urm_test = split_train_in_two_percentage_global_sample(URM, train_percentage = 0.80)\n",
    "urm_train, urm_validation = split_train_in_two_percentage_global_sample(urm_train, train_percentage = 0.80)\n",
    "\n",
    "evaluator_validation = EvaluatorHoldout(urm_validation, cutoff_list=[10])\n",
    "evaluator_test = EvaluatorHoldout(urm_test, cutoff_list=[10])"
   ]
  },
  {
   "cell_type": "markdown",
   "metadata": {},
   "source": [
    "# **Custom Models**"
   ]
  },
  {
   "cell_type": "code",
   "execution_count": 11,
   "metadata": {
    "execution": {
     "iopub.execute_input": "2023-12-05T21:43:30.939306Z",
     "iopub.status.busy": "2023-12-05T21:43:30.938558Z",
     "iopub.status.idle": "2023-12-05T21:43:30.949393Z",
     "shell.execute_reply": "2023-12-05T21:43:30.948027Z",
     "shell.execute_reply.started": "2023-12-05T21:43:30.939260Z"
    }
   },
   "outputs": [],
   "source": [
    "class ScoresHybridRecommender(BaseRecommender):\n",
    "    \"\"\" ScoresHybridRecommender\n",
    "    Hybrid of two prediction scores R = R1*alpha + R2*(1-alpha)\n",
    "\n",
    "    \"\"\"\n",
    "\n",
    "    RECOMMENDER_NAME = \"ScoresHybridRecommender\"\n",
    "\n",
    "    def __init__(self, URM_train, recommender_1, recommender_2):\n",
    "        super(ScoresHybridRecommender, self).__init__(URM_train)\n",
    "\n",
    "        self.URM_train = sps.csr_matrix(URM_train)\n",
    "        self.recommender_1 = recommender_1\n",
    "        self.recommender_2 = recommender_2\n",
    "\n",
    "\n",
    "    def fit(self, alpha=0.5):\n",
    "        self.alpha = alpha\n",
    "\n",
    "    def _compute_item_score(self, user_id_array, items_to_compute):\n",
    "\n",
    "        # In a simple extension this could be a loop over a list of pretrained recommender objects\n",
    "        item_weights_1 = self.recommender_1._compute_item_score(user_id_array)\n",
    "        item_weights_2 = self.recommender_2._compute_item_score(user_id_array)\n",
    "\n",
    "        item_weights = item_weights_1*self.alpha + item_weights_2*(1-self.alpha)\n",
    "\n",
    "        return item_weights"
   ]
  },
  {
   "cell_type": "code",
   "execution_count": 12,
   "metadata": {
    "execution": {
     "iopub.execute_input": "2023-12-05T21:43:30.951978Z",
     "iopub.status.busy": "2023-12-05T21:43:30.951211Z",
     "iopub.status.idle": "2023-12-05T21:43:30.966173Z",
     "shell.execute_reply": "2023-12-05T21:43:30.965100Z",
     "shell.execute_reply.started": "2023-12-05T21:43:30.951932Z"
    }
   },
   "outputs": [],
   "source": [
    "class LightFMCFRecommender(BaseRecommender):\n",
    "    \"\"\"LightFMCFRecommender\"\"\"\n",
    "\n",
    "    RECOMMENDER_NAME = \"LightFMCFRecommender\"\n",
    "\n",
    "    def __init__(self, URM_train):\n",
    "        super(LightFMCFRecommender, self).__init__(URM_train)\n",
    "    \n",
    "    \n",
    "    def fit(self, epochs = 300, user_alpha=1e-6, item_alpha = 1e-6, n_factors = 10, n_threads = 4, max_sampled=3, loss='warp', learning_schedule='adagrad'):\n",
    "        \n",
    "        # Let's fit a WARP model\n",
    "        self.lightFM_model = LightFM(loss=loss,\n",
    "                                     user_alpha=user_alpha,\n",
    "                                     item_alpha=item_alpha,\n",
    "                                     no_components=n_factors,\n",
    "                                     max_sampled=max_sampled,\n",
    "                                     learning_schedule=learning_schedule)\n",
    "\n",
    "        self.lightFM_model = self.lightFM_model.fit(self.URM_train, \n",
    "                                       epochs=epochs,\n",
    "                                       num_threads=n_threads,\n",
    "                                       verbose=True)\n",
    "\n",
    "\n",
    "    def _compute_item_score(self, user_id_array, items_to_compute = None):\n",
    "        \n",
    "        # Create a single (n_items, ) array with the item score, then copy it for every user\n",
    "        items_to_compute = np.arange(self.n_items)\n",
    "        \n",
    "        item_scores = - np.ones((len(user_id_array), self.n_items)) * np.inf\n",
    "\n",
    "        for user_index, user_id in enumerate(user_id_array):\n",
    "            item_scores[user_index] = self.lightFM_model.predict(int(user_id), \n",
    "                                                                 items_to_compute)\n",
    "\n",
    "        return item_scores"
   ]
  },
  {
   "cell_type": "code",
   "execution_count": 13,
   "metadata": {
    "execution": {
     "iopub.execute_input": "2023-12-05T21:43:30.968299Z",
     "iopub.status.busy": "2023-12-05T21:43:30.967680Z",
     "iopub.status.idle": "2023-12-05T21:43:30.982238Z",
     "shell.execute_reply": "2023-12-05T21:43:30.981269Z",
     "shell.execute_reply.started": "2023-12-05T21:43:30.968255Z"
    }
   },
   "outputs": [],
   "source": [
    "class GeneralizedLinearHybridRecommender(BaseRecommender):\n",
    "    \"\"\"\n",
    "    This recommender merges N recommendes by weighting their ratings\n",
    "    \"\"\"\n",
    "\n",
    "    RECOMMENDER_NAME = \"GeneralizedLinearHybridRecommender\"\n",
    "\n",
    "    def __init__(self, URM_train, recommenders: list, verbose=True):\n",
    "        self.RECOMMENDER_NAME = ''\n",
    "        for recommender in recommenders:\n",
    "            self.RECOMMENDER_NAME = self.RECOMMENDER_NAME + recommender.RECOMMENDER_NAME[:-11]\n",
    "        self.RECOMMENDER_NAME = self.RECOMMENDER_NAME + 'HybridRecommender'\n",
    "\n",
    "        super(GeneralizedLinearHybridRecommender, self).__init__(URM_train, verbose=verbose)\n",
    "\n",
    "        self.recommenders = recommenders\n",
    "\n",
    "    def fit(self, alphas=None):\n",
    "        self.alphas = alphas\n",
    "\n",
    "    def save_model(self, folder_path, file_name=None):\n",
    "        pass\n",
    "\n",
    "    def _compute_item_score(self, user_id_array, items_to_compute=None):\n",
    "        result = self.alphas[0]*self.recommenders[0]._compute_item_score(user_id_array,items_to_compute)\n",
    "        for index in range(1,len(self.alphas)):\n",
    "            result = result + self.alphas[index]*self.recommenders[index]._compute_item_score(user_id_array,items_to_compute)\n",
    "        return result"
   ]
  },
  {
   "cell_type": "code",
   "execution_count": 14,
   "metadata": {
    "execution": {
     "iopub.execute_input": "2023-12-05T21:43:30.984438Z",
     "iopub.status.busy": "2023-12-05T21:43:30.983963Z",
     "iopub.status.idle": "2023-12-05T21:43:30.999555Z",
     "shell.execute_reply": "2023-12-05T21:43:30.998258Z",
     "shell.execute_reply.started": "2023-12-05T21:43:30.984397Z"
    }
   },
   "outputs": [],
   "source": [
    "class FastIALSRecommender(BaseMatrixFactorizationRecommender):\n",
    "    RECOMMENDER_NAME = \"FastIALSRecommender\"\n",
    "\n",
    "    AVAILABLE_CONFIDENCE_SCALING = [\"linear\", \"log\"]\n",
    "    \n",
    "    def __init__(self, URM_train, verbose=True):\n",
    "        super().__init__(URM_train, verbose=verbose)\n",
    "        \n",
    "    def fit(self,\n",
    "            factors=20,\n",
    "            regularization=1e-3,\n",
    "            iterations=100,\n",
    "            calculate_training_loss=False,\n",
    "            num_threads=0,\n",
    "            confidence_scaling='linear',\n",
    "            alpha=1.0,\n",
    "            epsilon=0,\n",
    "            #---- Do not change\n",
    "            use_native=True,\n",
    "            use_cg=True,\n",
    "            use_gpu=True):\n",
    "        if confidence_scaling not in self.AVAILABLE_CONFIDENCE_SCALING:\n",
    "           raise ValueError(\"Value for 'confidence_scaling' not recognized. Acceptable values are {}, provided was '{}'\".format(self.AVAILABLE_CONFIDENCE_SCALING, confidence_scaling))\n",
    "\n",
    "        self.alpha = alpha\n",
    "        self.epsilon = epsilon\n",
    "        self.num_factors = factors\n",
    "        self.reg = regularization\n",
    "        \n",
    "        self.USER_factors = self._init_factors(self.n_users, False)  # don't need values, will compute them\n",
    "        self.ITEM_factors = self._init_factors(self.n_items)\n",
    "        \n",
    "        self.recommender = AlternatingLeastSquares(factors=factors, regularization=regularization,\n",
    "                                                        use_native=use_native, use_cg=use_cg, use_gpu=use_gpu,\n",
    "                                                        iterations=iterations,\n",
    "                                                        calculate_training_loss=calculate_training_loss,\n",
    "                                                        num_threads=num_threads)\n",
    "        \n",
    "        self._build_confidence_matrix(confidence_scaling)\n",
    "        self.recommender.fit(self.C, show_progress=self.verbose)\n",
    "        \n",
    "        self.USER_factors = self.recommender.user_factors.to_numpy()\n",
    "        self.ITEM_factors = self.recommender.item_factors.to_numpy()\n",
    "        \n",
    "    \n",
    "    def _linear_scaling_confidence(self):\n",
    "\n",
    "        C = check_matrix(self.URM_train, format=\"csr\", dtype = np.float32)\n",
    "        C.data = 1.0 + self.alpha*C.data\n",
    "\n",
    "        return C\n",
    "\n",
    "    def _log_scaling_confidence(self):\n",
    "\n",
    "        C = check_matrix(self.URM_train, format=\"csr\", dtype = np.float32)\n",
    "        C.data = 1.0 + self.alpha * np.log(1.0 + C.data / self.epsilon)\n",
    "\n",
    "        return C\n",
    "    \n",
    "    def _build_confidence_matrix(self, confidence_scaling):\n",
    "\n",
    "        if confidence_scaling == 'linear':\n",
    "            self.C = self._linear_scaling_confidence()\n",
    "        else:\n",
    "            self.C = self._log_scaling_confidence()\n",
    "\n",
    "        self.C_csc= check_matrix(self.C.copy(), format=\"csc\", dtype = np.float32)\n",
    "    \n",
    "    def _init_factors(self, num_factors, assign_values=True):\n",
    "\n",
    "        if assign_values:\n",
    "            return self.num_factors**-0.5*np.random.random_sample((num_factors, self.num_factors))\n",
    "\n",
    "        else:\n",
    "            return np.empty((num_factors, self.num_factors))"
   ]
  },
  {
   "cell_type": "markdown",
   "metadata": {},
   "source": [
    "# **Best Model Params**"
   ]
  },
  {
   "cell_type": "code",
   "execution_count": 15,
   "metadata": {
    "execution": {
     "iopub.execute_input": "2023-12-05T21:43:31.001848Z",
     "iopub.status.busy": "2023-12-05T21:43:31.001374Z",
     "iopub.status.idle": "2023-12-05T21:43:31.013661Z",
     "shell.execute_reply": "2023-12-05T21:43:31.012509Z",
     "shell.execute_reply.started": "2023-12-05T21:43:31.001806Z"
    }
   },
   "outputs": [],
   "source": [
    "ItemKNN_params = {\n",
    "    'topK': 6,\n",
    "    'shrink': 15,\n",
    "    'similarity': 'jaccard',\n",
    "    'normalize': False\n",
    "}"
   ]
  },
  {
   "cell_type": "code",
   "execution_count": 16,
   "metadata": {
    "execution": {
     "iopub.execute_input": "2023-12-05T21:43:31.016431Z",
     "iopub.status.busy": "2023-12-05T21:43:31.015193Z",
     "iopub.status.idle": "2023-12-05T21:43:31.024473Z",
     "shell.execute_reply": "2023-12-05T21:43:31.023352Z",
     "shell.execute_reply.started": "2023-12-05T21:43:31.016385Z"
    }
   },
   "outputs": [],
   "source": [
    "RP3beta_params = {\n",
    "    'alpha': 0.307953246083667, \n",
    "    'beta': 0.3073797221110665, \n",
    "    'topK': 59, \n",
    "    'normalize_similarity': True\n",
    "}"
   ]
  },
  {
   "cell_type": "code",
   "execution_count": 17,
   "metadata": {
    "execution": {
     "iopub.execute_input": "2023-12-05T21:43:31.026279Z",
     "iopub.status.busy": "2023-12-05T21:43:31.025908Z",
     "iopub.status.idle": "2023-12-05T21:43:31.035326Z",
     "shell.execute_reply": "2023-12-05T21:43:31.034447Z",
     "shell.execute_reply.started": "2023-12-05T21:43:31.026247Z"
    }
   },
   "outputs": [],
   "source": [
    "alpha_itemknn_rp3beta=0.7381515719042592"
   ]
  },
  {
   "cell_type": "code",
   "execution_count": 18,
   "metadata": {
    "execution": {
     "iopub.execute_input": "2023-12-05T21:43:31.037468Z",
     "iopub.status.busy": "2023-12-05T21:43:31.037112Z",
     "iopub.status.idle": "2023-12-05T21:43:31.045305Z",
     "shell.execute_reply": "2023-12-05T21:43:31.044269Z",
     "shell.execute_reply.started": "2023-12-05T21:43:31.037441Z"
    }
   },
   "outputs": [],
   "source": [
    "UserKNN_params = {\n",
    "    'topK': 470,\n",
    "    'shrink': 0,\n",
    "    'similarity': 'cosine',\n",
    "    'normalize': True\n",
    "}"
   ]
  },
  {
   "cell_type": "code",
   "execution_count": 19,
   "metadata": {
    "execution": {
     "iopub.execute_input": "2023-12-05T21:43:31.047251Z",
     "iopub.status.busy": "2023-12-05T21:43:31.046482Z",
     "iopub.status.idle": "2023-12-05T21:43:31.056480Z",
     "shell.execute_reply": "2023-12-05T21:43:31.055296Z",
     "shell.execute_reply.started": "2023-12-05T21:43:31.047218Z"
    }
   },
   "outputs": [],
   "source": [
    "LightFM_params = {\n",
    "                  'n_factors': 482,\n",
    "                  'max_sampled': 5,\n",
    "                  'user_alpha': 0.00023989649900734266,\n",
    "                  'item_alpha': 9.740651135253414e-05\n",
    "                 }"
   ]
  },
  {
   "cell_type": "code",
   "execution_count": 20,
   "metadata": {
    "execution": {
     "iopub.execute_input": "2023-12-05T21:43:31.058301Z",
     "iopub.status.busy": "2023-12-05T21:43:31.057889Z",
     "iopub.status.idle": "2023-12-05T21:43:31.066697Z",
     "shell.execute_reply": "2023-12-05T21:43:31.065580Z",
     "shell.execute_reply.started": "2023-12-05T21:43:31.058267Z"
    }
   },
   "outputs": [],
   "source": [
    "SLIM_params = {\n",
    "    'l1_ratio': 0.013752256221164005,\n",
    "    'alpha': 0.0031943927190071775,\n",
    "    'topK': 622\n",
    "}"
   ]
  },
  {
   "cell_type": "code",
   "execution_count": 21,
   "metadata": {
    "execution": {
     "iopub.execute_input": "2023-12-05T21:43:31.068584Z",
     "iopub.status.busy": "2023-12-05T21:43:31.068228Z",
     "iopub.status.idle": "2023-12-05T21:43:31.083377Z",
     "shell.execute_reply": "2023-12-05T21:43:31.082090Z",
     "shell.execute_reply.started": "2023-12-05T21:43:31.068555Z"
    }
   },
   "outputs": [],
   "source": [
    "NMF_params = {\n",
    "    'l1_ratio': 0.005734775635120469,\n",
    "    'num_factors': 134,\n",
    "    'beta_loss': 'frobenius',\n",
    "    'init_type': 'nndsvda',\n",
    "    'solver': 'multiplicative_update'\n",
    "}"
   ]
  },
  {
   "cell_type": "code",
   "execution_count": 22,
   "metadata": {
    "execution": {
     "iopub.execute_input": "2023-12-05T21:43:31.085373Z",
     "iopub.status.busy": "2023-12-05T21:43:31.084968Z",
     "iopub.status.idle": "2023-12-05T21:43:31.093925Z",
     "shell.execute_reply": "2023-12-05T21:43:31.092787Z",
     "shell.execute_reply.started": "2023-12-05T21:43:31.085333Z"
    }
   },
   "outputs": [],
   "source": [
    "IALS_params = {\n",
    "    'confidence_scaling': 'log',\n",
    "    'epsilon': 0.11624415533664904,\n",
    "    'factors': 116,\n",
    "    'regularization': 0.005454427904241962,\n",
    "    'alpha': 1.7221339971074425\n",
    "}"
   ]
  },
  {
   "cell_type": "markdown",
   "metadata": {},
   "source": [
    "# Pipeline Model\n",
    "The goal of this approach is to first use some models to create an enriched URM, then use this URM as input for another model.\n",
    "\n",
    "### Phase 1 (Enriching)\n",
    "Pass the URM through:\n",
    "1. Hybrid ItemKNN + RP3beta\n",
    "2. UserKNN\n",
    "\n",
    "### Phase 2 (Fitting + Prediction)\n",
    "1. Tune a Linear Hybrid model:\n",
    "        (1. ItemKNN + RP3beta)\n",
    "        2. LightFM\n",
    "        3. SLIM\n",
    "        4. IALS\n",
    "2. Profit ?"
   ]
  },
  {
   "cell_type": "markdown",
   "metadata": {},
   "source": [
    "## URM Enriching"
   ]
  },
  {
   "cell_type": "code",
   "execution_count": 75,
   "metadata": {
    "execution": {
     "iopub.execute_input": "2023-12-05T17:01:08.299067Z",
     "iopub.status.busy": "2023-12-05T17:01:08.298657Z",
     "iopub.status.idle": "2023-12-05T17:01:10.462252Z",
     "shell.execute_reply": "2023-12-05T17:01:10.460347Z",
     "shell.execute_reply.started": "2023-12-05T17:01:08.299031Z"
    }
   },
   "outputs": [
    {
     "name": "stdout",
     "output_type": "stream",
     "text": [
      "UserKNNCFRecommender: URM Detected 462 ( 3.7%) users with no interactions.\n",
      "UserKNNCFRecommender: URM Detected 344 ( 1.5%) items with no interactions.\n",
      "Similarity column 12638 (100.0%), 6400.47 column/sec. Elapsed time 1.97 sec\n"
     ]
    }
   ],
   "source": [
    "userKNNCF = UserKNNCFRecommender(urm_train)\n",
    "userKNNCF.fit(**UserKNN_params)"
   ]
  },
  {
   "cell_type": "code",
   "execution_count": 23,
   "metadata": {
    "execution": {
     "iopub.execute_input": "2023-12-05T21:43:31.095733Z",
     "iopub.status.busy": "2023-12-05T21:43:31.095396Z",
     "iopub.status.idle": "2023-12-05T21:43:35.496561Z",
     "shell.execute_reply": "2023-12-05T21:43:35.495073Z",
     "shell.execute_reply.started": "2023-12-05T21:43:31.095707Z"
    }
   },
   "outputs": [
    {
     "name": "stdout",
     "output_type": "stream",
     "text": [
      "ItemKNNCFRecommender: URM Detected 462 ( 3.7%) users with no interactions.\n",
      "ItemKNNCFRecommender: URM Detected 344 ( 1.5%) items with no interactions.\n",
      "Similarity column 22222 (100.0%), 5163.96 column/sec. Elapsed time 4.30 sec\n"
     ]
    }
   ],
   "source": [
    "itemKNNCF = ItemKNNCFRecommender(urm_train)\n",
    "itemKNNCF.fit(**ItemKNN_params)"
   ]
  },
  {
   "cell_type": "code",
   "execution_count": 24,
   "metadata": {
    "execution": {
     "iopub.execute_input": "2023-12-05T21:43:35.499324Z",
     "iopub.status.busy": "2023-12-05T21:43:35.498561Z",
     "iopub.status.idle": "2023-12-05T21:43:49.736816Z",
     "shell.execute_reply": "2023-12-05T21:43:49.735642Z",
     "shell.execute_reply.started": "2023-12-05T21:43:35.499276Z"
    }
   },
   "outputs": [
    {
     "name": "stdout",
     "output_type": "stream",
     "text": [
      "RP3betaRecommender: URM Detected 462 ( 3.7%) users with no interactions.\n",
      "RP3betaRecommender: URM Detected 344 ( 1.5%) items with no interactions.\n",
      "RP3betaRecommender: Similarity column 22222 (100.0%), 1805.84 column/sec. Elapsed time 12.31 sec\n"
     ]
    }
   ],
   "source": [
    "rp3beta = RP3betaRecommender(urm_train)\n",
    "rp3beta.fit(**RP3beta_params)"
   ]
  },
  {
   "cell_type": "code",
   "execution_count": 25,
   "metadata": {
    "execution": {
     "iopub.execute_input": "2023-12-05T21:43:49.742576Z",
     "iopub.status.busy": "2023-12-05T21:43:49.742161Z",
     "iopub.status.idle": "2023-12-05T21:43:49.775757Z",
     "shell.execute_reply": "2023-12-05T21:43:49.774699Z",
     "shell.execute_reply.started": "2023-12-05T21:43:49.742542Z"
    }
   },
   "outputs": [
    {
     "name": "stdout",
     "output_type": "stream",
     "text": [
      "ItemKNNCustomSimilarityRecommender: URM Detected 462 ( 3.7%) users with no interactions.\n",
      "ItemKNNCustomSimilarityRecommender: URM Detected 344 ( 1.5%) items with no interactions.\n"
     ]
    }
   ],
   "source": [
    "new_similarity = (1 - alpha_itemknn_rp3beta) * itemKNNCF.W_sparse + alpha_itemknn_rp3beta * rp3beta.W_sparse\n",
    "    \n",
    "itemKNN_rp3beta = ItemKNNCustomSimilarityRecommender(urm_train)\n",
    "itemKNN_rp3beta.fit(new_similarity)"
   ]
  },
  {
   "cell_type": "markdown",
   "metadata": {},
   "source": [
    "### Building new URM (From ItemKNN & RP3beta)"
   ]
  },
  {
   "cell_type": "code",
   "execution_count": 26,
   "metadata": {
    "execution": {
     "iopub.execute_input": "2023-12-05T21:43:49.777615Z",
     "iopub.status.busy": "2023-12-05T21:43:49.777021Z",
     "iopub.status.idle": "2023-12-05T21:43:49.783301Z",
     "shell.execute_reply": "2023-12-05T21:43:49.782272Z",
     "shell.execute_reply.started": "2023-12-05T21:43:49.777581Z"
    }
   },
   "outputs": [],
   "source": [
    "def batch_compute_scores(user_ids, model, n_items):\n",
    "    items_to_compute = np.arange(n_items)\n",
    "    new_ratings_batch = model._compute_item_score(user_ids, items_to_compute)\n",
    "    return csr_matrix(new_ratings_batch)  # Convert each batch to CSR format immediately"
   ]
  },
  {
   "cell_type": "code",
   "execution_count": 27,
   "metadata": {
    "execution": {
     "iopub.execute_input": "2023-12-05T21:43:49.784805Z",
     "iopub.status.busy": "2023-12-05T21:43:49.784495Z",
     "iopub.status.idle": "2023-12-05T21:43:49.794868Z",
     "shell.execute_reply": "2023-12-05T21:43:49.794025Z",
     "shell.execute_reply.started": "2023-12-05T21:43:49.784778Z"
    }
   },
   "outputs": [],
   "source": [
    "def enrich_urm(model, ratings, batch_size=100):\n",
    "    n_users = ratings.mapped_user_id.nunique()\n",
    "    n_items = model.n_items\n",
    "    user_id_array = np.array(ratings.mapped_user_id)\n",
    "\n",
    "    # Create an empty list to store batch results\n",
    "    all_new_ratings = []\n",
    "\n",
    "    # Process in batches\n",
    "    for start_idx in range(0, n_users, batch_size):\n",
    "        end_idx = min(start_idx + batch_size, n_users)\n",
    "        batch_user_ids = user_id_array[start_idx:end_idx]\n",
    "        new_ratings_batch = batch_compute_scores(batch_user_ids, model, n_items)\n",
    "        all_new_ratings.append(new_ratings_batch)\n",
    "\n",
    "    # Combine all the batch results into one CSR matrix\n",
    "    final_new_ratings_csr = vstack(all_new_ratings, format='csr')\n",
    "    return final_new_ratings_csr"
   ]
  },
  {
   "cell_type": "code",
   "execution_count": 28,
   "metadata": {
    "execution": {
     "iopub.execute_input": "2023-12-05T21:43:49.796974Z",
     "iopub.status.busy": "2023-12-05T21:43:49.796253Z",
     "iopub.status.idle": "2023-12-05T21:44:00.685011Z",
     "shell.execute_reply": "2023-12-05T21:44:00.683844Z",
     "shell.execute_reply.started": "2023-12-05T21:43:49.796931Z"
    }
   },
   "outputs": [],
   "source": [
    "batch_size = 500\n",
    "urm_train_enriched = enrich_urm(itemKNN_rp3beta, ratings, batch_size=batch_size)"
   ]
  },
  {
   "cell_type": "code",
   "execution_count": 172,
   "metadata": {
    "execution": {
     "iopub.execute_input": "2023-12-05T17:30:02.395210Z",
     "iopub.status.busy": "2023-12-05T17:30:02.394658Z",
     "iopub.status.idle": "2023-12-05T17:30:02.402860Z",
     "shell.execute_reply": "2023-12-05T17:30:02.401887Z",
     "shell.execute_reply.started": "2023-12-05T17:30:02.395166Z"
    }
   },
   "outputs": [
    {
     "data": {
      "text/plain": [
       "(18780870, 306387)"
      ]
     },
     "execution_count": 172,
     "metadata": {},
     "output_type": "execute_result"
    }
   ],
   "source": [
    "(urm_train_enriched.nnz, urm_train.nnz)"
   ]
  },
  {
   "cell_type": "code",
   "execution_count": 55,
   "metadata": {
    "execution": {
     "iopub.execute_input": "2023-12-05T16:48:14.334114Z",
     "iopub.status.busy": "2023-12-05T16:48:14.333673Z",
     "iopub.status.idle": "2023-12-05T16:48:14.348165Z",
     "shell.execute_reply": "2023-12-05T16:48:14.345357Z",
     "shell.execute_reply.started": "2023-12-05T16:48:14.334075Z"
    }
   },
   "outputs": [
    {
     "data": {
      "text/plain": [
       "array([0.06483463, 0.        , 0.        , 0.        , 0.        ,\n",
       "       0.        , 0.        , 0.        , 0.        , 0.        ,\n",
       "       0.06637032, 0.        , 0.        , 0.        , 0.        ,\n",
       "       0.        , 0.        , 0.        , 0.08682911, 0.        ,\n",
       "       0.16364757, 0.        , 0.        , 0.07550569, 0.0600001 ,\n",
       "       0.        , 0.        , 0.07269746, 0.        , 0.        ,\n",
       "       0.        , 0.        , 0.        , 0.06535504, 0.        ,\n",
       "       0.        , 0.        , 0.06157309, 0.        , 0.        ,\n",
       "       0.        , 0.        , 0.        , 0.        , 0.        ,\n",
       "       0.        , 0.        , 0.        , 0.        , 0.        ,\n",
       "       0.        , 0.        , 0.        , 0.24703484, 0.        ,\n",
       "       0.        , 0.        , 0.19644647, 0.        , 0.        ,\n",
       "       0.        , 0.06180081, 0.12979469, 0.        , 0.        ,\n",
       "       0.        , 0.        , 0.        , 0.        , 0.        ,\n",
       "       0.        , 0.        , 0.        , 0.        , 0.        ,\n",
       "       0.06356618, 0.        , 0.        , 0.        , 0.        ,\n",
       "       0.        , 0.        , 0.        , 0.        , 0.        ,\n",
       "       0.        , 0.        , 0.        , 0.        , 0.        ,\n",
       "       0.        , 0.05152925, 0.        , 0.        , 0.        ,\n",
       "       0.        , 0.        , 0.        , 0.        , 0.        ])"
      ]
     },
     "execution_count": 55,
     "metadata": {},
     "output_type": "execute_result"
    }
   ],
   "source": [
    "bol = urm_train_enriched[0] / urm_train_enriched[0].toarray().max()\n",
    "bol.toarray()[0][300:400]"
   ]
  },
  {
   "cell_type": "code",
   "execution_count": 126,
   "metadata": {
    "execution": {
     "iopub.execute_input": "2023-12-05T17:21:17.589431Z",
     "iopub.status.busy": "2023-12-05T17:21:17.588497Z",
     "iopub.status.idle": "2023-12-05T17:21:19.481929Z",
     "shell.execute_reply": "2023-12-05T17:21:19.480215Z",
     "shell.execute_reply.started": "2023-12-05T17:21:17.589380Z"
    }
   },
   "outputs": [],
   "source": [
    "urm_train_enriched = urm_train_enriched.toarray()\n",
    "urm_train_enriched[urm_train_enriched > 1] = 1\n",
    "urm_train_enriched = csr_matrix(urm_train_enriched)"
   ]
  },
  {
   "cell_type": "code",
   "execution_count": 173,
   "metadata": {
    "execution": {
     "iopub.execute_input": "2023-12-05T17:30:08.436950Z",
     "iopub.status.busy": "2023-12-05T17:30:08.436522Z",
     "iopub.status.idle": "2023-12-05T17:30:09.970819Z",
     "shell.execute_reply": "2023-12-05T17:30:09.968471Z",
     "shell.execute_reply.started": "2023-12-05T17:30:08.436912Z"
    }
   },
   "outputs": [],
   "source": [
    "urm_train_enriched = urm_train_enriched / urm_train_enriched.toarray().max()"
   ]
  },
  {
   "cell_type": "code",
   "execution_count": 199,
   "metadata": {
    "execution": {
     "iopub.execute_input": "2023-12-05T17:48:08.275130Z",
     "iopub.status.busy": "2023-12-05T17:48:08.274844Z",
     "iopub.status.idle": "2023-12-05T17:48:08.282451Z",
     "shell.execute_reply": "2023-12-05T17:48:08.281097Z",
     "shell.execute_reply.started": "2023-12-05T17:48:08.275106Z"
    }
   },
   "outputs": [],
   "source": [
    "def sparsify_matrix(matrix, percentile):\n",
    "    # Convert to dense array if it's in sparse format\n",
    "    if isinstance(matrix, csr_matrix):\n",
    "        matrix = matrix.toarray()\n",
    "\n",
    "    # Calculate the threshold\n",
    "    threshold = np.percentile(matrix, percentile)\n",
    "\n",
    "    # Set values below the threshold to zero\n",
    "    matrix[matrix < threshold] = 0\n",
    "    matrix[matrix >= threshold] = 0.23  # Low confidence\n",
    "\n",
    "    # Convert back to sparse CSR format\n",
    "    return csr_matrix(matrix)"
   ]
  },
  {
   "cell_type": "code",
   "execution_count": 200,
   "metadata": {
    "execution": {
     "iopub.execute_input": "2023-12-05T17:48:08.284074Z",
     "iopub.status.busy": "2023-12-05T17:48:08.283717Z",
     "iopub.status.idle": "2023-12-05T17:48:13.473017Z",
     "shell.execute_reply": "2023-12-05T17:48:13.471645Z",
     "shell.execute_reply.started": "2023-12-05T17:48:08.284043Z"
    }
   },
   "outputs": [],
   "source": [
    "percentile = 99.999\n",
    "urm_train_enriched_sparse = sparsify_matrix(urm_train_enriched, percentile=percentile)"
   ]
  },
  {
   "cell_type": "code",
   "execution_count": 175,
   "metadata": {
    "execution": {
     "iopub.execute_input": "2023-12-05T17:30:17.461940Z",
     "iopub.status.busy": "2023-12-05T17:30:17.461381Z",
     "iopub.status.idle": "2023-12-05T17:30:17.471318Z",
     "shell.execute_reply": "2023-12-05T17:30:17.470081Z",
     "shell.execute_reply.started": "2023-12-05T17:30:17.461894Z"
    }
   },
   "outputs": [
    {
     "data": {
      "text/plain": [
       "(18780870, 326, 306387)"
      ]
     },
     "execution_count": 175,
     "metadata": {},
     "output_type": "execute_result"
    }
   ],
   "source": [
    "(urm_train_enriched.nnz, urm_train_enriched_sparse.nnz, urm_train.nnz)"
   ]
  },
  {
   "cell_type": "code",
   "execution_count": 201,
   "metadata": {
    "execution": {
     "iopub.execute_input": "2023-12-05T17:48:13.475532Z",
     "iopub.status.busy": "2023-12-05T17:48:13.475220Z",
     "iopub.status.idle": "2023-12-05T17:48:13.483550Z",
     "shell.execute_reply": "2023-12-05T17:48:13.481758Z",
     "shell.execute_reply.started": "2023-12-05T17:48:13.475508Z"
    }
   },
   "outputs": [],
   "source": [
    "urm_train_enriched_sparse_add = urm_train_enriched_sparse + urm_train"
   ]
  },
  {
   "cell_type": "code",
   "execution_count": 159,
   "metadata": {
    "execution": {
     "iopub.execute_input": "2023-12-05T17:28:21.850636Z",
     "iopub.status.busy": "2023-12-05T17:28:21.848864Z",
     "iopub.status.idle": "2023-12-05T17:28:21.863934Z",
     "shell.execute_reply": "2023-12-05T17:28:21.861123Z",
     "shell.execute_reply.started": "2023-12-05T17:28:21.850560Z"
    }
   },
   "outputs": [
    {
     "data": {
      "text/plain": [
       "2809"
      ]
     },
     "execution_count": 159,
     "metadata": {},
     "output_type": "execute_result"
    }
   ],
   "source": [
    "enriched_delta = urm_train_enriched_sparse - urm_train\n",
    "enriched_delta.nnz"
   ]
  },
  {
   "cell_type": "code",
   "execution_count": 202,
   "metadata": {
    "execution": {
     "iopub.execute_input": "2023-12-05T17:48:13.485301Z",
     "iopub.status.busy": "2023-12-05T17:48:13.484889Z",
     "iopub.status.idle": "2023-12-05T17:48:15.538545Z",
     "shell.execute_reply": "2023-12-05T17:48:15.537143Z",
     "shell.execute_reply.started": "2023-12-05T17:48:13.485264Z"
    }
   },
   "outputs": [
    {
     "name": "stdout",
     "output_type": "stream",
     "text": [
      "UserKNNCFRecommender: URM Detected 412 ( 3.3%) users with no interactions.\n",
      "UserKNNCFRecommender: URM Detected 344 ( 1.5%) items with no interactions.\n",
      "Similarity column 12638 (100.0%), 6740.13 column/sec. Elapsed time 1.88 sec\n"
     ]
    }
   ],
   "source": [
    "userKNNCF = UserKNNCFRecommender(urm_train_enriched_sparse_add)\n",
    "userKNNCF.fit(**UserKNN_params)"
   ]
  },
  {
   "cell_type": "code",
   "execution_count": 187,
   "metadata": {
    "execution": {
     "iopub.execute_input": "2023-12-05T17:37:03.794422Z",
     "iopub.status.busy": "2023-12-05T17:37:03.793970Z",
     "iopub.status.idle": "2023-12-05T17:37:05.921272Z",
     "shell.execute_reply": "2023-12-05T17:37:05.919198Z",
     "shell.execute_reply.started": "2023-12-05T17:37:03.794385Z"
    }
   },
   "outputs": [
    {
     "name": "stdout",
     "output_type": "stream",
     "text": [
      "UserKNNCFRecommender: URM Detected 462 ( 3.7%) users with no interactions.\n",
      "UserKNNCFRecommender: URM Detected 344 ( 1.5%) items with no interactions.\n",
      "Similarity column 12638 (100.0%), 6505.13 column/sec. Elapsed time 1.94 sec\n"
     ]
    }
   ],
   "source": [
    "userKNNCF_t = UserKNNCFRecommender(urm_train)\n",
    "userKNNCF_t.fit(**UserKNN_params)"
   ]
  },
  {
   "cell_type": "code",
   "execution_count": 177,
   "metadata": {
    "execution": {
     "iopub.execute_input": "2023-12-05T17:30:34.629363Z",
     "iopub.status.busy": "2023-12-05T17:30:34.628860Z",
     "iopub.status.idle": "2023-12-05T17:30:38.164993Z",
     "shell.execute_reply": "2023-12-05T17:30:38.162399Z",
     "shell.execute_reply.started": "2023-12-05T17:30:34.629314Z"
    }
   },
   "outputs": [
    {
     "name": "stdout",
     "output_type": "stream",
     "text": [
      "ItemKNNCFRecommender: URM Detected 454 ( 3.6%) users with no interactions.\n",
      "ItemKNNCFRecommender: URM Detected 344 ( 1.5%) items with no interactions.\n",
      "Similarity column 22222 (100.0%), 6427.40 column/sec. Elapsed time 3.46 sec\n"
     ]
    }
   ],
   "source": [
    "itemKNNCF_E = ItemKNNCFRecommender(urm_train_enriched_sparse_add)\n",
    "itemKNNCF_E.fit(**ItemKNN_params)"
   ]
  },
  {
   "cell_type": "code",
   "execution_count": 161,
   "metadata": {
    "execution": {
     "iopub.execute_input": "2023-12-05T17:28:35.327339Z",
     "iopub.status.busy": "2023-12-05T17:28:35.326828Z",
     "iopub.status.idle": "2023-12-05T17:28:43.295966Z",
     "shell.execute_reply": "2023-12-05T17:28:43.294179Z",
     "shell.execute_reply.started": "2023-12-05T17:28:35.327244Z"
    }
   },
   "outputs": [
    {
     "name": "stdout",
     "output_type": "stream",
     "text": [
      "RP3betaRecommender: URM Detected 412 ( 3.3%) users with no interactions.\n",
      "RP3betaRecommender: URM Detected 344 ( 1.5%) items with no interactions.\n",
      "RP3betaRecommender: Similarity column 22222 (100.0%), 3474.07 column/sec. Elapsed time 6.40 sec\n"
     ]
    }
   ],
   "source": [
    "rp3beta_E = RP3betaRecommender(urm_train_enriched_sparse)\n",
    "rp3beta_E.fit(**RP3beta_params)"
   ]
  },
  {
   "cell_type": "code",
   "execution_count": 162,
   "metadata": {
    "execution": {
     "iopub.execute_input": "2023-12-05T17:28:43.298509Z",
     "iopub.status.busy": "2023-12-05T17:28:43.298057Z",
     "iopub.status.idle": "2023-12-05T17:28:43.324665Z",
     "shell.execute_reply": "2023-12-05T17:28:43.322643Z",
     "shell.execute_reply.started": "2023-12-05T17:28:43.298469Z"
    }
   },
   "outputs": [
    {
     "name": "stdout",
     "output_type": "stream",
     "text": [
      "ItemKNNCustomSimilarityRecommender: URM Detected 412 ( 3.3%) users with no interactions.\n",
      "ItemKNNCustomSimilarityRecommender: URM Detected 344 ( 1.5%) items with no interactions.\n"
     ]
    }
   ],
   "source": [
    "new_similarity = (1 - alpha_itemknn_rp3beta) * itemKNNCF_E.W_sparse + alpha_itemknn_rp3beta * rp3beta_E.W_sparse\n",
    "    \n",
    "itemKNN_rp3beta_E = ItemKNNCustomSimilarityRecommender(urm_train_enriched_sparse)\n",
    "itemKNN_rp3beta_E.fit(new_similarity)"
   ]
  },
  {
   "cell_type": "code",
   "execution_count": 203,
   "metadata": {
    "execution": {
     "iopub.execute_input": "2023-12-05T17:48:15.541390Z",
     "iopub.status.busy": "2023-12-05T17:48:15.540863Z",
     "iopub.status.idle": "2023-12-05T17:48:24.542180Z",
     "shell.execute_reply": "2023-12-05T17:48:24.540219Z",
     "shell.execute_reply.started": "2023-12-05T17:48:15.541351Z"
    }
   },
   "outputs": [
    {
     "name": "stdout",
     "output_type": "stream",
     "text": [
      "EvaluatorHoldout: Processed 10008 (100.0%) in 8.97 sec. Users per second: 1116\n"
     ]
    },
    {
     "data": {
      "text/html": [
       "<div>\n",
       "<style scoped>\n",
       "    .dataframe tbody tr th:only-of-type {\n",
       "        vertical-align: middle;\n",
       "    }\n",
       "\n",
       "    .dataframe tbody tr th {\n",
       "        vertical-align: top;\n",
       "    }\n",
       "\n",
       "    .dataframe thead th {\n",
       "        text-align: right;\n",
       "    }\n",
       "</style>\n",
       "<table border=\"1\" class=\"dataframe\">\n",
       "  <thead>\n",
       "    <tr style=\"text-align: right;\">\n",
       "      <th></th>\n",
       "      <th>PRECISION</th>\n",
       "      <th>PRECISION_RECALL_MIN_DEN</th>\n",
       "      <th>RECALL</th>\n",
       "      <th>MAP</th>\n",
       "      <th>MAP_MIN_DEN</th>\n",
       "      <th>MRR</th>\n",
       "      <th>NDCG</th>\n",
       "      <th>F1</th>\n",
       "      <th>HIT_RATE</th>\n",
       "      <th>ARHR_ALL_HITS</th>\n",
       "      <th>...</th>\n",
       "      <th>COVERAGE_USER</th>\n",
       "      <th>COVERAGE_USER_HIT</th>\n",
       "      <th>USERS_IN_GT</th>\n",
       "      <th>DIVERSITY_GINI</th>\n",
       "      <th>SHANNON_ENTROPY</th>\n",
       "      <th>RATIO_DIVERSITY_HERFINDAHL</th>\n",
       "      <th>RATIO_DIVERSITY_GINI</th>\n",
       "      <th>RATIO_SHANNON_ENTROPY</th>\n",
       "      <th>RATIO_AVERAGE_POPULARITY</th>\n",
       "      <th>RATIO_NOVELTY</th>\n",
       "    </tr>\n",
       "    <tr>\n",
       "      <th>cutoff</th>\n",
       "      <th></th>\n",
       "      <th></th>\n",
       "      <th></th>\n",
       "      <th></th>\n",
       "      <th></th>\n",
       "      <th></th>\n",
       "      <th></th>\n",
       "      <th></th>\n",
       "      <th></th>\n",
       "      <th></th>\n",
       "      <th></th>\n",
       "      <th></th>\n",
       "      <th></th>\n",
       "      <th></th>\n",
       "      <th></th>\n",
       "      <th></th>\n",
       "      <th></th>\n",
       "      <th></th>\n",
       "      <th></th>\n",
       "      <th></th>\n",
       "      <th></th>\n",
       "    </tr>\n",
       "  </thead>\n",
       "  <tbody>\n",
       "    <tr>\n",
       "      <th>10</th>\n",
       "      <td>0.051898</td>\n",
       "      <td>0.10542</td>\n",
       "      <td>0.094843</td>\n",
       "      <td>0.023316</td>\n",
       "      <td>0.047214</td>\n",
       "      <td>0.166761</td>\n",
       "      <td>0.089593</td>\n",
       "      <td>0.067087</td>\n",
       "      <td>0.368405</td>\n",
       "      <td>0.196447</td>\n",
       "      <td>...</td>\n",
       "      <td>0.791897</td>\n",
       "      <td>0.291739</td>\n",
       "      <td>0.791897</td>\n",
       "      <td>0.010816</td>\n",
       "      <td>7.623156</td>\n",
       "      <td>0.985433</td>\n",
       "      <td>0.030782</td>\n",
       "      <td>0.58648</td>\n",
       "      <td>3.722943</td>\n",
       "      <td>0.308311</td>\n",
       "    </tr>\n",
       "  </tbody>\n",
       "</table>\n",
       "<p>1 rows × 27 columns</p>\n",
       "</div>"
      ],
      "text/plain": [
       "       PRECISION PRECISION_RECALL_MIN_DEN    RECALL       MAP MAP_MIN_DEN  \\\n",
       "cutoff                                                                      \n",
       "10      0.051898                  0.10542  0.094843  0.023316    0.047214   \n",
       "\n",
       "             MRR      NDCG        F1  HIT_RATE ARHR_ALL_HITS  ...  \\\n",
       "cutoff                                                        ...   \n",
       "10      0.166761  0.089593  0.067087  0.368405      0.196447  ...   \n",
       "\n",
       "       COVERAGE_USER COVERAGE_USER_HIT USERS_IN_GT DIVERSITY_GINI  \\\n",
       "cutoff                                                              \n",
       "10          0.791897          0.291739    0.791897       0.010816   \n",
       "\n",
       "       SHANNON_ENTROPY RATIO_DIVERSITY_HERFINDAHL RATIO_DIVERSITY_GINI  \\\n",
       "cutoff                                                                   \n",
       "10            7.623156                   0.985433             0.030782   \n",
       "\n",
       "       RATIO_SHANNON_ENTROPY RATIO_AVERAGE_POPULARITY RATIO_NOVELTY  \n",
       "cutoff                                                               \n",
       "10                   0.58648                 3.722943      0.308311  \n",
       "\n",
       "[1 rows x 27 columns]"
      ]
     },
     "execution_count": 203,
     "metadata": {},
     "output_type": "execute_result"
    }
   ],
   "source": [
    "result_df, _ = evaluator_validation.evaluateRecommender(userKNNCF)\n",
    "result_df"
   ]
  },
  {
   "cell_type": "code",
   "execution_count": 189,
   "metadata": {
    "execution": {
     "iopub.execute_input": "2023-12-05T17:37:17.420550Z",
     "iopub.status.busy": "2023-12-05T17:37:17.420176Z",
     "iopub.status.idle": "2023-12-05T17:37:26.308537Z",
     "shell.execute_reply": "2023-12-05T17:37:26.307285Z",
     "shell.execute_reply.started": "2023-12-05T17:37:17.420519Z"
    }
   },
   "outputs": [
    {
     "name": "stdout",
     "output_type": "stream",
     "text": [
      "EvaluatorHoldout: Processed 10008 (100.0%) in 8.86 sec. Users per second: 1129\n"
     ]
    },
    {
     "data": {
      "text/html": [
       "<div>\n",
       "<style scoped>\n",
       "    .dataframe tbody tr th:only-of-type {\n",
       "        vertical-align: middle;\n",
       "    }\n",
       "\n",
       "    .dataframe tbody tr th {\n",
       "        vertical-align: top;\n",
       "    }\n",
       "\n",
       "    .dataframe thead th {\n",
       "        text-align: right;\n",
       "    }\n",
       "</style>\n",
       "<table border=\"1\" class=\"dataframe\">\n",
       "  <thead>\n",
       "    <tr style=\"text-align: right;\">\n",
       "      <th></th>\n",
       "      <th>PRECISION</th>\n",
       "      <th>PRECISION_RECALL_MIN_DEN</th>\n",
       "      <th>RECALL</th>\n",
       "      <th>MAP</th>\n",
       "      <th>MAP_MIN_DEN</th>\n",
       "      <th>MRR</th>\n",
       "      <th>NDCG</th>\n",
       "      <th>F1</th>\n",
       "      <th>HIT_RATE</th>\n",
       "      <th>ARHR_ALL_HITS</th>\n",
       "      <th>...</th>\n",
       "      <th>COVERAGE_USER</th>\n",
       "      <th>COVERAGE_USER_HIT</th>\n",
       "      <th>USERS_IN_GT</th>\n",
       "      <th>DIVERSITY_GINI</th>\n",
       "      <th>SHANNON_ENTROPY</th>\n",
       "      <th>RATIO_DIVERSITY_HERFINDAHL</th>\n",
       "      <th>RATIO_DIVERSITY_GINI</th>\n",
       "      <th>RATIO_SHANNON_ENTROPY</th>\n",
       "      <th>RATIO_AVERAGE_POPULARITY</th>\n",
       "      <th>RATIO_NOVELTY</th>\n",
       "    </tr>\n",
       "    <tr>\n",
       "      <th>cutoff</th>\n",
       "      <th></th>\n",
       "      <th></th>\n",
       "      <th></th>\n",
       "      <th></th>\n",
       "      <th></th>\n",
       "      <th></th>\n",
       "      <th></th>\n",
       "      <th></th>\n",
       "      <th></th>\n",
       "      <th></th>\n",
       "      <th></th>\n",
       "      <th></th>\n",
       "      <th></th>\n",
       "      <th></th>\n",
       "      <th></th>\n",
       "      <th></th>\n",
       "      <th></th>\n",
       "      <th></th>\n",
       "      <th></th>\n",
       "      <th></th>\n",
       "      <th></th>\n",
       "    </tr>\n",
       "  </thead>\n",
       "  <tbody>\n",
       "    <tr>\n",
       "      <th>10</th>\n",
       "      <td>0.052028</td>\n",
       "      <td>0.105997</td>\n",
       "      <td>0.095424</td>\n",
       "      <td>0.023344</td>\n",
       "      <td>0.047227</td>\n",
       "      <td>0.167043</td>\n",
       "      <td>0.089793</td>\n",
       "      <td>0.06734</td>\n",
       "      <td>0.369604</td>\n",
       "      <td>0.196727</td>\n",
       "      <td>...</td>\n",
       "      <td>0.791897</td>\n",
       "      <td>0.292689</td>\n",
       "      <td>0.791897</td>\n",
       "      <td>0.0104</td>\n",
       "      <td>7.602932</td>\n",
       "      <td>0.98541</td>\n",
       "      <td>0.030187</td>\n",
       "      <td>0.58611</td>\n",
       "      <td>3.661552</td>\n",
       "      <td>0.311509</td>\n",
       "    </tr>\n",
       "  </tbody>\n",
       "</table>\n",
       "<p>1 rows × 27 columns</p>\n",
       "</div>"
      ],
      "text/plain": [
       "       PRECISION PRECISION_RECALL_MIN_DEN    RECALL       MAP MAP_MIN_DEN  \\\n",
       "cutoff                                                                      \n",
       "10      0.052028                 0.105997  0.095424  0.023344    0.047227   \n",
       "\n",
       "             MRR      NDCG       F1  HIT_RATE ARHR_ALL_HITS  ...  \\\n",
       "cutoff                                                       ...   \n",
       "10      0.167043  0.089793  0.06734  0.369604      0.196727  ...   \n",
       "\n",
       "       COVERAGE_USER COVERAGE_USER_HIT USERS_IN_GT DIVERSITY_GINI  \\\n",
       "cutoff                                                              \n",
       "10          0.791897          0.292689    0.791897         0.0104   \n",
       "\n",
       "       SHANNON_ENTROPY RATIO_DIVERSITY_HERFINDAHL RATIO_DIVERSITY_GINI  \\\n",
       "cutoff                                                                   \n",
       "10            7.602932                    0.98541             0.030187   \n",
       "\n",
       "       RATIO_SHANNON_ENTROPY RATIO_AVERAGE_POPULARITY RATIO_NOVELTY  \n",
       "cutoff                                                               \n",
       "10                   0.58611                 3.661552      0.311509  \n",
       "\n",
       "[1 rows x 27 columns]"
      ]
     },
     "execution_count": 189,
     "metadata": {},
     "output_type": "execute_result"
    }
   ],
   "source": [
    "result_df, _ = evaluator_validation.evaluateRecommender(userKNNCF_t)\n",
    "result_df"
   ]
  },
  {
   "cell_type": "code",
   "execution_count": 41,
   "metadata": {
    "execution": {
     "iopub.execute_input": "2023-12-05T12:29:14.504745Z",
     "iopub.status.busy": "2023-12-05T12:29:14.504232Z",
     "iopub.status.idle": "2023-12-05T12:30:27.748019Z",
     "shell.execute_reply": "2023-12-05T12:30:27.746672Z",
     "shell.execute_reply.started": "2023-12-05T12:29:14.504709Z"
    }
   },
   "outputs": [],
   "source": [
    "urm_train_enriched = enrich_urm(userKNNCF, ratings, batch_size=batch_size)"
   ]
  },
  {
   "cell_type": "code",
   "execution_count": 42,
   "metadata": {
    "execution": {
     "iopub.execute_input": "2023-12-05T12:30:38.045973Z",
     "iopub.status.busy": "2023-12-05T12:30:38.045577Z",
     "iopub.status.idle": "2023-12-05T12:30:38.054238Z",
     "shell.execute_reply": "2023-12-05T12:30:38.052821Z",
     "shell.execute_reply.started": "2023-12-05T12:30:38.045944Z"
    }
   },
   "outputs": [
    {
     "data": {
      "text/plain": [
       "242014271"
      ]
     },
     "execution_count": 42,
     "metadata": {},
     "output_type": "execute_result"
    }
   ],
   "source": [
    "urm_train_enriched.nnz"
   ]
  },
  {
   "cell_type": "markdown",
   "metadata": {},
   "source": [
    "# Tuning augmentation"
   ]
  },
  {
   "cell_type": "code",
   "execution_count": 33,
   "metadata": {
    "execution": {
     "iopub.execute_input": "2023-12-05T22:07:28.466073Z",
     "iopub.status.busy": "2023-12-05T22:07:28.464191Z",
     "iopub.status.idle": "2023-12-05T22:07:28.475799Z",
     "shell.execute_reply": "2023-12-05T22:07:28.474374Z",
     "shell.execute_reply.started": "2023-12-05T22:07:28.466004Z"
    }
   },
   "outputs": [],
   "source": [
    "def parametric_sparsify_matrix(matrix, percentile, confidence):\n",
    "    # Convert to dense array if it's in sparse format\n",
    "    if isinstance(matrix, csr_matrix):\n",
    "        matrix = matrix.toarray()\n",
    "\n",
    "    # Calculate the threshold\n",
    "    threshold = np.percentile(matrix, percentile)\n",
    "\n",
    "    # Set values below the threshold to zero\n",
    "    matrix[matrix < threshold] = 0\n",
    "    matrix[matrix >= threshold] *= confidence\n",
    "\n",
    "    # Convert back to sparse CSR format\n",
    "    return csr_matrix(matrix)"
   ]
  },
  {
   "cell_type": "code",
   "execution_count": 37,
   "metadata": {
    "execution": {
     "iopub.execute_input": "2023-12-05T22:10:15.333099Z",
     "iopub.status.busy": "2023-12-05T22:10:15.332612Z",
     "iopub.status.idle": "2023-12-05T22:10:15.344769Z",
     "shell.execute_reply": "2023-12-05T22:10:15.343098Z",
     "shell.execute_reply.started": "2023-12-05T22:10:15.333030Z"
    }
   },
   "outputs": [],
   "source": [
    "def fix_increase_enriched_urm(original_urm, user_knn_output, max_interaction_increase):\n",
    "    # Convert the original URM to LIL format for efficient modification\n",
    "    enriched_urm = original_urm.tolil()\n",
    "\n",
    "    for user_idx in range(user_knn_output.shape[0]):\n",
    "        # Get non-zero interactions from UserKNN output\n",
    "        user_knn_interactions = user_knn_output.getrow(user_idx).tocoo()\n",
    "\n",
    "        # Sort interactions by confidence value\n",
    "        sorted_indices = np.argsort(user_knn_interactions.data)[::-1]\n",
    "        \n",
    "        # Calculate the cap for additional interactions\n",
    "        interaction_cap = int(original_urm.getrow(user_idx).count_nonzero() * max_interaction_increase)\n",
    "        \n",
    "        # Keep top interactions up to the maximum cap\n",
    "        for rank, idx in enumerate(sorted_indices):\n",
    "            if rank >= interaction_cap:\n",
    "                break\n",
    "            item_idx = user_knn_interactions.col[idx]\n",
    "            enriched_urm[user_idx, item_idx] = max(enriched_urm[user_idx, item_idx], user_knn_interactions.data[idx])\n",
    "\n",
    "    # Convert back to CSR format before returning\n",
    "    return enriched_urm.tocsr()"
   ]
  },
  {
   "cell_type": "code",
   "execution_count": 30,
   "metadata": {
    "execution": {
     "iopub.execute_input": "2023-12-05T21:44:00.698698Z",
     "iopub.status.busy": "2023-12-05T21:44:00.697208Z",
     "iopub.status.idle": "2023-12-05T21:44:00.725718Z",
     "shell.execute_reply": "2023-12-05T21:44:00.724486Z",
     "shell.execute_reply.started": "2023-12-05T21:44:00.698655Z"
    }
   },
   "outputs": [],
   "source": [
    "class SaveResults(object):\n",
    "\n",
    "    def __init__(self):\n",
    "        self.results_df = pd.DataFrame(columns=[\"result\"])\n",
    "\n",
    "    def __call__(self, optuna_study, optuna_trial):\n",
    "        hyperparam_dict = optuna_trial.params.copy()\n",
    "        hyperparam_dict[\"result\"] = optuna_trial.values[0]\n",
    "\n",
    "        # Create a DataFrame from the current trial's results\n",
    "        trial_df = pd.DataFrame([hyperparam_dict])\n",
    "\n",
    "        # Use concat instead of append\n",
    "        self.results_df = pd.concat([self.results_df, trial_df], ignore_index=True)"
   ]
  },
  {
   "cell_type": "code",
   "execution_count": 38,
   "metadata": {
    "execution": {
     "iopub.execute_input": "2023-12-05T22:10:18.415974Z",
     "iopub.status.busy": "2023-12-05T22:10:18.415552Z",
     "iopub.status.idle": "2023-12-05T22:10:18.423713Z",
     "shell.execute_reply": "2023-12-05T22:10:18.422349Z",
     "shell.execute_reply.started": "2023-12-05T22:10:18.415942Z"
    }
   },
   "outputs": [],
   "source": [
    "def objective_function_sparsify(optuna_trial):\n",
    "    confidence = optuna_trial.suggest_float(\"confidence\", 0, 1)\n",
    "    percentile = optuna_trial.suggest_float(\"percentile\", 99.9, 100)\n",
    "    max_interaction_increase = optuna_trial.suggest_float(\"max_interaction_increase\", 1, 2)\n",
    "    \n",
    "    urm_train_enriched_sparse = parametric_sparsify_matrix(urm_train_enriched, percentile=percentile, confidence=confidence)\n",
    "    urm_train_enriched_capped = fix_increase_enriched_urm(urm_train, urm_train_enriched_sparse, max_interaction_increase)\n",
    "    \n",
    "    #urm_train_enriched_sparse_add = urm_train_enriched_sparse + urm_train\n",
    "    \n",
    "    recommender_instance = UserKNNCFRecommender(urm_train_enriched_capped)\n",
    "    recommender_instance.fit(**UserKNN_params)\n",
    "\n",
    "    result_df, _ = evaluator_validation.evaluateRecommender(recommender_instance)\n",
    "\n",
    "    return result_df.loc[10][\"MAP\"]"
   ]
  },
  {
   "cell_type": "code",
   "execution_count": 39,
   "metadata": {
    "execution": {
     "iopub.execute_input": "2023-12-05T22:10:18.637019Z",
     "iopub.status.busy": "2023-12-05T22:10:18.636587Z",
     "iopub.status.idle": "2023-12-06T00:22:00.342274Z",
     "shell.execute_reply": "2023-12-06T00:22:00.341358Z",
     "shell.execute_reply.started": "2023-12-05T22:10:18.636984Z"
    },
    "scrolled": true
   },
   "outputs": [
    {
     "name": "stderr",
     "output_type": "stream",
     "text": [
      "[I 2023-12-05 22:10:18,639] A new study created in memory with name: no-name-3ad7cc35-9772-4631-a54d-559ed96791ef\n"
     ]
    },
    {
     "name": "stdout",
     "output_type": "stream",
     "text": [
      "UserKNNCFRecommender: URM Detected 462 ( 3.7%) users with no interactions.\n",
      "UserKNNCFRecommender: URM Detected 344 ( 1.5%) items with no interactions.\n",
      "Similarity column 12638 (100.0%), 4981.11 column/sec. Elapsed time 2.54 sec\n",
      "EvaluatorHoldout: Processed 10008 (100.0%) in 12.90 sec. Users per second: 776\n"
     ]
    },
    {
     "name": "stderr",
     "output_type": "stream",
     "text": [
      "[I 2023-12-05 22:10:46,604] Trial 0 finished with value: 0.02329941998781933 and parameters: {'confidence': 0.845229642574217, 'percentile': 99.98816302865197, 'max_interaction_increase': 1.896680983218175}. Best is trial 0 with value: 0.02329941998781933.\n"
     ]
    },
    {
     "name": "stdout",
     "output_type": "stream",
     "text": [
      "UserKNNCFRecommender: URM Detected 462 ( 3.7%) users with no interactions.\n",
      "UserKNNCFRecommender: URM Detected 344 ( 1.5%) items with no interactions.\n",
      "Similarity column 12638 (100.0%), 4055.62 column/sec. Elapsed time 3.12 sec\n",
      "EvaluatorHoldout: Processed 10008 (100.0%) in 13.61 sec. Users per second: 735\n"
     ]
    },
    {
     "name": "stderr",
     "output_type": "stream",
     "text": [
      "[I 2023-12-05 22:11:16,110] Trial 1 finished with value: 0.022757968228591774 and parameters: {'confidence': 0.6250567845792284, 'percentile': 99.93136335488335, 'max_interaction_increase': 1.8022666970939425}. Best is trial 0 with value: 0.02329941998781933.\n"
     ]
    },
    {
     "name": "stdout",
     "output_type": "stream",
     "text": [
      "UserKNNCFRecommender: URM Detected 462 ( 3.7%) users with no interactions.\n",
      "UserKNNCFRecommender: URM Detected 344 ( 1.5%) items with no interactions.\n",
      "Similarity column 12638 (100.0%), 4677.91 column/sec. Elapsed time 2.70 sec\n",
      "EvaluatorHoldout: Processed 10008 (100.0%) in 13.47 sec. Users per second: 743\n"
     ]
    },
    {
     "name": "stderr",
     "output_type": "stream",
     "text": [
      "[I 2023-12-05 22:11:45,488] Trial 2 finished with value: 0.023231787585804416 and parameters: {'confidence': 0.4466784931372927, 'percentile': 99.96624200826281, 'max_interaction_increase': 1.8877210177848924}. Best is trial 0 with value: 0.02329941998781933.\n"
     ]
    },
    {
     "name": "stdout",
     "output_type": "stream",
     "text": [
      "UserKNNCFRecommender: URM Detected 462 ( 3.7%) users with no interactions.\n",
      "UserKNNCFRecommender: URM Detected 344 ( 1.5%) items with no interactions.\n",
      "Similarity column 12638 (100.0%), 4209.81 column/sec. Elapsed time 3.00 sec\n",
      "EvaluatorHoldout: Processed 10008 (100.0%) in 13.59 sec. Users per second: 737\n"
     ]
    },
    {
     "name": "stderr",
     "output_type": "stream",
     "text": [
      "[I 2023-12-05 22:12:14,534] Trial 3 finished with value: 0.02291121071396855 and parameters: {'confidence': 0.08511510054719162, 'percentile': 99.92677561692962, 'max_interaction_increase': 1.0353588389971202}. Best is trial 0 with value: 0.02329941998781933.\n"
     ]
    },
    {
     "name": "stdout",
     "output_type": "stream",
     "text": [
      "UserKNNCFRecommender: URM Detected 462 ( 3.7%) users with no interactions.\n",
      "UserKNNCFRecommender: URM Detected 344 ( 1.5%) items with no interactions.\n",
      "Similarity column 12638 (100.0%), 4524.14 column/sec. Elapsed time 2.79 sec\n",
      "EvaluatorHoldout: Processed 10008 (100.0%) in 13.08 sec. Users per second: 765\n"
     ]
    },
    {
     "name": "stderr",
     "output_type": "stream",
     "text": [
      "[I 2023-12-05 22:12:43,313] Trial 4 finished with value: 0.023222537049725336 and parameters: {'confidence': 0.2474985648358391, 'percentile': 99.96180196337133, 'max_interaction_increase': 1.6853399916408132}. Best is trial 0 with value: 0.02329941998781933.\n"
     ]
    },
    {
     "name": "stdout",
     "output_type": "stream",
     "text": [
      "UserKNNCFRecommender: URM Detected 462 ( 3.7%) users with no interactions.\n",
      "UserKNNCFRecommender: URM Detected 344 ( 1.5%) items with no interactions.\n",
      "Similarity column 12638 (100.0%), 4807.66 column/sec. Elapsed time 2.63 sec\n",
      "EvaluatorHoldout: Processed 10008 (100.0%) in 13.41 sec. Users per second: 746\n"
     ]
    },
    {
     "name": "stderr",
     "output_type": "stream",
     "text": [
      "[I 2023-12-05 22:13:10,905] Trial 5 finished with value: 0.023290708702878984 and parameters: {'confidence': 0.3755892673178113, 'percentile': 99.97762092335088, 'max_interaction_increase': 1.8412415424363717}. Best is trial 0 with value: 0.02329941998781933.\n"
     ]
    },
    {
     "name": "stdout",
     "output_type": "stream",
     "text": [
      "UserKNNCFRecommender: URM Detected 462 ( 3.7%) users with no interactions.\n",
      "UserKNNCFRecommender: URM Detected 344 ( 1.5%) items with no interactions.\n",
      "Similarity column 12638 (100.0%), 3763.12 column/sec. Elapsed time 3.36 sec\n",
      "EvaluatorHoldout: Processed 10008 (100.0%) in 13.12 sec. Users per second: 763\n"
     ]
    },
    {
     "name": "stderr",
     "output_type": "stream",
     "text": [
      "[I 2023-12-05 22:13:40,332] Trial 6 finished with value: 0.02198839737733628 and parameters: {'confidence': 0.9302230234095387, 'percentile': 99.90297937790044, 'max_interaction_increase': 1.5470362116396754}. Best is trial 0 with value: 0.02329941998781933.\n"
     ]
    },
    {
     "name": "stdout",
     "output_type": "stream",
     "text": [
      "UserKNNCFRecommender: URM Detected 462 ( 3.7%) users with no interactions.\n",
      "UserKNNCFRecommender: URM Detected 344 ( 1.5%) items with no interactions.\n",
      "Similarity column 12638 (100.0%), 3903.80 column/sec. Elapsed time 3.24 sec\n",
      "EvaluatorHoldout: Processed 10008 (100.0%) in 12.96 sec. Users per second: 772\n"
     ]
    },
    {
     "name": "stderr",
     "output_type": "stream",
     "text": [
      "[I 2023-12-05 22:14:08,959] Trial 7 finished with value: 0.022801072633956324 and parameters: {'confidence': 0.14581617175699402, 'percentile': 99.91070027085152, 'max_interaction_increase': 1.575803385100898}. Best is trial 0 with value: 0.02329941998781933.\n"
     ]
    },
    {
     "name": "stdout",
     "output_type": "stream",
     "text": [
      "UserKNNCFRecommender: URM Detected 462 ( 3.7%) users with no interactions.\n",
      "UserKNNCFRecommender: URM Detected 344 ( 1.5%) items with no interactions.\n",
      "Similarity column 12638 (100.0%), 4606.24 column/sec. Elapsed time 2.74 sec\n",
      "EvaluatorHoldout: Processed 10008 (100.0%) in 12.50 sec. Users per second: 800\n"
     ]
    },
    {
     "name": "stderr",
     "output_type": "stream",
     "text": [
      "[I 2023-12-05 22:14:35,916] Trial 8 finished with value: 0.0231602257876239 and parameters: {'confidence': 0.23381182396339417, 'percentile': 99.96027388506855, 'max_interaction_increase': 1.4457831667925416}. Best is trial 0 with value: 0.02329941998781933.\n"
     ]
    },
    {
     "name": "stdout",
     "output_type": "stream",
     "text": [
      "UserKNNCFRecommender: URM Detected 462 ( 3.7%) users with no interactions.\n",
      "UserKNNCFRecommender: URM Detected 344 ( 1.5%) items with no interactions.\n",
      "Similarity column 12638 (100.0%), 5221.15 column/sec. Elapsed time 2.42 sec\n",
      "EvaluatorHoldout: Processed 10008 (100.0%) in 12.16 sec. Users per second: 823\n"
     ]
    },
    {
     "name": "stderr",
     "output_type": "stream",
     "text": [
      "[I 2023-12-05 22:15:01,609] Trial 9 finished with value: 0.023335676696737914 and parameters: {'confidence': 0.748012525095351, 'percentile': 99.99370839493923, 'max_interaction_increase': 1.1044938345419424}. Best is trial 9 with value: 0.023335676696737914.\n"
     ]
    },
    {
     "name": "stdout",
     "output_type": "stream",
     "text": [
      "UserKNNCFRecommender: URM Detected 462 ( 3.7%) users with no interactions.\n",
      "UserKNNCFRecommender: URM Detected 344 ( 1.5%) items with no interactions.\n",
      "Similarity column 12638 (100.0%), 5254.25 column/sec. Elapsed time 2.41 sec\n",
      "EvaluatorHoldout: Processed 10008 (100.0%) in 12.30 sec. Users per second: 813\n"
     ]
    },
    {
     "name": "stderr",
     "output_type": "stream",
     "text": [
      "[I 2023-12-05 22:15:27,317] Trial 10 finished with value: 0.023323844892340143 and parameters: {'confidence': 0.6646426557190258, 'percentile': 99.99770719301421, 'max_interaction_increase': 1.0393517122617202}. Best is trial 9 with value: 0.023335676696737914.\n"
     ]
    },
    {
     "name": "stdout",
     "output_type": "stream",
     "text": [
      "UserKNNCFRecommender: URM Detected 462 ( 3.7%) users with no interactions.\n",
      "UserKNNCFRecommender: URM Detected 344 ( 1.5%) items with no interactions.\n",
      "Similarity column 12638 (100.0%), 5269.33 column/sec. Elapsed time 2.40 sec\n",
      "EvaluatorHoldout: Processed 10008 (100.0%) in 12.22 sec. Users per second: 819\n"
     ]
    },
    {
     "name": "stderr",
     "output_type": "stream",
     "text": [
      "[I 2023-12-05 22:15:53,097] Trial 11 finished with value: 0.02327088725844729 and parameters: {'confidence': 0.6837523560170375, 'percentile': 99.99351844371543, 'max_interaction_increase': 1.0188784871042098}. Best is trial 9 with value: 0.023335676696737914.\n"
     ]
    },
    {
     "name": "stdout",
     "output_type": "stream",
     "text": [
      "UserKNNCFRecommender: URM Detected 462 ( 3.7%) users with no interactions.\n",
      "UserKNNCFRecommender: URM Detected 344 ( 1.5%) items with no interactions.\n",
      "Similarity column 12638 (100.0%), 5151.38 column/sec. Elapsed time 2.45 sec\n",
      "EvaluatorHoldout: Processed 10008 (100.0%) in 12.08 sec. Users per second: 829\n"
     ]
    },
    {
     "name": "stderr",
     "output_type": "stream",
     "text": [
      "[I 2023-12-05 22:16:18,741] Trial 12 finished with value: 0.02335803579358741 and parameters: {'confidence': 0.720175880079612, 'percentile': 99.9936180621593, 'max_interaction_increase': 1.194802439810376}. Best is trial 12 with value: 0.02335803579358741.\n"
     ]
    },
    {
     "name": "stdout",
     "output_type": "stream",
     "text": [
      "UserKNNCFRecommender: URM Detected 462 ( 3.7%) users with no interactions.\n",
      "UserKNNCFRecommender: URM Detected 344 ( 1.5%) items with no interactions.\n",
      "Similarity column 12638 (100.0%), 4933.15 column/sec. Elapsed time 2.56 sec\n",
      "EvaluatorHoldout: Processed 10008 (100.0%) in 12.23 sec. Users per second: 818\n"
     ]
    },
    {
     "name": "stderr",
     "output_type": "stream",
     "text": [
      "[I 2023-12-05 22:16:45,055] Trial 13 finished with value: 0.023283420882341782 and parameters: {'confidence': 0.8074786929787323, 'percentile': 99.97799973087838, 'max_interaction_increase': 1.2275291614954469}. Best is trial 12 with value: 0.02335803579358741.\n"
     ]
    },
    {
     "name": "stdout",
     "output_type": "stream",
     "text": [
      "UserKNNCFRecommender: URM Detected 462 ( 3.7%) users with no interactions.\n",
      "UserKNNCFRecommender: URM Detected 344 ( 1.5%) items with no interactions.\n",
      "Similarity column 12638 (100.0%), 5088.84 column/sec. Elapsed time 2.48 sec\n",
      "EvaluatorHoldout: Processed 10008 (100.0%) in 11.98 sec. Users per second: 835\n"
     ]
    },
    {
     "name": "stderr",
     "output_type": "stream",
     "text": [
      "[I 2023-12-05 22:17:10,496] Trial 14 finished with value: 0.023258056253410018 and parameters: {'confidence': 0.986258868622691, 'percentile': 99.99900807554269, 'max_interaction_increase': 1.2538553249265683}. Best is trial 12 with value: 0.02335803579358741.\n"
     ]
    },
    {
     "name": "stdout",
     "output_type": "stream",
     "text": [
      "UserKNNCFRecommender: URM Detected 462 ( 3.7%) users with no interactions.\n",
      "UserKNNCFRecommender: URM Detected 344 ( 1.5%) items with no interactions.\n",
      "Similarity column 12638 (100.0%), 4963.77 column/sec. Elapsed time 2.55 sec\n",
      "EvaluatorHoldout: Processed 10008 (100.0%) in 12.34 sec. Users per second: 811\n"
     ]
    },
    {
     "name": "stderr",
     "output_type": "stream",
     "text": [
      "[I 2023-12-05 22:17:36,911] Trial 15 finished with value: 0.023358000107850222 and parameters: {'confidence': 0.5708563956697517, 'percentile': 99.98051803809908, 'max_interaction_increase': 1.2001595984088524}. Best is trial 12 with value: 0.02335803579358741.\n"
     ]
    },
    {
     "name": "stdout",
     "output_type": "stream",
     "text": [
      "UserKNNCFRecommender: URM Detected 462 ( 3.7%) users with no interactions.\n",
      "UserKNNCFRecommender: URM Detected 344 ( 1.5%) items with no interactions.\n",
      "Similarity column 12638 (100.0%), 4951.97 column/sec. Elapsed time 2.55 sec\n",
      "EvaluatorHoldout: Processed 10008 (100.0%) in 12.22 sec. Users per second: 819\n"
     ]
    },
    {
     "name": "stderr",
     "output_type": "stream",
     "text": [
      "[I 2023-12-05 22:18:02,976] Trial 16 finished with value: 0.0234338441944857 and parameters: {'confidence': 0.6009108711363892, 'percentile': 99.9802185711872, 'max_interaction_increase': 1.3351330735431715}. Best is trial 16 with value: 0.0234338441944857.\n"
     ]
    },
    {
     "name": "stdout",
     "output_type": "stream",
     "text": [
      "UserKNNCFRecommender: URM Detected 462 ( 3.7%) users with no interactions.\n",
      "UserKNNCFRecommender: URM Detected 344 ( 1.5%) items with no interactions.\n",
      "Similarity column 12638 (100.0%), 4692.36 column/sec. Elapsed time 2.69 sec\n",
      "EvaluatorHoldout: Processed 10008 (100.0%) in 12.36 sec. Users per second: 810\n"
     ]
    },
    {
     "name": "stderr",
     "output_type": "stream",
     "text": [
      "[I 2023-12-05 22:18:29,784] Trial 17 finished with value: 0.02324101036631016 and parameters: {'confidence': 0.5074802324517786, 'percentile': 99.97047233489411, 'max_interaction_increase': 1.3679796294274078}. Best is trial 16 with value: 0.0234338441944857.\n"
     ]
    },
    {
     "name": "stdout",
     "output_type": "stream",
     "text": [
      "UserKNNCFRecommender: URM Detected 462 ( 3.7%) users with no interactions.\n",
      "UserKNNCFRecommender: URM Detected 344 ( 1.5%) items with no interactions.\n",
      "Similarity column 12638 (100.0%), 5071.75 column/sec. Elapsed time 2.49 sec\n",
      "EvaluatorHoldout: Processed 10008 (100.0%) in 12.26 sec. Users per second: 816\n"
     ]
    },
    {
     "name": "stderr",
     "output_type": "stream",
     "text": [
      "[I 2023-12-05 22:18:55,815] Trial 18 finished with value: 0.023252449627599602 and parameters: {'confidence': 0.7677241609242186, 'percentile': 99.98512809415764, 'max_interaction_increase': 1.3532779249960747}. Best is trial 16 with value: 0.0234338441944857.\n"
     ]
    },
    {
     "name": "stdout",
     "output_type": "stream",
     "text": [
      "UserKNNCFRecommender: URM Detected 462 ( 3.7%) users with no interactions.\n",
      "UserKNNCFRecommender: URM Detected 344 ( 1.5%) items with no interactions.\n",
      "Similarity column 12638 (100.0%), 4463.00 column/sec. Elapsed time 2.83 sec\n",
      "EvaluatorHoldout: Processed 10008 (100.0%) in 12.52 sec. Users per second: 799\n"
     ]
    },
    {
     "name": "stderr",
     "output_type": "stream",
     "text": [
      "[I 2023-12-05 22:19:23,510] Trial 19 finished with value: 0.02299721730552072 and parameters: {'confidence': 0.5416084213942225, 'percentile': 99.9467690223983, 'max_interaction_increase': 1.158167175790191}. Best is trial 16 with value: 0.0234338441944857.\n"
     ]
    },
    {
     "name": "stdout",
     "output_type": "stream",
     "text": [
      "UserKNNCFRecommender: URM Detected 462 ( 3.7%) users with no interactions.\n",
      "UserKNNCFRecommender: URM Detected 344 ( 1.5%) items with no interactions.\n",
      "Similarity column 12638 (100.0%), 5062.54 column/sec. Elapsed time 2.50 sec\n",
      "EvaluatorHoldout: Processed 10008 (100.0%) in 12.13 sec. Users per second: 825\n"
     ]
    },
    {
     "name": "stderr",
     "output_type": "stream",
     "text": [
      "[I 2023-12-05 22:19:49,318] Trial 20 finished with value: 0.023291125036478816 and parameters: {'confidence': 0.4231102797707612, 'percentile': 99.98697827870386, 'max_interaction_increase': 1.2755031806475283}. Best is trial 16 with value: 0.0234338441944857.\n"
     ]
    },
    {
     "name": "stdout",
     "output_type": "stream",
     "text": [
      "UserKNNCFRecommender: URM Detected 462 ( 3.7%) users with no interactions.\n",
      "UserKNNCFRecommender: URM Detected 344 ( 1.5%) items with no interactions.\n",
      "Similarity column 12638 (100.0%), 4953.71 column/sec. Elapsed time 2.55 sec\n",
      "EvaluatorHoldout: Processed 10008 (100.0%) in 12.50 sec. Users per second: 801\n"
     ]
    },
    {
     "name": "stderr",
     "output_type": "stream",
     "text": [
      "[I 2023-12-05 22:20:15,684] Trial 21 finished with value: 0.023384669248728 and parameters: {'confidence': 0.5966590385907304, 'percentile': 99.97880302359178, 'max_interaction_increase': 1.20045496737127}. Best is trial 16 with value: 0.0234338441944857.\n"
     ]
    },
    {
     "name": "stdout",
     "output_type": "stream",
     "text": [
      "UserKNNCFRecommender: URM Detected 462 ( 3.7%) users with no interactions.\n",
      "UserKNNCFRecommender: URM Detected 344 ( 1.5%) items with no interactions.\n",
      "Similarity column 12638 (100.0%), 4996.16 column/sec. Elapsed time 2.53 sec\n",
      "EvaluatorHoldout: Processed 10008 (100.0%) in 12.26 sec. Users per second: 816\n"
     ]
    },
    {
     "name": "stderr",
     "output_type": "stream",
     "text": [
      "[I 2023-12-05 22:20:41,759] Trial 22 finished with value: 0.023318523752426618 and parameters: {'confidence': 0.6547665969418347, 'percentile': 99.97871588145111, 'max_interaction_increase': 1.1400152437807565}. Best is trial 16 with value: 0.0234338441944857.\n"
     ]
    },
    {
     "name": "stdout",
     "output_type": "stream",
     "text": [
      "UserKNNCFRecommender: URM Detected 462 ( 3.7%) users with no interactions.\n",
      "UserKNNCFRecommender: URM Detected 344 ( 1.5%) items with no interactions.\n",
      "Similarity column 12638 (100.0%), 4806.08 column/sec. Elapsed time 2.63 sec\n",
      "EvaluatorHoldout: Processed 10008 (100.0%) in 12.36 sec. Users per second: 810\n"
     ]
    },
    {
     "name": "stderr",
     "output_type": "stream",
     "text": [
      "[I 2023-12-05 22:21:08,434] Trial 23 finished with value: 0.023226811408016457 and parameters: {'confidence': 0.599004667434421, 'percentile': 99.9712634309555, 'max_interaction_increase': 1.304089401781461}. Best is trial 16 with value: 0.0234338441944857.\n"
     ]
    },
    {
     "name": "stdout",
     "output_type": "stream",
     "text": [
      "UserKNNCFRecommender: URM Detected 462 ( 3.7%) users with no interactions.\n",
      "UserKNNCFRecommender: URM Detected 344 ( 1.5%) items with no interactions.\n",
      "Similarity column 12638 (100.0%), 5133.21 column/sec. Elapsed time 2.46 sec\n",
      "EvaluatorHoldout: Processed 10008 (100.0%) in 12.16 sec. Users per second: 823\n"
     ]
    },
    {
     "name": "stderr",
     "output_type": "stream",
     "text": [
      "[I 2023-12-05 22:21:34,292] Trial 24 finished with value: 0.023347754336213652 and parameters: {'confidence': 0.7205079415618795, 'percentile': 99.98822637508998, 'max_interaction_increase': 1.416121809917754}. Best is trial 16 with value: 0.0234338441944857.\n"
     ]
    },
    {
     "name": "stdout",
     "output_type": "stream",
     "text": [
      "UserKNNCFRecommender: URM Detected 462 ( 3.7%) users with no interactions.\n",
      "UserKNNCFRecommender: URM Detected 344 ( 1.5%) items with no interactions.\n",
      "Similarity column 12638 (100.0%), 5247.81 column/sec. Elapsed time 2.41 sec\n",
      "EvaluatorHoldout: Processed 10008 (100.0%) in 11.98 sec. Users per second: 835\n"
     ]
    },
    {
     "name": "stderr",
     "output_type": "stream",
     "text": [
      "[I 2023-12-05 22:22:00,065] Trial 25 finished with value: 0.023337468913757948 and parameters: {'confidence': 0.5488173366056227, 'percentile': 99.9991070845919, 'max_interaction_increase': 1.3040255893870514}. Best is trial 16 with value: 0.0234338441944857.\n"
     ]
    },
    {
     "name": "stdout",
     "output_type": "stream",
     "text": [
      "UserKNNCFRecommender: URM Detected 462 ( 3.7%) users with no interactions.\n",
      "UserKNNCFRecommender: URM Detected 344 ( 1.5%) items with no interactions.\n",
      "Similarity column 12638 (100.0%), 4112.54 column/sec. Elapsed time 3.07 sec\n",
      "EvaluatorHoldout: Processed 10008 (100.0%) in 12.45 sec. Users per second: 804\n"
     ]
    },
    {
     "name": "stderr",
     "output_type": "stream",
     "text": [
      "[I 2023-12-05 22:22:27,055] Trial 26 finished with value: 0.02298224515625597 and parameters: {'confidence': 0.8699285287991889, 'percentile': 99.97195431513164, 'max_interaction_increase': 1.197614492096957}. Best is trial 16 with value: 0.0234338441944857.\n"
     ]
    },
    {
     "name": "stdout",
     "output_type": "stream",
     "text": [
      "UserKNNCFRecommender: URM Detected 462 ( 3.7%) users with no interactions.\n",
      "UserKNNCFRecommender: URM Detected 344 ( 1.5%) items with no interactions.\n",
      "Similarity column 12638 (100.0%), 4624.09 column/sec. Elapsed time 2.73 sec\n",
      "EvaluatorHoldout: Processed 10008 (100.0%) in 12.75 sec. Users per second: 785\n"
     ]
    },
    {
     "name": "stderr",
     "output_type": "stream",
     "text": [
      "[I 2023-12-05 22:22:54,170] Trial 27 finished with value: 0.022974513246545654 and parameters: {'confidence': 0.7447952702795836, 'percentile': 99.95759370678935, 'max_interaction_increase': 1.1066515378525765}. Best is trial 16 with value: 0.0234338441944857.\n"
     ]
    },
    {
     "name": "stdout",
     "output_type": "stream",
     "text": [
      "UserKNNCFRecommender: URM Detected 462 ( 3.7%) users with no interactions.\n",
      "UserKNNCFRecommender: URM Detected 344 ( 1.5%) items with no interactions.\n",
      "Similarity column 12638 (100.0%), 4911.91 column/sec. Elapsed time 2.57 sec\n",
      "EvaluatorHoldout: Processed 10008 (100.0%) in 12.46 sec. Users per second: 803\n"
     ]
    },
    {
     "name": "stderr",
     "output_type": "stream",
     "text": [
      "[I 2023-12-05 22:23:20,531] Trial 28 finished with value: 0.02334567663329657 and parameters: {'confidence': 0.6056651092522982, 'percentile': 99.98319856731786, 'max_interaction_increase': 1.3632293874438215}. Best is trial 16 with value: 0.0234338441944857.\n"
     ]
    },
    {
     "name": "stdout",
     "output_type": "stream",
     "text": [
      "UserKNNCFRecommender: URM Detected 462 ( 3.7%) users with no interactions.\n",
      "UserKNNCFRecommender: URM Detected 344 ( 1.5%) items with no interactions.\n",
      "Similarity column 12638 (100.0%), 5157.57 column/sec. Elapsed time 2.45 sec\n",
      "EvaluatorHoldout: Processed 10008 (100.0%) in 12.08 sec. Users per second: 828\n"
     ]
    },
    {
     "name": "stderr",
     "output_type": "stream",
     "text": [
      "[I 2023-12-05 22:23:46,290] Trial 29 finished with value: 0.023291069525332185 and parameters: {'confidence': 0.8227697239348886, 'percentile': 99.99072540995935, 'max_interaction_increase': 1.4736507471259663}. Best is trial 16 with value: 0.0234338441944857.\n"
     ]
    },
    {
     "name": "stdout",
     "output_type": "stream",
     "text": [
      "UserKNNCFRecommender: URM Detected 462 ( 3.7%) users with no interactions.\n",
      "UserKNNCFRecommender: URM Detected 344 ( 1.5%) items with no interactions.\n",
      "Similarity column 12638 (100.0%), 5216.50 column/sec. Elapsed time 2.42 sec\n",
      "EvaluatorHoldout: Processed 10008 (100.0%) in 12.02 sec. Users per second: 833\n"
     ]
    },
    {
     "name": "stderr",
     "output_type": "stream",
     "text": [
      "[I 2023-12-05 22:24:11,991] Trial 30 finished with value: 0.023303396964967756 and parameters: {'confidence': 0.48394058457271055, 'percentile': 99.9895945353894, 'max_interaction_increase': 1.2313473509083839}. Best is trial 16 with value: 0.0234338441944857.\n"
     ]
    },
    {
     "name": "stdout",
     "output_type": "stream",
     "text": [
      "UserKNNCFRecommender: URM Detected 462 ( 3.7%) users with no interactions.\n",
      "UserKNNCFRecommender: URM Detected 344 ( 1.5%) items with no interactions.\n",
      "Similarity column 12638 (100.0%), 4979.07 column/sec. Elapsed time 2.54 sec\n",
      "EvaluatorHoldout: Processed 10008 (100.0%) in 12.27 sec. Users per second: 816\n"
     ]
    },
    {
     "name": "stderr",
     "output_type": "stream",
     "text": [
      "[I 2023-12-05 22:24:38,110] Trial 31 finished with value: 0.02336661623082487 and parameters: {'confidence': 0.5832634200726218, 'percentile': 99.98068082932672, 'max_interaction_increase': 1.1919063970987418}. Best is trial 16 with value: 0.0234338441944857.\n"
     ]
    },
    {
     "name": "stdout",
     "output_type": "stream",
     "text": [
      "UserKNNCFRecommender: URM Detected 462 ( 3.7%) users with no interactions.\n",
      "UserKNNCFRecommender: URM Detected 344 ( 1.5%) items with no interactions.\n",
      "Similarity column 12638 (100.0%), 4216.27 column/sec. Elapsed time 3.00 sec\n",
      "EvaluatorHoldout: Processed 10008 (100.0%) in 12.10 sec. Users per second: 827\n"
     ]
    },
    {
     "name": "stderr",
     "output_type": "stream",
     "text": [
      "[I 2023-12-05 22:25:04,643] Trial 32 finished with value: 0.02341438753758901 and parameters: {'confidence': 0.6147937715309507, 'percentile': 99.9839198644319, 'max_interaction_increase': 1.154131201285858}. Best is trial 16 with value: 0.0234338441944857.\n"
     ]
    },
    {
     "name": "stdout",
     "output_type": "stream",
     "text": [
      "UserKNNCFRecommender: URM Detected 462 ( 3.7%) users with no interactions.\n",
      "UserKNNCFRecommender: URM Detected 344 ( 1.5%) items with no interactions.\n",
      "Similarity column 12638 (100.0%), 4872.71 column/sec. Elapsed time 2.59 sec\n",
      "EvaluatorHoldout: Processed 10008 (100.0%) in 12.23 sec. Users per second: 819\n"
     ]
    },
    {
     "name": "stderr",
     "output_type": "stream",
     "text": [
      "[I 2023-12-05 22:25:30,834] Trial 33 finished with value: 0.023226081832946367 and parameters: {'confidence': 0.6735782523437883, 'percentile': 99.97485989801541, 'max_interaction_increase': 1.286744496750459}. Best is trial 16 with value: 0.0234338441944857.\n"
     ]
    },
    {
     "name": "stdout",
     "output_type": "stream",
     "text": [
      "UserKNNCFRecommender: URM Detected 462 ( 3.7%) users with no interactions.\n",
      "UserKNNCFRecommender: URM Detected 344 ( 1.5%) items with no interactions.\n",
      "Similarity column 12638 (100.0%), 5080.57 column/sec. Elapsed time 2.49 sec\n",
      "EvaluatorHoldout: Processed 10008 (100.0%) in 12.30 sec. Users per second: 814\n"
     ]
    },
    {
     "name": "stderr",
     "output_type": "stream",
     "text": [
      "[I 2023-12-05 22:25:56,933] Trial 34 finished with value: 0.023363460025630306 and parameters: {'confidence': 0.604812933899513, 'percentile': 99.98395570845086, 'max_interaction_increase': 1.0925296334806693}. Best is trial 16 with value: 0.0234338441944857.\n"
     ]
    },
    {
     "name": "stdout",
     "output_type": "stream",
     "text": [
      "UserKNNCFRecommender: URM Detected 462 ( 3.7%) users with no interactions.\n",
      "UserKNNCFRecommender: URM Detected 344 ( 1.5%) items with no interactions.\n",
      "Similarity column 12638 (100.0%), 4701.76 column/sec. Elapsed time 2.69 sec\n",
      "EvaluatorHoldout: Processed 10008 (100.0%) in 12.34 sec. Users per second: 811\n"
     ]
    },
    {
     "name": "stderr",
     "output_type": "stream",
     "text": [
      "[I 2023-12-05 22:26:23,495] Trial 35 finished with value: 0.02318559834671942 and parameters: {'confidence': 0.6132307292073849, 'percentile': 99.96687378813137, 'max_interaction_increase': 1.9975893227075288}. Best is trial 16 with value: 0.0234338441944857.\n"
     ]
    },
    {
     "name": "stdout",
     "output_type": "stream",
     "text": [
      "UserKNNCFRecommender: URM Detected 462 ( 3.7%) users with no interactions.\n",
      "UserKNNCFRecommender: URM Detected 344 ( 1.5%) items with no interactions.\n",
      "Similarity column 12638 (100.0%), 4990.67 column/sec. Elapsed time 2.53 sec\n",
      "EvaluatorHoldout: Processed 10008 (100.0%) in 12.40 sec. Users per second: 807\n"
     ]
    },
    {
     "name": "stderr",
     "output_type": "stream",
     "text": [
      "[I 2023-12-05 22:26:50,300] Trial 36 finished with value: 0.023338579136690685 and parameters: {'confidence': 0.5097917493198879, 'percentile': 99.98158896614457, 'max_interaction_increase': 1.1518818073966253}. Best is trial 16 with value: 0.0234338441944857.\n"
     ]
    },
    {
     "name": "stdout",
     "output_type": "stream",
     "text": [
      "UserKNNCFRecommender: URM Detected 462 ( 3.7%) users with no interactions.\n",
      "UserKNNCFRecommender: URM Detected 344 ( 1.5%) items with no interactions.\n",
      "Similarity column 12638 (100.0%), 4913.19 column/sec. Elapsed time 2.57 sec\n",
      "EvaluatorHoldout: Processed 10008 (100.0%) in 12.32 sec. Users per second: 812\n"
     ]
    },
    {
     "name": "stderr",
     "output_type": "stream",
     "text": [
      "[I 2023-12-05 22:27:16,789] Trial 37 finished with value: 0.023255130022965798 and parameters: {'confidence': 0.4155738281597504, 'percentile': 99.9751333250416, 'max_interaction_increase': 1.068258939100975}. Best is trial 16 with value: 0.0234338441944857.\n"
     ]
    },
    {
     "name": "stdout",
     "output_type": "stream",
     "text": [
      "UserKNNCFRecommender: URM Detected 462 ( 3.7%) users with no interactions.\n",
      "UserKNNCFRecommender: URM Detected 344 ( 1.5%) items with no interactions.\n",
      "Similarity column 12638 (100.0%), 4747.07 column/sec. Elapsed time 2.66 sec\n",
      "EvaluatorHoldout: Processed 10008 (100.0%) in 12.55 sec. Users per second: 797\n"
     ]
    },
    {
     "name": "stderr",
     "output_type": "stream",
     "text": [
      "[I 2023-12-05 22:27:44,489] Trial 38 finished with value: 0.02314310456396791 and parameters: {'confidence': 0.467533114670646, 'percentile': 99.96484463982148, 'max_interaction_increase': 1.008963469659243}. Best is trial 16 with value: 0.0234338441944857.\n"
     ]
    },
    {
     "name": "stdout",
     "output_type": "stream",
     "text": [
      "UserKNNCFRecommender: URM Detected 462 ( 3.7%) users with no interactions.\n",
      "UserKNNCFRecommender: URM Detected 344 ( 1.5%) items with no interactions.\n",
      "Similarity column 12638 (100.0%), 5071.82 column/sec. Elapsed time 2.49 sec\n",
      "EvaluatorHoldout: Processed 10008 (100.0%) in 12.14 sec. Users per second: 824\n"
     ]
    },
    {
     "name": "stderr",
     "output_type": "stream",
     "text": [
      "[I 2023-12-05 22:28:10,352] Trial 39 finished with value: 0.02329358338725851 and parameters: {'confidence': 0.3799541918840501, 'percentile': 99.98584945405797, 'max_interaction_increase': 1.1685343574417524}. Best is trial 16 with value: 0.0234338441944857.\n"
     ]
    },
    {
     "name": "stdout",
     "output_type": "stream",
     "text": [
      "UserKNNCFRecommender: URM Detected 462 ( 3.7%) users with no interactions.\n",
      "UserKNNCFRecommender: URM Detected 344 ( 1.5%) items with no interactions.\n",
      "Similarity column 12638 (100.0%), 4908.63 column/sec. Elapsed time 2.57 sec\n",
      "EvaluatorHoldout: Processed 10008 (100.0%) in 12.40 sec. Users per second: 807\n"
     ]
    },
    {
     "name": "stderr",
     "output_type": "stream",
     "text": [
      "[I 2023-12-05 22:28:37,022] Trial 40 finished with value: 0.023343511698577672 and parameters: {'confidence': 0.547503917491722, 'percentile': 99.97637623738841, 'max_interaction_increase': 1.2372018205414141}. Best is trial 16 with value: 0.0234338441944857.\n"
     ]
    },
    {
     "name": "stdout",
     "output_type": "stream",
     "text": [
      "UserKNNCFRecommender: URM Detected 462 ( 3.7%) users with no interactions.\n",
      "UserKNNCFRecommender: URM Detected 344 ( 1.5%) items with no interactions.\n",
      "Similarity column 12638 (100.0%), 5048.43 column/sec. Elapsed time 2.50 sec\n",
      "EvaluatorHoldout: Processed 10008 (100.0%) in 12.50 sec. Users per second: 801\n"
     ]
    },
    {
     "name": "stderr",
     "output_type": "stream",
     "text": [
      "[I 2023-12-05 22:29:03,402] Trial 41 finished with value: 0.02335954252471042 and parameters: {'confidence': 0.623606805424785, 'percentile': 99.98254129986671, 'max_interaction_increase': 1.0881571650108581}. Best is trial 16 with value: 0.0234338441944857.\n"
     ]
    },
    {
     "name": "stdout",
     "output_type": "stream",
     "text": [
      "UserKNNCFRecommender: URM Detected 462 ( 3.7%) users with no interactions.\n",
      "UserKNNCFRecommender: URM Detected 344 ( 1.5%) items with no interactions.\n",
      "Similarity column 12638 (100.0%), 5026.89 column/sec. Elapsed time 2.51 sec\n",
      "EvaluatorHoldout: Processed 10008 (100.0%) in 12.24 sec. Users per second: 818\n"
     ]
    },
    {
     "name": "stderr",
     "output_type": "stream",
     "text": [
      "[I 2023-12-05 22:29:29,556] Trial 42 finished with value: 0.02336416581020901 and parameters: {'confidence': 0.5750385613812418, 'percentile': 99.98297865244196, 'max_interaction_increase': 1.1242464594080372}. Best is trial 16 with value: 0.0234338441944857.\n"
     ]
    },
    {
     "name": "stdout",
     "output_type": "stream",
     "text": [
      "UserKNNCFRecommender: URM Detected 462 ( 3.7%) users with no interactions.\n",
      "UserKNNCFRecommender: URM Detected 344 ( 1.5%) items with no interactions.\n",
      "Similarity column 12638 (100.0%), 5145.36 column/sec. Elapsed time 2.46 sec\n",
      "EvaluatorHoldout: Processed 10008 (100.0%) in 12.09 sec. Users per second: 828\n"
     ]
    },
    {
     "name": "stderr",
     "output_type": "stream",
     "text": [
      "[I 2023-12-05 22:29:55,499] Trial 43 finished with value: 0.023345081871011177 and parameters: {'confidence': 0.6538700285466028, 'percentile': 99.98956056144252, 'max_interaction_increase': 1.115131027984915}. Best is trial 16 with value: 0.0234338441944857.\n"
     ]
    },
    {
     "name": "stdout",
     "output_type": "stream",
     "text": [
      "UserKNNCFRecommender: URM Detected 462 ( 3.7%) users with no interactions.\n",
      "UserKNNCFRecommender: URM Detected 344 ( 1.5%) items with no interactions.\n",
      "Similarity column 12638 (100.0%), 4766.26 column/sec. Elapsed time 2.65 sec\n",
      "EvaluatorHoldout: Processed 10008 (100.0%) in 12.25 sec. Users per second: 817\n"
     ]
    },
    {
     "name": "stderr",
     "output_type": "stream",
     "text": [
      "[I 2023-12-05 22:30:22,265] Trial 44 finished with value: 0.02313784290028298 and parameters: {'confidence': 0.5757109622032623, 'percentile': 99.96802779015248, 'max_interaction_increase': 1.0562606507266266}. Best is trial 16 with value: 0.0234338441944857.\n"
     ]
    },
    {
     "name": "stdout",
     "output_type": "stream",
     "text": [
      "UserKNNCFRecommender: URM Detected 462 ( 3.7%) users with no interactions.\n",
      "UserKNNCFRecommender: URM Detected 344 ( 1.5%) items with no interactions.\n",
      "Similarity column 12638 (100.0%), 4819.09 column/sec. Elapsed time 2.62 sec\n",
      "EvaluatorHoldout: Processed 10008 (100.0%) in 12.32 sec. Users per second: 812\n"
     ]
    },
    {
     "name": "stderr",
     "output_type": "stream",
     "text": [
      "[I 2023-12-05 22:30:48,698] Trial 45 finished with value: 0.023277683408828524 and parameters: {'confidence': 0.5034809313301654, 'percentile': 99.97356496352124, 'max_interaction_increase': 1.1737072280990222}. Best is trial 16 with value: 0.0234338441944857.\n"
     ]
    },
    {
     "name": "stdout",
     "output_type": "stream",
     "text": [
      "UserKNNCFRecommender: URM Detected 462 ( 3.7%) users with no interactions.\n",
      "UserKNNCFRecommender: URM Detected 344 ( 1.5%) items with no interactions.\n",
      "Similarity column 12638 (100.0%), 4946.44 column/sec. Elapsed time 2.55 sec\n",
      "EvaluatorHoldout: Processed 10008 (100.0%) in 12.56 sec. Users per second: 797\n"
     ]
    },
    {
     "name": "stderr",
     "output_type": "stream",
     "text": [
      "[I 2023-12-05 22:31:15,723] Trial 46 finished with value: 0.023228425196350887 and parameters: {'confidence': 0.6930510329933329, 'percentile': 99.97884688136072, 'max_interaction_increase': 1.1290642266803912}. Best is trial 16 with value: 0.0234338441944857.\n"
     ]
    },
    {
     "name": "stdout",
     "output_type": "stream",
     "text": [
      "UserKNNCFRecommender: URM Detected 462 ( 3.7%) users with no interactions.\n",
      "UserKNNCFRecommender: URM Detected 344 ( 1.5%) items with no interactions.\n",
      "Similarity column 12638 (100.0%), 5178.28 column/sec. Elapsed time 2.44 sec\n",
      "EvaluatorHoldout: Processed 10008 (100.0%) in 12.08 sec. Users per second: 829\n"
     ]
    },
    {
     "name": "stderr",
     "output_type": "stream",
     "text": [
      "[I 2023-12-05 22:31:41,330] Trial 47 finished with value: 0.02338584687805313 and parameters: {'confidence': 0.6477980484410046, 'percentile': 99.9945725128221, 'max_interaction_increase': 1.2167929039523744}. Best is trial 16 with value: 0.0234338441944857.\n"
     ]
    },
    {
     "name": "stdout",
     "output_type": "stream",
     "text": [
      "UserKNNCFRecommender: URM Detected 462 ( 3.7%) users with no interactions.\n",
      "UserKNNCFRecommender: URM Detected 344 ( 1.5%) items with no interactions.\n",
      "Similarity column 12638 (100.0%), 5310.23 column/sec. Elapsed time 2.38 sec\n",
      "EvaluatorHoldout: Processed 10008 (100.0%) in 12.56 sec. Users per second: 797\n"
     ]
    },
    {
     "name": "stderr",
     "output_type": "stream",
     "text": [
      "[I 2023-12-05 22:32:07,325] Trial 48 finished with value: 0.023351659941887773 and parameters: {'confidence': 0.6426855258668083, 'percentile': 99.99590410676372, 'max_interaction_increase': 1.2305079697504184}. Best is trial 16 with value: 0.0234338441944857.\n"
     ]
    },
    {
     "name": "stdout",
     "output_type": "stream",
     "text": [
      "UserKNNCFRecommender: URM Detected 462 ( 3.7%) users with no interactions.\n",
      "UserKNNCFRecommender: URM Detected 344 ( 1.5%) items with no interactions.\n",
      "Similarity column 12638 (100.0%), 5161.82 column/sec. Elapsed time 2.45 sec\n",
      "EvaluatorHoldout: Processed 10008 (100.0%) in 12.18 sec. Users per second: 822\n"
     ]
    },
    {
     "name": "stderr",
     "output_type": "stream",
     "text": [
      "[I 2023-12-05 22:32:33,445] Trial 49 finished with value: 0.023321564970246098 and parameters: {'confidence': 0.6942887519942733, 'percentile': 99.99365073584758, 'max_interaction_increase': 1.3183356416364256}. Best is trial 16 with value: 0.0234338441944857.\n"
     ]
    },
    {
     "name": "stdout",
     "output_type": "stream",
     "text": [
      "UserKNNCFRecommender: URM Detected 462 ( 3.7%) users with no interactions.\n",
      "UserKNNCFRecommender: URM Detected 344 ( 1.5%) items with no interactions.\n",
      "Similarity column 12638 (100.0%), 5148.64 column/sec. Elapsed time 2.45 sec\n",
      "EvaluatorHoldout: Processed 10008 (100.0%) in 12.10 sec. Users per second: 827\n"
     ]
    },
    {
     "name": "stderr",
     "output_type": "stream",
     "text": [
      "[I 2023-12-05 22:32:59,166] Trial 50 finished with value: 0.023382928577772782 and parameters: {'confidence': 0.5210558604665023, 'percentile': 99.99629261687228, 'max_interaction_increase': 1.2596329827159967}. Best is trial 16 with value: 0.0234338441944857.\n"
     ]
    },
    {
     "name": "stdout",
     "output_type": "stream",
     "text": [
      "UserKNNCFRecommender: URM Detected 462 ( 3.7%) users with no interactions.\n",
      "UserKNNCFRecommender: URM Detected 344 ( 1.5%) items with no interactions.\n",
      "Similarity column 12638 (100.0%), 5270.60 column/sec. Elapsed time 2.40 sec\n",
      "EvaluatorHoldout: Processed 10008 (100.0%) in 12.25 sec. Users per second: 817\n"
     ]
    },
    {
     "name": "stderr",
     "output_type": "stream",
     "text": [
      "[I 2023-12-05 22:33:25,343] Trial 51 finished with value: 0.023334142210041566 and parameters: {'confidence': 0.5213004908402746, 'percentile': 99.99961367352627, 'max_interaction_increase': 1.2592452601838313}. Best is trial 16 with value: 0.0234338441944857.\n"
     ]
    },
    {
     "name": "stdout",
     "output_type": "stream",
     "text": [
      "UserKNNCFRecommender: URM Detected 462 ( 3.7%) users with no interactions.\n",
      "UserKNNCFRecommender: URM Detected 344 ( 1.5%) items with no interactions.\n",
      "Similarity column 12638 (100.0%), 5230.48 column/sec. Elapsed time 2.42 sec\n",
      "EvaluatorHoldout: Processed 10008 (100.0%) in 12.19 sec. Users per second: 821\n"
     ]
    },
    {
     "name": "stderr",
     "output_type": "stream",
     "text": [
      "[I 2023-12-05 22:33:51,104] Trial 52 finished with value: 0.023353586971692562 and parameters: {'confidence': 0.5627249662485192, 'percentile': 99.99255236515177, 'max_interaction_increase': 1.1989159612812372}. Best is trial 16 with value: 0.0234338441944857.\n"
     ]
    },
    {
     "name": "stdout",
     "output_type": "stream",
     "text": [
      "UserKNNCFRecommender: URM Detected 462 ( 3.7%) users with no interactions.\n",
      "UserKNNCFRecommender: URM Detected 344 ( 1.5%) items with no interactions.\n",
      "Similarity column 12638 (100.0%), 5229.57 column/sec. Elapsed time 2.42 sec\n",
      "EvaluatorHoldout: Processed 10008 (100.0%) in 12.23 sec. Users per second: 818\n"
     ]
    },
    {
     "name": "stderr",
     "output_type": "stream",
     "text": [
      "[I 2023-12-05 22:34:17,115] Trial 53 finished with value: 0.023323630777917406 and parameters: {'confidence': 0.4630779650290728, 'percentile': 99.99446769269598, 'max_interaction_increase': 1.2639941023948065}. Best is trial 16 with value: 0.0234338441944857.\n"
     ]
    },
    {
     "name": "stdout",
     "output_type": "stream",
     "text": [
      "UserKNNCFRecommender: URM Detected 462 ( 3.7%) users with no interactions.\n",
      "UserKNNCFRecommender: URM Detected 344 ( 1.5%) items with no interactions.\n",
      "Similarity column 12638 (100.0%), 5075.14 column/sec. Elapsed time 2.49 sec\n",
      "EvaluatorHoldout: Processed 10008 (100.0%) in 12.20 sec. Users per second: 820\n"
     ]
    },
    {
     "name": "stderr",
     "output_type": "stream",
     "text": [
      "[I 2023-12-05 22:34:43,068] Trial 54 finished with value: 0.023316453979673458 and parameters: {'confidence': 0.6300309447461135, 'percentile': 99.98721222397776, 'max_interaction_increase': 1.331909073191753}. Best is trial 16 with value: 0.0234338441944857.\n"
     ]
    },
    {
     "name": "stdout",
     "output_type": "stream",
     "text": [
      "UserKNNCFRecommender: URM Detected 462 ( 3.7%) users with no interactions.\n",
      "UserKNNCFRecommender: URM Detected 344 ( 1.5%) items with no interactions.\n",
      "Similarity column 12638 (100.0%), 5060.63 column/sec. Elapsed time 2.50 sec\n",
      "EvaluatorHoldout: Processed 10008 (100.0%) in 12.46 sec. Users per second: 804\n"
     ]
    },
    {
     "name": "stderr",
     "output_type": "stream",
     "text": [
      "[I 2023-12-05 22:35:09,218] Trial 55 finished with value: 0.023312409596132677 and parameters: {'confidence': 0.5297183913361193, 'percentile': 99.99063095700205, 'max_interaction_increase': 1.2073460397977382}. Best is trial 16 with value: 0.0234338441944857.\n"
     ]
    },
    {
     "name": "stdout",
     "output_type": "stream",
     "text": [
      "UserKNNCFRecommender: URM Detected 462 ( 3.7%) users with no interactions.\n",
      "UserKNNCFRecommender: URM Detected 344 ( 1.5%) items with no interactions.\n",
      "Similarity column 12638 (100.0%), 4429.68 column/sec. Elapsed time 2.85 sec\n",
      "EvaluatorHoldout: Processed 10008 (100.0%) in 12.11 sec. Users per second: 826\n"
     ]
    },
    {
     "name": "stderr",
     "output_type": "stream",
     "text": [
      "[I 2023-12-05 22:35:35,245] Trial 56 finished with value: 0.02333496298199539 and parameters: {'confidence': 0.587068112299207, 'percentile': 99.99651551075905, 'max_interaction_increase': 1.2786817230373695}. Best is trial 16 with value: 0.0234338441944857.\n"
     ]
    },
    {
     "name": "stdout",
     "output_type": "stream",
     "text": [
      "UserKNNCFRecommender: URM Detected 462 ( 3.7%) users with no interactions.\n",
      "UserKNNCFRecommender: URM Detected 344 ( 1.5%) items with no interactions.\n",
      "Similarity column 12638 (100.0%), 4905.73 column/sec. Elapsed time 2.58 sec\n",
      "EvaluatorHoldout: Processed 10008 (100.0%) in 12.45 sec. Users per second: 804\n"
     ]
    },
    {
     "name": "stderr",
     "output_type": "stream",
     "text": [
      "[I 2023-12-05 22:36:01,814] Trial 57 finished with value: 0.023380343344372143 and parameters: {'confidence': 0.6574317602517326, 'percentile': 99.97973041515819, 'max_interaction_increase': 1.3317085473622374}. Best is trial 16 with value: 0.0234338441944857.\n"
     ]
    },
    {
     "name": "stdout",
     "output_type": "stream",
     "text": [
      "UserKNNCFRecommender: URM Detected 462 ( 3.7%) users with no interactions.\n",
      "UserKNNCFRecommender: URM Detected 344 ( 1.5%) items with no interactions.\n",
      "Similarity column 12638 (100.0%), 5076.61 column/sec. Elapsed time 2.49 sec\n",
      "EvaluatorHoldout: Processed 10008 (100.0%) in 12.29 sec. Users per second: 814\n"
     ]
    },
    {
     "name": "stderr",
     "output_type": "stream",
     "text": [
      "[I 2023-12-05 22:36:27,896] Trial 58 finished with value: 0.023258353634552798 and parameters: {'confidence': 0.7781045210552897, 'percentile': 99.98658726481581, 'max_interaction_increase': 1.4031280303671085}. Best is trial 16 with value: 0.0234338441944857.\n"
     ]
    },
    {
     "name": "stdout",
     "output_type": "stream",
     "text": [
      "UserKNNCFRecommender: URM Detected 462 ( 3.7%) users with no interactions.\n",
      "UserKNNCFRecommender: URM Detected 344 ( 1.5%) items with no interactions.\n",
      "Similarity column 12638 (100.0%), 4881.86 column/sec. Elapsed time 2.59 sec\n",
      "EvaluatorHoldout: Processed 10008 (100.0%) in 12.31 sec. Users per second: 813\n"
     ]
    },
    {
     "name": "stderr",
     "output_type": "stream",
     "text": [
      "[I 2023-12-05 22:36:54,263] Trial 59 finished with value: 0.023330280220268253 and parameters: {'confidence': 0.7317158001267017, 'percentile': 99.97748440044181, 'max_interaction_increase': 1.3321298652572802}. Best is trial 16 with value: 0.0234338441944857.\n"
     ]
    },
    {
     "name": "stdout",
     "output_type": "stream",
     "text": [
      "UserKNNCFRecommender: URM Detected 462 ( 3.7%) users with no interactions.\n",
      "UserKNNCFRecommender: URM Detected 344 ( 1.5%) items with no interactions.\n",
      "Similarity column 12638 (100.0%), 5163.04 column/sec. Elapsed time 2.45 sec\n",
      "EvaluatorHoldout: Processed 10008 (100.0%) in 12.13 sec. Users per second: 825\n"
     ]
    },
    {
     "name": "stderr",
     "output_type": "stream",
     "text": [
      "[I 2023-12-05 22:37:19,877] Trial 60 finished with value: 0.023294963235760607 and parameters: {'confidence': 0.7000989476142527, 'percentile': 99.99555462284258, 'max_interaction_increase': 1.3761592476781825}. Best is trial 16 with value: 0.0234338441944857.\n"
     ]
    },
    {
     "name": "stdout",
     "output_type": "stream",
     "text": [
      "UserKNNCFRecommender: URM Detected 462 ( 3.7%) users with no interactions.\n",
      "UserKNNCFRecommender: URM Detected 344 ( 1.5%) items with no interactions.\n",
      "Similarity column 12638 (100.0%), 4973.68 column/sec. Elapsed time 2.54 sec\n",
      "EvaluatorHoldout: Processed 10008 (100.0%) in 12.40 sec. Users per second: 807\n"
     ]
    },
    {
     "name": "stderr",
     "output_type": "stream",
     "text": [
      "[I 2023-12-05 22:37:46,634] Trial 61 finished with value: 0.02332653718295205 and parameters: {'confidence': 0.6657994737848338, 'percentile': 99.97895729515997, 'max_interaction_increase': 1.175410564990783}. Best is trial 16 with value: 0.0234338441944857.\n"
     ]
    },
    {
     "name": "stdout",
     "output_type": "stream",
     "text": [
      "UserKNNCFRecommender: URM Detected 462 ( 3.7%) users with no interactions.\n",
      "UserKNNCFRecommender: URM Detected 344 ( 1.5%) items with no interactions.\n",
      "Similarity column 12638 (100.0%), 4364.58 column/sec. Elapsed time 2.90 sec\n",
      "EvaluatorHoldout: Processed 10008 (100.0%) in 12.22 sec. Users per second: 819\n"
     ]
    },
    {
     "name": "stderr",
     "output_type": "stream",
     "text": [
      "[I 2023-12-05 22:38:13,226] Trial 62 finished with value: 0.023445787021176754 and parameters: {'confidence': 0.6378187139670423, 'percentile': 99.98224201141852, 'max_interaction_increase': 1.3018466977067575}. Best is trial 62 with value: 0.023445787021176754.\n"
     ]
    },
    {
     "name": "stdout",
     "output_type": "stream",
     "text": [
      "UserKNNCFRecommender: URM Detected 462 ( 3.7%) users with no interactions.\n",
      "UserKNNCFRecommender: URM Detected 344 ( 1.5%) items with no interactions.\n",
      "Similarity column 12638 (100.0%), 5168.01 column/sec. Elapsed time 2.45 sec\n",
      "EvaluatorHoldout: Processed 10008 (100.0%) in 12.53 sec. Users per second: 799\n"
     ]
    },
    {
     "name": "stderr",
     "output_type": "stream",
     "text": [
      "[I 2023-12-05 22:38:39,314] Trial 63 finished with value: 0.023358523498661448 and parameters: {'confidence': 0.6445439610942052, 'percentile': 99.9913036772389, 'max_interaction_increase': 1.2987760705307085}. Best is trial 62 with value: 0.023445787021176754.\n"
     ]
    },
    {
     "name": "stdout",
     "output_type": "stream",
     "text": [
      "UserKNNCFRecommender: URM Detected 462 ( 3.7%) users with no interactions.\n",
      "UserKNNCFRecommender: URM Detected 344 ( 1.5%) items with no interactions.\n",
      "Similarity column 12638 (100.0%), 5077.78 column/sec. Elapsed time 2.49 sec\n",
      "EvaluatorHoldout: Processed 10008 (100.0%) in 12.20 sec. Users per second: 821\n"
     ]
    },
    {
     "name": "stderr",
     "output_type": "stream",
     "text": [
      "[I 2023-12-05 22:39:05,278] Trial 64 finished with value: 0.023313242263332267 and parameters: {'confidence': 0.6211484889359924, 'percentile': 99.98538039785737, 'max_interaction_increase': 1.2553336682478358}. Best is trial 62 with value: 0.023445787021176754.\n"
     ]
    },
    {
     "name": "stdout",
     "output_type": "stream",
     "text": [
      "UserKNNCFRecommender: URM Detected 462 ( 3.7%) users with no interactions.\n",
      "UserKNNCFRecommender: URM Detected 344 ( 1.5%) items with no interactions.\n",
      "Similarity column 12638 (100.0%), 5119.79 column/sec. Elapsed time 2.47 sec\n",
      "EvaluatorHoldout: Processed 10008 (100.0%) in 12.25 sec. Users per second: 817\n"
     ]
    },
    {
     "name": "stderr",
     "output_type": "stream",
     "text": [
      "[I 2023-12-05 22:39:31,245] Trial 65 finished with value: 0.023298615076193047 and parameters: {'confidence': 0.5532033238701922, 'percentile': 99.98824451546604, 'max_interaction_increase': 1.432345852195072}. Best is trial 62 with value: 0.023445787021176754.\n"
     ]
    },
    {
     "name": "stdout",
     "output_type": "stream",
     "text": [
      "UserKNNCFRecommender: URM Detected 462 ( 3.7%) users with no interactions.\n",
      "UserKNNCFRecommender: URM Detected 344 ( 1.5%) items with no interactions.\n",
      "Similarity column 12638 (100.0%), 5310.69 column/sec. Elapsed time 2.38 sec\n",
      "EvaluatorHoldout: Processed 10008 (100.0%) in 12.00 sec. Users per second: 834\n"
     ]
    },
    {
     "name": "stderr",
     "output_type": "stream",
     "text": [
      "[I 2023-12-05 22:39:56,945] Trial 66 finished with value: 0.023333567273165694 and parameters: {'confidence': 0.7130771283513959, 'percentile': 99.99971544036798, 'max_interaction_increase': 1.32460849848819}. Best is trial 62 with value: 0.023445787021176754.\n"
     ]
    },
    {
     "name": "stdout",
     "output_type": "stream",
     "text": [
      "UserKNNCFRecommender: URM Detected 462 ( 3.7%) users with no interactions.\n",
      "UserKNNCFRecommender: URM Detected 344 ( 1.5%) items with no interactions.\n",
      "Similarity column 12638 (100.0%), 4857.66 column/sec. Elapsed time 2.60 sec\n",
      "EvaluatorHoldout: Processed 10008 (100.0%) in 12.28 sec. Users per second: 815\n"
     ]
    },
    {
     "name": "stderr",
     "output_type": "stream",
     "text": [
      "[I 2023-12-05 22:40:23,441] Trial 67 finished with value: 0.023318539612754277 and parameters: {'confidence': 0.670761424194362, 'percentile': 99.97295043464216, 'max_interaction_increase': 1.2241187111475542}. Best is trial 62 with value: 0.023445787021176754.\n"
     ]
    },
    {
     "name": "stdout",
     "output_type": "stream",
     "text": [
      "UserKNNCFRecommender: URM Detected 462 ( 3.7%) users with no interactions.\n",
      "UserKNNCFRecommender: URM Detected 344 ( 1.5%) items with no interactions.\n",
      "Similarity column 12638 (100.0%), 4886.49 column/sec. Elapsed time 2.59 sec\n",
      "EvaluatorHoldout: Processed 10008 (100.0%) in 12.25 sec. Users per second: 817\n"
     ]
    },
    {
     "name": "stderr",
     "output_type": "stream",
     "text": [
      "[I 2023-12-05 22:40:49,587] Trial 68 finished with value: 0.023362968355474387 and parameters: {'confidence': 0.5969025873755928, 'percentile': 99.98150344966459, 'max_interaction_increase': 1.2907338568642288}. Best is trial 62 with value: 0.023445787021176754.\n"
     ]
    },
    {
     "name": "stdout",
     "output_type": "stream",
     "text": [
      "UserKNNCFRecommender: URM Detected 462 ( 3.7%) users with no interactions.\n",
      "UserKNNCFRecommender: URM Detected 344 ( 1.5%) items with no interactions.\n",
      "Similarity column 12638 (100.0%), 5216.01 column/sec. Elapsed time 2.42 sec\n",
      "EvaluatorHoldout: Processed 10008 (100.0%) in 12.23 sec. Users per second: 818\n"
     ]
    },
    {
     "name": "stderr",
     "output_type": "stream",
     "text": [
      "[I 2023-12-05 22:41:15,393] Trial 69 finished with value: 0.0233352326075648 and parameters: {'confidence': 0.489311510503342, 'percentile': 99.99291692002772, 'max_interaction_increase': 1.356737835497085}. Best is trial 62 with value: 0.023445787021176754.\n"
     ]
    },
    {
     "name": "stdout",
     "output_type": "stream",
     "text": [
      "UserKNNCFRecommender: URM Detected 462 ( 3.7%) users with no interactions.\n",
      "UserKNNCFRecommender: URM Detected 344 ( 1.5%) items with no interactions.\n",
      "Similarity column 12638 (100.0%), 5074.02 column/sec. Elapsed time 2.49 sec\n",
      "EvaluatorHoldout: Processed 10008 (100.0%) in 12.55 sec. Users per second: 797\n"
     ]
    },
    {
     "name": "stderr",
     "output_type": "stream",
     "text": [
      "[I 2023-12-05 22:41:41,695] Trial 70 finished with value: 0.02327121636024518 and parameters: {'confidence': 0.7648040973776181, 'percentile': 99.9843749350141, 'max_interaction_increase': 1.4628749428113619}. Best is trial 62 with value: 0.023445787021176754.\n"
     ]
    },
    {
     "name": "stdout",
     "output_type": "stream",
     "text": [
      "UserKNNCFRecommender: URM Detected 462 ( 3.7%) users with no interactions.\n",
      "UserKNNCFRecommender: URM Detected 344 ( 1.5%) items with no interactions.\n",
      "Similarity column 12638 (100.0%), 4984.58 column/sec. Elapsed time 2.54 sec\n",
      "EvaluatorHoldout: Processed 10008 (100.0%) in 12.29 sec. Users per second: 814\n"
     ]
    },
    {
     "name": "stderr",
     "output_type": "stream",
     "text": [
      "[I 2023-12-05 22:42:07,842] Trial 71 finished with value: 0.023360315715681455 and parameters: {'confidence': 0.5913550829362507, 'percentile': 99.98052070636376, 'max_interaction_increase': 1.148048169363585}. Best is trial 62 with value: 0.023445787021176754.\n"
     ]
    },
    {
     "name": "stdout",
     "output_type": "stream",
     "text": [
      "UserKNNCFRecommender: URM Detected 462 ( 3.7%) users with no interactions.\n",
      "UserKNNCFRecommender: URM Detected 344 ( 1.5%) items with no interactions.\n",
      "Similarity column 12638 (100.0%), 4828.29 column/sec. Elapsed time 2.62 sec\n",
      "EvaluatorHoldout: Processed 10008 (100.0%) in 12.37 sec. Users per second: 809\n"
     ]
    },
    {
     "name": "stderr",
     "output_type": "stream",
     "text": [
      "[I 2023-12-05 22:42:34,242] Trial 72 finished with value: 0.023190717267455883 and parameters: {'confidence': 0.5468910764419789, 'percentile': 99.97014820296991, 'max_interaction_increase': 1.1918976807458102}. Best is trial 62 with value: 0.023445787021176754.\n"
     ]
    },
    {
     "name": "stdout",
     "output_type": "stream",
     "text": [
      "UserKNNCFRecommender: URM Detected 462 ( 3.7%) users with no interactions.\n",
      "UserKNNCFRecommender: URM Detected 344 ( 1.5%) items with no interactions.\n",
      "Similarity column 12638 (100.0%), 4888.93 column/sec. Elapsed time 2.59 sec\n",
      "EvaluatorHoldout: Processed 10008 (100.0%) in 12.35 sec. Users per second: 810\n"
     ]
    },
    {
     "name": "stderr",
     "output_type": "stream",
     "text": [
      "[I 2023-12-05 22:43:00,926] Trial 73 finished with value: 0.02328106562369154 and parameters: {'confidence': 0.6378228102533178, 'percentile': 99.97612702682613, 'max_interaction_increase': 1.2287586036695028}. Best is trial 62 with value: 0.023445787021176754.\n"
     ]
    },
    {
     "name": "stdout",
     "output_type": "stream",
     "text": [
      "UserKNNCFRecommender: URM Detected 462 ( 3.7%) users with no interactions.\n",
      "UserKNNCFRecommender: URM Detected 344 ( 1.5%) items with no interactions.\n",
      "Similarity column 12638 (100.0%), 4946.54 column/sec. Elapsed time 2.55 sec\n",
      "EvaluatorHoldout: Processed 10008 (100.0%) in 12.17 sec. Users per second: 822\n"
     ]
    },
    {
     "name": "stderr",
     "output_type": "stream",
     "text": [
      "[I 2023-12-05 22:43:26,841] Trial 74 finished with value: 0.02336399134660532 and parameters: {'confidence': 0.6658766199058576, 'percentile': 99.98837275569579, 'max_interaction_increase': 1.2565697097576456}. Best is trial 62 with value: 0.023445787021176754.\n"
     ]
    },
    {
     "name": "stdout",
     "output_type": "stream",
     "text": [
      "UserKNNCFRecommender: URM Detected 462 ( 3.7%) users with no interactions.\n",
      "UserKNNCFRecommender: URM Detected 344 ( 1.5%) items with no interactions.\n",
      "Similarity column 12638 (100.0%), 5000.49 column/sec. Elapsed time 2.53 sec\n",
      "EvaluatorHoldout: Processed 10008 (100.0%) in 12.43 sec. Users per second: 805\n"
     ]
    },
    {
     "name": "stderr",
     "output_type": "stream",
     "text": [
      "[I 2023-12-05 22:43:53,382] Trial 75 finished with value: 0.023319507092738546 and parameters: {'confidence': 0.576551263150858, 'percentile': 99.98195248443879, 'max_interaction_increase': 1.3824162316309079}. Best is trial 62 with value: 0.023445787021176754.\n"
     ]
    },
    {
     "name": "stdout",
     "output_type": "stream",
     "text": [
      "UserKNNCFRecommender: URM Detected 462 ( 3.7%) users with no interactions.\n",
      "UserKNNCFRecommender: URM Detected 344 ( 1.5%) items with no interactions.\n",
      "Similarity column 12638 (100.0%), 5215.57 column/sec. Elapsed time 2.42 sec\n",
      "EvaluatorHoldout: Processed 10008 (100.0%) in 12.05 sec. Users per second: 831\n"
     ]
    },
    {
     "name": "stderr",
     "output_type": "stream",
     "text": [
      "[I 2023-12-05 22:44:18,908] Trial 76 finished with value: 0.02339908232144446 and parameters: {'confidence': 0.5241105251477757, 'percentile': 99.9969963852292, 'max_interaction_increase': 1.146134584351562}. Best is trial 62 with value: 0.023445787021176754.\n"
     ]
    },
    {
     "name": "stdout",
     "output_type": "stream",
     "text": [
      "UserKNNCFRecommender: URM Detected 462 ( 3.7%) users with no interactions.\n",
      "UserKNNCFRecommender: URM Detected 344 ( 1.5%) items with no interactions.\n",
      "Similarity column 12638 (100.0%), 5262.92 column/sec. Elapsed time 2.40 sec\n",
      "EvaluatorHoldout: Processed 10008 (100.0%) in 12.03 sec. Users per second: 832\n"
     ]
    },
    {
     "name": "stderr",
     "output_type": "stream",
     "text": [
      "[I 2023-12-05 22:44:44,391] Trial 77 finished with value: 0.023359780429624603 and parameters: {'confidence': 0.5282854599525544, 'percentile': 99.99722932670618, 'max_interaction_increase': 1.1630309555336418}. Best is trial 62 with value: 0.023445787021176754.\n"
     ]
    },
    {
     "name": "stdout",
     "output_type": "stream",
     "text": [
      "UserKNNCFRecommender: URM Detected 462 ( 3.7%) users with no interactions.\n",
      "UserKNNCFRecommender: URM Detected 344 ( 1.5%) items with no interactions.\n",
      "Similarity column 12638 (100.0%), 5126.28 column/sec. Elapsed time 2.47 sec\n",
      "EvaluatorHoldout: Processed 10008 (100.0%) in 12.35 sec. Users per second: 810\n"
     ]
    },
    {
     "name": "stderr",
     "output_type": "stream",
     "text": [
      "[I 2023-12-05 22:45:10,320] Trial 78 finished with value: 0.023334308743481476 and parameters: {'confidence': 0.6178491248146075, 'percentile': 99.9901161522306, 'max_interaction_increase': 1.1268845003670964}. Best is trial 62 with value: 0.023445787021176754.\n"
     ]
    },
    {
     "name": "stdout",
     "output_type": "stream",
     "text": [
      "UserKNNCFRecommender: URM Detected 462 ( 3.7%) users with no interactions.\n",
      "UserKNNCFRecommender: URM Detected 344 ( 1.5%) items with no interactions.\n",
      "Similarity column 12638 (100.0%), 5307.98 column/sec. Elapsed time 2.38 sec\n",
      "EvaluatorHoldout: Processed 10008 (100.0%) in 12.16 sec. Users per second: 823\n"
     ]
    },
    {
     "name": "stderr",
     "output_type": "stream",
     "text": [
      "[I 2023-12-05 22:45:35,920] Trial 79 finished with value: 0.023365474287236943 and parameters: {'confidence': 0.5147871961420472, 'percentile': 99.99601546955954, 'max_interaction_increase': 1.292865127607599}. Best is trial 62 with value: 0.023445787021176754.\n"
     ]
    },
    {
     "name": "stdout",
     "output_type": "stream",
     "text": [
      "UserKNNCFRecommender: URM Detected 462 ( 3.7%) users with no interactions.\n",
      "UserKNNCFRecommender: URM Detected 344 ( 1.5%) items with no interactions.\n",
      "Similarity column 12638 (100.0%), 5219.75 column/sec. Elapsed time 2.42 sec\n",
      "EvaluatorHoldout: Processed 10008 (100.0%) in 12.24 sec. Users per second: 818\n"
     ]
    },
    {
     "name": "stderr",
     "output_type": "stream",
     "text": [
      "[I 2023-12-05 22:46:01,747] Trial 80 finished with value: 0.023307389802443818 and parameters: {'confidence': 0.48809286949324526, 'percentile': 99.99185135701183, 'max_interaction_increase': 1.0899638567647498}. Best is trial 62 with value: 0.023445787021176754.\n"
     ]
    },
    {
     "name": "stdout",
     "output_type": "stream",
     "text": [
      "UserKNNCFRecommender: URM Detected 462 ( 3.7%) users with no interactions.\n",
      "UserKNNCFRecommender: URM Detected 344 ( 1.5%) items with no interactions.\n",
      "Similarity column 12638 (100.0%), 5098.39 column/sec. Elapsed time 2.48 sec\n",
      "EvaluatorHoldout: Processed 10008 (100.0%) in 12.21 sec. Users per second: 820\n"
     ]
    },
    {
     "name": "stderr",
     "output_type": "stream",
     "text": [
      "[I 2023-12-05 22:46:27,635] Trial 81 finished with value: 0.023313361215789304 and parameters: {'confidence': 0.5616185982249298, 'percentile': 99.98570350292947, 'max_interaction_increase': 1.208226660290525}. Best is trial 62 with value: 0.023445787021176754.\n"
     ]
    },
    {
     "name": "stdout",
     "output_type": "stream",
     "text": [
      "UserKNNCFRecommender: URM Detected 462 ( 3.7%) users with no interactions.\n",
      "UserKNNCFRecommender: URM Detected 344 ( 1.5%) items with no interactions.\n",
      "Similarity column 12638 (100.0%), 4974.90 column/sec. Elapsed time 2.54 sec\n",
      "EvaluatorHoldout: Processed 10008 (100.0%) in 12.26 sec. Users per second: 816\n"
     ]
    },
    {
     "name": "stderr",
     "output_type": "stream",
     "text": [
      "[I 2023-12-05 22:46:53,726] Trial 82 finished with value: 0.023439815607831184 and parameters: {'confidence': 0.6018741722448266, 'percentile': 99.98002612848492, 'max_interaction_increase': 1.1820328601950947}. Best is trial 62 with value: 0.023445787021176754.\n"
     ]
    },
    {
     "name": "stdout",
     "output_type": "stream",
     "text": [
      "UserKNNCFRecommender: URM Detected 462 ( 3.7%) users with no interactions.\n",
      "UserKNNCFRecommender: URM Detected 344 ( 1.5%) items with no interactions.\n",
      "Similarity column 12638 (100.0%), 4875.41 column/sec. Elapsed time 2.59 sec\n",
      "EvaluatorHoldout: Processed 10008 (100.0%) in 12.33 sec. Users per second: 812\n"
     ]
    },
    {
     "name": "stderr",
     "output_type": "stream",
     "text": [
      "[I 2023-12-05 22:47:20,278] Trial 83 finished with value: 0.023269531200436486 and parameters: {'confidence': 0.688140366160198, 'percentile': 99.97908857259445, 'max_interaction_increase': 1.146542497131026}. Best is trial 62 with value: 0.023445787021176754.\n"
     ]
    },
    {
     "name": "stdout",
     "output_type": "stream",
     "text": [
      "UserKNNCFRecommender: URM Detected 462 ( 3.7%) users with no interactions.\n",
      "UserKNNCFRecommender: URM Detected 344 ( 1.5%) items with no interactions.\n",
      "Similarity column 12638 (100.0%), 4850.30 column/sec. Elapsed time 2.61 sec\n",
      "EvaluatorHoldout: Processed 10008 (100.0%) in 12.42 sec. Users per second: 806\n"
     ]
    },
    {
     "name": "stderr",
     "output_type": "stream",
     "text": [
      "[I 2023-12-05 22:47:46,836] Trial 84 finished with value: 0.023220118349764653 and parameters: {'confidence': 0.6129102143154167, 'percentile': 99.97479107198785, 'max_interaction_increase': 1.2416734773032927}. Best is trial 62 with value: 0.023445787021176754.\n"
     ]
    },
    {
     "name": "stdout",
     "output_type": "stream",
     "text": [
      "UserKNNCFRecommender: URM Detected 462 ( 3.7%) users with no interactions.\n",
      "UserKNNCFRecommender: URM Detected 344 ( 1.5%) items with no interactions.\n",
      "Similarity column 12638 (100.0%), 5053.33 column/sec. Elapsed time 2.50 sec\n",
      "EvaluatorHoldout: Processed 10008 (100.0%) in 12.31 sec. Users per second: 813\n"
     ]
    },
    {
     "name": "stderr",
     "output_type": "stream",
     "text": [
      "[I 2023-12-05 22:48:13,052] Trial 85 finished with value: 0.023376747015086387 and parameters: {'confidence': 0.6594475889803064, 'percentile': 99.98374840846118, 'max_interaction_increase': 1.1775870526897847}. Best is trial 62 with value: 0.023445787021176754.\n"
     ]
    },
    {
     "name": "stdout",
     "output_type": "stream",
     "text": [
      "UserKNNCFRecommender: URM Detected 462 ( 3.7%) users with no interactions.\n",
      "UserKNNCFRecommender: URM Detected 344 ( 1.5%) items with no interactions.\n",
      "Similarity column 12638 (100.0%), 5082.96 column/sec. Elapsed time 2.49 sec\n",
      "EvaluatorHoldout: Processed 10008 (100.0%) in 12.27 sec. Users per second: 815\n"
     ]
    },
    {
     "name": "stderr",
     "output_type": "stream",
     "text": [
      "[I 2023-12-05 22:48:39,011] Trial 86 finished with value: 0.023317009091139863 and parameters: {'confidence': 0.7167871281114593, 'percentile': 99.98863609572888, 'max_interaction_increase': 1.270295371742327}. Best is trial 62 with value: 0.023445787021176754.\n"
     ]
    },
    {
     "name": "stdout",
     "output_type": "stream",
     "text": [
      "UserKNNCFRecommender: URM Detected 462 ( 3.7%) users with no interactions.\n",
      "UserKNNCFRecommender: URM Detected 344 ( 1.5%) items with no interactions.\n",
      "Similarity column 12638 (100.0%), 5250.96 column/sec. Elapsed time 2.41 sec\n",
      "EvaluatorHoldout: Processed 10008 (100.0%) in 12.13 sec. Users per second: 825\n"
     ]
    },
    {
     "name": "stderr",
     "output_type": "stream",
     "text": [
      "[I 2023-12-05 22:49:04,792] Trial 87 finished with value: 0.023332909069569804 and parameters: {'confidence': 0.6004340228623263, 'percentile': 99.99789343637032, 'max_interaction_increase': 1.2144738680966765}. Best is trial 62 with value: 0.023445787021176754.\n"
     ]
    },
    {
     "name": "stdout",
     "output_type": "stream",
     "text": [
      "UserKNNCFRecommender: URM Detected 462 ( 3.7%) users with no interactions.\n",
      "UserKNNCFRecommender: URM Detected 344 ( 1.5%) items with no interactions.\n",
      "Similarity column 12638 (100.0%), 5087.45 column/sec. Elapsed time 2.48 sec\n",
      "EvaluatorHoldout: Processed 10008 (100.0%) in 12.24 sec. Users per second: 818\n"
     ]
    },
    {
     "name": "stderr",
     "output_type": "stream",
     "text": [
      "[I 2023-12-05 22:49:30,789] Trial 88 finished with value: 0.023337096196059094 and parameters: {'confidence': 0.6402501201287527, 'percentile': 99.98637616888655, 'max_interaction_increase': 1.3160583158973822}. Best is trial 62 with value: 0.023445787021176754.\n"
     ]
    },
    {
     "name": "stdout",
     "output_type": "stream",
     "text": [
      "UserKNNCFRecommender: URM Detected 462 ( 3.7%) users with no interactions.\n",
      "UserKNNCFRecommender: URM Detected 344 ( 1.5%) items with no interactions.\n",
      "Similarity column 12638 (100.0%), 5275.25 column/sec. Elapsed time 2.40 sec\n",
      "EvaluatorHoldout: Processed 10008 (100.0%) in 12.14 sec. Users per second: 824\n"
     ]
    },
    {
     "name": "stderr",
     "output_type": "stream",
     "text": [
      "[I 2023-12-05 22:49:56,372] Trial 89 finished with value: 0.023314709343636254 and parameters: {'confidence': 0.5421169814064504, 'percentile': 99.99468707391671, 'max_interaction_increase': 1.0372094923656516}. Best is trial 62 with value: 0.023445787021176754.\n"
     ]
    },
    {
     "name": "stdout",
     "output_type": "stream",
     "text": [
      "UserKNNCFRecommender: URM Detected 462 ( 3.7%) users with no interactions.\n",
      "UserKNNCFRecommender: URM Detected 344 ( 1.5%) items with no interactions.\n",
      "Similarity column 12638 (100.0%), 4957.31 column/sec. Elapsed time 2.55 sec\n",
      "EvaluatorHoldout: Processed 10008 (100.0%) in 12.42 sec. Users per second: 806\n"
     ]
    },
    {
     "name": "stderr",
     "output_type": "stream",
     "text": [
      "[I 2023-12-05 22:50:22,757] Trial 90 finished with value: 0.023298167021938022 and parameters: {'confidence': 0.5760055433537917, 'percentile': 99.97756080031624, 'max_interaction_increase': 1.2403284386046196}. Best is trial 62 with value: 0.023445787021176754.\n"
     ]
    },
    {
     "name": "stdout",
     "output_type": "stream",
     "text": [
      "UserKNNCFRecommender: URM Detected 462 ( 3.7%) users with no interactions.\n",
      "UserKNNCFRecommender: URM Detected 344 ( 1.5%) items with no interactions.\n",
      "Similarity column 12638 (100.0%), 5025.37 column/sec. Elapsed time 2.51 sec\n",
      "EvaluatorHoldout: Processed 10008 (100.0%) in 12.21 sec. Users per second: 819\n"
     ]
    },
    {
     "name": "stderr",
     "output_type": "stream",
     "text": [
      "[I 2023-12-05 22:50:49,051] Trial 91 finished with value: 0.02335215557712567 and parameters: {'confidence': 0.6492567212317603, 'percentile': 99.9834560588135, 'max_interaction_increase': 1.1705729589810812}. Best is trial 62 with value: 0.023445787021176754.\n"
     ]
    },
    {
     "name": "stdout",
     "output_type": "stream",
     "text": [
      "UserKNNCFRecommender: URM Detected 462 ( 3.7%) users with no interactions.\n",
      "UserKNNCFRecommender: URM Detected 344 ( 1.5%) items with no interactions.\n",
      "Similarity column 12638 (100.0%), 5028.49 column/sec. Elapsed time 2.51 sec\n",
      "EvaluatorHoldout: Processed 10008 (100.0%) in 12.57 sec. Users per second: 796\n"
     ]
    },
    {
     "name": "stderr",
     "output_type": "stream",
     "text": [
      "[I 2023-12-05 22:51:15,431] Trial 92 finished with value: 0.023342409405808735 and parameters: {'confidence': 0.6752149963552755, 'percentile': 99.98417415637445, 'max_interaction_increase': 1.1860905649691509}. Best is trial 62 with value: 0.023445787021176754.\n"
     ]
    },
    {
     "name": "stdout",
     "output_type": "stream",
     "text": [
      "UserKNNCFRecommender: URM Detected 462 ( 3.7%) users with no interactions.\n",
      "UserKNNCFRecommender: URM Detected 344 ( 1.5%) items with no interactions.\n",
      "Similarity column 12638 (100.0%), 4981.94 column/sec. Elapsed time 2.54 sec\n",
      "EvaluatorHoldout: Processed 10008 (100.0%) in 12.37 sec. Users per second: 809\n"
     ]
    },
    {
     "name": "stderr",
     "output_type": "stream",
     "text": [
      "[I 2023-12-05 22:51:41,677] Trial 93 finished with value: 0.023370113433063108 and parameters: {'confidence': 0.6246251605484487, 'percentile': 99.98101102615168, 'max_interaction_increase': 1.1080293091990778}. Best is trial 62 with value: 0.023445787021176754.\n"
     ]
    },
    {
     "name": "stdout",
     "output_type": "stream",
     "text": [
      "UserKNNCFRecommender: URM Detected 462 ( 3.7%) users with no interactions.\n",
      "UserKNNCFRecommender: URM Detected 344 ( 1.5%) items with no interactions.\n",
      "Similarity column 12638 (100.0%), 5207.90 column/sec. Elapsed time 2.43 sec\n",
      "EvaluatorHoldout: Processed 10008 (100.0%) in 12.14 sec. Users per second: 824\n"
     ]
    },
    {
     "name": "stderr",
     "output_type": "stream",
     "text": [
      "[I 2023-12-05 22:52:07,403] Trial 94 finished with value: 0.023350914506490114 and parameters: {'confidence': 0.6980302643543792, 'percentile': 99.99229062179694, 'max_interaction_increase': 1.1441501900192987}. Best is trial 62 with value: 0.023445787021176754.\n"
     ]
    },
    {
     "name": "stdout",
     "output_type": "stream",
     "text": [
      "UserKNNCFRecommender: URM Detected 462 ( 3.7%) users with no interactions.\n",
      "UserKNNCFRecommender: URM Detected 344 ( 1.5%) items with no interactions.\n",
      "Similarity column 12638 (100.0%), 4879.53 column/sec. Elapsed time 2.59 sec\n",
      "EvaluatorHoldout: Processed 10008 (100.0%) in 12.38 sec. Users per second: 808\n"
     ]
    },
    {
     "name": "stderr",
     "output_type": "stream",
     "text": [
      "[I 2023-12-05 22:52:34,194] Trial 95 finished with value: 0.023264749311661836 and parameters: {'confidence': 0.5982791890764044, 'percentile': 99.9760844886764, 'max_interaction_increase': 1.3439873079948639}. Best is trial 62 with value: 0.023445787021176754.\n"
     ]
    },
    {
     "name": "stdout",
     "output_type": "stream",
     "text": [
      "UserKNNCFRecommender: URM Detected 462 ( 3.7%) users with no interactions.\n",
      "UserKNNCFRecommender: URM Detected 344 ( 1.5%) items with no interactions.\n",
      "Similarity column 12638 (100.0%), 5079.25 column/sec. Elapsed time 2.49 sec\n",
      "EvaluatorHoldout: Processed 10008 (100.0%) in 12.13 sec. Users per second: 825\n"
     ]
    },
    {
     "name": "stderr",
     "output_type": "stream",
     "text": [
      "[I 2023-12-05 22:53:00,016] Trial 96 finished with value: 0.023344078705289813 and parameters: {'confidence': 0.6555590590673153, 'percentile': 99.98971497301268, 'max_interaction_increase': 1.1862502294961845}. Best is trial 62 with value: 0.023445787021176754.\n"
     ]
    },
    {
     "name": "stdout",
     "output_type": "stream",
     "text": [
      "UserKNNCFRecommender: URM Detected 462 ( 3.7%) users with no interactions.\n",
      "UserKNNCFRecommender: URM Detected 344 ( 1.5%) items with no interactions.\n",
      "Similarity column 12638 (100.0%), 5222.73 column/sec. Elapsed time 2.42 sec\n",
      "EvaluatorHoldout: Processed 10008 (100.0%) in 12.03 sec. Users per second: 832\n"
     ]
    },
    {
     "name": "stderr",
     "output_type": "stream",
     "text": [
      "[I 2023-12-05 22:53:25,417] Trial 97 finished with value: 0.023350684531739767 and parameters: {'confidence': 0.527579417238762, 'percentile': 99.99995030686533, 'max_interaction_increase': 1.2733624711963258}. Best is trial 62 with value: 0.023445787021176754.\n"
     ]
    },
    {
     "name": "stdout",
     "output_type": "stream",
     "text": [
      "UserKNNCFRecommender: URM Detected 462 ( 3.7%) users with no interactions.\n",
      "UserKNNCFRecommender: URM Detected 344 ( 1.5%) items with no interactions.\n",
      "Similarity column 12638 (100.0%), 5110.49 column/sec. Elapsed time 2.47 sec\n",
      "EvaluatorHoldout: Processed 10008 (100.0%) in 12.33 sec. Users per second: 812\n"
     ]
    },
    {
     "name": "stderr",
     "output_type": "stream",
     "text": [
      "[I 2023-12-05 22:53:51,531] Trial 98 finished with value: 0.023327461047035432 and parameters: {'confidence': 0.5562857900306213, 'percentile': 99.98671345749177, 'max_interaction_increase': 1.203160219090428}. Best is trial 62 with value: 0.023445787021176754.\n"
     ]
    },
    {
     "name": "stdout",
     "output_type": "stream",
     "text": [
      "UserKNNCFRecommender: URM Detected 462 ( 3.7%) users with no interactions.\n",
      "UserKNNCFRecommender: URM Detected 344 ( 1.5%) items with no interactions.\n",
      "Similarity column 12638 (100.0%), 5006.17 column/sec. Elapsed time 2.52 sec\n",
      "EvaluatorHoldout: Processed 10008 (100.0%) in 12.60 sec. Users per second: 794\n"
     ]
    },
    {
     "name": "stderr",
     "output_type": "stream",
     "text": [
      "[I 2023-12-05 22:54:17,981] Trial 99 finished with value: 0.023327306408841203 and parameters: {'confidence': 0.738402406907356, 'percentile': 99.97937710961025, 'max_interaction_increase': 1.3081302997043727}. Best is trial 62 with value: 0.023445787021176754.\n"
     ]
    },
    {
     "name": "stdout",
     "output_type": "stream",
     "text": [
      "UserKNNCFRecommender: URM Detected 462 ( 3.7%) users with no interactions.\n",
      "UserKNNCFRecommender: URM Detected 344 ( 1.5%) items with no interactions.\n",
      "Similarity column 12638 (100.0%), 5257.78 column/sec. Elapsed time 2.40 sec\n",
      "EvaluatorHoldout: Processed 10008 (100.0%) in 12.11 sec. Users per second: 827\n"
     ]
    },
    {
     "name": "stderr",
     "output_type": "stream",
     "text": [
      "[I 2023-12-05 22:54:43,543] Trial 100 finished with value: 0.023373273603339566 and parameters: {'confidence': 0.6246194921246913, 'percentile': 99.99416615591912, 'max_interaction_increase': 1.1643288099290838}. Best is trial 62 with value: 0.023445787021176754.\n"
     ]
    },
    {
     "name": "stdout",
     "output_type": "stream",
     "text": [
      "UserKNNCFRecommender: URM Detected 462 ( 3.7%) users with no interactions.\n",
      "UserKNNCFRecommender: URM Detected 344 ( 1.5%) items with no interactions.\n",
      "Similarity column 12638 (100.0%), 5260.61 column/sec. Elapsed time 2.40 sec\n",
      "EvaluatorHoldout: Processed 10008 (100.0%) in 12.02 sec. Users per second: 833\n"
     ]
    },
    {
     "name": "stderr",
     "output_type": "stream",
     "text": [
      "[I 2023-12-05 22:55:09,050] Trial 101 finished with value: 0.023368126927029848 and parameters: {'confidence': 0.6204960137858689, 'percentile': 99.99424746792657, 'max_interaction_increase': 1.129439806975966}. Best is trial 62 with value: 0.023445787021176754.\n"
     ]
    },
    {
     "name": "stdout",
     "output_type": "stream",
     "text": [
      "UserKNNCFRecommender: URM Detected 462 ( 3.7%) users with no interactions.\n",
      "UserKNNCFRecommender: URM Detected 344 ( 1.5%) items with no interactions.\n",
      "Similarity column 12638 (100.0%), 5046.72 column/sec. Elapsed time 2.50 sec\n",
      "EvaluatorHoldout: Processed 10008 (100.0%) in 12.29 sec. Users per second: 815\n"
     ]
    },
    {
     "name": "stderr",
     "output_type": "stream",
     "text": [
      "[I 2023-12-05 22:55:35,405] Trial 102 finished with value: 0.02327984041338361 and parameters: {'confidence': 0.5844810294973052, 'percentile': 99.98308712923145, 'max_interaction_increase': 1.2195970477307598}. Best is trial 62 with value: 0.023445787021176754.\n"
     ]
    },
    {
     "name": "stdout",
     "output_type": "stream",
     "text": [
      "UserKNNCFRecommender: URM Detected 462 ( 3.7%) users with no interactions.\n",
      "UserKNNCFRecommender: URM Detected 344 ( 1.5%) items with no interactions.\n",
      "Similarity column 12638 (100.0%), 4592.42 column/sec. Elapsed time 2.75 sec\n",
      "EvaluatorHoldout: Processed 10008 (100.0%) in 12.23 sec. Users per second: 818\n"
     ]
    },
    {
     "name": "stderr",
     "output_type": "stream",
     "text": [
      "[I 2023-12-05 22:56:01,466] Trial 103 finished with value: 0.023330605356984304 and parameters: {'confidence': 0.6351837761149358, 'percentile': 99.99725230639393, 'max_interaction_increase': 1.1625136272680203}. Best is trial 62 with value: 0.023445787021176754.\n"
     ]
    },
    {
     "name": "stdout",
     "output_type": "stream",
     "text": [
      "UserKNNCFRecommender: URM Detected 462 ( 3.7%) users with no interactions.\n",
      "UserKNNCFRecommender: URM Detected 344 ( 1.5%) items with no interactions.\n",
      "Similarity column 12638 (100.0%), 5214.85 column/sec. Elapsed time 2.42 sec\n",
      "EvaluatorHoldout: Processed 10008 (100.0%) in 12.19 sec. Users per second: 821\n"
     ]
    },
    {
     "name": "stderr",
     "output_type": "stream",
     "text": [
      "[I 2023-12-05 22:56:27,507] Trial 104 finished with value: 0.023376409983124673 and parameters: {'confidence': 0.6712811915231885, 'percentile': 99.99210847902323, 'max_interaction_increase': 1.245096910372429}. Best is trial 62 with value: 0.023445787021176754.\n"
     ]
    },
    {
     "name": "stdout",
     "output_type": "stream",
     "text": [
      "UserKNNCFRecommender: URM Detected 462 ( 3.7%) users with no interactions.\n",
      "UserKNNCFRecommender: URM Detected 344 ( 1.5%) items with no interactions.\n",
      "Similarity column 12638 (100.0%), 5128.00 column/sec. Elapsed time 2.46 sec\n",
      "EvaluatorHoldout: Processed 10008 (100.0%) in 12.28 sec. Users per second: 815\n"
     ]
    },
    {
     "name": "stderr",
     "output_type": "stream",
     "text": [
      "[I 2023-12-05 22:56:53,558] Trial 105 finished with value: 0.023360914443048792 and parameters: {'confidence': 0.6762914950467476, 'percentile': 99.98768634575048, 'max_interaction_increase': 1.2479966161152414}. Best is trial 62 with value: 0.023445787021176754.\n"
     ]
    },
    {
     "name": "stdout",
     "output_type": "stream",
     "text": [
      "UserKNNCFRecommender: URM Detected 462 ( 3.7%) users with no interactions.\n",
      "UserKNNCFRecommender: URM Detected 344 ( 1.5%) items with no interactions.\n",
      "Similarity column 12638 (100.0%), 5118.88 column/sec. Elapsed time 2.47 sec\n",
      "EvaluatorHoldout: Processed 10008 (100.0%) in 12.22 sec. Users per second: 819\n"
     ]
    },
    {
     "name": "stderr",
     "output_type": "stream",
     "text": [
      "[I 2023-12-05 22:57:19,461] Trial 106 finished with value: 0.023366390221156462 and parameters: {'confidence': 0.6569217358925116, 'percentile': 99.99161023841788, 'max_interaction_increase': 1.27970517647799}. Best is trial 62 with value: 0.023445787021176754.\n"
     ]
    },
    {
     "name": "stdout",
     "output_type": "stream",
     "text": [
      "UserKNNCFRecommender: URM Detected 462 ( 3.7%) users with no interactions.\n",
      "UserKNNCFRecommender: URM Detected 344 ( 1.5%) items with no interactions.\n",
      "Similarity column 12638 (100.0%), 4999.66 column/sec. Elapsed time 2.53 sec\n",
      "EvaluatorHoldout: Processed 10008 (100.0%) in 12.31 sec. Users per second: 813\n"
     ]
    },
    {
     "name": "stderr",
     "output_type": "stream",
     "text": [
      "[I 2023-12-05 22:57:45,694] Trial 107 finished with value: 0.02333662831639456 and parameters: {'confidence': 0.5650470961667805, 'percentile': 99.98435228889095, 'max_interaction_increase': 1.2151291993269133}. Best is trial 62 with value: 0.023445787021176754.\n"
     ]
    },
    {
     "name": "stdout",
     "output_type": "stream",
     "text": [
      "UserKNNCFRecommender: URM Detected 462 ( 3.7%) users with no interactions.\n",
      "UserKNNCFRecommender: URM Detected 344 ( 1.5%) items with no interactions.\n",
      "Similarity column 12638 (100.0%), 4813.27 column/sec. Elapsed time 2.63 sec\n",
      "EvaluatorHoldout: Processed 10008 (100.0%) in 12.38 sec. Users per second: 808\n"
     ]
    },
    {
     "name": "stderr",
     "output_type": "stream",
     "text": [
      "[I 2023-12-05 22:58:12,856] Trial 108 finished with value: 0.023291632566962334 and parameters: {'confidence': 0.7131170964215126, 'percentile': 99.97307941093779, 'max_interaction_increase': 1.249114792166032}. Best is trial 62 with value: 0.023445787021176754.\n"
     ]
    },
    {
     "name": "stdout",
     "output_type": "stream",
     "text": [
      "UserKNNCFRecommender: URM Detected 462 ( 3.7%) users with no interactions.\n",
      "UserKNNCFRecommender: URM Detected 344 ( 1.5%) items with no interactions.\n",
      "Similarity column 12638 (100.0%), 4856.89 column/sec. Elapsed time 2.60 sec\n",
      "EvaluatorHoldout: Processed 10008 (100.0%) in 12.95 sec. Users per second: 773\n"
     ]
    },
    {
     "name": "stderr",
     "output_type": "stream",
     "text": [
      "[I 2023-12-05 22:58:39,742] Trial 109 finished with value: 0.023351608395823065 and parameters: {'confidence': 0.6043982101987031, 'percentile': 99.98919615584649, 'max_interaction_increase': 1.2994723015177554}. Best is trial 62 with value: 0.023445787021176754.\n"
     ]
    },
    {
     "name": "stdout",
     "output_type": "stream",
     "text": [
      "UserKNNCFRecommender: URM Detected 462 ( 3.7%) users with no interactions.\n",
      "UserKNNCFRecommender: URM Detected 344 ( 1.5%) items with no interactions.\n",
      "Similarity column 12638 (100.0%), 4973.23 column/sec. Elapsed time 2.54 sec\n",
      "EvaluatorHoldout: Processed 10008 (100.0%) in 12.75 sec. Users per second: 785\n"
     ]
    },
    {
     "name": "stderr",
     "output_type": "stream",
     "text": [
      "[I 2023-12-05 22:59:06,472] Trial 110 finished with value: 0.023296410490655128 and parameters: {'confidence': 0.6876904693900315, 'percentile': 99.98038754817826, 'max_interaction_increase': 1.3403947736521056}. Best is trial 62 with value: 0.023445787021176754.\n"
     ]
    },
    {
     "name": "stdout",
     "output_type": "stream",
     "text": [
      "UserKNNCFRecommender: URM Detected 462 ( 3.7%) users with no interactions.\n",
      "UserKNNCFRecommender: URM Detected 344 ( 1.5%) items with no interactions.\n",
      "Similarity column 12638 (100.0%), 5194.61 column/sec. Elapsed time 2.43 sec\n",
      "EvaluatorHoldout: Processed 10008 (100.0%) in 12.49 sec. Users per second: 801\n"
     ]
    },
    {
     "name": "stderr",
     "output_type": "stream",
     "text": [
      "[I 2023-12-05 22:59:32,635] Trial 111 finished with value: 0.023357722552117086 and parameters: {'confidence': 0.6323883350381191, 'percentile': 99.99346970311115, 'max_interaction_increase': 1.1800255907048673}. Best is trial 62 with value: 0.023445787021176754.\n"
     ]
    },
    {
     "name": "stdout",
     "output_type": "stream",
     "text": [
      "UserKNNCFRecommender: URM Detected 462 ( 3.7%) users with no interactions.\n",
      "UserKNNCFRecommender: URM Detected 344 ( 1.5%) items with no interactions.\n",
      "Similarity column 12638 (100.0%), 5208.74 column/sec. Elapsed time 2.43 sec\n",
      "EvaluatorHoldout: Processed 10008 (100.0%) in 12.12 sec. Users per second: 825\n"
     ]
    },
    {
     "name": "stderr",
     "output_type": "stream",
     "text": [
      "[I 2023-12-05 22:59:58,555] Trial 112 finished with value: 0.02336813089211174 and parameters: {'confidence': 0.6086994222710975, 'percentile': 99.99579596282267, 'max_interaction_increase': 1.1605854471665928}. Best is trial 62 with value: 0.023445787021176754.\n"
     ]
    },
    {
     "name": "stdout",
     "output_type": "stream",
     "text": [
      "UserKNNCFRecommender: URM Detected 462 ( 3.7%) users with no interactions.\n",
      "UserKNNCFRecommender: URM Detected 344 ( 1.5%) items with no interactions.\n",
      "Similarity column 12638 (100.0%), 5282.75 column/sec. Elapsed time 2.39 sec\n",
      "EvaluatorHoldout: Processed 10008 (100.0%) in 12.09 sec. Users per second: 828\n"
     ]
    },
    {
     "name": "stderr",
     "output_type": "stream",
     "text": [
      "[I 2023-12-05 23:00:24,181] Trial 113 finished with value: 0.02330998693109011 and parameters: {'confidence': 0.6603581532888767, 'percentile': 99.9974596371786, 'max_interaction_increase': 1.1977223539329955}. Best is trial 62 with value: 0.023445787021176754.\n"
     ]
    },
    {
     "name": "stdout",
     "output_type": "stream",
     "text": [
      "UserKNNCFRecommender: URM Detected 462 ( 3.7%) users with no interactions.\n",
      "UserKNNCFRecommender: URM Detected 344 ( 1.5%) items with no interactions.\n",
      "Similarity column 12638 (100.0%), 5082.34 column/sec. Elapsed time 2.49 sec\n",
      "EvaluatorHoldout: Processed 10008 (100.0%) in 12.19 sec. Users per second: 821\n"
     ]
    },
    {
     "name": "stderr",
     "output_type": "stream",
     "text": [
      "[I 2023-12-05 23:00:50,208] Trial 114 finished with value: 0.023330958249273642 and parameters: {'confidence': 0.5927624885420385, 'percentile': 99.9907950780615, 'max_interaction_increase': 1.1116246211981153}. Best is trial 62 with value: 0.023445787021176754.\n"
     ]
    },
    {
     "name": "stdout",
     "output_type": "stream",
     "text": [
      "UserKNNCFRecommender: URM Detected 462 ( 3.7%) users with no interactions.\n",
      "UserKNNCFRecommender: URM Detected 344 ( 1.5%) items with no interactions.\n",
      "Similarity column 12638 (100.0%), 5209.98 column/sec. Elapsed time 2.43 sec\n",
      "EvaluatorHoldout: Processed 10008 (100.0%) in 12.12 sec. Users per second: 826\n"
     ]
    },
    {
     "name": "stderr",
     "output_type": "stream",
     "text": [
      "[I 2023-12-05 23:01:15,869] Trial 115 finished with value: 0.023347595732937515 and parameters: {'confidence': 0.5709492525427948, 'percentile': 99.9935351423201, 'max_interaction_increase': 1.1382300725737835}. Best is trial 62 with value: 0.023445787021176754.\n"
     ]
    },
    {
     "name": "stdout",
     "output_type": "stream",
     "text": [
      "UserKNNCFRecommender: URM Detected 462 ( 3.7%) users with no interactions.\n",
      "UserKNNCFRecommender: URM Detected 344 ( 1.5%) items with no interactions.\n",
      "Similarity column 12638 (100.0%), 5102.71 column/sec. Elapsed time 2.48 sec\n",
      "EvaluatorHoldout: Processed 10008 (100.0%) in 12.39 sec. Users per second: 808\n"
     ]
    },
    {
     "name": "stderr",
     "output_type": "stream",
     "text": [
      "[I 2023-12-05 23:01:42,017] Trial 116 finished with value: 0.02330101395074416 and parameters: {'confidence': 0.5097786035840226, 'percentile': 99.98541561939359, 'max_interaction_increase': 1.2324896069417728}. Best is trial 62 with value: 0.023445787021176754.\n"
     ]
    },
    {
     "name": "stdout",
     "output_type": "stream",
     "text": [
      "UserKNNCFRecommender: URM Detected 462 ( 3.7%) users with no interactions.\n",
      "UserKNNCFRecommender: URM Detected 344 ( 1.5%) items with no interactions.\n",
      "Similarity column 12638 (100.0%), 4980.45 column/sec. Elapsed time 2.54 sec\n",
      "EvaluatorHoldout: Processed 10008 (100.0%) in 12.32 sec. Users per second: 813\n"
     ]
    },
    {
     "name": "stderr",
     "output_type": "stream",
     "text": [
      "[I 2023-12-05 23:02:08,446] Trial 117 finished with value: 0.023324059006762887 and parameters: {'confidence': 0.5308553976019346, 'percentile': 99.98204795953387, 'max_interaction_increase': 1.069187092775205}. Best is trial 62 with value: 0.023445787021176754.\n"
     ]
    },
    {
     "name": "stdout",
     "output_type": "stream",
     "text": [
      "UserKNNCFRecommender: URM Detected 462 ( 3.7%) users with no interactions.\n",
      "UserKNNCFRecommender: URM Detected 344 ( 1.5%) items with no interactions.\n",
      "Similarity column 12638 (100.0%), 5112.82 column/sec. Elapsed time 2.47 sec\n",
      "EvaluatorHoldout: Processed 10008 (100.0%) in 12.29 sec. Users per second: 814\n"
     ]
    },
    {
     "name": "stderr",
     "output_type": "stream",
     "text": [
      "[I 2023-12-05 23:02:34,516] Trial 118 finished with value: 0.023346120722469676 and parameters: {'confidence': 0.635643941537146, 'percentile': 99.98816559439612, 'max_interaction_increase': 1.264424800787849}. Best is trial 62 with value: 0.023445787021176754.\n"
     ]
    },
    {
     "name": "stdout",
     "output_type": "stream",
     "text": [
      "UserKNNCFRecommender: URM Detected 462 ( 3.7%) users with no interactions.\n",
      "UserKNNCFRecommender: URM Detected 344 ( 1.5%) items with no interactions.\n",
      "Similarity column 12638 (100.0%), 4891.19 column/sec. Elapsed time 2.58 sec\n",
      "EvaluatorHoldout: Processed 10008 (100.0%) in 12.30 sec. Users per second: 814\n"
     ]
    },
    {
     "name": "stderr",
     "output_type": "stream",
     "text": [
      "[I 2023-12-05 23:03:00,907] Trial 119 finished with value: 0.02324570105820106 and parameters: {'confidence': 0.6709796649500862, 'percentile': 99.97770834241497, 'max_interaction_increase': 1.1753736765216027}. Best is trial 62 with value: 0.023445787021176754.\n"
     ]
    },
    {
     "name": "stdout",
     "output_type": "stream",
     "text": [
      "UserKNNCFRecommender: URM Detected 462 ( 3.7%) users with no interactions.\n",
      "UserKNNCFRecommender: URM Detected 344 ( 1.5%) items with no interactions.\n",
      "Similarity column 12638 (100.0%), 5298.98 column/sec. Elapsed time 2.38 sec\n",
      "EvaluatorHoldout: Processed 10008 (100.0%) in 12.02 sec. Users per second: 832\n"
     ]
    },
    {
     "name": "stderr",
     "output_type": "stream",
     "text": [
      "[I 2023-12-05 23:03:26,441] Trial 120 finished with value: 0.02336343227005702 and parameters: {'confidence': 0.5440644979336707, 'percentile': 99.9981377854215, 'max_interaction_increase': 1.3160188931655288}. Best is trial 62 with value: 0.023445787021176754.\n"
     ]
    },
    {
     "name": "stdout",
     "output_type": "stream",
     "text": [
      "UserKNNCFRecommender: URM Detected 462 ( 3.7%) users with no interactions.\n",
      "UserKNNCFRecommender: URM Detected 344 ( 1.5%) items with no interactions.\n",
      "Similarity column 12638 (100.0%), 4988.03 column/sec. Elapsed time 2.53 sec\n",
      "EvaluatorHoldout: Processed 10008 (100.0%) in 12.52 sec. Users per second: 799\n"
     ]
    },
    {
     "name": "stderr",
     "output_type": "stream",
     "text": [
      "[I 2023-12-05 23:03:52,837] Trial 121 finished with value: 0.023411191681575415 and parameters: {'confidence': 0.620476562941984, 'percentile': 99.98265960128705, 'max_interaction_increase': 1.093860870804842}. Best is trial 62 with value: 0.023445787021176754.\n"
     ]
    },
    {
     "name": "stdout",
     "output_type": "stream",
     "text": [
      "UserKNNCFRecommender: URM Detected 462 ( 3.7%) users with no interactions.\n",
      "UserKNNCFRecommender: URM Detected 344 ( 1.5%) items with no interactions.\n",
      "Similarity column 12638 (100.0%), 4990.37 column/sec. Elapsed time 2.53 sec\n",
      "EvaluatorHoldout: Processed 10008 (100.0%) in 12.29 sec. Users per second: 815\n"
     ]
    },
    {
     "name": "stderr",
     "output_type": "stream",
     "text": [
      "[I 2023-12-05 23:04:18,949] Trial 122 finished with value: 0.023344288854630583 and parameters: {'confidence': 0.6461100588864452, 'percentile': 99.98194305865331, 'max_interaction_increase': 1.0977904492081927}. Best is trial 62 with value: 0.023445787021176754.\n"
     ]
    },
    {
     "name": "stdout",
     "output_type": "stream",
     "text": [
      "UserKNNCFRecommender: URM Detected 462 ( 3.7%) users with no interactions.\n",
      "UserKNNCFRecommender: URM Detected 344 ( 1.5%) items with no interactions.\n",
      "Similarity column 12638 (100.0%), 5174.92 column/sec. Elapsed time 2.44 sec\n",
      "EvaluatorHoldout: Processed 10008 (100.0%) in 12.16 sec. Users per second: 823\n"
     ]
    },
    {
     "name": "stderr",
     "output_type": "stream",
     "text": [
      "[I 2023-12-05 23:04:44,692] Trial 123 finished with value: 0.02335002236306199 and parameters: {'confidence': 0.6187925694098771, 'percentile': 99.9913562733681, 'max_interaction_increase': 1.130100524559326}. Best is trial 62 with value: 0.023445787021176754.\n"
     ]
    },
    {
     "name": "stdout",
     "output_type": "stream",
     "text": [
      "UserKNNCFRecommender: URM Detected 462 ( 3.7%) users with no interactions.\n",
      "UserKNNCFRecommender: URM Detected 344 ( 1.5%) items with no interactions.\n",
      "Similarity column 12638 (100.0%), 4882.42 column/sec. Elapsed time 2.59 sec\n",
      "EvaluatorHoldout: Processed 10008 (100.0%) in 12.29 sec. Users per second: 814\n"
     ]
    },
    {
     "name": "stderr",
     "output_type": "stream",
     "text": [
      "[I 2023-12-05 23:05:10,976] Trial 124 finished with value: 0.023332928894979267 and parameters: {'confidence': 0.5867295079317747, 'percentile': 99.9748630338515, 'max_interaction_increase': 1.2143935688909528}. Best is trial 62 with value: 0.023445787021176754.\n"
     ]
    },
    {
     "name": "stdout",
     "output_type": "stream",
     "text": [
      "UserKNNCFRecommender: URM Detected 462 ( 3.7%) users with no interactions.\n",
      "UserKNNCFRecommender: URM Detected 344 ( 1.5%) items with no interactions.\n",
      "Similarity column 12638 (100.0%), 4987.65 column/sec. Elapsed time 2.53 sec\n",
      "EvaluatorHoldout: Processed 10008 (100.0%) in 12.21 sec. Users per second: 820\n"
     ]
    },
    {
     "name": "stderr",
     "output_type": "stream",
     "text": [
      "[I 2023-12-05 23:05:37,111] Trial 125 finished with value: 0.02333962195323108 and parameters: {'confidence': 0.6953729643550003, 'percentile': 99.97951513144864, 'max_interaction_increase': 1.16075722047486}. Best is trial 62 with value: 0.023445787021176754.\n"
     ]
    },
    {
     "name": "stdout",
     "output_type": "stream",
     "text": [
      "UserKNNCFRecommender: URM Detected 462 ( 3.7%) users with no interactions.\n",
      "UserKNNCFRecommender: URM Detected 344 ( 1.5%) items with no interactions.\n",
      "Similarity column 12638 (100.0%), 5281.31 column/sec. Elapsed time 2.39 sec\n",
      "EvaluatorHoldout: Processed 10008 (100.0%) in 12.05 sec. Users per second: 830\n"
     ]
    },
    {
     "name": "stderr",
     "output_type": "stream",
     "text": [
      "[I 2023-12-05 23:06:02,983] Trial 126 finished with value: 0.02335819836194539 and parameters: {'confidence': 0.6085366102988498, 'percentile': 99.99524064313879, 'max_interaction_increase': 1.1903676392074003}. Best is trial 62 with value: 0.023445787021176754.\n"
     ]
    },
    {
     "name": "stdout",
     "output_type": "stream",
     "text": [
      "UserKNNCFRecommender: URM Detected 462 ( 3.7%) users with no interactions.\n",
      "UserKNNCFRecommender: URM Detected 344 ( 1.5%) items with no interactions.\n",
      "Similarity column 12638 (100.0%), 5062.05 column/sec. Elapsed time 2.50 sec\n",
      "EvaluatorHoldout: Processed 10008 (100.0%) in 12.16 sec. Users per second: 823\n"
     ]
    },
    {
     "name": "stderr",
     "output_type": "stream",
     "text": [
      "[I 2023-12-05 23:06:28,811] Trial 127 finished with value: 0.0233324768756424 and parameters: {'confidence': 0.5610509517040146, 'percentile': 99.98581747475826, 'max_interaction_increase': 1.1458072000892332}. Best is trial 62 with value: 0.023445787021176754.\n"
     ]
    },
    {
     "name": "stdout",
     "output_type": "stream",
     "text": [
      "UserKNNCFRecommender: URM Detected 462 ( 3.7%) users with no interactions.\n",
      "UserKNNCFRecommender: URM Detected 344 ( 1.5%) items with no interactions.\n",
      "Similarity column 12638 (100.0%), 4950.63 column/sec. Elapsed time 2.55 sec\n",
      "EvaluatorHoldout: Processed 10008 (100.0%) in 12.27 sec. Users per second: 816\n"
     ]
    },
    {
     "name": "stderr",
     "output_type": "stream",
     "text": [
      "[I 2023-12-05 23:06:54,972] Trial 128 finished with value: 0.02331920574651389 and parameters: {'confidence': 0.66013862622221, 'percentile': 99.97740639927986, 'max_interaction_increase': 1.1160184630234373}. Best is trial 62 with value: 0.023445787021176754.\n"
     ]
    },
    {
     "name": "stdout",
     "output_type": "stream",
     "text": [
      "UserKNNCFRecommender: URM Detected 462 ( 3.7%) users with no interactions.\n",
      "UserKNNCFRecommender: URM Detected 344 ( 1.5%) items with no interactions.\n",
      "Similarity column 12638 (100.0%), 5037.28 column/sec. Elapsed time 2.51 sec\n",
      "EvaluatorHoldout: Processed 10008 (100.0%) in 12.58 sec. Users per second: 795\n"
     ]
    },
    {
     "name": "stderr",
     "output_type": "stream",
     "text": [
      "[I 2023-12-05 23:07:21,307] Trial 129 finished with value: 0.023380874665347134 and parameters: {'confidence': 0.726874427824056, 'percentile': 99.98386460446785, 'max_interaction_increase': 1.2287191314048538}. Best is trial 62 with value: 0.023445787021176754.\n"
     ]
    },
    {
     "name": "stdout",
     "output_type": "stream",
     "text": [
      "UserKNNCFRecommender: URM Detected 462 ( 3.7%) users with no interactions.\n",
      "UserKNNCFRecommender: URM Detected 344 ( 1.5%) items with no interactions.\n",
      "Similarity column 12638 (100.0%), 5042.85 column/sec. Elapsed time 2.51 sec\n",
      "EvaluatorHoldout: Processed 10008 (100.0%) in 12.14 sec. Users per second: 824\n"
     ]
    },
    {
     "name": "stderr",
     "output_type": "stream",
     "text": [
      "[I 2023-12-05 23:07:47,384] Trial 130 finished with value: 0.023275807925088515 and parameters: {'confidence': 0.7182774232795569, 'percentile': 99.98082408181057, 'max_interaction_increase': 1.2863174360833582}. Best is trial 62 with value: 0.023445787021176754.\n"
     ]
    },
    {
     "name": "stdout",
     "output_type": "stream",
     "text": [
      "UserKNNCFRecommender: URM Detected 462 ( 3.7%) users with no interactions.\n",
      "UserKNNCFRecommender: URM Detected 344 ( 1.5%) items with no interactions.\n",
      "Similarity column 12638 (100.0%), 5099.04 column/sec. Elapsed time 2.48 sec\n",
      "EvaluatorHoldout: Processed 10008 (100.0%) in 12.17 sec. Users per second: 822\n"
     ]
    },
    {
     "name": "stderr",
     "output_type": "stream",
     "text": [
      "[I 2023-12-05 23:08:13,371] Trial 131 finished with value: 0.023319455546673806 and parameters: {'confidence': 0.7550545255722065, 'percentile': 99.98353824429624, 'max_interaction_increase': 1.2344558556726821}. Best is trial 62 with value: 0.023445787021176754.\n"
     ]
    },
    {
     "name": "stdout",
     "output_type": "stream",
     "text": [
      "UserKNNCFRecommender: URM Detected 462 ( 3.7%) users with no interactions.\n",
      "UserKNNCFRecommender: URM Detected 344 ( 1.5%) items with no interactions.\n",
      "Similarity column 12638 (100.0%), 5077.83 column/sec. Elapsed time 2.49 sec\n",
      "EvaluatorHoldout: Processed 10008 (100.0%) in 12.12 sec. Users per second: 826\n"
     ]
    },
    {
     "name": "stderr",
     "output_type": "stream",
     "text": [
      "[I 2023-12-05 23:08:39,202] Trial 132 finished with value: 0.02331616056361267 and parameters: {'confidence': 0.6777628246609215, 'percentile': 99.98717643371575, 'max_interaction_increase': 1.2610960710846546}. Best is trial 62 with value: 0.023445787021176754.\n"
     ]
    },
    {
     "name": "stdout",
     "output_type": "stream",
     "text": [
      "UserKNNCFRecommender: URM Detected 462 ( 3.7%) users with no interactions.\n",
      "UserKNNCFRecommender: URM Detected 344 ( 1.5%) items with no interactions.\n",
      "Similarity column 12638 (100.0%), 5204.62 column/sec. Elapsed time 2.43 sec\n",
      "EvaluatorHoldout: Processed 10008 (100.0%) in 12.33 sec. Users per second: 812\n"
     ]
    },
    {
     "name": "stderr",
     "output_type": "stream",
     "text": [
      "[I 2023-12-05 23:09:05,156] Trial 133 finished with value: 0.02339352327661689 and parameters: {'confidence': 0.7345712003506822, 'percentile': 99.9897127863702, 'max_interaction_increase': 1.2054613711825422}. Best is trial 62 with value: 0.023445787021176754.\n"
     ]
    },
    {
     "name": "stdout",
     "output_type": "stream",
     "text": [
      "UserKNNCFRecommender: URM Detected 462 ( 3.7%) users with no interactions.\n",
      "UserKNNCFRecommender: URM Detected 344 ( 1.5%) items with no interactions.\n",
      "Similarity column 12638 (100.0%), 5086.29 column/sec. Elapsed time 2.48 sec\n",
      "EvaluatorHoldout: Processed 10008 (100.0%) in 12.28 sec. Users per second: 815\n"
     ]
    },
    {
     "name": "stderr",
     "output_type": "stream",
     "text": [
      "[I 2023-12-05 23:09:31,362] Trial 134 finished with value: 0.02337114435435783 and parameters: {'confidence': 0.7319756512995632, 'percentile': 99.98360543471821, 'max_interaction_increase': 1.2104268134216614}. Best is trial 62 with value: 0.023445787021176754.\n"
     ]
    },
    {
     "name": "stdout",
     "output_type": "stream",
     "text": [
      "UserKNNCFRecommender: URM Detected 462 ( 3.7%) users with no interactions.\n",
      "UserKNNCFRecommender: URM Detected 344 ( 1.5%) items with no interactions.\n",
      "Similarity column 12638 (100.0%), 4989.84 column/sec. Elapsed time 2.53 sec\n",
      "EvaluatorHoldout: Processed 10008 (100.0%) in 12.29 sec. Users per second: 814\n"
     ]
    },
    {
     "name": "stderr",
     "output_type": "stream",
     "text": [
      "[I 2023-12-05 23:09:57,441] Trial 135 finished with value: 0.023239404508139553 and parameters: {'confidence': 0.703748978159908, 'percentile': 99.97896467042106, 'max_interaction_increase': 1.2462074960755452}. Best is trial 62 with value: 0.023445787021176754.\n"
     ]
    },
    {
     "name": "stdout",
     "output_type": "stream",
     "text": [
      "UserKNNCFRecommender: URM Detected 462 ( 3.7%) users with no interactions.\n",
      "UserKNNCFRecommender: URM Detected 344 ( 1.5%) items with no interactions.\n",
      "Similarity column 12638 (100.0%), 4777.75 column/sec. Elapsed time 2.65 sec\n",
      "EvaluatorHoldout: Processed 10008 (100.0%) in 12.40 sec. Users per second: 807\n"
     ]
    },
    {
     "name": "stderr",
     "output_type": "stream",
     "text": [
      "[I 2023-12-05 23:10:24,026] Trial 136 finished with value: 0.023066947235862136 and parameters: {'confidence': 0.7863051204571762, 'percentile': 99.9711102974299, 'max_interaction_increase': 1.1894780751389502}. Best is trial 62 with value: 0.023445787021176754.\n"
     ]
    },
    {
     "name": "stdout",
     "output_type": "stream",
     "text": [
      "UserKNNCFRecommender: URM Detected 462 ( 3.7%) users with no interactions.\n",
      "UserKNNCFRecommender: URM Detected 344 ( 1.5%) items with no interactions.\n",
      "Similarity column 12638 (100.0%), 5147.05 column/sec. Elapsed time 2.46 sec\n",
      "EvaluatorHoldout: Processed 10008 (100.0%) in 12.18 sec. Users per second: 822\n"
     ]
    },
    {
     "name": "stderr",
     "output_type": "stream",
     "text": [
      "[I 2023-12-05 23:10:50,083] Trial 137 finished with value: 0.02335054178879127 and parameters: {'confidence': 0.7407077241541278, 'percentile': 99.98984347317106, 'max_interaction_increase': 1.2232688634424458}. Best is trial 62 with value: 0.023445787021176754.\n"
     ]
    },
    {
     "name": "stdout",
     "output_type": "stream",
     "text": [
      "UserKNNCFRecommender: URM Detected 462 ( 3.7%) users with no interactions.\n",
      "UserKNNCFRecommender: URM Detected 344 ( 1.5%) items with no interactions.\n",
      "Similarity column 12638 (100.0%), 4951.86 column/sec. Elapsed time 2.55 sec\n",
      "EvaluatorHoldout: Processed 10008 (100.0%) in 12.22 sec. Users per second: 819\n"
     ]
    },
    {
     "name": "stderr",
     "output_type": "stream",
     "text": [
      "[I 2023-12-05 23:11:16,422] Trial 138 finished with value: 0.023373142755636844 and parameters: {'confidence': 0.6908331217159883, 'percentile': 99.9853563671498, 'max_interaction_increase': 1.3582233847994196}. Best is trial 62 with value: 0.023445787021176754.\n"
     ]
    },
    {
     "name": "stdout",
     "output_type": "stream",
     "text": [
      "UserKNNCFRecommender: URM Detected 462 ( 3.7%) users with no interactions.\n",
      "UserKNNCFRecommender: URM Detected 344 ( 1.5%) items with no interactions.\n",
      "Similarity column 12638 (100.0%), 4935.28 column/sec. Elapsed time 2.56 sec\n",
      "EvaluatorHoldout: Processed 10008 (100.0%) in 12.45 sec. Users per second: 804\n"
     ]
    },
    {
     "name": "stderr",
     "output_type": "stream",
     "text": [
      "[I 2023-12-05 23:11:42,803] Trial 139 finished with value: 0.02321417072691054 and parameters: {'confidence': 0.7199232675643251, 'percentile': 99.9765539235835, 'max_interaction_increase': 1.2770108548889507}. Best is trial 62 with value: 0.023445787021176754.\n"
     ]
    },
    {
     "name": "stdout",
     "output_type": "stream",
     "text": [
      "UserKNNCFRecommender: URM Detected 462 ( 3.7%) users with no interactions.\n",
      "UserKNNCFRecommender: URM Detected 344 ( 1.5%) items with no interactions.\n",
      "Similarity column 12638 (100.0%), 5069.74 column/sec. Elapsed time 2.49 sec\n",
      "EvaluatorHoldout: Processed 10008 (100.0%) in 12.29 sec. Users per second: 814\n"
     ]
    },
    {
     "name": "stderr",
     "output_type": "stream",
     "text": [
      "[I 2023-12-05 23:12:08,770] Trial 140 finished with value: 0.023322536415312234 and parameters: {'confidence': 0.6515764727278727, 'percentile': 99.98753151466458, 'max_interaction_increase': 1.328815825771414}. Best is trial 62 with value: 0.023445787021176754.\n"
     ]
    },
    {
     "name": "stdout",
     "output_type": "stream",
     "text": [
      "UserKNNCFRecommender: URM Detected 462 ( 3.7%) users with no interactions.\n",
      "UserKNNCFRecommender: URM Detected 344 ( 1.5%) items with no interactions.\n",
      "Similarity column 12638 (100.0%), 5234.22 column/sec. Elapsed time 2.41 sec\n",
      "EvaluatorHoldout: Processed 10008 (100.0%) in 12.16 sec. Users per second: 823\n"
     ]
    },
    {
     "name": "stderr",
     "output_type": "stream",
     "text": [
      "[I 2023-12-05 23:12:34,500] Trial 141 finished with value: 0.023372318018601037 and parameters: {'confidence': 0.6213336495641429, 'percentile': 99.99300979469446, 'max_interaction_increase': 1.1756411411063237}. Best is trial 62 with value: 0.023445787021176754.\n"
     ]
    },
    {
     "name": "stdout",
     "output_type": "stream",
     "text": [
      "UserKNNCFRecommender: URM Detected 462 ( 3.7%) users with no interactions.\n",
      "UserKNNCFRecommender: URM Detected 344 ( 1.5%) items with no interactions.\n",
      "Similarity column 12638 (100.0%), 5166.16 column/sec. Elapsed time 2.45 sec\n",
      "EvaluatorHoldout: Processed 10008 (100.0%) in 12.39 sec. Users per second: 807\n"
     ]
    },
    {
     "name": "stderr",
     "output_type": "stream",
     "text": [
      "[I 2023-12-05 23:13:00,672] Trial 142 finished with value: 0.023367555955235868 and parameters: {'confidence': 0.6363696505574423, 'percentile': 99.99019465310595, 'max_interaction_increase': 1.1549833396170903}. Best is trial 62 with value: 0.023445787021176754.\n"
     ]
    },
    {
     "name": "stdout",
     "output_type": "stream",
     "text": [
      "UserKNNCFRecommender: URM Detected 462 ( 3.7%) users with no interactions.\n",
      "UserKNNCFRecommender: URM Detected 344 ( 1.5%) items with no interactions.\n",
      "Similarity column 12638 (100.0%), 5263.42 column/sec. Elapsed time 2.40 sec\n",
      "EvaluatorHoldout: Processed 10008 (100.0%) in 12.09 sec. Users per second: 827\n"
     ]
    },
    {
     "name": "stderr",
     "output_type": "stream",
     "text": [
      "[I 2023-12-05 23:13:26,282] Trial 143 finished with value: 0.02334491137248935 and parameters: {'confidence': 0.5874079128359229, 'percentile': 99.99498541380716, 'max_interaction_increase': 1.0795214962836033}. Best is trial 62 with value: 0.023445787021176754.\n"
     ]
    },
    {
     "name": "stdout",
     "output_type": "stream",
     "text": [
      "UserKNNCFRecommender: URM Detected 462 ( 3.7%) users with no interactions.\n",
      "UserKNNCFRecommender: URM Detected 344 ( 1.5%) items with no interactions.\n",
      "Similarity column 12638 (100.0%), 5020.91 column/sec. Elapsed time 2.52 sec\n",
      "EvaluatorHoldout: Processed 10008 (100.0%) in 12.14 sec. Users per second: 824\n"
     ]
    },
    {
     "name": "stderr",
     "output_type": "stream",
     "text": [
      "[I 2023-12-05 23:13:51,892] Trial 144 finished with value: 0.023334812308883113 and parameters: {'confidence': 0.6774939453696442, 'percentile': 99.99982421180722, 'max_interaction_increase': 1.0520822325414936}. Best is trial 62 with value: 0.023445787021176754.\n"
     ]
    },
    {
     "name": "stdout",
     "output_type": "stream",
     "text": [
      "UserKNNCFRecommender: URM Detected 462 ( 3.7%) users with no interactions.\n",
      "UserKNNCFRecommender: URM Detected 344 ( 1.5%) items with no interactions.\n",
      "Similarity column 12638 (100.0%), 5003.62 column/sec. Elapsed time 2.53 sec\n",
      "EvaluatorHoldout: Processed 10008 (100.0%) in 12.25 sec. Users per second: 817\n"
     ]
    },
    {
     "name": "stderr",
     "output_type": "stream",
     "text": [
      "[I 2023-12-05 23:14:17,982] Trial 145 finished with value: 0.023390002283887223 and parameters: {'confidence': 0.6049950099372507, 'percentile': 99.98227498102398, 'max_interaction_increase': 1.1942283845603645}. Best is trial 62 with value: 0.023445787021176754.\n"
     ]
    },
    {
     "name": "stdout",
     "output_type": "stream",
     "text": [
      "UserKNNCFRecommender: URM Detected 462 ( 3.7%) users with no interactions.\n",
      "UserKNNCFRecommender: URM Detected 344 ( 1.5%) items with no interactions.\n",
      "Similarity column 12638 (100.0%), 5019.44 column/sec. Elapsed time 2.52 sec\n",
      "EvaluatorHoldout: Processed 10008 (100.0%) in 12.47 sec. Users per second: 802\n"
     ]
    },
    {
     "name": "stderr",
     "output_type": "stream",
     "text": [
      "[I 2023-12-05 23:14:44,262] Trial 146 finished with value: 0.023324701350031108 and parameters: {'confidence': 0.4662203147678231, 'percentile': 99.98200936853438, 'max_interaction_increase': 1.2050301091670883}. Best is trial 62 with value: 0.023445787021176754.\n"
     ]
    },
    {
     "name": "stdout",
     "output_type": "stream",
     "text": [
      "UserKNNCFRecommender: URM Detected 462 ( 3.7%) users with no interactions.\n",
      "UserKNNCFRecommender: URM Detected 344 ( 1.5%) items with no interactions.\n",
      "Similarity column 12638 (100.0%), 5061.41 column/sec. Elapsed time 2.50 sec\n",
      "EvaluatorHoldout: Processed 10008 (100.0%) in 12.27 sec. Users per second: 816\n"
     ]
    },
    {
     "name": "stderr",
     "output_type": "stream",
     "text": [
      "[I 2023-12-05 23:15:10,612] Trial 147 finished with value: 0.0233612554400924 and parameters: {'confidence': 0.4982960108081027, 'percentile': 99.9844256313357, 'max_interaction_increase': 1.2488555444079847}. Best is trial 62 with value: 0.023445787021176754.\n"
     ]
    },
    {
     "name": "stdout",
     "output_type": "stream",
     "text": [
      "UserKNNCFRecommender: URM Detected 462 ( 3.7%) users with no interactions.\n",
      "UserKNNCFRecommender: URM Detected 344 ( 1.5%) items with no interactions.\n",
      "Similarity column 12638 (100.0%), 4974.72 column/sec. Elapsed time 2.54 sec\n",
      "EvaluatorHoldout: Processed 10008 (100.0%) in 12.28 sec. Users per second: 815\n"
     ]
    },
    {
     "name": "stderr",
     "output_type": "stream",
     "text": [
      "[I 2023-12-05 23:15:36,900] Trial 148 finished with value: 0.0233866795452527 and parameters: {'confidence': 0.6012222200579026, 'percentile': 99.98026065719672, 'max_interaction_increase': 1.2276326831395084}. Best is trial 62 with value: 0.023445787021176754.\n"
     ]
    },
    {
     "name": "stdout",
     "output_type": "stream",
     "text": [
      "UserKNNCFRecommender: URM Detected 462 ( 3.7%) users with no interactions.\n",
      "UserKNNCFRecommender: URM Detected 344 ( 1.5%) items with no interactions.\n",
      "Similarity column 12638 (100.0%), 4978.87 column/sec. Elapsed time 2.54 sec\n",
      "EvaluatorHoldout: Processed 10008 (100.0%) in 12.22 sec. Users per second: 819\n"
     ]
    },
    {
     "name": "stderr",
     "output_type": "stream",
     "text": [
      "[I 2023-12-05 23:16:03,080] Trial 149 finished with value: 0.023402274212376183 and parameters: {'confidence': 0.5704848200033972, 'percentile': 99.9801507175587, 'max_interaction_increase': 1.2985514424205904}. Best is trial 62 with value: 0.023445787021176754.\n"
     ]
    },
    {
     "name": "stdout",
     "output_type": "stream",
     "text": [
      "UserKNNCFRecommender: URM Detected 462 ( 3.7%) users with no interactions.\n",
      "UserKNNCFRecommender: URM Detected 344 ( 1.5%) items with no interactions.\n",
      "Similarity column 12638 (100.0%), 4724.27 column/sec. Elapsed time 2.68 sec\n",
      "EvaluatorHoldout: Processed 10008 (100.0%) in 12.53 sec. Users per second: 798\n"
     ]
    },
    {
     "name": "stderr",
     "output_type": "stream",
     "text": [
      "[I 2023-12-05 23:16:29,950] Trial 150 finished with value: 0.023291965633842143 and parameters: {'confidence': 0.5726748653423049, 'percentile': 99.9735900836935, 'max_interaction_increase': 1.3031563628340668}. Best is trial 62 with value: 0.023445787021176754.\n"
     ]
    },
    {
     "name": "stdout",
     "output_type": "stream",
     "text": [
      "UserKNNCFRecommender: URM Detected 462 ( 3.7%) users with no interactions.\n",
      "UserKNNCFRecommender: URM Detected 344 ( 1.5%) items with no interactions.\n",
      "Similarity column 12638 (100.0%), 4946.31 column/sec. Elapsed time 2.56 sec\n",
      "EvaluatorHoldout: Processed 10008 (100.0%) in 12.43 sec. Users per second: 805\n"
     ]
    },
    {
     "name": "stderr",
     "output_type": "stream",
     "text": [
      "[I 2023-12-05 23:16:56,388] Trial 151 finished with value: 0.02336843620341822 and parameters: {'confidence': 0.6003285242334221, 'percentile': 99.98010045269098, 'max_interaction_increase': 1.2289735534739459}. Best is trial 62 with value: 0.023445787021176754.\n"
     ]
    },
    {
     "name": "stdout",
     "output_type": "stream",
     "text": [
      "UserKNNCFRecommender: URM Detected 462 ( 3.7%) users with no interactions.\n",
      "UserKNNCFRecommender: URM Detected 344 ( 1.5%) items with no interactions.\n",
      "Similarity column 12638 (100.0%), 4941.27 column/sec. Elapsed time 2.56 sec\n",
      "EvaluatorHoldout: Processed 10008 (100.0%) in 12.51 sec. Users per second: 800\n"
     ]
    },
    {
     "name": "stderr",
     "output_type": "stream",
     "text": [
      "[I 2023-12-05 23:17:22,866] Trial 152 finished with value: 0.023376663748366406 and parameters: {'confidence': 0.5462158357256113, 'percentile': 99.97807227831156, 'max_interaction_increase': 1.286559736686199}. Best is trial 62 with value: 0.023445787021176754.\n"
     ]
    },
    {
     "name": "stdout",
     "output_type": "stream",
     "text": [
      "UserKNNCFRecommender: URM Detected 462 ( 3.7%) users with no interactions.\n",
      "UserKNNCFRecommender: URM Detected 344 ( 1.5%) items with no interactions.\n",
      "Similarity column 12638 (100.0%), 4982.25 column/sec. Elapsed time 2.54 sec\n",
      "EvaluatorHoldout: Processed 10008 (100.0%) in 12.25 sec. Users per second: 817\n"
     ]
    },
    {
     "name": "stderr",
     "output_type": "stream",
     "text": [
      "[I 2023-12-05 23:17:49,004] Trial 153 finished with value: 0.023386132363950134 and parameters: {'confidence': 0.5790060464276946, 'percentile': 99.98208860500563, 'max_interaction_increase': 1.3826233318220458}. Best is trial 62 with value: 0.023445787021176754.\n"
     ]
    },
    {
     "name": "stdout",
     "output_type": "stream",
     "text": [
      "UserKNNCFRecommender: URM Detected 462 ( 3.7%) users with no interactions.\n",
      "UserKNNCFRecommender: URM Detected 344 ( 1.5%) items with no interactions.\n",
      "Similarity column 12638 (100.0%), 4887.14 column/sec. Elapsed time 2.59 sec\n",
      "EvaluatorHoldout: Processed 10008 (100.0%) in 12.43 sec. Users per second: 805\n"
     ]
    },
    {
     "name": "stderr",
     "output_type": "stream",
     "text": [
      "[I 2023-12-05 23:18:15,642] Trial 154 finished with value: 0.02331198533236903 and parameters: {'confidence': 0.5632875346677135, 'percentile': 99.97591803716648, 'max_interaction_increase': 1.3867522029332597}. Best is trial 62 with value: 0.023445787021176754.\n"
     ]
    },
    {
     "name": "stdout",
     "output_type": "stream",
     "text": [
      "UserKNNCFRecommender: URM Detected 462 ( 3.7%) users with no interactions.\n",
      "UserKNNCFRecommender: URM Detected 344 ( 1.5%) items with no interactions.\n",
      "Similarity column 12638 (100.0%), 5000.56 column/sec. Elapsed time 2.53 sec\n",
      "EvaluatorHoldout: Processed 10008 (100.0%) in 12.26 sec. Users per second: 816\n"
     ]
    },
    {
     "name": "stderr",
     "output_type": "stream",
     "text": [
      "[I 2023-12-05 23:18:42,024] Trial 155 finished with value: 0.023291164687297826 and parameters: {'confidence': 0.5234144648783471, 'percentile': 99.98141353315785, 'max_interaction_increase': 1.3283958760700483}. Best is trial 62 with value: 0.023445787021176754.\n"
     ]
    },
    {
     "name": "stdout",
     "output_type": "stream",
     "text": [
      "UserKNNCFRecommender: URM Detected 462 ( 3.7%) users with no interactions.\n",
      "UserKNNCFRecommender: URM Detected 344 ( 1.5%) items with no interactions.\n",
      "Similarity column 12638 (100.0%), 4888.76 column/sec. Elapsed time 2.59 sec\n",
      "EvaluatorHoldout: Processed 10008 (100.0%) in 12.22 sec. Users per second: 819\n"
     ]
    },
    {
     "name": "stderr",
     "output_type": "stream",
     "text": [
      "[I 2023-12-05 23:19:08,214] Trial 156 finished with value: 0.02339507362364081 and parameters: {'confidence': 0.5841240676074547, 'percentile': 99.98016407967316, 'max_interaction_increase': 1.3072094806685521}. Best is trial 62 with value: 0.023445787021176754.\n"
     ]
    },
    {
     "name": "stdout",
     "output_type": "stream",
     "text": [
      "UserKNNCFRecommender: URM Detected 462 ( 3.7%) users with no interactions.\n",
      "UserKNNCFRecommender: URM Detected 344 ( 1.5%) items with no interactions.\n",
      "Similarity column 12638 (100.0%), 4972.59 column/sec. Elapsed time 2.54 sec\n",
      "EvaluatorHoldout: Processed 10008 (100.0%) in 12.27 sec. Users per second: 816\n"
     ]
    },
    {
     "name": "stderr",
     "output_type": "stream",
     "text": [
      "[I 2023-12-05 23:19:34,400] Trial 157 finished with value: 0.023390426547650788 and parameters: {'confidence': 0.5773921463727145, 'percentile': 99.97832919347115, 'max_interaction_increase': 1.360385773871082}. Best is trial 62 with value: 0.023445787021176754.\n"
     ]
    },
    {
     "name": "stdout",
     "output_type": "stream",
     "text": [
      "UserKNNCFRecommender: URM Detected 462 ( 3.7%) users with no interactions.\n",
      "UserKNNCFRecommender: URM Detected 344 ( 1.5%) items with no interactions.\n",
      "Similarity column 12638 (100.0%), 4871.40 column/sec. Elapsed time 2.59 sec\n",
      "EvaluatorHoldout: Processed 10008 (100.0%) in 12.26 sec. Users per second: 816\n"
     ]
    },
    {
     "name": "stderr",
     "output_type": "stream",
     "text": [
      "[I 2023-12-05 23:20:00,678] Trial 158 finished with value: 0.023277223459327815 and parameters: {'confidence': 0.5419973108155034, 'percentile': 99.97486811076882, 'max_interaction_increase': 1.3687848554538775}. Best is trial 62 with value: 0.023445787021176754.\n"
     ]
    },
    {
     "name": "stdout",
     "output_type": "stream",
     "text": [
      "UserKNNCFRecommender: URM Detected 462 ( 3.7%) users with no interactions.\n",
      "UserKNNCFRecommender: URM Detected 344 ( 1.5%) items with no interactions.\n",
      "Similarity column 12638 (100.0%), 4979.49 column/sec. Elapsed time 2.54 sec\n",
      "EvaluatorHoldout: Processed 10008 (100.0%) in 12.34 sec. Users per second: 811\n"
     ]
    },
    {
     "name": "stderr",
     "output_type": "stream",
     "text": [
      "[I 2023-12-05 23:20:27,087] Trial 159 finished with value: 0.023391346446652205 and parameters: {'confidence': 0.5861253071351775, 'percentile': 99.97846461863142, 'max_interaction_increase': 1.357068771808331}. Best is trial 62 with value: 0.023445787021176754.\n"
     ]
    },
    {
     "name": "stdout",
     "output_type": "stream",
     "text": [
      "UserKNNCFRecommender: URM Detected 462 ( 3.7%) users with no interactions.\n",
      "UserKNNCFRecommender: URM Detected 344 ( 1.5%) items with no interactions.\n",
      "Similarity column 12638 (100.0%), 4946.39 column/sec. Elapsed time 2.56 sec\n",
      "EvaluatorHoldout: Processed 10008 (100.0%) in 12.26 sec. Users per second: 817\n"
     ]
    },
    {
     "name": "stderr",
     "output_type": "stream",
     "text": [
      "[I 2023-12-05 23:20:53,399] Trial 160 finished with value: 0.023384510645451922 and parameters: {'confidence': 0.5810273680297776, 'percentile': 99.97834898581544, 'max_interaction_increase': 1.3933372676480749}. Best is trial 62 with value: 0.023445787021176754.\n"
     ]
    },
    {
     "name": "stdout",
     "output_type": "stream",
     "text": [
      "UserKNNCFRecommender: URM Detected 462 ( 3.7%) users with no interactions.\n",
      "UserKNNCFRecommender: URM Detected 344 ( 1.5%) items with no interactions.\n",
      "Similarity column 12638 (100.0%), 4882.62 column/sec. Elapsed time 2.59 sec\n",
      "EvaluatorHoldout: Processed 10008 (100.0%) in 12.23 sec. Users per second: 818\n"
     ]
    },
    {
     "name": "stderr",
     "output_type": "stream",
     "text": [
      "[I 2023-12-05 23:21:19,642] Trial 161 finished with value: 0.023374744648725493 and parameters: {'confidence': 0.5754616228483306, 'percentile': 99.97761832299352, 'max_interaction_increase': 1.402851302164398}. Best is trial 62 with value: 0.023445787021176754.\n"
     ]
    },
    {
     "name": "stdout",
     "output_type": "stream",
     "text": [
      "UserKNNCFRecommender: URM Detected 462 ( 3.7%) users with no interactions.\n",
      "UserKNNCFRecommender: URM Detected 344 ( 1.5%) items with no interactions.\n",
      "Similarity column 12638 (100.0%), 4962.12 column/sec. Elapsed time 2.55 sec\n",
      "EvaluatorHoldout: Processed 10008 (100.0%) in 12.32 sec. Users per second: 812\n"
     ]
    },
    {
     "name": "stderr",
     "output_type": "stream",
     "text": [
      "[I 2023-12-05 23:21:45,995] Trial 162 finished with value: 0.023394574023321072 and parameters: {'confidence': 0.6055596734047615, 'percentile': 99.9797372374561, 'max_interaction_increase': 1.3455888208418272}. Best is trial 62 with value: 0.023445787021176754.\n"
     ]
    },
    {
     "name": "stdout",
     "output_type": "stream",
     "text": [
      "UserKNNCFRecommender: URM Detected 462 ( 3.7%) users with no interactions.\n",
      "UserKNNCFRecommender: URM Detected 344 ( 1.5%) items with no interactions.\n",
      "Similarity column 12638 (100.0%), 4981.01 column/sec. Elapsed time 2.54 sec\n",
      "EvaluatorHoldout: Processed 10008 (100.0%) in 12.34 sec. Users per second: 811\n"
     ]
    },
    {
     "name": "stderr",
     "output_type": "stream",
     "text": [
      "[I 2023-12-05 23:22:12,269] Trial 163 finished with value: 0.023400894363874027 and parameters: {'confidence': 0.6017029021373386, 'percentile': 99.98076480644887, 'max_interaction_increase': 1.3525286439472768}. Best is trial 62 with value: 0.023445787021176754.\n"
     ]
    },
    {
     "name": "stdout",
     "output_type": "stream",
     "text": [
      "UserKNNCFRecommender: URM Detected 462 ( 3.7%) users with no interactions.\n",
      "UserKNNCFRecommender: URM Detected 344 ( 1.5%) items with no interactions.\n",
      "Similarity column 12638 (100.0%), 4945.58 column/sec. Elapsed time 2.56 sec\n",
      "EvaluatorHoldout: Processed 10008 (100.0%) in 12.57 sec. Users per second: 796\n"
     ]
    },
    {
     "name": "stderr",
     "output_type": "stream",
     "text": [
      "[I 2023-12-05 23:22:38,936] Trial 164 finished with value: 0.023365303788715097 and parameters: {'confidence': 0.5996269587702494, 'percentile': 99.98061134494282, 'max_interaction_increase': 1.3624682423853958}. Best is trial 62 with value: 0.023445787021176754.\n"
     ]
    },
    {
     "name": "stdout",
     "output_type": "stream",
     "text": [
      "UserKNNCFRecommender: URM Detected 462 ( 3.7%) users with no interactions.\n",
      "UserKNNCFRecommender: URM Detected 344 ( 1.5%) items with no interactions.\n",
      "Similarity column 12638 (100.0%), 5032.01 column/sec. Elapsed time 2.51 sec\n",
      "EvaluatorHoldout: Processed 10008 (100.0%) in 12.41 sec. Users per second: 807\n"
     ]
    },
    {
     "name": "stderr",
     "output_type": "stream",
     "text": [
      "[I 2023-12-05 23:23:05,150] Trial 165 finished with value: 0.02343180614238772 and parameters: {'confidence': 0.6079220673650855, 'percentile': 99.98234282535931, 'max_interaction_increase': 1.3572309539623382}. Best is trial 62 with value: 0.023445787021176754.\n"
     ]
    },
    {
     "name": "stdout",
     "output_type": "stream",
     "text": [
      "UserKNNCFRecommender: URM Detected 462 ( 3.7%) users with no interactions.\n",
      "UserKNNCFRecommender: URM Detected 344 ( 1.5%) items with no interactions.\n",
      "Similarity column 12638 (100.0%), 5012.76 column/sec. Elapsed time 2.52 sec\n",
      "EvaluatorHoldout: Processed 10008 (100.0%) in 12.29 sec. Users per second: 815\n"
     ]
    },
    {
     "name": "stderr",
     "output_type": "stream",
     "text": [
      "[I 2023-12-05 23:23:31,449] Trial 166 finished with value: 0.02340691732328425 and parameters: {'confidence': 0.6105460054175605, 'percentile': 99.98231922580604, 'max_interaction_increase': 1.384771678521478}. Best is trial 62 with value: 0.023445787021176754.\n"
     ]
    },
    {
     "name": "stdout",
     "output_type": "stream",
     "text": [
      "UserKNNCFRecommender: URM Detected 462 ( 3.7%) users with no interactions.\n",
      "UserKNNCFRecommender: URM Detected 344 ( 1.5%) items with no interactions.\n",
      "Similarity column 12638 (100.0%), 4957.86 column/sec. Elapsed time 2.55 sec\n",
      "EvaluatorHoldout: Processed 10008 (100.0%) in 12.27 sec. Users per second: 815\n"
     ]
    },
    {
     "name": "stderr",
     "output_type": "stream",
     "text": [
      "[I 2023-12-05 23:23:57,705] Trial 167 finished with value: 0.023430148738152357 and parameters: {'confidence': 0.6116964621950961, 'percentile': 99.979710298655, 'max_interaction_increase': 1.3412030353205555}. Best is trial 62 with value: 0.023445787021176754.\n"
     ]
    },
    {
     "name": "stdout",
     "output_type": "stream",
     "text": [
      "UserKNNCFRecommender: URM Detected 462 ( 3.7%) users with no interactions.\n",
      "UserKNNCFRecommender: URM Detected 344 ( 1.5%) items with no interactions.\n",
      "Similarity column 12638 (100.0%), 5030.02 column/sec. Elapsed time 2.51 sec\n",
      "EvaluatorHoldout: Processed 10008 (100.0%) in 12.36 sec. Users per second: 810\n"
     ]
    },
    {
     "name": "stderr",
     "output_type": "stream",
     "text": [
      "[I 2023-12-05 23:24:24,288] Trial 168 finished with value: 0.023351291189270852 and parameters: {'confidence': 0.6179167352602529, 'percentile': 99.98274697148923, 'max_interaction_increase': 1.352339674920475}. Best is trial 62 with value: 0.023445787021176754.\n"
     ]
    },
    {
     "name": "stdout",
     "output_type": "stream",
     "text": [
      "UserKNNCFRecommender: URM Detected 462 ( 3.7%) users with no interactions.\n",
      "UserKNNCFRecommender: URM Detected 344 ( 1.5%) items with no interactions.\n",
      "Similarity column 12638 (100.0%), 4929.61 column/sec. Elapsed time 2.56 sec\n",
      "EvaluatorHoldout: Processed 10008 (100.0%) in 12.35 sec. Users per second: 810\n"
     ]
    },
    {
     "name": "stderr",
     "output_type": "stream",
     "text": [
      "[I 2023-12-05 23:24:50,778] Trial 169 finished with value: 0.023337825771129146 and parameters: {'confidence': 0.5609539172426466, 'percentile': 99.97693493671228, 'max_interaction_increase': 1.415062148290757}. Best is trial 62 with value: 0.023445787021176754.\n"
     ]
    },
    {
     "name": "stdout",
     "output_type": "stream",
     "text": [
      "UserKNNCFRecommender: URM Detected 462 ( 3.7%) users with no interactions.\n",
      "UserKNNCFRecommender: URM Detected 344 ( 1.5%) items with no interactions.\n",
      "Similarity column 12638 (100.0%), 4971.20 column/sec. Elapsed time 2.54 sec\n",
      "EvaluatorHoldout: Processed 10008 (100.0%) in 12.33 sec. Users per second: 812\n"
     ]
    },
    {
     "name": "stderr",
     "output_type": "stream",
     "text": [
      "[I 2023-12-05 23:25:16,961] Trial 170 finished with value: 0.023426473107228517 and parameters: {'confidence': 0.6123950510702905, 'percentile': 99.97953400889901, 'max_interaction_increase': 1.3474951459781457}. Best is trial 62 with value: 0.023445787021176754.\n"
     ]
    },
    {
     "name": "stdout",
     "output_type": "stream",
     "text": [
      "UserKNNCFRecommender: URM Detected 462 ( 3.7%) users with no interactions.\n",
      "UserKNNCFRecommender: URM Detected 344 ( 1.5%) items with no interactions.\n",
      "Similarity column 12638 (100.0%), 4998.36 column/sec. Elapsed time 2.53 sec\n",
      "EvaluatorHoldout: Processed 10008 (100.0%) in 12.55 sec. Users per second: 798\n"
     ]
    },
    {
     "name": "stderr",
     "output_type": "stream",
     "text": [
      "[I 2023-12-05 23:25:43,398] Trial 171 finished with value: 0.0234239790707117 and parameters: {'confidence': 0.6136182852418564, 'percentile': 99.97913940081908, 'max_interaction_increase': 1.3372472613252449}. Best is trial 62 with value: 0.023445787021176754.\n"
     ]
    },
    {
     "name": "stdout",
     "output_type": "stream",
     "text": [
      "UserKNNCFRecommender: URM Detected 462 ( 3.7%) users with no interactions.\n",
      "UserKNNCFRecommender: URM Detected 344 ( 1.5%) items with no interactions.\n",
      "Similarity column 12638 (100.0%), 4949.86 column/sec. Elapsed time 2.55 sec\n",
      "EvaluatorHoldout: Processed 10008 (100.0%) in 12.22 sec. Users per second: 819\n"
     ]
    },
    {
     "name": "stderr",
     "output_type": "stream",
     "text": [
      "[I 2023-12-05 23:26:09,777] Trial 172 finished with value: 0.023356513202136726 and parameters: {'confidence': 0.6342138471528296, 'percentile': 99.97919912858681, 'max_interaction_increase': 1.3432569769055696}. Best is trial 62 with value: 0.023445787021176754.\n"
     ]
    },
    {
     "name": "stdout",
     "output_type": "stream",
     "text": [
      "UserKNNCFRecommender: URM Detected 462 ( 3.7%) users with no interactions.\n",
      "UserKNNCFRecommender: URM Detected 344 ( 1.5%) items with no interactions.\n",
      "Similarity column 12638 (100.0%), 5082.44 column/sec. Elapsed time 2.49 sec\n",
      "EvaluatorHoldout: Processed 10008 (100.0%) in 12.24 sec. Users per second: 818\n"
     ]
    },
    {
     "name": "stderr",
     "output_type": "stream",
     "text": [
      "[I 2023-12-05 23:26:35,782] Trial 173 finished with value: 0.023299134501922326 and parameters: {'confidence': 0.5876381228254779, 'percentile': 99.98597522033437, 'max_interaction_increase': 1.344003480199243}. Best is trial 62 with value: 0.023445787021176754.\n"
     ]
    },
    {
     "name": "stdout",
     "output_type": "stream",
     "text": [
      "UserKNNCFRecommender: URM Detected 462 ( 3.7%) users with no interactions.\n",
      "UserKNNCFRecommender: URM Detected 344 ( 1.5%) items with no interactions.\n",
      "Similarity column 12638 (100.0%), 4830.30 column/sec. Elapsed time 2.62 sec\n",
      "EvaluatorHoldout: Processed 10008 (100.0%) in 12.32 sec. Users per second: 812\n"
     ]
    },
    {
     "name": "stderr",
     "output_type": "stream",
     "text": [
      "[I 2023-12-05 23:27:02,399] Trial 174 finished with value: 0.02324987232436277 and parameters: {'confidence': 0.6195111470652817, 'percentile': 99.97403116345721, 'max_interaction_increase': 1.37908994974624}. Best is trial 62 with value: 0.023445787021176754.\n"
     ]
    },
    {
     "name": "stdout",
     "output_type": "stream",
     "text": [
      "UserKNNCFRecommender: URM Detected 462 ( 3.7%) users with no interactions.\n",
      "UserKNNCFRecommender: URM Detected 344 ( 1.5%) items with no interactions.\n",
      "Similarity column 12638 (100.0%), 4868.43 column/sec. Elapsed time 2.60 sec\n",
      "EvaluatorHoldout: Processed 10008 (100.0%) in 12.39 sec. Users per second: 808\n"
     ]
    },
    {
     "name": "stderr",
     "output_type": "stream",
     "text": [
      "[I 2023-12-05 23:27:28,777] Trial 175 finished with value: 0.023338345196858394 and parameters: {'confidence': 0.5542574169723627, 'percentile': 99.97639328216255, 'max_interaction_increase': 1.312696248158245}. Best is trial 62 with value: 0.023445787021176754.\n"
     ]
    },
    {
     "name": "stdout",
     "output_type": "stream",
     "text": [
      "UserKNNCFRecommender: URM Detected 462 ( 3.7%) users with no interactions.\n",
      "UserKNNCFRecommender: URM Detected 344 ( 1.5%) items with no interactions.\n",
      "Similarity column 12638 (100.0%), 4959.00 column/sec. Elapsed time 2.55 sec\n",
      "EvaluatorHoldout: Processed 10008 (100.0%) in 12.66 sec. Users per second: 791\n"
     ]
    },
    {
     "name": "stderr",
     "output_type": "stream",
     "text": [
      "[I 2023-12-05 23:27:55,402] Trial 176 finished with value: 0.02341386018169594 and parameters: {'confidence': 0.6066181422700585, 'percentile': 99.97918625387935, 'max_interaction_increase': 1.3692876988352731}. Best is trial 62 with value: 0.023445787021176754.\n"
     ]
    },
    {
     "name": "stdout",
     "output_type": "stream",
     "text": [
      "UserKNNCFRecommender: URM Detected 462 ( 3.7%) users with no interactions.\n",
      "UserKNNCFRecommender: URM Detected 344 ( 1.5%) items with no interactions.\n",
      "Similarity column 12638 (100.0%), 4801.08 column/sec. Elapsed time 2.63 sec\n",
      "EvaluatorHoldout: Processed 10008 (100.0%) in 12.49 sec. Users per second: 801\n"
     ]
    },
    {
     "name": "stderr",
     "output_type": "stream",
     "text": [
      "[I 2023-12-05 23:28:22,078] Trial 177 finished with value: 0.02326196582416608 and parameters: {'confidence': 0.6109800217522754, 'percentile': 99.97176874669489, 'max_interaction_increase': 1.4292245240271455}. Best is trial 62 with value: 0.023445787021176754.\n"
     ]
    },
    {
     "name": "stdout",
     "output_type": "stream",
     "text": [
      "UserKNNCFRecommender: URM Detected 462 ( 3.7%) users with no interactions.\n",
      "UserKNNCFRecommender: URM Detected 344 ( 1.5%) items with no interactions.\n",
      "Similarity column 12638 (100.0%), 5045.26 column/sec. Elapsed time 2.50 sec\n",
      "EvaluatorHoldout: Processed 10008 (100.0%) in 12.22 sec. Users per second: 819\n"
     ]
    },
    {
     "name": "stderr",
     "output_type": "stream",
     "text": [
      "[I 2023-12-05 23:28:48,068] Trial 178 finished with value: 0.0233173421580197 and parameters: {'confidence': 0.6413971825030208, 'percentile': 99.98467406254656, 'max_interaction_increase': 1.3284466558393166}. Best is trial 62 with value: 0.023445787021176754.\n"
     ]
    },
    {
     "name": "stdout",
     "output_type": "stream",
     "text": [
      "UserKNNCFRecommender: URM Detected 462 ( 3.7%) users with no interactions.\n",
      "UserKNNCFRecommender: URM Detected 344 ( 1.5%) items with no interactions.\n",
      "Similarity column 12638 (100.0%), 4986.43 column/sec. Elapsed time 2.53 sec\n",
      "EvaluatorHoldout: Processed 10008 (100.0%) in 12.19 sec. Users per second: 821\n"
     ]
    },
    {
     "name": "stderr",
     "output_type": "stream",
     "text": [
      "[I 2023-12-05 23:29:14,184] Trial 179 finished with value: 0.023395077588722682 and parameters: {'confidence': 0.5942150589058364, 'percentile': 99.98039651225365, 'max_interaction_increase': 1.369139417011409}. Best is trial 62 with value: 0.023445787021176754.\n"
     ]
    },
    {
     "name": "stdout",
     "output_type": "stream",
     "text": [
      "UserKNNCFRecommender: URM Detected 462 ( 3.7%) users with no interactions.\n",
      "UserKNNCFRecommender: URM Detected 344 ( 1.5%) items with no interactions.\n",
      "Similarity column 12638 (100.0%), 4992.17 column/sec. Elapsed time 2.53 sec\n",
      "EvaluatorHoldout: Processed 10008 (100.0%) in 12.26 sec. Users per second: 816\n"
     ]
    },
    {
     "name": "stderr",
     "output_type": "stream",
     "text": [
      "[I 2023-12-05 23:29:40,537] Trial 180 finished with value: 0.023351251538451814 and parameters: {'confidence': 0.6306916617939651, 'percentile': 99.98080271490011, 'max_interaction_increase': 1.3724935441261423}. Best is trial 62 with value: 0.023445787021176754.\n"
     ]
    },
    {
     "name": "stdout",
     "output_type": "stream",
     "text": [
      "UserKNNCFRecommender: URM Detected 462 ( 3.7%) users with no interactions.\n",
      "UserKNNCFRecommender: URM Detected 344 ( 1.5%) items with no interactions.\n",
      "Similarity column 12638 (100.0%), 4600.43 column/sec. Elapsed time 2.75 sec\n",
      "EvaluatorHoldout: Processed 10008 (100.0%) in 12.35 sec. Users per second: 811\n"
     ]
    },
    {
     "name": "stderr",
     "output_type": "stream",
     "text": [
      "[I 2023-12-05 23:30:07,278] Trial 181 finished with value: 0.02341026385241016 and parameters: {'confidence': 0.6015215809157207, 'percentile': 99.97943150596, 'max_interaction_increase': 1.3973881464390114}. Best is trial 62 with value: 0.023445787021176754.\n"
     ]
    },
    {
     "name": "stdout",
     "output_type": "stream",
     "text": [
      "UserKNNCFRecommender: URM Detected 462 ( 3.7%) users with no interactions.\n",
      "UserKNNCFRecommender: URM Detected 344 ( 1.5%) items with no interactions.\n",
      "Similarity column 12638 (100.0%), 4985.63 column/sec. Elapsed time 2.53 sec\n",
      "EvaluatorHoldout: Processed 10008 (100.0%) in 12.36 sec. Users per second: 809\n"
     ]
    },
    {
     "name": "stderr",
     "output_type": "stream",
     "text": [
      "[I 2023-12-05 23:30:33,529] Trial 182 finished with value: 0.02340922500095165 and parameters: {'confidence': 0.6107975797906601, 'percentile': 99.97981727542243, 'max_interaction_increase': 1.3957602328496561}. Best is trial 62 with value: 0.023445787021176754.\n"
     ]
    },
    {
     "name": "stdout",
     "output_type": "stream",
     "text": [
      "UserKNNCFRecommender: URM Detected 462 ( 3.7%) users with no interactions.\n",
      "UserKNNCFRecommender: URM Detected 344 ( 1.5%) items with no interactions.\n",
      "Similarity column 12638 (100.0%), 4839.95 column/sec. Elapsed time 2.61 sec\n",
      "EvaluatorHoldout: Processed 10008 (100.0%) in 12.48 sec. Users per second: 802\n"
     ]
    },
    {
     "name": "stderr",
     "output_type": "stream",
     "text": [
      "[I 2023-12-05 23:31:00,066] Trial 183 finished with value: 0.023312084459416637 and parameters: {'confidence': 0.6075185595652383, 'percentile': 99.97415796752219, 'max_interaction_increase': 1.388613096916819}. Best is trial 62 with value: 0.023445787021176754.\n"
     ]
    },
    {
     "name": "stdout",
     "output_type": "stream",
     "text": [
      "UserKNNCFRecommender: URM Detected 462 ( 3.7%) users with no interactions.\n",
      "UserKNNCFRecommender: URM Detected 344 ( 1.5%) items with no interactions.\n",
      "Similarity column 12638 (100.0%), 4987.71 column/sec. Elapsed time 2.53 sec\n",
      "EvaluatorHoldout: Processed 10008 (100.0%) in 12.24 sec. Users per second: 818\n"
     ]
    },
    {
     "name": "stderr",
     "output_type": "stream",
     "text": [
      "[I 2023-12-05 23:31:26,167] Trial 184 finished with value: 0.02336982794716612 and parameters: {'confidence': 0.6215002319876108, 'percentile': 99.97994330604018, 'max_interaction_increase': 1.4020910626139558}. Best is trial 62 with value: 0.023445787021176754.\n"
     ]
    },
    {
     "name": "stdout",
     "output_type": "stream",
     "text": [
      "UserKNNCFRecommender: URM Detected 462 ( 3.7%) users with no interactions.\n",
      "UserKNNCFRecommender: URM Detected 344 ( 1.5%) items with no interactions.\n",
      "Similarity column 12638 (100.0%), 5028.76 column/sec. Elapsed time 2.51 sec\n",
      "EvaluatorHoldout: Processed 10008 (100.0%) in 12.33 sec. Users per second: 811\n"
     ]
    },
    {
     "name": "stderr",
     "output_type": "stream",
     "text": [
      "[I 2023-12-05 23:31:52,600] Trial 185 finished with value: 0.023365200696585642 and parameters: {'confidence': 0.598482796218168, 'percentile': 99.98242596252075, 'max_interaction_increase': 1.418292355554166}. Best is trial 62 with value: 0.023445787021176754.\n"
     ]
    },
    {
     "name": "stdout",
     "output_type": "stream",
     "text": [
      "UserKNNCFRecommender: URM Detected 462 ( 3.7%) users with no interactions.\n",
      "UserKNNCFRecommender: URM Detected 344 ( 1.5%) items with no interactions.\n",
      "Similarity column 12638 (100.0%), 4879.88 column/sec. Elapsed time 2.59 sec\n",
      "EvaluatorHoldout: Processed 10008 (100.0%) in 12.32 sec. Users per second: 812\n"
     ]
    },
    {
     "name": "stderr",
     "output_type": "stream",
     "text": [
      "[I 2023-12-05 23:32:18,965] Trial 186 finished with value: 0.023321243798611932 and parameters: {'confidence': 0.5615524403195272, 'percentile': 99.97681225706923, 'max_interaction_increase': 1.4443852879365962}. Best is trial 62 with value: 0.023445787021176754.\n"
     ]
    },
    {
     "name": "stdout",
     "output_type": "stream",
     "text": [
      "UserKNNCFRecommender: URM Detected 462 ( 3.7%) users with no interactions.\n",
      "UserKNNCFRecommender: URM Detected 344 ( 1.5%) items with no interactions.\n",
      "Similarity column 12638 (100.0%), 4900.35 column/sec. Elapsed time 2.58 sec\n",
      "EvaluatorHoldout: Processed 10008 (100.0%) in 12.31 sec. Users per second: 813\n"
     ]
    },
    {
     "name": "stderr",
     "output_type": "stream",
     "text": [
      "[I 2023-12-05 23:32:45,212] Trial 187 finished with value: 0.023393638263991982 and parameters: {'confidence': 0.6404835150527776, 'percentile': 99.98027388313503, 'max_interaction_increase': 1.3143770320599093}. Best is trial 62 with value: 0.023445787021176754.\n"
     ]
    },
    {
     "name": "stdout",
     "output_type": "stream",
     "text": [
      "UserKNNCFRecommender: URM Detected 462 ( 3.7%) users with no interactions.\n",
      "UserKNNCFRecommender: URM Detected 344 ( 1.5%) items with no interactions.\n",
      "Similarity column 12638 (100.0%), 4891.39 column/sec. Elapsed time 2.58 sec\n",
      "EvaluatorHoldout: Processed 10008 (100.0%) in 12.44 sec. Users per second: 805\n"
     ]
    },
    {
     "name": "stderr",
     "output_type": "stream",
     "text": [
      "[I 2023-12-05 23:33:11,758] Trial 188 finished with value: 0.023261930138428966 and parameters: {'confidence': 0.5951837413956622, 'percentile': 99.97493342858752, 'max_interaction_increase': 1.3442279925567078}. Best is trial 62 with value: 0.023445787021176754.\n"
     ]
    },
    {
     "name": "stdout",
     "output_type": "stream",
     "text": [
      "UserKNNCFRecommender: URM Detected 462 ( 3.7%) users with no interactions.\n",
      "UserKNNCFRecommender: URM Detected 344 ( 1.5%) items with no interactions.\n",
      "Similarity column 12638 (100.0%), 4753.45 column/sec. Elapsed time 2.66 sec\n",
      "EvaluatorHoldout: Processed 10008 (100.0%) in 12.41 sec. Users per second: 807\n"
     ]
    },
    {
     "name": "stderr",
     "output_type": "stream",
     "text": [
      "[I 2023-12-05 23:33:38,585] Trial 189 finished with value: 0.023111546477104044 and parameters: {'confidence': 0.62087204067218, 'percentile': 99.9697263799277, 'max_interaction_increase': 1.3713836463783973}. Best is trial 62 with value: 0.023445787021176754.\n"
     ]
    },
    {
     "name": "stdout",
     "output_type": "stream",
     "text": [
      "UserKNNCFRecommender: URM Detected 462 ( 3.7%) users with no interactions.\n",
      "UserKNNCFRecommender: URM Detected 344 ( 1.5%) items with no interactions.\n",
      "Similarity column 12638 (100.0%), 5064.28 column/sec. Elapsed time 2.50 sec\n",
      "EvaluatorHoldout: Processed 10008 (100.0%) in 12.28 sec. Users per second: 815\n"
     ]
    },
    {
     "name": "stderr",
     "output_type": "stream",
     "text": [
      "[I 2023-12-05 23:34:04,731] Trial 190 finished with value: 0.02330972920076644 and parameters: {'confidence': 0.6494343142854239, 'percentile': 99.98337132958126, 'max_interaction_increase': 1.3315990746006363}. Best is trial 62 with value: 0.023445787021176754.\n"
     ]
    },
    {
     "name": "stdout",
     "output_type": "stream",
     "text": [
      "UserKNNCFRecommender: URM Detected 462 ( 3.7%) users with no interactions.\n",
      "UserKNNCFRecommender: URM Detected 344 ( 1.5%) items with no interactions.\n",
      "Similarity column 12638 (100.0%), 4974.61 column/sec. Elapsed time 2.54 sec\n",
      "EvaluatorHoldout: Processed 10008 (100.0%) in 12.21 sec. Users per second: 820\n"
     ]
    },
    {
     "name": "stderr",
     "output_type": "stream",
     "text": [
      "[I 2023-12-05 23:34:30,867] Trial 191 finished with value: 0.023383828651364617 and parameters: {'confidence': 0.635803599790628, 'percentile': 99.98019064163557, 'max_interaction_increase': 1.2980100107079557}. Best is trial 62 with value: 0.023445787021176754.\n"
     ]
    },
    {
     "name": "stdout",
     "output_type": "stream",
     "text": [
      "UserKNNCFRecommender: URM Detected 462 ( 3.7%) users with no interactions.\n",
      "UserKNNCFRecommender: URM Detected 344 ( 1.5%) items with no interactions.\n",
      "Similarity column 12638 (100.0%), 5016.48 column/sec. Elapsed time 2.52 sec\n",
      "EvaluatorHoldout: Processed 10008 (100.0%) in 12.24 sec. Users per second: 818\n"
     ]
    },
    {
     "name": "stderr",
     "output_type": "stream",
     "text": [
      "[I 2023-12-05 23:34:57,054] Trial 192 finished with value: 0.02333432063872713 and parameters: {'confidence': 0.610158080545941, 'percentile': 99.98120297993145, 'max_interaction_increase': 1.3169034577137604}. Best is trial 62 with value: 0.023445787021176754.\n"
     ]
    },
    {
     "name": "stdout",
     "output_type": "stream",
     "text": [
      "UserKNNCFRecommender: URM Detected 462 ( 3.7%) users with no interactions.\n",
      "UserKNNCFRecommender: URM Detected 344 ( 1.5%) items with no interactions.\n",
      "Similarity column 12638 (100.0%), 4870.73 column/sec. Elapsed time 2.59 sec\n",
      "EvaluatorHoldout: Processed 10008 (100.0%) in 12.25 sec. Users per second: 817\n"
     ]
    },
    {
     "name": "stderr",
     "output_type": "stream",
     "text": [
      "[I 2023-12-05 23:35:23,274] Trial 193 finished with value: 0.02344976399832517 and parameters: {'confidence': 0.5828851314636355, 'percentile': 99.97935477705661, 'max_interaction_increase': 1.3494314987790417}. Best is trial 193 with value: 0.02344976399832517.\n"
     ]
    },
    {
     "name": "stdout",
     "output_type": "stream",
     "text": [
      "UserKNNCFRecommender: URM Detected 462 ( 3.7%) users with no interactions.\n",
      "UserKNNCFRecommender: URM Detected 344 ( 1.5%) items with no interactions.\n",
      "Similarity column 12638 (100.0%), 4867.88 column/sec. Elapsed time 2.60 sec\n",
      "EvaluatorHoldout: Processed 10008 (100.0%) in 12.37 sec. Users per second: 809\n"
     ]
    },
    {
     "name": "stderr",
     "output_type": "stream",
     "text": [
      "[I 2023-12-05 23:35:49,825] Trial 194 finished with value: 0.023241279991879533 and parameters: {'confidence': 0.5820285086629292, 'percentile': 99.97613778455737, 'max_interaction_increase': 1.3471687327145738}. Best is trial 193 with value: 0.02344976399832517.\n"
     ]
    },
    {
     "name": "stdout",
     "output_type": "stream",
     "text": [
      "UserKNNCFRecommender: URM Detected 462 ( 3.7%) users with no interactions.\n",
      "UserKNNCFRecommender: URM Detected 344 ( 1.5%) items with no interactions.\n",
      "Similarity column 12638 (100.0%), 5134.96 column/sec. Elapsed time 2.46 sec\n",
      "EvaluatorHoldout: Processed 10008 (100.0%) in 12.52 sec. Users per second: 800\n"
     ]
    },
    {
     "name": "stderr",
     "output_type": "stream",
     "text": [
      "[I 2023-12-05 23:36:16,078] Trial 195 finished with value: 0.023313860816109047 and parameters: {'confidence': 0.557424826011682, 'percentile': 99.98511380096664, 'max_interaction_increase': 1.392366507565864}. Best is trial 193 with value: 0.02344976399832517.\n"
     ]
    },
    {
     "name": "stdout",
     "output_type": "stream",
     "text": [
      "UserKNNCFRecommender: URM Detected 462 ( 3.7%) users with no interactions.\n",
      "UserKNNCFRecommender: URM Detected 344 ( 1.5%) items with no interactions.\n",
      "Similarity column 12638 (100.0%), 4927.99 column/sec. Elapsed time 2.56 sec\n",
      "EvaluatorHoldout: Processed 10008 (100.0%) in 12.21 sec. Users per second: 820\n"
     ]
    },
    {
     "name": "stderr",
     "output_type": "stream",
     "text": [
      "[I 2023-12-05 23:36:42,282] Trial 196 finished with value: 0.023300252655018883 and parameters: {'confidence': 0.538168906093738, 'percentile': 99.9786201835824, 'max_interaction_increase': 1.358364858055286}. Best is trial 193 with value: 0.02344976399832517.\n"
     ]
    },
    {
     "name": "stdout",
     "output_type": "stream",
     "text": [
      "UserKNNCFRecommender: URM Detected 462 ( 3.7%) users with no interactions.\n",
      "UserKNNCFRecommender: URM Detected 344 ( 1.5%) items with no interactions.\n",
      "Similarity column 12638 (100.0%), 4696.55 column/sec. Elapsed time 2.69 sec\n",
      "EvaluatorHoldout: Processed 10008 (100.0%) in 12.33 sec. Users per second: 811\n"
     ]
    },
    {
     "name": "stderr",
     "output_type": "stream",
     "text": [
      "[I 2023-12-05 23:37:08,847] Trial 197 finished with value: 0.023098426021087883 and parameters: {'confidence': 0.590953423137518, 'percentile': 99.96540585319329, 'max_interaction_increase': 1.4148069544913515}. Best is trial 193 with value: 0.02344976399832517.\n"
     ]
    },
    {
     "name": "stdout",
     "output_type": "stream",
     "text": [
      "UserKNNCFRecommender: URM Detected 462 ( 3.7%) users with no interactions.\n",
      "UserKNNCFRecommender: URM Detected 344 ( 1.5%) items with no interactions.\n",
      "Similarity column 12638 (100.0%), 5056.77 column/sec. Elapsed time 2.50 sec\n",
      "EvaluatorHoldout: Processed 10008 (100.0%) in 12.55 sec. Users per second: 797\n"
     ]
    },
    {
     "name": "stderr",
     "output_type": "stream",
     "text": [
      "[I 2023-12-05 23:37:35,212] Trial 198 finished with value: 0.02333673537360592 and parameters: {'confidence': 0.5731055389301029, 'percentile': 99.98253402232629, 'max_interaction_increase': 1.3659495031618059}. Best is trial 193 with value: 0.02344976399832517.\n"
     ]
    },
    {
     "name": "stdout",
     "output_type": "stream",
     "text": [
      "UserKNNCFRecommender: URM Detected 462 ( 3.7%) users with no interactions.\n",
      "UserKNNCFRecommender: URM Detected 344 ( 1.5%) items with no interactions.\n",
      "Similarity column 12638 (100.0%), 4718.82 column/sec. Elapsed time 2.68 sec\n",
      "EvaluatorHoldout: Processed 10008 (100.0%) in 12.39 sec. Users per second: 808\n"
     ]
    },
    {
     "name": "stderr",
     "output_type": "stream",
     "text": [
      "[I 2023-12-05 23:38:01,960] Trial 199 finished with value: 0.023111181689569014 and parameters: {'confidence': 0.6072758918750052, 'percentile': 99.96350116599316, 'max_interaction_increase': 1.3317290076100246}. Best is trial 193 with value: 0.02344976399832517.\n"
     ]
    },
    {
     "name": "stdout",
     "output_type": "stream",
     "text": [
      "UserKNNCFRecommender: URM Detected 462 ( 3.7%) users with no interactions.\n",
      "UserKNNCFRecommender: URM Detected 344 ( 1.5%) items with no interactions.\n",
      "Similarity column 12638 (100.0%), 5134.67 column/sec. Elapsed time 2.46 sec\n",
      "EvaluatorHoldout: Processed 10008 (100.0%) in 12.19 sec. Users per second: 821\n"
     ]
    },
    {
     "name": "stderr",
     "output_type": "stream",
     "text": [
      "[I 2023-12-05 23:38:27,817] Trial 200 finished with value: 0.02338629493230819 and parameters: {'confidence': 0.626550267802124, 'percentile': 99.98665550556306, 'max_interaction_increase': 1.3998104681120047}. Best is trial 193 with value: 0.02344976399832517.\n"
     ]
    },
    {
     "name": "stdout",
     "output_type": "stream",
     "text": [
      "UserKNNCFRecommender: URM Detected 462 ( 3.7%) users with no interactions.\n",
      "UserKNNCFRecommender: URM Detected 344 ( 1.5%) items with no interactions.\n",
      "Similarity column 12638 (100.0%), 5011.54 column/sec. Elapsed time 2.52 sec\n",
      "EvaluatorHoldout: Processed 10008 (100.0%) in 12.63 sec. Users per second: 793\n"
     ]
    },
    {
     "name": "stderr",
     "output_type": "stream",
     "text": [
      "[I 2023-12-05 23:38:54,301] Trial 201 finished with value: 0.02338619184017866 and parameters: {'confidence': 0.6408380329401601, 'percentile': 99.98038768079869, 'max_interaction_increase': 1.3126593068114087}. Best is trial 193 with value: 0.02344976399832517.\n"
     ]
    },
    {
     "name": "stdout",
     "output_type": "stream",
     "text": [
      "UserKNNCFRecommender: URM Detected 462 ( 3.7%) users with no interactions.\n",
      "UserKNNCFRecommender: URM Detected 344 ( 1.5%) items with no interactions.\n",
      "Similarity column 12638 (100.0%), 4955.47 column/sec. Elapsed time 2.55 sec\n",
      "EvaluatorHoldout: Processed 10008 (100.0%) in 12.24 sec. Users per second: 817\n"
     ]
    },
    {
     "name": "stderr",
     "output_type": "stream",
     "text": [
      "[I 2023-12-05 23:39:20,430] Trial 202 finished with value: 0.02337207614860494 and parameters: {'confidence': 0.6015318125817579, 'percentile': 99.97869341913214, 'max_interaction_increase': 1.3476037642369643}. Best is trial 193 with value: 0.02344976399832517.\n"
     ]
    },
    {
     "name": "stdout",
     "output_type": "stream",
     "text": [
      "UserKNNCFRecommender: URM Detected 462 ( 3.7%) users with no interactions.\n",
      "UserKNNCFRecommender: URM Detected 344 ( 1.5%) items with no interactions.\n",
      "Similarity column 12638 (100.0%), 5051.64 column/sec. Elapsed time 2.50 sec\n",
      "EvaluatorHoldout: Processed 10008 (100.0%) in 12.26 sec. Users per second: 817\n"
     ]
    },
    {
     "name": "stderr",
     "output_type": "stream",
     "text": [
      "[I 2023-12-05 23:39:46,767] Trial 203 finished with value: 0.0233988523466941 and parameters: {'confidence': 0.6503022240994558, 'percentile': 99.9820747199449, 'max_interaction_increase': 1.3108284943426394}. Best is trial 193 with value: 0.02344976399832517.\n"
     ]
    },
    {
     "name": "stdout",
     "output_type": "stream",
     "text": [
      "UserKNNCFRecommender: URM Detected 462 ( 3.7%) users with no interactions.\n",
      "UserKNNCFRecommender: URM Detected 344 ( 1.5%) items with no interactions.\n",
      "Similarity column 12638 (100.0%), 5040.38 column/sec. Elapsed time 2.51 sec\n",
      "EvaluatorHoldout: Processed 10008 (100.0%) in 12.18 sec. Users per second: 821\n"
     ]
    },
    {
     "name": "stderr",
     "output_type": "stream",
     "text": [
      "[I 2023-12-05 23:40:12,780] Trial 204 finished with value: 0.02339098562419913 and parameters: {'confidence': 0.5912354765926079, 'percentile': 99.9836018892319, 'max_interaction_increase': 1.3795363978474418}. Best is trial 193 with value: 0.02344976399832517.\n"
     ]
    },
    {
     "name": "stdout",
     "output_type": "stream",
     "text": [
      "UserKNNCFRecommender: URM Detected 462 ( 3.7%) users with no interactions.\n",
      "UserKNNCFRecommender: URM Detected 344 ( 1.5%) items with no interactions.\n",
      "Similarity column 12638 (100.0%), 4605.52 column/sec. Elapsed time 2.74 sec\n",
      "EvaluatorHoldout: Processed 10008 (100.0%) in 12.39 sec. Users per second: 808\n"
     ]
    },
    {
     "name": "stderr",
     "output_type": "stream",
     "text": [
      "[I 2023-12-05 23:40:39,574] Trial 205 finished with value: 0.022952296892644625 and parameters: {'confidence': 0.6243665174971427, 'percentile': 99.95752449085101, 'max_interaction_increase': 1.2978012274487887}. Best is trial 193 with value: 0.02344976399832517.\n"
     ]
    },
    {
     "name": "stdout",
     "output_type": "stream",
     "text": [
      "UserKNNCFRecommender: URM Detected 462 ( 3.7%) users with no interactions.\n",
      "UserKNNCFRecommender: URM Detected 344 ( 1.5%) items with no interactions.\n",
      "Similarity column 12638 (100.0%), 5030.68 column/sec. Elapsed time 2.51 sec\n",
      "EvaluatorHoldout: Processed 10008 (100.0%) in 12.38 sec. Users per second: 808\n"
     ]
    },
    {
     "name": "stderr",
     "output_type": "stream",
     "text": [
      "[I 2023-12-05 23:41:05,788] Trial 206 finished with value: 0.023396524843617192 and parameters: {'confidence': 0.6504345697164933, 'percentile': 99.98192034508996, 'max_interaction_increase': 1.3277692543141104}. Best is trial 193 with value: 0.02344976399832517.\n"
     ]
    },
    {
     "name": "stdout",
     "output_type": "stream",
     "text": [
      "UserKNNCFRecommender: URM Detected 462 ( 3.7%) users with no interactions.\n",
      "UserKNNCFRecommender: URM Detected 344 ( 1.5%) items with no interactions.\n",
      "Similarity column 12638 (100.0%), 5064.37 column/sec. Elapsed time 2.50 sec\n",
      "EvaluatorHoldout: Processed 10008 (100.0%) in 12.24 sec. Users per second: 817\n"
     ]
    },
    {
     "name": "stderr",
     "output_type": "stream",
     "text": [
      "[I 2023-12-05 23:41:32,041] Trial 207 finished with value: 0.023394918985446562 and parameters: {'confidence': 0.6554295585285977, 'percentile': 99.9819142432358, 'max_interaction_increase': 1.325132913278995}. Best is trial 193 with value: 0.02344976399832517.\n"
     ]
    },
    {
     "name": "stdout",
     "output_type": "stream",
     "text": [
      "UserKNNCFRecommender: URM Detected 462 ( 3.7%) users with no interactions.\n",
      "UserKNNCFRecommender: URM Detected 344 ( 1.5%) items with no interactions.\n",
      "Similarity column 12638 (100.0%), 5041.45 column/sec. Elapsed time 2.51 sec\n",
      "EvaluatorHoldout: Processed 10008 (100.0%) in 12.19 sec. Users per second: 821\n"
     ]
    },
    {
     "name": "stderr",
     "output_type": "stream",
     "text": [
      "[I 2023-12-05 23:41:57,950] Trial 208 finished with value: 0.02340081506223598 and parameters: {'confidence': 0.6568729398402184, 'percentile': 99.98480054428448, 'max_interaction_increase': 1.4463658266748163}. Best is trial 193 with value: 0.02344976399832517.\n"
     ]
    },
    {
     "name": "stdout",
     "output_type": "stream",
     "text": [
      "UserKNNCFRecommender: URM Detected 462 ( 3.7%) users with no interactions.\n",
      "UserKNNCFRecommender: URM Detected 344 ( 1.5%) items with no interactions.\n",
      "Similarity column 12638 (100.0%), 5099.71 column/sec. Elapsed time 2.48 sec\n",
      "EvaluatorHoldout: Processed 10008 (100.0%) in 12.21 sec. Users per second: 820\n"
     ]
    },
    {
     "name": "stderr",
     "output_type": "stream",
     "text": [
      "[I 2023-12-05 23:42:23,891] Trial 209 finished with value: 0.023385371068224834 and parameters: {'confidence': 0.6633911122390824, 'percentile': 99.98488391824627, 'max_interaction_increase': 1.4720404280960468}. Best is trial 193 with value: 0.02344976399832517.\n"
     ]
    },
    {
     "name": "stdout",
     "output_type": "stream",
     "text": [
      "UserKNNCFRecommender: URM Detected 462 ( 3.7%) users with no interactions.\n",
      "UserKNNCFRecommender: URM Detected 344 ( 1.5%) items with no interactions.\n",
      "Similarity column 12638 (100.0%), 5090.63 column/sec. Elapsed time 2.48 sec\n",
      "EvaluatorHoldout: Processed 10008 (100.0%) in 12.13 sec. Users per second: 825\n"
     ]
    },
    {
     "name": "stderr",
     "output_type": "stream",
     "text": [
      "[I 2023-12-05 23:42:49,683] Trial 210 finished with value: 0.02332092262697785 and parameters: {'confidence': 0.6602988180112914, 'percentile': 99.987549159129, 'max_interaction_increase': 1.4582433404732573}. Best is trial 193 with value: 0.02344976399832517.\n"
     ]
    },
    {
     "name": "stdout",
     "output_type": "stream",
     "text": [
      "UserKNNCFRecommender: URM Detected 462 ( 3.7%) users with no interactions.\n",
      "UserKNNCFRecommender: URM Detected 344 ( 1.5%) items with no interactions.\n",
      "Similarity column 12638 (100.0%), 5083.52 column/sec. Elapsed time 2.49 sec\n",
      "EvaluatorHoldout: Processed 10008 (100.0%) in 12.11 sec. Users per second: 827\n"
     ]
    },
    {
     "name": "stderr",
     "output_type": "stream",
     "text": [
      "[I 2023-12-05 23:43:15,728] Trial 211 finished with value: 0.023369788296347102 and parameters: {'confidence': 0.6269125743968814, 'percentile': 99.98252454186347, 'max_interaction_increase': 1.4300167008414006}. Best is trial 193 with value: 0.02344976399832517.\n"
     ]
    },
    {
     "name": "stdout",
     "output_type": "stream",
     "text": [
      "UserKNNCFRecommender: URM Detected 462 ( 3.7%) users with no interactions.\n",
      "UserKNNCFRecommender: URM Detected 344 ( 1.5%) items with no interactions.\n",
      "Similarity column 12638 (100.0%), 4916.85 column/sec. Elapsed time 2.57 sec\n",
      "EvaluatorHoldout: Processed 10008 (100.0%) in 12.55 sec. Users per second: 797\n"
     ]
    },
    {
     "name": "stderr",
     "output_type": "stream",
     "text": [
      "[I 2023-12-05 23:43:42,200] Trial 212 finished with value: 0.023294907724613966 and parameters: {'confidence': 0.5705718004374007, 'percentile': 99.97620396037246, 'max_interaction_increase': 1.5021574562347348}. Best is trial 193 with value: 0.02344976399832517.\n"
     ]
    },
    {
     "name": "stdout",
     "output_type": "stream",
     "text": [
      "UserKNNCFRecommender: URM Detected 462 ( 3.7%) users with no interactions.\n",
      "UserKNNCFRecommender: URM Detected 344 ( 1.5%) items with no interactions.\n",
      "Similarity column 12638 (100.0%), 4950.28 column/sec. Elapsed time 2.55 sec\n",
      "EvaluatorHoldout: Processed 10008 (100.0%) in 12.21 sec. Users per second: 819\n"
     ]
    },
    {
     "name": "stderr",
     "output_type": "stream",
     "text": [
      "[I 2023-12-05 23:44:08,294] Trial 213 finished with value: 0.023331842462537906 and parameters: {'confidence': 0.6421049468656683, 'percentile': 99.97807559990335, 'max_interaction_increase': 1.369196831363518}. Best is trial 193 with value: 0.02344976399832517.\n"
     ]
    },
    {
     "name": "stdout",
     "output_type": "stream",
     "text": [
      "UserKNNCFRecommender: URM Detected 462 ( 3.7%) users with no interactions.\n",
      "UserKNNCFRecommender: URM Detected 344 ( 1.5%) items with no interactions.\n",
      "Similarity column 12638 (100.0%), 5083.13 column/sec. Elapsed time 2.49 sec\n",
      "EvaluatorHoldout: Processed 10008 (100.0%) in 12.12 sec. Users per second: 826\n"
     ]
    },
    {
     "name": "stderr",
     "output_type": "stream",
     "text": [
      "[I 2023-12-05 23:44:34,084] Trial 214 finished with value: 0.023351334805171788 and parameters: {'confidence': 0.61564652894914, 'percentile': 99.98443233163843, 'max_interaction_increase': 1.3047270629418553}. Best is trial 193 with value: 0.02344976399832517.\n"
     ]
    },
    {
     "name": "stdout",
     "output_type": "stream",
     "text": [
      "UserKNNCFRecommender: URM Detected 462 ( 3.7%) users with no interactions.\n",
      "UserKNNCFRecommender: URM Detected 344 ( 1.5%) items with no interactions.\n",
      "Similarity column 12638 (100.0%), 4989.65 column/sec. Elapsed time 2.53 sec\n",
      "EvaluatorHoldout: Processed 10008 (100.0%) in 12.48 sec. Users per second: 802\n"
     ]
    },
    {
     "name": "stderr",
     "output_type": "stream",
     "text": [
      "[I 2023-12-05 23:45:00,367] Trial 215 finished with value: 0.023332647374164184 and parameters: {'confidence': 0.5881330814931455, 'percentile': 99.98141476831705, 'max_interaction_increase': 1.404637022852664}. Best is trial 193 with value: 0.02344976399832517.\n"
     ]
    },
    {
     "name": "stdout",
     "output_type": "stream",
     "text": [
      "UserKNNCFRecommender: URM Detected 462 ( 3.7%) users with no interactions.\n",
      "UserKNNCFRecommender: URM Detected 344 ( 1.5%) items with no interactions.\n",
      "Similarity column 12638 (100.0%), 5065.95 column/sec. Elapsed time 2.49 sec\n",
      "EvaluatorHoldout: Processed 10008 (100.0%) in 12.23 sec. Users per second: 818\n"
     ]
    },
    {
     "name": "stderr",
     "output_type": "stream",
     "text": [
      "[I 2023-12-05 23:45:26,420] Trial 216 finished with value: 0.023357000907210778 and parameters: {'confidence': 0.5456705417681504, 'percentile': 99.98316124948592, 'max_interaction_increase': 1.3748959258589726}. Best is trial 193 with value: 0.02344976399832517.\n"
     ]
    },
    {
     "name": "stdout",
     "output_type": "stream",
     "text": [
      "UserKNNCFRecommender: URM Detected 462 ( 3.7%) users with no interactions.\n",
      "UserKNNCFRecommender: URM Detected 344 ( 1.5%) items with no interactions.\n",
      "Similarity column 12638 (100.0%), 5015.30 column/sec. Elapsed time 2.52 sec\n",
      "EvaluatorHoldout: Processed 10008 (100.0%) in 12.25 sec. Users per second: 817\n"
     ]
    },
    {
     "name": "stderr",
     "output_type": "stream",
     "text": [
      "[I 2023-12-05 23:45:52,457] Trial 217 finished with value: 0.02327285393907101 and parameters: {'confidence': 0.6163467841152845, 'percentile': 99.98614262943426, 'max_interaction_increase': 1.3374132530305096}. Best is trial 193 with value: 0.02344976399832517.\n"
     ]
    },
    {
     "name": "stdout",
     "output_type": "stream",
     "text": [
      "UserKNNCFRecommender: URM Detected 462 ( 3.7%) users with no interactions.\n",
      "UserKNNCFRecommender: URM Detected 344 ( 1.5%) items with no interactions.\n",
      "Similarity column 12638 (100.0%), 4927.48 column/sec. Elapsed time 2.56 sec\n",
      "EvaluatorHoldout: Processed 10008 (100.0%) in 12.26 sec. Users per second: 816\n"
     ]
    },
    {
     "name": "stderr",
     "output_type": "stream",
     "text": [
      "[I 2023-12-05 23:46:18,651] Trial 218 finished with value: 0.023231656738101646 and parameters: {'confidence': 0.010356759638511348, 'percentile': 99.97839484402841, 'max_interaction_increase': 1.2911849008988763}. Best is trial 193 with value: 0.02344976399832517.\n"
     ]
    },
    {
     "name": "stdout",
     "output_type": "stream",
     "text": [
      "UserKNNCFRecommender: URM Detected 462 ( 3.7%) users with no interactions.\n",
      "UserKNNCFRecommender: URM Detected 344 ( 1.5%) items with no interactions.\n",
      "Similarity column 12638 (100.0%), 4816.03 column/sec. Elapsed time 2.62 sec\n",
      "EvaluatorHoldout: Processed 10008 (100.0%) in 12.53 sec. Users per second: 799\n"
     ]
    },
    {
     "name": "stderr",
     "output_type": "stream",
     "text": [
      "[I 2023-12-05 23:46:45,337] Trial 219 finished with value: 0.023237009598670307 and parameters: {'confidence': 0.6527507717241975, 'percentile': 99.97238265927663, 'max_interaction_increase': 1.353455678034504}. Best is trial 193 with value: 0.02344976399832517.\n"
     ]
    },
    {
     "name": "stdout",
     "output_type": "stream",
     "text": [
      "UserKNNCFRecommender: URM Detected 462 ( 3.7%) users with no interactions.\n",
      "UserKNNCFRecommender: URM Detected 344 ( 1.5%) items with no interactions.\n",
      "Similarity column 12638 (100.0%), 4998.41 column/sec. Elapsed time 2.53 sec\n",
      "EvaluatorHoldout: Processed 10008 (100.0%) in 12.27 sec. Users per second: 816\n"
     ]
    },
    {
     "name": "stderr",
     "output_type": "stream",
     "text": [
      "[I 2023-12-05 23:47:11,767] Trial 220 finished with value: 0.02333617629705763 and parameters: {'confidence': 0.6782562068310383, 'percentile': 99.98094769710251, 'max_interaction_increase': 1.3970639890615613}. Best is trial 193 with value: 0.02344976399832517.\n"
     ]
    },
    {
     "name": "stdout",
     "output_type": "stream",
     "text": [
      "UserKNNCFRecommender: URM Detected 462 ( 3.7%) users with no interactions.\n",
      "UserKNNCFRecommender: URM Detected 344 ( 1.5%) items with no interactions.\n",
      "Similarity column 12638 (100.0%), 5046.29 column/sec. Elapsed time 2.50 sec\n",
      "EvaluatorHoldout: Processed 10008 (100.0%) in 12.28 sec. Users per second: 815\n"
     ]
    },
    {
     "name": "stderr",
     "output_type": "stream",
     "text": [
      "[I 2023-12-05 23:47:37,945] Trial 221 finished with value: 0.023420450147818288 and parameters: {'confidence': 0.6521892966273148, 'percentile': 99.98210825224352, 'max_interaction_increase': 1.3223258880326696}. Best is trial 193 with value: 0.02344976399832517.\n"
     ]
    },
    {
     "name": "stdout",
     "output_type": "stream",
     "text": [
      "UserKNNCFRecommender: URM Detected 462 ( 3.7%) users with no interactions.\n",
      "UserKNNCFRecommender: URM Detected 344 ( 1.5%) items with no interactions.\n",
      "Similarity column 12638 (100.0%), 4960.41 column/sec. Elapsed time 2.55 sec\n",
      "EvaluatorHoldout: Processed 10008 (100.0%) in 12.37 sec. Users per second: 809\n"
     ]
    },
    {
     "name": "stderr",
     "output_type": "stream",
     "text": [
      "[I 2023-12-05 23:48:04,714] Trial 222 finished with value: 0.023407246425082143 and parameters: {'confidence': 0.6336087900384345, 'percentile': 99.97962091751228, 'max_interaction_increase': 1.3267977824812478}. Best is trial 193 with value: 0.02344976399832517.\n"
     ]
    },
    {
     "name": "stdout",
     "output_type": "stream",
     "text": [
      "UserKNNCFRecommender: URM Detected 462 ( 3.7%) users with no interactions.\n",
      "UserKNNCFRecommender: URM Detected 344 ( 1.5%) items with no interactions.\n",
      "Similarity column 12638 (100.0%), 5053.74 column/sec. Elapsed time 2.50 sec\n",
      "EvaluatorHoldout: Processed 10008 (100.0%) in 12.21 sec. Users per second: 820\n"
     ]
    },
    {
     "name": "stderr",
     "output_type": "stream",
     "text": [
      "[I 2023-12-05 23:48:30,917] Trial 223 finished with value: 0.02331280610432292 and parameters: {'confidence': 0.6350081294984017, 'percentile': 99.98330949302954, 'max_interaction_increase': 1.3248419144836048}. Best is trial 193 with value: 0.02344976399832517.\n"
     ]
    },
    {
     "name": "stdout",
     "output_type": "stream",
     "text": [
      "UserKNNCFRecommender: URM Detected 462 ( 3.7%) users with no interactions.\n",
      "UserKNNCFRecommender: URM Detected 344 ( 1.5%) items with no interactions.\n",
      "Similarity column 12638 (100.0%), 4919.65 column/sec. Elapsed time 2.57 sec\n",
      "EvaluatorHoldout: Processed 10008 (100.0%) in 12.48 sec. Users per second: 802\n"
     ]
    },
    {
     "name": "stderr",
     "output_type": "stream",
     "text": [
      "[I 2023-12-05 23:48:57,662] Trial 224 finished with value: 0.023268373396520846 and parameters: {'confidence': 0.6497568478312504, 'percentile': 99.9768580964243, 'max_interaction_increase': 1.0239426463135244}. Best is trial 193 with value: 0.02344976399832517.\n"
     ]
    },
    {
     "name": "stdout",
     "output_type": "stream",
     "text": [
      "UserKNNCFRecommender: URM Detected 462 ( 3.7%) users with no interactions.\n",
      "UserKNNCFRecommender: URM Detected 344 ( 1.5%) items with no interactions.\n",
      "Similarity column 12638 (100.0%), 4962.78 column/sec. Elapsed time 2.55 sec\n",
      "EvaluatorHoldout: Processed 10008 (100.0%) in 12.41 sec. Users per second: 806\n"
     ]
    },
    {
     "name": "stderr",
     "output_type": "stream",
     "text": [
      "[I 2023-12-05 23:49:23,987] Trial 225 finished with value: 0.023409454975702 and parameters: {'confidence': 0.6119257309944449, 'percentile': 99.97937964843084, 'max_interaction_increase': 1.3772454212081051}. Best is trial 193 with value: 0.02344976399832517.\n"
     ]
    },
    {
     "name": "stdout",
     "output_type": "stream",
     "text": [
      "UserKNNCFRecommender: URM Detected 462 ( 3.7%) users with no interactions.\n",
      "UserKNNCFRecommender: URM Detected 344 ( 1.5%) items with no interactions.\n",
      "Similarity column 12638 (100.0%), 4916.79 column/sec. Elapsed time 2.57 sec\n",
      "EvaluatorHoldout: Processed 10008 (100.0%) in 12.27 sec. Users per second: 816\n"
     ]
    },
    {
     "name": "stderr",
     "output_type": "stream",
     "text": [
      "[I 2023-12-05 23:49:50,233] Trial 226 finished with value: 0.023276934008348845 and parameters: {'confidence': 0.6724257969843507, 'percentile': 99.97811219135501, 'max_interaction_increase': 1.0937443145935088}. Best is trial 193 with value: 0.02344976399832517.\n"
     ]
    },
    {
     "name": "stdout",
     "output_type": "stream",
     "text": [
      "UserKNNCFRecommender: URM Detected 462 ( 3.7%) users with no interactions.\n",
      "UserKNNCFRecommender: URM Detected 344 ( 1.5%) items with no interactions.\n",
      "Similarity column 12638 (100.0%), 5040.00 column/sec. Elapsed time 2.51 sec\n",
      "EvaluatorHoldout: Processed 10008 (100.0%) in 12.28 sec. Users per second: 815\n"
     ]
    },
    {
     "name": "stderr",
     "output_type": "stream",
     "text": [
      "[I 2023-12-05 23:50:16,301] Trial 227 finished with value: 0.023288357409310716 and parameters: {'confidence': 0.628337254413894, 'percentile': 99.98570359975024, 'max_interaction_increase': 1.34441266015267}. Best is trial 193 with value: 0.02344976399832517.\n"
     ]
    },
    {
     "name": "stdout",
     "output_type": "stream",
     "text": [
      "UserKNNCFRecommender: URM Detected 462 ( 3.7%) users with no interactions.\n",
      "UserKNNCFRecommender: URM Detected 344 ( 1.5%) items with no interactions.\n",
      "Similarity column 12638 (100.0%), 4965.53 column/sec. Elapsed time 2.55 sec\n",
      "EvaluatorHoldout: Processed 10008 (100.0%) in 12.26 sec. Users per second: 816\n"
     ]
    },
    {
     "name": "stderr",
     "output_type": "stream",
     "text": [
      "[I 2023-12-05 23:50:42,711] Trial 228 finished with value: 0.023404562064634045 and parameters: {'confidence': 0.6186818059738425, 'percentile': 99.98226676347481, 'max_interaction_increase': 1.3862319093413222}. Best is trial 193 with value: 0.02344976399832517.\n"
     ]
    },
    {
     "name": "stdout",
     "output_type": "stream",
     "text": [
      "UserKNNCFRecommender: URM Detected 462 ( 3.7%) users with no interactions.\n",
      "UserKNNCFRecommender: URM Detected 344 ( 1.5%) items with no interactions.\n",
      "Similarity column 12638 (100.0%), 4833.97 column/sec. Elapsed time 2.61 sec\n",
      "EvaluatorHoldout: Processed 10008 (100.0%) in 12.29 sec. Users per second: 814\n"
     ]
    },
    {
     "name": "stderr",
     "output_type": "stream",
     "text": [
      "[I 2023-12-05 23:51:09,248] Trial 229 finished with value: 0.023218155634222817 and parameters: {'confidence': 0.6147596904315399, 'percentile': 99.9751349375119, 'max_interaction_increase': 1.425550713736993}. Best is trial 193 with value: 0.02344976399832517.\n"
     ]
    },
    {
     "name": "stdout",
     "output_type": "stream",
     "text": [
      "UserKNNCFRecommender: URM Detected 462 ( 3.7%) users with no interactions.\n",
      "UserKNNCFRecommender: URM Detected 344 ( 1.5%) items with no interactions.\n",
      "Similarity column 12638 (100.0%), 4967.52 column/sec. Elapsed time 2.54 sec\n",
      "EvaluatorHoldout: Processed 10008 (100.0%) in 12.38 sec. Users per second: 808\n"
     ]
    },
    {
     "name": "stderr",
     "output_type": "stream",
     "text": [
      "[I 2023-12-05 23:51:35,630] Trial 230 finished with value: 0.023393824622841414 and parameters: {'confidence': 0.6103698831023512, 'percentile': 99.97930029282823, 'max_interaction_increase': 1.3804065349493135}. Best is trial 193 with value: 0.02344976399832517.\n"
     ]
    },
    {
     "name": "stdout",
     "output_type": "stream",
     "text": [
      "UserKNNCFRecommender: URM Detected 462 ( 3.7%) users with no interactions.\n",
      "UserKNNCFRecommender: URM Detected 344 ( 1.5%) items with no interactions.\n",
      "Similarity column 12638 (100.0%), 5032.01 column/sec. Elapsed time 2.51 sec\n",
      "EvaluatorHoldout: Processed 10008 (100.0%) in 12.32 sec. Users per second: 812\n"
     ]
    },
    {
     "name": "stderr",
     "output_type": "stream",
     "text": [
      "[I 2023-12-05 23:52:01,823] Trial 231 finished with value: 0.02345036272569249 and parameters: {'confidence': 0.6428560168581516, 'percentile': 99.98203613160476, 'max_interaction_increase': 1.3316546812492058}. Best is trial 231 with value: 0.02345036272569249.\n"
     ]
    },
    {
     "name": "stdout",
     "output_type": "stream",
     "text": [
      "UserKNNCFRecommender: URM Detected 462 ( 3.7%) users with no interactions.\n",
      "UserKNNCFRecommender: URM Detected 344 ( 1.5%) items with no interactions.\n",
      "Similarity column 12638 (100.0%), 5020.45 column/sec. Elapsed time 2.52 sec\n",
      "EvaluatorHoldout: Processed 10008 (100.0%) in 12.60 sec. Users per second: 794\n"
     ]
    },
    {
     "name": "stderr",
     "output_type": "stream",
     "text": [
      "[I 2023-12-05 23:52:28,248] Trial 232 finished with value: 0.0233417432720491 and parameters: {'confidence': 0.6320187203170152, 'percentile': 99.98389838781027, 'max_interaction_increase': 1.3906719933228069}. Best is trial 231 with value: 0.02345036272569249.\n"
     ]
    },
    {
     "name": "stdout",
     "output_type": "stream",
     "text": [
      "UserKNNCFRecommender: URM Detected 462 ( 3.7%) users with no interactions.\n",
      "UserKNNCFRecommender: URM Detected 344 ( 1.5%) items with no interactions.\n",
      "Similarity column 12638 (100.0%), 4979.26 column/sec. Elapsed time 2.54 sec\n",
      "EvaluatorHoldout: Processed 10008 (100.0%) in 12.28 sec. Users per second: 815\n"
     ]
    },
    {
     "name": "stderr",
     "output_type": "stream",
     "text": [
      "[I 2023-12-05 23:52:54,517] Trial 233 finished with value: 0.02327554622968299 and parameters: {'confidence': 0.22790769573018388, 'percentile': 99.9817881751417, 'max_interaction_increase': 1.3549621081643202}. Best is trial 231 with value: 0.02345036272569249.\n"
     ]
    },
    {
     "name": "stdout",
     "output_type": "stream",
     "text": [
      "UserKNNCFRecommender: URM Detected 462 ( 3.7%) users with no interactions.\n",
      "UserKNNCFRecommender: URM Detected 344 ( 1.5%) items with no interactions.\n",
      "Similarity column 12638 (100.0%), 5173.24 column/sec. Elapsed time 2.44 sec\n",
      "EvaluatorHoldout: Processed 10008 (100.0%) in 12.18 sec. Users per second: 821\n"
     ]
    },
    {
     "name": "stderr",
     "output_type": "stream",
     "text": [
      "[I 2023-12-05 23:53:20,467] Trial 234 finished with value: 0.02330645800819666 and parameters: {'confidence': 0.6033202521601633, 'percentile': 99.98852355095353, 'max_interaction_increase': 1.3677900246230177}. Best is trial 231 with value: 0.02345036272569249.\n"
     ]
    },
    {
     "name": "stdout",
     "output_type": "stream",
     "text": [
      "UserKNNCFRecommender: URM Detected 462 ( 3.7%) users with no interactions.\n",
      "UserKNNCFRecommender: URM Detected 344 ( 1.5%) items with no interactions.\n",
      "Similarity column 12638 (100.0%), 4937.66 column/sec. Elapsed time 2.56 sec\n",
      "EvaluatorHoldout: Processed 10008 (100.0%) in 12.29 sec. Users per second: 814\n"
     ]
    },
    {
     "name": "stderr",
     "output_type": "stream",
     "text": [
      "[I 2023-12-05 23:53:46,814] Trial 235 finished with value: 0.0233384522540698 and parameters: {'confidence': 0.6299432831791152, 'percentile': 99.97935702705752, 'max_interaction_increase': 1.4120133857796282}. Best is trial 231 with value: 0.02345036272569249.\n"
     ]
    },
    {
     "name": "stdout",
     "output_type": "stream",
     "text": [
      "UserKNNCFRecommender: URM Detected 462 ( 3.7%) users with no interactions.\n",
      "UserKNNCFRecommender: URM Detected 344 ( 1.5%) items with no interactions.\n",
      "Similarity column 12638 (100.0%), 4997.27 column/sec. Elapsed time 2.53 sec\n",
      "EvaluatorHoldout: Processed 10008 (100.0%) in 12.26 sec. Users per second: 816\n"
     ]
    },
    {
     "name": "stderr",
     "output_type": "stream",
     "text": [
      "[I 2023-12-05 23:54:12,931] Trial 236 finished with value: 0.023272544662682616 and parameters: {'confidence': 0.9139342118087943, 'percentile': 99.98415604023538, 'max_interaction_increase': 1.3348297174650174}. Best is trial 231 with value: 0.02345036272569249.\n"
     ]
    },
    {
     "name": "stdout",
     "output_type": "stream",
     "text": [
      "UserKNNCFRecommender: URM Detected 462 ( 3.7%) users with no interactions.\n",
      "UserKNNCFRecommender: URM Detected 344 ( 1.5%) items with no interactions.\n",
      "Similarity column 12638 (100.0%), 4875.53 column/sec. Elapsed time 2.59 sec\n",
      "EvaluatorHoldout: Processed 10008 (100.0%) in 12.31 sec. Users per second: 813\n"
     ]
    },
    {
     "name": "stderr",
     "output_type": "stream",
     "text": [
      "[I 2023-12-05 23:54:39,400] Trial 237 finished with value: 0.023281783303515956 and parameters: {'confidence': 0.5718009538385121, 'percentile': 99.97664862896326, 'max_interaction_increase': 1.3150297588209114}. Best is trial 231 with value: 0.02345036272569249.\n"
     ]
    },
    {
     "name": "stdout",
     "output_type": "stream",
     "text": [
      "UserKNNCFRecommender: URM Detected 462 ( 3.7%) users with no interactions.\n",
      "UserKNNCFRecommender: URM Detected 344 ( 1.5%) items with no interactions.\n",
      "Similarity column 12638 (100.0%), 5068.29 column/sec. Elapsed time 2.49 sec\n",
      "EvaluatorHoldout: Processed 10008 (100.0%) in 12.20 sec. Users per second: 821\n"
     ]
    },
    {
     "name": "stderr",
     "output_type": "stream",
     "text": [
      "[I 2023-12-05 23:55:05,408] Trial 238 finished with value: 0.023431001230761445 and parameters: {'confidence': 0.6653494019185064, 'percentile': 99.98207766260816, 'max_interaction_increase': 1.2808700693350097}. Best is trial 231 with value: 0.02345036272569249.\n"
     ]
    },
    {
     "name": "stdout",
     "output_type": "stream",
     "text": [
      "UserKNNCFRecommender: URM Detected 462 ( 3.7%) users with no interactions.\n",
      "UserKNNCFRecommender: URM Detected 344 ( 1.5%) items with no interactions.\n",
      "Similarity column 12638 (100.0%), 5087.62 column/sec. Elapsed time 2.48 sec\n",
      "EvaluatorHoldout: Processed 10008 (100.0%) in 12.14 sec. Users per second: 825\n"
     ]
    },
    {
     "name": "stderr",
     "output_type": "stream",
     "text": [
      "[I 2023-12-05 23:55:31,333] Trial 239 finished with value: 0.023354304651516968 and parameters: {'confidence': 0.6883274471705062, 'percentile': 99.9859046629938, 'max_interaction_increase': 1.386467143015384}. Best is trial 231 with value: 0.02345036272569249.\n"
     ]
    },
    {
     "name": "stdout",
     "output_type": "stream",
     "text": [
      "UserKNNCFRecommender: URM Detected 462 ( 3.7%) users with no interactions.\n",
      "UserKNNCFRecommender: URM Detected 344 ( 1.5%) items with no interactions.\n",
      "Similarity column 12638 (100.0%), 4998.85 column/sec. Elapsed time 2.53 sec\n",
      "EvaluatorHoldout: Processed 10008 (100.0%) in 12.23 sec. Users per second: 818\n"
     ]
    },
    {
     "name": "stderr",
     "output_type": "stream",
     "text": [
      "[I 2023-12-05 23:55:57,558] Trial 240 finished with value: 0.02336355518759599 and parameters: {'confidence': 0.5971535162481626, 'percentile': 99.9794425697333, 'max_interaction_increase': 1.2859658648826926}. Best is trial 231 with value: 0.02345036272569249.\n"
     ]
    },
    {
     "name": "stdout",
     "output_type": "stream",
     "text": [
      "UserKNNCFRecommender: URM Detected 462 ( 3.7%) users with no interactions.\n",
      "UserKNNCFRecommender: URM Detected 344 ( 1.5%) items with no interactions.\n",
      "Similarity column 12638 (100.0%), 5037.62 column/sec. Elapsed time 2.51 sec\n",
      "EvaluatorHoldout: Processed 10008 (100.0%) in 12.25 sec. Users per second: 817\n"
     ]
    },
    {
     "name": "stderr",
     "output_type": "stream",
     "text": [
      "[I 2023-12-05 23:56:24,056] Trial 241 finished with value: 0.023457131120500446 and parameters: {'confidence': 0.665061176771008, 'percentile': 99.98213051759839, 'max_interaction_increase': 1.1137703131971317}. Best is trial 241 with value: 0.023457131120500446.\n"
     ]
    },
    {
     "name": "stdout",
     "output_type": "stream",
     "text": [
      "UserKNNCFRecommender: URM Detected 462 ( 3.7%) users with no interactions.\n",
      "UserKNNCFRecommender: URM Detected 344 ( 1.5%) items with no interactions.\n",
      "Similarity column 12638 (100.0%), 4987.18 column/sec. Elapsed time 2.53 sec\n",
      "EvaluatorHoldout: Processed 10008 (100.0%) in 12.56 sec. Users per second: 797\n"
     ]
    },
    {
     "name": "stderr",
     "output_type": "stream",
     "text": [
      "[I 2023-12-05 23:56:50,532] Trial 242 finished with value: 0.023344847931178896 and parameters: {'confidence': 0.6689487912123144, 'percentile': 99.98114260813514, 'max_interaction_increase': 1.1064337567280274}. Best is trial 241 with value: 0.023457131120500446.\n"
     ]
    },
    {
     "name": "stdout",
     "output_type": "stream",
     "text": [
      "UserKNNCFRecommender: URM Detected 462 ( 3.7%) users with no interactions.\n",
      "UserKNNCFRecommender: URM Detected 344 ( 1.5%) items with no interactions.\n",
      "Similarity column 12638 (100.0%), 5079.01 column/sec. Elapsed time 2.49 sec\n",
      "EvaluatorHoldout: Processed 10008 (100.0%) in 12.19 sec. Users per second: 821\n"
     ]
    },
    {
     "name": "stderr",
     "output_type": "stream",
     "text": [
      "[I 2023-12-05 23:57:16,483] Trial 243 finished with value: 0.023373701832185102 and parameters: {'confidence': 0.6202166937891708, 'percentile': 99.98357819918277, 'max_interaction_increase': 1.1278354189583852}. Best is trial 241 with value: 0.023457131120500446.\n"
     ]
    },
    {
     "name": "stdout",
     "output_type": "stream",
     "text": [
      "UserKNNCFRecommender: URM Detected 462 ( 3.7%) users with no interactions.\n",
      "UserKNNCFRecommender: URM Detected 344 ( 1.5%) items with no interactions.\n",
      "Similarity column 12638 (100.0%), 4945.09 column/sec. Elapsed time 2.56 sec\n",
      "EvaluatorHoldout: Processed 10008 (100.0%) in 12.35 sec. Users per second: 810\n"
     ]
    },
    {
     "name": "stderr",
     "output_type": "stream",
     "text": [
      "[I 2023-12-05 23:57:42,746] Trial 244 finished with value: 0.023362841472853474 and parameters: {'confidence': 0.6420477635696872, 'percentile': 99.97801763376867, 'max_interaction_increase': 1.4453990866419322}. Best is trial 241 with value: 0.023457131120500446.\n"
     ]
    },
    {
     "name": "stdout",
     "output_type": "stream",
     "text": [
      "UserKNNCFRecommender: URM Detected 462 ( 3.7%) users with no interactions.\n",
      "UserKNNCFRecommender: URM Detected 344 ( 1.5%) items with no interactions.\n",
      "Similarity column 12638 (100.0%), 4992.53 column/sec. Elapsed time 2.53 sec\n",
      "EvaluatorHoldout: Processed 10008 (100.0%) in 12.26 sec. Users per second: 817\n"
     ]
    },
    {
     "name": "stderr",
     "output_type": "stream",
     "text": [
      "[I 2023-12-05 23:58:09,099] Trial 245 finished with value: 0.02335765911080663 and parameters: {'confidence': 0.6102023791546816, 'percentile': 99.98103719089421, 'max_interaction_increase': 1.3549786164172535}. Best is trial 241 with value: 0.023457131120500446.\n"
     ]
    },
    {
     "name": "stdout",
     "output_type": "stream",
     "text": [
      "UserKNNCFRecommender: URM Detected 462 ( 3.7%) users with no interactions.\n",
      "UserKNNCFRecommender: URM Detected 344 ( 1.5%) items with no interactions.\n",
      "Similarity column 12638 (100.0%), 5073.41 column/sec. Elapsed time 2.49 sec\n",
      "EvaluatorHoldout: Processed 10008 (100.0%) in 12.16 sec. Users per second: 823\n"
     ]
    },
    {
     "name": "stderr",
     "output_type": "stream",
     "text": [
      "[I 2023-12-05 23:58:35,084] Trial 246 finished with value: 0.0233918777676272 and parameters: {'confidence': 0.6657174041862907, 'percentile': 99.98261945164916, 'max_interaction_increase': 1.06220115012538}. Best is trial 241 with value: 0.023457131120500446.\n"
     ]
    },
    {
     "name": "stdout",
     "output_type": "stream",
     "text": [
      "UserKNNCFRecommender: URM Detected 462 ( 3.7%) users with no interactions.\n",
      "UserKNNCFRecommender: URM Detected 344 ( 1.5%) items with no interactions.\n",
      "Similarity column 12638 (100.0%), 5052.04 column/sec. Elapsed time 2.50 sec\n",
      "EvaluatorHoldout: Processed 10008 (100.0%) in 12.17 sec. Users per second: 822\n"
     ]
    },
    {
     "name": "stderr",
     "output_type": "stream",
     "text": [
      "[I 2023-12-05 23:59:01,150] Trial 247 finished with value: 0.02339084288125056 and parameters: {'confidence': 0.5896982557864312, 'percentile': 99.97952585479788, 'max_interaction_increase': 1.1355681452896766}. Best is trial 241 with value: 0.023457131120500446.\n"
     ]
    },
    {
     "name": "stdout",
     "output_type": "stream",
     "text": [
      "UserKNNCFRecommender: URM Detected 462 ( 3.7%) users with no interactions.\n",
      "UserKNNCFRecommender: URM Detected 344 ( 1.5%) items with no interactions.\n",
      "Similarity column 12638 (100.0%), 5151.58 column/sec. Elapsed time 2.45 sec\n",
      "EvaluatorHoldout: Processed 10008 (100.0%) in 12.15 sec. Users per second: 824\n"
     ]
    },
    {
     "name": "stderr",
     "output_type": "stream",
     "text": [
      "[I 2023-12-05 23:59:26,899] Trial 248 finished with value: 0.02329068887746949 and parameters: {'confidence': 0.6389831096597718, 'percentile': 99.9872383389882, 'max_interaction_increase': 1.0826372190718716}. Best is trial 241 with value: 0.023457131120500446.\n"
     ]
    },
    {
     "name": "stdout",
     "output_type": "stream",
     "text": [
      "UserKNNCFRecommender: URM Detected 462 ( 3.7%) users with no interactions.\n",
      "UserKNNCFRecommender: URM Detected 344 ( 1.5%) items with no interactions.\n",
      "Similarity column 12638 (100.0%), 5101.31 column/sec. Elapsed time 2.48 sec\n",
      "EvaluatorHoldout: Processed 10008 (100.0%) in 12.22 sec. Users per second: 819\n"
     ]
    },
    {
     "name": "stderr",
     "output_type": "stream",
     "text": [
      "[I 2023-12-05 23:59:52,805] Trial 249 finished with value: 0.023327599824902033 and parameters: {'confidence': 0.6847924105547599, 'percentile': 99.98488273770194, 'max_interaction_increase': 1.3330129425313328}. Best is trial 241 with value: 0.023457131120500446.\n"
     ]
    },
    {
     "name": "stdout",
     "output_type": "stream",
     "text": [
      "UserKNNCFRecommender: URM Detected 462 ( 3.7%) users with no interactions.\n",
      "UserKNNCFRecommender: URM Detected 344 ( 1.5%) items with no interactions.\n",
      "Similarity column 12638 (100.0%), 4904.13 column/sec. Elapsed time 2.58 sec\n",
      "EvaluatorHoldout: Processed 10008 (100.0%) in 12.36 sec. Users per second: 810\n"
     ]
    },
    {
     "name": "stderr",
     "output_type": "stream",
     "text": [
      "[I 2023-12-06 00:00:19,258] Trial 250 finished with value: 0.023306886237042152 and parameters: {'confidence': 0.43581723900354224, 'percentile': 99.97716054262104, 'max_interaction_increase': 1.2793858750633431}. Best is trial 241 with value: 0.023457131120500446.\n"
     ]
    },
    {
     "name": "stdout",
     "output_type": "stream",
     "text": [
      "UserKNNCFRecommender: URM Detected 462 ( 3.7%) users with no interactions.\n",
      "UserKNNCFRecommender: URM Detected 344 ( 1.5%) items with no interactions.\n",
      "Similarity column 12638 (100.0%), 5011.49 column/sec. Elapsed time 2.52 sec\n",
      "EvaluatorHoldout: Processed 10008 (100.0%) in 12.23 sec. Users per second: 818\n"
     ]
    },
    {
     "name": "stderr",
     "output_type": "stream",
     "text": [
      "[I 2023-12-06 00:00:45,399] Trial 251 finished with value: 0.023337992304569104 and parameters: {'confidence': 0.570254226474625, 'percentile': 99.98127642739655, 'max_interaction_increase': 1.360741217797251}. Best is trial 241 with value: 0.023457131120500446.\n"
     ]
    },
    {
     "name": "stdout",
     "output_type": "stream",
     "text": [
      "UserKNNCFRecommender: URM Detected 462 ( 3.7%) users with no interactions.\n",
      "UserKNNCFRecommender: URM Detected 344 ( 1.5%) items with no interactions.\n",
      "Similarity column 12638 (100.0%), 5028.53 column/sec. Elapsed time 2.51 sec\n",
      "EvaluatorHoldout: Processed 10008 (100.0%) in 12.30 sec. Users per second: 814\n"
     ]
    },
    {
     "name": "stderr",
     "output_type": "stream",
     "text": [
      "[I 2023-12-06 00:01:11,727] Trial 252 finished with value: 0.02330700518949926 and parameters: {'confidence': 0.6182147135017153, 'percentile': 99.98311570483867, 'max_interaction_increase': 1.4074190421036537}. Best is trial 241 with value: 0.023457131120500446.\n"
     ]
    },
    {
     "name": "stdout",
     "output_type": "stream",
     "text": [
      "UserKNNCFRecommender: URM Detected 462 ( 3.7%) users with no interactions.\n",
      "UserKNNCFRecommender: URM Detected 344 ( 1.5%) items with no interactions.\n",
      "Similarity column 12638 (100.0%), 4805.08 column/sec. Elapsed time 2.63 sec\n",
      "EvaluatorHoldout: Processed 10008 (100.0%) in 12.31 sec. Users per second: 813\n"
     ]
    },
    {
     "name": "stderr",
     "output_type": "stream",
     "text": [
      "[I 2023-12-06 00:01:38,446] Trial 253 finished with value: 0.02327431705429311 and parameters: {'confidence': 0.6026798886156453, 'percentile': 99.97421626075531, 'max_interaction_increase': 1.3791346655006784}. Best is trial 241 with value: 0.023457131120500446.\n"
     ]
    },
    {
     "name": "stdout",
     "output_type": "stream",
     "text": [
      "UserKNNCFRecommender: URM Detected 462 ( 3.7%) users with no interactions.\n",
      "UserKNNCFRecommender: URM Detected 344 ( 1.5%) items with no interactions.\n",
      "Similarity column 12638 (100.0%), 5318.05 column/sec. Elapsed time 2.38 sec\n",
      "EvaluatorHoldout: Processed 10008 (100.0%) in 12.25 sec. Users per second: 817\n"
     ]
    },
    {
     "name": "stderr",
     "output_type": "stream",
     "text": [
      "[I 2023-12-06 00:02:04,002] Trial 254 finished with value: 0.023334471311839477 and parameters: {'confidence': 0.6562766233182917, 'percentile': 99.99853519778476, 'max_interaction_increase': 1.3488675479897612}. Best is trial 241 with value: 0.023457131120500446.\n"
     ]
    },
    {
     "name": "stdout",
     "output_type": "stream",
     "text": [
      "UserKNNCFRecommender: URM Detected 462 ( 3.7%) users with no interactions.\n",
      "UserKNNCFRecommender: URM Detected 344 ( 1.5%) items with no interactions.\n",
      "Similarity column 12638 (100.0%), 4947.95 column/sec. Elapsed time 2.55 sec\n",
      "EvaluatorHoldout: Processed 10008 (100.0%) in 12.46 sec. Users per second: 803\n"
     ]
    },
    {
     "name": "stderr",
     "output_type": "stream",
     "text": [
      "[I 2023-12-06 00:02:30,381] Trial 255 finished with value: 0.023392135497950835 and parameters: {'confidence': 0.6285928204971545, 'percentile': 99.97953505595622, 'max_interaction_increase': 1.1034083424007344}. Best is trial 241 with value: 0.023457131120500446.\n"
     ]
    },
    {
     "name": "stdout",
     "output_type": "stream",
     "text": [
      "UserKNNCFRecommender: URM Detected 462 ( 3.7%) users with no interactions.\n",
      "UserKNNCFRecommender: URM Detected 344 ( 1.5%) items with no interactions.\n",
      "Similarity column 12638 (100.0%), 4738.94 column/sec. Elapsed time 2.67 sec\n",
      "EvaluatorHoldout: Processed 10008 (100.0%) in 12.58 sec. Users per second: 796\n"
     ]
    },
    {
     "name": "stderr",
     "output_type": "stream",
     "text": [
      "[I 2023-12-06 00:02:57,180] Trial 256 finished with value: 0.023111871613820088 and parameters: {'confidence': 0.5885822531830606, 'percentile': 99.96792578666867, 'max_interaction_increase': 1.3005443570943664}. Best is trial 241 with value: 0.023457131120500446.\n"
     ]
    },
    {
     "name": "stdout",
     "output_type": "stream",
     "text": [
      "UserKNNCFRecommender: URM Detected 462 ( 3.7%) users with no interactions.\n",
      "UserKNNCFRecommender: URM Detected 344 ( 1.5%) items with no interactions.\n",
      "Similarity column 12638 (100.0%), 3938.57 column/sec. Elapsed time 3.21 sec\n",
      "EvaluatorHoldout: Processed 10008 (100.0%) in 12.81 sec. Users per second: 781\n"
     ]
    },
    {
     "name": "stderr",
     "output_type": "stream",
     "text": [
      "[I 2023-12-06 00:03:25,514] Trial 257 finished with value: 0.022624043622245127 and parameters: {'confidence': 0.5556557208994701, 'percentile': 99.91703826798158, 'max_interaction_increase': 1.7813303400792408}. Best is trial 241 with value: 0.023457131120500446.\n"
     ]
    },
    {
     "name": "stdout",
     "output_type": "stream",
     "text": [
      "UserKNNCFRecommender: URM Detected 462 ( 3.7%) users with no interactions.\n",
      "UserKNNCFRecommender: URM Detected 344 ( 1.5%) items with no interactions.\n",
      "Similarity column 12638 (100.0%), 5093.99 column/sec. Elapsed time 2.48 sec\n",
      "EvaluatorHoldout: Processed 10008 (100.0%) in 12.21 sec. Users per second: 820\n"
     ]
    },
    {
     "name": "stderr",
     "output_type": "stream",
     "text": [
      "[I 2023-12-06 00:03:51,517] Trial 258 finished with value: 0.02327292531054526 and parameters: {'confidence': 0.5157041307617446, 'percentile': 99.98509834114098, 'max_interaction_increase': 1.3323755597686349}. Best is trial 241 with value: 0.023457131120500446.\n"
     ]
    },
    {
     "name": "stdout",
     "output_type": "stream",
     "text": [
      "UserKNNCFRecommender: URM Detected 462 ( 3.7%) users with no interactions.\n",
      "UserKNNCFRecommender: URM Detected 344 ( 1.5%) items with no interactions.\n",
      "Similarity column 12638 (100.0%), 4258.05 column/sec. Elapsed time 2.97 sec\n",
      "EvaluatorHoldout: Processed 10008 (100.0%) in 12.61 sec. Users per second: 794\n"
     ]
    },
    {
     "name": "stderr",
     "output_type": "stream",
     "text": [
      "[I 2023-12-06 00:04:19,179] Trial 259 finished with value: 0.022819058245467184 and parameters: {'confidence': 0.6401915331921955, 'percentile': 99.9387988836167, 'max_interaction_increase': 1.43316307014456}. Best is trial 241 with value: 0.023457131120500446.\n"
     ]
    },
    {
     "name": "stdout",
     "output_type": "stream",
     "text": [
      "UserKNNCFRecommender: URM Detected 462 ( 3.7%) users with no interactions.\n",
      "UserKNNCFRecommender: URM Detected 344 ( 1.5%) items with no interactions.\n",
      "Similarity column 12638 (100.0%), 4718.08 column/sec. Elapsed time 2.68 sec\n",
      "EvaluatorHoldout: Processed 10008 (100.0%) in 12.28 sec. Users per second: 815\n"
     ]
    },
    {
     "name": "stderr",
     "output_type": "stream",
     "text": [
      "[I 2023-12-06 00:04:45,462] Trial 260 finished with value: 0.023399962569626866 and parameters: {'confidence': 0.6128902880991663, 'percentile': 99.9773007582381, 'max_interaction_increase': 1.125158347099583}. Best is trial 241 with value: 0.023457131120500446.\n"
     ]
    },
    {
     "name": "stdout",
     "output_type": "stream",
     "text": [
      "UserKNNCFRecommender: URM Detected 462 ( 3.7%) users with no interactions.\n",
      "UserKNNCFRecommender: URM Detected 344 ( 1.5%) items with no interactions.\n",
      "Similarity column 12638 (100.0%), 4957.86 column/sec. Elapsed time 2.55 sec\n",
      "EvaluatorHoldout: Processed 10008 (100.0%) in 12.23 sec. Users per second: 818\n"
     ]
    },
    {
     "name": "stderr",
     "output_type": "stream",
     "text": [
      "[I 2023-12-06 00:05:11,639] Trial 261 finished with value: 0.023282203602197616 and parameters: {'confidence': 0.7019260070968082, 'percentile': 99.9777964547599, 'max_interaction_increase': 1.2746416834554728}. Best is trial 241 with value: 0.023457131120500446.\n"
     ]
    },
    {
     "name": "stdout",
     "output_type": "stream",
     "text": [
      "UserKNNCFRecommender: URM Detected 462 ( 3.7%) users with no interactions.\n",
      "UserKNNCFRecommender: URM Detected 344 ( 1.5%) items with no interactions.\n",
      "Similarity column 12638 (100.0%), 5015.03 column/sec. Elapsed time 2.52 sec\n",
      "EvaluatorHoldout: Processed 10008 (100.0%) in 12.64 sec. Users per second: 792\n"
     ]
    },
    {
     "name": "stderr",
     "output_type": "stream",
     "text": [
      "[I 2023-12-06 00:05:38,078] Trial 262 finished with value: 0.02342242475860585 and parameters: {'confidence': 0.6161046658187056, 'percentile': 99.98082269436233, 'max_interaction_increase': 1.3896809350820831}. Best is trial 241 with value: 0.023457131120500446.\n"
     ]
    },
    {
     "name": "stdout",
     "output_type": "stream",
     "text": [
      "UserKNNCFRecommender: URM Detected 462 ( 3.7%) users with no interactions.\n",
      "UserKNNCFRecommender: URM Detected 344 ( 1.5%) items with no interactions.\n",
      "Similarity column 12638 (100.0%), 4999.84 column/sec. Elapsed time 2.53 sec\n",
      "EvaluatorHoldout: Processed 10008 (100.0%) in 12.20 sec. Users per second: 820\n"
     ]
    },
    {
     "name": "stderr",
     "output_type": "stream",
     "text": [
      "[I 2023-12-06 00:06:04,371] Trial 263 finished with value: 0.023343325339728216 and parameters: {'confidence': 0.6622278341320449, 'percentile': 99.98140879561589, 'max_interaction_increase': 1.37933276421333}. Best is trial 241 with value: 0.023457131120500446.\n"
     ]
    },
    {
     "name": "stdout",
     "output_type": "stream",
     "text": [
      "UserKNNCFRecommender: URM Detected 462 ( 3.7%) users with no interactions.\n",
      "UserKNNCFRecommender: URM Detected 344 ( 1.5%) items with no interactions.\n",
      "Similarity column 12638 (100.0%), 4963.76 column/sec. Elapsed time 2.55 sec\n",
      "EvaluatorHoldout: Processed 10008 (100.0%) in 12.21 sec. Users per second: 820\n"
     ]
    },
    {
     "name": "stderr",
     "output_type": "stream",
     "text": [
      "[I 2023-12-06 00:06:30,694] Trial 264 finished with value: 0.023392956269904737 and parameters: {'confidence': 0.6267400718355198, 'percentile': 99.98030090763531, 'max_interaction_increase': 1.3963247451319307}. Best is trial 241 with value: 0.023457131120500446.\n"
     ]
    },
    {
     "name": "stdout",
     "output_type": "stream",
     "text": [
      "UserKNNCFRecommender: URM Detected 462 ( 3.7%) users with no interactions.\n",
      "UserKNNCFRecommender: URM Detected 344 ( 1.5%) items with no interactions.\n",
      "Similarity column 12638 (100.0%), 5056.23 column/sec. Elapsed time 2.50 sec\n",
      "EvaluatorHoldout: Processed 10008 (100.0%) in 12.29 sec. Users per second: 814\n"
     ]
    },
    {
     "name": "stderr",
     "output_type": "stream",
     "text": [
      "[I 2023-12-06 00:06:56,957] Trial 265 finished with value: 0.023365450496745495 and parameters: {'confidence': 0.5924362568278245, 'percentile': 99.9827496670628, 'max_interaction_increase': 1.4159028042067023}. Best is trial 241 with value: 0.023457131120500446.\n"
     ]
    },
    {
     "name": "stdout",
     "output_type": "stream",
     "text": [
      "UserKNNCFRecommender: URM Detected 462 ( 3.7%) users with no interactions.\n",
      "UserKNNCFRecommender: URM Detected 344 ( 1.5%) items with no interactions.\n",
      "Similarity column 12638 (100.0%), 4455.88 column/sec. Elapsed time 2.84 sec\n",
      "EvaluatorHoldout: Processed 10008 (100.0%) in 12.73 sec. Users per second: 786\n"
     ]
    },
    {
     "name": "stderr",
     "output_type": "stream",
     "text": [
      "[I 2023-12-06 00:07:24,152] Trial 266 finished with value: 0.02304915194828267 and parameters: {'confidence': 0.6502539705996996, 'percentile': 99.96089363348511, 'max_interaction_increase': 1.3646269583268862}. Best is trial 241 with value: 0.023457131120500446.\n"
     ]
    },
    {
     "name": "stdout",
     "output_type": "stream",
     "text": [
      "UserKNNCFRecommender: URM Detected 462 ( 3.7%) users with no interactions.\n",
      "UserKNNCFRecommender: URM Detected 344 ( 1.5%) items with no interactions.\n",
      "Similarity column 12638 (100.0%), 4991.05 column/sec. Elapsed time 2.53 sec\n",
      "EvaluatorHoldout: Processed 10008 (100.0%) in 13.07 sec. Users per second: 766\n"
     ]
    },
    {
     "name": "stderr",
     "output_type": "stream",
     "text": [
      "[I 2023-12-06 00:07:51,870] Trial 267 finished with value: 0.023375926243132474 and parameters: {'confidence': 0.6092243075345608, 'percentile': 99.97944874418475, 'max_interaction_increase': 1.3226605633167174}. Best is trial 241 with value: 0.023457131120500446.\n"
     ]
    },
    {
     "name": "stdout",
     "output_type": "stream",
     "text": [
      "UserKNNCFRecommender: URM Detected 462 ( 3.7%) users with no interactions.\n",
      "UserKNNCFRecommender: URM Detected 344 ( 1.5%) items with no interactions.\n",
      "Similarity column 12638 (100.0%), 5046.47 column/sec. Elapsed time 2.50 sec\n",
      "EvaluatorHoldout: Processed 10008 (100.0%) in 13.12 sec. Users per second: 763\n"
     ]
    },
    {
     "name": "stderr",
     "output_type": "stream",
     "text": [
      "[I 2023-12-06 00:08:19,773] Trial 268 finished with value: 0.023435124915940304 and parameters: {'confidence': 0.6813786851901129, 'percentile': 99.98419411256866, 'max_interaction_increase': 1.3916292973416913}. Best is trial 241 with value: 0.023457131120500446.\n"
     ]
    },
    {
     "name": "stdout",
     "output_type": "stream",
     "text": [
      "UserKNNCFRecommender: URM Detected 462 ( 3.7%) users with no interactions.\n",
      "UserKNNCFRecommender: URM Detected 344 ( 1.5%) items with no interactions.\n",
      "Similarity column 12638 (100.0%), 4535.25 column/sec. Elapsed time 2.79 sec\n",
      "EvaluatorHoldout: Processed 10008 (100.0%) in 13.10 sec. Users per second: 764\n"
     ]
    },
    {
     "name": "stderr",
     "output_type": "stream",
     "text": [
      "[I 2023-12-06 00:08:48,159] Trial 269 finished with value: 0.022982451340514905 and parameters: {'confidence': 0.697426921167779, 'percentile': 99.95657998336937, 'max_interaction_increase': 1.3530320600838917}. Best is trial 241 with value: 0.023457131120500446.\n"
     ]
    },
    {
     "name": "stdout",
     "output_type": "stream",
     "text": [
      "UserKNNCFRecommender: URM Detected 462 ( 3.7%) users with no interactions.\n",
      "UserKNNCFRecommender: URM Detected 344 ( 1.5%) items with no interactions.\n",
      "Similarity column 12638 (100.0%), 5015.48 column/sec. Elapsed time 2.52 sec\n",
      "EvaluatorHoldout: Processed 10008 (100.0%) in 12.62 sec. Users per second: 793\n"
     ]
    },
    {
     "name": "stderr",
     "output_type": "stream",
     "text": [
      "[I 2023-12-06 00:09:15,760] Trial 270 finished with value: 0.023386390094273835 and parameters: {'confidence': 0.6765306420873498, 'percentile': 99.98226049586692, 'max_interaction_increase': 1.3874012132328628}. Best is trial 241 with value: 0.023457131120500446.\n"
     ]
    },
    {
     "name": "stdout",
     "output_type": "stream",
     "text": [
      "UserKNNCFRecommender: URM Detected 462 ( 3.7%) users with no interactions.\n",
      "UserKNNCFRecommender: URM Detected 344 ( 1.5%) items with no interactions.\n",
      "Similarity column 12638 (100.0%), 4951.30 column/sec. Elapsed time 2.55 sec\n",
      "EvaluatorHoldout: Processed 10008 (100.0%) in 12.58 sec. Users per second: 795\n"
     ]
    },
    {
     "name": "stderr",
     "output_type": "stream",
     "text": [
      "[I 2023-12-06 00:09:42,465] Trial 271 finished with value: 0.02328097839188969 and parameters: {'confidence': 0.5831312039687978, 'percentile': 99.97619058749277, 'max_interaction_increase': 1.3073055136027683}. Best is trial 241 with value: 0.023457131120500446.\n"
     ]
    },
    {
     "name": "stdout",
     "output_type": "stream",
     "text": [
      "UserKNNCFRecommender: URM Detected 462 ( 3.7%) users with no interactions.\n",
      "UserKNNCFRecommender: URM Detected 344 ( 1.5%) items with no interactions.\n",
      "Similarity column 12638 (100.0%), 4970.13 column/sec. Elapsed time 2.54 sec\n",
      "EvaluatorHoldout: Processed 10008 (100.0%) in 12.18 sec. Users per second: 822\n"
     ]
    },
    {
     "name": "stderr",
     "output_type": "stream",
     "text": [
      "[I 2023-12-06 00:10:08,717] Trial 272 finished with value: 0.023338067641125237 and parameters: {'confidence': 0.3871355240370359, 'percentile': 99.98105184248254, 'max_interaction_increase': 1.3475282670774813}. Best is trial 241 with value: 0.023457131120500446.\n"
     ]
    },
    {
     "name": "stdout",
     "output_type": "stream",
     "text": [
      "UserKNNCFRecommender: URM Detected 462 ( 3.7%) users with no interactions.\n",
      "UserKNNCFRecommender: URM Detected 344 ( 1.5%) items with no interactions.\n",
      "Similarity column 12638 (100.0%), 5039.52 column/sec. Elapsed time 2.51 sec\n",
      "EvaluatorHoldout: Processed 10008 (100.0%) in 12.18 sec. Users per second: 822\n"
     ]
    },
    {
     "name": "stderr",
     "output_type": "stream",
     "text": [
      "[I 2023-12-06 00:10:34,862] Trial 273 finished with value: 0.023308523815867996 and parameters: {'confidence': 0.6291843361957444, 'percentile': 99.98321871723944, 'max_interaction_increase': 1.2626155117278368}. Best is trial 241 with value: 0.023457131120500446.\n"
     ]
    },
    {
     "name": "stdout",
     "output_type": "stream",
     "text": [
      "UserKNNCFRecommender: URM Detected 462 ( 3.7%) users with no interactions.\n",
      "UserKNNCFRecommender: URM Detected 344 ( 1.5%) items with no interactions.\n",
      "Similarity column 12638 (100.0%), 4446.17 column/sec. Elapsed time 2.84 sec\n",
      "EvaluatorHoldout: Processed 10008 (100.0%) in 12.69 sec. Users per second: 788\n"
     ]
    },
    {
     "name": "stderr",
     "output_type": "stream",
     "text": [
      "[I 2023-12-06 00:11:02,187] Trial 274 finished with value: 0.02292611149175902 and parameters: {'confidence': 0.6043211835663015, 'percentile': 99.95009987559793, 'max_interaction_increase': 1.375355419564278}. Best is trial 241 with value: 0.023457131120500446.\n"
     ]
    },
    {
     "name": "stdout",
     "output_type": "stream",
     "text": [
      "UserKNNCFRecommender: URM Detected 462 ( 3.7%) users with no interactions.\n",
      "UserKNNCFRecommender: URM Detected 344 ( 1.5%) items with no interactions.\n",
      "Similarity column 12638 (100.0%), 4931.40 column/sec. Elapsed time 2.56 sec\n",
      "EvaluatorHoldout: Processed 10008 (100.0%) in 12.39 sec. Users per second: 808\n"
     ]
    },
    {
     "name": "stderr",
     "output_type": "stream",
     "text": [
      "[I 2023-12-06 00:11:28,507] Trial 275 finished with value: 0.023363745511527322 and parameters: {'confidence': 0.5813306299637081, 'percentile': 99.97883209200593, 'max_interaction_increase': 1.3322703876150772}. Best is trial 241 with value: 0.023457131120500446.\n"
     ]
    },
    {
     "name": "stdout",
     "output_type": "stream",
     "text": [
      "UserKNNCFRecommender: URM Detected 462 ( 3.7%) users with no interactions.\n",
      "UserKNNCFRecommender: URM Detected 344 ( 1.5%) items with no interactions.\n",
      "Similarity column 12638 (100.0%), 5094.50 column/sec. Elapsed time 2.48 sec\n",
      "EvaluatorHoldout: Processed 10008 (100.0%) in 12.28 sec. Users per second: 815\n"
     ]
    },
    {
     "name": "stderr",
     "output_type": "stream",
     "text": [
      "[I 2023-12-06 00:11:54,763] Trial 276 finished with value: 0.023316997195894137 and parameters: {'confidence': 0.6381503399878865, 'percentile': 99.9862783690739, 'max_interaction_increase': 1.3974475305192655}. Best is trial 241 with value: 0.023457131120500446.\n"
     ]
    },
    {
     "name": "stdout",
     "output_type": "stream",
     "text": [
      "UserKNNCFRecommender: URM Detected 462 ( 3.7%) users with no interactions.\n",
      "UserKNNCFRecommender: URM Detected 344 ( 1.5%) items with no interactions.\n",
      "Similarity column 12638 (100.0%), 4857.57 column/sec. Elapsed time 2.60 sec\n",
      "EvaluatorHoldout: Processed 10008 (100.0%) in 12.31 sec. Users per second: 813\n"
     ]
    },
    {
     "name": "stderr",
     "output_type": "stream",
     "text": [
      "[I 2023-12-06 00:12:21,202] Trial 277 finished with value: 0.023273627130042024 and parameters: {'confidence': 0.6126551683066653, 'percentile': 99.97257602576123, 'max_interaction_increase': 1.2881775740313588}. Best is trial 241 with value: 0.023457131120500446.\n"
     ]
    },
    {
     "name": "stdout",
     "output_type": "stream",
     "text": [
      "UserKNNCFRecommender: URM Detected 462 ( 3.7%) users with no interactions.\n",
      "UserKNNCFRecommender: URM Detected 344 ( 1.5%) items with no interactions.\n",
      "Similarity column 12638 (100.0%), 5010.05 column/sec. Elapsed time 2.52 sec\n",
      "EvaluatorHoldout: Processed 10008 (100.0%) in 12.34 sec. Users per second: 811\n"
     ]
    },
    {
     "name": "stderr",
     "output_type": "stream",
     "text": [
      "[I 2023-12-06 00:12:47,504] Trial 278 finished with value: 0.023334760762818343 and parameters: {'confidence': 0.676917123002262, 'percentile': 99.98038560732519, 'max_interaction_increase': 1.3634674876718493}. Best is trial 241 with value: 0.023457131120500446.\n"
     ]
    },
    {
     "name": "stdout",
     "output_type": "stream",
     "text": [
      "UserKNNCFRecommender: URM Detected 462 ( 3.7%) users with no interactions.\n",
      "UserKNNCFRecommender: URM Detected 344 ( 1.5%) items with no interactions.\n",
      "Similarity column 12638 (100.0%), 5049.69 column/sec. Elapsed time 2.50 sec\n",
      "EvaluatorHoldout: Processed 10008 (100.0%) in 12.17 sec. Users per second: 823\n"
     ]
    },
    {
     "name": "stderr",
     "output_type": "stream",
     "text": [
      "[I 2023-12-06 00:13:13,544] Trial 279 finished with value: 0.02328072462664794 and parameters: {'confidence': 0.5672502345001377, 'percentile': 99.98341609229067, 'max_interaction_increase': 1.3171317282452684}. Best is trial 241 with value: 0.023457131120500446.\n"
     ]
    },
    {
     "name": "stdout",
     "output_type": "stream",
     "text": [
      "UserKNNCFRecommender: URM Detected 462 ( 3.7%) users with no interactions.\n",
      "UserKNNCFRecommender: URM Detected 344 ( 1.5%) items with no interactions.\n",
      "Similarity column 12638 (100.0%), 4754.36 column/sec. Elapsed time 2.66 sec\n",
      "EvaluatorHoldout: Processed 10008 (100.0%) in 12.31 sec. Users per second: 813\n"
     ]
    },
    {
     "name": "stderr",
     "output_type": "stream",
     "text": [
      "[I 2023-12-06 00:13:40,121] Trial 280 finished with value: 0.023189559463540302 and parameters: {'confidence': 0.6258975232760546, 'percentile': 99.97549036542745, 'max_interaction_increase': 1.340424174818596}. Best is trial 241 with value: 0.023457131120500446.\n"
     ]
    },
    {
     "name": "stdout",
     "output_type": "stream",
     "text": [
      "UserKNNCFRecommender: URM Detected 462 ( 3.7%) users with no interactions.\n",
      "UserKNNCFRecommender: URM Detected 344 ( 1.5%) items with no interactions.\n",
      "Similarity column 12638 (100.0%), 4940.79 column/sec. Elapsed time 2.56 sec\n",
      "EvaluatorHoldout: Processed 10008 (100.0%) in 12.40 sec. Users per second: 807\n"
     ]
    },
    {
     "name": "stderr",
     "output_type": "stream",
     "text": [
      "[I 2023-12-06 00:14:06,502] Trial 281 finished with value: 0.023391045100427606 and parameters: {'confidence': 0.5970319253702822, 'percentile': 99.97864086494712, 'max_interaction_increase': 1.4183923723068008}. Best is trial 241 with value: 0.023457131120500446.\n"
     ]
    },
    {
     "name": "stdout",
     "output_type": "stream",
     "text": [
      "UserKNNCFRecommender: URM Detected 462 ( 3.7%) users with no interactions.\n",
      "UserKNNCFRecommender: URM Detected 344 ( 1.5%) items with no interactions.\n",
      "Similarity column 12638 (100.0%), 5040.26 column/sec. Elapsed time 2.51 sec\n",
      "EvaluatorHoldout: Processed 10008 (100.0%) in 12.28 sec. Users per second: 815\n"
     ]
    },
    {
     "name": "stderr",
     "output_type": "stream",
     "text": [
      "[I 2023-12-06 00:14:32,621] Trial 282 finished with value: 0.023321021754025364 and parameters: {'confidence': 0.6430929965622225, 'percentile': 99.98158059828799, 'max_interaction_increase': 1.0486873142390942}. Best is trial 241 with value: 0.023457131120500446.\n"
     ]
    },
    {
     "name": "stdout",
     "output_type": "stream",
     "text": [
      "UserKNNCFRecommender: URM Detected 462 ( 3.7%) users with no interactions.\n",
      "UserKNNCFRecommender: URM Detected 344 ( 1.5%) items with no interactions.\n",
      "Similarity column 12638 (100.0%), 5045.62 column/sec. Elapsed time 2.50 sec\n",
      "EvaluatorHoldout: Processed 10008 (100.0%) in 12.22 sec. Users per second: 819\n"
     ]
    },
    {
     "name": "stderr",
     "output_type": "stream",
     "text": [
      "[I 2023-12-06 00:14:58,594] Trial 283 finished with value: 0.02333805178079765 and parameters: {'confidence': 0.706431721154026, 'percentile': 99.98466784613592, 'max_interaction_increase': 1.2964258998849798}. Best is trial 241 with value: 0.023457131120500446.\n"
     ]
    },
    {
     "name": "stdout",
     "output_type": "stream",
     "text": [
      "UserKNNCFRecommender: URM Detected 462 ( 3.7%) users with no interactions.\n",
      "UserKNNCFRecommender: URM Detected 344 ( 1.5%) items with no interactions.\n",
      "Similarity column 12638 (100.0%), 4918.79 column/sec. Elapsed time 2.57 sec\n",
      "EvaluatorHoldout: Processed 10008 (100.0%) in 12.37 sec. Users per second: 809\n"
     ]
    },
    {
     "name": "stderr",
     "output_type": "stream",
     "text": [
      "[I 2023-12-06 00:15:25,197] Trial 284 finished with value: 0.023326069303287553 and parameters: {'confidence': 0.5716094049378713, 'percentile': 99.97755522972061, 'max_interaction_increase': 1.488126226877981}. Best is trial 241 with value: 0.023457131120500446.\n"
     ]
    },
    {
     "name": "stdout",
     "output_type": "stream",
     "text": [
      "UserKNNCFRecommender: URM Detected 462 ( 3.7%) users with no interactions.\n",
      "UserKNNCFRecommender: URM Detected 344 ( 1.5%) items with no interactions.\n",
      "Similarity column 12638 (100.0%), 5140.03 column/sec. Elapsed time 2.46 sec\n",
      "EvaluatorHoldout: Processed 10008 (100.0%) in 12.15 sec. Users per second: 824\n"
     ]
    },
    {
     "name": "stderr",
     "output_type": "stream",
     "text": [
      "[I 2023-12-06 00:15:51,150] Trial 285 finished with value: 0.02333003438519031 and parameters: {'confidence': 0.6157987346133214, 'percentile': 99.98749961353673, 'max_interaction_increase': 1.367008457890558}. Best is trial 241 with value: 0.023457131120500446.\n"
     ]
    },
    {
     "name": "stdout",
     "output_type": "stream",
     "text": [
      "UserKNNCFRecommender: URM Detected 462 ( 3.7%) users with no interactions.\n",
      "UserKNNCFRecommender: URM Detected 344 ( 1.5%) items with no interactions.\n",
      "Similarity column 12638 (100.0%), 4510.88 column/sec. Elapsed time 2.80 sec\n",
      "EvaluatorHoldout: Processed 10008 (100.0%) in 12.34 sec. Users per second: 811\n"
     ]
    },
    {
     "name": "stderr",
     "output_type": "stream",
     "text": [
      "[I 2023-12-06 00:16:17,820] Trial 286 finished with value: 0.023245609861317334 and parameters: {'confidence': 0.29911710172681516, 'percentile': 99.9699323573922, 'max_interaction_increase': 1.4005481172343632}. Best is trial 241 with value: 0.023457131120500446.\n"
     ]
    },
    {
     "name": "stdout",
     "output_type": "stream",
     "text": [
      "UserKNNCFRecommender: URM Detected 462 ( 3.7%) users with no interactions.\n",
      "UserKNNCFRecommender: URM Detected 344 ( 1.5%) items with no interactions.\n",
      "Similarity column 12638 (100.0%), 4858.38 column/sec. Elapsed time 2.60 sec\n",
      "EvaluatorHoldout: Processed 10008 (100.0%) in 12.43 sec. Users per second: 805\n"
     ]
    },
    {
     "name": "stderr",
     "output_type": "stream",
     "text": [
      "[I 2023-12-06 00:16:44,317] Trial 287 finished with value: 0.023347817777524028 and parameters: {'confidence': 0.6649847926506637, 'percentile': 99.97989335161655, 'max_interaction_increase': 1.3229763952354165}. Best is trial 241 with value: 0.023457131120500446.\n"
     ]
    },
    {
     "name": "stdout",
     "output_type": "stream",
     "text": [
      "UserKNNCFRecommender: URM Detected 462 ( 3.7%) users with no interactions.\n",
      "UserKNNCFRecommender: URM Detected 344 ( 1.5%) items with no interactions.\n",
      "Similarity column 12638 (100.0%), 5022.95 column/sec. Elapsed time 2.52 sec\n",
      "EvaluatorHoldout: Processed 10008 (100.0%) in 12.61 sec. Users per second: 794\n"
     ]
    },
    {
     "name": "stderr",
     "output_type": "stream",
     "text": [
      "[I 2023-12-06 00:17:10,911] Trial 288 finished with value: 0.023327163665892714 and parameters: {'confidence': 0.5971943922823572, 'percentile': 99.9823926251231, 'max_interaction_increase': 1.3454592389885427}. Best is trial 241 with value: 0.023457131120500446.\n"
     ]
    },
    {
     "name": "stdout",
     "output_type": "stream",
     "text": [
      "UserKNNCFRecommender: URM Detected 462 ( 3.7%) users with no interactions.\n",
      "UserKNNCFRecommender: URM Detected 344 ( 1.5%) items with no interactions.\n",
      "Similarity column 12638 (100.0%), 5062.36 column/sec. Elapsed time 2.50 sec\n",
      "EvaluatorHoldout: Processed 10008 (100.0%) in 12.26 sec. Users per second: 817\n"
     ]
    },
    {
     "name": "stderr",
     "output_type": "stream",
     "text": [
      "[I 2023-12-06 00:17:36,965] Trial 289 finished with value: 0.023317905199649876 and parameters: {'confidence': 0.6467448591387501, 'percentile': 99.98450919817464, 'max_interaction_increase': 1.264474192096682}. Best is trial 241 with value: 0.023457131120500446.\n"
     ]
    },
    {
     "name": "stdout",
     "output_type": "stream",
     "text": [
      "UserKNNCFRecommender: URM Detected 462 ( 3.7%) users with no interactions.\n",
      "UserKNNCFRecommender: URM Detected 344 ( 1.5%) items with no interactions.\n",
      "Similarity column 12638 (100.0%), 4871.75 column/sec. Elapsed time 2.59 sec\n",
      "EvaluatorHoldout: Processed 10008 (100.0%) in 12.37 sec. Users per second: 809\n"
     ]
    },
    {
     "name": "stderr",
     "output_type": "stream",
     "text": [
      "[I 2023-12-06 00:18:03,586] Trial 290 finished with value: 0.02331537944247781 and parameters: {'confidence': 0.5495005089130383, 'percentile': 99.97501027419743, 'max_interaction_increase': 1.578484654825898}. Best is trial 241 with value: 0.023457131120500446.\n"
     ]
    },
    {
     "name": "stdout",
     "output_type": "stream",
     "text": [
      "UserKNNCFRecommender: URM Detected 462 ( 3.7%) users with no interactions.\n",
      "UserKNNCFRecommender: URM Detected 344 ( 1.5%) items with no interactions.\n",
      "Similarity column 12638 (100.0%), 4963.89 column/sec. Elapsed time 2.55 sec\n",
      "EvaluatorHoldout: Processed 10008 (100.0%) in 12.23 sec. Users per second: 818\n"
     ]
    },
    {
     "name": "stderr",
     "output_type": "stream",
     "text": [
      "[I 2023-12-06 00:18:29,803] Trial 291 finished with value: 0.023328099425221734 and parameters: {'confidence': 0.47304548455089884, 'percentile': 99.98072683618429, 'max_interaction_increase': 1.3810905421146769}. Best is trial 241 with value: 0.023457131120500446.\n"
     ]
    },
    {
     "name": "stdout",
     "output_type": "stream",
     "text": [
      "UserKNNCFRecommender: URM Detected 462 ( 3.7%) users with no interactions.\n",
      "UserKNNCFRecommender: URM Detected 344 ( 1.5%) items with no interactions.\n",
      "Similarity column 12638 (100.0%), 4960.91 column/sec. Elapsed time 2.55 sec\n",
      "EvaluatorHoldout: Processed 10008 (100.0%) in 12.34 sec. Users per second: 811\n"
     ]
    },
    {
     "name": "stderr",
     "output_type": "stream",
     "text": [
      "[I 2023-12-06 00:18:56,167] Trial 292 finished with value: 0.023410668290764214 and parameters: {'confidence': 0.6229992441584425, 'percentile': 99.97916286112542, 'max_interaction_increase': 1.0687316302454521}. Best is trial 241 with value: 0.023457131120500446.\n"
     ]
    },
    {
     "name": "stdout",
     "output_type": "stream",
     "text": [
      "UserKNNCFRecommender: URM Detected 462 ( 3.7%) users with no interactions.\n",
      "UserKNNCFRecommender: URM Detected 344 ( 1.5%) items with no interactions.\n",
      "Similarity column 12638 (100.0%), 4962.61 column/sec. Elapsed time 2.55 sec\n",
      "EvaluatorHoldout: Processed 10008 (100.0%) in 12.28 sec. Users per second: 815\n"
     ]
    },
    {
     "name": "stderr",
     "output_type": "stream",
     "text": [
      "[I 2023-12-06 00:19:22,652] Trial 293 finished with value: 0.02331685445294557 and parameters: {'confidence': 0.6187471930545054, 'percentile': 99.9777381209997, 'max_interaction_increase': 1.077078503605691}. Best is trial 241 with value: 0.023457131120500446.\n"
     ]
    },
    {
     "name": "stdout",
     "output_type": "stream",
     "text": [
      "UserKNNCFRecommender: URM Detected 462 ( 3.7%) users with no interactions.\n",
      "UserKNNCFRecommender: URM Detected 344 ( 1.5%) items with no interactions.\n",
      "Similarity column 12638 (100.0%), 4836.53 column/sec. Elapsed time 2.61 sec\n",
      "EvaluatorHoldout: Processed 10008 (100.0%) in 12.31 sec. Users per second: 813\n"
     ]
    },
    {
     "name": "stderr",
     "output_type": "stream",
     "text": [
      "[I 2023-12-06 00:19:48,991] Trial 294 finished with value: 0.023339332502252196 and parameters: {'confidence': 0.6886213378277063, 'percentile': 99.97334711902893, 'max_interaction_increase': 1.1524690528482342}. Best is trial 241 with value: 0.023457131120500446.\n"
     ]
    },
    {
     "name": "stdout",
     "output_type": "stream",
     "text": [
      "UserKNNCFRecommender: URM Detected 462 ( 3.7%) users with no interactions.\n",
      "UserKNNCFRecommender: URM Detected 344 ( 1.5%) items with no interactions.\n",
      "Similarity column 12638 (100.0%), 4989.37 column/sec. Elapsed time 2.53 sec\n",
      "EvaluatorHoldout: Processed 10008 (100.0%) in 12.30 sec. Users per second: 814\n"
     ]
    },
    {
     "name": "stderr",
     "output_type": "stream",
     "text": [
      "[I 2023-12-06 00:20:15,104] Trial 295 finished with value: 0.02341806316851276 and parameters: {'confidence': 0.6368368267840551, 'percentile': 99.9792413937658, 'max_interaction_increase': 1.016720731180797}. Best is trial 241 with value: 0.023457131120500446.\n"
     ]
    },
    {
     "name": "stdout",
     "output_type": "stream",
     "text": [
      "UserKNNCFRecommender: URM Detected 462 ( 3.7%) users with no interactions.\n",
      "UserKNNCFRecommender: URM Detected 344 ( 1.5%) items with no interactions.\n",
      "Similarity column 12638 (100.0%), 4956.00 column/sec. Elapsed time 2.55 sec\n",
      "EvaluatorHoldout: Processed 10008 (100.0%) in 12.20 sec. Users per second: 820\n"
     ]
    },
    {
     "name": "stderr",
     "output_type": "stream",
     "text": [
      "[I 2023-12-06 00:20:41,244] Trial 296 finished with value: 0.023252124490883472 and parameters: {'confidence': 0.6673402815601761, 'percentile': 99.97688287838865, 'max_interaction_increase': 1.0249227702604593}. Best is trial 241 with value: 0.023457131120500446.\n"
     ]
    },
    {
     "name": "stdout",
     "output_type": "stream",
     "text": [
      "UserKNNCFRecommender: URM Detected 462 ( 3.7%) users with no interactions.\n",
      "UserKNNCFRecommender: URM Detected 344 ( 1.5%) items with no interactions.\n",
      "Similarity column 12638 (100.0%), 5054.62 column/sec. Elapsed time 2.50 sec\n",
      "EvaluatorHoldout: Processed 10008 (100.0%) in 12.27 sec. Users per second: 816\n"
     ]
    },
    {
     "name": "stderr",
     "output_type": "stream",
     "text": [
      "[I 2023-12-06 00:21:07,583] Trial 297 finished with value: 0.023301216169921264 and parameters: {'confidence': 0.6398489776521092, 'percentile': 99.98335733199897, 'max_interaction_increase': 1.035365762657075}. Best is trial 241 with value: 0.023457131120500446.\n"
     ]
    },
    {
     "name": "stdout",
     "output_type": "stream",
     "text": [
      "UserKNNCFRecommender: URM Detected 462 ( 3.7%) users with no interactions.\n",
      "UserKNNCFRecommender: URM Detected 344 ( 1.5%) items with no interactions.\n",
      "Similarity column 12638 (100.0%), 4962.23 column/sec. Elapsed time 2.55 sec\n",
      "EvaluatorHoldout: Processed 10008 (100.0%) in 12.33 sec. Users per second: 812\n"
     ]
    },
    {
     "name": "stderr",
     "output_type": "stream",
     "text": [
      "[I 2023-12-06 00:21:34,020] Trial 298 finished with value: 0.023353079441208915 and parameters: {'confidence': 0.6523251543920354, 'percentile': 99.97827742076846, 'max_interaction_increase': 1.0465063712932139}. Best is trial 241 with value: 0.023457131120500446.\n"
     ]
    },
    {
     "name": "stdout",
     "output_type": "stream",
     "text": [
      "UserKNNCFRecommender: URM Detected 462 ( 3.7%) users with no interactions.\n",
      "UserKNNCFRecommender: URM Detected 344 ( 1.5%) items with no interactions.\n",
      "Similarity column 12638 (100.0%), 5116.70 column/sec. Elapsed time 2.47 sec\n",
      "EvaluatorHoldout: Processed 10008 (100.0%) in 12.57 sec. Users per second: 796\n"
     ]
    },
    {
     "name": "stderr",
     "output_type": "stream",
     "text": [
      "[I 2023-12-06 00:22:00,336] Trial 299 finished with value: 0.023294642064126528 and parameters: {'confidence': 0.6272970692435809, 'percentile': 99.98632693319776, 'max_interaction_increase': 1.0588596964716366}. Best is trial 241 with value: 0.023457131120500446.\n"
     ]
    }
   ],
   "source": [
    "optuna_study_sparsify = optuna.create_study(direction=\"maximize\")\n",
    "\n",
    "save_results_sparsify = SaveResults()\n",
    "\n",
    "optuna_study_sparsify.optimize(objective_function_sparsify,\n",
    "                      callbacks=[save_results_sparsify],\n",
    "                      n_trials = 300)"
   ]
  },
  {
   "cell_type": "markdown",
   "metadata": {},
   "source": [
    "**0.023344**\n"
   ]
  },
  {
   "cell_type": "markdown",
   "metadata": {},
   "source": [
    "**0.023457131120500446**"
   ]
  },
  {
   "cell_type": "code",
   "execution_count": null,
   "metadata": {},
   "outputs": [],
   "source": [
    "[I 2023-12-06 00:22:00,336] Trial 299 finished with value: 0.023294642064126528 and parameters: {'confidence': 0.6272970692435809, 'percentile': 99.98632693319776, 'max_interaction_increase': 1.0588596964716366}. Best is trial 241 with value: 0.023457131120500446."
   ]
  },
  {
   "cell_type": "code",
   "execution_count": null,
   "metadata": {
    "execution": {
     "iopub.status.busy": "2023-12-05T17:56:23.938787Z",
     "iopub.status.idle": "2023-12-05T17:56:23.939148Z",
     "shell.execute_reply": "2023-12-05T17:56:23.939006Z",
     "shell.execute_reply.started": "2023-12-05T17:56:23.938989Z"
    }
   },
   "outputs": [],
   "source": [
    "pruned_trials = [t for t in optuna_study_sparsify.trials if t.state == optuna.trial.TrialState.PRUNED]\n",
    "complete_trials = [t for t in optuna_study_sparsify.trials if t.state == optuna.trial.TrialState.COMPLETE]\n",
    "\n",
    "print(\"Study statistics: \")\n",
    "print(\"  Number of finished trials: \", len(optuna_study_sparsify.trials))\n",
    "print(\"  Number of pruned trials: \", len(pruned_trials))\n",
    "print(\"  Number of complete trials: \", len(complete_trials))\n",
    "\n",
    "print(\"Best trial:\")\n",
    "print(\"  Value Validation: \", optuna_study_sparsify.best_trial.value)\n",
    "\n",
    "print(\"Best params:\")\n",
    "print(optuna_study_sparsify.best_trial.params)"
   ]
  }
 ],
 "metadata": {
  "kernelspec": {
   "display_name": "Python 3 (ipykernel)",
   "language": "python",
   "name": "python3"
  },
  "language_info": {
   "codemirror_mode": {
    "name": "ipython",
    "version": 3
   },
   "file_extension": ".py",
   "mimetype": "text/x-python",
   "name": "python",
   "nbconvert_exporter": "python",
   "pygments_lexer": "ipython3",
   "version": "3.9.13"
  }
 },
 "nbformat": 4,
 "nbformat_minor": 4
}
