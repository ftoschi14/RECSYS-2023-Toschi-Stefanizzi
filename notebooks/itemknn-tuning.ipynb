{
 "cells": [
  {
   "cell_type": "markdown",
   "metadata": {},
   "source": [
    "# Setting-up environment"
   ]
  },
  {
   "cell_type": "code",
   "execution_count": 1,
   "metadata": {
    "_cell_guid": "b1076dfc-b9ad-4769-8c92-a6c4dae69d19",
    "_uuid": "8f2839f25d086af736a60e9eeb907d3b93b6e0e5",
    "execution": {
     "iopub.execute_input": "2023-12-07T08:52:44.282263Z",
     "iopub.status.busy": "2023-12-07T08:52:44.281719Z",
     "iopub.status.idle": "2023-12-07T08:52:48.300384Z",
     "shell.execute_reply": "2023-12-07T08:52:48.299108Z",
     "shell.execute_reply.started": "2023-12-07T08:52:44.282196Z"
    }
   },
   "outputs": [],
   "source": [
    "!cp -r ../input/updated-code-3-7/* /kaggle/working/"
   ]
  },
  {
   "cell_type": "code",
   "execution_count": 2,
   "metadata": {
    "execution": {
     "iopub.execute_input": "2023-12-07T08:52:48.302738Z",
     "iopub.status.busy": "2023-12-07T08:52:48.302386Z",
     "iopub.status.idle": "2023-12-07T08:53:17.258678Z",
     "shell.execute_reply": "2023-12-07T08:53:17.257355Z",
     "shell.execute_reply.started": "2023-12-07T08:52:48.302710Z"
    },
    "scrolled": true
   },
   "outputs": [
    {
     "name": "stdout",
     "output_type": "stream",
     "text": [
      "Requirement already satisfied: Cython in /opt/conda/lib/python3.10/site-packages (from -r requirements.txt (line 1)) (3.0.0)\n",
      "Requirement already satisfied: h5py in /opt/conda/lib/python3.10/site-packages (from -r requirements.txt (line 2)) (3.9.0)\n",
      "Requirement already satisfied: nltk in /opt/conda/lib/python3.10/site-packages (from -r requirements.txt (line 3)) (3.2.4)\n",
      "Requirement already satisfied: nose in /opt/conda/lib/python3.10/site-packages (from -r requirements.txt (line 4)) (1.3.7)\n",
      "Requirement already satisfied: numpy in /opt/conda/lib/python3.10/site-packages (from -r requirements.txt (line 5)) (1.24.3)\n",
      "Requirement already satisfied: scikit-learn in /opt/conda/lib/python3.10/site-packages (from -r requirements.txt (line 6)) (1.2.2)\n",
      "Requirement already satisfied: scikit-optimize in /opt/conda/lib/python3.10/site-packages (from -r requirements.txt (line 7)) (0.9.0)\n",
      "Requirement already satisfied: scipy in /opt/conda/lib/python3.10/site-packages (from -r requirements.txt (line 8)) (1.11.3)\n",
      "Requirement already satisfied: tqdm in /opt/conda/lib/python3.10/site-packages (from -r requirements.txt (line 9)) (4.66.1)\n",
      "Collecting lightfm (from -r requirements.txt (line 10))\n",
      "  Downloading lightfm-1.17.tar.gz (316 kB)\n",
      "\u001b[2K     \u001b[90m━━━━━━━━━━━━━━━━━━━━━━━━━━━━━━━━━━━━━━━\u001b[0m \u001b[32m316.4/316.4 kB\u001b[0m \u001b[31m5.9 MB/s\u001b[0m eta \u001b[36m0:00:00\u001b[0ma \u001b[36m0:00:01\u001b[0m\n",
      "\u001b[?25h  Preparing metadata (setup.py) ... \u001b[?25ldone\n",
      "\u001b[?25hCollecting RISE (from -r requirements.txt (line 11))\n",
      "  Downloading rise-5.7.1-py2.py3-none-any.whl (4.3 MB)\n",
      "\u001b[2K     \u001b[90m━━━━━━━━━━━━━━━━━━━━━━━━━━━━━━━━━━━━━━━━\u001b[0m \u001b[32m4.3/4.3 MB\u001b[0m \u001b[31m42.4 MB/s\u001b[0m eta \u001b[36m0:00:00\u001b[0ma \u001b[36m0:00:01\u001b[0m\n",
      "\u001b[?25hRequirement already satisfied: torch in /opt/conda/lib/python3.10/site-packages (from -r requirements.txt (line 12)) (2.0.0+cpu)\n",
      "Collecting jupyter-contrib-nbextensions (from -r requirements.txt (line 13))\n",
      "  Downloading jupyter_contrib_nbextensions-0.7.0.tar.gz (23.5 MB)\n",
      "\u001b[2K     \u001b[90m━━━━━━━━━━━━━━━━━━━━━━━━━━━━━━━━━━━━━━━━\u001b[0m \u001b[32m23.5/23.5 MB\u001b[0m \u001b[31m64.9 MB/s\u001b[0m eta \u001b[36m0:00:00\u001b[0m00:01\u001b[0m00:01\u001b[0m\n",
      "\u001b[?25h  Preparing metadata (setup.py) ... \u001b[?25ldone\n",
      "\u001b[?25hRequirement already satisfied: tensorflow in /opt/conda/lib/python3.10/site-packages (from -r requirements.txt (line 14)) (2.13.0)\n",
      "Requirement already satisfied: tables in /opt/conda/lib/python3.10/site-packages (from -r requirements.txt (line 15)) (3.9.1)\n",
      "Requirement already satisfied: six in /opt/conda/lib/python3.10/site-packages (from nltk->-r requirements.txt (line 3)) (1.16.0)\n",
      "Requirement already satisfied: joblib>=1.1.1 in /opt/conda/lib/python3.10/site-packages (from scikit-learn->-r requirements.txt (line 6)) (1.3.2)\n",
      "Requirement already satisfied: threadpoolctl>=2.0.0 in /opt/conda/lib/python3.10/site-packages (from scikit-learn->-r requirements.txt (line 6)) (3.2.0)\n",
      "Requirement already satisfied: pyaml>=16.9 in /opt/conda/lib/python3.10/site-packages (from scikit-optimize->-r requirements.txt (line 7)) (23.9.7)\n",
      "Requirement already satisfied: requests in /opt/conda/lib/python3.10/site-packages (from lightfm->-r requirements.txt (line 10)) (2.31.0)\n",
      "Requirement already satisfied: notebook>=6.0 in /opt/conda/lib/python3.10/site-packages (from RISE->-r requirements.txt (line 11)) (6.5.5)\n",
      "Requirement already satisfied: filelock in /opt/conda/lib/python3.10/site-packages (from torch->-r requirements.txt (line 12)) (3.12.2)\n",
      "Requirement already satisfied: typing-extensions in /opt/conda/lib/python3.10/site-packages (from torch->-r requirements.txt (line 12)) (4.5.0)\n",
      "Requirement already satisfied: sympy in /opt/conda/lib/python3.10/site-packages (from torch->-r requirements.txt (line 12)) (1.12)\n",
      "Requirement already satisfied: networkx in /opt/conda/lib/python3.10/site-packages (from torch->-r requirements.txt (line 12)) (3.1)\n",
      "Requirement already satisfied: jinja2 in /opt/conda/lib/python3.10/site-packages (from torch->-r requirements.txt (line 12)) (3.1.2)\n",
      "Requirement already satisfied: ipython_genutils in /opt/conda/lib/python3.10/site-packages (from jupyter-contrib-nbextensions->-r requirements.txt (line 13)) (0.2.0)\n",
      "Collecting jupyter_contrib_core>=0.3.3 (from jupyter-contrib-nbextensions->-r requirements.txt (line 13))\n",
      "  Downloading jupyter_contrib_core-0.4.2.tar.gz (17 kB)\n",
      "  Preparing metadata (setup.py) ... \u001b[?25ldone\n",
      "\u001b[?25hRequirement already satisfied: jupyter_core in /opt/conda/lib/python3.10/site-packages (from jupyter-contrib-nbextensions->-r requirements.txt (line 13)) (5.3.1)\n",
      "Collecting jupyter_highlight_selected_word>=0.1.1 (from jupyter-contrib-nbextensions->-r requirements.txt (line 13))\n",
      "  Downloading jupyter_highlight_selected_word-0.2.0-py2.py3-none-any.whl (11 kB)\n",
      "Collecting jupyter_nbextensions_configurator>=0.4.0 (from jupyter-contrib-nbextensions->-r requirements.txt (line 13))\n",
      "  Downloading jupyter_nbextensions_configurator-0.6.3-py2.py3-none-any.whl (466 kB)\n",
      "\u001b[2K     \u001b[90m━━━━━━━━━━━━━━━━━━━━━━━━━━━━━━━━━━━━━━\u001b[0m \u001b[32m466.9/466.9 kB\u001b[0m \u001b[31m34.1 MB/s\u001b[0m eta \u001b[36m0:00:00\u001b[0m\n",
      "\u001b[?25hRequirement already satisfied: nbconvert>=6.0 in /opt/conda/lib/python3.10/site-packages (from jupyter-contrib-nbextensions->-r requirements.txt (line 13)) (6.4.5)\n",
      "Requirement already satisfied: tornado in /opt/conda/lib/python3.10/site-packages (from jupyter-contrib-nbextensions->-r requirements.txt (line 13)) (6.3.3)\n",
      "Requirement already satisfied: traitlets>=4.1 in /opt/conda/lib/python3.10/site-packages (from jupyter-contrib-nbextensions->-r requirements.txt (line 13)) (5.9.0)\n",
      "Requirement already satisfied: lxml in /opt/conda/lib/python3.10/site-packages (from jupyter-contrib-nbextensions->-r requirements.txt (line 13)) (4.9.3)\n",
      "Requirement already satisfied: absl-py>=1.0.0 in /opt/conda/lib/python3.10/site-packages (from tensorflow->-r requirements.txt (line 14)) (1.4.0)\n",
      "Requirement already satisfied: astunparse>=1.6.0 in /opt/conda/lib/python3.10/site-packages (from tensorflow->-r requirements.txt (line 14)) (1.6.3)\n",
      "Requirement already satisfied: flatbuffers>=23.1.21 in /opt/conda/lib/python3.10/site-packages (from tensorflow->-r requirements.txt (line 14)) (23.5.26)\n",
      "Requirement already satisfied: gast<=0.4.0,>=0.2.1 in /opt/conda/lib/python3.10/site-packages (from tensorflow->-r requirements.txt (line 14)) (0.4.0)\n",
      "Requirement already satisfied: google-pasta>=0.1.1 in /opt/conda/lib/python3.10/site-packages (from tensorflow->-r requirements.txt (line 14)) (0.2.0)\n",
      "Requirement already satisfied: grpcio<2.0,>=1.24.3 in /opt/conda/lib/python3.10/site-packages (from tensorflow->-r requirements.txt (line 14)) (1.57.0)\n",
      "Requirement already satisfied: keras<2.14,>=2.13.1 in /opt/conda/lib/python3.10/site-packages (from tensorflow->-r requirements.txt (line 14)) (2.13.1)\n",
      "Requirement already satisfied: libclang>=13.0.0 in /opt/conda/lib/python3.10/site-packages (from tensorflow->-r requirements.txt (line 14)) (16.0.6)\n",
      "Requirement already satisfied: opt-einsum>=2.3.2 in /opt/conda/lib/python3.10/site-packages (from tensorflow->-r requirements.txt (line 14)) (3.3.0)\n",
      "Requirement already satisfied: packaging in /opt/conda/lib/python3.10/site-packages (from tensorflow->-r requirements.txt (line 14)) (21.3)\n",
      "Requirement already satisfied: protobuf!=4.21.0,!=4.21.1,!=4.21.2,!=4.21.3,!=4.21.4,!=4.21.5,<5.0.0dev,>=3.20.3 in /opt/conda/lib/python3.10/site-packages (from tensorflow->-r requirements.txt (line 14)) (3.20.3)\n",
      "Requirement already satisfied: setuptools in /opt/conda/lib/python3.10/site-packages (from tensorflow->-r requirements.txt (line 14)) (68.1.2)\n",
      "Requirement already satisfied: tensorboard<2.14,>=2.13 in /opt/conda/lib/python3.10/site-packages (from tensorflow->-r requirements.txt (line 14)) (2.13.0)\n",
      "Requirement already satisfied: tensorflow-estimator<2.14,>=2.13.0 in /opt/conda/lib/python3.10/site-packages (from tensorflow->-r requirements.txt (line 14)) (2.13.0)\n",
      "Requirement already satisfied: termcolor>=1.1.0 in /opt/conda/lib/python3.10/site-packages (from tensorflow->-r requirements.txt (line 14)) (2.3.0)\n",
      "Requirement already satisfied: wrapt>=1.11.0 in /opt/conda/lib/python3.10/site-packages (from tensorflow->-r requirements.txt (line 14)) (1.15.0)\n",
      "Requirement already satisfied: tensorflow-io-gcs-filesystem>=0.23.1 in /opt/conda/lib/python3.10/site-packages (from tensorflow->-r requirements.txt (line 14)) (0.34.0)\n",
      "Requirement already satisfied: numexpr>=2.6.2 in /opt/conda/lib/python3.10/site-packages (from tables->-r requirements.txt (line 15)) (2.8.7)\n",
      "Requirement already satisfied: py-cpuinfo in /opt/conda/lib/python3.10/site-packages (from tables->-r requirements.txt (line 15)) (9.0.0)\n",
      "Requirement already satisfied: blosc2>=2.2.8 in /opt/conda/lib/python3.10/site-packages (from tables->-r requirements.txt (line 15)) (2.3.1)\n",
      "Requirement already satisfied: wheel<1.0,>=0.23.0 in /opt/conda/lib/python3.10/site-packages (from astunparse>=1.6.0->tensorflow->-r requirements.txt (line 14)) (0.41.2)\n",
      "Requirement already satisfied: ndindex>=1.4 in /opt/conda/lib/python3.10/site-packages (from blosc2>=2.2.8->tables->-r requirements.txt (line 15)) (1.7)\n",
      "Requirement already satisfied: msgpack in /opt/conda/lib/python3.10/site-packages (from blosc2>=2.2.8->tables->-r requirements.txt (line 15)) (1.0.5)\n",
      "Requirement already satisfied: pyyaml in /opt/conda/lib/python3.10/site-packages (from jupyter_nbextensions_configurator>=0.4.0->jupyter-contrib-nbextensions->-r requirements.txt (line 13)) (6.0.1)\n",
      "Requirement already satisfied: mistune<2,>=0.8.1 in /opt/conda/lib/python3.10/site-packages (from nbconvert>=6.0->jupyter-contrib-nbextensions->-r requirements.txt (line 13)) (0.8.4)\n",
      "Requirement already satisfied: pygments>=2.4.1 in /opt/conda/lib/python3.10/site-packages (from nbconvert>=6.0->jupyter-contrib-nbextensions->-r requirements.txt (line 13)) (2.16.1)\n",
      "Requirement already satisfied: jupyterlab-pygments in /opt/conda/lib/python3.10/site-packages (from nbconvert>=6.0->jupyter-contrib-nbextensions->-r requirements.txt (line 13)) (0.2.2)\n",
      "Requirement already satisfied: nbformat>=4.4 in /opt/conda/lib/python3.10/site-packages (from nbconvert>=6.0->jupyter-contrib-nbextensions->-r requirements.txt (line 13)) (5.9.2)\n",
      "Requirement already satisfied: entrypoints>=0.2.2 in /opt/conda/lib/python3.10/site-packages (from nbconvert>=6.0->jupyter-contrib-nbextensions->-r requirements.txt (line 13)) (0.4)\n",
      "Requirement already satisfied: bleach in /opt/conda/lib/python3.10/site-packages (from nbconvert>=6.0->jupyter-contrib-nbextensions->-r requirements.txt (line 13)) (6.0.0)\n",
      "Requirement already satisfied: pandocfilters>=1.4.1 in /opt/conda/lib/python3.10/site-packages (from nbconvert>=6.0->jupyter-contrib-nbextensions->-r requirements.txt (line 13)) (1.5.0)\n",
      "Requirement already satisfied: testpath in /opt/conda/lib/python3.10/site-packages (from nbconvert>=6.0->jupyter-contrib-nbextensions->-r requirements.txt (line 13)) (0.6.0)\n",
      "Requirement already satisfied: defusedxml in /opt/conda/lib/python3.10/site-packages (from nbconvert>=6.0->jupyter-contrib-nbextensions->-r requirements.txt (line 13)) (0.7.1)\n",
      "Requirement already satisfied: beautifulsoup4 in /opt/conda/lib/python3.10/site-packages (from nbconvert>=6.0->jupyter-contrib-nbextensions->-r requirements.txt (line 13)) (4.12.2)\n",
      "Requirement already satisfied: nbclient<0.6.0,>=0.5.0 in /opt/conda/lib/python3.10/site-packages (from nbconvert>=6.0->jupyter-contrib-nbextensions->-r requirements.txt (line 13)) (0.5.13)\n",
      "Requirement already satisfied: MarkupSafe>=2.0 in /opt/conda/lib/python3.10/site-packages (from nbconvert>=6.0->jupyter-contrib-nbextensions->-r requirements.txt (line 13)) (2.1.3)\n",
      "Requirement already satisfied: pyzmq<25,>=17 in /opt/conda/lib/python3.10/site-packages (from notebook>=6.0->RISE->-r requirements.txt (line 11)) (24.0.1)\n",
      "Requirement already satisfied: argon2-cffi in /opt/conda/lib/python3.10/site-packages (from notebook>=6.0->RISE->-r requirements.txt (line 11)) (21.3.0)\n",
      "Requirement already satisfied: jupyter-client<8,>=5.3.4 in /opt/conda/lib/python3.10/site-packages (from notebook>=6.0->RISE->-r requirements.txt (line 11)) (7.4.9)\n",
      "Requirement already satisfied: nest-asyncio>=1.5 in /opt/conda/lib/python3.10/site-packages (from notebook>=6.0->RISE->-r requirements.txt (line 11)) (1.5.6)\n",
      "Requirement already satisfied: ipykernel in /opt/conda/lib/python3.10/site-packages (from notebook>=6.0->RISE->-r requirements.txt (line 11)) (6.25.1)\n",
      "Requirement already satisfied: Send2Trash>=1.8.0 in /opt/conda/lib/python3.10/site-packages (from notebook>=6.0->RISE->-r requirements.txt (line 11)) (1.8.2)\n",
      "Requirement already satisfied: terminado>=0.8.3 in /opt/conda/lib/python3.10/site-packages (from notebook>=6.0->RISE->-r requirements.txt (line 11)) (0.17.1)\n",
      "Requirement already satisfied: prometheus-client in /opt/conda/lib/python3.10/site-packages (from notebook>=6.0->RISE->-r requirements.txt (line 11)) (0.17.1)\n",
      "Requirement already satisfied: nbclassic>=0.4.7 in /opt/conda/lib/python3.10/site-packages (from notebook>=6.0->RISE->-r requirements.txt (line 11)) (1.0.0)\n",
      "Requirement already satisfied: platformdirs>=2.5 in /opt/conda/lib/python3.10/site-packages (from jupyter_core->jupyter-contrib-nbextensions->-r requirements.txt (line 13)) (4.0.0)\n",
      "Requirement already satisfied: google-auth<3,>=1.6.3 in /opt/conda/lib/python3.10/site-packages (from tensorboard<2.14,>=2.13->tensorflow->-r requirements.txt (line 14)) (2.22.0)\n",
      "Requirement already satisfied: google-auth-oauthlib<1.1,>=0.5 in /opt/conda/lib/python3.10/site-packages (from tensorboard<2.14,>=2.13->tensorflow->-r requirements.txt (line 14)) (1.0.0)\n",
      "Requirement already satisfied: markdown>=2.6.8 in /opt/conda/lib/python3.10/site-packages (from tensorboard<2.14,>=2.13->tensorflow->-r requirements.txt (line 14)) (3.4.4)\n",
      "Requirement already satisfied: tensorboard-data-server<0.8.0,>=0.7.0 in /opt/conda/lib/python3.10/site-packages (from tensorboard<2.14,>=2.13->tensorflow->-r requirements.txt (line 14)) (0.7.1)\n",
      "Requirement already satisfied: werkzeug>=1.0.1 in /opt/conda/lib/python3.10/site-packages (from tensorboard<2.14,>=2.13->tensorflow->-r requirements.txt (line 14)) (3.0.1)\n",
      "Requirement already satisfied: charset-normalizer<4,>=2 in /opt/conda/lib/python3.10/site-packages (from requests->lightfm->-r requirements.txt (line 10)) (3.2.0)\n",
      "Requirement already satisfied: idna<4,>=2.5 in /opt/conda/lib/python3.10/site-packages (from requests->lightfm->-r requirements.txt (line 10)) (3.4)\n",
      "Requirement already satisfied: urllib3<3,>=1.21.1 in /opt/conda/lib/python3.10/site-packages (from requests->lightfm->-r requirements.txt (line 10)) (1.26.15)\n",
      "Requirement already satisfied: certifi>=2017.4.17 in /opt/conda/lib/python3.10/site-packages (from requests->lightfm->-r requirements.txt (line 10)) (2023.7.22)\n",
      "Requirement already satisfied: pyparsing!=3.0.5,>=2.0.2 in /opt/conda/lib/python3.10/site-packages (from packaging->tensorflow->-r requirements.txt (line 14)) (3.0.9)\n",
      "Requirement already satisfied: mpmath>=0.19 in /opt/conda/lib/python3.10/site-packages (from sympy->torch->-r requirements.txt (line 12)) (1.3.0)\n",
      "Requirement already satisfied: cachetools<6.0,>=2.0.0 in /opt/conda/lib/python3.10/site-packages (from google-auth<3,>=1.6.3->tensorboard<2.14,>=2.13->tensorflow->-r requirements.txt (line 14)) (4.2.4)\n",
      "Requirement already satisfied: pyasn1-modules>=0.2.1 in /opt/conda/lib/python3.10/site-packages (from google-auth<3,>=1.6.3->tensorboard<2.14,>=2.13->tensorflow->-r requirements.txt (line 14)) (0.2.7)\n",
      "Requirement already satisfied: rsa<5,>=3.1.4 in /opt/conda/lib/python3.10/site-packages (from google-auth<3,>=1.6.3->tensorboard<2.14,>=2.13->tensorflow->-r requirements.txt (line 14)) (4.9)\n",
      "Requirement already satisfied: requests-oauthlib>=0.7.0 in /opt/conda/lib/python3.10/site-packages (from google-auth-oauthlib<1.1,>=0.5->tensorboard<2.14,>=2.13->tensorflow->-r requirements.txt (line 14)) (1.3.1)\n",
      "Requirement already satisfied: python-dateutil>=2.8.2 in /opt/conda/lib/python3.10/site-packages (from jupyter-client<8,>=5.3.4->notebook>=6.0->RISE->-r requirements.txt (line 11)) (2.8.2)\n",
      "Requirement already satisfied: jupyter-server>=1.8 in /opt/conda/lib/python3.10/site-packages (from nbclassic>=0.4.7->notebook>=6.0->RISE->-r requirements.txt (line 11)) (2.10.0)\n",
      "Requirement already satisfied: notebook-shim>=0.2.3 in /opt/conda/lib/python3.10/site-packages (from nbclassic>=0.4.7->notebook>=6.0->RISE->-r requirements.txt (line 11)) (0.2.3)\n",
      "Requirement already satisfied: fastjsonschema in /opt/conda/lib/python3.10/site-packages (from nbformat>=4.4->nbconvert>=6.0->jupyter-contrib-nbextensions->-r requirements.txt (line 13)) (2.18.0)\n",
      "Requirement already satisfied: jsonschema>=2.6 in /opt/conda/lib/python3.10/site-packages (from nbformat>=4.4->nbconvert>=6.0->jupyter-contrib-nbextensions->-r requirements.txt (line 13)) (4.19.0)\n",
      "Requirement already satisfied: ptyprocess in /opt/conda/lib/python3.10/site-packages (from terminado>=0.8.3->notebook>=6.0->RISE->-r requirements.txt (line 11)) (0.7.0)\n",
      "Requirement already satisfied: argon2-cffi-bindings in /opt/conda/lib/python3.10/site-packages (from argon2-cffi->notebook>=6.0->RISE->-r requirements.txt (line 11)) (21.2.0)\n",
      "Requirement already satisfied: soupsieve>1.2 in /opt/conda/lib/python3.10/site-packages (from beautifulsoup4->nbconvert>=6.0->jupyter-contrib-nbextensions->-r requirements.txt (line 13)) (2.3.2.post1)\n",
      "Requirement already satisfied: webencodings in /opt/conda/lib/python3.10/site-packages (from bleach->nbconvert>=6.0->jupyter-contrib-nbextensions->-r requirements.txt (line 13)) (0.5.1)\n",
      "Requirement already satisfied: comm>=0.1.1 in /opt/conda/lib/python3.10/site-packages (from ipykernel->notebook>=6.0->RISE->-r requirements.txt (line 11)) (0.1.4)\n",
      "Requirement already satisfied: debugpy>=1.6.5 in /opt/conda/lib/python3.10/site-packages (from ipykernel->notebook>=6.0->RISE->-r requirements.txt (line 11)) (1.6.7.post1)\n",
      "Requirement already satisfied: ipython>=7.23.1 in /opt/conda/lib/python3.10/site-packages (from ipykernel->notebook>=6.0->RISE->-r requirements.txt (line 11)) (8.14.0)\n",
      "Requirement already satisfied: matplotlib-inline>=0.1 in /opt/conda/lib/python3.10/site-packages (from ipykernel->notebook>=6.0->RISE->-r requirements.txt (line 11)) (0.1.6)\n",
      "Requirement already satisfied: psutil in /opt/conda/lib/python3.10/site-packages (from ipykernel->notebook>=6.0->RISE->-r requirements.txt (line 11)) (5.9.3)\n",
      "Requirement already satisfied: backcall in /opt/conda/lib/python3.10/site-packages (from ipython>=7.23.1->ipykernel->notebook>=6.0->RISE->-r requirements.txt (line 11)) (0.2.0)\n",
      "Requirement already satisfied: decorator in /opt/conda/lib/python3.10/site-packages (from ipython>=7.23.1->ipykernel->notebook>=6.0->RISE->-r requirements.txt (line 11)) (5.1.1)\n",
      "Requirement already satisfied: jedi>=0.16 in /opt/conda/lib/python3.10/site-packages (from ipython>=7.23.1->ipykernel->notebook>=6.0->RISE->-r requirements.txt (line 11)) (0.19.0)\n",
      "Requirement already satisfied: pickleshare in /opt/conda/lib/python3.10/site-packages (from ipython>=7.23.1->ipykernel->notebook>=6.0->RISE->-r requirements.txt (line 11)) (0.7.5)\n",
      "Requirement already satisfied: prompt-toolkit!=3.0.37,<3.1.0,>=3.0.30 in /opt/conda/lib/python3.10/site-packages (from ipython>=7.23.1->ipykernel->notebook>=6.0->RISE->-r requirements.txt (line 11)) (3.0.39)\n",
      "Requirement already satisfied: stack-data in /opt/conda/lib/python3.10/site-packages (from ipython>=7.23.1->ipykernel->notebook>=6.0->RISE->-r requirements.txt (line 11)) (0.6.2)\n",
      "Requirement already satisfied: pexpect>4.3 in /opt/conda/lib/python3.10/site-packages (from ipython>=7.23.1->ipykernel->notebook>=6.0->RISE->-r requirements.txt (line 11)) (4.8.0)\n",
      "Requirement already satisfied: attrs>=22.2.0 in /opt/conda/lib/python3.10/site-packages (from jsonschema>=2.6->nbformat>=4.4->nbconvert>=6.0->jupyter-contrib-nbextensions->-r requirements.txt (line 13)) (23.1.0)\n",
      "Requirement already satisfied: jsonschema-specifications>=2023.03.6 in /opt/conda/lib/python3.10/site-packages (from jsonschema>=2.6->nbformat>=4.4->nbconvert>=6.0->jupyter-contrib-nbextensions->-r requirements.txt (line 13)) (2023.7.1)\n",
      "Requirement already satisfied: referencing>=0.28.4 in /opt/conda/lib/python3.10/site-packages (from jsonschema>=2.6->nbformat>=4.4->nbconvert>=6.0->jupyter-contrib-nbextensions->-r requirements.txt (line 13)) (0.30.2)\n",
      "Requirement already satisfied: rpds-py>=0.7.1 in /opt/conda/lib/python3.10/site-packages (from jsonschema>=2.6->nbformat>=4.4->nbconvert>=6.0->jupyter-contrib-nbextensions->-r requirements.txt (line 13)) (0.9.2)\n",
      "Requirement already satisfied: anyio>=3.1.0 in /opt/conda/lib/python3.10/site-packages (from jupyter-server>=1.8->nbclassic>=0.4.7->notebook>=6.0->RISE->-r requirements.txt (line 11)) (3.7.1)\n",
      "Requirement already satisfied: jupyter-events>=0.6.0 in /opt/conda/lib/python3.10/site-packages (from jupyter-server>=1.8->nbclassic>=0.4.7->notebook>=6.0->RISE->-r requirements.txt (line 11)) (0.7.0)\n",
      "Requirement already satisfied: jupyter-server-terminals in /opt/conda/lib/python3.10/site-packages (from jupyter-server>=1.8->nbclassic>=0.4.7->notebook>=6.0->RISE->-r requirements.txt (line 11)) (0.4.4)\n",
      "Requirement already satisfied: overrides in /opt/conda/lib/python3.10/site-packages (from jupyter-server>=1.8->nbclassic>=0.4.7->notebook>=6.0->RISE->-r requirements.txt (line 11)) (6.5.0)\n",
      "Requirement already satisfied: websocket-client in /opt/conda/lib/python3.10/site-packages (from jupyter-server>=1.8->nbclassic>=0.4.7->notebook>=6.0->RISE->-r requirements.txt (line 11)) (1.6.2)\n",
      "Requirement already satisfied: pyasn1<0.5.0,>=0.4.6 in /opt/conda/lib/python3.10/site-packages (from pyasn1-modules>=0.2.1->google-auth<3,>=1.6.3->tensorboard<2.14,>=2.13->tensorflow->-r requirements.txt (line 14)) (0.4.8)\n",
      "Requirement already satisfied: oauthlib>=3.0.0 in /opt/conda/lib/python3.10/site-packages (from requests-oauthlib>=0.7.0->google-auth-oauthlib<1.1,>=0.5->tensorboard<2.14,>=2.13->tensorflow->-r requirements.txt (line 14)) (3.2.2)\n",
      "Requirement already satisfied: cffi>=1.0.1 in /opt/conda/lib/python3.10/site-packages (from argon2-cffi-bindings->argon2-cffi->notebook>=6.0->RISE->-r requirements.txt (line 11)) (1.15.1)\n",
      "Requirement already satisfied: sniffio>=1.1 in /opt/conda/lib/python3.10/site-packages (from anyio>=3.1.0->jupyter-server>=1.8->nbclassic>=0.4.7->notebook>=6.0->RISE->-r requirements.txt (line 11)) (1.3.0)\n",
      "Requirement already satisfied: exceptiongroup in /opt/conda/lib/python3.10/site-packages (from anyio>=3.1.0->jupyter-server>=1.8->nbclassic>=0.4.7->notebook>=6.0->RISE->-r requirements.txt (line 11)) (1.1.3)\n",
      "Requirement already satisfied: pycparser in /opt/conda/lib/python3.10/site-packages (from cffi>=1.0.1->argon2-cffi-bindings->argon2-cffi->notebook>=6.0->RISE->-r requirements.txt (line 11)) (2.21)\n",
      "Requirement already satisfied: parso<0.9.0,>=0.8.3 in /opt/conda/lib/python3.10/site-packages (from jedi>=0.16->ipython>=7.23.1->ipykernel->notebook>=6.0->RISE->-r requirements.txt (line 11)) (0.8.3)\n",
      "Requirement already satisfied: python-json-logger>=2.0.4 in /opt/conda/lib/python3.10/site-packages (from jupyter-events>=0.6.0->jupyter-server>=1.8->nbclassic>=0.4.7->notebook>=6.0->RISE->-r requirements.txt (line 11)) (2.0.7)\n",
      "Requirement already satisfied: rfc3339-validator in /opt/conda/lib/python3.10/site-packages (from jupyter-events>=0.6.0->jupyter-server>=1.8->nbclassic>=0.4.7->notebook>=6.0->RISE->-r requirements.txt (line 11)) (0.1.4)\n",
      "Requirement already satisfied: rfc3986-validator>=0.1.1 in /opt/conda/lib/python3.10/site-packages (from jupyter-events>=0.6.0->jupyter-server>=1.8->nbclassic>=0.4.7->notebook>=6.0->RISE->-r requirements.txt (line 11)) (0.1.1)\n",
      "Requirement already satisfied: wcwidth in /opt/conda/lib/python3.10/site-packages (from prompt-toolkit!=3.0.37,<3.1.0,>=3.0.30->ipython>=7.23.1->ipykernel->notebook>=6.0->RISE->-r requirements.txt (line 11)) (0.2.6)\n",
      "Requirement already satisfied: executing>=1.2.0 in /opt/conda/lib/python3.10/site-packages (from stack-data->ipython>=7.23.1->ipykernel->notebook>=6.0->RISE->-r requirements.txt (line 11)) (1.2.0)\n",
      "Requirement already satisfied: asttokens>=2.1.0 in /opt/conda/lib/python3.10/site-packages (from stack-data->ipython>=7.23.1->ipykernel->notebook>=6.0->RISE->-r requirements.txt (line 11)) (2.2.1)\n",
      "Requirement already satisfied: pure-eval in /opt/conda/lib/python3.10/site-packages (from stack-data->ipython>=7.23.1->ipykernel->notebook>=6.0->RISE->-r requirements.txt (line 11)) (0.2.2)\n",
      "Requirement already satisfied: fqdn in /opt/conda/lib/python3.10/site-packages (from jsonschema>=2.6->nbformat>=4.4->nbconvert>=6.0->jupyter-contrib-nbextensions->-r requirements.txt (line 13)) (1.5.1)\n",
      "Requirement already satisfied: isoduration in /opt/conda/lib/python3.10/site-packages (from jsonschema>=2.6->nbformat>=4.4->nbconvert>=6.0->jupyter-contrib-nbextensions->-r requirements.txt (line 13)) (20.11.0)\n",
      "Requirement already satisfied: jsonpointer>1.13 in /opt/conda/lib/python3.10/site-packages (from jsonschema>=2.6->nbformat>=4.4->nbconvert>=6.0->jupyter-contrib-nbextensions->-r requirements.txt (line 13)) (2.0)\n",
      "Requirement already satisfied: uri-template in /opt/conda/lib/python3.10/site-packages (from jsonschema>=2.6->nbformat>=4.4->nbconvert>=6.0->jupyter-contrib-nbextensions->-r requirements.txt (line 13)) (1.3.0)\n",
      "Requirement already satisfied: webcolors>=1.11 in /opt/conda/lib/python3.10/site-packages (from jsonschema>=2.6->nbformat>=4.4->nbconvert>=6.0->jupyter-contrib-nbextensions->-r requirements.txt (line 13)) (1.13)\n",
      "Requirement already satisfied: arrow>=0.15.0 in /opt/conda/lib/python3.10/site-packages (from isoduration->jsonschema>=2.6->nbformat>=4.4->nbconvert>=6.0->jupyter-contrib-nbextensions->-r requirements.txt (line 13)) (1.2.3)\n",
      "Building wheels for collected packages: lightfm, jupyter-contrib-nbextensions, jupyter_contrib_core\n",
      "  Building wheel for lightfm (setup.py) ... \u001b[?25ldone\n",
      "\u001b[?25h  Created wheel for lightfm: filename=lightfm-1.17-cp310-cp310-linux_x86_64.whl size=448469 sha256=133a134bda9f27214bc6d87e77c0640c886caf800ef170490e9b00593ce139b3\n",
      "  Stored in directory: /root/.cache/pip/wheels/4f/9b/7e/0b256f2168511d8fa4dae4fae0200fdbd729eb424a912ad636\n",
      "  Building wheel for jupyter-contrib-nbextensions (setup.py) ... \u001b[?25ldone\n",
      "\u001b[?25h  Created wheel for jupyter-contrib-nbextensions: filename=jupyter_contrib_nbextensions-0.7.0-py2.py3-none-any.whl size=23428781 sha256=2dcb1614cf8d3bcfce6dbf0542abdd5744d00eb9281ce5bc5e336f328371ed0e\n",
      "  Stored in directory: /root/.cache/pip/wheels/ea/cc/7d/99ef154f984726b1201c0f72cfe9c9d7c5132c1a2ae4d8677f\n",
      "  Building wheel for jupyter_contrib_core (setup.py) ... \u001b[?25ldone\n",
      "\u001b[?25h  Created wheel for jupyter_contrib_core: filename=jupyter_contrib_core-0.4.2-py2.py3-none-any.whl size=17484 sha256=ce39d495044af7a9058d4c1af8ee3108163103d4e94e77a0e31fa3ef627c2686\n",
      "  Stored in directory: /root/.cache/pip/wheels/a9/52/88/e0643cdfd68f0562087918c37dd583378648dbc3df68b907f7\n",
      "Successfully built lightfm jupyter-contrib-nbextensions jupyter_contrib_core\n",
      "Installing collected packages: jupyter_highlight_selected_word, lightfm, RISE, jupyter_contrib_core, jupyter_nbextensions_configurator, jupyter-contrib-nbextensions\n",
      "Successfully installed RISE-5.7.1 jupyter-contrib-nbextensions-0.7.0 jupyter_contrib_core-0.4.2 jupyter_highlight_selected_word-0.2.0 jupyter_nbextensions_configurator-0.6.3 lightfm-1.17\n"
     ]
    }
   ],
   "source": [
    "!pip install -r requirements.txt"
   ]
  },
  {
   "cell_type": "code",
   "execution_count": 3,
   "metadata": {
    "execution": {
     "iopub.execute_input": "2023-12-07T08:53:17.263349Z",
     "iopub.status.busy": "2023-12-07T08:53:17.262971Z",
     "iopub.status.idle": "2023-12-07T08:53:27.924969Z",
     "shell.execute_reply": "2023-12-07T08:53:27.923772Z",
     "shell.execute_reply.started": "2023-12-07T08:53:17.263318Z"
    },
    "scrolled": true
   },
   "outputs": [
    {
     "name": "stdout",
     "output_type": "stream",
     "text": [
      "Requirement already satisfied: lightfm in /opt/conda/lib/python3.10/site-packages (1.17)\n",
      "Requirement already satisfied: tqdm in /opt/conda/lib/python3.10/site-packages (4.66.1)\n",
      "Requirement already satisfied: optuna in /opt/conda/lib/python3.10/site-packages (3.4.0)\n",
      "Requirement already satisfied: ipykernel in /opt/conda/lib/python3.10/site-packages (6.25.1)\n",
      "Requirement already satisfied: matplotlib in /opt/conda/lib/python3.10/site-packages (3.7.3)\n",
      "Collecting implicit\n",
      "  Obtaining dependency information for implicit from https://files.pythonhosted.org/packages/cd/cc/deac70cae8cc32c9885d0cd73bc66e1b3cbea36ae7080b8c83995eaf5322/implicit-0.7.2-cp310-cp310-manylinux2014_x86_64.whl.metadata\n",
      "  Downloading implicit-0.7.2-cp310-cp310-manylinux2014_x86_64.whl.metadata (6.1 kB)\n",
      "Requirement already satisfied: numpy in /opt/conda/lib/python3.10/site-packages (from lightfm) (1.24.3)\n",
      "Requirement already satisfied: scipy>=0.17.0 in /opt/conda/lib/python3.10/site-packages (from lightfm) (1.11.3)\n",
      "Requirement already satisfied: requests in /opt/conda/lib/python3.10/site-packages (from lightfm) (2.31.0)\n",
      "Requirement already satisfied: scikit-learn in /opt/conda/lib/python3.10/site-packages (from lightfm) (1.2.2)\n",
      "Requirement already satisfied: alembic>=1.5.0 in /opt/conda/lib/python3.10/site-packages (from optuna) (1.12.1)\n",
      "Requirement already satisfied: colorlog in /opt/conda/lib/python3.10/site-packages (from optuna) (6.7.0)\n",
      "Requirement already satisfied: packaging>=20.0 in /opt/conda/lib/python3.10/site-packages (from optuna) (21.3)\n",
      "Requirement already satisfied: sqlalchemy>=1.3.0 in /opt/conda/lib/python3.10/site-packages (from optuna) (2.0.20)\n",
      "Requirement already satisfied: PyYAML in /opt/conda/lib/python3.10/site-packages (from optuna) (6.0.1)\n",
      "Requirement already satisfied: comm>=0.1.1 in /opt/conda/lib/python3.10/site-packages (from ipykernel) (0.1.4)\n",
      "Requirement already satisfied: debugpy>=1.6.5 in /opt/conda/lib/python3.10/site-packages (from ipykernel) (1.6.7.post1)\n",
      "Requirement already satisfied: ipython>=7.23.1 in /opt/conda/lib/python3.10/site-packages (from ipykernel) (8.14.0)\n",
      "Requirement already satisfied: jupyter-client>=6.1.12 in /opt/conda/lib/python3.10/site-packages (from ipykernel) (7.4.9)\n",
      "Requirement already satisfied: jupyter-core!=5.0.*,>=4.12 in /opt/conda/lib/python3.10/site-packages (from ipykernel) (5.3.1)\n",
      "Requirement already satisfied: matplotlib-inline>=0.1 in /opt/conda/lib/python3.10/site-packages (from ipykernel) (0.1.6)\n",
      "Requirement already satisfied: nest-asyncio in /opt/conda/lib/python3.10/site-packages (from ipykernel) (1.5.6)\n",
      "Requirement already satisfied: psutil in /opt/conda/lib/python3.10/site-packages (from ipykernel) (5.9.3)\n",
      "Requirement already satisfied: pyzmq>=20 in /opt/conda/lib/python3.10/site-packages (from ipykernel) (24.0.1)\n",
      "Requirement already satisfied: tornado>=6.1 in /opt/conda/lib/python3.10/site-packages (from ipykernel) (6.3.3)\n",
      "Requirement already satisfied: traitlets>=5.4.0 in /opt/conda/lib/python3.10/site-packages (from ipykernel) (5.9.0)\n",
      "Requirement already satisfied: contourpy>=1.0.1 in /opt/conda/lib/python3.10/site-packages (from matplotlib) (1.1.0)\n",
      "Requirement already satisfied: cycler>=0.10 in /opt/conda/lib/python3.10/site-packages (from matplotlib) (0.11.0)\n",
      "Requirement already satisfied: fonttools>=4.22.0 in /opt/conda/lib/python3.10/site-packages (from matplotlib) (4.42.1)\n",
      "Requirement already satisfied: kiwisolver>=1.0.1 in /opt/conda/lib/python3.10/site-packages (from matplotlib) (1.4.4)\n",
      "Requirement already satisfied: pillow>=6.2.0 in /opt/conda/lib/python3.10/site-packages (from matplotlib) (10.1.0)\n",
      "Requirement already satisfied: pyparsing>=2.3.1 in /opt/conda/lib/python3.10/site-packages (from matplotlib) (3.0.9)\n",
      "Requirement already satisfied: python-dateutil>=2.7 in /opt/conda/lib/python3.10/site-packages (from matplotlib) (2.8.2)\n",
      "Requirement already satisfied: threadpoolctl in /opt/conda/lib/python3.10/site-packages (from implicit) (3.2.0)\n",
      "Requirement already satisfied: Mako in /opt/conda/lib/python3.10/site-packages (from alembic>=1.5.0->optuna) (1.3.0)\n",
      "Requirement already satisfied: typing-extensions>=4 in /opt/conda/lib/python3.10/site-packages (from alembic>=1.5.0->optuna) (4.5.0)\n",
      "Requirement already satisfied: backcall in /opt/conda/lib/python3.10/site-packages (from ipython>=7.23.1->ipykernel) (0.2.0)\n",
      "Requirement already satisfied: decorator in /opt/conda/lib/python3.10/site-packages (from ipython>=7.23.1->ipykernel) (5.1.1)\n",
      "Requirement already satisfied: jedi>=0.16 in /opt/conda/lib/python3.10/site-packages (from ipython>=7.23.1->ipykernel) (0.19.0)\n",
      "Requirement already satisfied: pickleshare in /opt/conda/lib/python3.10/site-packages (from ipython>=7.23.1->ipykernel) (0.7.5)\n",
      "Requirement already satisfied: prompt-toolkit!=3.0.37,<3.1.0,>=3.0.30 in /opt/conda/lib/python3.10/site-packages (from ipython>=7.23.1->ipykernel) (3.0.39)\n",
      "Requirement already satisfied: pygments>=2.4.0 in /opt/conda/lib/python3.10/site-packages (from ipython>=7.23.1->ipykernel) (2.16.1)\n",
      "Requirement already satisfied: stack-data in /opt/conda/lib/python3.10/site-packages (from ipython>=7.23.1->ipykernel) (0.6.2)\n",
      "Requirement already satisfied: pexpect>4.3 in /opt/conda/lib/python3.10/site-packages (from ipython>=7.23.1->ipykernel) (4.8.0)\n",
      "Requirement already satisfied: entrypoints in /opt/conda/lib/python3.10/site-packages (from jupyter-client>=6.1.12->ipykernel) (0.4)\n",
      "Requirement already satisfied: platformdirs>=2.5 in /opt/conda/lib/python3.10/site-packages (from jupyter-core!=5.0.*,>=4.12->ipykernel) (4.0.0)\n",
      "Requirement already satisfied: six>=1.5 in /opt/conda/lib/python3.10/site-packages (from python-dateutil>=2.7->matplotlib) (1.16.0)\n",
      "Requirement already satisfied: greenlet!=0.4.17 in /opt/conda/lib/python3.10/site-packages (from sqlalchemy>=1.3.0->optuna) (2.0.2)\n",
      "Requirement already satisfied: charset-normalizer<4,>=2 in /opt/conda/lib/python3.10/site-packages (from requests->lightfm) (3.2.0)\n",
      "Requirement already satisfied: idna<4,>=2.5 in /opt/conda/lib/python3.10/site-packages (from requests->lightfm) (3.4)\n",
      "Requirement already satisfied: urllib3<3,>=1.21.1 in /opt/conda/lib/python3.10/site-packages (from requests->lightfm) (1.26.15)\n",
      "Requirement already satisfied: certifi>=2017.4.17 in /opt/conda/lib/python3.10/site-packages (from requests->lightfm) (2023.7.22)\n",
      "Requirement already satisfied: joblib>=1.1.1 in /opt/conda/lib/python3.10/site-packages (from scikit-learn->lightfm) (1.3.2)\n",
      "Requirement already satisfied: parso<0.9.0,>=0.8.3 in /opt/conda/lib/python3.10/site-packages (from jedi>=0.16->ipython>=7.23.1->ipykernel) (0.8.3)\n",
      "Requirement already satisfied: ptyprocess>=0.5 in /opt/conda/lib/python3.10/site-packages (from pexpect>4.3->ipython>=7.23.1->ipykernel) (0.7.0)\n",
      "Requirement already satisfied: wcwidth in /opt/conda/lib/python3.10/site-packages (from prompt-toolkit!=3.0.37,<3.1.0,>=3.0.30->ipython>=7.23.1->ipykernel) (0.2.6)\n",
      "Requirement already satisfied: MarkupSafe>=0.9.2 in /opt/conda/lib/python3.10/site-packages (from Mako->alembic>=1.5.0->optuna) (2.1.3)\n",
      "Requirement already satisfied: executing>=1.2.0 in /opt/conda/lib/python3.10/site-packages (from stack-data->ipython>=7.23.1->ipykernel) (1.2.0)\n",
      "Requirement already satisfied: asttokens>=2.1.0 in /opt/conda/lib/python3.10/site-packages (from stack-data->ipython>=7.23.1->ipykernel) (2.2.1)\n",
      "Requirement already satisfied: pure-eval in /opt/conda/lib/python3.10/site-packages (from stack-data->ipython>=7.23.1->ipykernel) (0.2.2)\n",
      "Downloading implicit-0.7.2-cp310-cp310-manylinux2014_x86_64.whl (8.9 MB)\n",
      "\u001b[2K   \u001b[90m━━━━━━━━━━━━━━━━━━━━━━━━━━━━━━━━━━━━━━━━\u001b[0m \u001b[32m8.9/8.9 MB\u001b[0m \u001b[31m54.1 MB/s\u001b[0m eta \u001b[36m0:00:00\u001b[0m00:01\u001b[0m00:01\u001b[0m\n",
      "\u001b[?25hInstalling collected packages: implicit\n",
      "Successfully installed implicit-0.7.2\n"
     ]
    }
   ],
   "source": [
    "!pip install lightfm tqdm optuna ipykernel matplotlib implicit"
   ]
  },
  {
   "cell_type": "code",
   "execution_count": 4,
   "metadata": {
    "execution": {
     "iopub.execute_input": "2023-12-07T08:53:27.929121Z",
     "iopub.status.busy": "2023-12-07T08:53:27.928633Z",
     "iopub.status.idle": "2023-12-07T08:55:29.382369Z",
     "shell.execute_reply": "2023-12-07T08:55:29.381044Z",
     "shell.execute_reply.started": "2023-12-07T08:53:27.929081Z"
    },
    "scrolled": true
   },
   "outputs": [
    {
     "name": "stdout",
     "output_type": "stream",
     "text": [
      "run_compile_all_cython: Found 10 Cython files in 4 folders...\n",
      "run_compile_all_cython: All files will be compiled using your current python environment: '/opt/conda/bin/python'\n",
      "Compiling [1/10]: MatrixFactorization_Cython_Epoch.pyx... \n",
      "In file included from \u001b[01m\u001b[K/opt/conda/lib/python3.10/site-packages/numpy/core/include/numpy/ndarraytypes.h:1940\u001b[m\u001b[K,\n",
      "                 from \u001b[01m\u001b[K/opt/conda/lib/python3.10/site-packages/numpy/core/include/numpy/ndarrayobject.h:12\u001b[m\u001b[K,\n",
      "                 from \u001b[01m\u001b[K/opt/conda/lib/python3.10/site-packages/numpy/core/include/numpy/arrayobject.h:5\u001b[m\u001b[K,\n",
      "                 from \u001b[01m\u001b[KMatrixFactorization_Cython_Epoch.c:1109\u001b[m\u001b[K:\n",
      "\u001b[01m\u001b[K/opt/conda/lib/python3.10/site-packages/numpy/core/include/numpy/npy_1_7_deprecated_api.h:17:2:\u001b[m\u001b[K \u001b[01;35m\u001b[Kwarning: \u001b[m\u001b[K#warning \"Using deprecated NumPy API, disable it with \" \"#define NPY_NO_DEPRECATED_API NPY_1_7_API_VERSION\" [\u001b[01;35m\u001b[K-Wcpp\u001b[m\u001b[K]\n",
      "   17 | #\u001b[01;35m\u001b[Kwarning\u001b[m\u001b[K \"Using deprecated NumPy API, disable it with \" \\\n",
      "      |  \u001b[01;35m\u001b[K^~~~~~~\u001b[m\u001b[K\n",
      "\u001b[01m\u001b[KMatrixFactorization_Cython_Epoch.c:\u001b[m\u001b[K In function ‘\u001b[01m\u001b[K__pyx_pf_32MatrixFactorization_Cython_Epoch_32MatrixFactorization_Cython_Epoch_10epochIteration_Cython_ASY_SVD_SGD\u001b[m\u001b[K’:\n",
      "\u001b[01m\u001b[KMatrixFactorization_Cython_Epoch.c:25415:9:\u001b[m\u001b[K \u001b[01;35m\u001b[Kwarning: \u001b[m\u001b[K‘\u001b[01m\u001b[K__pyx_v_end_pos_seen_items\u001b[m\u001b[K’ may be used uninitialized in this function [\u001b[01;35m\u001b[K-Wmaybe-uninitialized\u001b[m\u001b[K]\n",
      "25415 |         \u001b[01;35m\u001b[Kfor\u001b[m\u001b[K (__pyx_t_20 = __pyx_v_start_pos_seen_items; __pyx_t_20 < __pyx_t_19; __pyx_t_20+=1) {\n",
      "      |         \u001b[01;35m\u001b[K^~~\u001b[m\u001b[K\n",
      "\u001b[01m\u001b[KMatrixFactorization_Cython_Epoch.c:25415:9:\u001b[m\u001b[K \u001b[01;35m\u001b[Kwarning: \u001b[m\u001b[K‘\u001b[01m\u001b[K__pyx_v_start_pos_seen_items\u001b[m\u001b[K’ may be used uninitialized in this function [\u001b[01;35m\u001b[K-Wmaybe-uninitialized\u001b[m\u001b[K]\n",
      "/opt/conda/lib/python3.10/site-packages/Cython/Compiler/Main.py:381: FutureWarning: Cython directive 'language_level' not set, using '3str' for now (Py3). This has changed from earlier releases! File: /kaggle/working/Recommenders/MatrixFactorization/Cython/MatrixFactorization_Cython_Epoch.pyx\n",
      "  tree = Parsing.p_module(s, pxd, full_module_name)\n",
      "Compiling [1/10]: MatrixFactorization_Cython_Epoch.pyx... PASS\n",
      "\n",
      "Compiling [2/10]: MatrixFactorizationImpressions_Cython_Epoch.pyx... \n",
      "In file included from \u001b[01m\u001b[K/opt/conda/lib/python3.10/site-packages/numpy/core/include/numpy/ndarraytypes.h:1940\u001b[m\u001b[K,\n",
      "                 from \u001b[01m\u001b[K/opt/conda/lib/python3.10/site-packages/numpy/core/include/numpy/ndarrayobject.h:12\u001b[m\u001b[K,\n",
      "                 from \u001b[01m\u001b[K/opt/conda/lib/python3.10/site-packages/numpy/core/include/numpy/arrayobject.h:5\u001b[m\u001b[K,\n",
      "                 from \u001b[01m\u001b[KMatrixFactorizationImpressions_Cython_Epoch.c:1109\u001b[m\u001b[K:\n",
      "\u001b[01m\u001b[K/opt/conda/lib/python3.10/site-packages/numpy/core/include/numpy/npy_1_7_deprecated_api.h:17:2:\u001b[m\u001b[K \u001b[01;35m\u001b[Kwarning: \u001b[m\u001b[K#warning \"Using deprecated NumPy API, disable it with \" \"#define NPY_NO_DEPRECATED_API NPY_1_7_API_VERSION\" [\u001b[01;35m\u001b[K-Wcpp\u001b[m\u001b[K]\n",
      "   17 | #\u001b[01;35m\u001b[Kwarning\u001b[m\u001b[K \"Using deprecated NumPy API, disable it with \" \\\n",
      "      |  \u001b[01;35m\u001b[K^~~~~~~\u001b[m\u001b[K\n",
      "\u001b[01m\u001b[KMatrixFactorizationImpressions_Cython_Epoch.c:\u001b[m\u001b[K In function ‘\u001b[01m\u001b[K__pyx_f_43MatrixFactorizationImpressions_Cython_Epoch_32MatrixFactorization_Cython_Epoch_sampleBPR_Cython\u001b[m\u001b[K’:\n",
      "\u001b[01m\u001b[KMatrixFactorizationImpressions_Cython_Epoch.c:29445:17:\u001b[m\u001b[K \u001b[01;35m\u001b[Kwarning: \u001b[m\u001b[K‘\u001b[01m\u001b[K__pyx_v_start_pos_impression_items\u001b[m\u001b[K’ may be used uninitialized in this function [\u001b[01;35m\u001b[K-Wmaybe-uninitialized\u001b[m\u001b[K]\n",
      "29445 |       \u001b[01;35m\u001b[K__pyx_t_4 = (__pyx_v_start_pos_impression_items + __pyx_v_index)\u001b[m\u001b[K;\n",
      "      |       \u001b[01;35m\u001b[K~~~~~~~~~~^~~~~~~~~~~~~~~~~~~~~~~~~~~~~~~~~~~~~~~~~~~~~~~~~~~~~~\u001b[m\u001b[K\n",
      "\u001b[01m\u001b[KMatrixFactorizationImpressions_Cython_Epoch.c:\u001b[m\u001b[K In function ‘\u001b[01m\u001b[K__pyx_pf_43MatrixFactorizationImpressions_Cython_Epoch_32MatrixFactorization_Cython_Epoch_10epochIteration_Cython_ASY_SVD_SGD\u001b[m\u001b[K’:\n",
      "\u001b[01m\u001b[KMatrixFactorizationImpressions_Cython_Epoch.c:25281:7:\u001b[m\u001b[K \u001b[01;35m\u001b[Kwarning: \u001b[m\u001b[K‘\u001b[01m\u001b[K__pyx_v_end_pos_seen_items\u001b[m\u001b[K’ may be used uninitialized in this function [\u001b[01;35m\u001b[K-Wmaybe-uninitialized\u001b[m\u001b[K]\n",
      "25281 |       \u001b[01;35m\u001b[Kfor\u001b[m\u001b[K (__pyx_t_20 = __pyx_v_start_pos_seen_items; __pyx_t_20 < __pyx_t_19; __pyx_t_20+=1) {\n",
      "      |       \u001b[01;35m\u001b[K^~~\u001b[m\u001b[K\n",
      "\u001b[01m\u001b[KMatrixFactorizationImpressions_Cython_Epoch.c:25281:7:\u001b[m\u001b[K \u001b[01;35m\u001b[Kwarning: \u001b[m\u001b[K‘\u001b[01m\u001b[K__pyx_v_start_pos_seen_items\u001b[m\u001b[K’ may be used uninitialized in this function [\u001b[01;35m\u001b[K-Wmaybe-uninitialized\u001b[m\u001b[K]\n",
      "/opt/conda/lib/python3.10/site-packages/Cython/Compiler/Main.py:381: FutureWarning: Cython directive 'language_level' not set, using '3str' for now (Py3). This has changed from earlier releases! File: /kaggle/working/Recommenders/MatrixFactorization/Cython/MatrixFactorizationImpressions_Cython_Epoch.pyx\n",
      "  tree = Parsing.p_module(s, pxd, full_module_name)\n",
      "Compiling [2/10]: MatrixFactorizationImpressions_Cython_Epoch.pyx... PASS\n",
      "\n",
      "Compiling [3/10]: Compute_Similarity_Cython.pyx... \n",
      "In file included from \u001b[01m\u001b[K/opt/conda/lib/python3.10/site-packages/numpy/core/include/numpy/ndarraytypes.h:1940\u001b[m\u001b[K,\n",
      "                 from \u001b[01m\u001b[K/opt/conda/lib/python3.10/site-packages/numpy/core/include/numpy/ndarrayobject.h:12\u001b[m\u001b[K,\n",
      "                 from \u001b[01m\u001b[K/opt/conda/lib/python3.10/site-packages/numpy/core/include/numpy/arrayobject.h:5\u001b[m\u001b[K,\n",
      "                 from \u001b[01m\u001b[KCompute_Similarity_Cython.c:1109\u001b[m\u001b[K:\n",
      "\u001b[01m\u001b[K/opt/conda/lib/python3.10/site-packages/numpy/core/include/numpy/npy_1_7_deprecated_api.h:17:2:\u001b[m\u001b[K \u001b[01;35m\u001b[Kwarning: \u001b[m\u001b[K#warning \"Using deprecated NumPy API, disable it with \" \"#define NPY_NO_DEPRECATED_API NPY_1_7_API_VERSION\" [\u001b[01;35m\u001b[K-Wcpp\u001b[m\u001b[K]\n",
      "   17 | #\u001b[01;35m\u001b[Kwarning\u001b[m\u001b[K \"Using deprecated NumPy API, disable it with \" \\\n",
      "      |  \u001b[01;35m\u001b[K^~~~~~~\u001b[m\u001b[K\n",
      "/opt/conda/lib/python3.10/site-packages/Cython/Compiler/Main.py:381: FutureWarning: Cython directive 'language_level' not set, using '3str' for now (Py3). This has changed from earlier releases! File: /kaggle/working/Recommenders/Similarity/Cython/Compute_Similarity_Cython.pyx\n",
      "  tree = Parsing.p_module(s, pxd, full_module_name)\n",
      "Compiling [3/10]: Compute_Similarity_Cython.pyx... PASS\n",
      "\n",
      "Compiling [4/10]: SLIM_BPR_Cython_Epoch.pyx... \n",
      "warning: SLIM_BPR_Cython_Epoch.pyx:626:34: Non-trivial type declarators in shared declaration (e.g. mix of pointers and values). Each pointer declaration should be on its own line.\n",
      "warning: SLIM_BPR_Cython_Epoch.pyx:626:66: Non-trivial type declarators in shared declaration (e.g. mix of pointers and values). Each pointer declaration should be on its own line.\n",
      "warning: SLIM_BPR_Cython_Epoch.pyx:811:35: Non-trivial type declarators in shared declaration (e.g. mix of pointers and values). Each pointer declaration should be on its own line.\n",
      "warning: SLIM_BPR_Cython_Epoch.pyx:811:52: Non-trivial type declarators in shared declaration (e.g. mix of pointers and values). Each pointer declaration should be on its own line.\n",
      "warning: SLIM_BPR_Cython_Epoch.pyx:910:35: Non-trivial type declarators in shared declaration (e.g. mix of pointers and values). Each pointer declaration should be on its own line.\n",
      "warning: SLIM_BPR_Cython_Epoch.pyx:910:53: Non-trivial type declarators in shared declaration (e.g. mix of pointers and values). Each pointer declaration should be on its own line.\n",
      "warning: SLIM_BPR_Cython_Epoch.pyx:910:69: Non-trivial type declarators in shared declaration (e.g. mix of pointers and values). Each pointer declaration should be on its own line.\n",
      "warning: SLIM_BPR_Cython_Epoch.pyx:1045:35: Non-trivial type declarators in shared declaration (e.g. mix of pointers and values). Each pointer declaration should be on its own line.\n",
      "warning: SLIM_BPR_Cython_Epoch.pyx:1045:42: Non-trivial type declarators in shared declaration (e.g. mix of pointers and values). Each pointer declaration should be on its own line.\n",
      "warning: SLIM_BPR_Cython_Epoch.pyx:1046:35: Non-trivial type declarators in shared declaration (e.g. mix of pointers and values). Each pointer declaration should be on its own line.\n",
      "warning: SLIM_BPR_Cython_Epoch.pyx:1046:53: Non-trivial type declarators in shared declaration (e.g. mix of pointers and values). Each pointer declaration should be on its own line.\n",
      "In file included from \u001b[01m\u001b[K/opt/conda/lib/python3.10/site-packages/numpy/core/include/numpy/ndarraytypes.h:1940\u001b[m\u001b[K,\n",
      "                 from \u001b[01m\u001b[K/opt/conda/lib/python3.10/site-packages/numpy/core/include/numpy/ndarrayobject.h:12\u001b[m\u001b[K,\n",
      "                 from \u001b[01m\u001b[K/opt/conda/lib/python3.10/site-packages/numpy/core/include/numpy/arrayobject.h:5\u001b[m\u001b[K,\n",
      "                 from \u001b[01m\u001b[KSLIM_BPR_Cython_Epoch.c:1109\u001b[m\u001b[K:\n",
      "\u001b[01m\u001b[K/opt/conda/lib/python3.10/site-packages/numpy/core/include/numpy/npy_1_7_deprecated_api.h:17:2:\u001b[m\u001b[K \u001b[01;35m\u001b[Kwarning: \u001b[m\u001b[K#warning \"Using deprecated NumPy API, disable it with \" \"#define NPY_NO_DEPRECATED_API NPY_1_7_API_VERSION\" [\u001b[01;35m\u001b[K-Wcpp\u001b[m\u001b[K]\n",
      "   17 | #\u001b[01;35m\u001b[Kwarning\u001b[m\u001b[K \"Using deprecated NumPy API, disable it with \" \\\n",
      "      |  \u001b[01;35m\u001b[K^~~~~~~\u001b[m\u001b[K\n",
      "\u001b[01m\u001b[KSLIM_BPR_Cython_Epoch.c:\u001b[m\u001b[K In function ‘\u001b[01m\u001b[K__pyx_f_21SLIM_BPR_Cython_Epoch_22Sparse_Matrix_Tree_CSR_test_list_tee_conversion\u001b[m\u001b[K’:\n",
      "\u001b[01m\u001b[KSLIM_BPR_Cython_Epoch.c:28390:15:\u001b[m\u001b[K \u001b[01;35m\u001b[Kwarning: \u001b[m\u001b[K‘\u001b[01m\u001b[K__pyx_v_previous_element\u001b[m\u001b[K’ may be used uninitialized in this function [\u001b[01;35m\u001b[K-Wmaybe-uninitialized\u001b[m\u001b[K]\n",
      "28390 |     \u001b[01;35m\u001b[K__pyx_t_7 = __pyx_v_current_element->lower\u001b[m\u001b[K;\n",
      "      |     \u001b[01;35m\u001b[K~~~~~~~~~~^~~~~~~~~~~~~~~~~~~~~~~~~~~~~~~~\u001b[m\u001b[K\n",
      "/opt/conda/lib/python3.10/site-packages/Cython/Compiler/Main.py:381: FutureWarning: Cython directive 'language_level' not set, using '3str' for now (Py3). This has changed from earlier releases! File: /kaggle/working/Recommenders/SLIM/Cython/SLIM_BPR_Cython_Epoch.pyx\n",
      "  tree = Parsing.p_module(s, pxd, full_module_name)\n",
      "warning: SLIM_BPR_Cython_Epoch.pyx:626:34: Non-trivial type declarators in shared declaration (e.g. mix of pointers and values). Each pointer declaration should be on its own line.\n",
      "warning: SLIM_BPR_Cython_Epoch.pyx:626:66: Non-trivial type declarators in shared declaration (e.g. mix of pointers and values). Each pointer declaration should be on its own line.\n",
      "warning: SLIM_BPR_Cython_Epoch.pyx:811:35: Non-trivial type declarators in shared declaration (e.g. mix of pointers and values). Each pointer declaration should be on its own line.\n",
      "warning: SLIM_BPR_Cython_Epoch.pyx:811:52: Non-trivial type declarators in shared declaration (e.g. mix of pointers and values). Each pointer declaration should be on its own line.\n",
      "warning: SLIM_BPR_Cython_Epoch.pyx:910:35: Non-trivial type declarators in shared declaration (e.g. mix of pointers and values). Each pointer declaration should be on its own line.\n",
      "warning: SLIM_BPR_Cython_Epoch.pyx:910:53: Non-trivial type declarators in shared declaration (e.g. mix of pointers and values). Each pointer declaration should be on its own line.\n",
      "warning: SLIM_BPR_Cython_Epoch.pyx:910:69: Non-trivial type declarators in shared declaration (e.g. mix of pointers and values). Each pointer declaration should be on its own line.\n",
      "warning: SLIM_BPR_Cython_Epoch.pyx:1045:35: Non-trivial type declarators in shared declaration (e.g. mix of pointers and values). Each pointer declaration should be on its own line.\n",
      "warning: SLIM_BPR_Cython_Epoch.pyx:1045:42: Non-trivial type declarators in shared declaration (e.g. mix of pointers and values). Each pointer declaration should be on its own line.\n",
      "warning: SLIM_BPR_Cython_Epoch.pyx:1046:35: Non-trivial type declarators in shared declaration (e.g. mix of pointers and values). Each pointer declaration should be on its own line.\n",
      "warning: SLIM_BPR_Cython_Epoch.pyx:1046:53: Non-trivial type declarators in shared declaration (e.g. mix of pointers and values). Each pointer declaration should be on its own line.\n",
      "Compiling [4/10]: SLIM_BPR_Cython_Epoch.pyx... PASS\n",
      "\n",
      "Compiling [5/10]: Sparse_Matrix_Tree_CSR.pyx... \n",
      "warning: Sparse_Matrix_Tree_CSR.pyx:132:34: Non-trivial type declarators in shared declaration (e.g. mix of pointers and values). Each pointer declaration should be on its own line.\n",
      "warning: Sparse_Matrix_Tree_CSR.pyx:132:66: Non-trivial type declarators in shared declaration (e.g. mix of pointers and values). Each pointer declaration should be on its own line.\n",
      "warning: Sparse_Matrix_Tree_CSR.pyx:343:35: Non-trivial type declarators in shared declaration (e.g. mix of pointers and values). Each pointer declaration should be on its own line.\n",
      "warning: Sparse_Matrix_Tree_CSR.pyx:343:52: Non-trivial type declarators in shared declaration (e.g. mix of pointers and values). Each pointer declaration should be on its own line.\n",
      "warning: Sparse_Matrix_Tree_CSR.pyx:442:35: Non-trivial type declarators in shared declaration (e.g. mix of pointers and values). Each pointer declaration should be on its own line.\n",
      "warning: Sparse_Matrix_Tree_CSR.pyx:442:53: Non-trivial type declarators in shared declaration (e.g. mix of pointers and values). Each pointer declaration should be on its own line.\n",
      "warning: Sparse_Matrix_Tree_CSR.pyx:442:69: Non-trivial type declarators in shared declaration (e.g. mix of pointers and values). Each pointer declaration should be on its own line.\n",
      "warning: Sparse_Matrix_Tree_CSR.pyx:577:35: Non-trivial type declarators in shared declaration (e.g. mix of pointers and values). Each pointer declaration should be on its own line.\n",
      "warning: Sparse_Matrix_Tree_CSR.pyx:577:42: Non-trivial type declarators in shared declaration (e.g. mix of pointers and values). Each pointer declaration should be on its own line.\n",
      "warning: Sparse_Matrix_Tree_CSR.pyx:578:35: Non-trivial type declarators in shared declaration (e.g. mix of pointers and values). Each pointer declaration should be on its own line.\n",
      "warning: Sparse_Matrix_Tree_CSR.pyx:578:53: Non-trivial type declarators in shared declaration (e.g. mix of pointers and values). Each pointer declaration should be on its own line.\n",
      "In file included from \u001b[01m\u001b[K/opt/conda/lib/python3.10/site-packages/numpy/core/include/numpy/ndarraytypes.h:1940\u001b[m\u001b[K,\n",
      "                 from \u001b[01m\u001b[K/opt/conda/lib/python3.10/site-packages/numpy/core/include/numpy/ndarrayobject.h:12\u001b[m\u001b[K,\n",
      "                 from \u001b[01m\u001b[K/opt/conda/lib/python3.10/site-packages/numpy/core/include/numpy/arrayobject.h:5\u001b[m\u001b[K,\n",
      "                 from \u001b[01m\u001b[KSparse_Matrix_Tree_CSR.c:1109\u001b[m\u001b[K:\n",
      "\u001b[01m\u001b[K/opt/conda/lib/python3.10/site-packages/numpy/core/include/numpy/npy_1_7_deprecated_api.h:17:2:\u001b[m\u001b[K \u001b[01;35m\u001b[Kwarning: \u001b[m\u001b[K#warning \"Using deprecated NumPy API, disable it with \" \"#define NPY_NO_DEPRECATED_API NPY_1_7_API_VERSION\" [\u001b[01;35m\u001b[K-Wcpp\u001b[m\u001b[K]\n",
      "   17 | #\u001b[01;35m\u001b[Kwarning\u001b[m\u001b[K \"Using deprecated NumPy API, disable it with \" \\\n",
      "      |  \u001b[01;35m\u001b[K^~~~~~~\u001b[m\u001b[K\n",
      "\u001b[01m\u001b[KSparse_Matrix_Tree_CSR.c:\u001b[m\u001b[K In function ‘\u001b[01m\u001b[K__pyx_f_22Sparse_Matrix_Tree_CSR_22Sparse_Matrix_Tree_CSR_test_list_tree_conversion\u001b[m\u001b[K’:\n",
      "\u001b[01m\u001b[KSparse_Matrix_Tree_CSR.c:8499:15:\u001b[m\u001b[K \u001b[01;35m\u001b[Kwarning: \u001b[m\u001b[K‘\u001b[01m\u001b[K__pyx_v_previous_element\u001b[m\u001b[K’ may be used uninitialized in this function [\u001b[01;35m\u001b[K-Wmaybe-uninitialized\u001b[m\u001b[K]\n",
      " 8499 |     \u001b[01;35m\u001b[K__pyx_t_7 = __pyx_v_current_element->lower\u001b[m\u001b[K;\n",
      "      |     \u001b[01;35m\u001b[K~~~~~~~~~~^~~~~~~~~~~~~~~~~~~~~~~~~~~~~~~~\u001b[m\u001b[K\n",
      "/opt/conda/lib/python3.10/site-packages/Cython/Compiler/Main.py:381: FutureWarning: Cython directive 'language_level' not set, using '3str' for now (Py3). This has changed from earlier releases! File: /kaggle/working/Recommenders/SLIM/Cython/Sparse_Matrix_Tree_CSR.pyx\n",
      "  tree = Parsing.p_module(s, pxd, full_module_name)\n",
      "warning: Sparse_Matrix_Tree_CSR.pyx:132:34: Non-trivial type declarators in shared declaration (e.g. mix of pointers and values). Each pointer declaration should be on its own line.\n",
      "warning: Sparse_Matrix_Tree_CSR.pyx:132:66: Non-trivial type declarators in shared declaration (e.g. mix of pointers and values). Each pointer declaration should be on its own line.\n",
      "warning: Sparse_Matrix_Tree_CSR.pyx:343:35: Non-trivial type declarators in shared declaration (e.g. mix of pointers and values). Each pointer declaration should be on its own line.\n",
      "warning: Sparse_Matrix_Tree_CSR.pyx:343:52: Non-trivial type declarators in shared declaration (e.g. mix of pointers and values). Each pointer declaration should be on its own line.\n",
      "warning: Sparse_Matrix_Tree_CSR.pyx:442:35: Non-trivial type declarators in shared declaration (e.g. mix of pointers and values). Each pointer declaration should be on its own line.\n",
      "warning: Sparse_Matrix_Tree_CSR.pyx:442:53: Non-trivial type declarators in shared declaration (e.g. mix of pointers and values). Each pointer declaration should be on its own line.\n",
      "warning: Sparse_Matrix_Tree_CSR.pyx:442:69: Non-trivial type declarators in shared declaration (e.g. mix of pointers and values). Each pointer declaration should be on its own line.\n",
      "warning: Sparse_Matrix_Tree_CSR.pyx:577:35: Non-trivial type declarators in shared declaration (e.g. mix of pointers and values). Each pointer declaration should be on its own line.\n",
      "warning: Sparse_Matrix_Tree_CSR.pyx:577:42: Non-trivial type declarators in shared declaration (e.g. mix of pointers and values). Each pointer declaration should be on its own line.\n",
      "warning: Sparse_Matrix_Tree_CSR.pyx:578:35: Non-trivial type declarators in shared declaration (e.g. mix of pointers and values). Each pointer declaration should be on its own line.\n",
      "warning: Sparse_Matrix_Tree_CSR.pyx:578:53: Non-trivial type declarators in shared declaration (e.g. mix of pointers and values). Each pointer declaration should be on its own line.\n",
      "Compiling [5/10]: Sparse_Matrix_Tree_CSR.pyx... PASS\n",
      "\n",
      "Compiling [6/10]: Triangular_Matrix.pyx... \n",
      "In file included from \u001b[01m\u001b[K/opt/conda/lib/python3.10/site-packages/numpy/core/include/numpy/ndarraytypes.h:1940\u001b[m\u001b[K,\n",
      "                 from \u001b[01m\u001b[K/opt/conda/lib/python3.10/site-packages/numpy/core/include/numpy/ndarrayobject.h:12\u001b[m\u001b[K,\n",
      "                 from \u001b[01m\u001b[K/opt/conda/lib/python3.10/site-packages/numpy/core/include/numpy/arrayobject.h:5\u001b[m\u001b[K,\n",
      "                 from \u001b[01m\u001b[KTriangular_Matrix.c:1109\u001b[m\u001b[K:\n",
      "\u001b[01m\u001b[K/opt/conda/lib/python3.10/site-packages/numpy/core/include/numpy/npy_1_7_deprecated_api.h:17:2:\u001b[m\u001b[K \u001b[01;35m\u001b[Kwarning: \u001b[m\u001b[K#warning \"Using deprecated NumPy API, disable it with \" \"#define NPY_NO_DEPRECATED_API NPY_1_7_API_VERSION\" [\u001b[01;35m\u001b[K-Wcpp\u001b[m\u001b[K]\n",
      "   17 | #\u001b[01;35m\u001b[Kwarning\u001b[m\u001b[K \"Using deprecated NumPy API, disable it with \" \\\n",
      "      |  \u001b[01;35m\u001b[K^~~~~~~\u001b[m\u001b[K\n",
      "/opt/conda/lib/python3.10/site-packages/Cython/Compiler/Main.py:381: FutureWarning: Cython directive 'language_level' not set, using '3str' for now (Py3). This has changed from earlier releases! File: /kaggle/working/Recommenders/SLIM/Cython/Triangular_Matrix.pyx\n",
      "  tree = Parsing.p_module(s, pxd, full_module_name)\n",
      "Compiling [6/10]: Triangular_Matrix.pyx... PASS\n",
      "\n",
      "Compiling [7/10]: CFW_DVV_Similarity_Cython_SGD.pyx... \n",
      "In file included from \u001b[01m\u001b[K/opt/conda/lib/python3.10/site-packages/numpy/core/include/numpy/ndarraytypes.h:1940\u001b[m\u001b[K,\n",
      "                 from \u001b[01m\u001b[K/opt/conda/lib/python3.10/site-packages/numpy/core/include/numpy/ndarrayobject.h:12\u001b[m\u001b[K,\n",
      "                 from \u001b[01m\u001b[K/opt/conda/lib/python3.10/site-packages/numpy/core/include/numpy/arrayobject.h:5\u001b[m\u001b[K,\n",
      "                 from \u001b[01m\u001b[KCFW_DVV_Similarity_Cython_SGD.c:1109\u001b[m\u001b[K:\n",
      "\u001b[01m\u001b[K/opt/conda/lib/python3.10/site-packages/numpy/core/include/numpy/npy_1_7_deprecated_api.h:17:2:\u001b[m\u001b[K \u001b[01;35m\u001b[Kwarning: \u001b[m\u001b[K#warning \"Using deprecated NumPy API, disable it with \" \"#define NPY_NO_DEPRECATED_API NPY_1_7_API_VERSION\" [\u001b[01;35m\u001b[K-Wcpp\u001b[m\u001b[K]\n",
      "   17 | #\u001b[01;35m\u001b[Kwarning\u001b[m\u001b[K \"Using deprecated NumPy API, disable it with \" \\\n",
      "      |  \u001b[01;35m\u001b[K^~~~~~~\u001b[m\u001b[K\n",
      "/opt/conda/lib/python3.10/site-packages/Cython/Compiler/Main.py:381: FutureWarning: Cython directive 'language_level' not set, using '3str' for now (Py3). This has changed from earlier releases! File: /kaggle/working/Recommenders/FeatureWeighting/Cython/CFW_DVV_Similarity_Cython_SGD.pyx\n",
      "  tree = Parsing.p_module(s, pxd, full_module_name)\n",
      "Compiling [7/10]: CFW_DVV_Similarity_Cython_SGD.pyx... PASS\n",
      "\n",
      "Compiling [8/10]: FBSM_Rating_Cython_SGD.pyx... \n",
      "In file included from \u001b[01m\u001b[K/opt/conda/lib/python3.10/site-packages/numpy/core/include/numpy/ndarraytypes.h:1940\u001b[m\u001b[K,\n",
      "                 from \u001b[01m\u001b[K/opt/conda/lib/python3.10/site-packages/numpy/core/include/numpy/ndarrayobject.h:12\u001b[m\u001b[K,\n",
      "                 from \u001b[01m\u001b[K/opt/conda/lib/python3.10/site-packages/numpy/core/include/numpy/arrayobject.h:5\u001b[m\u001b[K,\n",
      "                 from \u001b[01m\u001b[KFBSM_Rating_Cython_SGD.c:1109\u001b[m\u001b[K:\n",
      "\u001b[01m\u001b[K/opt/conda/lib/python3.10/site-packages/numpy/core/include/numpy/npy_1_7_deprecated_api.h:17:2:\u001b[m\u001b[K \u001b[01;35m\u001b[Kwarning: \u001b[m\u001b[K#warning \"Using deprecated NumPy API, disable it with \" \"#define NPY_NO_DEPRECATED_API NPY_1_7_API_VERSION\" [\u001b[01;35m\u001b[K-Wcpp\u001b[m\u001b[K]\n",
      "   17 | #\u001b[01;35m\u001b[Kwarning\u001b[m\u001b[K \"Using deprecated NumPy API, disable it with \" \\\n",
      "      |  \u001b[01;35m\u001b[K^~~~~~~\u001b[m\u001b[K\n",
      "\u001b[01m\u001b[KFBSM_Rating_Cython_SGD.c:\u001b[m\u001b[K In function ‘\u001b[01m\u001b[K__pyx_pf_22FBSM_Rating_Cython_SGD_22FBSM_Rating_Cython_SGD_2fit\u001b[m\u001b[K’:\n",
      "\u001b[01m\u001b[KFBSM_Rating_Cython_SGD.c:25812:55:\u001b[m\u001b[K \u001b[01;35m\u001b[Kwarning: \u001b[m\u001b[K‘\u001b[01m\u001b[K__pyx_v_num_sample\u001b[m\u001b[K’ may be used uninitialized in this function [\u001b[01;35m\u001b[K-Wmaybe-uninitialized\u001b[m\u001b[K]\n",
      "25812 |   __pyx_t_2 = PyFloat_FromDouble((__pyx_v_cum_loss / \u001b[01;35m\u001b[K((double)__pyx_v_num_sample)\u001b[m\u001b[K)); if (unlikely(!__pyx_t_2)) __PYX_ERR(0, 551, __pyx_L1_error)\n",
      "      |                                                      \u001b[01;35m\u001b[K~^~~~~~~~~~~~~~~~~~~~~~~~~~~\u001b[m\u001b[K\n",
      "/opt/conda/lib/python3.10/site-packages/Cython/Compiler/Main.py:381: FutureWarning: Cython directive 'language_level' not set, using '3str' for now (Py3). This has changed from earlier releases! File: /kaggle/working/Recommenders/FeatureWeighting/Cython/FBSM_Rating_Cython_SGD.pyx\n",
      "  tree = Parsing.p_module(s, pxd, full_module_name)\n",
      "Compiling [8/10]: FBSM_Rating_Cython_SGD.pyx... PASS\n",
      "\n",
      "Compiling [9/10]: HP3_Similarity_Cython_SGD.pyx... \n",
      "warning: HP3_Similarity_Cython_SGD.pyx:113:40: Index should be typed for more efficient access\n",
      "In file included from \u001b[01m\u001b[K/opt/conda/lib/python3.10/site-packages/numpy/core/include/numpy/ndarraytypes.h:1940\u001b[m\u001b[K,\n",
      "                 from \u001b[01m\u001b[K/opt/conda/lib/python3.10/site-packages/numpy/core/include/numpy/ndarrayobject.h:12\u001b[m\u001b[K,\n",
      "                 from \u001b[01m\u001b[K/opt/conda/lib/python3.10/site-packages/numpy/core/include/numpy/arrayobject.h:5\u001b[m\u001b[K,\n",
      "                 from \u001b[01m\u001b[KHP3_Similarity_Cython_SGD.c:1109\u001b[m\u001b[K:\n",
      "\u001b[01m\u001b[K/opt/conda/lib/python3.10/site-packages/numpy/core/include/numpy/npy_1_7_deprecated_api.h:17:2:\u001b[m\u001b[K \u001b[01;35m\u001b[Kwarning: \u001b[m\u001b[K#warning \"Using deprecated NumPy API, disable it with \" \"#define NPY_NO_DEPRECATED_API NPY_1_7_API_VERSION\" [\u001b[01;35m\u001b[K-Wcpp\u001b[m\u001b[K]\n",
      "   17 | #\u001b[01;35m\u001b[Kwarning\u001b[m\u001b[K \"Using deprecated NumPy API, disable it with \" \\\n",
      "      |  \u001b[01;35m\u001b[K^~~~~~~\u001b[m\u001b[K\n",
      "\u001b[01m\u001b[KHP3_Similarity_Cython_SGD.c:\u001b[m\u001b[K In function ‘\u001b[01m\u001b[K__pyx_pf_25HP3_Similarity_Cython_SGD_25HP3_Similarity_Cython_SGD_4fit\u001b[m\u001b[K’:\n",
      "\u001b[01m\u001b[KHP3_Similarity_Cython_SGD.c:22910:55:\u001b[m\u001b[K \u001b[01;35m\u001b[Kwarning: \u001b[m\u001b[K‘\u001b[01m\u001b[K__pyx_v_sample_num\u001b[m\u001b[K’ may be used uninitialized in this function [\u001b[01;35m\u001b[K-Wmaybe-uninitialized\u001b[m\u001b[K]\n",
      "22910 |   __pyx_t_2 = PyFloat_FromDouble((__pyx_v_cum_loss / \u001b[01;35m\u001b[K((double)__pyx_v_sample_num)\u001b[m\u001b[K)); if (unlikely(!__pyx_t_2)) __PYX_ERR(0, 291, __pyx_L1_error)\n",
      "      |                                                      \u001b[01;35m\u001b[K~^~~~~~~~~~~~~~~~~~~~~~~~~~~\u001b[m\u001b[K\n",
      "/opt/conda/lib/python3.10/site-packages/Cython/Compiler/Main.py:381: FutureWarning: Cython directive 'language_level' not set, using '3str' for now (Py3). This has changed from earlier releases! File: /kaggle/working/Recommenders/FeatureWeighting/Cython/HP3_Similarity_Cython_SGD.pyx\n",
      "  tree = Parsing.p_module(s, pxd, full_module_name)\n",
      "warning: HP3_Similarity_Cython_SGD.pyx:113:40: Index should be typed for more efficient access\n",
      "Compiling [9/10]: HP3_Similarity_Cython_SGD.pyx... PASS\n",
      "\n",
      "Compiling [10/10]: CFW_D_Similarity_Cython_SGD.pyx... \n",
      "In file included from \u001b[01m\u001b[K/opt/conda/lib/python3.10/site-packages/numpy/core/include/numpy/ndarraytypes.h:1940\u001b[m\u001b[K,\n",
      "                 from \u001b[01m\u001b[K/opt/conda/lib/python3.10/site-packages/numpy/core/include/numpy/ndarrayobject.h:12\u001b[m\u001b[K,\n",
      "                 from \u001b[01m\u001b[K/opt/conda/lib/python3.10/site-packages/numpy/core/include/numpy/arrayobject.h:5\u001b[m\u001b[K,\n",
      "                 from \u001b[01m\u001b[KCFW_D_Similarity_Cython_SGD.c:1109\u001b[m\u001b[K:\n",
      "\u001b[01m\u001b[K/opt/conda/lib/python3.10/site-packages/numpy/core/include/numpy/npy_1_7_deprecated_api.h:17:2:\u001b[m\u001b[K \u001b[01;35m\u001b[Kwarning: \u001b[m\u001b[K#warning \"Using deprecated NumPy API, disable it with \" \"#define NPY_NO_DEPRECATED_API NPY_1_7_API_VERSION\" [\u001b[01;35m\u001b[K-Wcpp\u001b[m\u001b[K]\n",
      "   17 | #\u001b[01;35m\u001b[Kwarning\u001b[m\u001b[K \"Using deprecated NumPy API, disable it with \" \\\n",
      "      |  \u001b[01;35m\u001b[K^~~~~~~\u001b[m\u001b[K\n",
      "\u001b[01m\u001b[KCFW_D_Similarity_Cython_SGD.c:\u001b[m\u001b[K In function ‘\u001b[01m\u001b[K__pyx_pf_27CFW_D_Similarity_Cython_SGD_27CFW_D_Similarity_Cython_SGD_6fit\u001b[m\u001b[K’:\n",
      "\u001b[01m\u001b[KCFW_D_Similarity_Cython_SGD.c:22636:55:\u001b[m\u001b[K \u001b[01;35m\u001b[Kwarning: \u001b[m\u001b[K‘\u001b[01m\u001b[K__pyx_v_sample_num\u001b[m\u001b[K’ may be used uninitialized in this function [\u001b[01;35m\u001b[K-Wmaybe-uninitialized\u001b[m\u001b[K]\n",
      "22636 |   __pyx_t_2 = PyFloat_FromDouble((__pyx_v_cum_loss / \u001b[01;35m\u001b[K((double)__pyx_v_sample_num)\u001b[m\u001b[K)); if (unlikely(!__pyx_t_2)) __PYX_ERR(0, 290, __pyx_L1_error)\n",
      "      |                                                      \u001b[01;35m\u001b[K~^~~~~~~~~~~~~~~~~~~~~~~~~~~\u001b[m\u001b[K\n",
      "/opt/conda/lib/python3.10/site-packages/Cython/Compiler/Main.py:381: FutureWarning: Cython directive 'language_level' not set, using '3str' for now (Py3). This has changed from earlier releases! File: /kaggle/working/Recommenders/FeatureWeighting/Cython/CFW_D_Similarity_Cython_SGD.pyx\n",
      "  tree = Parsing.p_module(s, pxd, full_module_name)\n",
      "Compiling [10/10]: CFW_D_Similarity_Cython_SGD.pyx... PASS\n",
      "\n",
      "run_compile_all_cython: Compilation finished. SUCCESS.\n",
      "Compilation log can be found here: './result_experiments/run_compile_all_cython.txt'\n"
     ]
    }
   ],
   "source": [
    "!python run_compile_all_cython.py"
   ]
  },
  {
   "cell_type": "markdown",
   "metadata": {},
   "source": [
    "# Imports"
   ]
  },
  {
   "cell_type": "code",
   "execution_count": 5,
   "metadata": {
    "execution": {
     "iopub.execute_input": "2023-12-07T08:55:29.384262Z",
     "iopub.status.busy": "2023-12-07T08:55:29.383920Z",
     "iopub.status.idle": "2023-12-07T08:55:31.375387Z",
     "shell.execute_reply": "2023-12-07T08:55:31.374098Z",
     "shell.execute_reply.started": "2023-12-07T08:55:29.384233Z"
    }
   },
   "outputs": [],
   "source": [
    "import time\n",
    "import optuna\n",
    "import numpy as np\n",
    "import pandas as pd\n",
    "import scipy.sparse as sps\n",
    "from scipy.sparse import vstack, csr_matrix\n",
    "from scipy.stats import loguniform\n",
    "from lightfm import LightFM\n",
    "from lightfm.evaluation import auc_score, precision_at_k\n",
    "import matplotlib.pyplot as plt\n",
    "from multiprocessing import cpu_count"
   ]
  },
  {
   "cell_type": "code",
   "execution_count": 6,
   "metadata": {
    "execution": {
     "iopub.execute_input": "2023-12-07T08:55:31.377386Z",
     "iopub.status.busy": "2023-12-07T08:55:31.376773Z",
     "iopub.status.idle": "2023-12-07T08:55:32.045580Z",
     "shell.execute_reply": "2023-12-07T08:55:32.044470Z",
     "shell.execute_reply.started": "2023-12-07T08:55:31.377351Z"
    }
   },
   "outputs": [],
   "source": [
    "from Recommenders.BaseRecommender import BaseRecommender\n",
    "from Recommenders.BaseMatrixFactorizationRecommender import BaseMatrixFactorizationRecommender\n",
    "from Recommenders.NonPersonalizedRecommender import TopPop\n",
    "\n",
    "#---- CF\n",
    "from Recommenders.KNN.ItemKNNCFRecommender import ItemKNNCFRecommender\n",
    "from Recommenders.KNN.UserKNNCFRecommender import UserKNNCFRecommender\n",
    "from Recommenders.GraphBased.RP3betaRecommender import RP3betaRecommender\n",
    "from Recommenders.KNN.ItemKNNCustomSimilarityRecommender import ItemKNNCustomSimilarityRecommender\n",
    "\n",
    "#---- Matrix Factorization\n",
    "from Recommenders.MatrixFactorization.NMFRecommender import NMFRecommender\n",
    "\n",
    "#---- CF w/ ML\n",
    "from Recommenders.SLIM.SLIMElasticNetRecommender import SLIMElasticNetRecommender, MultiThreadSLIM_SLIMElasticNetRecommender\n",
    "from implicit.als import AlternatingLeastSquares\n",
    "\n",
    "#---- Others\n",
    "from Data_manager.split_functions.split_train_validation_random_holdout import split_train_in_two_percentage_global_sample\n",
    "from Evaluation.Evaluator import EvaluatorHoldout\n",
    "from Recommenders.Recommender_utils import check_matrix"
   ]
  },
  {
   "cell_type": "code",
   "execution_count": 7,
   "metadata": {
    "execution": {
     "iopub.execute_input": "2023-12-07T08:55:32.048578Z",
     "iopub.status.busy": "2023-12-07T08:55:32.047054Z",
     "iopub.status.idle": "2023-12-07T08:55:32.054468Z",
     "shell.execute_reply": "2023-12-07T08:55:32.053009Z",
     "shell.execute_reply.started": "2023-12-07T08:55:32.048524Z"
    }
   },
   "outputs": [],
   "source": [
    "seed = 69\n",
    "np.random.seed(seed)"
   ]
  },
  {
   "cell_type": "markdown",
   "metadata": {},
   "source": [
    "# Data Import and Preprocessing"
   ]
  },
  {
   "cell_type": "code",
   "execution_count": 8,
   "metadata": {
    "execution": {
     "iopub.execute_input": "2023-12-07T08:55:32.057138Z",
     "iopub.status.busy": "2023-12-07T08:55:32.056518Z",
     "iopub.status.idle": "2023-12-07T08:55:33.957722Z",
     "shell.execute_reply": "2023-12-07T08:55:33.956009Z",
     "shell.execute_reply.started": "2023-12-07T08:55:32.057101Z"
    }
   },
   "outputs": [],
   "source": [
    "# Import training data\n",
    "URM_path = \"../input/data-books/data_train.csv\"\n",
    "URM_all_dataframe = pd.read_csv(filepath_or_buffer=URM_path,\n",
    "                                header=0,\n",
    "                                dtype={0:int, 1:int, 2:int},\n",
    "                                engine='python')\n",
    "\n",
    "URM_all_dataframe.columns = [\"user_id\", \"item_id\", \"interaction\"]"
   ]
  },
  {
   "cell_type": "code",
   "execution_count": 9,
   "metadata": {
    "execution": {
     "iopub.execute_input": "2023-12-07T08:55:33.960807Z",
     "iopub.status.busy": "2023-12-07T08:55:33.959610Z",
     "iopub.status.idle": "2023-12-07T08:55:34.014767Z",
     "shell.execute_reply": "2023-12-07T08:55:34.013861Z",
     "shell.execute_reply.started": "2023-12-07T08:55:33.960771Z"
    }
   },
   "outputs": [
    {
     "data": {
      "text/html": [
       "<div>\n",
       "<style scoped>\n",
       "    .dataframe tbody tr th:only-of-type {\n",
       "        vertical-align: middle;\n",
       "    }\n",
       "\n",
       "    .dataframe tbody tr th {\n",
       "        vertical-align: top;\n",
       "    }\n",
       "\n",
       "    .dataframe thead th {\n",
       "        text-align: right;\n",
       "    }\n",
       "</style>\n",
       "<table border=\"1\" class=\"dataframe\">\n",
       "  <thead>\n",
       "    <tr style=\"text-align: right;\">\n",
       "      <th></th>\n",
       "      <th>user_id</th>\n",
       "    </tr>\n",
       "  </thead>\n",
       "  <tbody>\n",
       "    <tr>\n",
       "      <th>0</th>\n",
       "      <td>1</td>\n",
       "    </tr>\n",
       "    <tr>\n",
       "      <th>1</th>\n",
       "      <td>2</td>\n",
       "    </tr>\n",
       "    <tr>\n",
       "      <th>2</th>\n",
       "      <td>3</td>\n",
       "    </tr>\n",
       "    <tr>\n",
       "      <th>3</th>\n",
       "      <td>4</td>\n",
       "    </tr>\n",
       "    <tr>\n",
       "      <th>4</th>\n",
       "      <td>5</td>\n",
       "    </tr>\n",
       "    <tr>\n",
       "      <th>...</th>\n",
       "      <td>...</td>\n",
       "    </tr>\n",
       "    <tr>\n",
       "      <th>10877</th>\n",
       "      <td>13020</td>\n",
       "    </tr>\n",
       "    <tr>\n",
       "      <th>10878</th>\n",
       "      <td>13021</td>\n",
       "    </tr>\n",
       "    <tr>\n",
       "      <th>10879</th>\n",
       "      <td>13022</td>\n",
       "    </tr>\n",
       "    <tr>\n",
       "      <th>10880</th>\n",
       "      <td>13023</td>\n",
       "    </tr>\n",
       "    <tr>\n",
       "      <th>10881</th>\n",
       "      <td>13024</td>\n",
       "    </tr>\n",
       "  </tbody>\n",
       "</table>\n",
       "<p>10882 rows × 1 columns</p>\n",
       "</div>"
      ],
      "text/plain": [
       "       user_id\n",
       "0            1\n",
       "1            2\n",
       "2            3\n",
       "3            4\n",
       "4            5\n",
       "...        ...\n",
       "10877    13020\n",
       "10878    13021\n",
       "10879    13022\n",
       "10880    13023\n",
       "10881    13024\n",
       "\n",
       "[10882 rows x 1 columns]"
      ]
     },
     "execution_count": 9,
     "metadata": {},
     "output_type": "execute_result"
    }
   ],
   "source": [
    "# Import target users\n",
    "target_path = \"../input/data-books/data_target_users_test.csv\"\n",
    "target_dataframe= pd.read_csv(filepath_or_buffer=target_path,\n",
    "                                header=0,\n",
    "                                dtype={0:int},\n",
    "                                engine='python')\n",
    "target_dataframe.columns = [\"user_id\"]\n",
    "target_dataframe"
   ]
  },
  {
   "cell_type": "code",
   "execution_count": 10,
   "metadata": {
    "execution": {
     "iopub.execute_input": "2023-12-07T08:55:34.019499Z",
     "iopub.status.busy": "2023-12-07T08:55:34.018700Z",
     "iopub.status.idle": "2023-12-07T08:55:34.027546Z",
     "shell.execute_reply": "2023-12-07T08:55:34.026014Z",
     "shell.execute_reply.started": "2023-12-07T08:55:34.019463Z"
    }
   },
   "outputs": [],
   "source": [
    "def preprocess_data(ratings: pd.DataFrame):\n",
    "    unique_users = ratings.user_id.unique()\n",
    "    unique_items = ratings.item_id.unique()\n",
    "\n",
    "    num_users, min_user_id, max_user_id = unique_users.size, unique_users.min(), unique_users.max()\n",
    "    num_items, min_item_id, max_item_id = unique_items.size, unique_items.min(), unique_items.max()\n",
    "\n",
    "    print(num_users, min_user_id, max_user_id)\n",
    "    print(num_items, min_item_id, max_item_id)\n",
    "\n",
    "    mapping_user_id = pd.DataFrame({\"mapped_user_id\": np.arange(num_users), \"user_id\": unique_users})\n",
    "    mapping_item_id = pd.DataFrame({\"mapped_item_id\": np.arange(num_items), \"item_id\": unique_items})\n",
    "\n",
    "    ratings = pd.merge(left=ratings,\n",
    "                       right=mapping_user_id,\n",
    "                       how=\"inner\",\n",
    "                       on=\"user_id\")\n",
    "\n",
    "    ratings = pd.merge(left=ratings,\n",
    "                       right=mapping_item_id,\n",
    "                       how=\"inner\",\n",
    "                       on=\"item_id\")\n",
    "\n",
    "    return ratings"
   ]
  },
  {
   "cell_type": "code",
   "execution_count": 11,
   "metadata": {
    "execution": {
     "iopub.execute_input": "2023-12-07T08:55:34.029595Z",
     "iopub.status.busy": "2023-12-07T08:55:34.029200Z",
     "iopub.status.idle": "2023-12-07T08:55:34.146432Z",
     "shell.execute_reply": "2023-12-07T08:55:34.145216Z",
     "shell.execute_reply.started": "2023-12-07T08:55:34.029562Z"
    }
   },
   "outputs": [
    {
     "name": "stdout",
     "output_type": "stream",
     "text": [
      "12638 1 13024\n",
      "22222 1 22347\n"
     ]
    }
   ],
   "source": [
    "# Call preprocess data function\n",
    "ratings = preprocess_data(URM_all_dataframe)"
   ]
  },
  {
   "cell_type": "markdown",
   "metadata": {},
   "source": [
    "## Conversion to Sparse Matrix"
   ]
  },
  {
   "cell_type": "code",
   "execution_count": 12,
   "metadata": {
    "execution": {
     "iopub.execute_input": "2023-12-07T08:55:34.150777Z",
     "iopub.status.busy": "2023-12-07T08:55:34.150409Z",
     "iopub.status.idle": "2023-12-07T08:55:34.159381Z",
     "shell.execute_reply": "2023-12-07T08:55:34.157990Z",
     "shell.execute_reply.started": "2023-12-07T08:55:34.150748Z"
    }
   },
   "outputs": [],
   "source": [
    "URM = sps.coo_matrix((ratings.interaction.values, (ratings.mapped_user_id.values, ratings.mapped_item_id.values)))"
   ]
  },
  {
   "cell_type": "markdown",
   "metadata": {},
   "source": [
    "## Data Splits"
   ]
  },
  {
   "cell_type": "code",
   "execution_count": 13,
   "metadata": {
    "execution": {
     "iopub.execute_input": "2023-12-07T08:55:34.161494Z",
     "iopub.status.busy": "2023-12-07T08:55:34.161090Z",
     "iopub.status.idle": "2023-12-07T08:55:34.936521Z",
     "shell.execute_reply": "2023-12-07T08:55:34.934901Z",
     "shell.execute_reply.started": "2023-12-07T08:55:34.161467Z"
    }
   },
   "outputs": [
    {
     "name": "stdout",
     "output_type": "stream",
     "text": [
      "Warning: 240 (1.90 %) of 12638 users have no train items\n",
      "Warning: 2127 (16.83 %) of 12638 users have no sampled items\n",
      "EvaluatorHoldout: Ignoring 2127 (16.8%) Users that have less than 1 test interactions\n"
     ]
    }
   ],
   "source": [
    "#urm_train, urm_test = split_train_in_two_percentage_global_sample(URM, train_percentage = 0.80)\n",
    "urm_train, urm_validation = split_train_in_two_percentage_global_sample(URM, train_percentage = 0.80)\n",
    "\n",
    "evaluator_validation = EvaluatorHoldout(urm_validation, cutoff_list=[10])\n",
    "#evaluator_test = EvaluatorHoldout(urm_test, cutoff_list=[10])"
   ]
  },
  {
   "cell_type": "markdown",
   "metadata": {},
   "source": [
    "# **Custom Models**"
   ]
  },
  {
   "cell_type": "code",
   "execution_count": 14,
   "metadata": {
    "execution": {
     "iopub.execute_input": "2023-12-07T08:55:34.939004Z",
     "iopub.status.busy": "2023-12-07T08:55:34.938615Z",
     "iopub.status.idle": "2023-12-07T08:55:34.946866Z",
     "shell.execute_reply": "2023-12-07T08:55:34.945524Z",
     "shell.execute_reply.started": "2023-12-07T08:55:34.938944Z"
    }
   },
   "outputs": [],
   "source": [
    "class ScoresHybridRecommender(BaseRecommender):\n",
    "    \"\"\" ScoresHybridRecommender\n",
    "    Hybrid of two prediction scores R = R1*alpha + R2*(1-alpha)\n",
    "\n",
    "    \"\"\"\n",
    "\n",
    "    RECOMMENDER_NAME = \"ScoresHybridRecommender\"\n",
    "\n",
    "    def __init__(self, URM_train, recommender_1, recommender_2):\n",
    "        super(ScoresHybridRecommender, self).__init__(URM_train)\n",
    "\n",
    "        self.URM_train = sps.csr_matrix(URM_train)\n",
    "        self.recommender_1 = recommender_1\n",
    "        self.recommender_2 = recommender_2\n",
    "\n",
    "\n",
    "    def fit(self, alpha=0.5):\n",
    "        self.alpha = alpha\n",
    "\n",
    "    def _compute_item_score(self, user_id_array, items_to_compute):\n",
    "\n",
    "        # In a simple extension this could be a loop over a list of pretrained recommender objects\n",
    "        item_weights_1 = self.recommender_1._compute_item_score(user_id_array)\n",
    "        item_weights_2 = self.recommender_2._compute_item_score(user_id_array)\n",
    "\n",
    "        item_weights = item_weights_1*self.alpha + item_weights_2*(1-self.alpha)\n",
    "\n",
    "        return item_weights"
   ]
  },
  {
   "cell_type": "code",
   "execution_count": 15,
   "metadata": {
    "execution": {
     "iopub.execute_input": "2023-12-07T08:55:34.949215Z",
     "iopub.status.busy": "2023-12-07T08:55:34.948820Z",
     "iopub.status.idle": "2023-12-07T08:55:34.960474Z",
     "shell.execute_reply": "2023-12-07T08:55:34.959250Z",
     "shell.execute_reply.started": "2023-12-07T08:55:34.949179Z"
    }
   },
   "outputs": [],
   "source": [
    "class LightFMCFRecommender(BaseRecommender):\n",
    "    \"\"\"LightFMCFRecommender\"\"\"\n",
    "\n",
    "    RECOMMENDER_NAME = \"LightFMCFRecommender\"\n",
    "\n",
    "    def __init__(self, URM_train):\n",
    "        super(LightFMCFRecommender, self).__init__(URM_train)\n",
    "    \n",
    "    \n",
    "    def fit(self, epochs = 300, user_alpha=1e-6, item_alpha = 1e-6, n_factors = 10, n_threads = 4, max_sampled=3, loss='warp', learning_schedule='adagrad'):\n",
    "        \n",
    "        # Let's fit a WARP model\n",
    "        self.lightFM_model = LightFM(loss=loss,\n",
    "                                     user_alpha=user_alpha,\n",
    "                                     item_alpha=item_alpha,\n",
    "                                     no_components=n_factors,\n",
    "                                     max_sampled=max_sampled,\n",
    "                                     learning_schedule=learning_schedule)\n",
    "\n",
    "        self.lightFM_model = self.lightFM_model.fit(self.URM_train, \n",
    "                                       epochs=epochs,\n",
    "                                       num_threads=n_threads,\n",
    "                                       verbose=True)\n",
    "\n",
    "\n",
    "    def _compute_item_score(self, user_id_array, items_to_compute = None):\n",
    "        \n",
    "        # Create a single (n_items, ) array with the item score, then copy it for every user\n",
    "        items_to_compute = np.arange(self.n_items)\n",
    "        \n",
    "        item_scores = - np.ones((len(user_id_array), self.n_items)) * np.inf\n",
    "\n",
    "        for user_index, user_id in enumerate(user_id_array):\n",
    "            item_scores[user_index] = self.lightFM_model.predict(int(user_id), \n",
    "                                                                 items_to_compute)\n",
    "\n",
    "        return item_scores"
   ]
  },
  {
   "cell_type": "code",
   "execution_count": 16,
   "metadata": {
    "execution": {
     "iopub.execute_input": "2023-12-07T08:55:34.962140Z",
     "iopub.status.busy": "2023-12-07T08:55:34.961794Z",
     "iopub.status.idle": "2023-12-07T08:55:34.977582Z",
     "shell.execute_reply": "2023-12-07T08:55:34.975916Z",
     "shell.execute_reply.started": "2023-12-07T08:55:34.962112Z"
    }
   },
   "outputs": [],
   "source": [
    "class GeneralizedLinearHybridRecommender(BaseRecommender):\n",
    "    \"\"\"\n",
    "    This recommender merges N recommendes by weighting their ratings\n",
    "    \"\"\"\n",
    "\n",
    "    RECOMMENDER_NAME = \"GeneralizedLinearHybridRecommender\"\n",
    "\n",
    "    def __init__(self, URM_train, recommenders: list, verbose=True):\n",
    "        self.RECOMMENDER_NAME = ''\n",
    "        for recommender in recommenders:\n",
    "            self.RECOMMENDER_NAME = self.RECOMMENDER_NAME + recommender.RECOMMENDER_NAME[:-11]\n",
    "        self.RECOMMENDER_NAME = self.RECOMMENDER_NAME + 'HybridRecommender'\n",
    "\n",
    "        super(GeneralizedLinearHybridRecommender, self).__init__(URM_train, verbose=verbose)\n",
    "\n",
    "        self.recommenders = recommenders\n",
    "\n",
    "    def fit(self, alphas=None):\n",
    "        self.alphas = alphas\n",
    "\n",
    "    def save_model(self, folder_path, file_name=None):\n",
    "        pass\n",
    "\n",
    "    def _compute_item_score(self, user_id_array, items_to_compute=None):\n",
    "        result = self.alphas[0]*self.recommenders[0]._compute_item_score(user_id_array,items_to_compute)\n",
    "        for index in range(1,len(self.alphas)):\n",
    "            result = result + self.alphas[index]*self.recommenders[index]._compute_item_score(user_id_array,items_to_compute)\n",
    "        return result"
   ]
  },
  {
   "cell_type": "code",
   "execution_count": 17,
   "metadata": {
    "execution": {
     "iopub.execute_input": "2023-12-07T08:55:34.979423Z",
     "iopub.status.busy": "2023-12-07T08:55:34.979073Z",
     "iopub.status.idle": "2023-12-07T08:55:34.996018Z",
     "shell.execute_reply": "2023-12-07T08:55:34.994410Z",
     "shell.execute_reply.started": "2023-12-07T08:55:34.979396Z"
    }
   },
   "outputs": [],
   "source": [
    "class FastIALSRecommender(BaseMatrixFactorizationRecommender):\n",
    "    RECOMMENDER_NAME = \"FastIALSRecommender\"\n",
    "\n",
    "    AVAILABLE_CONFIDENCE_SCALING = [\"linear\", \"log\"]\n",
    "    \n",
    "    def __init__(self, URM_train, verbose=True):\n",
    "        super().__init__(URM_train, verbose=verbose)\n",
    "        \n",
    "    def fit(self,\n",
    "            factors=20,\n",
    "            regularization=1e-3,\n",
    "            iterations=100,\n",
    "            calculate_training_loss=False,\n",
    "            num_threads=0,\n",
    "            confidence_scaling='linear',\n",
    "            alpha=1.0,\n",
    "            epsilon=0,\n",
    "            #---- Do not change\n",
    "            use_native=True,\n",
    "            use_cg=True,\n",
    "            use_gpu=True):\n",
    "        if confidence_scaling not in self.AVAILABLE_CONFIDENCE_SCALING:\n",
    "           raise ValueError(\"Value for 'confidence_scaling' not recognized. Acceptable values are {}, provided was '{}'\".format(self.AVAILABLE_CONFIDENCE_SCALING, confidence_scaling))\n",
    "\n",
    "        self.alpha = alpha\n",
    "        self.epsilon = epsilon\n",
    "        self.num_factors = factors\n",
    "        self.reg = regularization\n",
    "        \n",
    "        self.USER_factors = self._init_factors(self.n_users, False)  # don't need values, will compute them\n",
    "        self.ITEM_factors = self._init_factors(self.n_items)\n",
    "        \n",
    "        self.recommender = AlternatingLeastSquares(factors=factors, regularization=regularization,\n",
    "                                                        use_native=use_native, use_cg=use_cg, use_gpu=use_gpu,\n",
    "                                                        iterations=iterations,\n",
    "                                                        calculate_training_loss=calculate_training_loss,\n",
    "                                                        num_threads=num_threads)\n",
    "        \n",
    "        self._build_confidence_matrix(confidence_scaling)\n",
    "        self.recommender.fit(self.C, show_progress=self.verbose)\n",
    "        \n",
    "        self.USER_factors = self.recommender.user_factors.to_numpy()\n",
    "        self.ITEM_factors = self.recommender.item_factors.to_numpy()\n",
    "        \n",
    "    \n",
    "    def _linear_scaling_confidence(self):\n",
    "\n",
    "        C = check_matrix(self.URM_train, format=\"csr\", dtype = np.float32)\n",
    "        C.data = 1.0 + self.alpha*C.data\n",
    "\n",
    "        return C\n",
    "\n",
    "    def _log_scaling_confidence(self):\n",
    "\n",
    "        C = check_matrix(self.URM_train, format=\"csr\", dtype = np.float32)\n",
    "        C.data = 1.0 + self.alpha * np.log(1.0 + C.data / self.epsilon)\n",
    "\n",
    "        return C\n",
    "    \n",
    "    def _build_confidence_matrix(self, confidence_scaling):\n",
    "\n",
    "        if confidence_scaling == 'linear':\n",
    "            self.C = self._linear_scaling_confidence()\n",
    "        else:\n",
    "            self.C = self._log_scaling_confidence()\n",
    "\n",
    "        self.C_csc= check_matrix(self.C.copy(), format=\"csc\", dtype = np.float32)\n",
    "    \n",
    "    def _init_factors(self, num_factors, assign_values=True):\n",
    "\n",
    "        if assign_values:\n",
    "            return self.num_factors**-0.5*np.random.random_sample((num_factors, self.num_factors))\n",
    "\n",
    "        else:\n",
    "            return np.empty((num_factors, self.num_factors))"
   ]
  },
  {
   "cell_type": "markdown",
   "metadata": {},
   "source": [
    "# **Best Model Params**"
   ]
  },
  {
   "cell_type": "code",
   "execution_count": 18,
   "metadata": {
    "execution": {
     "iopub.execute_input": "2023-12-07T08:55:35.000741Z",
     "iopub.status.busy": "2023-12-07T08:55:35.000339Z",
     "iopub.status.idle": "2023-12-07T08:55:35.012460Z",
     "shell.execute_reply": "2023-12-07T08:55:35.010771Z",
     "shell.execute_reply.started": "2023-12-07T08:55:35.000710Z"
    }
   },
   "outputs": [],
   "source": [
    "ItemKNN_params = {\n",
    "    'topK': 6,\n",
    "    'shrink': 15,\n",
    "    'similarity': 'jaccard',\n",
    "    'normalize': False\n",
    "}"
   ]
  },
  {
   "cell_type": "code",
   "execution_count": 19,
   "metadata": {
    "execution": {
     "iopub.execute_input": "2023-12-07T08:55:35.015698Z",
     "iopub.status.busy": "2023-12-07T08:55:35.014484Z",
     "iopub.status.idle": "2023-12-07T08:55:35.022930Z",
     "shell.execute_reply": "2023-12-07T08:55:35.021828Z",
     "shell.execute_reply.started": "2023-12-07T08:55:35.015653Z"
    }
   },
   "outputs": [],
   "source": [
    "RP3beta_params = {\n",
    "    'alpha': 0.307953246083667, \n",
    "    'beta': 0.3073797221110665, \n",
    "    'topK': 59, \n",
    "    'normalize_similarity': True\n",
    "}"
   ]
  },
  {
   "cell_type": "code",
   "execution_count": 20,
   "metadata": {
    "execution": {
     "iopub.execute_input": "2023-12-07T08:55:35.024342Z",
     "iopub.status.busy": "2023-12-07T08:55:35.023945Z",
     "iopub.status.idle": "2023-12-07T08:55:35.035589Z",
     "shell.execute_reply": "2023-12-07T08:55:35.034422Z",
     "shell.execute_reply.started": "2023-12-07T08:55:35.024307Z"
    }
   },
   "outputs": [],
   "source": [
    "alpha_itemknn_rp3beta=0.7381515719042592"
   ]
  },
  {
   "cell_type": "code",
   "execution_count": 21,
   "metadata": {
    "execution": {
     "iopub.execute_input": "2023-12-07T08:55:35.037363Z",
     "iopub.status.busy": "2023-12-07T08:55:35.037020Z",
     "iopub.status.idle": "2023-12-07T08:55:35.045453Z",
     "shell.execute_reply": "2023-12-07T08:55:35.044310Z",
     "shell.execute_reply.started": "2023-12-07T08:55:35.037335Z"
    }
   },
   "outputs": [],
   "source": [
    "UserKNN_params = {\n",
    "    'topK': 470,\n",
    "    'shrink': 0,\n",
    "    'similarity': 'cosine',\n",
    "    'normalize': True\n",
    "}"
   ]
  },
  {
   "cell_type": "code",
   "execution_count": 22,
   "metadata": {
    "execution": {
     "iopub.execute_input": "2023-12-07T08:55:35.046798Z",
     "iopub.status.busy": "2023-12-07T08:55:35.046453Z",
     "iopub.status.idle": "2023-12-07T08:55:35.056648Z",
     "shell.execute_reply": "2023-12-07T08:55:35.055273Z",
     "shell.execute_reply.started": "2023-12-07T08:55:35.046766Z"
    }
   },
   "outputs": [],
   "source": [
    "LightFM_params = {\n",
    "                  'n_factors': 482,\n",
    "                  'max_sampled': 5,\n",
    "                  'user_alpha': 0.00023989649900734266,\n",
    "                  'item_alpha': 9.740651135253414e-05\n",
    "                 }"
   ]
  },
  {
   "cell_type": "code",
   "execution_count": 23,
   "metadata": {
    "execution": {
     "iopub.execute_input": "2023-12-07T08:55:35.058359Z",
     "iopub.status.busy": "2023-12-07T08:55:35.057998Z",
     "iopub.status.idle": "2023-12-07T08:55:35.067175Z",
     "shell.execute_reply": "2023-12-07T08:55:35.066032Z",
     "shell.execute_reply.started": "2023-12-07T08:55:35.058324Z"
    }
   },
   "outputs": [],
   "source": [
    "SLIM_params = {\n",
    "    'l1_ratio': 0.013752256221164005,\n",
    "    'alpha': 0.0031943927190071775,\n",
    "    'topK': 622\n",
    "}"
   ]
  },
  {
   "cell_type": "code",
   "execution_count": 24,
   "metadata": {
    "execution": {
     "iopub.execute_input": "2023-12-07T08:55:35.068928Z",
     "iopub.status.busy": "2023-12-07T08:55:35.068621Z",
     "iopub.status.idle": "2023-12-07T08:55:35.077341Z",
     "shell.execute_reply": "2023-12-07T08:55:35.076224Z",
     "shell.execute_reply.started": "2023-12-07T08:55:35.068903Z"
    }
   },
   "outputs": [],
   "source": [
    "NMF_params = {\n",
    "    'l1_ratio': 0.005734775635120469,\n",
    "    'num_factors': 134,\n",
    "    'beta_loss': 'frobenius',\n",
    "    'init_type': 'nndsvda',\n",
    "    'solver': 'multiplicative_update'\n",
    "}"
   ]
  },
  {
   "cell_type": "code",
   "execution_count": 25,
   "metadata": {
    "execution": {
     "iopub.execute_input": "2023-12-07T08:55:35.078522Z",
     "iopub.status.busy": "2023-12-07T08:55:35.078251Z",
     "iopub.status.idle": "2023-12-07T08:55:35.088643Z",
     "shell.execute_reply": "2023-12-07T08:55:35.087692Z",
     "shell.execute_reply.started": "2023-12-07T08:55:35.078497Z"
    }
   },
   "outputs": [],
   "source": [
    "IALS_params = {\n",
    "    'confidence_scaling': 'log',\n",
    "    'epsilon': 0.11624415533664904,\n",
    "    'factors': 116,\n",
    "    'regularization': 0.005454427904241962,\n",
    "    'alpha': 1.7221339971074425\n",
    "}"
   ]
  },
  {
   "cell_type": "markdown",
   "metadata": {},
   "source": [
    "# Tuning ItemKNN"
   ]
  },
  {
   "cell_type": "code",
   "execution_count": 26,
   "metadata": {
    "execution": {
     "iopub.execute_input": "2023-12-07T08:55:35.089793Z",
     "iopub.status.busy": "2023-12-07T08:55:35.089503Z",
     "iopub.status.idle": "2023-12-07T08:55:35.102367Z",
     "shell.execute_reply": "2023-12-07T08:55:35.100552Z",
     "shell.execute_reply.started": "2023-12-07T08:55:35.089766Z"
    }
   },
   "outputs": [],
   "source": [
    "class SaveResults(object):\n",
    "\n",
    "    def __init__(self):\n",
    "        self.results_df = pd.DataFrame(columns=[\"result\"])\n",
    "\n",
    "    def __call__(self, optuna_study, optuna_trial):\n",
    "        hyperparam_dict = optuna_trial.params.copy()\n",
    "        hyperparam_dict[\"result\"] = optuna_trial.values[0]\n",
    "\n",
    "        # Create a DataFrame from the current trial's results\n",
    "        trial_df = pd.DataFrame([hyperparam_dict])\n",
    "\n",
    "        # Use concat instead of append\n",
    "        self.results_df = pd.concat([self.results_df, trial_df], ignore_index=True)"
   ]
  },
  {
   "cell_type": "code",
   "execution_count": 27,
   "metadata": {
    "execution": {
     "iopub.execute_input": "2023-12-07T08:55:35.105271Z",
     "iopub.status.busy": "2023-12-07T08:55:35.103993Z",
     "iopub.status.idle": "2023-12-07T08:55:35.119700Z",
     "shell.execute_reply": "2023-12-07T08:55:35.118019Z",
     "shell.execute_reply.started": "2023-12-07T08:55:35.105230Z"
    }
   },
   "outputs": [],
   "source": [
    "def objective_function_ItemKNN(optuna_trial):\n",
    "    topK = optuna_trial.suggest_int(\"topK\", 5, 500)\n",
    "    shrink = optuna_trial.suggest_int(\"shrink\", 0, 2500)\n",
    "    similarity = optuna_trial.suggest_categorical(\"similarity\", [\"cosine\",\"pearson\",\"jaccard\",\"tanimoto\",\"adjusted\",\"euclidean\"])\n",
    "    normalize = optuna_trial.suggest_categorical(\"normalize\", [True, False])\n",
    "    feature_weighting = optuna_trial.suggest_categorical(\"feature_weighting\", [\"BM25\", \"TF-IDF\", \"none\"])\n",
    "\n",
    "    recommender_instance = ItemKNNCFRecommender(urm_train)\n",
    "    recommender_instance.fit(\n",
    "                             topK = topK,\n",
    "                             shrink = shrink,\n",
    "                             similarity = similarity,\n",
    "                             normalize = normalize,\n",
    "                             feature_weighting = feature_weighting\n",
    "                            )\n",
    "\n",
    "    result_df, _ = evaluator_validation.evaluateRecommender(recommender_instance)\n",
    "\n",
    "    return result_df.loc[10][\"MAP\"]"
   ]
  },
  {
   "cell_type": "code",
   "execution_count": 28,
   "metadata": {
    "execution": {
     "iopub.status.idle": "2023-12-07T15:49:41.333434Z",
     "shell.execute_reply": "2023-12-07T15:49:41.332190Z",
     "shell.execute_reply.started": "2023-12-07T08:55:35.125599Z"
    },
    "scrolled": true
   },
   "outputs": [
    {
     "name": "stdout",
     "output_type": "stream",
     "text": [
      "EvaluatorHoldout: Processed 10511 (100.0%) in 8.30 sec. Users per second: 1266\n"
     ]
    },
    {
     "name": "stderr",
     "output_type": "stream",
     "text": [
      "[I 2023-12-07 15:24:21,521] Trial 1878 finished with value: 0.0449748222950113 and parameters: {'topK': 21, 'shrink': 1434, 'similarity': 'tanimoto', 'normalize': True, 'feature_weighting': 'BM25'}. Best is trial 1242 with value: 0.04504385050884023.\n"
     ]
    },
    {
     "name": "stdout",
     "output_type": "stream",
     "text": [
      "ItemKNNCFRecommender: URM Detected 240 ( 1.9%) users with no interactions.\n",
      "ItemKNNCFRecommender: URM Detected 123 ( 0.6%) items with no interactions.\n",
      "Similarity column 22222 (100.0%), 6948.03 column/sec. Elapsed time 3.20 sec\n",
      "EvaluatorHoldout: Processed 10511 (100.0%) in 9.12 sec. Users per second: 1152\n"
     ]
    },
    {
     "name": "stderr",
     "output_type": "stream",
     "text": [
      "[I 2023-12-07 15:24:34,109] Trial 1879 finished with value: 0.04458571745699571 and parameters: {'topK': 38, 'shrink': 1309, 'similarity': 'tanimoto', 'normalize': True, 'feature_weighting': 'BM25'}. Best is trial 1242 with value: 0.04504385050884023.\n"
     ]
    },
    {
     "name": "stdout",
     "output_type": "stream",
     "text": [
      "ItemKNNCFRecommender: URM Detected 240 ( 1.9%) users with no interactions.\n",
      "ItemKNNCFRecommender: URM Detected 123 ( 0.6%) items with no interactions.\n",
      "Similarity column 22222 (100.0%), 6851.84 column/sec. Elapsed time 3.24 sec\n",
      "EvaluatorHoldout: Processed 10511 (100.0%) in 8.65 sec. Users per second: 1216\n"
     ]
    },
    {
     "name": "stderr",
     "output_type": "stream",
     "text": [
      "[I 2023-12-07 15:24:46,274] Trial 1880 finished with value: 0.04473415605420233 and parameters: {'topK': 28, 'shrink': 1363, 'similarity': 'tanimoto', 'normalize': True, 'feature_weighting': 'BM25'}. Best is trial 1242 with value: 0.04504385050884023.\n"
     ]
    },
    {
     "name": "stdout",
     "output_type": "stream",
     "text": [
      "ItemKNNCFRecommender: URM Detected 240 ( 1.9%) users with no interactions.\n",
      "ItemKNNCFRecommender: URM Detected 123 ( 0.6%) items with no interactions.\n",
      "Similarity column 22222 (100.0%), 7010.23 column/sec. Elapsed time 3.17 sec\n",
      "EvaluatorHoldout: Processed 10511 (100.0%) in 8.14 sec. Users per second: 1291\n"
     ]
    },
    {
     "name": "stderr",
     "output_type": "stream",
     "text": [
      "[I 2023-12-07 15:24:57,855] Trial 1881 finished with value: 0.04463390204970522 and parameters: {'topK': 19, 'shrink': 1346, 'similarity': 'tanimoto', 'normalize': True, 'feature_weighting': 'BM25'}. Best is trial 1242 with value: 0.04504385050884023.\n"
     ]
    },
    {
     "name": "stdout",
     "output_type": "stream",
     "text": [
      "ItemKNNCFRecommender: URM Detected 240 ( 1.9%) users with no interactions.\n",
      "ItemKNNCFRecommender: URM Detected 123 ( 0.6%) items with no interactions.\n",
      "Similarity column 22222 (100.0%), 6884.65 column/sec. Elapsed time 3.23 sec\n",
      "EvaluatorHoldout: Processed 10511 (100.0%) in 6.94 sec. Users per second: 1515\n"
     ]
    },
    {
     "name": "stderr",
     "output_type": "stream",
     "text": [
      "[I 2023-12-07 15:25:08,299] Trial 1882 finished with value: 0.0382564826266668 and parameters: {'topK': 46, 'shrink': 94, 'similarity': 'tanimoto', 'normalize': True, 'feature_weighting': 'BM25'}. Best is trial 1242 with value: 0.04504385050884023.\n"
     ]
    },
    {
     "name": "stdout",
     "output_type": "stream",
     "text": [
      "ItemKNNCFRecommender: URM Detected 240 ( 1.9%) users with no interactions.\n",
      "ItemKNNCFRecommender: URM Detected 123 ( 0.6%) items with no interactions.\n",
      "Similarity column 22222 (100.0%), 7018.78 column/sec. Elapsed time 3.17 sec\n",
      "EvaluatorHoldout: Processed 10511 (100.0%) in 8.98 sec. Users per second: 1170\n"
     ]
    },
    {
     "name": "stderr",
     "output_type": "stream",
     "text": [
      "[I 2023-12-07 15:25:20,717] Trial 1883 finished with value: 0.04452792841362013 and parameters: {'topK': 34, 'shrink': 1385, 'similarity': 'tanimoto', 'normalize': True, 'feature_weighting': 'BM25'}. Best is trial 1242 with value: 0.04504385050884023.\n"
     ]
    },
    {
     "name": "stdout",
     "output_type": "stream",
     "text": [
      "ItemKNNCFRecommender: URM Detected 240 ( 1.9%) users with no interactions.\n",
      "ItemKNNCFRecommender: URM Detected 123 ( 0.6%) items with no interactions.\n",
      "Similarity column 22222 (100.0%), 6980.28 column/sec. Elapsed time 3.18 sec\n",
      "EvaluatorHoldout: Processed 10511 (100.0%) in 6.47 sec. Users per second: 1624\n"
     ]
    },
    {
     "name": "stderr",
     "output_type": "stream",
     "text": [
      "[I 2023-12-07 15:25:30,638] Trial 1884 finished with value: 0.04340079855872881 and parameters: {'topK': 5, 'shrink': 1414, 'similarity': 'tanimoto', 'normalize': True, 'feature_weighting': 'BM25'}. Best is trial 1242 with value: 0.04504385050884023.\n"
     ]
    },
    {
     "name": "stdout",
     "output_type": "stream",
     "text": [
      "ItemKNNCFRecommender: URM Detected 240 ( 1.9%) users with no interactions.\n",
      "ItemKNNCFRecommender: URM Detected 123 ( 0.6%) items with no interactions.\n",
      "Similarity column 22222 (100.0%), 6794.15 column/sec. Elapsed time 3.27 sec\n",
      "EvaluatorHoldout: Processed 10511 (100.0%) in 5.86 sec. Users per second: 1793\n"
     ]
    },
    {
     "name": "stderr",
     "output_type": "stream",
     "text": [
      "[I 2023-12-07 15:25:40,099] Trial 1885 finished with value: 0.010814592573464215 and parameters: {'topK': 20, 'shrink': 1436, 'similarity': 'pearson', 'normalize': True, 'feature_weighting': 'BM25'}. Best is trial 1242 with value: 0.04504385050884023.\n"
     ]
    },
    {
     "name": "stdout",
     "output_type": "stream",
     "text": [
      "ItemKNNCFRecommender: URM Detected 240 ( 1.9%) users with no interactions.\n",
      "ItemKNNCFRecommender: URM Detected 123 ( 0.6%) items with no interactions.\n",
      "Similarity column 22222 (100.0%), 6976.05 column/sec. Elapsed time 3.19 sec\n",
      "EvaluatorHoldout: Processed 10511 (100.0%) in 8.83 sec. Users per second: 1190\n"
     ]
    },
    {
     "name": "stderr",
     "output_type": "stream",
     "text": [
      "[I 2023-12-07 15:25:52,377] Trial 1886 finished with value: 0.03171269176811026 and parameters: {'topK': 29, 'shrink': 1996, 'similarity': 'tanimoto', 'normalize': True, 'feature_weighting': 'TF-IDF'}. Best is trial 1242 with value: 0.04504385050884023.\n"
     ]
    },
    {
     "name": "stdout",
     "output_type": "stream",
     "text": [
      "ItemKNNCFRecommender: URM Detected 240 ( 1.9%) users with no interactions.\n",
      "ItemKNNCFRecommender: URM Detected 123 ( 0.6%) items with no interactions.\n",
      "Similarity column 22222 (100.0%), 6998.79 column/sec. Elapsed time 3.18 sec\n",
      "EvaluatorHoldout: Processed 10511 (100.0%) in 7.64 sec. Users per second: 1375\n"
     ]
    },
    {
     "name": "stderr",
     "output_type": "stream",
     "text": [
      "[I 2023-12-07 15:26:03,465] Trial 1887 finished with value: 0.04441685807612036 and parameters: {'topK': 13, 'shrink': 1321, 'similarity': 'tanimoto', 'normalize': True, 'feature_weighting': 'BM25'}. Best is trial 1242 with value: 0.04504385050884023.\n"
     ]
    },
    {
     "name": "stdout",
     "output_type": "stream",
     "text": [
      "ItemKNNCFRecommender: URM Detected 240 ( 1.9%) users with no interactions.\n",
      "ItemKNNCFRecommender: URM Detected 123 ( 0.6%) items with no interactions.\n",
      "Similarity column 22222 (100.0%), 7001.92 column/sec. Elapsed time 3.17 sec\n",
      "EvaluatorHoldout: Processed 10511 (100.0%) in 9.23 sec. Users per second: 1139\n"
     ]
    },
    {
     "name": "stderr",
     "output_type": "stream",
     "text": [
      "[I 2023-12-07 15:26:16,142] Trial 1888 finished with value: 0.04441576322914968 and parameters: {'topK': 38, 'shrink': 1433, 'similarity': 'tanimoto', 'normalize': True, 'feature_weighting': 'BM25'}. Best is trial 1242 with value: 0.04504385050884023.\n"
     ]
    },
    {
     "name": "stdout",
     "output_type": "stream",
     "text": [
      "ItemKNNCFRecommender: URM Detected 240 ( 1.9%) users with no interactions.\n",
      "ItemKNNCFRecommender: URM Detected 123 ( 0.6%) items with no interactions.\n",
      "Similarity column 22222 (100.0%), 6752.02 column/sec. Elapsed time 3.29 sec\n",
      "EvaluatorHoldout: Processed 10511 (100.0%) in 12.16 sec. Users per second: 864\n"
     ]
    },
    {
     "name": "stderr",
     "output_type": "stream",
     "text": [
      "[I 2023-12-07 15:26:31,974] Trial 1889 finished with value: 0.04067469378262889 and parameters: {'topK': 197, 'shrink': 1281, 'similarity': 'tanimoto', 'normalize': True, 'feature_weighting': 'BM25'}. Best is trial 1242 with value: 0.04504385050884023.\n"
     ]
    },
    {
     "name": "stdout",
     "output_type": "stream",
     "text": [
      "ItemKNNCFRecommender: URM Detected 240 ( 1.9%) users with no interactions.\n",
      "ItemKNNCFRecommender: URM Detected 123 ( 0.6%) items with no interactions.\n",
      "Similarity column 22222 (100.0%), 1090.50 column/sec. Elapsed time 20.38 sec\n",
      "EvaluatorHoldout: Processed 10511 (100.0%) in 5.29 sec. Users per second: 1986\n"
     ]
    },
    {
     "name": "stderr",
     "output_type": "stream",
     "text": [
      "[I 2023-12-07 15:26:57,856] Trial 1890 finished with value: 0.019099756415425714 and parameters: {'topK': 5, 'shrink': 1386, 'similarity': 'euclidean', 'normalize': True, 'feature_weighting': 'BM25'}. Best is trial 1242 with value: 0.04504385050884023.\n"
     ]
    },
    {
     "name": "stdout",
     "output_type": "stream",
     "text": [
      "ItemKNNCFRecommender: URM Detected 240 ( 1.9%) users with no interactions.\n",
      "ItemKNNCFRecommender: URM Detected 123 ( 0.6%) items with no interactions.\n",
      "Similarity column 22222 (100.0%), 6998.66 column/sec. Elapsed time 3.18 sec\n",
      "EvaluatorHoldout: Processed 10511 (100.0%) in 8.39 sec. Users per second: 1253\n"
     ]
    },
    {
     "name": "stderr",
     "output_type": "stream",
     "text": [
      "[I 2023-12-07 15:27:09,682] Trial 1891 finished with value: 0.04486168684960487 and parameters: {'topK': 22, 'shrink': 1478, 'similarity': 'tanimoto', 'normalize': True, 'feature_weighting': 'BM25'}. Best is trial 1242 with value: 0.04504385050884023.\n"
     ]
    },
    {
     "name": "stdout",
     "output_type": "stream",
     "text": [
      "ItemKNNCFRecommender: URM Detected 240 ( 1.9%) users with no interactions.\n",
      "ItemKNNCFRecommender: URM Detected 123 ( 0.6%) items with no interactions.\n",
      "Similarity column 22222 (100.0%), 6437.49 column/sec. Elapsed time 3.45 sec\n",
      "EvaluatorHoldout: Processed 10511 (100.0%) in 9.78 sec. Users per second: 1075\n"
     ]
    },
    {
     "name": "stderr",
     "output_type": "stream",
     "text": [
      "[I 2023-12-07 15:27:23,242] Trial 1892 finished with value: 0.044071060098793524 and parameters: {'topK': 53, 'shrink': 1435, 'similarity': 'tanimoto', 'normalize': True, 'feature_weighting': 'BM25'}. Best is trial 1242 with value: 0.04504385050884023.\n"
     ]
    },
    {
     "name": "stdout",
     "output_type": "stream",
     "text": [
      "ItemKNNCFRecommender: URM Detected 240 ( 1.9%) users with no interactions.\n",
      "ItemKNNCFRecommender: URM Detected 123 ( 0.6%) items with no interactions.\n",
      "Similarity column 22222 (100.0%), 6982.61 column/sec. Elapsed time 3.18 sec\n",
      "EvaluatorHoldout: Processed 10511 (100.0%) in 8.74 sec. Users per second: 1203\n"
     ]
    },
    {
     "name": "stderr",
     "output_type": "stream",
     "text": [
      "[I 2023-12-07 15:27:35,415] Trial 1893 finished with value: 0.03254019598515875 and parameters: {'topK': 29, 'shrink': 1518, 'similarity': 'tanimoto', 'normalize': True, 'feature_weighting': 'none'}. Best is trial 1242 with value: 0.04504385050884023.\n"
     ]
    },
    {
     "name": "stdout",
     "output_type": "stream",
     "text": [
      "ItemKNNCFRecommender: URM Detected 240 ( 1.9%) users with no interactions.\n",
      "ItemKNNCFRecommender: URM Detected 123 ( 0.6%) items with no interactions.\n",
      "Similarity column 22222 (100.0%), 7038.24 column/sec. Elapsed time 3.16 sec\n",
      "EvaluatorHoldout: Processed 10511 (100.0%) in 8.35 sec. Users per second: 1258\n"
     ]
    },
    {
     "name": "stderr",
     "output_type": "stream",
     "text": [
      "[I 2023-12-07 15:27:47,194] Trial 1894 finished with value: 0.04491494549172287 and parameters: {'topK': 20, 'shrink': 1354, 'similarity': 'tanimoto', 'normalize': True, 'feature_weighting': 'BM25'}. Best is trial 1242 with value: 0.04504385050884023.\n"
     ]
    },
    {
     "name": "stdout",
     "output_type": "stream",
     "text": [
      "ItemKNNCFRecommender: URM Detected 240 ( 1.9%) users with no interactions.\n",
      "ItemKNNCFRecommender: URM Detected 123 ( 0.6%) items with no interactions.\n",
      "Similarity column 22222 (100.0%), 6967.25 column/sec. Elapsed time 3.19 sec\n",
      "EvaluatorHoldout: Processed 10511 (100.0%) in 9.37 sec. Users per second: 1121\n"
     ]
    },
    {
     "name": "stderr",
     "output_type": "stream",
     "text": [
      "[I 2023-12-07 15:28:00,038] Trial 1895 finished with value: 0.04442029740574172 and parameters: {'topK': 42, 'shrink': 1471, 'similarity': 'jaccard', 'normalize': True, 'feature_weighting': 'BM25'}. Best is trial 1242 with value: 0.04504385050884023.\n"
     ]
    },
    {
     "name": "stdout",
     "output_type": "stream",
     "text": [
      "ItemKNNCFRecommender: URM Detected 240 ( 1.9%) users with no interactions.\n",
      "ItemKNNCFRecommender: URM Detected 123 ( 0.6%) items with no interactions.\n",
      "Similarity column 22222 (100.0%), 6994.62 column/sec. Elapsed time 3.18 sec\n",
      "EvaluatorHoldout: Processed 10511 (100.0%) in 7.59 sec. Users per second: 1385\n"
     ]
    },
    {
     "name": "stderr",
     "output_type": "stream",
     "text": [
      "[I 2023-12-07 15:28:11,081] Trial 1896 finished with value: 0.04420416706307734 and parameters: {'topK': 13, 'shrink': 1585, 'similarity': 'tanimoto', 'normalize': True, 'feature_weighting': 'BM25'}. Best is trial 1242 with value: 0.04504385050884023.\n"
     ]
    },
    {
     "name": "stdout",
     "output_type": "stream",
     "text": [
      "ItemKNNCFRecommender: URM Detected 240 ( 1.9%) users with no interactions.\n",
      "ItemKNNCFRecommender: URM Detected 123 ( 0.6%) items with no interactions.\n",
      "Similarity column 22222 (100.0%), 6834.59 column/sec. Elapsed time 3.25 sec\n",
      "EvaluatorHoldout: Processed 10511 (100.0%) in 8.93 sec. Users per second: 1177\n"
     ]
    },
    {
     "name": "stderr",
     "output_type": "stream",
     "text": [
      "[I 2023-12-07 15:28:23,540] Trial 1897 finished with value: 0.04460949073759533 and parameters: {'topK': 33, 'shrink': 1429, 'similarity': 'tanimoto', 'normalize': True, 'feature_weighting': 'BM25'}. Best is trial 1242 with value: 0.04504385050884023.\n"
     ]
    },
    {
     "name": "stdout",
     "output_type": "stream",
     "text": [
      "ItemKNNCFRecommender: URM Detected 240 ( 1.9%) users with no interactions.\n",
      "ItemKNNCFRecommender: URM Detected 123 ( 0.6%) items with no interactions.\n",
      "Similarity column 22222 (100.0%), 7051.57 column/sec. Elapsed time 3.15 sec\n",
      "EvaluatorHoldout: Processed 10511 (100.0%) in 8.35 sec. Users per second: 1258\n"
     ]
    },
    {
     "name": "stderr",
     "output_type": "stream",
     "text": [
      "[I 2023-12-07 15:28:35,325] Trial 1898 finished with value: 0.04486067883532509 and parameters: {'topK': 22, 'shrink': 1514, 'similarity': 'tanimoto', 'normalize': True, 'feature_weighting': 'BM25'}. Best is trial 1242 with value: 0.04504385050884023.\n"
     ]
    },
    {
     "name": "stdout",
     "output_type": "stream",
     "text": [
      "ItemKNNCFRecommender: URM Detected 240 ( 1.9%) users with no interactions.\n",
      "ItemKNNCFRecommender: URM Detected 123 ( 0.6%) items with no interactions.\n",
      "Similarity column 22222 (100.0%), 7034.77 column/sec. Elapsed time 3.16 sec\n",
      "EvaluatorHoldout: Processed 10511 (100.0%) in 8.71 sec. Users per second: 1206\n"
     ]
    },
    {
     "name": "stderr",
     "output_type": "stream",
     "text": [
      "[I 2023-12-07 15:28:47,471] Trial 1899 finished with value: 0.044680172547883125 and parameters: {'topK': 28, 'shrink': 1383, 'similarity': 'tanimoto', 'normalize': True, 'feature_weighting': 'BM25'}. Best is trial 1242 with value: 0.04504385050884023.\n"
     ]
    },
    {
     "name": "stdout",
     "output_type": "stream",
     "text": [
      "ItemKNNCFRecommender: URM Detected 240 ( 1.9%) users with no interactions.\n",
      "ItemKNNCFRecommender: URM Detected 123 ( 0.6%) items with no interactions.\n",
      "Similarity column 22222 (100.0%), 7066.08 column/sec. Elapsed time 3.14 sec\n",
      "EvaluatorHoldout: Processed 10511 (100.0%) in 7.60 sec. Users per second: 1383\n"
     ]
    },
    {
     "name": "stderr",
     "output_type": "stream",
     "text": [
      "[I 2023-12-07 15:28:58,482] Trial 1900 finished with value: 0.04432088152547748 and parameters: {'topK': 14, 'shrink': 1291, 'similarity': 'tanimoto', 'normalize': True, 'feature_weighting': 'BM25'}. Best is trial 1242 with value: 0.04504385050884023.\n"
     ]
    },
    {
     "name": "stdout",
     "output_type": "stream",
     "text": [
      "ItemKNNCFRecommender: URM Detected 240 ( 1.9%) users with no interactions.\n",
      "ItemKNNCFRecommender: URM Detected 123 ( 0.6%) items with no interactions.\n",
      "Similarity column 22222 (100.0%), 6959.36 column/sec. Elapsed time 3.19 sec\n",
      "EvaluatorHoldout: Processed 10511 (100.0%) in 9.56 sec. Users per second: 1100\n"
     ]
    },
    {
     "name": "stderr",
     "output_type": "stream",
     "text": [
      "[I 2023-12-07 15:29:11,520] Trial 1901 finished with value: 0.04437620150016734 and parameters: {'topK': 45, 'shrink': 1482, 'similarity': 'tanimoto', 'normalize': True, 'feature_weighting': 'BM25'}. Best is trial 1242 with value: 0.04504385050884023.\n"
     ]
    },
    {
     "name": "stdout",
     "output_type": "stream",
     "text": [
      "ItemKNNCFRecommender: URM Detected 240 ( 1.9%) users with no interactions.\n",
      "ItemKNNCFRecommender: URM Detected 123 ( 0.6%) items with no interactions.\n",
      "Similarity column 22222 (100.0%), 6846.76 column/sec. Elapsed time 3.25 sec\n",
      "EvaluatorHoldout: Processed 10511 (100.0%) in 9.13 sec. Users per second: 1151\n"
     ]
    },
    {
     "name": "stderr",
     "output_type": "stream",
     "text": [
      "[I 2023-12-07 15:29:24,181] Trial 1902 finished with value: 0.0442534691547636 and parameters: {'topK': 36, 'shrink': 1546, 'similarity': 'tanimoto', 'normalize': True, 'feature_weighting': 'BM25'}. Best is trial 1242 with value: 0.04504385050884023.\n"
     ]
    },
    {
     "name": "stdout",
     "output_type": "stream",
     "text": [
      "ItemKNNCFRecommender: URM Detected 240 ( 1.9%) users with no interactions.\n",
      "ItemKNNCFRecommender: URM Detected 123 ( 0.6%) items with no interactions.\n",
      "Similarity column 22222 (100.0%), 6957.57 column/sec. Elapsed time 3.19 sec\n",
      "EvaluatorHoldout: Processed 10511 (100.0%) in 5.59 sec. Users per second: 1882\n"
     ]
    },
    {
     "name": "stderr",
     "output_type": "stream",
     "text": [
      "[I 2023-12-07 15:29:33,267] Trial 1903 finished with value: 0.032696747775950816 and parameters: {'topK': 5, 'shrink': 1400, 'similarity': 'adjusted', 'normalize': True, 'feature_weighting': 'BM25'}. Best is trial 1242 with value: 0.04504385050884023.\n"
     ]
    },
    {
     "name": "stdout",
     "output_type": "stream",
     "text": [
      "ItemKNNCFRecommender: URM Detected 240 ( 1.9%) users with no interactions.\n",
      "ItemKNNCFRecommender: URM Detected 123 ( 0.6%) items with no interactions.\n",
      "Similarity column 22222 (100.0%), 6818.87 column/sec. Elapsed time 3.26 sec\n",
      "EvaluatorHoldout: Processed 10511 (100.0%) in 5.61 sec. Users per second: 1875\n"
     ]
    },
    {
     "name": "stderr",
     "output_type": "stream",
     "text": [
      "[I 2023-12-07 15:29:42,367] Trial 1904 finished with value: 0.023952103087770512 and parameters: {'topK': 19, 'shrink': 1447, 'similarity': 'cosine', 'normalize': True, 'feature_weighting': 'BM25'}. Best is trial 1242 with value: 0.04504385050884023.\n"
     ]
    },
    {
     "name": "stdout",
     "output_type": "stream",
     "text": [
      "ItemKNNCFRecommender: URM Detected 240 ( 1.9%) users with no interactions.\n",
      "ItemKNNCFRecommender: URM Detected 123 ( 0.6%) items with no interactions.\n",
      "Similarity column 22222 (100.0%), 6202.20 column/sec. Elapsed time 3.58 sec\n",
      "EvaluatorHoldout: Processed 10511 (100.0%) in 8.66 sec. Users per second: 1214\n"
     ]
    },
    {
     "name": "stderr",
     "output_type": "stream",
     "text": [
      "[I 2023-12-07 15:29:54,884] Trial 1905 finished with value: 0.04477660968932078 and parameters: {'topK': 28, 'shrink': 1343, 'similarity': 'tanimoto', 'normalize': True, 'feature_weighting': 'BM25'}. Best is trial 1242 with value: 0.04504385050884023.\n"
     ]
    },
    {
     "name": "stdout",
     "output_type": "stream",
     "text": [
      "ItemKNNCFRecommender: URM Detected 240 ( 1.9%) users with no interactions.\n",
      "ItemKNNCFRecommender: URM Detected 123 ( 0.6%) items with no interactions.\n",
      "Similarity column 22222 (100.0%), 6984.04 column/sec. Elapsed time 3.18 sec\n",
      "EvaluatorHoldout: Processed 10511 (100.0%) in 7.84 sec. Users per second: 1341\n"
     ]
    },
    {
     "name": "stderr",
     "output_type": "stream",
     "text": [
      "[I 2023-12-07 15:30:06,176] Trial 1906 finished with value: 0.04434322395434634 and parameters: {'topK': 15, 'shrink': 1513, 'similarity': 'tanimoto', 'normalize': True, 'feature_weighting': 'BM25'}. Best is trial 1242 with value: 0.04504385050884023.\n"
     ]
    },
    {
     "name": "stdout",
     "output_type": "stream",
     "text": [
      "ItemKNNCFRecommender: URM Detected 240 ( 1.9%) users with no interactions.\n",
      "ItemKNNCFRecommender: URM Detected 123 ( 0.6%) items with no interactions.\n",
      "Similarity column 22222 (100.0%), 7021.14 column/sec. Elapsed time 3.17 sec\n",
      "EvaluatorHoldout: Processed 10511 (100.0%) in 6.48 sec. Users per second: 1621\n"
     ]
    },
    {
     "name": "stderr",
     "output_type": "stream",
     "text": [
      "[I 2023-12-07 15:30:16,080] Trial 1907 finished with value: 0.031505146535829 and parameters: {'topK': 5, 'shrink': 1622, 'similarity': 'tanimoto', 'normalize': True, 'feature_weighting': 'TF-IDF'}. Best is trial 1242 with value: 0.04504385050884023.\n"
     ]
    },
    {
     "name": "stdout",
     "output_type": "stream",
     "text": [
      "ItemKNNCFRecommender: URM Detected 240 ( 1.9%) users with no interactions.\n",
      "ItemKNNCFRecommender: URM Detected 123 ( 0.6%) items with no interactions.\n",
      "Similarity column 22222 (100.0%), 6939.08 column/sec. Elapsed time 3.20 sec\n",
      "EvaluatorHoldout: Processed 10511 (100.0%) in 9.13 sec. Users per second: 1152\n"
     ]
    },
    {
     "name": "stderr",
     "output_type": "stream",
     "text": [
      "[I 2023-12-07 15:30:28,708] Trial 1908 finished with value: 0.04442179998882547 and parameters: {'topK': 37, 'shrink': 1416, 'similarity': 'tanimoto', 'normalize': True, 'feature_weighting': 'BM25'}. Best is trial 1242 with value: 0.04504385050884023.\n"
     ]
    },
    {
     "name": "stdout",
     "output_type": "stream",
     "text": [
      "ItemKNNCFRecommender: URM Detected 240 ( 1.9%) users with no interactions.\n",
      "ItemKNNCFRecommender: URM Detected 123 ( 0.6%) items with no interactions.\n",
      "Similarity column 22222 (100.0%), 6973.41 column/sec. Elapsed time 3.19 sec\n",
      "EvaluatorHoldout: Processed 10511 (100.0%) in 8.46 sec. Users per second: 1243\n"
     ]
    },
    {
     "name": "stderr",
     "output_type": "stream",
     "text": [
      "[I 2023-12-07 15:30:40,619] Trial 1909 finished with value: 0.04481703219454214 and parameters: {'topK': 23, 'shrink': 1476, 'similarity': 'tanimoto', 'normalize': True, 'feature_weighting': 'BM25'}. Best is trial 1242 with value: 0.04504385050884023.\n"
     ]
    },
    {
     "name": "stdout",
     "output_type": "stream",
     "text": [
      "ItemKNNCFRecommender: URM Detected 240 ( 1.9%) users with no interactions.\n",
      "ItemKNNCFRecommender: URM Detected 123 ( 0.6%) items with no interactions.\n",
      "Similarity column 22222 (100.0%), 6936.89 column/sec. Elapsed time 3.20 sec\n",
      "EvaluatorHoldout: Processed 10511 (100.0%) in 9.85 sec. Users per second: 1067\n"
     ]
    },
    {
     "name": "stderr",
     "output_type": "stream",
     "text": [
      "[I 2023-12-07 15:30:53,965] Trial 1910 finished with value: 0.044179400869535604 and parameters: {'topK': 50, 'shrink': 1581, 'similarity': 'tanimoto', 'normalize': True, 'feature_weighting': 'BM25'}. Best is trial 1242 with value: 0.04504385050884023.\n"
     ]
    },
    {
     "name": "stdout",
     "output_type": "stream",
     "text": [
      "ItemKNNCFRecommender: URM Detected 240 ( 1.9%) users with no interactions.\n",
      "ItemKNNCFRecommender: URM Detected 123 ( 0.6%) items with no interactions.\n",
      "Similarity column 22222 (100.0%), 7105.85 column/sec. Elapsed time 3.13 sec\n",
      "EvaluatorHoldout: Processed 10511 (100.0%) in 8.57 sec. Users per second: 1227\n"
     ]
    },
    {
     "name": "stderr",
     "output_type": "stream",
     "text": [
      "[I 2023-12-07 15:31:05,932] Trial 1911 finished with value: 0.04478933634152039 and parameters: {'topK': 27, 'shrink': 1370, 'similarity': 'tanimoto', 'normalize': True, 'feature_weighting': 'BM25'}. Best is trial 1242 with value: 0.04504385050884023.\n"
     ]
    },
    {
     "name": "stdout",
     "output_type": "stream",
     "text": [
      "ItemKNNCFRecommender: URM Detected 240 ( 1.9%) users with no interactions.\n",
      "ItemKNNCFRecommender: URM Detected 123 ( 0.6%) items with no interactions.\n",
      "Similarity column 22222 (100.0%), 7057.56 column/sec. Elapsed time 3.15 sec\n",
      "EvaluatorHoldout: Processed 10511 (100.0%) in 8.01 sec. Users per second: 1312\n"
     ]
    },
    {
     "name": "stderr",
     "output_type": "stream",
     "text": [
      "[I 2023-12-07 15:31:17,358] Trial 1912 finished with value: 0.04449237608975095 and parameters: {'topK': 18, 'shrink': 1535, 'similarity': 'tanimoto', 'normalize': True, 'feature_weighting': 'BM25'}. Best is trial 1242 with value: 0.04504385050884023.\n"
     ]
    },
    {
     "name": "stdout",
     "output_type": "stream",
     "text": [
      "ItemKNNCFRecommender: URM Detected 240 ( 1.9%) users with no interactions.\n",
      "ItemKNNCFRecommender: URM Detected 123 ( 0.6%) items with no interactions.\n",
      "Similarity column 22222 (100.0%), 6931.30 column/sec. Elapsed time 3.21 sec\n",
      "EvaluatorHoldout: Processed 10511 (100.0%) in 7.57 sec. Users per second: 1388\n"
     ]
    },
    {
     "name": "stderr",
     "output_type": "stream",
     "text": [
      "[I 2023-12-07 15:31:28,407] Trial 1913 finished with value: 0.04433953545265561 and parameters: {'topK': 13, 'shrink': 1448, 'similarity': 'tanimoto', 'normalize': True, 'feature_weighting': 'BM25'}. Best is trial 1242 with value: 0.04504385050884023.\n"
     ]
    },
    {
     "name": "stdout",
     "output_type": "stream",
     "text": [
      "ItemKNNCFRecommender: URM Detected 240 ( 1.9%) users with no interactions.\n",
      "ItemKNNCFRecommender: URM Detected 123 ( 0.6%) items with no interactions.\n",
      "Similarity column 22222 (100.0%), 6890.33 column/sec. Elapsed time 3.23 sec\n",
      "EvaluatorHoldout: Processed 10511 (100.0%) in 5.90 sec. Users per second: 1781\n"
     ]
    },
    {
     "name": "stderr",
     "output_type": "stream",
     "text": [
      "[I 2023-12-07 15:31:37,877] Trial 1914 finished with value: 0.0104388222164837 and parameters: {'topK': 35, 'shrink': 1300, 'similarity': 'pearson', 'normalize': True, 'feature_weighting': 'BM25'}. Best is trial 1242 with value: 0.04504385050884023.\n"
     ]
    },
    {
     "name": "stdout",
     "output_type": "stream",
     "text": [
      "ItemKNNCFRecommender: URM Detected 240 ( 1.9%) users with no interactions.\n",
      "ItemKNNCFRecommender: URM Detected 123 ( 0.6%) items with no interactions.\n",
      "Similarity column 22222 (100.0%), 7091.97 column/sec. Elapsed time 3.13 sec\n",
      "EvaluatorHoldout: Processed 10511 (100.0%) in 6.52 sec. Users per second: 1613\n"
     ]
    },
    {
     "name": "stderr",
     "output_type": "stream",
     "text": [
      "[I 2023-12-07 15:31:47,796] Trial 1915 finished with value: 0.04338534989044025 and parameters: {'topK': 5, 'shrink': 1416, 'similarity': 'tanimoto', 'normalize': True, 'feature_weighting': 'BM25'}. Best is trial 1242 with value: 0.04504385050884023.\n"
     ]
    },
    {
     "name": "stdout",
     "output_type": "stream",
     "text": [
      "ItemKNNCFRecommender: URM Detected 240 ( 1.9%) users with no interactions.\n",
      "ItemKNNCFRecommender: URM Detected 123 ( 0.6%) items with no interactions.\n",
      "Similarity column 22222 (100.0%), 1140.72 column/sec. Elapsed time 19.48 sec\n",
      "EvaluatorHoldout: Processed 10511 (100.0%) in 5.92 sec. Users per second: 1774\n"
     ]
    },
    {
     "name": "stderr",
     "output_type": "stream",
     "text": [
      "[I 2023-12-07 15:32:13,441] Trial 1916 finished with value: 0.020262676440252297 and parameters: {'topK': 27, 'shrink': 1493, 'similarity': 'euclidean', 'normalize': True, 'feature_weighting': 'BM25'}. Best is trial 1242 with value: 0.04504385050884023.\n"
     ]
    },
    {
     "name": "stdout",
     "output_type": "stream",
     "text": [
      "ItemKNNCFRecommender: URM Detected 240 ( 1.9%) users with no interactions.\n",
      "ItemKNNCFRecommender: URM Detected 123 ( 0.6%) items with no interactions.\n",
      "Similarity column 22222 (100.0%), 7013.43 column/sec. Elapsed time 3.17 sec\n",
      "EvaluatorHoldout: Processed 10511 (100.0%) in 9.43 sec. Users per second: 1115\n"
     ]
    },
    {
     "name": "stderr",
     "output_type": "stream",
     "text": [
      "[I 2023-12-07 15:32:26,294] Trial 1917 finished with value: 0.03220952954803241 and parameters: {'topK': 40, 'shrink': 1552, 'similarity': 'tanimoto', 'normalize': True, 'feature_weighting': 'none'}. Best is trial 1242 with value: 0.04504385050884023.\n"
     ]
    },
    {
     "name": "stdout",
     "output_type": "stream",
     "text": [
      "ItemKNNCFRecommender: URM Detected 240 ( 1.9%) users with no interactions.\n",
      "ItemKNNCFRecommender: URM Detected 123 ( 0.6%) items with no interactions.\n",
      "Similarity column 22222 (100.0%), 7018.57 column/sec. Elapsed time 3.17 sec\n",
      "EvaluatorHoldout: Processed 10511 (100.0%) in 8.17 sec. Users per second: 1287\n"
     ]
    },
    {
     "name": "stderr",
     "output_type": "stream",
     "text": [
      "[I 2023-12-07 15:32:37,901] Trial 1918 finished with value: 0.04484839389724815 and parameters: {'topK': 20, 'shrink': 1332, 'similarity': 'tanimoto', 'normalize': True, 'feature_weighting': 'BM25'}. Best is trial 1242 with value: 0.04504385050884023.\n"
     ]
    },
    {
     "name": "stdout",
     "output_type": "stream",
     "text": [
      "ItemKNNCFRecommender: URM Detected 240 ( 1.9%) users with no interactions.\n",
      "ItemKNNCFRecommender: URM Detected 123 ( 0.6%) items with no interactions.\n",
      "Similarity column 22222 (100.0%), 7051.38 column/sec. Elapsed time 3.15 sec\n",
      "EvaluatorHoldout: Processed 10511 (100.0%) in 7.69 sec. Users per second: 1367\n"
     ]
    },
    {
     "name": "stderr",
     "output_type": "stream",
     "text": [
      "[I 2023-12-07 15:32:49,003] Trial 1919 finished with value: 0.044281523664551625 and parameters: {'topK': 14, 'shrink': 1453, 'similarity': 'tanimoto', 'normalize': True, 'feature_weighting': 'BM25'}. Best is trial 1242 with value: 0.04504385050884023.\n"
     ]
    },
    {
     "name": "stdout",
     "output_type": "stream",
     "text": [
      "ItemKNNCFRecommender: URM Detected 240 ( 1.9%) users with no interactions.\n",
      "ItemKNNCFRecommender: URM Detected 123 ( 0.6%) items with no interactions.\n",
      "Similarity column 22222 (100.0%), 6223.97 column/sec. Elapsed time 3.57 sec\n",
      "EvaluatorHoldout: Processed 10511 (100.0%) in 8.61 sec. Users per second: 1220\n"
     ]
    },
    {
     "name": "stderr",
     "output_type": "stream",
     "text": [
      "[I 2023-12-07 15:33:01,465] Trial 1920 finished with value: 0.04472586919523521 and parameters: {'topK': 27, 'shrink': 1392, 'similarity': 'tanimoto', 'normalize': True, 'feature_weighting': 'BM25'}. Best is trial 1242 with value: 0.04504385050884023.\n"
     ]
    },
    {
     "name": "stdout",
     "output_type": "stream",
     "text": [
      "ItemKNNCFRecommender: URM Detected 240 ( 1.9%) users with no interactions.\n",
      "ItemKNNCFRecommender: URM Detected 123 ( 0.6%) items with no interactions.\n",
      "Similarity column 22222 (100.0%), 6956.31 column/sec. Elapsed time 3.19 sec\n",
      "EvaluatorHoldout: Processed 10511 (100.0%) in 9.57 sec. Users per second: 1098\n"
     ]
    },
    {
     "name": "stderr",
     "output_type": "stream",
     "text": [
      "[I 2023-12-07 15:33:14,519] Trial 1921 finished with value: 0.04423817149985022 and parameters: {'topK': 47, 'shrink': 1491, 'similarity': 'tanimoto', 'normalize': True, 'feature_weighting': 'BM25'}. Best is trial 1242 with value: 0.04504385050884023.\n"
     ]
    },
    {
     "name": "stdout",
     "output_type": "stream",
     "text": [
      "ItemKNNCFRecommender: URM Detected 240 ( 1.9%) users with no interactions.\n",
      "ItemKNNCFRecommender: URM Detected 123 ( 0.6%) items with no interactions.\n",
      "Similarity column 22222 (100.0%), 6632.26 column/sec. Elapsed time 3.35 sec\n",
      "EvaluatorHoldout: Processed 10511 (100.0%) in 13.26 sec. Users per second: 793\n"
     ]
    },
    {
     "name": "stderr",
     "output_type": "stream",
     "text": [
      "[I 2023-12-07 15:33:31,557] Trial 1922 finished with value: 0.03788592978180125 and parameters: {'topK': 290, 'shrink': 1596, 'similarity': 'tanimoto', 'normalize': True, 'feature_weighting': 'BM25'}. Best is trial 1242 with value: 0.04504385050884023.\n"
     ]
    },
    {
     "name": "stdout",
     "output_type": "stream",
     "text": [
      "ItemKNNCFRecommender: URM Detected 240 ( 1.9%) users with no interactions.\n",
      "ItemKNNCFRecommender: URM Detected 123 ( 0.6%) items with no interactions.\n",
      "Similarity column 22222 (100.0%), 6926.40 column/sec. Elapsed time 3.21 sec\n",
      "EvaluatorHoldout: Processed 10511 (100.0%) in 10.22 sec. Users per second: 1029\n"
     ]
    },
    {
     "name": "stderr",
     "output_type": "stream",
     "text": [
      "[I 2023-12-07 15:33:45,279] Trial 1923 finished with value: 0.043524486063731285 and parameters: {'topK': 64, 'shrink': 1428, 'similarity': 'tanimoto', 'normalize': True, 'feature_weighting': 'BM25'}. Best is trial 1242 with value: 0.04504385050884023.\n"
     ]
    },
    {
     "name": "stdout",
     "output_type": "stream",
     "text": [
      "ItemKNNCFRecommender: URM Detected 240 ( 1.9%) users with no interactions.\n",
      "ItemKNNCFRecommender: URM Detected 123 ( 0.6%) items with no interactions.\n",
      "Similarity column 22222 (100.0%), 7026.78 column/sec. Elapsed time 3.16 sec\n",
      "EvaluatorHoldout: Processed 10511 (100.0%) in 9.09 sec. Users per second: 1156\n"
     ]
    },
    {
     "name": "stderr",
     "output_type": "stream",
     "text": [
      "[I 2023-12-07 15:33:57,806] Trial 1924 finished with value: 0.044406302241190077 and parameters: {'topK': 34, 'shrink': 1523, 'similarity': 'tanimoto', 'normalize': True, 'feature_weighting': 'BM25'}. Best is trial 1242 with value: 0.04504385050884023.\n"
     ]
    },
    {
     "name": "stdout",
     "output_type": "stream",
     "text": [
      "ItemKNNCFRecommender: URM Detected 240 ( 1.9%) users with no interactions.\n",
      "ItemKNNCFRecommender: URM Detected 123 ( 0.6%) items with no interactions.\n",
      "Similarity column 22222 (100.0%), 7021.05 column/sec. Elapsed time 3.17 sec\n",
      "EvaluatorHoldout: Processed 10511 (100.0%) in 8.31 sec. Users per second: 1265\n"
     ]
    },
    {
     "name": "stderr",
     "output_type": "stream",
     "text": [
      "[I 2023-12-07 15:34:09,549] Trial 1925 finished with value: 0.044825889129000866 and parameters: {'topK': 22, 'shrink': 1365, 'similarity': 'jaccard', 'normalize': True, 'feature_weighting': 'BM25'}. Best is trial 1242 with value: 0.04504385050884023.\n"
     ]
    },
    {
     "name": "stdout",
     "output_type": "stream",
     "text": [
      "ItemKNNCFRecommender: URM Detected 240 ( 1.9%) users with no interactions.\n",
      "ItemKNNCFRecommender: URM Detected 123 ( 0.6%) items with no interactions.\n",
      "Similarity column 22222 (100.0%), 7005.77 column/sec. Elapsed time 3.17 sec\n",
      "EvaluatorHoldout: Processed 10511 (100.0%) in 7.66 sec. Users per second: 1372\n"
     ]
    },
    {
     "name": "stderr",
     "output_type": "stream",
     "text": [
      "[I 2023-12-07 15:34:20,645] Trial 1926 finished with value: 0.04426364368092146 and parameters: {'topK': 14, 'shrink': 1462, 'similarity': 'tanimoto', 'normalize': True, 'feature_weighting': 'BM25'}. Best is trial 1242 with value: 0.04504385050884023.\n"
     ]
    },
    {
     "name": "stdout",
     "output_type": "stream",
     "text": [
      "ItemKNNCFRecommender: URM Detected 240 ( 1.9%) users with no interactions.\n",
      "ItemKNNCFRecommender: URM Detected 123 ( 0.6%) items with no interactions.\n",
      "Similarity column 22222 (100.0%), 6943.74 column/sec. Elapsed time 3.20 sec\n",
      "EvaluatorHoldout: Processed 10511 (100.0%) in 6.57 sec. Users per second: 1599\n"
     ]
    },
    {
     "name": "stderr",
     "output_type": "stream",
     "text": [
      "[I 2023-12-07 15:34:30,681] Trial 1927 finished with value: 0.04323569941089726 and parameters: {'topK': 5, 'shrink': 1529, 'similarity': 'tanimoto', 'normalize': True, 'feature_weighting': 'BM25'}. Best is trial 1242 with value: 0.04504385050884023.\n"
     ]
    },
    {
     "name": "stdout",
     "output_type": "stream",
     "text": [
      "ItemKNNCFRecommender: URM Detected 240 ( 1.9%) users with no interactions.\n",
      "ItemKNNCFRecommender: URM Detected 123 ( 0.6%) items with no interactions.\n",
      "Similarity column 22222 (100.0%), 6839.43 column/sec. Elapsed time 3.25 sec\n",
      "EvaluatorHoldout: Processed 10511 (100.0%) in 6.52 sec. Users per second: 1611\n"
     ]
    },
    {
     "name": "stderr",
     "output_type": "stream",
     "text": [
      "[I 2023-12-07 15:34:40,779] Trial 1928 finished with value: 0.036695495120003155 and parameters: {'topK': 33, 'shrink': 1286, 'similarity': 'adjusted', 'normalize': True, 'feature_weighting': 'BM25'}. Best is trial 1242 with value: 0.04504385050884023.\n"
     ]
    },
    {
     "name": "stdout",
     "output_type": "stream",
     "text": [
      "ItemKNNCFRecommender: URM Detected 240 ( 1.9%) users with no interactions.\n",
      "ItemKNNCFRecommender: URM Detected 123 ( 0.6%) items with no interactions.\n",
      "Similarity column 22222 (100.0%), 6949.08 column/sec. Elapsed time 3.20 sec\n",
      "EvaluatorHoldout: Processed 10511 (100.0%) in 8.23 sec. Users per second: 1278\n"
     ]
    },
    {
     "name": "stderr",
     "output_type": "stream",
     "text": [
      "[I 2023-12-07 15:34:52,472] Trial 1929 finished with value: 0.044940485628812775 and parameters: {'topK': 20, 'shrink': 1403, 'similarity': 'tanimoto', 'normalize': True, 'feature_weighting': 'BM25'}. Best is trial 1242 with value: 0.04504385050884023.\n"
     ]
    },
    {
     "name": "stdout",
     "output_type": "stream",
     "text": [
      "ItemKNNCFRecommender: URM Detected 240 ( 1.9%) users with no interactions.\n",
      "ItemKNNCFRecommender: URM Detected 123 ( 0.6%) items with no interactions.\n",
      "Similarity column 22222 (100.0%), 6310.69 column/sec. Elapsed time 3.52 sec\n",
      "EvaluatorHoldout: Processed 10511 (100.0%) in 12.83 sec. Users per second: 819\n"
     ]
    },
    {
     "name": "stderr",
     "output_type": "stream",
     "text": [
      "[I 2023-12-07 15:35:09,248] Trial 1930 finished with value: 0.03847925755784232 and parameters: {'topK': 260, 'shrink': 1495, 'similarity': 'tanimoto', 'normalize': True, 'feature_weighting': 'BM25'}. Best is trial 1242 with value: 0.04504385050884023.\n"
     ]
    },
    {
     "name": "stdout",
     "output_type": "stream",
     "text": [
      "ItemKNNCFRecommender: URM Detected 240 ( 1.9%) users with no interactions.\n",
      "ItemKNNCFRecommender: URM Detected 123 ( 0.6%) items with no interactions.\n",
      "Similarity column 22222 (100.0%), 6637.81 column/sec. Elapsed time 3.35 sec\n",
      "EvaluatorHoldout: Processed 10511 (100.0%) in 12.68 sec. Users per second: 829\n"
     ]
    },
    {
     "name": "stderr",
     "output_type": "stream",
     "text": [
      "[I 2023-12-07 15:35:25,681] Trial 1931 finished with value: 0.027850086757184356 and parameters: {'topK': 237, 'shrink': 1572, 'similarity': 'tanimoto', 'normalize': True, 'feature_weighting': 'TF-IDF'}. Best is trial 1242 with value: 0.04504385050884023.\n"
     ]
    },
    {
     "name": "stdout",
     "output_type": "stream",
     "text": [
      "ItemKNNCFRecommender: URM Detected 240 ( 1.9%) users with no interactions.\n",
      "ItemKNNCFRecommender: URM Detected 123 ( 0.6%) items with no interactions.\n",
      "Similarity column 22222 (100.0%), 6456.87 column/sec. Elapsed time 3.44 sec\n",
      "EvaluatorHoldout: Processed 10511 (100.0%) in 13.75 sec. Users per second: 764\n"
     ]
    },
    {
     "name": "stderr",
     "output_type": "stream",
     "text": [
      "[I 2023-12-07 15:35:43,349] Trial 1932 finished with value: 0.0369038482738422 and parameters: {'topK': 371, 'shrink': 1449, 'similarity': 'tanimoto', 'normalize': True, 'feature_weighting': 'BM25'}. Best is trial 1242 with value: 0.04504385050884023.\n"
     ]
    },
    {
     "name": "stdout",
     "output_type": "stream",
     "text": [
      "ItemKNNCFRecommender: URM Detected 240 ( 1.9%) users with no interactions.\n",
      "ItemKNNCFRecommender: URM Detected 123 ( 0.6%) items with no interactions.\n",
      "Similarity column 22222 (100.0%), 6755.53 column/sec. Elapsed time 3.29 sec\n",
      "EvaluatorHoldout: Processed 10511 (100.0%) in 6.03 sec. Users per second: 1744\n"
     ]
    },
    {
     "name": "stderr",
     "output_type": "stream",
     "text": [
      "[I 2023-12-07 15:35:52,913] Trial 1933 finished with value: 0.023204352809528383 and parameters: {'topK': 43, 'shrink': 1645, 'similarity': 'cosine', 'normalize': True, 'feature_weighting': 'BM25'}. Best is trial 1242 with value: 0.04504385050884023.\n"
     ]
    },
    {
     "name": "stdout",
     "output_type": "stream",
     "text": [
      "ItemKNNCFRecommender: URM Detected 240 ( 1.9%) users with no interactions.\n",
      "ItemKNNCFRecommender: URM Detected 123 ( 0.6%) items with no interactions.\n",
      "Similarity column 22222 (100.0%), 7050.54 column/sec. Elapsed time 3.15 sec\n",
      "EvaluatorHoldout: Processed 10511 (100.0%) in 8.81 sec. Users per second: 1193\n"
     ]
    },
    {
     "name": "stderr",
     "output_type": "stream",
     "text": [
      "[I 2023-12-07 15:36:05,153] Trial 1934 finished with value: 0.04475566035883858 and parameters: {'topK': 28, 'shrink': 1337, 'similarity': 'tanimoto', 'normalize': True, 'feature_weighting': 'BM25'}. Best is trial 1242 with value: 0.04504385050884023.\n"
     ]
    },
    {
     "name": "stdout",
     "output_type": "stream",
     "text": [
      "ItemKNNCFRecommender: URM Detected 240 ( 1.9%) users with no interactions.\n",
      "ItemKNNCFRecommender: URM Detected 123 ( 0.6%) items with no interactions.\n",
      "Similarity column 22222 (100.0%), 7033.10 column/sec. Elapsed time 3.16 sec\n",
      "EvaluatorHoldout: Processed 10511 (100.0%) in 7.65 sec. Users per second: 1374\n"
     ]
    },
    {
     "name": "stderr",
     "output_type": "stream",
     "text": [
      "[I 2023-12-07 15:36:16,233] Trial 1935 finished with value: 0.04423851883061349 and parameters: {'topK': 14, 'shrink': 1398, 'similarity': 'tanimoto', 'normalize': True, 'feature_weighting': 'BM25'}. Best is trial 1242 with value: 0.04504385050884023.\n"
     ]
    },
    {
     "name": "stdout",
     "output_type": "stream",
     "text": [
      "ItemKNNCFRecommender: URM Detected 240 ( 1.9%) users with no interactions.\n",
      "ItemKNNCFRecommender: URM Detected 123 ( 0.6%) items with no interactions.\n",
      "Similarity column 22222 (100.0%), 7038.93 column/sec. Elapsed time 3.16 sec\n",
      "EvaluatorHoldout: Processed 10511 (100.0%) in 8.52 sec. Users per second: 1234\n"
     ]
    },
    {
     "name": "stderr",
     "output_type": "stream",
     "text": [
      "[I 2023-12-07 15:36:28,186] Trial 1936 finished with value: 0.04469846781829537 and parameters: {'topK': 24, 'shrink': 1471, 'similarity': 'tanimoto', 'normalize': True, 'feature_weighting': 'BM25'}. Best is trial 1242 with value: 0.04504385050884023.\n"
     ]
    },
    {
     "name": "stdout",
     "output_type": "stream",
     "text": [
      "ItemKNNCFRecommender: URM Detected 240 ( 1.9%) users with no interactions.\n",
      "ItemKNNCFRecommender: URM Detected 123 ( 0.6%) items with no interactions.\n",
      "Similarity column 22222 (100.0%), 6828.55 column/sec. Elapsed time 3.25 sec\n",
      "EvaluatorHoldout: Processed 10511 (100.0%) in 9.17 sec. Users per second: 1146\n"
     ]
    },
    {
     "name": "stderr",
     "output_type": "stream",
     "text": [
      "[I 2023-12-07 15:36:40,871] Trial 1937 finished with value: 0.03236583216675537 and parameters: {'topK': 38, 'shrink': 1540, 'similarity': 'tanimoto', 'normalize': True, 'feature_weighting': 'none'}. Best is trial 1242 with value: 0.04504385050884023.\n"
     ]
    },
    {
     "name": "stdout",
     "output_type": "stream",
     "text": [
      "ItemKNNCFRecommender: URM Detected 240 ( 1.9%) users with no interactions.\n",
      "ItemKNNCFRecommender: URM Detected 123 ( 0.6%) items with no interactions.\n",
      "Similarity column 22222 (100.0%), 6949.41 column/sec. Elapsed time 3.20 sec\n",
      "EvaluatorHoldout: Processed 10511 (100.0%) in 9.75 sec. Users per second: 1078\n"
     ]
    },
    {
     "name": "stderr",
     "output_type": "stream",
     "text": [
      "[I 2023-12-07 15:36:54,116] Trial 1938 finished with value: 0.04405280635705963 and parameters: {'topK': 53, 'shrink': 1442, 'similarity': 'tanimoto', 'normalize': True, 'feature_weighting': 'BM25'}. Best is trial 1242 with value: 0.04504385050884023.\n"
     ]
    },
    {
     "name": "stdout",
     "output_type": "stream",
     "text": [
      "ItemKNNCFRecommender: URM Detected 240 ( 1.9%) users with no interactions.\n",
      "ItemKNNCFRecommender: URM Detected 123 ( 0.6%) items with no interactions.\n",
      "Similarity column 22222 (100.0%), 6878.99 column/sec. Elapsed time 3.23 sec\n",
      "EvaluatorHoldout: Processed 10511 (100.0%) in 5.71 sec. Users per second: 1842\n"
     ]
    },
    {
     "name": "stderr",
     "output_type": "stream",
     "text": [
      "[I 2023-12-07 15:37:03,382] Trial 1939 finished with value: 0.010786568266351325 and parameters: {'topK': 12, 'shrink': 1365, 'similarity': 'pearson', 'normalize': True, 'feature_weighting': 'BM25'}. Best is trial 1242 with value: 0.04504385050884023.\n"
     ]
    },
    {
     "name": "stdout",
     "output_type": "stream",
     "text": [
      "ItemKNNCFRecommender: URM Detected 240 ( 1.9%) users with no interactions.\n",
      "ItemKNNCFRecommender: URM Detected 123 ( 0.6%) items with no interactions.\n",
      "Similarity column 22222 (100.0%), 7022.86 column/sec. Elapsed time 3.16 sec\n",
      "EvaluatorHoldout: Processed 10511 (100.0%) in 8.86 sec. Users per second: 1186\n"
     ]
    },
    {
     "name": "stderr",
     "output_type": "stream",
     "text": [
      "[I 2023-12-07 15:37:15,693] Trial 1940 finished with value: 0.04456838489685093 and parameters: {'topK': 31, 'shrink': 1498, 'similarity': 'tanimoto', 'normalize': True, 'feature_weighting': 'BM25'}. Best is trial 1242 with value: 0.04504385050884023.\n"
     ]
    },
    {
     "name": "stdout",
     "output_type": "stream",
     "text": [
      "ItemKNNCFRecommender: URM Detected 240 ( 1.9%) users with no interactions.\n",
      "ItemKNNCFRecommender: URM Detected 123 ( 0.6%) items with no interactions.\n",
      "Similarity column 22222 (100.0%), 7060.08 column/sec. Elapsed time 3.15 sec\n",
      "EvaluatorHoldout: Processed 10511 (100.0%) in 6.54 sec. Users per second: 1606\n"
     ]
    },
    {
     "name": "stderr",
     "output_type": "stream",
     "text": [
      "[I 2023-12-07 15:37:25,648] Trial 1941 finished with value: 0.043185419507606224 and parameters: {'topK': 5, 'shrink': 1582, 'similarity': 'tanimoto', 'normalize': True, 'feature_weighting': 'BM25'}. Best is trial 1242 with value: 0.04504385050884023.\n"
     ]
    },
    {
     "name": "stdout",
     "output_type": "stream",
     "text": [
      "ItemKNNCFRecommender: URM Detected 240 ( 1.9%) users with no interactions.\n",
      "ItemKNNCFRecommender: URM Detected 123 ( 0.6%) items with no interactions.\n",
      "Similarity column 22222 (100.0%), 7055.70 column/sec. Elapsed time 3.15 sec\n",
      "EvaluatorHoldout: Processed 10511 (100.0%) in 8.25 sec. Users per second: 1274\n"
     ]
    },
    {
     "name": "stderr",
     "output_type": "stream",
     "text": [
      "[I 2023-12-07 15:37:37,329] Trial 1942 finished with value: 0.044940485628812775 and parameters: {'topK': 20, 'shrink': 1403, 'similarity': 'tanimoto', 'normalize': True, 'feature_weighting': 'BM25'}. Best is trial 1242 with value: 0.04504385050884023.\n"
     ]
    },
    {
     "name": "stdout",
     "output_type": "stream",
     "text": [
      "ItemKNNCFRecommender: URM Detected 240 ( 1.9%) users with no interactions.\n",
      "ItemKNNCFRecommender: URM Detected 123 ( 0.6%) items with no interactions.\n",
      "Similarity column 22222 (100.0%), 6998.45 column/sec. Elapsed time 3.18 sec\n",
      "EvaluatorHoldout: Processed 10511 (100.0%) in 8.71 sec. Users per second: 1207\n"
     ]
    },
    {
     "name": "stderr",
     "output_type": "stream",
     "text": [
      "[I 2023-12-07 15:37:49,496] Trial 1943 finished with value: 0.044624376881061 and parameters: {'topK': 27, 'shrink': 1499, 'similarity': 'tanimoto', 'normalize': True, 'feature_weighting': 'BM25'}. Best is trial 1242 with value: 0.04504385050884023.\n"
     ]
    },
    {
     "name": "stdout",
     "output_type": "stream",
     "text": [
      "ItemKNNCFRecommender: URM Detected 240 ( 1.9%) users with no interactions.\n",
      "ItemKNNCFRecommender: URM Detected 123 ( 0.6%) items with no interactions.\n",
      "Similarity column 22222 (100.0%), 1180.08 column/sec. Elapsed time 18.83 sec\n",
      "EvaluatorHoldout: Processed 10511 (100.0%) in 5.59 sec. Users per second: 1879\n"
     ]
    },
    {
     "name": "stderr",
     "output_type": "stream",
     "text": [
      "[I 2023-12-07 15:38:14,140] Trial 1944 finished with value: 0.021027551635248318 and parameters: {'topK': 13, 'shrink': 1263, 'similarity': 'euclidean', 'normalize': True, 'feature_weighting': 'BM25'}. Best is trial 1242 with value: 0.04504385050884023.\n"
     ]
    },
    {
     "name": "stdout",
     "output_type": "stream",
     "text": [
      "ItemKNNCFRecommender: URM Detected 240 ( 1.9%) users with no interactions.\n",
      "ItemKNNCFRecommender: URM Detected 123 ( 0.6%) items with no interactions.\n",
      "Similarity column 22222 (100.0%), 6987.26 column/sec. Elapsed time 3.18 sec\n",
      "EvaluatorHoldout: Processed 10511 (100.0%) in 9.33 sec. Users per second: 1127\n"
     ]
    },
    {
     "name": "stderr",
     "output_type": "stream",
     "text": [
      "[I 2023-12-07 15:38:26,940] Trial 1945 finished with value: 0.04455191311294497 and parameters: {'topK': 40, 'shrink': 1446, 'similarity': 'tanimoto', 'normalize': True, 'feature_weighting': 'BM25'}. Best is trial 1242 with value: 0.04504385050884023.\n"
     ]
    },
    {
     "name": "stdout",
     "output_type": "stream",
     "text": [
      "ItemKNNCFRecommender: URM Detected 240 ( 1.9%) users with no interactions.\n",
      "ItemKNNCFRecommender: URM Detected 123 ( 0.6%) items with no interactions.\n",
      "Similarity column 22222 (100.0%), 7054.86 column/sec. Elapsed time 3.15 sec\n",
      "EvaluatorHoldout: Processed 10511 (100.0%) in 8.28 sec. Users per second: 1269\n"
     ]
    },
    {
     "name": "stderr",
     "output_type": "stream",
     "text": [
      "[I 2023-12-07 15:38:38,646] Trial 1946 finished with value: 0.04489067009165072 and parameters: {'topK': 21, 'shrink': 1324, 'similarity': 'tanimoto', 'normalize': True, 'feature_weighting': 'BM25'}. Best is trial 1242 with value: 0.04504385050884023.\n"
     ]
    },
    {
     "name": "stdout",
     "output_type": "stream",
     "text": [
      "ItemKNNCFRecommender: URM Detected 240 ( 1.9%) users with no interactions.\n",
      "ItemKNNCFRecommender: URM Detected 123 ( 0.6%) items with no interactions.\n",
      "Similarity column 22222 (100.0%), 6951.17 column/sec. Elapsed time 3.20 sec\n",
      "EvaluatorHoldout: Processed 10511 (100.0%) in 8.93 sec. Users per second: 1177\n"
     ]
    },
    {
     "name": "stderr",
     "output_type": "stream",
     "text": [
      "[I 2023-12-07 15:38:51,045] Trial 1947 finished with value: 0.04460107551725923 and parameters: {'topK': 33, 'shrink': 1548, 'similarity': 'tanimoto', 'normalize': True, 'feature_weighting': 'BM25'}. Best is trial 1242 with value: 0.04504385050884023.\n"
     ]
    },
    {
     "name": "stdout",
     "output_type": "stream",
     "text": [
      "ItemKNNCFRecommender: URM Detected 240 ( 1.9%) users with no interactions.\n",
      "ItemKNNCFRecommender: URM Detected 123 ( 0.6%) items with no interactions.\n",
      "Similarity column 22222 (100.0%), 7019.36 column/sec. Elapsed time 3.17 sec\n",
      "EvaluatorHoldout: Processed 10511 (100.0%) in 7.59 sec. Users per second: 1386\n"
     ]
    },
    {
     "name": "stderr",
     "output_type": "stream",
     "text": [
      "[I 2023-12-07 15:39:02,064] Trial 1948 finished with value: 0.04435830641519977 and parameters: {'topK': 13, 'shrink': 1421, 'similarity': 'tanimoto', 'normalize': True, 'feature_weighting': 'BM25'}. Best is trial 1242 with value: 0.04504385050884023.\n"
     ]
    },
    {
     "name": "stdout",
     "output_type": "stream",
     "text": [
      "ItemKNNCFRecommender: URM Detected 240 ( 1.9%) users with no interactions.\n",
      "ItemKNNCFRecommender: URM Detected 123 ( 0.6%) items with no interactions.\n",
      "Similarity column 22222 (100.0%), 6875.43 column/sec. Elapsed time 3.23 sec\n",
      "EvaluatorHoldout: Processed 10511 (100.0%) in 9.44 sec. Users per second: 1114\n"
     ]
    },
    {
     "name": "stderr",
     "output_type": "stream",
     "text": [
      "[I 2023-12-07 15:39:15,019] Trial 1949 finished with value: 0.04430312612788171 and parameters: {'topK': 43, 'shrink': 1495, 'similarity': 'tanimoto', 'normalize': True, 'feature_weighting': 'BM25'}. Best is trial 1242 with value: 0.04504385050884023.\n"
     ]
    },
    {
     "name": "stdout",
     "output_type": "stream",
     "text": [
      "ItemKNNCFRecommender: URM Detected 240 ( 1.9%) users with no interactions.\n",
      "ItemKNNCFRecommender: URM Detected 123 ( 0.6%) items with no interactions.\n",
      "Similarity column 22222 (100.0%), 7010.60 column/sec. Elapsed time 3.17 sec\n",
      "EvaluatorHoldout: Processed 10511 (100.0%) in 8.47 sec. Users per second: 1241\n"
     ]
    },
    {
     "name": "stderr",
     "output_type": "stream",
     "text": [
      "[I 2023-12-07 15:39:26,932] Trial 1950 finished with value: 0.032826256846569306 and parameters: {'topK': 24, 'shrink': 1391, 'similarity': 'jaccard', 'normalize': True, 'feature_weighting': 'TF-IDF'}. Best is trial 1242 with value: 0.04504385050884023.\n"
     ]
    },
    {
     "name": "stdout",
     "output_type": "stream",
     "text": [
      "ItemKNNCFRecommender: URM Detected 240 ( 1.9%) users with no interactions.\n",
      "ItemKNNCFRecommender: URM Detected 123 ( 0.6%) items with no interactions.\n",
      "Similarity column 22222 (100.0%), 7054.80 column/sec. Elapsed time 3.15 sec\n",
      "EvaluatorHoldout: Processed 10511 (100.0%) in 7.68 sec. Users per second: 1368\n"
     ]
    },
    {
     "name": "stderr",
     "output_type": "stream",
     "text": [
      "[I 2023-12-07 15:39:38,036] Trial 1951 finished with value: 0.04422447081138026 and parameters: {'topK': 13, 'shrink': 1634, 'similarity': 'tanimoto', 'normalize': True, 'feature_weighting': 'BM25'}. Best is trial 1242 with value: 0.04504385050884023.\n"
     ]
    },
    {
     "name": "stdout",
     "output_type": "stream",
     "text": [
      "ItemKNNCFRecommender: URM Detected 240 ( 1.9%) users with no interactions.\n",
      "ItemKNNCFRecommender: URM Detected 123 ( 0.6%) items with no interactions.\n",
      "Similarity column 22222 (100.0%), 6918.70 column/sec. Elapsed time 3.21 sec\n",
      "EvaluatorHoldout: Processed 10511 (100.0%) in 9.95 sec. Users per second: 1056\n"
     ]
    },
    {
     "name": "stderr",
     "output_type": "stream",
     "text": [
      "[I 2023-12-07 15:39:51,494] Trial 1952 finished with value: 0.043571500302782375 and parameters: {'topK': 58, 'shrink': 1463, 'similarity': 'tanimoto', 'normalize': True, 'feature_weighting': 'BM25'}. Best is trial 1242 with value: 0.04504385050884023.\n"
     ]
    },
    {
     "name": "stdout",
     "output_type": "stream",
     "text": [
      "ItemKNNCFRecommender: URM Detected 240 ( 1.9%) users with no interactions.\n",
      "ItemKNNCFRecommender: URM Detected 123 ( 0.6%) items with no interactions.\n",
      "Similarity column 22222 (100.0%), 6881.94 column/sec. Elapsed time 3.23 sec\n",
      "EvaluatorHoldout: Processed 10511 (100.0%) in 9.02 sec. Users per second: 1165\n"
     ]
    },
    {
     "name": "stderr",
     "output_type": "stream",
     "text": [
      "[I 2023-12-07 15:40:04,035] Trial 1953 finished with value: 0.044368896228139575 and parameters: {'topK': 32, 'shrink': 1812, 'similarity': 'tanimoto', 'normalize': True, 'feature_weighting': 'BM25'}. Best is trial 1242 with value: 0.04504385050884023.\n"
     ]
    },
    {
     "name": "stdout",
     "output_type": "stream",
     "text": [
      "ItemKNNCFRecommender: URM Detected 240 ( 1.9%) users with no interactions.\n",
      "ItemKNNCFRecommender: URM Detected 123 ( 0.6%) items with no interactions.\n",
      "Similarity column 22222 (100.0%), 6591.98 column/sec. Elapsed time 3.37 sec\n",
      "EvaluatorHoldout: Processed 10511 (100.0%) in 8.18 sec. Users per second: 1285\n"
     ]
    },
    {
     "name": "stderr",
     "output_type": "stream",
     "text": [
      "[I 2023-12-07 15:40:15,866] Trial 1954 finished with value: 0.04466700418156093 and parameters: {'topK': 19, 'shrink': 1534, 'similarity': 'tanimoto', 'normalize': True, 'feature_weighting': 'BM25'}. Best is trial 1242 with value: 0.04504385050884023.\n"
     ]
    },
    {
     "name": "stdout",
     "output_type": "stream",
     "text": [
      "ItemKNNCFRecommender: URM Detected 240 ( 1.9%) users with no interactions.\n",
      "ItemKNNCFRecommender: URM Detected 123 ( 0.6%) items with no interactions.\n",
      "Similarity column 22222 (100.0%), 6958.81 column/sec. Elapsed time 3.19 sec\n",
      "EvaluatorHoldout: Processed 10511 (100.0%) in 6.39 sec. Users per second: 1644\n"
     ]
    },
    {
     "name": "stderr",
     "output_type": "stream",
     "text": [
      "[I 2023-12-07 15:40:25,771] Trial 1955 finished with value: 0.036769933388000574 and parameters: {'topK': 28, 'shrink': 1350, 'similarity': 'adjusted', 'normalize': True, 'feature_weighting': 'BM25'}. Best is trial 1242 with value: 0.04504385050884023.\n"
     ]
    },
    {
     "name": "stdout",
     "output_type": "stream",
     "text": [
      "ItemKNNCFRecommender: URM Detected 240 ( 1.9%) users with no interactions.\n",
      "ItemKNNCFRecommender: URM Detected 123 ( 0.6%) items with no interactions.\n",
      "Similarity column 22222 (100.0%), 6919.55 column/sec. Elapsed time 3.21 sec\n",
      "EvaluatorHoldout: Processed 10511 (100.0%) in 9.74 sec. Users per second: 1079\n"
     ]
    },
    {
     "name": "stderr",
     "output_type": "stream",
     "text": [
      "[I 2023-12-07 15:40:39,007] Trial 1956 finished with value: 0.04408274098336947 and parameters: {'topK': 50, 'shrink': 1592, 'similarity': 'tanimoto', 'normalize': False, 'feature_weighting': 'BM25'}. Best is trial 1242 with value: 0.04504385050884023.\n"
     ]
    },
    {
     "name": "stdout",
     "output_type": "stream",
     "text": [
      "ItemKNNCFRecommender: URM Detected 240 ( 1.9%) users with no interactions.\n",
      "ItemKNNCFRecommender: URM Detected 123 ( 0.6%) items with no interactions.\n",
      "Similarity column 22222 (100.0%), 6988.67 column/sec. Elapsed time 3.18 sec\n",
      "EvaluatorHoldout: Processed 10511 (100.0%) in 6.46 sec. Users per second: 1626\n"
     ]
    },
    {
     "name": "stderr",
     "output_type": "stream",
     "text": [
      "[I 2023-12-07 15:40:48,912] Trial 1957 finished with value: 0.04328707038582454 and parameters: {'topK': 5, 'shrink': 1461, 'similarity': 'tanimoto', 'normalize': True, 'feature_weighting': 'BM25'}. Best is trial 1242 with value: 0.04504385050884023.\n"
     ]
    },
    {
     "name": "stdout",
     "output_type": "stream",
     "text": [
      "ItemKNNCFRecommender: URM Detected 240 ( 1.9%) users with no interactions.\n",
      "ItemKNNCFRecommender: URM Detected 123 ( 0.6%) items with no interactions.\n",
      "Similarity column 22222 (100.0%), 6926.89 column/sec. Elapsed time 3.21 sec\n",
      "EvaluatorHoldout: Processed 10511 (100.0%) in 8.98 sec. Users per second: 1170\n"
     ]
    },
    {
     "name": "stderr",
     "output_type": "stream",
     "text": [
      "[I 2023-12-07 15:41:01,375] Trial 1958 finished with value: 0.044516904437226515 and parameters: {'topK': 36, 'shrink': 1301, 'similarity': 'tanimoto', 'normalize': True, 'feature_weighting': 'BM25'}. Best is trial 1242 with value: 0.04504385050884023.\n"
     ]
    },
    {
     "name": "stdout",
     "output_type": "stream",
     "text": [
      "ItemKNNCFRecommender: URM Detected 240 ( 1.9%) users with no interactions.\n",
      "ItemKNNCFRecommender: URM Detected 123 ( 0.6%) items with no interactions.\n",
      "Similarity column 22222 (100.0%), 6978.89 column/sec. Elapsed time 3.18 sec\n",
      "EvaluatorHoldout: Processed 10511 (100.0%) in 8.11 sec. Users per second: 1297\n"
     ]
    },
    {
     "name": "stderr",
     "output_type": "stream",
     "text": [
      "[I 2023-12-07 15:41:12,918] Trial 1959 finished with value: 0.03321643387954915 and parameters: {'topK': 20, 'shrink': 1183, 'similarity': 'tanimoto', 'normalize': True, 'feature_weighting': 'none'}. Best is trial 1242 with value: 0.04504385050884023.\n"
     ]
    },
    {
     "name": "stdout",
     "output_type": "stream",
     "text": [
      "ItemKNNCFRecommender: URM Detected 240 ( 1.9%) users with no interactions.\n",
      "ItemKNNCFRecommender: URM Detected 123 ( 0.6%) items with no interactions.\n",
      "Similarity column 22222 (100.0%), 6800.03 column/sec. Elapsed time 3.27 sec\n",
      "EvaluatorHoldout: Processed 10511 (100.0%) in 5.53 sec. Users per second: 1901\n"
     ]
    },
    {
     "name": "stderr",
     "output_type": "stream",
     "text": [
      "[I 2023-12-07 15:41:21,951] Trial 1960 finished with value: 0.024117798738434282 and parameters: {'topK': 13, 'shrink': 1416, 'similarity': 'cosine', 'normalize': True, 'feature_weighting': 'BM25'}. Best is trial 1242 with value: 0.04504385050884023.\n"
     ]
    },
    {
     "name": "stdout",
     "output_type": "stream",
     "text": [
      "ItemKNNCFRecommender: URM Detected 240 ( 1.9%) users with no interactions.\n",
      "ItemKNNCFRecommender: URM Detected 123 ( 0.6%) items with no interactions.\n",
      "Similarity column 22222 (100.0%), 6962.53 column/sec. Elapsed time 3.19 sec\n",
      "EvaluatorHoldout: Processed 10511 (100.0%) in 8.73 sec. Users per second: 1204\n"
     ]
    },
    {
     "name": "stderr",
     "output_type": "stream",
     "text": [
      "[I 2023-12-07 15:41:34,164] Trial 1961 finished with value: 0.04461197113228383 and parameters: {'topK': 27, 'shrink': 1519, 'similarity': 'tanimoto', 'normalize': False, 'feature_weighting': 'BM25'}. Best is trial 1242 with value: 0.04504385050884023.\n"
     ]
    },
    {
     "name": "stdout",
     "output_type": "stream",
     "text": [
      "ItemKNNCFRecommender: URM Detected 240 ( 1.9%) users with no interactions.\n",
      "ItemKNNCFRecommender: URM Detected 123 ( 0.6%) items with no interactions.\n",
      "Similarity column 22222 (100.0%), 6956.85 column/sec. Elapsed time 3.19 sec\n",
      "EvaluatorHoldout: Processed 10511 (100.0%) in 9.55 sec. Users per second: 1101\n"
     ]
    },
    {
     "name": "stderr",
     "output_type": "stream",
     "text": [
      "[I 2023-12-07 15:41:47,196] Trial 1962 finished with value: 0.04441328660979556 and parameters: {'topK': 42, 'shrink': 1378, 'similarity': 'tanimoto', 'normalize': True, 'feature_weighting': 'BM25'}. Best is trial 1242 with value: 0.04504385050884023.\n"
     ]
    },
    {
     "name": "stdout",
     "output_type": "stream",
     "text": [
      "ItemKNNCFRecommender: URM Detected 240 ( 1.9%) users with no interactions.\n",
      "ItemKNNCFRecommender: URM Detected 123 ( 0.6%) items with no interactions.\n",
      "Similarity column 22222 (100.0%), 7021.51 column/sec. Elapsed time 3.16 sec\n",
      "EvaluatorHoldout: Processed 10511 (100.0%) in 6.54 sec. Users per second: 1608\n"
     ]
    },
    {
     "name": "stderr",
     "output_type": "stream",
     "text": [
      "[I 2023-12-07 15:41:57,163] Trial 1963 finished with value: 0.043260552437129805 and parameters: {'topK': 5, 'shrink': 1483, 'similarity': 'tanimoto', 'normalize': True, 'feature_weighting': 'BM25'}. Best is trial 1242 with value: 0.04504385050884023.\n"
     ]
    },
    {
     "name": "stdout",
     "output_type": "stream",
     "text": [
      "ItemKNNCFRecommender: URM Detected 240 ( 1.9%) users with no interactions.\n",
      "ItemKNNCFRecommender: URM Detected 123 ( 0.6%) items with no interactions.\n",
      "Similarity column 22222 (100.0%), 6988.99 column/sec. Elapsed time 3.18 sec\n",
      "EvaluatorHoldout: Processed 10511 (100.0%) in 8.37 sec. Users per second: 1255\n"
     ]
    },
    {
     "name": "stderr",
     "output_type": "stream",
     "text": [
      "[I 2023-12-07 15:42:09,016] Trial 1964 finished with value: 0.044986450324905926 and parameters: {'topK': 21, 'shrink': 1436, 'similarity': 'tanimoto', 'normalize': True, 'feature_weighting': 'BM25'}. Best is trial 1242 with value: 0.04504385050884023.\n"
     ]
    },
    {
     "name": "stdout",
     "output_type": "stream",
     "text": [
      "ItemKNNCFRecommender: URM Detected 240 ( 1.9%) users with no interactions.\n",
      "ItemKNNCFRecommender: URM Detected 123 ( 0.6%) items with no interactions.\n",
      "Similarity column 22222 (100.0%), 6543.46 column/sec. Elapsed time 3.40 sec\n",
      "EvaluatorHoldout: Processed 10511 (100.0%) in 8.99 sec. Users per second: 1169\n"
     ]
    },
    {
     "name": "stderr",
     "output_type": "stream",
     "text": [
      "[I 2023-12-07 15:42:21,729] Trial 1965 finished with value: 0.04445004326533261 and parameters: {'topK': 35, 'shrink': 1343, 'similarity': 'tanimoto', 'normalize': False, 'feature_weighting': 'BM25'}. Best is trial 1242 with value: 0.04504385050884023.\n"
     ]
    },
    {
     "name": "stdout",
     "output_type": "stream",
     "text": [
      "ItemKNNCFRecommender: URM Detected 240 ( 1.9%) users with no interactions.\n",
      "ItemKNNCFRecommender: URM Detected 123 ( 0.6%) items with no interactions.\n",
      "Similarity column 22222 (100.0%), 6935.29 column/sec. Elapsed time 3.20 sec\n",
      "EvaluatorHoldout: Processed 10511 (100.0%) in 8.46 sec. Users per second: 1243\n"
     ]
    },
    {
     "name": "stderr",
     "output_type": "stream",
     "text": [
      "[I 2023-12-07 15:42:33,693] Trial 1966 finished with value: 0.04456130992022033 and parameters: {'topK': 25, 'shrink': 1267, 'similarity': 'tanimoto', 'normalize': True, 'feature_weighting': 'BM25'}. Best is trial 1242 with value: 0.04504385050884023.\n"
     ]
    },
    {
     "name": "stdout",
     "output_type": "stream",
     "text": [
      "ItemKNNCFRecommender: URM Detected 240 ( 1.9%) users with no interactions.\n",
      "ItemKNNCFRecommender: URM Detected 123 ( 0.6%) items with no interactions.\n",
      "Similarity column 22222 (100.0%), 7006.41 column/sec. Elapsed time 3.17 sec\n",
      "EvaluatorHoldout: Processed 10511 (100.0%) in 9.63 sec. Users per second: 1092\n"
     ]
    },
    {
     "name": "stderr",
     "output_type": "stream",
     "text": [
      "[I 2023-12-07 15:42:46,781] Trial 1967 finished with value: 0.04433840285234117 and parameters: {'topK': 44, 'shrink': 1379, 'similarity': 'tanimoto', 'normalize': True, 'feature_weighting': 'BM25'}. Best is trial 1242 with value: 0.04504385050884023.\n"
     ]
    },
    {
     "name": "stdout",
     "output_type": "stream",
     "text": [
      "ItemKNNCFRecommender: URM Detected 240 ( 1.9%) users with no interactions.\n",
      "ItemKNNCFRecommender: URM Detected 123 ( 0.6%) items with no interactions.\n",
      "Similarity column 22222 (100.0%), 7040.97 column/sec. Elapsed time 3.16 sec\n",
      "EvaluatorHoldout: Processed 10511 (100.0%) in 7.52 sec. Users per second: 1397\n"
     ]
    },
    {
     "name": "stderr",
     "output_type": "stream",
     "text": [
      "[I 2023-12-07 15:42:57,721] Trial 1968 finished with value: 0.04441528753701772 and parameters: {'topK': 13, 'shrink': 1317, 'similarity': 'tanimoto', 'normalize': True, 'feature_weighting': 'BM25'}. Best is trial 1242 with value: 0.04504385050884023.\n"
     ]
    },
    {
     "name": "stdout",
     "output_type": "stream",
     "text": [
      "ItemKNNCFRecommender: URM Detected 240 ( 1.9%) users with no interactions.\n",
      "ItemKNNCFRecommender: URM Detected 123 ( 0.6%) items with no interactions.\n",
      "Similarity column 22222 (100.0%), 7009.84 column/sec. Elapsed time 3.17 sec\n",
      "EvaluatorHoldout: Processed 10511 (100.0%) in 5.91 sec. Users per second: 1779\n"
     ]
    },
    {
     "name": "stderr",
     "output_type": "stream",
     "text": [
      "[I 2023-12-07 15:43:07,138] Trial 1969 finished with value: 0.010405059401111137 and parameters: {'topK': 33, 'shrink': 1419, 'similarity': 'pearson', 'normalize': False, 'feature_weighting': 'BM25'}. Best is trial 1242 with value: 0.04504385050884023.\n"
     ]
    },
    {
     "name": "stdout",
     "output_type": "stream",
     "text": [
      "ItemKNNCFRecommender: URM Detected 240 ( 1.9%) users with no interactions.\n",
      "ItemKNNCFRecommender: URM Detected 123 ( 0.6%) items with no interactions.\n",
      "Similarity column 22222 (100.0%), 7044.91 column/sec. Elapsed time 3.15 sec\n",
      "EvaluatorHoldout: Processed 10511 (100.0%) in 8.33 sec. Users per second: 1261\n"
     ]
    },
    {
     "name": "stderr",
     "output_type": "stream",
     "text": [
      "[I 2023-12-07 15:43:18,898] Trial 1970 finished with value: 0.04494305285619207 and parameters: {'topK': 21, 'shrink': 1419, 'similarity': 'tanimoto', 'normalize': True, 'feature_weighting': 'BM25'}. Best is trial 1242 with value: 0.04504385050884023.\n"
     ]
    },
    {
     "name": "stdout",
     "output_type": "stream",
     "text": [
      "ItemKNNCFRecommender: URM Detected 240 ( 1.9%) users with no interactions.\n",
      "ItemKNNCFRecommender: URM Detected 123 ( 0.6%) items with no interactions.\n",
      "Similarity column 22222 (100.0%), 6979.74 column/sec. Elapsed time 3.18 sec\n",
      "EvaluatorHoldout: Processed 10511 (100.0%) in 8.65 sec. Users per second: 1216\n"
     ]
    },
    {
     "name": "stderr",
     "output_type": "stream",
     "text": [
      "[I 2023-12-07 15:43:31,010] Trial 1971 finished with value: 0.04463179918845473 and parameters: {'topK': 29, 'shrink': 1248, 'similarity': 'tanimoto', 'normalize': True, 'feature_weighting': 'BM25'}. Best is trial 1242 with value: 0.04504385050884023.\n"
     ]
    },
    {
     "name": "stdout",
     "output_type": "stream",
     "text": [
      "ItemKNNCFRecommender: URM Detected 240 ( 1.9%) users with no interactions.\n",
      "ItemKNNCFRecommender: URM Detected 123 ( 0.6%) items with no interactions.\n",
      "Similarity column 22222 (100.0%), 855.67 column/sec. Elapsed time 25.97 sec\n",
      "EvaluatorHoldout: Processed 10511 (100.0%) in 9.97 sec. Users per second: 1054\n"
     ]
    },
    {
     "name": "stderr",
     "output_type": "stream",
     "text": [
      "[I 2023-12-07 15:44:07,353] Trial 1972 finished with value: 0.010335510191137605 and parameters: {'topK': 322, 'shrink': 1355, 'similarity': 'euclidean', 'normalize': True, 'feature_weighting': 'BM25'}. Best is trial 1242 with value: 0.04504385050884023.\n"
     ]
    },
    {
     "name": "stdout",
     "output_type": "stream",
     "text": [
      "ItemKNNCFRecommender: URM Detected 240 ( 1.9%) users with no interactions.\n",
      "ItemKNNCFRecommender: URM Detected 123 ( 0.6%) items with no interactions.\n",
      "Similarity column 22222 (100.0%), 7002.11 column/sec. Elapsed time 3.17 sec\n",
      "EvaluatorHoldout: Processed 10511 (100.0%) in 7.75 sec. Users per second: 1356\n"
     ]
    },
    {
     "name": "stderr",
     "output_type": "stream",
     "text": [
      "[I 2023-12-07 15:44:18,542] Trial 1973 finished with value: 0.03271420114679588 and parameters: {'topK': 14, 'shrink': 1444, 'similarity': 'tanimoto', 'normalize': True, 'feature_weighting': 'TF-IDF'}. Best is trial 1242 with value: 0.04504385050884023.\n"
     ]
    },
    {
     "name": "stdout",
     "output_type": "stream",
     "text": [
      "ItemKNNCFRecommender: URM Detected 240 ( 1.9%) users with no interactions.\n",
      "ItemKNNCFRecommender: URM Detected 123 ( 0.6%) items with no interactions.\n",
      "Similarity column 22222 (100.0%), 6957.97 column/sec. Elapsed time 3.19 sec\n",
      "EvaluatorHoldout: Processed 10511 (100.0%) in 9.74 sec. Users per second: 1079\n"
     ]
    },
    {
     "name": "stderr",
     "output_type": "stream",
     "text": [
      "[I 2023-12-07 15:44:31,776] Trial 1974 finished with value: 0.04413588259012156 and parameters: {'topK': 52, 'shrink': 1380, 'similarity': 'tanimoto', 'normalize': False, 'feature_weighting': 'BM25'}. Best is trial 1242 with value: 0.04504385050884023.\n"
     ]
    },
    {
     "name": "stdout",
     "output_type": "stream",
     "text": [
      "ItemKNNCFRecommender: URM Detected 240 ( 1.9%) users with no interactions.\n",
      "ItemKNNCFRecommender: URM Detected 123 ( 0.6%) items with no interactions.\n",
      "Similarity column 22222 (100.0%), 6975.37 column/sec. Elapsed time 3.19 sec\n",
      "EvaluatorHoldout: Processed 10511 (100.0%) in 8.31 sec. Users per second: 1265\n"
     ]
    },
    {
     "name": "stderr",
     "output_type": "stream",
     "text": [
      "[I 2023-12-07 15:44:43,554] Trial 1975 finished with value: 0.04497838621066731 and parameters: {'topK': 21, 'shrink': 1506, 'similarity': 'tanimoto', 'normalize': True, 'feature_weighting': 'BM25'}. Best is trial 1242 with value: 0.04504385050884023.\n"
     ]
    },
    {
     "name": "stdout",
     "output_type": "stream",
     "text": [
      "ItemKNNCFRecommender: URM Detected 240 ( 1.9%) users with no interactions.\n",
      "ItemKNNCFRecommender: URM Detected 123 ( 0.6%) items with no interactions.\n",
      "Similarity column 22222 (100.0%), 6291.77 column/sec. Elapsed time 3.53 sec\n",
      "EvaluatorHoldout: Processed 10511 (100.0%) in 9.24 sec. Users per second: 1137\n"
     ]
    },
    {
     "name": "stderr",
     "output_type": "stream",
     "text": [
      "[I 2023-12-07 15:44:56,637] Trial 1976 finished with value: 0.043045188487344954 and parameters: {'topK': 71, 'shrink': 436, 'similarity': 'tanimoto', 'normalize': True, 'feature_weighting': 'BM25'}. Best is trial 1242 with value: 0.04504385050884023.\n"
     ]
    },
    {
     "name": "stdout",
     "output_type": "stream",
     "text": [
      "ItemKNNCFRecommender: URM Detected 240 ( 1.9%) users with no interactions.\n",
      "ItemKNNCFRecommender: URM Detected 123 ( 0.6%) items with no interactions.\n",
      "Similarity column 22222 (100.0%), 6921.35 column/sec. Elapsed time 3.21 sec\n",
      "EvaluatorHoldout: Processed 10511 (100.0%) in 9.56 sec. Users per second: 1099\n"
     ]
    },
    {
     "name": "stderr",
     "output_type": "stream",
     "text": [
      "[I 2023-12-07 15:45:09,696] Trial 1977 finished with value: 0.044318197262732166 and parameters: {'topK': 40, 'shrink': 1671, 'similarity': 'tanimoto', 'normalize': True, 'feature_weighting': 'BM25'}. Best is trial 1242 with value: 0.04504385050884023.\n"
     ]
    },
    {
     "name": "stdout",
     "output_type": "stream",
     "text": [
      "ItemKNNCFRecommender: URM Detected 240 ( 1.9%) users with no interactions.\n",
      "ItemKNNCFRecommender: URM Detected 123 ( 0.6%) items with no interactions.\n",
      "Similarity column 22222 (100.0%), 6897.28 column/sec. Elapsed time 3.22 sec\n",
      "EvaluatorHoldout: Processed 10511 (100.0%) in 8.93 sec. Users per second: 1178\n"
     ]
    },
    {
     "name": "stderr",
     "output_type": "stream",
     "text": [
      "[I 2023-12-07 15:45:22,129] Trial 1978 finished with value: 0.04456206876243098 and parameters: {'topK': 29, 'shrink': 1580, 'similarity': 'tanimoto', 'normalize': True, 'feature_weighting': 'BM25'}. Best is trial 1242 with value: 0.04504385050884023.\n"
     ]
    },
    {
     "name": "stdout",
     "output_type": "stream",
     "text": [
      "ItemKNNCFRecommender: URM Detected 240 ( 1.9%) users with no interactions.\n",
      "ItemKNNCFRecommender: URM Detected 123 ( 0.6%) items with no interactions.\n",
      "Similarity column 22222 (100.0%), 6948.85 column/sec. Elapsed time 3.20 sec\n",
      "EvaluatorHoldout: Processed 10511 (100.0%) in 6.56 sec. Users per second: 1601\n"
     ]
    },
    {
     "name": "stderr",
     "output_type": "stream",
     "text": [
      "[I 2023-12-07 15:45:32,164] Trial 1979 finished with value: 0.04314390215541434 and parameters: {'topK': 5, 'shrink': 1619, 'similarity': 'jaccard', 'normalize': True, 'feature_weighting': 'BM25'}. Best is trial 1242 with value: 0.04504385050884023.\n"
     ]
    },
    {
     "name": "stdout",
     "output_type": "stream",
     "text": [
      "ItemKNNCFRecommender: URM Detected 240 ( 1.9%) users with no interactions.\n",
      "ItemKNNCFRecommender: URM Detected 123 ( 0.6%) items with no interactions.\n",
      "Similarity column 22222 (100.0%), 6644.41 column/sec. Elapsed time 3.34 sec\n",
      "EvaluatorHoldout: Processed 10511 (100.0%) in 13.21 sec. Users per second: 796\n"
     ]
    },
    {
     "name": "stderr",
     "output_type": "stream",
     "text": [
      "[I 2023-12-07 15:45:49,146] Trial 1980 finished with value: 0.037953255319824124 and parameters: {'topK': 279, 'shrink': 1571, 'similarity': 'tanimoto', 'normalize': True, 'feature_weighting': 'BM25'}. Best is trial 1242 with value: 0.04504385050884023.\n"
     ]
    },
    {
     "name": "stdout",
     "output_type": "stream",
     "text": [
      "ItemKNNCFRecommender: URM Detected 240 ( 1.9%) users with no interactions.\n",
      "ItemKNNCFRecommender: URM Detected 123 ( 0.6%) items with no interactions.\n",
      "Similarity column 22222 (100.0%), 6958.26 column/sec. Elapsed time 3.19 sec\n",
      "EvaluatorHoldout: Processed 10511 (100.0%) in 8.43 sec. Users per second: 1246\n"
     ]
    },
    {
     "name": "stderr",
     "output_type": "stream",
     "text": [
      "[I 2023-12-07 15:46:01,055] Trial 1981 finished with value: 0.04482508120744327 and parameters: {'topK': 21, 'shrink': 1543, 'similarity': 'tanimoto', 'normalize': True, 'feature_weighting': 'BM25'}. Best is trial 1242 with value: 0.04504385050884023.\n"
     ]
    },
    {
     "name": "stdout",
     "output_type": "stream",
     "text": [
      "ItemKNNCFRecommender: URM Detected 240 ( 1.9%) users with no interactions.\n",
      "ItemKNNCFRecommender: URM Detected 123 ( 0.6%) items with no interactions.\n",
      "Similarity column 22222 (100.0%), 6948.54 column/sec. Elapsed time 3.20 sec\n",
      "EvaluatorHoldout: Processed 10511 (100.0%) in 8.93 sec. Users per second: 1178\n"
     ]
    },
    {
     "name": "stderr",
     "output_type": "stream",
     "text": [
      "[I 2023-12-07 15:46:13,434] Trial 1982 finished with value: 0.03220532005019723 and parameters: {'topK': 31, 'shrink': 1695, 'similarity': 'tanimoto', 'normalize': True, 'feature_weighting': 'none'}. Best is trial 1242 with value: 0.04504385050884023.\n"
     ]
    },
    {
     "name": "stdout",
     "output_type": "stream",
     "text": [
      "ItemKNNCFRecommender: URM Detected 240 ( 1.9%) users with no interactions.\n",
      "ItemKNNCFRecommender: URM Detected 123 ( 0.6%) items with no interactions.\n",
      "Similarity column 22222 (100.0%), 6977.84 column/sec. Elapsed time 3.18 sec\n",
      "EvaluatorHoldout: Processed 10511 (100.0%) in 9.65 sec. Users per second: 1089\n"
     ]
    },
    {
     "name": "stderr",
     "output_type": "stream",
     "text": [
      "[I 2023-12-07 15:46:26,565] Trial 1983 finished with value: 0.04442837284598351 and parameters: {'topK': 45, 'shrink': 1520, 'similarity': 'tanimoto', 'normalize': True, 'feature_weighting': 'BM25'}. Best is trial 1242 with value: 0.04504385050884023.\n"
     ]
    },
    {
     "name": "stdout",
     "output_type": "stream",
     "text": [
      "ItemKNNCFRecommender: URM Detected 240 ( 1.9%) users with no interactions.\n",
      "ItemKNNCFRecommender: URM Detected 123 ( 0.6%) items with no interactions.\n",
      "Similarity column 22222 (100.0%), 6935.18 column/sec. Elapsed time 3.20 sec\n",
      "EvaluatorHoldout: Processed 10511 (100.0%) in 6.08 sec. Users per second: 1728\n"
     ]
    },
    {
     "name": "stderr",
     "output_type": "stream",
     "text": [
      "[I 2023-12-07 15:46:36,166] Trial 1984 finished with value: 0.03605117767780738 and parameters: {'topK': 15, 'shrink': 1600, 'similarity': 'adjusted', 'normalize': True, 'feature_weighting': 'BM25'}. Best is trial 1242 with value: 0.04504385050884023.\n"
     ]
    },
    {
     "name": "stdout",
     "output_type": "stream",
     "text": [
      "ItemKNNCFRecommender: URM Detected 240 ( 1.9%) users with no interactions.\n",
      "ItemKNNCFRecommender: URM Detected 123 ( 0.6%) items with no interactions.\n",
      "Similarity column 22222 (100.0%), 6946.85 column/sec. Elapsed time 3.20 sec\n",
      "EvaluatorHoldout: Processed 10511 (100.0%) in 9.21 sec. Users per second: 1141\n"
     ]
    },
    {
     "name": "stderr",
     "output_type": "stream",
     "text": [
      "[I 2023-12-07 15:46:48,856] Trial 1985 finished with value: 0.04433765156079926 and parameters: {'topK': 37, 'shrink': 1513, 'similarity': 'tanimoto', 'normalize': True, 'feature_weighting': 'BM25'}. Best is trial 1242 with value: 0.04504385050884023.\n"
     ]
    },
    {
     "name": "stdout",
     "output_type": "stream",
     "text": [
      "ItemKNNCFRecommender: URM Detected 240 ( 1.9%) users with no interactions.\n",
      "ItemKNNCFRecommender: URM Detected 123 ( 0.6%) items with no interactions.\n",
      "Similarity column 22222 (100.0%), 6994.77 column/sec. Elapsed time 3.18 sec\n",
      "EvaluatorHoldout: Processed 10511 (100.0%) in 8.51 sec. Users per second: 1236\n"
     ]
    },
    {
     "name": "stderr",
     "output_type": "stream",
     "text": [
      "[I 2023-12-07 15:47:00,874] Trial 1986 finished with value: 0.04461851378676679 and parameters: {'topK': 24, 'shrink': 1555, 'similarity': 'tanimoto', 'normalize': True, 'feature_weighting': 'BM25'}. Best is trial 1242 with value: 0.04504385050884023.\n"
     ]
    },
    {
     "name": "stdout",
     "output_type": "stream",
     "text": [
      "ItemKNNCFRecommender: URM Detected 240 ( 1.9%) users with no interactions.\n",
      "ItemKNNCFRecommender: URM Detected 123 ( 0.6%) items with no interactions.\n",
      "Similarity column 22222 (100.0%), 6650.11 column/sec. Elapsed time 3.34 sec\n",
      "EvaluatorHoldout: Processed 10511 (100.0%) in 12.34 sec. Users per second: 852\n"
     ]
    },
    {
     "name": "stderr",
     "output_type": "stream",
     "text": [
      "[I 2023-12-07 15:47:16,946] Trial 1987 finished with value: 0.040537675571925974 and parameters: {'topK': 215, 'shrink': 1188, 'similarity': 'tanimoto', 'normalize': True, 'feature_weighting': 'BM25'}. Best is trial 1242 with value: 0.04504385050884023.\n"
     ]
    },
    {
     "name": "stdout",
     "output_type": "stream",
     "text": [
      "ItemKNNCFRecommender: URM Detected 240 ( 1.9%) users with no interactions.\n",
      "ItemKNNCFRecommender: URM Detected 123 ( 0.6%) items with no interactions.\n",
      "Similarity column 22222 (100.0%), 6601.35 column/sec. Elapsed time 3.37 sec\n",
      "EvaluatorHoldout: Processed 10511 (100.0%) in 5.51 sec. Users per second: 1906\n"
     ]
    },
    {
     "name": "stderr",
     "output_type": "stream",
     "text": [
      "[I 2023-12-07 15:47:26,073] Trial 1988 finished with value: 0.024123344704640493 and parameters: {'topK': 13, 'shrink': 1487, 'similarity': 'cosine', 'normalize': True, 'feature_weighting': 'BM25'}. Best is trial 1242 with value: 0.04504385050884023.\n"
     ]
    },
    {
     "name": "stdout",
     "output_type": "stream",
     "text": [
      "ItemKNNCFRecommender: URM Detected 240 ( 1.9%) users with no interactions.\n",
      "ItemKNNCFRecommender: URM Detected 123 ( 0.6%) items with no interactions.\n",
      "Similarity column 22222 (100.0%), 6979.86 column/sec. Elapsed time 3.18 sec\n",
      "EvaluatorHoldout: Processed 10511 (100.0%) in 8.61 sec. Users per second: 1220\n"
     ]
    },
    {
     "name": "stderr",
     "output_type": "stream",
     "text": [
      "[I 2023-12-07 15:47:38,161] Trial 1989 finished with value: 0.044567467490596355 and parameters: {'topK': 25, 'shrink': 1506, 'similarity': 'tanimoto', 'normalize': True, 'feature_weighting': 'BM25'}. Best is trial 1242 with value: 0.04504385050884023.\n"
     ]
    },
    {
     "name": "stdout",
     "output_type": "stream",
     "text": [
      "ItemKNNCFRecommender: URM Detected 240 ( 1.9%) users with no interactions.\n",
      "ItemKNNCFRecommender: URM Detected 123 ( 0.6%) items with no interactions.\n",
      "Similarity column 22222 (100.0%), 6916.72 column/sec. Elapsed time 3.21 sec\n",
      "EvaluatorHoldout: Processed 10511 (100.0%) in 10.12 sec. Users per second: 1039\n"
     ]
    },
    {
     "name": "stderr",
     "output_type": "stream",
     "text": [
      "[I 2023-12-07 15:47:51,809] Trial 1990 finished with value: 0.043398982622891456 and parameters: {'topK': 60, 'shrink': 1645, 'similarity': 'tanimoto', 'normalize': True, 'feature_weighting': 'BM25'}. Best is trial 1242 with value: 0.04504385050884023.\n"
     ]
    },
    {
     "name": "stdout",
     "output_type": "stream",
     "text": [
      "ItemKNNCFRecommender: URM Detected 240 ( 1.9%) users with no interactions.\n",
      "ItemKNNCFRecommender: URM Detected 123 ( 0.6%) items with no interactions.\n",
      "Similarity column 22222 (100.0%), 6971.42 column/sec. Elapsed time 3.19 sec\n",
      "EvaluatorHoldout: Processed 10511 (100.0%) in 9.13 sec. Users per second: 1151\n"
     ]
    },
    {
     "name": "stderr",
     "output_type": "stream",
     "text": [
      "[I 2023-12-07 15:48:04,427] Trial 1991 finished with value: 0.04425530774260731 and parameters: {'topK': 36, 'shrink': 1553, 'similarity': 'tanimoto', 'normalize': True, 'feature_weighting': 'BM25'}. Best is trial 1242 with value: 0.04504385050884023.\n"
     ]
    },
    {
     "name": "stdout",
     "output_type": "stream",
     "text": [
      "ItemKNNCFRecommender: URM Detected 240 ( 1.9%) users with no interactions.\n",
      "ItemKNNCFRecommender: URM Detected 123 ( 0.6%) items with no interactions.\n",
      "Similarity column 22222 (100.0%), 7079.53 column/sec. Elapsed time 3.14 sec\n",
      "EvaluatorHoldout: Processed 10511 (100.0%) in 6.44 sec. Users per second: 1633\n"
     ]
    },
    {
     "name": "stderr",
     "output_type": "stream",
     "text": [
      "[I 2023-12-07 15:48:14,265] Trial 1992 finished with value: 0.043294639931259184 and parameters: {'topK': 5, 'shrink': 1462, 'similarity': 'tanimoto', 'normalize': True, 'feature_weighting': 'BM25'}. Best is trial 1242 with value: 0.04504385050884023.\n"
     ]
    },
    {
     "name": "stdout",
     "output_type": "stream",
     "text": [
      "ItemKNNCFRecommender: URM Detected 240 ( 1.9%) users with no interactions.\n",
      "ItemKNNCFRecommender: URM Detected 123 ( 0.6%) items with no interactions.\n",
      "Similarity column 22222 (100.0%), 7006.20 column/sec. Elapsed time 3.17 sec\n",
      "EvaluatorHoldout: Processed 10511 (100.0%) in 8.19 sec. Users per second: 1283\n"
     ]
    },
    {
     "name": "stderr",
     "output_type": "stream",
     "text": [
      "[I 2023-12-07 15:48:25,892] Trial 1993 finished with value: 0.04461148033881422 and parameters: {'topK': 19, 'shrink': 1432, 'similarity': 'tanimoto', 'normalize': True, 'feature_weighting': 'BM25'}. Best is trial 1242 with value: 0.04504385050884023.\n"
     ]
    },
    {
     "name": "stdout",
     "output_type": "stream",
     "text": [
      "ItemKNNCFRecommender: URM Detected 240 ( 1.9%) users with no interactions.\n",
      "ItemKNNCFRecommender: URM Detected 123 ( 0.6%) items with no interactions.\n",
      "Similarity column 22222 (100.0%), 6978.75 column/sec. Elapsed time 3.18 sec\n",
      "EvaluatorHoldout: Processed 10511 (100.0%) in 9.53 sec. Users per second: 1103\n"
     ]
    },
    {
     "name": "stderr",
     "output_type": "stream",
     "text": [
      "[I 2023-12-07 15:48:38,886] Trial 1994 finished with value: 0.0320027469332962 and parameters: {'topK': 47, 'shrink': 1502, 'similarity': 'tanimoto', 'normalize': True, 'feature_weighting': 'TF-IDF'}. Best is trial 1242 with value: 0.04504385050884023.\n"
     ]
    },
    {
     "name": "stdout",
     "output_type": "stream",
     "text": [
      "ItemKNNCFRecommender: URM Detected 240 ( 1.9%) users with no interactions.\n",
      "ItemKNNCFRecommender: URM Detected 123 ( 0.6%) items with no interactions.\n",
      "Similarity column 22222 (100.0%), 6878.29 column/sec. Elapsed time 3.23 sec\n",
      "EvaluatorHoldout: Processed 10511 (100.0%) in 5.80 sec. Users per second: 1811\n"
     ]
    },
    {
     "name": "stderr",
     "output_type": "stream",
     "text": [
      "[I 2023-12-07 15:48:48,250] Trial 1995 finished with value: 0.010611517337090518 and parameters: {'topK': 29, 'shrink': 1611, 'similarity': 'pearson', 'normalize': True, 'feature_weighting': 'BM25'}. Best is trial 1242 with value: 0.04504385050884023.\n"
     ]
    },
    {
     "name": "stdout",
     "output_type": "stream",
     "text": [
      "ItemKNNCFRecommender: URM Detected 240 ( 1.9%) users with no interactions.\n",
      "ItemKNNCFRecommender: URM Detected 123 ( 0.6%) items with no interactions.\n",
      "Similarity column 22222 (100.0%), 7053.34 column/sec. Elapsed time 3.15 sec\n",
      "EvaluatorHoldout: Processed 10511 (100.0%) in 7.77 sec. Users per second: 1354\n"
     ]
    },
    {
     "name": "stderr",
     "output_type": "stream",
     "text": [
      "[I 2023-12-07 15:48:59,441] Trial 1996 finished with value: 0.044313300654039704 and parameters: {'topK': 14, 'shrink': 1284, 'similarity': 'tanimoto', 'normalize': True, 'feature_weighting': 'BM25'}. Best is trial 1242 with value: 0.04504385050884023.\n"
     ]
    },
    {
     "name": "stdout",
     "output_type": "stream",
     "text": [
      "ItemKNNCFRecommender: URM Detected 240 ( 1.9%) users with no interactions.\n",
      "ItemKNNCFRecommender: URM Detected 123 ( 0.6%) items with no interactions.\n",
      "Similarity column 22222 (100.0%), 6997.27 column/sec. Elapsed time 3.18 sec\n",
      "EvaluatorHoldout: Processed 10511 (100.0%) in 8.52 sec. Users per second: 1233\n"
     ]
    },
    {
     "name": "stderr",
     "output_type": "stream",
     "text": [
      "[I 2023-12-07 15:49:11,425] Trial 1997 finished with value: 0.04396156407573074 and parameters: {'topK': 36, 'shrink': 728, 'similarity': 'tanimoto', 'normalize': True, 'feature_weighting': 'BM25'}. Best is trial 1242 with value: 0.04504385050884023.\n"
     ]
    },
    {
     "name": "stdout",
     "output_type": "stream",
     "text": [
      "ItemKNNCFRecommender: URM Detected 240 ( 1.9%) users with no interactions.\n",
      "ItemKNNCFRecommender: URM Detected 123 ( 0.6%) items with no interactions.\n",
      "Similarity column 22222 (100.0%), 7008.47 column/sec. Elapsed time 3.17 sec\n",
      "EvaluatorHoldout: Processed 10511 (100.0%) in 8.33 sec. Users per second: 1263\n"
     ]
    },
    {
     "name": "stderr",
     "output_type": "stream",
     "text": [
      "[I 2023-12-07 15:49:23,198] Trial 1998 finished with value: 0.04483342469642604 and parameters: {'topK': 21, 'shrink': 1549, 'similarity': 'tanimoto', 'normalize': True, 'feature_weighting': 'BM25'}. Best is trial 1242 with value: 0.04504385050884023.\n"
     ]
    },
    {
     "name": "stdout",
     "output_type": "stream",
     "text": [
      "ItemKNNCFRecommender: URM Detected 240 ( 1.9%) users with no interactions.\n",
      "ItemKNNCFRecommender: URM Detected 123 ( 0.6%) items with no interactions.\n",
      "Similarity column 22222 (100.0%), 6382.76 column/sec. Elapsed time 3.48 sec\n",
      "EvaluatorHoldout: Processed 10511 (100.0%) in 14.11 sec. Users per second: 745\n"
     ]
    },
    {
     "name": "stderr",
     "output_type": "stream",
     "text": [
      "[I 2023-12-07 15:49:41,326] Trial 1999 finished with value: 0.03659908440590631 and parameters: {'topK': 475, 'shrink': 1226, 'similarity': 'tanimoto', 'normalize': True, 'feature_weighting': 'BM25'}. Best is trial 1242 with value: 0.04504385050884023.\n"
     ]
    }
   ],
   "source": [
    "optuna_study_ItemKNN = optuna.create_study(direction=\"maximize\")\n",
    "\n",
    "save_results_ItemKNN = SaveResults()\n",
    "\n",
    "optuna_study_ItemKNN.optimize(objective_function_ItemKNN,\n",
    "                      callbacks=[save_results_ItemKNN],\n",
    "                      n_trials = 2000)"
   ]
  },
  {
   "cell_type": "code",
   "execution_count": 29,
   "metadata": {
    "execution": {
     "iopub.execute_input": "2023-12-07T15:49:41.335554Z",
     "iopub.status.busy": "2023-12-07T15:49:41.335048Z",
     "iopub.status.idle": "2023-12-07T15:49:42.132163Z",
     "shell.execute_reply": "2023-12-07T15:49:42.131053Z",
     "shell.execute_reply.started": "2023-12-07T15:49:41.335523Z"
    }
   },
   "outputs": [
    {
     "name": "stdout",
     "output_type": "stream",
     "text": [
      "Study statistics: \n",
      "  Number of finished trials:  2000\n",
      "  Number of pruned trials:  0\n",
      "  Number of complete trials:  2000\n",
      "Best trial:\n",
      "  Value Validation:  0.04504385050884023\n",
      "Best params:\n",
      "{'topK': 21, 'shrink': 1462, 'similarity': 'tanimoto', 'normalize': False, 'feature_weighting': 'BM25'}\n"
     ]
    }
   ],
   "source": [
    "pruned_trials = [t for t in optuna_study_ItemKNN.trials if t.state == optuna.trial.TrialState.PRUNED]\n",
    "complete_trials = [t for t in optuna_study_ItemKNN.trials if t.state == optuna.trial.TrialState.COMPLETE]\n",
    "\n",
    "print(\"Study statistics: \")\n",
    "print(\"  Number of finished trials: \", len(optuna_study_ItemKNN.trials))\n",
    "print(\"  Number of pruned trials: \", len(pruned_trials))\n",
    "print(\"  Number of complete trials: \", len(complete_trials))\n",
    "\n",
    "print(\"Best trial:\")\n",
    "print(\"  Value Validation: \", optuna_study_ItemKNN.best_trial.value)\n",
    "\n",
    "print(\"Best params:\")\n",
    "print(optuna_study_ItemKNN.best_trial.params)"
   ]
  },
  {
   "cell_type": "code",
   "execution_count": 30,
   "metadata": {
    "execution": {
     "iopub.execute_input": "2023-12-07T15:49:42.134571Z",
     "iopub.status.busy": "2023-12-07T15:49:42.134180Z",
     "iopub.status.idle": "2023-12-07T15:49:42.143947Z",
     "shell.execute_reply": "2023-12-07T15:49:42.141476Z",
     "shell.execute_reply.started": "2023-12-07T15:49:42.134536Z"
    }
   },
   "outputs": [
    {
     "ename": "SyntaxError",
     "evalue": "leading zeros in decimal integer literals are not permitted; use an 0o prefix for octal integers (3116922034.py, line 1)",
     "output_type": "error",
     "traceback": [
      "\u001b[0;36m  Cell \u001b[0;32mIn[30], line 1\u001b[0;36m\u001b[0m\n\u001b[0;31m    [I 2023-12-06 16:23:03,650] Trial 52 finished with value: 0.025383477433172024 and parameters: {'topK': 6, 'shrink': 9, 'similarity': 'tanimoto', 'normalize': True, 'feature_weighting': 'none'}. Best is trial 52 with value: 0.025383477433172024.\u001b[0m\n\u001b[0m               ^\u001b[0m\n\u001b[0;31mSyntaxError\u001b[0m\u001b[0;31m:\u001b[0m leading zeros in decimal integer literals are not permitted; use an 0o prefix for octal integers\n"
     ]
    }
   ],
   "source": [
    "[I 2023-12-06 16:23:03,650] Trial 52 finished with value: 0.025383477433172024 and parameters: {'topK': 6, 'shrink': 9, 'similarity': 'tanimoto', 'normalize': True, 'feature_weighting': 'none'}. Best is trial 52 with value: 0.025383477433172024."
   ]
  },
  {
   "cell_type": "code",
   "execution_count": null,
   "metadata": {},
   "outputs": [],
   "source": [
    "0.04 con cosine tf-idf topk < 200"
   ]
  },
  {
   "cell_type": "code",
   "execution_count": null,
   "metadata": {},
   "outputs": [],
   "source": [
    " Trial 103 finished with value: 0.04366240280401699 and parameters: {'topK': 33, 'shrink': 365, 'normalize': True, 'feature_weighting': 'TF-IDF'}"
   ]
  },
  {
   "cell_type": "code",
   "execution_count": null,
   "metadata": {},
   "outputs": [],
   "source": [
    "param_0_45 = {\n",
    "    'topK': 21,\n",
    "    'shrink': 1466,\n",
    "    'similarity': 'tanimoto',\n",
    "    'normalize': False,\n",
    "    'feature_weighting': 'BM25'\n",
    "}"
   ]
  }
 ],
 "metadata": {
  "kaggle": {
   "accelerator": "none",
   "dataSources": [
    {
     "datasetId": 4086250,
     "sourceId": 7091045,
     "sourceType": "datasetVersion"
    },
    {
     "datasetId": 4120115,
     "sourceId": 7139099,
     "sourceType": "datasetVersion"
    }
   ],
   "dockerImageVersionId": 30587,
   "isGpuEnabled": false,
   "isInternetEnabled": true,
   "language": "python",
   "sourceType": "notebook"
  },
  "kernelspec": {
   "display_name": "Python 3 (ipykernel)",
   "language": "python",
   "name": "python3"
  },
  "language_info": {
   "codemirror_mode": {
    "name": "ipython",
    "version": 3
   },
   "file_extension": ".py",
   "mimetype": "text/x-python",
   "name": "python",
   "nbconvert_exporter": "python",
   "pygments_lexer": "ipython3",
   "version": "3.9.13"
  }
 },
 "nbformat": 4,
 "nbformat_minor": 4
}
