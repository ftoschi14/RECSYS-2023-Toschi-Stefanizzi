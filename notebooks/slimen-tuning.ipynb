{
 "cells": [
  {
   "cell_type": "code",
   "execution_count": null,
   "metadata": {},
   "outputs": [],
   "source": [
    "!cp -r ../input/updated-code-3-1/* /kaggle/working/"
   ]
  },
  {
   "cell_type": "code",
   "execution_count": null,
   "metadata": {
    "scrolled": true
   },
   "outputs": [],
   "source": [
    "!pip install Cython h5py nltk nose numpy pandas scikit-learn scikit-optimize scipy tqdm lightfm RISE torch jupyter-contrib-nbextensions tensorflow tables protobuf"
   ]
  },
  {
   "cell_type": "code",
   "execution_count": null,
   "metadata": {
    "scrolled": true
   },
   "outputs": [],
   "source": [
    "#per ridere\n",
    "!python run_compile_all_cython.py"
   ]
  },
  {
   "cell_type": "code",
   "execution_count": null,
   "metadata": {
    "execution": {
     "iopub.execute_input": "2023-12-04T16:53:41.633565Z",
     "iopub.status.busy": "2023-12-04T16:53:41.632753Z",
     "iopub.status.idle": "2023-12-04T16:53:55.745601Z",
     "shell.execute_reply": "2023-12-04T16:53:55.743962Z",
     "shell.execute_reply.started": "2023-12-04T16:53:41.633500Z"
    }
   },
   "outputs": [],
   "source": [
    "!pip install optuna"
   ]
  },
  {
   "cell_type": "code",
   "execution_count": null,
   "metadata": {
    "execution": {
     "iopub.execute_input": "2023-12-04T16:53:55.748553Z",
     "iopub.status.busy": "2023-12-04T16:53:55.748144Z",
     "iopub.status.idle": "2023-12-04T16:53:57.146421Z",
     "shell.execute_reply": "2023-12-04T16:53:57.145357Z",
     "shell.execute_reply.started": "2023-12-04T16:53:55.748514Z"
    }
   },
   "outputs": [],
   "source": [
    "import numpy as np\n",
    "import matplotlib.pyplot as pyplot\n",
    "import pandas as pd\n",
    "import scipy.sparse as sps\n",
    "import matplotlib.pyplot as plt\n",
    "from scipy.stats import loguniform\n",
    "import time\n",
    "import optuna"
   ]
  },
  {
   "cell_type": "code",
   "execution_count": null,
   "metadata": {
    "execution": {
     "iopub.execute_input": "2023-12-04T16:53:57.148226Z",
     "iopub.status.busy": "2023-12-04T16:53:57.147741Z",
     "iopub.status.idle": "2023-12-04T16:53:57.217160Z",
     "shell.execute_reply": "2023-12-04T16:53:57.215912Z",
     "shell.execute_reply.started": "2023-12-04T16:53:57.148196Z"
    }
   },
   "outputs": [],
   "source": [
    "#from Data_manager.split_functions.split_train_validation_random_holdout import split_train_in_two_percentage_global_sample\n",
    "from Recommenders.Similarity.Cython import Compute_Similarity_Cython\n",
    "from Recommenders.KNN.ItemKNNCFRecommender import ItemKNNCFRecommender\n",
    "from Recommenders.NonPersonalizedRecommender import TopPop\n",
    "from Recommenders.KNN.UserKNNCFRecommender import UserKNNCFRecommender\n",
    "from Recommenders.GraphBased.RP3betaRecommender import RP3betaRecommender\n",
    "from Recommenders.BaseRecommender import BaseRecommender\n",
    "#from Evaluation.Evaluator import EvaluatorHoldout\n",
    "from Recommenders.KNN.UserKNNCFRecommender import UserKNNCFRecommender\n",
    "from Recommenders.KNN.ItemKNNCFRecommender import ItemKNNCFRecommender\n",
    "from Recommenders.KNN.ItemKNNCustomSimilarityRecommender import ItemKNNCustomSimilarityRecommender\n",
    "#----remove"
   ]
  },
  {
   "cell_type": "code",
   "execution_count": null,
   "metadata": {
    "execution": {
     "iopub.execute_input": "2023-12-04T16:53:57.219109Z",
     "iopub.status.busy": "2023-12-04T16:53:57.218527Z",
     "iopub.status.idle": "2023-12-04T16:53:57.225950Z",
     "shell.execute_reply": "2023-12-04T16:53:57.224493Z",
     "shell.execute_reply.started": "2023-12-04T16:53:57.219072Z"
    }
   },
   "outputs": [],
   "source": [
    "seed = 69\n",
    "np.random.seed(seed)"
   ]
  },
  {
   "cell_type": "code",
   "execution_count": null,
   "metadata": {
    "execution": {
     "iopub.execute_input": "2023-12-04T16:53:57.229676Z",
     "iopub.status.busy": "2023-12-04T16:53:57.229287Z",
     "iopub.status.idle": "2023-12-04T16:54:00.642357Z",
     "shell.execute_reply": "2023-12-04T16:54:00.641097Z",
     "shell.execute_reply.started": "2023-12-04T16:53:57.229645Z"
    }
   },
   "outputs": [],
   "source": [
    "# Import training data\n",
    "URM_path = \"../input/data-books/data_train.csv\"\n",
    "URM_all_dataframe = pd.read_csv(filepath_or_buffer=URM_path,\n",
    "                                header=0,\n",
    "                                dtype={0:int, 1:int, 2:int},\n",
    "                                engine='python')\n",
    "\n",
    "URM_all_dataframe.columns = [\"user_id\", \"item_id\", \"interaction\"]"
   ]
  },
  {
   "cell_type": "code",
   "execution_count": null,
   "metadata": {
    "execution": {
     "iopub.execute_input": "2023-12-04T16:54:00.644463Z",
     "iopub.status.busy": "2023-12-04T16:54:00.644071Z",
     "iopub.status.idle": "2023-12-04T16:54:00.707400Z",
     "shell.execute_reply": "2023-12-04T16:54:00.706090Z",
     "shell.execute_reply.started": "2023-12-04T16:54:00.644428Z"
    }
   },
   "outputs": [],
   "source": [
    "# Import target users\n",
    "target_path = \"../input/data-books/data_target_users_test.csv\"\n",
    "target_dataframe= pd.read_csv(filepath_or_buffer=target_path,\n",
    "                                header=0,\n",
    "                                dtype={0:int},\n",
    "                                engine='python')\n",
    "target_dataframe.columns = [\"user_id\"]\n",
    "target_dataframe"
   ]
  },
  {
   "cell_type": "code",
   "execution_count": null,
   "metadata": {
    "execution": {
     "iopub.execute_input": "2023-12-04T16:54:00.709044Z",
     "iopub.status.busy": "2023-12-04T16:54:00.708704Z",
     "iopub.status.idle": "2023-12-04T16:54:00.719498Z",
     "shell.execute_reply": "2023-12-04T16:54:00.718170Z",
     "shell.execute_reply.started": "2023-12-04T16:54:00.709013Z"
    }
   },
   "outputs": [],
   "source": [
    "def preprocess_data(ratings: pd.DataFrame):\n",
    "    unique_users = ratings.user_id.unique()\n",
    "    unique_items = ratings.item_id.unique()\n",
    "\n",
    "    num_users, min_user_id, max_user_id = unique_users.size, unique_users.min(), unique_users.max()\n",
    "    num_items, min_item_id, max_item_id = unique_items.size, unique_items.min(), unique_items.max()\n",
    "\n",
    "    print(num_users, min_user_id, max_user_id)\n",
    "    print(num_items, min_item_id, max_item_id)\n",
    "\n",
    "    mapping_user_id = pd.DataFrame({\"mapped_user_id\": np.arange(num_users), \"user_id\": unique_users})\n",
    "    mapping_item_id = pd.DataFrame({\"mapped_item_id\": np.arange(num_items), \"item_id\": unique_items})\n",
    "\n",
    "    ratings = pd.merge(left=ratings,\n",
    "                       right=mapping_user_id,\n",
    "                       how=\"inner\",\n",
    "                       on=\"user_id\")\n",
    "\n",
    "    ratings = pd.merge(left=ratings,\n",
    "                       right=mapping_item_id,\n",
    "                       how=\"inner\",\n",
    "                       on=\"item_id\")\n",
    "\n",
    "    return ratings"
   ]
  },
  {
   "cell_type": "code",
   "execution_count": null,
   "metadata": {
    "execution": {
     "iopub.execute_input": "2023-12-04T16:54:00.721704Z",
     "iopub.status.busy": "2023-12-04T16:54:00.721223Z",
     "iopub.status.idle": "2023-12-04T16:54:00.865008Z",
     "shell.execute_reply": "2023-12-04T16:54:00.863709Z",
     "shell.execute_reply.started": "2023-12-04T16:54:00.721670Z"
    }
   },
   "outputs": [],
   "source": [
    "# Call preprocess data function\n",
    "ratings = preprocess_data(URM_all_dataframe)"
   ]
  },
  {
   "cell_type": "code",
   "execution_count": null,
   "metadata": {
    "execution": {
     "iopub.execute_input": "2023-12-04T16:54:00.866558Z",
     "iopub.status.busy": "2023-12-04T16:54:00.866229Z",
     "iopub.status.idle": "2023-12-04T16:54:00.877760Z",
     "shell.execute_reply": "2023-12-04T16:54:00.876298Z",
     "shell.execute_reply.started": "2023-12-04T16:54:00.866529Z"
    }
   },
   "outputs": [],
   "source": [
    "URM = sps.coo_matrix((ratings.interaction.values, (ratings.mapped_user_id.values, ratings.mapped_item_id.values)))"
   ]
  },
  {
   "cell_type": "code",
   "execution_count": null,
   "metadata": {
    "execution": {
     "iopub.execute_input": "2023-12-04T16:54:00.880115Z",
     "iopub.status.busy": "2023-12-04T16:54:00.879507Z",
     "iopub.status.idle": "2023-12-04T16:54:00.896544Z",
     "shell.execute_reply": "2023-12-04T16:54:00.895145Z",
     "shell.execute_reply.started": "2023-12-04T16:54:00.880071Z"
    }
   },
   "outputs": [],
   "source": [
    "from Data_manager.split_functions.split_train_validation_random_holdout import split_train_in_two_percentage_global_sample\n",
    "from Evaluation.Evaluator import EvaluatorHoldout"
   ]
  },
  {
   "cell_type": "code",
   "execution_count": null,
   "metadata": {
    "execution": {
     "iopub.execute_input": "2023-12-04T16:54:00.899130Z",
     "iopub.status.busy": "2023-12-04T16:54:00.898234Z",
     "iopub.status.idle": "2023-12-04T16:54:03.463803Z",
     "shell.execute_reply": "2023-12-04T16:54:03.462501Z",
     "shell.execute_reply.started": "2023-12-04T16:54:00.899091Z"
    }
   },
   "outputs": [],
   "source": [
    "urm_train, urm_test = split_train_in_two_percentage_global_sample(URM, train_percentage = 0.80)\n",
    "urm_train, urm_validation = split_train_in_two_percentage_global_sample(urm_train, train_percentage = 0.80)\n",
    "\n",
    "evaluator_validation = EvaluatorHoldout(urm_validation, cutoff_list=[10])\n",
    "evaluator_test = EvaluatorHoldout(urm_test, cutoff_list=[10])"
   ]
  },
  {
   "cell_type": "code",
   "execution_count": null,
   "metadata": {
    "execution": {
     "iopub.execute_input": "2023-12-04T16:54:03.465708Z",
     "iopub.status.busy": "2023-12-04T16:54:03.465312Z",
     "iopub.status.idle": "2023-12-04T16:54:03.731540Z",
     "shell.execute_reply": "2023-12-04T16:54:03.730268Z",
     "shell.execute_reply.started": "2023-12-04T16:54:03.465669Z"
    }
   },
   "outputs": [],
   "source": [
    "from Recommenders.SLIM.SLIMElasticNetRecommender import SLIMElasticNetRecommender, MultiThreadSLIM_SLIMElasticNetRecommender\n",
    "from multiprocessing import cpu_count, Lock"
   ]
  },
  {
   "cell_type": "code",
   "execution_count": null,
   "metadata": {
    "execution": {
     "iopub.execute_input": "2023-12-04T16:54:03.733446Z",
     "iopub.status.busy": "2023-12-04T16:54:03.733069Z",
     "iopub.status.idle": "2023-12-04T16:54:03.741269Z",
     "shell.execute_reply": "2023-12-04T16:54:03.739966Z",
     "shell.execute_reply.started": "2023-12-04T16:54:03.733412Z"
    }
   },
   "outputs": [],
   "source": [
    "class SaveResults(object):\n",
    "\n",
    "    def __init__(self):\n",
    "        self.results_df = pd.DataFrame(columns=[\"result\"])\n",
    "\n",
    "    def __call__(self, optuna_study, optuna_trial):\n",
    "        hyperparam_dict = optuna_trial.params.copy()\n",
    "        hyperparam_dict[\"result\"] = optuna_trial.values[0]\n",
    "\n",
    "        # Create a DataFrame from the current trial's results\n",
    "        trial_df = pd.DataFrame([hyperparam_dict])\n",
    "\n",
    "        # Use concat instead of append\n",
    "        self.results_df = pd.concat([self.results_df, trial_df], ignore_index=True)"
   ]
  },
  {
   "cell_type": "code",
   "execution_count": null,
   "metadata": {
    "execution": {
     "iopub.execute_input": "2023-12-04T16:54:03.746022Z",
     "iopub.status.busy": "2023-12-04T16:54:03.745568Z",
     "iopub.status.idle": "2023-12-04T16:54:03.762052Z",
     "shell.execute_reply": "2023-12-04T16:54:03.760664Z",
     "shell.execute_reply.started": "2023-12-04T16:54:03.745974Z"
    }
   },
   "outputs": [],
   "source": [
    "cpu_count()"
   ]
  },
  {
   "cell_type": "code",
   "execution_count": null,
   "metadata": {
    "execution": {
     "iopub.execute_input": "2023-12-04T16:54:03.764444Z",
     "iopub.status.busy": "2023-12-04T16:54:03.763522Z",
     "iopub.status.idle": "2023-12-04T16:54:03.773705Z",
     "shell.execute_reply": "2023-12-04T16:54:03.772491Z",
     "shell.execute_reply.started": "2023-12-04T16:54:03.764317Z"
    }
   },
   "outputs": [],
   "source": [
    "def objective_function_SLIM(optuna_trial):\n",
    "\n",
    "    recommender_instance = MultiThreadSLIM_SLIMElasticNetRecommender(urm_train)\n",
    "    recommender_instance.fit(\n",
    "                             l1_ratio = optuna_trial.suggest_float(\"l1_ratio\", 1e-3, 0.1),\n",
    "                             alpha = optuna_trial.suggest_float(\"alpha\", 1e-3, 1),\n",
    "                             topK = optuna_trial.suggest_int(\"topK\", 300, 1000),\n",
    "                             workers = int(cpu_count())\n",
    "                             #positive_only = optuna_trial.suggest_categorical(\"positive_only\", [True, False]),\n",
    "                            )\n",
    "\n",
    "    result_df, _ = evaluator_validation.evaluateRecommender(recommender_instance)\n",
    "\n",
    "    return result_df.loc[10][\"MAP\"]"
   ]
  },
  {
   "cell_type": "code",
   "execution_count": null,
   "metadata": {
    "execution": {
     "iopub.execute_input": "2023-12-04T16:54:03.775464Z",
     "iopub.status.busy": "2023-12-04T16:54:03.775109Z"
    },
    "scrolled": true
   },
   "outputs": [],
   "source": [
    "optuna_study_SLIM = optuna.create_study(direction=\"maximize\")\n",
    "\n",
    "save_results_SLIM = SaveResults()\n",
    "\n",
    "optuna_study_SLIM.optimize(objective_function_SLIM,\n",
    "                      callbacks=[save_results_SLIM],\n",
    "                      n_trials = 100)"
   ]
  },
  {
   "cell_type": "code",
   "execution_count": null,
   "metadata": {},
   "outputs": [],
   "source": []
  },
  {
   "cell_type": "code",
   "execution_count": null,
   "metadata": {},
   "outputs": [],
   "source": [
    "best = {'l1_ratio': 0.020774395637352183, 'alpha': 0.002593925519077253, 'topK': 619}"
   ]
  },
  {
   "cell_type": "code",
   "execution_count": null,
   "metadata": {},
   "outputs": [],
   "source": [
    "#Trial 10 finished with value: 0.02977694828264403 and parameters: {'l1_ratio': 0.01732982416943757, 'alpha': 0.0010658461296225302, 'topK': 620}. Best is trial 10 with value: 0.02977694828264403."
   ]
  }
 ],
 "metadata": {
  "kaggle": {
   "accelerator": "none",
   "dataSources": [
    {
     "datasetId": 4086250,
     "sourceId": 7091045,
     "sourceType": "datasetVersion"
    },
    {
     "datasetId": 4092853,
     "sourceId": 7100247,
     "sourceType": "datasetVersion"
    },
    {
     "datasetId": 4106581,
     "sourceId": 7120033,
     "sourceType": "datasetVersion"
    },
    {
     "datasetId": 4106660,
     "sourceId": 7120136,
     "sourceType": "datasetVersion"
    }
   ],
   "dockerImageVersionId": 30587,
   "isGpuEnabled": false,
   "isInternetEnabled": true,
   "language": "python",
   "sourceType": "notebook"
  },
  "kernelspec": {
   "display_name": "Python 3 (ipykernel)",
   "language": "python",
   "name": "python3"
  },
  "language_info": {
   "codemirror_mode": {
    "name": "ipython",
    "version": 3
   },
   "file_extension": ".py",
   "mimetype": "text/x-python",
   "name": "python",
   "nbconvert_exporter": "python",
   "pygments_lexer": "ipython3",
   "version": "3.9.13"
  }
 },
 "nbformat": 4,
 "nbformat_minor": 4
}
