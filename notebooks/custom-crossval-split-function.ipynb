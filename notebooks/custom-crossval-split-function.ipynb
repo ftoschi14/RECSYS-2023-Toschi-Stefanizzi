{
 "cells": [
  {
   "cell_type": "code",
   "execution_count": 2,
   "metadata": {
    "execution": {
     "iopub.execute_input": "2023-12-28T10:55:56.195730Z",
     "iopub.status.busy": "2023-12-28T10:55:56.195224Z",
     "iopub.status.idle": "2023-12-28T10:55:59.841722Z",
     "shell.execute_reply": "2023-12-28T10:55:59.839602Z",
     "shell.execute_reply.started": "2023-12-28T10:55:56.195697Z"
    }
   },
   "outputs": [],
   "source": [
    "!cp -r ../input/updated-code-3-7/* /kaggle/working/"
   ]
  },
  {
   "cell_type": "code",
   "execution_count": 3,
   "metadata": {
    "execution": {
     "iopub.execute_input": "2023-12-28T10:55:59.844292Z",
     "iopub.status.busy": "2023-12-28T10:55:59.843910Z",
     "iopub.status.idle": "2023-12-28T10:55:59.849666Z",
     "shell.execute_reply": "2023-12-28T10:55:59.848743Z",
     "shell.execute_reply.started": "2023-12-28T10:55:59.844260Z"
    }
   },
   "outputs": [],
   "source": [
    "import pandas as pd\n",
    "import os"
   ]
  },
  {
   "cell_type": "code",
   "execution_count": 6,
   "metadata": {
    "execution": {
     "iopub.execute_input": "2023-12-28T10:56:27.965448Z",
     "iopub.status.busy": "2023-12-28T10:56:27.964619Z",
     "iopub.status.idle": "2023-12-28T10:56:27.971229Z",
     "shell.execute_reply": "2023-12-28T10:56:27.969863Z",
     "shell.execute_reply.started": "2023-12-28T10:56:27.965382Z"
    }
   },
   "outputs": [],
   "source": [
    "import scipy.sparse as sps\n",
    "import numpy as np"
   ]
  },
  {
   "cell_type": "code",
   "execution_count": 7,
   "metadata": {
    "execution": {
     "iopub.execute_input": "2023-12-28T10:56:28.105073Z",
     "iopub.status.busy": "2023-12-28T10:56:28.104039Z",
     "iopub.status.idle": "2023-12-28T10:56:28.116862Z",
     "shell.execute_reply": "2023-12-28T10:56:28.115244Z",
     "shell.execute_reply.started": "2023-12-28T10:56:28.105019Z"
    }
   },
   "outputs": [],
   "source": [
    "def split_urm_in_k_folds(URM_all, k):\n",
    "    from Data_manager.IncrementalSparseMatrix import IncrementalSparseMatrix\n",
    "    num_users, num_items = URM_all.shape\n",
    "\n",
    "    URM_train = sps.coo_matrix(URM_all)\n",
    "\n",
    "    indices_for_sampling = np.arange(0, URM_all.nnz, dtype=int)\n",
    "    np.random.shuffle(indices_for_sampling)\n",
    "\n",
    "    indices_for_sampling = np.array_split(indices_for_sampling, k)\n",
    "    np.random.shuffle(indices_for_sampling)\n",
    "    k_URM = []\n",
    "    \n",
    "    for i in range(k):\n",
    "        URM_builder = IncrementalSparseMatrix(n_rows=num_users, n_cols=num_items, auto_create_col_mapper=False, auto_create_row_mapper=False)\n",
    "        URM_builder.add_data_lists(URM_train.row[indices_for_sampling[i]],\n",
    "                                             URM_train.col[indices_for_sampling[i]],\n",
    "                                             URM_train.data[indices_for_sampling[i]])\n",
    "\n",
    "        k_URM.append(sps.csr_matrix(URM_builder.get_SparseMatrix()))\n",
    "\n",
    "    #verify that the sum of the URM_train_matrices is equal to the original URM\n",
    "    k_URM_sum = sps.csr_matrix((num_users, num_items))\n",
    "    for URM_train_matrices_single in k_URM:\n",
    "        k_URM_sum += URM_train_matrices_single\n",
    "    \n",
    "    assert k_URM_sum.nnz == URM_all.nnz, \"split_train_in_k_percentage_global_sample: URM_train_matrices_sum doesn't match URM_all\"\n",
    "\n",
    "\n",
    "    return k_URM"
   ]
  },
  {
   "cell_type": "code",
   "execution_count": 8,
   "metadata": {
    "execution": {
     "iopub.execute_input": "2023-12-28T10:56:29.003059Z",
     "iopub.status.busy": "2023-12-28T10:56:29.002662Z",
     "iopub.status.idle": "2023-12-28T10:56:31.461253Z",
     "shell.execute_reply": "2023-12-28T10:56:31.458933Z",
     "shell.execute_reply.started": "2023-12-28T10:56:29.003030Z"
    }
   },
   "outputs": [],
   "source": [
    "# Import training data\n",
    "URM_path = \"Data/data_train.csv\"\n",
    "URM_all_dataframe = pd.read_csv(filepath_or_buffer=URM_path,\n",
    "                                header=0,\n",
    "                                dtype={0:int, 1:int, 2:int},\n",
    "                                engine='python')\n",
    "\n",
    "URM_all_dataframe.columns = [\"user_id\", \"item_id\", \"interaction\"]\n",
    "\n",
    "# Import target users\n",
    "target_path = \"Data/data_target_users_test.csv\"\n",
    "target_dataframe= pd.read_csv(filepath_or_buffer=target_path,\n",
    "                                header=0,\n",
    "                                dtype={0:int},\n",
    "                                engine='python')\n",
    "target_dataframe.columns = [\"user_id\"]"
   ]
  },
  {
   "cell_type": "code",
   "execution_count": 9,
   "metadata": {
    "execution": {
     "iopub.execute_input": "2023-12-28T10:57:08.546774Z",
     "iopub.status.busy": "2023-12-28T10:57:08.545990Z",
     "iopub.status.idle": "2023-12-28T10:57:08.557333Z",
     "shell.execute_reply": "2023-12-28T10:57:08.555337Z",
     "shell.execute_reply.started": "2023-12-28T10:57:08.546716Z"
    }
   },
   "outputs": [],
   "source": [
    "def preprocess_data(ratings: pd.DataFrame):\n",
    "    unique_users = ratings.user_id.unique()\n",
    "    unique_items = ratings.item_id.unique()\n",
    "\n",
    "    num_users, min_user_id, max_user_id = unique_users.size, unique_users.min(), unique_users.max()\n",
    "    num_items, min_item_id, max_item_id = unique_items.size, unique_items.min(), unique_items.max()\n",
    "\n",
    "    print(num_users, min_user_id, max_user_id)\n",
    "    print(num_items, min_item_id, max_item_id)\n",
    "\n",
    "    mapping_user_id = pd.DataFrame({\"mapped_user_id\": np.arange(num_users), \"user_id\": unique_users})\n",
    "    mapping_item_id = pd.DataFrame({\"mapped_item_id\": np.arange(num_items), \"item_id\": unique_items})\n",
    "\n",
    "    ratings = pd.merge(left=ratings,\n",
    "                       right=mapping_user_id,\n",
    "                       how=\"inner\",\n",
    "                       on=\"user_id\")\n",
    "\n",
    "    ratings = pd.merge(left=ratings,\n",
    "                       right=mapping_item_id,\n",
    "                       how=\"inner\",\n",
    "                       on=\"item_id\")\n",
    "\n",
    "    return ratings"
   ]
  },
  {
   "cell_type": "code",
   "execution_count": 10,
   "metadata": {
    "execution": {
     "iopub.execute_input": "2023-12-28T10:57:08.777786Z",
     "iopub.status.busy": "2023-12-28T10:57:08.777300Z",
     "iopub.status.idle": "2023-12-28T10:57:08.982817Z",
     "shell.execute_reply": "2023-12-28T10:57:08.981003Z",
     "shell.execute_reply.started": "2023-12-28T10:57:08.777750Z"
    }
   },
   "outputs": [
    {
     "name": "stdout",
     "output_type": "stream",
     "text": [
      "12638 1 13024\n",
      "22222 1 22347\n"
     ]
    }
   ],
   "source": [
    "# Call preprocess data function\n",
    "ratings = preprocess_data(URM_all_dataframe)"
   ]
  },
  {
   "cell_type": "code",
   "execution_count": 11,
   "metadata": {
    "execution": {
     "iopub.execute_input": "2023-12-28T10:57:10.110871Z",
     "iopub.status.busy": "2023-12-28T10:57:10.110253Z",
     "iopub.status.idle": "2023-12-28T10:57:10.121359Z",
     "shell.execute_reply": "2023-12-28T10:57:10.120354Z",
     "shell.execute_reply.started": "2023-12-28T10:57:10.110824Z"
    }
   },
   "outputs": [],
   "source": [
    "URM = sps.coo_matrix((ratings.interaction.values, (ratings.mapped_user_id.values, ratings.mapped_item_id.values)))"
   ]
  },
  {
   "cell_type": "code",
   "execution_count": 12,
   "metadata": {
    "execution": {
     "iopub.execute_input": "2023-12-28T10:57:11.622283Z",
     "iopub.status.busy": "2023-12-28T10:57:11.621413Z",
     "iopub.status.idle": "2023-12-28T10:57:12.697092Z",
     "shell.execute_reply": "2023-12-28T10:57:12.695649Z",
     "shell.execute_reply.started": "2023-12-28T10:57:11.622239Z"
    }
   },
   "outputs": [],
   "source": [
    "k = 30\n",
    "splits = []\n",
    "splits = split_urm_in_k_folds(URM, k)"
   ]
  },
  {
   "cell_type": "code",
   "execution_count": 13,
   "metadata": {
    "execution": {
     "iopub.execute_input": "2023-12-28T10:57:21.430847Z",
     "iopub.status.busy": "2023-12-28T10:57:21.430438Z",
     "iopub.status.idle": "2023-12-28T10:57:21.441118Z",
     "shell.execute_reply": "2023-12-28T10:57:21.440001Z",
     "shell.execute_reply.started": "2023-12-28T10:57:21.430815Z"
    }
   },
   "outputs": [
    {
     "name": "stdout",
     "output_type": "stream",
     "text": [
      "15957\n",
      "15957\n",
      "15958\n",
      "15957\n",
      "15958\n",
      "15958\n",
      "15958\n",
      "15958\n",
      "15958\n",
      "15958\n",
      "15957\n",
      "15958\n",
      "15958\n",
      "15957\n",
      "15958\n",
      "15957\n",
      "15958\n",
      "15957\n",
      "15958\n",
      "15958\n",
      "15957\n",
      "15958\n",
      "15958\n",
      "15957\n",
      "15958\n",
      "15958\n",
      "15958\n",
      "15958\n",
      "15957\n",
      "15958\n"
     ]
    },
    {
     "data": {
      "text/plain": [
       "True"
      ]
     },
     "execution_count": 13,
     "metadata": {},
     "output_type": "execute_result"
    }
   ],
   "source": [
    "sums = 0\n",
    "for i in range(k):\n",
    "    print(splits[i].nnz)\n",
    "    sums += splits[i].nnz\n",
    "sums == URM.nnz\n"
   ]
  },
  {
   "cell_type": "code",
   "execution_count": 14,
   "metadata": {
    "execution": {
     "iopub.execute_input": "2023-12-28T10:59:01.592591Z",
     "iopub.status.busy": "2023-12-28T10:59:01.591884Z",
     "iopub.status.idle": "2023-12-28T10:59:01.612409Z",
     "shell.execute_reply": "2023-12-28T10:59:01.611311Z",
     "shell.execute_reply.started": "2023-12-28T10:59:01.592531Z"
    }
   },
   "outputs": [
    {
     "data": {
      "text/plain": [
       "(478730, 15957, 462773)"
      ]
     },
     "execution_count": 14,
     "metadata": {},
     "output_type": "execute_result"
    }
   ],
   "source": [
    "p = URM - splits[0]\n",
    "URM.nnz, splits[0].nnz, p.nnz"
   ]
  },
  {
   "cell_type": "code",
   "execution_count": null,
   "metadata": {},
   "outputs": [],
   "source": []
  }
 ],
 "metadata": {
  "kaggle": {
   "accelerator": "none",
   "dataSources": [
    {
     "datasetId": 4120115,
     "sourceId": 7139099,
     "sourceType": "datasetVersion"
    }
   ],
   "dockerImageVersionId": 30626,
   "isGpuEnabled": false,
   "isInternetEnabled": true,
   "language": "python",
   "sourceType": "notebook"
  },
  "kernelspec": {
   "display_name": "Python 3 (ipykernel)",
   "language": "python",
   "name": "python3"
  },
  "language_info": {
   "codemirror_mode": {
    "name": "ipython",
    "version": 3
   },
   "file_extension": ".py",
   "mimetype": "text/x-python",
   "name": "python",
   "nbconvert_exporter": "python",
   "pygments_lexer": "ipython3",
   "version": "3.9.13"
  }
 },
 "nbformat": 4,
 "nbformat_minor": 4
}
