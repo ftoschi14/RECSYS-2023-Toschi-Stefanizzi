{
 "cells": [
  {
   "cell_type": "markdown",
   "metadata": {},
   "source": [
    "# Setting-up environment"
   ]
  },
  {
   "cell_type": "code",
   "execution_count": 1,
   "metadata": {
    "_cell_guid": "b1076dfc-b9ad-4769-8c92-a6c4dae69d19",
    "_uuid": "8f2839f25d086af736a60e9eeb907d3b93b6e0e5",
    "execution": {
     "iopub.execute_input": "2023-12-07T08:51:19.258358Z",
     "iopub.status.busy": "2023-12-07T08:51:19.257965Z",
     "iopub.status.idle": "2023-12-07T08:51:23.391953Z",
     "shell.execute_reply": "2023-12-07T08:51:23.390460Z",
     "shell.execute_reply.started": "2023-12-07T08:51:19.258323Z"
    }
   },
   "outputs": [],
   "source": [
    "!cp -r ../input/updated-code-3-7/* /kaggle/working/"
   ]
  },
  {
   "cell_type": "code",
   "execution_count": 2,
   "metadata": {
    "execution": {
     "iopub.execute_input": "2023-12-07T08:51:23.395837Z",
     "iopub.status.busy": "2023-12-07T08:51:23.395053Z",
     "iopub.status.idle": "2023-12-07T08:52:02.997878Z",
     "shell.execute_reply": "2023-12-07T08:52:02.996841Z",
     "shell.execute_reply.started": "2023-12-07T08:51:23.395788Z"
    },
    "scrolled": true
   },
   "outputs": [
    {
     "name": "stdout",
     "output_type": "stream",
     "text": [
      "Requirement already satisfied: Cython in /opt/conda/lib/python3.10/site-packages (from -r requirements.txt (line 1)) (3.0.0)\n",
      "Requirement already satisfied: h5py in /opt/conda/lib/python3.10/site-packages (from -r requirements.txt (line 2)) (3.9.0)\n",
      "Requirement already satisfied: nltk in /opt/conda/lib/python3.10/site-packages (from -r requirements.txt (line 3)) (3.2.4)\n",
      "Requirement already satisfied: nose in /opt/conda/lib/python3.10/site-packages (from -r requirements.txt (line 4)) (1.3.7)\n",
      "Requirement already satisfied: numpy in /opt/conda/lib/python3.10/site-packages (from -r requirements.txt (line 5)) (1.24.3)\n",
      "Requirement already satisfied: scikit-learn in /opt/conda/lib/python3.10/site-packages (from -r requirements.txt (line 6)) (1.2.2)\n",
      "Requirement already satisfied: scikit-optimize in /opt/conda/lib/python3.10/site-packages (from -r requirements.txt (line 7)) (0.9.0)\n",
      "Requirement already satisfied: scipy in /opt/conda/lib/python3.10/site-packages (from -r requirements.txt (line 8)) (1.11.3)\n",
      "Requirement already satisfied: tqdm in /opt/conda/lib/python3.10/site-packages (from -r requirements.txt (line 9)) (4.66.1)\n",
      "Collecting lightfm (from -r requirements.txt (line 10))\n",
      "  Downloading lightfm-1.17.tar.gz (316 kB)\n",
      "\u001b[2K     \u001b[90m━━━━━━━━━━━━━━━━━━━━━━━━━━━━━━━━━━━━━━━\u001b[0m \u001b[32m316.4/316.4 kB\u001b[0m \u001b[31m6.1 MB/s\u001b[0m eta \u001b[36m0:00:00\u001b[0ma \u001b[36m0:00:01\u001b[0m\n",
      "\u001b[?25h  Preparing metadata (setup.py) ... \u001b[?25ldone\n",
      "\u001b[?25hCollecting RISE (from -r requirements.txt (line 11))\n",
      "  Downloading rise-5.7.1-py2.py3-none-any.whl (4.3 MB)\n",
      "\u001b[2K     \u001b[90m━━━━━━━━━━━━━━━━━━━━━━━━━━━━━━━━━━━━━━━━\u001b[0m \u001b[32m4.3/4.3 MB\u001b[0m \u001b[31m15.1 MB/s\u001b[0m eta \u001b[36m0:00:00\u001b[0ma \u001b[36m0:00:01\u001b[0m\n",
      "\u001b[?25hRequirement already satisfied: torch in /opt/conda/lib/python3.10/site-packages (from -r requirements.txt (line 12)) (2.0.0+cpu)\n",
      "Collecting jupyter-contrib-nbextensions (from -r requirements.txt (line 13))\n",
      "  Downloading jupyter_contrib_nbextensions-0.7.0.tar.gz (23.5 MB)\n",
      "\u001b[2K     \u001b[90m━━━━━━━━━━━━━━━━━━━━━━━━━━━━━━━━━━━━━━━━\u001b[0m \u001b[32m23.5/23.5 MB\u001b[0m \u001b[31m44.3 MB/s\u001b[0m eta \u001b[36m0:00:00\u001b[0m00:01\u001b[0m00:01\u001b[0m\n",
      "\u001b[?25h  Preparing metadata (setup.py) ... \u001b[?25ldone\n",
      "\u001b[?25hRequirement already satisfied: tensorflow in /opt/conda/lib/python3.10/site-packages (from -r requirements.txt (line 14)) (2.13.0)\n",
      "Requirement already satisfied: tables in /opt/conda/lib/python3.10/site-packages (from -r requirements.txt (line 15)) (3.9.1)\n",
      "Requirement already satisfied: six in /opt/conda/lib/python3.10/site-packages (from nltk->-r requirements.txt (line 3)) (1.16.0)\n",
      "Requirement already satisfied: joblib>=1.1.1 in /opt/conda/lib/python3.10/site-packages (from scikit-learn->-r requirements.txt (line 6)) (1.3.2)\n",
      "Requirement already satisfied: threadpoolctl>=2.0.0 in /opt/conda/lib/python3.10/site-packages (from scikit-learn->-r requirements.txt (line 6)) (3.2.0)\n",
      "Requirement already satisfied: pyaml>=16.9 in /opt/conda/lib/python3.10/site-packages (from scikit-optimize->-r requirements.txt (line 7)) (23.9.7)\n",
      "Requirement already satisfied: requests in /opt/conda/lib/python3.10/site-packages (from lightfm->-r requirements.txt (line 10)) (2.31.0)\n",
      "Requirement already satisfied: notebook>=6.0 in /opt/conda/lib/python3.10/site-packages (from RISE->-r requirements.txt (line 11)) (6.5.5)\n",
      "Requirement already satisfied: filelock in /opt/conda/lib/python3.10/site-packages (from torch->-r requirements.txt (line 12)) (3.12.2)\n",
      "Requirement already satisfied: typing-extensions in /opt/conda/lib/python3.10/site-packages (from torch->-r requirements.txt (line 12)) (4.5.0)\n",
      "Requirement already satisfied: sympy in /opt/conda/lib/python3.10/site-packages (from torch->-r requirements.txt (line 12)) (1.12)\n",
      "Requirement already satisfied: networkx in /opt/conda/lib/python3.10/site-packages (from torch->-r requirements.txt (line 12)) (3.1)\n",
      "Requirement already satisfied: jinja2 in /opt/conda/lib/python3.10/site-packages (from torch->-r requirements.txt (line 12)) (3.1.2)\n",
      "Requirement already satisfied: ipython_genutils in /opt/conda/lib/python3.10/site-packages (from jupyter-contrib-nbextensions->-r requirements.txt (line 13)) (0.2.0)\n",
      "Collecting jupyter_contrib_core>=0.3.3 (from jupyter-contrib-nbextensions->-r requirements.txt (line 13))\n",
      "  Downloading jupyter_contrib_core-0.4.2.tar.gz (17 kB)\n",
      "  Preparing metadata (setup.py) ... \u001b[?25ldone\n",
      "\u001b[?25hRequirement already satisfied: jupyter_core in /opt/conda/lib/python3.10/site-packages (from jupyter-contrib-nbextensions->-r requirements.txt (line 13)) (5.3.1)\n",
      "Collecting jupyter_highlight_selected_word>=0.1.1 (from jupyter-contrib-nbextensions->-r requirements.txt (line 13))\n",
      "  Downloading jupyter_highlight_selected_word-0.2.0-py2.py3-none-any.whl (11 kB)\n",
      "Collecting jupyter_nbextensions_configurator>=0.4.0 (from jupyter-contrib-nbextensions->-r requirements.txt (line 13))\n",
      "  Downloading jupyter_nbextensions_configurator-0.6.3-py2.py3-none-any.whl (466 kB)\n",
      "\u001b[2K     \u001b[90m━━━━━━━━━━━━━━━━━━━━━━━━━━━━━━━━━━━━━━\u001b[0m \u001b[32m466.9/466.9 kB\u001b[0m \u001b[31m31.6 MB/s\u001b[0m eta \u001b[36m0:00:00\u001b[0m\n",
      "\u001b[?25hRequirement already satisfied: nbconvert>=6.0 in /opt/conda/lib/python3.10/site-packages (from jupyter-contrib-nbextensions->-r requirements.txt (line 13)) (6.4.5)\n",
      "Requirement already satisfied: tornado in /opt/conda/lib/python3.10/site-packages (from jupyter-contrib-nbextensions->-r requirements.txt (line 13)) (6.3.3)\n",
      "Requirement already satisfied: traitlets>=4.1 in /opt/conda/lib/python3.10/site-packages (from jupyter-contrib-nbextensions->-r requirements.txt (line 13)) (5.9.0)\n",
      "Requirement already satisfied: lxml in /opt/conda/lib/python3.10/site-packages (from jupyter-contrib-nbextensions->-r requirements.txt (line 13)) (4.9.3)\n",
      "Requirement already satisfied: absl-py>=1.0.0 in /opt/conda/lib/python3.10/site-packages (from tensorflow->-r requirements.txt (line 14)) (1.4.0)\n",
      "Requirement already satisfied: astunparse>=1.6.0 in /opt/conda/lib/python3.10/site-packages (from tensorflow->-r requirements.txt (line 14)) (1.6.3)\n",
      "Requirement already satisfied: flatbuffers>=23.1.21 in /opt/conda/lib/python3.10/site-packages (from tensorflow->-r requirements.txt (line 14)) (23.5.26)\n",
      "Requirement already satisfied: gast<=0.4.0,>=0.2.1 in /opt/conda/lib/python3.10/site-packages (from tensorflow->-r requirements.txt (line 14)) (0.4.0)\n",
      "Requirement already satisfied: google-pasta>=0.1.1 in /opt/conda/lib/python3.10/site-packages (from tensorflow->-r requirements.txt (line 14)) (0.2.0)\n",
      "Requirement already satisfied: grpcio<2.0,>=1.24.3 in /opt/conda/lib/python3.10/site-packages (from tensorflow->-r requirements.txt (line 14)) (1.57.0)\n",
      "Requirement already satisfied: keras<2.14,>=2.13.1 in /opt/conda/lib/python3.10/site-packages (from tensorflow->-r requirements.txt (line 14)) (2.13.1)\n",
      "Requirement already satisfied: libclang>=13.0.0 in /opt/conda/lib/python3.10/site-packages (from tensorflow->-r requirements.txt (line 14)) (16.0.6)\n",
      "Requirement already satisfied: opt-einsum>=2.3.2 in /opt/conda/lib/python3.10/site-packages (from tensorflow->-r requirements.txt (line 14)) (3.3.0)\n",
      "Requirement already satisfied: packaging in /opt/conda/lib/python3.10/site-packages (from tensorflow->-r requirements.txt (line 14)) (21.3)\n",
      "Requirement already satisfied: protobuf!=4.21.0,!=4.21.1,!=4.21.2,!=4.21.3,!=4.21.4,!=4.21.5,<5.0.0dev,>=3.20.3 in /opt/conda/lib/python3.10/site-packages (from tensorflow->-r requirements.txt (line 14)) (3.20.3)\n",
      "Requirement already satisfied: setuptools in /opt/conda/lib/python3.10/site-packages (from tensorflow->-r requirements.txt (line 14)) (68.1.2)\n",
      "Requirement already satisfied: tensorboard<2.14,>=2.13 in /opt/conda/lib/python3.10/site-packages (from tensorflow->-r requirements.txt (line 14)) (2.13.0)\n",
      "Requirement already satisfied: tensorflow-estimator<2.14,>=2.13.0 in /opt/conda/lib/python3.10/site-packages (from tensorflow->-r requirements.txt (line 14)) (2.13.0)\n",
      "Requirement already satisfied: termcolor>=1.1.0 in /opt/conda/lib/python3.10/site-packages (from tensorflow->-r requirements.txt (line 14)) (2.3.0)\n",
      "Requirement already satisfied: wrapt>=1.11.0 in /opt/conda/lib/python3.10/site-packages (from tensorflow->-r requirements.txt (line 14)) (1.15.0)\n",
      "Requirement already satisfied: tensorflow-io-gcs-filesystem>=0.23.1 in /opt/conda/lib/python3.10/site-packages (from tensorflow->-r requirements.txt (line 14)) (0.34.0)\n",
      "Requirement already satisfied: numexpr>=2.6.2 in /opt/conda/lib/python3.10/site-packages (from tables->-r requirements.txt (line 15)) (2.8.7)\n",
      "Requirement already satisfied: py-cpuinfo in /opt/conda/lib/python3.10/site-packages (from tables->-r requirements.txt (line 15)) (9.0.0)\n",
      "Requirement already satisfied: blosc2>=2.2.8 in /opt/conda/lib/python3.10/site-packages (from tables->-r requirements.txt (line 15)) (2.3.1)\n",
      "Requirement already satisfied: wheel<1.0,>=0.23.0 in /opt/conda/lib/python3.10/site-packages (from astunparse>=1.6.0->tensorflow->-r requirements.txt (line 14)) (0.41.2)\n",
      "Requirement already satisfied: ndindex>=1.4 in /opt/conda/lib/python3.10/site-packages (from blosc2>=2.2.8->tables->-r requirements.txt (line 15)) (1.7)\n",
      "Requirement already satisfied: msgpack in /opt/conda/lib/python3.10/site-packages (from blosc2>=2.2.8->tables->-r requirements.txt (line 15)) (1.0.5)\n",
      "Requirement already satisfied: pyyaml in /opt/conda/lib/python3.10/site-packages (from jupyter_nbextensions_configurator>=0.4.0->jupyter-contrib-nbextensions->-r requirements.txt (line 13)) (6.0.1)\n",
      "Requirement already satisfied: mistune<2,>=0.8.1 in /opt/conda/lib/python3.10/site-packages (from nbconvert>=6.0->jupyter-contrib-nbextensions->-r requirements.txt (line 13)) (0.8.4)\n",
      "Requirement already satisfied: pygments>=2.4.1 in /opt/conda/lib/python3.10/site-packages (from nbconvert>=6.0->jupyter-contrib-nbextensions->-r requirements.txt (line 13)) (2.16.1)\n",
      "Requirement already satisfied: jupyterlab-pygments in /opt/conda/lib/python3.10/site-packages (from nbconvert>=6.0->jupyter-contrib-nbextensions->-r requirements.txt (line 13)) (0.2.2)\n",
      "Requirement already satisfied: nbformat>=4.4 in /opt/conda/lib/python3.10/site-packages (from nbconvert>=6.0->jupyter-contrib-nbextensions->-r requirements.txt (line 13)) (5.9.2)\n",
      "Requirement already satisfied: entrypoints>=0.2.2 in /opt/conda/lib/python3.10/site-packages (from nbconvert>=6.0->jupyter-contrib-nbextensions->-r requirements.txt (line 13)) (0.4)\n",
      "Requirement already satisfied: bleach in /opt/conda/lib/python3.10/site-packages (from nbconvert>=6.0->jupyter-contrib-nbextensions->-r requirements.txt (line 13)) (6.0.0)\n",
      "Requirement already satisfied: pandocfilters>=1.4.1 in /opt/conda/lib/python3.10/site-packages (from nbconvert>=6.0->jupyter-contrib-nbextensions->-r requirements.txt (line 13)) (1.5.0)\n",
      "Requirement already satisfied: testpath in /opt/conda/lib/python3.10/site-packages (from nbconvert>=6.0->jupyter-contrib-nbextensions->-r requirements.txt (line 13)) (0.6.0)\n",
      "Requirement already satisfied: defusedxml in /opt/conda/lib/python3.10/site-packages (from nbconvert>=6.0->jupyter-contrib-nbextensions->-r requirements.txt (line 13)) (0.7.1)\n",
      "Requirement already satisfied: beautifulsoup4 in /opt/conda/lib/python3.10/site-packages (from nbconvert>=6.0->jupyter-contrib-nbextensions->-r requirements.txt (line 13)) (4.12.2)\n",
      "Requirement already satisfied: nbclient<0.6.0,>=0.5.0 in /opt/conda/lib/python3.10/site-packages (from nbconvert>=6.0->jupyter-contrib-nbextensions->-r requirements.txt (line 13)) (0.5.13)\n",
      "Requirement already satisfied: MarkupSafe>=2.0 in /opt/conda/lib/python3.10/site-packages (from nbconvert>=6.0->jupyter-contrib-nbextensions->-r requirements.txt (line 13)) (2.1.3)\n",
      "Requirement already satisfied: pyzmq<25,>=17 in /opt/conda/lib/python3.10/site-packages (from notebook>=6.0->RISE->-r requirements.txt (line 11)) (24.0.1)\n",
      "Requirement already satisfied: argon2-cffi in /opt/conda/lib/python3.10/site-packages (from notebook>=6.0->RISE->-r requirements.txt (line 11)) (21.3.0)\n",
      "Requirement already satisfied: jupyter-client<8,>=5.3.4 in /opt/conda/lib/python3.10/site-packages (from notebook>=6.0->RISE->-r requirements.txt (line 11)) (7.4.9)\n",
      "Requirement already satisfied: nest-asyncio>=1.5 in /opt/conda/lib/python3.10/site-packages (from notebook>=6.0->RISE->-r requirements.txt (line 11)) (1.5.6)\n",
      "Requirement already satisfied: ipykernel in /opt/conda/lib/python3.10/site-packages (from notebook>=6.0->RISE->-r requirements.txt (line 11)) (6.25.1)\n",
      "Requirement already satisfied: Send2Trash>=1.8.0 in /opt/conda/lib/python3.10/site-packages (from notebook>=6.0->RISE->-r requirements.txt (line 11)) (1.8.2)\n",
      "Requirement already satisfied: terminado>=0.8.3 in /opt/conda/lib/python3.10/site-packages (from notebook>=6.0->RISE->-r requirements.txt (line 11)) (0.17.1)\n",
      "Requirement already satisfied: prometheus-client in /opt/conda/lib/python3.10/site-packages (from notebook>=6.0->RISE->-r requirements.txt (line 11)) (0.17.1)\n",
      "Requirement already satisfied: nbclassic>=0.4.7 in /opt/conda/lib/python3.10/site-packages (from notebook>=6.0->RISE->-r requirements.txt (line 11)) (1.0.0)\n",
      "Requirement already satisfied: platformdirs>=2.5 in /opt/conda/lib/python3.10/site-packages (from jupyter_core->jupyter-contrib-nbextensions->-r requirements.txt (line 13)) (4.0.0)\n",
      "Requirement already satisfied: google-auth<3,>=1.6.3 in /opt/conda/lib/python3.10/site-packages (from tensorboard<2.14,>=2.13->tensorflow->-r requirements.txt (line 14)) (2.22.0)\n",
      "Requirement already satisfied: google-auth-oauthlib<1.1,>=0.5 in /opt/conda/lib/python3.10/site-packages (from tensorboard<2.14,>=2.13->tensorflow->-r requirements.txt (line 14)) (1.0.0)\n",
      "Requirement already satisfied: markdown>=2.6.8 in /opt/conda/lib/python3.10/site-packages (from tensorboard<2.14,>=2.13->tensorflow->-r requirements.txt (line 14)) (3.4.4)\n",
      "Requirement already satisfied: tensorboard-data-server<0.8.0,>=0.7.0 in /opt/conda/lib/python3.10/site-packages (from tensorboard<2.14,>=2.13->tensorflow->-r requirements.txt (line 14)) (0.7.1)\n",
      "Requirement already satisfied: werkzeug>=1.0.1 in /opt/conda/lib/python3.10/site-packages (from tensorboard<2.14,>=2.13->tensorflow->-r requirements.txt (line 14)) (3.0.1)\n",
      "Requirement already satisfied: charset-normalizer<4,>=2 in /opt/conda/lib/python3.10/site-packages (from requests->lightfm->-r requirements.txt (line 10)) (3.2.0)\n",
      "Requirement already satisfied: idna<4,>=2.5 in /opt/conda/lib/python3.10/site-packages (from requests->lightfm->-r requirements.txt (line 10)) (3.4)\n",
      "Requirement already satisfied: urllib3<3,>=1.21.1 in /opt/conda/lib/python3.10/site-packages (from requests->lightfm->-r requirements.txt (line 10)) (1.26.15)\n",
      "Requirement already satisfied: certifi>=2017.4.17 in /opt/conda/lib/python3.10/site-packages (from requests->lightfm->-r requirements.txt (line 10)) (2023.7.22)\n",
      "Requirement already satisfied: pyparsing!=3.0.5,>=2.0.2 in /opt/conda/lib/python3.10/site-packages (from packaging->tensorflow->-r requirements.txt (line 14)) (3.0.9)\n",
      "Requirement already satisfied: mpmath>=0.19 in /opt/conda/lib/python3.10/site-packages (from sympy->torch->-r requirements.txt (line 12)) (1.3.0)\n",
      "Requirement already satisfied: cachetools<6.0,>=2.0.0 in /opt/conda/lib/python3.10/site-packages (from google-auth<3,>=1.6.3->tensorboard<2.14,>=2.13->tensorflow->-r requirements.txt (line 14)) (4.2.4)\n",
      "Requirement already satisfied: pyasn1-modules>=0.2.1 in /opt/conda/lib/python3.10/site-packages (from google-auth<3,>=1.6.3->tensorboard<2.14,>=2.13->tensorflow->-r requirements.txt (line 14)) (0.2.7)\n",
      "Requirement already satisfied: rsa<5,>=3.1.4 in /opt/conda/lib/python3.10/site-packages (from google-auth<3,>=1.6.3->tensorboard<2.14,>=2.13->tensorflow->-r requirements.txt (line 14)) (4.9)\n",
      "Requirement already satisfied: requests-oauthlib>=0.7.0 in /opt/conda/lib/python3.10/site-packages (from google-auth-oauthlib<1.1,>=0.5->tensorboard<2.14,>=2.13->tensorflow->-r requirements.txt (line 14)) (1.3.1)\n",
      "Requirement already satisfied: python-dateutil>=2.8.2 in /opt/conda/lib/python3.10/site-packages (from jupyter-client<8,>=5.3.4->notebook>=6.0->RISE->-r requirements.txt (line 11)) (2.8.2)\n",
      "Requirement already satisfied: jupyter-server>=1.8 in /opt/conda/lib/python3.10/site-packages (from nbclassic>=0.4.7->notebook>=6.0->RISE->-r requirements.txt (line 11)) (2.10.0)\n",
      "Requirement already satisfied: notebook-shim>=0.2.3 in /opt/conda/lib/python3.10/site-packages (from nbclassic>=0.4.7->notebook>=6.0->RISE->-r requirements.txt (line 11)) (0.2.3)\n",
      "Requirement already satisfied: fastjsonschema in /opt/conda/lib/python3.10/site-packages (from nbformat>=4.4->nbconvert>=6.0->jupyter-contrib-nbextensions->-r requirements.txt (line 13)) (2.18.0)\n",
      "Requirement already satisfied: jsonschema>=2.6 in /opt/conda/lib/python3.10/site-packages (from nbformat>=4.4->nbconvert>=6.0->jupyter-contrib-nbextensions->-r requirements.txt (line 13)) (4.19.0)\n",
      "Requirement already satisfied: ptyprocess in /opt/conda/lib/python3.10/site-packages (from terminado>=0.8.3->notebook>=6.0->RISE->-r requirements.txt (line 11)) (0.7.0)\n",
      "Requirement already satisfied: argon2-cffi-bindings in /opt/conda/lib/python3.10/site-packages (from argon2-cffi->notebook>=6.0->RISE->-r requirements.txt (line 11)) (21.2.0)\n",
      "Requirement already satisfied: soupsieve>1.2 in /opt/conda/lib/python3.10/site-packages (from beautifulsoup4->nbconvert>=6.0->jupyter-contrib-nbextensions->-r requirements.txt (line 13)) (2.3.2.post1)\n",
      "Requirement already satisfied: webencodings in /opt/conda/lib/python3.10/site-packages (from bleach->nbconvert>=6.0->jupyter-contrib-nbextensions->-r requirements.txt (line 13)) (0.5.1)\n",
      "Requirement already satisfied: comm>=0.1.1 in /opt/conda/lib/python3.10/site-packages (from ipykernel->notebook>=6.0->RISE->-r requirements.txt (line 11)) (0.1.4)\n",
      "Requirement already satisfied: debugpy>=1.6.5 in /opt/conda/lib/python3.10/site-packages (from ipykernel->notebook>=6.0->RISE->-r requirements.txt (line 11)) (1.6.7.post1)\n",
      "Requirement already satisfied: ipython>=7.23.1 in /opt/conda/lib/python3.10/site-packages (from ipykernel->notebook>=6.0->RISE->-r requirements.txt (line 11)) (8.14.0)\n",
      "Requirement already satisfied: matplotlib-inline>=0.1 in /opt/conda/lib/python3.10/site-packages (from ipykernel->notebook>=6.0->RISE->-r requirements.txt (line 11)) (0.1.6)\n",
      "Requirement already satisfied: psutil in /opt/conda/lib/python3.10/site-packages (from ipykernel->notebook>=6.0->RISE->-r requirements.txt (line 11)) (5.9.3)\n",
      "Requirement already satisfied: backcall in /opt/conda/lib/python3.10/site-packages (from ipython>=7.23.1->ipykernel->notebook>=6.0->RISE->-r requirements.txt (line 11)) (0.2.0)\n",
      "Requirement already satisfied: decorator in /opt/conda/lib/python3.10/site-packages (from ipython>=7.23.1->ipykernel->notebook>=6.0->RISE->-r requirements.txt (line 11)) (5.1.1)\n",
      "Requirement already satisfied: jedi>=0.16 in /opt/conda/lib/python3.10/site-packages (from ipython>=7.23.1->ipykernel->notebook>=6.0->RISE->-r requirements.txt (line 11)) (0.19.0)\n",
      "Requirement already satisfied: pickleshare in /opt/conda/lib/python3.10/site-packages (from ipython>=7.23.1->ipykernel->notebook>=6.0->RISE->-r requirements.txt (line 11)) (0.7.5)\n",
      "Requirement already satisfied: prompt-toolkit!=3.0.37,<3.1.0,>=3.0.30 in /opt/conda/lib/python3.10/site-packages (from ipython>=7.23.1->ipykernel->notebook>=6.0->RISE->-r requirements.txt (line 11)) (3.0.39)\n",
      "Requirement already satisfied: stack-data in /opt/conda/lib/python3.10/site-packages (from ipython>=7.23.1->ipykernel->notebook>=6.0->RISE->-r requirements.txt (line 11)) (0.6.2)\n",
      "Requirement already satisfied: pexpect>4.3 in /opt/conda/lib/python3.10/site-packages (from ipython>=7.23.1->ipykernel->notebook>=6.0->RISE->-r requirements.txt (line 11)) (4.8.0)\n",
      "Requirement already satisfied: attrs>=22.2.0 in /opt/conda/lib/python3.10/site-packages (from jsonschema>=2.6->nbformat>=4.4->nbconvert>=6.0->jupyter-contrib-nbextensions->-r requirements.txt (line 13)) (23.1.0)\n",
      "Requirement already satisfied: jsonschema-specifications>=2023.03.6 in /opt/conda/lib/python3.10/site-packages (from jsonschema>=2.6->nbformat>=4.4->nbconvert>=6.0->jupyter-contrib-nbextensions->-r requirements.txt (line 13)) (2023.7.1)\n",
      "Requirement already satisfied: referencing>=0.28.4 in /opt/conda/lib/python3.10/site-packages (from jsonschema>=2.6->nbformat>=4.4->nbconvert>=6.0->jupyter-contrib-nbextensions->-r requirements.txt (line 13)) (0.30.2)\n",
      "Requirement already satisfied: rpds-py>=0.7.1 in /opt/conda/lib/python3.10/site-packages (from jsonschema>=2.6->nbformat>=4.4->nbconvert>=6.0->jupyter-contrib-nbextensions->-r requirements.txt (line 13)) (0.9.2)\n",
      "Requirement already satisfied: anyio>=3.1.0 in /opt/conda/lib/python3.10/site-packages (from jupyter-server>=1.8->nbclassic>=0.4.7->notebook>=6.0->RISE->-r requirements.txt (line 11)) (3.7.1)\n",
      "Requirement already satisfied: jupyter-events>=0.6.0 in /opt/conda/lib/python3.10/site-packages (from jupyter-server>=1.8->nbclassic>=0.4.7->notebook>=6.0->RISE->-r requirements.txt (line 11)) (0.7.0)\n",
      "Requirement already satisfied: jupyter-server-terminals in /opt/conda/lib/python3.10/site-packages (from jupyter-server>=1.8->nbclassic>=0.4.7->notebook>=6.0->RISE->-r requirements.txt (line 11)) (0.4.4)\n",
      "Requirement already satisfied: overrides in /opt/conda/lib/python3.10/site-packages (from jupyter-server>=1.8->nbclassic>=0.4.7->notebook>=6.0->RISE->-r requirements.txt (line 11)) (6.5.0)\n",
      "Requirement already satisfied: websocket-client in /opt/conda/lib/python3.10/site-packages (from jupyter-server>=1.8->nbclassic>=0.4.7->notebook>=6.0->RISE->-r requirements.txt (line 11)) (1.6.2)\n",
      "Requirement already satisfied: pyasn1<0.5.0,>=0.4.6 in /opt/conda/lib/python3.10/site-packages (from pyasn1-modules>=0.2.1->google-auth<3,>=1.6.3->tensorboard<2.14,>=2.13->tensorflow->-r requirements.txt (line 14)) (0.4.8)\n",
      "Requirement already satisfied: oauthlib>=3.0.0 in /opt/conda/lib/python3.10/site-packages (from requests-oauthlib>=0.7.0->google-auth-oauthlib<1.1,>=0.5->tensorboard<2.14,>=2.13->tensorflow->-r requirements.txt (line 14)) (3.2.2)\n",
      "Requirement already satisfied: cffi>=1.0.1 in /opt/conda/lib/python3.10/site-packages (from argon2-cffi-bindings->argon2-cffi->notebook>=6.0->RISE->-r requirements.txt (line 11)) (1.15.1)\n",
      "Requirement already satisfied: sniffio>=1.1 in /opt/conda/lib/python3.10/site-packages (from anyio>=3.1.0->jupyter-server>=1.8->nbclassic>=0.4.7->notebook>=6.0->RISE->-r requirements.txt (line 11)) (1.3.0)\n",
      "Requirement already satisfied: exceptiongroup in /opt/conda/lib/python3.10/site-packages (from anyio>=3.1.0->jupyter-server>=1.8->nbclassic>=0.4.7->notebook>=6.0->RISE->-r requirements.txt (line 11)) (1.1.3)\n",
      "Requirement already satisfied: pycparser in /opt/conda/lib/python3.10/site-packages (from cffi>=1.0.1->argon2-cffi-bindings->argon2-cffi->notebook>=6.0->RISE->-r requirements.txt (line 11)) (2.21)\n",
      "Requirement already satisfied: parso<0.9.0,>=0.8.3 in /opt/conda/lib/python3.10/site-packages (from jedi>=0.16->ipython>=7.23.1->ipykernel->notebook>=6.0->RISE->-r requirements.txt (line 11)) (0.8.3)\n",
      "Requirement already satisfied: python-json-logger>=2.0.4 in /opt/conda/lib/python3.10/site-packages (from jupyter-events>=0.6.0->jupyter-server>=1.8->nbclassic>=0.4.7->notebook>=6.0->RISE->-r requirements.txt (line 11)) (2.0.7)\n",
      "Requirement already satisfied: rfc3339-validator in /opt/conda/lib/python3.10/site-packages (from jupyter-events>=0.6.0->jupyter-server>=1.8->nbclassic>=0.4.7->notebook>=6.0->RISE->-r requirements.txt (line 11)) (0.1.4)\n",
      "Requirement already satisfied: rfc3986-validator>=0.1.1 in /opt/conda/lib/python3.10/site-packages (from jupyter-events>=0.6.0->jupyter-server>=1.8->nbclassic>=0.4.7->notebook>=6.0->RISE->-r requirements.txt (line 11)) (0.1.1)\n",
      "Requirement already satisfied: wcwidth in /opt/conda/lib/python3.10/site-packages (from prompt-toolkit!=3.0.37,<3.1.0,>=3.0.30->ipython>=7.23.1->ipykernel->notebook>=6.0->RISE->-r requirements.txt (line 11)) (0.2.6)\n",
      "Requirement already satisfied: executing>=1.2.0 in /opt/conda/lib/python3.10/site-packages (from stack-data->ipython>=7.23.1->ipykernel->notebook>=6.0->RISE->-r requirements.txt (line 11)) (1.2.0)\n",
      "Requirement already satisfied: asttokens>=2.1.0 in /opt/conda/lib/python3.10/site-packages (from stack-data->ipython>=7.23.1->ipykernel->notebook>=6.0->RISE->-r requirements.txt (line 11)) (2.2.1)\n",
      "Requirement already satisfied: pure-eval in /opt/conda/lib/python3.10/site-packages (from stack-data->ipython>=7.23.1->ipykernel->notebook>=6.0->RISE->-r requirements.txt (line 11)) (0.2.2)\n",
      "Requirement already satisfied: fqdn in /opt/conda/lib/python3.10/site-packages (from jsonschema>=2.6->nbformat>=4.4->nbconvert>=6.0->jupyter-contrib-nbextensions->-r requirements.txt (line 13)) (1.5.1)\n",
      "Requirement already satisfied: isoduration in /opt/conda/lib/python3.10/site-packages (from jsonschema>=2.6->nbformat>=4.4->nbconvert>=6.0->jupyter-contrib-nbextensions->-r requirements.txt (line 13)) (20.11.0)\n",
      "Requirement already satisfied: jsonpointer>1.13 in /opt/conda/lib/python3.10/site-packages (from jsonschema>=2.6->nbformat>=4.4->nbconvert>=6.0->jupyter-contrib-nbextensions->-r requirements.txt (line 13)) (2.0)\n",
      "Requirement already satisfied: uri-template in /opt/conda/lib/python3.10/site-packages (from jsonschema>=2.6->nbformat>=4.4->nbconvert>=6.0->jupyter-contrib-nbextensions->-r requirements.txt (line 13)) (1.3.0)\n",
      "Requirement already satisfied: webcolors>=1.11 in /opt/conda/lib/python3.10/site-packages (from jsonschema>=2.6->nbformat>=4.4->nbconvert>=6.0->jupyter-contrib-nbextensions->-r requirements.txt (line 13)) (1.13)\n",
      "Requirement already satisfied: arrow>=0.15.0 in /opt/conda/lib/python3.10/site-packages (from isoduration->jsonschema>=2.6->nbformat>=4.4->nbconvert>=6.0->jupyter-contrib-nbextensions->-r requirements.txt (line 13)) (1.2.3)\n",
      "Building wheels for collected packages: lightfm, jupyter-contrib-nbextensions, jupyter_contrib_core\n",
      "  Building wheel for lightfm (setup.py) ... \u001b[?25ldone\n",
      "\u001b[?25h  Created wheel for lightfm: filename=lightfm-1.17-cp310-cp310-linux_x86_64.whl size=464219 sha256=a8e75116115a32294506f826647dd38b30aea382328c49e4c2609cbb72693dc2\n",
      "  Stored in directory: /root/.cache/pip/wheels/4f/9b/7e/0b256f2168511d8fa4dae4fae0200fdbd729eb424a912ad636\n",
      "  Building wheel for jupyter-contrib-nbextensions (setup.py) ... \u001b[?25ldone\n",
      "\u001b[?25h  Created wheel for jupyter-contrib-nbextensions: filename=jupyter_contrib_nbextensions-0.7.0-py2.py3-none-any.whl size=23428781 sha256=6e8b83ec1cb42b448b1238142dc58759dcacfff1e9731f7942a34268f98b0811\n",
      "  Stored in directory: /root/.cache/pip/wheels/ea/cc/7d/99ef154f984726b1201c0f72cfe9c9d7c5132c1a2ae4d8677f\n",
      "  Building wheel for jupyter_contrib_core (setup.py) ... \u001b[?25ldone\n",
      "\u001b[?25h  Created wheel for jupyter_contrib_core: filename=jupyter_contrib_core-0.4.2-py2.py3-none-any.whl size=17484 sha256=46815716ce4e4c075a4488b69fcb28c59dece258cb84b869e137d6015a063d0c\n",
      "  Stored in directory: /root/.cache/pip/wheels/a9/52/88/e0643cdfd68f0562087918c37dd583378648dbc3df68b907f7\n",
      "Successfully built lightfm jupyter-contrib-nbextensions jupyter_contrib_core\n",
      "Installing collected packages: jupyter_highlight_selected_word, lightfm, RISE, jupyter_contrib_core, jupyter_nbextensions_configurator, jupyter-contrib-nbextensions\n",
      "Successfully installed RISE-5.7.1 jupyter-contrib-nbextensions-0.7.0 jupyter_contrib_core-0.4.2 jupyter_highlight_selected_word-0.2.0 jupyter_nbextensions_configurator-0.6.3 lightfm-1.17\n"
     ]
    }
   ],
   "source": [
    "!pip install -r requirements.txt"
   ]
  },
  {
   "cell_type": "code",
   "execution_count": 3,
   "metadata": {
    "execution": {
     "iopub.execute_input": "2023-12-07T08:52:02.999845Z",
     "iopub.status.busy": "2023-12-07T08:52:02.999516Z",
     "iopub.status.idle": "2023-12-07T08:52:18.509124Z",
     "shell.execute_reply": "2023-12-07T08:52:18.508149Z",
     "shell.execute_reply.started": "2023-12-07T08:52:02.999814Z"
    },
    "scrolled": true
   },
   "outputs": [
    {
     "name": "stdout",
     "output_type": "stream",
     "text": [
      "Requirement already satisfied: lightfm in /opt/conda/lib/python3.10/site-packages (1.17)\n",
      "Requirement already satisfied: tqdm in /opt/conda/lib/python3.10/site-packages (4.66.1)\n",
      "Requirement already satisfied: optuna in /opt/conda/lib/python3.10/site-packages (3.4.0)\n",
      "Requirement already satisfied: ipykernel in /opt/conda/lib/python3.10/site-packages (6.25.1)\n",
      "Requirement already satisfied: matplotlib in /opt/conda/lib/python3.10/site-packages (3.7.3)\n",
      "Collecting implicit\n",
      "  Obtaining dependency information for implicit from https://files.pythonhosted.org/packages/cd/cc/deac70cae8cc32c9885d0cd73bc66e1b3cbea36ae7080b8c83995eaf5322/implicit-0.7.2-cp310-cp310-manylinux2014_x86_64.whl.metadata\n",
      "  Downloading implicit-0.7.2-cp310-cp310-manylinux2014_x86_64.whl.metadata (6.1 kB)\n",
      "Requirement already satisfied: numpy in /opt/conda/lib/python3.10/site-packages (from lightfm) (1.24.3)\n",
      "Requirement already satisfied: scipy>=0.17.0 in /opt/conda/lib/python3.10/site-packages (from lightfm) (1.11.3)\n",
      "Requirement already satisfied: requests in /opt/conda/lib/python3.10/site-packages (from lightfm) (2.31.0)\n",
      "Requirement already satisfied: scikit-learn in /opt/conda/lib/python3.10/site-packages (from lightfm) (1.2.2)\n",
      "Requirement already satisfied: alembic>=1.5.0 in /opt/conda/lib/python3.10/site-packages (from optuna) (1.12.1)\n",
      "Requirement already satisfied: colorlog in /opt/conda/lib/python3.10/site-packages (from optuna) (6.7.0)\n",
      "Requirement already satisfied: packaging>=20.0 in /opt/conda/lib/python3.10/site-packages (from optuna) (21.3)\n",
      "Requirement already satisfied: sqlalchemy>=1.3.0 in /opt/conda/lib/python3.10/site-packages (from optuna) (2.0.20)\n",
      "Requirement already satisfied: PyYAML in /opt/conda/lib/python3.10/site-packages (from optuna) (6.0.1)\n",
      "Requirement already satisfied: comm>=0.1.1 in /opt/conda/lib/python3.10/site-packages (from ipykernel) (0.1.4)\n",
      "Requirement already satisfied: debugpy>=1.6.5 in /opt/conda/lib/python3.10/site-packages (from ipykernel) (1.6.7.post1)\n",
      "Requirement already satisfied: ipython>=7.23.1 in /opt/conda/lib/python3.10/site-packages (from ipykernel) (8.14.0)\n",
      "Requirement already satisfied: jupyter-client>=6.1.12 in /opt/conda/lib/python3.10/site-packages (from ipykernel) (7.4.9)\n",
      "Requirement already satisfied: jupyter-core!=5.0.*,>=4.12 in /opt/conda/lib/python3.10/site-packages (from ipykernel) (5.3.1)\n",
      "Requirement already satisfied: matplotlib-inline>=0.1 in /opt/conda/lib/python3.10/site-packages (from ipykernel) (0.1.6)\n",
      "Requirement already satisfied: nest-asyncio in /opt/conda/lib/python3.10/site-packages (from ipykernel) (1.5.6)\n",
      "Requirement already satisfied: psutil in /opt/conda/lib/python3.10/site-packages (from ipykernel) (5.9.3)\n",
      "Requirement already satisfied: pyzmq>=20 in /opt/conda/lib/python3.10/site-packages (from ipykernel) (24.0.1)\n",
      "Requirement already satisfied: tornado>=6.1 in /opt/conda/lib/python3.10/site-packages (from ipykernel) (6.3.3)\n",
      "Requirement already satisfied: traitlets>=5.4.0 in /opt/conda/lib/python3.10/site-packages (from ipykernel) (5.9.0)\n",
      "Requirement already satisfied: contourpy>=1.0.1 in /opt/conda/lib/python3.10/site-packages (from matplotlib) (1.1.0)\n",
      "Requirement already satisfied: cycler>=0.10 in /opt/conda/lib/python3.10/site-packages (from matplotlib) (0.11.0)\n",
      "Requirement already satisfied: fonttools>=4.22.0 in /opt/conda/lib/python3.10/site-packages (from matplotlib) (4.42.1)\n",
      "Requirement already satisfied: kiwisolver>=1.0.1 in /opt/conda/lib/python3.10/site-packages (from matplotlib) (1.4.4)\n",
      "Requirement already satisfied: pillow>=6.2.0 in /opt/conda/lib/python3.10/site-packages (from matplotlib) (10.1.0)\n",
      "Requirement already satisfied: pyparsing>=2.3.1 in /opt/conda/lib/python3.10/site-packages (from matplotlib) (3.0.9)\n",
      "Requirement already satisfied: python-dateutil>=2.7 in /opt/conda/lib/python3.10/site-packages (from matplotlib) (2.8.2)\n",
      "Requirement already satisfied: threadpoolctl in /opt/conda/lib/python3.10/site-packages (from implicit) (3.2.0)\n",
      "Requirement already satisfied: Mako in /opt/conda/lib/python3.10/site-packages (from alembic>=1.5.0->optuna) (1.3.0)\n",
      "Requirement already satisfied: typing-extensions>=4 in /opt/conda/lib/python3.10/site-packages (from alembic>=1.5.0->optuna) (4.5.0)\n",
      "Requirement already satisfied: backcall in /opt/conda/lib/python3.10/site-packages (from ipython>=7.23.1->ipykernel) (0.2.0)\n",
      "Requirement already satisfied: decorator in /opt/conda/lib/python3.10/site-packages (from ipython>=7.23.1->ipykernel) (5.1.1)\n",
      "Requirement already satisfied: jedi>=0.16 in /opt/conda/lib/python3.10/site-packages (from ipython>=7.23.1->ipykernel) (0.19.0)\n",
      "Requirement already satisfied: pickleshare in /opt/conda/lib/python3.10/site-packages (from ipython>=7.23.1->ipykernel) (0.7.5)\n",
      "Requirement already satisfied: prompt-toolkit!=3.0.37,<3.1.0,>=3.0.30 in /opt/conda/lib/python3.10/site-packages (from ipython>=7.23.1->ipykernel) (3.0.39)\n",
      "Requirement already satisfied: pygments>=2.4.0 in /opt/conda/lib/python3.10/site-packages (from ipython>=7.23.1->ipykernel) (2.16.1)\n",
      "Requirement already satisfied: stack-data in /opt/conda/lib/python3.10/site-packages (from ipython>=7.23.1->ipykernel) (0.6.2)\n",
      "Requirement already satisfied: pexpect>4.3 in /opt/conda/lib/python3.10/site-packages (from ipython>=7.23.1->ipykernel) (4.8.0)\n",
      "Requirement already satisfied: entrypoints in /opt/conda/lib/python3.10/site-packages (from jupyter-client>=6.1.12->ipykernel) (0.4)\n",
      "Requirement already satisfied: platformdirs>=2.5 in /opt/conda/lib/python3.10/site-packages (from jupyter-core!=5.0.*,>=4.12->ipykernel) (4.0.0)\n",
      "Requirement already satisfied: six>=1.5 in /opt/conda/lib/python3.10/site-packages (from python-dateutil>=2.7->matplotlib) (1.16.0)\n",
      "Requirement already satisfied: greenlet!=0.4.17 in /opt/conda/lib/python3.10/site-packages (from sqlalchemy>=1.3.0->optuna) (2.0.2)\n",
      "Requirement already satisfied: charset-normalizer<4,>=2 in /opt/conda/lib/python3.10/site-packages (from requests->lightfm) (3.2.0)\n",
      "Requirement already satisfied: idna<4,>=2.5 in /opt/conda/lib/python3.10/site-packages (from requests->lightfm) (3.4)\n",
      "Requirement already satisfied: urllib3<3,>=1.21.1 in /opt/conda/lib/python3.10/site-packages (from requests->lightfm) (1.26.15)\n",
      "Requirement already satisfied: certifi>=2017.4.17 in /opt/conda/lib/python3.10/site-packages (from requests->lightfm) (2023.7.22)\n",
      "Requirement already satisfied: joblib>=1.1.1 in /opt/conda/lib/python3.10/site-packages (from scikit-learn->lightfm) (1.3.2)\n",
      "Requirement already satisfied: parso<0.9.0,>=0.8.3 in /opt/conda/lib/python3.10/site-packages (from jedi>=0.16->ipython>=7.23.1->ipykernel) (0.8.3)\n",
      "Requirement already satisfied: ptyprocess>=0.5 in /opt/conda/lib/python3.10/site-packages (from pexpect>4.3->ipython>=7.23.1->ipykernel) (0.7.0)\n",
      "Requirement already satisfied: wcwidth in /opt/conda/lib/python3.10/site-packages (from prompt-toolkit!=3.0.37,<3.1.0,>=3.0.30->ipython>=7.23.1->ipykernel) (0.2.6)\n",
      "Requirement already satisfied: MarkupSafe>=0.9.2 in /opt/conda/lib/python3.10/site-packages (from Mako->alembic>=1.5.0->optuna) (2.1.3)\n",
      "Requirement already satisfied: executing>=1.2.0 in /opt/conda/lib/python3.10/site-packages (from stack-data->ipython>=7.23.1->ipykernel) (1.2.0)\n",
      "Requirement already satisfied: asttokens>=2.1.0 in /opt/conda/lib/python3.10/site-packages (from stack-data->ipython>=7.23.1->ipykernel) (2.2.1)\n",
      "Requirement already satisfied: pure-eval in /opt/conda/lib/python3.10/site-packages (from stack-data->ipython>=7.23.1->ipykernel) (0.2.2)\n",
      "Downloading implicit-0.7.2-cp310-cp310-manylinux2014_x86_64.whl (8.9 MB)\n",
      "\u001b[2K   \u001b[90m━━━━━━━━━━━━━━━━━━━━━━━━━━━━━━━━━━━━━━━━\u001b[0m \u001b[32m8.9/8.9 MB\u001b[0m \u001b[31m19.6 MB/s\u001b[0m eta \u001b[36m0:00:00\u001b[0m00:01\u001b[0m00:01\u001b[0m\n",
      "\u001b[?25hInstalling collected packages: implicit\n",
      "Successfully installed implicit-0.7.2\n"
     ]
    }
   ],
   "source": [
    "!pip install lightfm tqdm optuna ipykernel matplotlib implicit"
   ]
  },
  {
   "cell_type": "code",
   "execution_count": 4,
   "metadata": {
    "execution": {
     "iopub.execute_input": "2023-12-07T08:52:18.512685Z",
     "iopub.status.busy": "2023-12-07T08:52:18.512214Z",
     "iopub.status.idle": "2023-12-07T08:55:14.603214Z",
     "shell.execute_reply": "2023-12-07T08:55:14.601805Z",
     "shell.execute_reply.started": "2023-12-07T08:52:18.512641Z"
    },
    "scrolled": true
   },
   "outputs": [
    {
     "name": "stdout",
     "output_type": "stream",
     "text": [
      "run_compile_all_cython: Found 10 Cython files in 4 folders...\n",
      "run_compile_all_cython: All files will be compiled using your current python environment: '/opt/conda/bin/python'\n",
      "Compiling [1/10]: MatrixFactorization_Cython_Epoch.pyx... \n",
      "In file included from \u001b[01m\u001b[K/opt/conda/lib/python3.10/site-packages/numpy/core/include/numpy/ndarraytypes.h:1940\u001b[m\u001b[K,\n",
      "                 from \u001b[01m\u001b[K/opt/conda/lib/python3.10/site-packages/numpy/core/include/numpy/ndarrayobject.h:12\u001b[m\u001b[K,\n",
      "                 from \u001b[01m\u001b[K/opt/conda/lib/python3.10/site-packages/numpy/core/include/numpy/arrayobject.h:5\u001b[m\u001b[K,\n",
      "                 from \u001b[01m\u001b[KMatrixFactorization_Cython_Epoch.c:1109\u001b[m\u001b[K:\n",
      "\u001b[01m\u001b[K/opt/conda/lib/python3.10/site-packages/numpy/core/include/numpy/npy_1_7_deprecated_api.h:17:2:\u001b[m\u001b[K \u001b[01;35m\u001b[Kwarning: \u001b[m\u001b[K#warning \"Using deprecated NumPy API, disable it with \" \"#define NPY_NO_DEPRECATED_API NPY_1_7_API_VERSION\" [\u001b[01;35m\u001b[K-Wcpp\u001b[m\u001b[K]\n",
      "   17 | #\u001b[01;35m\u001b[Kwarning\u001b[m\u001b[K \"Using deprecated NumPy API, disable it with \" \\\n",
      "      |  \u001b[01;35m\u001b[K^~~~~~~\u001b[m\u001b[K\n",
      "\u001b[01m\u001b[KMatrixFactorization_Cython_Epoch.c:\u001b[m\u001b[K In function ‘\u001b[01m\u001b[K__pyx_pf_32MatrixFactorization_Cython_Epoch_32MatrixFactorization_Cython_Epoch_10epochIteration_Cython_ASY_SVD_SGD\u001b[m\u001b[K’:\n",
      "\u001b[01m\u001b[KMatrixFactorization_Cython_Epoch.c:25415:9:\u001b[m\u001b[K \u001b[01;35m\u001b[Kwarning: \u001b[m\u001b[K‘\u001b[01m\u001b[K__pyx_v_end_pos_seen_items\u001b[m\u001b[K’ may be used uninitialized in this function [\u001b[01;35m\u001b[K-Wmaybe-uninitialized\u001b[m\u001b[K]\n",
      "25415 |         \u001b[01;35m\u001b[Kfor\u001b[m\u001b[K (__pyx_t_20 = __pyx_v_start_pos_seen_items; __pyx_t_20 < __pyx_t_19; __pyx_t_20+=1) {\n",
      "      |         \u001b[01;35m\u001b[K^~~\u001b[m\u001b[K\n",
      "\u001b[01m\u001b[KMatrixFactorization_Cython_Epoch.c:25415:9:\u001b[m\u001b[K \u001b[01;35m\u001b[Kwarning: \u001b[m\u001b[K‘\u001b[01m\u001b[K__pyx_v_start_pos_seen_items\u001b[m\u001b[K’ may be used uninitialized in this function [\u001b[01;35m\u001b[K-Wmaybe-uninitialized\u001b[m\u001b[K]\n",
      "/opt/conda/lib/python3.10/site-packages/Cython/Compiler/Main.py:381: FutureWarning: Cython directive 'language_level' not set, using '3str' for now (Py3). This has changed from earlier releases! File: /kaggle/working/Recommenders/MatrixFactorization/Cython/MatrixFactorization_Cython_Epoch.pyx\n",
      "  tree = Parsing.p_module(s, pxd, full_module_name)\n",
      "Compiling [1/10]: MatrixFactorization_Cython_Epoch.pyx... PASS\n",
      "\n",
      "Compiling [2/10]: MatrixFactorizationImpressions_Cython_Epoch.pyx... \n",
      "In file included from \u001b[01m\u001b[K/opt/conda/lib/python3.10/site-packages/numpy/core/include/numpy/ndarraytypes.h:1940\u001b[m\u001b[K,\n",
      "                 from \u001b[01m\u001b[K/opt/conda/lib/python3.10/site-packages/numpy/core/include/numpy/ndarrayobject.h:12\u001b[m\u001b[K,\n",
      "                 from \u001b[01m\u001b[K/opt/conda/lib/python3.10/site-packages/numpy/core/include/numpy/arrayobject.h:5\u001b[m\u001b[K,\n",
      "                 from \u001b[01m\u001b[KMatrixFactorizationImpressions_Cython_Epoch.c:1109\u001b[m\u001b[K:\n",
      "\u001b[01m\u001b[K/opt/conda/lib/python3.10/site-packages/numpy/core/include/numpy/npy_1_7_deprecated_api.h:17:2:\u001b[m\u001b[K \u001b[01;35m\u001b[Kwarning: \u001b[m\u001b[K#warning \"Using deprecated NumPy API, disable it with \" \"#define NPY_NO_DEPRECATED_API NPY_1_7_API_VERSION\" [\u001b[01;35m\u001b[K-Wcpp\u001b[m\u001b[K]\n",
      "   17 | #\u001b[01;35m\u001b[Kwarning\u001b[m\u001b[K \"Using deprecated NumPy API, disable it with \" \\\n",
      "      |  \u001b[01;35m\u001b[K^~~~~~~\u001b[m\u001b[K\n",
      "\u001b[01m\u001b[KMatrixFactorizationImpressions_Cython_Epoch.c:\u001b[m\u001b[K In function ‘\u001b[01m\u001b[K__pyx_f_43MatrixFactorizationImpressions_Cython_Epoch_32MatrixFactorization_Cython_Epoch_sampleBPR_Cython\u001b[m\u001b[K’:\n",
      "\u001b[01m\u001b[KMatrixFactorizationImpressions_Cython_Epoch.c:29445:17:\u001b[m\u001b[K \u001b[01;35m\u001b[Kwarning: \u001b[m\u001b[K‘\u001b[01m\u001b[K__pyx_v_start_pos_impression_items\u001b[m\u001b[K’ may be used uninitialized in this function [\u001b[01;35m\u001b[K-Wmaybe-uninitialized\u001b[m\u001b[K]\n",
      "29445 |       \u001b[01;35m\u001b[K__pyx_t_4 = (__pyx_v_start_pos_impression_items + __pyx_v_index)\u001b[m\u001b[K;\n",
      "      |       \u001b[01;35m\u001b[K~~~~~~~~~~^~~~~~~~~~~~~~~~~~~~~~~~~~~~~~~~~~~~~~~~~~~~~~~~~~~~~~\u001b[m\u001b[K\n",
      "\u001b[01m\u001b[KMatrixFactorizationImpressions_Cython_Epoch.c:\u001b[m\u001b[K In function ‘\u001b[01m\u001b[K__pyx_pf_43MatrixFactorizationImpressions_Cython_Epoch_32MatrixFactorization_Cython_Epoch_10epochIteration_Cython_ASY_SVD_SGD\u001b[m\u001b[K’:\n",
      "\u001b[01m\u001b[KMatrixFactorizationImpressions_Cython_Epoch.c:25281:7:\u001b[m\u001b[K \u001b[01;35m\u001b[Kwarning: \u001b[m\u001b[K‘\u001b[01m\u001b[K__pyx_v_end_pos_seen_items\u001b[m\u001b[K’ may be used uninitialized in this function [\u001b[01;35m\u001b[K-Wmaybe-uninitialized\u001b[m\u001b[K]\n",
      "25281 |       \u001b[01;35m\u001b[Kfor\u001b[m\u001b[K (__pyx_t_20 = __pyx_v_start_pos_seen_items; __pyx_t_20 < __pyx_t_19; __pyx_t_20+=1) {\n",
      "      |       \u001b[01;35m\u001b[K^~~\u001b[m\u001b[K\n",
      "\u001b[01m\u001b[KMatrixFactorizationImpressions_Cython_Epoch.c:25281:7:\u001b[m\u001b[K \u001b[01;35m\u001b[Kwarning: \u001b[m\u001b[K‘\u001b[01m\u001b[K__pyx_v_start_pos_seen_items\u001b[m\u001b[K’ may be used uninitialized in this function [\u001b[01;35m\u001b[K-Wmaybe-uninitialized\u001b[m\u001b[K]\n",
      "/opt/conda/lib/python3.10/site-packages/Cython/Compiler/Main.py:381: FutureWarning: Cython directive 'language_level' not set, using '3str' for now (Py3). This has changed from earlier releases! File: /kaggle/working/Recommenders/MatrixFactorization/Cython/MatrixFactorizationImpressions_Cython_Epoch.pyx\n",
      "  tree = Parsing.p_module(s, pxd, full_module_name)\n",
      "Compiling [2/10]: MatrixFactorizationImpressions_Cython_Epoch.pyx... PASS\n",
      "\n",
      "Compiling [3/10]: Compute_Similarity_Cython.pyx... \n",
      "In file included from \u001b[01m\u001b[K/opt/conda/lib/python3.10/site-packages/numpy/core/include/numpy/ndarraytypes.h:1940\u001b[m\u001b[K,\n",
      "                 from \u001b[01m\u001b[K/opt/conda/lib/python3.10/site-packages/numpy/core/include/numpy/ndarrayobject.h:12\u001b[m\u001b[K,\n",
      "                 from \u001b[01m\u001b[K/opt/conda/lib/python3.10/site-packages/numpy/core/include/numpy/arrayobject.h:5\u001b[m\u001b[K,\n",
      "                 from \u001b[01m\u001b[KCompute_Similarity_Cython.c:1109\u001b[m\u001b[K:\n",
      "\u001b[01m\u001b[K/opt/conda/lib/python3.10/site-packages/numpy/core/include/numpy/npy_1_7_deprecated_api.h:17:2:\u001b[m\u001b[K \u001b[01;35m\u001b[Kwarning: \u001b[m\u001b[K#warning \"Using deprecated NumPy API, disable it with \" \"#define NPY_NO_DEPRECATED_API NPY_1_7_API_VERSION\" [\u001b[01;35m\u001b[K-Wcpp\u001b[m\u001b[K]\n",
      "   17 | #\u001b[01;35m\u001b[Kwarning\u001b[m\u001b[K \"Using deprecated NumPy API, disable it with \" \\\n",
      "      |  \u001b[01;35m\u001b[K^~~~~~~\u001b[m\u001b[K\n",
      "/opt/conda/lib/python3.10/site-packages/Cython/Compiler/Main.py:381: FutureWarning: Cython directive 'language_level' not set, using '3str' for now (Py3). This has changed from earlier releases! File: /kaggle/working/Recommenders/Similarity/Cython/Compute_Similarity_Cython.pyx\n",
      "  tree = Parsing.p_module(s, pxd, full_module_name)\n",
      "Compiling [3/10]: Compute_Similarity_Cython.pyx... PASS\n",
      "\n",
      "Compiling [4/10]: SLIM_BPR_Cython_Epoch.pyx... \n",
      "warning: SLIM_BPR_Cython_Epoch.pyx:626:34: Non-trivial type declarators in shared declaration (e.g. mix of pointers and values). Each pointer declaration should be on its own line.\n",
      "warning: SLIM_BPR_Cython_Epoch.pyx:626:66: Non-trivial type declarators in shared declaration (e.g. mix of pointers and values). Each pointer declaration should be on its own line.\n",
      "warning: SLIM_BPR_Cython_Epoch.pyx:811:35: Non-trivial type declarators in shared declaration (e.g. mix of pointers and values). Each pointer declaration should be on its own line.\n",
      "warning: SLIM_BPR_Cython_Epoch.pyx:811:52: Non-trivial type declarators in shared declaration (e.g. mix of pointers and values). Each pointer declaration should be on its own line.\n",
      "warning: SLIM_BPR_Cython_Epoch.pyx:910:35: Non-trivial type declarators in shared declaration (e.g. mix of pointers and values). Each pointer declaration should be on its own line.\n",
      "warning: SLIM_BPR_Cython_Epoch.pyx:910:53: Non-trivial type declarators in shared declaration (e.g. mix of pointers and values). Each pointer declaration should be on its own line.\n",
      "warning: SLIM_BPR_Cython_Epoch.pyx:910:69: Non-trivial type declarators in shared declaration (e.g. mix of pointers and values). Each pointer declaration should be on its own line.\n",
      "warning: SLIM_BPR_Cython_Epoch.pyx:1045:35: Non-trivial type declarators in shared declaration (e.g. mix of pointers and values). Each pointer declaration should be on its own line.\n",
      "warning: SLIM_BPR_Cython_Epoch.pyx:1045:42: Non-trivial type declarators in shared declaration (e.g. mix of pointers and values). Each pointer declaration should be on its own line.\n",
      "warning: SLIM_BPR_Cython_Epoch.pyx:1046:35: Non-trivial type declarators in shared declaration (e.g. mix of pointers and values). Each pointer declaration should be on its own line.\n",
      "warning: SLIM_BPR_Cython_Epoch.pyx:1046:53: Non-trivial type declarators in shared declaration (e.g. mix of pointers and values). Each pointer declaration should be on its own line.\n",
      "In file included from \u001b[01m\u001b[K/opt/conda/lib/python3.10/site-packages/numpy/core/include/numpy/ndarraytypes.h:1940\u001b[m\u001b[K,\n",
      "                 from \u001b[01m\u001b[K/opt/conda/lib/python3.10/site-packages/numpy/core/include/numpy/ndarrayobject.h:12\u001b[m\u001b[K,\n",
      "                 from \u001b[01m\u001b[K/opt/conda/lib/python3.10/site-packages/numpy/core/include/numpy/arrayobject.h:5\u001b[m\u001b[K,\n",
      "                 from \u001b[01m\u001b[KSLIM_BPR_Cython_Epoch.c:1109\u001b[m\u001b[K:\n",
      "\u001b[01m\u001b[K/opt/conda/lib/python3.10/site-packages/numpy/core/include/numpy/npy_1_7_deprecated_api.h:17:2:\u001b[m\u001b[K \u001b[01;35m\u001b[Kwarning: \u001b[m\u001b[K#warning \"Using deprecated NumPy API, disable it with \" \"#define NPY_NO_DEPRECATED_API NPY_1_7_API_VERSION\" [\u001b[01;35m\u001b[K-Wcpp\u001b[m\u001b[K]\n",
      "   17 | #\u001b[01;35m\u001b[Kwarning\u001b[m\u001b[K \"Using deprecated NumPy API, disable it with \" \\\n",
      "      |  \u001b[01;35m\u001b[K^~~~~~~\u001b[m\u001b[K\n",
      "\u001b[01m\u001b[KSLIM_BPR_Cython_Epoch.c:\u001b[m\u001b[K In function ‘\u001b[01m\u001b[K__pyx_f_21SLIM_BPR_Cython_Epoch_22Sparse_Matrix_Tree_CSR_test_list_tee_conversion\u001b[m\u001b[K’:\n",
      "\u001b[01m\u001b[KSLIM_BPR_Cython_Epoch.c:28390:15:\u001b[m\u001b[K \u001b[01;35m\u001b[Kwarning: \u001b[m\u001b[K‘\u001b[01m\u001b[K__pyx_v_previous_element\u001b[m\u001b[K’ may be used uninitialized in this function [\u001b[01;35m\u001b[K-Wmaybe-uninitialized\u001b[m\u001b[K]\n",
      "28390 |     \u001b[01;35m\u001b[K__pyx_t_7 = __pyx_v_current_element->lower\u001b[m\u001b[K;\n",
      "      |     \u001b[01;35m\u001b[K~~~~~~~~~~^~~~~~~~~~~~~~~~~~~~~~~~~~~~~~~~\u001b[m\u001b[K\n",
      "/opt/conda/lib/python3.10/site-packages/Cython/Compiler/Main.py:381: FutureWarning: Cython directive 'language_level' not set, using '3str' for now (Py3). This has changed from earlier releases! File: /kaggle/working/Recommenders/SLIM/Cython/SLIM_BPR_Cython_Epoch.pyx\n",
      "  tree = Parsing.p_module(s, pxd, full_module_name)\n",
      "warning: SLIM_BPR_Cython_Epoch.pyx:626:34: Non-trivial type declarators in shared declaration (e.g. mix of pointers and values). Each pointer declaration should be on its own line.\n",
      "warning: SLIM_BPR_Cython_Epoch.pyx:626:66: Non-trivial type declarators in shared declaration (e.g. mix of pointers and values). Each pointer declaration should be on its own line.\n",
      "warning: SLIM_BPR_Cython_Epoch.pyx:811:35: Non-trivial type declarators in shared declaration (e.g. mix of pointers and values). Each pointer declaration should be on its own line.\n",
      "warning: SLIM_BPR_Cython_Epoch.pyx:811:52: Non-trivial type declarators in shared declaration (e.g. mix of pointers and values). Each pointer declaration should be on its own line.\n",
      "warning: SLIM_BPR_Cython_Epoch.pyx:910:35: Non-trivial type declarators in shared declaration (e.g. mix of pointers and values). Each pointer declaration should be on its own line.\n",
      "warning: SLIM_BPR_Cython_Epoch.pyx:910:53: Non-trivial type declarators in shared declaration (e.g. mix of pointers and values). Each pointer declaration should be on its own line.\n",
      "warning: SLIM_BPR_Cython_Epoch.pyx:910:69: Non-trivial type declarators in shared declaration (e.g. mix of pointers and values). Each pointer declaration should be on its own line.\n",
      "warning: SLIM_BPR_Cython_Epoch.pyx:1045:35: Non-trivial type declarators in shared declaration (e.g. mix of pointers and values). Each pointer declaration should be on its own line.\n",
      "warning: SLIM_BPR_Cython_Epoch.pyx:1045:42: Non-trivial type declarators in shared declaration (e.g. mix of pointers and values). Each pointer declaration should be on its own line.\n",
      "warning: SLIM_BPR_Cython_Epoch.pyx:1046:35: Non-trivial type declarators in shared declaration (e.g. mix of pointers and values). Each pointer declaration should be on its own line.\n",
      "warning: SLIM_BPR_Cython_Epoch.pyx:1046:53: Non-trivial type declarators in shared declaration (e.g. mix of pointers and values). Each pointer declaration should be on its own line.\n",
      "Compiling [4/10]: SLIM_BPR_Cython_Epoch.pyx... PASS\n",
      "\n",
      "Compiling [5/10]: Triangular_Matrix.pyx... \n",
      "In file included from \u001b[01m\u001b[K/opt/conda/lib/python3.10/site-packages/numpy/core/include/numpy/ndarraytypes.h:1940\u001b[m\u001b[K,\n",
      "                 from \u001b[01m\u001b[K/opt/conda/lib/python3.10/site-packages/numpy/core/include/numpy/ndarrayobject.h:12\u001b[m\u001b[K,\n",
      "                 from \u001b[01m\u001b[K/opt/conda/lib/python3.10/site-packages/numpy/core/include/numpy/arrayobject.h:5\u001b[m\u001b[K,\n",
      "                 from \u001b[01m\u001b[KTriangular_Matrix.c:1109\u001b[m\u001b[K:\n",
      "\u001b[01m\u001b[K/opt/conda/lib/python3.10/site-packages/numpy/core/include/numpy/npy_1_7_deprecated_api.h:17:2:\u001b[m\u001b[K \u001b[01;35m\u001b[Kwarning: \u001b[m\u001b[K#warning \"Using deprecated NumPy API, disable it with \" \"#define NPY_NO_DEPRECATED_API NPY_1_7_API_VERSION\" [\u001b[01;35m\u001b[K-Wcpp\u001b[m\u001b[K]\n",
      "   17 | #\u001b[01;35m\u001b[Kwarning\u001b[m\u001b[K \"Using deprecated NumPy API, disable it with \" \\\n",
      "      |  \u001b[01;35m\u001b[K^~~~~~~\u001b[m\u001b[K\n",
      "/opt/conda/lib/python3.10/site-packages/Cython/Compiler/Main.py:381: FutureWarning: Cython directive 'language_level' not set, using '3str' for now (Py3). This has changed from earlier releases! File: /kaggle/working/Recommenders/SLIM/Cython/Triangular_Matrix.pyx\n",
      "  tree = Parsing.p_module(s, pxd, full_module_name)\n",
      "Compiling [5/10]: Triangular_Matrix.pyx... PASS\n",
      "\n",
      "Compiling [6/10]: Sparse_Matrix_Tree_CSR.pyx... \n",
      "warning: Sparse_Matrix_Tree_CSR.pyx:132:34: Non-trivial type declarators in shared declaration (e.g. mix of pointers and values). Each pointer declaration should be on its own line.\n",
      "warning: Sparse_Matrix_Tree_CSR.pyx:132:66: Non-trivial type declarators in shared declaration (e.g. mix of pointers and values). Each pointer declaration should be on its own line.\n",
      "warning: Sparse_Matrix_Tree_CSR.pyx:343:35: Non-trivial type declarators in shared declaration (e.g. mix of pointers and values). Each pointer declaration should be on its own line.\n",
      "warning: Sparse_Matrix_Tree_CSR.pyx:343:52: Non-trivial type declarators in shared declaration (e.g. mix of pointers and values). Each pointer declaration should be on its own line.\n",
      "warning: Sparse_Matrix_Tree_CSR.pyx:442:35: Non-trivial type declarators in shared declaration (e.g. mix of pointers and values). Each pointer declaration should be on its own line.\n",
      "warning: Sparse_Matrix_Tree_CSR.pyx:442:53: Non-trivial type declarators in shared declaration (e.g. mix of pointers and values). Each pointer declaration should be on its own line.\n",
      "warning: Sparse_Matrix_Tree_CSR.pyx:442:69: Non-trivial type declarators in shared declaration (e.g. mix of pointers and values). Each pointer declaration should be on its own line.\n",
      "warning: Sparse_Matrix_Tree_CSR.pyx:577:35: Non-trivial type declarators in shared declaration (e.g. mix of pointers and values). Each pointer declaration should be on its own line.\n",
      "warning: Sparse_Matrix_Tree_CSR.pyx:577:42: Non-trivial type declarators in shared declaration (e.g. mix of pointers and values). Each pointer declaration should be on its own line.\n",
      "warning: Sparse_Matrix_Tree_CSR.pyx:578:35: Non-trivial type declarators in shared declaration (e.g. mix of pointers and values). Each pointer declaration should be on its own line.\n",
      "warning: Sparse_Matrix_Tree_CSR.pyx:578:53: Non-trivial type declarators in shared declaration (e.g. mix of pointers and values). Each pointer declaration should be on its own line.\n",
      "In file included from \u001b[01m\u001b[K/opt/conda/lib/python3.10/site-packages/numpy/core/include/numpy/ndarraytypes.h:1940\u001b[m\u001b[K,\n",
      "                 from \u001b[01m\u001b[K/opt/conda/lib/python3.10/site-packages/numpy/core/include/numpy/ndarrayobject.h:12\u001b[m\u001b[K,\n",
      "                 from \u001b[01m\u001b[K/opt/conda/lib/python3.10/site-packages/numpy/core/include/numpy/arrayobject.h:5\u001b[m\u001b[K,\n",
      "                 from \u001b[01m\u001b[KSparse_Matrix_Tree_CSR.c:1109\u001b[m\u001b[K:\n",
      "\u001b[01m\u001b[K/opt/conda/lib/python3.10/site-packages/numpy/core/include/numpy/npy_1_7_deprecated_api.h:17:2:\u001b[m\u001b[K \u001b[01;35m\u001b[Kwarning: \u001b[m\u001b[K#warning \"Using deprecated NumPy API, disable it with \" \"#define NPY_NO_DEPRECATED_API NPY_1_7_API_VERSION\" [\u001b[01;35m\u001b[K-Wcpp\u001b[m\u001b[K]\n",
      "   17 | #\u001b[01;35m\u001b[Kwarning\u001b[m\u001b[K \"Using deprecated NumPy API, disable it with \" \\\n",
      "      |  \u001b[01;35m\u001b[K^~~~~~~\u001b[m\u001b[K\n",
      "\u001b[01m\u001b[KSparse_Matrix_Tree_CSR.c:\u001b[m\u001b[K In function ‘\u001b[01m\u001b[K__pyx_f_22Sparse_Matrix_Tree_CSR_22Sparse_Matrix_Tree_CSR_test_list_tree_conversion\u001b[m\u001b[K’:\n",
      "\u001b[01m\u001b[KSparse_Matrix_Tree_CSR.c:8499:15:\u001b[m\u001b[K \u001b[01;35m\u001b[Kwarning: \u001b[m\u001b[K‘\u001b[01m\u001b[K__pyx_v_previous_element\u001b[m\u001b[K’ may be used uninitialized in this function [\u001b[01;35m\u001b[K-Wmaybe-uninitialized\u001b[m\u001b[K]\n",
      " 8499 |     \u001b[01;35m\u001b[K__pyx_t_7 = __pyx_v_current_element->lower\u001b[m\u001b[K;\n",
      "      |     \u001b[01;35m\u001b[K~~~~~~~~~~^~~~~~~~~~~~~~~~~~~~~~~~~~~~~~~~\u001b[m\u001b[K\n",
      "/opt/conda/lib/python3.10/site-packages/Cython/Compiler/Main.py:381: FutureWarning: Cython directive 'language_level' not set, using '3str' for now (Py3). This has changed from earlier releases! File: /kaggle/working/Recommenders/SLIM/Cython/Sparse_Matrix_Tree_CSR.pyx\n",
      "  tree = Parsing.p_module(s, pxd, full_module_name)\n",
      "warning: Sparse_Matrix_Tree_CSR.pyx:132:34: Non-trivial type declarators in shared declaration (e.g. mix of pointers and values). Each pointer declaration should be on its own line.\n",
      "warning: Sparse_Matrix_Tree_CSR.pyx:132:66: Non-trivial type declarators in shared declaration (e.g. mix of pointers and values). Each pointer declaration should be on its own line.\n",
      "warning: Sparse_Matrix_Tree_CSR.pyx:343:35: Non-trivial type declarators in shared declaration (e.g. mix of pointers and values). Each pointer declaration should be on its own line.\n",
      "warning: Sparse_Matrix_Tree_CSR.pyx:343:52: Non-trivial type declarators in shared declaration (e.g. mix of pointers and values). Each pointer declaration should be on its own line.\n",
      "warning: Sparse_Matrix_Tree_CSR.pyx:442:35: Non-trivial type declarators in shared declaration (e.g. mix of pointers and values). Each pointer declaration should be on its own line.\n",
      "warning: Sparse_Matrix_Tree_CSR.pyx:442:53: Non-trivial type declarators in shared declaration (e.g. mix of pointers and values). Each pointer declaration should be on its own line.\n",
      "warning: Sparse_Matrix_Tree_CSR.pyx:442:69: Non-trivial type declarators in shared declaration (e.g. mix of pointers and values). Each pointer declaration should be on its own line.\n",
      "warning: Sparse_Matrix_Tree_CSR.pyx:577:35: Non-trivial type declarators in shared declaration (e.g. mix of pointers and values). Each pointer declaration should be on its own line.\n",
      "warning: Sparse_Matrix_Tree_CSR.pyx:577:42: Non-trivial type declarators in shared declaration (e.g. mix of pointers and values). Each pointer declaration should be on its own line.\n",
      "warning: Sparse_Matrix_Tree_CSR.pyx:578:35: Non-trivial type declarators in shared declaration (e.g. mix of pointers and values). Each pointer declaration should be on its own line.\n",
      "warning: Sparse_Matrix_Tree_CSR.pyx:578:53: Non-trivial type declarators in shared declaration (e.g. mix of pointers and values). Each pointer declaration should be on its own line.\n",
      "Compiling [6/10]: Sparse_Matrix_Tree_CSR.pyx... PASS\n",
      "\n",
      "Compiling [7/10]: HP3_Similarity_Cython_SGD.pyx... \n",
      "warning: HP3_Similarity_Cython_SGD.pyx:113:40: Index should be typed for more efficient access\n",
      "In file included from \u001b[01m\u001b[K/opt/conda/lib/python3.10/site-packages/numpy/core/include/numpy/ndarraytypes.h:1940\u001b[m\u001b[K,\n",
      "                 from \u001b[01m\u001b[K/opt/conda/lib/python3.10/site-packages/numpy/core/include/numpy/ndarrayobject.h:12\u001b[m\u001b[K,\n",
      "                 from \u001b[01m\u001b[K/opt/conda/lib/python3.10/site-packages/numpy/core/include/numpy/arrayobject.h:5\u001b[m\u001b[K,\n",
      "                 from \u001b[01m\u001b[KHP3_Similarity_Cython_SGD.c:1109\u001b[m\u001b[K:\n",
      "\u001b[01m\u001b[K/opt/conda/lib/python3.10/site-packages/numpy/core/include/numpy/npy_1_7_deprecated_api.h:17:2:\u001b[m\u001b[K \u001b[01;35m\u001b[Kwarning: \u001b[m\u001b[K#warning \"Using deprecated NumPy API, disable it with \" \"#define NPY_NO_DEPRECATED_API NPY_1_7_API_VERSION\" [\u001b[01;35m\u001b[K-Wcpp\u001b[m\u001b[K]\n",
      "   17 | #\u001b[01;35m\u001b[Kwarning\u001b[m\u001b[K \"Using deprecated NumPy API, disable it with \" \\\n",
      "      |  \u001b[01;35m\u001b[K^~~~~~~\u001b[m\u001b[K\n",
      "\u001b[01m\u001b[KHP3_Similarity_Cython_SGD.c:\u001b[m\u001b[K In function ‘\u001b[01m\u001b[K__pyx_pf_25HP3_Similarity_Cython_SGD_25HP3_Similarity_Cython_SGD_4fit\u001b[m\u001b[K’:\n",
      "\u001b[01m\u001b[KHP3_Similarity_Cython_SGD.c:22910:55:\u001b[m\u001b[K \u001b[01;35m\u001b[Kwarning: \u001b[m\u001b[K‘\u001b[01m\u001b[K__pyx_v_sample_num\u001b[m\u001b[K’ may be used uninitialized in this function [\u001b[01;35m\u001b[K-Wmaybe-uninitialized\u001b[m\u001b[K]\n",
      "22910 |   __pyx_t_2 = PyFloat_FromDouble((__pyx_v_cum_loss / \u001b[01;35m\u001b[K((double)__pyx_v_sample_num)\u001b[m\u001b[K)); if (unlikely(!__pyx_t_2)) __PYX_ERR(0, 291, __pyx_L1_error)\n",
      "      |                                                      \u001b[01;35m\u001b[K~^~~~~~~~~~~~~~~~~~~~~~~~~~~\u001b[m\u001b[K\n",
      "/opt/conda/lib/python3.10/site-packages/Cython/Compiler/Main.py:381: FutureWarning: Cython directive 'language_level' not set, using '3str' for now (Py3). This has changed from earlier releases! File: /kaggle/working/Recommenders/FeatureWeighting/Cython/HP3_Similarity_Cython_SGD.pyx\n",
      "  tree = Parsing.p_module(s, pxd, full_module_name)\n",
      "warning: HP3_Similarity_Cython_SGD.pyx:113:40: Index should be typed for more efficient access\n",
      "Compiling [7/10]: HP3_Similarity_Cython_SGD.pyx... PASS\n",
      "\n",
      "Compiling [8/10]: CFW_D_Similarity_Cython_SGD.pyx... \n",
      "In file included from \u001b[01m\u001b[K/opt/conda/lib/python3.10/site-packages/numpy/core/include/numpy/ndarraytypes.h:1940\u001b[m\u001b[K,\n",
      "                 from \u001b[01m\u001b[K/opt/conda/lib/python3.10/site-packages/numpy/core/include/numpy/ndarrayobject.h:12\u001b[m\u001b[K,\n",
      "                 from \u001b[01m\u001b[K/opt/conda/lib/python3.10/site-packages/numpy/core/include/numpy/arrayobject.h:5\u001b[m\u001b[K,\n",
      "                 from \u001b[01m\u001b[KCFW_D_Similarity_Cython_SGD.c:1109\u001b[m\u001b[K:\n",
      "\u001b[01m\u001b[K/opt/conda/lib/python3.10/site-packages/numpy/core/include/numpy/npy_1_7_deprecated_api.h:17:2:\u001b[m\u001b[K \u001b[01;35m\u001b[Kwarning: \u001b[m\u001b[K#warning \"Using deprecated NumPy API, disable it with \" \"#define NPY_NO_DEPRECATED_API NPY_1_7_API_VERSION\" [\u001b[01;35m\u001b[K-Wcpp\u001b[m\u001b[K]\n",
      "   17 | #\u001b[01;35m\u001b[Kwarning\u001b[m\u001b[K \"Using deprecated NumPy API, disable it with \" \\\n",
      "      |  \u001b[01;35m\u001b[K^~~~~~~\u001b[m\u001b[K\n",
      "\u001b[01m\u001b[KCFW_D_Similarity_Cython_SGD.c:\u001b[m\u001b[K In function ‘\u001b[01m\u001b[K__pyx_pf_27CFW_D_Similarity_Cython_SGD_27CFW_D_Similarity_Cython_SGD_6fit\u001b[m\u001b[K’:\n",
      "\u001b[01m\u001b[KCFW_D_Similarity_Cython_SGD.c:22636:55:\u001b[m\u001b[K \u001b[01;35m\u001b[Kwarning: \u001b[m\u001b[K‘\u001b[01m\u001b[K__pyx_v_sample_num\u001b[m\u001b[K’ may be used uninitialized in this function [\u001b[01;35m\u001b[K-Wmaybe-uninitialized\u001b[m\u001b[K]\n",
      "22636 |   __pyx_t_2 = PyFloat_FromDouble((__pyx_v_cum_loss / \u001b[01;35m\u001b[K((double)__pyx_v_sample_num)\u001b[m\u001b[K)); if (unlikely(!__pyx_t_2)) __PYX_ERR(0, 290, __pyx_L1_error)\n",
      "      |                                                      \u001b[01;35m\u001b[K~^~~~~~~~~~~~~~~~~~~~~~~~~~~\u001b[m\u001b[K\n",
      "/opt/conda/lib/python3.10/site-packages/Cython/Compiler/Main.py:381: FutureWarning: Cython directive 'language_level' not set, using '3str' for now (Py3). This has changed from earlier releases! File: /kaggle/working/Recommenders/FeatureWeighting/Cython/CFW_D_Similarity_Cython_SGD.pyx\n",
      "  tree = Parsing.p_module(s, pxd, full_module_name)\n",
      "Compiling [8/10]: CFW_D_Similarity_Cython_SGD.pyx... PASS\n",
      "\n",
      "Compiling [9/10]: FBSM_Rating_Cython_SGD.pyx... \n",
      "In file included from \u001b[01m\u001b[K/opt/conda/lib/python3.10/site-packages/numpy/core/include/numpy/ndarraytypes.h:1940\u001b[m\u001b[K,\n",
      "                 from \u001b[01m\u001b[K/opt/conda/lib/python3.10/site-packages/numpy/core/include/numpy/ndarrayobject.h:12\u001b[m\u001b[K,\n",
      "                 from \u001b[01m\u001b[K/opt/conda/lib/python3.10/site-packages/numpy/core/include/numpy/arrayobject.h:5\u001b[m\u001b[K,\n",
      "                 from \u001b[01m\u001b[KFBSM_Rating_Cython_SGD.c:1109\u001b[m\u001b[K:\n",
      "\u001b[01m\u001b[K/opt/conda/lib/python3.10/site-packages/numpy/core/include/numpy/npy_1_7_deprecated_api.h:17:2:\u001b[m\u001b[K \u001b[01;35m\u001b[Kwarning: \u001b[m\u001b[K#warning \"Using deprecated NumPy API, disable it with \" \"#define NPY_NO_DEPRECATED_API NPY_1_7_API_VERSION\" [\u001b[01;35m\u001b[K-Wcpp\u001b[m\u001b[K]\n",
      "   17 | #\u001b[01;35m\u001b[Kwarning\u001b[m\u001b[K \"Using deprecated NumPy API, disable it with \" \\\n",
      "      |  \u001b[01;35m\u001b[K^~~~~~~\u001b[m\u001b[K\n",
      "\u001b[01m\u001b[KFBSM_Rating_Cython_SGD.c:\u001b[m\u001b[K In function ‘\u001b[01m\u001b[K__pyx_pf_22FBSM_Rating_Cython_SGD_22FBSM_Rating_Cython_SGD_2fit\u001b[m\u001b[K’:\n",
      "\u001b[01m\u001b[KFBSM_Rating_Cython_SGD.c:25812:55:\u001b[m\u001b[K \u001b[01;35m\u001b[Kwarning: \u001b[m\u001b[K‘\u001b[01m\u001b[K__pyx_v_num_sample\u001b[m\u001b[K’ may be used uninitialized in this function [\u001b[01;35m\u001b[K-Wmaybe-uninitialized\u001b[m\u001b[K]\n",
      "25812 |   __pyx_t_2 = PyFloat_FromDouble((__pyx_v_cum_loss / \u001b[01;35m\u001b[K((double)__pyx_v_num_sample)\u001b[m\u001b[K)); if (unlikely(!__pyx_t_2)) __PYX_ERR(0, 551, __pyx_L1_error)\n",
      "      |                                                      \u001b[01;35m\u001b[K~^~~~~~~~~~~~~~~~~~~~~~~~~~~\u001b[m\u001b[K\n",
      "/opt/conda/lib/python3.10/site-packages/Cython/Compiler/Main.py:381: FutureWarning: Cython directive 'language_level' not set, using '3str' for now (Py3). This has changed from earlier releases! File: /kaggle/working/Recommenders/FeatureWeighting/Cython/FBSM_Rating_Cython_SGD.pyx\n",
      "  tree = Parsing.p_module(s, pxd, full_module_name)\n",
      "Compiling [9/10]: FBSM_Rating_Cython_SGD.pyx... PASS\n",
      "\n",
      "Compiling [10/10]: CFW_DVV_Similarity_Cython_SGD.pyx... \n",
      "In file included from \u001b[01m\u001b[K/opt/conda/lib/python3.10/site-packages/numpy/core/include/numpy/ndarraytypes.h:1940\u001b[m\u001b[K,\n",
      "                 from \u001b[01m\u001b[K/opt/conda/lib/python3.10/site-packages/numpy/core/include/numpy/ndarrayobject.h:12\u001b[m\u001b[K,\n",
      "                 from \u001b[01m\u001b[K/opt/conda/lib/python3.10/site-packages/numpy/core/include/numpy/arrayobject.h:5\u001b[m\u001b[K,\n",
      "                 from \u001b[01m\u001b[KCFW_DVV_Similarity_Cython_SGD.c:1109\u001b[m\u001b[K:\n",
      "\u001b[01m\u001b[K/opt/conda/lib/python3.10/site-packages/numpy/core/include/numpy/npy_1_7_deprecated_api.h:17:2:\u001b[m\u001b[K \u001b[01;35m\u001b[Kwarning: \u001b[m\u001b[K#warning \"Using deprecated NumPy API, disable it with \" \"#define NPY_NO_DEPRECATED_API NPY_1_7_API_VERSION\" [\u001b[01;35m\u001b[K-Wcpp\u001b[m\u001b[K]\n",
      "   17 | #\u001b[01;35m\u001b[Kwarning\u001b[m\u001b[K \"Using deprecated NumPy API, disable it with \" \\\n",
      "      |  \u001b[01;35m\u001b[K^~~~~~~\u001b[m\u001b[K\n",
      "/opt/conda/lib/python3.10/site-packages/Cython/Compiler/Main.py:381: FutureWarning: Cython directive 'language_level' not set, using '3str' for now (Py3). This has changed from earlier releases! File: /kaggle/working/Recommenders/FeatureWeighting/Cython/CFW_DVV_Similarity_Cython_SGD.pyx\n",
      "  tree = Parsing.p_module(s, pxd, full_module_name)\n",
      "Compiling [10/10]: CFW_DVV_Similarity_Cython_SGD.pyx... PASS\n",
      "\n",
      "run_compile_all_cython: Compilation finished. SUCCESS.\n",
      "Compilation log can be found here: './result_experiments/run_compile_all_cython.txt'\n"
     ]
    }
   ],
   "source": [
    "!python run_compile_all_cython.py"
   ]
  },
  {
   "cell_type": "markdown",
   "metadata": {},
   "source": [
    "# Imports"
   ]
  },
  {
   "cell_type": "code",
   "execution_count": 5,
   "metadata": {
    "execution": {
     "iopub.execute_input": "2023-12-07T08:55:14.605952Z",
     "iopub.status.busy": "2023-12-07T08:55:14.605509Z",
     "iopub.status.idle": "2023-12-07T08:55:16.900373Z",
     "shell.execute_reply": "2023-12-07T08:55:16.899089Z",
     "shell.execute_reply.started": "2023-12-07T08:55:14.605909Z"
    }
   },
   "outputs": [],
   "source": [
    "import time\n",
    "import optuna\n",
    "import numpy as np\n",
    "import pandas as pd\n",
    "import scipy.sparse as sps\n",
    "from scipy.sparse import vstack, csr_matrix\n",
    "from scipy.stats import loguniform\n",
    "from lightfm import LightFM\n",
    "from lightfm.evaluation import auc_score, precision_at_k\n",
    "import matplotlib.pyplot as plt\n",
    "from multiprocessing import cpu_count"
   ]
  },
  {
   "cell_type": "code",
   "execution_count": 6,
   "metadata": {
    "execution": {
     "iopub.execute_input": "2023-12-07T08:55:16.903007Z",
     "iopub.status.busy": "2023-12-07T08:55:16.901887Z",
     "iopub.status.idle": "2023-12-07T08:55:17.515420Z",
     "shell.execute_reply": "2023-12-07T08:55:17.514415Z",
     "shell.execute_reply.started": "2023-12-07T08:55:16.902970Z"
    }
   },
   "outputs": [],
   "source": [
    "from Recommenders.BaseRecommender import BaseRecommender\n",
    "from Recommenders.BaseMatrixFactorizationRecommender import BaseMatrixFactorizationRecommender\n",
    "from Recommenders.NonPersonalizedRecommender import TopPop\n",
    "\n",
    "#---- CF\n",
    "from Recommenders.KNN.ItemKNNCFRecommender import ItemKNNCFRecommender\n",
    "from Recommenders.KNN.UserKNNCFRecommender import UserKNNCFRecommender\n",
    "from Recommenders.GraphBased.RP3betaRecommender import RP3betaRecommender\n",
    "from Recommenders.KNN.ItemKNNCustomSimilarityRecommender import ItemKNNCustomSimilarityRecommender\n",
    "\n",
    "#---- Matrix Factorization\n",
    "from Recommenders.MatrixFactorization.NMFRecommender import NMFRecommender\n",
    "\n",
    "#---- CF w/ ML\n",
    "from Recommenders.SLIM.SLIMElasticNetRecommender import SLIMElasticNetRecommender, MultiThreadSLIM_SLIMElasticNetRecommender\n",
    "from implicit.als import AlternatingLeastSquares\n",
    "\n",
    "#---- Others\n",
    "from Data_manager.split_functions.split_train_validation_random_holdout import split_train_in_two_percentage_global_sample\n",
    "from Evaluation.Evaluator import EvaluatorHoldout\n",
    "from Recommenders.Recommender_utils import check_matrix"
   ]
  },
  {
   "cell_type": "code",
   "execution_count": 7,
   "metadata": {
    "execution": {
     "iopub.execute_input": "2023-12-07T08:55:17.517398Z",
     "iopub.status.busy": "2023-12-07T08:55:17.516877Z",
     "iopub.status.idle": "2023-12-07T08:55:17.521775Z",
     "shell.execute_reply": "2023-12-07T08:55:17.520691Z",
     "shell.execute_reply.started": "2023-12-07T08:55:17.517366Z"
    }
   },
   "outputs": [],
   "source": [
    "seed = 69\n",
    "np.random.seed(seed)"
   ]
  },
  {
   "cell_type": "markdown",
   "metadata": {},
   "source": [
    "# Data Import and Preprocessing"
   ]
  },
  {
   "cell_type": "code",
   "execution_count": 8,
   "metadata": {
    "execution": {
     "iopub.execute_input": "2023-12-07T08:55:17.523617Z",
     "iopub.status.busy": "2023-12-07T08:55:17.523307Z",
     "iopub.status.idle": "2023-12-07T08:55:21.025477Z",
     "shell.execute_reply": "2023-12-07T08:55:21.024271Z",
     "shell.execute_reply.started": "2023-12-07T08:55:17.523589Z"
    }
   },
   "outputs": [],
   "source": [
    "# Import training data\n",
    "URM_path = \"../input/data-books/data_train.csv\"\n",
    "URM_all_dataframe = pd.read_csv(filepath_or_buffer=URM_path,\n",
    "                                header=0,\n",
    "                                dtype={0:int, 1:int, 2:int},\n",
    "                                engine='python')\n",
    "\n",
    "URM_all_dataframe.columns = [\"user_id\", \"item_id\", \"interaction\"]"
   ]
  },
  {
   "cell_type": "code",
   "execution_count": 9,
   "metadata": {
    "execution": {
     "iopub.execute_input": "2023-12-07T08:55:21.030048Z",
     "iopub.status.busy": "2023-12-07T08:55:21.029669Z",
     "iopub.status.idle": "2023-12-07T08:55:21.101455Z",
     "shell.execute_reply": "2023-12-07T08:55:21.100476Z",
     "shell.execute_reply.started": "2023-12-07T08:55:21.030017Z"
    }
   },
   "outputs": [
    {
     "data": {
      "text/html": [
       "<div>\n",
       "<style scoped>\n",
       "    .dataframe tbody tr th:only-of-type {\n",
       "        vertical-align: middle;\n",
       "    }\n",
       "\n",
       "    .dataframe tbody tr th {\n",
       "        vertical-align: top;\n",
       "    }\n",
       "\n",
       "    .dataframe thead th {\n",
       "        text-align: right;\n",
       "    }\n",
       "</style>\n",
       "<table border=\"1\" class=\"dataframe\">\n",
       "  <thead>\n",
       "    <tr style=\"text-align: right;\">\n",
       "      <th></th>\n",
       "      <th>user_id</th>\n",
       "    </tr>\n",
       "  </thead>\n",
       "  <tbody>\n",
       "    <tr>\n",
       "      <th>0</th>\n",
       "      <td>1</td>\n",
       "    </tr>\n",
       "    <tr>\n",
       "      <th>1</th>\n",
       "      <td>2</td>\n",
       "    </tr>\n",
       "    <tr>\n",
       "      <th>2</th>\n",
       "      <td>3</td>\n",
       "    </tr>\n",
       "    <tr>\n",
       "      <th>3</th>\n",
       "      <td>4</td>\n",
       "    </tr>\n",
       "    <tr>\n",
       "      <th>4</th>\n",
       "      <td>5</td>\n",
       "    </tr>\n",
       "    <tr>\n",
       "      <th>...</th>\n",
       "      <td>...</td>\n",
       "    </tr>\n",
       "    <tr>\n",
       "      <th>10877</th>\n",
       "      <td>13020</td>\n",
       "    </tr>\n",
       "    <tr>\n",
       "      <th>10878</th>\n",
       "      <td>13021</td>\n",
       "    </tr>\n",
       "    <tr>\n",
       "      <th>10879</th>\n",
       "      <td>13022</td>\n",
       "    </tr>\n",
       "    <tr>\n",
       "      <th>10880</th>\n",
       "      <td>13023</td>\n",
       "    </tr>\n",
       "    <tr>\n",
       "      <th>10881</th>\n",
       "      <td>13024</td>\n",
       "    </tr>\n",
       "  </tbody>\n",
       "</table>\n",
       "<p>10882 rows × 1 columns</p>\n",
       "</div>"
      ],
      "text/plain": [
       "       user_id\n",
       "0            1\n",
       "1            2\n",
       "2            3\n",
       "3            4\n",
       "4            5\n",
       "...        ...\n",
       "10877    13020\n",
       "10878    13021\n",
       "10879    13022\n",
       "10880    13023\n",
       "10881    13024\n",
       "\n",
       "[10882 rows x 1 columns]"
      ]
     },
     "execution_count": 9,
     "metadata": {},
     "output_type": "execute_result"
    }
   ],
   "source": [
    "# Import target users\n",
    "target_path = \"../input/data-books/data_target_users_test.csv\"\n",
    "target_dataframe= pd.read_csv(filepath_or_buffer=target_path,\n",
    "                                header=0,\n",
    "                                dtype={0:int},\n",
    "                                engine='python')\n",
    "target_dataframe.columns = [\"user_id\"]\n",
    "target_dataframe"
   ]
  },
  {
   "cell_type": "code",
   "execution_count": 10,
   "metadata": {
    "execution": {
     "iopub.execute_input": "2023-12-07T08:55:21.103137Z",
     "iopub.status.busy": "2023-12-07T08:55:21.102825Z",
     "iopub.status.idle": "2023-12-07T08:55:21.112209Z",
     "shell.execute_reply": "2023-12-07T08:55:21.111194Z",
     "shell.execute_reply.started": "2023-12-07T08:55:21.103110Z"
    }
   },
   "outputs": [],
   "source": [
    "def preprocess_data(ratings: pd.DataFrame):\n",
    "    unique_users = ratings.user_id.unique()\n",
    "    unique_items = ratings.item_id.unique()\n",
    "\n",
    "    num_users, min_user_id, max_user_id = unique_users.size, unique_users.min(), unique_users.max()\n",
    "    num_items, min_item_id, max_item_id = unique_items.size, unique_items.min(), unique_items.max()\n",
    "\n",
    "    print(num_users, min_user_id, max_user_id)\n",
    "    print(num_items, min_item_id, max_item_id)\n",
    "\n",
    "    mapping_user_id = pd.DataFrame({\"mapped_user_id\": np.arange(num_users), \"user_id\": unique_users})\n",
    "    mapping_item_id = pd.DataFrame({\"mapped_item_id\": np.arange(num_items), \"item_id\": unique_items})\n",
    "\n",
    "    ratings = pd.merge(left=ratings,\n",
    "                       right=mapping_user_id,\n",
    "                       how=\"inner\",\n",
    "                       on=\"user_id\")\n",
    "\n",
    "    ratings = pd.merge(left=ratings,\n",
    "                       right=mapping_item_id,\n",
    "                       how=\"inner\",\n",
    "                       on=\"item_id\")\n",
    "\n",
    "    return ratings"
   ]
  },
  {
   "cell_type": "code",
   "execution_count": 11,
   "metadata": {
    "execution": {
     "iopub.execute_input": "2023-12-07T08:55:21.113699Z",
     "iopub.status.busy": "2023-12-07T08:55:21.113389Z",
     "iopub.status.idle": "2023-12-07T08:55:21.262143Z",
     "shell.execute_reply": "2023-12-07T08:55:21.261055Z",
     "shell.execute_reply.started": "2023-12-07T08:55:21.113674Z"
    }
   },
   "outputs": [
    {
     "name": "stdout",
     "output_type": "stream",
     "text": [
      "12638 1 13024\n",
      "22222 1 22347\n"
     ]
    }
   ],
   "source": [
    "# Call preprocess data function\n",
    "ratings = preprocess_data(URM_all_dataframe)"
   ]
  },
  {
   "cell_type": "markdown",
   "metadata": {},
   "source": [
    "## Conversion to Sparse Matrix"
   ]
  },
  {
   "cell_type": "code",
   "execution_count": 12,
   "metadata": {
    "execution": {
     "iopub.execute_input": "2023-12-07T08:55:21.264056Z",
     "iopub.status.busy": "2023-12-07T08:55:21.263705Z",
     "iopub.status.idle": "2023-12-07T08:55:21.273788Z",
     "shell.execute_reply": "2023-12-07T08:55:21.272437Z",
     "shell.execute_reply.started": "2023-12-07T08:55:21.264027Z"
    }
   },
   "outputs": [],
   "source": [
    "URM = sps.coo_matrix((ratings.interaction.values, (ratings.mapped_user_id.values, ratings.mapped_item_id.values)))"
   ]
  },
  {
   "cell_type": "markdown",
   "metadata": {},
   "source": [
    "## Data Splits"
   ]
  },
  {
   "cell_type": "code",
   "execution_count": 13,
   "metadata": {
    "execution": {
     "iopub.execute_input": "2023-12-07T08:55:21.275768Z",
     "iopub.status.busy": "2023-12-07T08:55:21.275296Z",
     "iopub.status.idle": "2023-12-07T08:55:22.740314Z",
     "shell.execute_reply": "2023-12-07T08:55:22.739225Z",
     "shell.execute_reply.started": "2023-12-07T08:55:21.275724Z"
    }
   },
   "outputs": [
    {
     "name": "stdout",
     "output_type": "stream",
     "text": [
      "Warning: 240 (1.90 %) of 12638 users have no train items\n",
      "Warning: 2127 (16.83 %) of 12638 users have no sampled items\n",
      "EvaluatorHoldout: Ignoring 2127 (16.8%) Users that have less than 1 test interactions\n"
     ]
    }
   ],
   "source": [
    "#urm_train, urm_test = split_train_in_two_percentage_global_sample(URM, train_percentage = 0.80)\n",
    "urm_train, urm_validation = split_train_in_two_percentage_global_sample(URM, train_percentage = 0.80)\n",
    "\n",
    "evaluator_validation = EvaluatorHoldout(urm_validation, cutoff_list=[10])\n",
    "#evaluator_test = EvaluatorHoldout(urm_test, cutoff_list=[10])"
   ]
  },
  {
   "cell_type": "markdown",
   "metadata": {},
   "source": [
    "# **Custom Models**"
   ]
  },
  {
   "cell_type": "code",
   "execution_count": 14,
   "metadata": {
    "execution": {
     "iopub.execute_input": "2023-12-07T08:55:22.742122Z",
     "iopub.status.busy": "2023-12-07T08:55:22.741776Z",
     "iopub.status.idle": "2023-12-07T08:55:22.754050Z",
     "shell.execute_reply": "2023-12-07T08:55:22.753110Z",
     "shell.execute_reply.started": "2023-12-07T08:55:22.742092Z"
    }
   },
   "outputs": [],
   "source": [
    "class ScoresHybridRecommender(BaseRecommender):\n",
    "    \"\"\" ScoresHybridRecommender\n",
    "    Hybrid of two prediction scores R = R1*alpha + R2*(1-alpha)\n",
    "\n",
    "    \"\"\"\n",
    "\n",
    "    RECOMMENDER_NAME = \"ScoresHybridRecommender\"\n",
    "\n",
    "    def __init__(self, URM_train, recommender_1, recommender_2):\n",
    "        super(ScoresHybridRecommender, self).__init__(URM_train)\n",
    "\n",
    "        self.URM_train = sps.csr_matrix(URM_train)\n",
    "        self.recommender_1 = recommender_1\n",
    "        self.recommender_2 = recommender_2\n",
    "\n",
    "\n",
    "    def fit(self, alpha=0.5):\n",
    "        self.alpha = alpha\n",
    "\n",
    "    def _compute_item_score(self, user_id_array, items_to_compute):\n",
    "\n",
    "        # In a simple extension this could be a loop over a list of pretrained recommender objects\n",
    "        item_weights_1 = self.recommender_1._compute_item_score(user_id_array)\n",
    "        item_weights_2 = self.recommender_2._compute_item_score(user_id_array)\n",
    "\n",
    "        item_weights = item_weights_1*self.alpha + item_weights_2*(1-self.alpha)\n",
    "\n",
    "        return item_weights"
   ]
  },
  {
   "cell_type": "code",
   "execution_count": 15,
   "metadata": {
    "execution": {
     "iopub.execute_input": "2023-12-07T08:55:22.755702Z",
     "iopub.status.busy": "2023-12-07T08:55:22.755372Z",
     "iopub.status.idle": "2023-12-07T08:55:22.769238Z",
     "shell.execute_reply": "2023-12-07T08:55:22.767990Z",
     "shell.execute_reply.started": "2023-12-07T08:55:22.755675Z"
    }
   },
   "outputs": [],
   "source": [
    "class LightFMCFRecommender(BaseRecommender):\n",
    "    \"\"\"LightFMCFRecommender\"\"\"\n",
    "\n",
    "    RECOMMENDER_NAME = \"LightFMCFRecommender\"\n",
    "\n",
    "    def __init__(self, URM_train):\n",
    "        super(LightFMCFRecommender, self).__init__(URM_train)\n",
    "    \n",
    "    \n",
    "    def fit(self, epochs = 300, user_alpha=1e-6, item_alpha = 1e-6, n_factors = 10, n_threads = 4, max_sampled=3, loss='warp', learning_schedule='adagrad'):\n",
    "        \n",
    "        # Let's fit a WARP model\n",
    "        self.lightFM_model = LightFM(loss=loss,\n",
    "                                     user_alpha=user_alpha,\n",
    "                                     item_alpha=item_alpha,\n",
    "                                     no_components=n_factors,\n",
    "                                     max_sampled=max_sampled,\n",
    "                                     learning_schedule=learning_schedule)\n",
    "\n",
    "        self.lightFM_model = self.lightFM_model.fit(self.URM_train, \n",
    "                                       epochs=epochs,\n",
    "                                       num_threads=n_threads,\n",
    "                                       verbose=True)\n",
    "\n",
    "\n",
    "    def _compute_item_score(self, user_id_array, items_to_compute = None):\n",
    "        \n",
    "        # Create a single (n_items, ) array with the item score, then copy it for every user\n",
    "        items_to_compute = np.arange(self.n_items)\n",
    "        \n",
    "        item_scores = - np.ones((len(user_id_array), self.n_items)) * np.inf\n",
    "\n",
    "        for user_index, user_id in enumerate(user_id_array):\n",
    "            item_scores[user_index] = self.lightFM_model.predict(int(user_id), \n",
    "                                                                 items_to_compute)\n",
    "\n",
    "        return item_scores"
   ]
  },
  {
   "cell_type": "code",
   "execution_count": 16,
   "metadata": {
    "execution": {
     "iopub.execute_input": "2023-12-07T08:55:22.771521Z",
     "iopub.status.busy": "2023-12-07T08:55:22.771063Z",
     "iopub.status.idle": "2023-12-07T08:55:22.785695Z",
     "shell.execute_reply": "2023-12-07T08:55:22.784340Z",
     "shell.execute_reply.started": "2023-12-07T08:55:22.771480Z"
    }
   },
   "outputs": [],
   "source": [
    "class GeneralizedLinearHybridRecommender(BaseRecommender):\n",
    "    \"\"\"\n",
    "    This recommender merges N recommendes by weighting their ratings\n",
    "    \"\"\"\n",
    "\n",
    "    RECOMMENDER_NAME = \"GeneralizedLinearHybridRecommender\"\n",
    "\n",
    "    def __init__(self, URM_train, recommenders: list, verbose=True):\n",
    "        self.RECOMMENDER_NAME = ''\n",
    "        for recommender in recommenders:\n",
    "            self.RECOMMENDER_NAME = self.RECOMMENDER_NAME + recommender.RECOMMENDER_NAME[:-11]\n",
    "        self.RECOMMENDER_NAME = self.RECOMMENDER_NAME + 'HybridRecommender'\n",
    "\n",
    "        super(GeneralizedLinearHybridRecommender, self).__init__(URM_train, verbose=verbose)\n",
    "\n",
    "        self.recommenders = recommenders\n",
    "\n",
    "    def fit(self, alphas=None):\n",
    "        self.alphas = alphas\n",
    "\n",
    "    def save_model(self, folder_path, file_name=None):\n",
    "        pass\n",
    "\n",
    "    def _compute_item_score(self, user_id_array, items_to_compute=None):\n",
    "        result = self.alphas[0]*self.recommenders[0]._compute_item_score(user_id_array,items_to_compute)\n",
    "        for index in range(1,len(self.alphas)):\n",
    "            result = result + self.alphas[index]*self.recommenders[index]._compute_item_score(user_id_array,items_to_compute)\n",
    "        return result"
   ]
  },
  {
   "cell_type": "code",
   "execution_count": 17,
   "metadata": {
    "execution": {
     "iopub.execute_input": "2023-12-07T08:55:22.791867Z",
     "iopub.status.busy": "2023-12-07T08:55:22.791405Z",
     "iopub.status.idle": "2023-12-07T08:55:22.810814Z",
     "shell.execute_reply": "2023-12-07T08:55:22.809606Z",
     "shell.execute_reply.started": "2023-12-07T08:55:22.791835Z"
    }
   },
   "outputs": [],
   "source": [
    "class FastIALSRecommender(BaseMatrixFactorizationRecommender):\n",
    "    RECOMMENDER_NAME = \"FastIALSRecommender\"\n",
    "\n",
    "    AVAILABLE_CONFIDENCE_SCALING = [\"linear\", \"log\"]\n",
    "    \n",
    "    def __init__(self, URM_train, verbose=True):\n",
    "        super().__init__(URM_train, verbose=verbose)\n",
    "        \n",
    "    def fit(self,\n",
    "            factors=20,\n",
    "            regularization=1e-3,\n",
    "            iterations=100,\n",
    "            calculate_training_loss=False,\n",
    "            num_threads=0,\n",
    "            confidence_scaling='linear',\n",
    "            alpha=1.0,\n",
    "            epsilon=0,\n",
    "            #---- Do not change\n",
    "            use_native=True,\n",
    "            use_cg=True,\n",
    "            use_gpu=True):\n",
    "        if confidence_scaling not in self.AVAILABLE_CONFIDENCE_SCALING:\n",
    "           raise ValueError(\"Value for 'confidence_scaling' not recognized. Acceptable values are {}, provided was '{}'\".format(self.AVAILABLE_CONFIDENCE_SCALING, confidence_scaling))\n",
    "\n",
    "        self.alpha = alpha\n",
    "        self.epsilon = epsilon\n",
    "        self.num_factors = factors\n",
    "        self.reg = regularization\n",
    "        \n",
    "        self.USER_factors = self._init_factors(self.n_users, False)  # don't need values, will compute them\n",
    "        self.ITEM_factors = self._init_factors(self.n_items)\n",
    "        \n",
    "        self.recommender = AlternatingLeastSquares(factors=factors, regularization=regularization,\n",
    "                                                        use_native=use_native, use_cg=use_cg, use_gpu=use_gpu,\n",
    "                                                        iterations=iterations,\n",
    "                                                        calculate_training_loss=calculate_training_loss,\n",
    "                                                        num_threads=num_threads)\n",
    "        \n",
    "        self._build_confidence_matrix(confidence_scaling)\n",
    "        self.recommender.fit(self.C, show_progress=self.verbose)\n",
    "        \n",
    "        self.USER_factors = self.recommender.user_factors.to_numpy()\n",
    "        self.ITEM_factors = self.recommender.item_factors.to_numpy()\n",
    "        \n",
    "    \n",
    "    def _linear_scaling_confidence(self):\n",
    "\n",
    "        C = check_matrix(self.URM_train, format=\"csr\", dtype = np.float32)\n",
    "        C.data = 1.0 + self.alpha*C.data\n",
    "\n",
    "        return C\n",
    "\n",
    "    def _log_scaling_confidence(self):\n",
    "\n",
    "        C = check_matrix(self.URM_train, format=\"csr\", dtype = np.float32)\n",
    "        C.data = 1.0 + self.alpha * np.log(1.0 + C.data / self.epsilon)\n",
    "\n",
    "        return C\n",
    "    \n",
    "    def _build_confidence_matrix(self, confidence_scaling):\n",
    "\n",
    "        if confidence_scaling == 'linear':\n",
    "            self.C = self._linear_scaling_confidence()\n",
    "        else:\n",
    "            self.C = self._log_scaling_confidence()\n",
    "\n",
    "        self.C_csc= check_matrix(self.C.copy(), format=\"csc\", dtype = np.float32)\n",
    "    \n",
    "    def _init_factors(self, num_factors, assign_values=True):\n",
    "\n",
    "        if assign_values:\n",
    "            return self.num_factors**-0.5*np.random.random_sample((num_factors, self.num_factors))\n",
    "\n",
    "        else:\n",
    "            return np.empty((num_factors, self.num_factors))"
   ]
  },
  {
   "cell_type": "markdown",
   "metadata": {},
   "source": [
    "# **Best Model Params**"
   ]
  },
  {
   "cell_type": "code",
   "execution_count": 18,
   "metadata": {
    "execution": {
     "iopub.execute_input": "2023-12-07T08:55:22.812923Z",
     "iopub.status.busy": "2023-12-07T08:55:22.812551Z",
     "iopub.status.idle": "2023-12-07T08:55:22.825071Z",
     "shell.execute_reply": "2023-12-07T08:55:22.824042Z",
     "shell.execute_reply.started": "2023-12-07T08:55:22.812891Z"
    }
   },
   "outputs": [],
   "source": [
    "ItemKNN_params = {\n",
    "    'topK': 6,\n",
    "    'shrink': 15,\n",
    "    'similarity': 'jaccard',\n",
    "    'normalize': False\n",
    "}"
   ]
  },
  {
   "cell_type": "code",
   "execution_count": 19,
   "metadata": {
    "execution": {
     "iopub.execute_input": "2023-12-07T08:55:22.826933Z",
     "iopub.status.busy": "2023-12-07T08:55:22.826618Z",
     "iopub.status.idle": "2023-12-07T08:55:22.837227Z",
     "shell.execute_reply": "2023-12-07T08:55:22.835882Z",
     "shell.execute_reply.started": "2023-12-07T08:55:22.826907Z"
    }
   },
   "outputs": [],
   "source": [
    "RP3beta_params = {\n",
    "    'alpha': 0.307953246083667, \n",
    "    'beta': 0.3073797221110665, \n",
    "    'topK': 59, \n",
    "    'normalize_similarity': True\n",
    "}"
   ]
  },
  {
   "cell_type": "code",
   "execution_count": 20,
   "metadata": {
    "execution": {
     "iopub.execute_input": "2023-12-07T08:55:22.839345Z",
     "iopub.status.busy": "2023-12-07T08:55:22.838929Z",
     "iopub.status.idle": "2023-12-07T08:55:22.848425Z",
     "shell.execute_reply": "2023-12-07T08:55:22.847576Z",
     "shell.execute_reply.started": "2023-12-07T08:55:22.839311Z"
    }
   },
   "outputs": [],
   "source": [
    "alpha_itemknn_rp3beta=0.7381515719042592"
   ]
  },
  {
   "cell_type": "code",
   "execution_count": 21,
   "metadata": {
    "execution": {
     "iopub.execute_input": "2023-12-07T08:55:22.850100Z",
     "iopub.status.busy": "2023-12-07T08:55:22.849773Z",
     "iopub.status.idle": "2023-12-07T08:55:22.859535Z",
     "shell.execute_reply": "2023-12-07T08:55:22.858338Z",
     "shell.execute_reply.started": "2023-12-07T08:55:22.850071Z"
    }
   },
   "outputs": [],
   "source": [
    "UserKNN_params = {\n",
    "    'topK': 470,\n",
    "    'shrink': 0,\n",
    "    'similarity': 'cosine',\n",
    "    'normalize': True\n",
    "}"
   ]
  },
  {
   "cell_type": "code",
   "execution_count": 22,
   "metadata": {
    "execution": {
     "iopub.execute_input": "2023-12-07T08:55:22.861500Z",
     "iopub.status.busy": "2023-12-07T08:55:22.861116Z",
     "iopub.status.idle": "2023-12-07T08:55:22.870991Z",
     "shell.execute_reply": "2023-12-07T08:55:22.869539Z",
     "shell.execute_reply.started": "2023-12-07T08:55:22.861469Z"
    }
   },
   "outputs": [],
   "source": [
    "LightFM_params = {\n",
    "                  'n_factors': 482,\n",
    "                  'max_sampled': 5,\n",
    "                  'user_alpha': 0.00023989649900734266,\n",
    "                  'item_alpha': 9.740651135253414e-05\n",
    "                 }"
   ]
  },
  {
   "cell_type": "code",
   "execution_count": 23,
   "metadata": {
    "execution": {
     "iopub.execute_input": "2023-12-07T08:55:22.873750Z",
     "iopub.status.busy": "2023-12-07T08:55:22.873157Z",
     "iopub.status.idle": "2023-12-07T08:55:22.881435Z",
     "shell.execute_reply": "2023-12-07T08:55:22.880614Z",
     "shell.execute_reply.started": "2023-12-07T08:55:22.873587Z"
    }
   },
   "outputs": [],
   "source": [
    "SLIM_params = {\n",
    "    'l1_ratio': 0.013752256221164005,\n",
    "    'alpha': 0.0031943927190071775,\n",
    "    'topK': 622\n",
    "}"
   ]
  },
  {
   "cell_type": "code",
   "execution_count": 24,
   "metadata": {
    "execution": {
     "iopub.execute_input": "2023-12-07T08:55:22.888699Z",
     "iopub.status.busy": "2023-12-07T08:55:22.887834Z",
     "iopub.status.idle": "2023-12-07T08:55:22.894126Z",
     "shell.execute_reply": "2023-12-07T08:55:22.893334Z",
     "shell.execute_reply.started": "2023-12-07T08:55:22.888650Z"
    }
   },
   "outputs": [],
   "source": [
    "NMF_params = {\n",
    "    'l1_ratio': 0.005734775635120469,\n",
    "    'num_factors': 134,\n",
    "    'beta_loss': 'frobenius',\n",
    "    'init_type': 'nndsvda',\n",
    "    'solver': 'multiplicative_update'\n",
    "}"
   ]
  },
  {
   "cell_type": "code",
   "execution_count": 25,
   "metadata": {
    "execution": {
     "iopub.execute_input": "2023-12-07T08:55:22.896785Z",
     "iopub.status.busy": "2023-12-07T08:55:22.896075Z",
     "iopub.status.idle": "2023-12-07T08:55:22.904979Z",
     "shell.execute_reply": "2023-12-07T08:55:22.904130Z",
     "shell.execute_reply.started": "2023-12-07T08:55:22.896741Z"
    }
   },
   "outputs": [],
   "source": [
    "IALS_params = {\n",
    "    'confidence_scaling': 'log',\n",
    "    'epsilon': 0.11624415533664904,\n",
    "    'factors': 116,\n",
    "    'regularization': 0.005454427904241962,\n",
    "    'alpha': 1.7221339971074425\n",
    "}"
   ]
  },
  {
   "cell_type": "markdown",
   "metadata": {},
   "source": [
    "# Tuning UserKNN"
   ]
  },
  {
   "cell_type": "code",
   "execution_count": 26,
   "metadata": {
    "execution": {
     "iopub.execute_input": "2023-12-07T08:55:22.907737Z",
     "iopub.status.busy": "2023-12-07T08:55:22.906871Z",
     "iopub.status.idle": "2023-12-07T08:55:22.916879Z",
     "shell.execute_reply": "2023-12-07T08:55:22.915932Z",
     "shell.execute_reply.started": "2023-12-07T08:55:22.907691Z"
    }
   },
   "outputs": [],
   "source": [
    "class SaveResults(object):\n",
    "\n",
    "    def __init__(self):\n",
    "        self.results_df = pd.DataFrame(columns=[\"result\"])\n",
    "\n",
    "    def __call__(self, optuna_study, optuna_trial):\n",
    "        hyperparam_dict = optuna_trial.params.copy()\n",
    "        hyperparam_dict[\"result\"] = optuna_trial.values[0]\n",
    "\n",
    "        # Create a DataFrame from the current trial's results\n",
    "        trial_df = pd.DataFrame([hyperparam_dict])\n",
    "\n",
    "        # Use concat instead of append\n",
    "        self.results_df = pd.concat([self.results_df, trial_df], ignore_index=True)"
   ]
  },
  {
   "cell_type": "code",
   "execution_count": 27,
   "metadata": {
    "execution": {
     "iopub.execute_input": "2023-12-07T08:55:22.919650Z",
     "iopub.status.busy": "2023-12-07T08:55:22.918804Z",
     "iopub.status.idle": "2023-12-07T08:55:22.932381Z",
     "shell.execute_reply": "2023-12-07T08:55:22.931517Z",
     "shell.execute_reply.started": "2023-12-07T08:55:22.919606Z"
    }
   },
   "outputs": [],
   "source": [
    "def objective_function_UserKNN(optuna_trial):\n",
    "    topK = optuna_trial.suggest_int(\"topK\", 5, 500)\n",
    "    shrink = optuna_trial.suggest_int(\"shrink\", 0, 2500)\n",
    "    similarity = optuna_trial.suggest_categorical(\"similarity\", [\"cosine\",\"pearson\",\"jaccard\",\"tanimoto\",\"adjusted\",\"euclidean\"])\n",
    "    normalize = optuna_trial.suggest_categorical(\"normalize\", [True, False])\n",
    "    feature_weighting = optuna_trial.suggest_categorical(\"feature_weighting\", [\"BM25\", \"TF-IDF\", \"none\"])\n",
    "\n",
    "    recommender_instance = UserKNNCFRecommender(urm_train)\n",
    "    recommender_instance.fit(\n",
    "                             topK = topK,\n",
    "                             shrink = shrink,\n",
    "                             similarity = similarity,\n",
    "                             normalize = normalize,\n",
    "                             feature_weighting = feature_weighting\n",
    "                            )\n",
    "\n",
    "    result_df, _ = evaluator_validation.evaluateRecommender(recommender_instance)\n",
    "\n",
    "    return result_df.loc[10][\"MAP\"]"
   ]
  },
  {
   "cell_type": "code",
   "execution_count": null,
   "metadata": {
    "execution": {
     "iopub.execute_input": "2023-12-07T08:55:22.934952Z",
     "iopub.status.busy": "2023-12-07T08:55:22.934113Z"
    },
    "scrolled": true
   },
   "outputs": [
    {
     "name": "stderr",
     "output_type": "stream",
     "text": [
      "[I 2023-12-07 08:55:22,940] A new study created in memory with name: no-name-c0229118-5d86-4a55-9098-0b4c96c01387\n"
     ]
    },
    {
     "name": "stdout",
     "output_type": "stream",
     "text": [
      "UserKNNCFRecommender: URM Detected 240 ( 1.9%) users with no interactions.\n",
      "UserKNNCFRecommender: URM Detected 123 ( 0.6%) items with no interactions.\n",
      "Similarity column 12638 (100.0%), 812.75 column/sec. Elapsed time 15.55 sec\n",
      "EvaluatorHoldout: Processed 10511 (100.0%) in 9.05 sec. Users per second: 1162\n"
     ]
    },
    {
     "name": "stderr",
     "output_type": "stream",
     "text": [
      "[I 2023-12-07 08:55:47,624] Trial 0 finished with value: 0.0006449101696937291 and parameters: {'topK': 35, 'shrink': 372, 'similarity': 'euclidean', 'normalize': False, 'feature_weighting': 'BM25'}. Best is trial 0 with value: 0.0006449101696937291.\n"
     ]
    },
    {
     "name": "stdout",
     "output_type": "stream",
     "text": [
      "UserKNNCFRecommender: URM Detected 240 ( 1.9%) users with no interactions.\n",
      "UserKNNCFRecommender: URM Detected 123 ( 0.6%) items with no interactions.\n",
      "Similarity column 12638 (100.0%), 4297.61 column/sec. Elapsed time 2.94 sec\n",
      "EvaluatorHoldout: Processed 10511 (100.0%) in 13.41 sec. Users per second: 784\n"
     ]
    },
    {
     "name": "stderr",
     "output_type": "stream",
     "text": [
      "[I 2023-12-07 08:56:04,481] Trial 1 finished with value: 0.02584208455842943 and parameters: {'topK': 383, 'shrink': 91, 'similarity': 'adjusted', 'normalize': False, 'feature_weighting': 'TF-IDF'}. Best is trial 1 with value: 0.02584208455842943.\n"
     ]
    },
    {
     "name": "stdout",
     "output_type": "stream",
     "text": [
      "UserKNNCFRecommender: URM Detected 240 ( 1.9%) users with no interactions.\n",
      "UserKNNCFRecommender: URM Detected 123 ( 0.6%) items with no interactions.\n",
      "Similarity column 12638 (100.0%), 4853.29 column/sec. Elapsed time 2.60 sec\n",
      "EvaluatorHoldout: Processed 10511 (100.0%) in 11.20 sec. Users per second: 938\n"
     ]
    },
    {
     "name": "stderr",
     "output_type": "stream",
     "text": [
      "[I 2023-12-07 08:56:18,484] Trial 2 finished with value: 0.02544288825161244 and parameters: {'topK': 88, 'shrink': 1046, 'similarity': 'tanimoto', 'normalize': True, 'feature_weighting': 'none'}. Best is trial 1 with value: 0.02584208455842943.\n"
     ]
    },
    {
     "name": "stdout",
     "output_type": "stream",
     "text": [
      "UserKNNCFRecommender: URM Detected 240 ( 1.9%) users with no interactions.\n",
      "UserKNNCFRecommender: URM Detected 123 ( 0.6%) items with no interactions.\n",
      "Similarity column 12638 (100.0%), 4508.40 column/sec. Elapsed time 2.80 sec\n",
      "EvaluatorHoldout: Processed 10511 (100.0%) in 13.88 sec. Users per second: 757\n"
     ]
    },
    {
     "name": "stderr",
     "output_type": "stream",
     "text": [
      "[I 2023-12-07 08:56:35,557] Trial 3 finished with value: 0.03150747969247673 and parameters: {'topK': 432, 'shrink': 278, 'similarity': 'tanimoto', 'normalize': False, 'feature_weighting': 'TF-IDF'}. Best is trial 3 with value: 0.03150747969247673.\n"
     ]
    },
    {
     "name": "stdout",
     "output_type": "stream",
     "text": [
      "UserKNNCFRecommender: URM Detected 240 ( 1.9%) users with no interactions.\n",
      "UserKNNCFRecommender: URM Detected 123 ( 0.6%) items with no interactions.\n",
      "Similarity column 12638 (100.0%), 5716.43 column/sec. Elapsed time 2.21 sec\n",
      "EvaluatorHoldout: Processed 10511 (100.0%) in 8.32 sec. Users per second: 1263\n"
     ]
    },
    {
     "name": "stderr",
     "output_type": "stream",
     "text": [
      "[I 2023-12-07 08:56:46,373] Trial 4 finished with value: 3.7103986300066596e-05 and parameters: {'topK': 234, 'shrink': 2495, 'similarity': 'pearson', 'normalize': True, 'feature_weighting': 'none'}. Best is trial 3 with value: 0.03150747969247673.\n"
     ]
    },
    {
     "name": "stdout",
     "output_type": "stream",
     "text": [
      "UserKNNCFRecommender: URM Detected 240 ( 1.9%) users with no interactions.\n",
      "UserKNNCFRecommender: URM Detected 123 ( 0.6%) items with no interactions.\n",
      "Similarity column 12638 (100.0%), 4911.66 column/sec. Elapsed time 2.57 sec\n",
      "EvaluatorHoldout: Processed 10511 (100.0%) in 11.09 sec. Users per second: 948\n"
     ]
    },
    {
     "name": "stderr",
     "output_type": "stream",
     "text": [
      "[I 2023-12-07 08:57:00,255] Trial 5 finished with value: 0.011673307479843437 and parameters: {'topK': 92, 'shrink': 1527, 'similarity': 'jaccard', 'normalize': False, 'feature_weighting': 'BM25'}. Best is trial 3 with value: 0.03150747969247673.\n"
     ]
    },
    {
     "name": "stdout",
     "output_type": "stream",
     "text": [
      "UserKNNCFRecommender: URM Detected 240 ( 1.9%) users with no interactions.\n",
      "UserKNNCFRecommender: URM Detected 123 ( 0.6%) items with no interactions.\n",
      "Similarity column 12638 (100.0%), 5144.22 column/sec. Elapsed time 2.46 sec\n",
      "EvaluatorHoldout: Processed 10511 (100.0%) in 11.07 sec. Users per second: 949\n"
     ]
    },
    {
     "name": "stderr",
     "output_type": "stream",
     "text": [
      "[I 2023-12-07 08:57:14,172] Trial 6 finished with value: 0.015233598814846991 and parameters: {'topK': 285, 'shrink': 260, 'similarity': 'pearson', 'normalize': False, 'feature_weighting': 'TF-IDF'}. Best is trial 3 with value: 0.03150747969247673.\n"
     ]
    },
    {
     "name": "stdout",
     "output_type": "stream",
     "text": [
      "UserKNNCFRecommender: URM Detected 240 ( 1.9%) users with no interactions.\n",
      "UserKNNCFRecommender: URM Detected 123 ( 0.6%) items with no interactions.\n",
      "Similarity column 12638 (100.0%), 4834.63 column/sec. Elapsed time 2.61 sec\n",
      "EvaluatorHoldout: Processed 10511 (100.0%) in 11.85 sec. Users per second: 887\n"
     ]
    },
    {
     "name": "stderr",
     "output_type": "stream",
     "text": [
      "[I 2023-12-07 08:57:28,860] Trial 7 finished with value: 0.028096064893467766 and parameters: {'topK': 142, 'shrink': 2333, 'similarity': 'jaccard', 'normalize': True, 'feature_weighting': 'none'}. Best is trial 3 with value: 0.03150747969247673.\n"
     ]
    },
    {
     "name": "stdout",
     "output_type": "stream",
     "text": [
      "UserKNNCFRecommender: URM Detected 240 ( 1.9%) users with no interactions.\n",
      "UserKNNCFRecommender: URM Detected 123 ( 0.6%) items with no interactions.\n",
      "Similarity column 12638 (100.0%), 4792.53 column/sec. Elapsed time 2.64 sec\n",
      "EvaluatorHoldout: Processed 10511 (100.0%) in 13.15 sec. Users per second: 799\n"
     ]
    },
    {
     "name": "stderr",
     "output_type": "stream",
     "text": [
      "[I 2023-12-07 08:57:44,889] Trial 8 finished with value: 0.029536675863381476 and parameters: {'topK': 404, 'shrink': 516, 'similarity': 'cosine', 'normalize': False, 'feature_weighting': 'none'}. Best is trial 3 with value: 0.03150747969247673.\n"
     ]
    },
    {
     "name": "stdout",
     "output_type": "stream",
     "text": [
      "UserKNNCFRecommender: URM Detected 240 ( 1.9%) users with no interactions.\n",
      "UserKNNCFRecommender: URM Detected 123 ( 0.6%) items with no interactions.\n",
      "Similarity column 12638 (100.0%), 4586.11 column/sec. Elapsed time 2.76 sec\n",
      "EvaluatorHoldout: Processed 10511 (100.0%) in 13.97 sec. Users per second: 752\n"
     ]
    },
    {
     "name": "stderr",
     "output_type": "stream",
     "text": [
      "[I 2023-12-07 08:58:01,986] Trial 9 finished with value: 0.030958066605959622 and parameters: {'topK': 476, 'shrink': 1913, 'similarity': 'jaccard', 'normalize': False, 'feature_weighting': 'none'}. Best is trial 3 with value: 0.03150747969247673.\n"
     ]
    },
    {
     "name": "stdout",
     "output_type": "stream",
     "text": [
      "UserKNNCFRecommender: URM Detected 240 ( 1.9%) users with no interactions.\n",
      "UserKNNCFRecommender: URM Detected 123 ( 0.6%) items with no interactions.\n",
      "Similarity column 12638 (100.0%), 4543.29 column/sec. Elapsed time 2.78 sec\n",
      "EvaluatorHoldout: Processed 10511 (100.0%) in 14.11 sec. Users per second: 745\n"
     ]
    },
    {
     "name": "stderr",
     "output_type": "stream",
     "text": [
      "[I 2023-12-07 08:58:19,318] Trial 10 finished with value: 0.03124114495320883 and parameters: {'topK': 485, 'shrink': 921, 'similarity': 'tanimoto', 'normalize': True, 'feature_weighting': 'TF-IDF'}. Best is trial 3 with value: 0.03150747969247673.\n"
     ]
    },
    {
     "name": "stdout",
     "output_type": "stream",
     "text": [
      "UserKNNCFRecommender: URM Detected 240 ( 1.9%) users with no interactions.\n",
      "UserKNNCFRecommender: URM Detected 123 ( 0.6%) items with no interactions.\n",
      "Similarity column 12638 (100.0%), 4473.86 column/sec. Elapsed time 2.82 sec\n",
      "EvaluatorHoldout: Processed 10511 (100.0%) in 14.29 sec. Users per second: 735\n"
     ]
    },
    {
     "name": "stderr",
     "output_type": "stream",
     "text": [
      "[I 2023-12-07 08:58:36,875] Trial 11 finished with value: 0.031215578388778194 and parameters: {'topK': 492, 'shrink': 917, 'similarity': 'tanimoto', 'normalize': True, 'feature_weighting': 'TF-IDF'}. Best is trial 3 with value: 0.03150747969247673.\n"
     ]
    },
    {
     "name": "stdout",
     "output_type": "stream",
     "text": [
      "UserKNNCFRecommender: URM Detected 240 ( 1.9%) users with no interactions.\n",
      "UserKNNCFRecommender: URM Detected 123 ( 0.6%) items with no interactions.\n",
      "Similarity column 12638 (100.0%), 4568.89 column/sec. Elapsed time 2.77 sec\n",
      "EvaluatorHoldout: Processed 10511 (100.0%) in 13.68 sec. Users per second: 769\n"
     ]
    },
    {
     "name": "stderr",
     "output_type": "stream",
     "text": [
      "[I 2023-12-07 08:58:53,709] Trial 12 finished with value: 0.03136492306623641 and parameters: {'topK': 391, 'shrink': 723, 'similarity': 'tanimoto', 'normalize': True, 'feature_weighting': 'TF-IDF'}. Best is trial 3 with value: 0.03150747969247673.\n"
     ]
    },
    {
     "name": "stdout",
     "output_type": "stream",
     "text": [
      "UserKNNCFRecommender: URM Detected 240 ( 1.9%) users with no interactions.\n",
      "UserKNNCFRecommender: URM Detected 123 ( 0.6%) items with no interactions.\n",
      "Similarity column 12638 (100.0%), 4617.12 column/sec. Elapsed time 2.74 sec\n",
      "EvaluatorHoldout: Processed 10511 (100.0%) in 13.70 sec. Users per second: 767\n"
     ]
    },
    {
     "name": "stderr",
     "output_type": "stream",
     "text": [
      "[I 2023-12-07 08:59:10,506] Trial 13 finished with value: 0.03127698042715678 and parameters: {'topK': 346, 'shrink': 644, 'similarity': 'tanimoto', 'normalize': True, 'feature_weighting': 'TF-IDF'}. Best is trial 3 with value: 0.03150747969247673.\n"
     ]
    },
    {
     "name": "stdout",
     "output_type": "stream",
     "text": [
      "UserKNNCFRecommender: URM Detected 240 ( 1.9%) users with no interactions.\n",
      "UserKNNCFRecommender: URM Detected 123 ( 0.6%) items with no interactions.\n",
      "Similarity column 12638 (100.0%), 4605.93 column/sec. Elapsed time 2.74 sec\n",
      "EvaluatorHoldout: Processed 10511 (100.0%) in 13.07 sec. Users per second: 804\n"
     ]
    },
    {
     "name": "stderr",
     "output_type": "stream",
     "text": [
      "[I 2023-12-07 08:59:26,666] Trial 14 finished with value: 0.03139688504710899 and parameters: {'topK': 313, 'shrink': 1418, 'similarity': 'tanimoto', 'normalize': False, 'feature_weighting': 'TF-IDF'}. Best is trial 3 with value: 0.03150747969247673.\n"
     ]
    },
    {
     "name": "stdout",
     "output_type": "stream",
     "text": [
      "UserKNNCFRecommender: URM Detected 240 ( 1.9%) users with no interactions.\n",
      "UserKNNCFRecommender: URM Detected 123 ( 0.6%) items with no interactions.\n",
      "Similarity column 12638 (100.0%), 4459.09 column/sec. Elapsed time 2.83 sec\n",
      "EvaluatorHoldout: Processed 10511 (100.0%) in 12.62 sec. Users per second: 833\n"
     ]
    },
    {
     "name": "stderr",
     "output_type": "stream",
     "text": [
      "[I 2023-12-07 08:59:42,573] Trial 15 finished with value: 0.024361953388211607 and parameters: {'topK': 250, 'shrink': 1385, 'similarity': 'adjusted', 'normalize': False, 'feature_weighting': 'TF-IDF'}. Best is trial 3 with value: 0.03150747969247673.\n"
     ]
    },
    {
     "name": "stdout",
     "output_type": "stream",
     "text": [
      "UserKNNCFRecommender: URM Detected 240 ( 1.9%) users with no interactions.\n",
      "UserKNNCFRecommender: URM Detected 123 ( 0.6%) items with no interactions.\n",
      "Similarity column 12638 (100.0%), 606.57 column/sec. Elapsed time 20.84 sec\n",
      "EvaluatorHoldout: Processed 10511 (100.0%) in 9.72 sec. Users per second: 1082\n"
     ]
    },
    {
     "name": "stderr",
     "output_type": "stream",
     "text": [
      "[I 2023-12-07 09:00:13,332] Trial 16 finished with value: 0.0007354728908339406 and parameters: {'topK': 307, 'shrink': 1807, 'similarity': 'euclidean', 'normalize': False, 'feature_weighting': 'BM25'}. Best is trial 3 with value: 0.03150747969247673.\n"
     ]
    },
    {
     "name": "stdout",
     "output_type": "stream",
     "text": [
      "UserKNNCFRecommender: URM Detected 240 ( 1.9%) users with no interactions.\n",
      "UserKNNCFRecommender: URM Detected 123 ( 0.6%) items with no interactions.\n",
      "Similarity column 12638 (100.0%), 4833.96 column/sec. Elapsed time 2.61 sec\n",
      "EvaluatorHoldout: Processed 10511 (100.0%) in 12.50 sec. Users per second: 841\n"
     ]
    },
    {
     "name": "stderr",
     "output_type": "stream",
     "text": [
      "[I 2023-12-07 09:00:28,647] Trial 17 finished with value: 0.03126534484659338 and parameters: {'topK': 207, 'shrink': 1681, 'similarity': 'cosine', 'normalize': False, 'feature_weighting': 'TF-IDF'}. Best is trial 3 with value: 0.03150747969247673.\n"
     ]
    },
    {
     "name": "stdout",
     "output_type": "stream",
     "text": [
      "UserKNNCFRecommender: URM Detected 240 ( 1.9%) users with no interactions.\n",
      "UserKNNCFRecommender: URM Detected 123 ( 0.6%) items with no interactions.\n",
      "Similarity column 12638 (100.0%), 4585.44 column/sec. Elapsed time 2.76 sec\n",
      "EvaluatorHoldout: Processed 10511 (100.0%) in 13.26 sec. Users per second: 793\n"
     ]
    },
    {
     "name": "stderr",
     "output_type": "stream",
     "text": [
      "[I 2023-12-07 09:00:45,029] Trial 18 finished with value: 0.031350425782211915 and parameters: {'topK': 329, 'shrink': 1141, 'similarity': 'tanimoto', 'normalize': False, 'feature_weighting': 'TF-IDF'}. Best is trial 3 with value: 0.03150747969247673.\n"
     ]
    },
    {
     "name": "stdout",
     "output_type": "stream",
     "text": [
      "UserKNNCFRecommender: URM Detected 240 ( 1.9%) users with no interactions.\n",
      "UserKNNCFRecommender: URM Detected 123 ( 0.6%) items with no interactions.\n",
      "Similarity column 12638 (100.0%), 4602.88 column/sec. Elapsed time 2.75 sec\n",
      "EvaluatorHoldout: Processed 10511 (100.0%) in 13.74 sec. Users per second: 765\n"
     ]
    },
    {
     "name": "stderr",
     "output_type": "stream",
     "text": [
      "[I 2023-12-07 09:01:01,923] Trial 19 finished with value: 0.03112520443435707 and parameters: {'topK': 432, 'shrink': 2049, 'similarity': 'tanimoto', 'normalize': False, 'feature_weighting': 'TF-IDF'}. Best is trial 3 with value: 0.03150747969247673.\n"
     ]
    },
    {
     "name": "stdout",
     "output_type": "stream",
     "text": [
      "UserKNNCFRecommender: URM Detected 240 ( 1.9%) users with no interactions.\n",
      "UserKNNCFRecommender: URM Detected 123 ( 0.6%) items with no interactions.\n",
      "Similarity column 12638 (100.0%), 4731.32 column/sec. Elapsed time 2.67 sec\n",
      "EvaluatorHoldout: Processed 10511 (100.0%) in 12.22 sec. Users per second: 860\n"
     ]
    },
    {
     "name": "stderr",
     "output_type": "stream",
     "text": [
      "[I 2023-12-07 09:01:17,119] Trial 20 finished with value: 0.015415955016135758 and parameters: {'topK': 186, 'shrink': 1442, 'similarity': 'tanimoto', 'normalize': False, 'feature_weighting': 'BM25'}. Best is trial 3 with value: 0.03150747969247673.\n"
     ]
    },
    {
     "name": "stdout",
     "output_type": "stream",
     "text": [
      "UserKNNCFRecommender: URM Detected 240 ( 1.9%) users with no interactions.\n",
      "UserKNNCFRecommender: URM Detected 123 ( 0.6%) items with no interactions.\n",
      "Similarity column 12638 (100.0%), 4614.51 column/sec. Elapsed time 2.74 sec\n",
      "EvaluatorHoldout: Processed 10511 (100.0%) in 13.42 sec. Users per second: 783\n"
     ]
    },
    {
     "name": "stderr",
     "output_type": "stream",
     "text": [
      "[I 2023-12-07 09:01:33,650] Trial 21 finished with value: 0.03142795604906769 and parameters: {'topK': 370, 'shrink': 693, 'similarity': 'tanimoto', 'normalize': True, 'feature_weighting': 'TF-IDF'}. Best is trial 3 with value: 0.03150747969247673.\n"
     ]
    },
    {
     "name": "stdout",
     "output_type": "stream",
     "text": [
      "UserKNNCFRecommender: URM Detected 240 ( 1.9%) users with no interactions.\n",
      "UserKNNCFRecommender: URM Detected 123 ( 0.6%) items with no interactions.\n",
      "Similarity column 12638 (100.0%), 4611.95 column/sec. Elapsed time 2.74 sec\n",
      "EvaluatorHoldout: Processed 10511 (100.0%) in 14.35 sec. Users per second: 733\n"
     ]
    },
    {
     "name": "stderr",
     "output_type": "stream",
     "text": [
      "[I 2023-12-07 09:01:51,141] Trial 22 finished with value: 0.03252279924432953 and parameters: {'topK': 434, 'shrink': 3, 'similarity': 'tanimoto', 'normalize': True, 'feature_weighting': 'TF-IDF'}. Best is trial 22 with value: 0.03252279924432953.\n"
     ]
    },
    {
     "name": "stdout",
     "output_type": "stream",
     "text": [
      "UserKNNCFRecommender: URM Detected 240 ( 1.9%) users with no interactions.\n",
      "UserKNNCFRecommender: URM Detected 123 ( 0.6%) items with no interactions.\n",
      "Similarity column 12638 (100.0%), 4593.83 column/sec. Elapsed time 2.75 sec\n",
      "EvaluatorHoldout: Processed 10511 (100.0%) in 14.28 sec. Users per second: 736\n"
     ]
    },
    {
     "name": "stderr",
     "output_type": "stream",
     "text": [
      "[I 2023-12-07 09:02:08,582] Trial 23 finished with value: 0.03242590906276614 and parameters: {'topK': 439, 'shrink': 8, 'similarity': 'tanimoto', 'normalize': True, 'feature_weighting': 'TF-IDF'}. Best is trial 22 with value: 0.03252279924432953.\n"
     ]
    },
    {
     "name": "stdout",
     "output_type": "stream",
     "text": [
      "UserKNNCFRecommender: URM Detected 240 ( 1.9%) users with no interactions.\n",
      "UserKNNCFRecommender: URM Detected 123 ( 0.6%) items with no interactions.\n",
      "Similarity column 12638 (100.0%), 4547.80 column/sec. Elapsed time 2.78 sec\n",
      "EvaluatorHoldout: Processed 10511 (100.0%) in 14.08 sec. Users per second: 747\n"
     ]
    },
    {
     "name": "stderr",
     "output_type": "stream",
     "text": [
      "[I 2023-12-07 09:02:25,855] Trial 24 finished with value: 0.0320681092974409 and parameters: {'topK': 431, 'shrink': 67, 'similarity': 'tanimoto', 'normalize': True, 'feature_weighting': 'TF-IDF'}. Best is trial 22 with value: 0.03252279924432953.\n"
     ]
    },
    {
     "name": "stdout",
     "output_type": "stream",
     "text": [
      "UserKNNCFRecommender: URM Detected 240 ( 1.9%) users with no interactions.\n",
      "UserKNNCFRecommender: URM Detected 123 ( 0.6%) items with no interactions.\n",
      "Similarity column 12638 (100.0%), 501.12 column/sec. Elapsed time 25.22 sec\n",
      "EvaluatorHoldout: Processed 10511 (100.0%) in 14.32 sec. Users per second: 734\n"
     ]
    },
    {
     "name": "stderr",
     "output_type": "stream",
     "text": [
      "[I 2023-12-07 09:03:05,663] Trial 25 finished with value: 0.02706768645999002 and parameters: {'topK': 455, 'shrink': 68, 'similarity': 'euclidean', 'normalize': True, 'feature_weighting': 'TF-IDF'}. Best is trial 22 with value: 0.03252279924432953.\n"
     ]
    },
    {
     "name": "stdout",
     "output_type": "stream",
     "text": [
      "UserKNNCFRecommender: URM Detected 240 ( 1.9%) users with no interactions.\n",
      "UserKNNCFRecommender: URM Detected 123 ( 0.6%) items with no interactions.\n",
      "Similarity column 12638 (100.0%), 4239.16 column/sec. Elapsed time 2.98 sec\n",
      "EvaluatorHoldout: Processed 10511 (100.0%) in 14.16 sec. Users per second: 742\n"
     ]
    },
    {
     "name": "stderr",
     "output_type": "stream",
     "text": [
      "[I 2023-12-07 09:03:23,332] Trial 26 finished with value: 0.02730345986744065 and parameters: {'topK': 416, 'shrink': 25, 'similarity': 'adjusted', 'normalize': True, 'feature_weighting': 'TF-IDF'}. Best is trial 22 with value: 0.03252279924432953.\n"
     ]
    },
    {
     "name": "stdout",
     "output_type": "stream",
     "text": [
      "UserKNNCFRecommender: URM Detected 240 ( 1.9%) users with no interactions.\n",
      "UserKNNCFRecommender: URM Detected 123 ( 0.6%) items with no interactions.\n",
      "Similarity column 12638 (100.0%), 4545.21 column/sec. Elapsed time 2.78 sec\n",
      "EvaluatorHoldout: Processed 10511 (100.0%) in 13.89 sec. Users per second: 757\n"
     ]
    },
    {
     "name": "stderr",
     "output_type": "stream",
     "text": [
      "[I 2023-12-07 09:03:40,264] Trial 27 finished with value: 0.03425764089925496 and parameters: {'topK': 351, 'shrink': 433, 'similarity': 'cosine', 'normalize': True, 'feature_weighting': 'TF-IDF'}. Best is trial 27 with value: 0.03425764089925496.\n"
     ]
    },
    {
     "name": "stdout",
     "output_type": "stream",
     "text": [
      "UserKNNCFRecommender: URM Detected 240 ( 1.9%) users with no interactions.\n",
      "UserKNNCFRecommender: URM Detected 123 ( 0.6%) items with no interactions.\n",
      "Similarity column 12638 (100.0%), 4671.29 column/sec. Elapsed time 2.71 sec\n",
      "EvaluatorHoldout: Processed 10511 (100.0%) in 14.23 sec. Users per second: 739\n"
     ]
    },
    {
     "name": "stderr",
     "output_type": "stream",
     "text": [
      "[I 2023-12-07 09:03:57,466] Trial 28 finished with value: 0.021932095325682962 and parameters: {'topK': 356, 'shrink': 483, 'similarity': 'cosine', 'normalize': True, 'feature_weighting': 'BM25'}. Best is trial 27 with value: 0.03425764089925496.\n"
     ]
    },
    {
     "name": "stdout",
     "output_type": "stream",
     "text": [
      "UserKNNCFRecommender: URM Detected 240 ( 1.9%) users with no interactions.\n",
      "UserKNNCFRecommender: URM Detected 123 ( 0.6%) items with no interactions.\n",
      "Similarity column 12638 (100.0%), 4503.09 column/sec. Elapsed time 2.81 sec\n",
      "EvaluatorHoldout: Processed 10511 (100.0%) in 14.53 sec. Users per second: 723\n"
     ]
    },
    {
     "name": "stderr",
     "output_type": "stream",
     "text": [
      "[I 2023-12-07 09:04:15,130] Trial 29 finished with value: 0.03411147127801164 and parameters: {'topK': 467, 'shrink': 300, 'similarity': 'cosine', 'normalize': True, 'feature_weighting': 'TF-IDF'}. Best is trial 27 with value: 0.03425764089925496.\n"
     ]
    },
    {
     "name": "stdout",
     "output_type": "stream",
     "text": [
      "UserKNNCFRecommender: URM Detected 240 ( 1.9%) users with no interactions.\n",
      "UserKNNCFRecommender: URM Detected 123 ( 0.6%) items with no interactions.\n",
      "Similarity column 12638 (100.0%), 4691.73 column/sec. Elapsed time 2.69 sec\n",
      "EvaluatorHoldout: Processed 10511 (100.0%) in 13.60 sec. Users per second: 773\n"
     ]
    },
    {
     "name": "stderr",
     "output_type": "stream",
     "text": [
      "[I 2023-12-07 09:04:31,659] Trial 30 finished with value: 0.020929966792158795 and parameters: {'topK': 272, 'shrink': 309, 'similarity': 'cosine', 'normalize': True, 'feature_weighting': 'BM25'}. Best is trial 27 with value: 0.03425764089925496.\n"
     ]
    },
    {
     "name": "stdout",
     "output_type": "stream",
     "text": [
      "UserKNNCFRecommender: URM Detected 240 ( 1.9%) users with no interactions.\n",
      "UserKNNCFRecommender: URM Detected 123 ( 0.6%) items with no interactions.\n",
      "Similarity column 12638 (100.0%), 4455.59 column/sec. Elapsed time 2.84 sec\n",
      "EvaluatorHoldout: Processed 10511 (100.0%) in 14.61 sec. Users per second: 719\n"
     ]
    },
    {
     "name": "stderr",
     "output_type": "stream",
     "text": [
      "[I 2023-12-07 09:04:49,444] Trial 31 finished with value: 0.03387920138086683 and parameters: {'topK': 457, 'shrink': 444, 'similarity': 'cosine', 'normalize': True, 'feature_weighting': 'TF-IDF'}. Best is trial 27 with value: 0.03425764089925496.\n"
     ]
    },
    {
     "name": "stdout",
     "output_type": "stream",
     "text": [
      "UserKNNCFRecommender: URM Detected 240 ( 1.9%) users with no interactions.\n",
      "UserKNNCFRecommender: URM Detected 123 ( 0.6%) items with no interactions.\n",
      "Similarity column 12638 (100.0%), 3772.86 column/sec. Elapsed time 3.35 sec\n",
      "EvaluatorHoldout: Processed 10511 (100.0%) in 14.54 sec. Users per second: 723\n"
     ]
    },
    {
     "name": "stderr",
     "output_type": "stream",
     "text": [
      "[I 2023-12-07 09:05:07,664] Trial 32 finished with value: 0.03381515283308696 and parameters: {'topK': 463, 'shrink': 446, 'similarity': 'cosine', 'normalize': True, 'feature_weighting': 'TF-IDF'}. Best is trial 27 with value: 0.03425764089925496.\n"
     ]
    },
    {
     "name": "stdout",
     "output_type": "stream",
     "text": [
      "UserKNNCFRecommender: URM Detected 240 ( 1.9%) users with no interactions.\n",
      "UserKNNCFRecommender: URM Detected 123 ( 0.6%) items with no interactions.\n",
      "Similarity column 12638 (100.0%), 4431.79 column/sec. Elapsed time 2.85 sec\n",
      "EvaluatorHoldout: Processed 10511 (100.0%) in 14.69 sec. Users per second: 716\n"
     ]
    },
    {
     "name": "stderr",
     "output_type": "stream",
     "text": [
      "[I 2023-12-07 09:05:25,544] Trial 33 finished with value: 0.03363492969572361 and parameters: {'topK': 473, 'shrink': 492, 'similarity': 'cosine', 'normalize': True, 'feature_weighting': 'TF-IDF'}. Best is trial 27 with value: 0.03425764089925496.\n"
     ]
    },
    {
     "name": "stdout",
     "output_type": "stream",
     "text": [
      "UserKNNCFRecommender: URM Detected 240 ( 1.9%) users with no interactions.\n",
      "UserKNNCFRecommender: URM Detected 123 ( 0.6%) items with no interactions.\n",
      "Similarity column 12638 (100.0%), 4497.69 column/sec. Elapsed time 2.81 sec\n",
      "EvaluatorHoldout: Processed 10511 (100.0%) in 14.23 sec. Users per second: 739\n"
     ]
    },
    {
     "name": "stderr",
     "output_type": "stream",
     "text": [
      "[I 2023-12-07 09:05:42,882] Trial 34 finished with value: 0.03447115871052755 and parameters: {'topK': 383, 'shrink': 285, 'similarity': 'cosine', 'normalize': True, 'feature_weighting': 'TF-IDF'}. Best is trial 34 with value: 0.03447115871052755.\n"
     ]
    },
    {
     "name": "stdout",
     "output_type": "stream",
     "text": [
      "UserKNNCFRecommender: URM Detected 240 ( 1.9%) users with no interactions.\n",
      "UserKNNCFRecommender: URM Detected 123 ( 0.6%) items with no interactions.\n",
      "Similarity column 12638 (100.0%), 4497.13 column/sec. Elapsed time 2.81 sec\n",
      "EvaluatorHoldout: Processed 10511 (100.0%) in 14.23 sec. Users per second: 738\n"
     ]
    },
    {
     "name": "stderr",
     "output_type": "stream",
     "text": [
      "[I 2023-12-07 09:06:00,227] Trial 35 finished with value: 0.03436098690261048 and parameters: {'topK': 386, 'shrink': 246, 'similarity': 'cosine', 'normalize': True, 'feature_weighting': 'TF-IDF'}. Best is trial 34 with value: 0.03447115871052755.\n"
     ]
    },
    {
     "name": "stdout",
     "output_type": "stream",
     "text": [
      "UserKNNCFRecommender: URM Detected 240 ( 1.9%) users with no interactions.\n",
      "UserKNNCFRecommender: URM Detected 123 ( 0.6%) items with no interactions.\n",
      "Similarity column 12638 (100.0%), 4466.37 column/sec. Elapsed time 2.83 sec\n",
      "EvaluatorHoldout: Processed 10511 (100.0%) in 14.12 sec. Users per second: 744\n"
     ]
    },
    {
     "name": "stderr",
     "output_type": "stream",
     "text": [
      "[I 2023-12-07 09:06:17,484] Trial 36 finished with value: 0.034412905301023006 and parameters: {'topK': 382, 'shrink': 263, 'similarity': 'cosine', 'normalize': True, 'feature_weighting': 'TF-IDF'}. Best is trial 34 with value: 0.03447115871052755.\n"
     ]
    },
    {
     "name": "stdout",
     "output_type": "stream",
     "text": [
      "UserKNNCFRecommender: URM Detected 240 ( 1.9%) users with no interactions.\n",
      "UserKNNCFRecommender: URM Detected 123 ( 0.6%) items with no interactions.\n",
      "Similarity column 12638 (100.0%), 4516.89 column/sec. Elapsed time 2.80 sec\n",
      "EvaluatorHoldout: Processed 10511 (100.0%) in 13.60 sec. Users per second: 773\n"
     ]
    },
    {
     "name": "stderr",
     "output_type": "stream",
     "text": [
      "[I 2023-12-07 09:06:34,155] Trial 37 finished with value: 0.03126506547184917 and parameters: {'topK': 365, 'shrink': 204, 'similarity': 'cosine', 'normalize': True, 'feature_weighting': 'none'}. Best is trial 34 with value: 0.03447115871052755.\n"
     ]
    },
    {
     "name": "stdout",
     "output_type": "stream",
     "text": [
      "UserKNNCFRecommender: URM Detected 240 ( 1.9%) users with no interactions.\n",
      "UserKNNCFRecommender: URM Detected 123 ( 0.6%) items with no interactions.\n",
      "Similarity column 12638 (100.0%), 4494.81 column/sec. Elapsed time 2.81 sec\n",
      "EvaluatorHoldout: Processed 10511 (100.0%) in 14.18 sec. Users per second: 741\n"
     ]
    },
    {
     "name": "stderr",
     "output_type": "stream",
     "text": [
      "[I 2023-12-07 09:06:51,449] Trial 38 finished with value: 0.033462521500529786 and parameters: {'topK': 384, 'shrink': 854, 'similarity': 'cosine', 'normalize': True, 'feature_weighting': 'TF-IDF'}. Best is trial 34 with value: 0.03447115871052755.\n"
     ]
    },
    {
     "name": "stdout",
     "output_type": "stream",
     "text": [
      "UserKNNCFRecommender: URM Detected 240 ( 1.9%) users with no interactions.\n",
      "UserKNNCFRecommender: URM Detected 123 ( 0.6%) items with no interactions.\n",
      "Similarity column 12638 (100.0%), 5660.32 column/sec. Elapsed time 2.23 sec\n",
      "EvaluatorHoldout: Processed 10511 (100.0%) in 8.58 sec. Users per second: 1226\n"
     ]
    },
    {
     "name": "stderr",
     "output_type": "stream",
     "text": [
      "[I 2023-12-07 09:07:02,566] Trial 39 finished with value: 3.7103986300066596e-05 and parameters: {'topK': 9, 'shrink': 613, 'similarity': 'pearson', 'normalize': True, 'feature_weighting': 'none'}. Best is trial 34 with value: 0.03447115871052755.\n"
     ]
    },
    {
     "name": "stdout",
     "output_type": "stream",
     "text": [
      "UserKNNCFRecommender: URM Detected 240 ( 1.9%) users with no interactions.\n",
      "UserKNNCFRecommender: URM Detected 123 ( 0.6%) items with no interactions.\n",
      "Similarity column 12638 (100.0%), 4536.68 column/sec. Elapsed time 2.79 sec\n",
      "EvaluatorHoldout: Processed 10511 (100.0%) in 13.83 sec. Users per second: 760\n"
     ]
    },
    {
     "name": "stderr",
     "output_type": "stream",
     "text": [
      "[I 2023-12-07 09:07:19,452] Trial 40 finished with value: 0.03470784952423284 and parameters: {'topK': 331, 'shrink': 193, 'similarity': 'cosine', 'normalize': True, 'feature_weighting': 'TF-IDF'}. Best is trial 40 with value: 0.03470784952423284.\n"
     ]
    },
    {
     "name": "stdout",
     "output_type": "stream",
     "text": [
      "UserKNNCFRecommender: URM Detected 240 ( 1.9%) users with no interactions.\n",
      "UserKNNCFRecommender: URM Detected 123 ( 0.6%) items with no interactions.\n",
      "Similarity column 12638 (100.0%), 4525.67 column/sec. Elapsed time 2.79 sec\n",
      "EvaluatorHoldout: Processed 10511 (100.0%) in 13.78 sec. Users per second: 763\n"
     ]
    },
    {
     "name": "stderr",
     "output_type": "stream",
     "text": [
      "[I 2023-12-07 09:07:36,292] Trial 41 finished with value: 0.03467457372699549 and parameters: {'topK': 329, 'shrink': 187, 'similarity': 'cosine', 'normalize': True, 'feature_weighting': 'TF-IDF'}. Best is trial 40 with value: 0.03470784952423284.\n"
     ]
    },
    {
     "name": "stdout",
     "output_type": "stream",
     "text": [
      "UserKNNCFRecommender: URM Detected 240 ( 1.9%) users with no interactions.\n",
      "UserKNNCFRecommender: URM Detected 123 ( 0.6%) items with no interactions.\n",
      "Similarity column 12638 (100.0%), 4530.25 column/sec. Elapsed time 2.79 sec\n",
      "EvaluatorHoldout: Processed 10511 (100.0%) in 13.52 sec. Users per second: 777\n"
     ]
    },
    {
     "name": "stderr",
     "output_type": "stream",
     "text": [
      "[I 2023-12-07 09:07:52,856] Trial 42 finished with value: 0.03439099326027359 and parameters: {'topK': 286, 'shrink': 195, 'similarity': 'cosine', 'normalize': True, 'feature_weighting': 'TF-IDF'}. Best is trial 40 with value: 0.03470784952423284.\n"
     ]
    },
    {
     "name": "stdout",
     "output_type": "stream",
     "text": [
      "UserKNNCFRecommender: URM Detected 240 ( 1.9%) users with no interactions.\n",
      "UserKNNCFRecommender: URM Detected 123 ( 0.6%) items with no interactions.\n",
      "Similarity column 12638 (100.0%), 4520.09 column/sec. Elapsed time 2.80 sec\n",
      "EvaluatorHoldout: Processed 10511 (100.0%) in 13.55 sec. Users per second: 776\n"
     ]
    },
    {
     "name": "stderr",
     "output_type": "stream",
     "text": [
      "[I 2023-12-07 09:08:09,450] Trial 43 finished with value: 0.03435935595815775 and parameters: {'topK': 276, 'shrink': 195, 'similarity': 'cosine', 'normalize': True, 'feature_weighting': 'TF-IDF'}. Best is trial 40 with value: 0.03470784952423284.\n"
     ]
    },
    {
     "name": "stdout",
     "output_type": "stream",
     "text": [
      "UserKNNCFRecommender: URM Detected 240 ( 1.9%) users with no interactions.\n",
      "UserKNNCFRecommender: URM Detected 123 ( 0.6%) items with no interactions.\n",
      "Similarity column 12638 (100.0%), 4496.68 column/sec. Elapsed time 2.81 sec\n",
      "EvaluatorHoldout: Processed 10511 (100.0%) in 13.69 sec. Users per second: 768\n"
     ]
    },
    {
     "name": "stderr",
     "output_type": "stream",
     "text": [
      "[I 2023-12-07 09:08:26,218] Trial 44 finished with value: 0.034576199839020196 and parameters: {'topK': 304, 'shrink': 144, 'similarity': 'cosine', 'normalize': True, 'feature_weighting': 'TF-IDF'}. Best is trial 40 with value: 0.03470784952423284.\n"
     ]
    },
    {
     "name": "stdout",
     "output_type": "stream",
     "text": [
      "UserKNNCFRecommender: URM Detected 240 ( 1.9%) users with no interactions.\n",
      "UserKNNCFRecommender: URM Detected 123 ( 0.6%) items with no interactions.\n",
      "Similarity column 12638 (100.0%), 4627.57 column/sec. Elapsed time 2.73 sec\n",
      "EvaluatorHoldout: Processed 10511 (100.0%) in 13.72 sec. Users per second: 766\n"
     ]
    },
    {
     "name": "stderr",
     "output_type": "stream",
     "text": [
      "[I 2023-12-07 09:08:43,038] Trial 45 finished with value: 0.031403480556273275 and parameters: {'topK': 328, 'shrink': 354, 'similarity': 'jaccard', 'normalize': True, 'feature_weighting': 'TF-IDF'}. Best is trial 40 with value: 0.03470784952423284.\n"
     ]
    },
    {
     "name": "stdout",
     "output_type": "stream",
     "text": [
      "UserKNNCFRecommender: URM Detected 240 ( 1.9%) users with no interactions.\n",
      "UserKNNCFRecommender: URM Detected 123 ( 0.6%) items with no interactions.\n",
      "Similarity column 12638 (100.0%), 4890.34 column/sec. Elapsed time 2.58 sec\n",
      "EvaluatorHoldout: Processed 10511 (100.0%) in 11.25 sec. Users per second: 934\n"
     ]
    },
    {
     "name": "stderr",
     "output_type": "stream",
     "text": [
      "[I 2023-12-07 09:08:57,284] Trial 46 finished with value: 0.01541369359084134 and parameters: {'topK': 301, 'shrink': 155, 'similarity': 'pearson', 'normalize': True, 'feature_weighting': 'TF-IDF'}. Best is trial 40 with value: 0.03470784952423284.\n"
     ]
    },
    {
     "name": "stdout",
     "output_type": "stream",
     "text": [
      "UserKNNCFRecommender: URM Detected 240 ( 1.9%) users with no interactions.\n",
      "UserKNNCFRecommender: URM Detected 123 ( 0.6%) items with no interactions.\n",
      "Similarity column 12638 (100.0%), 4523.58 column/sec. Elapsed time 2.79 sec\n",
      "EvaluatorHoldout: Processed 10511 (100.0%) in 13.35 sec. Users per second: 788\n"
     ]
    },
    {
     "name": "stderr",
     "output_type": "stream",
     "text": [
      "[I 2023-12-07 09:09:13,671] Trial 47 finished with value: 0.031231098788420057 and parameters: {'topK': 332, 'shrink': 585, 'similarity': 'cosine', 'normalize': True, 'feature_weighting': 'none'}. Best is trial 40 with value: 0.03470784952423284.\n"
     ]
    },
    {
     "name": "stdout",
     "output_type": "stream",
     "text": [
      "UserKNNCFRecommender: URM Detected 240 ( 1.9%) users with no interactions.\n",
      "UserKNNCFRecommender: URM Detected 123 ( 0.6%) items with no interactions.\n",
      "Similarity column 12638 (100.0%), 4699.96 column/sec. Elapsed time 2.69 sec\n",
      "EvaluatorHoldout: Processed 10511 (100.0%) in 13.25 sec. Users per second: 793\n"
     ]
    },
    {
     "name": "stderr",
     "output_type": "stream",
     "text": [
      "[I 2023-12-07 09:09:29,847] Trial 48 finished with value: 0.02064329432657846 and parameters: {'topK': 253, 'shrink': 757, 'similarity': 'cosine', 'normalize': True, 'feature_weighting': 'BM25'}. Best is trial 40 with value: 0.03470784952423284.\n"
     ]
    },
    {
     "name": "stdout",
     "output_type": "stream",
     "text": [
      "UserKNNCFRecommender: URM Detected 240 ( 1.9%) users with no interactions.\n",
      "UserKNNCFRecommender: URM Detected 123 ( 0.6%) items with no interactions.\n",
      "Similarity column 12638 (100.0%), 514.94 column/sec. Elapsed time 24.54 sec\n",
      "EvaluatorHoldout: Processed 10511 (100.0%) in 14.27 sec. Users per second: 737\n"
     ]
    },
    {
     "name": "stderr",
     "output_type": "stream",
     "text": [
      "[I 2023-12-07 09:10:08,933] Trial 49 finished with value: 0.027573592593096174 and parameters: {'topK': 401, 'shrink': 350, 'similarity': 'euclidean', 'normalize': True, 'feature_weighting': 'TF-IDF'}. Best is trial 40 with value: 0.03470784952423284.\n"
     ]
    },
    {
     "name": "stdout",
     "output_type": "stream",
     "text": [
      "UserKNNCFRecommender: URM Detected 240 ( 1.9%) users with no interactions.\n",
      "UserKNNCFRecommender: URM Detected 123 ( 0.6%) items with no interactions.\n",
      "Similarity column 12638 (100.0%), 4304.37 column/sec. Elapsed time 2.94 sec\n",
      "EvaluatorHoldout: Processed 10511 (100.0%) in 12.61 sec. Users per second: 834\n"
     ]
    },
    {
     "name": "stderr",
     "output_type": "stream",
     "text": [
      "[I 2023-12-07 09:10:24,944] Trial 50 finished with value: 0.02507429102995653 and parameters: {'topK': 225, 'shrink': 133, 'similarity': 'adjusted', 'normalize': True, 'feature_weighting': 'TF-IDF'}. Best is trial 40 with value: 0.03470784952423284.\n"
     ]
    },
    {
     "name": "stdout",
     "output_type": "stream",
     "text": [
      "UserKNNCFRecommender: URM Detected 240 ( 1.9%) users with no interactions.\n",
      "UserKNNCFRecommender: URM Detected 123 ( 0.6%) items with no interactions.\n",
      "Similarity column 12638 (100.0%), 4538.82 column/sec. Elapsed time 2.78 sec\n",
      "EvaluatorHoldout: Processed 10511 (100.0%) in 13.65 sec. Users per second: 770\n"
     ]
    },
    {
     "name": "stderr",
     "output_type": "stream",
     "text": [
      "[I 2023-12-07 09:10:41,634] Trial 51 finished with value: 0.034544879664992416 and parameters: {'topK': 294, 'shrink': 204, 'similarity': 'cosine', 'normalize': True, 'feature_weighting': 'TF-IDF'}. Best is trial 40 with value: 0.03470784952423284.\n"
     ]
    },
    {
     "name": "stdout",
     "output_type": "stream",
     "text": [
      "UserKNNCFRecommender: URM Detected 240 ( 1.9%) users with no interactions.\n",
      "UserKNNCFRecommender: URM Detected 123 ( 0.6%) items with no interactions.\n",
      "Similarity column 12638 (100.0%), 4529.13 column/sec. Elapsed time 2.79 sec\n",
      "EvaluatorHoldout: Processed 10511 (100.0%) in 13.66 sec. Users per second: 769\n"
     ]
    },
    {
     "name": "stderr",
     "output_type": "stream",
     "text": [
      "[I 2023-12-07 09:10:58,347] Trial 52 finished with value: 0.034471940204744506 and parameters: {'topK': 309, 'shrink': 290, 'similarity': 'cosine', 'normalize': True, 'feature_weighting': 'TF-IDF'}. Best is trial 40 with value: 0.03470784952423284.\n"
     ]
    },
    {
     "name": "stdout",
     "output_type": "stream",
     "text": [
      "UserKNNCFRecommender: URM Detected 240 ( 1.9%) users with no interactions.\n",
      "UserKNNCFRecommender: URM Detected 123 ( 0.6%) items with no interactions.\n",
      "Similarity column 12638 (100.0%), 4467.03 column/sec. Elapsed time 2.83 sec\n",
      "EvaluatorHoldout: Processed 10511 (100.0%) in 14.02 sec. Users per second: 750\n"
     ]
    },
    {
     "name": "stderr",
     "output_type": "stream",
     "text": [
      "[I 2023-12-07 09:11:15,454] Trial 53 finished with value: 0.03448143894604795 and parameters: {'topK': 293, 'shrink': 118, 'similarity': 'cosine', 'normalize': True, 'feature_weighting': 'TF-IDF'}. Best is trial 40 with value: 0.03470784952423284.\n"
     ]
    },
    {
     "name": "stdout",
     "output_type": "stream",
     "text": [
      "UserKNNCFRecommender: URM Detected 240 ( 1.9%) users with no interactions.\n",
      "UserKNNCFRecommender: URM Detected 123 ( 0.6%) items with no interactions.\n",
      "Similarity column 12638 (100.0%), 4521.19 column/sec. Elapsed time 2.80 sec\n",
      "EvaluatorHoldout: Processed 10511 (100.0%) in 13.44 sec. Users per second: 782\n"
     ]
    },
    {
     "name": "stderr",
     "output_type": "stream",
     "text": [
      "[I 2023-12-07 09:11:32,056] Trial 54 finished with value: 0.03219812048753206 and parameters: {'topK': 295, 'shrink': 120, 'similarity': 'jaccard', 'normalize': True, 'feature_weighting': 'TF-IDF'}. Best is trial 40 with value: 0.03470784952423284.\n"
     ]
    },
    {
     "name": "stdout",
     "output_type": "stream",
     "text": [
      "UserKNNCFRecommender: URM Detected 240 ( 1.9%) users with no interactions.\n",
      "UserKNNCFRecommender: URM Detected 123 ( 0.6%) items with no interactions.\n",
      "Similarity column 12638 (100.0%), 4528.06 column/sec. Elapsed time 2.79 sec\n",
      "EvaluatorHoldout: Processed 10511 (100.0%) in 13.57 sec. Users per second: 775\n"
     ]
    },
    {
     "name": "stderr",
     "output_type": "stream",
     "text": [
      "[I 2023-12-07 09:11:48,655] Trial 55 finished with value: 0.03421591967900636 and parameters: {'topK': 253, 'shrink': 563, 'similarity': 'cosine', 'normalize': True, 'feature_weighting': 'TF-IDF'}. Best is trial 40 with value: 0.03470784952423284.\n"
     ]
    },
    {
     "name": "stdout",
     "output_type": "stream",
     "text": [
      "UserKNNCFRecommender: URM Detected 240 ( 1.9%) users with no interactions.\n",
      "UserKNNCFRecommender: URM Detected 123 ( 0.6%) items with no interactions.\n",
      "Similarity column 12638 (100.0%), 4469.82 column/sec. Elapsed time 2.83 sec\n",
      "EvaluatorHoldout: Processed 10511 (100.0%) in 13.73 sec. Users per second: 765\n"
     ]
    },
    {
     "name": "stderr",
     "output_type": "stream",
     "text": [
      "[I 2023-12-07 09:12:05,482] Trial 56 finished with value: 0.03444427077906339 and parameters: {'topK': 313, 'shrink': 380, 'similarity': 'cosine', 'normalize': True, 'feature_weighting': 'TF-IDF'}. Best is trial 40 with value: 0.03470784952423284.\n"
     ]
    },
    {
     "name": "stdout",
     "output_type": "stream",
     "text": [
      "UserKNNCFRecommender: URM Detected 240 ( 1.9%) users with no interactions.\n",
      "UserKNNCFRecommender: URM Detected 123 ( 0.6%) items with no interactions.\n",
      "Similarity column 12638 (100.0%), 4655.10 column/sec. Elapsed time 2.71 sec\n",
      "EvaluatorHoldout: Processed 10511 (100.0%) in 12.40 sec. Users per second: 848\n"
     ]
    },
    {
     "name": "stderr",
     "output_type": "stream",
     "text": [
      "[I 2023-12-07 09:12:20,778] Trial 57 finished with value: 0.030230521917326402 and parameters: {'topK': 184, 'shrink': 122, 'similarity': 'cosine', 'normalize': True, 'feature_weighting': 'none'}. Best is trial 40 with value: 0.03470784952423284.\n"
     ]
    },
    {
     "name": "stdout",
     "output_type": "stream",
     "text": [
      "UserKNNCFRecommender: URM Detected 240 ( 1.9%) users with no interactions.\n",
      "UserKNNCFRecommender: URM Detected 123 ( 0.6%) items with no interactions.\n",
      "Similarity column 12638 (100.0%), 4864.40 column/sec. Elapsed time 2.60 sec\n",
      "EvaluatorHoldout: Processed 10511 (100.0%) in 11.39 sec. Users per second: 923\n"
     ]
    },
    {
     "name": "stderr",
     "output_type": "stream",
     "text": [
      "[I 2023-12-07 09:12:35,198] Trial 58 finished with value: 0.015835051110476835 and parameters: {'topK': 336, 'shrink': 1021, 'similarity': 'pearson', 'normalize': True, 'feature_weighting': 'TF-IDF'}. Best is trial 40 with value: 0.03470784952423284.\n"
     ]
    },
    {
     "name": "stdout",
     "output_type": "stream",
     "text": [
      "UserKNNCFRecommender: URM Detected 240 ( 1.9%) users with no interactions.\n",
      "UserKNNCFRecommender: URM Detected 123 ( 0.6%) items with no interactions.\n",
      "Similarity column 12638 (100.0%), 4705.29 column/sec. Elapsed time 2.69 sec\n",
      "EvaluatorHoldout: Processed 10511 (100.0%) in 11.83 sec. Users per second: 889\n"
     ]
    },
    {
     "name": "stderr",
     "output_type": "stream",
     "text": [
      "[I 2023-12-07 09:12:49,865] Trial 59 finished with value: 0.0301209088588979 and parameters: {'topK': 82, 'shrink': 2087, 'similarity': 'cosine', 'normalize': True, 'feature_weighting': 'TF-IDF'}. Best is trial 40 with value: 0.03470784952423284.\n"
     ]
    },
    {
     "name": "stdout",
     "output_type": "stream",
     "text": [
      "UserKNNCFRecommender: URM Detected 240 ( 1.9%) users with no interactions.\n",
      "UserKNNCFRecommender: URM Detected 123 ( 0.6%) items with no interactions.\n",
      "Similarity column 12638 (100.0%), 628.55 column/sec. Elapsed time 20.11 sec\n",
      "EvaluatorHoldout: Processed 10511 (100.0%) in 9.61 sec. Users per second: 1094\n"
     ]
    },
    {
     "name": "stderr",
     "output_type": "stream",
     "text": [
      "[I 2023-12-07 09:13:19,786] Trial 60 finished with value: 0.000692120726132713 and parameters: {'topK': 264, 'shrink': 382, 'similarity': 'euclidean', 'normalize': False, 'feature_weighting': 'BM25'}. Best is trial 40 with value: 0.03470784952423284.\n"
     ]
    },
    {
     "name": "stdout",
     "output_type": "stream",
     "text": [
      "UserKNNCFRecommender: URM Detected 240 ( 1.9%) users with no interactions.\n",
      "UserKNNCFRecommender: URM Detected 123 ( 0.6%) items with no interactions.\n",
      "Similarity column 12638 (100.0%), 4484.29 column/sec. Elapsed time 2.82 sec\n",
      "EvaluatorHoldout: Processed 10511 (100.0%) in 13.80 sec. Users per second: 762\n"
     ]
    },
    {
     "name": "stderr",
     "output_type": "stream",
     "text": [
      "[I 2023-12-07 09:13:36,686] Trial 61 finished with value: 0.03457251511266394 and parameters: {'topK': 322, 'shrink': 230, 'similarity': 'cosine', 'normalize': True, 'feature_weighting': 'TF-IDF'}. Best is trial 40 with value: 0.03470784952423284.\n"
     ]
    },
    {
     "name": "stdout",
     "output_type": "stream",
     "text": [
      "UserKNNCFRecommender: URM Detected 240 ( 1.9%) users with no interactions.\n",
      "UserKNNCFRecommender: URM Detected 123 ( 0.6%) items with no interactions.\n",
      "Similarity column 12638 (100.0%), 4517.10 column/sec. Elapsed time 2.80 sec\n",
      "EvaluatorHoldout: Processed 10511 (100.0%) in 13.83 sec. Users per second: 760\n"
     ]
    },
    {
     "name": "stderr",
     "output_type": "stream",
     "text": [
      "[I 2023-12-07 09:13:53,580] Trial 62 finished with value: 0.034633203612844464 and parameters: {'topK': 316, 'shrink': 197, 'similarity': 'cosine', 'normalize': True, 'feature_weighting': 'TF-IDF'}. Best is trial 40 with value: 0.03470784952423284.\n"
     ]
    },
    {
     "name": "stdout",
     "output_type": "stream",
     "text": [
      "UserKNNCFRecommender: URM Detected 240 ( 1.9%) users with no interactions.\n",
      "UserKNNCFRecommender: URM Detected 123 ( 0.6%) items with no interactions.\n",
      "Similarity column 12638 (100.0%), 4518.60 column/sec. Elapsed time 2.80 sec\n",
      "EvaluatorHoldout: Processed 10511 (100.0%) in 13.67 sec. Users per second: 769\n"
     ]
    },
    {
     "name": "stderr",
     "output_type": "stream",
     "text": [
      "[I 2023-12-07 09:14:10,319] Trial 63 finished with value: 0.03474200497438108 and parameters: {'topK': 321, 'shrink': 78, 'similarity': 'cosine', 'normalize': True, 'feature_weighting': 'TF-IDF'}. Best is trial 63 with value: 0.03474200497438108.\n"
     ]
    },
    {
     "name": "stdout",
     "output_type": "stream",
     "text": [
      "UserKNNCFRecommender: URM Detected 240 ( 1.9%) users with no interactions.\n",
      "UserKNNCFRecommender: URM Detected 123 ( 0.6%) items with no interactions.\n",
      "Similarity column 12638 (100.0%), 4500.35 column/sec. Elapsed time 2.81 sec\n",
      "EvaluatorHoldout: Processed 10511 (100.0%) in 13.84 sec. Users per second: 760\n"
     ]
    },
    {
     "name": "stderr",
     "output_type": "stream",
     "text": [
      "[I 2023-12-07 09:14:27,258] Trial 64 finished with value: 0.03349560475571367 and parameters: {'topK': 328, 'shrink': 1239, 'similarity': 'cosine', 'normalize': True, 'feature_weighting': 'TF-IDF'}. Best is trial 63 with value: 0.03474200497438108.\n"
     ]
    },
    {
     "name": "stdout",
     "output_type": "stream",
     "text": [
      "UserKNNCFRecommender: URM Detected 240 ( 1.9%) users with no interactions.\n",
      "UserKNNCFRecommender: URM Detected 123 ( 0.6%) items with no interactions.\n",
      "Similarity column 12638 (100.0%), 4206.42 column/sec. Elapsed time 3.00 sec\n",
      "EvaluatorHoldout: Processed 10511 (100.0%) in 13.45 sec. Users per second: 782\n"
     ]
    },
    {
     "name": "stderr",
     "output_type": "stream",
     "text": [
      "[I 2023-12-07 09:14:44,219] Trial 65 finished with value: 0.02779999184527794 and parameters: {'topK': 316, 'shrink': 2, 'similarity': 'adjusted', 'normalize': True, 'feature_weighting': 'TF-IDF'}. Best is trial 63 with value: 0.03474200497438108.\n"
     ]
    },
    {
     "name": "stdout",
     "output_type": "stream",
     "text": [
      "UserKNNCFRecommender: URM Detected 240 ( 1.9%) users with no interactions.\n",
      "UserKNNCFRecommender: URM Detected 123 ( 0.6%) items with no interactions.\n",
      "Similarity column 12638 (100.0%), 4511.77 column/sec. Elapsed time 2.80 sec\n",
      "EvaluatorHoldout: Processed 10511 (100.0%) in 13.95 sec. Users per second: 753\n"
     ]
    },
    {
     "name": "stderr",
     "output_type": "stream",
     "text": [
      "[I 2023-12-07 09:15:01,261] Trial 66 finished with value: 0.034585573994289145 and parameters: {'topK': 347, 'shrink': 191, 'similarity': 'cosine', 'normalize': True, 'feature_weighting': 'TF-IDF'}. Best is trial 63 with value: 0.03474200497438108.\n"
     ]
    },
    {
     "name": "stdout",
     "output_type": "stream",
     "text": [
      "UserKNNCFRecommender: URM Detected 240 ( 1.9%) users with no interactions.\n",
      "UserKNNCFRecommender: URM Detected 123 ( 0.6%) items with no interactions.\n",
      "Similarity column 12638 (100.0%), 4658.07 column/sec. Elapsed time 2.71 sec\n",
      "EvaluatorHoldout: Processed 10511 (100.0%) in 14.03 sec. Users per second: 749\n"
     ]
    },
    {
     "name": "stderr",
     "output_type": "stream",
     "text": [
      "[I 2023-12-07 09:15:18,386] Trial 67 finished with value: 0.03220976361876416 and parameters: {'topK': 361, 'shrink': 93, 'similarity': 'jaccard', 'normalize': True, 'feature_weighting': 'TF-IDF'}. Best is trial 63 with value: 0.03474200497438108.\n"
     ]
    },
    {
     "name": "stdout",
     "output_type": "stream",
     "text": [
      "UserKNNCFRecommender: URM Detected 240 ( 1.9%) users with no interactions.\n",
      "UserKNNCFRecommender: URM Detected 123 ( 0.6%) items with no interactions.\n",
      "Similarity column 12638 (100.0%), 4668.33 column/sec. Elapsed time 2.71 sec\n",
      "EvaluatorHoldout: Processed 10511 (100.0%) in 13.78 sec. Users per second: 763\n"
     ]
    },
    {
     "name": "stderr",
     "output_type": "stream",
     "text": [
      "[I 2023-12-07 09:15:35,160] Trial 68 finished with value: 0.03175129833749417 and parameters: {'topK': 344, 'shrink': 506, 'similarity': 'cosine', 'normalize': False, 'feature_weighting': 'TF-IDF'}. Best is trial 63 with value: 0.03474200497438108.\n"
     ]
    },
    {
     "name": "stdout",
     "output_type": "stream",
     "text": [
      "UserKNNCFRecommender: URM Detected 240 ( 1.9%) users with no interactions.\n",
      "UserKNNCFRecommender: URM Detected 123 ( 0.6%) items with no interactions.\n",
      "Similarity column 12638 (100.0%), 4581.82 column/sec. Elapsed time 2.76 sec\n",
      "EvaluatorHoldout: Processed 10511 (100.0%) in 13.12 sec. Users per second: 801\n"
     ]
    },
    {
     "name": "stderr",
     "output_type": "stream",
     "text": [
      "[I 2023-12-07 09:15:51,270] Trial 69 finished with value: 0.0331026641779667 and parameters: {'topK': 232, 'shrink': 2434, 'similarity': 'cosine', 'normalize': True, 'feature_weighting': 'TF-IDF'}. Best is trial 63 with value: 0.03474200497438108.\n"
     ]
    },
    {
     "name": "stdout",
     "output_type": "stream",
     "text": [
      "UserKNNCFRecommender: URM Detected 240 ( 1.9%) users with no interactions.\n",
      "UserKNNCFRecommender: URM Detected 123 ( 0.6%) items with no interactions.\n",
      "Similarity column 12638 (100.0%), 4496.03 column/sec. Elapsed time 2.81 sec\n",
      "EvaluatorHoldout: Processed 10511 (100.0%) in 14.08 sec. Users per second: 747\n"
     ]
    },
    {
     "name": "stderr",
     "output_type": "stream",
     "text": [
      "[I 2023-12-07 09:16:08,456] Trial 70 finished with value: 0.03471168148863 and parameters: {'topK': 343, 'shrink': 61, 'similarity': 'cosine', 'normalize': True, 'feature_weighting': 'TF-IDF'}. Best is trial 63 with value: 0.03474200497438108.\n"
     ]
    },
    {
     "name": "stdout",
     "output_type": "stream",
     "text": [
      "UserKNNCFRecommender: URM Detected 240 ( 1.9%) users with no interactions.\n",
      "UserKNNCFRecommender: URM Detected 123 ( 0.6%) items with no interactions.\n",
      "Similarity column 12638 (100.0%), 4484.00 column/sec. Elapsed time 2.82 sec\n",
      "EvaluatorHoldout: Processed 10511 (100.0%) in 13.84 sec. Users per second: 759\n"
     ]
    },
    {
     "name": "stderr",
     "output_type": "stream",
     "text": [
      "[I 2023-12-07 09:16:25,395] Trial 71 finished with value: 0.03464166413719317 and parameters: {'topK': 347, 'shrink': 36, 'similarity': 'cosine', 'normalize': True, 'feature_weighting': 'TF-IDF'}. Best is trial 63 with value: 0.03474200497438108.\n"
     ]
    },
    {
     "name": "stdout",
     "output_type": "stream",
     "text": [
      "UserKNNCFRecommender: URM Detected 240 ( 1.9%) users with no interactions.\n",
      "UserKNNCFRecommender: URM Detected 123 ( 0.6%) items with no interactions.\n",
      "Similarity column 12638 (100.0%), 4534.97 column/sec. Elapsed time 2.79 sec\n",
      "EvaluatorHoldout: Processed 10511 (100.0%) in 14.37 sec. Users per second: 731\n"
     ]
    },
    {
     "name": "stderr",
     "output_type": "stream",
     "text": [
      "[I 2023-12-07 09:16:42,830] Trial 72 finished with value: 0.034741419797552 and parameters: {'topK': 346, 'shrink': 51, 'similarity': 'cosine', 'normalize': True, 'feature_weighting': 'TF-IDF'}. Best is trial 63 with value: 0.03474200497438108.\n"
     ]
    },
    {
     "name": "stdout",
     "output_type": "stream",
     "text": [
      "UserKNNCFRecommender: URM Detected 240 ( 1.9%) users with no interactions.\n",
      "UserKNNCFRecommender: URM Detected 123 ( 0.6%) items with no interactions.\n",
      "Similarity column 12638 (100.0%), 4524.83 column/sec. Elapsed time 2.79 sec\n",
      "EvaluatorHoldout: Processed 10511 (100.0%) in 14.07 sec. Users per second: 747\n"
     ]
    },
    {
     "name": "stderr",
     "output_type": "stream",
     "text": [
      "[I 2023-12-07 09:16:59,969] Trial 73 finished with value: 0.034723536038587535 and parameters: {'topK': 345, 'shrink': 68, 'similarity': 'cosine', 'normalize': True, 'feature_weighting': 'TF-IDF'}. Best is trial 63 with value: 0.03474200497438108.\n"
     ]
    },
    {
     "name": "stdout",
     "output_type": "stream",
     "text": [
      "UserKNNCFRecommender: URM Detected 240 ( 1.9%) users with no interactions.\n",
      "UserKNNCFRecommender: URM Detected 123 ( 0.6%) items with no interactions.\n",
      "Similarity column 12638 (100.0%), 4396.38 column/sec. Elapsed time 2.87 sec\n",
      "EvaluatorHoldout: Processed 10511 (100.0%) in 14.09 sec. Users per second: 746\n"
     ]
    },
    {
     "name": "stderr",
     "output_type": "stream",
     "text": [
      "[I 2023-12-07 09:17:17,241] Trial 74 finished with value: 0.03467392436948196 and parameters: {'topK': 371, 'shrink': 48, 'similarity': 'cosine', 'normalize': True, 'feature_weighting': 'TF-IDF'}. Best is trial 63 with value: 0.03474200497438108.\n"
     ]
    },
    {
     "name": "stdout",
     "output_type": "stream",
     "text": [
      "UserKNNCFRecommender: URM Detected 240 ( 1.9%) users with no interactions.\n",
      "UserKNNCFRecommender: URM Detected 123 ( 0.6%) items with no interactions.\n",
      "Similarity column 12638 (100.0%), 4512.94 column/sec. Elapsed time 2.80 sec\n",
      "EvaluatorHoldout: Processed 10511 (100.0%) in 14.18 sec. Users per second: 741\n"
     ]
    },
    {
     "name": "stderr",
     "output_type": "stream",
     "text": [
      "[I 2023-12-07 09:17:34,532] Trial 75 finished with value: 0.03472468751557374 and parameters: {'topK': 369, 'shrink': 45, 'similarity': 'cosine', 'normalize': True, 'feature_weighting': 'TF-IDF'}. Best is trial 63 with value: 0.03474200497438108.\n"
     ]
    },
    {
     "name": "stdout",
     "output_type": "stream",
     "text": [
      "UserKNNCFRecommender: URM Detected 240 ( 1.9%) users with no interactions.\n",
      "UserKNNCFRecommender: URM Detected 123 ( 0.6%) items with no interactions.\n",
      "Similarity column 12638 (100.0%), 4205.60 column/sec. Elapsed time 3.01 sec\n",
      "EvaluatorHoldout: Processed 10511 (100.0%) in 14.64 sec. Users per second: 718\n"
     ]
    },
    {
     "name": "stderr",
     "output_type": "stream",
     "text": [
      "[I 2023-12-07 09:17:52,539] Trial 76 finished with value: 0.02243339555084395 and parameters: {'topK': 416, 'shrink': 80, 'similarity': 'cosine', 'normalize': True, 'feature_weighting': 'BM25'}. Best is trial 63 with value: 0.03474200497438108.\n"
     ]
    },
    {
     "name": "stdout",
     "output_type": "stream",
     "text": [
      "UserKNNCFRecommender: URM Detected 240 ( 1.9%) users with no interactions.\n",
      "UserKNNCFRecommender: URM Detected 123 ( 0.6%) items with no interactions.\n",
      "Similarity column 12638 (100.0%), 511.17 column/sec. Elapsed time 24.72 sec\n",
      "EvaluatorHoldout: Processed 10511 (100.0%) in 14.14 sec. Users per second: 743\n"
     ]
    },
    {
     "name": "stderr",
     "output_type": "stream",
     "text": [
      "[I 2023-12-07 09:18:31,688] Trial 77 finished with value: 0.02758645893266787 and parameters: {'topK': 401, 'shrink': 8, 'similarity': 'euclidean', 'normalize': True, 'feature_weighting': 'TF-IDF'}. Best is trial 63 with value: 0.03474200497438108.\n"
     ]
    },
    {
     "name": "stdout",
     "output_type": "stream",
     "text": [
      "UserKNNCFRecommender: URM Detected 240 ( 1.9%) users with no interactions.\n",
      "UserKNNCFRecommender: URM Detected 123 ( 0.6%) items with no interactions.\n",
      "Similarity column 12638 (100.0%), 4557.27 column/sec. Elapsed time 2.77 sec\n",
      "EvaluatorHoldout: Processed 10511 (100.0%) in 14.26 sec. Users per second: 737\n"
     ]
    },
    {
     "name": "stderr",
     "output_type": "stream",
     "text": [
      "[I 2023-12-07 09:18:48,990] Trial 78 finished with value: 0.031897887020853846 and parameters: {'topK': 370, 'shrink': 58, 'similarity': 'cosine', 'normalize': True, 'feature_weighting': 'none'}. Best is trial 63 with value: 0.03474200497438108.\n"
     ]
    },
    {
     "name": "stdout",
     "output_type": "stream",
     "text": [
      "UserKNNCFRecommender: URM Detected 240 ( 1.9%) users with no interactions.\n",
      "UserKNNCFRecommender: URM Detected 123 ( 0.6%) items with no interactions.\n",
      "Similarity column 12638 (100.0%), 4344.63 column/sec. Elapsed time 2.91 sec\n",
      "EvaluatorHoldout: Processed 10511 (100.0%) in 13.35 sec. Users per second: 788\n"
     ]
    },
    {
     "name": "stderr",
     "output_type": "stream",
     "text": [
      "[I 2023-12-07 09:19:05,783] Trial 79 finished with value: 0.025694261340727054 and parameters: {'topK': 369, 'shrink': 286, 'similarity': 'adjusted', 'normalize': False, 'feature_weighting': 'TF-IDF'}. Best is trial 63 with value: 0.03474200497438108.\n"
     ]
    },
    {
     "name": "stdout",
     "output_type": "stream",
     "text": [
      "UserKNNCFRecommender: URM Detected 240 ( 1.9%) users with no interactions.\n",
      "UserKNNCFRecommender: URM Detected 123 ( 0.6%) items with no interactions.\n",
      "Similarity column 12638 (100.0%), 4459.02 column/sec. Elapsed time 2.83 sec\n",
      "EvaluatorHoldout: Processed 10511 (100.0%) in 14.46 sec. Users per second: 727\n"
     ]
    },
    {
     "name": "stderr",
     "output_type": "stream",
     "text": [
      "[I 2023-12-07 09:19:23,404] Trial 80 finished with value: 0.032865886531570535 and parameters: {'topK': 416, 'shrink': 1653, 'similarity': 'cosine', 'normalize': True, 'feature_weighting': 'TF-IDF'}. Best is trial 63 with value: 0.03474200497438108.\n"
     ]
    },
    {
     "name": "stdout",
     "output_type": "stream",
     "text": [
      "UserKNNCFRecommender: URM Detected 240 ( 1.9%) users with no interactions.\n",
      "UserKNNCFRecommender: URM Detected 123 ( 0.6%) items with no interactions.\n",
      "Similarity column 12638 (100.0%), 4535.30 column/sec. Elapsed time 2.79 sec\n",
      "EvaluatorHoldout: Processed 10511 (100.0%) in 13.97 sec. Users per second: 752\n"
     ]
    },
    {
     "name": "stderr",
     "output_type": "stream",
     "text": [
      "[I 2023-12-07 09:19:40,447] Trial 81 finished with value: 0.03471911512202695 and parameters: {'topK': 343, 'shrink': 79, 'similarity': 'cosine', 'normalize': True, 'feature_weighting': 'TF-IDF'}. Best is trial 63 with value: 0.03474200497438108.\n"
     ]
    },
    {
     "name": "stdout",
     "output_type": "stream",
     "text": [
      "UserKNNCFRecommender: URM Detected 240 ( 1.9%) users with no interactions.\n",
      "UserKNNCFRecommender: URM Detected 123 ( 0.6%) items with no interactions.\n",
      "Similarity column 12638 (100.0%), 4389.30 column/sec. Elapsed time 2.88 sec\n",
      "EvaluatorHoldout: Processed 10511 (100.0%) in 13.99 sec. Users per second: 751\n"
     ]
    },
    {
     "name": "stderr",
     "output_type": "stream",
     "text": [
      "[I 2023-12-07 09:19:57,600] Trial 82 finished with value: 0.03465647477397121 and parameters: {'topK': 358, 'shrink': 96, 'similarity': 'cosine', 'normalize': True, 'feature_weighting': 'TF-IDF'}. Best is trial 63 with value: 0.03474200497438108.\n"
     ]
    },
    {
     "name": "stdout",
     "output_type": "stream",
     "text": [
      "UserKNNCFRecommender: URM Detected 240 ( 1.9%) users with no interactions.\n",
      "UserKNNCFRecommender: URM Detected 123 ( 0.6%) items with no interactions.\n",
      "Similarity column 12638 (100.0%), 4515.96 column/sec. Elapsed time 2.80 sec\n",
      "EvaluatorHoldout: Processed 10511 (100.0%) in 14.10 sec. Users per second: 746\n"
     ]
    },
    {
     "name": "stderr",
     "output_type": "stream",
     "text": [
      "[I 2023-12-07 09:20:14,790] Trial 83 finished with value: 0.03486039568524627 and parameters: {'topK': 375, 'shrink': 1, 'similarity': 'cosine', 'normalize': True, 'feature_weighting': 'TF-IDF'}. Best is trial 83 with value: 0.03486039568524627.\n"
     ]
    },
    {
     "name": "stdout",
     "output_type": "stream",
     "text": [
      "UserKNNCFRecommender: URM Detected 240 ( 1.9%) users with no interactions.\n",
      "UserKNNCFRecommender: URM Detected 123 ( 0.6%) items with no interactions.\n",
      "Similarity column 12638 (100.0%), 4476.35 column/sec. Elapsed time 2.82 sec\n",
      "EvaluatorHoldout: Processed 10511 (100.0%) in 13.93 sec. Users per second: 754\n"
     ]
    },
    {
     "name": "stderr",
     "output_type": "stream",
     "text": [
      "[I 2023-12-07 09:20:31,837] Trial 84 finished with value: 0.03454948179760337 and parameters: {'topK': 339, 'shrink': 152, 'similarity': 'cosine', 'normalize': True, 'feature_weighting': 'TF-IDF'}. Best is trial 83 with value: 0.03486039568524627.\n"
     ]
    },
    {
     "name": "stdout",
     "output_type": "stream",
     "text": [
      "UserKNNCFRecommender: URM Detected 240 ( 1.9%) users with no interactions.\n",
      "UserKNNCFRecommender: URM Detected 123 ( 0.6%) items with no interactions.\n",
      "Similarity column 12638 (100.0%), 4494.38 column/sec. Elapsed time 2.81 sec\n",
      "EvaluatorHoldout: Processed 10511 (100.0%) in 14.40 sec. Users per second: 730\n"
     ]
    },
    {
     "name": "stderr",
     "output_type": "stream",
     "text": [
      "[I 2023-12-07 09:20:49,354] Trial 85 finished with value: 0.03423826965854417 and parameters: {'topK': 399, 'shrink': 326, 'similarity': 'cosine', 'normalize': True, 'feature_weighting': 'TF-IDF'}. Best is trial 83 with value: 0.03486039568524627.\n"
     ]
    },
    {
     "name": "stdout",
     "output_type": "stream",
     "text": [
      "UserKNNCFRecommender: URM Detected 240 ( 1.9%) users with no interactions.\n",
      "UserKNNCFRecommender: URM Detected 123 ( 0.6%) items with no interactions.\n",
      "Similarity column 12638 (100.0%), 4435.57 column/sec. Elapsed time 2.85 sec\n",
      "EvaluatorHoldout: Processed 10511 (100.0%) in 14.29 sec. Users per second: 736\n"
     ]
    },
    {
     "name": "stderr",
     "output_type": "stream",
     "text": [
      "[I 2023-12-07 09:21:06,807] Trial 86 finished with value: 0.03421741848675593 and parameters: {'topK': 378, 'shrink': 413, 'similarity': 'cosine', 'normalize': True, 'feature_weighting': 'TF-IDF'}. Best is trial 83 with value: 0.03486039568524627.\n"
     ]
    },
    {
     "name": "stdout",
     "output_type": "stream",
     "text": [
      "UserKNNCFRecommender: URM Detected 240 ( 1.9%) users with no interactions.\n",
      "UserKNNCFRecommender: URM Detected 123 ( 0.6%) items with no interactions.\n",
      "Similarity column 12638 (100.0%), 4883.08 column/sec. Elapsed time 2.59 sec\n",
      "EvaluatorHoldout: Processed 10511 (100.0%) in 11.48 sec. Users per second: 916\n"
     ]
    },
    {
     "name": "stderr",
     "output_type": "stream",
     "text": [
      "[I 2023-12-07 09:21:21,318] Trial 87 finished with value: 0.01578574901879056 and parameters: {'topK': 351, 'shrink': 252, 'similarity': 'pearson', 'normalize': True, 'feature_weighting': 'TF-IDF'}. Best is trial 83 with value: 0.03486039568524627.\n"
     ]
    },
    {
     "name": "stdout",
     "output_type": "stream",
     "text": [
      "UserKNNCFRecommender: URM Detected 240 ( 1.9%) users with no interactions.\n",
      "UserKNNCFRecommender: URM Detected 123 ( 0.6%) items with no interactions.\n",
      "Similarity column 12638 (100.0%), 4518.87 column/sec. Elapsed time 2.80 sec\n",
      "EvaluatorHoldout: Processed 10511 (100.0%) in 13.52 sec. Users per second: 777\n"
     ]
    },
    {
     "name": "stderr",
     "output_type": "stream",
     "text": [
      "[I 2023-12-07 09:21:37,904] Trial 88 finished with value: 0.03452078170563611 and parameters: {'topK': 281, 'shrink': 71, 'similarity': 'cosine', 'normalize': True, 'feature_weighting': 'TF-IDF'}. Best is trial 83 with value: 0.03486039568524627.\n"
     ]
    },
    {
     "name": "stdout",
     "output_type": "stream",
     "text": [
      "UserKNNCFRecommender: URM Detected 240 ( 1.9%) users with no interactions.\n",
      "UserKNNCFRecommender: URM Detected 123 ( 0.6%) items with no interactions.\n",
      "Similarity column 12638 (100.0%), 4570.06 column/sec. Elapsed time 2.77 sec\n",
      "EvaluatorHoldout: Processed 10511 (100.0%) in 13.97 sec. Users per second: 753\n"
     ]
    },
    {
     "name": "stderr",
     "output_type": "stream",
     "text": [
      "[I 2023-12-07 09:21:55,049] Trial 89 finished with value: 0.03172831410178039 and parameters: {'topK': 391, 'shrink': 144, 'similarity': 'jaccard', 'normalize': True, 'feature_weighting': 'TF-IDF'}. Best is trial 83 with value: 0.03486039568524627.\n"
     ]
    },
    {
     "name": "stdout",
     "output_type": "stream",
     "text": [
      "UserKNNCFRecommender: URM Detected 240 ( 1.9%) users with no interactions.\n",
      "UserKNNCFRecommender: URM Detected 123 ( 0.6%) items with no interactions.\n",
      "Similarity column 12638 (100.0%), 4624.55 column/sec. Elapsed time 2.73 sec\n",
      "EvaluatorHoldout: Processed 10511 (100.0%) in 14.17 sec. Users per second: 742\n"
     ]
    },
    {
     "name": "stderr",
     "output_type": "stream",
     "text": [
      "[I 2023-12-07 09:22:12,245] Trial 90 finished with value: 0.021827752634050797 and parameters: {'topK': 335, 'shrink': 251, 'similarity': 'cosine', 'normalize': True, 'feature_weighting': 'BM25'}. Best is trial 83 with value: 0.03486039568524627.\n"
     ]
    },
    {
     "name": "stdout",
     "output_type": "stream",
     "text": [
      "UserKNNCFRecommender: URM Detected 240 ( 1.9%) users with no interactions.\n",
      "UserKNNCFRecommender: URM Detected 123 ( 0.6%) items with no interactions.\n",
      "Similarity column 12638 (100.0%), 4550.09 column/sec. Elapsed time 2.78 sec\n",
      "EvaluatorHoldout: Processed 10511 (100.0%) in 14.08 sec. Users per second: 746\n"
     ]
    },
    {
     "name": "stderr",
     "output_type": "stream",
     "text": [
      "[I 2023-12-07 09:22:29,399] Trial 91 finished with value: 0.03484886958937996 and parameters: {'topK': 375, 'shrink': 2, 'similarity': 'cosine', 'normalize': True, 'feature_weighting': 'TF-IDF'}. Best is trial 83 with value: 0.03486039568524627.\n"
     ]
    },
    {
     "name": "stdout",
     "output_type": "stream",
     "text": [
      "UserKNNCFRecommender: URM Detected 240 ( 1.9%) users with no interactions.\n",
      "UserKNNCFRecommender: URM Detected 123 ( 0.6%) items with no interactions.\n",
      "Similarity column 12638 (100.0%), 4455.03 column/sec. Elapsed time 2.84 sec\n",
      "EvaluatorHoldout: Processed 10511 (100.0%) in 14.15 sec. Users per second: 743\n"
     ]
    },
    {
     "name": "stderr",
     "output_type": "stream",
     "text": [
      "[I 2023-12-07 09:22:46,689] Trial 92 finished with value: 0.03472755299436921 and parameters: {'topK': 362, 'shrink': 29, 'similarity': 'cosine', 'normalize': True, 'feature_weighting': 'TF-IDF'}. Best is trial 83 with value: 0.03486039568524627.\n"
     ]
    },
    {
     "name": "stdout",
     "output_type": "stream",
     "text": [
      "UserKNNCFRecommender: URM Detected 240 ( 1.9%) users with no interactions.\n",
      "UserKNNCFRecommender: URM Detected 123 ( 0.6%) items with no interactions.\n",
      "Similarity column 12638 (100.0%), 4539.70 column/sec. Elapsed time 2.78 sec\n",
      "EvaluatorHoldout: Processed 10511 (100.0%) in 14.02 sec. Users per second: 750\n"
     ]
    },
    {
     "name": "stderr",
     "output_type": "stream",
     "text": [
      "[I 2023-12-07 09:23:03,778] Trial 93 finished with value: 0.03466155637404856 and parameters: {'topK': 358, 'shrink': 54, 'similarity': 'cosine', 'normalize': True, 'feature_weighting': 'TF-IDF'}. Best is trial 83 with value: 0.03486039568524627.\n"
     ]
    },
    {
     "name": "stdout",
     "output_type": "stream",
     "text": [
      "UserKNNCFRecommender: URM Detected 240 ( 1.9%) users with no interactions.\n",
      "UserKNNCFRecommender: URM Detected 123 ( 0.6%) items with no interactions.\n",
      "Similarity column 12638 (100.0%), 4522.33 column/sec. Elapsed time 2.79 sec\n",
      "EvaluatorHoldout: Processed 10511 (100.0%) in 14.20 sec. Users per second: 740\n"
     ]
    },
    {
     "name": "stderr",
     "output_type": "stream",
     "text": [
      "[I 2023-12-07 09:23:21,071] Trial 94 finished with value: 0.03472769268174125 and parameters: {'topK': 377, 'shrink': 32, 'similarity': 'cosine', 'normalize': True, 'feature_weighting': 'TF-IDF'}. Best is trial 83 with value: 0.03486039568524627.\n"
     ]
    },
    {
     "name": "stdout",
     "output_type": "stream",
     "text": [
      "UserKNNCFRecommender: URM Detected 240 ( 1.9%) users with no interactions.\n",
      "UserKNNCFRecommender: URM Detected 123 ( 0.6%) items with no interactions.\n",
      "Similarity column 12638 (100.0%), 4406.22 column/sec. Elapsed time 2.87 sec\n",
      "EvaluatorHoldout: Processed 10511 (100.0%) in 14.40 sec. Users per second: 730\n"
     ]
    },
    {
     "name": "stderr",
     "output_type": "stream",
     "text": [
      "[I 2023-12-07 09:23:38,669] Trial 95 finished with value: 0.03456667089504165 and parameters: {'topK': 420, 'shrink': 8, 'similarity': 'cosine', 'normalize': True, 'feature_weighting': 'TF-IDF'}. Best is trial 83 with value: 0.03486039568524627.\n"
     ]
    },
    {
     "name": "stdout",
     "output_type": "stream",
     "text": [
      "UserKNNCFRecommender: URM Detected 240 ( 1.9%) users with no interactions.\n",
      "UserKNNCFRecommender: URM Detected 123 ( 0.6%) items with no interactions.\n",
      "Similarity column 12638 (100.0%), 4484.68 column/sec. Elapsed time 2.82 sec\n",
      "EvaluatorHoldout: Processed 10511 (100.0%) in 14.49 sec. Users per second: 725\n"
     ]
    },
    {
     "name": "stderr",
     "output_type": "stream",
     "text": [
      "[I 2023-12-07 09:23:56,301] Trial 96 finished with value: 0.03457091437088638 and parameters: {'topK': 393, 'shrink': 97, 'similarity': 'cosine', 'normalize': True, 'feature_weighting': 'TF-IDF'}. Best is trial 83 with value: 0.03486039568524627.\n"
     ]
    },
    {
     "name": "stdout",
     "output_type": "stream",
     "text": [
      "UserKNNCFRecommender: URM Detected 240 ( 1.9%) users with no interactions.\n",
      "UserKNNCFRecommender: URM Detected 123 ( 0.6%) items with no interactions.\n",
      "Similarity column 12638 (100.0%), 4786.28 column/sec. Elapsed time 2.64 sec\n",
      "EvaluatorHoldout: Processed 10511 (100.0%) in 13.27 sec. Users per second: 792\n"
     ]
    },
    {
     "name": "stderr",
     "output_type": "stream",
     "text": [
      "[I 2023-12-07 09:24:12,496] Trial 97 finished with value: 0.029482360127636692 and parameters: {'topK': 375, 'shrink': 4, 'similarity': 'cosine', 'normalize': False, 'feature_weighting': 'none'}. Best is trial 83 with value: 0.03486039568524627.\n"
     ]
    },
    {
     "name": "stdout",
     "output_type": "stream",
     "text": [
      "UserKNNCFRecommender: URM Detected 240 ( 1.9%) users with no interactions.\n",
      "UserKNNCFRecommender: URM Detected 123 ( 0.6%) items with no interactions.\n",
      "Similarity column 12638 (100.0%), 4451.24 column/sec. Elapsed time 2.84 sec\n",
      "EvaluatorHoldout: Processed 10511 (100.0%) in 14.72 sec. Users per second: 714\n"
     ]
    },
    {
     "name": "stderr",
     "output_type": "stream",
     "text": [
      "[I 2023-12-07 09:24:30,409] Trial 98 finished with value: 0.03436714824832081 and parameters: {'topK': 447, 'shrink': 148, 'similarity': 'cosine', 'normalize': True, 'feature_weighting': 'TF-IDF'}. Best is trial 83 with value: 0.03486039568524627.\n"
     ]
    },
    {
     "name": "stdout",
     "output_type": "stream",
     "text": [
      "UserKNNCFRecommender: URM Detected 240 ( 1.9%) users with no interactions.\n",
      "UserKNNCFRecommender: URM Detected 123 ( 0.6%) items with no interactions.\n",
      "Similarity column 12638 (100.0%), 4476.19 column/sec. Elapsed time 2.82 sec\n",
      "EvaluatorHoldout: Processed 10511 (100.0%) in 14.39 sec. Users per second: 731\n"
     ]
    },
    {
     "name": "stderr",
     "output_type": "stream",
     "text": [
      "[I 2023-12-07 09:24:47,955] Trial 99 finished with value: 0.03473144536411638 and parameters: {'topK': 406, 'shrink': 98, 'similarity': 'cosine', 'normalize': True, 'feature_weighting': 'TF-IDF'}. Best is trial 83 with value: 0.03486039568524627.\n"
     ]
    },
    {
     "name": "stdout",
     "output_type": "stream",
     "text": [
      "UserKNNCFRecommender: URM Detected 240 ( 1.9%) users with no interactions.\n",
      "UserKNNCFRecommender: URM Detected 123 ( 0.6%) items with no interactions.\n",
      "Similarity column 12638 (100.0%), 495.45 column/sec. Elapsed time 25.51 sec\n",
      "EvaluatorHoldout: Processed 10511 (100.0%) in 14.34 sec. Users per second: 733\n"
     ]
    },
    {
     "name": "stderr",
     "output_type": "stream",
     "text": [
      "[I 2023-12-07 09:25:28,100] Trial 100 finished with value: 0.027431745729719542 and parameters: {'topK': 426, 'shrink': 321, 'similarity': 'euclidean', 'normalize': True, 'feature_weighting': 'TF-IDF'}. Best is trial 83 with value: 0.03486039568524627.\n"
     ]
    },
    {
     "name": "stdout",
     "output_type": "stream",
     "text": [
      "UserKNNCFRecommender: URM Detected 240 ( 1.9%) users with no interactions.\n",
      "UserKNNCFRecommender: URM Detected 123 ( 0.6%) items with no interactions.\n",
      "Similarity column 12638 (100.0%), 4239.31 column/sec. Elapsed time 2.98 sec\n",
      "EvaluatorHoldout: Processed 10511 (100.0%) in 14.39 sec. Users per second: 730\n"
     ]
    },
    {
     "name": "stderr",
     "output_type": "stream",
     "text": [
      "[I 2023-12-07 09:25:45,805] Trial 101 finished with value: 0.0347004838468548 and parameters: {'topK': 406, 'shrink': 84, 'similarity': 'cosine', 'normalize': True, 'feature_weighting': 'TF-IDF'}. Best is trial 83 with value: 0.03486039568524627.\n"
     ]
    },
    {
     "name": "stdout",
     "output_type": "stream",
     "text": [
      "UserKNNCFRecommender: URM Detected 240 ( 1.9%) users with no interactions.\n",
      "UserKNNCFRecommender: URM Detected 123 ( 0.6%) items with no interactions.\n",
      "Similarity column 12638 (100.0%), 4505.61 column/sec. Elapsed time 2.80 sec\n",
      "EvaluatorHoldout: Processed 10511 (100.0%) in 14.39 sec. Users per second: 731\n"
     ]
    },
    {
     "name": "stderr",
     "output_type": "stream",
     "text": [
      "[I 2023-12-07 09:26:03,313] Trial 102 finished with value: 0.03490503901430594 and parameters: {'topK': 386, 'shrink': 1, 'similarity': 'cosine', 'normalize': True, 'feature_weighting': 'TF-IDF'}. Best is trial 102 with value: 0.03490503901430594.\n"
     ]
    },
    {
     "name": "stdout",
     "output_type": "stream",
     "text": [
      "UserKNNCFRecommender: URM Detected 240 ( 1.9%) users with no interactions.\n",
      "UserKNNCFRecommender: URM Detected 123 ( 0.6%) items with no interactions.\n",
      "Similarity column 12638 (100.0%), 4433.74 column/sec. Elapsed time 2.85 sec\n",
      "EvaluatorHoldout: Processed 10511 (100.0%) in 14.45 sec. Users per second: 728\n"
     ]
    },
    {
     "name": "stderr",
     "output_type": "stream",
     "text": [
      "[I 2023-12-07 09:26:20,948] Trial 103 finished with value: 0.03451664016381976 and parameters: {'topK': 408, 'shrink': 148, 'similarity': 'cosine', 'normalize': True, 'feature_weighting': 'TF-IDF'}. Best is trial 102 with value: 0.03490503901430594.\n"
     ]
    },
    {
     "name": "stdout",
     "output_type": "stream",
     "text": [
      "UserKNNCFRecommender: URM Detected 240 ( 1.9%) users with no interactions.\n",
      "UserKNNCFRecommender: URM Detected 123 ( 0.6%) items with no interactions.\n",
      "Similarity column 12638 (100.0%), 4490.81 column/sec. Elapsed time 2.81 sec\n",
      "EvaluatorHoldout: Processed 10511 (100.0%) in 14.60 sec. Users per second: 720\n"
     ]
    },
    {
     "name": "stderr",
     "output_type": "stream",
     "text": [
      "[I 2023-12-07 09:26:38,679] Trial 104 finished with value: 0.034374732895093046 and parameters: {'topK': 387, 'shrink': 227, 'similarity': 'cosine', 'normalize': True, 'feature_weighting': 'TF-IDF'}. Best is trial 102 with value: 0.03490503901430594.\n"
     ]
    },
    {
     "name": "stdout",
     "output_type": "stream",
     "text": [
      "UserKNNCFRecommender: URM Detected 240 ( 1.9%) users with no interactions.\n",
      "UserKNNCFRecommender: URM Detected 123 ( 0.6%) items with no interactions.\n",
      "Similarity column 12638 (100.0%), 4543.47 column/sec. Elapsed time 2.78 sec\n",
      "EvaluatorHoldout: Processed 10511 (100.0%) in 14.08 sec. Users per second: 746\n"
     ]
    },
    {
     "name": "stderr",
     "output_type": "stream",
     "text": [
      "[I 2023-12-07 09:26:55,940] Trial 105 finished with value: 0.032760690614368065 and parameters: {'topK': 361, 'shrink': 1, 'similarity': 'tanimoto', 'normalize': True, 'feature_weighting': 'TF-IDF'}. Best is trial 102 with value: 0.03490503901430594.\n"
     ]
    },
    {
     "name": "stdout",
     "output_type": "stream",
     "text": [
      "UserKNNCFRecommender: URM Detected 240 ( 1.9%) users with no interactions.\n",
      "UserKNNCFRecommender: URM Detected 123 ( 0.6%) items with no interactions.\n",
      "Similarity column 12638 (100.0%), 4894.80 column/sec. Elapsed time 2.58 sec\n",
      "EvaluatorHoldout: Processed 10511 (100.0%) in 11.98 sec. Users per second: 878\n"
     ]
    },
    {
     "name": "stderr",
     "output_type": "stream",
     "text": [
      "[I 2023-12-07 09:27:10,953] Trial 106 finished with value: 0.015752862080994506 and parameters: {'topK': 439, 'shrink': 111, 'similarity': 'pearson', 'normalize': True, 'feature_weighting': 'TF-IDF'}. Best is trial 102 with value: 0.03490503901430594.\n"
     ]
    },
    {
     "name": "stdout",
     "output_type": "stream",
     "text": [
      "UserKNNCFRecommender: URM Detected 240 ( 1.9%) users with no interactions.\n",
      "UserKNNCFRecommender: URM Detected 123 ( 0.6%) items with no interactions.\n",
      "Similarity column 12638 (100.0%), 4503.72 column/sec. Elapsed time 2.81 sec\n",
      "EvaluatorHoldout: Processed 10511 (100.0%) in 14.18 sec. Users per second: 741\n"
     ]
    },
    {
     "name": "stderr",
     "output_type": "stream",
     "text": [
      "[I 2023-12-07 09:27:28,256] Trial 107 finished with value: 0.03463050047342736 and parameters: {'topK': 386, 'shrink': 161, 'similarity': 'cosine', 'normalize': True, 'feature_weighting': 'TF-IDF'}. Best is trial 102 with value: 0.03490503901430594.\n"
     ]
    },
    {
     "name": "stdout",
     "output_type": "stream",
     "text": [
      "UserKNNCFRecommender: URM Detected 240 ( 1.9%) users with no interactions.\n",
      "UserKNNCFRecommender: URM Detected 123 ( 0.6%) items with no interactions.\n",
      "Similarity column 12638 (100.0%), 4454.01 column/sec. Elapsed time 2.84 sec\n",
      "EvaluatorHoldout: Processed 10511 (100.0%) in 14.27 sec. Users per second: 737\n"
     ]
    },
    {
     "name": "stderr",
     "output_type": "stream",
     "text": [
      "[I 2023-12-07 09:27:45,674] Trial 108 finished with value: 0.03460246861564584 and parameters: {'topK': 376, 'shrink': 50, 'similarity': 'cosine', 'normalize': True, 'feature_weighting': 'TF-IDF'}. Best is trial 102 with value: 0.03490503901430594.\n"
     ]
    },
    {
     "name": "stdout",
     "output_type": "stream",
     "text": [
      "UserKNNCFRecommender: URM Detected 240 ( 1.9%) users with no interactions.\n",
      "UserKNNCFRecommender: URM Detected 123 ( 0.6%) items with no interactions.\n",
      "Similarity column 12638 (100.0%), 4491.21 column/sec. Elapsed time 2.81 sec\n",
      "EvaluatorHoldout: Processed 10511 (100.0%) in 14.15 sec. Users per second: 743\n"
     ]
    },
    {
     "name": "stderr",
     "output_type": "stream",
     "text": [
      "[I 2023-12-07 09:28:02,938] Trial 109 finished with value: 0.03458509830215703 and parameters: {'topK': 354, 'shrink': 227, 'similarity': 'cosine', 'normalize': True, 'feature_weighting': 'TF-IDF'}. Best is trial 102 with value: 0.03490503901430594.\n"
     ]
    },
    {
     "name": "stdout",
     "output_type": "stream",
     "text": [
      "UserKNNCFRecommender: URM Detected 240 ( 1.9%) users with no interactions.\n",
      "UserKNNCFRecommender: URM Detected 123 ( 0.6%) items with no interactions.\n",
      "Similarity column 12638 (100.0%), 4235.79 column/sec. Elapsed time 2.98 sec\n",
      "EvaluatorHoldout: Processed 10511 (100.0%) in 13.76 sec. Users per second: 764\n"
     ]
    },
    {
     "name": "stderr",
     "output_type": "stream",
     "text": [
      "[I 2023-12-07 09:28:20,221] Trial 110 finished with value: 0.026777703026157198 and parameters: {'topK': 394, 'shrink': 104, 'similarity': 'adjusted', 'normalize': True, 'feature_weighting': 'TF-IDF'}. Best is trial 102 with value: 0.03490503901430594.\n"
     ]
    },
    {
     "name": "stdout",
     "output_type": "stream",
     "text": [
      "UserKNNCFRecommender: URM Detected 240 ( 1.9%) users with no interactions.\n",
      "UserKNNCFRecommender: URM Detected 123 ( 0.6%) items with no interactions.\n",
      "Similarity column 12638 (100.0%), 4479.58 column/sec. Elapsed time 2.82 sec\n",
      "EvaluatorHoldout: Processed 10511 (100.0%) in 13.93 sec. Users per second: 754\n"
     ]
    },
    {
     "name": "stderr",
     "output_type": "stream",
     "text": [
      "[I 2023-12-07 09:28:37,272] Trial 111 finished with value: 0.03471532091097359 and parameters: {'topK': 343, 'shrink': 54, 'similarity': 'cosine', 'normalize': True, 'feature_weighting': 'TF-IDF'}. Best is trial 102 with value: 0.03490503901430594.\n"
     ]
    },
    {
     "name": "stdout",
     "output_type": "stream",
     "text": [
      "UserKNNCFRecommender: URM Detected 240 ( 1.9%) users with no interactions.\n",
      "UserKNNCFRecommender: URM Detected 123 ( 0.6%) items with no interactions.\n",
      "Similarity column 12638 (100.0%), 4550.59 column/sec. Elapsed time 2.78 sec\n",
      "EvaluatorHoldout: Processed 10511 (100.0%) in 14.18 sec. Users per second: 741\n"
     ]
    },
    {
     "name": "stderr",
     "output_type": "stream",
     "text": [
      "[I 2023-12-07 09:28:54,524] Trial 112 finished with value: 0.03470647907785237 and parameters: {'topK': 365, 'shrink': 44, 'similarity': 'cosine', 'normalize': True, 'feature_weighting': 'TF-IDF'}. Best is trial 102 with value: 0.03490503901430594.\n"
     ]
    },
    {
     "name": "stdout",
     "output_type": "stream",
     "text": [
      "UserKNNCFRecommender: URM Detected 240 ( 1.9%) users with no interactions.\n",
      "UserKNNCFRecommender: URM Detected 123 ( 0.6%) items with no interactions.\n",
      "Similarity column 12638 (100.0%), 4579.14 column/sec. Elapsed time 2.76 sec\n",
      "EvaluatorHoldout: Processed 10511 (100.0%) in 13.54 sec. Users per second: 776\n"
     ]
    },
    {
     "name": "stderr",
     "output_type": "stream",
     "text": [
      "[I 2023-12-07 09:29:11,102] Trial 113 finished with value: 0.03466207737019323 and parameters: {'topK': 321, 'shrink': 193, 'similarity': 'cosine', 'normalize': True, 'feature_weighting': 'TF-IDF'}. Best is trial 102 with value: 0.03490503901430594.\n"
     ]
    },
    {
     "name": "stdout",
     "output_type": "stream",
     "text": [
      "UserKNNCFRecommender: URM Detected 240 ( 1.9%) users with no interactions.\n",
      "UserKNNCFRecommender: URM Detected 123 ( 0.6%) items with no interactions.\n",
      "Similarity column 12638 (100.0%), 4352.80 column/sec. Elapsed time 2.90 sec\n",
      "EvaluatorHoldout: Processed 10511 (100.0%) in 14.16 sec. Users per second: 742\n"
     ]
    },
    {
     "name": "stderr",
     "output_type": "stream",
     "text": [
      "[I 2023-12-07 09:29:28,480] Trial 114 finished with value: 0.03464534131288063 and parameters: {'topK': 409, 'shrink': 6, 'similarity': 'cosine', 'normalize': True, 'feature_weighting': 'TF-IDF'}. Best is trial 102 with value: 0.03490503901430594.\n"
     ]
    },
    {
     "name": "stdout",
     "output_type": "stream",
     "text": [
      "UserKNNCFRecommender: URM Detected 240 ( 1.9%) users with no interactions.\n",
      "UserKNNCFRecommender: URM Detected 123 ( 0.6%) items with no interactions.\n",
      "Similarity column 12638 (100.0%), 4509.08 column/sec. Elapsed time 2.80 sec\n",
      "EvaluatorHoldout: Processed 10511 (100.0%) in 14.24 sec. Users per second: 738\n"
     ]
    },
    {
     "name": "stderr",
     "output_type": "stream",
     "text": [
      "[I 2023-12-07 09:29:45,826] Trial 115 finished with value: 0.03460970593165486 and parameters: {'topK': 377, 'shrink': 110, 'similarity': 'cosine', 'normalize': True, 'feature_weighting': 'TF-IDF'}. Best is trial 102 with value: 0.03490503901430594.\n"
     ]
    },
    {
     "name": "stdout",
     "output_type": "stream",
     "text": [
      "UserKNNCFRecommender: URM Detected 240 ( 1.9%) users with no interactions.\n",
      "UserKNNCFRecommender: URM Detected 123 ( 0.6%) items with no interactions.\n",
      "Similarity column 12638 (100.0%), 4434.50 column/sec. Elapsed time 2.85 sec\n",
      "EvaluatorHoldout: Processed 10511 (100.0%) in 13.99 sec. Users per second: 751\n"
     ]
    },
    {
     "name": "stderr",
     "output_type": "stream",
     "text": [
      "[I 2023-12-07 09:30:02,987] Trial 116 finished with value: 0.02187683198100858 and parameters: {'topK': 350, 'shrink': 170, 'similarity': 'cosine', 'normalize': True, 'feature_weighting': 'BM25'}. Best is trial 102 with value: 0.03490503901430594.\n"
     ]
    },
    {
     "name": "stdout",
     "output_type": "stream",
     "text": [
      "UserKNNCFRecommender: URM Detected 240 ( 1.9%) users with no interactions.\n",
      "UserKNNCFRecommender: URM Detected 123 ( 0.6%) items with no interactions.\n",
      "Similarity column 12638 (100.0%), 4600.01 column/sec. Elapsed time 2.75 sec\n",
      "EvaluatorHoldout: Processed 10511 (100.0%) in 14.37 sec. Users per second: 731\n"
     ]
    },
    {
     "name": "stderr",
     "output_type": "stream",
     "text": [
      "[I 2023-12-07 09:30:20,544] Trial 117 finished with value: 0.0313114152520493 and parameters: {'topK': 500, 'shrink': 275, 'similarity': 'jaccard', 'normalize': False, 'feature_weighting': 'TF-IDF'}. Best is trial 102 with value: 0.03490503901430594.\n"
     ]
    },
    {
     "name": "stdout",
     "output_type": "stream",
     "text": [
      "UserKNNCFRecommender: URM Detected 240 ( 1.9%) users with no interactions.\n",
      "UserKNNCFRecommender: URM Detected 123 ( 0.6%) items with no interactions.\n",
      "Similarity column 12638 (100.0%), 4556.71 column/sec. Elapsed time 2.77 sec\n",
      "EvaluatorHoldout: Processed 10511 (100.0%) in 13.61 sec. Users per second: 773\n"
     ]
    },
    {
     "name": "stderr",
     "output_type": "stream",
     "text": [
      "[I 2023-12-07 09:30:37,182] Trial 118 finished with value: 0.03203563387109236 and parameters: {'topK': 338, 'shrink': 51, 'similarity': 'cosine', 'normalize': True, 'feature_weighting': 'none'}. Best is trial 102 with value: 0.03490503901430594.\n"
     ]
    },
    {
     "name": "stdout",
     "output_type": "stream",
     "text": [
      "UserKNNCFRecommender: URM Detected 240 ( 1.9%) users with no interactions.\n",
      "UserKNNCFRecommender: URM Detected 123 ( 0.6%) items with no interactions.\n",
      "Similarity column 12638 (100.0%), 4539.16 column/sec. Elapsed time 2.78 sec\n",
      "EvaluatorHoldout: Processed 10511 (100.0%) in 13.99 sec. Users per second: 752\n"
     ]
    },
    {
     "name": "stderr",
     "output_type": "stream",
     "text": [
      "[I 2023-12-07 09:30:54,246] Trial 119 finished with value: 0.03471100192844135 and parameters: {'topK': 367, 'shrink': 119, 'similarity': 'cosine', 'normalize': True, 'feature_weighting': 'TF-IDF'}. Best is trial 102 with value: 0.03490503901430594.\n"
     ]
    },
    {
     "name": "stdout",
     "output_type": "stream",
     "text": [
      "UserKNNCFRecommender: URM Detected 240 ( 1.9%) users with no interactions.\n",
      "UserKNNCFRecommender: URM Detected 123 ( 0.6%) items with no interactions.\n",
      "Similarity column 12638 (100.0%), 4569.74 column/sec. Elapsed time 2.77 sec\n",
      "EvaluatorHoldout: Processed 10511 (100.0%) in 13.56 sec. Users per second: 775\n"
     ]
    },
    {
     "name": "stderr",
     "output_type": "stream",
     "text": [
      "[I 2023-12-07 09:31:10,842] Trial 120 finished with value: 0.033089072974193785 and parameters: {'topK': 324, 'shrink': 2197, 'similarity': 'cosine', 'normalize': True, 'feature_weighting': 'TF-IDF'}. Best is trial 102 with value: 0.03490503901430594.\n"
     ]
    },
    {
     "name": "stdout",
     "output_type": "stream",
     "text": [
      "UserKNNCFRecommender: URM Detected 240 ( 1.9%) users with no interactions.\n",
      "UserKNNCFRecommender: URM Detected 123 ( 0.6%) items with no interactions.\n",
      "Similarity column 12638 (100.0%), 4536.60 column/sec. Elapsed time 2.79 sec\n",
      "EvaluatorHoldout: Processed 10511 (100.0%) in 14.11 sec. Users per second: 745\n"
     ]
    },
    {
     "name": "stderr",
     "output_type": "stream",
     "text": [
      "[I 2023-12-07 09:31:28,025] Trial 121 finished with value: 0.03475708365990025 and parameters: {'topK': 342, 'shrink': 51, 'similarity': 'cosine', 'normalize': True, 'feature_weighting': 'TF-IDF'}. Best is trial 102 with value: 0.03490503901430594.\n"
     ]
    },
    {
     "name": "stdout",
     "output_type": "stream",
     "text": [
      "UserKNNCFRecommender: URM Detected 240 ( 1.9%) users with no interactions.\n",
      "UserKNNCFRecommender: URM Detected 123 ( 0.6%) items with no interactions.\n",
      "Similarity column 12638 (100.0%), 4542.39 column/sec. Elapsed time 2.78 sec\n",
      "EvaluatorHoldout: Processed 10511 (100.0%) in 13.95 sec. Users per second: 753\n"
     ]
    },
    {
     "name": "stderr",
     "output_type": "stream",
     "text": [
      "[I 2023-12-07 09:31:45,039] Trial 122 finished with value: 0.0347168461460637 and parameters: {'topK': 357, 'shrink': 68, 'similarity': 'cosine', 'normalize': True, 'feature_weighting': 'TF-IDF'}. Best is trial 102 with value: 0.03490503901430594.\n"
     ]
    },
    {
     "name": "stdout",
     "output_type": "stream",
     "text": [
      "UserKNNCFRecommender: URM Detected 240 ( 1.9%) users with no interactions.\n",
      "UserKNNCFRecommender: URM Detected 123 ( 0.6%) items with no interactions.\n",
      "Similarity column 12638 (100.0%), 4554.39 column/sec. Elapsed time 2.77 sec\n",
      "EvaluatorHoldout: Processed 10511 (100.0%) in 14.09 sec. Users per second: 746\n"
     ]
    },
    {
     "name": "stderr",
     "output_type": "stream",
     "text": [
      "[I 2023-12-07 09:32:02,196] Trial 123 finished with value: 0.03471693297875441 and parameters: {'topK': 357, 'shrink': 0, 'similarity': 'cosine', 'normalize': True, 'feature_weighting': 'TF-IDF'}. Best is trial 102 with value: 0.03490503901430594.\n"
     ]
    },
    {
     "name": "stdout",
     "output_type": "stream",
     "text": [
      "UserKNNCFRecommender: URM Detected 240 ( 1.9%) users with no interactions.\n",
      "UserKNNCFRecommender: URM Detected 123 ( 0.6%) items with no interactions.\n",
      "Similarity column 12638 (100.0%), 4518.63 column/sec. Elapsed time 2.80 sec\n",
      "EvaluatorHoldout: Processed 10511 (100.0%) in 14.13 sec. Users per second: 744\n"
     ]
    },
    {
     "name": "stderr",
     "output_type": "stream",
     "text": [
      "[I 2023-12-07 09:32:19,436] Trial 124 finished with value: 0.03453808783844036 and parameters: {'topK': 380, 'shrink': 170, 'similarity': 'cosine', 'normalize': True, 'feature_weighting': 'TF-IDF'}. Best is trial 102 with value: 0.03490503901430594.\n"
     ]
    },
    {
     "name": "stdout",
     "output_type": "stream",
     "text": [
      "UserKNNCFRecommender: URM Detected 240 ( 1.9%) users with no interactions.\n",
      "UserKNNCFRecommender: URM Detected 123 ( 0.6%) items with no interactions.\n",
      "Similarity column 12638 (100.0%), 4462.12 column/sec. Elapsed time 2.83 sec\n",
      "EvaluatorHoldout: Processed 10511 (100.0%) in 14.33 sec. Users per second: 733\n"
     ]
    },
    {
     "name": "stderr",
     "output_type": "stream",
     "text": [
      "[I 2023-12-07 09:32:36,926] Trial 125 finished with value: 0.03470188827124461 and parameters: {'topK': 395, 'shrink': 3, 'similarity': 'cosine', 'normalize': True, 'feature_weighting': 'TF-IDF'}. Best is trial 102 with value: 0.03490503901430594.\n"
     ]
    },
    {
     "name": "stdout",
     "output_type": "stream",
     "text": [
      "UserKNNCFRecommender: URM Detected 240 ( 1.9%) users with no interactions.\n",
      "UserKNNCFRecommender: URM Detected 123 ( 0.6%) items with no interactions.\n",
      "Similarity column 12638 (100.0%), 4504.59 column/sec. Elapsed time 2.81 sec\n",
      "EvaluatorHoldout: Processed 10511 (100.0%) in 14.15 sec. Users per second: 743\n"
     ]
    },
    {
     "name": "stderr",
     "output_type": "stream",
     "text": [
      "[I 2023-12-07 09:32:54,195] Trial 126 finished with value: 0.03470718506538176 and parameters: {'topK': 367, 'shrink': 102, 'similarity': 'cosine', 'normalize': True, 'feature_weighting': 'TF-IDF'}. Best is trial 102 with value: 0.03490503901430594.\n"
     ]
    },
    {
     "name": "stdout",
     "output_type": "stream",
     "text": [
      "UserKNNCFRecommender: URM Detected 240 ( 1.9%) users with no interactions.\n",
      "UserKNNCFRecommender: URM Detected 123 ( 0.6%) items with no interactions.\n",
      "Similarity column 12638 (100.0%), 4466.56 column/sec. Elapsed time 2.83 sec\n",
      "EvaluatorHoldout: Processed 10511 (100.0%) in 13.36 sec. Users per second: 787\n"
     ]
    },
    {
     "name": "stderr",
     "output_type": "stream",
     "text": [
      "[I 2023-12-07 09:33:10,759] Trial 127 finished with value: 0.03177204757525416 and parameters: {'topK': 307, 'shrink': 216, 'similarity': 'tanimoto', 'normalize': True, 'feature_weighting': 'TF-IDF'}. Best is trial 102 with value: 0.03490503901430594.\n"
     ]
    },
    {
     "name": "stdout",
     "output_type": "stream",
     "text": [
      "UserKNNCFRecommender: URM Detected 240 ( 1.9%) users with no interactions.\n",
      "UserKNNCFRecommender: URM Detected 123 ( 0.6%) items with no interactions.\n",
      "Similarity column 12638 (100.0%), 4518.25 column/sec. Elapsed time 2.80 sec\n",
      "EvaluatorHoldout: Processed 10511 (100.0%) in 13.95 sec. Users per second: 753\n"
     ]
    },
    {
     "name": "stderr",
     "output_type": "stream",
     "text": [
      "[I 2023-12-07 09:33:27,802] Trial 128 finished with value: 0.034777345879525065 and parameters: {'topK': 348, 'shrink': 46, 'similarity': 'cosine', 'normalize': True, 'feature_weighting': 'TF-IDF'}. Best is trial 102 with value: 0.03490503901430594.\n"
     ]
    },
    {
     "name": "stdout",
     "output_type": "stream",
     "text": [
      "UserKNNCFRecommender: URM Detected 240 ( 1.9%) users with no interactions.\n",
      "UserKNNCFRecommender: URM Detected 123 ( 0.6%) items with no interactions.\n",
      "Similarity column 12638 (100.0%), 4463.05 column/sec. Elapsed time 2.83 sec\n",
      "EvaluatorHoldout: Processed 10511 (100.0%) in 13.88 sec. Users per second: 757\n"
     ]
    },
    {
     "name": "stderr",
     "output_type": "stream",
     "text": [
      "[I 2023-12-07 09:33:44,809] Trial 129 finished with value: 0.03462623057024209 and parameters: {'topK': 332, 'shrink': 143, 'similarity': 'cosine', 'normalize': True, 'feature_weighting': 'TF-IDF'}. Best is trial 102 with value: 0.03490503901430594.\n"
     ]
    },
    {
     "name": "stdout",
     "output_type": "stream",
     "text": [
      "UserKNNCFRecommender: URM Detected 240 ( 1.9%) users with no interactions.\n",
      "UserKNNCFRecommender: URM Detected 123 ( 0.6%) items with no interactions.\n",
      "Similarity column 12638 (100.0%), 763.41 column/sec. Elapsed time 16.55 sec\n",
      "EvaluatorHoldout: Processed 10511 (100.0%) in 12.29 sec. Users per second: 855\n"
     ]
    },
    {
     "name": "stderr",
     "output_type": "stream",
     "text": [
      "[I 2023-12-07 09:34:13,813] Trial 130 finished with value: 0.028903280463550864 and parameters: {'topK': 129, 'shrink': 76, 'similarity': 'euclidean', 'normalize': True, 'feature_weighting': 'TF-IDF'}. Best is trial 102 with value: 0.03490503901430594.\n"
     ]
    },
    {
     "name": "stdout",
     "output_type": "stream",
     "text": [
      "UserKNNCFRecommender: URM Detected 240 ( 1.9%) users with no interactions.\n",
      "UserKNNCFRecommender: URM Detected 123 ( 0.6%) items with no interactions.\n",
      "Similarity column 12638 (100.0%), 4508.56 column/sec. Elapsed time 2.80 sec\n",
      "EvaluatorHoldout: Processed 10511 (100.0%) in 14.02 sec. Users per second: 750\n"
     ]
    },
    {
     "name": "stderr",
     "output_type": "stream",
     "text": [
      "[I 2023-12-07 09:34:30,925] Trial 131 finished with value: 0.034691170096936 and parameters: {'topK': 351, 'shrink': 38, 'similarity': 'cosine', 'normalize': True, 'feature_weighting': 'TF-IDF'}. Best is trial 102 with value: 0.03490503901430594.\n"
     ]
    },
    {
     "name": "stdout",
     "output_type": "stream",
     "text": [
      "UserKNNCFRecommender: URM Detected 240 ( 1.9%) users with no interactions.\n",
      "UserKNNCFRecommender: URM Detected 123 ( 0.6%) items with no interactions.\n",
      "Similarity column 12638 (100.0%), 3879.72 column/sec. Elapsed time 3.26 sec\n",
      "EvaluatorHoldout: Processed 10511 (100.0%) in 14.21 sec. Users per second: 739\n"
     ]
    },
    {
     "name": "stderr",
     "output_type": "stream",
     "text": [
      "[I 2023-12-07 09:34:48,712] Trial 132 finished with value: 0.03482021480142547 and parameters: {'topK': 384, 'shrink': 7, 'similarity': 'cosine', 'normalize': True, 'feature_weighting': 'TF-IDF'}. Best is trial 102 with value: 0.03490503901430594.\n"
     ]
    },
    {
     "name": "stdout",
     "output_type": "stream",
     "text": [
      "UserKNNCFRecommender: URM Detected 240 ( 1.9%) users with no interactions.\n",
      "UserKNNCFRecommender: URM Detected 123 ( 0.6%) items with no interactions.\n",
      "Similarity column 12638 (100.0%), 4420.47 column/sec. Elapsed time 2.86 sec\n",
      "EvaluatorHoldout: Processed 10511 (100.0%) in 14.21 sec. Users per second: 740\n"
     ]
    },
    {
     "name": "stderr",
     "output_type": "stream",
     "text": [
      "[I 2023-12-07 09:35:06,107] Trial 133 finished with value: 0.03467427925091371 and parameters: {'topK': 384, 'shrink': 117, 'similarity': 'cosine', 'normalize': True, 'feature_weighting': 'TF-IDF'}. Best is trial 102 with value: 0.03490503901430594.\n"
     ]
    },
    {
     "name": "stdout",
     "output_type": "stream",
     "text": [
      "UserKNNCFRecommender: URM Detected 240 ( 1.9%) users with no interactions.\n",
      "UserKNNCFRecommender: URM Detected 123 ( 0.6%) items with no interactions.\n",
      "Similarity column 12638 (100.0%), 4504.14 column/sec. Elapsed time 2.81 sec\n",
      "EvaluatorHoldout: Processed 10511 (100.0%) in 14.18 sec. Users per second: 741\n"
     ]
    },
    {
     "name": "stderr",
     "output_type": "stream",
     "text": [
      "[I 2023-12-07 09:35:23,405] Trial 134 finished with value: 0.03460572672921692 and parameters: {'topK': 374, 'shrink': 54, 'similarity': 'cosine', 'normalize': True, 'feature_weighting': 'TF-IDF'}. Best is trial 102 with value: 0.03490503901430594.\n"
     ]
    },
    {
     "name": "stdout",
     "output_type": "stream",
     "text": [
      "UserKNNCFRecommender: URM Detected 240 ( 1.9%) users with no interactions.\n",
      "UserKNNCFRecommender: URM Detected 123 ( 0.6%) items with no interactions.\n",
      "Similarity column 12638 (100.0%), 4479.38 column/sec. Elapsed time 2.82 sec\n",
      "EvaluatorHoldout: Processed 10511 (100.0%) in 14.80 sec. Users per second: 710\n"
     ]
    },
    {
     "name": "stderr",
     "output_type": "stream",
     "text": [
      "[I 2023-12-07 09:35:41,359] Trial 135 finished with value: 0.03434596862244134 and parameters: {'topK': 402, 'shrink': 247, 'similarity': 'cosine', 'normalize': True, 'feature_weighting': 'TF-IDF'}. Best is trial 102 with value: 0.03490503901430594.\n"
     ]
    },
    {
     "name": "stdout",
     "output_type": "stream",
     "text": [
      "UserKNNCFRecommender: URM Detected 240 ( 1.9%) users with no interactions.\n",
      "UserKNNCFRecommender: URM Detected 123 ( 0.6%) items with no interactions.\n",
      "Similarity column 12638 (100.0%), 4201.79 column/sec. Elapsed time 3.01 sec\n",
      "EvaluatorHoldout: Processed 10511 (100.0%) in 13.28 sec. Users per second: 792\n"
     ]
    },
    {
     "name": "stderr",
     "output_type": "stream",
     "text": [
      "[I 2023-12-07 09:35:58,172] Trial 136 finished with value: 0.025458117950507023 and parameters: {'topK': 340, 'shrink': 1317, 'similarity': 'adjusted', 'normalize': True, 'feature_weighting': 'TF-IDF'}. Best is trial 102 with value: 0.03490503901430594.\n"
     ]
    },
    {
     "name": "stdout",
     "output_type": "stream",
     "text": [
      "UserKNNCFRecommender: URM Detected 240 ( 1.9%) users with no interactions.\n",
      "UserKNNCFRecommender: URM Detected 123 ( 0.6%) items with no interactions.\n",
      "Similarity column 12638 (100.0%), 4818.44 column/sec. Elapsed time 2.62 sec\n",
      "EvaluatorHoldout: Processed 10511 (100.0%) in 11.62 sec. Users per second: 904\n"
     ]
    },
    {
     "name": "stderr",
     "output_type": "stream",
     "text": [
      "[I 2023-12-07 09:36:12,863] Trial 137 finished with value: 0.015789713119891045 and parameters: {'topK': 364, 'shrink': 176, 'similarity': 'pearson', 'normalize': True, 'feature_weighting': 'TF-IDF'}. Best is trial 102 with value: 0.03490503901430594.\n"
     ]
    },
    {
     "name": "stdout",
     "output_type": "stream",
     "text": [
      "UserKNNCFRecommender: URM Detected 240 ( 1.9%) users with no interactions.\n",
      "UserKNNCFRecommender: URM Detected 123 ( 0.6%) items with no interactions.\n",
      "Similarity column 12638 (100.0%), 4619.32 column/sec. Elapsed time 2.74 sec\n",
      "EvaluatorHoldout: Processed 10511 (100.0%) in 14.09 sec. Users per second: 746\n"
     ]
    },
    {
     "name": "stderr",
     "output_type": "stream",
     "text": [
      "[I 2023-12-07 09:36:30,038] Trial 138 finished with value: 0.03165621276576509 and parameters: {'topK': 426, 'shrink': 1519, 'similarity': 'cosine', 'normalize': False, 'feature_weighting': 'TF-IDF'}. Best is trial 102 with value: 0.03490503901430594.\n"
     ]
    },
    {
     "name": "stdout",
     "output_type": "stream",
     "text": [
      "UserKNNCFRecommender: URM Detected 240 ( 1.9%) users with no interactions.\n",
      "UserKNNCFRecommender: URM Detected 123 ( 0.6%) items with no interactions.\n",
      "Similarity column 12638 (100.0%), 4482.94 column/sec. Elapsed time 2.82 sec\n",
      "EvaluatorHoldout: Processed 10511 (100.0%) in 14.05 sec. Users per second: 748\n"
     ]
    },
    {
     "name": "stderr",
     "output_type": "stream",
     "text": [
      "[I 2023-12-07 09:36:47,206] Trial 139 finished with value: 0.03140546260682342 and parameters: {'topK': 390, 'shrink': 99, 'similarity': 'cosine', 'normalize': True, 'feature_weighting': 'none'}. Best is trial 102 with value: 0.03490503901430594.\n"
     ]
    },
    {
     "name": "stdout",
     "output_type": "stream",
     "text": [
      "UserKNNCFRecommender: URM Detected 240 ( 1.9%) users with no interactions.\n",
      "UserKNNCFRecommender: URM Detected 123 ( 0.6%) items with no interactions.\n",
      "Similarity column 12638 (100.0%), 4554.27 column/sec. Elapsed time 2.77 sec\n",
      "EvaluatorHoldout: Processed 10511 (100.0%) in 14.75 sec. Users per second: 713\n"
     ]
    },
    {
     "name": "stderr",
     "output_type": "stream",
     "text": [
      "[I 2023-12-07 09:37:05,087] Trial 140 finished with value: 0.022401592134015335 and parameters: {'topK': 412, 'shrink': 47, 'similarity': 'cosine', 'normalize': True, 'feature_weighting': 'BM25'}. Best is trial 102 with value: 0.03490503901430594.\n"
     ]
    },
    {
     "name": "stdout",
     "output_type": "stream",
     "text": [
      "UserKNNCFRecommender: URM Detected 240 ( 1.9%) users with no interactions.\n",
      "UserKNNCFRecommender: URM Detected 123 ( 0.6%) items with no interactions.\n",
      "Similarity column 12638 (100.0%), 4494.85 column/sec. Elapsed time 2.81 sec\n",
      "EvaluatorHoldout: Processed 10511 (100.0%) in 14.36 sec. Users per second: 732\n"
     ]
    },
    {
     "name": "stderr",
     "output_type": "stream",
     "text": [
      "[I 2023-12-07 09:37:22,562] Trial 141 finished with value: 0.034722769645708 and parameters: {'topK': 355, 'shrink': 0, 'similarity': 'cosine', 'normalize': True, 'feature_weighting': 'TF-IDF'}. Best is trial 102 with value: 0.03490503901430594.\n"
     ]
    },
    {
     "name": "stdout",
     "output_type": "stream",
     "text": [
      "UserKNNCFRecommender: URM Detected 240 ( 1.9%) users with no interactions.\n",
      "UserKNNCFRecommender: URM Detected 123 ( 0.6%) items with no interactions.\n",
      "Similarity column 12638 (100.0%), 4558.11 column/sec. Elapsed time 2.77 sec\n",
      "EvaluatorHoldout: Processed 10511 (100.0%) in 13.91 sec. Users per second: 756\n"
     ]
    },
    {
     "name": "stderr",
     "output_type": "stream",
     "text": [
      "[I 2023-12-07 09:37:39,532] Trial 142 finished with value: 0.03463412856976788 and parameters: {'topK': 343, 'shrink': 2, 'similarity': 'cosine', 'normalize': True, 'feature_weighting': 'TF-IDF'}. Best is trial 102 with value: 0.03490503901430594.\n"
     ]
    },
    {
     "name": "stdout",
     "output_type": "stream",
     "text": [
      "UserKNNCFRecommender: URM Detected 240 ( 1.9%) users with no interactions.\n",
      "UserKNNCFRecommender: URM Detected 123 ( 0.6%) items with no interactions.\n",
      "Similarity column 12638 (100.0%), 4508.17 column/sec. Elapsed time 2.80 sec\n",
      "EvaluatorHoldout: Processed 10511 (100.0%) in 14.18 sec. Users per second: 741\n"
     ]
    },
    {
     "name": "stderr",
     "output_type": "stream",
     "text": [
      "[I 2023-12-07 09:37:56,829] Trial 143 finished with value: 0.034658521005205924 and parameters: {'topK': 377, 'shrink': 141, 'similarity': 'cosine', 'normalize': True, 'feature_weighting': 'TF-IDF'}. Best is trial 102 with value: 0.03490503901430594.\n"
     ]
    },
    {
     "name": "stdout",
     "output_type": "stream",
     "text": [
      "UserKNNCFRecommender: URM Detected 240 ( 1.9%) users with no interactions.\n",
      "UserKNNCFRecommender: URM Detected 123 ( 0.6%) items with no interactions.\n",
      "Similarity column 12638 (100.0%), 4544.31 column/sec. Elapsed time 2.78 sec\n",
      "EvaluatorHoldout: Processed 10511 (100.0%) in 13.84 sec. Users per second: 759\n"
     ]
    },
    {
     "name": "stderr",
     "output_type": "stream",
     "text": [
      "[I 2023-12-07 09:38:13,735] Trial 144 finished with value: 0.03475218705120759 and parameters: {'topK': 322, 'shrink': 81, 'similarity': 'cosine', 'normalize': True, 'feature_weighting': 'TF-IDF'}. Best is trial 102 with value: 0.03490503901430594.\n"
     ]
    },
    {
     "name": "stdout",
     "output_type": "stream",
     "text": [
      "UserKNNCFRecommender: URM Detected 240 ( 1.9%) users with no interactions.\n",
      "UserKNNCFRecommender: URM Detected 123 ( 0.6%) items with no interactions.\n",
      "Similarity column 12638 (100.0%), 4199.00 column/sec. Elapsed time 3.01 sec\n",
      "EvaluatorHoldout: Processed 10511 (100.0%) in 13.75 sec. Users per second: 764\n"
     ]
    },
    {
     "name": "stderr",
     "output_type": "stream",
     "text": [
      "[I 2023-12-07 09:38:30,790] Trial 145 finished with value: 0.034517047899932936 and parameters: {'topK': 319, 'shrink': 44, 'similarity': 'cosine', 'normalize': True, 'feature_weighting': 'TF-IDF'}. Best is trial 102 with value: 0.03490503901430594.\n"
     ]
    },
    {
     "name": "stdout",
     "output_type": "stream",
     "text": [
      "UserKNNCFRecommender: URM Detected 240 ( 1.9%) users with no interactions.\n",
      "UserKNNCFRecommender: URM Detected 123 ( 0.6%) items with no interactions.\n",
      "Similarity column 12638 (100.0%), 4501.19 column/sec. Elapsed time 2.81 sec\n",
      "EvaluatorHoldout: Processed 10511 (100.0%) in 14.01 sec. Users per second: 750\n"
     ]
    },
    {
     "name": "stderr",
     "output_type": "stream",
     "text": [
      "[I 2023-12-07 09:38:47,897] Trial 146 finished with value: 0.03369934822627288 and parameters: {'topK': 329, 'shrink': 820, 'similarity': 'cosine', 'normalize': True, 'feature_weighting': 'TF-IDF'}. Best is trial 102 with value: 0.03490503901430594.\n"
     ]
    },
    {
     "name": "stdout",
     "output_type": "stream",
     "text": [
      "UserKNNCFRecommender: URM Detected 240 ( 1.9%) users with no interactions.\n",
      "UserKNNCFRecommender: URM Detected 123 ( 0.6%) items with no interactions.\n",
      "Similarity column 12638 (100.0%), 4460.49 column/sec. Elapsed time 2.83 sec\n",
      "EvaluatorHoldout: Processed 10511 (100.0%) in 14.09 sec. Users per second: 746\n"
     ]
    },
    {
     "name": "stderr",
     "output_type": "stream",
     "text": [
      "[I 2023-12-07 09:39:05,122] Trial 147 finished with value: 0.03450910082106026 and parameters: {'topK': 363, 'shrink': 195, 'similarity': 'cosine', 'normalize': True, 'feature_weighting': 'TF-IDF'}. Best is trial 102 with value: 0.03490503901430594.\n"
     ]
    },
    {
     "name": "stdout",
     "output_type": "stream",
     "text": [
      "UserKNNCFRecommender: URM Detected 240 ( 1.9%) users with no interactions.\n",
      "UserKNNCFRecommender: URM Detected 123 ( 0.6%) items with no interactions.\n",
      "Similarity column 12638 (100.0%), 4610.36 column/sec. Elapsed time 2.74 sec\n",
      "EvaluatorHoldout: Processed 10511 (100.0%) in 14.20 sec. Users per second: 740\n"
     ]
    },
    {
     "name": "stderr",
     "output_type": "stream",
     "text": [
      "[I 2023-12-07 09:39:22,460] Trial 148 finished with value: 0.03220900855188782 and parameters: {'topK': 352, 'shrink': 96, 'similarity': 'jaccard', 'normalize': True, 'feature_weighting': 'TF-IDF'}. Best is trial 102 with value: 0.03490503901430594.\n"
     ]
    },
    {
     "name": "stdout",
     "output_type": "stream",
     "text": [
      "UserKNNCFRecommender: URM Detected 240 ( 1.9%) users with no interactions.\n",
      "UserKNNCFRecommender: URM Detected 123 ( 0.6%) items with no interactions.\n",
      "Similarity column 12638 (100.0%), 4597.12 column/sec. Elapsed time 2.75 sec\n",
      "EvaluatorHoldout: Processed 10511 (100.0%) in 13.61 sec. Users per second: 772\n"
     ]
    },
    {
     "name": "stderr",
     "output_type": "stream",
     "text": [
      "[I 2023-12-07 09:39:39,102] Trial 149 finished with value: 0.03336716410472521 and parameters: {'topK': 309, 'shrink': 1802, 'similarity': 'cosine', 'normalize': True, 'feature_weighting': 'TF-IDF'}. Best is trial 102 with value: 0.03490503901430594.\n"
     ]
    },
    {
     "name": "stdout",
     "output_type": "stream",
     "text": [
      "UserKNNCFRecommender: URM Detected 240 ( 1.9%) users with no interactions.\n",
      "UserKNNCFRecommender: URM Detected 123 ( 0.6%) items with no interactions.\n",
      "Similarity column 12638 (100.0%), 4490.22 column/sec. Elapsed time 2.81 sec\n",
      "EvaluatorHoldout: Processed 10511 (100.0%) in 13.51 sec. Users per second: 778\n"
     ]
    },
    {
     "name": "stderr",
     "output_type": "stream",
     "text": [
      "[I 2023-12-07 09:39:55,697] Trial 150 finished with value: 0.03450299233003114 and parameters: {'topK': 296, 'shrink': 4, 'similarity': 'cosine', 'normalize': True, 'feature_weighting': 'TF-IDF'}. Best is trial 102 with value: 0.03490503901430594.\n"
     ]
    },
    {
     "name": "stdout",
     "output_type": "stream",
     "text": [
      "UserKNNCFRecommender: URM Detected 240 ( 1.9%) users with no interactions.\n",
      "UserKNNCFRecommender: URM Detected 123 ( 0.6%) items with no interactions.\n",
      "Similarity column 12638 (100.0%), 4525.26 column/sec. Elapsed time 2.79 sec\n",
      "EvaluatorHoldout: Processed 10511 (100.0%) in 14.14 sec. Users per second: 743\n"
     ]
    },
    {
     "name": "stderr",
     "output_type": "stream",
     "text": [
      "[I 2023-12-07 09:40:12,937] Trial 151 finished with value: 0.034674215070229275 and parameters: {'topK': 373, 'shrink': 72, 'similarity': 'cosine', 'normalize': True, 'feature_weighting': 'TF-IDF'}. Best is trial 102 with value: 0.03490503901430594.\n"
     ]
    },
    {
     "name": "stdout",
     "output_type": "stream",
     "text": [
      "UserKNNCFRecommender: URM Detected 240 ( 1.9%) users with no interactions.\n",
      "UserKNNCFRecommender: URM Detected 123 ( 0.6%) items with no interactions.\n",
      "Similarity column 12638 (100.0%), 4522.84 column/sec. Elapsed time 2.79 sec\n",
      "EvaluatorHoldout: Processed 10511 (100.0%) in 14.05 sec. Users per second: 748\n"
     ]
    },
    {
     "name": "stderr",
     "output_type": "stream",
     "text": [
      "[I 2023-12-07 09:40:30,078] Trial 152 finished with value: 0.03465454557810243 and parameters: {'topK': 347, 'shrink': 138, 'similarity': 'cosine', 'normalize': True, 'feature_weighting': 'TF-IDF'}. Best is trial 102 with value: 0.03490503901430594.\n"
     ]
    },
    {
     "name": "stdout",
     "output_type": "stream",
     "text": [
      "UserKNNCFRecommender: URM Detected 240 ( 1.9%) users with no interactions.\n",
      "UserKNNCFRecommender: URM Detected 123 ( 0.6%) items with no interactions.\n",
      "Similarity column 12638 (100.0%), 4520.03 column/sec. Elapsed time 2.80 sec\n",
      "EvaluatorHoldout: Processed 10511 (100.0%) in 13.96 sec. Users per second: 753\n"
     ]
    },
    {
     "name": "stderr",
     "output_type": "stream",
     "text": [
      "[I 2023-12-07 09:40:47,111] Trial 153 finished with value: 0.03476280329148806 and parameters: {'topK': 336, 'shrink': 79, 'similarity': 'cosine', 'normalize': True, 'feature_weighting': 'TF-IDF'}. Best is trial 102 with value: 0.03490503901430594.\n"
     ]
    },
    {
     "name": "stdout",
     "output_type": "stream",
     "text": [
      "UserKNNCFRecommender: URM Detected 240 ( 1.9%) users with no interactions.\n",
      "UserKNNCFRecommender: URM Detected 123 ( 0.6%) items with no interactions.\n",
      "Similarity column 12638 (100.0%), 4561.03 column/sec. Elapsed time 2.77 sec\n",
      "EvaluatorHoldout: Processed 10511 (100.0%) in 13.91 sec. Users per second: 756\n"
     ]
    },
    {
     "name": "stderr",
     "output_type": "stream",
     "text": [
      "[I 2023-12-07 09:41:04,077] Trial 154 finished with value: 0.03470906140656933 and parameters: {'topK': 333, 'shrink': 41, 'similarity': 'cosine', 'normalize': True, 'feature_weighting': 'TF-IDF'}. Best is trial 102 with value: 0.03490503901430594.\n"
     ]
    },
    {
     "name": "stdout",
     "output_type": "stream",
     "text": [
      "UserKNNCFRecommender: URM Detected 240 ( 1.9%) users with no interactions.\n",
      "UserKNNCFRecommender: URM Detected 123 ( 0.6%) items with no interactions.\n",
      "Similarity column 12638 (100.0%), 4520.00 column/sec. Elapsed time 2.80 sec\n",
      "EvaluatorHoldout: Processed 10511 (100.0%) in 14.13 sec. Users per second: 744\n"
     ]
    },
    {
     "name": "stderr",
     "output_type": "stream",
     "text": [
      "[I 2023-12-07 09:41:21,315] Trial 155 finished with value: 0.03481729646794863 and parameters: {'topK': 382, 'shrink': 1, 'similarity': 'cosine', 'normalize': True, 'feature_weighting': 'TF-IDF'}. Best is trial 102 with value: 0.03490503901430594.\n"
     ]
    },
    {
     "name": "stdout",
     "output_type": "stream",
     "text": [
      "UserKNNCFRecommender: URM Detected 240 ( 1.9%) users with no interactions.\n",
      "UserKNNCFRecommender: URM Detected 123 ( 0.6%) items with no interactions.\n",
      "Similarity column 12638 (100.0%), 4465.14 column/sec. Elapsed time 2.83 sec\n",
      "EvaluatorHoldout: Processed 10511 (100.0%) in 14.65 sec. Users per second: 718\n"
     ]
    },
    {
     "name": "stderr",
     "output_type": "stream",
     "text": [
      "[I 2023-12-07 09:41:39,127] Trial 156 finished with value: 0.03460067533181458 and parameters: {'topK': 397, 'shrink': 137, 'similarity': 'cosine', 'normalize': True, 'feature_weighting': 'TF-IDF'}. Best is trial 102 with value: 0.03490503901430594.\n"
     ]
    },
    {
     "name": "stdout",
     "output_type": "stream",
     "text": [
      "UserKNNCFRecommender: URM Detected 240 ( 1.9%) users with no interactions.\n",
      "UserKNNCFRecommender: URM Detected 123 ( 0.6%) items with no interactions.\n",
      "Similarity column 12638 (100.0%), 4443.68 column/sec. Elapsed time 2.84 sec\n",
      "EvaluatorHoldout: Processed 10511 (100.0%) in 14.19 sec. Users per second: 741\n"
     ]
    },
    {
     "name": "stderr",
     "output_type": "stream",
     "text": [
      "[I 2023-12-07 09:41:56,488] Trial 157 finished with value: 0.03457918990385029 and parameters: {'topK': 386, 'shrink': 89, 'similarity': 'cosine', 'normalize': True, 'feature_weighting': 'TF-IDF'}. Best is trial 102 with value: 0.03490503901430594.\n"
     ]
    },
    {
     "name": "stdout",
     "output_type": "stream",
     "text": [
      "UserKNNCFRecommender: URM Detected 240 ( 1.9%) users with no interactions.\n",
      "UserKNNCFRecommender: URM Detected 123 ( 0.6%) items with no interactions.\n",
      "Similarity column 12638 (100.0%), 4409.15 column/sec. Elapsed time 2.87 sec\n",
      "EvaluatorHoldout: Processed 10511 (100.0%) in 14.17 sec. Users per second: 742\n"
     ]
    },
    {
     "name": "stderr",
     "output_type": "stream",
     "text": [
      "[I 2023-12-07 09:42:13,839] Trial 158 finished with value: 0.034497385958474784 and parameters: {'topK': 368, 'shrink': 181, 'similarity': 'cosine', 'normalize': True, 'feature_weighting': 'TF-IDF'}. Best is trial 102 with value: 0.03490503901430594.\n"
     ]
    },
    {
     "name": "stdout",
     "output_type": "stream",
     "text": [
      "UserKNNCFRecommender: URM Detected 240 ( 1.9%) users with no interactions.\n",
      "UserKNNCFRecommender: URM Detected 123 ( 0.6%) items with no interactions.\n",
      "Similarity column 12638 (100.0%), 4578.68 column/sec. Elapsed time 2.76 sec\n",
      "EvaluatorHoldout: Processed 10511 (100.0%) in 13.95 sec. Users per second: 754\n"
     ]
    },
    {
     "name": "stderr",
     "output_type": "stream",
     "text": [
      "[I 2023-12-07 09:42:30,985] Trial 159 finished with value: 0.03164858281498028 and parameters: {'topK': 403, 'shrink': 224, 'similarity': 'tanimoto', 'normalize': True, 'feature_weighting': 'TF-IDF'}. Best is trial 102 with value: 0.03490503901430594.\n"
     ]
    },
    {
     "name": "stdout",
     "output_type": "stream",
     "text": [
      "UserKNNCFRecommender: URM Detected 240 ( 1.9%) users with no interactions.\n",
      "UserKNNCFRecommender: URM Detected 123 ( 0.6%) items with no interactions.\n",
      "Similarity column 12638 (100.0%), 4488.50 column/sec. Elapsed time 2.82 sec\n",
      "EvaluatorHoldout: Processed 10511 (100.0%) in 14.23 sec. Users per second: 738\n"
     ]
    },
    {
     "name": "stderr",
     "output_type": "stream",
     "text": [
      "[I 2023-12-07 09:42:48,360] Trial 160 finished with value: 0.03461926507830855 and parameters: {'topK': 392, 'shrink': 92, 'similarity': 'cosine', 'normalize': True, 'feature_weighting': 'TF-IDF'}. Best is trial 102 with value: 0.03490503901430594.\n"
     ]
    },
    {
     "name": "stdout",
     "output_type": "stream",
     "text": [
      "UserKNNCFRecommender: URM Detected 240 ( 1.9%) users with no interactions.\n",
      "UserKNNCFRecommender: URM Detected 123 ( 0.6%) items with no interactions.\n",
      "Similarity column 12638 (100.0%), 4490.83 column/sec. Elapsed time 2.81 sec\n",
      "EvaluatorHoldout: Processed 10511 (100.0%) in 14.00 sec. Users per second: 751\n"
     ]
    },
    {
     "name": "stderr",
     "output_type": "stream",
     "text": [
      "[I 2023-12-07 09:43:05,474] Trial 161 finished with value: 0.034681369328881925 and parameters: {'topK': 358, 'shrink': 9, 'similarity': 'cosine', 'normalize': True, 'feature_weighting': 'TF-IDF'}. Best is trial 102 with value: 0.03490503901430594.\n"
     ]
    },
    {
     "name": "stdout",
     "output_type": "stream",
     "text": [
      "UserKNNCFRecommender: URM Detected 240 ( 1.9%) users with no interactions.\n",
      "UserKNNCFRecommender: URM Detected 123 ( 0.6%) items with no interactions.\n",
      "Similarity column 12638 (100.0%), 4529.46 column/sec. Elapsed time 2.79 sec\n",
      "EvaluatorHoldout: Processed 10511 (100.0%) in 14.27 sec. Users per second: 737\n"
     ]
    },
    {
     "name": "stderr",
     "output_type": "stream",
     "text": [
      "[I 2023-12-07 09:43:22,836] Trial 162 finished with value: 0.03483334541440379 and parameters: {'topK': 381, 'shrink': 1, 'similarity': 'cosine', 'normalize': True, 'feature_weighting': 'TF-IDF'}. Best is trial 102 with value: 0.03490503901430594.\n"
     ]
    },
    {
     "name": "stdout",
     "output_type": "stream",
     "text": [
      "UserKNNCFRecommender: URM Detected 240 ( 1.9%) users with no interactions.\n",
      "UserKNNCFRecommender: URM Detected 123 ( 0.6%) items with no interactions.\n",
      "Similarity column 12638 (100.0%), 4458.03 column/sec. Elapsed time 2.83 sec\n",
      "EvaluatorHoldout: Processed 10511 (100.0%) in 14.28 sec. Users per second: 736\n"
     ]
    },
    {
     "name": "stderr",
     "output_type": "stream",
     "text": [
      "[I 2023-12-07 09:43:40,274] Trial 163 finished with value: 0.03452477600941165 and parameters: {'topK': 381, 'shrink': 56, 'similarity': 'cosine', 'normalize': True, 'feature_weighting': 'TF-IDF'}. Best is trial 102 with value: 0.03490503901430594.\n"
     ]
    },
    {
     "name": "stdout",
     "output_type": "stream",
     "text": [
      "UserKNNCFRecommender: URM Detected 240 ( 1.9%) users with no interactions.\n",
      "UserKNNCFRecommender: URM Detected 123 ( 0.6%) items with no interactions.\n",
      "Similarity column 12638 (100.0%), 4470.01 column/sec. Elapsed time 2.83 sec\n",
      "EvaluatorHoldout: Processed 10511 (100.0%) in 14.10 sec. Users per second: 745\n"
     ]
    },
    {
     "name": "stderr",
     "output_type": "stream",
     "text": [
      "[I 2023-12-07 09:43:57,518] Trial 164 finished with value: 0.03345722093105844 and parameters: {'topK': 371, 'shrink': 996, 'similarity': 'cosine', 'normalize': True, 'feature_weighting': 'TF-IDF'}. Best is trial 102 with value: 0.03490503901430594.\n"
     ]
    },
    {
     "name": "stdout",
     "output_type": "stream",
     "text": [
      "UserKNNCFRecommender: URM Detected 240 ( 1.9%) users with no interactions.\n",
      "UserKNNCFRecommender: URM Detected 123 ( 0.6%) items with no interactions.\n",
      "Similarity column 12638 (100.0%), 530.20 column/sec. Elapsed time 23.84 sec\n",
      "EvaluatorHoldout: Processed 10511 (100.0%) in 14.23 sec. Users per second: 738\n"
     ]
    },
    {
     "name": "stderr",
     "output_type": "stream",
     "text": [
      "[I 2023-12-07 09:44:35,881] Trial 165 finished with value: 0.02775416683655687 and parameters: {'topK': 383, 'shrink': 129, 'similarity': 'euclidean', 'normalize': True, 'feature_weighting': 'TF-IDF'}. Best is trial 102 with value: 0.03490503901430594.\n"
     ]
    },
    {
     "name": "stdout",
     "output_type": "stream",
     "text": [
      "UserKNNCFRecommender: URM Detected 240 ( 1.9%) users with no interactions.\n",
      "UserKNNCFRecommender: URM Detected 123 ( 0.6%) items with no interactions.\n",
      "Similarity column 12638 (100.0%), 4719.58 column/sec. Elapsed time 2.68 sec\n",
      "EvaluatorHoldout: Processed 10511 (100.0%) in 13.43 sec. Users per second: 783\n"
     ]
    },
    {
     "name": "stderr",
     "output_type": "stream",
     "text": [
      "[I 2023-12-07 09:44:52,268] Trial 166 finished with value: 0.03167789828645163 and parameters: {'topK': 322, 'shrink': 52, 'similarity': 'cosine', 'normalize': False, 'feature_weighting': 'TF-IDF'}. Best is trial 102 with value: 0.03490503901430594.\n"
     ]
    },
    {
     "name": "stdout",
     "output_type": "stream",
     "text": [
      "UserKNNCFRecommender: URM Detected 240 ( 1.9%) users with no interactions.\n",
      "UserKNNCFRecommender: URM Detected 123 ( 0.6%) items with no interactions.\n",
      "Similarity column 12638 (100.0%), 4460.70 column/sec. Elapsed time 2.83 sec\n",
      "EvaluatorHoldout: Processed 10511 (100.0%) in 14.40 sec. Users per second: 730\n"
     ]
    },
    {
     "name": "stderr",
     "output_type": "stream",
     "text": [
      "[I 2023-12-07 09:45:09,848] Trial 167 finished with value: 0.03454876448407089 and parameters: {'topK': 416, 'shrink': 0, 'similarity': 'cosine', 'normalize': True, 'feature_weighting': 'TF-IDF'}. Best is trial 102 with value: 0.03490503901430594.\n"
     ]
    },
    {
     "name": "stdout",
     "output_type": "stream",
     "text": [
      "UserKNNCFRecommender: URM Detected 240 ( 1.9%) users with no interactions.\n",
      "UserKNNCFRecommender: URM Detected 123 ( 0.6%) items with no interactions.\n",
      "Similarity column 12638 (100.0%), 4093.88 column/sec. Elapsed time 3.09 sec\n",
      "EvaluatorHoldout: Processed 10511 (100.0%) in 13.31 sec. Users per second: 790\n"
     ]
    },
    {
     "name": "stderr",
     "output_type": "stream",
     "text": [
      "[I 2023-12-07 09:45:26,785] Trial 168 finished with value: 0.026029865915224295 and parameters: {'topK': 338, 'shrink': 101, 'similarity': 'adjusted', 'normalize': True, 'feature_weighting': 'TF-IDF'}. Best is trial 102 with value: 0.03490503901430594.\n"
     ]
    },
    {
     "name": "stdout",
     "output_type": "stream",
     "text": [
      "UserKNNCFRecommender: URM Detected 240 ( 1.9%) users with no interactions.\n",
      "UserKNNCFRecommender: URM Detected 123 ( 0.6%) items with no interactions.\n",
      "Similarity column 12638 (100.0%), 4580.27 column/sec. Elapsed time 2.76 sec\n",
      "EvaluatorHoldout: Processed 10511 (100.0%) in 14.29 sec. Users per second: 735\n"
     ]
    },
    {
     "name": "stderr",
     "output_type": "stream",
     "text": [
      "[I 2023-12-07 09:45:44,156] Trial 169 finished with value: 0.0219529464974713 and parameters: {'topK': 359, 'shrink': 174, 'similarity': 'cosine', 'normalize': True, 'feature_weighting': 'BM25'}. Best is trial 102 with value: 0.03490503901430594.\n"
     ]
    },
    {
     "name": "stdout",
     "output_type": "stream",
     "text": [
      "UserKNNCFRecommender: URM Detected 240 ( 1.9%) users with no interactions.\n",
      "UserKNNCFRecommender: URM Detected 123 ( 0.6%) items with no interactions.\n",
      "Similarity column 12638 (100.0%), 4498.20 column/sec. Elapsed time 2.81 sec\n",
      "EvaluatorHoldout: Processed 10511 (100.0%) in 14.36 sec. Users per second: 732\n"
     ]
    },
    {
     "name": "stderr",
     "output_type": "stream",
     "text": [
      "[I 2023-12-07 09:46:01,647] Trial 170 finished with value: 0.0346043449568333 and parameters: {'topK': 401, 'shrink': 55, 'similarity': 'cosine', 'normalize': True, 'feature_weighting': 'TF-IDF'}. Best is trial 102 with value: 0.03490503901430594.\n"
     ]
    },
    {
     "name": "stdout",
     "output_type": "stream",
     "text": [
      "UserKNNCFRecommender: URM Detected 240 ( 1.9%) users with no interactions.\n",
      "UserKNNCFRecommender: URM Detected 123 ( 0.6%) items with no interactions.\n",
      "Similarity column 12638 (100.0%), 4494.73 column/sec. Elapsed time 2.81 sec\n",
      "EvaluatorHoldout: Processed 10511 (100.0%) in 14.07 sec. Users per second: 747\n"
     ]
    },
    {
     "name": "stderr",
     "output_type": "stream",
     "text": [
      "[I 2023-12-07 09:46:18,834] Trial 171 finished with value: 0.034706833959284256 and parameters: {'topK': 352, 'shrink': 3, 'similarity': 'cosine', 'normalize': True, 'feature_weighting': 'TF-IDF'}. Best is trial 102 with value: 0.03490503901430594.\n"
     ]
    },
    {
     "name": "stdout",
     "output_type": "stream",
     "text": [
      "UserKNNCFRecommender: URM Detected 240 ( 1.9%) users with no interactions.\n",
      "UserKNNCFRecommender: URM Detected 123 ( 0.6%) items with no interactions.\n",
      "Similarity column 12638 (100.0%), 4478.26 column/sec. Elapsed time 2.82 sec\n",
      "EvaluatorHoldout: Processed 10511 (100.0%) in 14.12 sec. Users per second: 745\n"
     ]
    },
    {
     "name": "stderr",
     "output_type": "stream",
     "text": [
      "[I 2023-12-07 09:46:36,076] Trial 172 finished with value: 0.034624165462335404 and parameters: {'topK': 365, 'shrink': 2, 'similarity': 'cosine', 'normalize': True, 'feature_weighting': 'TF-IDF'}. Best is trial 102 with value: 0.03490503901430594.\n"
     ]
    },
    {
     "name": "stdout",
     "output_type": "stream",
     "text": [
      "UserKNNCFRecommender: URM Detected 240 ( 1.9%) users with no interactions.\n",
      "UserKNNCFRecommender: URM Detected 123 ( 0.6%) items with no interactions.\n",
      "Similarity column 12638 (100.0%), 4431.08 column/sec. Elapsed time 2.85 sec\n",
      "EvaluatorHoldout: Processed 10511 (100.0%) in 14.43 sec. Users per second: 728\n"
     ]
    },
    {
     "name": "stderr",
     "output_type": "stream",
     "text": [
      "[I 2023-12-07 09:46:53,684] Trial 173 finished with value: 0.03460194006883245 and parameters: {'topK': 377, 'shrink': 81, 'similarity': 'cosine', 'normalize': True, 'feature_weighting': 'TF-IDF'}. Best is trial 102 with value: 0.03490503901430594.\n"
     ]
    },
    {
     "name": "stdout",
     "output_type": "stream",
     "text": [
      "UserKNNCFRecommender: URM Detected 240 ( 1.9%) users with no interactions.\n",
      "UserKNNCFRecommender: URM Detected 123 ( 0.6%) items with no interactions.\n",
      "Similarity column 12638 (100.0%), 4858.86 column/sec. Elapsed time 2.60 sec\n",
      "EvaluatorHoldout: Processed 10511 (100.0%) in 11.49 sec. Users per second: 915\n"
     ]
    },
    {
     "name": "stderr",
     "output_type": "stream",
     "text": [
      "[I 2023-12-07 09:47:08,210] Trial 174 finished with value: 0.015756297635281517 and parameters: {'topK': 348, 'shrink': 129, 'similarity': 'pearson', 'normalize': True, 'feature_weighting': 'TF-IDF'}. Best is trial 102 with value: 0.03490503901430594.\n"
     ]
    },
    {
     "name": "stdout",
     "output_type": "stream",
     "text": [
      "UserKNNCFRecommender: URM Detected 240 ( 1.9%) users with no interactions.\n",
      "UserKNNCFRecommender: URM Detected 123 ( 0.6%) items with no interactions.\n",
      "Similarity column 12638 (100.0%), 4420.92 column/sec. Elapsed time 2.86 sec\n",
      "EvaluatorHoldout: Processed 10511 (100.0%) in 14.30 sec. Users per second: 735\n"
     ]
    },
    {
     "name": "stderr",
     "output_type": "stream",
     "text": [
      "[I 2023-12-07 09:47:25,702] Trial 175 finished with value: 0.034585898673045984 and parameters: {'topK': 387, 'shrink': 58, 'similarity': 'cosine', 'normalize': True, 'feature_weighting': 'TF-IDF'}. Best is trial 102 with value: 0.03490503901430594.\n"
     ]
    },
    {
     "name": "stdout",
     "output_type": "stream",
     "text": [
      "UserKNNCFRecommender: URM Detected 240 ( 1.9%) users with no interactions.\n",
      "UserKNNCFRecommender: URM Detected 123 ( 0.6%) items with no interactions.\n",
      "Similarity column 12638 (100.0%), 4513.74 column/sec. Elapsed time 2.80 sec\n",
      "EvaluatorHoldout: Processed 10511 (100.0%) in 13.81 sec. Users per second: 761\n"
     ]
    },
    {
     "name": "stderr",
     "output_type": "stream",
     "text": [
      "[I 2023-12-07 09:47:42,605] Trial 176 finished with value: 0.03465643702062745 and parameters: {'topK': 329, 'shrink': 40, 'similarity': 'cosine', 'normalize': True, 'feature_weighting': 'TF-IDF'}. Best is trial 102 with value: 0.03490503901430594.\n"
     ]
    },
    {
     "name": "stdout",
     "output_type": "stream",
     "text": [
      "UserKNNCFRecommender: URM Detected 240 ( 1.9%) users with no interactions.\n",
      "UserKNNCFRecommender: URM Detected 123 ( 0.6%) items with no interactions.\n",
      "Similarity column 12638 (100.0%), 4500.65 column/sec. Elapsed time 2.81 sec\n",
      "EvaluatorHoldout: Processed 10511 (100.0%) in 13.73 sec. Users per second: 766\n"
     ]
    },
    {
     "name": "stderr",
     "output_type": "stream",
     "text": [
      "[I 2023-12-07 09:47:59,422] Trial 177 finished with value: 0.03150012534110182 and parameters: {'topK': 359, 'shrink': 104, 'similarity': 'cosine', 'normalize': True, 'feature_weighting': 'none'}. Best is trial 102 with value: 0.03490503901430594.\n"
     ]
    },
    {
     "name": "stdout",
     "output_type": "stream",
     "text": [
      "UserKNNCFRecommender: URM Detected 240 ( 1.9%) users with no interactions.\n",
      "UserKNNCFRecommender: URM Detected 123 ( 0.6%) items with no interactions.\n",
      "Similarity column 12638 (100.0%), 4507.24 column/sec. Elapsed time 2.80 sec\n",
      "EvaluatorHoldout: Processed 10511 (100.0%) in 13.54 sec. Users per second: 776\n"
     ]
    },
    {
     "name": "stderr",
     "output_type": "stream",
     "text": [
      "[I 2023-12-07 09:48:16,044] Trial 178 finished with value: 0.03461845715675078 and parameters: {'topK': 314, 'shrink': 1, 'similarity': 'cosine', 'normalize': True, 'feature_weighting': 'TF-IDF'}. Best is trial 102 with value: 0.03490503901430594.\n"
     ]
    },
    {
     "name": "stdout",
     "output_type": "stream",
     "text": [
      "UserKNNCFRecommender: URM Detected 240 ( 1.9%) users with no interactions.\n",
      "UserKNNCFRecommender: URM Detected 123 ( 0.6%) items with no interactions.\n",
      "Similarity column 12638 (100.0%), 4363.51 column/sec. Elapsed time 2.90 sec\n",
      "EvaluatorHoldout: Processed 10511 (100.0%) in 14.19 sec. Users per second: 741\n"
     ]
    },
    {
     "name": "stderr",
     "output_type": "stream",
     "text": [
      "[I 2023-12-07 09:48:33,452] Trial 179 finished with value: 0.03466489754497613 and parameters: {'topK': 372, 'shrink': 162, 'similarity': 'cosine', 'normalize': True, 'feature_weighting': 'TF-IDF'}. Best is trial 102 with value: 0.03490503901430594.\n"
     ]
    },
    {
     "name": "stdout",
     "output_type": "stream",
     "text": [
      "UserKNNCFRecommender: URM Detected 240 ( 1.9%) users with no interactions.\n",
      "UserKNNCFRecommender: URM Detected 123 ( 0.6%) items with no interactions.\n",
      "Similarity column 12638 (100.0%), 4517.32 column/sec. Elapsed time 2.80 sec\n",
      "EvaluatorHoldout: Processed 10511 (100.0%) in 14.08 sec. Users per second: 747\n"
     ]
    },
    {
     "name": "stderr",
     "output_type": "stream",
     "text": [
      "[I 2023-12-07 09:48:50,624] Trial 180 finished with value: 0.034691551405708496 and parameters: {'topK': 341, 'shrink': 94, 'similarity': 'cosine', 'normalize': True, 'feature_weighting': 'TF-IDF'}. Best is trial 102 with value: 0.03490503901430594.\n"
     ]
    },
    {
     "name": "stdout",
     "output_type": "stream",
     "text": [
      "UserKNNCFRecommender: URM Detected 240 ( 1.9%) users with no interactions.\n",
      "UserKNNCFRecommender: URM Detected 123 ( 0.6%) items with no interactions.\n",
      "Similarity column 12638 (100.0%), 4542.49 column/sec. Elapsed time 2.78 sec\n",
      "EvaluatorHoldout: Processed 10511 (100.0%) in 13.92 sec. Users per second: 755\n"
     ]
    },
    {
     "name": "stderr",
     "output_type": "stream",
     "text": [
      "[I 2023-12-07 09:49:07,615] Trial 181 finished with value: 0.034721682349406216 and parameters: {'topK': 350, 'shrink': 56, 'similarity': 'cosine', 'normalize': True, 'feature_weighting': 'TF-IDF'}. Best is trial 102 with value: 0.03490503901430594.\n"
     ]
    },
    {
     "name": "stdout",
     "output_type": "stream",
     "text": [
      "UserKNNCFRecommender: URM Detected 240 ( 1.9%) users with no interactions.\n",
      "UserKNNCFRecommender: URM Detected 123 ( 0.6%) items with no interactions.\n",
      "Similarity column 12638 (100.0%), 4516.85 column/sec. Elapsed time 2.80 sec\n",
      "EvaluatorHoldout: Processed 10511 (100.0%) in 14.07 sec. Users per second: 747\n"
     ]
    },
    {
     "name": "stderr",
     "output_type": "stream",
     "text": [
      "[I 2023-12-07 09:49:24,778] Trial 182 finished with value: 0.033489987058154196 and parameters: {'topK': 352, 'shrink': 1144, 'similarity': 'cosine', 'normalize': True, 'feature_weighting': 'TF-IDF'}. Best is trial 102 with value: 0.03490503901430594.\n"
     ]
    },
    {
     "name": "stdout",
     "output_type": "stream",
     "text": [
      "UserKNNCFRecommender: URM Detected 240 ( 1.9%) users with no interactions.\n",
      "UserKNNCFRecommender: URM Detected 123 ( 0.6%) items with no interactions.\n",
      "Similarity column 12638 (100.0%), 4553.05 column/sec. Elapsed time 2.78 sec\n",
      "EvaluatorHoldout: Processed 10511 (100.0%) in 14.09 sec. Users per second: 746\n"
     ]
    },
    {
     "name": "stderr",
     "output_type": "stream",
     "text": [
      "[I 2023-12-07 09:49:41,946] Trial 183 finished with value: 0.03470269996813668 and parameters: {'topK': 364, 'shrink': 57, 'similarity': 'cosine', 'normalize': True, 'feature_weighting': 'TF-IDF'}. Best is trial 102 with value: 0.03490503901430594.\n"
     ]
    },
    {
     "name": "stdout",
     "output_type": "stream",
     "text": [
      "UserKNNCFRecommender: URM Detected 240 ( 1.9%) users with no interactions.\n",
      "UserKNNCFRecommender: URM Detected 123 ( 0.6%) items with no interactions.\n",
      "Similarity column 12638 (100.0%), 4525.96 column/sec. Elapsed time 2.79 sec\n",
      "EvaluatorHoldout: Processed 10511 (100.0%) in 14.04 sec. Users per second: 749\n"
     ]
    },
    {
     "name": "stderr",
     "output_type": "stream",
     "text": [
      "[I 2023-12-07 09:49:59,067] Trial 184 finished with value: 0.034625226331296714 and parameters: {'topK': 334, 'shrink': 134, 'similarity': 'cosine', 'normalize': True, 'feature_weighting': 'TF-IDF'}. Best is trial 102 with value: 0.03490503901430594.\n"
     ]
    },
    {
     "name": "stdout",
     "output_type": "stream",
     "text": [
      "UserKNNCFRecommender: URM Detected 240 ( 1.9%) users with no interactions.\n",
      "UserKNNCFRecommender: URM Detected 123 ( 0.6%) items with no interactions.\n",
      "Similarity column 12638 (100.0%), 4508.48 column/sec. Elapsed time 2.80 sec\n",
      "EvaluatorHoldout: Processed 10511 (100.0%) in 14.08 sec. Users per second: 746\n"
     ]
    },
    {
     "name": "stderr",
     "output_type": "stream",
     "text": [
      "[I 2023-12-07 09:50:16,257] Trial 185 finished with value: 0.034598009945741345 and parameters: {'topK': 392, 'shrink': 42, 'similarity': 'cosine', 'normalize': True, 'feature_weighting': 'TF-IDF'}. Best is trial 102 with value: 0.03490503901430594.\n"
     ]
    },
    {
     "name": "stdout",
     "output_type": "stream",
     "text": [
      "UserKNNCFRecommender: URM Detected 240 ( 1.9%) users with no interactions.\n",
      "UserKNNCFRecommender: URM Detected 123 ( 0.6%) items with no interactions.\n",
      "Similarity column 12638 (100.0%), 4527.62 column/sec. Elapsed time 2.79 sec\n",
      "EvaluatorHoldout: Processed 10511 (100.0%) in 14.14 sec. Users per second: 744\n"
     ]
    },
    {
     "name": "stderr",
     "output_type": "stream",
     "text": [
      "[I 2023-12-07 09:50:33,478] Trial 186 finished with value: 0.03470663764189646 and parameters: {'topK': 347, 'shrink': 0, 'similarity': 'cosine', 'normalize': True, 'feature_weighting': 'TF-IDF'}. Best is trial 102 with value: 0.03490503901430594.\n"
     ]
    },
    {
     "name": "stdout",
     "output_type": "stream",
     "text": [
      "UserKNNCFRecommender: URM Detected 240 ( 1.9%) users with no interactions.\n",
      "UserKNNCFRecommender: URM Detected 123 ( 0.6%) items with no interactions.\n",
      "Similarity column 12638 (100.0%), 4547.76 column/sec. Elapsed time 2.78 sec\n",
      "EvaluatorHoldout: Processed 10511 (100.0%) in 14.10 sec. Users per second: 746\n"
     ]
    },
    {
     "name": "stderr",
     "output_type": "stream",
     "text": [
      "[I 2023-12-07 09:50:50,662] Trial 187 finished with value: 0.034609090552150695 and parameters: {'topK': 377, 'shrink': 85, 'similarity': 'cosine', 'normalize': True, 'feature_weighting': 'TF-IDF'}. Best is trial 102 with value: 0.03490503901430594.\n"
     ]
    },
    {
     "name": "stdout",
     "output_type": "stream",
     "text": [
      "UserKNNCFRecommender: URM Detected 240 ( 1.9%) users with no interactions.\n",
      "UserKNNCFRecommender: URM Detected 123 ( 0.6%) items with no interactions.\n",
      "Similarity column 12638 (100.0%), 4666.83 column/sec. Elapsed time 2.71 sec\n",
      "EvaluatorHoldout: Processed 10511 (100.0%) in 13.38 sec. Users per second: 786\n"
     ]
    },
    {
     "name": "stderr",
     "output_type": "stream",
     "text": [
      "[I 2023-12-07 09:51:07,136] Trial 188 finished with value: 0.031824841851243194 and parameters: {'topK': 325, 'shrink': 169, 'similarity': 'jaccard', 'normalize': True, 'feature_weighting': 'TF-IDF'}. Best is trial 102 with value: 0.03490503901430594.\n"
     ]
    },
    {
     "name": "stdout",
     "output_type": "stream",
     "text": [
      "UserKNNCFRecommender: URM Detected 240 ( 1.9%) users with no interactions.\n",
      "UserKNNCFRecommender: URM Detected 123 ( 0.6%) items with no interactions.\n",
      "Similarity column 12638 (100.0%), 4514.28 column/sec. Elapsed time 2.80 sec\n",
      "EvaluatorHoldout: Processed 10511 (100.0%) in 14.04 sec. Users per second: 749\n"
     ]
    },
    {
     "name": "stderr",
     "output_type": "stream",
     "text": [
      "[I 2023-12-07 09:51:24,284] Trial 189 finished with value: 0.03468973924520543 and parameters: {'topK': 369, 'shrink': 47, 'similarity': 'cosine', 'normalize': True, 'feature_weighting': 'TF-IDF'}. Best is trial 102 with value: 0.03490503901430594.\n"
     ]
    },
    {
     "name": "stdout",
     "output_type": "stream",
     "text": [
      "UserKNNCFRecommender: URM Detected 240 ( 1.9%) users with no interactions.\n",
      "UserKNNCFRecommender: URM Detected 123 ( 0.6%) items with no interactions.\n",
      "Similarity column 12638 (100.0%), 4681.80 column/sec. Elapsed time 2.70 sec\n",
      "EvaluatorHoldout: Processed 10511 (100.0%) in 13.60 sec. Users per second: 773\n"
     ]
    },
    {
     "name": "stderr",
     "output_type": "stream",
     "text": [
      "[I 2023-12-07 09:51:40,883] Trial 190 finished with value: 0.03178467606875986 and parameters: {'topK': 354, 'shrink': 124, 'similarity': 'cosine', 'normalize': False, 'feature_weighting': 'TF-IDF'}. Best is trial 102 with value: 0.03490503901430594.\n"
     ]
    },
    {
     "name": "stdout",
     "output_type": "stream",
     "text": [
      "UserKNNCFRecommender: URM Detected 240 ( 1.9%) users with no interactions.\n",
      "UserKNNCFRecommender: URM Detected 123 ( 0.6%) items with no interactions.\n",
      "Similarity column 12638 (100.0%), 4527.41 column/sec. Elapsed time 2.79 sec\n",
      "EvaluatorHoldout: Processed 10511 (100.0%) in 13.81 sec. Users per second: 761\n"
     ]
    },
    {
     "name": "stderr",
     "output_type": "stream",
     "text": [
      "[I 2023-12-07 09:51:57,781] Trial 191 finished with value: 0.03474430415301938 and parameters: {'topK': 341, 'shrink': 78, 'similarity': 'cosine', 'normalize': True, 'feature_weighting': 'TF-IDF'}. Best is trial 102 with value: 0.03490503901430594.\n"
     ]
    },
    {
     "name": "stdout",
     "output_type": "stream",
     "text": [
      "UserKNNCFRecommender: URM Detected 240 ( 1.9%) users with no interactions.\n",
      "UserKNNCFRecommender: URM Detected 123 ( 0.6%) items with no interactions.\n",
      "Similarity column 12638 (100.0%), 4438.40 column/sec. Elapsed time 2.85 sec\n",
      "EvaluatorHoldout: Processed 10511 (100.0%) in 13.82 sec. Users per second: 760\n"
     ]
    },
    {
     "name": "stderr",
     "output_type": "stream",
     "text": [
      "[I 2023-12-07 09:52:14,742] Trial 192 finished with value: 0.03478316366980685 and parameters: {'topK': 336, 'shrink': 83, 'similarity': 'cosine', 'normalize': True, 'feature_weighting': 'TF-IDF'}. Best is trial 102 with value: 0.03490503901430594.\n"
     ]
    },
    {
     "name": "stdout",
     "output_type": "stream",
     "text": [
      "UserKNNCFRecommender: URM Detected 240 ( 1.9%) users with no interactions.\n",
      "UserKNNCFRecommender: URM Detected 123 ( 0.6%) items with no interactions.\n",
      "Similarity column 12638 (100.0%), 4577.00 column/sec. Elapsed time 2.76 sec\n",
      "EvaluatorHoldout: Processed 10511 (100.0%) in 13.80 sec. Users per second: 762\n"
     ]
    },
    {
     "name": "stderr",
     "output_type": "stream",
     "text": [
      "[I 2023-12-07 09:52:31,592] Trial 193 finished with value: 0.03477795748369484 and parameters: {'topK': 337, 'shrink': 1, 'similarity': 'cosine', 'normalize': True, 'feature_weighting': 'TF-IDF'}. Best is trial 102 with value: 0.03490503901430594.\n"
     ]
    },
    {
     "name": "stdout",
     "output_type": "stream",
     "text": [
      "UserKNNCFRecommender: URM Detected 240 ( 1.9%) users with no interactions.\n",
      "UserKNNCFRecommender: URM Detected 123 ( 0.6%) items with no interactions.\n",
      "Similarity column 12638 (100.0%), 4539.16 column/sec. Elapsed time 2.78 sec\n",
      "EvaluatorHoldout: Processed 10511 (100.0%) in 13.55 sec. Users per second: 776\n"
     ]
    },
    {
     "name": "stderr",
     "output_type": "stream",
     "text": [
      "[I 2023-12-07 09:52:48,258] Trial 194 finished with value: 0.03442033138375117 and parameters: {'topK': 302, 'shrink': 103, 'similarity': 'cosine', 'normalize': True, 'feature_weighting': 'TF-IDF'}. Best is trial 102 with value: 0.03490503901430594.\n"
     ]
    },
    {
     "name": "stdout",
     "output_type": "stream",
     "text": [
      "UserKNNCFRecommender: URM Detected 240 ( 1.9%) users with no interactions.\n",
      "UserKNNCFRecommender: URM Detected 123 ( 0.6%) items with no interactions.\n",
      "Similarity column 12638 (100.0%), 4523.49 column/sec. Elapsed time 2.79 sec\n",
      "EvaluatorHoldout: Processed 10511 (100.0%) in 14.05 sec. Users per second: 748\n"
     ]
    },
    {
     "name": "stderr",
     "output_type": "stream",
     "text": [
      "[I 2023-12-07 09:53:05,378] Trial 195 finished with value: 0.034633203612844464 and parameters: {'topK': 316, 'shrink': 197, 'similarity': 'cosine', 'normalize': True, 'feature_weighting': 'TF-IDF'}. Best is trial 102 with value: 0.03490503901430594.\n"
     ]
    },
    {
     "name": "stdout",
     "output_type": "stream",
     "text": [
      "UserKNNCFRecommender: URM Detected 240 ( 1.9%) users with no interactions.\n",
      "UserKNNCFRecommender: URM Detected 123 ( 0.6%) items with no interactions.\n",
      "Similarity column 12638 (100.0%), 4533.44 column/sec. Elapsed time 2.79 sec\n",
      "EvaluatorHoldout: Processed 10511 (100.0%) in 13.78 sec. Users per second: 763\n"
     ]
    },
    {
     "name": "stderr",
     "output_type": "stream",
     "text": [
      "[I 2023-12-07 09:53:22,244] Trial 196 finished with value: 0.034858938406175204 and parameters: {'topK': 337, 'shrink': 43, 'similarity': 'cosine', 'normalize': True, 'feature_weighting': 'TF-IDF'}. Best is trial 102 with value: 0.03490503901430594.\n"
     ]
    },
    {
     "name": "stdout",
     "output_type": "stream",
     "text": [
      "UserKNNCFRecommender: URM Detected 240 ( 1.9%) users with no interactions.\n",
      "UserKNNCFRecommender: URM Detected 123 ( 0.6%) items with no interactions.\n",
      "Similarity column 12638 (100.0%), 4564.03 column/sec. Elapsed time 2.77 sec\n",
      "EvaluatorHoldout: Processed 10511 (100.0%) in 14.17 sec. Users per second: 742\n"
     ]
    },
    {
     "name": "stderr",
     "output_type": "stream",
     "text": [
      "[I 2023-12-07 09:53:39,474] Trial 197 finished with value: 0.03470692456730946 and parameters: {'topK': 332, 'shrink': 44, 'similarity': 'cosine', 'normalize': True, 'feature_weighting': 'TF-IDF'}. Best is trial 102 with value: 0.03490503901430594.\n"
     ]
    },
    {
     "name": "stdout",
     "output_type": "stream",
     "text": [
      "UserKNNCFRecommender: URM Detected 240 ( 1.9%) users with no interactions.\n",
      "UserKNNCFRecommender: URM Detected 123 ( 0.6%) items with no interactions.\n",
      "Similarity column 12638 (100.0%), 4541.02 column/sec. Elapsed time 2.78 sec\n",
      "EvaluatorHoldout: Processed 10511 (100.0%) in 13.89 sec. Users per second: 757\n"
     ]
    },
    {
     "name": "stderr",
     "output_type": "stream",
     "text": [
      "[I 2023-12-07 09:53:56,436] Trial 198 finished with value: 0.03471013360153367 and parameters: {'topK': 338, 'shrink': 129, 'similarity': 'cosine', 'normalize': True, 'feature_weighting': 'TF-IDF'}. Best is trial 102 with value: 0.03490503901430594.\n"
     ]
    },
    {
     "name": "stdout",
     "output_type": "stream",
     "text": [
      "UserKNNCFRecommender: URM Detected 240 ( 1.9%) users with no interactions.\n",
      "UserKNNCFRecommender: URM Detected 123 ( 0.6%) items with no interactions.\n",
      "Similarity column 12638 (100.0%), 4688.98 column/sec. Elapsed time 2.70 sec\n",
      "EvaluatorHoldout: Processed 10511 (100.0%) in 13.88 sec. Users per second: 757\n"
     ]
    },
    {
     "name": "stderr",
     "output_type": "stream",
     "text": [
      "[I 2023-12-07 09:54:13,400] Trial 199 finished with value: 0.03272291461854812 and parameters: {'topK': 323, 'shrink': 0, 'similarity': 'tanimoto', 'normalize': True, 'feature_weighting': 'TF-IDF'}. Best is trial 102 with value: 0.03490503901430594.\n"
     ]
    },
    {
     "name": "stdout",
     "output_type": "stream",
     "text": [
      "UserKNNCFRecommender: URM Detected 240 ( 1.9%) users with no interactions.\n",
      "UserKNNCFRecommender: URM Detected 123 ( 0.6%) items with no interactions.\n",
      "Similarity column 12638 (100.0%), 4564.82 column/sec. Elapsed time 2.77 sec\n",
      "EvaluatorHoldout: Processed 10511 (100.0%) in 14.50 sec. Users per second: 725\n"
     ]
    },
    {
     "name": "stderr",
     "output_type": "stream",
     "text": [
      "[I 2023-12-07 09:54:31,014] Trial 200 finished with value: 0.02218266804390865 and parameters: {'topK': 385, 'shrink': 85, 'similarity': 'cosine', 'normalize': True, 'feature_weighting': 'BM25'}. Best is trial 102 with value: 0.03490503901430594.\n"
     ]
    },
    {
     "name": "stdout",
     "output_type": "stream",
     "text": [
      "UserKNNCFRecommender: URM Detected 240 ( 1.9%) users with no interactions.\n",
      "UserKNNCFRecommender: URM Detected 123 ( 0.6%) items with no interactions.\n",
      "Similarity column 12638 (100.0%), 4519.00 column/sec. Elapsed time 2.80 sec\n",
      "EvaluatorHoldout: Processed 10511 (100.0%) in 14.03 sec. Users per second: 749\n"
     ]
    },
    {
     "name": "stderr",
     "output_type": "stream",
     "text": [
      "[I 2023-12-07 09:54:48,143] Trial 201 finished with value: 0.03469236687793491 and parameters: {'topK': 340, 'shrink': 46, 'similarity': 'cosine', 'normalize': True, 'feature_weighting': 'TF-IDF'}. Best is trial 102 with value: 0.03490503901430594.\n"
     ]
    },
    {
     "name": "stdout",
     "output_type": "stream",
     "text": [
      "UserKNNCFRecommender: URM Detected 240 ( 1.9%) users with no interactions.\n",
      "UserKNNCFRecommender: URM Detected 123 ( 0.6%) items with no interactions.\n",
      "Similarity column 12638 (100.0%), 4533.54 column/sec. Elapsed time 2.79 sec\n",
      "EvaluatorHoldout: Processed 10511 (100.0%) in 13.82 sec. Users per second: 760\n"
     ]
    },
    {
     "name": "stderr",
     "output_type": "stream",
     "text": [
      "[I 2023-12-07 09:55:05,041] Trial 202 finished with value: 0.034732238184336454 and parameters: {'topK': 327, 'shrink': 88, 'similarity': 'cosine', 'normalize': True, 'feature_weighting': 'TF-IDF'}. Best is trial 102 with value: 0.03490503901430594.\n"
     ]
    },
    {
     "name": "stdout",
     "output_type": "stream",
     "text": [
      "UserKNNCFRecommender: URM Detected 240 ( 1.9%) users with no interactions.\n",
      "UserKNNCFRecommender: URM Detected 123 ( 0.6%) items with no interactions.\n",
      "Similarity column 12638 (100.0%), 4520.34 column/sec. Elapsed time 2.80 sec\n",
      "EvaluatorHoldout: Processed 10511 (100.0%) in 14.13 sec. Users per second: 744\n"
     ]
    },
    {
     "name": "stderr",
     "output_type": "stream",
     "text": [
      "[I 2023-12-07 09:55:22,259] Trial 203 finished with value: 0.03475186614778523 and parameters: {'topK': 330, 'shrink': 89, 'similarity': 'cosine', 'normalize': True, 'feature_weighting': 'TF-IDF'}. Best is trial 102 with value: 0.03490503901430594.\n"
     ]
    },
    {
     "name": "stdout",
     "output_type": "stream",
     "text": [
      "UserKNNCFRecommender: URM Detected 240 ( 1.9%) users with no interactions.\n",
      "UserKNNCFRecommender: URM Detected 123 ( 0.6%) items with no interactions.\n",
      "Similarity column 12638 (100.0%), 4526.70 column/sec. Elapsed time 2.79 sec\n",
      "EvaluatorHoldout: Processed 10511 (100.0%) in 13.68 sec. Users per second: 768\n"
     ]
    },
    {
     "name": "stderr",
     "output_type": "stream",
     "text": [
      "[I 2023-12-07 09:55:39,016] Trial 204 finished with value: 0.03444168089967775 and parameters: {'topK': 314, 'shrink': 140, 'similarity': 'cosine', 'normalize': True, 'feature_weighting': 'TF-IDF'}. Best is trial 102 with value: 0.03490503901430594.\n"
     ]
    },
    {
     "name": "stdout",
     "output_type": "stream",
     "text": [
      "UserKNNCFRecommender: URM Detected 240 ( 1.9%) users with no interactions.\n",
      "UserKNNCFRecommender: URM Detected 123 ( 0.6%) items with no interactions.\n",
      "Similarity column 12638 (100.0%), 4492.43 column/sec. Elapsed time 2.81 sec\n",
      "EvaluatorHoldout: Processed 10511 (100.0%) in 13.61 sec. Users per second: 772\n"
     ]
    },
    {
     "name": "stderr",
     "output_type": "stream",
     "text": [
      "[I 2023-12-07 09:55:55,718] Trial 205 finished with value: 0.03449927740099982 and parameters: {'topK': 285, 'shrink': 89, 'similarity': 'cosine', 'normalize': True, 'feature_weighting': 'TF-IDF'}. Best is trial 102 with value: 0.03490503901430594.\n"
     ]
    },
    {
     "name": "stdout",
     "output_type": "stream",
     "text": [
      "UserKNNCFRecommender: URM Detected 240 ( 1.9%) users with no interactions.\n",
      "UserKNNCFRecommender: URM Detected 123 ( 0.6%) items with no interactions.\n",
      "Similarity column 12638 (100.0%), 555.99 column/sec. Elapsed time 22.73 sec\n",
      "EvaluatorHoldout: Processed 10511 (100.0%) in 13.79 sec. Users per second: 762\n"
     ]
    },
    {
     "name": "stderr",
     "output_type": "stream",
     "text": [
      "[I 2023-12-07 09:56:32,495] Trial 206 finished with value: 0.02833448103498546 and parameters: {'topK': 327, 'shrink': 170, 'similarity': 'euclidean', 'normalize': True, 'feature_weighting': 'TF-IDF'}. Best is trial 102 with value: 0.03490503901430594.\n"
     ]
    },
    {
     "name": "stdout",
     "output_type": "stream",
     "text": [
      "UserKNNCFRecommender: URM Detected 240 ( 1.9%) users with no interactions.\n",
      "UserKNNCFRecommender: URM Detected 123 ( 0.6%) items with no interactions.\n",
      "Similarity column 12638 (100.0%), 4579.34 column/sec. Elapsed time 2.76 sec\n",
      "EvaluatorHoldout: Processed 10511 (100.0%) in 13.67 sec. Users per second: 769\n"
     ]
    },
    {
     "name": "stderr",
     "output_type": "stream",
     "text": [
      "[I 2023-12-07 09:56:49,211] Trial 207 finished with value: 0.034470426295657566 and parameters: {'topK': 303, 'shrink': 234, 'similarity': 'cosine', 'normalize': True, 'feature_weighting': 'TF-IDF'}. Best is trial 102 with value: 0.03490503901430594.\n"
     ]
    },
    {
     "name": "stdout",
     "output_type": "stream",
     "text": [
      "UserKNNCFRecommender: URM Detected 240 ( 1.9%) users with no interactions.\n",
      "UserKNNCFRecommender: URM Detected 123 ( 0.6%) items with no interactions.\n",
      "Similarity column 12638 (100.0%), 4474.49 column/sec. Elapsed time 2.82 sec\n",
      "EvaluatorHoldout: Processed 10511 (100.0%) in 13.81 sec. Users per second: 761\n"
     ]
    },
    {
     "name": "stderr",
     "output_type": "stream",
     "text": [
      "[I 2023-12-07 09:57:06,109] Trial 208 finished with value: 0.034567165463845646 and parameters: {'topK': 321, 'shrink': 1, 'similarity': 'cosine', 'normalize': True, 'feature_weighting': 'none'}. Best is trial 102 with value: 0.03490503901430594.\n"
     ]
    },
    {
     "name": "stdout",
     "output_type": "stream",
     "text": [
      "UserKNNCFRecommender: URM Detected 240 ( 1.9%) users with no interactions.\n",
      "UserKNNCFRecommender: URM Detected 123 ( 0.6%) items with no interactions.\n",
      "Similarity column 12638 (100.0%), 4239.37 column/sec. Elapsed time 2.98 sec\n",
      "EvaluatorHoldout: Processed 10511 (100.0%) in 13.49 sec. Users per second: 779\n"
     ]
    },
    {
     "name": "stderr",
     "output_type": "stream",
     "text": [
      "[I 2023-12-07 09:57:23,099] Trial 209 finished with value: 0.02606214502418504 and parameters: {'topK': 335, 'shrink': 90, 'similarity': 'adjusted', 'normalize': True, 'feature_weighting': 'TF-IDF'}. Best is trial 102 with value: 0.03490503901430594.\n"
     ]
    },
    {
     "name": "stdout",
     "output_type": "stream",
     "text": [
      "UserKNNCFRecommender: URM Detected 240 ( 1.9%) users with no interactions.\n",
      "UserKNNCFRecommender: URM Detected 123 ( 0.6%) items with no interactions.\n",
      "Similarity column 12638 (100.0%), 4477.43 column/sec. Elapsed time 2.82 sec\n",
      "EvaluatorHoldout: Processed 10511 (100.0%) in 14.03 sec. Users per second: 749\n"
     ]
    },
    {
     "name": "stderr",
     "output_type": "stream",
     "text": [
      "[I 2023-12-07 09:57:40,249] Trial 210 finished with value: 0.034754369194480085 and parameters: {'topK': 342, 'shrink': 41, 'similarity': 'cosine', 'normalize': True, 'feature_weighting': 'TF-IDF'}. Best is trial 102 with value: 0.03490503901430594.\n"
     ]
    },
    {
     "name": "stdout",
     "output_type": "stream",
     "text": [
      "UserKNNCFRecommender: URM Detected 240 ( 1.9%) users with no interactions.\n",
      "UserKNNCFRecommender: URM Detected 123 ( 0.6%) items with no interactions.\n",
      "Similarity column 12638 (100.0%), 4542.82 column/sec. Elapsed time 2.78 sec\n",
      "EvaluatorHoldout: Processed 10511 (100.0%) in 13.90 sec. Users per second: 756\n"
     ]
    },
    {
     "name": "stderr",
     "output_type": "stream",
     "text": [
      "[I 2023-12-07 09:57:57,239] Trial 211 finished with value: 0.03465225017479853 and parameters: {'topK': 330, 'shrink': 42, 'similarity': 'cosine', 'normalize': True, 'feature_weighting': 'TF-IDF'}. Best is trial 102 with value: 0.03490503901430594.\n"
     ]
    },
    {
     "name": "stdout",
     "output_type": "stream",
     "text": [
      "UserKNNCFRecommender: URM Detected 240 ( 1.9%) users with no interactions.\n",
      "UserKNNCFRecommender: URM Detected 123 ( 0.6%) items with no interactions.\n",
      "Similarity column 12638 (100.0%), 4490.56 column/sec. Elapsed time 2.81 sec\n",
      "EvaluatorHoldout: Processed 10511 (100.0%) in 14.14 sec. Users per second: 743\n"
     ]
    },
    {
     "name": "stderr",
     "output_type": "stream",
     "text": [
      "[I 2023-12-07 09:58:14,510] Trial 212 finished with value: 0.03467117215071793 and parameters: {'topK': 342, 'shrink': 106, 'similarity': 'cosine', 'normalize': True, 'feature_weighting': 'TF-IDF'}. Best is trial 102 with value: 0.03490503901430594.\n"
     ]
    },
    {
     "name": "stdout",
     "output_type": "stream",
     "text": [
      "UserKNNCFRecommender: URM Detected 240 ( 1.9%) users with no interactions.\n",
      "UserKNNCFRecommender: URM Detected 123 ( 0.6%) items with no interactions.\n",
      "Similarity column 12638 (100.0%), 4537.27 column/sec. Elapsed time 2.79 sec\n",
      "EvaluatorHoldout: Processed 10511 (100.0%) in 13.87 sec. Users per second: 758\n"
     ]
    },
    {
     "name": "stderr",
     "output_type": "stream",
     "text": [
      "[I 2023-12-07 09:58:31,460] Trial 213 finished with value: 0.03460609293665181 and parameters: {'topK': 316, 'shrink': 39, 'similarity': 'cosine', 'normalize': True, 'feature_weighting': 'TF-IDF'}. Best is trial 102 with value: 0.03490503901430594.\n"
     ]
    },
    {
     "name": "stdout",
     "output_type": "stream",
     "text": [
      "UserKNNCFRecommender: URM Detected 240 ( 1.9%) users with no interactions.\n",
      "UserKNNCFRecommender: URM Detected 123 ( 0.6%) items with no interactions.\n",
      "Similarity column 12638 (100.0%), 4695.25 column/sec. Elapsed time 2.69 sec\n",
      "EvaluatorHoldout: Processed 10511 (100.0%) in 11.46 sec. Users per second: 917\n"
     ]
    },
    {
     "name": "stderr",
     "output_type": "stream",
     "text": [
      "[I 2023-12-07 09:58:45,787] Trial 214 finished with value: 0.02672606400248881 and parameters: {'topK': 63, 'shrink': 79, 'similarity': 'cosine', 'normalize': True, 'feature_weighting': 'TF-IDF'}. Best is trial 102 with value: 0.03490503901430594.\n"
     ]
    },
    {
     "name": "stdout",
     "output_type": "stream",
     "text": [
      "UserKNNCFRecommender: URM Detected 240 ( 1.9%) users with no interactions.\n",
      "UserKNNCFRecommender: URM Detected 123 ( 0.6%) items with no interactions.\n",
      "Similarity column 12638 (100.0%), 4503.80 column/sec. Elapsed time 2.81 sec\n",
      "EvaluatorHoldout: Processed 10511 (100.0%) in 14.14 sec. Users per second: 743\n"
     ]
    },
    {
     "name": "stderr",
     "output_type": "stream",
     "text": [
      "[I 2023-12-07 09:59:03,038] Trial 215 finished with value: 0.03468802146806195 and parameters: {'topK': 342, 'shrink': 142, 'similarity': 'cosine', 'normalize': True, 'feature_weighting': 'TF-IDF'}. Best is trial 102 with value: 0.03490503901430594.\n"
     ]
    },
    {
     "name": "stdout",
     "output_type": "stream",
     "text": [
      "UserKNNCFRecommender: URM Detected 240 ( 1.9%) users with no interactions.\n",
      "UserKNNCFRecommender: URM Detected 123 ( 0.6%) items with no interactions.\n",
      "Similarity column 12638 (100.0%), 4517.72 column/sec. Elapsed time 2.80 sec\n",
      "EvaluatorHoldout: Processed 10511 (100.0%) in 14.17 sec. Users per second: 742\n"
     ]
    },
    {
     "name": "stderr",
     "output_type": "stream",
     "text": [
      "[I 2023-12-07 09:59:20,316] Trial 216 finished with value: 0.034641671687861926 and parameters: {'topK': 362, 'shrink': 41, 'similarity': 'cosine', 'normalize': True, 'feature_weighting': 'TF-IDF'}. Best is trial 102 with value: 0.03490503901430594.\n"
     ]
    },
    {
     "name": "stdout",
     "output_type": "stream",
     "text": [
      "UserKNNCFRecommender: URM Detected 240 ( 1.9%) users with no interactions.\n",
      "UserKNNCFRecommender: URM Detected 123 ( 0.6%) items with no interactions.\n",
      "Similarity column 12638 (100.0%), 4516.38 column/sec. Elapsed time 2.80 sec\n",
      "EvaluatorHoldout: Processed 10511 (100.0%) in 14.25 sec. Users per second: 738\n"
     ]
    },
    {
     "name": "stderr",
     "output_type": "stream",
     "text": [
      "[I 2023-12-07 09:59:37,670] Trial 217 finished with value: 0.034674637907679995 and parameters: {'topK': 332, 'shrink': 0, 'similarity': 'cosine', 'normalize': True, 'feature_weighting': 'TF-IDF'}. Best is trial 102 with value: 0.03490503901430594.\n"
     ]
    },
    {
     "name": "stdout",
     "output_type": "stream",
     "text": [
      "UserKNNCFRecommender: URM Detected 240 ( 1.9%) users with no interactions.\n",
      "UserKNNCFRecommender: URM Detected 123 ( 0.6%) items with no interactions.\n",
      "Similarity column 12638 (100.0%), 4831.15 column/sec. Elapsed time 2.62 sec\n",
      "EvaluatorHoldout: Processed 10511 (100.0%) in 11.51 sec. Users per second: 913\n"
     ]
    },
    {
     "name": "stderr",
     "output_type": "stream",
     "text": [
      "[I 2023-12-07 09:59:52,238] Trial 218 finished with value: 0.015756297635281517 and parameters: {'topK': 348, 'shrink': 87, 'similarity': 'pearson', 'normalize': True, 'feature_weighting': 'TF-IDF'}. Best is trial 102 with value: 0.03490503901430594.\n"
     ]
    },
    {
     "name": "stdout",
     "output_type": "stream",
     "text": [
      "UserKNNCFRecommender: URM Detected 240 ( 1.9%) users with no interactions.\n",
      "UserKNNCFRecommender: URM Detected 123 ( 0.6%) items with no interactions.\n",
      "Similarity column 12638 (100.0%), 4397.05 column/sec. Elapsed time 2.87 sec\n",
      "EvaluatorHoldout: Processed 10511 (100.0%) in 14.75 sec. Users per second: 712\n"
     ]
    },
    {
     "name": "stderr",
     "output_type": "stream",
     "text": [
      "[I 2023-12-07 10:00:10,220] Trial 219 finished with value: 0.03470636581782099 and parameters: {'topK': 406, 'shrink': 0, 'similarity': 'cosine', 'normalize': True, 'feature_weighting': 'TF-IDF'}. Best is trial 102 with value: 0.03490503901430594.\n"
     ]
    },
    {
     "name": "stdout",
     "output_type": "stream",
     "text": [
      "UserKNNCFRecommender: URM Detected 240 ( 1.9%) users with no interactions.\n",
      "UserKNNCFRecommender: URM Detected 123 ( 0.6%) items with no interactions.\n",
      "Similarity column 12638 (100.0%), 4459.09 column/sec. Elapsed time 2.83 sec\n",
      "EvaluatorHoldout: Processed 10511 (100.0%) in 13.76 sec. Users per second: 764\n"
     ]
    },
    {
     "name": "stderr",
     "output_type": "stream",
     "text": [
      "[I 2023-12-07 10:00:27,112] Trial 220 finished with value: 0.034559259913651046 and parameters: {'topK': 310, 'shrink': 130, 'similarity': 'cosine', 'normalize': True, 'feature_weighting': 'TF-IDF'}. Best is trial 102 with value: 0.03490503901430594.\n"
     ]
    },
    {
     "name": "stdout",
     "output_type": "stream",
     "text": [
      "UserKNNCFRecommender: URM Detected 240 ( 1.9%) users with no interactions.\n",
      "UserKNNCFRecommender: URM Detected 123 ( 0.6%) items with no interactions.\n",
      "Similarity column 12638 (100.0%), 3889.71 column/sec. Elapsed time 3.25 sec\n",
      "EvaluatorHoldout: Processed 10511 (100.0%) in 14.21 sec. Users per second: 739\n"
     ]
    },
    {
     "name": "stderr",
     "output_type": "stream",
     "text": [
      "[I 2023-12-07 10:00:44,904] Trial 221 finished with value: 0.03462086582008619 and parameters: {'topK': 376, 'shrink': 53, 'similarity': 'cosine', 'normalize': True, 'feature_weighting': 'TF-IDF'}. Best is trial 102 with value: 0.03490503901430594.\n"
     ]
    },
    {
     "name": "stdout",
     "output_type": "stream",
     "text": [
      "UserKNNCFRecommender: URM Detected 240 ( 1.9%) users with no interactions.\n",
      "UserKNNCFRecommender: URM Detected 123 ( 0.6%) items with no interactions.\n",
      "Similarity column 12638 (100.0%), 4487.57 column/sec. Elapsed time 2.82 sec\n",
      "EvaluatorHoldout: Processed 10511 (100.0%) in 14.29 sec. Users per second: 735\n"
     ]
    },
    {
     "name": "stderr",
     "output_type": "stream",
     "text": [
      "[I 2023-12-07 10:01:02,330] Trial 222 finished with value: 0.03466923162884587 and parameters: {'topK': 360, 'shrink': 49, 'similarity': 'cosine', 'normalize': True, 'feature_weighting': 'TF-IDF'}. Best is trial 102 with value: 0.03490503901430594.\n"
     ]
    },
    {
     "name": "stdout",
     "output_type": "stream",
     "text": [
      "UserKNNCFRecommender: URM Detected 240 ( 1.9%) users with no interactions.\n",
      "UserKNNCFRecommender: URM Detected 123 ( 0.6%) items with no interactions.\n",
      "Similarity column 12638 (100.0%), 4671.04 column/sec. Elapsed time 2.71 sec\n",
      "EvaluatorHoldout: Processed 10511 (100.0%) in 13.04 sec. Users per second: 806\n"
     ]
    },
    {
     "name": "stderr",
     "output_type": "stream",
     "text": [
      "[I 2023-12-07 10:01:18,333] Trial 223 finished with value: 0.03375594803931832 and parameters: {'topK': 217, 'shrink': 91, 'similarity': 'cosine', 'normalize': True, 'feature_weighting': 'TF-IDF'}. Best is trial 102 with value: 0.03490503901430594.\n"
     ]
    },
    {
     "name": "stdout",
     "output_type": "stream",
     "text": [
      "UserKNNCFRecommender: URM Detected 240 ( 1.9%) users with no interactions.\n",
      "UserKNNCFRecommender: URM Detected 123 ( 0.6%) items with no interactions.\n",
      "Similarity column 12638 (100.0%), 4450.22 column/sec. Elapsed time 2.84 sec\n",
      "EvaluatorHoldout: Processed 10511 (100.0%) in 14.38 sec. Users per second: 731\n"
     ]
    },
    {
     "name": "stderr",
     "output_type": "stream",
     "text": [
      "[I 2023-12-07 10:01:35,909] Trial 224 finished with value: 0.034625135723271486 and parameters: {'topK': 393, 'shrink': 44, 'similarity': 'cosine', 'normalize': True, 'feature_weighting': 'TF-IDF'}. Best is trial 102 with value: 0.03490503901430594.\n"
     ]
    },
    {
     "name": "stdout",
     "output_type": "stream",
     "text": [
      "UserKNNCFRecommender: URM Detected 240 ( 1.9%) users with no interactions.\n",
      "UserKNNCFRecommender: URM Detected 123 ( 0.6%) items with no interactions.\n",
      "Similarity column 12638 (100.0%), 4468.38 column/sec. Elapsed time 2.83 sec\n",
      "EvaluatorHoldout: Processed 10511 (100.0%) in 14.28 sec. Users per second: 736\n"
     ]
    },
    {
     "name": "stderr",
     "output_type": "stream",
     "text": [
      "[I 2023-12-07 10:01:53,337] Trial 225 finished with value: 0.0346290092163468 and parameters: {'topK': 370, 'shrink': 168, 'similarity': 'cosine', 'normalize': True, 'feature_weighting': 'TF-IDF'}. Best is trial 102 with value: 0.03490503901430594.\n"
     ]
    },
    {
     "name": "stdout",
     "output_type": "stream",
     "text": [
      "UserKNNCFRecommender: URM Detected 240 ( 1.9%) users with no interactions.\n",
      "UserKNNCFRecommender: URM Detected 123 ( 0.6%) items with no interactions.\n",
      "Similarity column 12638 (100.0%), 4509.14 column/sec. Elapsed time 2.80 sec\n",
      "EvaluatorHoldout: Processed 10511 (100.0%) in 13.88 sec. Users per second: 758\n"
     ]
    },
    {
     "name": "stderr",
     "output_type": "stream",
     "text": [
      "[I 2023-12-07 10:02:10,316] Trial 226 finished with value: 0.03463418519978362 and parameters: {'topK': 324, 'shrink': 105, 'similarity': 'cosine', 'normalize': True, 'feature_weighting': 'TF-IDF'}. Best is trial 102 with value: 0.03490503901430594.\n"
     ]
    },
    {
     "name": "stdout",
     "output_type": "stream",
     "text": [
      "UserKNNCFRecommender: URM Detected 240 ( 1.9%) users with no interactions.\n",
      "UserKNNCFRecommender: URM Detected 123 ( 0.6%) items with no interactions.\n",
      "Similarity column 12638 (100.0%), 4491.91 column/sec. Elapsed time 2.81 sec\n",
      "EvaluatorHoldout: Processed 10511 (100.0%) in 14.11 sec. Users per second: 745\n"
     ]
    },
    {
     "name": "stderr",
     "output_type": "stream",
     "text": [
      "[I 2023-12-07 10:02:27,554] Trial 227 finished with value: 0.03467768837786015 and parameters: {'topK': 354, 'shrink': 51, 'similarity': 'cosine', 'normalize': True, 'feature_weighting': 'TF-IDF'}. Best is trial 102 with value: 0.03490503901430594.\n"
     ]
    },
    {
     "name": "stdout",
     "output_type": "stream",
     "text": [
      "UserKNNCFRecommender: URM Detected 240 ( 1.9%) users with no interactions.\n",
      "UserKNNCFRecommender: URM Detected 123 ( 0.6%) items with no interactions.\n",
      "Similarity column 12638 (100.0%), 4474.81 column/sec. Elapsed time 2.82 sec\n",
      "EvaluatorHoldout: Processed 10511 (100.0%) in 14.27 sec. Users per second: 737\n"
     ]
    },
    {
     "name": "stderr",
     "output_type": "stream",
     "text": [
      "[I 2023-12-07 10:02:44,947] Trial 228 finished with value: 0.034704104392526594 and parameters: {'topK': 338, 'shrink': 5, 'similarity': 'cosine', 'normalize': True, 'feature_weighting': 'TF-IDF'}. Best is trial 102 with value: 0.03490503901430594.\n"
     ]
    },
    {
     "name": "stdout",
     "output_type": "stream",
     "text": [
      "UserKNNCFRecommender: URM Detected 240 ( 1.9%) users with no interactions.\n",
      "UserKNNCFRecommender: URM Detected 123 ( 0.6%) items with no interactions.\n",
      "Similarity column 12638 (100.0%), 4708.14 column/sec. Elapsed time 2.68 sec\n",
      "EvaluatorHoldout: Processed 10511 (100.0%) in 13.60 sec. Users per second: 773\n"
     ]
    },
    {
     "name": "stderr",
     "output_type": "stream",
     "text": [
      "[I 2023-12-07 10:03:01,539] Trial 229 finished with value: 0.031741120036001984 and parameters: {'topK': 347, 'shrink': 135, 'similarity': 'cosine', 'normalize': False, 'feature_weighting': 'TF-IDF'}. Best is trial 102 with value: 0.03490503901430594.\n"
     ]
    },
    {
     "name": "stdout",
     "output_type": "stream",
     "text": [
      "UserKNNCFRecommender: URM Detected 240 ( 1.9%) users with no interactions.\n",
      "UserKNNCFRecommender: URM Detected 123 ( 0.6%) items with no interactions.\n",
      "Similarity column 12638 (100.0%), 4559.47 column/sec. Elapsed time 2.77 sec\n",
      "EvaluatorHoldout: Processed 10511 (100.0%) in 14.37 sec. Users per second: 731\n"
     ]
    },
    {
     "name": "stderr",
     "output_type": "stream",
     "text": [
      "[I 2023-12-07 10:03:19,130] Trial 230 finished with value: 0.03220245457140175 and parameters: {'topK': 387, 'shrink': 82, 'similarity': 'jaccard', 'normalize': True, 'feature_weighting': 'TF-IDF'}. Best is trial 102 with value: 0.03490503901430594.\n"
     ]
    },
    {
     "name": "stdout",
     "output_type": "stream",
     "text": [
      "UserKNNCFRecommender: URM Detected 240 ( 1.9%) users with no interactions.\n",
      "UserKNNCFRecommender: URM Detected 123 ( 0.6%) items with no interactions.\n",
      "Similarity column 12638 (100.0%), 4444.36 column/sec. Elapsed time 2.84 sec\n",
      "EvaluatorHoldout: Processed 10511 (100.0%) in 14.16 sec. Users per second: 742\n"
     ]
    },
    {
     "name": "stderr",
     "output_type": "stream",
     "text": [
      "[I 2023-12-07 10:03:36,456] Trial 231 finished with value: 0.03463546503813889 and parameters: {'topK': 364, 'shrink': 43, 'similarity': 'cosine', 'normalize': True, 'feature_weighting': 'TF-IDF'}. Best is trial 102 with value: 0.03490503901430594.\n"
     ]
    },
    {
     "name": "stdout",
     "output_type": "stream",
     "text": [
      "UserKNNCFRecommender: URM Detected 240 ( 1.9%) users with no interactions.\n",
      "UserKNNCFRecommender: URM Detected 123 ( 0.6%) items with no interactions.\n",
      "Similarity column 12638 (100.0%), 4477.89 column/sec. Elapsed time 2.82 sec\n",
      "EvaluatorHoldout: Processed 10511 (100.0%) in 13.99 sec. Users per second: 751\n"
     ]
    },
    {
     "name": "stderr",
     "output_type": "stream",
     "text": [
      "[I 2023-12-07 10:03:53,577] Trial 232 finished with value: 0.03480047735327973 and parameters: {'topK': 336, 'shrink': 86, 'similarity': 'cosine', 'normalize': True, 'feature_weighting': 'TF-IDF'}. Best is trial 102 with value: 0.03490503901430594.\n"
     ]
    },
    {
     "name": "stdout",
     "output_type": "stream",
     "text": [
      "UserKNNCFRecommender: URM Detected 240 ( 1.9%) users with no interactions.\n",
      "UserKNNCFRecommender: URM Detected 123 ( 0.6%) items with no interactions.\n",
      "Similarity column 12638 (100.0%), 4549.25 column/sec. Elapsed time 2.78 sec\n",
      "EvaluatorHoldout: Processed 10511 (100.0%) in 13.90 sec. Users per second: 756\n"
     ]
    },
    {
     "name": "stderr",
     "output_type": "stream",
     "text": [
      "[I 2023-12-07 10:04:10,554] Trial 233 finished with value: 0.03470313413159055 and parameters: {'topK': 333, 'shrink': 0, 'similarity': 'cosine', 'normalize': True, 'feature_weighting': 'TF-IDF'}. Best is trial 102 with value: 0.03490503901430594.\n"
     ]
    },
    {
     "name": "stdout",
     "output_type": "stream",
     "text": [
      "UserKNNCFRecommender: URM Detected 240 ( 1.9%) users with no interactions.\n",
      "UserKNNCFRecommender: URM Detected 123 ( 0.6%) items with no interactions.\n",
      "Similarity column 12638 (100.0%), 4431.04 column/sec. Elapsed time 2.85 sec\n",
      "EvaluatorHoldout: Processed 10511 (100.0%) in 13.75 sec. Users per second: 765\n"
     ]
    },
    {
     "name": "stderr",
     "output_type": "stream",
     "text": [
      "[I 2023-12-07 10:04:27,448] Trial 234 finished with value: 0.0346567730253873 and parameters: {'topK': 324, 'shrink': 95, 'similarity': 'cosine', 'normalize': True, 'feature_weighting': 'TF-IDF'}. Best is trial 102 with value: 0.03490503901430594.\n"
     ]
    },
    {
     "name": "stdout",
     "output_type": "stream",
     "text": [
      "UserKNNCFRecommender: URM Detected 240 ( 1.9%) users with no interactions.\n",
      "UserKNNCFRecommender: URM Detected 123 ( 0.6%) items with no interactions.\n",
      "Similarity column 12638 (100.0%), 4485.69 column/sec. Elapsed time 2.82 sec\n",
      "EvaluatorHoldout: Processed 10511 (100.0%) in 14.28 sec. Users per second: 736\n"
     ]
    },
    {
     "name": "stderr",
     "output_type": "stream",
     "text": [
      "[I 2023-12-07 10:04:44,889] Trial 235 finished with value: 0.03450998802463987 and parameters: {'topK': 380, 'shrink': 51, 'similarity': 'cosine', 'normalize': True, 'feature_weighting': 'TF-IDF'}. Best is trial 102 with value: 0.03490503901430594.\n"
     ]
    },
    {
     "name": "stdout",
     "output_type": "stream",
     "text": [
      "UserKNNCFRecommender: URM Detected 240 ( 1.9%) users with no interactions.\n",
      "UserKNNCFRecommender: URM Detected 123 ( 0.6%) items with no interactions.\n",
      "Similarity column 12638 (100.0%), 4466.14 column/sec. Elapsed time 2.83 sec\n",
      "EvaluatorHoldout: Processed 10511 (100.0%) in 14.11 sec. Users per second: 745\n"
     ]
    },
    {
     "name": "stderr",
     "output_type": "stream",
     "text": [
      "[I 2023-12-07 10:05:02,135] Trial 236 finished with value: 0.03461343218668924 and parameters: {'topK': 345, 'shrink': 200, 'similarity': 'cosine', 'normalize': True, 'feature_weighting': 'TF-IDF'}. Best is trial 102 with value: 0.03490503901430594.\n"
     ]
    },
    {
     "name": "stdout",
     "output_type": "stream",
     "text": [
      "UserKNNCFRecommender: URM Detected 240 ( 1.9%) users with no interactions.\n",
      "UserKNNCFRecommender: URM Detected 123 ( 0.6%) items with no interactions.\n",
      "Similarity column 12638 (100.0%), 4539.98 column/sec. Elapsed time 2.78 sec\n",
      "EvaluatorHoldout: Processed 10511 (100.0%) in 14.48 sec. Users per second: 726\n"
     ]
    },
    {
     "name": "stderr",
     "output_type": "stream",
     "text": [
      "[I 2023-12-07 10:05:19,706] Trial 237 finished with value: 0.034711889132021 and parameters: {'topK': 356, 'shrink': 111, 'similarity': 'cosine', 'normalize': True, 'feature_weighting': 'TF-IDF'}. Best is trial 102 with value: 0.03490503901430594.\n"
     ]
    },
    {
     "name": "stdout",
     "output_type": "stream",
     "text": [
      "UserKNNCFRecommender: URM Detected 240 ( 1.9%) users with no interactions.\n",
      "UserKNNCFRecommender: URM Detected 123 ( 0.6%) items with no interactions.\n",
      "Similarity column 12638 (100.0%), 4502.25 column/sec. Elapsed time 2.81 sec\n",
      "EvaluatorHoldout: Processed 10511 (100.0%) in 14.21 sec. Users per second: 739\n"
     ]
    },
    {
     "name": "stderr",
     "output_type": "stream",
     "text": [
      "[I 2023-12-07 10:05:37,023] Trial 238 finished with value: 0.03481669241444764 and parameters: {'topK': 338, 'shrink': 50, 'similarity': 'cosine', 'normalize': True, 'feature_weighting': 'TF-IDF'}. Best is trial 102 with value: 0.03490503901430594.\n"
     ]
    },
    {
     "name": "stdout",
     "output_type": "stream",
     "text": [
      "UserKNNCFRecommender: URM Detected 240 ( 1.9%) users with no interactions.\n",
      "UserKNNCFRecommender: URM Detected 123 ( 0.6%) items with no interactions.\n",
      "Similarity column 12638 (100.0%), 4501.24 column/sec. Elapsed time 2.81 sec\n",
      "EvaluatorHoldout: Processed 10511 (100.0%) in 14.09 sec. Users per second: 746\n"
     ]
    },
    {
     "name": "stderr",
     "output_type": "stream",
     "text": [
      "[I 2023-12-07 10:05:54,230] Trial 239 finished with value: 0.034646791041283063 and parameters: {'topK': 338, 'shrink': 149, 'similarity': 'cosine', 'normalize': True, 'feature_weighting': 'TF-IDF'}. Best is trial 102 with value: 0.03490503901430594.\n"
     ]
    },
    {
     "name": "stdout",
     "output_type": "stream",
     "text": [
      "UserKNNCFRecommender: URM Detected 240 ( 1.9%) users with no interactions.\n",
      "UserKNNCFRecommender: URM Detected 123 ( 0.6%) items with no interactions.\n",
      "Similarity column 12638 (100.0%), 4593.55 column/sec. Elapsed time 2.75 sec\n",
      "EvaluatorHoldout: Processed 10511 (100.0%) in 13.86 sec. Users per second: 758\n"
     ]
    },
    {
     "name": "stderr",
     "output_type": "stream",
     "text": [
      "[I 2023-12-07 10:06:11,139] Trial 240 finished with value: 0.03394145286948116 and parameters: {'topK': 327, 'shrink': 674, 'similarity': 'cosine', 'normalize': True, 'feature_weighting': 'TF-IDF'}. Best is trial 102 with value: 0.03490503901430594.\n"
     ]
    },
    {
     "name": "stdout",
     "output_type": "stream",
     "text": [
      "UserKNNCFRecommender: URM Detected 240 ( 1.9%) users with no interactions.\n",
      "UserKNNCFRecommender: URM Detected 123 ( 0.6%) items with no interactions.\n",
      "Similarity column 12638 (100.0%), 4494.10 column/sec. Elapsed time 2.81 sec\n",
      "EvaluatorHoldout: Processed 10511 (100.0%) in 14.36 sec. Users per second: 732\n"
     ]
    },
    {
     "name": "stderr",
     "output_type": "stream",
     "text": [
      "[I 2023-12-07 10:06:28,615] Trial 241 finished with value: 0.03471168148863 and parameters: {'topK': 343, 'shrink': 61, 'similarity': 'cosine', 'normalize': True, 'feature_weighting': 'TF-IDF'}. Best is trial 102 with value: 0.03490503901430594.\n"
     ]
    },
    {
     "name": "stdout",
     "output_type": "stream",
     "text": [
      "UserKNNCFRecommender: URM Detected 240 ( 1.9%) users with no interactions.\n",
      "UserKNNCFRecommender: URM Detected 123 ( 0.6%) items with no interactions.\n",
      "Similarity column 12638 (100.0%), 4473.18 column/sec. Elapsed time 2.83 sec\n",
      "EvaluatorHoldout: Processed 10511 (100.0%) in 13.89 sec. Users per second: 757\n"
     ]
    },
    {
     "name": "stderr",
     "output_type": "stream",
     "text": [
      "[I 2023-12-07 10:06:45,624] Trial 242 finished with value: 0.034687519348589234 and parameters: {'topK': 333, 'shrink': 2, 'similarity': 'cosine', 'normalize': True, 'feature_weighting': 'TF-IDF'}. Best is trial 102 with value: 0.03490503901430594.\n"
     ]
    },
    {
     "name": "stdout",
     "output_type": "stream",
     "text": [
      "UserKNNCFRecommender: URM Detected 240 ( 1.9%) users with no interactions.\n",
      "UserKNNCFRecommender: URM Detected 123 ( 0.6%) items with no interactions.\n",
      "Similarity column 12638 (100.0%), 4477.42 column/sec. Elapsed time 2.82 sec\n",
      "EvaluatorHoldout: Processed 10511 (100.0%) in 14.38 sec. Users per second: 731\n"
     ]
    },
    {
     "name": "stderr",
     "output_type": "stream",
     "text": [
      "[I 2023-12-07 10:07:03,153] Trial 243 finished with value: 0.03470326626829392 and parameters: {'topK': 373, 'shrink': 80, 'similarity': 'cosine', 'normalize': True, 'feature_weighting': 'TF-IDF'}. Best is trial 102 with value: 0.03490503901430594.\n"
     ]
    },
    {
     "name": "stdout",
     "output_type": "stream",
     "text": [
      "UserKNNCFRecommender: URM Detected 240 ( 1.9%) users with no interactions.\n",
      "UserKNNCFRecommender: URM Detected 123 ( 0.6%) items with no interactions.\n",
      "Similarity column 12638 (100.0%), 4530.62 column/sec. Elapsed time 2.79 sec\n",
      "EvaluatorHoldout: Processed 10511 (100.0%) in 13.74 sec. Users per second: 765\n"
     ]
    },
    {
     "name": "stderr",
     "output_type": "stream",
     "text": [
      "[I 2023-12-07 10:07:19,975] Trial 244 finished with value: 0.034557345819119616 and parameters: {'topK': 318, 'shrink': 42, 'similarity': 'cosine', 'normalize': True, 'feature_weighting': 'TF-IDF'}. Best is trial 102 with value: 0.03490503901430594.\n"
     ]
    },
    {
     "name": "stdout",
     "output_type": "stream",
     "text": [
      "UserKNNCFRecommender: URM Detected 240 ( 1.9%) users with no interactions.\n",
      "UserKNNCFRecommender: URM Detected 123 ( 0.6%) items with no interactions.\n",
      "Similarity column 12638 (100.0%), 4436.05 column/sec. Elapsed time 2.85 sec\n",
      "EvaluatorHoldout: Processed 10511 (100.0%) in 14.21 sec. Users per second: 740\n"
     ]
    },
    {
     "name": "stderr",
     "output_type": "stream",
     "text": [
      "[I 2023-12-07 10:07:37,358] Trial 245 finished with value: 0.03467675964560234 and parameters: {'topK': 352, 'shrink': 118, 'similarity': 'cosine', 'normalize': True, 'feature_weighting': 'TF-IDF'}. Best is trial 102 with value: 0.03490503901430594.\n"
     ]
    },
    {
     "name": "stdout",
     "output_type": "stream",
     "text": [
      "UserKNNCFRecommender: URM Detected 240 ( 1.9%) users with no interactions.\n",
      "UserKNNCFRecommender: URM Detected 123 ( 0.6%) items with no interactions.\n",
      "Similarity column 12638 (100.0%), 4600.32 column/sec. Elapsed time 2.75 sec\n",
      "EvaluatorHoldout: Processed 10511 (100.0%) in 14.37 sec. Users per second: 731\n"
     ]
    },
    {
     "name": "stderr",
     "output_type": "stream",
     "text": [
      "[I 2023-12-07 10:07:54,803] Trial 246 finished with value: 0.021968398941094203 and parameters: {'topK': 366, 'shrink': 37, 'similarity': 'cosine', 'normalize': True, 'feature_weighting': 'BM25'}. Best is trial 102 with value: 0.03490503901430594.\n"
     ]
    },
    {
     "name": "stdout",
     "output_type": "stream",
     "text": [
      "UserKNNCFRecommender: URM Detected 240 ( 1.9%) users with no interactions.\n",
      "UserKNNCFRecommender: URM Detected 123 ( 0.6%) items with no interactions.\n",
      "Similarity column 12638 (100.0%), 4373.49 column/sec. Elapsed time 2.89 sec\n",
      "EvaluatorHoldout: Processed 10511 (100.0%) in 14.33 sec. Users per second: 733\n"
     ]
    },
    {
     "name": "stderr",
     "output_type": "stream",
     "text": [
      "[I 2023-12-07 10:08:12,369] Trial 247 finished with value: 0.03478345059521964 and parameters: {'topK': 398, 'shrink': 2, 'similarity': 'cosine', 'normalize': True, 'feature_weighting': 'TF-IDF'}. Best is trial 102 with value: 0.03490503901430594.\n"
     ]
    },
    {
     "name": "stdout",
     "output_type": "stream",
     "text": [
      "UserKNNCFRecommender: URM Detected 240 ( 1.9%) users with no interactions.\n",
      "UserKNNCFRecommender: URM Detected 123 ( 0.6%) items with no interactions.\n",
      "Similarity column 12638 (100.0%), 4564.68 column/sec. Elapsed time 2.77 sec\n",
      "EvaluatorHoldout: Processed 10511 (100.0%) in 14.39 sec. Users per second: 730\n"
     ]
    },
    {
     "name": "stderr",
     "output_type": "stream",
     "text": [
      "[I 2023-12-07 10:08:29,978] Trial 248 finished with value: 0.03270827764715169 and parameters: {'topK': 398, 'shrink': 0, 'similarity': 'tanimoto', 'normalize': True, 'feature_weighting': 'TF-IDF'}. Best is trial 102 with value: 0.03490503901430594.\n"
     ]
    },
    {
     "name": "stdout",
     "output_type": "stream",
     "text": [
      "UserKNNCFRecommender: URM Detected 240 ( 1.9%) users with no interactions.\n",
      "UserKNNCFRecommender: URM Detected 123 ( 0.6%) items with no interactions.\n",
      "Similarity column 12638 (100.0%), 4443.04 column/sec. Elapsed time 2.84 sec\n",
      "EvaluatorHoldout: Processed 10511 (100.0%) in 14.04 sec. Users per second: 749\n"
     ]
    },
    {
     "name": "stderr",
     "output_type": "stream",
     "text": [
      "[I 2023-12-07 10:08:47,172] Trial 249 finished with value: 0.03157610772086122 and parameters: {'topK': 398, 'shrink': 79, 'similarity': 'cosine', 'normalize': True, 'feature_weighting': 'none'}. Best is trial 102 with value: 0.03490503901430594.\n"
     ]
    },
    {
     "name": "stdout",
     "output_type": "stream",
     "text": [
      "UserKNNCFRecommender: URM Detected 240 ( 1.9%) users with no interactions.\n",
      "UserKNNCFRecommender: URM Detected 123 ( 0.6%) items with no interactions.\n",
      "Similarity column 12638 (100.0%), 506.82 column/sec. Elapsed time 24.94 sec\n",
      "EvaluatorHoldout: Processed 10511 (100.0%) in 14.24 sec. Users per second: 738\n"
     ]
    },
    {
     "name": "stderr",
     "output_type": "stream",
     "text": [
      "[I 2023-12-07 10:09:26,648] Trial 250 finished with value: 0.0276583526252922 and parameters: {'topK': 387, 'shrink': 122, 'similarity': 'euclidean', 'normalize': True, 'feature_weighting': 'TF-IDF'}. Best is trial 102 with value: 0.03490503901430594.\n"
     ]
    },
    {
     "name": "stdout",
     "output_type": "stream",
     "text": [
      "UserKNNCFRecommender: URM Detected 240 ( 1.9%) users with no interactions.\n",
      "UserKNNCFRecommender: URM Detected 123 ( 0.6%) items with no interactions.\n",
      "Similarity column 12638 (100.0%), 4482.60 column/sec. Elapsed time 2.82 sec\n",
      "EvaluatorHoldout: Processed 10511 (100.0%) in 14.43 sec. Users per second: 729\n"
     ]
    },
    {
     "name": "stderr",
     "output_type": "stream",
     "text": [
      "[I 2023-12-07 10:09:44,226] Trial 251 finished with value: 0.034645114792817684 and parameters: {'topK': 412, 'shrink': 42, 'similarity': 'cosine', 'normalize': True, 'feature_weighting': 'TF-IDF'}. Best is trial 102 with value: 0.03490503901430594.\n"
     ]
    },
    {
     "name": "stdout",
     "output_type": "stream",
     "text": [
      "UserKNNCFRecommender: URM Detected 240 ( 1.9%) users with no interactions.\n",
      "UserKNNCFRecommender: URM Detected 123 ( 0.6%) items with no interactions.\n",
      "Similarity column 12638 (100.0%), 4510.21 column/sec. Elapsed time 2.80 sec\n",
      "EvaluatorHoldout: Processed 10511 (100.0%) in 14.07 sec. Users per second: 747\n"
     ]
    },
    {
     "name": "stderr",
     "output_type": "stream",
     "text": [
      "[I 2023-12-07 10:10:01,404] Trial 252 finished with value: 0.03476280329148806 and parameters: {'topK': 336, 'shrink': 79, 'similarity': 'cosine', 'normalize': True, 'feature_weighting': 'TF-IDF'}. Best is trial 102 with value: 0.03490503901430594.\n"
     ]
    },
    {
     "name": "stdout",
     "output_type": "stream",
     "text": [
      "UserKNNCFRecommender: URM Detected 240 ( 1.9%) users with no interactions.\n",
      "UserKNNCFRecommender: URM Detected 123 ( 0.6%) items with no interactions.\n",
      "Similarity column 12638 (100.0%), 4474.02 column/sec. Elapsed time 2.82 sec\n",
      "EvaluatorHoldout: Processed 10511 (100.0%) in 13.89 sec. Users per second: 757\n"
     ]
    },
    {
     "name": "stderr",
     "output_type": "stream",
     "text": [
      "[I 2023-12-07 10:10:18,425] Trial 253 finished with value: 0.03462281011729255 and parameters: {'topK': 329, 'shrink': 160, 'similarity': 'cosine', 'normalize': True, 'feature_weighting': 'TF-IDF'}. Best is trial 102 with value: 0.03490503901430594.\n"
     ]
    },
    {
     "name": "stdout",
     "output_type": "stream",
     "text": [
      "UserKNNCFRecommender: URM Detected 240 ( 1.9%) users with no interactions.\n",
      "UserKNNCFRecommender: URM Detected 123 ( 0.6%) items with no interactions.\n",
      "Similarity column 12638 (100.0%), 4280.47 column/sec. Elapsed time 2.95 sec\n",
      "EvaluatorHoldout: Processed 10511 (100.0%) in 12.42 sec. Users per second: 847\n"
     ]
    },
    {
     "name": "stderr",
     "output_type": "stream",
     "text": [
      "[I 2023-12-07 10:10:34,264] Trial 254 finished with value: 0.024374540353039067 and parameters: {'topK': 182, 'shrink': 84, 'similarity': 'adjusted', 'normalize': True, 'feature_weighting': 'TF-IDF'}. Best is trial 102 with value: 0.03490503901430594.\n"
     ]
    },
    {
     "name": "stdout",
     "output_type": "stream",
     "text": [
      "UserKNNCFRecommender: URM Detected 240 ( 1.9%) users with no interactions.\n",
      "UserKNNCFRecommender: URM Detected 123 ( 0.6%) items with no interactions.\n",
      "Similarity column 12638 (100.0%), 4425.76 column/sec. Elapsed time 2.86 sec\n",
      "EvaluatorHoldout: Processed 10511 (100.0%) in 13.74 sec. Users per second: 765\n"
     ]
    },
    {
     "name": "stderr",
     "output_type": "stream",
     "text": [
      "[I 2023-12-07 10:10:51,150] Trial 255 finished with value: 0.03453274574029072 and parameters: {'topK': 308, 'shrink': 88, 'similarity': 'cosine', 'normalize': True, 'feature_weighting': 'TF-IDF'}. Best is trial 102 with value: 0.03490503901430594.\n"
     ]
    },
    {
     "name": "stdout",
     "output_type": "stream",
     "text": [
      "UserKNNCFRecommender: URM Detected 240 ( 1.9%) users with no interactions.\n",
      "UserKNNCFRecommender: URM Detected 123 ( 0.6%) items with no interactions.\n",
      "Similarity column 12638 (100.0%), 4521.28 column/sec. Elapsed time 2.80 sec\n",
      "EvaluatorHoldout: Processed 10511 (100.0%) in 13.98 sec. Users per second: 752\n"
     ]
    },
    {
     "name": "stderr",
     "output_type": "stream",
     "text": [
      "[I 2023-12-07 10:11:08,229] Trial 256 finished with value: 0.03457837820695819 and parameters: {'topK': 319, 'shrink': 0, 'similarity': 'cosine', 'normalize': True, 'feature_weighting': 'TF-IDF'}. Best is trial 102 with value: 0.03490503901430594.\n"
     ]
    },
    {
     "name": "stdout",
     "output_type": "stream",
     "text": [
      "UserKNNCFRecommender: URM Detected 240 ( 1.9%) users with no interactions.\n",
      "UserKNNCFRecommender: URM Detected 123 ( 0.6%) items with no interactions.\n",
      "Similarity column 12638 (100.0%), 4430.63 column/sec. Elapsed time 2.85 sec\n",
      "EvaluatorHoldout: Processed 10511 (100.0%) in 14.50 sec. Users per second: 725\n"
     ]
    },
    {
     "name": "stderr",
     "output_type": "stream",
     "text": [
      "[I 2023-12-07 10:11:25,949] Trial 257 finished with value: 0.034424110493466865 and parameters: {'topK': 423, 'shrink': 184, 'similarity': 'cosine', 'normalize': True, 'feature_weighting': 'TF-IDF'}. Best is trial 102 with value: 0.03490503901430594.\n"
     ]
    },
    {
     "name": "stdout",
     "output_type": "stream",
     "text": [
      "UserKNNCFRecommender: URM Detected 240 ( 1.9%) users with no interactions.\n",
      "UserKNNCFRecommender: URM Detected 123 ( 0.6%) items with no interactions.\n",
      "Similarity column 12638 (100.0%), 4634.22 column/sec. Elapsed time 2.73 sec\n",
      "EvaluatorHoldout: Processed 10511 (100.0%) in 13.60 sec. Users per second: 773\n"
     ]
    },
    {
     "name": "stderr",
     "output_type": "stream",
     "text": [
      "[I 2023-12-07 10:11:42,591] Trial 258 finished with value: 0.031821410072290474 and parameters: {'topK': 340, 'shrink': 129, 'similarity': 'cosine', 'normalize': False, 'feature_weighting': 'TF-IDF'}. Best is trial 102 with value: 0.03490503901430594.\n"
     ]
    },
    {
     "name": "stdout",
     "output_type": "stream",
     "text": [
      "UserKNNCFRecommender: URM Detected 240 ( 1.9%) users with no interactions.\n",
      "UserKNNCFRecommender: URM Detected 123 ( 0.6%) items with no interactions.\n",
      "Similarity column 12638 (100.0%), 4845.20 column/sec. Elapsed time 2.61 sec\n",
      "EvaluatorHoldout: Processed 10511 (100.0%) in 11.43 sec. Users per second: 920\n"
     ]
    },
    {
     "name": "stderr",
     "output_type": "stream",
     "text": [
      "[I 2023-12-07 10:11:57,092] Trial 259 finished with value: 0.015826673643484574 and parameters: {'topK': 333, 'shrink': 54, 'similarity': 'pearson', 'normalize': True, 'feature_weighting': 'TF-IDF'}. Best is trial 102 with value: 0.03490503901430594.\n"
     ]
    },
    {
     "name": "stdout",
     "output_type": "stream",
     "text": [
      "UserKNNCFRecommender: URM Detected 240 ( 1.9%) users with no interactions.\n",
      "UserKNNCFRecommender: URM Detected 123 ( 0.6%) items with no interactions.\n",
      "Similarity column 12638 (100.0%), 4529.57 column/sec. Elapsed time 2.79 sec\n",
      "EvaluatorHoldout: Processed 10511 (100.0%) in 13.84 sec. Users per second: 760\n"
     ]
    },
    {
     "name": "stderr",
     "output_type": "stream",
     "text": [
      "[I 2023-12-07 10:12:14,021] Trial 260 finished with value: 0.03456077382273794 and parameters: {'topK': 324, 'shrink': 0, 'similarity': 'cosine', 'normalize': True, 'feature_weighting': 'TF-IDF'}. Best is trial 102 with value: 0.03490503901430594.\n"
     ]
    },
    {
     "name": "stdout",
     "output_type": "stream",
     "text": [
      "UserKNNCFRecommender: URM Detected 240 ( 1.9%) users with no interactions.\n",
      "UserKNNCFRecommender: URM Detected 123 ( 0.6%) items with no interactions.\n",
      "Similarity column 12638 (100.0%), 4492.59 column/sec. Elapsed time 2.81 sec\n",
      "EvaluatorHoldout: Processed 10511 (100.0%) in 14.19 sec. Users per second: 741\n"
     ]
    },
    {
     "name": "stderr",
     "output_type": "stream",
     "text": [
      "[I 2023-12-07 10:12:31,336] Trial 261 finished with value: 0.03472278097171122 and parameters: {'topK': 345, 'shrink': 86, 'similarity': 'cosine', 'normalize': True, 'feature_weighting': 'TF-IDF'}. Best is trial 102 with value: 0.03490503901430594.\n"
     ]
    },
    {
     "name": "stdout",
     "output_type": "stream",
     "text": [
      "UserKNNCFRecommender: URM Detected 240 ( 1.9%) users with no interactions.\n",
      "UserKNNCFRecommender: URM Detected 123 ( 0.6%) items with no interactions.\n",
      "Similarity column 12638 (100.0%), 4432.73 column/sec. Elapsed time 2.85 sec\n",
      "EvaluatorHoldout: Processed 10511 (100.0%) in 15.76 sec. Users per second: 667\n"
     ]
    },
    {
     "name": "stderr",
     "output_type": "stream",
     "text": [
      "[I 2023-12-07 10:12:50,291] Trial 262 finished with value: 0.034549817802363124 and parameters: {'topK': 408, 'shrink': 153, 'similarity': 'cosine', 'normalize': True, 'feature_weighting': 'TF-IDF'}. Best is trial 102 with value: 0.03490503901430594.\n"
     ]
    },
    {
     "name": "stdout",
     "output_type": "stream",
     "text": [
      "UserKNNCFRecommender: URM Detected 240 ( 1.9%) users with no interactions.\n",
      "UserKNNCFRecommender: URM Detected 123 ( 0.6%) items with no interactions.\n",
      "Similarity column 12638 (100.0%), 4447.62 column/sec. Elapsed time 2.84 sec\n",
      "EvaluatorHoldout: Processed 10511 (100.0%) in 14.63 sec. Users per second: 719\n"
     ]
    },
    {
     "name": "stderr",
     "output_type": "stream",
     "text": [
      "[I 2023-12-07 10:13:08,070] Trial 263 finished with value: 0.03448306233983185 and parameters: {'topK': 316, 'shrink': 44, 'similarity': 'cosine', 'normalize': True, 'feature_weighting': 'TF-IDF'}. Best is trial 102 with value: 0.03490503901430594.\n"
     ]
    },
    {
     "name": "stdout",
     "output_type": "stream",
     "text": [
      "UserKNNCFRecommender: URM Detected 240 ( 1.9%) users with no interactions.\n",
      "UserKNNCFRecommender: URM Detected 123 ( 0.6%) items with no interactions.\n",
      "Similarity column 12638 (100.0%), 4380.98 column/sec. Elapsed time 2.88 sec\n",
      "EvaluatorHoldout: Processed 10511 (100.0%) in 14.99 sec. Users per second: 701\n"
     ]
    },
    {
     "name": "stderr",
     "output_type": "stream",
     "text": [
      "[I 2023-12-07 10:13:26,256] Trial 264 finished with value: 0.03468610737353062 and parameters: {'topK': 336, 'shrink': 101, 'similarity': 'cosine', 'normalize': True, 'feature_weighting': 'TF-IDF'}. Best is trial 102 with value: 0.03490503901430594.\n"
     ]
    },
    {
     "name": "stdout",
     "output_type": "stream",
     "text": [
      "UserKNNCFRecommender: URM Detected 240 ( 1.9%) users with no interactions.\n",
      "UserKNNCFRecommender: URM Detected 123 ( 0.6%) items with no interactions.\n",
      "Similarity column 12638 (100.0%), 4456.72 column/sec. Elapsed time 2.84 sec\n",
      "EvaluatorHoldout: Processed 10511 (100.0%) in 14.89 sec. Users per second: 706\n"
     ]
    },
    {
     "name": "stderr",
     "output_type": "stream",
     "text": [
      "[I 2023-12-07 10:13:44,284] Trial 265 finished with value: 0.03475982832799556 and parameters: {'topK': 347, 'shrink': 41, 'similarity': 'cosine', 'normalize': True, 'feature_weighting': 'TF-IDF'}. Best is trial 102 with value: 0.03490503901430594.\n"
     ]
    },
    {
     "name": "stdout",
     "output_type": "stream",
     "text": [
      "UserKNNCFRecommender: URM Detected 240 ( 1.9%) users with no interactions.\n",
      "UserKNNCFRecommender: URM Detected 123 ( 0.6%) items with no interactions.\n",
      "Similarity column 12638 (100.0%), 4260.36 column/sec. Elapsed time 2.97 sec\n",
      "EvaluatorHoldout: Processed 10511 (100.0%) in 14.87 sec. Users per second: 707\n"
     ]
    },
    {
     "name": "stderr",
     "output_type": "stream",
     "text": [
      "[I 2023-12-07 10:14:02,436] Trial 266 finished with value: 0.03478692390285058 and parameters: {'topK': 348, 'shrink': 49, 'similarity': 'cosine', 'normalize': True, 'feature_weighting': 'TF-IDF'}. Best is trial 102 with value: 0.03490503901430594.\n"
     ]
    },
    {
     "name": "stdout",
     "output_type": "stream",
     "text": [
      "UserKNNCFRecommender: URM Detected 240 ( 1.9%) users with no interactions.\n",
      "UserKNNCFRecommender: URM Detected 123 ( 0.6%) items with no interactions.\n",
      "Similarity column 12638 (100.0%), 4331.90 column/sec. Elapsed time 2.92 sec\n",
      "EvaluatorHoldout: Processed 10511 (100.0%) in 15.06 sec. Users per second: 698\n"
     ]
    },
    {
     "name": "stderr",
     "output_type": "stream",
     "text": [
      "[I 2023-12-07 10:14:20,721] Trial 267 finished with value: 0.0348575943871353 and parameters: {'topK': 349, 'shrink': 47, 'similarity': 'cosine', 'normalize': True, 'feature_weighting': 'TF-IDF'}. Best is trial 102 with value: 0.03490503901430594.\n"
     ]
    },
    {
     "name": "stdout",
     "output_type": "stream",
     "text": [
      "UserKNNCFRecommender: URM Detected 240 ( 1.9%) users with no interactions.\n",
      "UserKNNCFRecommender: URM Detected 123 ( 0.6%) items with no interactions.\n",
      "Similarity column 12638 (100.0%), 4570.87 column/sec. Elapsed time 2.76 sec\n",
      "EvaluatorHoldout: Processed 10511 (100.0%) in 14.82 sec. Users per second: 709\n"
     ]
    },
    {
     "name": "stderr",
     "output_type": "stream",
     "text": [
      "[I 2023-12-07 10:14:38,716] Trial 268 finished with value: 0.03264273029162239 and parameters: {'topK': 353, 'shrink': 38, 'similarity': 'jaccard', 'normalize': True, 'feature_weighting': 'TF-IDF'}. Best is trial 102 with value: 0.03490503901430594.\n"
     ]
    },
    {
     "name": "stdout",
     "output_type": "stream",
     "text": [
      "UserKNNCFRecommender: URM Detected 240 ( 1.9%) users with no interactions.\n",
      "UserKNNCFRecommender: URM Detected 123 ( 0.6%) items with no interactions.\n",
      "Similarity column 12638 (100.0%), 4511.81 column/sec. Elapsed time 2.80 sec\n",
      "EvaluatorHoldout: Processed 10511 (100.0%) in 15.21 sec. Users per second: 691\n"
     ]
    },
    {
     "name": "stderr",
     "output_type": "stream",
     "text": [
      "[I 2023-12-07 10:14:57,043] Trial 269 finished with value: 0.021804707992986956 and parameters: {'topK': 348, 'shrink': 44, 'similarity': 'cosine', 'normalize': True, 'feature_weighting': 'BM25'}. Best is trial 102 with value: 0.03490503901430594.\n"
     ]
    },
    {
     "name": "stdout",
     "output_type": "stream",
     "text": [
      "UserKNNCFRecommender: URM Detected 240 ( 1.9%) users with no interactions.\n",
      "UserKNNCFRecommender: URM Detected 123 ( 0.6%) items with no interactions.\n",
      "Similarity column 12638 (100.0%), 4440.78 column/sec. Elapsed time 2.85 sec\n",
      "EvaluatorHoldout: Processed 10511 (100.0%) in 14.85 sec. Users per second: 708\n"
     ]
    },
    {
     "name": "stderr",
     "output_type": "stream",
     "text": [
      "[I 2023-12-07 10:15:15,043] Trial 270 finished with value: 0.03467136091743704 and parameters: {'topK': 341, 'shrink': 3, 'similarity': 'cosine', 'normalize': True, 'feature_weighting': 'TF-IDF'}. Best is trial 102 with value: 0.03490503901430594.\n"
     ]
    },
    {
     "name": "stdout",
     "output_type": "stream",
     "text": [
      "UserKNNCFRecommender: URM Detected 240 ( 1.9%) users with no interactions.\n",
      "UserKNNCFRecommender: URM Detected 123 ( 0.6%) items with no interactions.\n",
      "Similarity column 12638 (100.0%), 4445.33 column/sec. Elapsed time 2.84 sec\n",
      "EvaluatorHoldout: Processed 10511 (100.0%) in 15.11 sec. Users per second: 696\n"
     ]
    },
    {
     "name": "stderr",
     "output_type": "stream",
     "text": [
      "[I 2023-12-07 10:15:33,304] Trial 271 finished with value: 0.034562012132415186 and parameters: {'topK': 353, 'shrink': 129, 'similarity': 'cosine', 'normalize': True, 'feature_weighting': 'TF-IDF'}. Best is trial 102 with value: 0.03490503901430594.\n"
     ]
    },
    {
     "name": "stdout",
     "output_type": "stream",
     "text": [
      "UserKNNCFRecommender: URM Detected 240 ( 1.9%) users with no interactions.\n",
      "UserKNNCFRecommender: URM Detected 123 ( 0.6%) items with no interactions.\n",
      "Similarity column 12638 (100.0%), 4458.59 column/sec. Elapsed time 2.83 sec\n",
      "EvaluatorHoldout: Processed 10511 (100.0%) in 14.88 sec. Users per second: 706\n"
     ]
    },
    {
     "name": "stderr",
     "output_type": "stream",
     "text": [
      "[I 2023-12-07 10:15:51,327] Trial 272 finished with value: 0.034792311305012855 and parameters: {'topK': 338, 'shrink': 2, 'similarity': 'cosine', 'normalize': True, 'feature_weighting': 'TF-IDF'}. Best is trial 102 with value: 0.03490503901430594.\n"
     ]
    },
    {
     "name": "stdout",
     "output_type": "stream",
     "text": [
      "UserKNNCFRecommender: URM Detected 240 ( 1.9%) users with no interactions.\n",
      "UserKNNCFRecommender: URM Detected 123 ( 0.6%) items with no interactions.\n",
      "Similarity column 12638 (100.0%), 4353.01 column/sec. Elapsed time 2.90 sec\n",
      "EvaluatorHoldout: Processed 10511 (100.0%) in 13.74 sec. Users per second: 765\n"
     ]
    },
    {
     "name": "stderr",
     "output_type": "stream",
     "text": [
      "[I 2023-12-07 10:16:08,256] Trial 273 finished with value: 0.03223342741466652 and parameters: {'topK': 338, 'shrink': 45, 'similarity': 'cosine', 'normalize': True, 'feature_weighting': 'none'}. Best is trial 102 with value: 0.03490503901430594.\n"
     ]
    },
    {
     "name": "stdout",
     "output_type": "stream",
     "text": [
      "UserKNNCFRecommender: URM Detected 240 ( 1.9%) users with no interactions.\n",
      "UserKNNCFRecommender: URM Detected 123 ( 0.6%) items with no interactions.\n",
      "Similarity column 12638 (100.0%), 4500.05 column/sec. Elapsed time 2.81 sec\n",
      "EvaluatorHoldout: Processed 10511 (100.0%) in 14.09 sec. Users per second: 746\n"
     ]
    },
    {
     "name": "stderr",
     "output_type": "stream",
     "text": [
      "[I 2023-12-07 10:16:25,470] Trial 274 finished with value: 0.032989460776541454 and parameters: {'topK': 359, 'shrink': 2017, 'similarity': 'cosine', 'normalize': True, 'feature_weighting': 'TF-IDF'}. Best is trial 102 with value: 0.03490503901430594.\n"
     ]
    },
    {
     "name": "stdout",
     "output_type": "stream",
     "text": [
      "UserKNNCFRecommender: URM Detected 240 ( 1.9%) users with no interactions.\n",
      "UserKNNCFRecommender: URM Detected 123 ( 0.6%) items with no interactions.\n",
      "Similarity column 12638 (100.0%), 4525.37 column/sec. Elapsed time 2.79 sec\n",
      "EvaluatorHoldout: Processed 10511 (100.0%) in 13.83 sec. Users per second: 760\n"
     ]
    },
    {
     "name": "stderr",
     "output_type": "stream",
     "text": [
      "[I 2023-12-07 10:16:42,422] Trial 275 finished with value: 0.0346094529842513 and parameters: {'topK': 330, 'shrink': 74, 'similarity': 'cosine', 'normalize': True, 'feature_weighting': 'TF-IDF'}. Best is trial 102 with value: 0.03490503901430594.\n"
     ]
    },
    {
     "name": "stdout",
     "output_type": "stream",
     "text": [
      "UserKNNCFRecommender: URM Detected 240 ( 1.9%) users with no interactions.\n",
      "UserKNNCFRecommender: URM Detected 123 ( 0.6%) items with no interactions.\n",
      "Similarity column 12638 (100.0%), 4477.27 column/sec. Elapsed time 2.82 sec\n",
      "EvaluatorHoldout: Processed 10511 (100.0%) in 14.06 sec. Users per second: 748\n"
     ]
    },
    {
     "name": "stderr",
     "output_type": "stream",
     "text": [
      "[I 2023-12-07 10:16:59,618] Trial 276 finished with value: 0.034562204674468515 and parameters: {'topK': 345, 'shrink': 5, 'similarity': 'cosine', 'normalize': True, 'feature_weighting': 'TF-IDF'}. Best is trial 102 with value: 0.03490503901430594.\n"
     ]
    },
    {
     "name": "stdout",
     "output_type": "stream",
     "text": [
      "UserKNNCFRecommender: URM Detected 240 ( 1.9%) users with no interactions.\n",
      "UserKNNCFRecommender: URM Detected 123 ( 0.6%) items with no interactions.\n",
      "Similarity column 12638 (100.0%), 4575.46 column/sec. Elapsed time 2.76 sec\n",
      "EvaluatorHoldout: Processed 10511 (100.0%) in 14.04 sec. Users per second: 748\n"
     ]
    },
    {
     "name": "stderr",
     "output_type": "stream",
     "text": [
      "[I 2023-12-07 10:17:16,824] Trial 277 finished with value: 0.032810445746180125 and parameters: {'topK': 334, 'shrink': 2, 'similarity': 'tanimoto', 'normalize': True, 'feature_weighting': 'TF-IDF'}. Best is trial 102 with value: 0.03490503901430594.\n"
     ]
    },
    {
     "name": "stdout",
     "output_type": "stream",
     "text": [
      "UserKNNCFRecommender: URM Detected 240 ( 1.9%) users with no interactions.\n",
      "UserKNNCFRecommender: URM Detected 123 ( 0.6%) items with no interactions.\n",
      "Similarity column 12638 (100.0%), 4512.54 column/sec. Elapsed time 2.80 sec\n",
      "EvaluatorHoldout: Processed 10511 (100.0%) in 13.94 sec. Users per second: 754\n"
     ]
    },
    {
     "name": "stderr",
     "output_type": "stream",
     "text": [
      "[I 2023-12-07 10:17:33,861] Trial 278 finished with value: 0.034628692088258785 and parameters: {'topK': 311, 'shrink': 196, 'similarity': 'cosine', 'normalize': True, 'feature_weighting': 'TF-IDF'}. Best is trial 102 with value: 0.03490503901430594.\n"
     ]
    },
    {
     "name": "stdout",
     "output_type": "stream",
     "text": [
      "UserKNNCFRecommender: URM Detected 240 ( 1.9%) users with no interactions.\n",
      "UserKNNCFRecommender: URM Detected 123 ( 0.6%) items with no interactions.\n",
      "Similarity column 12638 (100.0%), 4810.92 column/sec. Elapsed time 2.63 sec\n",
      "EvaluatorHoldout: Processed 10511 (100.0%) in 9.90 sec. Users per second: 1062\n"
     ]
    },
    {
     "name": "stderr",
     "output_type": "stream",
     "text": [
      "[I 2023-12-07 10:17:46,536] Trial 279 finished with value: 0.011915582013098822 and parameters: {'topK': 10, 'shrink': 123, 'similarity': 'cosine', 'normalize': True, 'feature_weighting': 'TF-IDF'}. Best is trial 102 with value: 0.03490503901430594.\n"
     ]
    },
    {
     "name": "stdout",
     "output_type": "stream",
     "text": [
      "UserKNNCFRecommender: URM Detected 240 ( 1.9%) users with no interactions.\n",
      "UserKNNCFRecommender: URM Detected 123 ( 0.6%) items with no interactions.\n",
      "Similarity column 12638 (100.0%), 596.81 column/sec. Elapsed time 21.18 sec\n",
      "EvaluatorHoldout: Processed 10511 (100.0%) in 9.66 sec. Users per second: 1089\n"
     ]
    },
    {
     "name": "stderr",
     "output_type": "stream",
     "text": [
      "[I 2023-12-07 10:18:17,606] Trial 280 finished with value: 0.0017192910526085314 and parameters: {'topK': 293, 'shrink': 0, 'similarity': 'euclidean', 'normalize': False, 'feature_weighting': 'TF-IDF'}. Best is trial 102 with value: 0.03490503901430594.\n"
     ]
    },
    {
     "name": "stdout",
     "output_type": "stream",
     "text": [
      "UserKNNCFRecommender: URM Detected 240 ( 1.9%) users with no interactions.\n",
      "UserKNNCFRecommender: URM Detected 123 ( 0.6%) items with no interactions.\n",
      "Similarity column 12638 (100.0%), 4450.26 column/sec. Elapsed time 2.84 sec\n",
      "EvaluatorHoldout: Processed 10511 (100.0%) in 14.25 sec. Users per second: 738\n"
     ]
    },
    {
     "name": "stderr",
     "output_type": "stream",
     "text": [
      "[I 2023-12-07 10:18:35,007] Trial 281 finished with value: 0.034700797199608516 and parameters: {'topK': 358, 'shrink': 74, 'similarity': 'cosine', 'normalize': True, 'feature_weighting': 'TF-IDF'}. Best is trial 102 with value: 0.03490503901430594.\n"
     ]
    },
    {
     "name": "stdout",
     "output_type": "stream",
     "text": [
      "UserKNNCFRecommender: URM Detected 240 ( 1.9%) users with no interactions.\n",
      "UserKNNCFRecommender: URM Detected 123 ( 0.6%) items with no interactions.\n",
      "Similarity column 12638 (100.0%), 4573.02 column/sec. Elapsed time 2.76 sec\n",
      "EvaluatorHoldout: Processed 10511 (100.0%) in 13.77 sec. Users per second: 763\n"
     ]
    },
    {
     "name": "stderr",
     "output_type": "stream",
     "text": [
      "[I 2023-12-07 10:18:51,843] Trial 282 finished with value: 0.033065741407716946 and parameters: {'topK': 324, 'shrink': 2290, 'similarity': 'cosine', 'normalize': True, 'feature_weighting': 'TF-IDF'}. Best is trial 102 with value: 0.03490503901430594.\n"
     ]
    },
    {
     "name": "stdout",
     "output_type": "stream",
     "text": [
      "UserKNNCFRecommender: URM Detected 240 ( 1.9%) users with no interactions.\n",
      "UserKNNCFRecommender: URM Detected 123 ( 0.6%) items with no interactions.\n",
      "Similarity column 12638 (100.0%), 4445.17 column/sec. Elapsed time 2.84 sec\n",
      "EvaluatorHoldout: Processed 10511 (100.0%) in 14.42 sec. Users per second: 729\n"
     ]
    },
    {
     "name": "stderr",
     "output_type": "stream",
     "text": [
      "[I 2023-12-07 10:19:09,420] Trial 283 finished with value: 0.03471452431541922 and parameters: {'topK': 346, 'shrink': 76, 'similarity': 'cosine', 'normalize': True, 'feature_weighting': 'TF-IDF'}. Best is trial 102 with value: 0.03490503901430594.\n"
     ]
    },
    {
     "name": "stdout",
     "output_type": "stream",
     "text": [
      "UserKNNCFRecommender: URM Detected 240 ( 1.9%) users with no interactions.\n",
      "UserKNNCFRecommender: URM Detected 123 ( 0.6%) items with no interactions.\n",
      "Similarity column 12638 (100.0%), 4499.19 column/sec. Elapsed time 2.81 sec\n",
      "EvaluatorHoldout: Processed 10511 (100.0%) in 14.05 sec. Users per second: 748\n"
     ]
    },
    {
     "name": "stderr",
     "output_type": "stream",
     "text": [
      "[I 2023-12-07 10:19:26,585] Trial 284 finished with value: 0.03319896918270098 and parameters: {'topK': 337, 'shrink': 1692, 'similarity': 'cosine', 'normalize': True, 'feature_weighting': 'TF-IDF'}. Best is trial 102 with value: 0.03490503901430594.\n"
     ]
    },
    {
     "name": "stdout",
     "output_type": "stream",
     "text": [
      "UserKNNCFRecommender: URM Detected 240 ( 1.9%) users with no interactions.\n",
      "UserKNNCFRecommender: URM Detected 123 ( 0.6%) items with no interactions.\n",
      "Similarity column 12638 (100.0%), 4516.08 column/sec. Elapsed time 2.80 sec\n",
      "EvaluatorHoldout: Processed 10511 (100.0%) in 14.49 sec. Users per second: 726\n"
     ]
    },
    {
     "name": "stderr",
     "output_type": "stream",
     "text": [
      "[I 2023-12-07 10:19:44,191] Trial 285 finished with value: 0.03461780779923733 and parameters: {'topK': 368, 'shrink': 153, 'similarity': 'cosine', 'normalize': True, 'feature_weighting': 'TF-IDF'}. Best is trial 102 with value: 0.03490503901430594.\n"
     ]
    },
    {
     "name": "stdout",
     "output_type": "stream",
     "text": [
      "UserKNNCFRecommender: URM Detected 240 ( 1.9%) users with no interactions.\n",
      "UserKNNCFRecommender: URM Detected 123 ( 0.6%) items with no interactions.\n",
      "Similarity column 12638 (100.0%), 4886.28 column/sec. Elapsed time 2.59 sec\n",
      "EvaluatorHoldout: Processed 10511 (100.0%) in 11.53 sec. Users per second: 911\n"
     ]
    },
    {
     "name": "stderr",
     "output_type": "stream",
     "text": [
      "[I 2023-12-07 10:19:58,786] Trial 286 finished with value: 0.015755172585635868 and parameters: {'topK': 353, 'shrink': 43, 'similarity': 'pearson', 'normalize': True, 'feature_weighting': 'TF-IDF'}. Best is trial 102 with value: 0.03490503901430594.\n"
     ]
    },
    {
     "name": "stdout",
     "output_type": "stream",
     "text": [
      "UserKNNCFRecommender: URM Detected 240 ( 1.9%) users with no interactions.\n",
      "UserKNNCFRecommender: URM Detected 123 ( 0.6%) items with no interactions.\n",
      "Similarity column 12638 (100.0%), 4184.83 column/sec. Elapsed time 3.02 sec\n",
      "EvaluatorHoldout: Processed 10511 (100.0%) in 13.77 sec. Users per second: 763\n"
     ]
    },
    {
     "name": "stderr",
     "output_type": "stream",
     "text": [
      "[I 2023-12-07 10:20:16,139] Trial 287 finished with value: 0.02649078893917647 and parameters: {'topK': 380, 'shrink': 106, 'similarity': 'adjusted', 'normalize': True, 'feature_weighting': 'TF-IDF'}. Best is trial 102 with value: 0.03490503901430594.\n"
     ]
    },
    {
     "name": "stdout",
     "output_type": "stream",
     "text": [
      "UserKNNCFRecommender: URM Detected 240 ( 1.9%) users with no interactions.\n",
      "UserKNNCFRecommender: URM Detected 123 ( 0.6%) items with no interactions.\n",
      "Similarity column 12638 (100.0%), 4490.82 column/sec. Elapsed time 2.81 sec\n",
      "EvaluatorHoldout: Processed 10511 (100.0%) in 13.89 sec. Users per second: 757\n"
     ]
    },
    {
     "name": "stderr",
     "output_type": "stream",
     "text": [
      "[I 2023-12-07 10:20:33,148] Trial 288 finished with value: 0.03461752842449303 and parameters: {'topK': 327, 'shrink': 213, 'similarity': 'cosine', 'normalize': True, 'feature_weighting': 'TF-IDF'}. Best is trial 102 with value: 0.03490503901430594.\n"
     ]
    },
    {
     "name": "stdout",
     "output_type": "stream",
     "text": [
      "UserKNNCFRecommender: URM Detected 240 ( 1.9%) users with no interactions.\n",
      "UserKNNCFRecommender: URM Detected 123 ( 0.6%) items with no interactions.\n",
      "Similarity column 12638 (100.0%), 4483.51 column/sec. Elapsed time 2.82 sec\n"
     ]
    }
   ],
   "source": [
    "optuna_study_UserKNN = optuna.create_study(direction=\"maximize\")\n",
    "\n",
    "save_results_UserKNN = SaveResults()\n",
    "\n",
    "optuna_study_UserKNN.optimize(objective_function_UserKNN,\n",
    "                      callbacks=[save_results_UserKNN],\n",
    "                      n_trials = 2000)"
   ]
  },
  {
   "cell_type": "code",
   "execution_count": null,
   "metadata": {},
   "outputs": [],
   "source": [
    "pruned_trials = [t for t in optuna_study_UserKNN.trials if t.state == optuna.trial.TrialState.PRUNED]\n",
    "complete_trials = [t for t in optuna_study_UserKNN.trials if t.state == optuna.trial.TrialState.COMPLETE]\n",
    "\n",
    "print(\"Study statistics: \")\n",
    "print(\"  Number of finished trials: \", len(optuna_study_UserKNN.trials))\n",
    "print(\"  Number of pruned trials: \", len(pruned_trials))\n",
    "print(\"  Number of complete trials: \", len(complete_trials))\n",
    "\n",
    "print(\"Best trial:\")\n",
    "print(\"  Value Validation: \", optuna_study_UserKNN.best_trial.value)\n",
    "\n",
    "print(\"Best params:\")\n",
    "print(optuna_study_UserKNN.best_trial.params)"
   ]
  },
  {
   "cell_type": "code",
   "execution_count": null,
   "metadata": {},
   "outputs": [],
   "source": []
  }
 ],
 "metadata": {
  "kaggle": {
   "accelerator": "none",
   "dataSources": [
    {
     "datasetId": 4086250,
     "sourceId": 7091045,
     "sourceType": "datasetVersion"
    },
    {
     "datasetId": 4120115,
     "sourceId": 7139099,
     "sourceType": "datasetVersion"
    }
   ],
   "dockerImageVersionId": 30587,
   "isGpuEnabled": false,
   "isInternetEnabled": true,
   "language": "python",
   "sourceType": "notebook"
  },
  "kernelspec": {
   "display_name": "Python 3 (ipykernel)",
   "language": "python",
   "name": "python3"
  },
  "language_info": {
   "codemirror_mode": {
    "name": "ipython",
    "version": 3
   },
   "file_extension": ".py",
   "mimetype": "text/x-python",
   "name": "python",
   "nbconvert_exporter": "python",
   "pygments_lexer": "ipython3",
   "version": "3.9.13"
  }
 },
 "nbformat": 4,
 "nbformat_minor": 4
}
