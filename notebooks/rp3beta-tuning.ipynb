{
 "cells": [
  {
   "cell_type": "markdown",
   "metadata": {},
   "source": [
    "# Setting-up environment"
   ]
  },
  {
   "cell_type": "code",
   "execution_count": null,
   "metadata": {
    "_cell_guid": "b1076dfc-b9ad-4769-8c92-a6c4dae69d19",
    "_uuid": "8f2839f25d086af736a60e9eeb907d3b93b6e0e5",
    "execution": {
     "iopub.execute_input": "2023-12-06T18:52:01.694220Z",
     "iopub.status.busy": "2023-12-06T18:52:01.693773Z",
     "iopub.status.idle": "2023-12-06T18:52:05.837713Z",
     "shell.execute_reply": "2023-12-06T18:52:05.836268Z",
     "shell.execute_reply.started": "2023-12-06T18:52:01.694188Z"
    }
   },
   "outputs": [],
   "source": [
    "!cp -r ../input/updated-code-3-7/* /kaggle/working/"
   ]
  },
  {
   "cell_type": "code",
   "execution_count": null,
   "metadata": {
    "execution": {
     "iopub.execute_input": "2023-12-06T18:52:08.383319Z",
     "iopub.status.busy": "2023-12-06T18:52:08.382888Z",
     "iopub.status.idle": "2023-12-06T18:52:49.573951Z",
     "shell.execute_reply": "2023-12-06T18:52:49.572735Z",
     "shell.execute_reply.started": "2023-12-06T18:52:08.383284Z"
    },
    "scrolled": true
   },
   "outputs": [],
   "source": [
    "!pip install -r requirements.txt"
   ]
  },
  {
   "cell_type": "code",
   "execution_count": 2,
   "metadata": {
    "execution": {
     "iopub.execute_input": "2023-12-20T20:26:06.779533Z",
     "iopub.status.busy": "2023-12-20T20:26:06.779096Z",
     "iopub.status.idle": "2023-12-20T20:26:35.098097Z",
     "shell.execute_reply": "2023-12-20T20:26:35.096331Z",
     "shell.execute_reply.started": "2023-12-20T20:26:06.779500Z"
    },
    "scrolled": true
   },
   "outputs": [
    {
     "name": "stdout",
     "output_type": "stream",
     "text": [
      "Collecting lightfm\n",
      "  Downloading lightfm-1.17.tar.gz (316 kB)\n",
      "\u001b[2K     \u001b[90m━━━━━━━━━━━━━━━━━━━━━━━━━━━━━━━━━━━━━━\u001b[0m \u001b[32m316.4/316.4 kB\u001b[0m \u001b[31m13.1 MB/s\u001b[0m eta \u001b[36m0:00:00\u001b[0m\n",
      "\u001b[?25h  Preparing metadata (setup.py) ... \u001b[?25ldone\n",
      "\u001b[?25hRequirement already satisfied: tqdm in /opt/conda/lib/python3.10/site-packages (4.66.1)\n",
      "Requirement already satisfied: optuna in /opt/conda/lib/python3.10/site-packages (3.4.0)\n",
      "Requirement already satisfied: ipykernel in /opt/conda/lib/python3.10/site-packages (6.25.1)\n",
      "Requirement already satisfied: matplotlib in /opt/conda/lib/python3.10/site-packages (3.7.3)\n",
      "Collecting implicit\n",
      "  Obtaining dependency information for implicit from https://files.pythonhosted.org/packages/cd/cc/deac70cae8cc32c9885d0cd73bc66e1b3cbea36ae7080b8c83995eaf5322/implicit-0.7.2-cp310-cp310-manylinux2014_x86_64.whl.metadata\n",
      "  Downloading implicit-0.7.2-cp310-cp310-manylinux2014_x86_64.whl.metadata (6.1 kB)\n",
      "Requirement already satisfied: numpy in /opt/conda/lib/python3.10/site-packages (from lightfm) (1.24.3)\n",
      "Requirement already satisfied: scipy>=0.17.0 in /opt/conda/lib/python3.10/site-packages (from lightfm) (1.11.3)\n",
      "Requirement already satisfied: requests in /opt/conda/lib/python3.10/site-packages (from lightfm) (2.31.0)\n",
      "Requirement already satisfied: scikit-learn in /opt/conda/lib/python3.10/site-packages (from lightfm) (1.2.2)\n",
      "Requirement already satisfied: alembic>=1.5.0 in /opt/conda/lib/python3.10/site-packages (from optuna) (1.12.1)\n",
      "Requirement already satisfied: colorlog in /opt/conda/lib/python3.10/site-packages (from optuna) (6.7.0)\n",
      "Requirement already satisfied: packaging>=20.0 in /opt/conda/lib/python3.10/site-packages (from optuna) (21.3)\n",
      "Requirement already satisfied: sqlalchemy>=1.3.0 in /opt/conda/lib/python3.10/site-packages (from optuna) (2.0.20)\n",
      "Requirement already satisfied: PyYAML in /opt/conda/lib/python3.10/site-packages (from optuna) (6.0.1)\n",
      "Requirement already satisfied: comm>=0.1.1 in /opt/conda/lib/python3.10/site-packages (from ipykernel) (0.1.4)\n",
      "Requirement already satisfied: debugpy>=1.6.5 in /opt/conda/lib/python3.10/site-packages (from ipykernel) (1.6.7.post1)\n",
      "Requirement already satisfied: ipython>=7.23.1 in /opt/conda/lib/python3.10/site-packages (from ipykernel) (8.14.0)\n",
      "Requirement already satisfied: jupyter-client>=6.1.12 in /opt/conda/lib/python3.10/site-packages (from ipykernel) (7.4.9)\n",
      "Requirement already satisfied: jupyter-core!=5.0.*,>=4.12 in /opt/conda/lib/python3.10/site-packages (from ipykernel) (5.3.1)\n",
      "Requirement already satisfied: matplotlib-inline>=0.1 in /opt/conda/lib/python3.10/site-packages (from ipykernel) (0.1.6)\n",
      "Requirement already satisfied: nest-asyncio in /opt/conda/lib/python3.10/site-packages (from ipykernel) (1.5.6)\n",
      "Requirement already satisfied: psutil in /opt/conda/lib/python3.10/site-packages (from ipykernel) (5.9.3)\n",
      "Requirement already satisfied: pyzmq>=20 in /opt/conda/lib/python3.10/site-packages (from ipykernel) (24.0.1)\n",
      "Requirement already satisfied: tornado>=6.1 in /opt/conda/lib/python3.10/site-packages (from ipykernel) (6.3.3)\n",
      "Requirement already satisfied: traitlets>=5.4.0 in /opt/conda/lib/python3.10/site-packages (from ipykernel) (5.9.0)\n",
      "Requirement already satisfied: contourpy>=1.0.1 in /opt/conda/lib/python3.10/site-packages (from matplotlib) (1.1.0)\n",
      "Requirement already satisfied: cycler>=0.10 in /opt/conda/lib/python3.10/site-packages (from matplotlib) (0.11.0)\n",
      "Requirement already satisfied: fonttools>=4.22.0 in /opt/conda/lib/python3.10/site-packages (from matplotlib) (4.42.1)\n",
      "Requirement already satisfied: kiwisolver>=1.0.1 in /opt/conda/lib/python3.10/site-packages (from matplotlib) (1.4.4)\n",
      "Requirement already satisfied: pillow>=6.2.0 in /opt/conda/lib/python3.10/site-packages (from matplotlib) (10.1.0)\n",
      "Requirement already satisfied: pyparsing>=2.3.1 in /opt/conda/lib/python3.10/site-packages (from matplotlib) (3.0.9)\n",
      "Requirement already satisfied: python-dateutil>=2.7 in /opt/conda/lib/python3.10/site-packages (from matplotlib) (2.8.2)\n",
      "Requirement already satisfied: threadpoolctl in /opt/conda/lib/python3.10/site-packages (from implicit) (3.2.0)\n",
      "Requirement already satisfied: Mako in /opt/conda/lib/python3.10/site-packages (from alembic>=1.5.0->optuna) (1.3.0)\n",
      "Requirement already satisfied: typing-extensions>=4 in /opt/conda/lib/python3.10/site-packages (from alembic>=1.5.0->optuna) (4.5.0)\n",
      "Requirement already satisfied: backcall in /opt/conda/lib/python3.10/site-packages (from ipython>=7.23.1->ipykernel) (0.2.0)\n",
      "Requirement already satisfied: decorator in /opt/conda/lib/python3.10/site-packages (from ipython>=7.23.1->ipykernel) (5.1.1)\n",
      "Requirement already satisfied: jedi>=0.16 in /opt/conda/lib/python3.10/site-packages (from ipython>=7.23.1->ipykernel) (0.19.0)\n",
      "Requirement already satisfied: pickleshare in /opt/conda/lib/python3.10/site-packages (from ipython>=7.23.1->ipykernel) (0.7.5)\n",
      "Requirement already satisfied: prompt-toolkit!=3.0.37,<3.1.0,>=3.0.30 in /opt/conda/lib/python3.10/site-packages (from ipython>=7.23.1->ipykernel) (3.0.39)\n",
      "Requirement already satisfied: pygments>=2.4.0 in /opt/conda/lib/python3.10/site-packages (from ipython>=7.23.1->ipykernel) (2.16.1)\n",
      "Requirement already satisfied: stack-data in /opt/conda/lib/python3.10/site-packages (from ipython>=7.23.1->ipykernel) (0.6.2)\n",
      "Requirement already satisfied: pexpect>4.3 in /opt/conda/lib/python3.10/site-packages (from ipython>=7.23.1->ipykernel) (4.8.0)\n",
      "Requirement already satisfied: entrypoints in /opt/conda/lib/python3.10/site-packages (from jupyter-client>=6.1.12->ipykernel) (0.4)\n",
      "Requirement already satisfied: platformdirs>=2.5 in /opt/conda/lib/python3.10/site-packages (from jupyter-core!=5.0.*,>=4.12->ipykernel) (4.0.0)\n",
      "Requirement already satisfied: six>=1.5 in /opt/conda/lib/python3.10/site-packages (from python-dateutil>=2.7->matplotlib) (1.16.0)\n",
      "Requirement already satisfied: greenlet!=0.4.17 in /opt/conda/lib/python3.10/site-packages (from sqlalchemy>=1.3.0->optuna) (2.0.2)\n",
      "Requirement already satisfied: charset-normalizer<4,>=2 in /opt/conda/lib/python3.10/site-packages (from requests->lightfm) (3.2.0)\n",
      "Requirement already satisfied: idna<4,>=2.5 in /opt/conda/lib/python3.10/site-packages (from requests->lightfm) (3.4)\n",
      "Requirement already satisfied: urllib3<3,>=1.21.1 in /opt/conda/lib/python3.10/site-packages (from requests->lightfm) (1.26.15)\n",
      "Requirement already satisfied: certifi>=2017.4.17 in /opt/conda/lib/python3.10/site-packages (from requests->lightfm) (2023.7.22)\n",
      "Requirement already satisfied: joblib>=1.1.1 in /opt/conda/lib/python3.10/site-packages (from scikit-learn->lightfm) (1.3.2)\n",
      "Requirement already satisfied: parso<0.9.0,>=0.8.3 in /opt/conda/lib/python3.10/site-packages (from jedi>=0.16->ipython>=7.23.1->ipykernel) (0.8.3)\n",
      "Requirement already satisfied: ptyprocess>=0.5 in /opt/conda/lib/python3.10/site-packages (from pexpect>4.3->ipython>=7.23.1->ipykernel) (0.7.0)\n",
      "Requirement already satisfied: wcwidth in /opt/conda/lib/python3.10/site-packages (from prompt-toolkit!=3.0.37,<3.1.0,>=3.0.30->ipython>=7.23.1->ipykernel) (0.2.6)\n",
      "Requirement already satisfied: MarkupSafe>=0.9.2 in /opt/conda/lib/python3.10/site-packages (from Mako->alembic>=1.5.0->optuna) (2.1.3)\n",
      "Requirement already satisfied: executing>=1.2.0 in /opt/conda/lib/python3.10/site-packages (from stack-data->ipython>=7.23.1->ipykernel) (1.2.0)\n",
      "Requirement already satisfied: asttokens>=2.1.0 in /opt/conda/lib/python3.10/site-packages (from stack-data->ipython>=7.23.1->ipykernel) (2.2.1)\n",
      "Requirement already satisfied: pure-eval in /opt/conda/lib/python3.10/site-packages (from stack-data->ipython>=7.23.1->ipykernel) (0.2.2)\n",
      "Downloading implicit-0.7.2-cp310-cp310-manylinux2014_x86_64.whl (8.9 MB)\n",
      "\u001b[2K   \u001b[90m━━━━━━━━━━━━━━━━━━━━━━━━━━━━━━━━━━━━━━━━\u001b[0m \u001b[32m8.9/8.9 MB\u001b[0m \u001b[31m40.4 MB/s\u001b[0m eta \u001b[36m0:00:00\u001b[0m00:01\u001b[0m00:01\u001b[0mm\n",
      "\u001b[?25hBuilding wheels for collected packages: lightfm\n",
      "  Building wheel for lightfm (setup.py) ... \u001b[?25ldone\n",
      "\u001b[?25h  Created wheel for lightfm: filename=lightfm-1.17-cp310-cp310-linux_x86_64.whl size=464219 sha256=8af8a2fcefd7a6d37155b3ecb4ef35fdd9ea70e9174cf23d2afadb954a85e352\n",
      "  Stored in directory: /root/.cache/pip/wheels/4f/9b/7e/0b256f2168511d8fa4dae4fae0200fdbd729eb424a912ad636\n",
      "Successfully built lightfm\n",
      "Installing collected packages: implicit, lightfm\n",
      "Successfully installed implicit-0.7.2 lightfm-1.17\n"
     ]
    }
   ],
   "source": [
    "!pip install lightfm tqdm optuna ipykernel matplotlib implicit"
   ]
  },
  {
   "cell_type": "code",
   "execution_count": null,
   "metadata": {
    "execution": {
     "iopub.execute_input": "2023-12-06T18:53:05.129034Z",
     "iopub.status.busy": "2023-12-06T18:53:05.128577Z",
     "iopub.status.idle": "2023-12-06T18:56:13.252415Z",
     "shell.execute_reply": "2023-12-06T18:56:13.250903Z",
     "shell.execute_reply.started": "2023-12-06T18:53:05.128993Z"
    },
    "scrolled": true
   },
   "outputs": [],
   "source": [
    "!python run_compile_all_cython.py"
   ]
  },
  {
   "cell_type": "markdown",
   "metadata": {},
   "source": [
    "# Imports"
   ]
  },
  {
   "cell_type": "code",
   "execution_count": 3,
   "metadata": {
    "execution": {
     "iopub.execute_input": "2023-12-20T20:26:35.101343Z",
     "iopub.status.busy": "2023-12-20T20:26:35.100907Z",
     "iopub.status.idle": "2023-12-20T20:26:35.128819Z",
     "shell.execute_reply": "2023-12-20T20:26:35.127901Z",
     "shell.execute_reply.started": "2023-12-20T20:26:35.101306Z"
    }
   },
   "outputs": [],
   "source": [
    "import time\n",
    "import optuna\n",
    "import numpy as np\n",
    "import pandas as pd\n",
    "import scipy.sparse as sps\n",
    "from scipy.sparse import vstack, csr_matrix\n",
    "from scipy.stats import loguniform\n",
    "from lightfm import LightFM\n",
    "from lightfm.evaluation import auc_score, precision_at_k\n",
    "import matplotlib.pyplot as plt\n",
    "from multiprocessing import cpu_count"
   ]
  },
  {
   "cell_type": "code",
   "execution_count": 4,
   "metadata": {
    "execution": {
     "iopub.execute_input": "2023-12-20T20:26:35.131155Z",
     "iopub.status.busy": "2023-12-20T20:26:35.130100Z",
     "iopub.status.idle": "2023-12-20T20:26:35.760216Z",
     "shell.execute_reply": "2023-12-20T20:26:35.759018Z",
     "shell.execute_reply.started": "2023-12-20T20:26:35.131121Z"
    }
   },
   "outputs": [],
   "source": [
    "from Recommenders.BaseRecommender import BaseRecommender\n",
    "from Recommenders.BaseMatrixFactorizationRecommender import BaseMatrixFactorizationRecommender\n",
    "from Recommenders.NonPersonalizedRecommender import TopPop\n",
    "\n",
    "#---- CF\n",
    "from Recommenders.KNN.ItemKNNCFRecommender import ItemKNNCFRecommender\n",
    "from Recommenders.KNN.UserKNNCFRecommender import UserKNNCFRecommender\n",
    "from Recommenders.GraphBased.RP3betaRecommender import RP3betaRecommender\n",
    "from Recommenders.KNN.ItemKNNCustomSimilarityRecommender import ItemKNNCustomSimilarityRecommender\n",
    "\n",
    "#---- Matrix Factorization\n",
    "from Recommenders.MatrixFactorization.NMFRecommender import NMFRecommender\n",
    "\n",
    "#---- CF w/ ML\n",
    "from Recommenders.SLIM.SLIMElasticNetRecommender import SLIMElasticNetRecommender, MultiThreadSLIM_SLIMElasticNetRecommender\n",
    "from implicit.als import AlternatingLeastSquares\n",
    "\n",
    "#---- Others\n",
    "from Data_manager.split_functions.split_train_validation_random_holdout import split_train_in_two_percentage_global_sample\n",
    "from Evaluation.Evaluator import EvaluatorHoldout\n",
    "from Recommenders.Recommender_utils import check_matrix"
   ]
  },
  {
   "cell_type": "code",
   "execution_count": 5,
   "metadata": {
    "execution": {
     "iopub.execute_input": "2023-12-20T20:26:35.764433Z",
     "iopub.status.busy": "2023-12-20T20:26:35.763421Z",
     "iopub.status.idle": "2023-12-20T20:26:35.769759Z",
     "shell.execute_reply": "2023-12-20T20:26:35.768518Z",
     "shell.execute_reply.started": "2023-12-20T20:26:35.764383Z"
    }
   },
   "outputs": [],
   "source": [
    "seed = 69\n",
    "np.random.seed(seed)"
   ]
  },
  {
   "cell_type": "markdown",
   "metadata": {},
   "source": [
    "# Data Import and Preprocessing"
   ]
  },
  {
   "cell_type": "code",
   "execution_count": 6,
   "metadata": {
    "execution": {
     "iopub.execute_input": "2023-12-20T20:26:35.772051Z",
     "iopub.status.busy": "2023-12-20T20:26:35.771621Z",
     "iopub.status.idle": "2023-12-20T20:26:39.346160Z",
     "shell.execute_reply": "2023-12-20T20:26:39.345264Z",
     "shell.execute_reply.started": "2023-12-20T20:26:35.772010Z"
    }
   },
   "outputs": [],
   "source": [
    "# Import training data\n",
    "URM_path = \"../input/data-books/data_train.csv\"\n",
    "URM_all_dataframe = pd.read_csv(filepath_or_buffer=URM_path,\n",
    "                                header=0,\n",
    "                                dtype={0:int, 1:int, 2:int},\n",
    "                                engine='python')\n",
    "\n",
    "URM_all_dataframe.columns = [\"user_id\", \"item_id\", \"interaction\"]"
   ]
  },
  {
   "cell_type": "code",
   "execution_count": 7,
   "metadata": {
    "execution": {
     "iopub.execute_input": "2023-12-20T20:26:39.348160Z",
     "iopub.status.busy": "2023-12-20T20:26:39.347303Z",
     "iopub.status.idle": "2023-12-20T20:26:39.432150Z",
     "shell.execute_reply": "2023-12-20T20:26:39.430879Z",
     "shell.execute_reply.started": "2023-12-20T20:26:39.348127Z"
    }
   },
   "outputs": [
    {
     "data": {
      "text/html": [
       "<div>\n",
       "<style scoped>\n",
       "    .dataframe tbody tr th:only-of-type {\n",
       "        vertical-align: middle;\n",
       "    }\n",
       "\n",
       "    .dataframe tbody tr th {\n",
       "        vertical-align: top;\n",
       "    }\n",
       "\n",
       "    .dataframe thead th {\n",
       "        text-align: right;\n",
       "    }\n",
       "</style>\n",
       "<table border=\"1\" class=\"dataframe\">\n",
       "  <thead>\n",
       "    <tr style=\"text-align: right;\">\n",
       "      <th></th>\n",
       "      <th>user_id</th>\n",
       "    </tr>\n",
       "  </thead>\n",
       "  <tbody>\n",
       "    <tr>\n",
       "      <th>0</th>\n",
       "      <td>1</td>\n",
       "    </tr>\n",
       "    <tr>\n",
       "      <th>1</th>\n",
       "      <td>2</td>\n",
       "    </tr>\n",
       "    <tr>\n",
       "      <th>2</th>\n",
       "      <td>3</td>\n",
       "    </tr>\n",
       "    <tr>\n",
       "      <th>3</th>\n",
       "      <td>4</td>\n",
       "    </tr>\n",
       "    <tr>\n",
       "      <th>4</th>\n",
       "      <td>5</td>\n",
       "    </tr>\n",
       "    <tr>\n",
       "      <th>...</th>\n",
       "      <td>...</td>\n",
       "    </tr>\n",
       "    <tr>\n",
       "      <th>10877</th>\n",
       "      <td>13020</td>\n",
       "    </tr>\n",
       "    <tr>\n",
       "      <th>10878</th>\n",
       "      <td>13021</td>\n",
       "    </tr>\n",
       "    <tr>\n",
       "      <th>10879</th>\n",
       "      <td>13022</td>\n",
       "    </tr>\n",
       "    <tr>\n",
       "      <th>10880</th>\n",
       "      <td>13023</td>\n",
       "    </tr>\n",
       "    <tr>\n",
       "      <th>10881</th>\n",
       "      <td>13024</td>\n",
       "    </tr>\n",
       "  </tbody>\n",
       "</table>\n",
       "<p>10882 rows × 1 columns</p>\n",
       "</div>"
      ],
      "text/plain": [
       "       user_id\n",
       "0            1\n",
       "1            2\n",
       "2            3\n",
       "3            4\n",
       "4            5\n",
       "...        ...\n",
       "10877    13020\n",
       "10878    13021\n",
       "10879    13022\n",
       "10880    13023\n",
       "10881    13024\n",
       "\n",
       "[10882 rows x 1 columns]"
      ]
     },
     "execution_count": 7,
     "metadata": {},
     "output_type": "execute_result"
    }
   ],
   "source": [
    "# Import target users\n",
    "target_path = \"../input/data-books/data_target_users_test.csv\"\n",
    "target_dataframe= pd.read_csv(filepath_or_buffer=target_path,\n",
    "                                header=0,\n",
    "                                dtype={0:int},\n",
    "                                engine='python')\n",
    "target_dataframe.columns = [\"user_id\"]\n",
    "target_dataframe"
   ]
  },
  {
   "cell_type": "code",
   "execution_count": 8,
   "metadata": {
    "execution": {
     "iopub.execute_input": "2023-12-20T20:26:39.433860Z",
     "iopub.status.busy": "2023-12-20T20:26:39.433477Z",
     "iopub.status.idle": "2023-12-20T20:26:39.443198Z",
     "shell.execute_reply": "2023-12-20T20:26:39.441957Z",
     "shell.execute_reply.started": "2023-12-20T20:26:39.433829Z"
    }
   },
   "outputs": [],
   "source": [
    "def preprocess_data(ratings: pd.DataFrame):\n",
    "    unique_users = ratings.user_id.unique()\n",
    "    unique_items = ratings.item_id.unique()\n",
    "\n",
    "    num_users, min_user_id, max_user_id = unique_users.size, unique_users.min(), unique_users.max()\n",
    "    num_items, min_item_id, max_item_id = unique_items.size, unique_items.min(), unique_items.max()\n",
    "\n",
    "    print(num_users, min_user_id, max_user_id)\n",
    "    print(num_items, min_item_id, max_item_id)\n",
    "\n",
    "    mapping_user_id = pd.DataFrame({\"mapped_user_id\": np.arange(num_users), \"user_id\": unique_users})\n",
    "    mapping_item_id = pd.DataFrame({\"mapped_item_id\": np.arange(num_items), \"item_id\": unique_items})\n",
    "\n",
    "    ratings = pd.merge(left=ratings,\n",
    "                       right=mapping_user_id,\n",
    "                       how=\"inner\",\n",
    "                       on=\"user_id\")\n",
    "\n",
    "    ratings = pd.merge(left=ratings,\n",
    "                       right=mapping_item_id,\n",
    "                       how=\"inner\",\n",
    "                       on=\"item_id\")\n",
    "\n",
    "    return ratings"
   ]
  },
  {
   "cell_type": "code",
   "execution_count": 9,
   "metadata": {
    "execution": {
     "iopub.execute_input": "2023-12-20T20:26:39.444868Z",
     "iopub.status.busy": "2023-12-20T20:26:39.444553Z",
     "iopub.status.idle": "2023-12-20T20:26:39.604237Z",
     "shell.execute_reply": "2023-12-20T20:26:39.602903Z",
     "shell.execute_reply.started": "2023-12-20T20:26:39.444842Z"
    }
   },
   "outputs": [
    {
     "name": "stdout",
     "output_type": "stream",
     "text": [
      "12638 1 13024\n",
      "22222 1 22347\n"
     ]
    }
   ],
   "source": [
    "# Call preprocess data function\n",
    "ratings = preprocess_data(URM_all_dataframe)"
   ]
  },
  {
   "cell_type": "markdown",
   "metadata": {},
   "source": [
    "## Conversion to Sparse Matrix"
   ]
  },
  {
   "cell_type": "code",
   "execution_count": 10,
   "metadata": {
    "execution": {
     "iopub.execute_input": "2023-12-20T20:26:39.606351Z",
     "iopub.status.busy": "2023-12-20T20:26:39.605739Z",
     "iopub.status.idle": "2023-12-20T20:26:39.615271Z",
     "shell.execute_reply": "2023-12-20T20:26:39.614383Z",
     "shell.execute_reply.started": "2023-12-20T20:26:39.606316Z"
    }
   },
   "outputs": [],
   "source": [
    "URM = sps.coo_matrix((ratings.interaction.values, (ratings.mapped_user_id.values, ratings.mapped_item_id.values)))"
   ]
  },
  {
   "cell_type": "markdown",
   "metadata": {},
   "source": [
    "## Data Splits"
   ]
  },
  {
   "cell_type": "code",
   "execution_count": 11,
   "metadata": {
    "execution": {
     "iopub.execute_input": "2023-12-20T20:26:39.619702Z",
     "iopub.status.busy": "2023-12-20T20:26:39.619050Z",
     "iopub.status.idle": "2023-12-20T20:26:41.129033Z",
     "shell.execute_reply": "2023-12-20T20:26:41.127832Z",
     "shell.execute_reply.started": "2023-12-20T20:26:39.619667Z"
    }
   },
   "outputs": [
    {
     "name": "stdout",
     "output_type": "stream",
     "text": [
      "Warning: 240 (1.90 %) of 12638 users have no train items\n",
      "Warning: 2127 (16.83 %) of 12638 users have no sampled items\n",
      "EvaluatorHoldout: Ignoring 2127 (16.8%) Users that have less than 1 test interactions\n"
     ]
    }
   ],
   "source": [
    "#urm_train, urm_test = split_train_in_two_percentage_global_sample(URM, train_percentage = 0.80)\n",
    "urm_train, urm_validation = split_train_in_two_percentage_global_sample(URM, train_percentage = 0.80)\n",
    "\n",
    "evaluator_validation = EvaluatorHoldout(urm_validation, cutoff_list=[10])\n",
    "#evaluator_test = EvaluatorHoldout(urm_test, cutoff_list=[10])"
   ]
  },
  {
   "cell_type": "markdown",
   "metadata": {},
   "source": [
    "# **Custom Models**"
   ]
  },
  {
   "cell_type": "code",
   "execution_count": 12,
   "metadata": {
    "execution": {
     "iopub.execute_input": "2023-12-20T20:26:41.131741Z",
     "iopub.status.busy": "2023-12-20T20:26:41.130977Z",
     "iopub.status.idle": "2023-12-20T20:26:41.141714Z",
     "shell.execute_reply": "2023-12-20T20:26:41.140736Z",
     "shell.execute_reply.started": "2023-12-20T20:26:41.131696Z"
    }
   },
   "outputs": [],
   "source": [
    "class ScoresHybridRecommender(BaseRecommender):\n",
    "    \"\"\" ScoresHybridRecommender\n",
    "    Hybrid of two prediction scores R = R1*alpha + R2*(1-alpha)\n",
    "\n",
    "    \"\"\"\n",
    "\n",
    "    RECOMMENDER_NAME = \"ScoresHybridRecommender\"\n",
    "\n",
    "    def __init__(self, URM_train, recommender_1, recommender_2):\n",
    "        super(ScoresHybridRecommender, self).__init__(URM_train)\n",
    "\n",
    "        self.URM_train = sps.csr_matrix(URM_train)\n",
    "        self.recommender_1 = recommender_1\n",
    "        self.recommender_2 = recommender_2\n",
    "\n",
    "\n",
    "    def fit(self, alpha=0.5):\n",
    "        self.alpha = alpha\n",
    "\n",
    "    def _compute_item_score(self, user_id_array, items_to_compute):\n",
    "\n",
    "        # In a simple extension this could be a loop over a list of pretrained recommender objects\n",
    "        item_weights_1 = self.recommender_1._compute_item_score(user_id_array)\n",
    "        item_weights_2 = self.recommender_2._compute_item_score(user_id_array)\n",
    "\n",
    "        item_weights = item_weights_1*self.alpha + item_weights_2*(1-self.alpha)\n",
    "\n",
    "        return item_weights"
   ]
  },
  {
   "cell_type": "code",
   "execution_count": 13,
   "metadata": {
    "execution": {
     "iopub.execute_input": "2023-12-20T20:26:41.143804Z",
     "iopub.status.busy": "2023-12-20T20:26:41.143277Z",
     "iopub.status.idle": "2023-12-20T20:26:41.156975Z",
     "shell.execute_reply": "2023-12-20T20:26:41.156050Z",
     "shell.execute_reply.started": "2023-12-20T20:26:41.143763Z"
    }
   },
   "outputs": [],
   "source": [
    "class LightFMCFRecommender(BaseRecommender):\n",
    "    \"\"\"LightFMCFRecommender\"\"\"\n",
    "\n",
    "    RECOMMENDER_NAME = \"LightFMCFRecommender\"\n",
    "\n",
    "    def __init__(self, URM_train):\n",
    "        super(LightFMCFRecommender, self).__init__(URM_train)\n",
    "    \n",
    "    \n",
    "    def fit(self, epochs = 300, user_alpha=1e-6, item_alpha = 1e-6, n_factors = 10, n_threads = 4, max_sampled=3, loss='warp', learning_schedule='adagrad'):\n",
    "        \n",
    "        # Let's fit a WARP model\n",
    "        self.lightFM_model = LightFM(loss=loss,\n",
    "                                     user_alpha=user_alpha,\n",
    "                                     item_alpha=item_alpha,\n",
    "                                     no_components=n_factors,\n",
    "                                     max_sampled=max_sampled,\n",
    "                                     learning_schedule=learning_schedule)\n",
    "\n",
    "        self.lightFM_model = self.lightFM_model.fit(self.URM_train, \n",
    "                                       epochs=epochs,\n",
    "                                       num_threads=n_threads,\n",
    "                                       verbose=True)\n",
    "\n",
    "\n",
    "    def _compute_item_score(self, user_id_array, items_to_compute = None):\n",
    "        \n",
    "        # Create a single (n_items, ) array with the item score, then copy it for every user\n",
    "        items_to_compute = np.arange(self.n_items)\n",
    "        \n",
    "        item_scores = - np.ones((len(user_id_array), self.n_items)) * np.inf\n",
    "\n",
    "        for user_index, user_id in enumerate(user_id_array):\n",
    "            item_scores[user_index] = self.lightFM_model.predict(int(user_id), \n",
    "                                                                 items_to_compute)\n",
    "\n",
    "        return item_scores"
   ]
  },
  {
   "cell_type": "code",
   "execution_count": 14,
   "metadata": {
    "execution": {
     "iopub.execute_input": "2023-12-20T20:26:41.159359Z",
     "iopub.status.busy": "2023-12-20T20:26:41.158586Z",
     "iopub.status.idle": "2023-12-20T20:26:41.173974Z",
     "shell.execute_reply": "2023-12-20T20:26:41.172789Z",
     "shell.execute_reply.started": "2023-12-20T20:26:41.159316Z"
    }
   },
   "outputs": [],
   "source": [
    "class GeneralizedLinearHybridRecommender(BaseRecommender):\n",
    "    \"\"\"\n",
    "    This recommender merges N recommendes by weighting their ratings\n",
    "    \"\"\"\n",
    "\n",
    "    RECOMMENDER_NAME = \"GeneralizedLinearHybridRecommender\"\n",
    "\n",
    "    def __init__(self, URM_train, recommenders: list, verbose=True):\n",
    "        self.RECOMMENDER_NAME = ''\n",
    "        for recommender in recommenders:\n",
    "            self.RECOMMENDER_NAME = self.RECOMMENDER_NAME + recommender.RECOMMENDER_NAME[:-11]\n",
    "        self.RECOMMENDER_NAME = self.RECOMMENDER_NAME + 'HybridRecommender'\n",
    "\n",
    "        super(GeneralizedLinearHybridRecommender, self).__init__(URM_train, verbose=verbose)\n",
    "\n",
    "        self.recommenders = recommenders\n",
    "\n",
    "    def fit(self, alphas=None):\n",
    "        self.alphas = alphas\n",
    "\n",
    "    def save_model(self, folder_path, file_name=None):\n",
    "        pass\n",
    "\n",
    "    def _compute_item_score(self, user_id_array, items_to_compute=None):\n",
    "        result = self.alphas[0]*self.recommenders[0]._compute_item_score(user_id_array,items_to_compute)\n",
    "        for index in range(1,len(self.alphas)):\n",
    "            result = result + self.alphas[index]*self.recommenders[index]._compute_item_score(user_id_array,items_to_compute)\n",
    "        return result"
   ]
  },
  {
   "cell_type": "code",
   "execution_count": 15,
   "metadata": {
    "execution": {
     "iopub.execute_input": "2023-12-20T20:26:41.176217Z",
     "iopub.status.busy": "2023-12-20T20:26:41.175711Z",
     "iopub.status.idle": "2023-12-20T20:26:41.194125Z",
     "shell.execute_reply": "2023-12-20T20:26:41.192848Z",
     "shell.execute_reply.started": "2023-12-20T20:26:41.176131Z"
    }
   },
   "outputs": [],
   "source": [
    "class FastIALSRecommender(BaseMatrixFactorizationRecommender):\n",
    "    RECOMMENDER_NAME = \"FastIALSRecommender\"\n",
    "\n",
    "    AVAILABLE_CONFIDENCE_SCALING = [\"linear\", \"log\"]\n",
    "    \n",
    "    def __init__(self, URM_train, verbose=True):\n",
    "        super().__init__(URM_train, verbose=verbose)\n",
    "        \n",
    "    def fit(self,\n",
    "            factors=20,\n",
    "            regularization=1e-3,\n",
    "            iterations=100,\n",
    "            calculate_training_loss=False,\n",
    "            num_threads=0,\n",
    "            confidence_scaling='linear',\n",
    "            alpha=1.0,\n",
    "            epsilon=0,\n",
    "            #---- Do not change\n",
    "            use_native=True,\n",
    "            use_cg=True,\n",
    "            use_gpu=True):\n",
    "        if confidence_scaling not in self.AVAILABLE_CONFIDENCE_SCALING:\n",
    "           raise ValueError(\"Value for 'confidence_scaling' not recognized. Acceptable values are {}, provided was '{}'\".format(self.AVAILABLE_CONFIDENCE_SCALING, confidence_scaling))\n",
    "\n",
    "        self.alpha = alpha\n",
    "        self.epsilon = epsilon\n",
    "        self.num_factors = factors\n",
    "        self.reg = regularization\n",
    "        \n",
    "        self.USER_factors = self._init_factors(self.n_users, False)  # don't need values, will compute them\n",
    "        self.ITEM_factors = self._init_factors(self.n_items)\n",
    "        \n",
    "        self.recommender = AlternatingLeastSquares(factors=factors, regularization=regularization,\n",
    "                                                        use_native=use_native, use_cg=use_cg, use_gpu=use_gpu,\n",
    "                                                        iterations=iterations,\n",
    "                                                        calculate_training_loss=calculate_training_loss,\n",
    "                                                        num_threads=num_threads)\n",
    "        \n",
    "        self._build_confidence_matrix(confidence_scaling)\n",
    "        self.recommender.fit(self.C, show_progress=self.verbose)\n",
    "        \n",
    "        self.USER_factors = self.recommender.user_factors.to_numpy()\n",
    "        self.ITEM_factors = self.recommender.item_factors.to_numpy()\n",
    "        \n",
    "    \n",
    "    def _linear_scaling_confidence(self):\n",
    "\n",
    "        C = check_matrix(self.URM_train, format=\"csr\", dtype = np.float32)\n",
    "        C.data = 1.0 + self.alpha*C.data\n",
    "\n",
    "        return C\n",
    "\n",
    "    def _log_scaling_confidence(self):\n",
    "\n",
    "        C = check_matrix(self.URM_train, format=\"csr\", dtype = np.float32)\n",
    "        C.data = 1.0 + self.alpha * np.log(1.0 + C.data / self.epsilon)\n",
    "\n",
    "        return C\n",
    "    \n",
    "    def _build_confidence_matrix(self, confidence_scaling):\n",
    "\n",
    "        if confidence_scaling == 'linear':\n",
    "            self.C = self._linear_scaling_confidence()\n",
    "        else:\n",
    "            self.C = self._log_scaling_confidence()\n",
    "\n",
    "        self.C_csc= check_matrix(self.C.copy(), format=\"csc\", dtype = np.float32)\n",
    "    \n",
    "    def _init_factors(self, num_factors, assign_values=True):\n",
    "\n",
    "        if assign_values:\n",
    "            return self.num_factors**-0.5*np.random.random_sample((num_factors, self.num_factors))\n",
    "\n",
    "        else:\n",
    "            return np.empty((num_factors, self.num_factors))"
   ]
  },
  {
   "cell_type": "markdown",
   "metadata": {},
   "source": [
    "# **Best Model Params**"
   ]
  },
  {
   "cell_type": "code",
   "execution_count": 16,
   "metadata": {
    "execution": {
     "iopub.execute_input": "2023-12-20T20:26:41.196643Z",
     "iopub.status.busy": "2023-12-20T20:26:41.195899Z",
     "iopub.status.idle": "2023-12-20T20:26:41.211657Z",
     "shell.execute_reply": "2023-12-20T20:26:41.210648Z",
     "shell.execute_reply.started": "2023-12-20T20:26:41.196599Z"
    }
   },
   "outputs": [],
   "source": [
    "ItemKNN_params = {\n",
    "    'topK': 6,\n",
    "    'shrink': 15,\n",
    "    'similarity': 'jaccard',\n",
    "    'normalize': False\n",
    "}"
   ]
  },
  {
   "cell_type": "code",
   "execution_count": 17,
   "metadata": {
    "execution": {
     "iopub.execute_input": "2023-12-20T20:26:41.214095Z",
     "iopub.status.busy": "2023-12-20T20:26:41.213576Z",
     "iopub.status.idle": "2023-12-20T20:26:41.223329Z",
     "shell.execute_reply": "2023-12-20T20:26:41.222017Z",
     "shell.execute_reply.started": "2023-12-20T20:26:41.214055Z"
    }
   },
   "outputs": [],
   "source": [
    "RP3beta_params = {\n",
    "    'alpha': 0.307953246083667, \n",
    "    'beta': 0.3073797221110665, \n",
    "    'topK': 59, \n",
    "    'normalize_similarity': True\n",
    "}"
   ]
  },
  {
   "cell_type": "code",
   "execution_count": 18,
   "metadata": {
    "execution": {
     "iopub.execute_input": "2023-12-20T20:26:41.225501Z",
     "iopub.status.busy": "2023-12-20T20:26:41.225020Z",
     "iopub.status.idle": "2023-12-20T20:26:41.235109Z",
     "shell.execute_reply": "2023-12-20T20:26:41.234053Z",
     "shell.execute_reply.started": "2023-12-20T20:26:41.225441Z"
    }
   },
   "outputs": [],
   "source": [
    "alpha_itemknn_rp3beta=0.7381515719042592"
   ]
  },
  {
   "cell_type": "code",
   "execution_count": 19,
   "metadata": {
    "execution": {
     "iopub.execute_input": "2023-12-20T20:26:41.237557Z",
     "iopub.status.busy": "2023-12-20T20:26:41.236782Z",
     "iopub.status.idle": "2023-12-20T20:26:41.245597Z",
     "shell.execute_reply": "2023-12-20T20:26:41.244579Z",
     "shell.execute_reply.started": "2023-12-20T20:26:41.237516Z"
    }
   },
   "outputs": [],
   "source": [
    "UserKNN_params = {\n",
    "    'topK': 470,\n",
    "    'shrink': 0,\n",
    "    'similarity': 'cosine',\n",
    "    'normalize': True\n",
    "}"
   ]
  },
  {
   "cell_type": "code",
   "execution_count": 20,
   "metadata": {
    "execution": {
     "iopub.execute_input": "2023-12-20T20:26:41.247496Z",
     "iopub.status.busy": "2023-12-20T20:26:41.247160Z",
     "iopub.status.idle": "2023-12-20T20:26:41.255681Z",
     "shell.execute_reply": "2023-12-20T20:26:41.254594Z",
     "shell.execute_reply.started": "2023-12-20T20:26:41.247467Z"
    }
   },
   "outputs": [],
   "source": [
    "LightFM_params = {\n",
    "                  'n_factors': 482,\n",
    "                  'max_sampled': 5,\n",
    "                  'user_alpha': 0.00023989649900734266,\n",
    "                  'item_alpha': 9.740651135253414e-05\n",
    "                 }"
   ]
  },
  {
   "cell_type": "code",
   "execution_count": 21,
   "metadata": {
    "execution": {
     "iopub.execute_input": "2023-12-20T20:26:41.257628Z",
     "iopub.status.busy": "2023-12-20T20:26:41.257275Z",
     "iopub.status.idle": "2023-12-20T20:26:41.264806Z",
     "shell.execute_reply": "2023-12-20T20:26:41.263853Z",
     "shell.execute_reply.started": "2023-12-20T20:26:41.257599Z"
    }
   },
   "outputs": [],
   "source": [
    "SLIM_params = {\n",
    "    'l1_ratio': 0.013752256221164005,\n",
    "    'alpha': 0.0031943927190071775,\n",
    "    'topK': 622\n",
    "}"
   ]
  },
  {
   "cell_type": "code",
   "execution_count": 22,
   "metadata": {
    "execution": {
     "iopub.execute_input": "2023-12-20T20:26:41.266940Z",
     "iopub.status.busy": "2023-12-20T20:26:41.266210Z",
     "iopub.status.idle": "2023-12-20T20:26:41.276416Z",
     "shell.execute_reply": "2023-12-20T20:26:41.275402Z",
     "shell.execute_reply.started": "2023-12-20T20:26:41.266908Z"
    }
   },
   "outputs": [],
   "source": [
    "NMF_params = {\n",
    "    'l1_ratio': 0.005734775635120469,\n",
    "    'num_factors': 134,\n",
    "    'beta_loss': 'frobenius',\n",
    "    'init_type': 'nndsvda',\n",
    "    'solver': 'multiplicative_update'\n",
    "}"
   ]
  },
  {
   "cell_type": "code",
   "execution_count": 23,
   "metadata": {
    "execution": {
     "iopub.execute_input": "2023-12-20T20:26:41.278632Z",
     "iopub.status.busy": "2023-12-20T20:26:41.278034Z",
     "iopub.status.idle": "2023-12-20T20:26:41.288341Z",
     "shell.execute_reply": "2023-12-20T20:26:41.287336Z",
     "shell.execute_reply.started": "2023-12-20T20:26:41.278598Z"
    }
   },
   "outputs": [],
   "source": [
    "IALS_params = {\n",
    "    'confidence_scaling': 'log',\n",
    "    'epsilon': 0.11624415533664904,\n",
    "    'factors': 116,\n",
    "    'regularization': 0.005454427904241962,\n",
    "    'alpha': 1.7221339971074425\n",
    "}"
   ]
  },
  {
   "cell_type": "markdown",
   "metadata": {},
   "source": [
    "# Tuning RP3Beta"
   ]
  },
  {
   "cell_type": "code",
   "execution_count": 24,
   "metadata": {
    "execution": {
     "iopub.execute_input": "2023-12-20T20:26:41.290125Z",
     "iopub.status.busy": "2023-12-20T20:26:41.289801Z",
     "iopub.status.idle": "2023-12-20T20:26:41.300761Z",
     "shell.execute_reply": "2023-12-20T20:26:41.299729Z",
     "shell.execute_reply.started": "2023-12-20T20:26:41.290099Z"
    }
   },
   "outputs": [],
   "source": [
    "class SaveResults(object):\n",
    "\n",
    "    def __init__(self):\n",
    "        self.results_df = pd.DataFrame(columns=[\"result\"])\n",
    "\n",
    "    def __call__(self, optuna_study, optuna_trial):\n",
    "        hyperparam_dict = optuna_trial.params.copy()\n",
    "        hyperparam_dict[\"result\"] = optuna_trial.values[0]\n",
    "\n",
    "        # Create a DataFrame from the current trial's results\n",
    "        trial_df = pd.DataFrame([hyperparam_dict])\n",
    "\n",
    "        # Use concat instead of append\n",
    "        self.results_df = pd.concat([self.results_df, trial_df], ignore_index=True)"
   ]
  },
  {
   "cell_type": "code",
   "execution_count": 25,
   "metadata": {
    "execution": {
     "iopub.execute_input": "2023-12-20T20:26:41.302566Z",
     "iopub.status.busy": "2023-12-20T20:26:41.302177Z",
     "iopub.status.idle": "2023-12-20T20:26:41.315995Z",
     "shell.execute_reply": "2023-12-20T20:26:41.314847Z",
     "shell.execute_reply.started": "2023-12-20T20:26:41.302537Z"
    }
   },
   "outputs": [],
   "source": [
    "def objective_function_rp3beta(optuna_trial):\n",
    "    recommender_instance = RP3betaRecommender(urm_train)\n",
    "    recommender_instance.fit(\n",
    "                             alpha = optuna_trial.suggest_float(\"alpha\", 0, 5),\n",
    "                             beta = optuna_trial.suggest_float(\"beta\", 0, 5),\n",
    "                             topK = optuna_trial.suggest_int(\"topK\", 5, 2000),\n",
    "                             implicit=True,\n",
    "                             normalize_similarity = optuna_trial.suggest_categorical(\"normalize_similarity\", [True, False]),\n",
    "                            )\n",
    "\n",
    "    result_df, _ = evaluator_validation.evaluateRecommender(recommender_instance)\n",
    "\n",
    "    return result_df.loc[10][\"RECALL\"]"
   ]
  },
  {
   "cell_type": "code",
   "execution_count": 26,
   "metadata": {
    "execution": {
     "iopub.execute_input": "2023-12-20T20:26:41.318438Z",
     "iopub.status.busy": "2023-12-20T20:26:41.317987Z",
     "iopub.status.idle": "2023-12-21T00:44:44.658163Z",
     "shell.execute_reply": "2023-12-21T00:44:44.656199Z",
     "shell.execute_reply.started": "2023-12-20T20:26:41.318407Z"
    },
    "scrolled": true
   },
   "outputs": [
    {
     "name": "stderr",
     "output_type": "stream",
     "text": [
      "[I 2023-12-20 20:26:41,322] A new study created in memory with name: no-name-7a2eb0c8-5ada-4540-8135-c31deb1548c4\n"
     ]
    },
    {
     "name": "stdout",
     "output_type": "stream",
     "text": [
      "RP3betaRecommender: URM Detected 240 ( 1.9%) users with no interactions.\n",
      "RP3betaRecommender: URM Detected 123 ( 0.6%) items with no interactions.\n",
      "RP3betaRecommender: Similarity column 22222 (100.0%), 494.54 column/sec. Elapsed time 44.93 sec\n",
      "EvaluatorHoldout: Processed 10511 (100.0%) in 17.32 sec. Users per second: 607\n"
     ]
    },
    {
     "name": "stderr",
     "output_type": "stream",
     "text": [
      "[I 2023-12-20 20:28:13,668] Trial 0 finished with value: 0.008357168278768276 and parameters: {'alpha': 1.2704371336206615, 'beta': 0.9833405905520853, 'topK': 998, 'normalize_similarity': True}. Best is trial 0 with value: 0.008357168278768276.\n"
     ]
    },
    {
     "name": "stdout",
     "output_type": "stream",
     "text": [
      "RP3betaRecommender: URM Detected 240 ( 1.9%) users with no interactions.\n",
      "RP3betaRecommender: URM Detected 123 ( 0.6%) items with no interactions.\n",
      "RP3betaRecommender: Similarity column 22222 (100.0%), 557.24 column/sec. Elapsed time 39.88 sec\n",
      "EvaluatorHoldout: Processed 10511 (100.0%) in 16.04 sec. Users per second: 655\n"
     ]
    },
    {
     "name": "stderr",
     "output_type": "stream",
     "text": [
      "[I 2023-12-20 20:29:35,462] Trial 1 finished with value: 0.004114475181027928 and parameters: {'alpha': 4.21347723984744, 'beta': 2.9331746512052566, 'topK': 762, 'normalize_similarity': False}. Best is trial 0 with value: 0.008357168278768276.\n"
     ]
    },
    {
     "name": "stdout",
     "output_type": "stream",
     "text": [
      "RP3betaRecommender: URM Detected 240 ( 1.9%) users with no interactions.\n",
      "RP3betaRecommender: URM Detected 123 ( 0.6%) items with no interactions.\n",
      "RP3betaRecommender: Similarity column 22222 (100.0%), 1278.10 column/sec. Elapsed time 17.39 sec\n",
      "EvaluatorHoldout: Processed 10511 (100.0%) in 11.80 sec. Users per second: 891\n"
     ]
    },
    {
     "name": "stderr",
     "output_type": "stream",
     "text": [
      "[I 2023-12-20 20:30:09,911] Trial 2 finished with value: 0.0035454655983462265 and parameters: {'alpha': 4.9401533117191585, 'beta': 4.36089306440844, 'topK': 101, 'normalize_similarity': False}. Best is trial 0 with value: 0.008357168278768276.\n"
     ]
    },
    {
     "name": "stdout",
     "output_type": "stream",
     "text": [
      "RP3betaRecommender: URM Detected 240 ( 1.9%) users with no interactions.\n",
      "RP3betaRecommender: URM Detected 123 ( 0.6%) items with no interactions.\n",
      "RP3betaRecommender: Similarity column 22222 (100.0%), 407.43 column/sec. Elapsed time 54.54 sec\n",
      "EvaluatorHoldout: Processed 10511 (100.0%) in 19.12 sec. Users per second: 550\n"
     ]
    },
    {
     "name": "stderr",
     "output_type": "stream",
     "text": [
      "[I 2023-12-20 20:32:03,796] Trial 3 finished with value: 0.004221959652062143 and parameters: {'alpha': 2.832396368603685, 'beta': 1.395106390126597, 'topK': 1926, 'normalize_similarity': True}. Best is trial 0 with value: 0.008357168278768276.\n"
     ]
    },
    {
     "name": "stdout",
     "output_type": "stream",
     "text": [
      "RP3betaRecommender: URM Detected 240 ( 1.9%) users with no interactions.\n",
      "RP3betaRecommender: URM Detected 123 ( 0.6%) items with no interactions.\n",
      "RP3betaRecommender: Similarity column 22222 (100.0%), 403.37 column/sec. Elapsed time 55.09 sec\n",
      "EvaluatorHoldout: Processed 10511 (100.0%) in 19.33 sec. Users per second: 544\n"
     ]
    },
    {
     "name": "stderr",
     "output_type": "stream",
     "text": [
      "[I 2023-12-20 20:33:59,079] Trial 4 finished with value: 0.0012676022717020533 and parameters: {'alpha': 3.6592993640672145, 'beta': 4.280240964401861, 'topK': 1951, 'normalize_similarity': True}. Best is trial 0 with value: 0.008357168278768276.\n"
     ]
    },
    {
     "name": "stdout",
     "output_type": "stream",
     "text": [
      "RP3betaRecommender: URM Detected 240 ( 1.9%) users with no interactions.\n",
      "RP3betaRecommender: URM Detected 123 ( 0.6%) items with no interactions.\n",
      "RP3betaRecommender: Similarity column 22222 (100.0%), 987.55 column/sec. Elapsed time 22.50 sec\n",
      "EvaluatorHoldout: Processed 10511 (100.0%) in 12.69 sec. Users per second: 828\n"
     ]
    },
    {
     "name": "stderr",
     "output_type": "stream",
     "text": [
      "[I 2023-12-20 20:34:45,033] Trial 5 finished with value: 0.002545358158362687 and parameters: {'alpha': 4.168301890202145, 'beta': 4.819986808894501, 'topK': 215, 'normalize_similarity': False}. Best is trial 0 with value: 0.008357168278768276.\n"
     ]
    },
    {
     "name": "stdout",
     "output_type": "stream",
     "text": [
      "RP3betaRecommender: URM Detected 240 ( 1.9%) users with no interactions.\n",
      "RP3betaRecommender: URM Detected 123 ( 0.6%) items with no interactions.\n",
      "RP3betaRecommender: Similarity column 22222 (100.0%), 847.52 column/sec. Elapsed time 26.22 sec\n",
      "EvaluatorHoldout: Processed 10511 (100.0%) in 12.99 sec. Users per second: 809\n"
     ]
    },
    {
     "name": "stderr",
     "output_type": "stream",
     "text": [
      "[I 2023-12-20 20:35:37,449] Trial 6 finished with value: 0.0011637967420972044 and parameters: {'alpha': 0.23064115053831213, 'beta': 2.806779011287376, 'topK': 303, 'normalize_similarity': True}. Best is trial 0 with value: 0.008357168278768276.\n"
     ]
    },
    {
     "name": "stdout",
     "output_type": "stream",
     "text": [
      "RP3betaRecommender: URM Detected 240 ( 1.9%) users with no interactions.\n",
      "RP3betaRecommender: URM Detected 123 ( 0.6%) items with no interactions.\n",
      "RP3betaRecommender: Similarity column 22222 (100.0%), 411.55 column/sec. Elapsed time 54.00 sec\n",
      "EvaluatorHoldout: Processed 10511 (100.0%) in 17.60 sec. Users per second: 597\n"
     ]
    },
    {
     "name": "stderr",
     "output_type": "stream",
     "text": [
      "[I 2023-12-20 20:37:25,634] Trial 7 finished with value: 0.06139795781439857 and parameters: {'alpha': 2.0952947791774883, 'beta': 0.11748380521347579, 'topK': 1829, 'normalize_similarity': True}. Best is trial 7 with value: 0.06139795781439857.\n"
     ]
    },
    {
     "name": "stdout",
     "output_type": "stream",
     "text": [
      "RP3betaRecommender: URM Detected 240 ( 1.9%) users with no interactions.\n",
      "RP3betaRecommender: URM Detected 123 ( 0.6%) items with no interactions.\n",
      "RP3betaRecommender: Similarity column 22222 (100.0%), 595.02 column/sec. Elapsed time 37.35 sec\n",
      "EvaluatorHoldout: Processed 10511 (100.0%) in 15.51 sec. Users per second: 678\n"
     ]
    },
    {
     "name": "stderr",
     "output_type": "stream",
     "text": [
      "[I 2023-12-20 20:38:42,303] Trial 8 finished with value: 0.0005598796765121644 and parameters: {'alpha': 0.18174531838042018, 'beta': 2.1065790128744184, 'topK': 656, 'normalize_similarity': False}. Best is trial 7 with value: 0.06139795781439857.\n"
     ]
    },
    {
     "name": "stdout",
     "output_type": "stream",
     "text": [
      "RP3betaRecommender: URM Detected 240 ( 1.9%) users with no interactions.\n",
      "RP3betaRecommender: URM Detected 123 ( 0.6%) items with no interactions.\n",
      "RP3betaRecommender: Similarity column 22222 (100.0%), 757.48 column/sec. Elapsed time 29.34 sec\n",
      "EvaluatorHoldout: Processed 10511 (100.0%) in 13.16 sec. Users per second: 799\n"
     ]
    },
    {
     "name": "stderr",
     "output_type": "stream",
     "text": [
      "[I 2023-12-20 20:39:37,748] Trial 9 finished with value: 0.0332837272968966 and parameters: {'alpha': 2.6979994599829986, 'beta': 0.2508348197896326, 'topK': 380, 'normalize_similarity': True}. Best is trial 7 with value: 0.06139795781439857.\n"
     ]
    },
    {
     "name": "stdout",
     "output_type": "stream",
     "text": [
      "RP3betaRecommender: URM Detected 240 ( 1.9%) users with no interactions.\n",
      "RP3betaRecommender: URM Detected 123 ( 0.6%) items with no interactions.\n",
      "RP3betaRecommender: Similarity column 22222 (100.0%), 431.05 column/sec. Elapsed time 51.55 sec\n",
      "EvaluatorHoldout: Processed 10511 (100.0%) in 16.78 sec. Users per second: 626\n"
     ]
    },
    {
     "name": "stderr",
     "output_type": "stream",
     "text": [
      "[I 2023-12-20 20:41:19,957] Trial 10 finished with value: 0.08425249641217898 and parameters: {'alpha': 1.689357689069301, 'beta': 0.000189143190412841, 'topK': 1530, 'normalize_similarity': True}. Best is trial 10 with value: 0.08425249641217898.\n"
     ]
    },
    {
     "name": "stdout",
     "output_type": "stream",
     "text": [
      "RP3betaRecommender: URM Detected 240 ( 1.9%) users with no interactions.\n",
      "RP3betaRecommender: URM Detected 123 ( 0.6%) items with no interactions.\n",
      "RP3betaRecommender: Similarity column 22222 (100.0%), 422.61 column/sec. Elapsed time 52.58 sec\n",
      "EvaluatorHoldout: Processed 10511 (100.0%) in 16.73 sec. Users per second: 628\n"
     ]
    },
    {
     "name": "stderr",
     "output_type": "stream",
     "text": [
      "[I 2023-12-20 20:43:02,236] Trial 11 finished with value: 0.07718235597734047 and parameters: {'alpha': 1.8544186113083228, 'beta': 0.012698688999307622, 'topK': 1511, 'normalize_similarity': True}. Best is trial 10 with value: 0.08425249641217898.\n"
     ]
    },
    {
     "name": "stdout",
     "output_type": "stream",
     "text": [
      "RP3betaRecommender: URM Detected 240 ( 1.9%) users with no interactions.\n",
      "RP3betaRecommender: URM Detected 123 ( 0.6%) items with no interactions.\n",
      "RP3betaRecommender: Similarity column 22222 (100.0%), 438.20 column/sec. Elapsed time 50.71 sec\n",
      "EvaluatorHoldout: Processed 10511 (100.0%) in 16.56 sec. Users per second: 635\n"
     ]
    },
    {
     "name": "stderr",
     "output_type": "stream",
     "text": [
      "[I 2023-12-20 20:44:42,319] Trial 12 finished with value: 0.09796876603714391 and parameters: {'alpha': 1.3766205901886197, 'beta': 0.005152950119172051, 'topK': 1475, 'normalize_similarity': True}. Best is trial 12 with value: 0.09796876603714391.\n"
     ]
    },
    {
     "name": "stdout",
     "output_type": "stream",
     "text": [
      "RP3betaRecommender: URM Detected 240 ( 1.9%) users with no interactions.\n",
      "RP3betaRecommender: URM Detected 123 ( 0.6%) items with no interactions.\n",
      "RP3betaRecommender: Similarity column 22222 (100.0%), 439.70 column/sec. Elapsed time 50.54 sec\n",
      "EvaluatorHoldout: Processed 10511 (100.0%) in 18.32 sec. Users per second: 574\n"
     ]
    },
    {
     "name": "stderr",
     "output_type": "stream",
     "text": [
      "[I 2023-12-20 20:46:26,387] Trial 13 finished with value: 0.008121654351399738 and parameters: {'alpha': 1.2727624294177204, 'beta': 1.015249412160802, 'topK': 1427, 'normalize_similarity': True}. Best is trial 12 with value: 0.09796876603714391.\n"
     ]
    },
    {
     "name": "stdout",
     "output_type": "stream",
     "text": [
      "RP3betaRecommender: URM Detected 240 ( 1.9%) users with no interactions.\n",
      "RP3betaRecommender: URM Detected 123 ( 0.6%) items with no interactions.\n",
      "RP3betaRecommender: Similarity column 22222 (100.0%), 448.95 column/sec. Elapsed time 49.50 sec\n",
      "EvaluatorHoldout: Processed 10511 (100.0%) in 18.31 sec. Users per second: 574\n"
     ]
    },
    {
     "name": "stderr",
     "output_type": "stream",
     "text": [
      "[I 2023-12-20 20:48:08,846] Trial 14 finished with value: 0.008393386646242252 and parameters: {'alpha': 1.1984491895057001, 'beta': 1.0144128138629236, 'topK': 1349, 'normalize_similarity': True}. Best is trial 12 with value: 0.09796876603714391.\n"
     ]
    },
    {
     "name": "stdout",
     "output_type": "stream",
     "text": [
      "RP3betaRecommender: URM Detected 240 ( 1.9%) users with no interactions.\n",
      "RP3betaRecommender: URM Detected 123 ( 0.6%) items with no interactions.\n",
      "RP3betaRecommender: Similarity column 22222 (100.0%), 428.31 column/sec. Elapsed time 51.88 sec\n",
      "EvaluatorHoldout: Processed 10511 (100.0%) in 18.13 sec. Users per second: 580\n"
     ]
    },
    {
     "name": "stderr",
     "output_type": "stream",
     "text": [
      "[I 2023-12-20 20:49:55,529] Trial 15 finished with value: 0.07782053776379408 and parameters: {'alpha': 0.7976315585403861, 'beta': 0.5510311078015789, 'topK': 1602, 'normalize_similarity': True}. Best is trial 12 with value: 0.09796876603714391.\n"
     ]
    },
    {
     "name": "stdout",
     "output_type": "stream",
     "text": [
      "RP3betaRecommender: URM Detected 240 ( 1.9%) users with no interactions.\n",
      "RP3betaRecommender: URM Detected 123 ( 0.6%) items with no interactions.\n",
      "RP3betaRecommender: Similarity column 22222 (100.0%), 472.08 column/sec. Elapsed time 47.07 sec\n",
      "EvaluatorHoldout: Processed 10511 (100.0%) in 17.70 sec. Users per second: 594\n"
     ]
    },
    {
     "name": "stderr",
     "output_type": "stream",
     "text": [
      "[I 2023-12-20 20:51:33,094] Trial 16 finished with value: 0.0029327304817338275 and parameters: {'alpha': 2.0258432221417104, 'beta': 1.7646014182633953, 'topK': 1170, 'normalize_similarity': True}. Best is trial 12 with value: 0.09796876603714391.\n"
     ]
    },
    {
     "name": "stdout",
     "output_type": "stream",
     "text": [
      "RP3betaRecommender: URM Detected 240 ( 1.9%) users with no interactions.\n",
      "RP3betaRecommender: URM Detected 123 ( 0.6%) items with no interactions.\n",
      "RP3betaRecommender: Similarity column 22222 (100.0%), 413.98 column/sec. Elapsed time 53.68 sec\n",
      "EvaluatorHoldout: Processed 10511 (100.0%) in 17.98 sec. Users per second: 585\n"
     ]
    },
    {
     "name": "stderr",
     "output_type": "stream",
     "text": [
      "[I 2023-12-20 20:53:21,222] Trial 17 finished with value: 0.015555999682663897 and parameters: {'alpha': 1.7557369088048005, 'beta': 0.6759977970829598, 'topK': 1678, 'normalize_similarity': True}. Best is trial 12 with value: 0.09796876603714391.\n"
     ]
    },
    {
     "name": "stdout",
     "output_type": "stream",
     "text": [
      "RP3betaRecommender: URM Detected 240 ( 1.9%) users with no interactions.\n",
      "RP3betaRecommender: URM Detected 123 ( 0.6%) items with no interactions.\n",
      "RP3betaRecommender: Similarity column 22222 (100.0%), 465.64 column/sec. Elapsed time 47.72 sec\n",
      "EvaluatorHoldout: Processed 10511 (100.0%) in 15.33 sec. Users per second: 685\n"
     ]
    },
    {
     "name": "stderr",
     "output_type": "stream",
     "text": [
      "[I 2023-12-20 20:54:52,032] Trial 18 finished with value: 0.017938895050598803 and parameters: {'alpha': 2.5469759171139694, 'beta': 0.04244709756894412, 'topK': 1148, 'normalize_similarity': False}. Best is trial 12 with value: 0.09796876603714391.\n"
     ]
    },
    {
     "name": "stdout",
     "output_type": "stream",
     "text": [
      "RP3betaRecommender: URM Detected 240 ( 1.9%) users with no interactions.\n",
      "RP3betaRecommender: URM Detected 123 ( 0.6%) items with no interactions.\n",
      "RP3betaRecommender: Similarity column 22222 (100.0%), 454.52 column/sec. Elapsed time 48.89 sec\n",
      "EvaluatorHoldout: Processed 10511 (100.0%) in 17.61 sec. Users per second: 597\n"
     ]
    },
    {
     "name": "stderr",
     "output_type": "stream",
     "text": [
      "[I 2023-12-20 20:56:32,114] Trial 19 finished with value: 0.07953428529984866 and parameters: {'alpha': 0.6682637655021866, 'beta': 0.5922120237301634, 'topK': 1282, 'normalize_similarity': True}. Best is trial 12 with value: 0.09796876603714391.\n"
     ]
    },
    {
     "name": "stdout",
     "output_type": "stream",
     "text": [
      "RP3betaRecommender: URM Detected 240 ( 1.9%) users with no interactions.\n",
      "RP3betaRecommender: URM Detected 123 ( 0.6%) items with no interactions.\n",
      "RP3betaRecommender: Similarity column 22222 (100.0%), 520.68 column/sec. Elapsed time 42.68 sec\n",
      "EvaluatorHoldout: Processed 10511 (100.0%) in 16.51 sec. Users per second: 637\n"
     ]
    },
    {
     "name": "stderr",
     "output_type": "stream",
     "text": [
      "[I 2023-12-20 20:57:59,020] Trial 20 finished with value: 0.0042127502602907286 and parameters: {'alpha': 2.9815429071733157, 'beta': 1.4335860929529634, 'topK': 901, 'normalize_similarity': True}. Best is trial 12 with value: 0.09796876603714391.\n"
     ]
    },
    {
     "name": "stdout",
     "output_type": "stream",
     "text": [
      "RP3betaRecommender: URM Detected 240 ( 1.9%) users with no interactions.\n",
      "RP3betaRecommender: URM Detected 123 ( 0.6%) items with no interactions.\n",
      "RP3betaRecommender: Similarity column 22222 (100.0%), 448.87 column/sec. Elapsed time 49.51 sec\n",
      "EvaluatorHoldout: Processed 10511 (100.0%) in 17.00 sec. Users per second: 618\n"
     ]
    },
    {
     "name": "stderr",
     "output_type": "stream",
     "text": [
      "[I 2023-12-20 20:59:37,780] Trial 21 finished with value: 0.08639491493693534 and parameters: {'alpha': 1.0028480811962988, 'beta': 0.4601753456227471, 'topK': 1286, 'normalize_similarity': True}. Best is trial 12 with value: 0.09796876603714391.\n"
     ]
    },
    {
     "name": "stdout",
     "output_type": "stream",
     "text": [
      "RP3betaRecommender: URM Detected 240 ( 1.9%) users with no interactions.\n",
      "RP3betaRecommender: URM Detected 123 ( 0.6%) items with no interactions.\n",
      "RP3betaRecommender: Similarity column 22222 (100.0%), 418.70 column/sec. Elapsed time 53.07 sec\n",
      "EvaluatorHoldout: Processed 10511 (100.0%) in 17.88 sec. Users per second: 588\n"
     ]
    },
    {
     "name": "stderr",
     "output_type": "stream",
     "text": [
      "[I 2023-12-20 21:01:24,970] Trial 22 finished with value: 0.04198121361814406 and parameters: {'alpha': 1.5458225913239492, 'beta': 0.4863922790030294, 'topK': 1704, 'normalize_similarity': True}. Best is trial 12 with value: 0.09796876603714391.\n"
     ]
    },
    {
     "name": "stdout",
     "output_type": "stream",
     "text": [
      "RP3betaRecommender: URM Detected 240 ( 1.9%) users with no interactions.\n",
      "RP3betaRecommender: URM Detected 123 ( 0.6%) items with no interactions.\n",
      "RP3betaRecommender: Similarity column 22222 (100.0%), 467.68 column/sec. Elapsed time 47.52 sec\n",
      "EvaluatorHoldout: Processed 10511 (100.0%) in 15.61 sec. Users per second: 674\n"
     ]
    },
    {
     "name": "stderr",
     "output_type": "stream",
     "text": [
      "[I 2023-12-20 21:02:56,824] Trial 23 finished with value: 0.11504143200896899 and parameters: {'alpha': 0.865169998639796, 'beta': 0.0014337459571986955, 'topK': 1216, 'normalize_similarity': True}. Best is trial 23 with value: 0.11504143200896899.\n"
     ]
    },
    {
     "name": "stdout",
     "output_type": "stream",
     "text": [
      "RP3betaRecommender: URM Detected 240 ( 1.9%) users with no interactions.\n",
      "RP3betaRecommender: URM Detected 123 ( 0.6%) items with no interactions.\n",
      "RP3betaRecommender: Similarity column 22222 (100.0%), 472.49 column/sec. Elapsed time 47.03 sec\n",
      "EvaluatorHoldout: Processed 10511 (100.0%) in 17.01 sec. Users per second: 618\n"
     ]
    },
    {
     "name": "stderr",
     "output_type": "stream",
     "text": [
      "[I 2023-12-20 21:04:32,379] Trial 24 finished with value: 0.09703366037458709 and parameters: {'alpha': 0.7632143723111448, 'beta': 0.4877421162041379, 'topK': 1180, 'normalize_similarity': True}. Best is trial 23 with value: 0.11504143200896899.\n"
     ]
    },
    {
     "name": "stdout",
     "output_type": "stream",
     "text": [
      "RP3betaRecommender: URM Detected 240 ( 1.9%) users with no interactions.\n",
      "RP3betaRecommender: URM Detected 123 ( 0.6%) items with no interactions.\n",
      "RP3betaRecommender: Similarity column 22222 (100.0%), 480.17 column/sec. Elapsed time 46.28 sec\n",
      "EvaluatorHoldout: Processed 10511 (100.0%) in 17.73 sec. Users per second: 593\n"
     ]
    },
    {
     "name": "stderr",
     "output_type": "stream",
     "text": [
      "[I 2023-12-20 21:06:09,759] Trial 25 finished with value: 0.020228122909421966 and parameters: {'alpha': 0.41600694568888263, 'beta': 0.8293036687418291, 'topK': 1141, 'normalize_similarity': True}. Best is trial 23 with value: 0.11504143200896899.\n"
     ]
    },
    {
     "name": "stdout",
     "output_type": "stream",
     "text": [
      "RP3betaRecommender: URM Detected 240 ( 1.9%) users with no interactions.\n",
      "RP3betaRecommender: URM Detected 123 ( 0.6%) items with no interactions.\n",
      "RP3betaRecommender: Similarity column 22222 (100.0%), 543.90 column/sec. Elapsed time 40.86 sec\n",
      "EvaluatorHoldout: Processed 10511 (100.0%) in 15.34 sec. Users per second: 685\n"
     ]
    },
    {
     "name": "stderr",
     "output_type": "stream",
     "text": [
      "[I 2023-12-20 21:07:30,934] Trial 26 finished with value: 0.12042456435513008 and parameters: {'alpha': 0.6223841746750003, 'beta': 0.3833193961778605, 'topK': 807, 'normalize_similarity': False}. Best is trial 26 with value: 0.12042456435513008.\n"
     ]
    },
    {
     "name": "stdout",
     "output_type": "stream",
     "text": [
      "RP3betaRecommender: URM Detected 240 ( 1.9%) users with no interactions.\n",
      "RP3betaRecommender: URM Detected 123 ( 0.6%) items with no interactions.\n",
      "RP3betaRecommender: Similarity column 22222 (100.0%), 639.13 column/sec. Elapsed time 34.77 sec\n",
      "EvaluatorHoldout: Processed 10511 (100.0%) in 15.01 sec. Users per second: 700\n"
     ]
    },
    {
     "name": "stderr",
     "output_type": "stream",
     "text": [
      "[I 2023-12-20 21:08:42,398] Trial 27 finished with value: 0.0012679713217519277 and parameters: {'alpha': 0.06140473281448888, 'beta': 1.2333675585304196, 'topK': 568, 'normalize_similarity': False}. Best is trial 26 with value: 0.12042456435513008.\n"
     ]
    },
    {
     "name": "stdout",
     "output_type": "stream",
     "text": [
      "RP3betaRecommender: URM Detected 240 ( 1.9%) users with no interactions.\n",
      "RP3betaRecommender: URM Detected 123 ( 0.6%) items with no interactions.\n",
      "RP3betaRecommender: Similarity column 22222 (100.0%), 531.97 column/sec. Elapsed time 41.77 sec\n",
      "EvaluatorHoldout: Processed 10511 (100.0%) in 15.53 sec. Users per second: 677\n"
     ]
    },
    {
     "name": "stderr",
     "output_type": "stream",
     "text": [
      "[I 2023-12-20 21:10:04,534] Trial 28 finished with value: 0.10927592054909652 and parameters: {'alpha': 0.44154271119107513, 'beta': 0.2558220622474451, 'topK': 858, 'normalize_similarity': False}. Best is trial 26 with value: 0.12042456435513008.\n"
     ]
    },
    {
     "name": "stdout",
     "output_type": "stream",
     "text": [
      "RP3betaRecommender: URM Detected 240 ( 1.9%) users with no interactions.\n",
      "RP3betaRecommender: URM Detected 123 ( 0.6%) items with no interactions.\n",
      "RP3betaRecommender: Similarity column 22222 (100.0%), 501.56 column/sec. Elapsed time 44.31 sec\n",
      "EvaluatorHoldout: Processed 10511 (100.0%) in 17.09 sec. Users per second: 615\n"
     ]
    },
    {
     "name": "stderr",
     "output_type": "stream",
     "text": [
      "[I 2023-12-20 21:11:35,418] Trial 29 finished with value: 0.02140362144189499 and parameters: {'alpha': 0.4877121265073021, 'beta': 0.8567467155423087, 'topK': 950, 'normalize_similarity': False}. Best is trial 26 with value: 0.12042456435513008.\n"
     ]
    },
    {
     "name": "stdout",
     "output_type": "stream",
     "text": [
      "RP3betaRecommender: URM Detected 240 ( 1.9%) users with no interactions.\n",
      "RP3betaRecommender: URM Detected 123 ( 0.6%) items with no interactions.\n",
      "RP3betaRecommender: Similarity column 22222 (100.0%), 535.76 column/sec. Elapsed time 41.48 sec\n",
      "EvaluatorHoldout: Processed 10511 (100.0%) in 14.87 sec. Users per second: 707\n"
     ]
    },
    {
     "name": "stderr",
     "output_type": "stream",
     "text": [
      "[I 2023-12-20 21:12:56,729] Trial 30 finished with value: 0.06791797470425256 and parameters: {'alpha': 0.9565295171220168, 'beta': 0.3668073592886682, 'topK': 809, 'normalize_similarity': False}. Best is trial 26 with value: 0.12042456435513008.\n"
     ]
    },
    {
     "name": "stdout",
     "output_type": "stream",
     "text": [
      "RP3betaRecommender: URM Detected 240 ( 1.9%) users with no interactions.\n",
      "RP3betaRecommender: URM Detected 123 ( 0.6%) items with no interactions.\n",
      "RP3betaRecommender: Similarity column 22222 (100.0%), 650.77 column/sec. Elapsed time 34.15 sec\n",
      "EvaluatorHoldout: Processed 10511 (100.0%) in 14.33 sec. Users per second: 734\n"
     ]
    },
    {
     "name": "stderr",
     "output_type": "stream",
     "text": [
      "[I 2023-12-20 21:14:03,761] Trial 31 finished with value: 0.11379509360631122 and parameters: {'alpha': 0.47027448715645287, 'beta': 0.2774942850715774, 'topK': 546, 'normalize_similarity': False}. Best is trial 26 with value: 0.12042456435513008.\n"
     ]
    },
    {
     "name": "stdout",
     "output_type": "stream",
     "text": [
      "RP3betaRecommender: URM Detected 240 ( 1.9%) users with no interactions.\n",
      "RP3betaRecommender: URM Detected 123 ( 0.6%) items with no interactions.\n",
      "RP3betaRecommender: Similarity column 22222 (100.0%), 624.61 column/sec. Elapsed time 35.58 sec\n",
      "EvaluatorHoldout: Processed 10511 (100.0%) in 15.57 sec. Users per second: 675\n"
     ]
    },
    {
     "name": "stderr",
     "output_type": "stream",
     "text": [
      "[I 2023-12-20 21:15:17,725] Trial 32 finished with value: 0.021981253207330124 and parameters: {'alpha': 0.42326697145977155, 'beta': 0.8482440160520716, 'topK': 587, 'normalize_similarity': False}. Best is trial 26 with value: 0.12042456435513008.\n"
     ]
    },
    {
     "name": "stdout",
     "output_type": "stream",
     "text": [
      "RP3betaRecommender: URM Detected 240 ( 1.9%) users with no interactions.\n",
      "RP3betaRecommender: URM Detected 123 ( 0.6%) items with no interactions.\n",
      "RP3betaRecommender: Similarity column 22222 (100.0%), 566.36 column/sec. Elapsed time 39.24 sec\n",
      "EvaluatorHoldout: Processed 10511 (100.0%) in 14.51 sec. Users per second: 725\n"
     ]
    },
    {
     "name": "stderr",
     "output_type": "stream",
     "text": [
      "[I 2023-12-20 21:16:33,795] Trial 33 finished with value: 0.059836838098944564 and parameters: {'alpha': 1.0604702664272772, 'beta': 0.3007470463969164, 'topK': 755, 'normalize_similarity': False}. Best is trial 26 with value: 0.12042456435513008.\n"
     ]
    },
    {
     "name": "stdout",
     "output_type": "stream",
     "text": [
      "RP3betaRecommender: URM Detected 240 ( 1.9%) users with no interactions.\n",
      "RP3betaRecommender: URM Detected 123 ( 0.6%) items with no interactions.\n",
      "RP3betaRecommender: Similarity column 22222 (100.0%), 698.07 column/sec. Elapsed time 31.83 sec\n",
      "EvaluatorHoldout: Processed 10511 (100.0%) in 14.39 sec. Users per second: 730\n"
     ]
    },
    {
     "name": "stderr",
     "output_type": "stream",
     "text": [
      "[I 2023-12-20 21:17:38,780] Trial 34 finished with value: 0.0018628020238527874 and parameters: {'alpha': 0.0817079133435249, 'beta': 1.136672869231475, 'topK': 458, 'normalize_similarity': False}. Best is trial 26 with value: 0.12042456435513008.\n"
     ]
    },
    {
     "name": "stdout",
     "output_type": "stream",
     "text": [
      "RP3betaRecommender: URM Detected 240 ( 1.9%) users with no interactions.\n",
      "RP3betaRecommender: URM Detected 123 ( 0.6%) items with no interactions.\n",
      "RP3betaRecommender: Similarity column 22222 (100.0%), 493.65 column/sec. Elapsed time 45.02 sec\n",
      "EvaluatorHoldout: Processed 10511 (100.0%) in 15.81 sec. Users per second: 665\n"
     ]
    },
    {
     "name": "stderr",
     "output_type": "stream",
     "text": [
      "[I 2023-12-20 21:19:07,510] Trial 35 finished with value: 0.11995537398196761 and parameters: {'alpha': 0.6556739130446205, 'beta': 0.32597227261845363, 'topK': 1015, 'normalize_similarity': False}. Best is trial 26 with value: 0.12042456435513008.\n"
     ]
    },
    {
     "name": "stdout",
     "output_type": "stream",
     "text": [
      "RP3betaRecommender: URM Detected 240 ( 1.9%) users with no interactions.\n",
      "RP3betaRecommender: URM Detected 123 ( 0.6%) items with no interactions.\n",
      "RP3betaRecommender: Similarity column 22222 (100.0%), 486.82 column/sec. Elapsed time 45.65 sec\n",
      "EvaluatorHoldout: Processed 10511 (100.0%) in 17.21 sec. Users per second: 611\n"
     ]
    },
    {
     "name": "stderr",
     "output_type": "stream",
     "text": [
      "[I 2023-12-20 21:20:42,389] Trial 36 finished with value: 0.0034124301572995763 and parameters: {'alpha': 0.6935044036077168, 'beta': 1.5166865132879077, 'topK': 1050, 'normalize_similarity': False}. Best is trial 26 with value: 0.12042456435513008.\n"
     ]
    },
    {
     "name": "stdout",
     "output_type": "stream",
     "text": [
      "RP3betaRecommender: URM Detected 240 ( 1.9%) users with no interactions.\n",
      "RP3betaRecommender: URM Detected 123 ( 0.6%) items with no interactions.\n",
      "RP3betaRecommender: Similarity column 22222 (100.0%), 1607.15 column/sec. Elapsed time 13.83 sec\n",
      "EvaluatorHoldout: Processed 10511 (100.0%) in 10.91 sec. Users per second: 964\n"
     ]
    },
    {
     "name": "stderr",
     "output_type": "stream",
     "text": [
      "[I 2023-12-20 21:21:09,234] Trial 37 finished with value: 0.012725513887939 and parameters: {'alpha': 1.3253938419470725, 'beta': 0.7609466383634056, 'topK': 35, 'normalize_similarity': False}. Best is trial 26 with value: 0.12042456435513008.\n"
     ]
    },
    {
     "name": "stdout",
     "output_type": "stream",
     "text": [
      "RP3betaRecommender: URM Detected 240 ( 1.9%) users with no interactions.\n",
      "RP3betaRecommender: URM Detected 123 ( 0.6%) items with no interactions.\n",
      "RP3betaRecommender: Similarity column 22222 (100.0%), 678.27 column/sec. Elapsed time 32.76 sec\n",
      "EvaluatorHoldout: Processed 10511 (100.0%) in 16.04 sec. Users per second: 655\n"
     ]
    },
    {
     "name": "stderr",
     "output_type": "stream",
     "text": [
      "[I 2023-12-20 21:22:22,947] Trial 38 finished with value: 0.005838188212666369 and parameters: {'alpha': 1.0019699649948315, 'beta': 1.2498234362871672, 'topK': 691, 'normalize_similarity': False}. Best is trial 26 with value: 0.12042456435513008.\n"
     ]
    },
    {
     "name": "stdout",
     "output_type": "stream",
     "text": [
      "RP3betaRecommender: URM Detected 240 ( 1.9%) users with no interactions.\n",
      "RP3betaRecommender: URM Detected 123 ( 0.6%) items with no interactions.\n",
      "RP3betaRecommender: Similarity column 22222 (100.0%), 543.41 column/sec. Elapsed time 40.89 sec\n",
      "EvaluatorHoldout: Processed 10511 (100.0%) in 16.49 sec. Users per second: 637\n"
     ]
    },
    {
     "name": "stderr",
     "output_type": "stream",
     "text": [
      "[I 2023-12-20 21:23:49,109] Trial 39 finished with value: 0.0939298018715396 and parameters: {'alpha': 0.01609770536551436, 'beta': 0.25690457477063505, 'topK': 1042, 'normalize_similarity': False}. Best is trial 26 with value: 0.12042456435513008.\n"
     ]
    },
    {
     "name": "stdout",
     "output_type": "stream",
     "text": [
      "RP3betaRecommender: URM Detected 240 ( 1.9%) users with no interactions.\n",
      "RP3betaRecommender: URM Detected 123 ( 0.6%) items with no interactions.\n",
      "RP3betaRecommender: Similarity column 22222 (100.0%), 945.90 column/sec. Elapsed time 23.49 sec\n",
      "EvaluatorHoldout: Processed 10511 (100.0%) in 13.28 sec. Users per second: 791\n"
     ]
    },
    {
     "name": "stderr",
     "output_type": "stream",
     "text": [
      "[I 2023-12-20 21:24:37,281] Trial 40 finished with value: 0.09651891913506283 and parameters: {'alpha': 0.3435860392028939, 'beta': 0.6458383975562845, 'topK': 240, 'normalize_similarity': False}. Best is trial 26 with value: 0.12042456435513008.\n"
     ]
    },
    {
     "name": "stdout",
     "output_type": "stream",
     "text": [
      "RP3betaRecommender: URM Detected 240 ( 1.9%) users with no interactions.\n",
      "RP3betaRecommender: URM Detected 123 ( 0.6%) items with no interactions.\n",
      "RP3betaRecommender: Similarity column 22222 (100.0%), 524.13 column/sec. Elapsed time 42.40 sec\n",
      "EvaluatorHoldout: Processed 10511 (100.0%) in 15.35 sec. Users per second: 685\n"
     ]
    },
    {
     "name": "stderr",
     "output_type": "stream",
     "text": [
      "[I 2023-12-20 21:25:59,371] Trial 41 finished with value: 0.11785632095059705 and parameters: {'alpha': 0.5740376751446544, 'beta': 0.28214683855671013, 'topK': 837, 'normalize_similarity': False}. Best is trial 26 with value: 0.12042456435513008.\n"
     ]
    },
    {
     "name": "stdout",
     "output_type": "stream",
     "text": [
      "RP3betaRecommender: URM Detected 240 ( 1.9%) users with no interactions.\n",
      "RP3betaRecommender: URM Detected 123 ( 0.6%) items with no interactions.\n",
      "RP3betaRecommender: Similarity column 22222 (100.0%), 658.87 column/sec. Elapsed time 33.73 sec\n",
      "EvaluatorHoldout: Processed 10511 (100.0%) in 14.00 sec. Users per second: 751\n"
     ]
    },
    {
     "name": "stderr",
     "output_type": "stream",
     "text": [
      "[I 2023-12-20 21:27:05,382] Trial 42 finished with value: 0.11919402372391023 and parameters: {'alpha': 0.5679430169764189, 'beta': 0.3007559036180756, 'topK': 512, 'normalize_similarity': False}. Best is trial 26 with value: 0.12042456435513008.\n"
     ]
    },
    {
     "name": "stdout",
     "output_type": "stream",
     "text": [
      "RP3betaRecommender: URM Detected 240 ( 1.9%) users with no interactions.\n",
      "RP3betaRecommender: URM Detected 123 ( 0.6%) items with no interactions.\n",
      "RP3betaRecommender: Similarity column 22222 (100.0%), 553.14 column/sec. Elapsed time 40.17 sec\n",
      "EvaluatorHoldout: Processed 10511 (100.0%) in 15.91 sec. Users per second: 661\n"
     ]
    },
    {
     "name": "stderr",
     "output_type": "stream",
     "text": [
      "[I 2023-12-20 21:28:27,520] Trial 43 finished with value: 0.037381748446603975 and parameters: {'alpha': 0.7566478745804426, 'beta': 0.7138414437235483, 'topK': 749, 'normalize_similarity': False}. Best is trial 26 with value: 0.12042456435513008.\n"
     ]
    },
    {
     "name": "stdout",
     "output_type": "stream",
     "text": [
      "RP3betaRecommender: URM Detected 240 ( 1.9%) users with no interactions.\n",
      "RP3betaRecommender: URM Detected 123 ( 0.6%) items with no interactions.\n",
      "RP3betaRecommender: Similarity column 22222 (100.0%), 509.49 column/sec. Elapsed time 43.62 sec\n",
      "EvaluatorHoldout: Processed 10511 (100.0%) in 15.70 sec. Users per second: 669\n"
     ]
    },
    {
     "name": "stderr",
     "output_type": "stream",
     "text": [
      "[I 2023-12-20 21:29:53,074] Trial 44 finished with value: 0.09875411241634247 and parameters: {'alpha': 0.26170401632128903, 'beta': 0.20289703498115397, 'topK': 952, 'normalize_similarity': False}. Best is trial 26 with value: 0.12042456435513008.\n"
     ]
    },
    {
     "name": "stdout",
     "output_type": "stream",
     "text": [
      "RP3betaRecommender: URM Detected 240 ( 1.9%) users with no interactions.\n",
      "RP3betaRecommender: URM Detected 123 ( 0.6%) items with no interactions.\n",
      "RP3betaRecommender: Similarity column 22222 (100.0%), 779.15 column/sec. Elapsed time 28.52 sec\n",
      "EvaluatorHoldout: Processed 10511 (100.0%) in 14.03 sec. Users per second: 749\n"
     ]
    },
    {
     "name": "stderr",
     "output_type": "stream",
     "text": [
      "[I 2023-12-20 21:30:51,769] Trial 45 finished with value: 0.009087983039465355 and parameters: {'alpha': 1.1306674529683056, 'beta': 0.9700181466009975, 'topK': 355, 'normalize_similarity': False}. Best is trial 26 with value: 0.12042456435513008.\n"
     ]
    },
    {
     "name": "stdout",
     "output_type": "stream",
     "text": [
      "RP3betaRecommender: URM Detected 240 ( 1.9%) users with no interactions.\n",
      "RP3betaRecommender: URM Detected 123 ( 0.6%) items with no interactions.\n",
      "RP3betaRecommender: Similarity column 22222 (100.0%), 809.32 column/sec. Elapsed time 27.46 sec\n",
      "EvaluatorHoldout: Processed 10511 (100.0%) in 12.66 sec. Users per second: 830\n"
     ]
    },
    {
     "name": "stderr",
     "output_type": "stream",
     "text": [
      "[I 2023-12-20 21:31:46,163] Trial 46 finished with value: 0.03230744436175318 and parameters: {'alpha': 1.4095832926106588, 'beta': 0.035938493748334153, 'topK': 474, 'normalize_similarity': False}. Best is trial 26 with value: 0.12042456435513008.\n"
     ]
    },
    {
     "name": "stdout",
     "output_type": "stream",
     "text": [
      "RP3betaRecommender: URM Detected 240 ( 1.9%) users with no interactions.\n",
      "RP3betaRecommender: URM Detected 123 ( 0.6%) items with no interactions.\n",
      "RP3betaRecommender: Similarity column 22222 (100.0%), 674.94 column/sec. Elapsed time 32.92 sec\n",
      "EvaluatorHoldout: Processed 10511 (100.0%) in 14.60 sec. Users per second: 720\n"
     ]
    },
    {
     "name": "stderr",
     "output_type": "stream",
     "text": [
      "[I 2023-12-20 21:32:56,293] Trial 47 finished with value: 0.07911331544809778 and parameters: {'alpha': 0.8571043906151614, 'beta': 0.41766777911680797, 'topK': 680, 'normalize_similarity': False}. Best is trial 26 with value: 0.12042456435513008.\n"
     ]
    },
    {
     "name": "stdout",
     "output_type": "stream",
     "text": [
      "RP3betaRecommender: URM Detected 240 ( 1.9%) users with no interactions.\n",
      "RP3betaRecommender: URM Detected 123 ( 0.6%) items with no interactions.\n",
      "RP3betaRecommender: Similarity column 22222 (100.0%), 552.31 column/sec. Elapsed time 40.23 sec\n",
      "EvaluatorHoldout: Processed 10511 (100.0%) in 17.13 sec. Users per second: 613\n"
     ]
    },
    {
     "name": "stderr",
     "output_type": "stream",
     "text": [
      "[I 2023-12-20 21:34:24,813] Trial 48 finished with value: 0.0009808232704233246 and parameters: {'alpha': 0.6068709568768204, 'beta': 2.4912851139005854, 'topK': 1030, 'normalize_similarity': False}. Best is trial 26 with value: 0.12042456435513008.\n"
     ]
    },
    {
     "name": "stdout",
     "output_type": "stream",
     "text": [
      "RP3betaRecommender: URM Detected 240 ( 1.9%) users with no interactions.\n",
      "RP3betaRecommender: URM Detected 123 ( 0.6%) items with no interactions.\n",
      "RP3betaRecommender: Similarity column 22222 (100.0%), 536.66 column/sec. Elapsed time 41.41 sec\n",
      "EvaluatorHoldout: Processed 10511 (100.0%) in 16.31 sec. Users per second: 644\n"
     ]
    },
    {
     "name": "stderr",
     "output_type": "stream",
     "text": [
      "[I 2023-12-20 21:35:49,477] Trial 49 finished with value: 0.09824312772928079 and parameters: {'alpha': 0.6090744530118624, 'beta': 0.5837318384214256, 'topK': 830, 'normalize_similarity': False}. Best is trial 26 with value: 0.12042456435513008.\n"
     ]
    },
    {
     "name": "stdout",
     "output_type": "stream",
     "text": [
      "RP3betaRecommender: URM Detected 240 ( 1.9%) users with no interactions.\n",
      "RP3betaRecommender: URM Detected 123 ( 0.6%) items with no interactions.\n",
      "RP3betaRecommender: Similarity column 22222 (100.0%), 1170.24 column/sec. Elapsed time 18.99 sec\n",
      "EvaluatorHoldout: Processed 10511 (100.0%) in 10.66 sec. Users per second: 986\n"
     ]
    },
    {
     "name": "stderr",
     "output_type": "stream",
     "text": [
      "[I 2023-12-20 21:36:25,156] Trial 50 finished with value: 0.10149842962889771 and parameters: {'alpha': 0.17657000204207585, 'beta': 0.1660059814083756, 'topK': 140, 'normalize_similarity': False}. Best is trial 26 with value: 0.12042456435513008.\n"
     ]
    },
    {
     "name": "stdout",
     "output_type": "stream",
     "text": [
      "RP3betaRecommender: URM Detected 240 ( 1.9%) users with no interactions.\n",
      "RP3betaRecommender: URM Detected 123 ( 0.6%) items with no interactions.\n",
      "RP3betaRecommender: Similarity column 22222 (100.0%), 636.65 column/sec. Elapsed time 34.90 sec\n",
      "EvaluatorHoldout: Processed 10511 (100.0%) in 14.42 sec. Users per second: 729\n"
     ]
    },
    {
     "name": "stderr",
     "output_type": "stream",
     "text": [
      "[I 2023-12-20 21:37:33,776] Trial 51 finished with value: 0.11891651381348327 and parameters: {'alpha': 0.5256887986256987, 'beta': 0.32030284295028133, 'topK': 546, 'normalize_similarity': False}. Best is trial 26 with value: 0.12042456435513008.\n"
     ]
    },
    {
     "name": "stdout",
     "output_type": "stream",
     "text": [
      "RP3betaRecommender: URM Detected 240 ( 1.9%) users with no interactions.\n",
      "RP3betaRecommender: URM Detected 123 ( 0.6%) items with no interactions.\n",
      "RP3betaRecommender: Similarity column 22222 (100.0%), 688.74 column/sec. Elapsed time 32.26 sec\n",
      "EvaluatorHoldout: Processed 10511 (100.0%) in 13.69 sec. Users per second: 768\n"
     ]
    },
    {
     "name": "stderr",
     "output_type": "stream",
     "text": [
      "[I 2023-12-20 21:38:37,766] Trial 52 finished with value: 0.06720535899691313 and parameters: {'alpha': 0.9029959079923592, 'beta': 0.4071419482719562, 'topK': 472, 'normalize_similarity': False}. Best is trial 26 with value: 0.12042456435513008.\n"
     ]
    },
    {
     "name": "stdout",
     "output_type": "stream",
     "text": [
      "RP3betaRecommender: URM Detected 240 ( 1.9%) users with no interactions.\n",
      "RP3betaRecommender: URM Detected 123 ( 0.6%) items with no interactions.\n",
      "RP3betaRecommender: Similarity column 22222 (100.0%), 613.73 column/sec. Elapsed time 36.21 sec\n",
      "EvaluatorHoldout: Processed 10511 (100.0%) in 14.58 sec. Users per second: 721\n"
     ]
    },
    {
     "name": "stderr",
     "output_type": "stream",
     "text": [
      "[I 2023-12-20 21:39:48,435] Trial 53 finished with value: 0.09623910799434592 and parameters: {'alpha': 0.2527900925612749, 'beta': 0.14916839005796212, 'topK': 626, 'normalize_similarity': False}. Best is trial 26 with value: 0.12042456435513008.\n"
     ]
    },
    {
     "name": "stdout",
     "output_type": "stream",
     "text": [
      "RP3betaRecommender: URM Detected 240 ( 1.9%) users with no interactions.\n",
      "RP3betaRecommender: URM Detected 123 ( 0.6%) items with no interactions.\n",
      "RP3betaRecommender: Similarity column 22222 (100.0%), 501.82 column/sec. Elapsed time 44.28 sec\n",
      "EvaluatorHoldout: Processed 10511 (100.0%) in 16.16 sec. Users per second: 651\n"
     ]
    },
    {
     "name": "stderr",
     "output_type": "stream",
     "text": [
      "[I 2023-12-20 21:41:16,101] Trial 54 finished with value: 0.01882935262357448 and parameters: {'alpha': 1.2111001424390841, 'beta': 0.6713982966839896, 'topK': 899, 'normalize_similarity': False}. Best is trial 26 with value: 0.12042456435513008.\n"
     ]
    },
    {
     "name": "stdout",
     "output_type": "stream",
     "text": [
      "RP3betaRecommender: URM Detected 240 ( 1.9%) users with no interactions.\n",
      "RP3betaRecommender: URM Detected 123 ( 0.6%) items with no interactions.\n",
      "RP3betaRecommender: Similarity column 22222 (100.0%), 573.51 column/sec. Elapsed time 38.75 sec\n",
      "EvaluatorHoldout: Processed 10511 (100.0%) in 13.96 sec. Users per second: 753\n"
     ]
    },
    {
     "name": "stderr",
     "output_type": "stream",
     "text": [
      "[I 2023-12-20 21:42:29,028] Trial 55 finished with value: 0.09983136623652647 and parameters: {'alpha': 0.5662003865017478, 'beta': 0.03594881438616371, 'topK': 732, 'normalize_similarity': False}. Best is trial 26 with value: 0.12042456435513008.\n"
     ]
    },
    {
     "name": "stdout",
     "output_type": "stream",
     "text": [
      "RP3betaRecommender: URM Detected 240 ( 1.9%) users with no interactions.\n",
      "RP3betaRecommender: URM Detected 123 ( 0.6%) items with no interactions.\n",
      "RP3betaRecommender: Similarity column 22222 (100.0%), 459.41 column/sec. Elapsed time 48.37 sec\n",
      "EvaluatorHoldout: Processed 10511 (100.0%) in 17.91 sec. Users per second: 587\n"
     ]
    },
    {
     "name": "stderr",
     "output_type": "stream",
     "text": [
      "[I 2023-12-20 21:44:09,873] Trial 56 finished with value: 0.0051495111727489105 and parameters: {'alpha': 0.2931240434456013, 'beta': 1.043229226008994, 'topK': 1300, 'normalize_similarity': False}. Best is trial 26 with value: 0.12042456435513008.\n"
     ]
    },
    {
     "name": "stdout",
     "output_type": "stream",
     "text": [
      "RP3betaRecommender: URM Detected 240 ( 1.9%) users with no interactions.\n",
      "RP3betaRecommender: URM Detected 123 ( 0.6%) items with no interactions.\n",
      "RP3betaRecommender: Similarity column 22222 (100.0%), 761.46 column/sec. Elapsed time 29.18 sec\n",
      "EvaluatorHoldout: Processed 10511 (100.0%) in 13.54 sec. Users per second: 777\n"
     ]
    },
    {
     "name": "stderr",
     "output_type": "stream",
     "text": [
      "[I 2023-12-20 21:45:08,447] Trial 57 finished with value: 0.07588060678207012 and parameters: {'alpha': 0.8010081698144542, 'beta': 0.4721403297650374, 'topK': 389, 'normalize_similarity': False}. Best is trial 26 with value: 0.12042456435513008.\n"
     ]
    },
    {
     "name": "stdout",
     "output_type": "stream",
     "text": [
      "RP3betaRecommender: URM Detected 240 ( 1.9%) users with no interactions.\n",
      "RP3betaRecommender: URM Detected 123 ( 0.6%) items with no interactions.\n",
      "RP3betaRecommender: Similarity column 22222 (100.0%), 444.09 column/sec. Elapsed time 50.04 sec\n",
      "EvaluatorHoldout: Processed 10511 (100.0%) in 18.11 sec. Users per second: 581\n"
     ]
    },
    {
     "name": "stderr",
     "output_type": "stream",
     "text": [
      "[I 2023-12-20 21:46:51,080] Trial 58 finished with value: 0.01121190906540402 and parameters: {'alpha': 1.127730513521326, 'beta': 0.8794957309041381, 'topK': 1380, 'normalize_similarity': False}. Best is trial 26 with value: 0.12042456435513008.\n"
     ]
    },
    {
     "name": "stdout",
     "output_type": "stream",
     "text": [
      "RP3betaRecommender: URM Detected 240 ( 1.9%) users with no interactions.\n",
      "RP3betaRecommender: URM Detected 123 ( 0.6%) items with no interactions.\n",
      "RP3betaRecommender: Similarity column 22222 (100.0%), 483.64 column/sec. Elapsed time 45.95 sec\n",
      "EvaluatorHoldout: Processed 10511 (100.0%) in 15.80 sec. Users per second: 665\n"
     ]
    },
    {
     "name": "stderr",
     "output_type": "stream",
     "text": [
      "[I 2023-12-20 21:48:20,307] Trial 59 finished with value: 0.08689707985592807 and parameters: {'alpha': 1.4660208841688487, 'beta': 0.19240598578368454, 'topK': 1102, 'normalize_similarity': True}. Best is trial 26 with value: 0.12042456435513008.\n"
     ]
    },
    {
     "name": "stdout",
     "output_type": "stream",
     "text": [
      "RP3betaRecommender: URM Detected 240 ( 1.9%) users with no interactions.\n",
      "RP3betaRecommender: URM Detected 123 ( 0.6%) items with no interactions.\n",
      "RP3betaRecommender: Similarity column 22222 (100.0%), 454.47 column/sec. Elapsed time 48.90 sec\n",
      "EvaluatorHoldout: Processed 10511 (100.0%) in 17.48 sec. Users per second: 601\n"
     ]
    },
    {
     "name": "stderr",
     "output_type": "stream",
     "text": [
      "[I 2023-12-20 21:49:59,594] Trial 60 finished with value: 0.1108034916333813 and parameters: {'alpha': 0.5877441572870121, 'beta': 0.542392885355591, 'topK': 1248, 'normalize_similarity': False}. Best is trial 26 with value: 0.12042456435513008.\n"
     ]
    },
    {
     "name": "stdout",
     "output_type": "stream",
     "text": [
      "RP3betaRecommender: URM Detected 240 ( 1.9%) users with no interactions.\n",
      "RP3betaRecommender: URM Detected 123 ( 0.6%) items with no interactions.\n",
      "RP3betaRecommender: Similarity column 22222 (100.0%), 652.06 column/sec. Elapsed time 34.08 sec\n",
      "EvaluatorHoldout: Processed 10511 (100.0%) in 14.52 sec. Users per second: 724\n"
     ]
    },
    {
     "name": "stderr",
     "output_type": "stream",
     "text": [
      "[I 2023-12-20 21:51:07,320] Trial 61 finished with value: 0.11688068408279549 and parameters: {'alpha': 0.45720317817208156, 'beta': 0.3243182051177449, 'topK': 549, 'normalize_similarity': False}. Best is trial 26 with value: 0.12042456435513008.\n"
     ]
    },
    {
     "name": "stdout",
     "output_type": "stream",
     "text": [
      "RP3betaRecommender: URM Detected 240 ( 1.9%) users with no interactions.\n",
      "RP3betaRecommender: URM Detected 123 ( 0.6%) items with no interactions.\n",
      "RP3betaRecommender: Similarity column 22222 (100.0%), 658.43 column/sec. Elapsed time 33.75 sec\n",
      "EvaluatorHoldout: Processed 10511 (100.0%) in 14.11 sec. Users per second: 745\n"
     ]
    },
    {
     "name": "stderr",
     "output_type": "stream",
     "text": [
      "[I 2023-12-20 21:52:13,412] Trial 62 finished with value: 0.09434595187334041 and parameters: {'alpha': 0.8534584035063096, 'beta': 0.3233921571376561, 'topK': 530, 'normalize_similarity': False}. Best is trial 26 with value: 0.12042456435513008.\n"
     ]
    },
    {
     "name": "stdout",
     "output_type": "stream",
     "text": [
      "RP3betaRecommender: URM Detected 240 ( 1.9%) users with no interactions.\n",
      "RP3betaRecommender: URM Detected 123 ( 0.6%) items with no interactions.\n",
      "RP3betaRecommender: Similarity column 22222 (100.0%), 919.18 column/sec. Elapsed time 24.18 sec\n",
      "EvaluatorHoldout: Processed 10511 (100.0%) in 12.36 sec. Users per second: 851\n"
     ]
    },
    {
     "name": "stderr",
     "output_type": "stream",
     "text": [
      "[I 2023-12-20 21:53:00,070] Trial 63 finished with value: 0.0866830631502722 and parameters: {'alpha': 0.0077247459637198035, 'beta': 0.009219268464880581, 'topK': 267, 'normalize_similarity': False}. Best is trial 26 with value: 0.12042456435513008.\n"
     ]
    },
    {
     "name": "stdout",
     "output_type": "stream",
     "text": [
      "RP3betaRecommender: URM Detected 240 ( 1.9%) users with no interactions.\n",
      "RP3betaRecommender: URM Detected 123 ( 0.6%) items with no interactions.\n",
      "RP3betaRecommender: Similarity column 22222 (100.0%), 509.79 column/sec. Elapsed time 43.59 sec\n",
      "EvaluatorHoldout: Processed 10511 (100.0%) in 16.95 sec. Users per second: 620\n"
     ]
    },
    {
     "name": "stderr",
     "output_type": "stream",
     "text": [
      "[I 2023-12-20 21:54:30,277] Trial 64 finished with value: 0.08312135788775225 and parameters: {'alpha': 0.40202528311250774, 'beta': 0.6923717250616557, 'topK': 961, 'normalize_similarity': False}. Best is trial 26 with value: 0.12042456435513008.\n"
     ]
    },
    {
     "name": "stdout",
     "output_type": "stream",
     "text": [
      "RP3betaRecommender: URM Detected 240 ( 1.9%) users with no interactions.\n",
      "RP3betaRecommender: URM Detected 123 ( 0.6%) items with no interactions.\n",
      "RP3betaRecommender: Similarity column 22222 (100.0%), 615.91 column/sec. Elapsed time 36.08 sec\n",
      "EvaluatorHoldout: Processed 10511 (100.0%) in 14.75 sec. Users per second: 713\n"
     ]
    },
    {
     "name": "stderr",
     "output_type": "stream",
     "text": [
      "[I 2023-12-20 21:55:42,731] Trial 65 finished with value: 0.11713287949147176 and parameters: {'alpha': 0.6668827464394704, 'beta': 0.38041159490483056, 'topK': 621, 'normalize_similarity': True}. Best is trial 26 with value: 0.12042456435513008.\n"
     ]
    },
    {
     "name": "stdout",
     "output_type": "stream",
     "text": [
      "RP3betaRecommender: URM Detected 240 ( 1.9%) users with no interactions.\n",
      "RP3betaRecommender: URM Detected 123 ( 0.6%) items with no interactions.\n",
      "RP3betaRecommender: Similarity column 22222 (100.0%), 601.56 column/sec. Elapsed time 36.94 sec\n",
      "EvaluatorHoldout: Processed 10511 (100.0%) in 14.76 sec. Users per second: 712\n"
     ]
    },
    {
     "name": "stderr",
     "output_type": "stream",
     "text": [
      "[I 2023-12-20 21:56:56,008] Trial 66 finished with value: 0.11907395573863185 and parameters: {'alpha': 0.6649708159671776, 'beta': 0.36074323785865275, 'topK': 642, 'normalize_similarity': False}. Best is trial 26 with value: 0.12042456435513008.\n"
     ]
    },
    {
     "name": "stdout",
     "output_type": "stream",
     "text": [
      "RP3betaRecommender: URM Detected 240 ( 1.9%) users with no interactions.\n",
      "RP3betaRecommender: URM Detected 123 ( 0.6%) items with no interactions.\n",
      "RP3betaRecommender: Similarity column 22222 (100.0%), 597.89 column/sec. Elapsed time 37.17 sec\n",
      "EvaluatorHoldout: Processed 10511 (100.0%) in 15.55 sec. Users per second: 676\n"
     ]
    },
    {
     "name": "stderr",
     "output_type": "stream",
     "text": [
      "[I 2023-12-20 21:58:11,993] Trial 67 finished with value: 0.10120054652659813 and parameters: {'alpha': 0.6865352298804626, 'beta': 0.5468687231770636, 'topK': 645, 'normalize_similarity': True}. Best is trial 26 with value: 0.12042456435513008.\n"
     ]
    },
    {
     "name": "stdout",
     "output_type": "stream",
     "text": [
      "RP3betaRecommender: URM Detected 240 ( 1.9%) users with no interactions.\n",
      "RP3betaRecommender: URM Detected 123 ( 0.6%) items with no interactions.\n",
      "RP3betaRecommender: Similarity column 22222 (100.0%), 545.28 column/sec. Elapsed time 40.75 sec\n",
      "EvaluatorHoldout: Processed 10511 (100.0%) in 16.48 sec. Users per second: 638\n"
     ]
    },
    {
     "name": "stderr",
     "output_type": "stream",
     "text": [
      "[I 2023-12-20 21:59:36,517] Trial 68 finished with value: 0.008337360597882638 and parameters: {'alpha': 0.17294792328732628, 'beta': 0.8982234483563842, 'topK': 799, 'normalize_similarity': False}. Best is trial 26 with value: 0.12042456435513008.\n"
     ]
    },
    {
     "name": "stdout",
     "output_type": "stream",
     "text": [
      "RP3betaRecommender: URM Detected 240 ( 1.9%) users with no interactions.\n",
      "RP3betaRecommender: URM Detected 123 ( 0.6%) items with no interactions.\n",
      "RP3betaRecommender: Similarity column 22222 (100.0%), 536.25 column/sec. Elapsed time 41.44 sec\n",
      "EvaluatorHoldout: Processed 10511 (100.0%) in 15.61 sec. Users per second: 674\n"
     ]
    },
    {
     "name": "stderr",
     "output_type": "stream",
     "text": [
      "[I 2023-12-20 22:00:58,899] Trial 69 finished with value: 0.09751940452417651 and parameters: {'alpha': 1.0382356460004973, 'beta': 0.40378617733671246, 'topK': 862, 'normalize_similarity': True}. Best is trial 26 with value: 0.12042456435513008.\n"
     ]
    },
    {
     "name": "stdout",
     "output_type": "stream",
     "text": [
      "RP3betaRecommender: URM Detected 240 ( 1.9%) users with no interactions.\n",
      "RP3betaRecommender: URM Detected 123 ( 0.6%) items with no interactions.\n",
      "RP3betaRecommender: Similarity column 22222 (100.0%), 798.11 column/sec. Elapsed time 27.84 sec\n",
      "EvaluatorHoldout: Processed 10511 (100.0%) in 13.48 sec. Users per second: 780\n"
     ]
    },
    {
     "name": "stderr",
     "output_type": "stream",
     "text": [
      "[I 2023-12-20 22:01:55,391] Trial 70 finished with value: 0.009548761560686469 and parameters: {'alpha': 1.6509172059709125, 'beta': 0.7677807103207785, 'topK': 352, 'normalize_similarity': False}. Best is trial 26 with value: 0.12042456435513008.\n"
     ]
    },
    {
     "name": "stdout",
     "output_type": "stream",
     "text": [
      "RP3betaRecommender: URM Detected 240 ( 1.9%) users with no interactions.\n",
      "RP3betaRecommender: URM Detected 123 ( 0.6%) items with no interactions.\n",
      "RP3betaRecommender: Similarity column 22222 (100.0%), 781.61 column/sec. Elapsed time 28.43 sec\n",
      "EvaluatorHoldout: Processed 10511 (100.0%) in 14.27 sec. Users per second: 737\n"
     ]
    },
    {
     "name": "stderr",
     "output_type": "stream",
     "text": [
      "[I 2023-12-20 22:02:56,729] Trial 71 finished with value: 0.11910868183298602 and parameters: {'alpha': 0.5153223695196054, 'beta': 0.3316650510599348, 'topK': 511, 'normalize_similarity': False}. Best is trial 26 with value: 0.12042456435513008.\n"
     ]
    },
    {
     "name": "stdout",
     "output_type": "stream",
     "text": [
      "RP3betaRecommender: URM Detected 240 ( 1.9%) users with no interactions.\n",
      "RP3betaRecommender: URM Detected 123 ( 0.6%) items with no interactions.\n",
      "RP3betaRecommender: Similarity column 22222 (100.0%), 614.01 column/sec. Elapsed time 36.19 sec\n",
      "EvaluatorHoldout: Processed 10511 (100.0%) in 13.87 sec. Users per second: 758\n"
     ]
    },
    {
     "name": "stderr",
     "output_type": "stream",
     "text": [
      "[I 2023-12-20 22:04:05,439] Trial 72 finished with value: 0.11040942250974192 and parameters: {'alpha': 0.581389798654315, 'beta': 0.16374163647811113, 'topK': 615, 'normalize_similarity': False}. Best is trial 26 with value: 0.12042456435513008.\n"
     ]
    },
    {
     "name": "stdout",
     "output_type": "stream",
     "text": [
      "RP3betaRecommender: URM Detected 240 ( 1.9%) users with no interactions.\n",
      "RP3betaRecommender: URM Detected 123 ( 0.6%) items with no interactions.\n",
      "RP3betaRecommender: Similarity column 22222 (100.0%), 744.26 column/sec. Elapsed time 29.86 sec\n",
      "EvaluatorHoldout: Processed 10511 (100.0%) in 13.90 sec. Users per second: 756\n"
     ]
    },
    {
     "name": "stderr",
     "output_type": "stream",
     "text": [
      "[I 2023-12-20 22:05:06,183] Trial 73 finished with value: 0.07697577851736888 and parameters: {'alpha': 0.715974915424084, 'beta': 0.5611800436412602, 'topK': 408, 'normalize_similarity': False}. Best is trial 26 with value: 0.12042456435513008.\n"
     ]
    },
    {
     "name": "stdout",
     "output_type": "stream",
     "text": [
      "RP3betaRecommender: URM Detected 240 ( 1.9%) users with no interactions.\n",
      "RP3betaRecommender: URM Detected 123 ( 0.6%) items with no interactions.\n",
      "RP3betaRecommender: Similarity column 22222 (100.0%), 585.44 column/sec. Elapsed time 37.96 sec\n",
      "EvaluatorHoldout: Processed 10511 (100.0%) in 15.56 sec. Users per second: 675\n"
     ]
    },
    {
     "name": "stderr",
     "output_type": "stream",
     "text": [
      "[I 2023-12-20 22:06:23,276] Trial 74 finished with value: 0.114862589532556 and parameters: {'alpha': 0.3499248304077126, 'beta': 0.36982794246841294, 'topK': 697, 'normalize_similarity': False}. Best is trial 26 with value: 0.12042456435513008.\n"
     ]
    },
    {
     "name": "stdout",
     "output_type": "stream",
     "text": [
      "RP3betaRecommender: URM Detected 240 ( 1.9%) users with no interactions.\n",
      "RP3betaRecommender: URM Detected 123 ( 0.6%) items with no interactions.\n",
      "RP3betaRecommender: Similarity column 22222 (100.0%), 647.46 column/sec. Elapsed time 34.32 sec\n",
      "EvaluatorHoldout: Processed 10511 (100.0%) in 13.25 sec. Users per second: 793\n"
     ]
    },
    {
     "name": "stderr",
     "output_type": "stream",
     "text": [
      "[I 2023-12-20 22:07:27,394] Trial 75 finished with value: 0.08815596560203846 and parameters: {'alpha': 0.9651526216782195, 'beta': 0.17964907147541048, 'topK': 523, 'normalize_similarity': False}. Best is trial 26 with value: 0.12042456435513008.\n"
     ]
    },
    {
     "name": "stdout",
     "output_type": "stream",
     "text": [
      "RP3betaRecommender: URM Detected 240 ( 1.9%) users with no interactions.\n",
      "RP3betaRecommender: URM Detected 123 ( 0.6%) items with no interactions.\n",
      "RP3betaRecommender: Similarity column 22222 (100.0%), 618.73 column/sec. Elapsed time 35.92 sec\n",
      "EvaluatorHoldout: Processed 10511 (100.0%) in 15.87 sec. Users per second: 662\n"
     ]
    },
    {
     "name": "stderr",
     "output_type": "stream",
     "text": [
      "[I 2023-12-20 22:08:44,652] Trial 76 finished with value: 0.014606714685254003 and parameters: {'alpha': 1.2226236431487087, 'beta': 0.7525217649060276, 'topK': 788, 'normalize_similarity': False}. Best is trial 26 with value: 0.12042456435513008.\n"
     ]
    },
    {
     "name": "stdout",
     "output_type": "stream",
     "text": [
      "RP3betaRecommender: URM Detected 240 ( 1.9%) users with no interactions.\n",
      "RP3betaRecommender: URM Detected 123 ( 0.6%) items with no interactions.\n",
      "RP3betaRecommender: Similarity column 22222 (100.0%), 848.18 column/sec. Elapsed time 26.20 sec\n",
      "EvaluatorHoldout: Processed 10511 (100.0%) in 14.84 sec. Users per second: 708\n"
     ]
    },
    {
     "name": "stderr",
     "output_type": "stream",
     "text": [
      "[I 2023-12-20 22:09:43,545] Trial 77 finished with value: 0.11738589414929358 and parameters: {'alpha': 0.5275735588641288, 'beta': 0.47531664531886225, 'topK': 443, 'normalize_similarity': True}. Best is trial 26 with value: 0.12042456435513008.\n"
     ]
    },
    {
     "name": "stdout",
     "output_type": "stream",
     "text": [
      "RP3betaRecommender: URM Detected 240 ( 1.9%) users with no interactions.\n",
      "RP3betaRecommender: URM Detected 123 ( 0.6%) items with no interactions.\n",
      "RP3betaRecommender: Similarity column 22222 (100.0%), 830.02 column/sec. Elapsed time 26.77 sec\n",
      "EvaluatorHoldout: Processed 10511 (100.0%) in 13.89 sec. Users per second: 757\n"
     ]
    },
    {
     "name": "stderr",
     "output_type": "stream",
     "text": [
      "[I 2023-12-20 22:10:38,353] Trial 78 finished with value: 0.09015640442835504 and parameters: {'alpha': 0.1793344472048113, 'beta': 0.6701096072120257, 'topK': 320, 'normalize_similarity': False}. Best is trial 26 with value: 0.12042456435513008.\n"
     ]
    },
    {
     "name": "stdout",
     "output_type": "stream",
     "text": [
      "RP3betaRecommender: URM Detected 240 ( 1.9%) users with no interactions.\n",
      "RP3betaRecommender: URM Detected 123 ( 0.6%) items with no interactions.\n",
      "RP3betaRecommender: Similarity column 22222 (100.0%), 863.11 column/sec. Elapsed time 25.75 sec\n",
      "EvaluatorHoldout: Processed 10511 (100.0%) in 14.45 sec. Users per second: 727\n"
     ]
    },
    {
     "name": "stderr",
     "output_type": "stream",
     "text": [
      "[I 2023-12-20 22:11:36,214] Trial 79 finished with value: 0.12008165799593644 and parameters: {'alpha': 0.456317918806158, 'beta': 0.4909951237824109, 'topK': 427, 'normalize_similarity': False}. Best is trial 26 with value: 0.12042456435513008.\n"
     ]
    },
    {
     "name": "stdout",
     "output_type": "stream",
     "text": [
      "RP3betaRecommender: URM Detected 240 ( 1.9%) users with no interactions.\n",
      "RP3betaRecommender: URM Detected 123 ( 0.6%) items with no interactions.\n",
      "RP3betaRecommender: Similarity column 22222 (100.0%), 1135.45 column/sec. Elapsed time 19.57 sec\n",
      "EvaluatorHoldout: Processed 10511 (100.0%) in 10.60 sec. Users per second: 992\n"
     ]
    },
    {
     "name": "stderr",
     "output_type": "stream",
     "text": [
      "[I 2023-12-20 22:12:12,248] Trial 80 finished with value: 0.10768578342721605 and parameters: {'alpha': 0.3564722809307066, 'beta': 0.1510841778922588, 'topK': 147, 'normalize_similarity': False}. Best is trial 26 with value: 0.12042456435513008.\n"
     ]
    },
    {
     "name": "stdout",
     "output_type": "stream",
     "text": [
      "RP3betaRecommender: URM Detected 240 ( 1.9%) users with no interactions.\n",
      "RP3betaRecommender: URM Detected 123 ( 0.6%) items with no interactions.\n",
      "RP3betaRecommender: Similarity column 22222 (100.0%), 725.95 column/sec. Elapsed time 30.61 sec\n",
      "EvaluatorHoldout: Processed 10511 (100.0%) in 14.33 sec. Users per second: 733\n"
     ]
    },
    {
     "name": "stderr",
     "output_type": "stream",
     "text": [
      "[I 2023-12-20 22:13:14,466] Trial 81 finished with value: 0.12006917982364985 and parameters: {'alpha': 0.4925077871671029, 'beta': 0.4888988667906758, 'topK': 413, 'normalize_similarity': False}. Best is trial 26 with value: 0.12042456435513008.\n"
     ]
    },
    {
     "name": "stdout",
     "output_type": "stream",
     "text": [
      "RP3betaRecommender: URM Detected 240 ( 1.9%) users with no interactions.\n",
      "RP3betaRecommender: URM Detected 123 ( 0.6%) items with no interactions.\n",
      "RP3betaRecommender: Similarity column 22222 (100.0%), 670.20 column/sec. Elapsed time 33.16 sec\n",
      "EvaluatorHoldout: Processed 10511 (100.0%) in 13.53 sec. Users per second: 777\n"
     ]
    },
    {
     "name": "stderr",
     "output_type": "stream",
     "text": [
      "[I 2023-12-20 22:14:18,957] Trial 82 finished with value: 0.10402275223858191 and parameters: {'alpha': 0.8277810593926584, 'beta': 0.2994291604956105, 'topK': 502, 'normalize_similarity': False}. Best is trial 26 with value: 0.12042456435513008.\n"
     ]
    },
    {
     "name": "stdout",
     "output_type": "stream",
     "text": [
      "RP3betaRecommender: URM Detected 240 ( 1.9%) users with no interactions.\n",
      "RP3betaRecommender: URM Detected 123 ( 0.6%) items with no interactions.\n",
      "RP3betaRecommender: Similarity column 22222 (100.0%), 402.31 column/sec. Elapsed time 55.24 sec\n",
      "EvaluatorHoldout: Processed 10511 (100.0%) in 19.20 sec. Users per second: 547\n"
     ]
    },
    {
     "name": "stderr",
     "output_type": "stream",
     "text": [
      "[I 2023-12-20 22:16:14,516] Trial 83 finished with value: 0.11129873031240894 and parameters: {'alpha': 0.5026043137023307, 'beta': 0.5977006179055977, 'topK': 1999, 'normalize_similarity': False}. Best is trial 26 with value: 0.12042456435513008.\n"
     ]
    },
    {
     "name": "stdout",
     "output_type": "stream",
     "text": [
      "RP3betaRecommender: URM Detected 240 ( 1.9%) users with no interactions.\n",
      "RP3betaRecommender: URM Detected 123 ( 0.6%) items with no interactions.\n",
      "RP3betaRecommender: Similarity column 22222 (100.0%), 721.73 column/sec. Elapsed time 30.79 sec\n",
      "EvaluatorHoldout: Processed 10511 (100.0%) in 14.67 sec. Users per second: 716\n"
     ]
    },
    {
     "name": "stderr",
     "output_type": "stream",
     "text": [
      "[I 2023-12-20 22:17:18,404] Trial 84 finished with value: 0.0100936576985283 and parameters: {'alpha': 0.9385106218631385, 'beta': 0.9740496529543858, 'topK': 431, 'normalize_similarity': False}. Best is trial 26 with value: 0.12042456435513008.\n"
     ]
    },
    {
     "name": "stdout",
     "output_type": "stream",
     "text": [
      "RP3betaRecommender: URM Detected 240 ( 1.9%) users with no interactions.\n",
      "RP3betaRecommender: URM Detected 123 ( 0.6%) items with no interactions.\n",
      "RP3betaRecommender: Similarity column 22222 (100.0%), 641.33 column/sec. Elapsed time 34.65 sec\n",
      "EvaluatorHoldout: Processed 10511 (100.0%) in 14.60 sec. Users per second: 720\n"
     ]
    },
    {
     "name": "stderr",
     "output_type": "stream",
     "text": [
      "[I 2023-12-20 22:18:27,714] Trial 85 finished with value: 0.1013301157419452 and parameters: {'alpha': 0.13723920611137025, 'beta': 0.2838401856114021, 'topK': 569, 'normalize_similarity': False}. Best is trial 26 with value: 0.12042456435513008.\n"
     ]
    },
    {
     "name": "stdout",
     "output_type": "stream",
     "text": [
      "RP3betaRecommender: URM Detected 240 ( 1.9%) users with no interactions.\n",
      "RP3betaRecommender: URM Detected 123 ( 0.6%) items with no interactions.\n",
      "RP3betaRecommender: Similarity column 22222 (100.0%), 877.73 column/sec. Elapsed time 25.32 sec\n",
      "EvaluatorHoldout: Processed 10511 (100.0%) in 13.60 sec. Users per second: 773\n"
     ]
    },
    {
     "name": "stderr",
     "output_type": "stream",
     "text": [
      "[I 2023-12-20 22:19:19,670] Trial 86 finished with value: 0.11752274830832302 and parameters: {'alpha': 0.3042260022828166, 'beta': 0.5133698766101708, 'topK': 287, 'normalize_similarity': False}. Best is trial 26 with value: 0.12042456435513008.\n"
     ]
    },
    {
     "name": "stdout",
     "output_type": "stream",
     "text": [
      "RP3betaRecommender: URM Detected 240 ( 1.9%) users with no interactions.\n",
      "RP3betaRecommender: URM Detected 123 ( 0.6%) items with no interactions.\n",
      "RP3betaRecommender: Similarity column 22222 (100.0%), 994.24 column/sec. Elapsed time 22.35 sec\n",
      "EvaluatorHoldout: Processed 10511 (100.0%) in 11.70 sec. Users per second: 898\n"
     ]
    },
    {
     "name": "stderr",
     "output_type": "stream",
     "text": [
      "[I 2023-12-20 22:20:01,314] Trial 87 finished with value: 0.1250639761328768 and parameters: {'alpha': 0.76331254110976, 'beta': 0.11707421535088294, 'topK': 212, 'normalize_similarity': False}. Best is trial 87 with value: 0.1250639761328768.\n"
     ]
    },
    {
     "name": "stdout",
     "output_type": "stream",
     "text": [
      "RP3betaRecommender: URM Detected 240 ( 1.9%) users with no interactions.\n",
      "RP3betaRecommender: URM Detected 123 ( 0.6%) items with no interactions.\n",
      "RP3betaRecommender: Similarity column 22222 (100.0%), 1053.69 column/sec. Elapsed time 21.09 sec\n",
      "EvaluatorHoldout: Processed 10511 (100.0%) in 11.50 sec. Users per second: 914\n"
     ]
    },
    {
     "name": "stderr",
     "output_type": "stream",
     "text": [
      "[I 2023-12-20 22:20:40,726] Trial 88 finished with value: 0.1252303228041381 and parameters: {'alpha': 0.7367475634466555, 'beta': 0.12253066785942623, 'topK': 186, 'normalize_similarity': False}. Best is trial 88 with value: 0.1252303228041381.\n"
     ]
    },
    {
     "name": "stdout",
     "output_type": "stream",
     "text": [
      "RP3betaRecommender: URM Detected 240 ( 1.9%) users with no interactions.\n",
      "RP3betaRecommender: URM Detected 123 ( 0.6%) items with no interactions.\n",
      "RP3betaRecommender: Similarity column 22222 (100.0%), 1050.02 column/sec. Elapsed time 21.16 sec\n",
      "EvaluatorHoldout: Processed 10511 (100.0%) in 11.73 sec. Users per second: 896\n"
     ]
    },
    {
     "name": "stderr",
     "output_type": "stream",
     "text": [
      "[I 2023-12-20 22:21:20,610] Trial 89 finished with value: 0.12345043004949162 and parameters: {'alpha': 0.7696799815680534, 'beta': 0.14430997929332925, 'topK': 189, 'normalize_similarity': False}. Best is trial 88 with value: 0.1252303228041381.\n"
     ]
    },
    {
     "name": "stdout",
     "output_type": "stream",
     "text": [
      "RP3betaRecommender: URM Detected 240 ( 1.9%) users with no interactions.\n",
      "RP3betaRecommender: URM Detected 123 ( 0.6%) items with no interactions.\n",
      "RP3betaRecommender: Similarity column 22222 (100.0%), 1459.82 column/sec. Elapsed time 15.22 sec\n",
      "EvaluatorHoldout: Processed 10511 (100.0%) in 11.19 sec. Users per second: 939\n"
     ]
    },
    {
     "name": "stderr",
     "output_type": "stream",
     "text": [
      "[I 2023-12-20 22:21:49,616] Trial 90 finished with value: 0.11117694330717613 and parameters: {'alpha': 0.7907565494097456, 'beta': 0.09113053879891236, 'topK': 63, 'normalize_similarity': False}. Best is trial 88 with value: 0.1252303228041381.\n"
     ]
    },
    {
     "name": "stdout",
     "output_type": "stream",
     "text": [
      "RP3betaRecommender: URM Detected 240 ( 1.9%) users with no interactions.\n",
      "RP3betaRecommender: URM Detected 123 ( 0.6%) items with no interactions.\n",
      "RP3betaRecommender: Similarity column 22222 (100.0%), 1027.73 column/sec. Elapsed time 21.62 sec\n",
      "EvaluatorHoldout: Processed 10511 (100.0%) in 11.66 sec. Users per second: 902\n"
     ]
    },
    {
     "name": "stderr",
     "output_type": "stream",
     "text": [
      "[I 2023-12-20 22:22:29,824] Trial 91 finished with value: 0.1245182309501267 and parameters: {'alpha': 0.7311975811843842, 'beta': 0.09402514473880541, 'topK': 201, 'normalize_similarity': False}. Best is trial 88 with value: 0.1252303228041381.\n"
     ]
    },
    {
     "name": "stdout",
     "output_type": "stream",
     "text": [
      "RP3betaRecommender: URM Detected 240 ( 1.9%) users with no interactions.\n",
      "RP3betaRecommender: URM Detected 123 ( 0.6%) items with no interactions.\n",
      "RP3betaRecommender: Similarity column 22222 (100.0%), 1108.15 column/sec. Elapsed time 20.05 sec\n",
      "EvaluatorHoldout: Processed 10511 (100.0%) in 10.24 sec. Users per second: 1027\n"
     ]
    },
    {
     "name": "stderr",
     "output_type": "stream",
     "text": [
      "[I 2023-12-20 22:23:06,487] Trial 92 finished with value: 0.045275190826869635 and parameters: {'alpha': 1.0866339125059687, 'beta': 0.11150744055895764, 'topK': 167, 'normalize_similarity': False}. Best is trial 88 with value: 0.1252303228041381.\n"
     ]
    },
    {
     "name": "stdout",
     "output_type": "stream",
     "text": [
      "RP3betaRecommender: URM Detected 240 ( 1.9%) users with no interactions.\n",
      "RP3betaRecommender: URM Detected 123 ( 0.6%) items with no interactions.\n",
      "RP3betaRecommender: Similarity column 22222 (100.0%), 1006.80 column/sec. Elapsed time 22.07 sec\n",
      "EvaluatorHoldout: Processed 10511 (100.0%) in 11.54 sec. Users per second: 911\n"
     ]
    },
    {
     "name": "stderr",
     "output_type": "stream",
     "text": [
      "[I 2023-12-20 22:23:47,090] Trial 93 finished with value: 0.09201686284150594 and parameters: {'alpha': 0.9406314949534359, 'beta': 0.05187877270886082, 'topK': 203, 'normalize_similarity': False}. Best is trial 88 with value: 0.1252303228041381.\n"
     ]
    },
    {
     "name": "stdout",
     "output_type": "stream",
     "text": [
      "RP3betaRecommender: URM Detected 240 ( 1.9%) users with no interactions.\n",
      "RP3betaRecommender: URM Detected 123 ( 0.6%) items with no interactions.\n",
      "RP3betaRecommender: Similarity column 22222 (100.0%), 1779.61 column/sec. Elapsed time 12.49 sec\n",
      "EvaluatorHoldout: Processed 10511 (100.0%) in 9.94 sec. Users per second: 1057\n"
     ]
    },
    {
     "name": "stderr",
     "output_type": "stream",
     "text": [
      "[I 2023-12-20 22:24:10,488] Trial 94 finished with value: 0.12129265376615682 and parameters: {'alpha': 0.41196858152110694, 'beta': 0.21387058464291892, 'topK': 8, 'normalize_similarity': False}. Best is trial 88 with value: 0.1252303228041381.\n"
     ]
    },
    {
     "name": "stdout",
     "output_type": "stream",
     "text": [
      "RP3betaRecommender: URM Detected 240 ( 1.9%) users with no interactions.\n",
      "RP3betaRecommender: URM Detected 123 ( 0.6%) items with no interactions.\n",
      "RP3betaRecommender: Similarity column 22222 (100.0%), 1285.78 column/sec. Elapsed time 17.28 sec\n",
      "EvaluatorHoldout: Processed 10511 (100.0%) in 11.12 sec. Users per second: 945\n"
     ]
    },
    {
     "name": "stderr",
     "output_type": "stream",
     "text": [
      "[I 2023-12-20 22:24:43,327] Trial 95 finished with value: 0.11556963691545466 and parameters: {'alpha': 0.7734996257825363, 'beta': 0.18152068196193952, 'topK': 104, 'normalize_similarity': False}. Best is trial 88 with value: 0.1252303228041381.\n"
     ]
    },
    {
     "name": "stdout",
     "output_type": "stream",
     "text": [
      "RP3betaRecommender: URM Detected 240 ( 1.9%) users with no interactions.\n",
      "RP3betaRecommender: URM Detected 123 ( 0.6%) items with no interactions.\n",
      "RP3betaRecommender: Similarity column 22222 (100.0%), 1015.46 column/sec. Elapsed time 21.88 sec\n",
      "EvaluatorHoldout: Processed 10511 (100.0%) in 11.70 sec. Users per second: 898\n"
     ]
    },
    {
     "name": "stderr",
     "output_type": "stream",
     "text": [
      "[I 2023-12-20 22:25:23,304] Trial 96 finished with value: 0.09917680499755081 and parameters: {'alpha': 0.3751505043149609, 'beta': 0.011604980504902496, 'topK': 205, 'normalize_similarity': False}. Best is trial 88 with value: 0.1252303228041381.\n"
     ]
    },
    {
     "name": "stdout",
     "output_type": "stream",
     "text": [
      "RP3betaRecommender: URM Detected 240 ( 1.9%) users with no interactions.\n",
      "RP3betaRecommender: URM Detected 123 ( 0.6%) items with no interactions.\n",
      "RP3betaRecommender: Similarity column 22222 (100.0%), 1690.56 column/sec. Elapsed time 13.14 sec\n",
      "EvaluatorHoldout: Processed 10511 (100.0%) in 10.66 sec. Users per second: 986\n"
     ]
    },
    {
     "name": "stderr",
     "output_type": "stream",
     "text": [
      "[I 2023-12-20 22:25:48,319] Trial 97 finished with value: 0.10935186165553185 and parameters: {'alpha': 0.11029870413520193, 'beta': 0.4715258200177821, 'topK': 17, 'normalize_similarity': False}. Best is trial 88 with value: 0.1252303228041381.\n"
     ]
    },
    {
     "name": "stdout",
     "output_type": "stream",
     "text": [
      "RP3betaRecommender: URM Detected 240 ( 1.9%) users with no interactions.\n",
      "RP3betaRecommender: URM Detected 123 ( 0.6%) items with no interactions.\n",
      "RP3betaRecommender: Similarity column 22222 (100.0%), 1393.49 column/sec. Elapsed time 15.95 sec\n",
      "EvaluatorHoldout: Processed 10511 (100.0%) in 10.87 sec. Users per second: 967\n"
     ]
    },
    {
     "name": "stderr",
     "output_type": "stream",
     "text": [
      "[I 2023-12-20 22:26:18,640] Trial 98 finished with value: 0.020887938465550936 and parameters: {'alpha': 1.2747720850591666, 'beta': 0.23192488282095786, 'topK': 77, 'normalize_similarity': False}. Best is trial 88 with value: 0.1252303228041381.\n"
     ]
    },
    {
     "name": "stdout",
     "output_type": "stream",
     "text": [
      "RP3betaRecommender: URM Detected 240 ( 1.9%) users with no interactions.\n",
      "RP3betaRecommender: URM Detected 123 ( 0.6%) items with no interactions.\n",
      "RP3betaRecommender: Similarity column 22222 (100.0%), 805.76 column/sec. Elapsed time 27.58 sec\n",
      "EvaluatorHoldout: Processed 10511 (100.0%) in 12.73 sec. Users per second: 826\n"
     ]
    },
    {
     "name": "stderr",
     "output_type": "stream",
     "text": [
      "[I 2023-12-20 22:27:10,085] Trial 99 finished with value: 0.09568729275434629 and parameters: {'alpha': 0.2654687227987421, 'beta': 0.08812426285538422, 'topK': 329, 'normalize_similarity': False}. Best is trial 88 with value: 0.1252303228041381.\n"
     ]
    },
    {
     "name": "stdout",
     "output_type": "stream",
     "text": [
      "RP3betaRecommender: URM Detected 240 ( 1.9%) users with no interactions.\n",
      "RP3betaRecommender: URM Detected 123 ( 0.6%) items with no interactions.\n",
      "RP3betaRecommender: Similarity column 22222 (100.0%), 945.76 column/sec. Elapsed time 23.50 sec\n",
      "EvaluatorHoldout: Processed 10511 (100.0%) in 13.23 sec. Users per second: 795\n"
     ]
    },
    {
     "name": "stderr",
     "output_type": "stream",
     "text": [
      "[I 2023-12-20 22:27:59,056] Trial 100 finished with value: 0.10188867156293861 and parameters: {'alpha': 0.4207419161788066, 'beta': 0.6180434355368364, 'topK': 246, 'normalize_similarity': False}. Best is trial 88 with value: 0.1252303228041381.\n"
     ]
    },
    {
     "name": "stdout",
     "output_type": "stream",
     "text": [
      "RP3betaRecommender: URM Detected 240 ( 1.9%) users with no interactions.\n",
      "RP3betaRecommender: URM Detected 123 ( 0.6%) items with no interactions.\n",
      "RP3betaRecommender: Similarity column 22222 (100.0%), 1089.37 column/sec. Elapsed time 20.40 sec\n",
      "EvaluatorHoldout: Processed 10511 (100.0%) in 10.52 sec. Users per second: 1000\n"
     ]
    },
    {
     "name": "stderr",
     "output_type": "stream",
     "text": [
      "[I 2023-12-20 22:28:37,021] Trial 101 finished with value: 0.12420779468910853 and parameters: {'alpha': 0.6772071363851772, 'beta': 0.21696664745362665, 'topK': 173, 'normalize_similarity': False}. Best is trial 88 with value: 0.1252303228041381.\n"
     ]
    },
    {
     "name": "stdout",
     "output_type": "stream",
     "text": [
      "RP3betaRecommender: URM Detected 240 ( 1.9%) users with no interactions.\n",
      "RP3betaRecommender: URM Detected 123 ( 0.6%) items with no interactions.\n",
      "RP3betaRecommender: Similarity column 22222 (100.0%), 1092.93 column/sec. Elapsed time 20.33 sec\n",
      "EvaluatorHoldout: Processed 10511 (100.0%) in 11.01 sec. Users per second: 955\n"
     ]
    },
    {
     "name": "stderr",
     "output_type": "stream",
     "text": [
      "[I 2023-12-20 22:29:15,478] Trial 102 finished with value: 0.12355062755716596 and parameters: {'alpha': 0.6706552688374112, 'beta': 0.23445178563101532, 'topK': 169, 'normalize_similarity': False}. Best is trial 88 with value: 0.1252303228041381.\n"
     ]
    },
    {
     "name": "stdout",
     "output_type": "stream",
     "text": [
      "RP3betaRecommender: URM Detected 240 ( 1.9%) users with no interactions.\n",
      "RP3betaRecommender: URM Detected 123 ( 0.6%) items with no interactions.\n",
      "RP3betaRecommender: Similarity column 22222 (100.0%), 1268.52 column/sec. Elapsed time 17.52 sec\n",
      "EvaluatorHoldout: Processed 10511 (100.0%) in 11.78 sec. Users per second: 892\n"
     ]
    },
    {
     "name": "stderr",
     "output_type": "stream",
     "text": [
      "[I 2023-12-20 22:29:50,748] Trial 103 finished with value: 0.08881291276059236 and parameters: {'alpha': 0.7394624953532967, 'beta': 0.43977952406842546, 'topK': 113, 'normalize_similarity': False}. Best is trial 88 with value: 0.1252303228041381.\n"
     ]
    },
    {
     "name": "stdout",
     "output_type": "stream",
     "text": [
      "RP3betaRecommender: URM Detected 240 ( 1.9%) users with no interactions.\n",
      "RP3betaRecommender: URM Detected 123 ( 0.6%) items with no interactions.\n",
      "RP3betaRecommender: Similarity column 22222 (100.0%), 1084.34 column/sec. Elapsed time 20.49 sec\n",
      "EvaluatorHoldout: Processed 10511 (100.0%) in 10.55 sec. Users per second: 997\n"
     ]
    },
    {
     "name": "stderr",
     "output_type": "stream",
     "text": [
      "[I 2023-12-20 22:30:29,156] Trial 104 finished with value: 0.09313357134218125 and parameters: {'alpha': 0.8641955601177423, 'beta': 0.2223972046077759, 'topK': 174, 'normalize_similarity': False}. Best is trial 88 with value: 0.1252303228041381.\n"
     ]
    },
    {
     "name": "stdout",
     "output_type": "stream",
     "text": [
      "RP3betaRecommender: URM Detected 240 ( 1.9%) users with no interactions.\n",
      "RP3betaRecommender: URM Detected 123 ( 0.6%) items with no interactions.\n",
      "RP3betaRecommender: Similarity column 22222 (100.0%), 1484.10 column/sec. Elapsed time 14.97 sec\n",
      "EvaluatorHoldout: Processed 10511 (100.0%) in 11.10 sec. Users per second: 947\n"
     ]
    },
    {
     "name": "stderr",
     "output_type": "stream",
     "text": [
      "[I 2023-12-20 22:30:57,725] Trial 105 finished with value: 0.12443098793124263 and parameters: {'alpha': 0.6680104282285115, 'beta': 0.1293236438197694, 'topK': 57, 'normalize_similarity': False}. Best is trial 88 with value: 0.1252303228041381.\n"
     ]
    },
    {
     "name": "stdout",
     "output_type": "stream",
     "text": [
      "RP3betaRecommender: URM Detected 240 ( 1.9%) users with no interactions.\n",
      "RP3betaRecommender: URM Detected 123 ( 0.6%) items with no interactions.\n",
      "RP3betaRecommender: Similarity column 22222 (100.0%), 1463.83 column/sec. Elapsed time 15.18 sec\n",
      "EvaluatorHoldout: Processed 10511 (100.0%) in 10.90 sec. Users per second: 964\n"
     ]
    },
    {
     "name": "stderr",
     "output_type": "stream",
     "text": [
      "[I 2023-12-20 22:31:26,745] Trial 106 finished with value: 0.0333507573565144 and parameters: {'alpha': 1.0455144933954277, 'beta': 0.22142079701908468, 'topK': 62, 'normalize_similarity': False}. Best is trial 88 with value: 0.1252303228041381.\n"
     ]
    },
    {
     "name": "stdout",
     "output_type": "stream",
     "text": [
      "RP3betaRecommender: URM Detected 240 ( 1.9%) users with no interactions.\n",
      "RP3betaRecommender: URM Detected 123 ( 0.6%) items with no interactions.\n",
      "RP3betaRecommender: Similarity column 22222 (100.0%), 1800.11 column/sec. Elapsed time 12.34 sec\n",
      "EvaluatorHoldout: Processed 10511 (100.0%) in 9.46 sec. Users per second: 1112\n"
     ]
    },
    {
     "name": "stderr",
     "output_type": "stream",
     "text": [
      "[I 2023-12-20 22:31:49,376] Trial 107 finished with value: 0.09034401092630509 and parameters: {'alpha': 0.7163682518499543, 'beta': 0.10720904608677517, 'topK': 5, 'normalize_similarity': False}. Best is trial 88 with value: 0.1252303228041381.\n"
     ]
    },
    {
     "name": "stdout",
     "output_type": "stream",
     "text": [
      "RP3betaRecommender: URM Detected 240 ( 1.9%) users with no interactions.\n",
      "RP3betaRecommender: URM Detected 123 ( 0.6%) items with no interactions.\n",
      "RP3betaRecommender: Similarity column 22222 (100.0%), 992.10 column/sec. Elapsed time 22.40 sec\n",
      "EvaluatorHoldout: Processed 10511 (100.0%) in 11.57 sec. Users per second: 909\n"
     ]
    },
    {
     "name": "stderr",
     "output_type": "stream",
     "text": [
      "[I 2023-12-20 22:32:30,544] Trial 108 finished with value: 0.04550557069537852 and parameters: {'alpha': 1.1434756479354837, 'beta': 0.014834921026928849, 'topK': 220, 'normalize_similarity': False}. Best is trial 88 with value: 0.1252303228041381.\n"
     ]
    },
    {
     "name": "stdout",
     "output_type": "stream",
     "text": [
      "RP3betaRecommender: URM Detected 240 ( 1.9%) users with no interactions.\n",
      "RP3betaRecommender: URM Detected 123 ( 0.6%) items with no interactions.\n",
      "RP3betaRecommender: Similarity column 22222 (100.0%), 1250.29 column/sec. Elapsed time 17.77 sec\n",
      "EvaluatorHoldout: Processed 10511 (100.0%) in 11.73 sec. Users per second: 896\n"
     ]
    },
    {
     "name": "stderr",
     "output_type": "stream",
     "text": [
      "[I 2023-12-20 22:33:06,330] Trial 109 finished with value: 0.12177014634591238 and parameters: {'alpha': 0.45957265551494764, 'beta': 0.4633245644031224, 'topK': 117, 'normalize_similarity': False}. Best is trial 88 with value: 0.1252303228041381.\n"
     ]
    },
    {
     "name": "stdout",
     "output_type": "stream",
     "text": [
      "RP3betaRecommender: URM Detected 240 ( 1.9%) users with no interactions.\n",
      "RP3betaRecommender: URM Detected 123 ( 0.6%) items with no interactions.\n",
      "RP3betaRecommender: Similarity column 22222 (100.0%), 896.59 column/sec. Elapsed time 24.78 sec\n",
      "EvaluatorHoldout: Processed 10511 (100.0%) in 12.84 sec. Users per second: 819\n"
     ]
    },
    {
     "name": "stderr",
     "output_type": "stream",
     "text": [
      "[I 2023-12-20 22:33:55,947] Trial 110 finished with value: 0.11890481155962426 and parameters: {'alpha': 0.622481521477938, 'beta': 0.4001563938760685, 'topK': 274, 'normalize_similarity': False}. Best is trial 88 with value: 0.1252303228041381.\n"
     ]
    },
    {
     "name": "stdout",
     "output_type": "stream",
     "text": [
      "RP3betaRecommender: URM Detected 240 ( 1.9%) users with no interactions.\n",
      "RP3betaRecommender: URM Detected 123 ( 0.6%) items with no interactions.\n",
      "RP3betaRecommender: Similarity column 22222 (100.0%), 1228.16 column/sec. Elapsed time 18.09 sec\n",
      "EvaluatorHoldout: Processed 10511 (100.0%) in 10.44 sec. Users per second: 1007\n"
     ]
    },
    {
     "name": "stderr",
     "output_type": "stream",
     "text": [
      "[I 2023-12-20 22:34:29,096] Trial 111 finished with value: 0.10853894299940346 and parameters: {'alpha': 0.43688921903700056, 'beta': 0.1097898146529169, 'topK': 122, 'normalize_similarity': False}. Best is trial 88 with value: 0.1252303228041381.\n"
     ]
    },
    {
     "name": "stdout",
     "output_type": "stream",
     "text": [
      "RP3betaRecommender: URM Detected 240 ( 1.9%) users with no interactions.\n",
      "RP3betaRecommender: URM Detected 123 ( 0.6%) items with no interactions.\n",
      "RP3betaRecommender: Similarity column 22222 (100.0%), 1112.08 column/sec. Elapsed time 19.98 sec\n",
      "EvaluatorHoldout: Processed 10511 (100.0%) in 11.53 sec. Users per second: 912\n"
     ]
    },
    {
     "name": "stderr",
     "output_type": "stream",
     "text": [
      "[I 2023-12-20 22:35:08,698] Trial 112 finished with value: 0.11390969988493078 and parameters: {'alpha': 0.22668177856180471, 'beta': 0.501280709796204, 'topK': 165, 'normalize_similarity': False}. Best is trial 88 with value: 0.1252303228041381.\n"
     ]
    },
    {
     "name": "stdout",
     "output_type": "stream",
     "text": [
      "RP3betaRecommender: URM Detected 240 ( 1.9%) users with no interactions.\n",
      "RP3betaRecommender: URM Detected 123 ( 0.6%) items with no interactions.\n",
      "RP3betaRecommender: Similarity column 22222 (100.0%), 1484.12 column/sec. Elapsed time 14.97 sec\n",
      "EvaluatorHoldout: Processed 10511 (100.0%) in 10.85 sec. Users per second: 969\n"
     ]
    },
    {
     "name": "stderr",
     "output_type": "stream",
     "text": [
      "[I 2023-12-20 22:35:37,426] Trial 113 finished with value: 0.058906829167944326 and parameters: {'alpha': 0.9111684419336618, 'beta': 0.24670270082088985, 'topK': 58, 'normalize_similarity': False}. Best is trial 88 with value: 0.1252303228041381.\n"
     ]
    },
    {
     "name": "stdout",
     "output_type": "stream",
     "text": [
      "RP3betaRecommender: URM Detected 240 ( 1.9%) users with no interactions.\n",
      "RP3betaRecommender: URM Detected 123 ( 0.6%) items with no interactions.\n",
      "RP3betaRecommender: Similarity column 22222 (100.0%), 1070.76 column/sec. Elapsed time 20.75 sec\n",
      "EvaluatorHoldout: Processed 10511 (100.0%) in 11.29 sec. Users per second: 931\n"
     ]
    },
    {
     "name": "stderr",
     "output_type": "stream",
     "text": [
      "[I 2023-12-20 22:36:18,422] Trial 114 finished with value: 0.03168859772793543 and parameters: {'alpha': 0.4903145517858216, 'beta': 0.7926714784991432, 'topK': 183, 'normalize_similarity': False}. Best is trial 88 with value: 0.1252303228041381.\n"
     ]
    },
    {
     "name": "stdout",
     "output_type": "stream",
     "text": [
      "RP3betaRecommender: URM Detected 240 ( 1.9%) users with no interactions.\n",
      "RP3betaRecommender: URM Detected 123 ( 0.6%) items with no interactions.\n",
      "RP3betaRecommender: Similarity column 22222 (100.0%), 951.39 column/sec. Elapsed time 23.36 sec\n",
      "EvaluatorHoldout: Processed 10511 (100.0%) in 13.12 sec. Users per second: 801\n"
     ]
    },
    {
     "name": "stderr",
     "output_type": "stream",
     "text": [
      "[I 2023-12-20 22:37:06,634] Trial 115 finished with value: 0.0711300814420733 and parameters: {'alpha': 0.6526667073558603, 'beta': 0.6247139075634136, 'topK': 240, 'normalize_similarity': False}. Best is trial 88 with value: 0.1252303228041381.\n"
     ]
    },
    {
     "name": "stdout",
     "output_type": "stream",
     "text": [
      "RP3betaRecommender: URM Detected 240 ( 1.9%) users with no interactions.\n",
      "RP3betaRecommender: URM Detected 123 ( 0.6%) items with no interactions.\n",
      "RP3betaRecommender: Similarity column 22222 (100.0%), 1311.11 column/sec. Elapsed time 16.95 sec\n",
      "EvaluatorHoldout: Processed 10511 (100.0%) in 11.37 sec. Users per second: 924\n"
     ]
    },
    {
     "name": "stderr",
     "output_type": "stream",
     "text": [
      "[I 2023-12-20 22:37:40,203] Trial 116 finished with value: 0.07502908403639809 and parameters: {'alpha': 0.8166784565041922, 'beta': 0.3886818605771177, 'topK': 99, 'normalize_similarity': False}. Best is trial 88 with value: 0.1252303228041381.\n"
     ]
    },
    {
     "name": "stdout",
     "output_type": "stream",
     "text": [
      "RP3betaRecommender: URM Detected 240 ( 1.9%) users with no interactions.\n",
      "RP3betaRecommender: URM Detected 123 ( 0.6%) items with no interactions.\n",
      "RP3betaRecommender: Similarity column 22222 (100.0%), 1203.33 column/sec. Elapsed time 18.47 sec\n",
      "EvaluatorHoldout: Processed 10511 (100.0%) in 10.42 sec. Users per second: 1009\n"
     ]
    },
    {
     "name": "stderr",
     "output_type": "stream",
     "text": [
      "[I 2023-12-20 22:38:14,293] Trial 117 finished with value: 0.104301635403568 and parameters: {'alpha': 0.3032382298796281, 'beta': 0.13187867973492462, 'topK': 133, 'normalize_similarity': False}. Best is trial 88 with value: 0.1252303228041381.\n"
     ]
    },
    {
     "name": "stdout",
     "output_type": "stream",
     "text": [
      "RP3betaRecommender: URM Detected 240 ( 1.9%) users with no interactions.\n",
      "RP3betaRecommender: URM Detected 123 ( 0.6%) items with no interactions.\n",
      "RP3betaRecommender: Similarity column 22222 (100.0%), 774.32 column/sec. Elapsed time 28.70 sec\n",
      "EvaluatorHoldout: Processed 10511 (100.0%) in 14.01 sec. Users per second: 750\n"
     ]
    },
    {
     "name": "stderr",
     "output_type": "stream",
     "text": [
      "[I 2023-12-20 22:39:12,839] Trial 118 finished with value: 0.11854555927636533 and parameters: {'alpha': 0.519278026514891, 'beta': 0.48915474147023785, 'topK': 369, 'normalize_similarity': False}. Best is trial 88 with value: 0.1252303228041381.\n"
     ]
    },
    {
     "name": "stdout",
     "output_type": "stream",
     "text": [
      "RP3betaRecommender: URM Detected 240 ( 1.9%) users with no interactions.\n",
      "RP3betaRecommender: URM Detected 123 ( 0.6%) items with no interactions.\n",
      "RP3betaRecommender: Similarity column 22222 (100.0%), 1061.31 column/sec. Elapsed time 20.94 sec\n",
      "EvaluatorHoldout: Processed 10511 (100.0%) in 12.36 sec. Users per second: 851\n"
     ]
    },
    {
     "name": "stderr",
     "output_type": "stream",
     "text": [
      "[I 2023-12-20 22:39:57,136] Trial 119 finished with value: 0.06612892718102917 and parameters: {'alpha': 0.9926237695818056, 'beta': 0.26004811985308285, 'topK': 298, 'normalize_similarity': False}. Best is trial 88 with value: 0.1252303228041381.\n"
     ]
    },
    {
     "name": "stdout",
     "output_type": "stream",
     "text": [
      "RP3betaRecommender: URM Detected 240 ( 1.9%) users with no interactions.\n",
      "RP3betaRecommender: URM Detected 123 ( 0.6%) items with no interactions.\n",
      "RP3betaRecommender: Similarity column 22222 (100.0%), 1587.07 column/sec. Elapsed time 14.00 sec\n",
      "EvaluatorHoldout: Processed 10511 (100.0%) in 11.03 sec. Users per second: 953\n"
     ]
    },
    {
     "name": "stderr",
     "output_type": "stream",
     "text": [
      "[I 2023-12-20 22:40:24,385] Trial 120 finished with value: 0.04967128283250634 and parameters: {'alpha': 0.6433781809378365, 'beta': 0.6713857281163507, 'topK': 40, 'normalize_similarity': False}. Best is trial 88 with value: 0.1252303228041381.\n"
     ]
    },
    {
     "name": "stdout",
     "output_type": "stream",
     "text": [
      "RP3betaRecommender: URM Detected 240 ( 1.9%) users with no interactions.\n",
      "RP3betaRecommender: URM Detected 123 ( 0.6%) items with no interactions.\n",
      "RP3betaRecommender: Similarity column 22222 (100.0%), 1937.89 column/sec. Elapsed time 11.47 sec\n",
      "EvaluatorHoldout: Processed 10511 (100.0%) in 11.41 sec. Users per second: 921\n"
     ]
    },
    {
     "name": "stderr",
     "output_type": "stream",
     "text": [
      "[I 2023-12-20 22:40:51,615] Trial 121 finished with value: 0.09578167933503198 and parameters: {'alpha': 0.7664383889344343, 'beta': 0.3322572414210585, 'topK': 84, 'normalize_similarity': False}. Best is trial 88 with value: 0.1252303228041381.\n"
     ]
    },
    {
     "name": "stdout",
     "output_type": "stream",
     "text": [
      "RP3betaRecommender: URM Detected 240 ( 1.9%) users with no interactions.\n",
      "RP3betaRecommender: URM Detected 123 ( 0.6%) items with no interactions.\n",
      "RP3betaRecommender: Similarity column 22222 (100.0%), 992.64 column/sec. Elapsed time 22.39 sec\n",
      "EvaluatorHoldout: Processed 10511 (100.0%) in 12.23 sec. Users per second: 860\n"
     ]
    },
    {
     "name": "stderr",
     "output_type": "stream",
     "text": [
      "[I 2023-12-20 22:41:35,030] Trial 122 finished with value: 0.11084615338495314 and parameters: {'alpha': 0.4106877688873095, 'beta': 0.19180220932246111, 'topK': 220, 'normalize_similarity': False}. Best is trial 88 with value: 0.1252303228041381.\n"
     ]
    },
    {
     "name": "stdout",
     "output_type": "stream",
     "text": [
      "RP3betaRecommender: URM Detected 240 ( 1.9%) users with no interactions.\n",
      "RP3betaRecommender: URM Detected 123 ( 0.6%) items with no interactions.\n",
      "RP3betaRecommender: Similarity column 22222 (100.0%), 1147.48 column/sec. Elapsed time 19.37 sec\n",
      "EvaluatorHoldout: Processed 10511 (100.0%) in 10.94 sec. Users per second: 961\n"
     ]
    },
    {
     "name": "stderr",
     "output_type": "stream",
     "text": [
      "[I 2023-12-20 22:42:12,982] Trial 123 finished with value: 0.11895226250162066 and parameters: {'alpha': 0.6048032714489088, 'beta': 0.4121682648796072, 'topK': 149, 'normalize_similarity': False}. Best is trial 88 with value: 0.1252303228041381.\n"
     ]
    },
    {
     "name": "stdout",
     "output_type": "stream",
     "text": [
      "RP3betaRecommender: URM Detected 240 ( 1.9%) users with no interactions.\n",
      "RP3betaRecommender: URM Detected 123 ( 0.6%) items with no interactions.\n",
      "RP3betaRecommender: Similarity column 22222 (100.0%), 907.71 column/sec. Elapsed time 24.48 sec\n",
      "EvaluatorHoldout: Processed 10511 (100.0%) in 12.07 sec. Users per second: 871\n"
     ]
    },
    {
     "name": "stderr",
     "output_type": "stream",
     "text": [
      "[I 2023-12-20 22:42:57,599] Trial 124 finished with value: 0.1187472351758223 and parameters: {'alpha': 0.7177601977618042, 'beta': 0.0025764589870836963, 'topK': 259, 'normalize_similarity': False}. Best is trial 88 with value: 0.1252303228041381.\n"
     ]
    },
    {
     "name": "stdout",
     "output_type": "stream",
     "text": [
      "RP3betaRecommender: URM Detected 240 ( 1.9%) users with no interactions.\n",
      "RP3betaRecommender: URM Detected 123 ( 0.6%) items with no interactions.\n",
      "RP3betaRecommender: Similarity column 22222 (100.0%), 1045.76 column/sec. Elapsed time 21.25 sec\n",
      "EvaluatorHoldout: Processed 10511 (100.0%) in 12.33 sec. Users per second: 853\n"
     ]
    },
    {
     "name": "stderr",
     "output_type": "stream",
     "text": [
      "[I 2023-12-20 22:43:40,675] Trial 125 finished with value: 0.044321756016688627 and parameters: {'alpha': 0.8955525846524741, 'beta': 0.5350397889872534, 'topK': 195, 'normalize_similarity': False}. Best is trial 88 with value: 0.1252303228041381.\n"
     ]
    },
    {
     "name": "stdout",
     "output_type": "stream",
     "text": [
      "RP3betaRecommender: URM Detected 240 ( 1.9%) users with no interactions.\n",
      "RP3betaRecommender: URM Detected 123 ( 0.6%) items with no interactions.\n",
      "RP3betaRecommender: Similarity column 22222 (100.0%), 1752.24 column/sec. Elapsed time 12.68 sec\n",
      "EvaluatorHoldout: Processed 10511 (100.0%) in 10.51 sec. Users per second: 1000\n"
     ]
    },
    {
     "name": "stderr",
     "output_type": "stream",
     "text": [
      "[I 2023-12-20 22:44:05,132] Trial 126 finished with value: 0.1245728702377913 and parameters: {'alpha': 0.5442635985487405, 'beta': 0.27468833201070963, 'topK': 14, 'normalize_similarity': False}. Best is trial 88 with value: 0.1252303228041381.\n"
     ]
    },
    {
     "name": "stdout",
     "output_type": "stream",
     "text": [
      "RP3betaRecommender: URM Detected 240 ( 1.9%) users with no interactions.\n",
      "RP3betaRecommender: URM Detected 123 ( 0.6%) items with no interactions.\n",
      "RP3betaRecommender: Similarity column 22222 (100.0%), 1745.44 column/sec. Elapsed time 12.73 sec\n",
      "EvaluatorHoldout: Processed 10511 (100.0%) in 10.03 sec. Users per second: 1048\n"
     ]
    },
    {
     "name": "stderr",
     "output_type": "stream",
     "text": [
      "[I 2023-12-20 22:44:29,009] Trial 127 finished with value: 0.09927764844807108 and parameters: {'alpha': 0.07209948025950214, 'beta': 0.12969599729924824, 'topK': 16, 'normalize_similarity': False}. Best is trial 88 with value: 0.1252303228041381.\n"
     ]
    },
    {
     "name": "stdout",
     "output_type": "stream",
     "text": [
      "RP3betaRecommender: URM Detected 240 ( 1.9%) users with no interactions.\n",
      "RP3betaRecommender: URM Detected 123 ( 0.6%) items with no interactions.\n",
      "RP3betaRecommender: Similarity column 22222 (100.0%), 1257.53 column/sec. Elapsed time 17.67 sec\n",
      "EvaluatorHoldout: Processed 10511 (100.0%) in 11.96 sec. Users per second: 879\n"
     ]
    },
    {
     "name": "stderr",
     "output_type": "stream",
     "text": [
      "[I 2023-12-20 22:45:03,739] Trial 128 finished with value: 0.11162268367916489 and parameters: {'alpha': 0.3322163948629639, 'beta': 0.23419404026537696, 'topK': 105, 'normalize_similarity': False}. Best is trial 88 with value: 0.1252303228041381.\n"
     ]
    },
    {
     "name": "stdout",
     "output_type": "stream",
     "text": [
      "RP3betaRecommender: URM Detected 240 ( 1.9%) users with no interactions.\n",
      "RP3betaRecommender: URM Detected 123 ( 0.6%) items with no interactions.\n",
      "RP3betaRecommender: Similarity column 22222 (100.0%), 407.90 column/sec. Elapsed time 54.48 sec\n",
      "EvaluatorHoldout: Processed 10511 (100.0%) in 18.35 sec. Users per second: 573\n"
     ]
    },
    {
     "name": "stderr",
     "output_type": "stream",
     "text": [
      "[I 2023-12-20 22:46:55,074] Trial 129 finished with value: 0.11734678865118944 and parameters: {'alpha': 0.5253534546720418, 'beta': 0.340973594905845, 'topK': 1828, 'normalize_similarity': False}. Best is trial 88 with value: 0.1252303228041381.\n"
     ]
    },
    {
     "name": "stdout",
     "output_type": "stream",
     "text": [
      "RP3betaRecommender: URM Detected 240 ( 1.9%) users with no interactions.\n",
      "RP3betaRecommender: URM Detected 123 ( 0.6%) items with no interactions.\n",
      "RP3betaRecommender: Similarity column 22222 (100.0%), 825.34 column/sec. Elapsed time 26.92 sec\n",
      "EvaluatorHoldout: Processed 10511 (100.0%) in 13.93 sec. Users per second: 755\n"
     ]
    },
    {
     "name": "stderr",
     "output_type": "stream",
     "text": [
      "[I 2023-12-20 22:47:50,634] Trial 130 finished with value: 0.10907140512409899 and parameters: {'alpha': 0.4481537534354667, 'beta': 0.5864398550019227, 'topK': 326, 'normalize_similarity': False}. Best is trial 88 with value: 0.1252303228041381.\n"
     ]
    },
    {
     "name": "stdout",
     "output_type": "stream",
     "text": [
      "RP3betaRecommender: URM Detected 240 ( 1.9%) users with no interactions.\n",
      "RP3betaRecommender: URM Detected 123 ( 0.6%) items with no interactions.\n",
      "RP3betaRecommender: Similarity column 22222 (100.0%), 2411.64 column/sec. Elapsed time 9.21 sec\n",
      "EvaluatorHoldout: Processed 10511 (100.0%) in 10.94 sec. Users per second: 961\n"
     ]
    },
    {
     "name": "stderr",
     "output_type": "stream",
     "text": [
      "[I 2023-12-20 22:48:12,999] Trial 131 finished with value: 0.125004218246483 and parameters: {'alpha': 0.6105092568323117, 'beta': 0.290768640626675, 'topK': 39, 'normalize_similarity': False}. Best is trial 88 with value: 0.1252303228041381.\n"
     ]
    },
    {
     "name": "stdout",
     "output_type": "stream",
     "text": [
      "RP3betaRecommender: URM Detected 240 ( 1.9%) users with no interactions.\n",
      "RP3betaRecommender: URM Detected 123 ( 0.6%) items with no interactions.\n",
      "RP3betaRecommender: Similarity column 22222 (100.0%), 2462.95 column/sec. Elapsed time 9.02 sec\n",
      "EvaluatorHoldout: Processed 10511 (100.0%) in 11.03 sec. Users per second: 953\n"
     ]
    },
    {
     "name": "stderr",
     "output_type": "stream",
     "text": [
      "[I 2023-12-20 22:48:35,547] Trial 132 finished with value: 0.10561741493004895 and parameters: {'alpha': 0.6639079575047303, 'beta': 0.4200759708593983, 'topK': 43, 'normalize_similarity': False}. Best is trial 88 with value: 0.1252303228041381.\n"
     ]
    },
    {
     "name": "stdout",
     "output_type": "stream",
     "text": [
      "RP3betaRecommender: URM Detected 240 ( 1.9%) users with no interactions.\n",
      "RP3betaRecommender: URM Detected 123 ( 0.6%) items with no interactions.\n",
      "RP3betaRecommender: Similarity column 22222 (100.0%), 1154.64 column/sec. Elapsed time 19.25 sec\n",
      "EvaluatorHoldout: Processed 10511 (100.0%) in 10.42 sec. Users per second: 1009\n"
     ]
    },
    {
     "name": "stderr",
     "output_type": "stream",
     "text": [
      "[I 2023-12-20 22:49:10,770] Trial 133 finished with value: 0.10056312021690225 and parameters: {'alpha': 0.23547079148039174, 'beta': 0.1098156780026511, 'topK': 147, 'normalize_similarity': False}. Best is trial 88 with value: 0.1252303228041381.\n"
     ]
    },
    {
     "name": "stdout",
     "output_type": "stream",
     "text": [
      "RP3betaRecommender: URM Detected 240 ( 1.9%) users with no interactions.\n",
      "RP3betaRecommender: URM Detected 123 ( 0.6%) items with no interactions.\n",
      "RP3betaRecommender: Similarity column 22222 (100.0%), 1750.85 column/sec. Elapsed time 12.69 sec\n",
      "EvaluatorHoldout: Processed 10511 (100.0%) in 9.88 sec. Users per second: 1064\n"
     ]
    },
    {
     "name": "stderr",
     "output_type": "stream",
     "text": [
      "[I 2023-12-20 22:49:34,289] Trial 134 finished with value: 0.12136713115733028 and parameters: {'alpha': 0.5672732999586816, 'beta': 0.275617896215265, 'topK': 7, 'normalize_similarity': False}. Best is trial 88 with value: 0.1252303228041381.\n"
     ]
    },
    {
     "name": "stdout",
     "output_type": "stream",
     "text": [
      "RP3betaRecommender: URM Detected 240 ( 1.9%) users with no interactions.\n",
      "RP3betaRecommender: URM Detected 123 ( 0.6%) items with no interactions.\n",
      "RP3betaRecommender: Similarity column 22222 (100.0%), 1346.02 column/sec. Elapsed time 16.51 sec\n",
      "EvaluatorHoldout: Processed 10511 (100.0%) in 11.08 sec. Users per second: 949\n"
     ]
    },
    {
     "name": "stderr",
     "output_type": "stream",
     "text": [
      "[I 2023-12-20 22:50:06,077] Trial 135 finished with value: 0.09161213411336443 and parameters: {'alpha': 0.8236466993553474, 'beta': 0.2491379499566245, 'topK': 90, 'normalize_similarity': False}. Best is trial 88 with value: 0.1252303228041381.\n"
     ]
    },
    {
     "name": "stdout",
     "output_type": "stream",
     "text": [
      "RP3betaRecommender: URM Detected 240 ( 1.9%) users with no interactions.\n",
      "RP3betaRecommender: URM Detected 123 ( 0.6%) items with no interactions.\n",
      "RP3betaRecommender: Similarity column 22222 (100.0%), 1751.05 column/sec. Elapsed time 12.69 sec\n",
      "EvaluatorHoldout: Processed 10511 (100.0%) in 9.91 sec. Users per second: 1061\n"
     ]
    },
    {
     "name": "stderr",
     "output_type": "stream",
     "text": [
      "[I 2023-12-20 22:50:29,765] Trial 136 finished with value: 0.12174536931760774 and parameters: {'alpha': 0.5796004471102989, 'beta': 0.10827291049615546, 'topK': 14, 'normalize_similarity': False}. Best is trial 88 with value: 0.1252303228041381.\n"
     ]
    },
    {
     "name": "stdout",
     "output_type": "stream",
     "text": [
      "RP3betaRecommender: URM Detected 240 ( 1.9%) users with no interactions.\n",
      "RP3betaRecommender: URM Detected 123 ( 0.6%) items with no interactions.\n",
      "RP3betaRecommender: Similarity column 22222 (100.0%), 1781.54 column/sec. Elapsed time 12.47 sec\n",
      "EvaluatorHoldout: Processed 10511 (100.0%) in 10.10 sec. Users per second: 1040\n"
     ]
    },
    {
     "name": "stderr",
     "output_type": "stream",
     "text": [
      "[I 2023-12-20 22:50:53,261] Trial 137 finished with value: 0.12081001514944105 and parameters: {'alpha': 0.5729745351961628, 'beta': 0.07975528038037787, 'topK': 10, 'normalize_similarity': False}. Best is trial 88 with value: 0.1252303228041381.\n"
     ]
    },
    {
     "name": "stdout",
     "output_type": "stream",
     "text": [
      "RP3betaRecommender: URM Detected 240 ( 1.9%) users with no interactions.\n",
      "RP3betaRecommender: URM Detected 123 ( 0.6%) items with no interactions.\n",
      "RP3betaRecommender: Similarity column 22222 (100.0%), 1732.46 column/sec. Elapsed time 12.83 sec\n",
      "EvaluatorHoldout: Processed 10511 (100.0%) in 9.87 sec. Users per second: 1065\n"
     ]
    },
    {
     "name": "stderr",
     "output_type": "stream",
     "text": [
      "[I 2023-12-20 22:51:17,030] Trial 138 finished with value: 0.11718369097492154 and parameters: {'alpha': 0.5643313494992188, 'beta': 0.028797296688754526, 'topK': 18, 'normalize_similarity': False}. Best is trial 88 with value: 0.1252303228041381.\n"
     ]
    },
    {
     "name": "stdout",
     "output_type": "stream",
     "text": [
      "RP3betaRecommender: URM Detected 240 ( 1.9%) users with no interactions.\n",
      "RP3betaRecommender: URM Detected 123 ( 0.6%) items with no interactions.\n",
      "RP3betaRecommender: Similarity column 22222 (100.0%), 1502.32 column/sec. Elapsed time 14.79 sec\n",
      "EvaluatorHoldout: Processed 10511 (100.0%) in 10.74 sec. Users per second: 979\n"
     ]
    },
    {
     "name": "stderr",
     "output_type": "stream",
     "text": [
      "[I 2023-12-20 22:51:45,090] Trial 139 finished with value: 0.11668193894927291 and parameters: {'alpha': 0.7491674110301388, 'beta': 0.14788495117617273, 'topK': 56, 'normalize_similarity': False}. Best is trial 88 with value: 0.1252303228041381.\n"
     ]
    },
    {
     "name": "stdout",
     "output_type": "stream",
     "text": [
      "RP3betaRecommender: URM Detected 240 ( 1.9%) users with no interactions.\n",
      "RP3betaRecommender: URM Detected 123 ( 0.6%) items with no interactions.\n",
      "RP3betaRecommender: Similarity column 22222 (100.0%), 1229.78 column/sec. Elapsed time 18.07 sec\n",
      "EvaluatorHoldout: Processed 10511 (100.0%) in 9.83 sec. Users per second: 1069\n"
     ]
    },
    {
     "name": "stderr",
     "output_type": "stream",
     "text": [
      "[I 2023-12-20 22:52:17,143] Trial 140 finished with value: 0.07706043469210343 and parameters: {'alpha': 0.9602262094307998, 'beta': 0.013073149631751435, 'topK': 123, 'normalize_similarity': False}. Best is trial 88 with value: 0.1252303228041381.\n"
     ]
    },
    {
     "name": "stdout",
     "output_type": "stream",
     "text": [
      "RP3betaRecommender: URM Detected 240 ( 1.9%) users with no interactions.\n",
      "RP3betaRecommender: URM Detected 123 ( 0.6%) items with no interactions.\n",
      "RP3betaRecommender: Similarity column 22222 (100.0%), 1809.60 column/sec. Elapsed time 12.28 sec\n",
      "EvaluatorHoldout: Processed 10511 (100.0%) in 9.79 sec. Users per second: 1073\n"
     ]
    },
    {
     "name": "stderr",
     "output_type": "stream",
     "text": [
      "[I 2023-12-20 22:52:40,134] Trial 141 finished with value: 0.11157880627228321 and parameters: {'alpha': 0.6252333530763136, 'beta': 0.2884168229233425, 'topK': 6, 'normalize_similarity': False}. Best is trial 88 with value: 0.1252303228041381.\n"
     ]
    },
    {
     "name": "stdout",
     "output_type": "stream",
     "text": [
      "RP3betaRecommender: URM Detected 240 ( 1.9%) users with no interactions.\n",
      "RP3betaRecommender: URM Detected 123 ( 0.6%) items with no interactions.\n",
      "RP3betaRecommender: Similarity column 22222 (100.0%), 1422.28 column/sec. Elapsed time 15.62 sec\n",
      "EvaluatorHoldout: Processed 10511 (100.0%) in 10.96 sec. Users per second: 959\n"
     ]
    },
    {
     "name": "stderr",
     "output_type": "stream",
     "text": [
      "[I 2023-12-20 22:53:10,548] Trial 142 finished with value: 0.11010944893745182 and parameters: {'alpha': 0.33818867952018894, 'beta': 0.18133646377912788, 'topK': 74, 'normalize_similarity': False}. Best is trial 88 with value: 0.1252303228041381.\n"
     ]
    },
    {
     "name": "stdout",
     "output_type": "stream",
     "text": [
      "RP3betaRecommender: URM Detected 240 ( 1.9%) users with no interactions.\n",
      "RP3betaRecommender: URM Detected 123 ( 0.6%) items with no interactions.\n",
      "RP3betaRecommender: Similarity column 22222 (100.0%), 1584.18 column/sec. Elapsed time 14.03 sec\n",
      "EvaluatorHoldout: Processed 10511 (100.0%) in 10.72 sec. Users per second: 980\n"
     ]
    },
    {
     "name": "stderr",
     "output_type": "stream",
     "text": [
      "[I 2023-12-20 22:53:37,637] Trial 143 finished with value: 0.06802846790171521 and parameters: {'alpha': 0.853774505443783, 'beta': 0.2962848527345561, 'topK': 43, 'normalize_similarity': False}. Best is trial 88 with value: 0.1252303228041381.\n"
     ]
    },
    {
     "name": "stdout",
     "output_type": "stream",
     "text": [
      "RP3betaRecommender: URM Detected 240 ( 1.9%) users with no interactions.\n",
      "RP3betaRecommender: URM Detected 123 ( 0.6%) items with no interactions.\n",
      "RP3betaRecommender: Similarity column 22222 (100.0%), 1099.34 column/sec. Elapsed time 20.21 sec\n",
      "EvaluatorHoldout: Processed 10511 (100.0%) in 10.28 sec. Users per second: 1023\n"
     ]
    },
    {
     "name": "stderr",
     "output_type": "stream",
     "text": [
      "[I 2023-12-20 22:54:14,352] Trial 144 finished with value: 0.12362435390517412 and parameters: {'alpha': 0.6966372888274704, 'beta': 0.10906027614534247, 'topK': 172, 'normalize_similarity': False}. Best is trial 88 with value: 0.1252303228041381.\n"
     ]
    },
    {
     "name": "stdout",
     "output_type": "stream",
     "text": [
      "RP3betaRecommender: URM Detected 240 ( 1.9%) users with no interactions.\n",
      "RP3betaRecommender: URM Detected 123 ( 0.6%) items with no interactions.\n",
      "RP3betaRecommender: Similarity column 22222 (100.0%), 1124.21 column/sec. Elapsed time 19.77 sec\n",
      "EvaluatorHoldout: Processed 10511 (100.0%) in 10.19 sec. Users per second: 1031\n"
     ]
    },
    {
     "name": "stderr",
     "output_type": "stream",
     "text": [
      "[I 2023-12-20 22:54:50,056] Trial 145 finished with value: 0.12552695621555907 and parameters: {'alpha': 0.7543948734093623, 'beta': 0.09644673596066956, 'topK': 162, 'normalize_similarity': False}. Best is trial 145 with value: 0.12552695621555907.\n"
     ]
    },
    {
     "name": "stdout",
     "output_type": "stream",
     "text": [
      "RP3betaRecommender: URM Detected 240 ( 1.9%) users with no interactions.\n",
      "RP3betaRecommender: URM Detected 123 ( 0.6%) items with no interactions.\n",
      "RP3betaRecommender: Similarity column 22222 (100.0%), 1062.63 column/sec. Elapsed time 20.91 sec\n",
      "EvaluatorHoldout: Processed 10511 (100.0%) in 11.42 sec. Users per second: 920\n"
     ]
    },
    {
     "name": "stderr",
     "output_type": "stream",
     "text": [
      "[I 2023-12-20 22:55:29,185] Trial 146 finished with value: 0.04725880060816856 and parameters: {'alpha': 1.0663492786126705, 'beta': 0.17207951654999087, 'topK': 180, 'normalize_similarity': False}. Best is trial 145 with value: 0.12552695621555907.\n"
     ]
    },
    {
     "name": "stdout",
     "output_type": "stream",
     "text": [
      "RP3betaRecommender: URM Detected 240 ( 1.9%) users with no interactions.\n",
      "RP3betaRecommender: URM Detected 123 ( 0.6%) items with no interactions.\n",
      "RP3betaRecommender: Similarity column 22222 (100.0%), 1210.41 column/sec. Elapsed time 18.36 sec\n",
      "EvaluatorHoldout: Processed 10511 (100.0%) in 10.09 sec. Users per second: 1042\n"
     ]
    },
    {
     "name": "stderr",
     "output_type": "stream",
     "text": [
      "[I 2023-12-20 22:56:02,555] Trial 147 finished with value: 0.12513345701523054 and parameters: {'alpha': 0.7082811790908988, 'beta': 0.10943209020930193, 'topK': 129, 'normalize_similarity': False}. Best is trial 145 with value: 0.12552695621555907.\n"
     ]
    },
    {
     "name": "stdout",
     "output_type": "stream",
     "text": [
      "RP3betaRecommender: URM Detected 240 ( 1.9%) users with no interactions.\n",
      "RP3betaRecommender: URM Detected 123 ( 0.6%) items with no interactions.\n",
      "RP3betaRecommender: Similarity column 22222 (100.0%), 985.88 column/sec. Elapsed time 22.54 sec\n",
      "EvaluatorHoldout: Processed 10511 (100.0%) in 11.81 sec. Users per second: 890\n"
     ]
    },
    {
     "name": "stderr",
     "output_type": "stream",
     "text": [
      "[I 2023-12-20 22:56:44,591] Trial 148 finished with value: 0.12434278689606264 and parameters: {'alpha': 0.7426837262271075, 'beta': 0.0977280382066533, 'topK': 222, 'normalize_similarity': False}. Best is trial 145 with value: 0.12552695621555907.\n"
     ]
    },
    {
     "name": "stdout",
     "output_type": "stream",
     "text": [
      "RP3betaRecommender: URM Detected 240 ( 1.9%) users with no interactions.\n",
      "RP3betaRecommender: URM Detected 123 ( 0.6%) items with no interactions.\n",
      "RP3betaRecommender: Similarity column 22222 (100.0%), 1275.12 column/sec. Elapsed time 17.43 sec\n",
      "EvaluatorHoldout: Processed 10511 (100.0%) in 11.61 sec. Users per second: 905\n"
     ]
    },
    {
     "name": "stderr",
     "output_type": "stream",
     "text": [
      "[I 2023-12-20 22:57:20,604] Trial 149 finished with value: 0.12006185281154003 and parameters: {'alpha': 0.7133043251087118, 'beta': 0.00835657244308162, 'topK': 222, 'normalize_similarity': False}. Best is trial 145 with value: 0.12552695621555907.\n"
     ]
    },
    {
     "name": "stdout",
     "output_type": "stream",
     "text": [
      "RP3betaRecommender: URM Detected 240 ( 1.9%) users with no interactions.\n",
      "RP3betaRecommender: URM Detected 123 ( 0.6%) items with no interactions.\n",
      "RP3betaRecommender: Similarity column 22222 (100.0%), 1171.04 column/sec. Elapsed time 18.98 sec\n",
      "EvaluatorHoldout: Processed 10511 (100.0%) in 10.07 sec. Users per second: 1043\n"
     ]
    },
    {
     "name": "stderr",
     "output_type": "stream",
     "text": [
      "[I 2023-12-20 22:57:54,907] Trial 150 finished with value: 0.09611652069442123 and parameters: {'alpha': 0.8901274653982375, 'beta': 0.09644500460551783, 'topK': 145, 'normalize_similarity': False}. Best is trial 145 with value: 0.12552695621555907.\n"
     ]
    },
    {
     "name": "stdout",
     "output_type": "stream",
     "text": [
      "RP3betaRecommender: URM Detected 240 ( 1.9%) users with no interactions.\n",
      "RP3betaRecommender: URM Detected 123 ( 0.6%) items with no interactions.\n",
      "RP3betaRecommender: Similarity column 22222 (100.0%), 1269.21 column/sec. Elapsed time 17.51 sec\n",
      "EvaluatorHoldout: Processed 10511 (100.0%) in 11.39 sec. Users per second: 923\n"
     ]
    },
    {
     "name": "stderr",
     "output_type": "stream",
     "text": [
      "[I 2023-12-20 22:58:29,371] Trial 151 finished with value: 0.09428806525755254 and parameters: {'alpha': 0.7820279801503953, 'beta': 0.33318824158286464, 'topK': 114, 'normalize_similarity': False}. Best is trial 145 with value: 0.12552695621555907.\n"
     ]
    },
    {
     "name": "stdout",
     "output_type": "stream",
     "text": [
      "RP3betaRecommender: URM Detected 240 ( 1.9%) users with no interactions.\n",
      "RP3betaRecommender: URM Detected 123 ( 0.6%) items with no interactions.\n",
      "RP3betaRecommender: Similarity column 22222 (100.0%), 1051.83 column/sec. Elapsed time 21.13 sec\n",
      "EvaluatorHoldout: Processed 10511 (100.0%) in 11.54 sec. Users per second: 911\n"
     ]
    },
    {
     "name": "stderr",
     "output_type": "stream",
     "text": [
      "[I 2023-12-20 22:59:08,918] Trial 152 finished with value: 0.07617841664597026 and parameters: {'alpha': 0.9799195111926648, 'beta': 0.12134421095807288, 'topK': 191, 'normalize_similarity': False}. Best is trial 145 with value: 0.12552695621555907.\n"
     ]
    },
    {
     "name": "stdout",
     "output_type": "stream",
     "text": [
      "RP3betaRecommender: URM Detected 240 ( 1.9%) users with no interactions.\n",
      "RP3betaRecommender: URM Detected 123 ( 0.6%) items with no interactions.\n",
      "RP3betaRecommender: Similarity column 22222 (100.0%), 932.46 column/sec. Elapsed time 23.83 sec\n",
      "EvaluatorHoldout: Processed 10511 (100.0%) in 11.71 sec. Users per second: 898\n"
     ]
    },
    {
     "name": "stderr",
     "output_type": "stream",
     "text": [
      "[I 2023-12-20 22:59:52,322] Trial 153 finished with value: 0.11331822416060013 and parameters: {'alpha': 0.684108477137544, 'beta': 0.0011833298494277888, 'topK': 255, 'normalize_similarity': False}. Best is trial 145 with value: 0.12552695621555907.\n"
     ]
    },
    {
     "name": "stdout",
     "output_type": "stream",
     "text": [
      "RP3betaRecommender: URM Detected 240 ( 1.9%) users with no interactions.\n",
      "RP3betaRecommender: URM Detected 123 ( 0.6%) items with no interactions.\n",
      "RP3betaRecommender: Similarity column 22222 (100.0%), 1362.97 column/sec. Elapsed time 16.30 sec\n",
      "EvaluatorHoldout: Processed 10511 (100.0%) in 11.38 sec. Users per second: 924\n"
     ]
    },
    {
     "name": "stderr",
     "output_type": "stream",
     "text": [
      "[I 2023-12-20 23:00:23,970] Trial 154 finished with value: 0.025230550669070945 and parameters: {'alpha': 1.1878639888154245, 'beta': 0.2453289843373134, 'topK': 87, 'normalize_similarity': False}. Best is trial 145 with value: 0.12552695621555907.\n"
     ]
    },
    {
     "name": "stdout",
     "output_type": "stream",
     "text": [
      "RP3betaRecommender: URM Detected 240 ( 1.9%) users with no interactions.\n",
      "RP3betaRecommender: URM Detected 123 ( 0.6%) items with no interactions.\n",
      "RP3betaRecommender: Similarity column 22222 (100.0%), 1103.08 column/sec. Elapsed time 20.15 sec\n",
      "EvaluatorHoldout: Processed 10511 (100.0%) in 11.07 sec. Users per second: 950\n"
     ]
    },
    {
     "name": "stderr",
     "output_type": "stream",
     "text": [
      "[I 2023-12-20 23:01:03,056] Trial 155 finished with value: 0.0022841646764113583 and parameters: {'alpha': 0.7874437749520261, 'beta': 1.8419630141689818, 'topK': 171, 'normalize_similarity': False}. Best is trial 145 with value: 0.12552695621555907.\n"
     ]
    },
    {
     "name": "stdout",
     "output_type": "stream",
     "text": [
      "RP3betaRecommender: URM Detected 240 ( 1.9%) users with no interactions.\n",
      "RP3betaRecommender: URM Detected 123 ( 0.6%) items with no interactions.\n",
      "RP3betaRecommender: Similarity column 22222 (100.0%), 1202.19 column/sec. Elapsed time 18.48 sec\n",
      "EvaluatorHoldout: Processed 10511 (100.0%) in 10.41 sec. Users per second: 1010\n"
     ]
    },
    {
     "name": "stderr",
     "output_type": "stream",
     "text": [
      "[I 2023-12-20 23:01:37,921] Trial 156 finished with value: 0.011256914046705898 and parameters: {'alpha': 2.2008150719653314, 'beta': 0.37811295302482034, 'topK': 131, 'normalize_similarity': False}. Best is trial 145 with value: 0.12552695621555907.\n"
     ]
    },
    {
     "name": "stdout",
     "output_type": "stream",
     "text": [
      "RP3betaRecommender: URM Detected 240 ( 1.9%) users with no interactions.\n",
      "RP3betaRecommender: URM Detected 123 ( 0.6%) items with no interactions.\n",
      "RP3betaRecommender: Similarity column 22222 (100.0%), 900.77 column/sec. Elapsed time 24.67 sec\n",
      "EvaluatorHoldout: Processed 10511 (100.0%) in 12.27 sec. Users per second: 857\n"
     ]
    },
    {
     "name": "stderr",
     "output_type": "stream",
     "text": [
      "[I 2023-12-20 23:02:25,064] Trial 157 finished with value: 0.12822915247996033 and parameters: {'alpha': 0.5351830068826953, 'beta': 0.1967615411834353, 'topK': 271, 'normalize_similarity': True}. Best is trial 157 with value: 0.12822915247996033.\n"
     ]
    },
    {
     "name": "stdout",
     "output_type": "stream",
     "text": [
      "RP3betaRecommender: URM Detected 240 ( 1.9%) users with no interactions.\n",
      "RP3betaRecommender: URM Detected 123 ( 0.6%) items with no interactions.\n",
      "RP3betaRecommender: Similarity column 22222 (100.0%), 879.44 column/sec. Elapsed time 25.27 sec\n",
      "EvaluatorHoldout: Processed 10511 (100.0%) in 12.39 sec. Users per second: 848\n"
     ]
    },
    {
     "name": "stderr",
     "output_type": "stream",
     "text": [
      "[I 2023-12-20 23:03:12,839] Trial 158 finished with value: 0.12528540243414693 and parameters: {'alpha': 0.8620009365100583, 'beta': 0.1446150560512956, 'topK': 289, 'normalize_similarity': True}. Best is trial 157 with value: 0.12822915247996033.\n"
     ]
    },
    {
     "name": "stdout",
     "output_type": "stream",
     "text": [
      "RP3betaRecommender: URM Detected 240 ( 1.9%) users with no interactions.\n",
      "RP3betaRecommender: URM Detected 123 ( 0.6%) items with no interactions.\n",
      "RP3betaRecommender: Similarity column 22222 (100.0%), 871.92 column/sec. Elapsed time 25.49 sec\n",
      "EvaluatorHoldout: Processed 10511 (100.0%) in 12.50 sec. Users per second: 841\n"
     ]
    },
    {
     "name": "stderr",
     "output_type": "stream",
     "text": [
      "[I 2023-12-20 23:04:01,285] Trial 159 finished with value: 0.11858733476989776 and parameters: {'alpha': 1.0293633959613804, 'beta': 0.1909575983809817, 'topK': 297, 'normalize_similarity': True}. Best is trial 157 with value: 0.12822915247996033.\n"
     ]
    },
    {
     "name": "stdout",
     "output_type": "stream",
     "text": [
      "RP3betaRecommender: URM Detected 240 ( 1.9%) users with no interactions.\n",
      "RP3betaRecommender: URM Detected 123 ( 0.6%) items with no interactions.\n",
      "RP3betaRecommender: Similarity column 22222 (100.0%), 980.72 column/sec. Elapsed time 22.66 sec\n",
      "EvaluatorHoldout: Processed 10511 (100.0%) in 13.12 sec. Users per second: 801\n"
     ]
    },
    {
     "name": "stderr",
     "output_type": "stream",
     "text": [
      "[I 2023-12-20 23:04:47,263] Trial 160 finished with value: 0.11593036024543757 and parameters: {'alpha': 0.865403767204064, 'beta': 0.4130748523362835, 'topK': 228, 'normalize_similarity': True}. Best is trial 157 with value: 0.12822915247996033.\n"
     ]
    },
    {
     "name": "stdout",
     "output_type": "stream",
     "text": [
      "RP3betaRecommender: URM Detected 240 ( 1.9%) users with no interactions.\n",
      "RP3betaRecommender: URM Detected 123 ( 0.6%) items with no interactions.\n",
      "RP3betaRecommender: Similarity column 22222 (100.0%), 922.88 column/sec. Elapsed time 24.08 sec\n",
      "EvaluatorHoldout: Processed 10511 (100.0%) in 12.01 sec. Users per second: 875\n"
     ]
    },
    {
     "name": "stderr",
     "output_type": "stream",
     "text": [
      "[I 2023-12-20 23:05:32,395] Trial 161 finished with value: 0.13015386085150515 and parameters: {'alpha': 0.6803204745584706, 'beta': 0.10875570573840017, 'topK': 263, 'normalize_similarity': True}. Best is trial 161 with value: 0.13015386085150515.\n"
     ]
    },
    {
     "name": "stdout",
     "output_type": "stream",
     "text": [
      "RP3betaRecommender: URM Detected 240 ( 1.9%) users with no interactions.\n",
      "RP3betaRecommender: URM Detected 123 ( 0.6%) items with no interactions.\n",
      "RP3betaRecommender: Similarity column 22222 (100.0%), 1121.00 column/sec. Elapsed time 19.82 sec\n",
      "EvaluatorHoldout: Processed 10511 (100.0%) in 12.19 sec. Users per second: 862\n"
     ]
    },
    {
     "name": "stderr",
     "output_type": "stream",
     "text": [
      "[I 2023-12-20 23:06:13,808] Trial 162 finished with value: 0.12945662545848868 and parameters: {'alpha': 0.6778876165178243, 'beta': 0.10738317674614681, 'topK': 279, 'normalize_similarity': True}. Best is trial 161 with value: 0.13015386085150515.\n"
     ]
    },
    {
     "name": "stdout",
     "output_type": "stream",
     "text": [
      "RP3betaRecommender: URM Detected 240 ( 1.9%) users with no interactions.\n",
      "RP3betaRecommender: URM Detected 123 ( 0.6%) items with no interactions.\n",
      "RP3betaRecommender: Similarity column 22222 (100.0%), 899.55 column/sec. Elapsed time 24.70 sec\n",
      "EvaluatorHoldout: Processed 10511 (100.0%) in 12.15 sec. Users per second: 865\n"
     ]
    },
    {
     "name": "stderr",
     "output_type": "stream",
     "text": [
      "[I 2023-12-20 23:07:00,262] Trial 163 finished with value: 0.12846222685007552 and parameters: {'alpha': 0.7181713598132353, 'beta': 0.12105851885271879, 'topK': 280, 'normalize_similarity': True}. Best is trial 161 with value: 0.13015386085150515.\n"
     ]
    },
    {
     "name": "stdout",
     "output_type": "stream",
     "text": [
      "RP3betaRecommender: URM Detected 240 ( 1.9%) users with no interactions.\n",
      "RP3betaRecommender: URM Detected 123 ( 0.6%) items with no interactions.\n",
      "RP3betaRecommender: Similarity column 22222 (100.0%), 800.49 column/sec. Elapsed time 27.76 sec\n",
      "EvaluatorHoldout: Processed 10511 (100.0%) in 12.88 sec. Users per second: 816\n"
     ]
    },
    {
     "name": "stderr",
     "output_type": "stream",
     "text": [
      "[I 2023-12-20 23:07:53,584] Trial 164 finished with value: 0.12659301957088073 and parameters: {'alpha': 0.6819900687664135, 'beta': 0.203571827698303, 'topK': 342, 'normalize_similarity': True}. Best is trial 161 with value: 0.13015386085150515.\n"
     ]
    },
    {
     "name": "stdout",
     "output_type": "stream",
     "text": [
      "RP3betaRecommender: URM Detected 240 ( 1.9%) users with no interactions.\n",
      "RP3betaRecommender: URM Detected 123 ( 0.6%) items with no interactions.\n",
      "RP3betaRecommender: Similarity column 22222 (100.0%), 793.66 column/sec. Elapsed time 28.00 sec\n",
      "EvaluatorHoldout: Processed 10511 (100.0%) in 12.21 sec. Users per second: 861\n"
     ]
    },
    {
     "name": "stderr",
     "output_type": "stream",
     "text": [
      "[I 2023-12-20 23:08:44,702] Trial 165 finished with value: 0.12283696417621667 and parameters: {'alpha': 0.9226235865854284, 'beta': 0.006256815445222899, 'topK': 355, 'normalize_similarity': True}. Best is trial 161 with value: 0.13015386085150515.\n"
     ]
    },
    {
     "name": "stdout",
     "output_type": "stream",
     "text": [
      "RP3betaRecommender: URM Detected 240 ( 1.9%) users with no interactions.\n",
      "RP3betaRecommender: URM Detected 123 ( 0.6%) items with no interactions.\n",
      "RP3betaRecommender: Similarity column 22222 (100.0%), 889.79 column/sec. Elapsed time 24.97 sec\n",
      "EvaluatorHoldout: Processed 10511 (100.0%) in 12.15 sec. Users per second: 865\n"
     ]
    },
    {
     "name": "stderr",
     "output_type": "stream",
     "text": [
      "[I 2023-12-20 23:09:31,369] Trial 166 finished with value: 0.1284575805145478 and parameters: {'alpha': 0.7176490040006505, 'beta': 0.10784560340261341, 'topK': 284, 'normalize_similarity': True}. Best is trial 161 with value: 0.13015386085150515.\n"
     ]
    },
    {
     "name": "stdout",
     "output_type": "stream",
     "text": [
      "RP3betaRecommender: URM Detected 240 ( 1.9%) users with no interactions.\n",
      "RP3betaRecommender: URM Detected 123 ( 0.6%) items with no interactions.\n",
      "RP3betaRecommender: Similarity column 22222 (100.0%), 893.75 column/sec. Elapsed time 24.86 sec\n",
      "EvaluatorHoldout: Processed 10511 (100.0%) in 12.37 sec. Users per second: 850\n"
     ]
    },
    {
     "name": "stderr",
     "output_type": "stream",
     "text": [
      "[I 2023-12-20 23:10:18,807] Trial 167 finished with value: 0.1259934195629912 and parameters: {'alpha': 0.7863302078282347, 'beta': 0.20016280331824424, 'topK': 278, 'normalize_similarity': True}. Best is trial 161 with value: 0.13015386085150515.\n"
     ]
    },
    {
     "name": "stdout",
     "output_type": "stream",
     "text": [
      "RP3betaRecommender: URM Detected 240 ( 1.9%) users with no interactions.\n",
      "RP3betaRecommender: URM Detected 123 ( 0.6%) items with no interactions.\n",
      "RP3betaRecommender: Similarity column 22222 (100.0%), 873.22 column/sec. Elapsed time 25.45 sec\n",
      "EvaluatorHoldout: Processed 10511 (100.0%) in 12.87 sec. Users per second: 817\n"
     ]
    },
    {
     "name": "stderr",
     "output_type": "stream",
     "text": [
      "[I 2023-12-20 23:11:08,455] Trial 168 finished with value: 0.10879349118901155 and parameters: {'alpha': 1.0924352432469169, 'beta': 0.3120955748369665, 'topK': 296, 'normalize_similarity': True}. Best is trial 161 with value: 0.13015386085150515.\n"
     ]
    },
    {
     "name": "stdout",
     "output_type": "stream",
     "text": [
      "RP3betaRecommender: URM Detected 240 ( 1.9%) users with no interactions.\n",
      "RP3betaRecommender: URM Detected 123 ( 0.6%) items with no interactions.\n",
      "RP3betaRecommender: Similarity column 22222 (100.0%), 823.01 column/sec. Elapsed time 27.00 sec\n",
      "EvaluatorHoldout: Processed 10511 (100.0%) in 12.28 sec. Users per second: 856\n"
     ]
    },
    {
     "name": "stderr",
     "output_type": "stream",
     "text": [
      "[I 2023-12-20 23:11:58,408] Trial 169 finished with value: 0.12651615527718318 and parameters: {'alpha': 0.8335716068600543, 'beta': 0.07807778688676391, 'topK': 324, 'normalize_similarity': True}. Best is trial 161 with value: 0.13015386085150515.\n"
     ]
    },
    {
     "name": "stdout",
     "output_type": "stream",
     "text": [
      "RP3betaRecommender: URM Detected 240 ( 1.9%) users with no interactions.\n",
      "RP3betaRecommender: URM Detected 123 ( 0.6%) items with no interactions.\n",
      "RP3betaRecommender: Similarity column 22222 (100.0%), 769.34 column/sec. Elapsed time 28.88 sec\n",
      "EvaluatorHoldout: Processed 10511 (100.0%) in 12.93 sec. Users per second: 813\n"
     ]
    },
    {
     "name": "stderr",
     "output_type": "stream",
     "text": [
      "[I 2023-12-20 23:12:53,223] Trial 170 finished with value: 0.0977727872646617 and parameters: {'alpha': 1.363651422910515, 'beta': 0.18061592821006459, 'topK': 383, 'normalize_similarity': True}. Best is trial 161 with value: 0.13015386085150515.\n"
     ]
    },
    {
     "name": "stdout",
     "output_type": "stream",
     "text": [
      "RP3betaRecommender: URM Detected 240 ( 1.9%) users with no interactions.\n",
      "RP3betaRecommender: URM Detected 123 ( 0.6%) items with no interactions.\n",
      "RP3betaRecommender: Similarity column 22222 (100.0%), 890.70 column/sec. Elapsed time 24.95 sec\n",
      "EvaluatorHoldout: Processed 10511 (100.0%) in 12.38 sec. Users per second: 849\n"
     ]
    },
    {
     "name": "stderr",
     "output_type": "stream",
     "text": [
      "[I 2023-12-20 23:13:39,726] Trial 171 finished with value: 0.12702102582793925 and parameters: {'alpha': 0.8307710636582857, 'beta': 0.09973303483176617, 'topK': 273, 'normalize_similarity': True}. Best is trial 161 with value: 0.13015386085150515.\n"
     ]
    },
    {
     "name": "stdout",
     "output_type": "stream",
     "text": [
      "RP3betaRecommender: URM Detected 240 ( 1.9%) users with no interactions.\n",
      "RP3betaRecommender: URM Detected 123 ( 0.6%) items with no interactions.\n",
      "RP3betaRecommender: Similarity column 22222 (100.0%), 916.96 column/sec. Elapsed time 24.23 sec\n",
      "EvaluatorHoldout: Processed 10511 (100.0%) in 12.00 sec. Users per second: 876\n"
     ]
    },
    {
     "name": "stderr",
     "output_type": "stream",
     "text": [
      "[I 2023-12-20 23:14:24,926] Trial 172 finished with value: 0.12748767177182918 and parameters: {'alpha': 0.8371193924298893, 'beta': 0.07315155090882175, 'topK': 268, 'normalize_similarity': True}. Best is trial 161 with value: 0.13015386085150515.\n"
     ]
    },
    {
     "name": "stdout",
     "output_type": "stream",
     "text": [
      "RP3betaRecommender: URM Detected 240 ( 1.9%) users with no interactions.\n",
      "RP3betaRecommender: URM Detected 123 ( 0.6%) items with no interactions.\n",
      "RP3betaRecommender: Similarity column 22222 (100.0%), 900.53 column/sec. Elapsed time 24.68 sec\n",
      "EvaluatorHoldout: Processed 10511 (100.0%) in 12.00 sec. Users per second: 876\n"
     ]
    },
    {
     "name": "stderr",
     "output_type": "stream",
     "text": [
      "[I 2023-12-20 23:15:10,215] Trial 173 finished with value: 0.12242560134484577 and parameters: {'alpha': 0.931751576574145, 'beta': 0.006771079290580476, 'topK': 276, 'normalize_similarity': True}. Best is trial 161 with value: 0.13015386085150515.\n"
     ]
    },
    {
     "name": "stdout",
     "output_type": "stream",
     "text": [
      "RP3betaRecommender: URM Detected 240 ( 1.9%) users with no interactions.\n",
      "RP3betaRecommender: URM Detected 123 ( 0.6%) items with no interactions.\n",
      "RP3betaRecommender: Similarity column 22222 (100.0%), 1000.97 column/sec. Elapsed time 22.20 sec\n",
      "EvaluatorHoldout: Processed 10511 (100.0%) in 12.71 sec. Users per second: 827\n"
     ]
    },
    {
     "name": "stderr",
     "output_type": "stream",
     "text": [
      "[I 2023-12-20 23:15:57,430] Trial 174 finished with value: 0.12220032818887966 and parameters: {'alpha': 0.8627274318904484, 'beta': 0.24101944198226655, 'topK': 330, 'normalize_similarity': True}. Best is trial 161 with value: 0.13015386085150515.\n"
     ]
    },
    {
     "name": "stdout",
     "output_type": "stream",
     "text": [
      "RP3betaRecommender: URM Detected 240 ( 1.9%) users with no interactions.\n",
      "RP3betaRecommender: URM Detected 123 ( 0.6%) items with no interactions.\n",
      "RP3betaRecommender: Similarity column 22222 (100.0%), 804.85 column/sec. Elapsed time 27.61 sec\n",
      "EvaluatorHoldout: Processed 10511 (100.0%) in 13.92 sec. Users per second: 755\n"
     ]
    },
    {
     "name": "stderr",
     "output_type": "stream",
     "text": [
      "[I 2023-12-20 23:16:54,608] Trial 175 finished with value: 0.0045388117364168696 and parameters: {'alpha': 0.8390788817254556, 'beta': 1.3347238209228545, 'topK': 344, 'normalize_similarity': True}. Best is trial 161 with value: 0.13015386085150515.\n"
     ]
    },
    {
     "name": "stdout",
     "output_type": "stream",
     "text": [
      "RP3betaRecommender: URM Detected 240 ( 1.9%) users with no interactions.\n",
      "RP3betaRecommender: URM Detected 123 ( 0.6%) items with no interactions.\n",
      "RP3betaRecommender: Similarity column 22222 (100.0%), 906.99 column/sec. Elapsed time 24.50 sec\n",
      "EvaluatorHoldout: Processed 10511 (100.0%) in 13.02 sec. Users per second: 808\n"
     ]
    },
    {
     "name": "stderr",
     "output_type": "stream",
     "text": [
      "[I 2023-12-20 23:17:44,439] Trial 176 finished with value: 0.001544143223968205 and parameters: {'alpha': 1.0467891622409193, 'beta': 2.7538560189920003, 'topK': 272, 'normalize_similarity': True}. Best is trial 161 with value: 0.13015386085150515.\n"
     ]
    },
    {
     "name": "stdout",
     "output_type": "stream",
     "text": [
      "RP3betaRecommender: URM Detected 240 ( 1.9%) users with no interactions.\n",
      "RP3betaRecommender: URM Detected 123 ( 0.6%) items with no interactions.\n",
      "RP3betaRecommender: Similarity column 22222 (100.0%), 843.82 column/sec. Elapsed time 26.34 sec\n",
      "EvaluatorHoldout: Processed 10511 (100.0%) in 12.95 sec. Users per second: 811\n"
     ]
    },
    {
     "name": "stderr",
     "output_type": "stream",
     "text": [
      "[I 2023-12-20 23:18:36,657] Trial 177 finished with value: 0.12104020295871433 and parameters: {'alpha': 0.8103785978950215, 'beta': 0.33700596321457815, 'topK': 309, 'normalize_similarity': True}. Best is trial 161 with value: 0.13015386085150515.\n"
     ]
    },
    {
     "name": "stdout",
     "output_type": "stream",
     "text": [
      "RP3betaRecommender: URM Detected 240 ( 1.9%) users with no interactions.\n",
      "RP3betaRecommender: URM Detected 123 ( 0.6%) items with no interactions.\n",
      "RP3betaRecommender: Similarity column 22222 (100.0%), 772.70 column/sec. Elapsed time 28.76 sec\n",
      "EvaluatorHoldout: Processed 10511 (100.0%) in 12.69 sec. Users per second: 828\n"
     ]
    },
    {
     "name": "stderr",
     "output_type": "stream",
     "text": [
      "[I 2023-12-20 23:19:30,060] Trial 178 finished with value: 0.10751868628911804 and parameters: {'alpha': 1.2481980921929263, 'beta': 0.08802981592239809, 'topK': 372, 'normalize_similarity': True}. Best is trial 161 with value: 0.13015386085150515.\n"
     ]
    },
    {
     "name": "stdout",
     "output_type": "stream",
     "text": [
      "RP3betaRecommender: URM Detected 240 ( 1.9%) users with no interactions.\n",
      "RP3betaRecommender: URM Detected 123 ( 0.6%) items with no interactions.\n",
      "RP3betaRecommender: Similarity column 22222 (100.0%), 929.77 column/sec. Elapsed time 23.90 sec\n",
      "EvaluatorHoldout: Processed 10511 (100.0%) in 12.10 sec. Users per second: 869\n"
     ]
    },
    {
     "name": "stderr",
     "output_type": "stream",
     "text": [
      "[I 2023-12-20 23:20:16,269] Trial 179 finished with value: 0.12919175718974088 and parameters: {'alpha': 0.5097554148809978, 'beta': 0.18003779372661483, 'topK': 259, 'normalize_similarity': True}. Best is trial 161 with value: 0.13015386085150515.\n"
     ]
    },
    {
     "name": "stdout",
     "output_type": "stream",
     "text": [
      "RP3betaRecommender: URM Detected 240 ( 1.9%) users with no interactions.\n",
      "RP3betaRecommender: URM Detected 123 ( 0.6%) items with no interactions.\n",
      "RP3betaRecommender: Similarity column 22222 (100.0%), 927.18 column/sec. Elapsed time 23.97 sec\n",
      "EvaluatorHoldout: Processed 10511 (100.0%) in 12.63 sec. Users per second: 832\n"
     ]
    },
    {
     "name": "stderr",
     "output_type": "stream",
     "text": [
      "[I 2023-12-20 23:21:04,021] Trial 180 finished with value: 0.0010036327761188272 and parameters: {'alpha': 0.5231788243511661, 'beta': 3.558250303423515, 'topK': 254, 'normalize_similarity': True}. Best is trial 161 with value: 0.13015386085150515.\n"
     ]
    },
    {
     "name": "stdout",
     "output_type": "stream",
     "text": [
      "RP3betaRecommender: URM Detected 240 ( 1.9%) users with no interactions.\n",
      "RP3betaRecommender: URM Detected 123 ( 0.6%) items with no interactions.\n",
      "RP3betaRecommender: Similarity column 22222 (100.0%), 850.40 column/sec. Elapsed time 26.13 sec\n",
      "EvaluatorHoldout: Processed 10511 (100.0%) in 12.33 sec. Users per second: 852\n"
     ]
    },
    {
     "name": "stderr",
     "output_type": "stream",
     "text": [
      "[I 2023-12-20 23:21:53,797] Trial 181 finished with value: 0.1275114522996689 and parameters: {'alpha': 0.5921996834866238, 'beta': 0.18016391626994355, 'topK': 304, 'normalize_similarity': True}. Best is trial 161 with value: 0.13015386085150515.\n"
     ]
    },
    {
     "name": "stdout",
     "output_type": "stream",
     "text": [
      "RP3betaRecommender: URM Detected 240 ( 1.9%) users with no interactions.\n",
      "RP3betaRecommender: URM Detected 123 ( 0.6%) items with no interactions.\n",
      "RP3betaRecommender: Similarity column 22222 (100.0%), 837.17 column/sec. Elapsed time 26.54 sec\n",
      "EvaluatorHoldout: Processed 10511 (100.0%) in 12.54 sec. Users per second: 838\n"
     ]
    },
    {
     "name": "stderr",
     "output_type": "stream",
     "text": [
      "[I 2023-12-20 23:22:44,561] Trial 182 finished with value: 0.12723109980402944 and parameters: {'alpha': 0.608382892317525, 'beta': 0.20054752174231763, 'topK': 316, 'normalize_similarity': True}. Best is trial 161 with value: 0.13015386085150515.\n"
     ]
    },
    {
     "name": "stdout",
     "output_type": "stream",
     "text": [
      "RP3betaRecommender: URM Detected 240 ( 1.9%) users with no interactions.\n",
      "RP3betaRecommender: URM Detected 123 ( 0.6%) items with no interactions.\n",
      "RP3betaRecommender: Similarity column 22222 (100.0%), 859.73 column/sec. Elapsed time 25.85 sec\n",
      "EvaluatorHoldout: Processed 10511 (100.0%) in 12.31 sec. Users per second: 854\n"
     ]
    },
    {
     "name": "stderr",
     "output_type": "stream",
     "text": [
      "[I 2023-12-20 23:23:33,934] Trial 183 finished with value: 0.12757500702283114 and parameters: {'alpha': 0.6234759277718577, 'beta': 0.1862709917784276, 'topK': 299, 'normalize_similarity': True}. Best is trial 161 with value: 0.13015386085150515.\n"
     ]
    },
    {
     "name": "stdout",
     "output_type": "stream",
     "text": [
      "RP3betaRecommender: URM Detected 240 ( 1.9%) users with no interactions.\n",
      "RP3betaRecommender: URM Detected 123 ( 0.6%) items with no interactions.\n",
      "RP3betaRecommender: Similarity column 22222 (100.0%), 843.41 column/sec. Elapsed time 26.35 sec\n",
      "EvaluatorHoldout: Processed 10511 (100.0%) in 12.45 sec. Users per second: 844\n"
     ]
    },
    {
     "name": "stderr",
     "output_type": "stream",
     "text": [
      "[I 2023-12-20 23:24:23,468] Trial 184 finished with value: 0.12232252643436911 and parameters: {'alpha': 0.9581250784892873, 'beta': 0.12978444792731045, 'topK': 313, 'normalize_similarity': True}. Best is trial 161 with value: 0.13015386085150515.\n"
     ]
    },
    {
     "name": "stdout",
     "output_type": "stream",
     "text": [
      "RP3betaRecommender: URM Detected 240 ( 1.9%) users with no interactions.\n",
      "RP3betaRecommender: URM Detected 123 ( 0.6%) items with no interactions.\n",
      "RP3betaRecommender: Similarity column 22222 (100.0%), 765.45 column/sec. Elapsed time 29.03 sec\n",
      "EvaluatorHoldout: Processed 10511 (100.0%) in 13.19 sec. Users per second: 797\n"
     ]
    },
    {
     "name": "stderr",
     "output_type": "stream",
     "text": [
      "[I 2023-12-20 23:25:19,090] Trial 185 finished with value: 0.12438915454399811 and parameters: {'alpha': 0.774678967986487, 'beta': 0.19074881280799916, 'topK': 390, 'normalize_similarity': True}. Best is trial 161 with value: 0.13015386085150515.\n"
     ]
    },
    {
     "name": "stdout",
     "output_type": "stream",
     "text": [
      "RP3betaRecommender: URM Detected 240 ( 1.9%) users with no interactions.\n",
      "RP3betaRecommender: URM Detected 123 ( 0.6%) items with no interactions.\n",
      "RP3betaRecommender: Similarity column 22222 (100.0%), 873.34 column/sec. Elapsed time 25.44 sec\n",
      "EvaluatorHoldout: Processed 10511 (100.0%) in 11.80 sec. Users per second: 891\n"
     ]
    },
    {
     "name": "stderr",
     "output_type": "stream",
     "text": [
      "[I 2023-12-20 23:26:05,426] Trial 186 finished with value: 0.13063307297900276 and parameters: {'alpha': 0.6325630236027313, 'beta': 0.004693800260804626, 'topK': 296, 'normalize_similarity': True}. Best is trial 186 with value: 0.13063307297900276.\n"
     ]
    },
    {
     "name": "stdout",
     "output_type": "stream",
     "text": [
      "RP3betaRecommender: URM Detected 240 ( 1.9%) users with no interactions.\n",
      "RP3betaRecommender: URM Detected 123 ( 0.6%) items with no interactions.\n",
      "RP3betaRecommender: Similarity column 22222 (100.0%), 1097.48 column/sec. Elapsed time 20.25 sec\n",
      "EvaluatorHoldout: Processed 10511 (100.0%) in 12.40 sec. Users per second: 848\n"
     ]
    },
    {
     "name": "stderr",
     "output_type": "stream",
     "text": [
      "[I 2023-12-20 23:26:48,892] Trial 187 finished with value: 0.12841303538839902 and parameters: {'alpha': 0.4535392460250528, 'beta': 0.19422350914008388, 'topK': 291, 'normalize_similarity': True}. Best is trial 186 with value: 0.13063307297900276.\n"
     ]
    },
    {
     "name": "stdout",
     "output_type": "stream",
     "text": [
      "RP3betaRecommender: URM Detected 240 ( 1.9%) users with no interactions.\n",
      "RP3betaRecommender: URM Detected 123 ( 0.6%) items with no interactions.\n",
      "RP3betaRecommender: Similarity column 22222 (100.0%), 797.46 column/sec. Elapsed time 27.87 sec\n",
      "EvaluatorHoldout: Processed 10511 (100.0%) in 13.64 sec. Users per second: 771\n"
     ]
    },
    {
     "name": "stderr",
     "output_type": "stream",
     "text": [
      "[I 2023-12-20 23:27:45,509] Trial 188 finished with value: 0.12389475991456851 and parameters: {'alpha': 0.45005537470154233, 'beta': 0.386600145356722, 'topK': 352, 'normalize_similarity': True}. Best is trial 186 with value: 0.13063307297900276.\n"
     ]
    },
    {
     "name": "stdout",
     "output_type": "stream",
     "text": [
      "RP3betaRecommender: URM Detected 240 ( 1.9%) users with no interactions.\n",
      "RP3betaRecommender: URM Detected 123 ( 0.6%) items with no interactions.\n",
      "RP3betaRecommender: Similarity column 22222 (100.0%), 873.35 column/sec. Elapsed time 25.44 sec\n",
      "EvaluatorHoldout: Processed 10511 (100.0%) in 12.08 sec. Users per second: 870\n"
     ]
    },
    {
     "name": "stderr",
     "output_type": "stream",
     "text": [
      "[I 2023-12-20 23:28:31,608] Trial 189 finished with value: 0.131586602216444 and parameters: {'alpha': 0.3639967069773875, 'beta': 0.001243257710777032, 'topK': 286, 'normalize_similarity': True}. Best is trial 189 with value: 0.131586602216444.\n"
     ]
    },
    {
     "name": "stdout",
     "output_type": "stream",
     "text": [
      "RP3betaRecommender: URM Detected 240 ( 1.9%) users with no interactions.\n",
      "RP3betaRecommender: URM Detected 123 ( 0.6%) items with no interactions.\n",
      "RP3betaRecommender: Similarity column 22222 (100.0%), 1114.91 column/sec. Elapsed time 19.93 sec\n",
      "EvaluatorHoldout: Processed 10511 (100.0%) in 11.63 sec. Users per second: 904\n"
     ]
    },
    {
     "name": "stderr",
     "output_type": "stream",
     "text": [
      "[I 2023-12-20 23:29:11,748] Trial 190 finished with value: 0.13169134416602515 and parameters: {'alpha': 0.3839803187759576, 'beta': 0.0056818851363696216, 'topK': 284, 'normalize_similarity': True}. Best is trial 190 with value: 0.13169134416602515.\n"
     ]
    },
    {
     "name": "stdout",
     "output_type": "stream",
     "text": [
      "RP3betaRecommender: URM Detected 240 ( 1.9%) users with no interactions.\n",
      "RP3betaRecommender: URM Detected 123 ( 0.6%) items with no interactions.\n",
      "RP3betaRecommender: Similarity column 22222 (100.0%), 1063.96 column/sec. Elapsed time 20.89 sec\n",
      "EvaluatorHoldout: Processed 10511 (100.0%) in 11.66 sec. Users per second: 901\n"
     ]
    },
    {
     "name": "stderr",
     "output_type": "stream",
     "text": [
      "[I 2023-12-20 23:29:53,133] Trial 191 finished with value: 0.1316687640294389 and parameters: {'alpha': 0.36905198121481286, 'beta': 0.015185366494075411, 'topK': 293, 'normalize_similarity': True}. Best is trial 190 with value: 0.13169134416602515.\n"
     ]
    },
    {
     "name": "stdout",
     "output_type": "stream",
     "text": [
      "RP3betaRecommender: URM Detected 240 ( 1.9%) users with no interactions.\n",
      "RP3betaRecommender: URM Detected 123 ( 0.6%) items with no interactions.\n",
      "RP3betaRecommender: Similarity column 22222 (100.0%), 887.46 column/sec. Elapsed time 25.04 sec\n",
      "EvaluatorHoldout: Processed 10511 (100.0%) in 12.30 sec. Users per second: 854\n"
     ]
    },
    {
     "name": "stderr",
     "output_type": "stream",
     "text": [
      "[I 2023-12-20 23:30:43,734] Trial 192 finished with value: 0.12656862351255674 and parameters: {'alpha': 0.36607860627573274, 'beta': 0.05887970791257297, 'topK': 417, 'normalize_similarity': True}. Best is trial 190 with value: 0.13169134416602515.\n"
     ]
    },
    {
     "name": "stdout",
     "output_type": "stream",
     "text": [
      "RP3betaRecommender: URM Detected 240 ( 1.9%) users with no interactions.\n",
      "RP3betaRecommender: URM Detected 123 ( 0.6%) items with no interactions.\n",
      "RP3betaRecommender: Similarity column 22222 (100.0%), 742.72 column/sec. Elapsed time 29.92 sec\n",
      "EvaluatorHoldout: Processed 10511 (100.0%) in 12.10 sec. Users per second: 868\n"
     ]
    },
    {
     "name": "stderr",
     "output_type": "stream",
     "text": [
      "[I 2023-12-20 23:31:37,537] Trial 193 finished with value: 0.127483704188071 and parameters: {'alpha': 0.35785402520333026, 'beta': 0.002790488229135822, 'topK': 400, 'normalize_similarity': True}. Best is trial 190 with value: 0.13169134416602515.\n"
     ]
    },
    {
     "name": "stdout",
     "output_type": "stream",
     "text": [
      "RP3betaRecommender: URM Detected 240 ( 1.9%) users with no interactions.\n",
      "RP3betaRecommender: URM Detected 123 ( 0.6%) items with no interactions.\n",
      "RP3betaRecommender: Similarity column 22222 (100.0%), 709.73 column/sec. Elapsed time 31.31 sec\n",
      "EvaluatorHoldout: Processed 10511 (100.0%) in 12.18 sec. Users per second: 863\n"
     ]
    },
    {
     "name": "stderr",
     "output_type": "stream",
     "text": [
      "[I 2023-12-20 23:32:34,125] Trial 194 finished with value: 0.12580110062396868 and parameters: {'alpha': 0.19802136576530877, 'beta': 0.014555758028421711, 'topK': 444, 'normalize_similarity': True}. Best is trial 190 with value: 0.13169134416602515.\n"
     ]
    },
    {
     "name": "stdout",
     "output_type": "stream",
     "text": [
      "RP3betaRecommender: URM Detected 240 ( 1.9%) users with no interactions.\n",
      "RP3betaRecommender: URM Detected 123 ( 0.6%) items with no interactions.\n",
      "RP3betaRecommender: Similarity column 22222 (100.0%), 815.21 column/sec. Elapsed time 27.26 sec\n",
      "EvaluatorHoldout: Processed 10511 (100.0%) in 11.90 sec. Users per second: 884\n"
     ]
    },
    {
     "name": "stderr",
     "output_type": "stream",
     "text": [
      "[I 2023-12-20 23:33:23,810] Trial 195 finished with value: 0.12885269850297665 and parameters: {'alpha': 0.36848174023483543, 'beta': 0.029177163387825163, 'topK': 340, 'normalize_similarity': True}. Best is trial 190 with value: 0.13169134416602515.\n"
     ]
    },
    {
     "name": "stdout",
     "output_type": "stream",
     "text": [
      "RP3betaRecommender: URM Detected 240 ( 1.9%) users with no interactions.\n",
      "RP3betaRecommender: URM Detected 123 ( 0.6%) items with no interactions.\n",
      "RP3betaRecommender: Similarity column 22222 (100.0%), 928.64 column/sec. Elapsed time 23.93 sec\n",
      "EvaluatorHoldout: Processed 10511 (100.0%) in 14.33 sec. Users per second: 733\n"
     ]
    },
    {
     "name": "stderr",
     "output_type": "stream",
     "text": [
      "[I 2023-12-20 23:34:18,781] Trial 196 finished with value: 0.005710021812396524 and parameters: {'alpha': 0.3398809708979796, 'beta': 1.0845512170770384, 'topK': 387, 'normalize_similarity': True}. Best is trial 190 with value: 0.13169134416602515.\n"
     ]
    },
    {
     "name": "stdout",
     "output_type": "stream",
     "text": [
      "RP3betaRecommender: URM Detected 240 ( 1.9%) users with no interactions.\n",
      "RP3betaRecommender: URM Detected 123 ( 0.6%) items with no interactions.\n",
      "RP3betaRecommender: Similarity column 22222 (100.0%), 812.72 column/sec. Elapsed time 27.34 sec\n",
      "EvaluatorHoldout: Processed 10511 (100.0%) in 11.79 sec. Users per second: 891\n"
     ]
    },
    {
     "name": "stderr",
     "output_type": "stream",
     "text": [
      "[I 2023-12-20 23:35:07,991] Trial 197 finished with value: 0.12913157306908177 and parameters: {'alpha': 0.24687413539212655, 'beta': 0.0027716166810953236, 'topK': 336, 'normalize_similarity': True}. Best is trial 190 with value: 0.13169134416602515.\n"
     ]
    },
    {
     "name": "stdout",
     "output_type": "stream",
     "text": [
      "RP3betaRecommender: URM Detected 240 ( 1.9%) users with no interactions.\n",
      "RP3betaRecommender: URM Detected 123 ( 0.6%) items with no interactions.\n",
      "RP3betaRecommender: Similarity column 22222 (100.0%), 980.97 column/sec. Elapsed time 22.65 sec\n",
      "EvaluatorHoldout: Processed 10511 (100.0%) in 12.08 sec. Users per second: 870\n"
     ]
    },
    {
     "name": "stderr",
     "output_type": "stream",
     "text": [
      "[I 2023-12-20 23:35:53,512] Trial 198 finished with value: 0.12827006417725156 and parameters: {'alpha': 0.2454753348714605, 'beta': 0.03301278578611809, 'topK': 345, 'normalize_similarity': True}. Best is trial 190 with value: 0.13169134416602515.\n"
     ]
    },
    {
     "name": "stdout",
     "output_type": "stream",
     "text": [
      "RP3betaRecommender: URM Detected 240 ( 1.9%) users with no interactions.\n",
      "RP3betaRecommender: URM Detected 123 ( 0.6%) items with no interactions.\n",
      "RP3betaRecommender: Similarity column 22222 (100.0%), 936.11 column/sec. Elapsed time 23.74 sec\n",
      "EvaluatorHoldout: Processed 10511 (100.0%) in 11.53 sec. Users per second: 912\n"
     ]
    },
    {
     "name": "stderr",
     "output_type": "stream",
     "text": [
      "[I 2023-12-20 23:36:37,091] Trial 199 finished with value: 0.13144955265338246 and parameters: {'alpha': 0.17527835361632765, 'beta': 0.025928096710807286, 'topK': 255, 'normalize_similarity': True}. Best is trial 190 with value: 0.13169134416602515.\n"
     ]
    },
    {
     "name": "stdout",
     "output_type": "stream",
     "text": [
      "RP3betaRecommender: URM Detected 240 ( 1.9%) users with no interactions.\n",
      "RP3betaRecommender: URM Detected 123 ( 0.6%) items with no interactions.\n",
      "RP3betaRecommender: Similarity column 22222 (100.0%), 844.16 column/sec. Elapsed time 26.32 sec\n",
      "EvaluatorHoldout: Processed 10511 (100.0%) in 12.00 sec. Users per second: 876\n"
     ]
    },
    {
     "name": "stderr",
     "output_type": "stream",
     "text": [
      "[I 2023-12-20 23:37:24,745] Trial 200 finished with value: 0.12971646618904464 and parameters: {'alpha': 0.10200302933536654, 'beta': 0.0005555968910046739, 'topK': 314, 'normalize_similarity': True}. Best is trial 190 with value: 0.13169134416602515.\n"
     ]
    },
    {
     "name": "stdout",
     "output_type": "stream",
     "text": [
      "RP3betaRecommender: URM Detected 240 ( 1.9%) users with no interactions.\n",
      "RP3betaRecommender: URM Detected 123 ( 0.6%) items with no interactions.\n",
      "RP3betaRecommender: Similarity column 22222 (100.0%), 1037.31 column/sec. Elapsed time 21.42 sec\n",
      "EvaluatorHoldout: Processed 10511 (100.0%) in 11.71 sec. Users per second: 897\n"
     ]
    },
    {
     "name": "stderr",
     "output_type": "stream",
     "text": [
      "[I 2023-12-20 23:38:08,032] Trial 201 finished with value: 0.12939683148537914 and parameters: {'alpha': 0.14260760791073843, 'beta': 0.01629702171966228, 'topK': 312, 'normalize_similarity': True}. Best is trial 190 with value: 0.13169134416602515.\n"
     ]
    },
    {
     "name": "stdout",
     "output_type": "stream",
     "text": [
      "RP3betaRecommender: URM Detected 240 ( 1.9%) users with no interactions.\n",
      "RP3betaRecommender: URM Detected 123 ( 0.6%) items with no interactions.\n",
      "RP3betaRecommender: Similarity column 22222 (100.0%), 944.99 column/sec. Elapsed time 23.52 sec\n",
      "EvaluatorHoldout: Processed 10511 (100.0%) in 11.47 sec. Users per second: 916\n"
     ]
    },
    {
     "name": "stderr",
     "output_type": "stream",
     "text": [
      "[I 2023-12-20 23:38:50,848] Trial 202 finished with value: 0.13172847210980176 and parameters: {'alpha': 0.13752227700527392, 'beta': 0.013642341500020872, 'topK': 248, 'normalize_similarity': True}. Best is trial 202 with value: 0.13172847210980176.\n"
     ]
    },
    {
     "name": "stdout",
     "output_type": "stream",
     "text": [
      "RP3betaRecommender: URM Detected 240 ( 1.9%) users with no interactions.\n",
      "RP3betaRecommender: URM Detected 123 ( 0.6%) items with no interactions.\n",
      "RP3betaRecommender: Similarity column 22222 (100.0%), 956.76 column/sec. Elapsed time 23.23 sec\n",
      "EvaluatorHoldout: Processed 10511 (100.0%) in 11.73 sec. Users per second: 896\n"
     ]
    },
    {
     "name": "stderr",
     "output_type": "stream",
     "text": [
      "[I 2023-12-20 23:39:33,371] Trial 203 finished with value: 0.1320515731846367 and parameters: {'alpha': 0.10872820843497598, 'beta': 0.013807118039077594, 'topK': 238, 'normalize_similarity': True}. Best is trial 203 with value: 0.1320515731846367.\n"
     ]
    },
    {
     "name": "stdout",
     "output_type": "stream",
     "text": [
      "RP3betaRecommender: URM Detected 240 ( 1.9%) users with no interactions.\n",
      "RP3betaRecommender: URM Detected 123 ( 0.6%) items with no interactions.\n",
      "RP3betaRecommender: Similarity column 22222 (100.0%), 969.10 column/sec. Elapsed time 22.93 sec\n",
      "EvaluatorHoldout: Processed 10511 (100.0%) in 11.65 sec. Users per second: 902\n"
     ]
    },
    {
     "name": "stderr",
     "output_type": "stream",
     "text": [
      "[I 2023-12-20 23:40:16,997] Trial 204 finished with value: 0.13147105131964662 and parameters: {'alpha': 0.0014361347861246987, 'beta': 0.047577866026957544, 'topK': 236, 'normalize_similarity': True}. Best is trial 203 with value: 0.1320515731846367.\n"
     ]
    },
    {
     "name": "stdout",
     "output_type": "stream",
     "text": [
      "RP3betaRecommender: URM Detected 240 ( 1.9%) users with no interactions.\n",
      "RP3betaRecommender: URM Detected 123 ( 0.6%) items with no interactions.\n",
      "RP3betaRecommender: Similarity column 22222 (100.0%), 1199.10 column/sec. Elapsed time 18.53 sec\n",
      "EvaluatorHoldout: Processed 10511 (100.0%) in 11.62 sec. Users per second: 905\n"
     ]
    },
    {
     "name": "stderr",
     "output_type": "stream",
     "text": [
      "[I 2023-12-20 23:40:55,893] Trial 205 finished with value: 0.13181363993756098 and parameters: {'alpha': 0.016116463966929978, 'beta': 0.007670969568587874, 'topK': 245, 'normalize_similarity': True}. Best is trial 203 with value: 0.1320515731846367.\n"
     ]
    },
    {
     "name": "stdout",
     "output_type": "stream",
     "text": [
      "RP3betaRecommender: URM Detected 240 ( 1.9%) users with no interactions.\n",
      "RP3betaRecommender: URM Detected 123 ( 0.6%) items with no interactions.\n",
      "RP3betaRecommender: Similarity column 22222 (100.0%), 1205.38 column/sec. Elapsed time 18.44 sec\n",
      "EvaluatorHoldout: Processed 10511 (100.0%) in 11.68 sec. Users per second: 900\n"
     ]
    },
    {
     "name": "stderr",
     "output_type": "stream",
     "text": [
      "[I 2023-12-20 23:41:35,312] Trial 206 finished with value: 0.1315107805002424 and parameters: {'alpha': 0.002424909167958317, 'beta': 0.004817423430850509, 'topK': 241, 'normalize_similarity': True}. Best is trial 203 with value: 0.1320515731846367.\n"
     ]
    },
    {
     "name": "stdout",
     "output_type": "stream",
     "text": [
      "RP3betaRecommender: URM Detected 240 ( 1.9%) users with no interactions.\n",
      "RP3betaRecommender: URM Detected 123 ( 0.6%) items with no interactions.\n",
      "RP3betaRecommender: Similarity column 22222 (100.0%), 957.45 column/sec. Elapsed time 23.21 sec\n",
      "EvaluatorHoldout: Processed 10511 (100.0%) in 11.50 sec. Users per second: 914\n"
     ]
    },
    {
     "name": "stderr",
     "output_type": "stream",
     "text": [
      "[I 2023-12-20 23:42:17,424] Trial 207 finished with value: 0.1314695262224961 and parameters: {'alpha': 0.012537887584615576, 'beta': 0.0008332736369127342, 'topK': 240, 'normalize_similarity': True}. Best is trial 203 with value: 0.1320515731846367.\n"
     ]
    },
    {
     "name": "stdout",
     "output_type": "stream",
     "text": [
      "RP3betaRecommender: URM Detected 240 ( 1.9%) users with no interactions.\n",
      "RP3betaRecommender: URM Detected 123 ( 0.6%) items with no interactions.\n",
      "RP3betaRecommender: Similarity column 22222 (100.0%), 966.88 column/sec. Elapsed time 22.98 sec\n",
      "EvaluatorHoldout: Processed 10511 (100.0%) in 11.54 sec. Users per second: 911\n"
     ]
    },
    {
     "name": "stderr",
     "output_type": "stream",
     "text": [
      "[I 2023-12-20 23:42:59,218] Trial 208 finished with value: 0.13175749281139548 and parameters: {'alpha': 0.0607881328126802, 'beta': 0.0037918294884340398, 'topK': 234, 'normalize_similarity': True}. Best is trial 203 with value: 0.1320515731846367.\n"
     ]
    },
    {
     "name": "stdout",
     "output_type": "stream",
     "text": [
      "RP3betaRecommender: URM Detected 240 ( 1.9%) users with no interactions.\n",
      "RP3betaRecommender: URM Detected 123 ( 0.6%) items with no interactions.\n",
      "RP3betaRecommender: Similarity column 22222 (100.0%), 970.32 column/sec. Elapsed time 22.90 sec\n",
      "EvaluatorHoldout: Processed 10511 (100.0%) in 11.72 sec. Users per second: 897\n"
     ]
    },
    {
     "name": "stderr",
     "output_type": "stream",
     "text": [
      "[I 2023-12-20 23:43:42,880] Trial 209 finished with value: 0.1320392745941135 and parameters: {'alpha': 0.01467831537905706, 'beta': 0.02507898678818854, 'topK': 234, 'normalize_similarity': True}. Best is trial 203 with value: 0.1320515731846367.\n"
     ]
    },
    {
     "name": "stdout",
     "output_type": "stream",
     "text": [
      "RP3betaRecommender: URM Detected 240 ( 1.9%) users with no interactions.\n",
      "RP3betaRecommender: URM Detected 123 ( 0.6%) items with no interactions.\n",
      "RP3betaRecommender: Similarity column 22222 (100.0%), 975.34 column/sec. Elapsed time 22.78 sec\n",
      "EvaluatorHoldout: Processed 10511 (100.0%) in 11.90 sec. Users per second: 883\n"
     ]
    },
    {
     "name": "stderr",
     "output_type": "stream",
     "text": [
      "[I 2023-12-20 23:44:26,695] Trial 210 finished with value: 0.1313924046492063 and parameters: {'alpha': 0.00423078260910935, 'beta': 0.013037580175818644, 'topK': 231, 'normalize_similarity': True}. Best is trial 203 with value: 0.1320515731846367.\n"
     ]
    },
    {
     "name": "stdout",
     "output_type": "stream",
     "text": [
      "RP3betaRecommender: URM Detected 240 ( 1.9%) users with no interactions.\n",
      "RP3betaRecommender: URM Detected 123 ( 0.6%) items with no interactions.\n",
      "RP3betaRecommender: Similarity column 22222 (100.0%), 1247.31 column/sec. Elapsed time 17.82 sec\n",
      "EvaluatorHoldout: Processed 10511 (100.0%) in 11.56 sec. Users per second: 909\n"
     ]
    },
    {
     "name": "stderr",
     "output_type": "stream",
     "text": [
      "[I 2023-12-20 23:45:04,503] Trial 211 finished with value: 0.1319952573616609 and parameters: {'alpha': 0.019331791437083457, 'beta': 0.009190905947617197, 'topK': 233, 'normalize_similarity': True}. Best is trial 203 with value: 0.1320515731846367.\n"
     ]
    },
    {
     "name": "stdout",
     "output_type": "stream",
     "text": [
      "RP3betaRecommender: URM Detected 240 ( 1.9%) users with no interactions.\n",
      "RP3betaRecommender: URM Detected 123 ( 0.6%) items with no interactions.\n",
      "RP3betaRecommender: Similarity column 22222 (100.0%), 1219.85 column/sec. Elapsed time 18.22 sec\n",
      "EvaluatorHoldout: Processed 10511 (100.0%) in 11.60 sec. Users per second: 906\n"
     ]
    },
    {
     "name": "stderr",
     "output_type": "stream",
     "text": [
      "[I 2023-12-20 23:45:43,182] Trial 212 finished with value: 0.13159262312671313 and parameters: {'alpha': 0.032396506612925126, 'beta': 0.01980771128127103, 'topK': 242, 'normalize_similarity': True}. Best is trial 203 with value: 0.1320515731846367.\n"
     ]
    },
    {
     "name": "stdout",
     "output_type": "stream",
     "text": [
      "RP3betaRecommender: URM Detected 240 ( 1.9%) users with no interactions.\n",
      "RP3betaRecommender: URM Detected 123 ( 0.6%) items with no interactions.\n",
      "RP3betaRecommender: Similarity column 22222 (100.0%), 966.24 column/sec. Elapsed time 23.00 sec\n",
      "EvaluatorHoldout: Processed 10511 (100.0%) in 11.47 sec. Users per second: 916\n"
     ]
    },
    {
     "name": "stderr",
     "output_type": "stream",
     "text": [
      "[I 2023-12-20 23:46:25,101] Trial 213 finished with value: 0.13225468602513382 and parameters: {'alpha': 0.05704566249225192, 'beta': 0.010131753818496333, 'topK': 227, 'normalize_similarity': True}. Best is trial 213 with value: 0.13225468602513382.\n"
     ]
    },
    {
     "name": "stdout",
     "output_type": "stream",
     "text": [
      "RP3betaRecommender: URM Detected 240 ( 1.9%) users with no interactions.\n",
      "RP3betaRecommender: URM Detected 123 ( 0.6%) items with no interactions.\n",
      "RP3betaRecommender: Similarity column 22222 (100.0%), 969.61 column/sec. Elapsed time 22.92 sec\n",
      "EvaluatorHoldout: Processed 10511 (100.0%) in 11.73 sec. Users per second: 896\n"
     ]
    },
    {
     "name": "stderr",
     "output_type": "stream",
     "text": [
      "[I 2023-12-20 23:47:08,855] Trial 214 finished with value: 0.13122022840962916 and parameters: {'alpha': 0.0014047715256788884, 'beta': 0.022078656418536225, 'topK': 239, 'normalize_similarity': True}. Best is trial 213 with value: 0.13225468602513382.\n"
     ]
    },
    {
     "name": "stdout",
     "output_type": "stream",
     "text": [
      "RP3betaRecommender: URM Detected 240 ( 1.9%) users with no interactions.\n",
      "RP3betaRecommender: URM Detected 123 ( 0.6%) items with no interactions.\n",
      "RP3betaRecommender: Similarity column 22222 (100.0%), 979.67 column/sec. Elapsed time 22.68 sec\n",
      "EvaluatorHoldout: Processed 10511 (100.0%) in 11.57 sec. Users per second: 908\n"
     ]
    },
    {
     "name": "stderr",
     "output_type": "stream",
     "text": [
      "[I 2023-12-20 23:47:51,642] Trial 215 finished with value: 0.13166189695623645 and parameters: {'alpha': 0.00884311230393144, 'beta': 0.006810472601928373, 'topK': 227, 'normalize_similarity': True}. Best is trial 213 with value: 0.13225468602513382.\n"
     ]
    },
    {
     "name": "stdout",
     "output_type": "stream",
     "text": [
      "RP3betaRecommender: URM Detected 240 ( 1.9%) users with no interactions.\n",
      "RP3betaRecommender: URM Detected 123 ( 0.6%) items with no interactions.\n",
      "RP3betaRecommender: Similarity column 22222 (100.0%), 1255.12 column/sec. Elapsed time 17.71 sec\n",
      "EvaluatorHoldout: Processed 10511 (100.0%) in 11.57 sec. Users per second: 909\n"
     ]
    },
    {
     "name": "stderr",
     "output_type": "stream",
     "text": [
      "[I 2023-12-20 23:48:28,465] Trial 216 finished with value: 0.1315905232055565 and parameters: {'alpha': 0.021643911531808356, 'beta': 0.0032255821230355378, 'topK': 229, 'normalize_similarity': True}. Best is trial 213 with value: 0.13225468602513382.\n"
     ]
    },
    {
     "name": "stdout",
     "output_type": "stream",
     "text": [
      "RP3betaRecommender: URM Detected 240 ( 1.9%) users with no interactions.\n",
      "RP3betaRecommender: URM Detected 123 ( 0.6%) items with no interactions.\n",
      "RP3betaRecommender: Similarity column 22222 (100.0%), 985.42 column/sec. Elapsed time 22.55 sec\n",
      "EvaluatorHoldout: Processed 10511 (100.0%) in 11.67 sec. Users per second: 901\n"
     ]
    },
    {
     "name": "stderr",
     "output_type": "stream",
     "text": [
      "[I 2023-12-20 23:49:11,294] Trial 217 finished with value: 0.131087652206948 and parameters: {'alpha': 0.0011541735926516288, 'beta': 0.016061921437035886, 'topK': 224, 'normalize_similarity': True}. Best is trial 213 with value: 0.13225468602513382.\n"
     ]
    },
    {
     "name": "stdout",
     "output_type": "stream",
     "text": [
      "RP3betaRecommender: URM Detected 240 ( 1.9%) users with no interactions.\n",
      "RP3betaRecommender: URM Detected 123 ( 0.6%) items with no interactions.\n",
      "RP3betaRecommender: Similarity column 22222 (100.0%), 1278.04 column/sec. Elapsed time 17.39 sec\n",
      "EvaluatorHoldout: Processed 10511 (100.0%) in 11.61 sec. Users per second: 906\n"
     ]
    },
    {
     "name": "stderr",
     "output_type": "stream",
     "text": [
      "[I 2023-12-20 23:49:48,985] Trial 218 finished with value: 0.13176622137550267 and parameters: {'alpha': 0.012062050315385962, 'beta': 0.02105618704768114, 'topK': 222, 'normalize_similarity': True}. Best is trial 213 with value: 0.13225468602513382.\n"
     ]
    },
    {
     "name": "stdout",
     "output_type": "stream",
     "text": [
      "RP3betaRecommender: URM Detected 240 ( 1.9%) users with no interactions.\n",
      "RP3betaRecommender: URM Detected 123 ( 0.6%) items with no interactions.\n",
      "RP3betaRecommender: Similarity column 22222 (100.0%), 994.70 column/sec. Elapsed time 22.34 sec\n",
      "EvaluatorHoldout: Processed 10511 (100.0%) in 11.40 sec. Users per second: 922\n"
     ]
    },
    {
     "name": "stderr",
     "output_type": "stream",
     "text": [
      "[I 2023-12-20 23:50:29,860] Trial 219 finished with value: 0.13187463074223493 and parameters: {'alpha': 0.016171333031624772, 'beta': 0.0023731219424420365, 'topK': 221, 'normalize_similarity': True}. Best is trial 213 with value: 0.13225468602513382.\n"
     ]
    },
    {
     "name": "stdout",
     "output_type": "stream",
     "text": [
      "RP3betaRecommender: URM Detected 240 ( 1.9%) users with no interactions.\n",
      "RP3betaRecommender: URM Detected 123 ( 0.6%) items with no interactions.\n",
      "RP3betaRecommender: Similarity column 22222 (100.0%), 1006.38 column/sec. Elapsed time 22.08 sec\n",
      "EvaluatorHoldout: Processed 10511 (100.0%) in 11.38 sec. Users per second: 923\n"
     ]
    },
    {
     "name": "stderr",
     "output_type": "stream",
     "text": [
      "[I 2023-12-20 23:51:10,001] Trial 220 finished with value: 0.13187353509123012 and parameters: {'alpha': 0.006133516300115459, 'beta': 0.0002627995556163309, 'topK': 216, 'normalize_similarity': True}. Best is trial 213 with value: 0.13225468602513382.\n"
     ]
    },
    {
     "name": "stdout",
     "output_type": "stream",
     "text": [
      "RP3betaRecommender: URM Detected 240 ( 1.9%) users with no interactions.\n",
      "RP3betaRecommender: URM Detected 123 ( 0.6%) items with no interactions.\n",
      "RP3betaRecommender: Similarity column 22222 (100.0%), 996.25 column/sec. Elapsed time 22.31 sec\n",
      "EvaluatorHoldout: Processed 10511 (100.0%) in 11.43 sec. Users per second: 920\n"
     ]
    },
    {
     "name": "stderr",
     "output_type": "stream",
     "text": [
      "[I 2023-12-20 23:51:51,325] Trial 221 finished with value: 0.13227117807026653 and parameters: {'alpha': 0.018323782209964286, 'beta': 0.004579383735735398, 'topK': 220, 'normalize_similarity': True}. Best is trial 221 with value: 0.13227117807026653.\n"
     ]
    },
    {
     "name": "stdout",
     "output_type": "stream",
     "text": [
      "RP3betaRecommender: URM Detected 240 ( 1.9%) users with no interactions.\n",
      "RP3betaRecommender: URM Detected 123 ( 0.6%) items with no interactions.\n",
      "RP3betaRecommender: Similarity column 22222 (100.0%), 985.30 column/sec. Elapsed time 22.55 sec\n",
      "EvaluatorHoldout: Processed 10511 (100.0%) in 11.56 sec. Users per second: 910\n"
     ]
    },
    {
     "name": "stderr",
     "output_type": "stream",
     "text": [
      "[I 2023-12-20 23:52:33,800] Trial 222 finished with value: 0.13165465339402682 and parameters: {'alpha': 0.0003841171101601447, 'beta': 0.014004105855283748, 'topK': 219, 'normalize_similarity': True}. Best is trial 221 with value: 0.13227117807026653.\n"
     ]
    },
    {
     "name": "stdout",
     "output_type": "stream",
     "text": [
      "RP3betaRecommender: URM Detected 240 ( 1.9%) users with no interactions.\n",
      "RP3betaRecommender: URM Detected 123 ( 0.6%) items with no interactions.\n",
      "RP3betaRecommender: Similarity column 22222 (100.0%), 1003.39 column/sec. Elapsed time 22.15 sec\n",
      "EvaluatorHoldout: Processed 10511 (100.0%) in 11.39 sec. Users per second: 922\n"
     ]
    },
    {
     "name": "stderr",
     "output_type": "stream",
     "text": [
      "[I 2023-12-20 23:53:14,077] Trial 223 finished with value: 0.1324996975545857 and parameters: {'alpha': 0.08602595331337819, 'beta': 0.0019169016089868526, 'topK': 220, 'normalize_similarity': True}. Best is trial 223 with value: 0.1324996975545857.\n"
     ]
    },
    {
     "name": "stdout",
     "output_type": "stream",
     "text": [
      "RP3betaRecommender: URM Detected 240 ( 1.9%) users with no interactions.\n",
      "RP3betaRecommender: URM Detected 123 ( 0.6%) items with no interactions.\n",
      "RP3betaRecommender: Similarity column 22222 (100.0%), 1021.13 column/sec. Elapsed time 21.76 sec\n",
      "EvaluatorHoldout: Processed 10511 (100.0%) in 11.38 sec. Users per second: 924\n"
     ]
    },
    {
     "name": "stderr",
     "output_type": "stream",
     "text": [
      "[I 2023-12-20 23:53:53,696] Trial 224 finished with value: 0.13248666629311218 and parameters: {'alpha': 0.09869033496197027, 'beta': 0.001010285619397304, 'topK': 212, 'normalize_similarity': True}. Best is trial 223 with value: 0.1324996975545857.\n"
     ]
    },
    {
     "name": "stdout",
     "output_type": "stream",
     "text": [
      "RP3betaRecommender: URM Detected 240 ( 1.9%) users with no interactions.\n",
      "RP3betaRecommender: URM Detected 123 ( 0.6%) items with no interactions.\n",
      "RP3betaRecommender: Similarity column 22222 (100.0%), 998.65 column/sec. Elapsed time 22.25 sec\n",
      "EvaluatorHoldout: Processed 10511 (100.0%) in 11.69 sec. Users per second: 899\n"
     ]
    },
    {
     "name": "stderr",
     "output_type": "stream",
     "text": [
      "[I 2023-12-20 23:54:36,211] Trial 225 finished with value: 0.13141024192684084 and parameters: {'alpha': 0.09173133633633904, 'beta': 0.10352665599862114, 'topK': 220, 'normalize_similarity': True}. Best is trial 223 with value: 0.1324996975545857.\n"
     ]
    },
    {
     "name": "stdout",
     "output_type": "stream",
     "text": [
      "RP3betaRecommender: URM Detected 240 ( 1.9%) users with no interactions.\n",
      "RP3betaRecommender: URM Detected 123 ( 0.6%) items with no interactions.\n",
      "RP3betaRecommender: Similarity column 22222 (100.0%), 1026.07 column/sec. Elapsed time 21.66 sec\n",
      "EvaluatorHoldout: Processed 10511 (100.0%) in 11.23 sec. Users per second: 936\n"
     ]
    },
    {
     "name": "stderr",
     "output_type": "stream",
     "text": [
      "[I 2023-12-20 23:55:15,482] Trial 226 finished with value: 0.13296131190613425 and parameters: {'alpha': 0.08622650055575251, 'beta': 0.0027550753979266505, 'topK': 206, 'normalize_similarity': True}. Best is trial 226 with value: 0.13296131190613425.\n"
     ]
    },
    {
     "name": "stdout",
     "output_type": "stream",
     "text": [
      "RP3betaRecommender: URM Detected 240 ( 1.9%) users with no interactions.\n",
      "RP3betaRecommender: URM Detected 123 ( 0.6%) items with no interactions.\n",
      "RP3betaRecommender: Similarity column 22222 (100.0%), 1033.76 column/sec. Elapsed time 21.50 sec\n",
      "EvaluatorHoldout: Processed 10511 (100.0%) in 11.22 sec. Users per second: 937\n"
     ]
    },
    {
     "name": "stderr",
     "output_type": "stream",
     "text": [
      "[I 2023-12-20 23:55:54,411] Trial 227 finished with value: 0.13284296888764563 and parameters: {'alpha': 0.10596193353653954, 'beta': 0.008537248750244465, 'topK': 196, 'normalize_similarity': True}. Best is trial 226 with value: 0.13296131190613425.\n"
     ]
    },
    {
     "name": "stdout",
     "output_type": "stream",
     "text": [
      "RP3betaRecommender: URM Detected 240 ( 1.9%) users with no interactions.\n",
      "RP3betaRecommender: URM Detected 123 ( 0.6%) items with no interactions.\n",
      "RP3betaRecommender: Similarity column 22222 (100.0%), 1063.45 column/sec. Elapsed time 20.90 sec\n",
      "EvaluatorHoldout: Processed 10511 (100.0%) in 11.89 sec. Users per second: 884\n"
     ]
    },
    {
     "name": "stderr",
     "output_type": "stream",
     "text": [
      "[I 2023-12-20 23:56:35,521] Trial 228 finished with value: 0.001702818088418065 and parameters: {'alpha': 0.10977049146483528, 'beta': 1.7645841515408422, 'topK': 189, 'normalize_similarity': True}. Best is trial 226 with value: 0.13296131190613425.\n"
     ]
    },
    {
     "name": "stdout",
     "output_type": "stream",
     "text": [
      "RP3betaRecommender: URM Detected 240 ( 1.9%) users with no interactions.\n",
      "RP3betaRecommender: URM Detected 123 ( 0.6%) items with no interactions.\n",
      "RP3betaRecommender: Similarity column 22222 (100.0%), 1048.86 column/sec. Elapsed time 21.19 sec\n",
      "EvaluatorHoldout: Processed 10511 (100.0%) in 11.54 sec. Users per second: 911\n"
     ]
    },
    {
     "name": "stderr",
     "output_type": "stream",
     "text": [
      "[I 2023-12-20 23:57:15,940] Trial 229 finished with value: 0.13297414369001073 and parameters: {'alpha': 0.11555853686439674, 'beta': 0.11521643398548202, 'topK': 198, 'normalize_similarity': True}. Best is trial 229 with value: 0.13297414369001073.\n"
     ]
    },
    {
     "name": "stdout",
     "output_type": "stream",
     "text": [
      "RP3betaRecommender: URM Detected 240 ( 1.9%) users with no interactions.\n",
      "RP3betaRecommender: URM Detected 123 ( 0.6%) items with no interactions.\n",
      "RP3betaRecommender: Similarity column 22222 (100.0%), 1026.82 column/sec. Elapsed time 21.64 sec\n",
      "EvaluatorHoldout: Processed 10511 (100.0%) in 11.52 sec. Users per second: 912\n"
     ]
    },
    {
     "name": "stderr",
     "output_type": "stream",
     "text": [
      "[I 2023-12-20 23:57:56,784] Trial 230 finished with value: 0.13296628255376125 and parameters: {'alpha': 0.1172977133826336, 'beta': 0.12423449716141712, 'topK': 195, 'normalize_similarity': True}. Best is trial 229 with value: 0.13297414369001073.\n"
     ]
    },
    {
     "name": "stdout",
     "output_type": "stream",
     "text": [
      "RP3betaRecommender: URM Detected 240 ( 1.9%) users with no interactions.\n",
      "RP3betaRecommender: URM Detected 123 ( 0.6%) items with no interactions.\n",
      "RP3betaRecommender: Similarity column 22222 (100.0%), 1033.37 column/sec. Elapsed time 21.50 sec\n",
      "EvaluatorHoldout: Processed 10511 (100.0%) in 11.20 sec. Users per second: 938\n"
     ]
    },
    {
     "name": "stderr",
     "output_type": "stream",
     "text": [
      "[I 2023-12-20 23:58:35,835] Trial 231 finished with value: 0.13317775400967677 and parameters: {'alpha': 0.1289977046698091, 'beta': 0.0014391050236092408, 'topK': 209, 'normalize_similarity': True}. Best is trial 231 with value: 0.13317775400967677.\n"
     ]
    },
    {
     "name": "stdout",
     "output_type": "stream",
     "text": [
      "RP3betaRecommender: URM Detected 240 ( 1.9%) users with no interactions.\n",
      "RP3betaRecommender: URM Detected 123 ( 0.6%) items with no interactions.\n",
      "RP3betaRecommender: Similarity column 22222 (100.0%), 1054.43 column/sec. Elapsed time 21.07 sec\n",
      "EvaluatorHoldout: Processed 10511 (100.0%) in 11.57 sec. Users per second: 908\n"
     ]
    },
    {
     "name": "stderr",
     "output_type": "stream",
     "text": [
      "[I 2023-12-20 23:59:16,336] Trial 232 finished with value: 0.13266329044882297 and parameters: {'alpha': 0.11533262428000257, 'beta': 0.12344524533146783, 'topK': 198, 'normalize_similarity': True}. Best is trial 231 with value: 0.13317775400967677.\n"
     ]
    },
    {
     "name": "stdout",
     "output_type": "stream",
     "text": [
      "RP3betaRecommender: URM Detected 240 ( 1.9%) users with no interactions.\n",
      "RP3betaRecommender: URM Detected 123 ( 0.6%) items with no interactions.\n",
      "RP3betaRecommender: Similarity column 22222 (100.0%), 1038.48 column/sec. Elapsed time 21.40 sec\n",
      "EvaluatorHoldout: Processed 10511 (100.0%) in 11.47 sec. Users per second: 916\n"
     ]
    },
    {
     "name": "stderr",
     "output_type": "stream",
     "text": [
      "[I 2023-12-20 23:59:56,803] Trial 233 finished with value: 0.133422436336818 and parameters: {'alpha': 0.13629837291531466, 'beta': 0.10915783712500218, 'topK': 197, 'normalize_similarity': True}. Best is trial 233 with value: 0.133422436336818.\n"
     ]
    },
    {
     "name": "stdout",
     "output_type": "stream",
     "text": [
      "RP3betaRecommender: URM Detected 240 ( 1.9%) users with no interactions.\n",
      "RP3betaRecommender: URM Detected 123 ( 0.6%) items with no interactions.\n",
      "RP3betaRecommender: Similarity column 22222 (100.0%), 1053.17 column/sec. Elapsed time 21.10 sec\n",
      "EvaluatorHoldout: Processed 10511 (100.0%) in 11.66 sec. Users per second: 901\n"
     ]
    },
    {
     "name": "stderr",
     "output_type": "stream",
     "text": [
      "[I 2023-12-21 00:00:37,211] Trial 234 finished with value: 0.13273246224500088 and parameters: {'alpha': 0.13037014459238053, 'beta': 0.13387262705339995, 'topK': 194, 'normalize_similarity': True}. Best is trial 233 with value: 0.133422436336818.\n"
     ]
    },
    {
     "name": "stdout",
     "output_type": "stream",
     "text": [
      "RP3betaRecommender: URM Detected 240 ( 1.9%) users with no interactions.\n",
      "RP3betaRecommender: URM Detected 123 ( 0.6%) items with no interactions.\n",
      "RP3betaRecommender: Similarity column 22222 (100.0%), 1075.72 column/sec. Elapsed time 20.66 sec\n",
      "EvaluatorHoldout: Processed 10511 (100.0%) in 11.81 sec. Users per second: 890\n"
     ]
    },
    {
     "name": "stderr",
     "output_type": "stream",
     "text": [
      "[I 2023-12-21 00:01:17,195] Trial 235 finished with value: 0.13261085459077768 and parameters: {'alpha': 0.14724038905772197, 'beta': 0.1420451542492391, 'topK': 188, 'normalize_similarity': True}. Best is trial 233 with value: 0.133422436336818.\n"
     ]
    },
    {
     "name": "stdout",
     "output_type": "stream",
     "text": [
      "RP3betaRecommender: URM Detected 240 ( 1.9%) users with no interactions.\n",
      "RP3betaRecommender: URM Detected 123 ( 0.6%) items with no interactions.\n",
      "RP3betaRecommender: Similarity column 22222 (100.0%), 1083.15 column/sec. Elapsed time 20.52 sec\n",
      "EvaluatorHoldout: Processed 10511 (100.0%) in 11.84 sec. Users per second: 888\n"
     ]
    },
    {
     "name": "stderr",
     "output_type": "stream",
     "text": [
      "[I 2023-12-21 00:01:57,859] Trial 236 finished with value: 0.12889904070747066 and parameters: {'alpha': 0.14793160546288567, 'beta': 0.2668269268752953, 'topK': 183, 'normalize_similarity': True}. Best is trial 233 with value: 0.133422436336818.\n"
     ]
    },
    {
     "name": "stdout",
     "output_type": "stream",
     "text": [
      "RP3betaRecommender: URM Detected 240 ( 1.9%) users with no interactions.\n",
      "RP3betaRecommender: URM Detected 123 ( 0.6%) items with no interactions.\n",
      "RP3betaRecommender: Similarity column 22222 (100.0%), 1110.04 column/sec. Elapsed time 20.02 sec\n",
      "EvaluatorHoldout: Processed 10511 (100.0%) in 10.26 sec. Users per second: 1024\n"
     ]
    },
    {
     "name": "stderr",
     "output_type": "stream",
     "text": [
      "[I 2023-12-21 00:02:34,873] Trial 237 finished with value: 0.13336213697557392 and parameters: {'alpha': 0.1381248725356224, 'beta': 0.13553482600870925, 'topK': 168, 'normalize_similarity': True}. Best is trial 233 with value: 0.133422436336818.\n"
     ]
    },
    {
     "name": "stdout",
     "output_type": "stream",
     "text": [
      "RP3betaRecommender: URM Detected 240 ( 1.9%) users with no interactions.\n",
      "RP3betaRecommender: URM Detected 123 ( 0.6%) items with no interactions.\n",
      "RP3betaRecommender: Similarity column 22222 (100.0%), 1143.46 column/sec. Elapsed time 19.43 sec\n",
      "EvaluatorHoldout: Processed 10511 (100.0%) in 10.28 sec. Users per second: 1023\n"
     ]
    },
    {
     "name": "stderr",
     "output_type": "stream",
     "text": [
      "[I 2023-12-21 00:03:10,956] Trial 238 finished with value: 0.13374141899503125 and parameters: {'alpha': 0.14799067664358861, 'beta': 0.15575782757853437, 'topK': 155, 'normalize_similarity': True}. Best is trial 238 with value: 0.13374141899503125.\n"
     ]
    },
    {
     "name": "stdout",
     "output_type": "stream",
     "text": [
      "RP3betaRecommender: URM Detected 240 ( 1.9%) users with no interactions.\n",
      "RP3betaRecommender: URM Detected 123 ( 0.6%) items with no interactions.\n",
      "RP3betaRecommender: Similarity column 22222 (100.0%), 1149.16 column/sec. Elapsed time 19.34 sec\n",
      "EvaluatorHoldout: Processed 10511 (100.0%) in 10.44 sec. Users per second: 1007\n"
     ]
    },
    {
     "name": "stderr",
     "output_type": "stream",
     "text": [
      "[I 2023-12-21 00:03:47,128] Trial 239 finished with value: 0.13398836717344284 and parameters: {'alpha': 0.15149145290093705, 'beta': 0.16034751892821122, 'topK': 153, 'normalize_similarity': True}. Best is trial 239 with value: 0.13398836717344284.\n"
     ]
    },
    {
     "name": "stdout",
     "output_type": "stream",
     "text": [
      "RP3betaRecommender: URM Detected 240 ( 1.9%) users with no interactions.\n",
      "RP3betaRecommender: URM Detected 123 ( 0.6%) items with no interactions.\n",
      "RP3betaRecommender: Similarity column 22222 (100.0%), 1110.37 column/sec. Elapsed time 20.01 sec\n",
      "EvaluatorHoldout: Processed 10511 (100.0%) in 10.81 sec. Users per second: 973\n"
     ]
    },
    {
     "name": "stderr",
     "output_type": "stream",
     "text": [
      "[I 2023-12-21 00:04:25,699] Trial 240 finished with value: 0.13010786464669769 and parameters: {'alpha': 0.14920593168140187, 'beta': 0.2635826864113131, 'topK': 171, 'normalize_similarity': True}. Best is trial 239 with value: 0.13398836717344284.\n"
     ]
    },
    {
     "name": "stdout",
     "output_type": "stream",
     "text": [
      "RP3betaRecommender: URM Detected 240 ( 1.9%) users with no interactions.\n",
      "RP3betaRecommender: URM Detected 123 ( 0.6%) items with no interactions.\n",
      "RP3betaRecommender: Similarity column 22222 (100.0%), 1177.76 column/sec. Elapsed time 18.87 sec\n",
      "EvaluatorHoldout: Processed 10511 (100.0%) in 10.24 sec. Users per second: 1026\n"
     ]
    },
    {
     "name": "stderr",
     "output_type": "stream",
     "text": [
      "[I 2023-12-21 00:05:00,792] Trial 241 finished with value: 0.13459329226572736 and parameters: {'alpha': 0.13627611448283536, 'beta': 0.15754974189962284, 'topK': 144, 'normalize_similarity': True}. Best is trial 241 with value: 0.13459329226572736.\n"
     ]
    },
    {
     "name": "stdout",
     "output_type": "stream",
     "text": [
      "RP3betaRecommender: URM Detected 240 ( 1.9%) users with no interactions.\n",
      "RP3betaRecommender: URM Detected 123 ( 0.6%) items with no interactions.\n",
      "RP3betaRecommender: Similarity column 22222 (100.0%), 1201.10 column/sec. Elapsed time 18.50 sec\n",
      "EvaluatorHoldout: Processed 10511 (100.0%) in 10.22 sec. Users per second: 1028\n"
     ]
    },
    {
     "name": "stderr",
     "output_type": "stream",
     "text": [
      "[I 2023-12-21 00:05:35,303] Trial 242 finished with value: 0.1352708817566903 and parameters: {'alpha': 0.19130845501619867, 'beta': 0.1602020573759243, 'topK': 137, 'normalize_similarity': True}. Best is trial 242 with value: 0.1352708817566903.\n"
     ]
    },
    {
     "name": "stdout",
     "output_type": "stream",
     "text": [
      "RP3betaRecommender: URM Detected 240 ( 1.9%) users with no interactions.\n",
      "RP3betaRecommender: URM Detected 123 ( 0.6%) items with no interactions.\n",
      "RP3betaRecommender: Similarity column 22222 (100.0%), 1089.88 column/sec. Elapsed time 20.39 sec\n",
      "EvaluatorHoldout: Processed 10511 (100.0%) in 10.63 sec. Users per second: 988\n"
     ]
    },
    {
     "name": "stderr",
     "output_type": "stream",
     "text": [
      "[I 2023-12-21 00:06:14,136] Trial 243 finished with value: 0.003755701527746046 and parameters: {'alpha': 0.21782395083273648, 'beta': 1.2181206064927588, 'topK': 177, 'normalize_similarity': True}. Best is trial 242 with value: 0.1352708817566903.\n"
     ]
    },
    {
     "name": "stdout",
     "output_type": "stream",
     "text": [
      "RP3betaRecommender: URM Detected 240 ( 1.9%) users with no interactions.\n",
      "RP3betaRecommender: URM Detected 123 ( 0.6%) items with no interactions.\n",
      "RP3betaRecommender: Similarity column 22222 (100.0%), 1177.35 column/sec. Elapsed time 18.87 sec\n",
      "EvaluatorHoldout: Processed 10511 (100.0%) in 10.28 sec. Users per second: 1022\n"
     ]
    },
    {
     "name": "stderr",
     "output_type": "stream",
     "text": [
      "[I 2023-12-21 00:06:49,454] Trial 244 finished with value: 0.13435233788125459 and parameters: {'alpha': 0.17856262626935357, 'beta': 0.1786111860849746, 'topK': 143, 'normalize_similarity': True}. Best is trial 242 with value: 0.1352708817566903.\n"
     ]
    },
    {
     "name": "stdout",
     "output_type": "stream",
     "text": [
      "RP3betaRecommender: URM Detected 240 ( 1.9%) users with no interactions.\n",
      "RP3betaRecommender: URM Detected 123 ( 0.6%) items with no interactions.\n",
      "RP3betaRecommender: Similarity column 22222 (100.0%), 1130.95 column/sec. Elapsed time 19.65 sec\n",
      "EvaluatorHoldout: Processed 10511 (100.0%) in 10.32 sec. Users per second: 1019\n"
     ]
    },
    {
     "name": "stderr",
     "output_type": "stream",
     "text": [
      "[I 2023-12-21 00:07:25,979] Trial 245 finished with value: 0.1336681589475471 and parameters: {'alpha': 0.1763198215122407, 'beta': 0.15779663345097109, 'topK': 160, 'normalize_similarity': True}. Best is trial 242 with value: 0.1352708817566903.\n"
     ]
    },
    {
     "name": "stdout",
     "output_type": "stream",
     "text": [
      "RP3betaRecommender: URM Detected 240 ( 1.9%) users with no interactions.\n",
      "RP3betaRecommender: URM Detected 123 ( 0.6%) items with no interactions.\n",
      "RP3betaRecommender: Similarity column 22222 (100.0%), 1125.59 column/sec. Elapsed time 19.74 sec\n",
      "EvaluatorHoldout: Processed 10511 (100.0%) in 10.75 sec. Users per second: 978\n"
     ]
    },
    {
     "name": "stderr",
     "output_type": "stream",
     "text": [
      "[I 2023-12-21 00:08:03,723] Trial 246 finished with value: 0.13123962385171056 and parameters: {'alpha': 0.18148324074529038, 'beta': 0.27476869370184065, 'topK': 155, 'normalize_similarity': True}. Best is trial 242 with value: 0.1352708817566903.\n"
     ]
    },
    {
     "name": "stdout",
     "output_type": "stream",
     "text": [
      "RP3betaRecommender: URM Detected 240 ( 1.9%) users with no interactions.\n",
      "RP3betaRecommender: URM Detected 123 ( 0.6%) items with no interactions.\n",
      "RP3betaRecommender: Similarity column 22222 (100.0%), 1211.60 column/sec. Elapsed time 18.34 sec\n",
      "EvaluatorHoldout: Processed 10511 (100.0%) in 10.27 sec. Users per second: 1024\n"
     ]
    },
    {
     "name": "stderr",
     "output_type": "stream",
     "text": [
      "[I 2023-12-21 00:08:37,915] Trial 247 finished with value: 0.135979790374581 and parameters: {'alpha': 0.22606710758903642, 'beta': 0.1646206361886078, 'topK': 133, 'normalize_similarity': True}. Best is trial 247 with value: 0.135979790374581.\n"
     ]
    },
    {
     "name": "stdout",
     "output_type": "stream",
     "text": [
      "RP3betaRecommender: URM Detected 240 ( 1.9%) users with no interactions.\n",
      "RP3betaRecommender: URM Detected 123 ( 0.6%) items with no interactions.\n",
      "RP3betaRecommender: Similarity column 22222 (100.0%), 1284.25 column/sec. Elapsed time 17.30 sec\n",
      "EvaluatorHoldout: Processed 10511 (100.0%) in 11.67 sec. Users per second: 901\n"
     ]
    },
    {
     "name": "stderr",
     "output_type": "stream",
     "text": [
      "[I 2023-12-21 00:09:11,778] Trial 248 finished with value: 0.0074653133997905005 and parameters: {'alpha': 0.2317481181109721, 'beta': 0.988585475781013, 'topK': 112, 'normalize_similarity': True}. Best is trial 247 with value: 0.135979790374581.\n"
     ]
    },
    {
     "name": "stdout",
     "output_type": "stream",
     "text": [
      "RP3betaRecommender: URM Detected 240 ( 1.9%) users with no interactions.\n",
      "RP3betaRecommender: URM Detected 123 ( 0.6%) items with no interactions.\n",
      "RP3betaRecommender: Similarity column 22222 (100.0%), 1213.16 column/sec. Elapsed time 18.32 sec\n",
      "EvaluatorHoldout: Processed 10511 (100.0%) in 10.27 sec. Users per second: 1023\n"
     ]
    },
    {
     "name": "stderr",
     "output_type": "stream",
     "text": [
      "[I 2023-12-21 00:09:46,056] Trial 249 finished with value: 0.1355525437305828 and parameters: {'alpha': 0.1489489127205484, 'beta': 0.1689009578838813, 'topK': 130, 'normalize_similarity': True}. Best is trial 247 with value: 0.135979790374581.\n"
     ]
    },
    {
     "name": "stdout",
     "output_type": "stream",
     "text": [
      "RP3betaRecommender: URM Detected 240 ( 1.9%) users with no interactions.\n",
      "RP3betaRecommender: URM Detected 123 ( 0.6%) items with no interactions.\n",
      "RP3betaRecommender: Similarity column 22222 (100.0%), 1171.61 column/sec. Elapsed time 18.97 sec\n",
      "EvaluatorHoldout: Processed 10511 (100.0%) in 10.38 sec. Users per second: 1013\n"
     ]
    },
    {
     "name": "stderr",
     "output_type": "stream",
     "text": [
      "[I 2023-12-21 00:10:21,824] Trial 250 finished with value: 0.13395972640726422 and parameters: {'alpha': 0.15104225011465489, 'beta': 0.18304168884491082, 'topK': 145, 'normalize_similarity': True}. Best is trial 247 with value: 0.135979790374581.\n"
     ]
    },
    {
     "name": "stdout",
     "output_type": "stream",
     "text": [
      "RP3betaRecommender: URM Detected 240 ( 1.9%) users with no interactions.\n",
      "RP3betaRecommender: URM Detected 123 ( 0.6%) items with no interactions.\n",
      "RP3betaRecommender: Similarity column 22222 (100.0%), 1181.50 column/sec. Elapsed time 18.81 sec\n",
      "EvaluatorHoldout: Processed 10511 (100.0%) in 10.81 sec. Users per second: 972\n"
     ]
    },
    {
     "name": "stderr",
     "output_type": "stream",
     "text": [
      "[I 2023-12-21 00:10:57,976] Trial 251 finished with value: 0.1323585648999664 and parameters: {'alpha': 0.14893023929394011, 'beta': 0.26664687958865013, 'topK': 138, 'normalize_similarity': True}. Best is trial 247 with value: 0.135979790374581.\n"
     ]
    },
    {
     "name": "stdout",
     "output_type": "stream",
     "text": [
      "RP3betaRecommender: URM Detected 240 ( 1.9%) users with no interactions.\n",
      "RP3betaRecommender: URM Detected 123 ( 0.6%) items with no interactions.\n",
      "RP3betaRecommender: Similarity column 22222 (100.0%), 1183.99 column/sec. Elapsed time 18.77 sec\n",
      "EvaluatorHoldout: Processed 10511 (100.0%) in 10.93 sec. Users per second: 961\n"
     ]
    },
    {
     "name": "stderr",
     "output_type": "stream",
     "text": [
      "[I 2023-12-21 00:11:34,614] Trial 252 finished with value: 0.13061905927552497 and parameters: {'alpha': 0.24552071085160063, 'beta': 0.32709185253520967, 'topK': 136, 'normalize_similarity': True}. Best is trial 247 with value: 0.135979790374581.\n"
     ]
    },
    {
     "name": "stdout",
     "output_type": "stream",
     "text": [
      "RP3betaRecommender: URM Detected 240 ( 1.9%) users with no interactions.\n",
      "RP3betaRecommender: URM Detected 123 ( 0.6%) items with no interactions.\n",
      "RP3betaRecommender: Similarity column 22222 (100.0%), 1158.82 column/sec. Elapsed time 19.18 sec\n",
      "EvaluatorHoldout: Processed 10511 (100.0%) in 10.55 sec. Users per second: 997\n"
     ]
    },
    {
     "name": "stderr",
     "output_type": "stream",
     "text": [
      "[I 2023-12-21 00:12:10,727] Trial 253 finished with value: 0.13302802944672407 and parameters: {'alpha': 0.15909365927523317, 'beta': 0.21270852970584506, 'topK': 141, 'normalize_similarity': True}. Best is trial 247 with value: 0.135979790374581.\n"
     ]
    },
    {
     "name": "stdout",
     "output_type": "stream",
     "text": [
      "RP3betaRecommender: URM Detected 240 ( 1.9%) users with no interactions.\n",
      "RP3betaRecommender: URM Detected 123 ( 0.6%) items with no interactions.\n",
      "RP3betaRecommender: Similarity column 22222 (100.0%), 1172.98 column/sec. Elapsed time 18.94 sec\n",
      "EvaluatorHoldout: Processed 10511 (100.0%) in 10.66 sec. Users per second: 986\n"
     ]
    },
    {
     "name": "stderr",
     "output_type": "stream",
     "text": [
      "[I 2023-12-21 00:12:46,719] Trial 254 finished with value: 0.13320351115279053 and parameters: {'alpha': 0.17140469085036913, 'beta': 0.23262386552686998, 'topK': 137, 'normalize_similarity': True}. Best is trial 247 with value: 0.135979790374581.\n"
     ]
    },
    {
     "name": "stdout",
     "output_type": "stream",
     "text": [
      "RP3betaRecommender: URM Detected 240 ( 1.9%) users with no interactions.\n",
      "RP3betaRecommender: URM Detected 123 ( 0.6%) items with no interactions.\n",
      "RP3betaRecommender: Similarity column 22222 (100.0%), 1311.92 column/sec. Elapsed time 16.94 sec\n",
      "EvaluatorHoldout: Processed 10511 (100.0%) in 11.75 sec. Users per second: 895\n"
     ]
    },
    {
     "name": "stderr",
     "output_type": "stream",
     "text": [
      "[I 2023-12-21 00:13:20,536] Trial 255 finished with value: 0.13184100701386472 and parameters: {'alpha': 0.19813709716313818, 'beta': 0.3492165328690909, 'topK': 98, 'normalize_similarity': True}. Best is trial 247 with value: 0.135979790374581.\n"
     ]
    },
    {
     "name": "stdout",
     "output_type": "stream",
     "text": [
      "RP3betaRecommender: URM Detected 240 ( 1.9%) users with no interactions.\n",
      "RP3betaRecommender: URM Detected 123 ( 0.6%) items with no interactions.\n",
      "RP3betaRecommender: Similarity column 22222 (100.0%), 1166.16 column/sec. Elapsed time 19.06 sec\n",
      "EvaluatorHoldout: Processed 10511 (100.0%) in 11.16 sec. Users per second: 942\n"
     ]
    },
    {
     "name": "stderr",
     "output_type": "stream",
     "text": [
      "[I 2023-12-21 00:13:57,491] Trial 256 finished with value: 0.13325992741010345 and parameters: {'alpha': 0.25717897287631986, 'beta': 0.25052297434807824, 'topK': 141, 'normalize_similarity': True}. Best is trial 247 with value: 0.135979790374581.\n"
     ]
    },
    {
     "name": "stdout",
     "output_type": "stream",
     "text": [
      "RP3betaRecommender: URM Detected 240 ( 1.9%) users with no interactions.\n",
      "RP3betaRecommender: URM Detected 123 ( 0.6%) items with no interactions.\n",
      "RP3betaRecommender: Similarity column 22222 (100.0%), 1176.87 column/sec. Elapsed time 18.88 sec\n",
      "EvaluatorHoldout: Processed 10511 (100.0%) in 10.77 sec. Users per second: 976\n"
     ]
    },
    {
     "name": "stderr",
     "output_type": "stream",
     "text": [
      "[I 2023-12-21 00:14:34,224] Trial 257 finished with value: 0.13303998048950386 and parameters: {'alpha': 0.23700758124038016, 'beta': 0.2508670631444553, 'topK': 142, 'normalize_similarity': True}. Best is trial 247 with value: 0.135979790374581.\n"
     ]
    },
    {
     "name": "stdout",
     "output_type": "stream",
     "text": [
      "RP3betaRecommender: URM Detected 240 ( 1.9%) users with no interactions.\n",
      "RP3betaRecommender: URM Detected 123 ( 0.6%) items with no interactions.\n",
      "RP3betaRecommender: Similarity column 22222 (100.0%), 1166.70 column/sec. Elapsed time 19.05 sec\n",
      "EvaluatorHoldout: Processed 10511 (100.0%) in 10.60 sec. Users per second: 991\n"
     ]
    },
    {
     "name": "stderr",
     "output_type": "stream",
     "text": [
      "[I 2023-12-21 00:15:10,554] Trial 258 finished with value: 0.13353750849329457 and parameters: {'alpha': 0.27014999926776845, 'beta': 0.22057668898500318, 'topK': 146, 'normalize_similarity': True}. Best is trial 247 with value: 0.135979790374581.\n"
     ]
    },
    {
     "name": "stdout",
     "output_type": "stream",
     "text": [
      "RP3betaRecommender: URM Detected 240 ( 1.9%) users with no interactions.\n",
      "RP3betaRecommender: URM Detected 123 ( 0.6%) items with no interactions.\n",
      "RP3betaRecommender: Similarity column 22222 (100.0%), 1190.54 column/sec. Elapsed time 18.67 sec\n",
      "EvaluatorHoldout: Processed 10511 (100.0%) in 11.06 sec. Users per second: 950\n"
     ]
    },
    {
     "name": "stderr",
     "output_type": "stream",
     "text": [
      "[I 2023-12-21 00:15:47,216] Trial 259 finished with value: 0.12861007114713738 and parameters: {'alpha': 0.2852195592957051, 'beta': 0.3770944637403515, 'topK': 136, 'normalize_similarity': True}. Best is trial 247 with value: 0.135979790374581.\n"
     ]
    },
    {
     "name": "stdout",
     "output_type": "stream",
     "text": [
      "RP3betaRecommender: URM Detected 240 ( 1.9%) users with no interactions.\n",
      "RP3betaRecommender: URM Detected 123 ( 0.6%) items with no interactions.\n",
      "RP3betaRecommender: Similarity column 22222 (100.0%), 1328.17 column/sec. Elapsed time 16.73 sec\n",
      "EvaluatorHoldout: Processed 10511 (100.0%) in 11.26 sec. Users per second: 933\n"
     ]
    },
    {
     "name": "stderr",
     "output_type": "stream",
     "text": [
      "[I 2023-12-21 00:16:19,804] Trial 260 finished with value: 0.13736522038191185 and parameters: {'alpha': 0.25145726106026856, 'beta': 0.2303714594720801, 'topK': 93, 'normalize_similarity': True}. Best is trial 260 with value: 0.13736522038191185.\n"
     ]
    },
    {
     "name": "stdout",
     "output_type": "stream",
     "text": [
      "RP3betaRecommender: URM Detected 240 ( 1.9%) users with no interactions.\n",
      "RP3betaRecommender: URM Detected 123 ( 0.6%) items with no interactions.\n",
      "RP3betaRecommender: Similarity column 22222 (100.0%), 1334.06 column/sec. Elapsed time 16.66 sec\n",
      "EvaluatorHoldout: Processed 10511 (100.0%) in 11.38 sec. Users per second: 923\n"
     ]
    },
    {
     "name": "stderr",
     "output_type": "stream",
     "text": [
      "[I 2023-12-21 00:16:52,481] Trial 261 finished with value: 0.1358138601898657 and parameters: {'alpha': 0.25758538307857193, 'beta': 0.27177043555170893, 'topK': 87, 'normalize_similarity': True}. Best is trial 260 with value: 0.13736522038191185.\n"
     ]
    },
    {
     "name": "stdout",
     "output_type": "stream",
     "text": [
      "RP3betaRecommender: URM Detected 240 ( 1.9%) users with no interactions.\n",
      "RP3betaRecommender: URM Detected 123 ( 0.6%) items with no interactions.\n",
      "RP3betaRecommender: Similarity column 22222 (100.0%), 1369.50 column/sec. Elapsed time 16.23 sec\n",
      "EvaluatorHoldout: Processed 10511 (100.0%) in 11.62 sec. Users per second: 904\n"
     ]
    },
    {
     "name": "stderr",
     "output_type": "stream",
     "text": [
      "[I 2023-12-21 00:17:24,775] Trial 262 finished with value: 0.12736101488746754 and parameters: {'alpha': 0.25737403461024355, 'beta': 0.4381890598752963, 'topK': 85, 'normalize_similarity': True}. Best is trial 260 with value: 0.13736522038191185.\n"
     ]
    },
    {
     "name": "stdout",
     "output_type": "stream",
     "text": [
      "RP3betaRecommender: URM Detected 240 ( 1.9%) users with no interactions.\n",
      "RP3betaRecommender: URM Detected 123 ( 0.6%) items with no interactions.\n",
      "RP3betaRecommender: Similarity column 22222 (100.0%), 1334.13 column/sec. Elapsed time 16.66 sec\n",
      "EvaluatorHoldout: Processed 10511 (100.0%) in 11.37 sec. Users per second: 924\n"
     ]
    },
    {
     "name": "stderr",
     "output_type": "stream",
     "text": [
      "[I 2023-12-21 00:17:57,653] Trial 263 finished with value: 0.1350788115838024 and parameters: {'alpha': 0.26161524788843193, 'beta': 0.29095902906978277, 'topK': 93, 'normalize_similarity': True}. Best is trial 260 with value: 0.13736522038191185.\n"
     ]
    },
    {
     "name": "stdout",
     "output_type": "stream",
     "text": [
      "RP3betaRecommender: URM Detected 240 ( 1.9%) users with no interactions.\n",
      "RP3betaRecommender: URM Detected 123 ( 0.6%) items with no interactions.\n",
      "RP3betaRecommender: Similarity column 22222 (100.0%), 1347.18 column/sec. Elapsed time 16.50 sec\n",
      "EvaluatorHoldout: Processed 10511 (100.0%) in 11.40 sec. Users per second: 922\n"
     ]
    },
    {
     "name": "stderr",
     "output_type": "stream",
     "text": [
      "[I 2023-12-21 00:18:30,094] Trial 264 finished with value: 0.13534462053531277 and parameters: {'alpha': 0.273898170636919, 'beta': 0.30891177893609434, 'topK': 85, 'normalize_similarity': True}. Best is trial 260 with value: 0.13736522038191185.\n"
     ]
    },
    {
     "name": "stdout",
     "output_type": "stream",
     "text": [
      "RP3betaRecommender: URM Detected 240 ( 1.9%) users with no interactions.\n",
      "RP3betaRecommender: URM Detected 123 ( 0.6%) items with no interactions.\n",
      "RP3betaRecommender: Similarity column 22222 (100.0%), 1415.62 column/sec. Elapsed time 15.70 sec\n",
      "EvaluatorHoldout: Processed 10511 (100.0%) in 11.29 sec. Users per second: 931\n"
     ]
    },
    {
     "name": "stderr",
     "output_type": "stream",
     "text": [
      "[I 2023-12-21 00:19:01,174] Trial 265 finished with value: 0.13507471335936277 and parameters: {'alpha': 0.2877297451042882, 'beta': 0.3015582851590799, 'topK': 75, 'normalize_similarity': True}. Best is trial 260 with value: 0.13736522038191185.\n"
     ]
    },
    {
     "name": "stdout",
     "output_type": "stream",
     "text": [
      "RP3betaRecommender: URM Detected 240 ( 1.9%) users with no interactions.\n",
      "RP3betaRecommender: URM Detected 123 ( 0.6%) items with no interactions.\n",
      "RP3betaRecommender: Similarity column 22222 (100.0%), 1325.47 column/sec. Elapsed time 16.77 sec\n",
      "EvaluatorHoldout: Processed 10511 (100.0%) in 11.58 sec. Users per second: 908\n"
     ]
    },
    {
     "name": "stderr",
     "output_type": "stream",
     "text": [
      "[I 2023-12-21 00:19:34,628] Trial 266 finished with value: 0.13325954544906957 and parameters: {'alpha': 0.2622372826004686, 'beta': 0.32939811107462075, 'topK': 97, 'normalize_similarity': True}. Best is trial 260 with value: 0.13736522038191185.\n"
     ]
    },
    {
     "name": "stdout",
     "output_type": "stream",
     "text": [
      "RP3betaRecommender: URM Detected 240 ( 1.9%) users with no interactions.\n",
      "RP3betaRecommender: URM Detected 123 ( 0.6%) items with no interactions.\n",
      "RP3betaRecommender: Similarity column 22222 (100.0%), 1432.70 column/sec. Elapsed time 15.51 sec\n",
      "EvaluatorHoldout: Processed 10511 (100.0%) in 11.52 sec. Users per second: 913\n"
     ]
    },
    {
     "name": "stderr",
     "output_type": "stream",
     "text": [
      "[I 2023-12-21 00:20:05,359] Trial 267 finished with value: 0.12729940791652472 and parameters: {'alpha': 0.27114720893236455, 'beta': 0.45304013419241274, 'topK': 70, 'normalize_similarity': True}. Best is trial 260 with value: 0.13736522038191185.\n"
     ]
    },
    {
     "name": "stdout",
     "output_type": "stream",
     "text": [
      "RP3betaRecommender: URM Detected 240 ( 1.9%) users with no interactions.\n",
      "RP3betaRecommender: URM Detected 123 ( 0.6%) items with no interactions.\n",
      "RP3betaRecommender: Similarity column 22222 (100.0%), 1338.30 column/sec. Elapsed time 16.60 sec\n",
      "EvaluatorHoldout: Processed 10511 (100.0%) in 11.64 sec. Users per second: 903\n"
     ]
    },
    {
     "name": "stderr",
     "output_type": "stream",
     "text": [
      "[I 2023-12-21 00:20:38,562] Trial 268 finished with value: 0.13224534315398237 and parameters: {'alpha': 0.2671551668743659, 'beta': 0.35221974694536246, 'topK': 93, 'normalize_similarity': True}. Best is trial 260 with value: 0.13736522038191185.\n"
     ]
    },
    {
     "name": "stdout",
     "output_type": "stream",
     "text": [
      "RP3betaRecommender: URM Detected 240 ( 1.9%) users with no interactions.\n",
      "RP3betaRecommender: URM Detected 123 ( 0.6%) items with no interactions.\n",
      "RP3betaRecommender: Similarity column 22222 (100.0%), 1290.14 column/sec. Elapsed time 17.22 sec\n",
      "EvaluatorHoldout: Processed 10511 (100.0%) in 11.62 sec. Users per second: 904\n"
     ]
    },
    {
     "name": "stderr",
     "output_type": "stream",
     "text": [
      "[I 2023-12-21 00:21:12,884] Trial 269 finished with value: 0.13346464233082964 and parameters: {'alpha': 0.25075353965955316, 'beta': 0.29525699980381176, 'topK': 108, 'normalize_similarity': True}. Best is trial 260 with value: 0.13736522038191185.\n"
     ]
    },
    {
     "name": "stdout",
     "output_type": "stream",
     "text": [
      "RP3betaRecommender: URM Detected 240 ( 1.9%) users with no interactions.\n",
      "RP3betaRecommender: URM Detected 123 ( 0.6%) items with no interactions.\n",
      "RP3betaRecommender: Similarity column 22222 (100.0%), 1304.07 column/sec. Elapsed time 17.04 sec\n",
      "EvaluatorHoldout: Processed 10511 (100.0%) in 11.89 sec. Users per second: 884\n"
     ]
    },
    {
     "name": "stderr",
     "output_type": "stream",
     "text": [
      "[I 2023-12-21 00:21:46,996] Trial 270 finished with value: 0.11909911436416257 and parameters: {'alpha': 0.2956285983012326, 'beta': 0.5310811859194928, 'topK': 103, 'normalize_similarity': True}. Best is trial 260 with value: 0.13736522038191185.\n"
     ]
    },
    {
     "name": "stdout",
     "output_type": "stream",
     "text": [
      "RP3betaRecommender: URM Detected 240 ( 1.9%) users with no interactions.\n",
      "RP3betaRecommender: URM Detected 123 ( 0.6%) items with no interactions.\n",
      "RP3betaRecommender: Similarity column 22222 (100.0%), 1457.61 column/sec. Elapsed time 15.25 sec\n",
      "EvaluatorHoldout: Processed 10511 (100.0%) in 11.36 sec. Users per second: 926\n"
     ]
    },
    {
     "name": "stderr",
     "output_type": "stream",
     "text": [
      "[I 2023-12-21 00:22:17,328] Trial 271 finished with value: 0.1347549614854751 and parameters: {'alpha': 0.2932408120156732, 'beta': 0.3189645462779108, 'topK': 68, 'normalize_similarity': True}. Best is trial 260 with value: 0.13736522038191185.\n"
     ]
    },
    {
     "name": "stdout",
     "output_type": "stream",
     "text": [
      "RP3betaRecommender: URM Detected 240 ( 1.9%) users with no interactions.\n",
      "RP3betaRecommender: URM Detected 123 ( 0.6%) items with no interactions.\n",
      "RP3betaRecommender: Similarity column 22222 (100.0%), 1439.58 column/sec. Elapsed time 15.44 sec\n",
      "EvaluatorHoldout: Processed 10511 (100.0%) in 11.40 sec. Users per second: 922\n"
     ]
    },
    {
     "name": "stderr",
     "output_type": "stream",
     "text": [
      "[I 2023-12-21 00:22:48,090] Trial 272 finished with value: 0.13509928427418183 and parameters: {'alpha': 0.2936670690382202, 'beta': 0.31282239466866435, 'topK': 71, 'normalize_similarity': True}. Best is trial 260 with value: 0.13736522038191185.\n"
     ]
    },
    {
     "name": "stdout",
     "output_type": "stream",
     "text": [
      "RP3betaRecommender: URM Detected 240 ( 1.9%) users with no interactions.\n",
      "RP3betaRecommender: URM Detected 123 ( 0.6%) items with no interactions.\n",
      "RP3betaRecommender: Similarity column 22222 (100.0%), 1444.77 column/sec. Elapsed time 15.38 sec\n",
      "EvaluatorHoldout: Processed 10511 (100.0%) in 11.32 sec. Users per second: 928\n"
     ]
    },
    {
     "name": "stderr",
     "output_type": "stream",
     "text": [
      "[I 2023-12-21 00:23:18,488] Trial 273 finished with value: 0.13247116277970847 and parameters: {'alpha': 0.27885184029124066, 'beta': 0.3644506421730025, 'topK': 66, 'normalize_similarity': True}. Best is trial 260 with value: 0.13736522038191185.\n"
     ]
    },
    {
     "name": "stdout",
     "output_type": "stream",
     "text": [
      "RP3betaRecommender: URM Detected 240 ( 1.9%) users with no interactions.\n",
      "RP3betaRecommender: URM Detected 123 ( 0.6%) items with no interactions.\n",
      "RP3betaRecommender: Similarity column 22222 (100.0%), 1419.96 column/sec. Elapsed time 15.65 sec\n",
      "EvaluatorHoldout: Processed 10511 (100.0%) in 11.34 sec. Users per second: 927\n"
     ]
    },
    {
     "name": "stderr",
     "output_type": "stream",
     "text": [
      "[I 2023-12-21 00:23:49,445] Trial 274 finished with value: 0.13485686437857997 and parameters: {'alpha': 0.2700334303151413, 'beta': 0.31541564617369433, 'topK': 73, 'normalize_similarity': True}. Best is trial 260 with value: 0.13736522038191185.\n"
     ]
    },
    {
     "name": "stdout",
     "output_type": "stream",
     "text": [
      "RP3betaRecommender: URM Detected 240 ( 1.9%) users with no interactions.\n",
      "RP3betaRecommender: URM Detected 123 ( 0.6%) items with no interactions.\n",
      "RP3betaRecommender: Similarity column 22222 (100.0%), 1505.93 column/sec. Elapsed time 14.76 sec\n",
      "EvaluatorHoldout: Processed 10511 (100.0%) in 11.48 sec. Users per second: 916\n"
     ]
    },
    {
     "name": "stderr",
     "output_type": "stream",
     "text": [
      "[I 2023-12-21 00:24:18,689] Trial 275 finished with value: 0.13267378907128918 and parameters: {'alpha': 0.2926196653101737, 'beta': 0.4057149498783654, 'topK': 55, 'normalize_similarity': True}. Best is trial 260 with value: 0.13736522038191185.\n"
     ]
    },
    {
     "name": "stdout",
     "output_type": "stream",
     "text": [
      "RP3betaRecommender: URM Detected 240 ( 1.9%) users with no interactions.\n",
      "RP3betaRecommender: URM Detected 123 ( 0.6%) items with no interactions.\n",
      "RP3betaRecommender: Similarity column 22222 (100.0%), 1358.72 column/sec. Elapsed time 16.36 sec\n",
      "EvaluatorHoldout: Processed 10511 (100.0%) in 11.44 sec. Users per second: 919\n"
     ]
    },
    {
     "name": "stderr",
     "output_type": "stream",
     "text": [
      "[I 2023-12-21 00:24:51,348] Trial 276 finished with value: 0.13339628203688292 and parameters: {'alpha': 0.35107034958654504, 'beta': 0.318124488143742, 'topK': 91, 'normalize_similarity': True}. Best is trial 260 with value: 0.13736522038191185.\n"
     ]
    },
    {
     "name": "stdout",
     "output_type": "stream",
     "text": [
      "RP3betaRecommender: URM Detected 240 ( 1.9%) users with no interactions.\n",
      "RP3betaRecommender: URM Detected 123 ( 0.6%) items with no interactions.\n",
      "RP3betaRecommender: Similarity column 22222 (100.0%), 1405.57 column/sec. Elapsed time 15.81 sec\n",
      "EvaluatorHoldout: Processed 10511 (100.0%) in 11.58 sec. Users per second: 908\n"
     ]
    },
    {
     "name": "stderr",
     "output_type": "stream",
     "text": [
      "[I 2023-12-21 00:25:22,741] Trial 277 finished with value: 0.11915397164769394 and parameters: {'alpha': 0.3550131600933371, 'beta': 0.5297910505301875, 'topK': 77, 'normalize_similarity': True}. Best is trial 260 with value: 0.13736522038191185.\n"
     ]
    },
    {
     "name": "stdout",
     "output_type": "stream",
     "text": [
      "RP3betaRecommender: URM Detected 240 ( 1.9%) users with no interactions.\n",
      "RP3betaRecommender: URM Detected 123 ( 0.6%) items with no interactions.\n",
      "RP3betaRecommender: Similarity column 22222 (100.0%), 1266.55 column/sec. Elapsed time 17.55 sec\n",
      "EvaluatorHoldout: Processed 10511 (100.0%) in 11.72 sec. Users per second: 897\n"
     ]
    },
    {
     "name": "stderr",
     "output_type": "stream",
     "text": [
      "[I 2023-12-21 00:25:57,862] Trial 278 finished with value: 0.1334781201110738 and parameters: {'alpha': 0.2995511267707605, 'beta': 0.3214436783091827, 'topK': 113, 'normalize_similarity': True}. Best is trial 260 with value: 0.13736522038191185.\n"
     ]
    },
    {
     "name": "stdout",
     "output_type": "stream",
     "text": [
      "RP3betaRecommender: URM Detected 240 ( 1.9%) users with no interactions.\n",
      "RP3betaRecommender: URM Detected 123 ( 0.6%) items with no interactions.\n",
      "RP3betaRecommender: Similarity column 22222 (100.0%), 1320.05 column/sec. Elapsed time 16.83 sec\n",
      "EvaluatorHoldout: Processed 10511 (100.0%) in 12.22 sec. Users per second: 860\n"
     ]
    },
    {
     "name": "stderr",
     "output_type": "stream",
     "text": [
      "[I 2023-12-21 00:26:32,132] Trial 279 finished with value: 0.12677976820603282 and parameters: {'alpha': 0.30780788046357155, 'beta': 0.45460839349703924, 'topK': 99, 'normalize_similarity': True}. Best is trial 260 with value: 0.13736522038191185.\n"
     ]
    },
    {
     "name": "stdout",
     "output_type": "stream",
     "text": [
      "RP3betaRecommender: URM Detected 240 ( 1.9%) users with no interactions.\n",
      "RP3betaRecommender: URM Detected 123 ( 0.6%) items with no interactions.\n",
      "RP3betaRecommender: Similarity column 22222 (100.0%), 1516.90 column/sec. Elapsed time 14.65 sec\n",
      "EvaluatorHoldout: Processed 10511 (100.0%) in 11.26 sec. Users per second: 934\n"
     ]
    },
    {
     "name": "stderr",
     "output_type": "stream",
     "text": [
      "[I 2023-12-21 00:27:01,141] Trial 280 finished with value: 0.13541302814744735 and parameters: {'alpha': 0.4022721758907537, 'beta': 0.3115640388595205, 'topK': 54, 'normalize_similarity': True}. Best is trial 260 with value: 0.13736522038191185.\n"
     ]
    },
    {
     "name": "stdout",
     "output_type": "stream",
     "text": [
      "RP3betaRecommender: URM Detected 240 ( 1.9%) users with no interactions.\n",
      "RP3betaRecommender: URM Detected 123 ( 0.6%) items with no interactions.\n",
      "RP3betaRecommender: Similarity column 22222 (100.0%), 1575.96 column/sec. Elapsed time 14.10 sec\n",
      "EvaluatorHoldout: Processed 10511 (100.0%) in 11.24 sec. Users per second: 935\n"
     ]
    },
    {
     "name": "stderr",
     "output_type": "stream",
     "text": [
      "[I 2023-12-21 00:27:28,900] Trial 281 finished with value: 0.10241487866862649 and parameters: {'alpha': 0.4113331597798088, 'beta': 0.6155081741431006, 'topK': 47, 'normalize_similarity': True}. Best is trial 260 with value: 0.13736522038191185.\n"
     ]
    },
    {
     "name": "stdout",
     "output_type": "stream",
     "text": [
      "RP3betaRecommender: URM Detected 240 ( 1.9%) users with no interactions.\n",
      "RP3betaRecommender: URM Detected 123 ( 0.6%) items with no interactions.\n",
      "RP3betaRecommender: Similarity column 22222 (100.0%), 1488.22 column/sec. Elapsed time 14.93 sec\n",
      "EvaluatorHoldout: Processed 10511 (100.0%) in 11.29 sec. Users per second: 931\n"
     ]
    },
    {
     "name": "stderr",
     "output_type": "stream",
     "text": [
      "[I 2023-12-21 00:27:58,313] Trial 282 finished with value: 0.13400820234364297 and parameters: {'alpha': 0.3690388037429151, 'beta': 0.3215901501329509, 'topK': 57, 'normalize_similarity': True}. Best is trial 260 with value: 0.13736522038191185.\n"
     ]
    },
    {
     "name": "stdout",
     "output_type": "stream",
     "text": [
      "RP3betaRecommender: URM Detected 240 ( 1.9%) users with no interactions.\n",
      "RP3betaRecommender: URM Detected 123 ( 0.6%) items with no interactions.\n",
      "RP3betaRecommender: Similarity column 22222 (100.0%), 1512.74 column/sec. Elapsed time 14.69 sec\n",
      "EvaluatorHoldout: Processed 10511 (100.0%) in 11.41 sec. Users per second: 921\n"
     ]
    },
    {
     "name": "stderr",
     "output_type": "stream",
     "text": [
      "[I 2023-12-21 00:28:27,410] Trial 283 finished with value: 0.125297433380782 and parameters: {'alpha': 0.39439797645708946, 'beta': 0.4835792938540948, 'topK': 55, 'normalize_similarity': True}. Best is trial 260 with value: 0.13736522038191185.\n"
     ]
    },
    {
     "name": "stdout",
     "output_type": "stream",
     "text": [
      "RP3betaRecommender: URM Detected 240 ( 1.9%) users with no interactions.\n",
      "RP3betaRecommender: URM Detected 123 ( 0.6%) items with no interactions.\n",
      "RP3betaRecommender: Similarity column 22222 (100.0%), 1375.41 column/sec. Elapsed time 16.16 sec\n",
      "EvaluatorHoldout: Processed 10511 (100.0%) in 11.43 sec. Users per second: 920\n"
     ]
    },
    {
     "name": "stderr",
     "output_type": "stream",
     "text": [
      "[I 2023-12-21 00:28:59,306] Trial 284 finished with value: 0.13346941271394624 and parameters: {'alpha': 0.3397422049224572, 'beta': 0.33705699679014633, 'topK': 78, 'normalize_similarity': True}. Best is trial 260 with value: 0.13736522038191185.\n"
     ]
    },
    {
     "name": "stdout",
     "output_type": "stream",
     "text": [
      "RP3betaRecommender: URM Detected 240 ( 1.9%) users with no interactions.\n",
      "RP3betaRecommender: URM Detected 123 ( 0.6%) items with no interactions.\n",
      "RP3betaRecommender: Similarity column 22222 (100.0%), 1558.24 column/sec. Elapsed time 14.26 sec\n",
      "EvaluatorHoldout: Processed 10511 (100.0%) in 11.23 sec. Users per second: 936\n"
     ]
    },
    {
     "name": "stderr",
     "output_type": "stream",
     "text": [
      "[I 2023-12-21 00:29:27,442] Trial 285 finished with value: 0.13419587075196612 and parameters: {'alpha': 0.35565469821934736, 'beta': 0.3638765684793457, 'topK': 47, 'normalize_similarity': True}. Best is trial 260 with value: 0.13736522038191185.\n"
     ]
    },
    {
     "name": "stdout",
     "output_type": "stream",
     "text": [
      "RP3betaRecommender: URM Detected 240 ( 1.9%) users with no interactions.\n",
      "RP3betaRecommender: URM Detected 123 ( 0.6%) items with no interactions.\n",
      "RP3betaRecommender: Similarity column 22222 (100.0%), 1536.12 column/sec. Elapsed time 14.47 sec\n",
      "EvaluatorHoldout: Processed 10511 (100.0%) in 11.31 sec. Users per second: 929\n"
     ]
    },
    {
     "name": "stderr",
     "output_type": "stream",
     "text": [
      "[I 2023-12-21 00:29:56,034] Trial 286 finished with value: 0.1299054648535012 and parameters: {'alpha': 0.4306168133766506, 'beta': 0.43233547748998336, 'topK': 48, 'normalize_similarity': True}. Best is trial 260 with value: 0.13736522038191185.\n"
     ]
    },
    {
     "name": "stdout",
     "output_type": "stream",
     "text": [
      "RP3betaRecommender: URM Detected 240 ( 1.9%) users with no interactions.\n",
      "RP3betaRecommender: URM Detected 123 ( 0.6%) items with no interactions.\n",
      "RP3betaRecommender: Similarity column 22222 (100.0%), 1491.76 column/sec. Elapsed time 14.90 sec\n",
      "EvaluatorHoldout: Processed 10511 (100.0%) in 11.34 sec. Users per second: 927\n"
     ]
    },
    {
     "name": "stderr",
     "output_type": "stream",
     "text": [
      "[I 2023-12-21 00:30:25,220] Trial 287 finished with value: 0.05387250110917752 and parameters: {'alpha': 0.3203692801911148, 'beta': 0.7524023043648235, 'topK': 61, 'normalize_similarity': True}. Best is trial 260 with value: 0.13736522038191185.\n"
     ]
    },
    {
     "name": "stdout",
     "output_type": "stream",
     "text": [
      "RP3betaRecommender: URM Detected 240 ( 1.9%) users with no interactions.\n",
      "RP3betaRecommender: URM Detected 123 ( 0.6%) items with no interactions.\n",
      "RP3betaRecommender: Similarity column 22222 (100.0%), 1264.99 column/sec. Elapsed time 17.57 sec\n",
      "EvaluatorHoldout: Processed 10511 (100.0%) in 11.87 sec. Users per second: 885\n"
     ]
    },
    {
     "name": "stderr",
     "output_type": "stream",
     "text": [
      "[I 2023-12-21 00:31:01,007] Trial 288 finished with value: 0.13039498102307012 and parameters: {'alpha': 0.22801399131742828, 'beta': 0.35854273265624614, 'topK': 115, 'normalize_similarity': True}. Best is trial 260 with value: 0.13736522038191185.\n"
     ]
    },
    {
     "name": "stdout",
     "output_type": "stream",
     "text": [
      "RP3betaRecommender: URM Detected 240 ( 1.9%) users with no interactions.\n",
      "RP3betaRecommender: URM Detected 123 ( 0.6%) items with no interactions.\n",
      "RP3betaRecommender: Similarity column 22222 (100.0%), 1508.51 column/sec. Elapsed time 14.73 sec\n",
      "EvaluatorHoldout: Processed 10511 (100.0%) in 11.26 sec. Users per second: 934\n"
     ]
    },
    {
     "name": "stderr",
     "output_type": "stream",
     "text": [
      "[I 2023-12-21 00:31:29,695] Trial 289 finished with value: 0.01437742985071904 and parameters: {'alpha': 2.9413938692566193, 'beta': 0.5497271309392632, 'topK': 52, 'normalize_similarity': True}. Best is trial 260 with value: 0.13736522038191185.\n"
     ]
    },
    {
     "name": "stdout",
     "output_type": "stream",
     "text": [
      "RP3betaRecommender: URM Detected 240 ( 1.9%) users with no interactions.\n",
      "RP3betaRecommender: URM Detected 123 ( 0.6%) items with no interactions.\n",
      "RP3betaRecommender: Similarity column 22222 (100.0%), 1302.44 column/sec. Elapsed time 17.06 sec\n",
      "EvaluatorHoldout: Processed 10511 (100.0%) in 11.77 sec. Users per second: 893\n"
     ]
    },
    {
     "name": "stderr",
     "output_type": "stream",
     "text": [
      "[I 2023-12-21 00:32:03,221] Trial 290 finished with value: 0.070374259627879 and parameters: {'alpha': 1.5355050927838545, 'beta': 0.32279707382888434, 'topK': 100, 'normalize_similarity': True}. Best is trial 260 with value: 0.13736522038191185.\n"
     ]
    },
    {
     "name": "stdout",
     "output_type": "stream",
     "text": [
      "RP3betaRecommender: URM Detected 240 ( 1.9%) users with no interactions.\n",
      "RP3betaRecommender: URM Detected 123 ( 0.6%) items with no interactions.\n",
      "RP3betaRecommender: Similarity column 22222 (100.0%), 3009.15 column/sec. Elapsed time 7.38 sec\n",
      "EvaluatorHoldout: Processed 10511 (100.0%) in 10.09 sec. Users per second: 1042\n"
     ]
    },
    {
     "name": "stderr",
     "output_type": "stream",
     "text": [
      "[I 2023-12-21 00:32:21,583] Trial 291 finished with value: 0.10795097781521824 and parameters: {'alpha': 0.41639722085756026, 'beta': 0.41758974605170085, 'topK': 5, 'normalize_similarity': True}. Best is trial 260 with value: 0.13736522038191185.\n"
     ]
    },
    {
     "name": "stdout",
     "output_type": "stream",
     "text": [
      "RP3betaRecommender: URM Detected 240 ( 1.9%) users with no interactions.\n",
      "RP3betaRecommender: URM Detected 123 ( 0.6%) items with no interactions.\n",
      "RP3betaRecommender: Similarity column 22222 (100.0%), 1379.84 column/sec. Elapsed time 16.10 sec\n",
      "EvaluatorHoldout: Processed 10511 (100.0%) in 11.84 sec. Users per second: 888\n"
     ]
    },
    {
     "name": "stderr",
     "output_type": "stream",
     "text": [
      "[I 2023-12-21 00:32:53,447] Trial 292 finished with value: 0.021961712212784753 and parameters: {'alpha': 0.3061269758893562, 'beta': 0.8465992523827319, 'topK': 84, 'normalize_similarity': True}. Best is trial 260 with value: 0.13736522038191185.\n"
     ]
    },
    {
     "name": "stdout",
     "output_type": "stream",
     "text": [
      "RP3betaRecommender: URM Detected 240 ( 1.9%) users with no interactions.\n",
      "RP3betaRecommender: URM Detected 123 ( 0.6%) items with no interactions.\n",
      "RP3betaRecommender: Similarity column 22222 (100.0%), 2375.67 column/sec. Elapsed time 9.35 sec\n",
      "EvaluatorHoldout: Processed 10511 (100.0%) in 10.40 sec. Users per second: 1011\n"
     ]
    },
    {
     "name": "stderr",
     "output_type": "stream",
     "text": [
      "[I 2023-12-21 00:33:14,945] Trial 293 finished with value: 0.0012871629163185947 and parameters: {'alpha': 0.21850123918863149, 'beta': 2.3632889056401813, 'topK': 43, 'normalize_similarity': True}. Best is trial 260 with value: 0.13736522038191185.\n"
     ]
    },
    {
     "name": "stdout",
     "output_type": "stream",
     "text": [
      "RP3betaRecommender: URM Detected 240 ( 1.9%) users with no interactions.\n",
      "RP3betaRecommender: URM Detected 123 ( 0.6%) items with no interactions.\n",
      "RP3betaRecommender: Similarity column 22222 (100.0%), 1251.74 column/sec. Elapsed time 17.75 sec\n",
      "EvaluatorHoldout: Processed 10511 (100.0%) in 11.78 sec. Users per second: 892\n"
     ]
    },
    {
     "name": "stderr",
     "output_type": "stream",
     "text": [
      "[I 2023-12-21 00:33:49,437] Trial 294 finished with value: 0.04809301926343933 and parameters: {'alpha': 1.9156843964967527, 'beta': 0.3092269103074226, 'topK': 116, 'normalize_similarity': True}. Best is trial 260 with value: 0.13736522038191185.\n"
     ]
    },
    {
     "name": "stdout",
     "output_type": "stream",
     "text": [
      "RP3betaRecommender: URM Detected 240 ( 1.9%) users with no interactions.\n",
      "RP3betaRecommender: URM Detected 123 ( 0.6%) items with no interactions.\n",
      "RP3betaRecommender: Similarity column 22222 (100.0%), 1259.10 column/sec. Elapsed time 17.65 sec\n",
      "EvaluatorHoldout: Processed 10511 (100.0%) in 12.09 sec. Users per second: 869\n"
     ]
    },
    {
     "name": "stderr",
     "output_type": "stream",
     "text": [
      "[I 2023-12-21 00:34:25,053] Trial 295 finished with value: 0.11150323160848141 and parameters: {'alpha': 0.45135286956805226, 'beta': 0.5748309127457364, 'topK': 114, 'normalize_similarity': True}. Best is trial 260 with value: 0.13736522038191185.\n"
     ]
    },
    {
     "name": "stdout",
     "output_type": "stream",
     "text": [
      "RP3betaRecommender: URM Detected 240 ( 1.9%) users with no interactions.\n",
      "RP3betaRecommender: URM Detected 123 ( 0.6%) items with no interactions.\n",
      "RP3betaRecommender: Similarity column 22222 (100.0%), 1460.24 column/sec. Elapsed time 15.22 sec\n",
      "EvaluatorHoldout: Processed 10511 (100.0%) in 11.44 sec. Users per second: 918\n"
     ]
    },
    {
     "name": "stderr",
     "output_type": "stream",
     "text": [
      "[I 2023-12-21 00:34:55,026] Trial 296 finished with value: 0.08321949034643343 and parameters: {'alpha': 0.36370973957588437, 'beta': 0.6742675040270971, 'topK': 67, 'normalize_similarity': True}. Best is trial 260 with value: 0.13736522038191185.\n"
     ]
    },
    {
     "name": "stdout",
     "output_type": "stream",
     "text": [
      "RP3betaRecommender: URM Detected 240 ( 1.9%) users with no interactions.\n",
      "RP3betaRecommender: URM Detected 123 ( 0.6%) items with no interactions.\n",
      "RP3betaRecommender: Similarity column 22222 (100.0%), 1591.74 column/sec. Elapsed time 13.96 sec\n",
      "EvaluatorHoldout: Processed 10511 (100.0%) in 11.11 sec. Users per second: 946\n"
     ]
    },
    {
     "name": "stderr",
     "output_type": "stream",
     "text": [
      "[I 2023-12-21 00:35:22,178] Trial 297 finished with value: 0.12934003811479175 and parameters: {'alpha': 0.20615167038062482, 'beta': 0.4471209488238469, 'topK': 38, 'normalize_similarity': True}. Best is trial 260 with value: 0.13736522038191185.\n"
     ]
    },
    {
     "name": "stdout",
     "output_type": "stream",
     "text": [
      "RP3betaRecommender: URM Detected 240 ( 1.9%) users with no interactions.\n",
      "RP3betaRecommender: URM Detected 123 ( 0.6%) items with no interactions.\n",
      "RP3betaRecommender: Similarity column 22222 (100.0%), 475.12 column/sec. Elapsed time 46.77 sec\n",
      "EvaluatorHoldout: Processed 10511 (100.0%) in 17.27 sec. Users per second: 609\n"
     ]
    },
    {
     "name": "stderr",
     "output_type": "stream",
     "text": [
      "[I 2023-12-21 00:37:02,177] Trial 298 finished with value: 0.1142928897479594 and parameters: {'alpha': 0.3184657766639384, 'beta': 0.2779080163663528, 'topK': 1561, 'normalize_similarity': True}. Best is trial 260 with value: 0.13736522038191185.\n"
     ]
    },
    {
     "name": "stdout",
     "output_type": "stream",
     "text": [
      "RP3betaRecommender: URM Detected 240 ( 1.9%) users with no interactions.\n",
      "RP3betaRecommender: URM Detected 123 ( 0.6%) items with no interactions.\n",
      "RP3betaRecommender: Similarity column 22222 (100.0%), 1223.38 column/sec. Elapsed time 18.16 sec\n",
      "EvaluatorHoldout: Processed 10511 (100.0%) in 11.79 sec. Users per second: 892\n"
     ]
    },
    {
     "name": "stderr",
     "output_type": "stream",
     "text": [
      "[I 2023-12-21 00:37:38,507] Trial 299 finished with value: 0.1285961950738408 and parameters: {'alpha': 0.22627990199985315, 'beta': 0.384960895911916, 'topK': 127, 'normalize_similarity': True}. Best is trial 260 with value: 0.13736522038191185.\n"
     ]
    },
    {
     "name": "stdout",
     "output_type": "stream",
     "text": [
      "RP3betaRecommender: URM Detected 240 ( 1.9%) users with no interactions.\n",
      "RP3betaRecommender: URM Detected 123 ( 0.6%) items with no interactions.\n",
      "RP3betaRecommender: Similarity column 22222 (100.0%), 1397.63 column/sec. Elapsed time 15.90 sec\n",
      "EvaluatorHoldout: Processed 10511 (100.0%) in 11.35 sec. Users per second: 926\n"
     ]
    },
    {
     "name": "stderr",
     "output_type": "stream",
     "text": [
      "[I 2023-12-21 00:38:09,177] Trial 300 finished with value: 0.02388305223180014 and parameters: {'alpha': 3.4602842734380204, 'beta': 0.2696067318734102, 'topK': 80, 'normalize_similarity': True}. Best is trial 260 with value: 0.13736522038191185.\n"
     ]
    },
    {
     "name": "stdout",
     "output_type": "stream",
     "text": [
      "RP3betaRecommender: URM Detected 240 ( 1.9%) users with no interactions.\n",
      "RP3betaRecommender: URM Detected 123 ( 0.6%) items with no interactions.\n",
      "RP3betaRecommender: Similarity column 22222 (100.0%), 1182.28 column/sec. Elapsed time 18.80 sec\n",
      "EvaluatorHoldout: Processed 10511 (100.0%) in 11.29 sec. Users per second: 931\n"
     ]
    },
    {
     "name": "stderr",
     "output_type": "stream",
     "text": [
      "[I 2023-12-21 00:38:45,798] Trial 301 finished with value: 0.03944943193818934 and parameters: {'alpha': 1.6971975843203781, 'beta': 0.4887154891172911, 'topK': 142, 'normalize_similarity': True}. Best is trial 260 with value: 0.13736522038191185.\n"
     ]
    },
    {
     "name": "stdout",
     "output_type": "stream",
     "text": [
      "RP3betaRecommender: URM Detected 240 ( 1.9%) users with no interactions.\n",
      "RP3betaRecommender: URM Detected 123 ( 0.6%) items with no interactions.\n",
      "RP3betaRecommender: Similarity column 22222 (100.0%), 1618.04 column/sec. Elapsed time 13.73 sec\n",
      "EvaluatorHoldout: Processed 10511 (100.0%) in 10.87 sec. Users per second: 967\n"
     ]
    },
    {
     "name": "stderr",
     "output_type": "stream",
     "text": [
      "[I 2023-12-21 00:39:12,551] Trial 302 finished with value: 0.13771250645374838 and parameters: {'alpha': 0.43073706318873695, 'beta': 0.2559104671953935, 'topK': 36, 'normalize_similarity': True}. Best is trial 302 with value: 0.13771250645374838.\n"
     ]
    },
    {
     "name": "stdout",
     "output_type": "stream",
     "text": [
      "RP3betaRecommender: URM Detected 240 ( 1.9%) users with no interactions.\n",
      "RP3betaRecommender: URM Detected 123 ( 0.6%) items with no interactions.\n",
      "RP3betaRecommender: Similarity column 22222 (100.0%), 2701.66 column/sec. Elapsed time 8.23 sec\n",
      "EvaluatorHoldout: Processed 10511 (100.0%) in 10.73 sec. Users per second: 980\n"
     ]
    },
    {
     "name": "stderr",
     "output_type": "stream",
     "text": [
      "[I 2023-12-21 00:39:33,222] Trial 303 finished with value: 0.13365297453175182 and parameters: {'alpha': 0.46590173521027434, 'beta': 0.3334399928194682, 'topK': 24, 'normalize_similarity': True}. Best is trial 302 with value: 0.13771250645374838.\n"
     ]
    },
    {
     "name": "stdout",
     "output_type": "stream",
     "text": [
      "RP3betaRecommender: URM Detected 240 ( 1.9%) users with no interactions.\n",
      "RP3betaRecommender: URM Detected 123 ( 0.6%) items with no interactions.\n",
      "RP3betaRecommender: Similarity column 22222 (100.0%), 2632.31 column/sec. Elapsed time 8.44 sec\n",
      "EvaluatorHoldout: Processed 10511 (100.0%) in 10.53 sec. Users per second: 998\n"
     ]
    },
    {
     "name": "stderr",
     "output_type": "stream",
     "text": [
      "[I 2023-12-21 00:39:54,160] Trial 304 finished with value: 0.007143258851795999 and parameters: {'alpha': 0.4758005981978387, 'beta': 1.087664031452527, 'topK': 33, 'normalize_similarity': True}. Best is trial 302 with value: 0.13771250645374838.\n"
     ]
    },
    {
     "name": "stdout",
     "output_type": "stream",
     "text": [
      "RP3betaRecommender: URM Detected 240 ( 1.9%) users with no interactions.\n",
      "RP3betaRecommender: URM Detected 123 ( 0.6%) items with no interactions.\n",
      "RP3betaRecommender: Similarity column 22222 (100.0%), 2800.02 column/sec. Elapsed time 7.94 sec\n",
      "EvaluatorHoldout: Processed 10511 (100.0%) in 9.83 sec. Users per second: 1069\n"
     ]
    },
    {
     "name": "stderr",
     "output_type": "stream",
     "text": [
      "[I 2023-12-21 00:40:13,051] Trial 305 finished with value: 0.0031801667549846897 and parameters: {'alpha': 0.4645914357811889, 'beta': 1.4531807125234695, 'topK': 20, 'normalize_similarity': True}. Best is trial 302 with value: 0.13771250645374838.\n"
     ]
    },
    {
     "name": "stdout",
     "output_type": "stream",
     "text": [
      "RP3betaRecommender: URM Detected 240 ( 1.9%) users with no interactions.\n",
      "RP3betaRecommender: URM Detected 123 ( 0.6%) items with no interactions.\n",
      "RP3betaRecommender: Similarity column 22222 (100.0%), 1983.27 column/sec. Elapsed time 11.20 sec\n",
      "EvaluatorHoldout: Processed 10511 (100.0%) in 11.47 sec. Users per second: 916\n"
     ]
    },
    {
     "name": "stderr",
     "output_type": "stream",
     "text": [
      "[I 2023-12-21 00:40:39,864] Trial 306 finished with value: 0.1330193416110985 and parameters: {'alpha': 0.37152926526828306, 'beta': 0.38298623125033215, 'topK': 74, 'normalize_similarity': True}. Best is trial 302 with value: 0.13771250645374838.\n"
     ]
    },
    {
     "name": "stdout",
     "output_type": "stream",
     "text": [
      "RP3betaRecommender: URM Detected 240 ( 1.9%) users with no interactions.\n",
      "RP3betaRecommender: URM Detected 123 ( 0.6%) items with no interactions.\n",
      "RP3betaRecommender: Similarity column 22222 (100.0%), 1806.80 column/sec. Elapsed time 12.30 sec\n",
      "EvaluatorHoldout: Processed 10511 (100.0%) in 9.96 sec. Users per second: 1055\n"
     ]
    },
    {
     "name": "stderr",
     "output_type": "stream",
     "text": [
      "[I 2023-12-21 00:41:03,081] Trial 307 finished with value: 0.004860548588191003 and parameters: {'alpha': 2.260831375594325, 'beta': 0.9444477985402363, 'topK': 7, 'normalize_similarity': True}. Best is trial 302 with value: 0.13771250645374838.\n"
     ]
    },
    {
     "name": "stdout",
     "output_type": "stream",
     "text": [
      "RP3betaRecommender: URM Detected 240 ( 1.9%) users with no interactions.\n",
      "RP3betaRecommender: URM Detected 123 ( 0.6%) items with no interactions.\n",
      "RP3betaRecommender: Similarity column 22222 (100.0%), 1502.66 column/sec. Elapsed time 14.79 sec\n",
      "EvaluatorHoldout: Processed 10511 (100.0%) in 11.10 sec. Users per second: 947\n"
     ]
    },
    {
     "name": "stderr",
     "output_type": "stream",
     "text": [
      "[I 2023-12-21 00:41:32,130] Trial 308 finished with value: 0.13961171220083643 and parameters: {'alpha': 0.3535736692428584, 'beta': 0.23632895406841348, 'topK': 60, 'normalize_similarity': True}. Best is trial 308 with value: 0.13961171220083643.\n"
     ]
    },
    {
     "name": "stdout",
     "output_type": "stream",
     "text": [
      "RP3betaRecommender: URM Detected 240 ( 1.9%) users with no interactions.\n",
      "RP3betaRecommender: URM Detected 123 ( 0.6%) items with no interactions.\n",
      "RP3betaRecommender: Similarity column 22222 (100.0%), 1547.59 column/sec. Elapsed time 14.36 sec\n",
      "EvaluatorHoldout: Processed 10511 (100.0%) in 11.50 sec. Users per second: 914\n"
     ]
    },
    {
     "name": "stderr",
     "output_type": "stream",
     "text": [
      "[I 2023-12-21 00:42:00,780] Trial 309 finished with value: 0.13736850543218587 and parameters: {'alpha': 0.4436959104067286, 'beta': 0.23910593494914625, 'topK': 53, 'normalize_similarity': True}. Best is trial 308 with value: 0.13961171220083643.\n"
     ]
    },
    {
     "name": "stdout",
     "output_type": "stream",
     "text": [
      "RP3betaRecommender: URM Detected 240 ( 1.9%) users with no interactions.\n",
      "RP3betaRecommender: URM Detected 123 ( 0.6%) items with no interactions.\n",
      "RP3betaRecommender: Similarity column 22222 (100.0%), 1589.61 column/sec. Elapsed time 13.98 sec\n",
      "EvaluatorHoldout: Processed 10511 (100.0%) in 10.97 sec. Users per second: 958\n"
     ]
    },
    {
     "name": "stderr",
     "output_type": "stream",
     "text": [
      "[I 2023-12-21 00:42:27,951] Trial 310 finished with value: 0.13697720937726476 and parameters: {'alpha': 0.4768688934804933, 'beta': 0.221683716534359, 'topK': 41, 'normalize_similarity': True}. Best is trial 308 with value: 0.13961171220083643.\n"
     ]
    },
    {
     "name": "stdout",
     "output_type": "stream",
     "text": [
      "RP3betaRecommender: URM Detected 240 ( 1.9%) users with no interactions.\n",
      "RP3betaRecommender: URM Detected 123 ( 0.6%) items with no interactions.\n",
      "RP3betaRecommender: Similarity column 22222 (100.0%), 1603.00 column/sec. Elapsed time 13.86 sec\n",
      "EvaluatorHoldout: Processed 10511 (100.0%) in 10.85 sec. Users per second: 969\n"
     ]
    },
    {
     "name": "stderr",
     "output_type": "stream",
     "text": [
      "[I 2023-12-21 00:42:54,826] Trial 311 finished with value: 0.13725390197506362 and parameters: {'alpha': 0.4862929646491189, 'beta': 0.21524420804273478, 'topK': 39, 'normalize_similarity': True}. Best is trial 308 with value: 0.13961171220083643.\n"
     ]
    },
    {
     "name": "stdout",
     "output_type": "stream",
     "text": [
      "RP3betaRecommender: URM Detected 240 ( 1.9%) users with no interactions.\n",
      "RP3betaRecommender: URM Detected 123 ( 0.6%) items with no interactions.\n",
      "RP3betaRecommender: Similarity column 22222 (100.0%), 1565.58 column/sec. Elapsed time 14.19 sec\n",
      "EvaluatorHoldout: Processed 10511 (100.0%) in 10.83 sec. Users per second: 970\n"
     ]
    },
    {
     "name": "stderr",
     "output_type": "stream",
     "text": [
      "[I 2023-12-21 00:43:22,165] Trial 312 finished with value: 0.13787739072833047 and parameters: {'alpha': 0.46717400824986377, 'beta': 0.19693894644746496, 'topK': 45, 'normalize_similarity': True}. Best is trial 308 with value: 0.13961171220083643.\n"
     ]
    },
    {
     "name": "stdout",
     "output_type": "stream",
     "text": [
      "RP3betaRecommender: URM Detected 240 ( 1.9%) users with no interactions.\n",
      "RP3betaRecommender: URM Detected 123 ( 0.6%) items with no interactions.\n",
      "RP3betaRecommender: Similarity column 22222 (100.0%), 1561.56 column/sec. Elapsed time 14.23 sec\n",
      "EvaluatorHoldout: Processed 10511 (100.0%) in 10.99 sec. Users per second: 956\n"
     ]
    },
    {
     "name": "stderr",
     "output_type": "stream",
     "text": [
      "[I 2023-12-21 00:43:49,879] Trial 313 finished with value: 0.13785140773219204 and parameters: {'alpha': 0.500980305037658, 'beta': 0.2290316550541437, 'topK': 47, 'normalize_similarity': True}. Best is trial 308 with value: 0.13961171220083643.\n"
     ]
    },
    {
     "name": "stdout",
     "output_type": "stream",
     "text": [
      "RP3betaRecommender: URM Detected 240 ( 1.9%) users with no interactions.\n",
      "RP3betaRecommender: URM Detected 123 ( 0.6%) items with no interactions.\n",
      "RP3betaRecommender: Similarity column 22222 (100.0%), 1577.46 column/sec. Elapsed time 14.09 sec\n",
      "EvaluatorHoldout: Processed 10511 (100.0%) in 11.37 sec. Users per second: 925\n"
     ]
    },
    {
     "name": "stderr",
     "output_type": "stream",
     "text": [
      "[I 2023-12-21 00:44:17,733] Trial 314 finished with value: 0.13735160923666476 and parameters: {'alpha': 0.5115571010856405, 'beta': 0.2400079259915402, 'topK': 45, 'normalize_similarity': True}. Best is trial 308 with value: 0.13961171220083643.\n"
     ]
    },
    {
     "name": "stdout",
     "output_type": "stream",
     "text": [
      "RP3betaRecommender: URM Detected 240 ( 1.9%) users with no interactions.\n",
      "RP3betaRecommender: URM Detected 123 ( 0.6%) items with no interactions.\n",
      "RP3betaRecommender: Similarity column 22222 (100.0%), 1805.34 column/sec. Elapsed time 12.31 sec\n",
      "EvaluatorHoldout: Processed 10511 (100.0%) in 9.30 sec. Users per second: 1130\n"
     ]
    },
    {
     "name": "stderr",
     "output_type": "stream",
     "text": [
      "[I 2023-12-21 00:44:40,144] Trial 315 finished with value: 0.0038967443620378226 and parameters: {'alpha': 0.518454991956973, 'beta': 1.342994143689506, 'topK': 7, 'normalize_similarity': True}. Best is trial 308 with value: 0.13961171220083643.\n"
     ]
    },
    {
     "name": "stdout",
     "output_type": "stream",
     "text": [
      "RP3betaRecommender: URM Detected 240 ( 1.9%) users with no interactions.\n",
      "RP3betaRecommender: URM Detected 123 ( 0.6%) items with no interactions.\n"
     ]
    },
    {
     "name": "stderr",
     "output_type": "stream",
     "text": [
      "[W 2023-12-21 00:44:44,065] Trial 316 failed with parameters: {'alpha': 0.4810161100264304, 'beta': 4.74534732354959, 'topK': 56, 'normalize_similarity': True} because of the following error: KeyboardInterrupt().\n",
      "Traceback (most recent call last):\n",
      "  File \"/opt/conda/lib/python3.10/site-packages/optuna/study/_optimize.py\", line 200, in _run_trial\n",
      "    value_or_values = func(trial)\n",
      "  File \"/tmp/ipykernel_47/1234802764.py\", line 3, in objective_function_rp3beta\n",
      "    recommender_instance.fit(\n",
      "  File \"/kaggle/working/Recommenders/GraphBased/RP3betaRecommender.py\", line 94, in fit\n",
      "    similarity_block = similarity_block.toarray()\n",
      "  File \"/opt/conda/lib/python3.10/site-packages/scipy/sparse/_compressed.py\", line 1061, in toarray\n",
      "    csr_todense(M, N, x.indptr, x.indices, x.data, y)\n",
      "KeyboardInterrupt\n",
      "[W 2023-12-21 00:44:44,070] Trial 316 failed with value None.\n"
     ]
    },
    {
     "ename": "KeyboardInterrupt",
     "evalue": "",
     "output_type": "error",
     "traceback": [
      "\u001b[0;31m---------------------------------------------------------------------------\u001b[0m",
      "\u001b[0;31mKeyboardInterrupt\u001b[0m                         Traceback (most recent call last)",
      "Cell \u001b[0;32mIn[26], line 5\u001b[0m\n\u001b[1;32m      1\u001b[0m optuna_study_rp3beta \u001b[38;5;241m=\u001b[39m optuna\u001b[38;5;241m.\u001b[39mcreate_study(direction\u001b[38;5;241m=\u001b[39m\u001b[38;5;124m\"\u001b[39m\u001b[38;5;124mmaximize\u001b[39m\u001b[38;5;124m\"\u001b[39m)\n\u001b[1;32m      3\u001b[0m save_results_rp3beta \u001b[38;5;241m=\u001b[39m SaveResults()\n\u001b[0;32m----> 5\u001b[0m \u001b[43moptuna_study_rp3beta\u001b[49m\u001b[38;5;241;43m.\u001b[39;49m\u001b[43moptimize\u001b[49m\u001b[43m(\u001b[49m\u001b[43mobjective_function_rp3beta\u001b[49m\u001b[43m,\u001b[49m\n\u001b[1;32m      6\u001b[0m \u001b[43m                      \u001b[49m\u001b[43mcallbacks\u001b[49m\u001b[38;5;241;43m=\u001b[39;49m\u001b[43m[\u001b[49m\u001b[43msave_results_rp3beta\u001b[49m\u001b[43m]\u001b[49m\u001b[43m,\u001b[49m\n\u001b[1;32m      7\u001b[0m \u001b[43m                      \u001b[49m\u001b[43mn_trials\u001b[49m\u001b[43m \u001b[49m\u001b[38;5;241;43m=\u001b[39;49m\u001b[43m \u001b[49m\u001b[38;5;241;43m2000\u001b[39;49m\u001b[43m)\u001b[49m\n",
      "File \u001b[0;32m/opt/conda/lib/python3.10/site-packages/optuna/study/study.py:451\u001b[0m, in \u001b[0;36mStudy.optimize\u001b[0;34m(self, func, n_trials, timeout, n_jobs, catch, callbacks, gc_after_trial, show_progress_bar)\u001b[0m\n\u001b[1;32m    348\u001b[0m \u001b[38;5;28;01mdef\u001b[39;00m \u001b[38;5;21moptimize\u001b[39m(\n\u001b[1;32m    349\u001b[0m     \u001b[38;5;28mself\u001b[39m,\n\u001b[1;32m    350\u001b[0m     func: ObjectiveFuncType,\n\u001b[0;32m   (...)\u001b[0m\n\u001b[1;32m    357\u001b[0m     show_progress_bar: \u001b[38;5;28mbool\u001b[39m \u001b[38;5;241m=\u001b[39m \u001b[38;5;28;01mFalse\u001b[39;00m,\n\u001b[1;32m    358\u001b[0m ) \u001b[38;5;241m-\u001b[39m\u001b[38;5;241m>\u001b[39m \u001b[38;5;28;01mNone\u001b[39;00m:\n\u001b[1;32m    359\u001b[0m \u001b[38;5;250m    \u001b[39m\u001b[38;5;124;03m\"\"\"Optimize an objective function.\u001b[39;00m\n\u001b[1;32m    360\u001b[0m \n\u001b[1;32m    361\u001b[0m \u001b[38;5;124;03m    Optimization is done by choosing a suitable set of hyperparameter values from a given\u001b[39;00m\n\u001b[0;32m   (...)\u001b[0m\n\u001b[1;32m    449\u001b[0m \u001b[38;5;124;03m            If nested invocation of this method occurs.\u001b[39;00m\n\u001b[1;32m    450\u001b[0m \u001b[38;5;124;03m    \"\"\"\u001b[39;00m\n\u001b[0;32m--> 451\u001b[0m     \u001b[43m_optimize\u001b[49m\u001b[43m(\u001b[49m\n\u001b[1;32m    452\u001b[0m \u001b[43m        \u001b[49m\u001b[43mstudy\u001b[49m\u001b[38;5;241;43m=\u001b[39;49m\u001b[38;5;28;43mself\u001b[39;49m\u001b[43m,\u001b[49m\n\u001b[1;32m    453\u001b[0m \u001b[43m        \u001b[49m\u001b[43mfunc\u001b[49m\u001b[38;5;241;43m=\u001b[39;49m\u001b[43mfunc\u001b[49m\u001b[43m,\u001b[49m\n\u001b[1;32m    454\u001b[0m \u001b[43m        \u001b[49m\u001b[43mn_trials\u001b[49m\u001b[38;5;241;43m=\u001b[39;49m\u001b[43mn_trials\u001b[49m\u001b[43m,\u001b[49m\n\u001b[1;32m    455\u001b[0m \u001b[43m        \u001b[49m\u001b[43mtimeout\u001b[49m\u001b[38;5;241;43m=\u001b[39;49m\u001b[43mtimeout\u001b[49m\u001b[43m,\u001b[49m\n\u001b[1;32m    456\u001b[0m \u001b[43m        \u001b[49m\u001b[43mn_jobs\u001b[49m\u001b[38;5;241;43m=\u001b[39;49m\u001b[43mn_jobs\u001b[49m\u001b[43m,\u001b[49m\n\u001b[1;32m    457\u001b[0m \u001b[43m        \u001b[49m\u001b[43mcatch\u001b[49m\u001b[38;5;241;43m=\u001b[39;49m\u001b[38;5;28;43mtuple\u001b[39;49m\u001b[43m(\u001b[49m\u001b[43mcatch\u001b[49m\u001b[43m)\u001b[49m\u001b[43m \u001b[49m\u001b[38;5;28;43;01mif\u001b[39;49;00m\u001b[43m \u001b[49m\u001b[38;5;28;43misinstance\u001b[39;49m\u001b[43m(\u001b[49m\u001b[43mcatch\u001b[49m\u001b[43m,\u001b[49m\u001b[43m \u001b[49m\u001b[43mIterable\u001b[49m\u001b[43m)\u001b[49m\u001b[43m \u001b[49m\u001b[38;5;28;43;01melse\u001b[39;49;00m\u001b[43m \u001b[49m\u001b[43m(\u001b[49m\u001b[43mcatch\u001b[49m\u001b[43m,\u001b[49m\u001b[43m)\u001b[49m\u001b[43m,\u001b[49m\n\u001b[1;32m    458\u001b[0m \u001b[43m        \u001b[49m\u001b[43mcallbacks\u001b[49m\u001b[38;5;241;43m=\u001b[39;49m\u001b[43mcallbacks\u001b[49m\u001b[43m,\u001b[49m\n\u001b[1;32m    459\u001b[0m \u001b[43m        \u001b[49m\u001b[43mgc_after_trial\u001b[49m\u001b[38;5;241;43m=\u001b[39;49m\u001b[43mgc_after_trial\u001b[49m\u001b[43m,\u001b[49m\n\u001b[1;32m    460\u001b[0m \u001b[43m        \u001b[49m\u001b[43mshow_progress_bar\u001b[49m\u001b[38;5;241;43m=\u001b[39;49m\u001b[43mshow_progress_bar\u001b[49m\u001b[43m,\u001b[49m\n\u001b[1;32m    461\u001b[0m \u001b[43m    \u001b[49m\u001b[43m)\u001b[49m\n",
      "File \u001b[0;32m/opt/conda/lib/python3.10/site-packages/optuna/study/_optimize.py:66\u001b[0m, in \u001b[0;36m_optimize\u001b[0;34m(study, func, n_trials, timeout, n_jobs, catch, callbacks, gc_after_trial, show_progress_bar)\u001b[0m\n\u001b[1;32m     64\u001b[0m \u001b[38;5;28;01mtry\u001b[39;00m:\n\u001b[1;32m     65\u001b[0m     \u001b[38;5;28;01mif\u001b[39;00m n_jobs \u001b[38;5;241m==\u001b[39m \u001b[38;5;241m1\u001b[39m:\n\u001b[0;32m---> 66\u001b[0m         \u001b[43m_optimize_sequential\u001b[49m\u001b[43m(\u001b[49m\n\u001b[1;32m     67\u001b[0m \u001b[43m            \u001b[49m\u001b[43mstudy\u001b[49m\u001b[43m,\u001b[49m\n\u001b[1;32m     68\u001b[0m \u001b[43m            \u001b[49m\u001b[43mfunc\u001b[49m\u001b[43m,\u001b[49m\n\u001b[1;32m     69\u001b[0m \u001b[43m            \u001b[49m\u001b[43mn_trials\u001b[49m\u001b[43m,\u001b[49m\n\u001b[1;32m     70\u001b[0m \u001b[43m            \u001b[49m\u001b[43mtimeout\u001b[49m\u001b[43m,\u001b[49m\n\u001b[1;32m     71\u001b[0m \u001b[43m            \u001b[49m\u001b[43mcatch\u001b[49m\u001b[43m,\u001b[49m\n\u001b[1;32m     72\u001b[0m \u001b[43m            \u001b[49m\u001b[43mcallbacks\u001b[49m\u001b[43m,\u001b[49m\n\u001b[1;32m     73\u001b[0m \u001b[43m            \u001b[49m\u001b[43mgc_after_trial\u001b[49m\u001b[43m,\u001b[49m\n\u001b[1;32m     74\u001b[0m \u001b[43m            \u001b[49m\u001b[43mreseed_sampler_rng\u001b[49m\u001b[38;5;241;43m=\u001b[39;49m\u001b[38;5;28;43;01mFalse\u001b[39;49;00m\u001b[43m,\u001b[49m\n\u001b[1;32m     75\u001b[0m \u001b[43m            \u001b[49m\u001b[43mtime_start\u001b[49m\u001b[38;5;241;43m=\u001b[39;49m\u001b[38;5;28;43;01mNone\u001b[39;49;00m\u001b[43m,\u001b[49m\n\u001b[1;32m     76\u001b[0m \u001b[43m            \u001b[49m\u001b[43mprogress_bar\u001b[49m\u001b[38;5;241;43m=\u001b[39;49m\u001b[43mprogress_bar\u001b[49m\u001b[43m,\u001b[49m\n\u001b[1;32m     77\u001b[0m \u001b[43m        \u001b[49m\u001b[43m)\u001b[49m\n\u001b[1;32m     78\u001b[0m     \u001b[38;5;28;01melse\u001b[39;00m:\n\u001b[1;32m     79\u001b[0m         \u001b[38;5;28;01mif\u001b[39;00m n_jobs \u001b[38;5;241m==\u001b[39m \u001b[38;5;241m-\u001b[39m\u001b[38;5;241m1\u001b[39m:\n",
      "File \u001b[0;32m/opt/conda/lib/python3.10/site-packages/optuna/study/_optimize.py:163\u001b[0m, in \u001b[0;36m_optimize_sequential\u001b[0;34m(study, func, n_trials, timeout, catch, callbacks, gc_after_trial, reseed_sampler_rng, time_start, progress_bar)\u001b[0m\n\u001b[1;32m    160\u001b[0m         \u001b[38;5;28;01mbreak\u001b[39;00m\n\u001b[1;32m    162\u001b[0m \u001b[38;5;28;01mtry\u001b[39;00m:\n\u001b[0;32m--> 163\u001b[0m     frozen_trial \u001b[38;5;241m=\u001b[39m \u001b[43m_run_trial\u001b[49m\u001b[43m(\u001b[49m\u001b[43mstudy\u001b[49m\u001b[43m,\u001b[49m\u001b[43m \u001b[49m\u001b[43mfunc\u001b[49m\u001b[43m,\u001b[49m\u001b[43m \u001b[49m\u001b[43mcatch\u001b[49m\u001b[43m)\u001b[49m\n\u001b[1;32m    164\u001b[0m \u001b[38;5;28;01mfinally\u001b[39;00m:\n\u001b[1;32m    165\u001b[0m     \u001b[38;5;66;03m# The following line mitigates memory problems that can be occurred in some\u001b[39;00m\n\u001b[1;32m    166\u001b[0m     \u001b[38;5;66;03m# environments (e.g., services that use computing containers such as GitHub Actions).\u001b[39;00m\n\u001b[1;32m    167\u001b[0m     \u001b[38;5;66;03m# Please refer to the following PR for further details:\u001b[39;00m\n\u001b[1;32m    168\u001b[0m     \u001b[38;5;66;03m# https://github.com/optuna/optuna/pull/325.\u001b[39;00m\n\u001b[1;32m    169\u001b[0m     \u001b[38;5;28;01mif\u001b[39;00m gc_after_trial:\n",
      "File \u001b[0;32m/opt/conda/lib/python3.10/site-packages/optuna/study/_optimize.py:251\u001b[0m, in \u001b[0;36m_run_trial\u001b[0;34m(study, func, catch)\u001b[0m\n\u001b[1;32m    244\u001b[0m         \u001b[38;5;28;01massert\u001b[39;00m \u001b[38;5;28;01mFalse\u001b[39;00m, \u001b[38;5;124m\"\u001b[39m\u001b[38;5;124mShould not reach.\u001b[39m\u001b[38;5;124m\"\u001b[39m\n\u001b[1;32m    246\u001b[0m \u001b[38;5;28;01mif\u001b[39;00m (\n\u001b[1;32m    247\u001b[0m     frozen_trial\u001b[38;5;241m.\u001b[39mstate \u001b[38;5;241m==\u001b[39m TrialState\u001b[38;5;241m.\u001b[39mFAIL\n\u001b[1;32m    248\u001b[0m     \u001b[38;5;129;01mand\u001b[39;00m func_err \u001b[38;5;129;01mis\u001b[39;00m \u001b[38;5;129;01mnot\u001b[39;00m \u001b[38;5;28;01mNone\u001b[39;00m\n\u001b[1;32m    249\u001b[0m     \u001b[38;5;129;01mand\u001b[39;00m \u001b[38;5;129;01mnot\u001b[39;00m \u001b[38;5;28misinstance\u001b[39m(func_err, catch)\n\u001b[1;32m    250\u001b[0m ):\n\u001b[0;32m--> 251\u001b[0m     \u001b[38;5;28;01mraise\u001b[39;00m func_err\n\u001b[1;32m    252\u001b[0m \u001b[38;5;28;01mreturn\u001b[39;00m frozen_trial\n",
      "File \u001b[0;32m/opt/conda/lib/python3.10/site-packages/optuna/study/_optimize.py:200\u001b[0m, in \u001b[0;36m_run_trial\u001b[0;34m(study, func, catch)\u001b[0m\n\u001b[1;32m    198\u001b[0m \u001b[38;5;28;01mwith\u001b[39;00m get_heartbeat_thread(trial\u001b[38;5;241m.\u001b[39m_trial_id, study\u001b[38;5;241m.\u001b[39m_storage):\n\u001b[1;32m    199\u001b[0m     \u001b[38;5;28;01mtry\u001b[39;00m:\n\u001b[0;32m--> 200\u001b[0m         value_or_values \u001b[38;5;241m=\u001b[39m \u001b[43mfunc\u001b[49m\u001b[43m(\u001b[49m\u001b[43mtrial\u001b[49m\u001b[43m)\u001b[49m\n\u001b[1;32m    201\u001b[0m     \u001b[38;5;28;01mexcept\u001b[39;00m exceptions\u001b[38;5;241m.\u001b[39mTrialPruned \u001b[38;5;28;01mas\u001b[39;00m e:\n\u001b[1;32m    202\u001b[0m         \u001b[38;5;66;03m# TODO(mamu): Handle multi-objective cases.\u001b[39;00m\n\u001b[1;32m    203\u001b[0m         state \u001b[38;5;241m=\u001b[39m TrialState\u001b[38;5;241m.\u001b[39mPRUNED\n",
      "Cell \u001b[0;32mIn[25], line 3\u001b[0m, in \u001b[0;36mobjective_function_rp3beta\u001b[0;34m(optuna_trial)\u001b[0m\n\u001b[1;32m      1\u001b[0m \u001b[38;5;28;01mdef\u001b[39;00m \u001b[38;5;21mobjective_function_rp3beta\u001b[39m(optuna_trial):\n\u001b[1;32m      2\u001b[0m     recommender_instance \u001b[38;5;241m=\u001b[39m RP3betaRecommender(urm_train)\n\u001b[0;32m----> 3\u001b[0m     \u001b[43mrecommender_instance\u001b[49m\u001b[38;5;241;43m.\u001b[39;49m\u001b[43mfit\u001b[49m\u001b[43m(\u001b[49m\n\u001b[1;32m      4\u001b[0m \u001b[43m                             \u001b[49m\u001b[43malpha\u001b[49m\u001b[43m \u001b[49m\u001b[38;5;241;43m=\u001b[39;49m\u001b[43m \u001b[49m\u001b[43moptuna_trial\u001b[49m\u001b[38;5;241;43m.\u001b[39;49m\u001b[43msuggest_float\u001b[49m\u001b[43m(\u001b[49m\u001b[38;5;124;43m\"\u001b[39;49m\u001b[38;5;124;43malpha\u001b[39;49m\u001b[38;5;124;43m\"\u001b[39;49m\u001b[43m,\u001b[49m\u001b[43m \u001b[49m\u001b[38;5;241;43m0\u001b[39;49m\u001b[43m,\u001b[49m\u001b[43m \u001b[49m\u001b[38;5;241;43m5\u001b[39;49m\u001b[43m)\u001b[49m\u001b[43m,\u001b[49m\n\u001b[1;32m      5\u001b[0m \u001b[43m                             \u001b[49m\u001b[43mbeta\u001b[49m\u001b[43m \u001b[49m\u001b[38;5;241;43m=\u001b[39;49m\u001b[43m \u001b[49m\u001b[43moptuna_trial\u001b[49m\u001b[38;5;241;43m.\u001b[39;49m\u001b[43msuggest_float\u001b[49m\u001b[43m(\u001b[49m\u001b[38;5;124;43m\"\u001b[39;49m\u001b[38;5;124;43mbeta\u001b[39;49m\u001b[38;5;124;43m\"\u001b[39;49m\u001b[43m,\u001b[49m\u001b[43m \u001b[49m\u001b[38;5;241;43m0\u001b[39;49m\u001b[43m,\u001b[49m\u001b[43m \u001b[49m\u001b[38;5;241;43m5\u001b[39;49m\u001b[43m)\u001b[49m\u001b[43m,\u001b[49m\n\u001b[1;32m      6\u001b[0m \u001b[43m                             \u001b[49m\u001b[43mtopK\u001b[49m\u001b[43m \u001b[49m\u001b[38;5;241;43m=\u001b[39;49m\u001b[43m \u001b[49m\u001b[43moptuna_trial\u001b[49m\u001b[38;5;241;43m.\u001b[39;49m\u001b[43msuggest_int\u001b[49m\u001b[43m(\u001b[49m\u001b[38;5;124;43m\"\u001b[39;49m\u001b[38;5;124;43mtopK\u001b[39;49m\u001b[38;5;124;43m\"\u001b[39;49m\u001b[43m,\u001b[49m\u001b[43m \u001b[49m\u001b[38;5;241;43m5\u001b[39;49m\u001b[43m,\u001b[49m\u001b[43m \u001b[49m\u001b[38;5;241;43m2000\u001b[39;49m\u001b[43m)\u001b[49m\u001b[43m,\u001b[49m\n\u001b[1;32m      7\u001b[0m \u001b[43m                             \u001b[49m\u001b[43mimplicit\u001b[49m\u001b[38;5;241;43m=\u001b[39;49m\u001b[38;5;28;43;01mTrue\u001b[39;49;00m\u001b[43m,\u001b[49m\n\u001b[1;32m      8\u001b[0m \u001b[43m                             \u001b[49m\u001b[43mnormalize_similarity\u001b[49m\u001b[43m \u001b[49m\u001b[38;5;241;43m=\u001b[39;49m\u001b[43m \u001b[49m\u001b[43moptuna_trial\u001b[49m\u001b[38;5;241;43m.\u001b[39;49m\u001b[43msuggest_categorical\u001b[49m\u001b[43m(\u001b[49m\u001b[38;5;124;43m\"\u001b[39;49m\u001b[38;5;124;43mnormalize_similarity\u001b[39;49m\u001b[38;5;124;43m\"\u001b[39;49m\u001b[43m,\u001b[49m\u001b[43m \u001b[49m\u001b[43m[\u001b[49m\u001b[38;5;28;43;01mTrue\u001b[39;49;00m\u001b[43m,\u001b[49m\u001b[43m \u001b[49m\u001b[38;5;28;43;01mFalse\u001b[39;49;00m\u001b[43m]\u001b[49m\u001b[43m)\u001b[49m\u001b[43m,\u001b[49m\n\u001b[1;32m      9\u001b[0m \u001b[43m                            \u001b[49m\u001b[43m)\u001b[49m\n\u001b[1;32m     11\u001b[0m     result_df, _ \u001b[38;5;241m=\u001b[39m evaluator_validation\u001b[38;5;241m.\u001b[39mevaluateRecommender(recommender_instance)\n\u001b[1;32m     13\u001b[0m     \u001b[38;5;28;01mreturn\u001b[39;00m result_df\u001b[38;5;241m.\u001b[39mloc[\u001b[38;5;241m10\u001b[39m][\u001b[38;5;124m\"\u001b[39m\u001b[38;5;124mRECALL\u001b[39m\u001b[38;5;124m\"\u001b[39m]\n",
      "File \u001b[0;32m/kaggle/working/Recommenders/GraphBased/RP3betaRecommender.py:94\u001b[0m, in \u001b[0;36mRP3betaRecommender.fit\u001b[0;34m(self, alpha, beta, min_rating, topK, implicit, normalize_similarity)\u001b[0m\n\u001b[1;32m     91\u001b[0m     block_dim \u001b[38;5;241m=\u001b[39m Pui\u001b[38;5;241m.\u001b[39mshape[\u001b[38;5;241m1\u001b[39m] \u001b[38;5;241m-\u001b[39m current_block_start_row\n\u001b[1;32m     93\u001b[0m similarity_block \u001b[38;5;241m=\u001b[39m d_t[current_block_start_row:current_block_start_row \u001b[38;5;241m+\u001b[39m block_dim, :] \u001b[38;5;241m*\u001b[39m Pui\n\u001b[0;32m---> 94\u001b[0m similarity_block \u001b[38;5;241m=\u001b[39m \u001b[43msimilarity_block\u001b[49m\u001b[38;5;241;43m.\u001b[39;49m\u001b[43mtoarray\u001b[49m\u001b[43m(\u001b[49m\u001b[43m)\u001b[49m\n\u001b[1;32m     96\u001b[0m \u001b[38;5;28;01mfor\u001b[39;00m row_in_block \u001b[38;5;129;01min\u001b[39;00m \u001b[38;5;28mrange\u001b[39m(block_dim):\n\u001b[1;32m     97\u001b[0m     row_data \u001b[38;5;241m=\u001b[39m np\u001b[38;5;241m.\u001b[39mmultiply(similarity_block[row_in_block, :], degree)\n",
      "File \u001b[0;32m/opt/conda/lib/python3.10/site-packages/scipy/sparse/_compressed.py:1061\u001b[0m, in \u001b[0;36m_cs_matrix.toarray\u001b[0;34m(self, order, out)\u001b[0m\n\u001b[1;32m   1059\u001b[0m     y \u001b[38;5;241m=\u001b[39m out\u001b[38;5;241m.\u001b[39mT\n\u001b[1;32m   1060\u001b[0m M, N \u001b[38;5;241m=\u001b[39m x\u001b[38;5;241m.\u001b[39m_swap(x\u001b[38;5;241m.\u001b[39mshape)\n\u001b[0;32m-> 1061\u001b[0m \u001b[43mcsr_todense\u001b[49m\u001b[43m(\u001b[49m\u001b[43mM\u001b[49m\u001b[43m,\u001b[49m\u001b[43m \u001b[49m\u001b[43mN\u001b[49m\u001b[43m,\u001b[49m\u001b[43m \u001b[49m\u001b[43mx\u001b[49m\u001b[38;5;241;43m.\u001b[39;49m\u001b[43mindptr\u001b[49m\u001b[43m,\u001b[49m\u001b[43m \u001b[49m\u001b[43mx\u001b[49m\u001b[38;5;241;43m.\u001b[39;49m\u001b[43mindices\u001b[49m\u001b[43m,\u001b[49m\u001b[43m \u001b[49m\u001b[43mx\u001b[49m\u001b[38;5;241;43m.\u001b[39;49m\u001b[43mdata\u001b[49m\u001b[43m,\u001b[49m\u001b[43m \u001b[49m\u001b[43my\u001b[49m\u001b[43m)\u001b[49m\n\u001b[1;32m   1062\u001b[0m \u001b[38;5;28;01mreturn\u001b[39;00m out\n",
      "\u001b[0;31mKeyboardInterrupt\u001b[0m: "
     ]
    }
   ],
   "source": [
    "optuna_study_rp3beta = optuna.create_study(direction=\"maximize\")\n",
    "\n",
    "save_results_rp3beta = SaveResults()\n",
    "\n",
    "optuna_study_rp3beta.optimize(objective_function_rp3beta,\n",
    "                      callbacks=[save_results_rp3beta],\n",
    "                      n_trials = 2000)"
   ]
  },
  {
   "cell_type": "code",
   "execution_count": null,
   "metadata": {},
   "outputs": [],
   "source": [
    "#best recall\n",
    "#Trial 308 finished with value: 0.13961171220083643 and parameters: {'alpha': 0.3535736692428584, 'beta': 0.23632895406841348, 'topK': 60, 'normalize_similarity': True}. Best is trial 308 with value: 0.13961171220083643."
   ]
  },
  {
   "cell_type": "code",
   "execution_count": null,
   "metadata": {},
   "outputs": [],
   "source": [
    "#{'alpha': 0.4777932742794815, 'beta': 0.43322463947268186, 'topK': 560, 'normalize_similarity': False}"
   ]
  },
  {
   "cell_type": "code",
   "execution_count": null,
   "metadata": {},
   "outputs": [],
   "source": [
    "pruned_trials = [t for t in optuna_study_ItemKNN.trials if t.state == optuna.trial.TrialState.PRUNED]\n",
    "complete_trials = [t for t in optuna_study_ItemKNN.trials if t.state == optuna.trial.TrialState.COMPLETE]\n",
    "\n",
    "print(\"Study statistics: \")\n",
    "print(\"  Number of finished trials: \", len(optuna_study_ItemKNN.trials))\n",
    "print(\"  Number of pruned trials: \", len(pruned_trials))\n",
    "print(\"  Number of complete trials: \", len(complete_trials))\n",
    "\n",
    "print(\"Best trial:\")\n",
    "print(\"  Value Validation: \", optuna_study_ItemKNN.best_trial.value)\n",
    "\n",
    "print(\"Best params:\")\n",
    "print(optuna_study_ItemKNN.best_trial.params)"
   ]
  },
  {
   "cell_type": "code",
   "execution_count": null,
   "metadata": {},
   "outputs": [],
   "source": [
    "Trial 23 finished with value: 0.03842949110002721 and parameters: {'alpha': 0.45144675266437523, 'beta': 0.5784676136796019, 'topK': 1997, 'normalize_similarity': False}. Best is trial 23 with value: 0.03842949110002721."
   ]
  },
  {
   "cell_type": "code",
   "execution_count": null,
   "metadata": {},
   "outputs": [],
   "source": [
    "[I 2023-12-07 10:11:21,481] Trial 91 finished with value: 0.047571485956511894 and parameters: {'alpha': 0.2647350907147164, 'beta': 0.1338834491041665, 'topK': 37, 'normalize_similarity': True}."
   ]
  },
  {
   "cell_type": "code",
   "execution_count": null,
   "metadata": {},
   "outputs": [],
   "source": [
    "Trial 242 finished with value: 0.04780523956006856 and parameters: {'alpha': 0.3302958327908062, 'beta': 0.14271386569051958, 'topK': 29, 'normalize_similarity': True}. Best is trial 242 with value: 0.04780523956006856."
   ]
  }
 ],
 "metadata": {
  "kaggle": {
   "accelerator": "none",
   "dataSources": [
    {
     "datasetId": 4086250,
     "sourceId": 7091045,
     "sourceType": "datasetVersion"
    },
    {
     "datasetId": 4120115,
     "sourceId": 7139099,
     "sourceType": "datasetVersion"
    }
   ],
   "dockerImageVersionId": 30587,
   "isGpuEnabled": false,
   "isInternetEnabled": true,
   "language": "python",
   "sourceType": "notebook"
  },
  "kernelspec": {
   "display_name": "Python 3 (ipykernel)",
   "language": "python",
   "name": "python3"
  },
  "language_info": {
   "codemirror_mode": {
    "name": "ipython",
    "version": 3
   },
   "file_extension": ".py",
   "mimetype": "text/x-python",
   "name": "python",
   "nbconvert_exporter": "python",
   "pygments_lexer": "ipython3",
   "version": "3.9.13"
  }
 },
 "nbformat": 4,
 "nbformat_minor": 4
}
